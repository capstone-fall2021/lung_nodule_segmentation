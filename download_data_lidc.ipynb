{
 "cells": [
  {
   "cell_type": "markdown",
   "id": "colored-cylinder",
   "metadata": {},
   "source": [
    "## Download data from IDC\n",
    "\n",
    "Download the DICOM images from IDC"
   ]
  },
  {
   "cell_type": "markdown",
   "id": "agricultural-klein",
   "metadata": {},
   "source": [
    "\n",
    "Install utils to process dicom images, process the LIDC dataset, process the images and save them to files, and to download files from GCP stores"
   ]
  },
  {
   "cell_type": "code",
   "execution_count": 2,
   "id": "scheduled-immunology",
   "metadata": {
    "collapsed": true,
    "jupyter": {
     "outputs_hidden": true
    }
   },
   "outputs": [
    {
     "name": "stdout",
     "output_type": "stream",
     "text": [
      "Collecting pydicom==2.2.2\n",
      "  Downloading pydicom-2.2.2-py3-none-any.whl (2.0 MB)\n",
      "\u001b[K     |████████████████████████████████| 2.0 MB 25.2 MB/s eta 0:00:01\n",
      "\u001b[?25hCollecting pylidc==0.2.2\n",
      "  Downloading pylidc-0.2.2-py2.py3-none-any.whl (5.6 MB)\n",
      "\u001b[K     |████████████████████████████████| 5.6 MB 23.1 MB/s eta 0:00:01\n",
      "\u001b[?25hCollecting torchsummary==1.5.1\n",
      "  Downloading torchsummary-1.5.1-py3-none-any.whl (2.8 kB)\n",
      "Collecting imageio==2.10.4\n",
      "  Downloading imageio-2.10.4-py3-none-any.whl (3.3 MB)\n",
      "\u001b[K     |████████████████████████████████| 3.3 MB 56.5 MB/s eta 0:00:01\n",
      "\u001b[?25hCollecting gsutil==5.5\n",
      "  Downloading gsutil-5.5.tar.gz (2.9 MB)\n",
      "\u001b[K     |████████████████████████████████| 2.9 MB 62.0 MB/s eta 0:00:01\n",
      "\u001b[?25hCollecting google-cloud-bigquery==2.30.1\n",
      "  Downloading google_cloud_bigquery-2.30.1-py2.py3-none-any.whl (203 kB)\n",
      "\u001b[K     |████████████████████████████████| 203 kB 52.5 MB/s eta 0:00:01\n",
      "\u001b[?25hRequirement already satisfied: scikit-image>=0.13 in /opt/conda/lib/python3.8/site-packages (from pylidc==0.2.2->-r requirements.txt (line 2)) (0.15.0)\n",
      "Requirement already satisfied: matplotlib>=2.0.0 in /opt/conda/lib/python3.8/site-packages (from pylidc==0.2.2->-r requirements.txt (line 2)) (3.3.4)\n",
      "Requirement already satisfied: numpy>=1.12.0 in /opt/conda/lib/python3.8/site-packages (from pylidc==0.2.2->-r requirements.txt (line 2)) (1.19.2)\n",
      "Collecting sqlalchemy>=1.1.5\n",
      "  Downloading SQLAlchemy-1.4.27-cp38-cp38-manylinux_2_5_x86_64.manylinux1_x86_64.manylinux_2_17_x86_64.manylinux2014_x86_64.whl (1.6 MB)\n",
      "\u001b[K     |████████████████████████████████| 1.6 MB 49.9 MB/s eta 0:00:01\n",
      "\u001b[?25hRequirement already satisfied: scipy>=0.18.1 in /opt/conda/lib/python3.8/site-packages (from pylidc==0.2.2->-r requirements.txt (line 2)) (1.6.0)\n",
      "Collecting pillow>=8.3.2\n",
      "  Downloading Pillow-8.4.0-cp38-cp38-manylinux_2_17_x86_64.manylinux2014_x86_64.whl (3.1 MB)\n",
      "\u001b[K     |████████████████████████████████| 3.1 MB 49.3 MB/s eta 0:00:01\n",
      "\u001b[?25hCollecting argcomplete>=1.9.4\n",
      "  Downloading argcomplete-1.12.3-py2.py3-none-any.whl (38 kB)\n",
      "Collecting crcmod>=1.7\n",
      "  Downloading crcmod-1.7.tar.gz (89 kB)\n",
      "\u001b[K     |████████████████████████████████| 89 kB 11.0 MB/s eta 0:00:01\n",
      "\u001b[?25hCollecting fasteners>=0.14.1\n",
      "  Downloading fasteners-0.16.3-py2.py3-none-any.whl (28 kB)\n",
      "Collecting gcs-oauth2-boto-plugin>=3.0\n",
      "  Downloading gcs-oauth2-boto-plugin-3.0.tar.gz (20 kB)\n",
      "Collecting google-apitools>=0.5.32\n",
      "  Downloading google_apitools-0.5.32-py3-none-any.whl (135 kB)\n",
      "\u001b[K     |████████████████████████████████| 135 kB 49.1 MB/s eta 0:00:01\n",
      "\u001b[?25hCollecting httplib2>=0.18\n",
      "  Downloading httplib2-0.20.2-py3-none-any.whl (96 kB)\n",
      "\u001b[K     |████████████████████████████████| 96 kB 7.4 MB/s  eta 0:00:01\n",
      "\u001b[?25hCollecting google-reauth>=0.1.0\n",
      "  Downloading google_reauth-0.1.1-py2.py3-none-any.whl (17 kB)\n",
      "Collecting monotonic>=1.4\n",
      "  Downloading monotonic-1.6-py2.py3-none-any.whl (8.2 kB)\n",
      "Requirement already satisfied: pyOpenSSL>=0.13 in /opt/conda/lib/python3.8/site-packages (from gsutil==5.5->-r requirements.txt (line 5)) (19.1.0)\n",
      "Collecting retry_decorator>=1.0.0\n",
      "  Downloading retry_decorator-1.1.1.tar.gz (3.9 kB)\n",
      "Requirement already satisfied: six>=1.12.0 in /opt/conda/lib/python3.8/site-packages (from gsutil==5.5->-r requirements.txt (line 5)) (1.15.0)\n",
      "Requirement already satisfied: requests<3.0.0dev,>=2.18.0 in /opt/conda/lib/python3.8/site-packages (from google-cloud-bigquery==2.30.1->-r requirements.txt (line 6)) (2.24.0)\n",
      "Collecting google-api-core[grpc]<3.0.0dev,>=1.29.0\n",
      "  Downloading google_api_core-2.2.2-py2.py3-none-any.whl (95 kB)\n",
      "\u001b[K     |████████████████████████████████| 95 kB 6.3 MB/s  eta 0:00:01\n",
      "\u001b[?25hRequirement already satisfied: protobuf>=3.12.0 in /opt/conda/lib/python3.8/site-packages (from google-cloud-bigquery==2.30.1->-r requirements.txt (line 6)) (3.14.0)\n",
      "Collecting grpcio<2.0dev,>=1.38.1\n",
      "  Downloading grpcio-1.42.0-cp38-cp38-manylinux_2_17_x86_64.manylinux2014_x86_64.whl (4.0 MB)\n",
      "\u001b[K     |████████████████████████████████| 4.0 MB 55.3 MB/s eta 0:00:01\n",
      "\u001b[?25hCollecting google-cloud-core<3.0.0dev,>=1.4.1\n",
      "  Downloading google_cloud_core-2.2.1-py2.py3-none-any.whl (29 kB)\n",
      "Collecting proto-plus>=1.10.0\n",
      "  Downloading proto_plus-1.19.8-py3-none-any.whl (45 kB)\n",
      "\u001b[K     |████████████████████████████████| 45 kB 4.1 MB/s  eta 0:00:01\n",
      "\u001b[?25hCollecting google-resumable-media<3.0dev,>=0.6.0\n",
      "  Downloading google_resumable_media-2.1.0-py2.py3-none-any.whl (75 kB)\n",
      "\u001b[K     |████████████████████████████████| 75 kB 5.7 MB/s  eta 0:00:01\n",
      "\u001b[?25hRequirement already satisfied: python-dateutil<3.0dev,>=2.7.2 in /opt/conda/lib/python3.8/site-packages (from google-cloud-bigquery==2.30.1->-r requirements.txt (line 6)) (2.8.1)\n",
      "Requirement already satisfied: packaging>=14.3 in /opt/conda/lib/python3.8/site-packages (from google-cloud-bigquery==2.30.1->-r requirements.txt (line 6)) (20.9)\n",
      "Requirement already satisfied: networkx>=2.0 in /opt/conda/lib/python3.8/site-packages (from scikit-image>=0.13->pylidc==0.2.2->-r requirements.txt (line 2)) (2.0)\n",
      "Requirement already satisfied: PyWavelets>=0.4.0 in /opt/conda/lib/python3.8/site-packages (from scikit-image>=0.13->pylidc==0.2.2->-r requirements.txt (line 2)) (1.1.1)\n",
      "Requirement already satisfied: cycler>=0.10 in /opt/conda/lib/python3.8/site-packages (from matplotlib>=2.0.0->pylidc==0.2.2->-r requirements.txt (line 2)) (0.10.0)\n",
      "Requirement already satisfied: kiwisolver>=1.0.1 in /opt/conda/lib/python3.8/site-packages (from matplotlib>=2.0.0->pylidc==0.2.2->-r requirements.txt (line 2)) (1.3.1)\n",
      "Requirement already satisfied: pyparsing!=2.0.4,!=2.1.2,!=2.1.6,>=2.0.3 in /opt/conda/lib/python3.8/site-packages (from matplotlib>=2.0.0->pylidc==0.2.2->-r requirements.txt (line 2)) (2.4.7)\n",
      "Collecting greenlet!=0.4.17; python_version >= \"3\" and (platform_machine == \"aarch64\" or (platform_machine == \"ppc64le\" or (platform_machine == \"x86_64\" or (platform_machine == \"amd64\" or (platform_machine == \"AMD64\" or (platform_machine == \"win32\" or platform_machine == \"WIN32\"))))))\n",
      "  Downloading greenlet-1.1.2-cp38-cp38-manylinux_2_17_x86_64.manylinux2014_x86_64.whl (156 kB)\n",
      "\u001b[K     |████████████████████████████████| 156 kB 56.7 MB/s eta 0:00:01\n",
      "\u001b[?25hCollecting rsa==4.7.2\n",
      "  Downloading rsa-4.7.2-py3-none-any.whl (34 kB)\n",
      "Collecting boto>=2.29.1\n",
      "  Downloading boto-2.49.0-py2.py3-none-any.whl (1.4 MB)\n",
      "\u001b[K     |████████████████████████████████| 1.4 MB 54.8 MB/s eta 0:00:01\n",
      "\u001b[?25hCollecting oauth2client>=2.2.0\n",
      "  Downloading oauth2client-4.1.3-py2.py3-none-any.whl (98 kB)\n",
      "\u001b[K     |████████████████████████████████| 98 kB 8.8 MB/s  eta 0:00:01\n",
      "\u001b[?25hCollecting pyu2f\n",
      "  Downloading pyu2f-0.1.5.tar.gz (27 kB)\n",
      "Requirement already satisfied: cryptography>=2.8 in /opt/conda/lib/python3.8/site-packages (from pyOpenSSL>=0.13->gsutil==5.5->-r requirements.txt (line 5)) (3.2.1)\n",
      "Requirement already satisfied: certifi>=2017.4.17 in /opt/conda/lib/python3.8/site-packages (from requests<3.0.0dev,>=2.18.0->google-cloud-bigquery==2.30.1->-r requirements.txt (line 6)) (2020.12.5)\n",
      "Requirement already satisfied: urllib3!=1.25.0,!=1.25.1,<1.26,>=1.21.1 in /opt/conda/lib/python3.8/site-packages (from requests<3.0.0dev,>=2.18.0->google-cloud-bigquery==2.30.1->-r requirements.txt (line 6)) (1.25.11)\n",
      "Requirement already satisfied: idna<3,>=2.5 in /opt/conda/lib/python3.8/site-packages (from requests<3.0.0dev,>=2.18.0->google-cloud-bigquery==2.30.1->-r requirements.txt (line 6)) (2.10)\n",
      "Requirement already satisfied: chardet<4,>=3.0.2 in /opt/conda/lib/python3.8/site-packages (from requests<3.0.0dev,>=2.18.0->google-cloud-bigquery==2.30.1->-r requirements.txt (line 6)) (3.0.4)\n",
      "Collecting google-auth<3.0dev,>=1.25.0\n",
      "  Downloading google_auth-2.3.3-py2.py3-none-any.whl (155 kB)\n",
      "\u001b[K     |████████████████████████████████| 155 kB 52.1 MB/s eta 0:00:01\n",
      "\u001b[?25hCollecting googleapis-common-protos<2.0dev,>=1.52.0\n",
      "  Downloading googleapis_common_protos-1.53.0-py2.py3-none-any.whl (198 kB)\n",
      "\u001b[K     |████████████████████████████████| 198 kB 49.6 MB/s eta 0:00:01\n",
      "\u001b[?25hRequirement already satisfied: setuptools>=40.3.0 in /opt/conda/lib/python3.8/site-packages (from google-api-core[grpc]<3.0.0dev,>=1.29.0->google-cloud-bigquery==2.30.1->-r requirements.txt (line 6)) (50.3.1.post20201107)\n",
      "Collecting grpcio-status<2.0dev,>=1.33.2; extra == \"grpc\"\n",
      "  Downloading grpcio_status-1.42.0-py3-none-any.whl (10.0 kB)\n",
      "Collecting google-crc32c<2.0dev,>=1.0\n",
      "  Downloading google_crc32c-1.3.0-cp38-cp38-manylinux_2_12_x86_64.manylinux2010_x86_64.whl (37 kB)\n",
      "Requirement already satisfied: decorator>=4.1.0 in /opt/conda/lib/python3.8/site-packages (from networkx>=2.0->scikit-image>=0.13->pylidc==0.2.2->-r requirements.txt (line 2)) (4.4.2)\n",
      "Collecting pyasn1>=0.1.3\n",
      "  Downloading pyasn1-0.4.8-py2.py3-none-any.whl (77 kB)\n",
      "\u001b[K     |████████████████████████████████| 77 kB 7.8 MB/s  eta 0:00:01\n",
      "\u001b[?25hCollecting pyasn1-modules>=0.0.5\n",
      "  Downloading pyasn1_modules-0.2.8-py2.py3-none-any.whl (155 kB)\n",
      "\u001b[K     |████████████████████████████████| 155 kB 81.4 MB/s eta 0:00:01\n",
      "\u001b[?25hRequirement already satisfied: cffi!=1.11.3,>=1.8 in /opt/conda/lib/python3.8/site-packages (from cryptography>=2.8->pyOpenSSL>=0.13->gsutil==5.5->-r requirements.txt (line 5)) (1.14.3)\n",
      "Collecting cachetools<5.0,>=2.0.0\n",
      "  Downloading cachetools-4.2.4-py3-none-any.whl (10 kB)\n",
      "Requirement already satisfied: pycparser in /opt/conda/lib/python3.8/site-packages (from cffi!=1.11.3,>=1.8->cryptography>=2.8->pyOpenSSL>=0.13->gsutil==5.5->-r requirements.txt (line 5)) (2.20)\n",
      "Building wheels for collected packages: gsutil, crcmod, gcs-oauth2-boto-plugin, retry-decorator, pyu2f\n",
      "  Building wheel for gsutil (setup.py) ... \u001b[?25ldone\n",
      "\u001b[?25h  Created wheel for gsutil: filename=gsutil-5.5-py3-none-any.whl size=3715999 sha256=ab0a912a67d98fd84c5aa14bedd0c1d32e1c4a0bd018ba33fccd78d8c8d4d50e\n",
      "  Stored in directory: /root/.cache/pip/wheels/01/7f/60/a5d4494eefa59d2bfb712df237a05bd6f27e49bd6b4bd59cd5\n",
      "  Building wheel for crcmod (setup.py) ... \u001b[?25ldone\n",
      "\u001b[?25h  Created wheel for crcmod: filename=crcmod-1.7-cp38-cp38-linux_x86_64.whl size=36015 sha256=8004158c18564aaafb1c828feedd655851404c8ff1708db1ad9cf08ae344843a\n",
      "  Stored in directory: /root/.cache/pip/wheels/ca/5a/02/f3acf982a026f3319fb3e798a8dca2d48fafee7761788562e9\n",
      "  Building wheel for gcs-oauth2-boto-plugin (setup.py) ... \u001b[?25ldone\n",
      "\u001b[?25h  Created wheel for gcs-oauth2-boto-plugin: filename=gcs_oauth2_boto_plugin-3.0-py3-none-any.whl size=23203 sha256=e1600f678f2efd2455dba0a871b5aace3da4b7286f33d95c4696878aa5541bf6\n",
      "  Stored in directory: /root/.cache/pip/wheels/c2/ff/00/10b85e9e1b43efc461153dca75aa47e4640ef41d291b3666a1\n",
      "  Building wheel for retry-decorator (setup.py) ... \u001b[?25ldone\n",
      "\u001b[?25h  Created wheel for retry-decorator: filename=retry_decorator-1.1.1-py2.py3-none-any.whl size=3640 sha256=cffc692469b7bc4eefad4010bad4572a87a83dcef0fd4874215296d68ee4223e\n",
      "  Stored in directory: /root/.cache/pip/wheels/1e/bb/cb/5d7a05561d7ec60b8c0dc65f156a33909a3eb5c56340959fa9\n",
      "  Building wheel for pyu2f (setup.py) ... \u001b[?25ldone\n",
      "\u001b[?25h  Created wheel for pyu2f: filename=pyu2f-0.1.5-py3-none-any.whl size=39388 sha256=5e561bb62941c3dd9edff26b1ec7658f80af13092094fcf0a863b6c8bdbbd6ee\n",
      "  Stored in directory: /root/.cache/pip/wheels/8d/38/8f/378b4491d760a176f261d56310fcb051e53090a894534acbf0\n",
      "Successfully built gsutil crcmod gcs-oauth2-boto-plugin retry-decorator pyu2f\n",
      "Installing collected packages: pydicom, greenlet, sqlalchemy, pylidc, torchsummary, pillow, imageio, argcomplete, crcmod, fasteners, pyasn1, rsa, boto, pyu2f, google-reauth, httplib2, pyasn1-modules, oauth2client, retry-decorator, gcs-oauth2-boto-plugin, google-apitools, monotonic, gsutil, cachetools, google-auth, googleapis-common-protos, grpcio, grpcio-status, google-api-core, google-cloud-core, proto-plus, google-crc32c, google-resumable-media, google-cloud-bigquery\n",
      "  Attempting uninstall: imageio\n",
      "    Found existing installation: imageio 2.9.0\n",
      "    Uninstalling imageio-2.9.0:\n",
      "      Successfully uninstalled imageio-2.9.0\n",
      "  Attempting uninstall: grpcio\n",
      "    Found existing installation: grpcio 1.35.0\n",
      "    Uninstalling grpcio-1.35.0:\n",
      "      Successfully uninstalled grpcio-1.35.0\n",
      "\u001b[31mERROR: After October 2020 you may experience errors when installing or updating packages. This is because pip will change the way that it resolves dependency conflicts.\n",
      "\n",
      "We recommend you use --use-feature=2020-resolver to test your packages with the new resolver before it becomes the default.\n",
      "\n",
      "proto-plus 1.19.8 requires protobuf>=3.19.0, but you'll have protobuf 3.14.0 which is incompatible.\u001b[0m\n",
      "Successfully installed argcomplete-1.12.3 boto-2.49.0 cachetools-4.2.4 crcmod-1.7 fasteners-0.16.3 gcs-oauth2-boto-plugin-3.0 google-api-core-2.2.2 google-apitools-0.5.32 google-auth-2.3.3 google-cloud-bigquery-2.30.1 google-cloud-core-2.2.1 google-crc32c-1.3.0 google-reauth-0.1.1 google-resumable-media-2.1.0 googleapis-common-protos-1.53.0 greenlet-1.1.2 grpcio-1.42.0 grpcio-status-1.42.0 gsutil-5.5 httplib2-0.20.2 imageio-2.10.4 monotonic-1.6 oauth2client-4.1.3 pillow-8.4.0 proto-plus-1.19.8 pyasn1-0.4.8 pyasn1-modules-0.2.8 pydicom-2.2.2 pylidc-0.2.2 pyu2f-0.1.5 retry-decorator-1.1.1 rsa-4.7.2 sqlalchemy-1.4.27 torchsummary-1.5.1\n"
     ]
    }
   ],
   "source": [
    "!pip install -r requirements.txt"
   ]
  },
  {
   "cell_type": "markdown",
   "id": "collected-diamond",
   "metadata": {},
   "source": [
    "Install the utils to sort the DICOM images"
   ]
  },
  {
   "cell_type": "code",
   "execution_count": 3,
   "id": "still-chess",
   "metadata": {},
   "outputs": [
    {
     "name": "stdout",
     "output_type": "stream",
     "text": [
      "fatal: destination path 'dicomsort' already exists and is not an empty directory.\n"
     ]
    }
   ],
   "source": [
    "!git clone https://github.com/pieper/dicomsort.git"
   ]
  },
  {
   "cell_type": "markdown",
   "id": "blocked-header",
   "metadata": {},
   "source": [
    "#### Set up connection to GCP, Gcloud, Big table \n",
    "Install utils to query the Bigtables"
   ]
  },
  {
   "cell_type": "code",
   "execution_count": 3,
   "id": "early-delaware",
   "metadata": {
    "collapsed": true,
    "jupyter": {
     "outputs_hidden": true
    }
   },
   "outputs": [
    {
     "name": "stdout",
     "output_type": "stream",
     "text": [
      "Requirement already satisfied: google-cloud-bigquery in /opt/conda/lib/python3.8/site-packages (2.30.1)\n",
      "Requirement already satisfied: requests<3.0.0dev,>=2.18.0 in /opt/conda/lib/python3.8/site-packages (from google-cloud-bigquery) (2.24.0)\n",
      "Requirement already satisfied: python-dateutil<3.0dev,>=2.7.2 in /opt/conda/lib/python3.8/site-packages (from google-cloud-bigquery) (2.8.1)\n",
      "Requirement already satisfied: protobuf>=3.12.0 in /opt/conda/lib/python3.8/site-packages (from google-cloud-bigquery) (3.14.0)\n",
      "Requirement already satisfied: google-api-core[grpc]<3.0.0dev,>=1.29.0 in /opt/conda/lib/python3.8/site-packages (from google-cloud-bigquery) (2.2.2)\n",
      "Requirement already satisfied: google-cloud-core<3.0.0dev,>=1.4.1 in /opt/conda/lib/python3.8/site-packages (from google-cloud-bigquery) (2.2.1)\n",
      "Requirement already satisfied: google-resumable-media<3.0dev,>=0.6.0 in /opt/conda/lib/python3.8/site-packages (from google-cloud-bigquery) (2.1.0)\n",
      "Requirement already satisfied: proto-plus>=1.10.0 in /opt/conda/lib/python3.8/site-packages (from google-cloud-bigquery) (1.19.8)\n",
      "Requirement already satisfied: packaging>=14.3 in /opt/conda/lib/python3.8/site-packages (from google-cloud-bigquery) (20.9)\n",
      "Requirement already satisfied: grpcio<2.0dev,>=1.38.1 in /opt/conda/lib/python3.8/site-packages (from google-cloud-bigquery) (1.42.0)\n",
      "Requirement already satisfied: certifi>=2017.4.17 in /opt/conda/lib/python3.8/site-packages (from requests<3.0.0dev,>=2.18.0->google-cloud-bigquery) (2020.12.5)\n",
      "Requirement already satisfied: chardet<4,>=3.0.2 in /opt/conda/lib/python3.8/site-packages (from requests<3.0.0dev,>=2.18.0->google-cloud-bigquery) (3.0.4)\n",
      "Requirement already satisfied: idna<3,>=2.5 in /opt/conda/lib/python3.8/site-packages (from requests<3.0.0dev,>=2.18.0->google-cloud-bigquery) (2.10)\n",
      "Requirement already satisfied: urllib3!=1.25.0,!=1.25.1,<1.26,>=1.21.1 in /opt/conda/lib/python3.8/site-packages (from requests<3.0.0dev,>=2.18.0->google-cloud-bigquery) (1.25.11)\n",
      "Requirement already satisfied: six>=1.5 in /opt/conda/lib/python3.8/site-packages (from python-dateutil<3.0dev,>=2.7.2->google-cloud-bigquery) (1.15.0)\n",
      "Requirement already satisfied: setuptools>=40.3.0 in /opt/conda/lib/python3.8/site-packages (from google-api-core[grpc]<3.0.0dev,>=1.29.0->google-cloud-bigquery) (50.3.1.post20201107)\n",
      "Requirement already satisfied: googleapis-common-protos<2.0dev,>=1.52.0 in /opt/conda/lib/python3.8/site-packages (from google-api-core[grpc]<3.0.0dev,>=1.29.0->google-cloud-bigquery) (1.53.0)\n",
      "Requirement already satisfied: google-auth<3.0dev,>=1.25.0 in /opt/conda/lib/python3.8/site-packages (from google-api-core[grpc]<3.0.0dev,>=1.29.0->google-cloud-bigquery) (2.3.3)\n",
      "Requirement already satisfied: grpcio-status<2.0dev,>=1.33.2; extra == \"grpc\" in /opt/conda/lib/python3.8/site-packages (from google-api-core[grpc]<3.0.0dev,>=1.29.0->google-cloud-bigquery) (1.42.0)\n",
      "Requirement already satisfied: google-crc32c<2.0dev,>=1.0 in /opt/conda/lib/python3.8/site-packages (from google-resumable-media<3.0dev,>=0.6.0->google-cloud-bigquery) (1.3.0)\n",
      "Requirement already satisfied: pyparsing>=2.0.2 in /opt/conda/lib/python3.8/site-packages (from packaging>=14.3->google-cloud-bigquery) (2.4.7)\n",
      "Requirement already satisfied: pyasn1-modules>=0.2.1 in /opt/conda/lib/python3.8/site-packages (from google-auth<3.0dev,>=1.25.0->google-api-core[grpc]<3.0.0dev,>=1.29.0->google-cloud-bigquery) (0.2.8)\n",
      "Requirement already satisfied: rsa<5,>=3.1.4; python_version >= \"3.6\" in /opt/conda/lib/python3.8/site-packages (from google-auth<3.0dev,>=1.25.0->google-api-core[grpc]<3.0.0dev,>=1.29.0->google-cloud-bigquery) (4.7.2)\n",
      "Requirement already satisfied: cachetools<5.0,>=2.0.0 in /opt/conda/lib/python3.8/site-packages (from google-auth<3.0dev,>=1.25.0->google-api-core[grpc]<3.0.0dev,>=1.29.0->google-cloud-bigquery) (4.2.4)\n",
      "Requirement already satisfied: pyasn1<0.5.0,>=0.4.6 in /opt/conda/lib/python3.8/site-packages (from pyasn1-modules>=0.2.1->google-auth<3.0dev,>=1.25.0->google-api-core[grpc]<3.0.0dev,>=1.29.0->google-cloud-bigquery) (0.4.8)\n",
      "Requirement already up-to-date: google-auth-oauthlib in /opt/conda/lib/python3.8/site-packages (0.4.6)\n",
      "Requirement already satisfied, skipping upgrade: requests-oauthlib>=0.7.0 in /opt/conda/lib/python3.8/site-packages (from google-auth-oauthlib) (1.3.0)\n",
      "Requirement already satisfied, skipping upgrade: google-auth>=1.0.0 in /opt/conda/lib/python3.8/site-packages (from google-auth-oauthlib) (2.3.3)\n",
      "Requirement already satisfied, skipping upgrade: oauthlib>=3.0.0 in /opt/conda/lib/python3.8/site-packages (from requests-oauthlib>=0.7.0->google-auth-oauthlib) (3.1.1)\n",
      "Requirement already satisfied, skipping upgrade: requests>=2.0.0 in /opt/conda/lib/python3.8/site-packages (from requests-oauthlib>=0.7.0->google-auth-oauthlib) (2.24.0)\n",
      "Requirement already satisfied, skipping upgrade: setuptools>=40.3.0 in /opt/conda/lib/python3.8/site-packages (from google-auth>=1.0.0->google-auth-oauthlib) (50.3.1.post20201107)\n",
      "Requirement already satisfied, skipping upgrade: pyasn1-modules>=0.2.1 in /opt/conda/lib/python3.8/site-packages (from google-auth>=1.0.0->google-auth-oauthlib) (0.2.8)\n",
      "Requirement already satisfied, skipping upgrade: six>=1.9.0 in /opt/conda/lib/python3.8/site-packages (from google-auth>=1.0.0->google-auth-oauthlib) (1.15.0)\n",
      "Requirement already satisfied, skipping upgrade: cachetools<5.0,>=2.0.0 in /opt/conda/lib/python3.8/site-packages (from google-auth>=1.0.0->google-auth-oauthlib) (4.2.4)\n",
      "Requirement already satisfied, skipping upgrade: rsa<5,>=3.1.4; python_version >= \"3.6\" in /opt/conda/lib/python3.8/site-packages (from google-auth>=1.0.0->google-auth-oauthlib) (4.7.2)\n",
      "Requirement already satisfied, skipping upgrade: urllib3!=1.25.0,!=1.25.1,<1.26,>=1.21.1 in /opt/conda/lib/python3.8/site-packages (from requests>=2.0.0->requests-oauthlib>=0.7.0->google-auth-oauthlib) (1.25.11)\n",
      "Requirement already satisfied, skipping upgrade: certifi>=2017.4.17 in /opt/conda/lib/python3.8/site-packages (from requests>=2.0.0->requests-oauthlib>=0.7.0->google-auth-oauthlib) (2020.12.5)\n",
      "Requirement already satisfied, skipping upgrade: chardet<4,>=3.0.2 in /opt/conda/lib/python3.8/site-packages (from requests>=2.0.0->requests-oauthlib>=0.7.0->google-auth-oauthlib) (3.0.4)\n",
      "Requirement already satisfied, skipping upgrade: idna<3,>=2.5 in /opt/conda/lib/python3.8/site-packages (from requests>=2.0.0->requests-oauthlib>=0.7.0->google-auth-oauthlib) (2.10)\n",
      "Requirement already satisfied, skipping upgrade: pyasn1<0.5.0,>=0.4.6 in /opt/conda/lib/python3.8/site-packages (from pyasn1-modules>=0.2.1->google-auth>=1.0.0->google-auth-oauthlib) (0.4.8)\n",
      "Requirement already up-to-date: google-cloud-bigquery[bqstorage,pandas] in /opt/conda/lib/python3.8/site-packages (2.30.1)\n",
      "Requirement already satisfied, skipping upgrade: python-dateutil<3.0dev,>=2.7.2 in /opt/conda/lib/python3.8/site-packages (from google-cloud-bigquery[bqstorage,pandas]) (2.8.1)\n",
      "Requirement already satisfied, skipping upgrade: google-cloud-core<3.0.0dev,>=1.4.1 in /opt/conda/lib/python3.8/site-packages (from google-cloud-bigquery[bqstorage,pandas]) (2.2.1)\n",
      "Requirement already satisfied, skipping upgrade: requests<3.0.0dev,>=2.18.0 in /opt/conda/lib/python3.8/site-packages (from google-cloud-bigquery[bqstorage,pandas]) (2.24.0)\n",
      "Requirement already satisfied, skipping upgrade: google-api-core[grpc]<3.0.0dev,>=1.29.0 in /opt/conda/lib/python3.8/site-packages (from google-cloud-bigquery[bqstorage,pandas]) (2.2.2)\n",
      "Requirement already satisfied, skipping upgrade: proto-plus>=1.10.0 in /opt/conda/lib/python3.8/site-packages (from google-cloud-bigquery[bqstorage,pandas]) (1.19.8)\n",
      "Requirement already satisfied, skipping upgrade: protobuf>=3.12.0 in /opt/conda/lib/python3.8/site-packages (from google-cloud-bigquery[bqstorage,pandas]) (3.14.0)\n",
      "Requirement already satisfied, skipping upgrade: packaging>=14.3 in /opt/conda/lib/python3.8/site-packages (from google-cloud-bigquery[bqstorage,pandas]) (20.9)\n",
      "Requirement already satisfied, skipping upgrade: google-resumable-media<3.0dev,>=0.6.0 in /opt/conda/lib/python3.8/site-packages (from google-cloud-bigquery[bqstorage,pandas]) (2.1.0)\n",
      "Requirement already satisfied, skipping upgrade: grpcio<2.0dev,>=1.38.1 in /opt/conda/lib/python3.8/site-packages (from google-cloud-bigquery[bqstorage,pandas]) (1.42.0)\n",
      "Collecting google-cloud-bigquery-storage<3.0.0dev,>=2.0.0; extra == \"bqstorage\"\n",
      "  Downloading google_cloud_bigquery_storage-2.10.1-py2.py3-none-any.whl (171 kB)\n",
      "\u001b[K     |████████████████████████████████| 171 kB 19.3 MB/s eta 0:00:01\n",
      "\u001b[?25hCollecting pyarrow<7.0dev,>=3.0.0; extra == \"bqstorage\"\n",
      "  Downloading pyarrow-6.0.1-cp38-cp38-manylinux_2_17_x86_64.manylinux2014_x86_64.whl (25.6 MB)\n",
      "\u001b[K     |████████████████████████████████| 25.6 MB 63.5 MB/s eta 0:00:01\n",
      "\u001b[?25hRequirement already satisfied, skipping upgrade: pandas>=0.24.2; extra == \"pandas\" in /opt/conda/lib/python3.8/site-packages (from google-cloud-bigquery[bqstorage,pandas]) (1.1.4)\n",
      "Requirement already satisfied, skipping upgrade: six>=1.5 in /opt/conda/lib/python3.8/site-packages (from python-dateutil<3.0dev,>=2.7.2->google-cloud-bigquery[bqstorage,pandas]) (1.15.0)\n",
      "Requirement already satisfied, skipping upgrade: google-auth<3.0dev,>=1.24.0 in /opt/conda/lib/python3.8/site-packages (from google-cloud-core<3.0.0dev,>=1.4.1->google-cloud-bigquery[bqstorage,pandas]) (2.3.3)\n",
      "Requirement already satisfied, skipping upgrade: chardet<4,>=3.0.2 in /opt/conda/lib/python3.8/site-packages (from requests<3.0.0dev,>=2.18.0->google-cloud-bigquery[bqstorage,pandas]) (3.0.4)\n",
      "Requirement already satisfied, skipping upgrade: idna<3,>=2.5 in /opt/conda/lib/python3.8/site-packages (from requests<3.0.0dev,>=2.18.0->google-cloud-bigquery[bqstorage,pandas]) (2.10)\n",
      "Requirement already satisfied, skipping upgrade: urllib3!=1.25.0,!=1.25.1,<1.26,>=1.21.1 in /opt/conda/lib/python3.8/site-packages (from requests<3.0.0dev,>=2.18.0->google-cloud-bigquery[bqstorage,pandas]) (1.25.11)\n",
      "Requirement already satisfied, skipping upgrade: certifi>=2017.4.17 in /opt/conda/lib/python3.8/site-packages (from requests<3.0.0dev,>=2.18.0->google-cloud-bigquery[bqstorage,pandas]) (2020.12.5)\n",
      "Requirement already satisfied, skipping upgrade: googleapis-common-protos<2.0dev,>=1.52.0 in /opt/conda/lib/python3.8/site-packages (from google-api-core[grpc]<3.0.0dev,>=1.29.0->google-cloud-bigquery[bqstorage,pandas]) (1.53.0)\n",
      "Requirement already satisfied, skipping upgrade: setuptools>=40.3.0 in /opt/conda/lib/python3.8/site-packages (from google-api-core[grpc]<3.0.0dev,>=1.29.0->google-cloud-bigquery[bqstorage,pandas]) (50.3.1.post20201107)\n",
      "Requirement already satisfied, skipping upgrade: grpcio-status<2.0dev,>=1.33.2; extra == \"grpc\" in /opt/conda/lib/python3.8/site-packages (from google-api-core[grpc]<3.0.0dev,>=1.29.0->google-cloud-bigquery[bqstorage,pandas]) (1.42.0)\n",
      "Requirement already satisfied, skipping upgrade: pyparsing>=2.0.2 in /opt/conda/lib/python3.8/site-packages (from packaging>=14.3->google-cloud-bigquery[bqstorage,pandas]) (2.4.7)\n",
      "Requirement already satisfied, skipping upgrade: google-crc32c<2.0dev,>=1.0 in /opt/conda/lib/python3.8/site-packages (from google-resumable-media<3.0dev,>=0.6.0->google-cloud-bigquery[bqstorage,pandas]) (1.3.0)\n",
      "Collecting libcst>=0.2.5\n",
      "  Downloading libcst-0.3.23-py3-none-any.whl (517 kB)\n",
      "\u001b[K     |████████████████████████████████| 517 kB 76.1 MB/s eta 0:00:01\n",
      "\u001b[?25hRequirement already satisfied, skipping upgrade: numpy>=1.16.6 in /opt/conda/lib/python3.8/site-packages (from pyarrow<7.0dev,>=3.0.0; extra == \"bqstorage\"->google-cloud-bigquery[bqstorage,pandas]) (1.19.2)\n",
      "Requirement already satisfied, skipping upgrade: pytz>=2017.2 in /opt/conda/lib/python3.8/site-packages (from pandas>=0.24.2; extra == \"pandas\"->google-cloud-bigquery[bqstorage,pandas]) (2021.1)\n",
      "Requirement already satisfied, skipping upgrade: pyasn1-modules>=0.2.1 in /opt/conda/lib/python3.8/site-packages (from google-auth<3.0dev,>=1.24.0->google-cloud-core<3.0.0dev,>=1.4.1->google-cloud-bigquery[bqstorage,pandas]) (0.2.8)\n",
      "Requirement already satisfied, skipping upgrade: rsa<5,>=3.1.4; python_version >= \"3.6\" in /opt/conda/lib/python3.8/site-packages (from google-auth<3.0dev,>=1.24.0->google-cloud-core<3.0.0dev,>=1.4.1->google-cloud-bigquery[bqstorage,pandas]) (4.7.2)\n",
      "Requirement already satisfied, skipping upgrade: cachetools<5.0,>=2.0.0 in /opt/conda/lib/python3.8/site-packages (from google-auth<3.0dev,>=1.24.0->google-cloud-core<3.0.0dev,>=1.4.1->google-cloud-bigquery[bqstorage,pandas]) (4.2.4)\n",
      "Requirement already satisfied, skipping upgrade: pyyaml>=5.2 in /opt/conda/lib/python3.8/site-packages (from libcst>=0.2.5->google-cloud-bigquery-storage<3.0.0dev,>=2.0.0; extra == \"bqstorage\"->google-cloud-bigquery[bqstorage,pandas]) (5.4.1)\n",
      "Requirement already satisfied, skipping upgrade: typing-extensions>=3.7.4.2 in /opt/conda/lib/python3.8/site-packages (from libcst>=0.2.5->google-cloud-bigquery-storage<3.0.0dev,>=2.0.0; extra == \"bqstorage\"->google-cloud-bigquery[bqstorage,pandas]) (3.7.4.3)\n",
      "Collecting typing-inspect>=0.4.0\n",
      "  Downloading typing_inspect-0.7.1-py3-none-any.whl (8.4 kB)\n",
      "Requirement already satisfied, skipping upgrade: pyasn1<0.5.0,>=0.4.6 in /opt/conda/lib/python3.8/site-packages (from pyasn1-modules>=0.2.1->google-auth<3.0dev,>=1.24.0->google-cloud-core<3.0.0dev,>=1.4.1->google-cloud-bigquery[bqstorage,pandas]) (0.4.8)\n",
      "Collecting mypy-extensions>=0.3.0\n",
      "  Downloading mypy_extensions-0.4.3-py2.py3-none-any.whl (4.5 kB)\n",
      "Installing collected packages: mypy-extensions, typing-inspect, libcst, google-cloud-bigquery-storage, pyarrow\n",
      "Successfully installed google-cloud-bigquery-storage-2.10.1 libcst-0.3.23 mypy-extensions-0.4.3 pyarrow-6.0.1 typing-inspect-0.7.1\n",
      "google-cloud-bigquery            2.30.1\n",
      "google-cloud-bigquery-storage    2.10.1\n"
     ]
    }
   ],
   "source": [
    "!pip install google-cloud-bigquery\n",
    "!pip install --upgrade google-auth-oauthlib\n",
    "!pip install --upgrade 'google-cloud-bigquery[bqstorage,pandas]'\n",
    "!pip list | grep google-cloud-bigquery"
   ]
  },
  {
   "cell_type": "markdown",
   "id": "initial-notebook",
   "metadata": {},
   "source": [
    "- Load the magic to query bigtables from notebook\n",
    "- Might need one restart after the previous step for the magic extension to load correctly"
   ]
  },
  {
   "cell_type": "code",
   "execution_count": 11,
   "id": "informed-stanley",
   "metadata": {},
   "outputs": [],
   "source": [
    "%load_ext google.cloud.bigquery"
   ]
  },
  {
   "cell_type": "markdown",
   "id": "polish-roots",
   "metadata": {},
   "source": [
    "## Pre-requisite to using open CV\n",
    "\n",
    "- apt-get update\n",
    "- apt-get install ffmpeg libsm6 libxext6  -y"
   ]
  },
  {
   "cell_type": "code",
   "execution_count": 1,
   "id": "proper-moscow",
   "metadata": {},
   "outputs": [],
   "source": [
    "import pylidc as pl\n",
    "from pylidc.utils import consensus\n",
    "import pydicom as dicom\n",
    "from skimage.measure import find_contours\n",
    "import numpy as np\n",
    "import matplotlib.pyplot as plt\n",
    "from tqdm import tqdm\n",
    "from PIL import Image\n",
    "import contextlib\n",
    "import matplotlib.patches as patches\n",
    "import os\n",
    "import imageio\n",
    "import sys\n",
    "from glob import glob\n",
    "import os\n",
    "import cv2\n",
    "import numpy as np\n",
    "from skimage import morphology\n",
    "from skimage import measure\n",
    "from sklearn.cluster import KMeans\n",
    "from skimage.transform import resize\n",
    "import os\n",
    "from numpy import random\n",
    "import time\n",
    "import pandas as pd\n",
    "from PIL import Image\n",
    "import contextlib"
   ]
  },
  {
   "cell_type": "markdown",
   "id": "communist-consistency",
   "metadata": {},
   "source": [
    "Check if the pylidc library is able to process the records"
   ]
  },
  {
   "cell_type": "code",
   "execution_count": 2,
   "id": "dirty-release",
   "metadata": {},
   "outputs": [
    {
     "data": {
      "text/plain": [
       "'1.3.6.1.4.1.14519.5.2.1.6279.6001.303241414168367763244410429787'"
      ]
     },
     "execution_count": 2,
     "metadata": {},
     "output_type": "execute_result"
    }
   ],
   "source": [
    "pl.query(pl.Scan).count()\n",
    "pid = 'LIDC-IDRI-0069'#'LIDC-IDRI-0001'\n",
    "scan = pl.query(pl.Scan).filter(pl.Scan.patient_id == pid).first()\n",
    "scan.study_instance_uid"
   ]
  },
  {
   "cell_type": "markdown",
   "id": "pointed-spokesman",
   "metadata": {},
   "source": [
    "Set up connection to the google big table"
   ]
  },
  {
   "cell_type": "code",
   "execution_count": 3,
   "id": "unlike-jonathan",
   "metadata": {},
   "outputs": [
    {
     "name": "stdout",
     "output_type": "stream",
     "text": [
      "Please visit this URL to authorize this application: https://accounts.google.com/o/oauth2/auth?response_type=code&client_id=286006984742-oetffmukptpafo18coob3vgc4f42oppi.apps.googleusercontent.com&redirect_uri=urn%3Aietf%3Awg%3Aoauth%3A2.0%3Aoob&scope=https%3A%2F%2Fwww.googleapis.com%2Fauth%2Fbigquery&state=8ffBFhcGrKXm6dN8pL7Sw9xhXWs4s2&prompt=consent&access_type=offline\n"
     ]
    },
    {
     "name": "stdin",
     "output_type": "stream",
     "text": [
      "Enter the authorization code:  4/1AX4XfWi_C1CJwEY7qWpKpMNPu7cQ6X0lHiBz7edkdGG1Yfxxmt0nAXLIO4A\n"
     ]
    }
   ],
   "source": [
    "from google_auth_oauthlib import flow\n",
    "\n",
    "# TODO: Uncomment the line below to set the `launch_browser` variable.\n",
    "launch_browser = False\n",
    "#\n",
    "# The `launch_browser` boolean variable indicates if a local server is used\n",
    "# as the callback URL in the auth flow. A value of `True` is recommended,\n",
    "# but a local server does not work if accessing the application remotely,\n",
    "# such as over SSH or from a remote Jupyter notebook.\n",
    "\n",
    "appflow = flow.InstalledAppFlow.from_client_secrets_file(\n",
    "    \"client_secret_desktop.json\", scopes=[\"https://www.googleapis.com/auth/bigquery\"]\n",
    ")\n",
    "\n",
    "if launch_browser:\n",
    "    appflow.run_local_server()\n",
    "else:\n",
    "    appflow.run_console()\n",
    "\n",
    "credentials = appflow.credentials"
   ]
  },
  {
   "cell_type": "code",
   "execution_count": 8,
   "id": "disciplinary-northwest",
   "metadata": {},
   "outputs": [],
   "source": [
    "from google.cloud.bigquery import magics\n",
    "magics.context.credentials = credentials"
   ]
  },
  {
   "cell_type": "markdown",
   "id": "former-stylus",
   "metadata": {},
   "source": [
    "Note: mandatory next step\n",
    "\n",
    "> Configure gsutil in a console\n",
    "> - gsutil config"
   ]
  },
  {
   "cell_type": "code",
   "execution_count": 9,
   "id": "entire-junction",
   "metadata": {},
   "outputs": [],
   "source": [
    "myProjectID = \"positive-sector-330514\"\n",
    "#myProjectID = \"idc-external-012\""
   ]
  },
  {
   "cell_type": "code",
   "execution_count": 12,
   "id": "genuine-tampa",
   "metadata": {},
   "outputs": [
    {
     "name": "stderr",
     "output_type": "stream",
     "text": [
      "Query complete after 0.00s: 100%|██████████| 1/1 [00:00<00:00, 743.01query/s] \n",
      "Downloading: 100%|██████████| 1018/1018 [00:02<00:00, 439.44rows/s]\n"
     ]
    }
   ],
   "source": [
    "%%bigquery CT_series --project=$myProjectID \n",
    "\n",
    "WITH\n",
    "  all_lidc_ct_series AS (\n",
    "  SELECT\n",
    "    DISTINCT(SeriesInstanceUID),\n",
    "    StudyInstanceUID,  \n",
    "    PatientID,\n",
    "    SliceThickness,\n",
    "    ARRAY_TO_STRING(PixelSpacing,\"/\") as pixelspa \n",
    "  FROM\n",
    "    `canceridc-data.idc_views.dicom_all`\n",
    "  WHERE\n",
    "    Modality = \"CT\"\n",
    "    AND collection_id = \"lidc_idri\")\n",
    "SELECT PatientID,SliceThickness,pixelspa,StudyInstanceUID,SeriesInstanceUID FROM\n",
    "  all_lidc_ct_series\n",
    "ORDER BY\n",
    "  PatientID"
   ]
  },
  {
   "cell_type": "code",
   "execution_count": 13,
   "id": "compliant-basket",
   "metadata": {},
   "outputs": [
    {
     "name": "stdout",
     "output_type": "stream",
     "text": [
      "Choosing patients with slice thickness > 1.0\n",
      "Total patients is 1010 and chosen patients are 971\n",
      "Shape of the raw dataset is (979, 5)\n"
     ]
    }
   ],
   "source": [
    "total_patients = len(np.unique(CT_series['PatientID']))\n",
    "chosen_patients = len(np.unique(CT_series[(CT_series[\"SliceThickness\"].astype(float)>=1.0)]['PatientID']))\n",
    "print(\"Choosing patients with slice thickness > 1.0\")\n",
    "print(\"Total patients is {} and chosen patients are {}\".format(total_patients, chosen_patients))\n",
    "ct_series_HR = CT_series[(CT_series[\"SliceThickness\"].astype(float)>=1.0)]\n",
    "print(\"Shape of the raw dataset is {}\".format(ct_series_HR.shape))\n",
    "\n",
    "to_download = []\n",
    "base_gs_uri = 'gs://idc-tcia-lidc-idri/dicom/'\n",
    "\n",
    "for i in range(ct_series_HR.shape[0]):\n",
    "    to_download.append(base_gs_uri + ct_series_HR.iloc[i]['StudyInstanceUID'] + '/' + ct_series_HR.iloc[i]['SeriesInstanceUID'])\n",
    "\n",
    "manifest_df = pd.DataFrame({\"gcs\":to_download},columns=[\"gcs\"])\n",
    "\n",
    "manifest_df.to_csv(\"gcs_paths_all.txt\",header=False, index=False)"
   ]
  },
  {
   "cell_type": "code",
   "execution_count": 14,
   "id": "reasonable-chile",
   "metadata": {},
   "outputs": [
    {
     "name": "stdout",
     "output_type": "stream",
     "text": [
      "gs://idc-tcia-lidc-idri/dicom/1.3.6.1.4.1.14519.5.2.1.6279.6001.298806137288633453246975630178/1.3.6.1.4.1.14519.5.2.1.6279.6001.179049373636438705059720603192\n",
      "gs://idc-tcia-lidc-idri/dicom/1.3.6.1.4.1.14519.5.2.1.6279.6001.490157381160200744295382098329/1.3.6.1.4.1.14519.5.2.1.6279.6001.619372068417051974713149104919\n",
      "gs://idc-tcia-lidc-idri/dicom/1.3.6.1.4.1.14519.5.2.1.6279.6001.101370605276577556143013894866/1.3.6.1.4.1.14519.5.2.1.6279.6001.170706757615202213033480003264\n",
      "gs://idc-tcia-lidc-idri/dicom/1.3.6.1.4.1.14519.5.2.1.6279.6001.191425307197546732281885591780/1.3.6.1.4.1.14519.5.2.1.6279.6001.323541312620128092852212458228\n",
      "gs://idc-tcia-lidc-idri/dicom/1.3.6.1.4.1.14519.5.2.1.6279.6001.190188259083742759886805142125/1.3.6.1.4.1.14519.5.2.1.6279.6001.129007566048223160327836686225\n",
      "gs://idc-tcia-lidc-idri/dicom/1.3.6.1.4.1.14519.5.2.1.6279.6001.324680252006411183918098592500/1.3.6.1.4.1.14519.5.2.1.6279.6001.132817748896065918417924920957\n",
      "gs://idc-tcia-lidc-idri/dicom/1.3.6.1.4.1.14519.5.2.1.6279.6001.280315210397549164238230581781/1.3.6.1.4.1.14519.5.2.1.6279.6001.272348349298439120568330857680\n",
      "gs://idc-tcia-lidc-idri/dicom/1.3.6.1.4.1.14519.5.2.1.6279.6001.185810436275168701789786930141/1.3.6.1.4.1.14519.5.2.1.6279.6001.774060103415303828812229821954\n",
      "gs://idc-tcia-lidc-idri/dicom/1.3.6.1.4.1.14519.5.2.1.6279.6001.225213110794629789874295007045/1.3.6.1.4.1.14519.5.2.1.6279.6001.286061375572911414226912429210\n",
      "gs://idc-tcia-lidc-idri/dicom/1.3.6.1.4.1.14519.5.2.1.6279.6001.303099231937480740934110243375/1.3.6.1.4.1.14519.5.2.1.6279.6001.416701701108520592702405866796\n"
     ]
    }
   ],
   "source": [
    "!head gcs_paths_all.txt"
   ]
  },
  {
   "cell_type": "markdown",
   "id": "demographic-verification",
   "metadata": {},
   "source": [
    "#### Download the DICOM images\n",
    "\n",
    "- Define the paths where we will download the DICOM images from GCP and then sort them.\n",
    "- Create the train / val / test split based on the manifest URLs"
   ]
  },
  {
   "cell_type": "code",
   "execution_count": 16,
   "id": "indirect-oracle",
   "metadata": {},
   "outputs": [
    {
     "name": "stdout",
     "output_type": "stream",
     "text": [
      "Splits train:745, val: 186, test: 48\n"
     ]
    }
   ],
   "source": [
    "idxs = np.arange(manifest_df.shape[0])\n",
    "np.random.seed(2011)\n",
    "np.random.shuffle(idxs)\n",
    "split_ratio = 0.05\n",
    "data_idxs = idxs[int(manifest_df.shape[0]*split_ratio):]\n",
    "test_idxs = idxs[:int(manifest_df.shape[0]*split_ratio)]\n",
    "split_ratio_val = 0.2\n",
    "train_idxs = data_idxs[int(data_idxs.shape[0]*split_ratio_val):]\n",
    "val_idxs = data_idxs[:int(data_idxs.shape[0]*split_ratio_val)]\n",
    "print(\"Splits train:{}, val: {}, test: {}\".format(train_idxs.shape[0],val_idxs.shape[0],test_idxs.shape[0]))"
   ]
  },
  {
   "cell_type": "markdown",
   "id": "hidden-tiger",
   "metadata": {},
   "source": [
    "#### Routine to download and sort the DICOM images\n",
    "\n",
    "You can adjust how many you wish to download at a time, to conserve space on the disk"
   ]
  },
  {
   "cell_type": "code",
   "execution_count": 23,
   "id": "approximate-houston",
   "metadata": {},
   "outputs": [],
   "source": [
    "import os, shutil\n",
    "import glob\n",
    "\n",
    "def download_data(idxs, data_dir, dtype='train', paging=True):\n",
    "    \n",
    "    download_dir = data_dir + \"/\" + dtype + \"/\" + 'gcsfiles/'\n",
    "    sorted_dir = data_dir + \"/\" + dtype + \"/\" + 'sorted_gcsfiles/'\n",
    "    if not os.path.exists(download_dir):\n",
    "        print(\"Creating directory {}\".format(download_dir))\n",
    "        os.makedirs(download_dir)\n",
    "    else:\n",
    "        print(\"Directory {} exists\".format(download_dir))\n",
    "\n",
    "    if not os.path.exists(sorted_dir):\n",
    "        print(\"Creating directory {}\".format(sorted_dir))\n",
    "        os.makedirs(sorted_dir)\n",
    "    else:\n",
    "        print(\"Directory {} exists\".format(sorted_dir))\n",
    "    \n",
    "    manifest = manifest_df.iloc[idxs]\n",
    "    \n",
    "    if paging:\n",
    "        for i in tqdm(range(manifest.shape[0])):\n",
    "            url = manifest.iloc[i].gcs\n",
    "\n",
    "            #download the DICOM images\n",
    "            download_command = \"gsutil -u {} -m cp -r {} {} >/dev/null 2>&1\".format(myProjectID, url, download_dir)\n",
    "            os.system(download_command)\n",
    "\n",
    "            if (i > 1) and (i % 50 == 0): # process 50 patients at a time, to save space on disk\n",
    "                # sort the images\n",
    "                sort_command = \"python dicomsort/dicomsort.py -u {} {}/%PatientID/%StudyInstanceUID/%SeriesInstanceUID/%SOPInstanceUID.dcm\".format(download_dir, sorted_dir)\n",
    "                os.system(sort_command)\n",
    "\n",
    "                # clean up the download dir\n",
    "                files = glob.glob(download_dir + \"/*\")\n",
    "                for j in tqdm(range(len(files))):\n",
    "                    if os.path.isdir(files[j]):\n",
    "                        shutil.rmtree(files[j])\n",
    "    else:\n",
    "        #download all\n",
    "        for i in tqdm(range(manifest.shape[0])):\n",
    "            url = manifest.iloc[i].gcs\n",
    "            #download the DICOM images\n",
    "            download_command = \"gsutil -u {} -m cp -r {} {} >/dev/null 2>&1\".format(myProjectID, url, download_dir)\n",
    "            os.system(download_command)\n",
    "            \n",
    "        #sort all\n",
    "        sort_command = \"python dicomsort/dicomsort.py -u {} {}/%PatientID/%StudyInstanceUID/%SeriesInstanceUID/%SOPInstanceUID.dcm\".format(download_dir, sorted_dir)\n",
    "        os.system(sort_command)\n",
    "        \n",
    "        #clean up the download dir\n",
    "        files = glob.glob(download_dir + \"/*\")\n",
    "        for j in tqdm(range(len(files))):\n",
    "            if os.path.isdir(files[j]):\n",
    "                shutil.rmtree(files[j])"
   ]
  },
  {
   "cell_type": "markdown",
   "id": "civilian-paint",
   "metadata": {},
   "source": [
    "#### Configure the data directories"
   ]
  },
  {
   "cell_type": "code",
   "execution_count": 24,
   "id": "bizarre-apple",
   "metadata": {},
   "outputs": [],
   "source": [
    "data_dir = '/app/data/lidc/dicom/'"
   ]
  },
  {
   "cell_type": "code",
   "execution_count": 25,
   "id": "economic-snowboard",
   "metadata": {},
   "outputs": [],
   "source": [
    "if not os.path.exists(data_dir):\n",
    "    os.makedirs(data_dir)"
   ]
  },
  {
   "cell_type": "code",
   "execution_count": null,
   "id": "answering-suicide",
   "metadata": {},
   "outputs": [
    {
     "name": "stderr",
     "output_type": "stream",
     "text": [
      "  0%|          | 0/745 [00:00<?, ?it/s]"
     ]
    },
    {
     "name": "stdout",
     "output_type": "stream",
     "text": [
      "Creating directory /app/data/lidc/dicom//train/gcsfiles/\n",
      "Creating directory /app/data/lidc/dicom//train/sorted_gcsfiles/\n"
     ]
    },
    {
     "name": "stderr",
     "output_type": "stream",
     "text": [
      "  7%|▋         | 50/745 [08:19<1:41:04,  8.73s/it]\n",
      "  0%|          | 0/51 [00:00<?, ?it/s]\u001b[A\n",
      "  6%|▌         | 3/51 [00:00<00:02, 21.47it/s]\u001b[A\n",
      " 20%|█▉        | 10/51 [00:00<00:01, 26.89it/s]\u001b[A\n",
      " 31%|███▏      | 16/51 [00:00<00:01, 31.71it/s]\u001b[A\n",
      " 45%|████▌     | 23/51 [00:00<00:00, 37.64it/s]\u001b[A\n",
      " 59%|█████▉    | 30/51 [00:00<00:00, 43.44it/s]\u001b[A\n",
      " 71%|███████   | 36/51 [00:00<00:00, 41.89it/s]\u001b[A\n",
      " 82%|████████▏ | 42/51 [00:00<00:00, 43.56it/s]\u001b[A\n",
      "100%|██████████| 51/51 [00:01<00:00, 50.58it/s]\u001b[A\n",
      "  8%|▊         | 56/745 [09:45<2:01:17, 10.56s/it]"
     ]
    }
   ],
   "source": [
    "%%time\n",
    "download_data(train_idxs, data_dir, 'train', True)"
   ]
  },
  {
   "cell_type": "code",
   "execution_count": 26,
   "id": "quick-means",
   "metadata": {},
   "outputs": [
    {
     "name": "stderr",
     "output_type": "stream",
     "text": [
      "  0%|          | 0/186 [00:00<?, ?it/s]"
     ]
    },
    {
     "name": "stdout",
     "output_type": "stream",
     "text": [
      "Creating directory /app/data/lidc/dicom//val/gcsfiles/\n",
      "Creating directory /app/data/lidc/dicom//val/sorted_gcsfiles/\n"
     ]
    },
    {
     "name": "stderr",
     "output_type": "stream",
     "text": [
      " 27%|██▋       | 50/186 [04:32<13:42,  6.05s/it]\n",
      "  0%|          | 0/51 [00:00<?, ?it/s]\u001b[A\n",
      " 16%|█▌        | 8/51 [00:00<00:00, 53.96it/s]\u001b[A\n",
      " 25%|██▌       | 13/51 [00:00<00:00, 45.40it/s]\u001b[A\n",
      " 33%|███▎      | 17/51 [00:00<00:00, 40.17it/s]\u001b[A\n",
      " 47%|████▋     | 24/51 [00:00<00:00, 45.54it/s]\u001b[A\n",
      " 59%|█████▉    | 30/51 [00:00<00:00, 48.61it/s]\u001b[A\n",
      " 71%|███████   | 36/51 [00:00<00:00, 49.02it/s]\u001b[A\n",
      " 80%|████████  | 41/51 [00:00<00:00, 46.58it/s]\u001b[A\n",
      "100%|██████████| 51/51 [00:01<00:00, 48.16it/s]\u001b[A\n",
      " 54%|█████▍    | 100/186 [11:42<10:10,  7.09s/it]\n",
      "  0%|          | 0/50 [00:00<?, ?it/s]\u001b[A\n",
      "  8%|▊         | 4/50 [00:00<00:01, 29.44it/s]\u001b[A\n",
      " 16%|█▌        | 8/50 [00:00<00:01, 30.74it/s]\u001b[A\n",
      " 28%|██▊       | 14/50 [00:00<00:01, 35.25it/s]\u001b[A\n",
      " 36%|███▌      | 18/50 [00:00<00:00, 35.28it/s]\u001b[A\n",
      " 48%|████▊     | 24/50 [00:00<00:00, 37.49it/s]\u001b[A\n",
      " 60%|██████    | 30/50 [00:00<00:00, 42.22it/s]\u001b[A\n",
      " 70%|███████   | 35/50 [00:00<00:00, 43.33it/s]\u001b[A\n",
      " 80%|████████  | 40/50 [00:00<00:00, 43.73it/s]\u001b[A\n",
      "100%|██████████| 50/50 [00:01<00:00, 44.11it/s]\u001b[A\n",
      " 81%|████████  | 150/186 [20:34<05:19,  8.87s/it]\n",
      "  0%|          | 0/50 [00:00<?, ?it/s]\u001b[A\n",
      " 12%|█▏        | 6/50 [00:00<00:00, 51.93it/s]\u001b[A\n",
      " 18%|█▊        | 9/50 [00:00<00:00, 42.13it/s]\u001b[A\n",
      " 32%|███▏      | 16/50 [00:00<00:00, 47.55it/s]\u001b[A\n",
      " 40%|████      | 20/50 [00:00<00:00, 42.51it/s]\u001b[A\n",
      " 50%|█████     | 25/50 [00:00<00:00, 43.90it/s]\u001b[A\n",
      " 60%|██████    | 30/50 [00:00<00:00, 43.48it/s]\u001b[A\n",
      " 72%|███████▏  | 36/50 [00:00<00:00, 46.58it/s]\u001b[A\n",
      " 82%|████████▏ | 41/50 [00:00<00:00, 38.92it/s]\u001b[A\n",
      "100%|██████████| 50/50 [00:01<00:00, 45.11it/s]\u001b[A\n",
      "100%|██████████| 186/186 [26:47<00:00,  8.64s/it]"
     ]
    },
    {
     "name": "stdout",
     "output_type": "stream",
     "text": [
      "CPU times: user 578 ms, sys: 3.33 s, total: 3.91 s\n",
      "Wall time: 26min 47s\n"
     ]
    },
    {
     "name": "stderr",
     "output_type": "stream",
     "text": [
      "\n"
     ]
    }
   ],
   "source": [
    "%%time\n",
    "download_data(val_idxs, data_dir, 'val', True)"
   ]
  },
  {
   "cell_type": "code",
   "execution_count": 27,
   "id": "perceived-reserve",
   "metadata": {},
   "outputs": [
    {
     "name": "stderr",
     "output_type": "stream",
     "text": [
      "  0%|          | 0/48 [00:00<?, ?it/s]"
     ]
    },
    {
     "name": "stdout",
     "output_type": "stream",
     "text": [
      "Creating directory /app/data/lidc/dicom//test/gcsfiles/\n",
      "Creating directory /app/data/lidc/dicom//test/sorted_gcsfiles/\n"
     ]
    },
    {
     "name": "stderr",
     "output_type": "stream",
     "text": [
      "100%|██████████| 48/48 [04:16<00:00,  5.35s/it]\n",
      "100%|██████████| 48/48 [00:01<00:00, 47.28it/s]"
     ]
    },
    {
     "name": "stdout",
     "output_type": "stream",
     "text": [
      "CPU times: user 165 ms, sys: 994 ms, total: 1.16 s\n",
      "Wall time: 4min 38s\n"
     ]
    },
    {
     "name": "stderr",
     "output_type": "stream",
     "text": [
      "\n"
     ]
    }
   ],
   "source": [
    "%%time\n",
    "download_data(test_idxs, data_dir, 'test', False)"
   ]
  },
  {
   "cell_type": "code",
   "execution_count": 19,
   "id": "superior-necessity",
   "metadata": {},
   "outputs": [],
   "source": [
    "def set_dicom_path(dicom_path):\n",
    "    f = open ('/root/.pylidcrc','w')\n",
    "    f.write('[dicom]'+'\\n')\n",
    "    f.write('path =' + dicom_path +'\\n')\n",
    "    f.write('warn = True')\n",
    "    f.close()"
   ]
  },
  {
   "cell_type": "code",
   "execution_count": 20,
   "id": "moving-disorder",
   "metadata": {},
   "outputs": [],
   "source": [
    "def load_vol_for_patient(patient_id, dicom_path):\n",
    "    set_dicom_path(dicom_path)\n",
    "    #patient_id = [patient_id\n",
    "    scan = pl.query(pl.Scan).filter(pl.Scan.patient_id.in_([patient_id]))[0]\n",
    "    nodules_annotation = scan.cluster_annotations()\n",
    "    with contextlib.redirect_stdout(None):\n",
    "        vol = scan.to_volume()\n",
    "    return vol, nodules_annotation"
   ]
  },
  {
   "cell_type": "code",
   "execution_count": 27,
   "id": "mobile-hollywood",
   "metadata": {},
   "outputs": [],
   "source": [
    "dicom_root_dir = '/app/data/lidc/dicom/train/sorted_gcsfiles/'"
   ]
  },
  {
   "cell_type": "code",
   "execution_count": 28,
   "id": "demographic-advocate",
   "metadata": {},
   "outputs": [
    {
     "name": "stdout",
     "output_type": "stream",
     "text": [
      "There are 4 nodules annotated for the patient LIDC-IDRI-0040\n"
     ]
    }
   ],
   "source": [
    "# test\n",
    "pat_id = 'LIDC-IDRI-0040'\n",
    "vol, nodules_annotation = load_vol_for_patient(pat_id, dicom_root_dir)\n",
    "print(\"There are {} nodules annotated for the patient {}\".format(len(nodules_annotation), pat_id))"
   ]
  },
  {
   "cell_type": "code",
   "execution_count": null,
   "id": "beautiful-burner",
   "metadata": {},
   "outputs": [],
   "source": []
  }
 ],
 "metadata": {
  "kernelspec": {
   "display_name": "Python 3",
   "language": "python",
   "name": "python3"
  },
  "language_info": {
   "codemirror_mode": {
    "name": "ipython",
    "version": 3
   },
   "file_extension": ".py",
   "mimetype": "text/x-python",
   "name": "python",
   "nbconvert_exporter": "python",
   "pygments_lexer": "ipython3",
   "version": "3.8.5"
  }
 },
 "nbformat": 4,
 "nbformat_minor": 5
}
