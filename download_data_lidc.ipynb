{
 "cells": [
  {
   "cell_type": "markdown",
   "id": "d257a59c",
   "metadata": {},
   "source": [
    "## Download data from IDC\n",
    "\n",
    "Download the DICOM images from IDC"
   ]
  },
  {
   "cell_type": "markdown",
   "id": "fc1aa31e",
   "metadata": {},
   "source": [
    "\n",
    "Install utils to process dicom images, process the LIDC dataset, process the images and save them to files, and to download files from GCP stores"
   ]
  },
  {
   "cell_type": "code",
   "execution_count": null,
   "id": "2ced2ffd",
   "metadata": {},
   "outputs": [],
   "source": [
    "!pip install -r requirements.txt"
   ]
  },
  {
   "cell_type": "markdown",
   "id": "3965d200",
   "metadata": {},
   "source": [
    "Install the utils to sort the DICOM images"
   ]
  },
  {
   "cell_type": "code",
   "execution_count": null,
   "id": "f1036381",
   "metadata": {},
   "outputs": [],
   "source": [
    "!git clone https://github.com/pieper/dicomsort.git"
   ]
  },
  {
   "cell_type": "markdown",
   "id": "d319ee0b",
   "metadata": {},
   "source": [
    "#### Set up connection to GCP, Gcloud, Big table \n",
    "Install utils to query the Bigtables"
   ]
  },
  {
   "cell_type": "code",
   "execution_count": null,
   "id": "7e36530a",
   "metadata": {},
   "outputs": [],
   "source": [
    "!pip install google-cloud-bigquery\n",
    "!pip install --upgrade google-auth-oauthlib\n",
    "!pip install --upgrade 'google-cloud-bigquery[bqstorage,pandas]'\n",
    "!pip list | grep google-cloud-bigquery"
   ]
  },
  {
   "cell_type": "markdown",
   "id": "572738ad",
   "metadata": {},
   "source": [
    "- Load the magic to query bigtables from notebook\n",
    "- Might need one restart after the previous step for the magic extension to load correctly"
   ]
  },
  {
   "cell_type": "code",
   "execution_count": null,
   "id": "c6a531cc",
   "metadata": {},
   "outputs": [],
   "source": [
    "%load_ext google.cloud.bigquery"
   ]
  },
  {
   "cell_type": "code",
   "execution_count": null,
   "id": "bb79e69b",
   "metadata": {},
   "outputs": [],
   "source": [
    "import pylidc as pl\n",
    "from pylidc.utils import consensus\n",
    "import pydicom as dicom\n",
    "from skimage.measure import find_contours\n",
    "import numpy as np\n",
    "import matplotlib.pyplot as plt\n",
    "from tqdm import tqdm\n",
    "from PIL import Image\n",
    "import contextlib\n",
    "import matplotlib.patches as patches\n",
    "import os\n",
    "import imageio\n",
    "import sys\n",
    "from glob import glob\n",
    "import os\n",
    "import cv2\n",
    "import numpy as np\n",
    "from skimage import morphology\n",
    "from skimage import measure\n",
    "from sklearn.cluster import KMeans\n",
    "from skimage.transform import resize\n",
    "import os\n",
    "from numpy import random\n",
    "import time\n",
    "import pandas as pd\n",
    "from PIL import Image\n",
    "import contextlib"
   ]
  },
  {
   "cell_type": "markdown",
   "id": "57065c26",
   "metadata": {},
   "source": [
    "Check if the pylidc library is able to process the records"
   ]
  },
  {
   "cell_type": "code",
   "execution_count": null,
   "id": "17338ea8",
   "metadata": {},
   "outputs": [],
   "source": [
    "pl.query(pl.Scan).count()\n",
    "pid = 'LIDC-IDRI-0069'#'LIDC-IDRI-0001'\n",
    "scan = pl.query(pl.Scan).filter(pl.Scan.patient_id == pid).first()\n",
    "scan.study_instance_uid"
   ]
  },
  {
   "cell_type": "markdown",
   "id": "2deabe80",
   "metadata": {},
   "source": [
    "Set up connection to the google big table"
   ]
  },
  {
   "cell_type": "code",
   "execution_count": null,
   "id": "98ce3b8d",
   "metadata": {},
   "outputs": [],
   "source": [
    "from google_auth_oauthlib import flow\n",
    "\n",
    "# TODO: Uncomment the line below to set the `launch_browser` variable.\n",
    "launch_browser = False\n",
    "#\n",
    "# The `launch_browser` boolean variable indicates if a local server is used\n",
    "# as the callback URL in the auth flow. A value of `True` is recommended,\n",
    "# but a local server does not work if accessing the application remotely,\n",
    "# such as over SSH or from a remote Jupyter notebook.\n",
    "\n",
    "appflow = flow.InstalledAppFlow.from_client_secrets_file(\n",
    "    \"client_secret_desktop.json\", scopes=[\"https://www.googleapis.com/auth/bigquery\"]\n",
    ")\n",
    "\n",
    "if launch_browser:\n",
    "    appflow.run_local_server()\n",
    "else:\n",
    "    appflow.run_console()\n",
    "\n",
    "credentials = appflow.credentials"
   ]
  },
  {
   "cell_type": "code",
   "execution_count": null,
   "id": "520ebfdc",
   "metadata": {},
   "outputs": [],
   "source": [
    "from google.cloud.bigquery import magics\n",
    "magics.context.credentials = credentials"
   ]
  },
  {
   "cell_type": "markdown",
   "id": "4b603596",
   "metadata": {},
   "source": [
    "Note: mandatory next step\n",
    "\n",
    "> Configure gsutil in a console\n",
    "> - gsutil config"
   ]
  },
  {
   "cell_type": "code",
   "execution_count": null,
   "id": "14f43247",
   "metadata": {},
   "outputs": [],
   "source": [
    "#myProjectID = \"positive-sector-330514\"\n",
    "myProjectID = \"idc-external-012\""
   ]
  },
  {
   "cell_type": "code",
   "execution_count": null,
   "id": "084e5316",
   "metadata": {},
   "outputs": [],
   "source": [
    "%%bigquery CT_series --project=$myProjectID \n",
    "\n",
    "WITH\n",
    "  all_lidc_ct_series AS (\n",
    "  SELECT\n",
    "    DISTINCT(SeriesInstanceUID),\n",
    "    StudyInstanceUID,  \n",
    "    PatientID,\n",
    "    SliceThickness,\n",
    "    ARRAY_TO_STRING(PixelSpacing,\"/\") as pixelspa \n",
    "  FROM\n",
    "    `canceridc-data.idc_views.dicom_all`\n",
    "  WHERE\n",
    "    Modality = \"CT\"\n",
    "    AND collection_id = \"lidc_idri\")\n",
    "SELECT PatientID,SliceThickness,pixelspa,StudyInstanceUID,SeriesInstanceUID FROM\n",
    "  all_lidc_ct_series\n",
    "ORDER BY\n",
    "  PatientID"
   ]
  },
  {
   "cell_type": "code",
   "execution_count": null,
   "id": "6b2aa1d9",
   "metadata": {},
   "outputs": [],
   "source": [
    "total_patients = len(np.unique(CT_series['PatientID']))\n",
    "chosen_patients = len(np.unique(CT_series[(CT_series[\"SliceThickness\"].astype(float)>=1.0)]['PatientID']))\n",
    "print(\"Choosing patients with slice thickness > 1.0\")\n",
    "print(\"Total patients is {} and chosen patients are {}\".format(total_patients, chosen_patients))\n",
    "ct_series_HR = CT_series[(CT_series[\"SliceThickness\"].astype(float)>=1.0)]\n",
    "print(\"Shape of the raw dataset is {}\".format(ct_series_HR.shape))\n",
    "\n",
    "to_download = []\n",
    "base_gs_uri = 'gs://idc-tcia-lidc-idri/dicom/'\n",
    "\n",
    "for i in range(ct_series_HR.shape[0]):\n",
    "    to_download.append(base_gs_uri + ct_series_HR.iloc[i]['StudyInstanceUID'] + '/' + ct_series_HR.iloc[i]['SeriesInstanceUID'])\n",
    "\n",
    "manifest_df = pd.DataFrame({\"gcs\":to_download},columns=[\"gcs\"])\n",
    "\n",
    "manifest_df.to_csv(\"gcs_paths_all.txt\",header=False, index=False)"
   ]
  },
  {
   "cell_type": "code",
   "execution_count": null,
   "id": "745ab75a",
   "metadata": {},
   "outputs": [],
   "source": [
    "!head gcs_paths_all.txt"
   ]
  },
  {
   "cell_type": "markdown",
   "id": "416824c0",
   "metadata": {},
   "source": [
    "#### Download the DICOM images\n",
    "\n",
    "- Define the paths where we will download the DICOM images from GCP and then sort them.\n",
    "- Create the train / val / test split based on the manifest URLs"
   ]
  },
  {
   "cell_type": "code",
   "execution_count": null,
   "id": "f74f4b06",
   "metadata": {},
   "outputs": [],
   "source": [
    "yolo_data_dir = '/data/yolov5/'\n",
    "idxs = np.arange(manifest_df.shape[0])\n",
    "np.random.seed(2011)\n",
    "np.random.shuffle(idxs)\n",
    "split_ratio = 0.05\n",
    "data_idxs = idxs[int(manifest_df.shape[0]*split_ratio):]\n",
    "test_idxs = idxs[:int(manifest_df.shape[0]*split_ratio)]\n",
    "split_ratio_val = 0.2\n",
    "train_idxs = data_idxs[int(data_idxs.shape[0]*split_ratio_val):]\n",
    "val_idxs = data_idxs[:int(data_idxs.shape[0]*split_ratio_val)]\n",
    "print(\"Splits train:{}, val: {}, test: {}\".format(train_idxs.shape[0],val_idxs.shape[0],test_idxs.shape[0]))"
   ]
  },
  {
   "cell_type": "markdown",
   "id": "0b5cc280",
   "metadata": {},
   "source": [
    "#### Routine to download and sort the DICOM images\n",
    "\n",
    "You can adjust how many you wish to download at a time, to conserve space on the disk"
   ]
  },
  {
   "cell_type": "code",
   "execution_count": null,
   "id": "dfbaf482",
   "metadata": {},
   "outputs": [],
   "source": [
    "import os, shutil\n",
    "import glob\n",
    "\n",
    "def download_data(idxs, data_dir, dtype='train', paging=True):\n",
    "    \n",
    "    download_dir = data_dir + \"/\" + dtype + \"/\" + 'gcsfiles/'\n",
    "    sorted_dir = data_dir + \"/\" + dtype + \"/\" + 'sorted_gcsfiles/'\n",
    "    if not os.path.exists(download_dir):\n",
    "        print(\"Creating directory {}\".format(download_dir))\n",
    "        os.makedirs(download_dir)\n",
    "    else:\n",
    "        print(\"Directory {} exists\".format(download_dir))\n",
    "\n",
    "    if not os.path.exists(sorted_dir):\n",
    "        print(\"Creating directory {}\".format(sorted_dir))\n",
    "        os.makedirs(sorted_dir)\n",
    "    else:\n",
    "        print(\"Directory {} exists\".format(sorted_dir))\n",
    "    \n",
    "    manifest = manifest_df.iloc[idxs]\n",
    "    \n",
    "    if paging:\n",
    "        for i in tqdm(range(manifest.shape[0])):\n",
    "            url = manifest.iloc[i].gcs\n",
    "\n",
    "            #download the DICOM images\n",
    "            download_command = \"gsutil -u {} -m cp -r {} {} >/dev/null 2>&1\".format(myProjectID, url, download_dir)\n",
    "            os.system(download_command)\n",
    "\n",
    "            if (i > 1) and (i % 50 == 0): # process 50 patients at a time, to save space on disk\n",
    "                # sort the images\n",
    "                sort_command = \"python dicomsort/dicomsort.py -u {} {}/%PatientID/%StudyInstanceUID/%SeriesInstanceUID/%SOPInstanceUID.dcm\".format(download_dir, sorted_dir)\n",
    "                os.system(sort_command)\n",
    "\n",
    "                # clean up the download dir\n",
    "                files = glob.glob(download_dir + \"/*\")\n",
    "                for j in tqdm(range(len(files))):\n",
    "                    if os.path.isdir(files[j]):\n",
    "                        shutil.rmtree(files[j])\n",
    "    else:\n",
    "        #download all\n",
    "        for i in tqdm(range(manifest.shape[0])):\n",
    "            url = manifest.iloc[i].gcs\n",
    "            #download the DICOM images\n",
    "            download_command = \"gsutil -u {} -m cp -r {} {} >/dev/null 2>&1\".format(myProjectID, url, download_dir)\n",
    "            os.system(download_command)\n",
    "            \n",
    "        #sort all\n",
    "        sort_command = \"python dicomsort/dicomsort.py -u {} {}/%PatientID/%StudyInstanceUID/%SeriesInstanceUID/%SOPInstanceUID.dcm\".format(download_dir, sorted_dir)\n",
    "        os.system(sort_command)\n",
    "        \n",
    "        #clean up the download dir\n",
    "        files = glob.glob(download_dir + \"/*\")\n",
    "        for j in tqdm(range(len(files))):\n",
    "            if os.path.isdir(files[j]):\n",
    "                shutil.rmtree(files[j])"
   ]
  },
  {
   "cell_type": "markdown",
   "id": "1aeef92d",
   "metadata": {},
   "source": [
    "#### Configure the data directories"
   ]
  },
  {
   "cell_type": "code",
   "execution_count": null,
   "id": "fe798682",
   "metadata": {},
   "outputs": [],
   "source": [
    "data_dir = '/data/lidc/dicom/'"
   ]
  },
  {
   "cell_type": "code",
   "execution_count": null,
   "id": "694877ba",
   "metadata": {},
   "outputs": [],
   "source": [
    "%%time\n",
    "download_data(train_idxs, data_dir, 'train', True)"
   ]
  },
  {
   "cell_type": "code",
   "execution_count": null,
   "id": "bf099fa7",
   "metadata": {},
   "outputs": [],
   "source": [
    "%%time\n",
    "download_data(val_idxs, data_dir, 'val', True)"
   ]
  },
  {
   "cell_type": "code",
   "execution_count": null,
   "id": "ed887a81",
   "metadata": {},
   "outputs": [],
   "source": [
    "%%time\n",
    "download_data(test_idxs, data_dir, 'test', False)"
   ]
  },
  {
   "cell_type": "code",
   "execution_count": null,
   "id": "9d598767",
   "metadata": {},
   "outputs": [],
   "source": [
    "def set_dicom_path(dicom_path):\n",
    "    f = open ('/root/.pylidcrc','w')\n",
    "    f.write('[dicom]'+'\\n')\n",
    "    f.write('path =' + dicom_path +'\\n')\n",
    "    f.write('warn = True')\n",
    "    f.close()"
   ]
  },
  {
   "cell_type": "code",
   "execution_count": null,
   "id": "7eefd6e0",
   "metadata": {},
   "outputs": [],
   "source": [
    "def load_vol_for_patient(patient_id, dicom_path):\n",
    "    set_dicom_path(dicom_path)\n",
    "    #patient_id = [patient_id\n",
    "    scan = pl.query(pl.Scan).filter(pl.Scan.patient_id.in_([patient_id]))[0]\n",
    "    nodules_annotation = scan.cluster_annotations()\n",
    "    with contextlib.redirect_stdout(None):\n",
    "        vol = scan.to_volume()\n",
    "    return vol, nodules_annotation"
   ]
  },
  {
   "cell_type": "code",
   "execution_count": null,
   "id": "28be2107",
   "metadata": {},
   "outputs": [],
   "source": [
    "dicom_root_dir = '/data/lidc/dicom/train/sorted_gcsfiles/'"
   ]
  },
  {
   "cell_type": "code",
   "execution_count": null,
   "id": "772731c2",
   "metadata": {},
   "outputs": [],
   "source": [
    "# test\n",
    "pat_id = 'LIDC-IDRI-0033'#'LIDC-IDRI-0001'\n",
    "vol, nodules_annotation = load_vol_for_patient(pat_id, dicom_root_dir)\n",
    "print(\"There are {} nodules annotated for the patient {}\".format(len(nodules_annotation), pat_id))"
   ]
  }
 ],
 "metadata": {
  "kernelspec": {
   "display_name": "Python 3 (ipykernel)",
   "language": "python",
   "name": "python3"
  },
  "language_info": {
   "codemirror_mode": {
    "name": "ipython",
    "version": 3
   },
   "file_extension": ".py",
   "mimetype": "text/x-python",
   "name": "python",
   "nbconvert_exporter": "python",
   "pygments_lexer": "ipython3",
   "version": "3.8.10"
  }
 },
 "nbformat": 4,
 "nbformat_minor": 5
}
