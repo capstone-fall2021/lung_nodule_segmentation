{
 "cells": [
  {
   "cell_type": "code",
   "execution_count": 1,
   "id": "e4ead164",
   "metadata": {},
   "outputs": [],
   "source": [
    "# import the required packages\n",
    "import torch\n",
    "import argparse\n",
    "import numpy as np\n",
    "import torch.nn as nn\n",
    "import torch.optim as optim\n",
    "from torchvision import datasets, transforms\n",
    "from torch.utils.data import Dataset, DataLoader\n",
    "from torch.autograd import Variable\n",
    "from torchvision.utils import save_image\n",
    "from torchvision.utils import make_grid\n",
    "from torch.utils.tensorboard import SummaryWriter\n",
    "import os\n",
    "from numpy import random"
   ]
  },
  {
   "cell_type": "code",
   "execution_count": 2,
   "id": "61cc1e9b",
   "metadata": {},
   "outputs": [],
   "source": [
    "#ls /data/all/train/images/"
   ]
  },
  {
   "cell_type": "code",
   "execution_count": 3,
   "id": "8430cb41",
   "metadata": {},
   "outputs": [],
   "source": [
    "#download the rock paper scissors dataset\n",
    "# !wget https://storage.googleapis.com/laurencemoroney-blog.appspot.com/rps.zip"
   ]
  },
  {
   "cell_type": "code",
   "execution_count": 4,
   "id": "c7f8b2d4",
   "metadata": {},
   "outputs": [],
   "source": [
    "#!unzip rps"
   ]
  },
  {
   "cell_type": "code",
   "execution_count": 5,
   "id": "2609cf30",
   "metadata": {},
   "outputs": [],
   "source": [
    "#ls rps"
   ]
  },
  {
   "cell_type": "markdown",
   "id": "9bef958a",
   "metadata": {},
   "source": [
    "### Build the data loader\n",
    "The dataloader should return the image and the mask\n",
    "\n",
    "We will only load a fraction of the data first to ensure that the model works"
   ]
  },
  {
   "cell_type": "code",
   "execution_count": 6,
   "id": "59e66c3d",
   "metadata": {},
   "outputs": [
    {
     "name": "stdout",
     "output_type": "stream",
     "text": [
      "208836\n"
     ]
    }
   ],
   "source": [
    "# will keep the test set for hold out, we need to get the val set generated from train files so that we can shuffle well\n",
    "train_images_path =  '/data/all/train/images'\n",
    "file_list = os.listdir(train_images_path)\n",
    "print(len(file_list))"
   ]
  },
  {
   "cell_type": "code",
   "execution_count": 7,
   "id": "003ade4a",
   "metadata": {},
   "outputs": [],
   "source": [
    "val_ratio = 0.2\n",
    "SEED = 2021\n",
    "random.seed(SEED)\n",
    "#file_list = [i for i in range(len(patient_list))]\n",
    "num_files = len(file_list)\n",
    "idxs = np.arange(num_files)\n",
    "random.shuffle(idxs)\n",
    "train_image_files = np.array(file_list)[idxs][:int(num_files*(1-val_ratio))]\n",
    "train_mask_files = [fn.replace('img','mask') for fn in train_image_files]\n",
    "\n",
    "val_image_files = np.array(file_list)[idxs][int(num_files*(1-val_ratio)):]\n",
    "val_mask_files = [fn.replace('img','mask') for fn in val_image_files]"
   ]
  },
  {
   "cell_type": "code",
   "execution_count": 8,
   "id": "a4618e42",
   "metadata": {},
   "outputs": [],
   "source": [
    "# use only a subset of the images, to test the model first\n",
    "num_tr_files = len(train_image_files)\n",
    "num_val_files = len(val_image_files)\n",
    "frac = 0.1 # use only 10% of samples\n",
    "train_image_files = train_image_files[:int(num_tr_files*frac)]\n",
    "train_mask_files = train_mask_files[:int(num_tr_files*frac)]\n",
    "val_image_files = val_image_files[:int(num_val_files*frac)]\n",
    "val_mask_files = val_mask_files[:int(num_val_files*frac)]"
   ]
  },
  {
   "cell_type": "code",
   "execution_count": 9,
   "id": "d64b8c50",
   "metadata": {},
   "outputs": [
    {
     "name": "stdout",
     "output_type": "stream",
     "text": [
      "Training samples 16706 and val samples 4176\n"
     ]
    }
   ],
   "source": [
    "print(\"Training samples {} and val samples {}\".format(len(train_image_files), len(val_image_files)))"
   ]
  },
  {
   "cell_type": "code",
   "execution_count": 10,
   "id": "e7cc169c",
   "metadata": {},
   "outputs": [
    {
     "data": {
      "text/plain": [
       "[('img_LIDC-IDRI-0450_114.npz', 'mask_LIDC-IDRI-0450_114.npz'),\n",
       " ('img_LIDC-IDRI-0886_27.npz', 'mask_LIDC-IDRI-0886_27.npz'),\n",
       " ('img_LIDC-IDRI-0486_64.npz', 'mask_LIDC-IDRI-0486_64.npz'),\n",
       " ('img_LIDC-IDRI-0791_92.npz', 'mask_LIDC-IDRI-0791_92.npz'),\n",
       " ('img_LIDC-IDRI-0407_88.npz', 'mask_LIDC-IDRI-0407_88.npz')]"
      ]
     },
     "execution_count": 10,
     "metadata": {},
     "output_type": "execute_result"
    }
   ],
   "source": [
    "[(img, msk) for img, msk in zip(train_image_files[:5], train_mask_files[:5])]"
   ]
  },
  {
   "cell_type": "markdown",
   "id": "82341b70",
   "metadata": {},
   "source": [
    "#### The dataloader class"
   ]
  },
  {
   "cell_type": "code",
   "execution_count": 125,
   "id": "ad081bb3",
   "metadata": {},
   "outputs": [],
   "source": [
    "class nodule_data(Dataset):\n",
    "    def __init__(self,image_paths,mask_paths):\n",
    "        super().__init__()\n",
    "        self.image_paths = image_paths\n",
    "        self.mask_paths  = mask_paths\n",
    "        \n",
    "    def __len__(self):\n",
    "        return len(self.image_paths)\n",
    "    \n",
    "    def __getitem__(self, index):\n",
    "        \n",
    "        image = np.load('/data/all/train/images/' + self.image_paths[index])['arr_0'].astype('float32')\n",
    "        mask  = np.load('/data/all/train/masks/' + self.mask_paths[index])['arr_0'].astype('float32')\n",
    "        image -= np.mean(image)\n",
    "        image /= np.std(image)\n",
    "\n",
    "        return image[np.newaxis,:], mask[np.newaxis,:]\n",
    "\n",
    "batch_size  = 1\n",
    "num_workers = 1\n",
    "nodule_data_train = nodule_data(train_image_files, train_mask_files)\n",
    "nodule_data_val   = nodule_data(val_image_files, val_mask_files)\n",
    "\n",
    "train_loader = DataLoader(nodule_data_train, batch_size = batch_size,\n",
    "                             num_workers = num_workers)\n",
    "\n",
    "val_loader   = DataLoader(nodule_data_val, batch_size = batch_size,\n",
    "                             num_workers = num_workers)"
   ]
  },
  {
   "cell_type": "code",
   "execution_count": 126,
   "id": "cd550a41",
   "metadata": {},
   "outputs": [
    {
     "name": "stdout",
     "output_type": "stream",
     "text": [
      "1.10.0a0+3fd9dcf\n",
      "Number of GPUs = 4\n"
     ]
    }
   ],
   "source": [
    "print(torch.__version__)\n",
    "print(\"Number of GPUs =\", torch.cuda.device_count())"
   ]
  },
  {
   "cell_type": "code",
   "execution_count": 127,
   "id": "99f05650",
   "metadata": {},
   "outputs": [
    {
     "name": "stdout",
     "output_type": "stream",
     "text": [
      "torch.float32 , torch.float32\n"
     ]
    }
   ],
   "source": [
    "dataiter = iter(train_loader)\n",
    "images,labels=dataiter.next()\n",
    "print(images.dtype, \",\", labels.dtype)"
   ]
  },
  {
   "cell_type": "code",
   "execution_count": null,
   "id": "28c7898d",
   "metadata": {},
   "outputs": [],
   "source": []
  },
  {
   "cell_type": "code",
   "execution_count": 128,
   "id": "e58c53c2",
   "metadata": {},
   "outputs": [],
   "source": [
    "batch_size = 128\n",
    "n_classes = 3\n",
    "embedding_dim = 100\n",
    "latent_dim = 100"
   ]
  },
  {
   "cell_type": "code",
   "execution_count": 129,
   "id": "902783dc",
   "metadata": {},
   "outputs": [],
   "source": [
    "# train_transform = transforms.Compose([\n",
    "#     transforms.Resize(128),\n",
    "#     transforms.ToTensor(),\n",
    "#     transforms.Normalize([0.5,0.5,0.5], [0.5,0.5,0.5])])\n",
    "# train_dataset = datasets.ImageFolder(root='rps', transform=train_transform)\n",
    "# train_loader = torch.utils.data.DataLoader(dataset=train_dataset, batch_size=batch_size, shuffle=True)"
   ]
  },
  {
   "cell_type": "code",
   "execution_count": 130,
   "id": "f4c4da14",
   "metadata": {},
   "outputs": [],
   "source": [
    "# dataiter = iter(train_loader)\n",
    "# images,labels=dataiter.next()\n",
    "# images.dtype"
   ]
  },
  {
   "cell_type": "code",
   "execution_count": 131,
   "id": "2c8fe1d8",
   "metadata": {},
   "outputs": [
    {
     "data": {
      "text/plain": [
       "torch.Size([1, 1, 512, 512])"
      ]
     },
     "execution_count": 131,
     "metadata": {},
     "output_type": "execute_result"
    }
   ],
   "source": [
    "images.shape"
   ]
  },
  {
   "cell_type": "code",
   "execution_count": 132,
   "id": "b198ff47",
   "metadata": {},
   "outputs": [],
   "source": [
    "class Generator(nn.Module):\n",
    "    def __init__(self):\n",
    "        super(Generator, self).__init__()\n",
    "        \n",
    "     \n",
    "        self.label_conditioned_generator = nn.Sequential(nn.Embedding(n_classes, embedding_dim),\n",
    "                      nn.Linear(embedding_dim, 16))\n",
    "        \n",
    "    \n",
    "        self.latent = nn.Sequential(nn.Linear(latent_dim, 4*4*512),\n",
    "                                   nn.LeakyReLU(0.2, inplace=True))\n",
    "           \n",
    "\n",
    "        self.model = nn.Sequential(nn.ConvTranspose2d(513, 64*8, 4, 2, 1, bias=False),\n",
    "                      nn.BatchNorm2d(64*8, momentum=0.1,  eps=0.8),\n",
    "                      nn.ReLU(True),\n",
    "                      nn.ConvTranspose2d(64*8, 64*4, 4, 2, 1,bias=False),\n",
    "                      nn.BatchNorm2d(64*4, momentum=0.1,  eps=0.8),\n",
    "                      nn.ReLU(True), \n",
    "                      nn.ConvTranspose2d(64*4, 64*2, 4, 2, 1,bias=False),\n",
    "                      nn.BatchNorm2d(64*2, momentum=0.1,  eps=0.8),\n",
    "                      nn.ReLU(True), \n",
    "                      nn.ConvTranspose2d(64*2, 64*1, 4, 2, 1,bias=False),\n",
    "                      nn.BatchNorm2d(64*1, momentum=0.1,  eps=0.8),\n",
    "                      nn.ReLU(True), \n",
    "                      nn.ConvTranspose2d(64*1, 3, 4, 2, 1, bias=False),\n",
    "                      nn.Tanh())\n",
    "\n",
    "    def forward(self, inputs):\n",
    "        noise_vector, label = inputs\n",
    "        label_output = self.label_conditioned_generator(label)\n",
    "        label_output = label_output.view(-1, 1, 4, 4)\n",
    "        latent_output = self.latent(noise_vector)\n",
    "        latent_output = latent_output.view(-1, 512,4,4)\n",
    "        concat = torch.cat((latent_output, label_output), dim=1)\n",
    "        image = self.model(concat)\n",
    "        #print(image.size())\n",
    "        return image"
   ]
  },
  {
   "cell_type": "code",
   "execution_count": 133,
   "id": "b3bf3242",
   "metadata": {},
   "outputs": [],
   "source": [
    "class Discriminator(nn.Module):\n",
    "    def __init__(self):\n",
    "        super(Discriminator, self).__init__()\n",
    "        \n",
    "    \n",
    "        self.label_condition_disc = nn.Sequential(nn.Embedding(n_classes, embedding_dim),\n",
    "                      nn.Linear(embedding_dim, 3*128*128))\n",
    "             \n",
    "        self.model = nn.Sequential(nn.Conv2d(6, 64, 4, 2, 1, bias=False),\n",
    "                      nn.LeakyReLU(0.2, inplace=True),\n",
    "                      nn.Conv2d(64, 64*2, 4, 3, 2, bias=False),\n",
    "                      nn.BatchNorm2d(64*2, momentum=0.1,  eps=0.8),\n",
    "                      nn.LeakyReLU(0.2, inplace=True),\n",
    "                      nn.Conv2d(64*2, 64*4, 4, 3,2, bias=False),\n",
    "                      nn.BatchNorm2d(64*4, momentum=0.1,  eps=0.8),\n",
    "                      nn.LeakyReLU(0.2, inplace=True),\n",
    "                      nn.Conv2d(64*4, 64*8, 4, 3, 2, bias=False),\n",
    "                      nn.BatchNorm2d(64*8, momentum=0.1,  eps=0.8),\n",
    "                      nn.LeakyReLU(0.2, inplace=True), \n",
    "                      nn.Flatten(),\n",
    "                      nn.Dropout(0.4),\n",
    "                      nn.Linear(4608, 1),\n",
    "                      nn.Sigmoid()\n",
    "                     )\n",
    "\n",
    "    def forward(self, inputs):\n",
    "        img, label = inputs\n",
    "        label_output = self.label_condition_disc(label)\n",
    "        label_output = label_output.view(-1, 3, 128, 128)\n",
    "        concat = torch.cat((img, label_output), dim=1)\n",
    "        #print(concat.size())\n",
    "        output = self.model(concat)\n",
    "        return output"
   ]
  },
  {
   "cell_type": "code",
   "execution_count": 134,
   "id": "4d6b3fbb",
   "metadata": {},
   "outputs": [
    {
     "name": "stdout",
     "output_type": "stream",
     "text": [
      "1.10.0a0+3fd9dcf\n",
      "Number of GPUs = 4\n"
     ]
    }
   ],
   "source": [
    "print(torch.__version__)\n",
    "print(\"Number of GPUs =\", torch.cuda.device_count())"
   ]
  },
  {
   "cell_type": "code",
   "execution_count": 135,
   "id": "cebbc3c6",
   "metadata": {},
   "outputs": [],
   "source": [
    "device = torch.device(\"cuda\")"
   ]
  },
  {
   "cell_type": "code",
   "execution_count": 136,
   "id": "b24a75c8",
   "metadata": {},
   "outputs": [],
   "source": [
    "# custom weights initialization called on gen and disc model\n",
    "def weights_init(m):\n",
    "    classname = m.__class__.__name__\n",
    "    if classname.find('Conv') != -1:\n",
    "        torch.nn.init.normal_(m.weight, 0.0, 0.02)\n",
    "    elif classname.find('BatchNorm') != -1:\n",
    "        torch.nn.init.normal_(m.weight, 1.0, 0.02)\n",
    "        torch.nn.init.zeros_(m.bias)"
   ]
  },
  {
   "cell_type": "code",
   "execution_count": 137,
   "id": "d4b7b7f8",
   "metadata": {},
   "outputs": [],
   "source": [
    "adversarial_loss = nn.BCELoss()\n",
    "def generator_loss(fake_output, label):\n",
    "    gen_loss = adversarial_loss(fake_output, label)\n",
    "    #print(gen_loss)\n",
    "    return gen_loss"
   ]
  },
  {
   "cell_type": "code",
   "execution_count": 138,
   "id": "3db66131",
   "metadata": {},
   "outputs": [],
   "source": [
    "def discriminator_loss(output, label):\n",
    "    disc_loss = adversarial_loss(output, label)\n",
    "    return disc_loss"
   ]
  },
  {
   "cell_type": "code",
   "execution_count": 139,
   "id": "0ee17370",
   "metadata": {},
   "outputs": [
    {
     "data": {
      "text/plain": [
       "Discriminator(\n",
       "  (label_condition_disc): Sequential(\n",
       "    (0): Embedding(3, 100)\n",
       "    (1): Linear(in_features=100, out_features=49152, bias=True)\n",
       "  )\n",
       "  (model): Sequential(\n",
       "    (0): Conv2d(6, 64, kernel_size=(4, 4), stride=(2, 2), padding=(1, 1), bias=False)\n",
       "    (1): LeakyReLU(negative_slope=0.2, inplace=True)\n",
       "    (2): Conv2d(64, 128, kernel_size=(4, 4), stride=(3, 3), padding=(2, 2), bias=False)\n",
       "    (3): BatchNorm2d(128, eps=0.8, momentum=0.1, affine=True, track_running_stats=True)\n",
       "    (4): LeakyReLU(negative_slope=0.2, inplace=True)\n",
       "    (5): Conv2d(128, 256, kernel_size=(4, 4), stride=(3, 3), padding=(2, 2), bias=False)\n",
       "    (6): BatchNorm2d(256, eps=0.8, momentum=0.1, affine=True, track_running_stats=True)\n",
       "    (7): LeakyReLU(negative_slope=0.2, inplace=True)\n",
       "    (8): Conv2d(256, 512, kernel_size=(4, 4), stride=(3, 3), padding=(2, 2), bias=False)\n",
       "    (9): BatchNorm2d(512, eps=0.8, momentum=0.1, affine=True, track_running_stats=True)\n",
       "    (10): LeakyReLU(negative_slope=0.2, inplace=True)\n",
       "    (11): Flatten(start_dim=1, end_dim=-1)\n",
       "    (12): Dropout(p=0.4, inplace=False)\n",
       "    (13): Linear(in_features=4608, out_features=1, bias=True)\n",
       "    (14): Sigmoid()\n",
       "  )\n",
       ")"
      ]
     },
     "execution_count": 139,
     "metadata": {},
     "output_type": "execute_result"
    }
   ],
   "source": [
    "generator = Generator().to(device)\n",
    "generator.apply(weights_init)\n",
    "discriminator = Discriminator().to(device)\n",
    "discriminator.apply(weights_init)"
   ]
  },
  {
   "cell_type": "code",
   "execution_count": 140,
   "id": "cd04ed30",
   "metadata": {},
   "outputs": [],
   "source": [
    "learning_rate = 0.0002 \n",
    "G_optimizer = optim.Adam(generator.parameters(), lr = learning_rate, betas=(0.5, 0.999))\n",
    "D_optimizer = optim.Adam(discriminator.parameters(), lr = learning_rate, betas=(0.5, 0.999))"
   ]
  },
  {
   "cell_type": "code",
   "execution_count": 141,
   "id": "0a87403a",
   "metadata": {},
   "outputs": [],
   "source": [
    "generator = torch.nn.parallel.DataParallel(generator, device_ids=[0,1,2,3]).cuda()\n",
    "discriminator = torch.nn.parallel.DataParallel(discriminator, device_ids=[0,1,2,3]).cuda()"
   ]
  },
  {
   "cell_type": "code",
   "execution_count": 143,
   "id": "339162e5",
   "metadata": {},
   "outputs": [],
   "source": [
    "torch.cuda.empty_cache()"
   ]
  },
  {
   "cell_type": "code",
   "execution_count": 145,
   "id": "56d11d98",
   "metadata": {},
   "outputs": [
    {
     "data": {
      "text/plain": [
       "'|===========================================================================|\\n|                  PyTorch CUDA memory summary, device ID 0                 |\\n|---------------------------------------------------------------------------|\\n|            CUDA OOMs: 8            |        cudaMalloc retries: 8         |\\n|===========================================================================|\\n|        Metric         | Cur Usage  | Peak Usage | Tot Alloc  | Tot Freed  |\\n|---------------------------------------------------------------------------|\\n| Allocated memory      |  683304 KB |  785704 KB |    1813 MB |    1146 MB |\\n|       from large pool |  675328 KB |  777728 KB |    1798 MB |    1138 MB |\\n|       from small pool |    7976 KB |    9000 KB |      15 MB |       7 MB |\\n|---------------------------------------------------------------------------|\\n| Active memory         |  683304 KB |  785704 KB |    1813 MB |    1146 MB |\\n|       from large pool |  675328 KB |  777728 KB |    1798 MB |    1138 MB |\\n|       from small pool |    7976 KB |    9000 KB |      15 MB |       7 MB |\\n|---------------------------------------------------------------------------|\\n| GPU reserved memory   |     890 MB |     890 MB |    1132 MB |  247808 KB |\\n|       from large pool |     880 MB |     880 MB |    1120 MB |  245760 KB |\\n|       from small pool |      10 MB |      10 MB |      12 MB |    2048 KB |\\n|---------------------------------------------------------------------------|\\n| Non-releasable memory |  125656 KB |  130648 KB |     788 MB |  681967 KB |\\n|       from large pool |  123392 KB |  128384 KB |     773 MB |  668936 KB |\\n|       from small pool |    2264 KB |    3027 KB |      14 MB |   13030 KB |\\n|---------------------------------------------------------------------------|\\n| Allocations           |     209    |     223    |     461    |     252    |\\n|       from large pool |      32    |      36    |      89    |      57    |\\n|       from small pool |     177    |     189    |     372    |     195    |\\n|---------------------------------------------------------------------------|\\n| Active allocs         |     209    |     223    |     461    |     252    |\\n|       from large pool |      32    |      36    |      89    |      57    |\\n|       from small pool |     177    |     189    |     372    |     195    |\\n|---------------------------------------------------------------------------|\\n| GPU reserved segments |      14    |      14    |      19    |       5    |\\n|       from large pool |       9    |       9    |      13    |       4    |\\n|       from small pool |       5    |       5    |       6    |       1    |\\n|---------------------------------------------------------------------------|\\n| Non-releasable allocs |      24    |      26    |     142    |     118    |\\n|       from large pool |       8    |      12    |      39    |      31    |\\n|       from small pool |      16    |      16    |     103    |      87    |\\n|---------------------------------------------------------------------------|\\n| Oversize allocations  |       0    |       0    |       0    |       0    |\\n|---------------------------------------------------------------------------|\\n| Oversize GPU segments |       0    |       0    |       0    |       0    |\\n|===========================================================================|\\n'"
      ]
     },
     "execution_count": 145,
     "metadata": {},
     "output_type": "execute_result"
    }
   ],
   "source": [
    "torch.cuda.memory_summary(device=None, abbreviated=False)"
   ]
  },
  {
   "cell_type": "code",
   "execution_count": 150,
   "id": "feac112b",
   "metadata": {},
   "outputs": [
    {
     "ename": "RuntimeError",
     "evalue": "Caught RuntimeError in replica 0 on device 0.\nOriginal Traceback (most recent call last):\n  File \"/opt/conda/lib/python3.8/site-packages/torch/nn/parallel/parallel_apply.py\", line 61, in _worker\n    output = module(*input, **kwargs)\n  File \"/opt/conda/lib/python3.8/site-packages/torch/nn/modules/module.py\", line 1056, in _call_impl\n    return forward_call(*input, **kwargs)\n  File \"/tmp/ipykernel_901/3205519459.py\", line 28, in forward\n    label_output = self.label_condition_disc(label)\n  File \"/opt/conda/lib/python3.8/site-packages/torch/nn/modules/module.py\", line 1056, in _call_impl\n    return forward_call(*input, **kwargs)\n  File \"/opt/conda/lib/python3.8/site-packages/torch/nn/modules/container.py\", line 139, in forward\n    input = module(input)\n  File \"/opt/conda/lib/python3.8/site-packages/torch/nn/modules/module.py\", line 1056, in _call_impl\n    return forward_call(*input, **kwargs)\n  File \"/opt/conda/lib/python3.8/site-packages/torch/nn/modules/linear.py\", line 99, in forward\n    return F.linear(input, self.weight, self.bias)\n  File \"/opt/conda/lib/python3.8/site-packages/torch/nn/functional.py\", line 1850, in linear\n    return torch._C._nn.linear(input, weight, bias)\nRuntimeError: CUDA out of memory. Tried to allocate 48.00 GiB (GPU 0; 14.76 GiB total capacity; 776.29 MiB already allocated; 13.18 GiB free; 892.00 MiB reserved in total by PyTorch) If reserved memory is >> allocated memory try setting max_split_size_mb to avoid fragmentation.  See documentation for Memory Management and PYTORCH_CUDA_ALLOC_CONF\n",
     "output_type": "error",
     "traceback": [
      "\u001b[0;31m---------------------------------------------------------------------------\u001b[0m",
      "\u001b[0;31mRuntimeError\u001b[0m                              Traceback (most recent call last)",
      "\u001b[0;32m/tmp/ipykernel_901/1014163211.py\u001b[0m in \u001b[0;36m<module>\u001b[0;34m\u001b[0m\n\u001b[1;32m     16\u001b[0m         \u001b[0mreal_target\u001b[0m \u001b[0;34m=\u001b[0m \u001b[0mVariable\u001b[0m\u001b[0;34m(\u001b[0m\u001b[0mtorch\u001b[0m\u001b[0;34m.\u001b[0m\u001b[0mones\u001b[0m\u001b[0;34m(\u001b[0m\u001b[0mreal_images\u001b[0m\u001b[0;34m.\u001b[0m\u001b[0msize\u001b[0m\u001b[0;34m(\u001b[0m\u001b[0;36m0\u001b[0m\u001b[0;34m)\u001b[0m\u001b[0;34m,\u001b[0m \u001b[0;36m1\u001b[0m\u001b[0;34m)\u001b[0m\u001b[0;34m.\u001b[0m\u001b[0mto\u001b[0m\u001b[0;34m(\u001b[0m\u001b[0mdevice\u001b[0m\u001b[0;34m)\u001b[0m\u001b[0;34m)\u001b[0m\u001b[0;34m\u001b[0m\u001b[0;34m\u001b[0m\u001b[0m\n\u001b[1;32m     17\u001b[0m         \u001b[0mfake_target\u001b[0m \u001b[0;34m=\u001b[0m \u001b[0mVariable\u001b[0m\u001b[0;34m(\u001b[0m\u001b[0mtorch\u001b[0m\u001b[0;34m.\u001b[0m\u001b[0mzeros\u001b[0m\u001b[0;34m(\u001b[0m\u001b[0mreal_images\u001b[0m\u001b[0;34m.\u001b[0m\u001b[0msize\u001b[0m\u001b[0;34m(\u001b[0m\u001b[0;36m0\u001b[0m\u001b[0;34m)\u001b[0m\u001b[0;34m,\u001b[0m \u001b[0;36m1\u001b[0m\u001b[0;34m)\u001b[0m\u001b[0;34m.\u001b[0m\u001b[0mto\u001b[0m\u001b[0;34m(\u001b[0m\u001b[0mdevice\u001b[0m\u001b[0;34m)\u001b[0m\u001b[0;34m)\u001b[0m\u001b[0;34m\u001b[0m\u001b[0;34m\u001b[0m\u001b[0m\n\u001b[0;32m---> 18\u001b[0;31m         \u001b[0mloss\u001b[0m \u001b[0;34m=\u001b[0m \u001b[0mdiscriminator\u001b[0m\u001b[0;34m(\u001b[0m\u001b[0;34m(\u001b[0m\u001b[0mreal_images\u001b[0m\u001b[0;34m,\u001b[0m \u001b[0mlabels\u001b[0m\u001b[0;34m)\u001b[0m\u001b[0;34m)\u001b[0m\u001b[0;34m\u001b[0m\u001b[0;34m\u001b[0m\u001b[0m\n\u001b[0m\u001b[1;32m     19\u001b[0m \u001b[0;31m#         D_real_loss = discriminator_loss(loss, real_target)\u001b[0m\u001b[0;34m\u001b[0m\u001b[0;34m\u001b[0m\u001b[0;34m\u001b[0m\u001b[0m\n\u001b[1;32m     20\u001b[0m \u001b[0;31m#         # print(discriminator(real_images))\u001b[0m\u001b[0;34m\u001b[0m\u001b[0;34m\u001b[0m\u001b[0;34m\u001b[0m\u001b[0m\n",
      "\u001b[0;32m/opt/conda/lib/python3.8/site-packages/torch/nn/modules/module.py\u001b[0m in \u001b[0;36m_call_impl\u001b[0;34m(self, *input, **kwargs)\u001b[0m\n\u001b[1;32m   1054\u001b[0m         if not (self._backward_hooks or self._forward_hooks or self._forward_pre_hooks or _global_backward_hooks\n\u001b[1;32m   1055\u001b[0m                 or _global_forward_hooks or _global_forward_pre_hooks):\n\u001b[0;32m-> 1056\u001b[0;31m             \u001b[0;32mreturn\u001b[0m \u001b[0mforward_call\u001b[0m\u001b[0;34m(\u001b[0m\u001b[0;34m*\u001b[0m\u001b[0minput\u001b[0m\u001b[0;34m,\u001b[0m \u001b[0;34m**\u001b[0m\u001b[0mkwargs\u001b[0m\u001b[0;34m)\u001b[0m\u001b[0;34m\u001b[0m\u001b[0;34m\u001b[0m\u001b[0m\n\u001b[0m\u001b[1;32m   1057\u001b[0m         \u001b[0;31m# Do not call functions when jit is used\u001b[0m\u001b[0;34m\u001b[0m\u001b[0;34m\u001b[0m\u001b[0;34m\u001b[0m\u001b[0m\n\u001b[1;32m   1058\u001b[0m         \u001b[0mfull_backward_hooks\u001b[0m\u001b[0;34m,\u001b[0m \u001b[0mnon_full_backward_hooks\u001b[0m \u001b[0;34m=\u001b[0m \u001b[0;34m[\u001b[0m\u001b[0;34m]\u001b[0m\u001b[0;34m,\u001b[0m \u001b[0;34m[\u001b[0m\u001b[0;34m]\u001b[0m\u001b[0;34m\u001b[0m\u001b[0;34m\u001b[0m\u001b[0m\n",
      "\u001b[0;32m/opt/conda/lib/python3.8/site-packages/torch/nn/parallel/data_parallel.py\u001b[0m in \u001b[0;36mforward\u001b[0;34m(self, *inputs, **kwargs)\u001b[0m\n\u001b[1;32m    166\u001b[0m                 \u001b[0;32mreturn\u001b[0m \u001b[0mself\u001b[0m\u001b[0;34m.\u001b[0m\u001b[0mmodule\u001b[0m\u001b[0;34m(\u001b[0m\u001b[0;34m*\u001b[0m\u001b[0minputs\u001b[0m\u001b[0;34m[\u001b[0m\u001b[0;36m0\u001b[0m\u001b[0;34m]\u001b[0m\u001b[0;34m,\u001b[0m \u001b[0;34m**\u001b[0m\u001b[0mkwargs\u001b[0m\u001b[0;34m[\u001b[0m\u001b[0;36m0\u001b[0m\u001b[0;34m]\u001b[0m\u001b[0;34m)\u001b[0m\u001b[0;34m\u001b[0m\u001b[0;34m\u001b[0m\u001b[0m\n\u001b[1;32m    167\u001b[0m             \u001b[0mreplicas\u001b[0m \u001b[0;34m=\u001b[0m \u001b[0mself\u001b[0m\u001b[0;34m.\u001b[0m\u001b[0mreplicate\u001b[0m\u001b[0;34m(\u001b[0m\u001b[0mself\u001b[0m\u001b[0;34m.\u001b[0m\u001b[0mmodule\u001b[0m\u001b[0;34m,\u001b[0m \u001b[0mself\u001b[0m\u001b[0;34m.\u001b[0m\u001b[0mdevice_ids\u001b[0m\u001b[0;34m[\u001b[0m\u001b[0;34m:\u001b[0m\u001b[0mlen\u001b[0m\u001b[0;34m(\u001b[0m\u001b[0minputs\u001b[0m\u001b[0;34m)\u001b[0m\u001b[0;34m]\u001b[0m\u001b[0;34m)\u001b[0m\u001b[0;34m\u001b[0m\u001b[0;34m\u001b[0m\u001b[0m\n\u001b[0;32m--> 168\u001b[0;31m             \u001b[0moutputs\u001b[0m \u001b[0;34m=\u001b[0m \u001b[0mself\u001b[0m\u001b[0;34m.\u001b[0m\u001b[0mparallel_apply\u001b[0m\u001b[0;34m(\u001b[0m\u001b[0mreplicas\u001b[0m\u001b[0;34m,\u001b[0m \u001b[0minputs\u001b[0m\u001b[0;34m,\u001b[0m \u001b[0mkwargs\u001b[0m\u001b[0;34m)\u001b[0m\u001b[0;34m\u001b[0m\u001b[0;34m\u001b[0m\u001b[0m\n\u001b[0m\u001b[1;32m    169\u001b[0m             \u001b[0;32mreturn\u001b[0m \u001b[0mself\u001b[0m\u001b[0;34m.\u001b[0m\u001b[0mgather\u001b[0m\u001b[0;34m(\u001b[0m\u001b[0moutputs\u001b[0m\u001b[0;34m,\u001b[0m \u001b[0mself\u001b[0m\u001b[0;34m.\u001b[0m\u001b[0moutput_device\u001b[0m\u001b[0;34m)\u001b[0m\u001b[0;34m\u001b[0m\u001b[0;34m\u001b[0m\u001b[0m\n\u001b[1;32m    170\u001b[0m \u001b[0;34m\u001b[0m\u001b[0m\n",
      "\u001b[0;32m/opt/conda/lib/python3.8/site-packages/torch/nn/parallel/data_parallel.py\u001b[0m in \u001b[0;36mparallel_apply\u001b[0;34m(self, replicas, inputs, kwargs)\u001b[0m\n\u001b[1;32m    176\u001b[0m \u001b[0;34m\u001b[0m\u001b[0m\n\u001b[1;32m    177\u001b[0m     \u001b[0;32mdef\u001b[0m \u001b[0mparallel_apply\u001b[0m\u001b[0;34m(\u001b[0m\u001b[0mself\u001b[0m\u001b[0;34m,\u001b[0m \u001b[0mreplicas\u001b[0m\u001b[0;34m,\u001b[0m \u001b[0minputs\u001b[0m\u001b[0;34m,\u001b[0m \u001b[0mkwargs\u001b[0m\u001b[0;34m)\u001b[0m\u001b[0;34m:\u001b[0m\u001b[0;34m\u001b[0m\u001b[0;34m\u001b[0m\u001b[0m\n\u001b[0;32m--> 178\u001b[0;31m         \u001b[0;32mreturn\u001b[0m \u001b[0mparallel_apply\u001b[0m\u001b[0;34m(\u001b[0m\u001b[0mreplicas\u001b[0m\u001b[0;34m,\u001b[0m \u001b[0minputs\u001b[0m\u001b[0;34m,\u001b[0m \u001b[0mkwargs\u001b[0m\u001b[0;34m,\u001b[0m \u001b[0mself\u001b[0m\u001b[0;34m.\u001b[0m\u001b[0mdevice_ids\u001b[0m\u001b[0;34m[\u001b[0m\u001b[0;34m:\u001b[0m\u001b[0mlen\u001b[0m\u001b[0;34m(\u001b[0m\u001b[0mreplicas\u001b[0m\u001b[0;34m)\u001b[0m\u001b[0;34m]\u001b[0m\u001b[0;34m)\u001b[0m\u001b[0;34m\u001b[0m\u001b[0;34m\u001b[0m\u001b[0m\n\u001b[0m\u001b[1;32m    179\u001b[0m \u001b[0;34m\u001b[0m\u001b[0m\n\u001b[1;32m    180\u001b[0m     \u001b[0;32mdef\u001b[0m \u001b[0mgather\u001b[0m\u001b[0;34m(\u001b[0m\u001b[0mself\u001b[0m\u001b[0;34m,\u001b[0m \u001b[0moutputs\u001b[0m\u001b[0;34m,\u001b[0m \u001b[0moutput_device\u001b[0m\u001b[0;34m)\u001b[0m\u001b[0;34m:\u001b[0m\u001b[0;34m\u001b[0m\u001b[0;34m\u001b[0m\u001b[0m\n",
      "\u001b[0;32m/opt/conda/lib/python3.8/site-packages/torch/nn/parallel/parallel_apply.py\u001b[0m in \u001b[0;36mparallel_apply\u001b[0;34m(modules, inputs, kwargs_tup, devices)\u001b[0m\n\u001b[1;32m     84\u001b[0m         \u001b[0moutput\u001b[0m \u001b[0;34m=\u001b[0m \u001b[0mresults\u001b[0m\u001b[0;34m[\u001b[0m\u001b[0mi\u001b[0m\u001b[0;34m]\u001b[0m\u001b[0;34m\u001b[0m\u001b[0;34m\u001b[0m\u001b[0m\n\u001b[1;32m     85\u001b[0m         \u001b[0;32mif\u001b[0m \u001b[0misinstance\u001b[0m\u001b[0;34m(\u001b[0m\u001b[0moutput\u001b[0m\u001b[0;34m,\u001b[0m \u001b[0mExceptionWrapper\u001b[0m\u001b[0;34m)\u001b[0m\u001b[0;34m:\u001b[0m\u001b[0;34m\u001b[0m\u001b[0;34m\u001b[0m\u001b[0m\n\u001b[0;32m---> 86\u001b[0;31m             \u001b[0moutput\u001b[0m\u001b[0;34m.\u001b[0m\u001b[0mreraise\u001b[0m\u001b[0;34m(\u001b[0m\u001b[0;34m)\u001b[0m\u001b[0;34m\u001b[0m\u001b[0;34m\u001b[0m\u001b[0m\n\u001b[0m\u001b[1;32m     87\u001b[0m         \u001b[0moutputs\u001b[0m\u001b[0;34m.\u001b[0m\u001b[0mappend\u001b[0m\u001b[0;34m(\u001b[0m\u001b[0moutput\u001b[0m\u001b[0;34m)\u001b[0m\u001b[0;34m\u001b[0m\u001b[0;34m\u001b[0m\u001b[0m\n\u001b[1;32m     88\u001b[0m     \u001b[0;32mreturn\u001b[0m \u001b[0moutputs\u001b[0m\u001b[0;34m\u001b[0m\u001b[0;34m\u001b[0m\u001b[0m\n",
      "\u001b[0;32m/opt/conda/lib/python3.8/site-packages/torch/_utils.py\u001b[0m in \u001b[0;36mreraise\u001b[0;34m(self)\u001b[0m\n\u001b[1;32m    429\u001b[0m             \u001b[0;31m# instantiate since we don't know how to\u001b[0m\u001b[0;34m\u001b[0m\u001b[0;34m\u001b[0m\u001b[0;34m\u001b[0m\u001b[0m\n\u001b[1;32m    430\u001b[0m             \u001b[0;32mraise\u001b[0m \u001b[0mRuntimeError\u001b[0m\u001b[0;34m(\u001b[0m\u001b[0mmsg\u001b[0m\u001b[0;34m)\u001b[0m \u001b[0;32mfrom\u001b[0m \u001b[0;32mNone\u001b[0m\u001b[0;34m\u001b[0m\u001b[0;34m\u001b[0m\u001b[0m\n\u001b[0;32m--> 431\u001b[0;31m         \u001b[0;32mraise\u001b[0m \u001b[0mexception\u001b[0m\u001b[0;34m\u001b[0m\u001b[0;34m\u001b[0m\u001b[0m\n\u001b[0m\u001b[1;32m    432\u001b[0m \u001b[0;34m\u001b[0m\u001b[0m\n\u001b[1;32m    433\u001b[0m \u001b[0;34m\u001b[0m\u001b[0m\n",
      "\u001b[0;31mRuntimeError\u001b[0m: Caught RuntimeError in replica 0 on device 0.\nOriginal Traceback (most recent call last):\n  File \"/opt/conda/lib/python3.8/site-packages/torch/nn/parallel/parallel_apply.py\", line 61, in _worker\n    output = module(*input, **kwargs)\n  File \"/opt/conda/lib/python3.8/site-packages/torch/nn/modules/module.py\", line 1056, in _call_impl\n    return forward_call(*input, **kwargs)\n  File \"/tmp/ipykernel_901/3205519459.py\", line 28, in forward\n    label_output = self.label_condition_disc(label)\n  File \"/opt/conda/lib/python3.8/site-packages/torch/nn/modules/module.py\", line 1056, in _call_impl\n    return forward_call(*input, **kwargs)\n  File \"/opt/conda/lib/python3.8/site-packages/torch/nn/modules/container.py\", line 139, in forward\n    input = module(input)\n  File \"/opt/conda/lib/python3.8/site-packages/torch/nn/modules/module.py\", line 1056, in _call_impl\n    return forward_call(*input, **kwargs)\n  File \"/opt/conda/lib/python3.8/site-packages/torch/nn/modules/linear.py\", line 99, in forward\n    return F.linear(input, self.weight, self.bias)\n  File \"/opt/conda/lib/python3.8/site-packages/torch/nn/functional.py\", line 1850, in linear\n    return torch._C._nn.linear(input, weight, bias)\nRuntimeError: CUDA out of memory. Tried to allocate 48.00 GiB (GPU 0; 14.76 GiB total capacity; 776.29 MiB already allocated; 13.18 GiB free; 892.00 MiB reserved in total by PyTorch) If reserved memory is >> allocated memory try setting max_split_size_mb to avoid fragmentation.  See documentation for Memory Management and PYTORCH_CUDA_ALLOC_CONF\n"
     ]
    }
   ],
   "source": [
    "num_epochs = 20\n",
    "train_loss = []\n",
    "val_loss   = []\n",
    "for epoch in range(1, num_epochs+1): \n",
    "\n",
    "    D_loss_list, G_loss_list = [], []\n",
    "    running_d_loss = 0.0\n",
    "    running_g_loss = 0.0\n",
    "    for index, (real_images, labels) in enumerate(train_loader):\n",
    "        D_optimizer.zero_grad()\n",
    "        real_images = real_images.to(device)\n",
    "        labels = labels.to(device)\n",
    "        labels = labels.unsqueeze(1).long()\n",
    "\n",
    "      \n",
    "        real_target = Variable(torch.ones(real_images.size(0), 1).to(device))\n",
    "        fake_target = Variable(torch.zeros(real_images.size(0), 1).to(device))\n",
    "      \n",
    "        D_real_loss = discriminator_loss(discriminator((real_images, labels)), real_target)\n",
    "        # print(discriminator(real_images))\n",
    "        #D_real_loss.backward()\n",
    "    \n",
    "        noise_vector = torch.randn(real_images.size(0), latent_dim, device=device)  \n",
    "        noise_vector = noise_vector.to(device)\n",
    "        \n",
    "       \n",
    "        generated_image = generator((noise_vector, labels))\n",
    "        output = discriminator((generated_image.detach(), labels))\n",
    "        D_fake_loss = discriminator_loss(output,  fake_target)\n",
    "\n",
    "    \n",
    "        # train with fake\n",
    "        #D_fake_loss.backward()\n",
    "        D_total_loss = (D_real_loss + D_fake_loss) / 2\n",
    "        D_loss_list.append(D_total_loss)\n",
    "        \n",
    "      \n",
    "        D_total_loss.backward()\n",
    "        D_optimizer.step()\n",
    "        running_d_loss += D_total_loss.item()\n",
    "        # Train generator with real labels\n",
    "        G_optimizer.zero_grad()\n",
    "        G_loss = generator_loss(discriminator((generated_image, labels)), real_target)\n",
    "        G_loss_list.append(G_loss)\n",
    "\n",
    "        G_loss.backward()\n",
    "        G_optimizer.step()\n",
    "        running_g_loss += G_loss.item()\n",
    "    running_d_loss /= index+1\n",
    "    running_g_loss /= index+1\n",
    "    print(f\"Epoch {epoch} trained with discriminator loss: {running_d_loss} and generator loss: {running_g_loss}\")"
   ]
  },
  {
   "cell_type": "code",
   "execution_count": null,
   "id": "9f8de37e",
   "metadata": {},
   "outputs": [],
   "source": [
    "real_images.shape"
   ]
  },
  {
   "cell_type": "code",
   "execution_count": 147,
   "id": "562bdd7c",
   "metadata": {},
   "outputs": [
    {
     "ename": "NameError",
     "evalue": "name 'noise_vector' is not defined",
     "output_type": "error",
     "traceback": [
      "\u001b[0;31m---------------------------------------------------------------------------\u001b[0m",
      "\u001b[0;31mNameError\u001b[0m                                 Traceback (most recent call last)",
      "\u001b[0;32m/tmp/ipykernel_901/2501189920.py\u001b[0m in \u001b[0;36m<module>\u001b[0;34m\u001b[0m\n\u001b[0;32m----> 1\u001b[0;31m \u001b[0mnoise_vector\u001b[0m\u001b[0;34m.\u001b[0m\u001b[0mshape\u001b[0m\u001b[0;34m\u001b[0m\u001b[0;34m\u001b[0m\u001b[0m\n\u001b[0m",
      "\u001b[0;31mNameError\u001b[0m: name 'noise_vector' is not defined"
     ]
    }
   ],
   "source": [
    "noise_vector.shape"
   ]
  },
  {
   "cell_type": "code",
   "execution_count": 107,
   "id": "a43ef386",
   "metadata": {},
   "outputs": [
    {
     "data": {
      "text/plain": [
       "tensor([0, 1, 1, 1, 1, 1, 1, 2, 2, 0, 0, 1, 2, 0, 0, 1, 2, 1, 0, 1, 2, 1, 2, 0,\n",
       "        2, 0, 2, 1, 1, 0, 2, 0, 0, 1, 2, 2, 1, 2, 2, 0, 1, 0, 0, 2, 1, 1, 1, 1,\n",
       "        0, 2, 0, 0, 2, 0, 0, 0, 1, 1, 1, 0, 0, 0, 0, 2, 2, 0, 1, 0, 0, 1, 0, 0,\n",
       "        2, 0, 0, 0, 1, 1, 2, 0, 0, 2, 1, 0, 0, 2, 1, 1, 1, 0, 1, 0, 1, 2, 0, 0,\n",
       "        0, 2, 0, 1, 2, 2, 2, 1, 1, 1, 2, 1, 1, 0, 0, 0, 1, 0, 2, 0, 0, 2, 0, 2,\n",
       "        1, 0, 0, 2, 2, 2, 0, 0])"
      ]
     },
     "execution_count": 107,
     "metadata": {},
     "output_type": "execute_result"
    }
   ],
   "source": [
    "labels"
   ]
  },
  {
   "cell_type": "code",
   "execution_count": 100,
   "id": "8c23fa26",
   "metadata": {},
   "outputs": [
    {
     "ename": "RuntimeError",
     "evalue": "Expected all tensors to be on the same device, but found at least two devices, cuda:0 and cpu! (when checking argument for argument index in method wrapper__index_select)",
     "output_type": "error",
     "traceback": [
      "\u001b[0;31m---------------------------------------------------------------------------\u001b[0m",
      "\u001b[0;31mRuntimeError\u001b[0m                              Traceback (most recent call last)",
      "\u001b[0;32m/tmp/ipykernel_743/1450086215.py\u001b[0m in \u001b[0;36m<module>\u001b[0;34m\u001b[0m\n\u001b[1;32m      3\u001b[0m \u001b[0;34m\u001b[0m\u001b[0m\n\u001b[1;32m      4\u001b[0m \u001b[0;34m\u001b[0m\u001b[0m\n\u001b[0;32m----> 5\u001b[0;31m \u001b[0mgenerated_image\u001b[0m \u001b[0;34m=\u001b[0m \u001b[0mgenerator\u001b[0m\u001b[0;34m(\u001b[0m\u001b[0;34m(\u001b[0m\u001b[0mnoise_vector\u001b[0m\u001b[0;34m,\u001b[0m \u001b[0mlabels\u001b[0m\u001b[0;34m)\u001b[0m\u001b[0;34m)\u001b[0m\u001b[0;34m\u001b[0m\u001b[0;34m\u001b[0m\u001b[0m\n\u001b[0m",
      "\u001b[0;32m/opt/conda/lib/python3.8/site-packages/torch/nn/modules/module.py\u001b[0m in \u001b[0;36m_call_impl\u001b[0;34m(self, *input, **kwargs)\u001b[0m\n\u001b[1;32m   1054\u001b[0m         if not (self._backward_hooks or self._forward_hooks or self._forward_pre_hooks or _global_backward_hooks\n\u001b[1;32m   1055\u001b[0m                 or _global_forward_hooks or _global_forward_pre_hooks):\n\u001b[0;32m-> 1056\u001b[0;31m             \u001b[0;32mreturn\u001b[0m \u001b[0mforward_call\u001b[0m\u001b[0;34m(\u001b[0m\u001b[0;34m*\u001b[0m\u001b[0minput\u001b[0m\u001b[0;34m,\u001b[0m \u001b[0;34m**\u001b[0m\u001b[0mkwargs\u001b[0m\u001b[0;34m)\u001b[0m\u001b[0;34m\u001b[0m\u001b[0;34m\u001b[0m\u001b[0m\n\u001b[0m\u001b[1;32m   1057\u001b[0m         \u001b[0;31m# Do not call functions when jit is used\u001b[0m\u001b[0;34m\u001b[0m\u001b[0;34m\u001b[0m\u001b[0;34m\u001b[0m\u001b[0m\n\u001b[1;32m   1058\u001b[0m         \u001b[0mfull_backward_hooks\u001b[0m\u001b[0;34m,\u001b[0m \u001b[0mnon_full_backward_hooks\u001b[0m \u001b[0;34m=\u001b[0m \u001b[0;34m[\u001b[0m\u001b[0;34m]\u001b[0m\u001b[0;34m,\u001b[0m \u001b[0;34m[\u001b[0m\u001b[0;34m]\u001b[0m\u001b[0;34m\u001b[0m\u001b[0;34m\u001b[0m\u001b[0m\n",
      "\u001b[0;32m/tmp/ipykernel_743/412645406.py\u001b[0m in \u001b[0;36mforward\u001b[0;34m(self, inputs)\u001b[0m\n\u001b[1;32m     29\u001b[0m     \u001b[0;32mdef\u001b[0m \u001b[0mforward\u001b[0m\u001b[0;34m(\u001b[0m\u001b[0mself\u001b[0m\u001b[0;34m,\u001b[0m \u001b[0minputs\u001b[0m\u001b[0;34m)\u001b[0m\u001b[0;34m:\u001b[0m\u001b[0;34m\u001b[0m\u001b[0;34m\u001b[0m\u001b[0m\n\u001b[1;32m     30\u001b[0m         \u001b[0mnoise_vector\u001b[0m\u001b[0;34m,\u001b[0m \u001b[0mlabel\u001b[0m \u001b[0;34m=\u001b[0m \u001b[0minputs\u001b[0m\u001b[0;34m\u001b[0m\u001b[0;34m\u001b[0m\u001b[0m\n\u001b[0;32m---> 31\u001b[0;31m         \u001b[0mlabel_output\u001b[0m \u001b[0;34m=\u001b[0m \u001b[0mself\u001b[0m\u001b[0;34m.\u001b[0m\u001b[0mlabel_conditioned_generator\u001b[0m\u001b[0;34m(\u001b[0m\u001b[0mlabel\u001b[0m\u001b[0;34m)\u001b[0m\u001b[0;34m\u001b[0m\u001b[0;34m\u001b[0m\u001b[0m\n\u001b[0m\u001b[1;32m     32\u001b[0m         \u001b[0mlabel_output\u001b[0m \u001b[0;34m=\u001b[0m \u001b[0mlabel_output\u001b[0m\u001b[0;34m.\u001b[0m\u001b[0mview\u001b[0m\u001b[0;34m(\u001b[0m\u001b[0;34m-\u001b[0m\u001b[0;36m1\u001b[0m\u001b[0;34m,\u001b[0m \u001b[0;36m1\u001b[0m\u001b[0;34m,\u001b[0m \u001b[0;36m4\u001b[0m\u001b[0;34m,\u001b[0m \u001b[0;36m4\u001b[0m\u001b[0;34m)\u001b[0m\u001b[0;34m\u001b[0m\u001b[0;34m\u001b[0m\u001b[0m\n\u001b[1;32m     33\u001b[0m         \u001b[0mlatent_output\u001b[0m \u001b[0;34m=\u001b[0m \u001b[0mself\u001b[0m\u001b[0;34m.\u001b[0m\u001b[0mlatent\u001b[0m\u001b[0;34m(\u001b[0m\u001b[0mnoise_vector\u001b[0m\u001b[0;34m)\u001b[0m\u001b[0;34m\u001b[0m\u001b[0;34m\u001b[0m\u001b[0m\n",
      "\u001b[0;32m/opt/conda/lib/python3.8/site-packages/torch/nn/modules/module.py\u001b[0m in \u001b[0;36m_call_impl\u001b[0;34m(self, *input, **kwargs)\u001b[0m\n\u001b[1;32m   1054\u001b[0m         if not (self._backward_hooks or self._forward_hooks or self._forward_pre_hooks or _global_backward_hooks\n\u001b[1;32m   1055\u001b[0m                 or _global_forward_hooks or _global_forward_pre_hooks):\n\u001b[0;32m-> 1056\u001b[0;31m             \u001b[0;32mreturn\u001b[0m \u001b[0mforward_call\u001b[0m\u001b[0;34m(\u001b[0m\u001b[0;34m*\u001b[0m\u001b[0minput\u001b[0m\u001b[0;34m,\u001b[0m \u001b[0;34m**\u001b[0m\u001b[0mkwargs\u001b[0m\u001b[0;34m)\u001b[0m\u001b[0;34m\u001b[0m\u001b[0;34m\u001b[0m\u001b[0m\n\u001b[0m\u001b[1;32m   1057\u001b[0m         \u001b[0;31m# Do not call functions when jit is used\u001b[0m\u001b[0;34m\u001b[0m\u001b[0;34m\u001b[0m\u001b[0;34m\u001b[0m\u001b[0m\n\u001b[1;32m   1058\u001b[0m         \u001b[0mfull_backward_hooks\u001b[0m\u001b[0;34m,\u001b[0m \u001b[0mnon_full_backward_hooks\u001b[0m \u001b[0;34m=\u001b[0m \u001b[0;34m[\u001b[0m\u001b[0;34m]\u001b[0m\u001b[0;34m,\u001b[0m \u001b[0;34m[\u001b[0m\u001b[0;34m]\u001b[0m\u001b[0;34m\u001b[0m\u001b[0;34m\u001b[0m\u001b[0m\n",
      "\u001b[0;32m/opt/conda/lib/python3.8/site-packages/torch/nn/modules/container.py\u001b[0m in \u001b[0;36mforward\u001b[0;34m(self, input)\u001b[0m\n\u001b[1;32m    137\u001b[0m     \u001b[0;32mdef\u001b[0m \u001b[0mforward\u001b[0m\u001b[0;34m(\u001b[0m\u001b[0mself\u001b[0m\u001b[0;34m,\u001b[0m \u001b[0minput\u001b[0m\u001b[0;34m)\u001b[0m\u001b[0;34m:\u001b[0m\u001b[0;34m\u001b[0m\u001b[0;34m\u001b[0m\u001b[0m\n\u001b[1;32m    138\u001b[0m         \u001b[0;32mfor\u001b[0m \u001b[0mmodule\u001b[0m \u001b[0;32min\u001b[0m \u001b[0mself\u001b[0m\u001b[0;34m:\u001b[0m\u001b[0;34m\u001b[0m\u001b[0;34m\u001b[0m\u001b[0m\n\u001b[0;32m--> 139\u001b[0;31m             \u001b[0minput\u001b[0m \u001b[0;34m=\u001b[0m \u001b[0mmodule\u001b[0m\u001b[0;34m(\u001b[0m\u001b[0minput\u001b[0m\u001b[0;34m)\u001b[0m\u001b[0;34m\u001b[0m\u001b[0;34m\u001b[0m\u001b[0m\n\u001b[0m\u001b[1;32m    140\u001b[0m         \u001b[0;32mreturn\u001b[0m \u001b[0minput\u001b[0m\u001b[0;34m\u001b[0m\u001b[0;34m\u001b[0m\u001b[0m\n\u001b[1;32m    141\u001b[0m \u001b[0;34m\u001b[0m\u001b[0m\n",
      "\u001b[0;32m/opt/conda/lib/python3.8/site-packages/torch/nn/modules/module.py\u001b[0m in \u001b[0;36m_call_impl\u001b[0;34m(self, *input, **kwargs)\u001b[0m\n\u001b[1;32m   1054\u001b[0m         if not (self._backward_hooks or self._forward_hooks or self._forward_pre_hooks or _global_backward_hooks\n\u001b[1;32m   1055\u001b[0m                 or _global_forward_hooks or _global_forward_pre_hooks):\n\u001b[0;32m-> 1056\u001b[0;31m             \u001b[0;32mreturn\u001b[0m \u001b[0mforward_call\u001b[0m\u001b[0;34m(\u001b[0m\u001b[0;34m*\u001b[0m\u001b[0minput\u001b[0m\u001b[0;34m,\u001b[0m \u001b[0;34m**\u001b[0m\u001b[0mkwargs\u001b[0m\u001b[0;34m)\u001b[0m\u001b[0;34m\u001b[0m\u001b[0;34m\u001b[0m\u001b[0m\n\u001b[0m\u001b[1;32m   1057\u001b[0m         \u001b[0;31m# Do not call functions when jit is used\u001b[0m\u001b[0;34m\u001b[0m\u001b[0;34m\u001b[0m\u001b[0;34m\u001b[0m\u001b[0m\n\u001b[1;32m   1058\u001b[0m         \u001b[0mfull_backward_hooks\u001b[0m\u001b[0;34m,\u001b[0m \u001b[0mnon_full_backward_hooks\u001b[0m \u001b[0;34m=\u001b[0m \u001b[0;34m[\u001b[0m\u001b[0;34m]\u001b[0m\u001b[0;34m,\u001b[0m \u001b[0;34m[\u001b[0m\u001b[0;34m]\u001b[0m\u001b[0;34m\u001b[0m\u001b[0;34m\u001b[0m\u001b[0m\n",
      "\u001b[0;32m/opt/conda/lib/python3.8/site-packages/torch/nn/modules/sparse.py\u001b[0m in \u001b[0;36mforward\u001b[0;34m(self, input)\u001b[0m\n\u001b[1;32m    156\u001b[0m \u001b[0;34m\u001b[0m\u001b[0m\n\u001b[1;32m    157\u001b[0m     \u001b[0;32mdef\u001b[0m \u001b[0mforward\u001b[0m\u001b[0;34m(\u001b[0m\u001b[0mself\u001b[0m\u001b[0;34m,\u001b[0m \u001b[0minput\u001b[0m\u001b[0;34m:\u001b[0m \u001b[0mTensor\u001b[0m\u001b[0;34m)\u001b[0m \u001b[0;34m->\u001b[0m \u001b[0mTensor\u001b[0m\u001b[0;34m:\u001b[0m\u001b[0;34m\u001b[0m\u001b[0;34m\u001b[0m\u001b[0m\n\u001b[0;32m--> 158\u001b[0;31m         return F.embedding(\n\u001b[0m\u001b[1;32m    159\u001b[0m             \u001b[0minput\u001b[0m\u001b[0;34m,\u001b[0m \u001b[0mself\u001b[0m\u001b[0;34m.\u001b[0m\u001b[0mweight\u001b[0m\u001b[0;34m,\u001b[0m \u001b[0mself\u001b[0m\u001b[0;34m.\u001b[0m\u001b[0mpadding_idx\u001b[0m\u001b[0;34m,\u001b[0m \u001b[0mself\u001b[0m\u001b[0;34m.\u001b[0m\u001b[0mmax_norm\u001b[0m\u001b[0;34m,\u001b[0m\u001b[0;34m\u001b[0m\u001b[0;34m\u001b[0m\u001b[0m\n\u001b[1;32m    160\u001b[0m             self.norm_type, self.scale_grad_by_freq, self.sparse)\n",
      "\u001b[0;32m/opt/conda/lib/python3.8/site-packages/torch/nn/functional.py\u001b[0m in \u001b[0;36membedding\u001b[0;34m(input, weight, padding_idx, max_norm, norm_type, scale_grad_by_freq, sparse)\u001b[0m\n\u001b[1;32m   2044\u001b[0m         \u001b[0;31m# remove once script supports set_grad_enabled\u001b[0m\u001b[0;34m\u001b[0m\u001b[0;34m\u001b[0m\u001b[0;34m\u001b[0m\u001b[0m\n\u001b[1;32m   2045\u001b[0m         \u001b[0m_no_grad_embedding_renorm_\u001b[0m\u001b[0;34m(\u001b[0m\u001b[0mweight\u001b[0m\u001b[0;34m,\u001b[0m \u001b[0minput\u001b[0m\u001b[0;34m,\u001b[0m \u001b[0mmax_norm\u001b[0m\u001b[0;34m,\u001b[0m \u001b[0mnorm_type\u001b[0m\u001b[0;34m)\u001b[0m\u001b[0;34m\u001b[0m\u001b[0;34m\u001b[0m\u001b[0m\n\u001b[0;32m-> 2046\u001b[0;31m     \u001b[0;32mreturn\u001b[0m \u001b[0mtorch\u001b[0m\u001b[0;34m.\u001b[0m\u001b[0membedding\u001b[0m\u001b[0;34m(\u001b[0m\u001b[0mweight\u001b[0m\u001b[0;34m,\u001b[0m \u001b[0minput\u001b[0m\u001b[0;34m,\u001b[0m \u001b[0mpadding_idx\u001b[0m\u001b[0;34m,\u001b[0m \u001b[0mscale_grad_by_freq\u001b[0m\u001b[0;34m,\u001b[0m \u001b[0msparse\u001b[0m\u001b[0;34m)\u001b[0m\u001b[0;34m\u001b[0m\u001b[0;34m\u001b[0m\u001b[0m\n\u001b[0m\u001b[1;32m   2047\u001b[0m \u001b[0;34m\u001b[0m\u001b[0m\n\u001b[1;32m   2048\u001b[0m \u001b[0;34m\u001b[0m\u001b[0m\n",
      "\u001b[0;31mRuntimeError\u001b[0m: Expected all tensors to be on the same device, but found at least two devices, cuda:0 and cpu! (when checking argument for argument index in method wrapper__index_select)"
     ]
    }
   ],
   "source": [
    "noise_vector = torch.randn(real_images.size(0), latent_dim, device=device)  \n",
    "noise_vector = noise_vector.to(device)\n",
    "\n",
    "\n",
    "generated_image = generator((noise_vector, labels))"
   ]
  },
  {
   "cell_type": "code",
   "execution_count": 91,
   "id": "9daa4895",
   "metadata": {},
   "outputs": [],
   "source": [
    "gen_img = generated_image.cpu().detach().numpy()"
   ]
  },
  {
   "cell_type": "code",
   "execution_count": 101,
   "id": "cfec795f",
   "metadata": {},
   "outputs": [
    {
     "data": {
      "text/plain": [
       "(88, 3, 128, 128)"
      ]
     },
     "execution_count": 101,
     "metadata": {},
     "output_type": "execute_result"
    }
   ],
   "source": [
    "gen_img.shape"
   ]
  },
  {
   "cell_type": "code",
   "execution_count": 108,
   "id": "d1085d71",
   "metadata": {},
   "outputs": [
    {
     "data": {
      "text/plain": [
       "<matplotlib.image.AxesImage at 0x7f61206a9310>"
      ]
     },
     "execution_count": 108,
     "metadata": {},
     "output_type": "execute_result"
    },
    {
     "data": {
      "image/png": "[encoded data removed]",
      "text/plain": [
       "<Figure size 432x288 with 1 Axes>"
      ]
     },
     "metadata": {
      "needs_background": "light"
     },
     "output_type": "display_data"
    }
   ],
   "source": [
    "plt.imshow(gen_img[0,1,:,:])"
   ]
  },
  {
   "cell_type": "code",
   "execution_count": null,
   "id": "1877789c",
   "metadata": {},
   "outputs": [],
   "source": []
  }
 ],
 "metadata": {
  "kernelspec": {
   "display_name": "Python 3 (ipykernel)",
   "language": "python",
   "name": "python3"
  },
  "language_info": {
   "codemirror_mode": {
    "name": "ipython",
    "version": 3
   },
   "file_extension": ".py",
   "mimetype": "text/x-python",
   "name": "python",
   "nbconvert_exporter": "python",
   "pygments_lexer": "ipython3",
   "version": "3.8.10"
  }
 },
 "nbformat": 4,
 "nbformat_minor": 5
}
