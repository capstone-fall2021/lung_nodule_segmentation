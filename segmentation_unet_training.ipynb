{
 "cells": [
  {
   "cell_type": "markdown",
   "id": "white-ukraine",
   "metadata": {},
   "source": [
    "## Train the UNET model"
   ]
  },
  {
   "cell_type": "code",
   "execution_count": 2,
   "id": "thorough-canadian",
   "metadata": {
    "collapsed": true,
    "jupyter": {
     "outputs_hidden": true
    }
   },
   "outputs": [
    {
     "name": "stdout",
     "output_type": "stream",
     "text": [
      "Collecting pydicom==2.2.2\n",
      "  Downloading pydicom-2.2.2-py3-none-any.whl (2.0 MB)\n",
      "\u001b[K     |████████████████████████████████| 2.0 MB 8.3 MB/s eta 0:00:01\n",
      "\u001b[?25hCollecting pylidc==0.2.2\n",
      "  Downloading pylidc-0.2.2-py2.py3-none-any.whl (5.6 MB)\n",
      "\u001b[K     |████████████████████████████████| 5.6 MB 30.2 MB/s eta 0:00:01\n",
      "\u001b[?25hCollecting torchsummary==1.5.1\n",
      "  Downloading torchsummary-1.5.1-py3-none-any.whl (2.8 kB)\n",
      "Collecting imageio==2.10.4\n",
      "  Downloading imageio-2.10.4-py3-none-any.whl (3.3 MB)\n",
      "\u001b[K     |████████████████████████████████| 3.3 MB 66.5 MB/s eta 0:00:01\n",
      "\u001b[?25hCollecting gsutil==5.5\n",
      "  Downloading gsutil-5.5.tar.gz (2.9 MB)\n",
      "\u001b[K     |████████████████████████████████| 2.9 MB 75.3 MB/s eta 0:00:01\n",
      "\u001b[?25hCollecting google-cloud-bigquery==2.30.1\n",
      "  Downloading google_cloud_bigquery-2.30.1-py2.py3-none-any.whl (203 kB)\n",
      "\u001b[K     |████████████████████████████████| 203 kB 67.3 MB/s eta 0:00:01\n",
      "\u001b[?25hRequirement already satisfied: matplotlib>=2.0.0 in /opt/conda/lib/python3.8/site-packages (from pylidc==0.2.2->-r requirements.txt (line 2)) (3.4.3)\n",
      "Requirement already satisfied: numpy>=1.12.0 in /opt/conda/lib/python3.8/site-packages (from pylidc==0.2.2->-r requirements.txt (line 2)) (1.21.2)\n",
      "Collecting sqlalchemy>=1.1.5\n",
      "  Downloading SQLAlchemy-1.4.27-cp38-cp38-manylinux_2_5_x86_64.manylinux1_x86_64.manylinux_2_17_x86_64.manylinux2014_x86_64.whl (1.6 MB)\n",
      "\u001b[K     |████████████████████████████████| 1.6 MB 64.8 MB/s eta 0:00:01\n",
      "\u001b[?25hCollecting scikit-image>=0.13\n",
      "  Downloading scikit_image-0.18.3-cp38-cp38-manylinux_2_5_x86_64.manylinux1_x86_64.whl (30.2 MB)\n",
      "\u001b[K     |████████████████████████████████| 30.2 MB 69.2 MB/s eta 0:00:01\n",
      "\u001b[?25hRequirement already satisfied: scipy>=0.18.1 in /opt/conda/lib/python3.8/site-packages (from pylidc==0.2.2->-r requirements.txt (line 2)) (1.6.3)\n",
      "Collecting pillow>=8.3.2\n",
      "  Downloading Pillow-8.4.0-cp38-cp38-manylinux_2_17_x86_64.manylinux2014_x86_64.whl (3.1 MB)\n",
      "\u001b[K     |████████████████████████████████| 3.1 MB 96.6 MB/s eta 0:00:01\n",
      "\u001b[?25hCollecting argcomplete>=1.9.4\n",
      "  Downloading argcomplete-1.12.3-py2.py3-none-any.whl (38 kB)\n",
      "Collecting crcmod>=1.7\n",
      "  Downloading crcmod-1.7.tar.gz (89 kB)\n",
      "\u001b[K     |████████████████████████████████| 89 kB 15.0 MB/s eta 0:00:01\n",
      "\u001b[?25hCollecting fasteners>=0.14.1\n",
      "  Downloading fasteners-0.16.3-py2.py3-none-any.whl (28 kB)\n",
      "Collecting gcs-oauth2-boto-plugin>=3.0\n",
      "  Downloading gcs-oauth2-boto-plugin-3.0.tar.gz (20 kB)\n",
      "Collecting google-apitools>=0.5.32\n",
      "  Downloading google_apitools-0.5.32-py3-none-any.whl (135 kB)\n",
      "\u001b[K     |████████████████████████████████| 135 kB 73.6 MB/s eta 0:00:01\n",
      "\u001b[?25hCollecting httplib2>=0.18\n",
      "  Downloading httplib2-0.20.2-py3-none-any.whl (96 kB)\n",
      "\u001b[K     |████████████████████████████████| 96 kB 10.0 MB/s eta 0:00:01\n",
      "\u001b[?25hCollecting google-reauth>=0.1.0\n",
      "  Downloading google_reauth-0.1.1-py2.py3-none-any.whl (17 kB)\n",
      "Collecting monotonic>=1.4\n",
      "  Downloading monotonic-1.6-py2.py3-none-any.whl (8.2 kB)\n",
      "Requirement already satisfied: pyOpenSSL>=0.13 in /opt/conda/lib/python3.8/site-packages (from gsutil==5.5->-r requirements.txt (line 5)) (20.0.1)\n",
      "Collecting retry_decorator>=1.0.0\n",
      "  Downloading retry_decorator-1.1.1.tar.gz (3.9 kB)\n",
      "Requirement already satisfied: six>=1.12.0 in /opt/conda/lib/python3.8/site-packages (from gsutil==5.5->-r requirements.txt (line 5)) (1.16.0)\n",
      "Collecting google-cloud-core<3.0.0dev,>=1.4.1\n",
      "  Downloading google_cloud_core-2.2.1-py2.py3-none-any.whl (29 kB)\n",
      "Requirement already satisfied: protobuf>=3.12.0 in /opt/conda/lib/python3.8/site-packages (from google-cloud-bigquery==2.30.1->-r requirements.txt (line 6)) (3.17.3)\n",
      "Requirement already satisfied: packaging>=14.3 in /opt/conda/lib/python3.8/site-packages (from google-cloud-bigquery==2.30.1->-r requirements.txt (line 6)) (21.0)\n",
      "Requirement already satisfied: grpcio<2.0dev,>=1.38.1 in /opt/conda/lib/python3.8/site-packages (from google-cloud-bigquery==2.30.1->-r requirements.txt (line 6)) (1.39.0)\n",
      "Requirement already satisfied: python-dateutil<3.0dev,>=2.7.2 in /opt/conda/lib/python3.8/site-packages (from google-cloud-bigquery==2.30.1->-r requirements.txt (line 6)) (2.8.2)\n",
      "Collecting google-resumable-media<3.0dev,>=0.6.0\n",
      "  Downloading google_resumable_media-2.1.0-py2.py3-none-any.whl (75 kB)\n",
      "\u001b[K     |████████████████████████████████| 75 kB 7.4 MB/s  eta 0:00:01\n",
      "\u001b[?25hRequirement already satisfied: requests<3.0.0dev,>=2.18.0 in /opt/conda/lib/python3.8/site-packages (from google-cloud-bigquery==2.30.1->-r requirements.txt (line 6)) (2.26.0)\n",
      "Collecting proto-plus>=1.10.0\n",
      "  Downloading proto_plus-1.19.8-py3-none-any.whl (45 kB)\n",
      "\u001b[K     |████████████████████████████████| 45 kB 6.3 MB/s  eta 0:00:01\n",
      "\u001b[?25hCollecting google-api-core[grpc]<3.0.0dev,>=1.29.0\n",
      "  Downloading google_api_core-2.2.2-py2.py3-none-any.whl (95 kB)\n",
      "\u001b[K     |████████████████████████████████| 95 kB 8.1 MB/s  eta 0:00:01\n",
      "\u001b[?25hRequirement already satisfied: rsa==4.7.2 in /opt/conda/lib/python3.8/site-packages (from gcs-oauth2-boto-plugin>=3.0->gsutil==5.5->-r requirements.txt (line 5)) (4.7.2)\n",
      "Collecting boto>=2.29.1\n",
      "  Downloading boto-2.49.0-py2.py3-none-any.whl (1.4 MB)\n",
      "\u001b[K     |████████████████████████████████| 1.4 MB 77.8 MB/s eta 0:00:01\n",
      "\u001b[?25hCollecting oauth2client>=2.2.0\n",
      "  Downloading oauth2client-4.1.3-py2.py3-none-any.whl (98 kB)\n",
      "\u001b[K     |████████████████████████████████| 98 kB 12.2 MB/s eta 0:00:01\n",
      "\u001b[?25hRequirement already satisfied: pyasn1>=0.1.3 in /opt/conda/lib/python3.8/site-packages (from rsa==4.7.2->gcs-oauth2-boto-plugin>=3.0->gsutil==5.5->-r requirements.txt (line 5)) (0.4.8)\n",
      "Requirement already satisfied: setuptools>=40.3.0 in /opt/conda/lib/python3.8/site-packages (from google-api-core[grpc]<3.0.0dev,>=1.29.0->google-cloud-bigquery==2.30.1->-r requirements.txt (line 6)) (57.4.0)\n",
      "Requirement already satisfied: google-auth<3.0dev,>=1.25.0 in /opt/conda/lib/python3.8/site-packages (from google-api-core[grpc]<3.0.0dev,>=1.29.0->google-cloud-bigquery==2.30.1->-r requirements.txt (line 6)) (1.35.0)\n",
      "Collecting googleapis-common-protos<2.0dev,>=1.52.0\n",
      "  Downloading googleapis_common_protos-1.53.0-py2.py3-none-any.whl (198 kB)\n",
      "\u001b[K     |████████████████████████████████| 198 kB 86.2 MB/s eta 0:00:01\n",
      "\u001b[?25hCollecting grpcio-status<2.0dev,>=1.33.2\n",
      "  Downloading grpcio_status-1.42.0-py3-none-any.whl (10.0 kB)\n",
      "Requirement already satisfied: cachetools<5.0,>=2.0.0 in /opt/conda/lib/python3.8/site-packages (from google-auth<3.0dev,>=1.25.0->google-api-core[grpc]<3.0.0dev,>=1.29.0->google-cloud-bigquery==2.30.1->-r requirements.txt (line 6)) (4.2.2)\n",
      "Requirement already satisfied: pyasn1-modules>=0.2.1 in /opt/conda/lib/python3.8/site-packages (from google-auth<3.0dev,>=1.25.0->google-api-core[grpc]<3.0.0dev,>=1.29.0->google-cloud-bigquery==2.30.1->-r requirements.txt (line 6)) (0.2.8)\n",
      "Collecting pyu2f\n",
      "  Downloading pyu2f-0.1.5.tar.gz (27 kB)\n",
      "Collecting google-crc32c<2.0dev,>=1.0\n",
      "  Downloading google_crc32c-1.3.0-cp38-cp38-manylinux_2_12_x86_64.manylinux2010_x86_64.whl (37 kB)\n",
      "Collecting grpcio<2.0dev,>=1.38.1\n",
      "  Downloading grpcio-1.42.0-cp38-cp38-manylinux_2_17_x86_64.manylinux2014_x86_64.whl (4.0 MB)\n",
      "\u001b[K     |████████████████████████████████| 4.0 MB 82.4 MB/s eta 0:00:01\n",
      "\u001b[?25hRequirement already satisfied: pyparsing!=3.0.0,!=3.0.1,!=3.0.2,!=3.0.3,<4,>=2.4.2 in /opt/conda/lib/python3.8/site-packages (from httplib2>=0.18->gsutil==5.5->-r requirements.txt (line 5)) (2.4.7)\n",
      "Requirement already satisfied: cycler>=0.10 in /opt/conda/lib/python3.8/site-packages (from matplotlib>=2.0.0->pylidc==0.2.2->-r requirements.txt (line 2)) (0.10.0)\n",
      "Requirement already satisfied: kiwisolver>=1.0.1 in /opt/conda/lib/python3.8/site-packages (from matplotlib>=2.0.0->pylidc==0.2.2->-r requirements.txt (line 2)) (1.3.2)\n",
      "Collecting protobuf>=3.12.0\n",
      "  Downloading protobuf-3.19.1-cp38-cp38-manylinux_2_17_x86_64.manylinux2014_x86_64.whl (1.1 MB)\n",
      "\u001b[K     |████████████████████████████████| 1.1 MB 64.7 MB/s eta 0:00:01\n",
      "\u001b[?25hRequirement already satisfied: cryptography>=3.2 in /opt/conda/lib/python3.8/site-packages (from pyOpenSSL>=0.13->gsutil==5.5->-r requirements.txt (line 5)) (3.4.7)\n",
      "Requirement already satisfied: cffi>=1.12 in /opt/conda/lib/python3.8/site-packages (from cryptography>=3.2->pyOpenSSL>=0.13->gsutil==5.5->-r requirements.txt (line 5)) (1.14.6)\n",
      "Requirement already satisfied: pycparser in /opt/conda/lib/python3.8/site-packages (from cffi>=1.12->cryptography>=3.2->pyOpenSSL>=0.13->gsutil==5.5->-r requirements.txt (line 5)) (2.20)\n",
      "Requirement already satisfied: urllib3<1.27,>=1.21.1 in /opt/conda/lib/python3.8/site-packages (from requests<3.0.0dev,>=2.18.0->google-cloud-bigquery==2.30.1->-r requirements.txt (line 6)) (1.26.6)\n",
      "Requirement already satisfied: idna<4,>=2.5 in /opt/conda/lib/python3.8/site-packages (from requests<3.0.0dev,>=2.18.0->google-cloud-bigquery==2.30.1->-r requirements.txt (line 6)) (3.1)\n",
      "Requirement already satisfied: certifi>=2017.4.17 in /opt/conda/lib/python3.8/site-packages (from requests<3.0.0dev,>=2.18.0->google-cloud-bigquery==2.30.1->-r requirements.txt (line 6)) (2021.5.30)\n",
      "Requirement already satisfied: charset-normalizer~=2.0.0 in /opt/conda/lib/python3.8/site-packages (from requests<3.0.0dev,>=2.18.0->google-cloud-bigquery==2.30.1->-r requirements.txt (line 6)) (2.0.0)\n",
      "Collecting PyWavelets>=1.1.1\n",
      "  Downloading PyWavelets-1.2.0-cp38-cp38-manylinux_2_5_x86_64.manylinux1_x86_64.whl (6.3 MB)\n",
      "\u001b[K     |████████████████████████████████| 6.3 MB 65.1 MB/s eta 0:00:01\n",
      "\u001b[?25hCollecting tifffile>=2019.7.26\n",
      "  Downloading tifffile-2021.11.2-py3-none-any.whl (178 kB)\n",
      "\u001b[K     |████████████████████████████████| 178 kB 101.6 MB/s eta 0:00:01\n",
      "\u001b[?25hRequirement already satisfied: networkx>=2.0 in /opt/conda/lib/python3.8/site-packages (from scikit-image>=0.13->pylidc==0.2.2->-r requirements.txt (line 2)) (2.0)\n",
      "Requirement already satisfied: decorator>=4.1.0 in /opt/conda/lib/python3.8/site-packages (from networkx>=2.0->scikit-image>=0.13->pylidc==0.2.2->-r requirements.txt (line 2)) (5.0.9)\n",
      "Collecting greenlet!=0.4.17\n",
      "  Downloading greenlet-1.1.2-cp38-cp38-manylinux_2_17_x86_64.manylinux2014_x86_64.whl (156 kB)\n",
      "\u001b[K     |████████████████████████████████| 156 kB 93.4 MB/s eta 0:00:01\n",
      "\u001b[?25hBuilding wheels for collected packages: gsutil, crcmod, gcs-oauth2-boto-plugin, retry-decorator, pyu2f\n",
      "  Building wheel for gsutil (setup.py) ... \u001b[?25ldone\n",
      "\u001b[?25h  Created wheel for gsutil: filename=gsutil-5.5-py3-none-any.whl size=3716011 sha256=0eb5e1aa886e8dc066ecf7e4ea714cdc83345249602f0260a2af8bb198f157d6\n",
      "  Stored in directory: /root/.cache/pip/wheels/01/7f/60/a5d4494eefa59d2bfb712df237a05bd6f27e49bd6b4bd59cd5\n",
      "  Building wheel for crcmod (setup.py) ... \u001b[?25ldone\n",
      "\u001b[?25h  Created wheel for crcmod: filename=crcmod-1.7-cp38-cp38-linux_x86_64.whl size=35925 sha256=078bcb41661e8048428a7a150f2b4e6d12344a4d49c23e923dae8e0e92e6e891\n",
      "  Stored in directory: /root/.cache/pip/wheels/ca/5a/02/f3acf982a026f3319fb3e798a8dca2d48fafee7761788562e9\n",
      "  Building wheel for gcs-oauth2-boto-plugin (setup.py) ... \u001b[?25ldone\n",
      "\u001b[?25h  Created wheel for gcs-oauth2-boto-plugin: filename=gcs_oauth2_boto_plugin-3.0-py3-none-any.whl size=23220 sha256=396b81a6e3faab3b9a76fc36f7462dbf052e653776ca2f6165b55a2b859990ea\n",
      "  Stored in directory: /root/.cache/pip/wheels/c2/ff/00/10b85e9e1b43efc461153dca75aa47e4640ef41d291b3666a1\n",
      "  Building wheel for retry-decorator (setup.py) ... \u001b[?25ldone\n",
      "\u001b[?25h  Created wheel for retry-decorator: filename=retry_decorator-1.1.1-py2.py3-none-any.whl size=3656 sha256=c998738bdcc3bc82337f6484a6df5ecb9e82c76484a1d15514d5614f69b0dafc\n",
      "  Stored in directory: /root/.cache/pip/wheels/1e/bb/cb/5d7a05561d7ec60b8c0dc65f156a33909a3eb5c56340959fa9\n",
      "  Building wheel for pyu2f (setup.py) ... \u001b[?25ldone\n",
      "\u001b[?25h  Created wheel for pyu2f: filename=pyu2f-0.1.5-py3-none-any.whl size=39402 sha256=e597a5c07116d7611b25b46d330aa12263d963908fea7e49d5fa26aca2a32741\n",
      "  Stored in directory: /root/.cache/pip/wheels/8d/38/8f/378b4491d760a176f261d56310fcb051e53090a894534acbf0\n",
      "Successfully built gsutil crcmod gcs-oauth2-boto-plugin retry-decorator pyu2f\n",
      "Installing collected packages: protobuf, pyu2f, pillow, httplib2, grpcio, googleapis-common-protos, tifffile, retry-decorator, PyWavelets, oauth2client, imageio, grpcio-status, greenlet, google-reauth, google-crc32c, google-api-core, fasteners, boto, sqlalchemy, scikit-image, pydicom, proto-plus, monotonic, google-resumable-media, google-cloud-core, google-apitools, gcs-oauth2-boto-plugin, crcmod, argcomplete, torchsummary, pylidc, gsutil, google-cloud-bigquery\n",
      "  Attempting uninstall: protobuf\n",
      "    Found existing installation: protobuf 3.17.3\n",
      "    Uninstalling protobuf-3.17.3:\n",
      "      Successfully uninstalled protobuf-3.17.3\n",
      "  Attempting uninstall: pillow\n",
      "    Found existing installation: Pillow 8.2.0\n",
      "    Uninstalling Pillow-8.2.0:\n",
      "      Successfully uninstalled Pillow-8.2.0\n",
      "  Attempting uninstall: grpcio\n",
      "    Found existing installation: grpcio 1.39.0\n",
      "    Uninstalling grpcio-1.39.0:\n",
      "      Successfully uninstalled grpcio-1.39.0\n",
      "Successfully installed PyWavelets-1.2.0 argcomplete-1.12.3 boto-2.49.0 crcmod-1.7 fasteners-0.16.3 gcs-oauth2-boto-plugin-3.0 google-api-core-2.2.2 google-apitools-0.5.32 google-cloud-bigquery-2.30.1 google-cloud-core-2.2.1 google-crc32c-1.3.0 google-reauth-0.1.1 google-resumable-media-2.1.0 googleapis-common-protos-1.53.0 greenlet-1.1.2 grpcio-1.42.0 grpcio-status-1.42.0 gsutil-5.5 httplib2-0.20.2 imageio-2.10.4 monotonic-1.6 oauth2client-4.1.3 pillow-8.4.0 proto-plus-1.19.8 protobuf-3.19.1 pydicom-2.2.2 pylidc-0.2.2 pyu2f-0.1.5 retry-decorator-1.1.1 scikit-image-0.18.3 sqlalchemy-1.4.27 tifffile-2021.11.2 torchsummary-1.5.1\n",
      "\u001b[33mWARNING: Running pip as the 'root' user can result in broken permissions and conflicting behaviour with the system package manager. It is recommended to use a virtual environment instead: https://pip.pypa.io/warnings/venv\u001b[0m\n"
     ]
    }
   ],
   "source": [
    "!pip install -r requirements.txt"
   ]
  },
  {
   "cell_type": "code",
   "execution_count": 1,
   "id": "classical-template",
   "metadata": {},
   "outputs": [],
   "source": [
    "import pylidc as pl\n",
    "from pylidc.utils import consensus\n",
    "import pydicom as dicom\n",
    "from skimage.measure import find_contours\n",
    "import numpy as np\n",
    "import matplotlib.pyplot as plt\n",
    "from tqdm import tqdm\n",
    "from PIL import Image\n",
    "import contextlib\n",
    "import matplotlib.patches as patches\n",
    "import os\n",
    "import imageio\n",
    "import sys\n",
    "import numpy as np\n",
    "from glob import glob\n",
    "import os\n",
    "import cv2\n",
    "import matplotlib.pyplot as plt\n",
    "import numpy as np\n",
    "from skimage import morphology\n",
    "from skimage import measure\n",
    "from sklearn.cluster import KMeans\n",
    "from skimage.transform import resize\n",
    "import pylidc as pl\n",
    "from pylidc.utils import consensus\n",
    "import pydicom as dicom\n",
    "from skimage.measure import find_contours\n",
    "import numpy as np\n",
    "import matplotlib.pyplot as plt\n",
    "import os\n",
    "from numpy import random\n",
    "import torch\n",
    "import torch.nn as nn\n",
    "import torch.nn.functional as F\n",
    "from torchsummary import summary\n",
    "from torch.utils.data import Dataset, DataLoader\n",
    "import torchvision\n",
    "import time\n",
    "from torch import optim\n",
    "from torch.nn.parallel import DistributedDataParallel as DDP"
   ]
  },
  {
   "cell_type": "code",
   "execution_count": 2,
   "id": "useful-direction",
   "metadata": {},
   "outputs": [],
   "source": [
    "from torchvision import transforms\n",
    "train_transform = transforms.Compose([\n",
    "    transforms.ToTensor(),\n",
    "    ])\n",
    "\n",
    "val_transform = transforms.Compose([\n",
    "             transforms.ToTensor(),\n",
    "             ])\n",
    "mask_transform = transforms.Compose([transforms.ToTensor()])"
   ]
  },
  {
   "cell_type": "code",
   "execution_count": 3,
   "id": "boring-runner",
   "metadata": {},
   "outputs": [],
   "source": [
    "#Ref: https://github.com/fhaghighi/SemanticGenesis\n",
    "def image_in_painting(x):\n",
    "    img_rows, img_cols, img_deps = x.shape\n",
    "    block_noise_size_x = random.randint(img_rows // 6, img_rows // 3)\n",
    "    block_noise_size_y = random.randint(img_cols // 6, img_cols // 3)\n",
    "    block_noise_size_z = random.randint(img_deps // 6, img_deps // 3)\n",
    "    noise_x = random.randint(3, img_rows - block_noise_size_x - 3)\n",
    "    noise_y = random.randint(3, img_cols - block_noise_size_y - 3)\n",
    "    #noise_z = random.randint(3, img_deps - block_noise_size_z - 3)\n",
    "    noise_z = 0\n",
    "    block_noise_size_z = 3\n",
    "    x[noise_x:noise_x + block_noise_size_x,\n",
    "    noise_y:noise_y + block_noise_size_y,\n",
    "    noise_z:noise_z + block_noise_size_z] = np.random.rand(block_noise_size_x,\n",
    "                                                           block_noise_size_y,\n",
    "                                                          block_noise_size_z, ) * 1.0\n",
    "    return x"
   ]
  },
  {
   "cell_type": "code",
   "execution_count": 26,
   "id": "alpine-insulin",
   "metadata": {},
   "outputs": [
    {
     "name": "stdout",
     "output_type": "stream",
     "text": [
      "Train files: 581, val files: 1631, test files: 380\n"
     ]
    }
   ],
   "source": [
    "train_image_files = os.listdir('/app/data/unet/train/images/')\n",
    "train_mask_files = [im_file.replace('img', 'mask') for im_file in train_image_files]\n",
    "\n",
    "val_image_files = os.listdir('/app/data/unet/val/images/')\n",
    "val_mask_files = [im_file.replace('img', 'mask') for im_file in val_image_files]\n",
    "\n",
    "test_image_files = os.listdir('/app/unet_test_from_fullsize_image/test/images/')\n",
    "test_mask_files = [im_file.replace('img', 'mask') for im_file in test_image_files]\n",
    "print(\"Train files: {}, val files: {}, test files: {}\".format(len(train_image_files), len(val_image_files), len(test_image_files)))"
   ]
  },
  {
   "cell_type": "code",
   "execution_count": 5,
   "id": "understanding-richards",
   "metadata": {},
   "outputs": [
    {
     "name": "stdout",
     "output_type": "stream",
     "text": [
      "Number of train files are 581 and test files are 1631\n"
     ]
    }
   ],
   "source": [
    "import cv2\n",
    "from PIL import Image\n",
    "class NoduleDataset(Dataset):\n",
    "    def __init__(self, root_dir, image_paths, mask_paths, transforms=None, image_shape=(128,128), augment=False):\n",
    "        super().__init__()\n",
    "        self.augment = augment\n",
    "        self.image_shape = image_shape\n",
    "        self.batch_size = len(image_paths)\n",
    "        self.root_dir = root_dir\n",
    "        self.image_paths = image_paths\n",
    "        self.mask_paths  = mask_paths\n",
    "        self.transforms = transforms\n",
    "        \n",
    "    def __len__(self):\n",
    "        return len(self.image_paths)\n",
    "    \n",
    "    def __getitem__(self, index):\n",
    "        image = cv2.imread(self.root_dir + 'images/' + self.image_paths[index])\n",
    "        image = cv2.resize(image, (64, 64))\n",
    "        r = np.random.random()\n",
    "        if self.augment:\n",
    "            if r <= 0.33:\n",
    "                image = image_in_painting(image)\n",
    "            else: # no transformation except for gaussion blur done in elastic\n",
    "                image = image\n",
    "            image = cv2.cvtColor(image, cv2.COLOR_BGR2GRAY)\n",
    "        else:\n",
    "            image = cv2.cvtColor(image, cv2.COLOR_BGR2GRAY)\n",
    "        \n",
    "        \n",
    "        mask = cv2.imread(self.root_dir + 'masks/' + self.mask_paths[index])\n",
    "        mask = cv2.cvtColor(mask, cv2.COLOR_BGR2GRAY)\n",
    "        mask = cv2.resize(mask, (64, 64))\n",
    "        (thresh, mask) = cv2.threshold(mask, 128, 255, cv2.THRESH_BINARY | cv2.THRESH_OTSU)\n",
    "\n",
    "        if self.transforms:\n",
    "            image = self.transforms(image)\n",
    "        mask = mask_transform(mask)\n",
    "        #convert from Boolean to int (0,1)\n",
    "        mask = mask.to(torch.uint8)\n",
    "        mask = (mask > 0).float()\n",
    "        return image, mask#, self.image_paths[index], self.mask_paths[index]\n",
    "            \n",
    "\n",
    "batch_size = 16\n",
    "num_workers = 0\n",
    "\n",
    "nodule_data_train = NoduleDataset('/app/data/unet/train/',train_image_files, train_mask_files, transforms=train_transform, augment=True)\n",
    "train_loader = DataLoader(nodule_data_train, shuffle=True, batch_size = batch_size,\n",
    "                             num_workers = num_workers)\n",
    "\n",
    "nodule_data_val = NoduleDataset('/app/data/unet/val/',val_image_files, val_mask_files, transforms=val_transform, augment=False)\n",
    "val_loader = DataLoader(nodule_data_val, shuffle=True, batch_size = batch_size,\n",
    "                             num_workers = num_workers, drop_last=True)\n",
    "print(\"Number of train files are {} and test files are {}\".format(len(train_mask_files), len(val_mask_files)))"
   ]
  },
  {
   "cell_type": "code",
   "execution_count": 6,
   "id": "institutional-hartford",
   "metadata": {},
   "outputs": [
    {
     "name": "stdout",
     "output_type": "stream",
     "text": [
      "torch.float32 torch.float32\n"
     ]
    }
   ],
   "source": [
    "dataiter = iter(train_loader)\n",
    "images,labels = dataiter.next()\n",
    "print(images.dtype, labels.dtype)"
   ]
  },
  {
   "cell_type": "code",
   "execution_count": 7,
   "id": "authentic-reflection",
   "metadata": {},
   "outputs": [
    {
     "name": "stdout",
     "output_type": "stream",
     "text": [
      "torch.float32 torch.float32\n"
     ]
    }
   ],
   "source": [
    "dataiter = iter(val_loader)\n",
    "images,labels = dataiter.next()\n",
    "print(images.dtype, labels.dtype)"
   ]
  },
  {
   "cell_type": "code",
   "execution_count": 8,
   "id": "political-purchase",
   "metadata": {},
   "outputs": [
    {
     "data": {
      "text/plain": [
       "<matplotlib.image.AxesImage at 0x7f69830709d0>"
      ]
     },
     "execution_count": 8,
     "metadata": {},
     "output_type": "execute_result"
    },
    {
     "data": {
      "image/png": "[encoded data removed]",
      "text/plain": [
       "<Figure size 432x288 with 2 Axes>"
      ]
     },
     "metadata": {
      "needs_background": "light"
     },
     "output_type": "display_data"
    }
   ],
   "source": [
    "#images.shape\n",
    "f,a = plt.subplots(1,2)\n",
    "a[0].imshow(images[2][0,:,:], 'bone')\n",
    "#images.shape\n",
    "a[1].imshow(labels[2][0,:,:], 'bone')"
   ]
  },
  {
   "cell_type": "markdown",
   "id": "meaningful-venezuela",
   "metadata": {},
   "source": [
    "### Define the model"
   ]
  },
  {
   "cell_type": "code",
   "execution_count": 9,
   "id": "located-illness",
   "metadata": {},
   "outputs": [],
   "source": [
    "class Block(nn.Module):\n",
    "    def __init__(self, in_ch, out_ch):\n",
    "        super().__init__()\n",
    "        self.conv1 = nn.Conv2d(in_ch, out_ch, 3, padding = 1)\n",
    "        self.relu1 = nn.ReLU()\n",
    "        self.bn1   = nn.BatchNorm2d(out_ch)\n",
    "        self.conv2 = nn.Conv2d(out_ch, out_ch, 3, padding = 1)\n",
    "        self.relu2 = nn.ReLU()\n",
    "        self.bn2   = nn.BatchNorm2d(out_ch)\n",
    "    \n",
    "    def forward(self, x):\n",
    "        return self.bn2(self.relu2(self.conv2(self.bn1(self.relu1(self.conv1(x))))))\n",
    "    \n",
    "\n",
    "class Encoder(nn.Module):\n",
    "    def __init__(self, chs=(1,32,64,128,256)):\n",
    "        super().__init__()\n",
    "        self.enc_blocks = nn.ModuleList([Block(chs[i], chs[i+1]) for i in range(len(chs)-1)])\n",
    "        self.pool       = nn.MaxPool2d(2)\n",
    "    \n",
    "    def forward(self, x):\n",
    "        ftrs = []\n",
    "        for block in self.enc_blocks:\n",
    "            x = block(x)\n",
    "            ftrs.append(x)\n",
    "            x = self.pool(x)\n",
    "        return ftrs\n",
    "\n",
    "\n",
    "class Decoder(nn.Module):\n",
    "    def __init__(self, chs=(256, 128, 64, 32)):\n",
    "        super().__init__()\n",
    "        self.chs         = chs\n",
    "        self.upconvs    = nn.ModuleList([nn.ConvTranspose2d(chs[i], chs[i+1], 2, 2) for i in range(len(chs)-1)])\n",
    "        self.dec_blocks = nn.ModuleList([Block(chs[i], chs[i+1]) for i in range(len(chs)-1)]) \n",
    "        \n",
    "    def forward(self, x, encoder_features):\n",
    "        for i in range(len(self.chs)-1):\n",
    "            x        = self.upconvs[i](x)\n",
    "            x        = torch.cat([x, encoder_features[i]], dim=1)\n",
    "            x        = self.dec_blocks[i](x)\n",
    "        return x\n",
    "    \n",
    "\n",
    "class Unet(nn.Module):\n",
    "    def __init__(self, enc_chs=(1,32,64,128,256), dec_chs=(256, 128, 64, 32), num_class=1, retain_dim=False, out_sz=(64,64)):\n",
    "        super().__init__()\n",
    "        self.encoder     = Encoder(enc_chs)\n",
    "        self.decoder     = Decoder(dec_chs)\n",
    "        self.head        = nn.Conv2d(dec_chs[-1], num_class, 1)\n",
    "        self.retain_dim  = retain_dim\n",
    "\n",
    "    def forward(self, x):\n",
    "        enc_ftrs = self.encoder(x)\n",
    "        out      = self.decoder(enc_ftrs[::-1][0], enc_ftrs[::-1][1:])\n",
    "        out      = self.head(out)\n",
    "        if self.retain_dim:\n",
    "            out = F.interpolate(out, out_sz)\n",
    "        return out"
   ]
  },
  {
   "cell_type": "code",
   "execution_count": 10,
   "id": "passing-parish",
   "metadata": {},
   "outputs": [
    {
     "name": "stdout",
     "output_type": "stream",
     "text": [
      "1.8.0a0+52ea372\n",
      "Number of GPUs = 0\n"
     ]
    },
    {
     "name": "stderr",
     "output_type": "stream",
     "text": [
      "/opt/conda/lib/python3.8/site-packages/torch/cuda/__init__.py:52: UserWarning: CUDA initialization: Found no NVIDIA driver on your system. Please check that you have an NVIDIA GPU and installed a driver from http://www.nvidia.com/Download/index.aspx (Triggered internally at  ../c10/cuda/CUDAFunctions.cpp:104.)\n",
      "  return torch._C._cuda_getDeviceCount() > 0\n"
     ]
    }
   ],
   "source": [
    "print(torch.__version__)\n",
    "print(\"Number of GPUs =\", torch.cuda.device_count())"
   ]
  },
  {
   "cell_type": "code",
   "execution_count": 11,
   "id": "neither-macedonia",
   "metadata": {},
   "outputs": [],
   "source": [
    "model = Unet(enc_chs=(1,32,64,128,256,512), dec_chs=(512, 256, 128, 64, 32))\n",
    "if torch.cuda.device_count() > 0:\n",
    "    model = torch.nn.parallel.DataParallel(model, device_ids=[0, 1]).cuda()"
   ]
  },
  {
   "cell_type": "code",
   "execution_count": 12,
   "id": "honest-cambridge",
   "metadata": {},
   "outputs": [],
   "source": [
    "if torch.cuda.device_count() > 0:\n",
    "    device = torch.device(\"cuda\")\n",
    "else:\n",
    "    device = 'cpu'"
   ]
  },
  {
   "cell_type": "code",
   "execution_count": 13,
   "id": "wrapped-scholarship",
   "metadata": {
    "collapsed": true,
    "jupyter": {
     "outputs_hidden": true
    }
   },
   "outputs": [
    {
     "name": "stdout",
     "output_type": "stream",
     "text": [
      "----------------------------------------------------------------\n",
      "        Layer (type)               Output Shape         Param #\n",
      "================================================================\n",
      "            Conv2d-1           [-1, 32, 64, 64]             320\n",
      "              ReLU-2           [-1, 32, 64, 64]               0\n",
      "       BatchNorm2d-3           [-1, 32, 64, 64]              64\n",
      "            Conv2d-4           [-1, 32, 64, 64]           9,248\n",
      "              ReLU-5           [-1, 32, 64, 64]               0\n",
      "       BatchNorm2d-6           [-1, 32, 64, 64]              64\n",
      "             Block-7           [-1, 32, 64, 64]               0\n",
      "         MaxPool2d-8           [-1, 32, 32, 32]               0\n",
      "            Conv2d-9           [-1, 64, 32, 32]          18,496\n",
      "             ReLU-10           [-1, 64, 32, 32]               0\n",
      "      BatchNorm2d-11           [-1, 64, 32, 32]             128\n",
      "           Conv2d-12           [-1, 64, 32, 32]          36,928\n",
      "             ReLU-13           [-1, 64, 32, 32]               0\n",
      "      BatchNorm2d-14           [-1, 64, 32, 32]             128\n",
      "            Block-15           [-1, 64, 32, 32]               0\n",
      "        MaxPool2d-16           [-1, 64, 16, 16]               0\n",
      "           Conv2d-17          [-1, 128, 16, 16]          73,856\n",
      "             ReLU-18          [-1, 128, 16, 16]               0\n",
      "      BatchNorm2d-19          [-1, 128, 16, 16]             256\n",
      "           Conv2d-20          [-1, 128, 16, 16]         147,584\n",
      "             ReLU-21          [-1, 128, 16, 16]               0\n",
      "      BatchNorm2d-22          [-1, 128, 16, 16]             256\n",
      "            Block-23          [-1, 128, 16, 16]               0\n",
      "        MaxPool2d-24            [-1, 128, 8, 8]               0\n",
      "           Conv2d-25            [-1, 256, 8, 8]         295,168\n",
      "             ReLU-26            [-1, 256, 8, 8]               0\n",
      "      BatchNorm2d-27            [-1, 256, 8, 8]             512\n",
      "           Conv2d-28            [-1, 256, 8, 8]         590,080\n",
      "             ReLU-29            [-1, 256, 8, 8]               0\n",
      "      BatchNorm2d-30            [-1, 256, 8, 8]             512\n",
      "            Block-31            [-1, 256, 8, 8]               0\n",
      "        MaxPool2d-32            [-1, 256, 4, 4]               0\n",
      "           Conv2d-33            [-1, 512, 4, 4]       1,180,160\n",
      "             ReLU-34            [-1, 512, 4, 4]               0\n",
      "      BatchNorm2d-35            [-1, 512, 4, 4]           1,024\n",
      "           Conv2d-36            [-1, 512, 4, 4]       2,359,808\n",
      "             ReLU-37            [-1, 512, 4, 4]               0\n",
      "      BatchNorm2d-38            [-1, 512, 4, 4]           1,024\n",
      "            Block-39            [-1, 512, 4, 4]               0\n",
      "        MaxPool2d-40            [-1, 512, 2, 2]               0\n",
      "          Encoder-41  [[-1, 32, 64, 64], [-1, 64, 32, 32], [-1, 128, 16, 16], [-1, 256, 8, 8], [-1, 512, 4, 4]]               0\n",
      "  ConvTranspose2d-42            [-1, 256, 8, 8]         524,544\n",
      "           Conv2d-43            [-1, 256, 8, 8]       1,179,904\n",
      "             ReLU-44            [-1, 256, 8, 8]               0\n",
      "      BatchNorm2d-45            [-1, 256, 8, 8]             512\n",
      "           Conv2d-46            [-1, 256, 8, 8]         590,080\n",
      "             ReLU-47            [-1, 256, 8, 8]               0\n",
      "      BatchNorm2d-48            [-1, 256, 8, 8]             512\n",
      "            Block-49            [-1, 256, 8, 8]               0\n",
      "  ConvTranspose2d-50          [-1, 128, 16, 16]         131,200\n",
      "           Conv2d-51          [-1, 128, 16, 16]         295,040\n",
      "             ReLU-52          [-1, 128, 16, 16]               0\n",
      "      BatchNorm2d-53          [-1, 128, 16, 16]             256\n",
      "           Conv2d-54          [-1, 128, 16, 16]         147,584\n",
      "             ReLU-55          [-1, 128, 16, 16]               0\n",
      "      BatchNorm2d-56          [-1, 128, 16, 16]             256\n",
      "            Block-57          [-1, 128, 16, 16]               0\n",
      "  ConvTranspose2d-58           [-1, 64, 32, 32]          32,832\n",
      "           Conv2d-59           [-1, 64, 32, 32]          73,792\n",
      "             ReLU-60           [-1, 64, 32, 32]               0\n",
      "      BatchNorm2d-61           [-1, 64, 32, 32]             128\n",
      "           Conv2d-62           [-1, 64, 32, 32]          36,928\n",
      "             ReLU-63           [-1, 64, 32, 32]               0\n",
      "      BatchNorm2d-64           [-1, 64, 32, 32]             128\n",
      "            Block-65           [-1, 64, 32, 32]               0\n",
      "  ConvTranspose2d-66           [-1, 32, 64, 64]           8,224\n",
      "           Conv2d-67           [-1, 32, 64, 64]          18,464\n",
      "             ReLU-68           [-1, 32, 64, 64]               0\n",
      "      BatchNorm2d-69           [-1, 32, 64, 64]              64\n",
      "           Conv2d-70           [-1, 32, 64, 64]           9,248\n",
      "             ReLU-71           [-1, 32, 64, 64]               0\n",
      "      BatchNorm2d-72           [-1, 32, 64, 64]              64\n",
      "            Block-73           [-1, 32, 64, 64]               0\n",
      "          Decoder-74           [-1, 32, 64, 64]               0\n",
      "           Conv2d-75            [-1, 1, 64, 64]              33\n",
      "================================================================\n",
      "Total params: 7,765,409\n",
      "Trainable params: 7,765,409\n",
      "Non-trainable params: 0\n",
      "----------------------------------------------------------------\n",
      "Input size (MB): 0.02\n",
      "Forward/backward pass size (MB): 30.08\n",
      "Params size (MB): 29.62\n",
      "Estimated Total Size (MB): 59.72\n",
      "----------------------------------------------------------------\n"
     ]
    }
   ],
   "source": [
    "summary(model, (1,64,64))"
   ]
  },
  {
   "cell_type": "code",
   "execution_count": 14,
   "id": "dramatic-smoke",
   "metadata": {},
   "outputs": [],
   "source": [
    "# DICE only for the images which has nodules in ground truth\n",
    "def dice_coeff(y_true, y_pred):\n",
    "    smooth = 0.0001\n",
    "    if y_true.ndim == 2:\n",
    "        y_true = y_true[np.newaxis,:,:]\n",
    "    true_nodules = torch.sum(y_true, dim=[1,2])\n",
    "    idxs = torch.where(true_nodules>0)\n",
    "    y_true = y_true[idxs]\n",
    "    y_pred = y_pred[idxs]\n",
    "    if idxs[0].shape[0] <=0:\n",
    "        return torch.tensor(0.0)\n",
    "    else:\n",
    "        return torch.mean((2. *torch.sum(y_true * y_pred, dim = [1,2]) + smooth)/(torch.sum(y_true, dim=[1,2]) + torch.sum(y_pred, dim=[1,2]) + smooth), dim=[0])"
   ]
  },
  {
   "cell_type": "code",
   "execution_count": 15,
   "id": "recognized-beads",
   "metadata": {},
   "outputs": [],
   "source": [
    "# IoU only for the images which has nodules in ground truth\n",
    "def iou_coeff(y_true, y_pred):\n",
    "    smooth = 0.0001\n",
    "    if y_true.ndim == 2:\n",
    "        y_true = y_true[np.newaxis,:,:]\n",
    "    true_nodules = torch.sum(y_true, dim=[1,2])\n",
    "    idxs = torch.where(true_nodules>0)\n",
    "    y_true = y_true[idxs]\n",
    "    y_pred = y_pred[idxs]\n",
    "    if idxs[0].shape[0] <=0:\n",
    "        return torch.tensor(0.0)\n",
    "    else:\n",
    "        return torch.mean((torch.sum(y_true * y_pred, dim = [1,2]) + smooth) / \n",
    "                          (torch.sum(y_true, dim=[1,2]) + torch.sum(y_pred, dim=[1,2]) \n",
    "                           - torch.sum(y_true * y_pred, dim = [1,2]) + smooth), dim=[0])"
   ]
  },
  {
   "cell_type": "markdown",
   "id": "danish-basis",
   "metadata": {},
   "source": [
    "#### Configure metrics logging in tensorboard"
   ]
  },
  {
   "cell_type": "code",
   "execution_count": 16,
   "id": "regulated-separation",
   "metadata": {},
   "outputs": [],
   "source": [
    "from torch.utils.tensorboard import SummaryWriter"
   ]
  },
  {
   "cell_type": "code",
   "execution_count": 17,
   "id": "later-cutting",
   "metadata": {},
   "outputs": [],
   "source": [
    "def get_next_rundir():\n",
    "    dirs = os.listdir('runs')\n",
    "    dirs = [d for d in dirs if d.find('unet_lidc_') > 0]\n",
    "    if len(dirs) > 0:\n",
    "        print(dirs)\n",
    "        idx = np.sort([int(d.split('_')[2]) for d in dirs])[-1]\n",
    "        newdirname = 'runs/unet_lidc_{}'.format(idx+1)\n",
    "    else:\n",
    "        newdirname = 'runs/unet_lidc_{}'.format(0)\n",
    "    return newdirname"
   ]
  },
  {
   "cell_type": "markdown",
   "id": "opening-arrow",
   "metadata": {},
   "source": [
    "## Run training"
   ]
  },
  {
   "cell_type": "code",
   "execution_count": 18,
   "id": "simple-mattress",
   "metadata": {},
   "outputs": [],
   "source": [
    "def get_lr(optimizer):\n",
    "    for param_group in optimizer.param_groups:\n",
    "        return param_group['lr']\n",
    "    \n",
    "def train(train_epochs):\n",
    "    \n",
    "    num_epochs = train_epochs\n",
    "    \n",
    "    \n",
    "    criterion  = nn.BCEWithLogitsLoss()\n",
    "    #optimizer  = torch.optim.Adam(model.parameters(),0.0001)\n",
    "    #TODO: fix this later\n",
    "    # use LR params from Yolo training\n",
    "#     learning_rate = 0.00654\n",
    "#     optimizer = optim.RMSprop(model.parameters(), lr=learning_rate, weight_decay=0.00042, momentum=0.47849)\n",
    "#     scheduler = optim.lr_scheduler.ReduceLROnPlateau(optimizer, 'min', patience=3)\n",
    "    \n",
    "    optimizer = torch.optim.SGD(model.parameters(), 1e-3, momentum=0.9, weight_decay=0.0, nesterov=False)\n",
    "    \n",
    "    \n",
    "    rundir = get_next_rundir()\n",
    "    writer = SummaryWriter(rundir)\n",
    "    \n",
    "    train_loss = []\n",
    "    val_loss   = []\n",
    "    best_dice = 0\n",
    "    best_loss = 1\n",
    "    for epoch in range(num_epochs):\n",
    "        model.train()\n",
    "        epoch_loss = 0.0\n",
    "        running_loss = 0.0\n",
    "        batch_dice_score = []\n",
    "        epoch_dice_score = []\n",
    "        start = time.time()\n",
    "#         lr = scheduler._last_lr\n",
    "        writer.add_scalar('learning rate', optimizer.param_groups[0]['lr'], epoch)\n",
    "        for i, data in enumerate(train_loader):\n",
    "            inputs, labels = data[0].to(device), data[1].to(device)\n",
    "            optimizer.zero_grad()\n",
    "            outputs = model(inputs)\n",
    "            loss = criterion(outputs, labels)\n",
    "            loss.backward()\n",
    "            optimizer.step()\n",
    "            curr_loss = loss.item()\n",
    "            running_loss += curr_loss\n",
    "            epoch_loss += curr_loss\n",
    "\n",
    "            # begin: DICE score\n",
    "            #mask_pre_prob = torch.sigmoid(seg_model(inputs))#.detach().cpu().numpy()\n",
    "            mask_pre_prob = torch.sigmoid(outputs)#.detach().cpu().numpy()\n",
    "            outputs = np.squeeze(mask_pre_prob).detach().cpu()\n",
    "            mask_pre = np.where(outputs>0.5, 1,0)\n",
    "            mask_pre = torch.from_numpy(mask_pre)\n",
    "            if mask_pre.ndim == 2:\n",
    "                mask_pre = mask_pre[None,:,:]\n",
    "            #print('labels shape = ', labels.shape, 'mask shape =', mask_pre.shape, 'ndim=', mask_pre.ndim)\n",
    "            \n",
    "            score = dice_coeff(np.squeeze(labels).detach().cpu(), mask_pre)\n",
    "            batch_dice_score.append(score)\n",
    "            epoch_dice_score.append(score)\n",
    "            # end: DICE score\n",
    "\n",
    "            if i % 100 == 99: # every 10 minibatch\n",
    "                writer.add_scalar('training loss', running_loss/100, epoch * len(train_loader) + i)\n",
    "                writer.add_scalar('training dice', torch.mean(torch.from_numpy(np.array(batch_dice_score))), epoch * len(val_loader) + i)\n",
    "                running_loss = 0.0\n",
    "                batch_dice_score = []\n",
    "\n",
    "        epoch_loss /= i+1\n",
    "        train_loss.append(epoch_loss)\n",
    "        epoch_dice_score = torch.mean(torch.from_numpy(np.array(epoch_dice_score)))\n",
    "\n",
    "        end = time.time()\n",
    "        print(f\"Epoch {epoch} trained with loss: {epoch_loss}, and dice score {epoch_dice_score}. The running time is {end-start}.\")\n",
    "\n",
    "        model.eval()\n",
    "        running_loss = 0.0\n",
    "        epoch_loss = 0.0\n",
    "        running_score = 0.0\n",
    "        start = time.time()\n",
    "        batch_dice_score = []\n",
    "        epoch_dice_score = []\n",
    "        with torch.no_grad():\n",
    "            for i, data in enumerate(val_loader):\n",
    "                inputs, labels = data[0].to(device), data[1].to(device)\n",
    "                outputs = model(inputs)\n",
    "                loss = criterion(outputs, labels)\n",
    "                curr_loss = loss.item()\n",
    "                running_loss += curr_loss\n",
    "                epoch_loss += curr_loss\n",
    "\n",
    "                # begin: DICE score\n",
    "                #mask_pre_prob = torch.sigmoid(seg_model(inputs))#.detach().cpu().numpy()\n",
    "                mask_pre_prob = torch.sigmoid(outputs)#.detach().cpu().numpy()\n",
    "                outputs = np.squeeze(mask_pre_prob).detach().cpu()\n",
    "                mask_pre = np.where(outputs>0.5, 1,0)\n",
    "                mask_pre = torch.from_numpy(mask_pre)\n",
    "                #print('labels shape = ', labels.shape, 'mask shape =', mask_pre.shape)\n",
    "                score = dice_coeff(np.squeeze(labels).detach().cpu(), mask_pre)\n",
    "                batch_dice_score.append(score)\n",
    "                epoch_dice_score.append(score)\n",
    "                # end: DICE score\n",
    "#                 if i % 100 == 99: # every 10 minibatch\n",
    "#                     writer.add_scalar('eval loss', running_loss/100, epoch * len(val_loader) + i)\n",
    "#                     writer.add_scalar('eval dice', torch.mean(torch.from_numpy(np.array(batch_dice_score))), epoch * len(val_loader) + i)\n",
    "#                     running_loss = 0.0\n",
    "#                     batch_dice_score = []\n",
    "        writer.add_scalar('eval loss', running_loss/len(batch_dice_score), epoch)\n",
    "        writer.add_scalar('eval dice', torch.mean(torch.from_numpy(np.array(batch_dice_score))), epoch)\n",
    "        running_loss = 0.0\n",
    "        batch_dice_score = []\n",
    "        \n",
    "        epoch_loss /= i+1\n",
    "        #running_score /= i+1\n",
    "        val_loss.append(epoch_loss)\n",
    "        end = time.time()\n",
    "        epoch_dice_score = torch.mean(torch.from_numpy(np.array(epoch_dice_score)))\n",
    "        print(f\"Epoch {epoch} evaluated with loss: {epoch_loss}, and dice score: {epoch_dice_score}. The running time is {end-start}.\")\n",
    "        #update scheduler step\n",
    "        #scheduler.step(epoch_loss)\n",
    "        \n",
    "        #if running_loss == min(val_loss):\n",
    "        PATH = f'{rundir}/Epoch{epoch}.pth'\n",
    "        torch.save(model.state_dict(),PATH)\n",
    "        print('Last model saved at epoch:', epoch)\n",
    "        if epoch_dice_score > best_dice:\n",
    "            best_dice = epoch_dice_score\n",
    "            PATH = f'{rundir}/best_{epoch}.pth'\n",
    "            torch.save(model.state_dict(),PATH)\n",
    "            print('Best model saved at epoch:', epoch)\n",
    "\n",
    "    print(\"Training is completed.\")"
   ]
  },
  {
   "cell_type": "code",
   "execution_count": 44,
   "id": "different-horror",
   "metadata": {},
   "outputs": [
    {
     "name": "stdout",
     "output_type": "stream",
     "text": [
      "Epoch 0 trained with loss: 0.734471633627608, and dice score 0.02221321500837803. The running time is 63.03806257247925.\n",
      "Epoch 0 evaluated with loss: 0.6747934571420303, and dice score: 0.03210202977061272. The running time is 41.198782205581665.\n",
      "Last model saved at epoch: 0\n",
      "Best model saved at epoch: 0\n",
      "Training is completed.\n"
     ]
    }
   ],
   "source": [
    "train(1)"
   ]
  },
  {
   "cell_type": "markdown",
   "id": "sapphire-paragraph",
   "metadata": {},
   "source": [
    "### Test the model be trained"
   ]
  },
  {
   "cell_type": "code",
   "execution_count": 27,
   "id": "agreed-description",
   "metadata": {},
   "outputs": [
    {
     "name": "stdout",
     "output_type": "stream",
     "text": [
      "Number of test files are 380\n"
     ]
    }
   ],
   "source": [
    "import cv2\n",
    "from PIL import Image\n",
    "class NoduleDataset(Dataset):\n",
    "    def __init__(self, root_dir, image_paths, mask_paths, transforms=None, image_shape=(128,128), augment=False):\n",
    "        super().__init__()\n",
    "        self.augment = augment\n",
    "        self.image_shape = image_shape\n",
    "        self.batch_size = len(image_paths)\n",
    "        self.root_dir = root_dir\n",
    "        self.image_paths = image_paths\n",
    "        self.mask_paths  = mask_paths\n",
    "        self.transforms = transforms\n",
    "        \n",
    "    def __len__(self):\n",
    "        return len(self.image_paths)\n",
    "    \n",
    "    def __getitem__(self, index):\n",
    "        image = cv2.imread(self.root_dir + 'images/' + self.image_paths[index])\n",
    "\n",
    "        image = cv2.cvtColor(image, cv2.COLOR_BGR2GRAY)\n",
    "        mask = cv2.imread(self.root_dir + 'masks/' + self.mask_paths[index])\n",
    "\n",
    "        mask = cv2.cvtColor(mask, cv2.COLOR_BGR2GRAY)\n",
    "        (thresh, mask) = cv2.threshold(mask, 128, 255, cv2.THRESH_BINARY | cv2.THRESH_OTSU)\n",
    "\n",
    "        if self.transforms:\n",
    "            image = self.transforms(image)\n",
    "        mask = mask_transform(mask)\n",
    "        #convert from Boolean to int (0,1)\n",
    "        mask = mask.to(torch.uint8)\n",
    "        mask = (mask > 0).float()\n",
    "        return image, mask\n",
    "            \n",
    "\n",
    "batch_size = 16\n",
    "num_workers = 0\n",
    "\n",
    "nodule_data_test = NoduleDataset('/app/unet_test_from_fullsize_image/test/',test_image_files, test_mask_files, transforms=val_transform, augment=False)\n",
    "test_loader = DataLoader(nodule_data_test, shuffle=True, batch_size = batch_size,\n",
    "                             num_workers = num_workers)\n",
    "print(\"Number of test files are {}\".format(len(nodule_data_test)))"
   ]
  },
  {
   "cell_type": "code",
   "execution_count": 28,
   "id": "confidential-manual",
   "metadata": {},
   "outputs": [],
   "source": [
    "from tqdm import tqdm\n",
    "def calculate_dice_score_eval(model, loader):\n",
    "    scores = []\n",
    "    batch_dice_score = []\n",
    "    least_dice = 1\n",
    "    least_label = None\n",
    "    least_pre = None\n",
    "    with torch.no_grad():\n",
    "        for i, data in tqdm(enumerate(loader)):\n",
    "            inputs, labels = data[0].to(device), data[1].to(device)\n",
    "            mask_pre_prob = torch.sigmoid(model(inputs))#.detach().cpu().numpy()\n",
    "            outputs = np.squeeze(mask_pre_prob).detach().cpu()\n",
    "            mask_pre = np.where(outputs>0.5, 1,0)\n",
    "            mask_pre = torch.from_numpy(mask_pre)\n",
    "            score = dice_coeff(np.squeeze(labels).detach().cpu(), mask_pre)\n",
    "            score_map = {'id': i, 'dice': score.item()}\n",
    "            scores.append(score_map)\n",
    "            if score < least_dice:\n",
    "                least_dice = score\n",
    "                least_label = labels\n",
    "                least_pre = mask_pre\n",
    "            batch_dice_score.append(score)\n",
    "            if (i % 100) == 0:\n",
    "                print(\"Accumulated dice coeff {}\".format(torch.mean(torch.from_numpy(np.array(batch_dice_score)))))\n",
    "    final_score = torch.mean(torch.from_numpy(np.array(batch_dice_score)))\n",
    "    print(\"dice score: {}\".format(final_score))\n",
    "    return final_score, least_dice, least_label, least_pre, scores"
   ]
  },
  {
   "cell_type": "code",
   "execution_count": 29,
   "id": "registered-mileage",
   "metadata": {},
   "outputs": [
    {
     "name": "stderr",
     "output_type": "stream",
     "text": [
      "1it [00:00,  2.45it/s]"
     ]
    },
    {
     "name": "stdout",
     "output_type": "stream",
     "text": [
      "Accumulated dice coeff 0.816933810710907\n"
     ]
    },
    {
     "name": "stderr",
     "output_type": "stream",
     "text": [
      "24it [00:08,  2.74it/s]"
     ]
    },
    {
     "name": "stdout",
     "output_type": "stream",
     "text": [
      "dice score: 0.802039623260498\n",
      "Final test dice score = 0.802039623260498\n"
     ]
    },
    {
     "name": "stderr",
     "output_type": "stream",
     "text": [
      "\n"
     ]
    }
   ],
   "source": [
    "if torch.cuda.device_count() > 0:\n",
    "    device = torch.device(\"cuda\")\n",
    "else:\n",
    "    device = 'cpu'\n",
    "seg_model = Unet(enc_chs=(1,32,64,128,256,512), dec_chs=(512, 256, 128, 64, 32))\n",
    "if torch.cuda.device_count() > 0:\n",
    "    seg_model = torch.nn.parallel.DataParallel(seg_model, device_ids=[0,1]).cuda()\n",
    "seg_model = torch.nn.parallel.DataParallel(seg_model)\n",
    "seg_model.load_state_dict(torch.load('runs/unet_lidc_122/best_133.pth', map_location='cpu'))\n",
    "\n",
    "seg_model.eval()\n",
    "final_score, least_dice, least_label, least_pre, scores  = calculate_dice_score_eval(seg_model, test_loader)\n",
    "print(\"Final test dice score = {}\".format(final_score))"
   ]
  },
  {
   "cell_type": "code",
   "execution_count": 30,
   "id": "unlikely-variance",
   "metadata": {},
   "outputs": [],
   "source": [
    "if torch.cuda.device_count() > 0:\n",
    "    device = torch.device(\"cuda\")\n",
    "else:\n",
    "    device = 'cpu'\n",
    "def get_fpfn(model, loader):\n",
    "    model.eval()\n",
    "    fn = 0\n",
    "    fp = 0\n",
    "    total = 0\n",
    "    y_true = []\n",
    "    y_pred = []\n",
    "    with torch.no_grad():\n",
    "        for i, data in tqdm(enumerate(loader)):\n",
    "            inputs, labels = data[0].to(device), data[1].to(device)\n",
    "            mask_pre_prob = torch.sigmoid(model(inputs))#.detach().cpu().numpy()\n",
    "            outputs = np.squeeze(mask_pre_prob).detach().cpu()\n",
    "            mask_pre = np.where(outputs>0.5, 1,0)\n",
    "            mask_pre = torch.from_numpy(mask_pre)\n",
    "            for idx in range(labels.shape[0]):\n",
    "                total += 1\n",
    "                gt_pos = (torch.sum(labels[idx,:], dim=[1,2]) > 0)\n",
    "                pred_pos = (torch.sum(mask_pre[idx], dim=[0,1]) > 0)                    \n",
    "                if (not gt_pos) and ( pred_pos):\n",
    "                    fp += 1\n",
    "                    y_true.append(0)\n",
    "                    y_pred.append(1)\n",
    "                elif (gt_pos) and (not pred_pos):\n",
    "                    fn += 1\n",
    "                    y_true.append(1)\n",
    "                    y_pred.append(0)\n",
    "                elif gt_pos and pred_pos:\n",
    "                    y_true.append(1)\n",
    "                    y_pred.append(1)\n",
    "                else:\n",
    "                    y_true.append(0)\n",
    "                    y_pred.append(0)\n",
    "    return fp, fn, total, y_true, y_pred"
   ]
  },
  {
   "cell_type": "code",
   "execution_count": 31,
   "id": "designed-israel",
   "metadata": {},
   "outputs": [
    {
     "name": "stderr",
     "output_type": "stream",
     "text": [
      "24it [00:08,  2.76it/s]\n"
     ]
    }
   ],
   "source": [
    "if torch.cuda.device_count() > 0:\n",
    "    device = torch.device(\"cuda\")\n",
    "else:\n",
    "    device = 'cpu'\n",
    "seg_model = Unet(enc_chs=(1,32,64,128,256,512), dec_chs=(512, 256, 128, 64, 32))\n",
    "if torch.cuda.device_count() > 0:\n",
    "    seg_model = torch.nn.parallel.DataParallel(seg_model, device_ids=[0,1]).cuda()\n",
    "seg_model = torch.nn.parallel.DataParallel(seg_model)\n",
    "seg_model.load_state_dict(torch.load('runs/unet_lidc_122/best_133.pth', map_location='cpu'))\n",
    "\n",
    "seg_model.eval()\n",
    "fp, fn, total, y_true, y_pred = get_fpfn(seg_model, test_loader)"
   ]
  },
  {
   "cell_type": "code",
   "execution_count": 32,
   "id": "contemporary-thing",
   "metadata": {},
   "outputs": [
    {
     "name": "stdout",
     "output_type": "stream",
     "text": [
      "              precision    recall  f1-score   support\n",
      "\n",
      "      nodule       0.90      0.89      0.89        88\n",
      "   no nodule       0.97      0.97      0.97       292\n",
      "\n",
      "    accuracy                           0.95       380\n",
      "   macro avg       0.93      0.93      0.93       380\n",
      "weighted avg       0.95      0.95      0.95       380\n",
      "\n"
     ]
    }
   ],
   "source": [
    "from sklearn.metrics import classification_report\n",
    "target_names = ['nodule','no nodule']\n",
    "print(classification_report(y_true, y_pred, target_names=target_names))"
   ]
  },
  {
   "cell_type": "code",
   "execution_count": 33,
   "id": "sublime-johnston",
   "metadata": {},
   "outputs": [],
   "source": [
    "def sample_false_positives(model, loader):\n",
    "    model.eval()\n",
    "    with torch.no_grad():\n",
    "        for i, data in tqdm(enumerate(loader)):\n",
    "            inputs, labels = data[0].to(device), data[1].to(device)\n",
    "            mask_pre_prob = torch.sigmoid(model(inputs))#.detach().cpu().numpy()\n",
    "            outputs = np.squeeze(mask_pre_prob).detach().cpu()\n",
    "            mask_pre = np.where(outputs>0.5, 1,0)\n",
    "            mask_pre = torch.from_numpy(mask_pre)\n",
    "            #score = dice_coeff(np.squeeze(labels).detach().cpu(), mask_pre)\n",
    "            for idx in range(labels.shape[0]):\n",
    "                gt_pos = (torch.sum(labels[idx,:], dim=[1,2]) > 0)\n",
    "                pred_pos = (torch.sum(mask_pre[idx], dim=[0,1]) > 0)\n",
    "                if ( not gt_pos) and ( pred_pos):\n",
    "                    f = plt.figure(figsize=(6, 8))\n",
    "                    ax0 = f.add_subplot(1,3,1)\n",
    "                    ax0.imshow(inputs[idx,0].detach().cpu(), 'bone')\n",
    "                    ax0.set_title('Original image')\n",
    "                    ax1 = f.add_subplot(1,3,2)\n",
    "                    ax1.imshow(labels[idx,0].detach().cpu(), 'bone')\n",
    "                    ax1.set_title('True mask')\n",
    "                    ax2 = f.add_subplot(1,3,3)\n",
    "                    ax2.imshow(mask_pre[idx].detach().cpu(), 'bone')\n",
    "                    ax2.set_title('Predicted mask')\n",
    "                    break\n",
    "                    \n",
    "def sample_false_negatives(model, loader):\n",
    "    model.eval()\n",
    "    with torch.no_grad():\n",
    "        for i, data in tqdm(enumerate(loader)):\n",
    "            inputs, labels = data[0].to(device), data[1].to(device)\n",
    "            mask_pre_prob = torch.sigmoid(model(inputs))#.detach().cpu().numpy()\n",
    "            outputs = np.squeeze(mask_pre_prob).detach().cpu()\n",
    "            mask_pre = np.where(outputs>0.5, 1,0)\n",
    "            mask_pre = torch.from_numpy(mask_pre)\n",
    "            #score = dice_coeff(np.squeeze(labels).detach().cpu(), mask_pre)\n",
    "            for idx in range(labels.shape[0]):\n",
    "                gt_pos = (torch.sum(labels[idx,:], dim=[1,2]) > 0)\n",
    "                pred_pos = (torch.sum(mask_pre[idx], dim=[0,1]) > 0)\n",
    "                if (gt_pos) and ( not pred_pos):\n",
    "                    f = plt.figure(figsize=(6, 8))\n",
    "                    ax0 = f.add_subplot(1,3,1)\n",
    "                    ax0.imshow(inputs[idx,0].detach().cpu(), 'bone')\n",
    "                    ax0.set_title('Original image')\n",
    "                    ax1 = f.add_subplot(1,3,2)\n",
    "                    ax1.imshow(labels[idx,0].detach().cpu(), 'bone')\n",
    "                    ax1.set_title('True mask')\n",
    "                    ax2 = f.add_subplot(1,3,3)\n",
    "                    ax2.imshow(mask_pre[idx].detach().cpu(), 'bone')\n",
    "                    ax2.set_title('Predicted mask')\n",
    "                    break"
   ]
  },
  {
   "cell_type": "code",
   "execution_count": null,
   "id": "sustainable-exhaust",
   "metadata": {},
   "outputs": [
    {
     "name": "stderr",
     "output_type": "stream",
     "text": [
      "0it [00:00, ?it/s]"
     ]
    }
   ],
   "source": [
    "device = torch.device(\"cuda\")\n",
    "seg_model = Unet(enc_chs=(1,32,64,128,256,512), dec_chs=(512, 256, 128, 64, 32))\n",
    "if torch.cuda.device_count() > 0:\n",
    "    seg_model = torch.nn.parallel.DataParallel(seg_model, device_ids=[0,1]).cuda()\n",
    "seg_model = torch.nn.parallel.DataParallel(seg_model)\n",
    "seg_model.load_state_dict(torch.load('runs/unet_lidc_122/best_133.pth', map_location='cpu'))\n",
    "seg_model.eval()\n",
    "sample_false_negatives(seg_model, test_loader)"
   ]
  },
  {
   "cell_type": "code",
   "execution_count": null,
   "id": "wicked-combining",
   "metadata": {},
   "outputs": [],
   "source": [
    "device = torch.device(\"cuda\")\n",
    "seg_model = Unet(enc_chs=(1,32,64,128,256,512), dec_chs=(512, 256, 128, 64, 32))\n",
    "seg_model = torch.nn.parallel.DataParallel(seg_model, device_ids=[0,1]).cuda()\n",
    "seg_model.load_state_dict(torch.load('runs/unet_lidc_122/best_133.pth'))\n",
    "seg_model.eval()\n",
    "sample_false_positives(seg_model, test_loader)"
   ]
  },
  {
   "cell_type": "code",
   "execution_count": 150,
   "id": "adjustable-workplace",
   "metadata": {},
   "outputs": [],
   "source": [
    "from tqdm import tqdm\n",
    "def calculate_dice_score_eval(model, loader):\n",
    "    scores = []\n",
    "    batch_dice_score = []\n",
    "    batch_iou = []\n",
    "    least_dice = 1\n",
    "    least_label = None\n",
    "    least_pre = None\n",
    "    with torch.no_grad():\n",
    "        for i, data in tqdm(enumerate(loader)):\n",
    "            inputs, labels = data[0].to(device), data[1].to(device)\n",
    "            mask_pre_prob = torch.sigmoid(model(inputs))#.detach().cpu().numpy()\n",
    "            outputs = np.squeeze(mask_pre_prob).detach().cpu()\n",
    "            mask_pre = np.where(outputs>0.5, 1,0)\n",
    "            mask_pre = torch.from_numpy(mask_pre)\n",
    "            score = dice_coeff(np.squeeze(labels).detach().cpu(), mask_pre)\n",
    "            iou = iou_coeff(np.squeeze(labels).detach().cpu(), mask_pre)\n",
    "            score_map = {'id': i, 'dice': score.item()}\n",
    "          \n",
    "            \n",
    "            scores.append(score_map)\n",
    "            if score < least_dice:\n",
    "                least_dice = score\n",
    "                least_label = labels\n",
    "                least_pre = mask_pre\n",
    "            batch_dice_score.append(score)\n",
    "            batch_iou.append(iou)\n",
    "            if (i % 100) == 0:\n",
    "                print(\"Accumulated dice coeff {}\".format(torch.mean(torch.from_numpy(np.array(batch_dice_score)))))\n",
    "    final_score = torch.mean(torch.from_numpy(np.array(batch_dice_score)))\n",
    "    final_iou = torch.mean(torch.from_numpy(np.array(batch_iou)))\n",
    "    print(\"dice coeff: {}, iou coeff: {}\".format(final_score, final_iou))\n",
    "    return final_score, least_dice, least_label, least_pre, scores, final_iou"
   ]
  },
  {
   "cell_type": "code",
   "execution_count": 152,
   "id": "appreciated-theme",
   "metadata": {},
   "outputs": [
    {
     "name": "stderr",
     "output_type": "stream",
     "text": [
      "10it [00:00, 46.07it/s]"
     ]
    },
    {
     "name": "stdout",
     "output_type": "stream",
     "text": [
      "Accumulated dice coeff 0.8065387606620789\n"
     ]
    },
    {
     "name": "stderr",
     "output_type": "stream",
     "text": [
      "24it [00:00, 47.96it/s]"
     ]
    },
    {
     "name": "stdout",
     "output_type": "stream",
     "text": [
      "dice coeff: 0.8015429973602295, iou coeff: 0.7140655517578125\n",
      "Final test dice score = 0.8015429973602295, iou score = 0.7140655517578125\n"
     ]
    },
    {
     "name": "stderr",
     "output_type": "stream",
     "text": [
      "\n"
     ]
    }
   ],
   "source": [
    "device = torch.device(\"cuda\")\n",
    "seg_model = Unet(enc_chs=(1,32,64,128,256,512), dec_chs=(512, 256, 128, 64, 32))\n",
    "seg_model = torch.nn.parallel.DataParallel(seg_model, device_ids=[0,1]).cuda()\n",
    "seg_model.load_state_dict(torch.load('runs/unet_lidc_122/best_133.pth'))\n",
    "seg_model.eval()\n",
    "final_score, least_dice, least_label, least_pre, scores, final_iou  = calculate_dice_score_eval(seg_model, test_loader)\n",
    "print(\"Final test dice score = {}, iou score = {}\".format(final_score, final_iou))"
   ]
  },
  {
   "cell_type": "code",
   "execution_count": null,
   "id": "express-street",
   "metadata": {},
   "outputs": [],
   "source": []
  }
 ],
 "metadata": {
  "kernelspec": {
   "display_name": "Python 3",
   "language": "python",
   "name": "python3"
  },
  "language_info": {
   "codemirror_mode": {
    "name": "ipython",
    "version": 3
   },
   "file_extension": ".py",
   "mimetype": "text/x-python",
   "name": "python",
   "nbconvert_exporter": "python",
   "pygments_lexer": "ipython3",
   "version": "3.8.5"
  }
 },
 "nbformat": 4,
 "nbformat_minor": 5
}
