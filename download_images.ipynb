{
 "cells": [
  {
   "cell_type": "markdown",
   "id": "7f1679b2",
   "metadata": {},
   "source": [
    "## Download DICOM images\n",
    "\n",
    "We will download the DICOM images and save them as .npz files\n",
    "\n",
    "A total of 900 patients data (125 GB of DICOM) was downloaded and the final size of the saved .npz files were only 74GB\n",
    "\n",
    "The code loops over 10 patients at a time, downloads their CT images, converts them into .npz and cleans up the directory\n",
    "\n",
    "The data is saved in a new disk (100 GB) mounted into /mnt/disks/data"
   ]
  },
  {
   "cell_type": "code",
   "execution_count": null,
   "id": "80ada757",
   "metadata": {},
   "outputs": [],
   "source": [
    "#### Install the pidicom libraries"
   ]
  },
  {
   "cell_type": "code",
   "execution_count": 1,
   "id": "3888c40a",
   "metadata": {},
   "outputs": [
    {
     "name": "stdout",
     "output_type": "stream",
     "text": [
      "Requirement already satisfied: pydicom in /usr/local/lib/python3.8/dist-packages (2.2.2)\n",
      "\u001b[33mWARNING: Running pip as the 'root' user can result in broken permissions and conflicting behaviour with the system package manager. It is recommended to use a virtual environment instead: https://pip.pypa.io/warnings/venv\u001b[0m\n",
      "Requirement already satisfied: pylidc in /usr/local/lib/python3.8/dist-packages (0.2.2)\n",
      "Requirement already satisfied: pydicom>=1.0.0 in /usr/local/lib/python3.8/dist-packages (from pylidc) (2.2.2)\n",
      "Requirement already satisfied: scikit-image>=0.13 in /usr/local/lib/python3.8/dist-packages (from pylidc) (0.18.3)\n",
      "Requirement already satisfied: scipy>=0.18.1 in /usr/local/lib/python3.8/dist-packages (from pylidc) (1.4.1)\n",
      "Requirement already satisfied: numpy>=1.12.0 in /usr/local/lib/python3.8/dist-packages (from pylidc) (1.19.5)\n",
      "Requirement already satisfied: matplotlib>=2.0.0 in /usr/local/lib/python3.8/dist-packages (from pylidc) (3.4.3)\n",
      "Requirement already satisfied: sqlalchemy>=1.1.5 in /usr/local/lib/python3.8/dist-packages (from pylidc) (1.4.25)\n",
      "Requirement already satisfied: cycler>=0.10 in /usr/local/lib/python3.8/dist-packages (from matplotlib>=2.0.0->pylidc) (0.10.0)\n",
      "Requirement already satisfied: pyparsing>=2.2.1 in /usr/local/lib/python3.8/dist-packages (from matplotlib>=2.0.0->pylidc) (2.4.7)\n",
      "Requirement already satisfied: python-dateutil>=2.7 in /usr/local/lib/python3.8/dist-packages (from matplotlib>=2.0.0->pylidc) (2.8.2)\n",
      "Requirement already satisfied: pillow>=6.2.0 in /usr/local/lib/python3.8/dist-packages (from matplotlib>=2.0.0->pylidc) (8.3.2)\n",
      "Requirement already satisfied: kiwisolver>=1.0.1 in /usr/local/lib/python3.8/dist-packages (from matplotlib>=2.0.0->pylidc) (1.3.2)\n",
      "Requirement already satisfied: six in /usr/local/lib/python3.8/dist-packages (from cycler>=0.10->matplotlib>=2.0.0->pylidc) (1.15.0)\n",
      "Requirement already satisfied: networkx>=2.0 in /usr/local/lib/python3.8/dist-packages (from scikit-image>=0.13->pylidc) (2.6.3)\n",
      "Requirement already satisfied: PyWavelets>=1.1.1 in /usr/local/lib/python3.8/dist-packages (from scikit-image>=0.13->pylidc) (1.1.1)\n",
      "Requirement already satisfied: tifffile>=2019.7.26 in /usr/local/lib/python3.8/dist-packages (from scikit-image>=0.13->pylidc) (2021.8.30)\n",
      "Requirement already satisfied: imageio>=2.3.0 in /usr/local/lib/python3.8/dist-packages (from scikit-image>=0.13->pylidc) (2.9.0)\n",
      "Requirement already satisfied: greenlet!=0.4.17 in /usr/local/lib/python3.8/dist-packages (from sqlalchemy>=1.1.5->pylidc) (1.1.2)\n",
      "\u001b[33mWARNING: Running pip as the 'root' user can result in broken permissions and conflicting behaviour with the system package manager. It is recommended to use a virtual environment instead: https://pip.pypa.io/warnings/venv\u001b[0m\n"
     ]
    }
   ],
   "source": [
    "#!git clone https://github.com/pieper/dicomsort.git\n",
    "!pip install pydicom\n",
    "!pip install pylidc\n",
    "#!python dicomsort/dicomsort.py --help"
   ]
  },
  {
   "cell_type": "code",
   "execution_count": 2,
   "id": "f6f58770",
   "metadata": {},
   "outputs": [],
   "source": [
    "import pylidc as pl\n",
    "from pylidc.utils import consensus\n",
    "import pydicom as dicom\n",
    "from skimage.measure import find_contours\n",
    "import numpy as np\n",
    "import matplotlib.pyplot as plt"
   ]
  },
  {
   "cell_type": "code",
   "execution_count": 3,
   "id": "24748581",
   "metadata": {},
   "outputs": [
    {
     "data": {
      "text/plain": [
       "'1.3.6.1.4.1.14519.5.2.1.6279.6001.303241414168367763244410429787'"
      ]
     },
     "execution_count": 3,
     "metadata": {},
     "output_type": "execute_result"
    }
   ],
   "source": [
    "pl.query(pl.Scan).count()\n",
    "pid = 'LIDC-IDRI-0069'#'LIDC-IDRI-0001'\n",
    "scan = pl.query(pl.Scan).filter(pl.Scan.patient_id == pid).first()\n",
    "scan.study_instance_uid"
   ]
  },
  {
   "cell_type": "code",
   "execution_count": 4,
   "id": "6d9a384b",
   "metadata": {
    "collapsed": true,
    "jupyter": {
     "outputs_hidden": true
    }
   },
   "outputs": [
    {
     "name": "stdout",
     "output_type": "stream",
     "text": [
      "Collecting google-cloud-bigquery\n",
      "  Downloading google_cloud_bigquery-2.28.0-py2.py3-none-any.whl (202 kB)\n",
      "\u001b[K     |████████████████████████████████| 202 kB 10.2 MB/s eta 0:00:01\n",
      "\u001b[?25hRequirement already satisfied: requests<3.0.0dev,>=2.18.0 in /usr/local/lib/python3.8/dist-packages (from google-cloud-bigquery) (2.26.0)\n",
      "Collecting grpcio<2.0dev,>=1.38.1\n",
      "  Downloading grpcio-1.41.0-cp38-cp38-manylinux_2_17_x86_64.manylinux2014_x86_64.whl (3.9 MB)\n",
      "\u001b[K     |████████████████████████████████| 3.9 MB 69.8 MB/s eta 0:00:01\n",
      "\u001b[?25hRequirement already satisfied: packaging>=14.3 in /usr/local/lib/python3.8/dist-packages (from google-cloud-bigquery) (21.0)\n",
      "Collecting proto-plus>=1.10.0\n",
      "  Downloading proto_plus-1.19.2-py3-none-any.whl (43 kB)\n",
      "\u001b[K     |████████████████████████████████| 43 kB 3.0 MB/s  eta 0:00:01\n",
      "\u001b[?25hCollecting google-api-core[grpc]<3.0.0dev,>=1.29.0\n",
      "  Downloading google_api_core-2.0.1-py2.py3-none-any.whl (92 kB)\n",
      "\u001b[K     |████████████████████████████████| 92 kB 679 kB/s  eta 0:00:01\n",
      "\u001b[?25hCollecting google-resumable-media<3.0dev,>=0.6.0\n",
      "  Downloading google_resumable_media-2.0.3-py2.py3-none-any.whl (75 kB)\n",
      "\u001b[K     |████████████████████████████████| 75 kB 7.5 MB/s  eta 0:00:01\n",
      "\u001b[?25hCollecting google-cloud-core<3.0.0dev,>=1.4.1\n",
      "  Downloading google_cloud_core-2.0.0-py2.py3-none-any.whl (27 kB)\n",
      "Requirement already satisfied: protobuf>=3.12.0 in /usr/local/lib/python3.8/dist-packages (from google-cloud-bigquery) (3.17.3)\n",
      "Requirement already satisfied: google-auth<3.0dev,>=1.25.0 in /usr/local/lib/python3.8/dist-packages (from google-api-core[grpc]<3.0.0dev,>=1.29.0->google-cloud-bigquery) (1.34.0)\n",
      "Requirement already satisfied: setuptools>=40.3.0 in /usr/local/lib/python3.8/dist-packages (from google-api-core[grpc]<3.0.0dev,>=1.29.0->google-cloud-bigquery) (57.4.0)\n",
      "Requirement already satisfied: googleapis-common-protos<2.0dev,>=1.6.0 in /usr/local/lib/python3.8/dist-packages (from google-api-core[grpc]<3.0.0dev,>=1.29.0->google-cloud-bigquery) (1.53.0)\n",
      "Requirement already satisfied: six>=1.9.0 in /usr/local/lib/python3.8/dist-packages (from google-auth<3.0dev,>=1.25.0->google-api-core[grpc]<3.0.0dev,>=1.29.0->google-cloud-bigquery) (1.15.0)\n",
      "Requirement already satisfied: rsa<5,>=3.1.4 in /usr/local/lib/python3.8/dist-packages (from google-auth<3.0dev,>=1.25.0->google-api-core[grpc]<3.0.0dev,>=1.29.0->google-cloud-bigquery) (4.7.2)\n",
      "Requirement already satisfied: pyasn1-modules>=0.2.1 in /usr/local/lib/python3.8/dist-packages (from google-auth<3.0dev,>=1.25.0->google-api-core[grpc]<3.0.0dev,>=1.29.0->google-cloud-bigquery) (0.2.8)\n",
      "Requirement already satisfied: cachetools<5.0,>=2.0.0 in /usr/local/lib/python3.8/dist-packages (from google-auth<3.0dev,>=1.25.0->google-api-core[grpc]<3.0.0dev,>=1.29.0->google-cloud-bigquery) (4.2.2)\n",
      "Collecting google-crc32c<2.0dev,>=1.0\n",
      "  Downloading google_crc32c-1.2.0-cp38-cp38-manylinux_2_12_x86_64.manylinux2010_x86_64.whl (37 kB)\n",
      "Requirement already satisfied: pyparsing>=2.0.2 in /usr/local/lib/python3.8/dist-packages (from packaging>=14.3->google-cloud-bigquery) (2.4.7)\n",
      "Requirement already satisfied: pyasn1<0.5.0,>=0.4.6 in /usr/local/lib/python3.8/dist-packages (from pyasn1-modules>=0.2.1->google-auth<3.0dev,>=1.25.0->google-api-core[grpc]<3.0.0dev,>=1.29.0->google-cloud-bigquery) (0.4.8)\n",
      "Requirement already satisfied: certifi>=2017.4.17 in /usr/local/lib/python3.8/dist-packages (from requests<3.0.0dev,>=2.18.0->google-cloud-bigquery) (2021.5.30)\n",
      "Requirement already satisfied: idna<4,>=2.5 in /usr/local/lib/python3.8/dist-packages (from requests<3.0.0dev,>=2.18.0->google-cloud-bigquery) (3.2)\n",
      "Requirement already satisfied: urllib3<1.27,>=1.21.1 in /usr/local/lib/python3.8/dist-packages (from requests<3.0.0dev,>=2.18.0->google-cloud-bigquery) (1.26.6)\n",
      "Requirement already satisfied: charset-normalizer~=2.0.0 in /usr/local/lib/python3.8/dist-packages (from requests<3.0.0dev,>=2.18.0->google-cloud-bigquery) (2.0.4)\n",
      "Installing collected packages: grpcio, google-crc32c, google-api-core, proto-plus, google-resumable-media, google-cloud-core, google-cloud-bigquery\n",
      "  Attempting uninstall: grpcio\n",
      "    Found existing installation: grpcio 1.34.1\n",
      "    Uninstalling grpcio-1.34.1:\n",
      "      Successfully uninstalled grpcio-1.34.1\n",
      "\u001b[31mERROR: pip's dependency resolver does not currently take into account all the packages that are installed. This behaviour is the source of the following dependency conflicts.\n",
      "tensorflow 2.5.0+nv requires grpcio~=1.34.0, but you have grpcio 1.41.0 which is incompatible.\u001b[0m\n",
      "Successfully installed google-api-core-2.0.1 google-cloud-bigquery-2.28.0 google-cloud-core-2.0.0 google-crc32c-1.2.0 google-resumable-media-2.0.3 grpcio-1.41.0 proto-plus-1.19.2\n",
      "\u001b[33mWARNING: Running pip as the 'root' user can result in broken permissions and conflicting behaviour with the system package manager. It is recommended to use a virtual environment instead: https://pip.pypa.io/warnings/venv\u001b[0m\n",
      "Requirement already satisfied: google-auth-oauthlib in /usr/local/lib/python3.8/dist-packages (0.4.5)\n",
      "Collecting google-auth-oauthlib\n",
      "  Downloading google_auth_oauthlib-0.4.6-py2.py3-none-any.whl (18 kB)\n",
      "Requirement already satisfied: requests-oauthlib>=0.7.0 in /usr/local/lib/python3.8/dist-packages (from google-auth-oauthlib) (1.3.0)\n",
      "Requirement already satisfied: google-auth>=1.0.0 in /usr/local/lib/python3.8/dist-packages (from google-auth-oauthlib) (1.34.0)\n",
      "Requirement already satisfied: rsa<5,>=3.1.4 in /usr/local/lib/python3.8/dist-packages (from google-auth>=1.0.0->google-auth-oauthlib) (4.7.2)\n",
      "Requirement already satisfied: pyasn1-modules>=0.2.1 in /usr/local/lib/python3.8/dist-packages (from google-auth>=1.0.0->google-auth-oauthlib) (0.2.8)\n",
      "Requirement already satisfied: setuptools>=40.3.0 in /usr/local/lib/python3.8/dist-packages (from google-auth>=1.0.0->google-auth-oauthlib) (57.4.0)\n",
      "Requirement already satisfied: cachetools<5.0,>=2.0.0 in /usr/local/lib/python3.8/dist-packages (from google-auth>=1.0.0->google-auth-oauthlib) (4.2.2)\n",
      "Requirement already satisfied: six>=1.9.0 in /usr/local/lib/python3.8/dist-packages (from google-auth>=1.0.0->google-auth-oauthlib) (1.15.0)\n",
      "Requirement already satisfied: pyasn1<0.5.0,>=0.4.6 in /usr/local/lib/python3.8/dist-packages (from pyasn1-modules>=0.2.1->google-auth>=1.0.0->google-auth-oauthlib) (0.4.8)\n",
      "Requirement already satisfied: requests>=2.0.0 in /usr/local/lib/python3.8/dist-packages (from requests-oauthlib>=0.7.0->google-auth-oauthlib) (2.26.0)\n",
      "Requirement already satisfied: oauthlib>=3.0.0 in /usr/local/lib/python3.8/dist-packages (from requests-oauthlib>=0.7.0->google-auth-oauthlib) (3.1.1)\n",
      "Requirement already satisfied: certifi>=2017.4.17 in /usr/local/lib/python3.8/dist-packages (from requests>=2.0.0->requests-oauthlib>=0.7.0->google-auth-oauthlib) (2021.5.30)\n",
      "Requirement already satisfied: idna<4,>=2.5 in /usr/local/lib/python3.8/dist-packages (from requests>=2.0.0->requests-oauthlib>=0.7.0->google-auth-oauthlib) (3.2)\n",
      "Requirement already satisfied: urllib3<1.27,>=1.21.1 in /usr/local/lib/python3.8/dist-packages (from requests>=2.0.0->requests-oauthlib>=0.7.0->google-auth-oauthlib) (1.26.6)\n",
      "Requirement already satisfied: charset-normalizer~=2.0.0 in /usr/local/lib/python3.8/dist-packages (from requests>=2.0.0->requests-oauthlib>=0.7.0->google-auth-oauthlib) (2.0.4)\n",
      "Installing collected packages: google-auth-oauthlib\n",
      "  Attempting uninstall: google-auth-oauthlib\n",
      "    Found existing installation: google-auth-oauthlib 0.4.5\n",
      "    Uninstalling google-auth-oauthlib-0.4.5:\n",
      "      Successfully uninstalled google-auth-oauthlib-0.4.5\n",
      "Successfully installed google-auth-oauthlib-0.4.6\n",
      "\u001b[33mWARNING: Running pip as the 'root' user can result in broken permissions and conflicting behaviour with the system package manager. It is recommended to use a virtual environment instead: https://pip.pypa.io/warnings/venv\u001b[0m\n",
      "Requirement already satisfied: google-cloud-bigquery[bqstorage,pandas] in /usr/local/lib/python3.8/dist-packages (2.28.0)\n",
      "Requirement already satisfied: grpcio<2.0dev,>=1.38.1 in /usr/local/lib/python3.8/dist-packages (from google-cloud-bigquery[bqstorage,pandas]) (1.41.0)\n",
      "Requirement already satisfied: protobuf>=3.12.0 in /usr/local/lib/python3.8/dist-packages (from google-cloud-bigquery[bqstorage,pandas]) (3.17.3)\n",
      "Requirement already satisfied: google-resumable-media<3.0dev,>=0.6.0 in /usr/local/lib/python3.8/dist-packages (from google-cloud-bigquery[bqstorage,pandas]) (2.0.3)\n",
      "Requirement already satisfied: google-cloud-core<3.0.0dev,>=1.4.1 in /usr/local/lib/python3.8/dist-packages (from google-cloud-bigquery[bqstorage,pandas]) (2.0.0)\n",
      "Requirement already satisfied: proto-plus>=1.10.0 in /usr/local/lib/python3.8/dist-packages (from google-cloud-bigquery[bqstorage,pandas]) (1.19.2)\n",
      "Requirement already satisfied: google-api-core[grpc]<3.0.0dev,>=1.29.0 in /usr/local/lib/python3.8/dist-packages (from google-cloud-bigquery[bqstorage,pandas]) (2.0.1)\n",
      "Requirement already satisfied: packaging>=14.3 in /usr/local/lib/python3.8/dist-packages (from google-cloud-bigquery[bqstorage,pandas]) (21.0)\n",
      "Requirement already satisfied: requests<3.0.0dev,>=2.18.0 in /usr/local/lib/python3.8/dist-packages (from google-cloud-bigquery[bqstorage,pandas]) (2.26.0)\n",
      "Collecting google-cloud-bigquery-storage<3.0.0dev,>=2.0.0\n",
      "  Downloading google_cloud_bigquery_storage-2.9.0-py2.py3-none-any.whl (170 kB)\n",
      "\u001b[K     |████████████████████████████████| 170 kB 7.0 MB/s eta 0:00:01\n",
      "\u001b[?25hCollecting pyarrow<6.0dev,>=3.0.0\n",
      "  Downloading pyarrow-5.0.0-cp38-cp38-manylinux2014_x86_64.whl (23.6 MB)\n",
      "\u001b[K     |████████████████████████████████| 23.6 MB 37.3 MB/s eta 0:00:01\n",
      "\u001b[?25hCollecting pandas>=0.23.0\n",
      "  Downloading pandas-1.3.3-cp38-cp38-manylinux_2_17_x86_64.manylinux2014_x86_64.whl (11.5 MB)\n",
      "\u001b[K     |████████████████████████████████| 11.5 MB 53.1 MB/s eta 0:00:01\n",
      "\u001b[?25hRequirement already satisfied: setuptools>=40.3.0 in /usr/local/lib/python3.8/dist-packages (from google-api-core[grpc]<3.0.0dev,>=1.29.0->google-cloud-bigquery[bqstorage,pandas]) (57.4.0)\n",
      "Requirement already satisfied: googleapis-common-protos<2.0dev,>=1.6.0 in /usr/local/lib/python3.8/dist-packages (from google-api-core[grpc]<3.0.0dev,>=1.29.0->google-cloud-bigquery[bqstorage,pandas]) (1.53.0)\n",
      "Requirement already satisfied: google-auth<3.0dev,>=1.25.0 in /usr/local/lib/python3.8/dist-packages (from google-api-core[grpc]<3.0.0dev,>=1.29.0->google-cloud-bigquery[bqstorage,pandas]) (1.34.0)\n",
      "Requirement already satisfied: rsa<5,>=3.1.4 in /usr/local/lib/python3.8/dist-packages (from google-auth<3.0dev,>=1.25.0->google-api-core[grpc]<3.0.0dev,>=1.29.0->google-cloud-bigquery[bqstorage,pandas]) (4.7.2)\n",
      "Requirement already satisfied: pyasn1-modules>=0.2.1 in /usr/local/lib/python3.8/dist-packages (from google-auth<3.0dev,>=1.25.0->google-api-core[grpc]<3.0.0dev,>=1.29.0->google-cloud-bigquery[bqstorage,pandas]) (0.2.8)\n",
      "Requirement already satisfied: cachetools<5.0,>=2.0.0 in /usr/local/lib/python3.8/dist-packages (from google-auth<3.0dev,>=1.25.0->google-api-core[grpc]<3.0.0dev,>=1.29.0->google-cloud-bigquery[bqstorage,pandas]) (4.2.2)\n",
      "Requirement already satisfied: six>=1.9.0 in /usr/local/lib/python3.8/dist-packages (from google-auth<3.0dev,>=1.25.0->google-api-core[grpc]<3.0.0dev,>=1.29.0->google-cloud-bigquery[bqstorage,pandas]) (1.15.0)\n",
      "Collecting libcst>=0.2.5\n",
      "  Downloading libcst-0.3.21-py3-none-any.whl (514 kB)\n",
      "\u001b[K     |████████████████████████████████| 514 kB 68.3 MB/s eta 0:00:01\n",
      "\u001b[?25hRequirement already satisfied: google-crc32c<2.0dev,>=1.0 in /usr/local/lib/python3.8/dist-packages (from google-resumable-media<3.0dev,>=0.6.0->google-cloud-bigquery[bqstorage,pandas]) (1.2.0)\n",
      "Collecting typing-inspect>=0.4.0\n",
      "  Downloading typing_inspect-0.7.1-py3-none-any.whl (8.4 kB)\n",
      "Requirement already satisfied: pyyaml>=5.2 in /usr/local/lib/python3.8/dist-packages (from libcst>=0.2.5->google-cloud-bigquery-storage<3.0.0dev,>=2.0.0->google-cloud-bigquery[bqstorage,pandas]) (5.4.1)\n",
      "Requirement already satisfied: typing-extensions>=3.7.4.2 in /usr/local/lib/python3.8/dist-packages (from libcst>=0.2.5->google-cloud-bigquery-storage<3.0.0dev,>=2.0.0->google-cloud-bigquery[bqstorage,pandas]) (3.7.4.3)\n",
      "Requirement already satisfied: pyparsing>=2.0.2 in /usr/local/lib/python3.8/dist-packages (from packaging>=14.3->google-cloud-bigquery[bqstorage,pandas]) (2.4.7)\n",
      "Requirement already satisfied: pytz>=2017.3 in /usr/local/lib/python3.8/dist-packages (from pandas>=0.23.0->google-cloud-bigquery[bqstorage,pandas]) (2021.1)\n",
      "Requirement already satisfied: python-dateutil>=2.7.3 in /usr/local/lib/python3.8/dist-packages (from pandas>=0.23.0->google-cloud-bigquery[bqstorage,pandas]) (2.8.2)\n",
      "Requirement already satisfied: numpy>=1.17.3 in /usr/local/lib/python3.8/dist-packages (from pandas>=0.23.0->google-cloud-bigquery[bqstorage,pandas]) (1.19.5)\n",
      "Requirement already satisfied: pyasn1<0.5.0,>=0.4.6 in /usr/local/lib/python3.8/dist-packages (from pyasn1-modules>=0.2.1->google-auth<3.0dev,>=1.25.0->google-api-core[grpc]<3.0.0dev,>=1.29.0->google-cloud-bigquery[bqstorage,pandas]) (0.4.8)\n",
      "Requirement already satisfied: urllib3<1.27,>=1.21.1 in /usr/local/lib/python3.8/dist-packages (from requests<3.0.0dev,>=2.18.0->google-cloud-bigquery[bqstorage,pandas]) (1.26.6)\n",
      "Requirement already satisfied: charset-normalizer~=2.0.0 in /usr/local/lib/python3.8/dist-packages (from requests<3.0.0dev,>=2.18.0->google-cloud-bigquery[bqstorage,pandas]) (2.0.4)\n",
      "Requirement already satisfied: certifi>=2017.4.17 in /usr/local/lib/python3.8/dist-packages (from requests<3.0.0dev,>=2.18.0->google-cloud-bigquery[bqstorage,pandas]) (2021.5.30)\n",
      "Requirement already satisfied: idna<4,>=2.5 in /usr/local/lib/python3.8/dist-packages (from requests<3.0.0dev,>=2.18.0->google-cloud-bigquery[bqstorage,pandas]) (3.2)\n",
      "Collecting mypy-extensions>=0.3.0\n",
      "  Downloading mypy_extensions-0.4.3-py2.py3-none-any.whl (4.5 kB)\n",
      "Installing collected packages: mypy-extensions, typing-inspect, libcst, pyarrow, pandas, google-cloud-bigquery-storage\n",
      "Successfully installed google-cloud-bigquery-storage-2.9.0 libcst-0.3.21 mypy-extensions-0.4.3 pandas-1.3.3 pyarrow-5.0.0 typing-inspect-0.7.1\n",
      "\u001b[33mWARNING: Running pip as the 'root' user can result in broken permissions and conflicting behaviour with the system package manager. It is recommended to use a virtual environment instead: https://pip.pypa.io/warnings/venv\u001b[0m\n"
     ]
    }
   ],
   "source": [
    "!pip install google-cloud-bigquery\n",
    "!pip install --upgrade google-auth-oauthlib\n",
    "!pip install --upgrade 'google-cloud-bigquery[bqstorage,pandas]'"
   ]
  },
  {
   "cell_type": "code",
   "execution_count": 5,
   "id": "666c2cc4",
   "metadata": {},
   "outputs": [
    {
     "name": "stdout",
     "output_type": "stream",
     "text": [
      "Please visit this URL to authorize this application: https://accounts.google.com/o/oauth2/auth?response_type=code&client_id=354066013909-il5lh54dbass54iv45m7thff0uuefjar.apps.googleusercontent.com&redirect_uri=urn%3Aietf%3Awg%3Aoauth%3A2.0%3Aoob&scope=https%3A%2F%2Fwww.googleapis.com%2Fauth%2Fbigquery&state=akdGBwyOYA5rylbgvRxduNOlMR3nTf&prompt=consent&access_type=offline\n"
     ]
    },
    {
     "name": "stdin",
     "output_type": "stream",
     "text": [
      "Enter the authorization code:  4/1AX4XfWiyUlOLs_W9lVGBHFymyid_DO13ZkVHPtduQJD4pYUDpYfKbqrPhIk\n"
     ]
    }
   ],
   "source": [
    "from google_auth_oauthlib import flow\n",
    "\n",
    "# TODO: Uncomment the line below to set the `launch_browser` variable.\n",
    "launch_browser = False\n",
    "#\n",
    "# The `launch_browser` boolean variable indicates if a local server is used\n",
    "# as the callback URL in the auth flow. A value of `True` is recommended,\n",
    "# but a local server does not work if accessing the application remotely,\n",
    "# such as over SSH or from a remote Jupyter notebook.\n",
    "\n",
    "appflow = flow.InstalledAppFlow.from_client_secrets_file(\n",
    "    \"client_secret_desktop.json\", scopes=[\"https://www.googleapis.com/auth/bigquery\"]\n",
    ")\n",
    "\n",
    "if launch_browser:\n",
    "    appflow.run_local_server()\n",
    "else:\n",
    "    appflow.run_console()\n",
    "\n",
    "credentials = appflow.credentials"
   ]
  },
  {
   "cell_type": "code",
   "execution_count": 7,
   "id": "799e1a79",
   "metadata": {},
   "outputs": [],
   "source": [
    "%load_ext google.cloud.bigquery"
   ]
  },
  {
   "cell_type": "code",
   "execution_count": 10,
   "id": "7d519563",
   "metadata": {},
   "outputs": [],
   "source": [
    "from google.cloud.bigquery import magics\n",
    "magics.context.credentials = credentials"
   ]
  },
  {
   "cell_type": "code",
   "execution_count": 12,
   "id": "c273792d",
   "metadata": {},
   "outputs": [],
   "source": [
    "myProjectID = \"idc-external-012\""
   ]
  },
  {
   "cell_type": "code",
   "execution_count": 13,
   "id": "794e9011",
   "metadata": {},
   "outputs": [
    {
     "name": "stderr",
     "output_type": "stream",
     "text": [
      "Query complete after 0.09s: 100%|█████████████████████████████████████████████████████████████████████████████████████████████████████| 16/16 [00:00<00:00, 4087.52query/s]\n",
      "Downloading: 100%|██████████████████████████████████████████████████████████████████████████████████████████████████████████████████| 1018/1018 [00:01<00:00, 699.48rows/s]\n"
     ]
    }
   ],
   "source": [
    "%%bigquery CT_series --project=$myProjectID \n",
    "\n",
    "WITH\n",
    "  all_lidc_ct_series AS (\n",
    "  SELECT\n",
    "    DISTINCT(SeriesInstanceUID),\n",
    "    StudyInstanceUID,  \n",
    "    PatientID,\n",
    "    SliceThickness,\n",
    "    ARRAY_TO_STRING(PixelSpacing,\"/\") as pixelspa \n",
    "  FROM\n",
    "    `canceridc-data.idc_views.dicom_all`\n",
    "  WHERE\n",
    "    Modality = \"CT\"\n",
    "    AND collection_id = \"lidc_idri\")\n",
    "SELECT PatientID,SliceThickness,pixelspa,StudyInstanceUID,SeriesInstanceUID FROM\n",
    "  all_lidc_ct_series\n",
    "ORDER BY\n",
    "  PatientID"
   ]
  },
  {
   "cell_type": "code",
   "execution_count": 27,
   "id": "4b989271",
   "metadata": {},
   "outputs": [
    {
     "name": "stdout",
     "output_type": "stream",
     "text": [
      "Choosing patients with slice thickness > 1.0\n",
      "Total patients is 1010 and chosen patients are 971\n"
     ]
    }
   ],
   "source": [
    "total_patients = len(np.unique(CT_series['PatientID']))\n",
    "chosen_patients = len(np.unique(CT_series[(CT_series[\"SliceThickness\"].astype(float)>=1.0)]['PatientID']))\n",
    "print(\"Choosing patients with slice thickness > 1.0\")\n",
    "print(\"Total patients is {} and chosen patients are {}\".format(total_patients, chosen_patients))"
   ]
  },
  {
   "cell_type": "code",
   "execution_count": 30,
   "id": "5849331b",
   "metadata": {},
   "outputs": [
    {
     "name": "stdout",
     "output_type": "stream",
     "text": [
      "Shape of the raw dataset is (979, 5)\n"
     ]
    }
   ],
   "source": [
    "import pandas as pd\n",
    "# s_1,s_2,s_3 = 5,5,5\n",
    "# ct_series_1 = CT_series[CT_series[\"SliceThickness\"].astype(float)==1.0]\n",
    "# ct_series_2 = CT_series[CT_series[\"SliceThickness\"].astype(float)==2.0]\n",
    "# ct_series_3 = CT_series[CT_series[\"SliceThickness\"].astype(float)==3.0]\n",
    "# ct_series_HR = pd.concat([ct_series_1[:s_1],ct_series_2[:s_2],ct_series_3[:s_3]])\n",
    "ct_series_HR = CT_series[(CT_series[\"SliceThickness\"].astype(float)>=1.0)]\n",
    "print(\"Shape of the raw dataset is {}\".format(ct_series_HR.shape))"
   ]
  },
  {
   "cell_type": "code",
   "execution_count": 31,
   "id": "9dedc677",
   "metadata": {},
   "outputs": [],
   "source": [
    "to_download = []\n",
    "base_gs_uri = 'gs://idc-tcia-lidc-idri/dicom/'\n",
    "\n",
    "for i in range(ct_series_HR.shape[0]):\n",
    "    to_download.append(base_gs_uri + ct_series_HR.iloc[i]['StudyInstanceUID'] + '/' + ct_series_HR.iloc[i]['SeriesInstanceUID'])\n",
    "\n",
    "manifest_df = pd.DataFrame({\"gcs\":to_download},columns=[\"gcs\"])"
   ]
  },
  {
   "cell_type": "code",
   "execution_count": 35,
   "id": "de6fca54",
   "metadata": {
    "collapsed": true,
    "jupyter": {
     "outputs_hidden": true
    }
   },
   "outputs": [
    {
     "name": "stdout",
     "output_type": "stream",
     "text": [
      "gs://idc-tcia-lidc-idri/dicom/1.3.6.1.4.1.14519.5.2.1.6279.6001.298806137288633453246975630178/1.3.6.1.4.1.14519.5.2.1.6279.6001.179049373636438705059720603192\n",
      "gs://idc-tcia-lidc-idri/dicom/1.3.6.1.4.1.14519.5.2.1.6279.6001.490157381160200744295382098329/1.3.6.1.4.1.14519.5.2.1.6279.6001.619372068417051974713149104919\n",
      "gs://idc-tcia-lidc-idri/dicom/1.3.6.1.4.1.14519.5.2.1.6279.6001.101370605276577556143013894866/1.3.6.1.4.1.14519.5.2.1.6279.6001.170706757615202213033480003264\n",
      "gs://idc-tcia-lidc-idri/dicom/1.3.6.1.4.1.14519.5.2.1.6279.6001.191425307197546732281885591780/1.3.6.1.4.1.14519.5.2.1.6279.6001.323541312620128092852212458228\n",
      "gs://idc-tcia-lidc-idri/dicom/1.3.6.1.4.1.14519.5.2.1.6279.6001.190188259083742759886805142125/1.3.6.1.4.1.14519.5.2.1.6279.6001.129007566048223160327836686225\n",
      "gs://idc-tcia-lidc-idri/dicom/1.3.6.1.4.1.14519.5.2.1.6279.6001.324680252006411183918098592500/1.3.6.1.4.1.14519.5.2.1.6279.6001.132817748896065918417924920957\n",
      "gs://idc-tcia-lidc-idri/dicom/1.3.6.1.4.1.14519.5.2.1.6279.6001.280315210397549164238230581781/1.3.6.1.4.1.14519.5.2.1.6279.6001.272348349298439120568330857680\n",
      "gs://idc-tcia-lidc-idri/dicom/1.3.6.1.4.1.14519.5.2.1.6279.6001.185810436275168701789786930141/1.3.6.1.4.1.14519.5.2.1.6279.6001.774060103415303828812229821954\n",
      "gs://idc-tcia-lidc-idri/dicom/1.3.6.1.4.1.14519.5.2.1.6279.6001.225213110794629789874295007045/1.3.6.1.4.1.14519.5.2.1.6279.6001.286061375572911414226912429210\n",
      "gs://idc-tcia-lidc-idri/dicom/1.3.6.1.4.1.14519.5.2.1.6279.6001.303099231937480740934110243375/1.3.6.1.4.1.14519.5.2.1.6279.6001.416701701108520592702405866796\n"
     ]
    }
   ],
   "source": [
    "manifest_df.to_csv(\"gcs_paths_all.txt\",header=False, index=False)\n",
    "!head gcs_paths_all.txt"
   ]
  },
  {
   "cell_type": "code",
   "execution_count": 36,
   "id": "c92395b6",
   "metadata": {
    "collapsed": true,
    "jupyter": {
     "outputs_hidden": true
    }
   },
   "outputs": [
    {
     "name": "stdout",
     "output_type": "stream",
     "text": [
      "Collecting gsutil\n",
      "  Downloading gsutil-5.3.tar.gz (2.9 MB)\n",
      "\u001b[K     |████████████████████████████████| 2.9 MB 8.1 MB/s eta 0:00:01\n",
      "\u001b[?25hCollecting argcomplete>=1.9.4\n",
      "  Downloading argcomplete-1.12.3-py2.py3-none-any.whl (38 kB)\n",
      "Collecting crcmod>=1.7\n",
      "  Downloading crcmod-1.7.tar.gz (89 kB)\n",
      "\u001b[K     |████████████████████████████████| 89 kB 11.9 MB/s eta 0:00:01\n",
      "\u001b[?25hCollecting fasteners>=0.14.1\n",
      "  Downloading fasteners-0.16.3-py2.py3-none-any.whl (28 kB)\n",
      "Collecting gcs-oauth2-boto-plugin>=3.0\n",
      "  Downloading gcs-oauth2-boto-plugin-3.0.tar.gz (20 kB)\n",
      "Collecting google-apitools>=0.5.32\n",
      "  Downloading google_apitools-0.5.32-py3-none-any.whl (135 kB)\n",
      "\u001b[K     |████████████████████████████████| 135 kB 69.0 MB/s eta 0:00:01\n",
      "\u001b[?25hCollecting httplib2>=0.18\n",
      "  Downloading httplib2-0.19.1-py3-none-any.whl (95 kB)\n",
      "\u001b[K     |████████████████████████████████| 95 kB 7.3 MB/s  eta 0:00:01\n",
      "\u001b[?25hCollecting google-reauth>=0.1.0\n",
      "  Downloading google_reauth-0.1.1-py2.py3-none-any.whl (17 kB)\n",
      "Collecting monotonic>=1.4\n",
      "  Downloading monotonic-1.6-py2.py3-none-any.whl (8.2 kB)\n",
      "Collecting pyOpenSSL>=0.13\n",
      "  Downloading pyOpenSSL-21.0.0-py2.py3-none-any.whl (55 kB)\n",
      "\u001b[K     |████████████████████████████████| 55 kB 6.1 MB/s  eta 0:00:01\n",
      "\u001b[?25hCollecting retry_decorator>=1.0.0\n",
      "  Downloading retry_decorator-1.1.1.tar.gz (3.9 kB)\n",
      "Requirement already satisfied: six>=1.12.0 in /usr/local/lib/python3.8/dist-packages (from gsutil) (1.15.0)\n",
      "Requirement already satisfied: rsa==4.7.2 in /usr/local/lib/python3.8/dist-packages (from gcs-oauth2-boto-plugin>=3.0->gsutil) (4.7.2)\n",
      "Collecting boto>=2.29.1\n",
      "  Downloading boto-2.49.0-py2.py3-none-any.whl (1.4 MB)\n",
      "\u001b[K     |████████████████████████████████| 1.4 MB 60.9 MB/s eta 0:00:01\n",
      "\u001b[?25hCollecting oauth2client>=2.2.0\n",
      "  Downloading oauth2client-4.1.3-py2.py3-none-any.whl (98 kB)\n",
      "\u001b[K     |████████████████████████████████| 98 kB 13.1 MB/s eta 0:00:01\n",
      "\u001b[?25hRequirement already satisfied: pyasn1>=0.1.3 in /usr/local/lib/python3.8/dist-packages (from rsa==4.7.2->gcs-oauth2-boto-plugin>=3.0->gsutil) (0.4.8)\n",
      "Collecting pyu2f\n",
      "  Downloading pyu2f-0.1.5.tar.gz (27 kB)\n",
      "Requirement already satisfied: pyparsing<3,>=2.4.2 in /usr/local/lib/python3.8/dist-packages (from httplib2>=0.18->gsutil) (2.4.7)\n",
      "Requirement already satisfied: pyasn1-modules>=0.0.5 in /usr/local/lib/python3.8/dist-packages (from oauth2client>=2.2.0->gcs-oauth2-boto-plugin>=3.0->gsutil) (0.2.8)\n",
      "Collecting cryptography>=3.3\n",
      "  Downloading cryptography-35.0.0-cp36-abi3-manylinux_2_24_x86_64.whl (3.5 MB)\n",
      "\u001b[K     |████████████████████████████████| 3.5 MB 56.9 MB/s eta 0:00:01\n",
      "\u001b[?25hRequirement already satisfied: cffi>=1.12 in /usr/local/lib/python3.8/dist-packages (from cryptography>=3.3->pyOpenSSL>=0.13->gsutil) (1.14.6)\n",
      "Requirement already satisfied: pycparser in /usr/local/lib/python3.8/dist-packages (from cffi>=1.12->cryptography>=3.3->pyOpenSSL>=0.13->gsutil) (2.20)\n",
      "Building wheels for collected packages: gsutil, crcmod, gcs-oauth2-boto-plugin, retry-decorator, pyu2f\n",
      "  Building wheel for gsutil (setup.py) ... \u001b[?25ldone\n",
      "\u001b[?25h  Created wheel for gsutil: filename=gsutil-5.3-py3-none-any.whl size=3713522 sha256=973d4ed8b821eeafef429f6f172d37380d57693d758f99108154346f255ecbd6\n",
      "  Stored in directory: /root/.cache/pip/wheels/b2/4a/2c/1b8db4719f842155e5b945c0a76af939519c6d6d5da7fc4019\n",
      "  Building wheel for crcmod (setup.py) ... \u001b[?25ldone\n",
      "\u001b[?25h  Created wheel for crcmod: filename=crcmod-1.7-cp38-cp38-linux_x86_64.whl size=36033 sha256=2f931477bbd7c382558520699f729b10883f3213911e93b8613eedcda2b36182\n",
      "  Stored in directory: /root/.cache/pip/wheels/ca/5a/02/f3acf982a026f3319fb3e798a8dca2d48fafee7761788562e9\n",
      "  Building wheel for gcs-oauth2-boto-plugin (setup.py) ... \u001b[?25ldone\n",
      "\u001b[?25h  Created wheel for gcs-oauth2-boto-plugin: filename=gcs_oauth2_boto_plugin-3.0-py3-none-any.whl size=23220 sha256=0198f5db0828008d3f4adcb401f5da72d0f6e5ea8db61c2fe487cf60e6f9967d\n",
      "  Stored in directory: /root/.cache/pip/wheels/c2/ff/00/10b85e9e1b43efc461153dca75aa47e4640ef41d291b3666a1\n",
      "  Building wheel for retry-decorator (setup.py) ... \u001b[?25ldone\n",
      "\u001b[?25h  Created wheel for retry-decorator: filename=retry_decorator-1.1.1-py2.py3-none-any.whl size=3656 sha256=828ca07d7e1ea7d9b9ed11681da6ad2f0f45b73f846bd96f8d7803aec7e74e01\n",
      "  Stored in directory: /root/.cache/pip/wheels/1e/bb/cb/5d7a05561d7ec60b8c0dc65f156a33909a3eb5c56340959fa9\n",
      "  Building wheel for pyu2f (setup.py) ... \u001b[?25ldone\n",
      "\u001b[?25h  Created wheel for pyu2f: filename=pyu2f-0.1.5-py3-none-any.whl size=39402 sha256=fe8b5a7db0039c12fe3d33851dfcef6757bcf9beae2c1b3d1735ee7754b7c987\n",
      "  Stored in directory: /root/.cache/pip/wheels/8d/38/8f/378b4491d760a176f261d56310fcb051e53090a894534acbf0\n",
      "Successfully built gsutil crcmod gcs-oauth2-boto-plugin retry-decorator pyu2f\n",
      "Installing collected packages: pyu2f, httplib2, cryptography, retry-decorator, pyOpenSSL, oauth2client, google-reauth, fasteners, boto, monotonic, google-apitools, gcs-oauth2-boto-plugin, crcmod, argcomplete, gsutil\n",
      "Successfully installed argcomplete-1.12.3 boto-2.49.0 crcmod-1.7 cryptography-35.0.0 fasteners-0.16.3 gcs-oauth2-boto-plugin-3.0 google-apitools-0.5.32 google-reauth-0.1.1 gsutil-5.3 httplib2-0.19.1 monotonic-1.6 oauth2client-4.1.3 pyOpenSSL-21.0.0 pyu2f-0.1.5 retry-decorator-1.1.1\n",
      "\u001b[33mWARNING: Running pip as the 'root' user can result in broken permissions and conflicting behaviour with the system package manager. It is recommended to use a virtual environment instead: https://pip.pypa.io/warnings/venv\u001b[0m\n"
     ]
    }
   ],
   "source": [
    "!pip install gsutil"
   ]
  },
  {
   "cell_type": "markdown",
   "id": "bd691dc2",
   "metadata": {},
   "source": [
    "Download 100 patients at a time and convert the images to .npz files"
   ]
  },
  {
   "cell_type": "code",
   "execution_count": 114,
   "id": "0eeb2a71",
   "metadata": {},
   "outputs": [],
   "source": [
    "!rm -rf /data/temp/gcsfiles/\n",
    "!rm -rf /data/temp/sorted_gcsfiles/"
   ]
  },
  {
   "cell_type": "code",
   "execution_count": 134,
   "id": "2e2d8f87",
   "metadata": {},
   "outputs": [],
   "source": [
    "import os\n",
    "# this directory will be created in the downloader but never deletedn entirely, only contents would be cleared\n",
    "data_folder = '/data/temp/sorted_gcsfiles/'"
   ]
  },
  {
   "cell_type": "code",
   "execution_count": 135,
   "id": "4514d656",
   "metadata": {},
   "outputs": [],
   "source": [
    "#f = open ('.pylidcrc','w')            #For GCP\n",
    "f = open ('/root/.pylidcrc','w')    #For Colab\n",
    "f.write('[dicom]'+'\\n')\n",
    "f.write('path =' + data_folder +'\\n')\n",
    "f.write('warn = True')\n",
    "f.close()"
   ]
  },
  {
   "cell_type": "code",
   "execution_count": 138,
   "id": "78e35a99",
   "metadata": {},
   "outputs": [],
   "source": [
    "from tqdm import tqdm"
   ]
  },
  {
   "cell_type": "code",
   "execution_count": 122,
   "id": "51553aaa",
   "metadata": {},
   "outputs": [],
   "source": [
    "patient_list = os.listdir(data_folder)"
   ]
  },
  {
   "cell_type": "code",
   "execution_count": 123,
   "id": "74fa7a4c",
   "metadata": {
    "collapsed": true,
    "jupyter": {
     "outputs_hidden": true
    }
   },
   "outputs": [
    {
     "name": "stdout",
     "output_type": "stream",
     "text": [
      "Current patient ID = LIDC-IDRI-0007\n",
      "Loading dicom files ... This may take a moment.\n"
     ]
    },
    {
     "data": {
      "image/png": "[encoded data removed]",
      "text/plain": [
       "<Figure size 1728x576 with 3 Axes>"
      ]
     },
     "metadata": {
      "needs_background": "light"
     },
     "output_type": "display_data"
    }
   ],
   "source": [
    "%matplotlib inline\n",
    "\n",
    "patient_select = 0\n",
    "print (\"Current patient ID =\", patient_list[patient_select])\n",
    "\n",
    "scan = pl.query(pl.Scan).filter(pl.Scan.patient_id.in_(patient_list))\n",
    "nodules_annotation = scan[patient_select].cluster_annotations()\n",
    "vol = scan[patient_select].to_volume()\n",
    "\n",
    "cmask_CT = []\n",
    "cbbox_CT = []\n",
    "masks_CT = []\n",
    "for nodule_idx, nodule in enumerate(nodules_annotation):\n",
    "    cmask, cbbox, masks = consensus(nodule)\n",
    "    cmask_CT.append(cmask)\n",
    "    cbbox_CT.append(cbbox)\n",
    "    masks_CT.append(masks)   \n",
    "\n",
    "nodule_num = len(cmask_CT)\n",
    "plt.figure(figsize=(8*3,8*nodule_num))\n",
    "for i in range(nodule_num):\n",
    "    cmask = cmask_CT[i]\n",
    "    cbbox = cbbox_CT[i]\n",
    "    masks = masks_CT[i]\n",
    "    k = int(0.5*(cbbox[2].stop - cbbox[2].start))\n",
    "    k_slice = k + cbbox[2].start\n",
    "    plt.subplot(nodule_num,3,1+i*3)\n",
    "    plt.imshow(vol[:,:,k_slice],cmap='gray')\n",
    "    plt.clim(vmin=-1350,vmax=-150)\n",
    "    \n",
    "    plt.subplot(nodule_num,3,2+i*3)\n",
    "    CT_mask = np.zeros_like(vol)\n",
    "    CT_mask[cbbox] = cmask\n",
    "    plt.imshow(CT_mask[:,:,k_slice])\n",
    "\n",
    "    plt.subplot(nodule_num,3,3+i*3)\n",
    "    plt.imshow(vol[cbbox][:,:,k],cmap='gray')\n",
    "    # Plot the annotation contours for the kth slice.\n",
    "    colors = ['r', 'g', 'b', 'y']\n",
    "    for j in range(len(masks)):\n",
    "        for c in find_contours(masks[j][:,:,k].astype(float), 0.5):\n",
    "            label = \"Annotation %d\" % (j+1)\n",
    "            plt.plot(c[:,1], c[:,0], colors[j], label=label)\n",
    "\n",
    "    # Plot the 50% consensus contour for the kth slice.\n",
    "    for c in find_contours(cmask[:,:,k].astype(float), 0.5):\n",
    "        plt.plot(c[:,1], c[:,0], '--k', label='50% Consensus')"
   ]
  },
  {
   "cell_type": "code",
   "execution_count": 128,
   "id": "0c98e58a",
   "metadata": {},
   "outputs": [],
   "source": [
    "from PIL import Image\n",
    "import contextlib\n",
    "\n",
    "def save_patient_images_and_masks(patient_id, root_dir='/data/train'):\n",
    "    scan = pl.query(pl.Scan).filter(pl.Scan.patient_id.in_([patient_id]))[0]\n",
    "    nodules_annotation = scan.cluster_annotations()\n",
    "    with contextlib.redirect_stdout(None):\n",
    "        vol = scan.to_volume()\n",
    "\n",
    "    cmask_CT = []\n",
    "    cbbox_CT = []\n",
    "    masks_CT = []\n",
    "    for nodule_idx, nodule in enumerate(nodules_annotation):\n",
    "        cmask, cbbox, masks = consensus(nodule)\n",
    "        cmask_CT.append(cmask)\n",
    "        cbbox_CT.append(cbbox)\n",
    "        masks_CT.append(masks)   \n",
    "\n",
    "    CT_mask = np.zeros_like(vol)    \n",
    "    nodule_num = len(cmask_CT)\n",
    "\n",
    "    for i in range(nodule_num):\n",
    "        cmask = cmask_CT[i]\n",
    "        cbbox = cbbox_CT[i]\n",
    "        masks = masks_CT[i]    \n",
    "        CT_mask[cbbox] += cmask\n",
    "\n",
    "    for slice_id in range(vol.shape[2]):\n",
    "        image = vol[:,:,slice_id]\n",
    "        mask = CT_mask[:,:,slice_id]\n",
    "        image_file_name = root_dir + \"/images/\" + \"img\" + \"_\" + str(patient_id) + \"_\" + str(slice_id) + \".npz\"\n",
    "        mask_file_name = root_dir + \"/masks/\" + \"mask\" + \"_\" + str(patient_id) + \"_\" + str(slice_id) + \".npz\"\n",
    "        np.savez_compressed(image_file_name, image)\n",
    "        np.savez_compressed(mask_file_name, mask)"
   ]
  },
  {
   "cell_type": "code",
   "execution_count": 152,
   "id": "cfb66c38",
   "metadata": {},
   "outputs": [],
   "source": [
    "root_dir = '/data/all/train'\n",
    "def patient_data_as_npz_files():\n",
    "    #get patient list\n",
    "    patient_list = os.listdir(data_folder)\n",
    "    if not os.path.exists(root_dir):\n",
    "        print(\"Creating directory {}\".format(root_dir))\n",
    "        os.makedirs(root_dir)\n",
    "    if not os.path.exists(root_dir + \"/images/\"):\n",
    "        print(\"Creating directory {}\".format(root_dir + \"/images/\"))\n",
    "        os.makedirs(root_dir + \"/images/\")\n",
    "    if not os.path.exists(root_dir + \"/masks/\"):\n",
    "        print(\"Creating directory {}\".format(root_dir + \"/masks/\"))\n",
    "        os.makedirs(root_dir + \"/masks/\")\n",
    "    print(\"Saving patient .npz files to {}\".format(root_dir))\n",
    "    for i in tqdm(range(len(patient_list))):\n",
    "        try:\n",
    "            save_patient_images_and_masks(patient_list[i], root_dir)\n",
    "        except:\n",
    "            print(\"Error getting DICOM files for patient {}, skipping\".format(patient_list[i]))"
   ]
  },
  {
   "cell_type": "code",
   "execution_count": 142,
   "id": "6a59f5b2",
   "metadata": {},
   "outputs": [],
   "source": [
    "# clean start\n",
    "!rm -rf /data/temp/gcsfiles/\n",
    "!rm -rf /data/temp/sorted_gcsfiles/"
   ]
  },
  {
   "cell_type": "code",
   "execution_count": 157,
   "id": "6f48458f",
   "metadata": {
    "collapsed": true,
    "jupyter": {
     "outputs_hidden": true
    }
   },
   "outputs": [
    {
     "data": {
      "text/html": [
       "<div>\n",
       "<style scoped>\n",
       "    .dataframe tbody tr th:only-of-type {\n",
       "        vertical-align: middle;\n",
       "    }\n",
       "\n",
       "    .dataframe tbody tr th {\n",
       "        vertical-align: top;\n",
       "    }\n",
       "\n",
       "    .dataframe thead th {\n",
       "        text-align: right;\n",
       "    }\n",
       "</style>\n",
       "<table border=\"1\" class=\"dataframe\">\n",
       "  <thead>\n",
       "    <tr style=\"text-align: right;\">\n",
       "      <th></th>\n",
       "      <th>gcs</th>\n",
       "    </tr>\n",
       "  </thead>\n",
       "  <tbody>\n",
       "    <tr>\n",
       "      <th>51</th>\n",
       "      <td>gs://idc-tcia-lidc-idri/dicom/1.3.6.1.4.1.1451...</td>\n",
       "    </tr>\n",
       "    <tr>\n",
       "      <th>52</th>\n",
       "      <td>gs://idc-tcia-lidc-idri/dicom/1.3.6.1.4.1.1451...</td>\n",
       "    </tr>\n",
       "    <tr>\n",
       "      <th>53</th>\n",
       "      <td>gs://idc-tcia-lidc-idri/dicom/1.3.6.1.4.1.1451...</td>\n",
       "    </tr>\n",
       "    <tr>\n",
       "      <th>54</th>\n",
       "      <td>gs://idc-tcia-lidc-idri/dicom/1.3.6.1.4.1.1451...</td>\n",
       "    </tr>\n",
       "    <tr>\n",
       "      <th>55</th>\n",
       "      <td>gs://idc-tcia-lidc-idri/dicom/1.3.6.1.4.1.1451...</td>\n",
       "    </tr>\n",
       "    <tr>\n",
       "      <th>...</th>\n",
       "      <td>...</td>\n",
       "    </tr>\n",
       "    <tr>\n",
       "      <th>974</th>\n",
       "      <td>gs://idc-tcia-lidc-idri/dicom/1.3.6.1.4.1.1451...</td>\n",
       "    </tr>\n",
       "    <tr>\n",
       "      <th>975</th>\n",
       "      <td>gs://idc-tcia-lidc-idri/dicom/1.3.6.1.4.1.1451...</td>\n",
       "    </tr>\n",
       "    <tr>\n",
       "      <th>976</th>\n",
       "      <td>gs://idc-tcia-lidc-idri/dicom/1.3.6.1.4.1.1451...</td>\n",
       "    </tr>\n",
       "    <tr>\n",
       "      <th>977</th>\n",
       "      <td>gs://idc-tcia-lidc-idri/dicom/1.3.6.1.4.1.1451...</td>\n",
       "    </tr>\n",
       "    <tr>\n",
       "      <th>978</th>\n",
       "      <td>gs://idc-tcia-lidc-idri/dicom/1.3.6.1.4.1.1451...</td>\n",
       "    </tr>\n",
       "  </tbody>\n",
       "</table>\n",
       "<p>928 rows × 1 columns</p>\n",
       "</div>"
      ],
      "text/plain": [
       "                                                   gcs\n",
       "51   gs://idc-tcia-lidc-idri/dicom/1.3.6.1.4.1.1451...\n",
       "52   gs://idc-tcia-lidc-idri/dicom/1.3.6.1.4.1.1451...\n",
       "53   gs://idc-tcia-lidc-idri/dicom/1.3.6.1.4.1.1451...\n",
       "54   gs://idc-tcia-lidc-idri/dicom/1.3.6.1.4.1.1451...\n",
       "55   gs://idc-tcia-lidc-idri/dicom/1.3.6.1.4.1.1451...\n",
       "..                                                 ...\n",
       "974  gs://idc-tcia-lidc-idri/dicom/1.3.6.1.4.1.1451...\n",
       "975  gs://idc-tcia-lidc-idri/dicom/1.3.6.1.4.1.1451...\n",
       "976  gs://idc-tcia-lidc-idri/dicom/1.3.6.1.4.1.1451...\n",
       "977  gs://idc-tcia-lidc-idri/dicom/1.3.6.1.4.1.1451...\n",
       "978  gs://idc-tcia-lidc-idri/dicom/1.3.6.1.4.1.1451...\n",
       "\n",
       "[928 rows x 1 columns]"
      ]
     },
     "execution_count": 157,
     "metadata": {},
     "output_type": "execute_result"
    }
   ],
   "source": [
    "manifest_df[51:]"
   ]
  },
  {
   "cell_type": "code",
   "execution_count": 158,
   "id": "4b5054ff",
   "metadata": {},
   "outputs": [
    {
     "name": "stdout",
     "output_type": "stream",
     "text": [
      "Directory /data/temp/gcsfiles/ exists\n",
      "Directory /data/temp/sorted_gcsfiles/ exists\n"
     ]
    },
    {
     "name": "stderr",
     "output_type": "stream",
     "text": [
      "100%|██████████| 1980/1980 [00:03<00:00, 501.99it/s]                                                                                    | 10/928 [00:39<1:02:53,  4.11s/it]\n"
     ]
    },
    {
     "name": "stdout",
     "output_type": "stream",
     "text": [
      "Files sorted\n",
      "Cleaning up downloaded DICOM files...\n"
     ]
    },
    {
     "name": "stderr",
     "output_type": "stream",
     "text": [
      "\n",
      "  0%|                                                                                                                                               | 0/11 [00:00<?, ?it/s]\u001b[A\n",
      "100%|██████████████████████████████████████████████████████████████████████████████████████████████████████████████████████████████████████| 11/11 [00:00<00:00, 59.43it/s]\u001b[A\n"
     ]
    },
    {
     "name": "stdout",
     "output_type": "stream",
     "text": [
      "Saving patient data as .npz file...\n",
      "Saving patient .npz files to /data/all/train\n"
     ]
    },
    {
     "name": "stderr",
     "output_type": "stream",
     "text": [
      "\n",
      "  0%|                                                                                                                                               | 0/11 [00:00<?, ?it/s]\u001b[A\n",
      "  9%|████████████▎                                                                                                                          | 1/11 [00:08<01:21,  8.18s/it]\u001b[A\n",
      " 18%|████████████████████████▌                                                                                                              | 2/11 [00:15<01:07,  7.48s/it]\u001b[A\n",
      " 27%|████████████████████████████████████▊                                                                                                  | 3/11 [00:22<00:57,  7.22s/it]\u001b[A\n",
      " 36%|█████████████████████████████████████████████████                                                                                      | 4/11 [00:30<00:53,  7.58s/it]\u001b[A\n",
      " 45%|█████████████████████████████████████████████████████████████▎                                                                         | 5/11 [00:44<01:00, 10.12s/it]\u001b[A\n",
      " 55%|█████████████████████████████████████████████████████████████████████████▋                                                             | 6/11 [00:52<00:46,  9.37s/it]\u001b[A\n",
      " 64%|█████████████████████████████████████████████████████████████████████████████████████▉                                                 | 7/11 [01:07<00:43, 10.97s/it]\u001b[A\n",
      " 73%|██████████████████████████████████████████████████████████████████████████████████████████████████▏                                    | 8/11 [01:14<00:29,  9.74s/it]\u001b[A\n",
      " 82%|██████████████████████████████████████████████████████████████████████████████████████████████████████████████▍                        | 9/11 [01:27<00:21, 10.72s/it]\u001b[A\n",
      " 91%|█████████████████████████████████████████████████████████████████████████████████████████████████████████████████████████▊            | 10/11 [01:42<00:12, 12.28s/it]\u001b[A\n",
      "100%|██████████████████████████████████████████████████████████████████████████████████████████████████████████████████████████████████████| 11/11 [01:56<00:00, 10.60s/it]\u001b[A\n"
     ]
    },
    {
     "name": "stdout",
     "output_type": "stream",
     "text": [
      "Cleaning up sorted DICOM files...\n"
     ]
    },
    {
     "name": "stderr",
     "output_type": "stream",
     "text": [
      "\n",
      "  0%|                                                                                                                                               | 0/11 [00:00<?, ?it/s]\u001b[A\n",
      "100%|██████████████████████████████████████████████████████████████████████████████████████████████████████████████████████████████████████| 11/11 [00:00<00:00, 66.81it/s]\u001b[A\n",
      "100%|██████████| 1761/1761 [00:03<00:00, 500.44it/s]                                                                                    | 20/928 [03:15<1:22:31,  5.45s/it]\n"
     ]
    },
    {
     "name": "stdout",
     "output_type": "stream",
     "text": [
      "Files sorted\n",
      "Cleaning up downloaded DICOM files...\n"
     ]
    },
    {
     "name": "stderr",
     "output_type": "stream",
     "text": [
      "\n",
      "  0%|                                                                                                                                               | 0/10 [00:00<?, ?it/s]\u001b[A\n",
      "100%|██████████████████████████████████████████████████████████████████████████████████████████████████████████████████████████████████████| 10/10 [00:00<00:00, 66.40it/s]\u001b[A\n"
     ]
    },
    {
     "name": "stdout",
     "output_type": "stream",
     "text": [
      "Saving patient data as .npz file...\n",
      "Saving patient .npz files to /data/all/train\n"
     ]
    },
    {
     "name": "stderr",
     "output_type": "stream",
     "text": [
      "\n",
      "  0%|                                                                                                                                               | 0/10 [00:00<?, ?it/s]\u001b[A\n",
      " 10%|█████████████▌                                                                                                                         | 1/10 [00:17<02:33, 17.02s/it]\u001b[A\n",
      " 20%|███████████████████████████                                                                                                            | 2/10 [00:33<02:14, 16.81s/it]\u001b[A\n",
      " 30%|████████████████████████████████████████▌                                                                                              | 3/10 [00:40<01:26, 12.39s/it]\u001b[A\n",
      " 40%|██████████████████████████████████████████████████████                                                                                 | 4/10 [00:49<01:05, 10.90s/it]\u001b[A\n",
      " 50%|███████████████████████████████████████████████████████████████████▌                                                                   | 5/10 [01:01<00:57, 11.40s/it]\u001b[A\n",
      " 60%|█████████████████████████████████████████████████████████████████████████████████                                                      | 6/10 [01:09<00:40, 10.10s/it]\u001b[A\n",
      " 70%|██████████████████████████████████████████████████████████████████████████████████████████████▌                                        | 7/10 [01:15<00:26,  8.87s/it]\u001b[A\n",
      " 80%|████████████████████████████████████████████████████████████████████████████████████████████████████████████                           | 8/10 [01:27<00:19,  9.95s/it]\u001b[A\n",
      " 90%|█████████████████████████████████████████████████████████████████████████████████████████████████████████████████████████▌             | 9/10 [01:36<00:09,  9.64s/it]\u001b[A\n",
      "100%|██████████████████████████████████████████████████████████████████████████████████████████████████████████████████████████████████████| 10/10 [01:43<00:00, 10.38s/it]\u001b[A\n"
     ]
    },
    {
     "name": "stdout",
     "output_type": "stream",
     "text": [
      "Cleaning up sorted DICOM files...\n"
     ]
    },
    {
     "name": "stderr",
     "output_type": "stream",
     "text": [
      "\n",
      "  0%|                                                                                                                                               | 0/10 [00:00<?, ?it/s]\u001b[A\n",
      "100%|██████████████████████████████████████████████████████████████████████████████████████████████████████████████████████████████████████| 10/10 [00:00<00:00, 68.96it/s]\u001b[A\n",
      "100%|██████████| 1724/1724 [00:03<00:00, 495.80it/s]                                                                                    | 30/928 [05:38<1:13:12,  4.89s/it]\n"
     ]
    },
    {
     "name": "stdout",
     "output_type": "stream",
     "text": [
      "Files sorted\n",
      "Cleaning up downloaded DICOM files...\n"
     ]
    },
    {
     "name": "stderr",
     "output_type": "stream",
     "text": [
      "\n",
      "  0%|                                                                                                                                               | 0/10 [00:00<?, ?it/s]\u001b[A\n",
      "100%|██████████████████████████████████████████████████████████████████████████████████████████████████████████████████████████████████████| 10/10 [00:00<00:00, 68.33it/s]\u001b[A\n"
     ]
    },
    {
     "name": "stdout",
     "output_type": "stream",
     "text": [
      "Saving patient data as .npz file...\n",
      "Saving patient .npz files to /data/all/train\n"
     ]
    },
    {
     "name": "stderr",
     "output_type": "stream",
     "text": [
      "\n",
      "  0%|                                                                                                                                               | 0/10 [00:00<?, ?it/s]\u001b[A\n",
      " 10%|█████████████▌                                                                                                                         | 1/10 [00:14<02:07, 14.20s/it]\u001b[A\n",
      " 20%|███████████████████████████                                                                                                            | 2/10 [00:28<01:52, 14.00s/it]\u001b[A\n",
      " 30%|████████████████████████████████████████▌                                                                                              | 3/10 [00:40<01:31, 13.09s/it]\u001b[A\n",
      " 40%|██████████████████████████████████████████████████████                                                                                 | 4/10 [00:55<01:23, 13.85s/it]\u001b[A\n",
      " 50%|███████████████████████████████████████████████████████████████████▌                                                                   | 5/10 [01:02<00:58, 11.62s/it]\u001b[A\n",
      " 60%|█████████████████████████████████████████████████████████████████████████████████                                                      | 6/10 [01:10<00:40, 10.24s/it]\u001b[A\n",
      " 70%|██████████████████████████████████████████████████████████████████████████████████████████████▌                                        | 7/10 [01:16<00:27,  9.06s/it]\u001b[A\n",
      " 80%|████████████████████████████████████████████████████████████████████████████████████████████████████████████                           | 8/10 [01:24<00:17,  8.53s/it]\u001b[A\n",
      " 90%|█████████████████████████████████████████████████████████████████████████████████████████████████████████████████████████▌             | 9/10 [01:31<00:08,  8.11s/it]\u001b[A\n",
      "100%|██████████████████████████████████████████████████████████████████████████████████████████████████████████████████████████████████████| 10/10 [01:36<00:00,  9.66s/it]\u001b[A\n"
     ]
    },
    {
     "name": "stdout",
     "output_type": "stream",
     "text": [
      "Error getting DICOM files for patient LIDC-IDRI-0030, skipping\n",
      "Cleaning up sorted DICOM files...\n"
     ]
    },
    {
     "name": "stderr",
     "output_type": "stream",
     "text": [
      "\n",
      "  0%|                                                                                                                                               | 0/10 [00:00<?, ?it/s]\u001b[A\n",
      "100%|██████████████████████████████████████████████████████████████████████████████████████████████████████████████████████████████████████| 10/10 [00:00<00:00, 66.23it/s]\u001b[A\n",
      "100%|██████████| 1882/1882 [00:03<00:00, 490.99it/s]                                                                                    | 40/928 [08:01<1:21:37,  5.51s/it]\n"
     ]
    },
    {
     "name": "stdout",
     "output_type": "stream",
     "text": [
      "Files sorted\n",
      "Cleaning up downloaded DICOM files...\n"
     ]
    },
    {
     "name": "stderr",
     "output_type": "stream",
     "text": [
      "\n",
      "  0%|                                                                                                                                               | 0/10 [00:00<?, ?it/s]\u001b[A\n",
      "100%|██████████████████████████████████████████████████████████████████████████████████████████████████████████████████████████████████████| 10/10 [00:00<00:00, 52.97it/s]\u001b[A\n"
     ]
    },
    {
     "name": "stdout",
     "output_type": "stream",
     "text": [
      "Saving patient data as .npz file...\n",
      "Saving patient .npz files to /data/all/train\n"
     ]
    },
    {
     "name": "stderr",
     "output_type": "stream",
     "text": [
      "\n",
      "  0%|                                                                                                                                               | 0/10 [00:00<?, ?it/s]\u001b[A\n",
      " 10%|█████████████▌                                                                                                                         | 1/10 [00:14<02:07, 14.22s/it]\u001b[A\n",
      " 20%|███████████████████████████                                                                                                            | 2/10 [00:21<01:20, 10.08s/it]\u001b[A\n",
      " 30%|████████████████████████████████████████▌                                                                                              | 3/10 [00:40<01:40, 14.37s/it]\u001b[A\n",
      " 40%|██████████████████████████████████████████████████████                                                                                 | 4/10 [00:49<01:11, 11.96s/it]\u001b[A\n",
      " 50%|███████████████████████████████████████████████████████████████████▌                                                                   | 5/10 [01:06<01:08, 13.78s/it]\u001b[A\n",
      " 60%|█████████████████████████████████████████████████████████████████████████████████                                                      | 6/10 [01:12<00:45, 11.42s/it]\u001b[A\n",
      " 70%|██████████████████████████████████████████████████████████████████████████████████████████████▌                                        | 7/10 [01:27<00:37, 12.46s/it]\u001b[A\n",
      " 80%|████████████████████████████████████████████████████████████████████████████████████████████████████████████                           | 8/10 [01:35<00:21, 10.93s/it]\u001b[A\n",
      " 90%|█████████████████████████████████████████████████████████████████████████████████████████████████████████████████████████▌             | 9/10 [01:42<00:09,  9.84s/it]\u001b[A\n",
      "100%|██████████████████████████████████████████████████████████████████████████████████████████████████████████████████████████████████████| 10/10 [01:49<00:00, 10.95s/it]\u001b[A\n"
     ]
    },
    {
     "name": "stdout",
     "output_type": "stream",
     "text": [
      "Cleaning up sorted DICOM files...\n"
     ]
    },
    {
     "name": "stderr",
     "output_type": "stream",
     "text": [
      "\n",
      "  0%|                                                                                                                                               | 0/10 [00:00<?, ?it/s]\u001b[A\n",
      "100%|██████████████████████████████████████████████████████████████████████████████████████████████████████████████████████████████████████| 10/10 [00:00<00:00, 69.95it/s]\u001b[A\n",
      "100%|██████████| 1479/1479 [00:02<00:00, 508.11it/s]                                                                                    | 50/928 [10:27<1:09:54,  4.78s/it]\n"
     ]
    },
    {
     "name": "stdout",
     "output_type": "stream",
     "text": [
      "Files sorted\n",
      "Cleaning up downloaded DICOM files...\n"
     ]
    },
    {
     "name": "stderr",
     "output_type": "stream",
     "text": [
      "\n",
      "  0%|                                                                                                                                               | 0/10 [00:00<?, ?it/s]\u001b[A\n",
      "100%|██████████████████████████████████████████████████████████████████████████████████████████████████████████████████████████████████████| 10/10 [00:00<00:00, 57.18it/s]\u001b[A\n"
     ]
    },
    {
     "name": "stdout",
     "output_type": "stream",
     "text": [
      "Saving patient data as .npz file...\n",
      "Saving patient .npz files to /data/all/train\n"
     ]
    },
    {
     "name": "stderr",
     "output_type": "stream",
     "text": [
      "\n",
      "  0%|                                                                                                                                               | 0/10 [00:00<?, ?it/s]\u001b[A\n",
      " 10%|█████████████▌                                                                                                                         | 1/10 [00:09<01:22,  9.14s/it]\u001b[A\n",
      " 20%|███████████████████████████                                                                                                            | 2/10 [00:16<01:02,  7.85s/it]\u001b[A\n",
      " 30%|████████████████████████████████████████▌                                                                                              | 3/10 [00:25<00:59,  8.44s/it]\u001b[A\n",
      " 40%|██████████████████████████████████████████████████████                                                                                 | 4/10 [00:31<00:45,  7.59s/it]\u001b[A\n",
      " 50%|███████████████████████████████████████████████████████████████████▌                                                                   | 5/10 [00:42<00:43,  8.66s/it]\u001b[A\n",
      " 60%|█████████████████████████████████████████████████████████████████████████████████                                                      | 6/10 [00:58<00:45, 11.29s/it]\u001b[A\n",
      " 70%|██████████████████████████████████████████████████████████████████████████████████████████████▌                                        | 7/10 [01:05<00:29,  9.98s/it]\u001b[A\n",
      " 80%|████████████████████████████████████████████████████████████████████████████████████████████████████████████                           | 8/10 [01:13<00:18,  9.21s/it]\u001b[A\n",
      " 90%|█████████████████████████████████████████████████████████████████████████████████████████████████████████████████████████▌             | 9/10 [01:20<00:08,  8.69s/it]\u001b[A\n",
      "100%|██████████████████████████████████████████████████████████████████████████████████████████████████████████████████████████████████████| 10/10 [01:29<00:00,  8.94s/it]\u001b[A\n"
     ]
    },
    {
     "name": "stdout",
     "output_type": "stream",
     "text": [
      "Cleaning up sorted DICOM files...\n"
     ]
    },
    {
     "name": "stderr",
     "output_type": "stream",
     "text": [
      "\n",
      "  0%|                                                                                                                                               | 0/10 [00:00<?, ?it/s]\u001b[A\n",
      "100%|██████████████████████████████████████████████████████████████████████████████████████████████████████████████████████████████████████| 10/10 [00:00<00:00, 78.90it/s]\u001b[A\n",
      "100%|██████████| 1649/1649 [00:03<00:00, 466.29it/s]                                                                                    | 60/928 [12:37<1:06:26,  4.59s/it]\n"
     ]
    },
    {
     "name": "stdout",
     "output_type": "stream",
     "text": [
      "Files sorted\n",
      "Cleaning up downloaded DICOM files...\n"
     ]
    },
    {
     "name": "stderr",
     "output_type": "stream",
     "text": [
      "\n",
      "  0%|                                                                                                                                               | 0/10 [00:00<?, ?it/s]\u001b[A\n",
      "100%|██████████████████████████████████████████████████████████████████████████████████████████████████████████████████████████████████████| 10/10 [00:00<00:00, 71.81it/s]\u001b[A\n"
     ]
    },
    {
     "name": "stdout",
     "output_type": "stream",
     "text": [
      "Saving patient data as .npz file...\n",
      "Saving patient .npz files to /data/all/train\n"
     ]
    },
    {
     "name": "stderr",
     "output_type": "stream",
     "text": [
      "\n",
      "  0%|                                                                                                                                               | 0/10 [00:00<?, ?it/s]\u001b[A\n",
      " 10%|█████████████▌                                                                                                                         | 1/10 [00:13<02:02, 13.63s/it]\u001b[A\n",
      " 20%|███████████████████████████                                                                                                            | 2/10 [00:27<01:50, 13.76s/it]\u001b[A\n",
      " 30%|████████████████████████████████████████▌                                                                                              | 3/10 [00:39<01:31, 13.09s/it]\u001b[A\n",
      " 40%|██████████████████████████████████████████████████████                                                                                 | 4/10 [00:46<01:04, 10.68s/it]\u001b[A\n",
      " 50%|███████████████████████████████████████████████████████████████████▌                                                                   | 5/10 [00:53<00:45,  9.19s/it]\u001b[A\n",
      " 60%|█████████████████████████████████████████████████████████████████████████████████                                                      | 6/10 [01:00<00:33,  8.47s/it]\u001b[A"
     ]
    },
    {
     "name": "stdout",
     "output_type": "stream",
     "text": [
      "Failed to reduce all groups to <= 4 Annotations.\n",
      "Some nodules may be close and must be grouped manually.\n"
     ]
    },
    {
     "name": "stderr",
     "output_type": "stream",
     "text": [
      "\n",
      " 70%|██████████████████████████████████████████████████████████████████████████████████████████████▌                                        | 7/10 [01:08<00:25,  8.46s/it]\u001b[A\n",
      " 80%|████████████████████████████████████████████████████████████████████████████████████████████████████████████                           | 8/10 [01:15<00:15,  7.80s/it]\u001b[A\n",
      " 90%|█████████████████████████████████████████████████████████████████████████████████████████████████████████████████████████▌             | 9/10 [01:30<00:10, 10.06s/it]\u001b[A\n",
      "100%|██████████████████████████████████████████████████████████████████████████████████████████████████████████████████████████████████████| 10/10 [01:38<00:00,  9.81s/it]\u001b[A\n"
     ]
    },
    {
     "name": "stdout",
     "output_type": "stream",
     "text": [
      "Cleaning up sorted DICOM files...\n"
     ]
    },
    {
     "name": "stderr",
     "output_type": "stream",
     "text": [
      "\n",
      "  0%|                                                                                                                                               | 0/10 [00:00<?, ?it/s]\u001b[A\n",
      "100%|██████████████████████████████████████████████████████████████████████████████████████████████████████████████████████████████████████| 10/10 [00:00<00:00, 75.84it/s]\u001b[A\n",
      "100%|██████████| 1960/1960 [00:03<00:00, 512.12it/s]                                                                                    | 70/928 [14:55<1:13:35,  5.15s/it]\n"
     ]
    },
    {
     "name": "stdout",
     "output_type": "stream",
     "text": [
      "Files sorted\n",
      "Cleaning up downloaded DICOM files...\n"
     ]
    },
    {
     "name": "stderr",
     "output_type": "stream",
     "text": [
      "\n",
      "  0%|                                                                                                                                               | 0/10 [00:00<?, ?it/s]\u001b[A\n",
      "100%|██████████████████████████████████████████████████████████████████████████████████████████████████████████████████████████████████████| 10/10 [00:00<00:00, 52.47it/s]\u001b[A\n"
     ]
    },
    {
     "name": "stdout",
     "output_type": "stream",
     "text": [
      "Saving patient data as .npz file...\n",
      "Saving patient .npz files to /data/all/train\n"
     ]
    },
    {
     "name": "stderr",
     "output_type": "stream",
     "text": [
      "\n",
      "  0%|                                                                                                                                               | 0/10 [00:00<?, ?it/s]\u001b[A\n",
      " 10%|█████████████▌                                                                                                                         | 1/10 [00:13<02:05, 13.95s/it]\u001b[A\n",
      " 20%|███████████████████████████                                                                                                            | 2/10 [00:30<02:02, 15.31s/it]\u001b[A\n",
      " 30%|████████████████████████████████████████▌                                                                                              | 3/10 [00:48<01:55, 16.56s/it]\u001b[A\n",
      " 40%|██████████████████████████████████████████████████████                                                                                 | 4/10 [00:55<01:17, 12.94s/it]\u001b[A\n",
      " 50%|███████████████████████████████████████████████████████████████████▌                                                                   | 5/10 [01:01<00:52, 10.44s/it]\u001b[A\n",
      " 60%|█████████████████████████████████████████████████████████████████████████████████                                                      | 6/10 [01:09<00:37,  9.46s/it]\u001b[A\n",
      " 70%|██████████████████████████████████████████████████████████████████████████████████████████████▌                                        | 7/10 [01:21<00:31, 10.51s/it]\u001b[A\n",
      " 80%|████████████████████████████████████████████████████████████████████████████████████████████████████████████                           | 8/10 [01:29<00:18,  9.47s/it]\u001b[A\n",
      " 90%|█████████████████████████████████████████████████████████████████████████████████████████████████████████████████████████▌             | 9/10 [01:44<00:11, 11.38s/it]\u001b[A\n",
      "100%|██████████████████████████████████████████████████████████████████████████████████████████████████████████████████████████████████████| 10/10 [01:52<00:00, 11.24s/it]\u001b[A\n"
     ]
    },
    {
     "name": "stdout",
     "output_type": "stream",
     "text": [
      "Cleaning up sorted DICOM files...\n"
     ]
    },
    {
     "name": "stderr",
     "output_type": "stream",
     "text": [
      "\n",
      "  0%|                                                                                                                                               | 0/10 [00:00<?, ?it/s]\u001b[A\n",
      "100%|██████████████████████████████████████████████████████████████████████████████████████████████████████████████████████████████████████| 10/10 [00:00<00:00, 54.10it/s]\u001b[A\n",
      "100%|██████████| 1749/1749 [00:03<00:00, 511.40it/s]                                                                                    | 80/928 [17:33<1:18:13,  5.53s/it]\n"
     ]
    },
    {
     "name": "stdout",
     "output_type": "stream",
     "text": [
      "Files sorted\n",
      "Cleaning up downloaded DICOM files...\n"
     ]
    },
    {
     "name": "stderr",
     "output_type": "stream",
     "text": [
      "\n",
      "  0%|                                                                                                                                               | 0/10 [00:00<?, ?it/s]\u001b[A\n",
      "100%|██████████████████████████████████████████████████████████████████████████████████████████████████████████████████████████████████████| 10/10 [00:00<00:00, 66.35it/s]\u001b[A\n"
     ]
    },
    {
     "name": "stdout",
     "output_type": "stream",
     "text": [
      "Saving patient data as .npz file...\n",
      "Saving patient .npz files to /data/all/train\n"
     ]
    },
    {
     "name": "stderr",
     "output_type": "stream",
     "text": [
      "\n",
      "  0%|                                                                                                                                               | 0/10 [00:00<?, ?it/s]\u001b[A\n",
      " 10%|█████████████▌                                                                                                                         | 1/10 [00:07<01:04,  7.13s/it]\u001b[A\n",
      " 20%|███████████████████████████                                                                                                            | 2/10 [00:12<00:50,  6.29s/it]\u001b[A\n",
      " 30%|████████████████████████████████████████▌                                                                                              | 3/10 [00:32<01:27, 12.44s/it]\u001b[A\n",
      " 40%|██████████████████████████████████████████████████████                                                                                 | 4/10 [00:46<01:19, 13.18s/it]\u001b[A\n",
      " 50%|███████████████████████████████████████████████████████████████████▌                                                                   | 5/10 [00:53<00:54, 10.94s/it]\u001b[A\n",
      " 60%|█████████████████████████████████████████████████████████████████████████████████                                                      | 6/10 [01:08<00:48, 12.06s/it]\u001b[A\n",
      " 70%|██████████████████████████████████████████████████████████████████████████████████████████████▌                                        | 7/10 [01:14<00:30, 10.31s/it]\u001b[A\n",
      " 80%|████████████████████████████████████████████████████████████████████████████████████████████████████████████                           | 8/10 [01:26<00:21, 10.66s/it]\u001b[A\n",
      " 90%|█████████████████████████████████████████████████████████████████████████████████████████████████████████████████████████▌             | 9/10 [01:32<00:09,  9.21s/it]\u001b[A\n",
      "100%|██████████████████████████████████████████████████████████████████████████████████████████████████████████████████████████████████████| 10/10 [01:37<00:00,  9.76s/it]\u001b[A\n"
     ]
    },
    {
     "name": "stdout",
     "output_type": "stream",
     "text": [
      "Cleaning up sorted DICOM files...\n"
     ]
    },
    {
     "name": "stderr",
     "output_type": "stream",
     "text": [
      "\n",
      "  0%|                                                                                                                                               | 0/10 [00:00<?, ?it/s]\u001b[A\n",
      "100%|██████████████████████████████████████████████████████████████████████████████████████████████████████████████████████████████████████| 10/10 [00:00<00:00, 67.28it/s]\u001b[A\n",
      "100%|██████████| 1987/1987 [00:03<00:00, 506.36it/s]                                                                                    | 90/928 [20:05<1:13:46,  5.28s/it]\n"
     ]
    },
    {
     "name": "stdout",
     "output_type": "stream",
     "text": [
      "Files sorted\n",
      "Cleaning up downloaded DICOM files...\n"
     ]
    },
    {
     "name": "stderr",
     "output_type": "stream",
     "text": [
      "\n",
      "  0%|                                                                                                                                               | 0/10 [00:00<?, ?it/s]\u001b[A\n",
      "100%|██████████████████████████████████████████████████████████████████████████████████████████████████████████████████████████████████████| 10/10 [00:00<00:00, 49.15it/s]\u001b[A\n"
     ]
    },
    {
     "name": "stdout",
     "output_type": "stream",
     "text": [
      "Saving patient data as .npz file...\n",
      "Saving patient .npz files to /data/all/train\n"
     ]
    },
    {
     "name": "stderr",
     "output_type": "stream",
     "text": [
      "\n",
      "  0%|                                                                                                                                               | 0/10 [00:00<?, ?it/s]\u001b[A\n",
      " 10%|█████████████▌                                                                                                                         | 1/10 [00:07<01:04,  7.20s/it]\u001b[A\n",
      " 20%|███████████████████████████                                                                                                            | 2/10 [00:21<01:29, 11.24s/it]\u001b[A\n",
      " 30%|████████████████████████████████████████▌                                                                                              | 3/10 [00:29<01:09,  9.87s/it]\u001b[A\n",
      " 40%|██████████████████████████████████████████████████████                                                                                 | 4/10 [00:51<01:28, 14.83s/it]\u001b[A\n",
      " 50%|███████████████████████████████████████████████████████████████████▌                                                                   | 5/10 [01:05<01:11, 14.28s/it]\u001b[A\n",
      " 60%|█████████████████████████████████████████████████████████████████████████████████                                                      | 6/10 [01:16<00:53, 13.39s/it]\u001b[A"
     ]
    },
    {
     "name": "stdout",
     "output_type": "stream",
     "text": [
      "Failed to reduce all groups to <= 4 Annotations.\n",
      "Some nodules may be close and must be grouped manually.\n"
     ]
    },
    {
     "name": "stderr",
     "output_type": "stream",
     "text": [
      "\n",
      " 70%|██████████████████████████████████████████████████████████████████████████████████████████████▌                                        | 7/10 [01:30<00:40, 13.44s/it]\u001b[A\n",
      " 80%|████████████████████████████████████████████████████████████████████████████████████████████████████████████                           | 8/10 [01:42<00:26, 13.08s/it]\u001b[A\n",
      " 90%|█████████████████████████████████████████████████████████████████████████████████████████████████████████████████████████▌             | 9/10 [01:51<00:11, 11.82s/it]\u001b[A\n",
      "100%|██████████████████████████████████████████████████████████████████████████████████████████████████████████████████████████████████████| 10/10 [01:59<00:00, 11.91s/it]\u001b[A\n"
     ]
    },
    {
     "name": "stdout",
     "output_type": "stream",
     "text": [
      "Cleaning up sorted DICOM files...\n"
     ]
    },
    {
     "name": "stderr",
     "output_type": "stream",
     "text": [
      "\n",
      "  0%|                                                                                                                                               | 0/10 [00:00<?, ?it/s]\u001b[A\n",
      "100%|██████████████████████████████████████████████████████████████████████████████████████████████████████████████████████████████████████| 10/10 [00:00<00:00, 52.12it/s]\u001b[A\n",
      "100%|██████████| 2085/2085 [00:04<00:00, 492.56it/s]                                                                                   | 100/928 [22:51<1:16:59,  5.58s/it]\n"
     ]
    },
    {
     "name": "stdout",
     "output_type": "stream",
     "text": [
      "Files sorted\n",
      "Cleaning up downloaded DICOM files...\n"
     ]
    },
    {
     "name": "stderr",
     "output_type": "stream",
     "text": [
      "\n",
      "  0%|                                                                                                                                               | 0/10 [00:00<?, ?it/s]\u001b[A\n",
      "100%|██████████████████████████████████████████████████████████████████████████████████████████████████████████████████████████████████████| 10/10 [00:00<00:00, 59.49it/s]\u001b[A\n"
     ]
    },
    {
     "name": "stdout",
     "output_type": "stream",
     "text": [
      "Saving patient data as .npz file...\n",
      "Saving patient .npz files to /data/all/train\n"
     ]
    },
    {
     "name": "stderr",
     "output_type": "stream",
     "text": [
      "\n",
      "  0%|                                                                                                                                               | 0/10 [00:00<?, ?it/s]\u001b[A\n",
      " 10%|█████████████▌                                                                                                                         | 1/10 [00:13<02:01, 13.53s/it]\u001b[A\n",
      " 20%|███████████████████████████                                                                                                            | 2/10 [00:20<01:15,  9.46s/it]\u001b[A\n",
      " 30%|████████████████████████████████████████▌                                                                                              | 3/10 [00:52<02:18, 19.73s/it]\u001b[A\n",
      " 40%|██████████████████████████████████████████████████████                                                                                 | 4/10 [01:06<01:46, 17.72s/it]\u001b[A\n",
      " 50%|███████████████████████████████████████████████████████████████████▌                                                                   | 5/10 [01:17<01:15, 15.07s/it]\u001b[A\n",
      " 60%|█████████████████████████████████████████████████████████████████████████████████                                                      | 6/10 [01:24<00:49, 12.43s/it]\u001b[A\n",
      " 70%|██████████████████████████████████████████████████████████████████████████████████████████████▌                                        | 7/10 [01:33<00:34, 11.36s/it]\u001b[A\n",
      " 80%|████████████████████████████████████████████████████████████████████████████████████████████████████████████                           | 8/10 [01:56<00:29, 14.94s/it]\u001b[A\n",
      " 90%|█████████████████████████████████████████████████████████████████████████████████████████████████████████████████████████▌             | 9/10 [02:02<00:12, 12.36s/it]\u001b[A\n",
      "100%|██████████████████████████████████████████████████████████████████████████████████████████████████████████████████████████████████████| 10/10 [02:09<00:00, 12.93s/it]\u001b[A\n"
     ]
    },
    {
     "name": "stdout",
     "output_type": "stream",
     "text": [
      "Cleaning up sorted DICOM files...\n"
     ]
    },
    {
     "name": "stderr",
     "output_type": "stream",
     "text": [
      "\n",
      "  0%|                                                                                                                                               | 0/10 [00:00<?, ?it/s]\u001b[A\n",
      "100%|██████████████████████████████████████████████████████████████████████████████████████████████████████████████████████████████████████| 10/10 [00:00<00:00, 55.55it/s]\u001b[A\n",
      "100%|██████████| 1411/1411 [00:02<00:00, 506.47it/s]                                                                                   | 110/928 [25:36<1:05:21,  4.79s/it]\n"
     ]
    },
    {
     "name": "stdout",
     "output_type": "stream",
     "text": [
      "Files sorted\n",
      "Cleaning up downloaded DICOM files...\n"
     ]
    },
    {
     "name": "stderr",
     "output_type": "stream",
     "text": [
      "\n",
      "  0%|                                                                                                                                               | 0/10 [00:00<?, ?it/s]\u001b[A\n",
      "100%|██████████████████████████████████████████████████████████████████████████████████████████████████████████████████████████████████████| 10/10 [00:00<00:00, 83.37it/s]\u001b[A\n"
     ]
    },
    {
     "name": "stdout",
     "output_type": "stream",
     "text": [
      "Saving patient data as .npz file...\n",
      "Saving patient .npz files to /data/all/train\n"
     ]
    },
    {
     "name": "stderr",
     "output_type": "stream",
     "text": [
      "\n",
      "  0%|                                                                                                                                               | 0/10 [00:00<?, ?it/s]\u001b[A\n",
      " 10%|█████████████▌                                                                                                                         | 1/10 [00:08<01:14,  8.23s/it]\u001b[A\n",
      " 20%|███████████████████████████                                                                                                            | 2/10 [00:14<00:54,  6.80s/it]\u001b[A\n",
      " 30%|████████████████████████████████████████▌                                                                                              | 3/10 [00:21<00:48,  6.92s/it]\u001b[A\n",
      " 40%|██████████████████████████████████████████████████████                                                                                 | 4/10 [00:33<00:53,  8.91s/it]\u001b[A\n",
      " 50%|███████████████████████████████████████████████████████████████████▌                                                                   | 5/10 [00:40<00:41,  8.29s/it]\u001b[A\n",
      " 60%|█████████████████████████████████████████████████████████████████████████████████                                                      | 6/10 [00:47<00:32,  8.08s/it]\u001b[A\n",
      " 70%|██████████████████████████████████████████████████████████████████████████████████████████████▌                                        | 7/10 [00:56<00:24,  8.12s/it]\u001b[A\n",
      " 80%|████████████████████████████████████████████████████████████████████████████████████████████████████████████                           | 8/10 [01:08<00:19,  9.53s/it]\u001b[A\n",
      " 90%|█████████████████████████████████████████████████████████████████████████████████████████████████████████████████████████▌             | 9/10 [01:15<00:08,  8.61s/it]\u001b[A\n",
      "100%|██████████████████████████████████████████████████████████████████████████████████████████████████████████████████████████████████████| 10/10 [01:23<00:00,  8.34s/it]\u001b[A\n"
     ]
    },
    {
     "name": "stdout",
     "output_type": "stream",
     "text": [
      "Cleaning up sorted DICOM files...\n"
     ]
    },
    {
     "name": "stderr",
     "output_type": "stream",
     "text": [
      "\n",
      "  0%|                                                                                                                                               | 0/10 [00:00<?, ?it/s]\u001b[A\n",
      "100%|██████████████████████████████████████████████████████████████████████████████████████████████████████████████████████████████████████| 10/10 [00:00<00:00, 85.35it/s]\u001b[A\n",
      "100%|██████████| 1915/1915 [00:03<00:00, 509.55it/s]                                                                                   | 120/928 [27:44<1:13:02,  5.42s/it]\n"
     ]
    },
    {
     "name": "stdout",
     "output_type": "stream",
     "text": [
      "Files sorted\n",
      "Cleaning up downloaded DICOM files...\n"
     ]
    },
    {
     "name": "stderr",
     "output_type": "stream",
     "text": [
      "\n",
      "  0%|                                                                                                                                               | 0/10 [00:00<?, ?it/s]\u001b[A\n",
      "100%|██████████████████████████████████████████████████████████████████████████████████████████████████████████████████████████████████████| 10/10 [00:00<00:00, 51.16it/s]\u001b[A\n"
     ]
    },
    {
     "name": "stdout",
     "output_type": "stream",
     "text": [
      "Saving patient data as .npz file...\n",
      "Saving patient .npz files to /data/all/train\n"
     ]
    },
    {
     "name": "stderr",
     "output_type": "stream",
     "text": [
      "\n",
      "  0%|                                                                                                                                               | 0/10 [00:00<?, ?it/s]\u001b[A\n",
      " 10%|█████████████▌                                                                                                                         | 1/10 [00:15<02:19, 15.54s/it]\u001b[A\n",
      " 20%|███████████████████████████                                                                                                            | 2/10 [00:25<01:38, 12.32s/it]\u001b[A\n",
      " 30%|████████████████████████████████████████▌                                                                                              | 3/10 [00:56<02:24, 20.63s/it]\u001b[A\n",
      " 40%|██████████████████████████████████████████████████████                                                                                 | 4/10 [01:10<01:49, 18.22s/it]\u001b[A\n",
      " 50%|███████████████████████████████████████████████████████████████████▌                                                                   | 5/10 [01:16<01:09, 13.94s/it]\u001b[A\n",
      " 60%|█████████████████████████████████████████████████████████████████████████████████                                                      | 6/10 [01:24<00:47, 11.76s/it]\u001b[A\n",
      " 70%|██████████████████████████████████████████████████████████████████████████████████████████████▌                                        | 7/10 [01:31<00:30, 10.22s/it]\u001b[A\n",
      " 80%|████████████████████████████████████████████████████████████████████████████████████████████████████████████                           | 8/10 [01:37<00:17,  8.93s/it]\u001b[A\n",
      " 90%|█████████████████████████████████████████████████████████████████████████████████████████████████████████████████████████▌             | 9/10 [01:49<00:09,  9.81s/it]\u001b[A\n",
      "100%|██████████████████████████████████████████████████████████████████████████████████████████████████████████████████████████████████████| 10/10 [01:56<00:00, 11.62s/it]\u001b[A\n"
     ]
    },
    {
     "name": "stdout",
     "output_type": "stream",
     "text": [
      "Cleaning up sorted DICOM files...\n"
     ]
    },
    {
     "name": "stderr",
     "output_type": "stream",
     "text": [
      "\n",
      "  0%|                                                                                                                                               | 0/10 [00:00<?, ?it/s]\u001b[A\n",
      " 40%|██████████████████████████████████████████████████████                                                                                 | 4/10 [00:00<00:00, 37.46it/s]\u001b[A\n",
      "100%|██████████████████████████████████████████████████████████████████████████████████████████████████████████████████████████████████████| 10/10 [00:00<00:00, 46.16it/s]\u001b[A\n",
      "100%|██████████| 2003/2003 [00:04<00:00, 483.89it/s]                                                                                   | 130/928 [30:27<1:17:03,  5.79s/it]\n"
     ]
    },
    {
     "name": "stdout",
     "output_type": "stream",
     "text": [
      "Files sorted\n",
      "Cleaning up downloaded DICOM files...\n"
     ]
    },
    {
     "name": "stderr",
     "output_type": "stream",
     "text": [
      "\n",
      "  0%|                                                                                                                                               | 0/10 [00:00<?, ?it/s]\u001b[A\n",
      "100%|██████████████████████████████████████████████████████████████████████████████████████████████████████████████████████████████████████| 10/10 [00:00<00:00, 56.44it/s]\u001b[A\n"
     ]
    },
    {
     "name": "stdout",
     "output_type": "stream",
     "text": [
      "Saving patient data as .npz file...\n",
      "Saving patient .npz files to /data/all/train\n"
     ]
    },
    {
     "name": "stderr",
     "output_type": "stream",
     "text": [
      "\n",
      "  0%|                                                                                                                                               | 0/10 [00:00<?, ?it/s]\u001b[A\n",
      " 10%|█████████████▌                                                                                                                         | 1/10 [00:07<01:09,  7.76s/it]\u001b[A\n",
      " 20%|███████████████████████████                                                                                                            | 2/10 [00:26<01:52, 14.12s/it]\u001b[A\n",
      " 30%|████████████████████████████████████████▌                                                                                              | 3/10 [00:42<01:45, 15.13s/it]\u001b[A\n",
      " 40%|██████████████████████████████████████████████████████                                                                                 | 4/10 [01:03<01:44, 17.45s/it]\u001b[A\n",
      " 50%|███████████████████████████████████████████████████████████████████▌                                                                   | 5/10 [01:13<01:13, 14.80s/it]\u001b[A\n",
      " 60%|█████████████████████████████████████████████████████████████████████████████████                                                      | 6/10 [01:27<00:57, 14.44s/it]\u001b[A\n",
      " 70%|██████████████████████████████████████████████████████████████████████████████████████████████▌                                        | 7/10 [01:40<00:41, 13.87s/it]\u001b[A\n",
      " 80%|████████████████████████████████████████████████████████████████████████████████████████████████████████████                           | 8/10 [01:48<00:23, 11.98s/it]\u001b[A\n",
      " 90%|█████████████████████████████████████████████████████████████████████████████████████████████████████████████████████████▌             | 9/10 [01:56<00:10, 10.77s/it]\u001b[A\n",
      "100%|██████████████████████████████████████████████████████████████████████████████████████████████████████████████████████████████████████| 10/10 [02:07<00:00, 12.77s/it]\u001b[A\n"
     ]
    },
    {
     "name": "stdout",
     "output_type": "stream",
     "text": [
      "Cleaning up sorted DICOM files...\n"
     ]
    },
    {
     "name": "stderr",
     "output_type": "stream",
     "text": [
      "\n",
      "  0%|                                                                                                                                               | 0/10 [00:00<?, ?it/s]\u001b[A\n",
      "100%|██████████████████████████████████████████████████████████████████████████████████████████████████████████████████████████████████████| 10/10 [00:00<00:00, 52.68it/s]\u001b[A\n",
      "100%|██████████| 1985/1985 [00:04<00:00, 478.22it/s]                                                                                   | 140/928 [33:19<1:16:55,  5.86s/it]\n"
     ]
    },
    {
     "name": "stdout",
     "output_type": "stream",
     "text": [
      "Files sorted\n",
      "Cleaning up downloaded DICOM files...\n"
     ]
    },
    {
     "name": "stderr",
     "output_type": "stream",
     "text": [
      "\n",
      "  0%|                                                                                                                                               | 0/10 [00:00<?, ?it/s]\u001b[A\n",
      "100%|██████████████████████████████████████████████████████████████████████████████████████████████████████████████████████████████████████| 10/10 [00:00<00:00, 60.68it/s]\u001b[A\n"
     ]
    },
    {
     "name": "stdout",
     "output_type": "stream",
     "text": [
      "Saving patient data as .npz file...\n",
      "Saving patient .npz files to /data/all/train\n"
     ]
    },
    {
     "name": "stderr",
     "output_type": "stream",
     "text": [
      "\n",
      "  0%|                                                                                                                                               | 0/10 [00:00<?, ?it/s]\u001b[A\n",
      " 10%|█████████████▌                                                                                                                         | 1/10 [00:27<04:03, 27.06s/it]\u001b[A\n",
      " 20%|███████████████████████████                                                                                                            | 2/10 [00:41<02:39, 19.91s/it]\u001b[A\n",
      " 30%|████████████████████████████████████████▌                                                                                              | 3/10 [00:56<02:03, 17.65s/it]\u001b[A\n",
      " 40%|██████████████████████████████████████████████████████                                                                                 | 4/10 [01:04<01:21, 13.57s/it]\u001b[A\n",
      " 50%|███████████████████████████████████████████████████████████████████▌                                                                   | 5/10 [01:17<01:06, 13.31s/it]\u001b[A\n",
      " 60%|█████████████████████████████████████████████████████████████████████████████████                                                      | 6/10 [01:27<00:48, 12.19s/it]\u001b[A\n",
      " 70%|██████████████████████████████████████████████████████████████████████████████████████████████▌                                        | 7/10 [01:47<00:44, 14.72s/it]\u001b[A\n",
      " 80%|████████████████████████████████████████████████████████████████████████████████████████████████████████████                           | 8/10 [01:47<00:20, 10.09s/it]\u001b[A"
     ]
    },
    {
     "name": "stdout",
     "output_type": "stream",
     "text": [
      "Error getting DICOM files for patient LIDC-IDRI-0132, skipping\n"
     ]
    },
    {
     "name": "stderr",
     "output_type": "stream",
     "text": [
      "\n",
      " 90%|█████████████████████████████████████████████████████████████████████████████████████████████████████████████████████████▌             | 9/10 [01:53<00:08,  8.95s/it]\u001b[A"
     ]
    },
    {
     "name": "stdout",
     "output_type": "stream",
     "text": [
      "Failed to reduce all groups to <= 4 Annotations.\n",
      "Some nodules may be close and must be grouped manually.\n"
     ]
    },
    {
     "name": "stderr",
     "output_type": "stream",
     "text": [
      "\n",
      "100%|██████████████████████████████████████████████████████████████████████████████████████████████████████████████████████████████████████| 10/10 [02:01<00:00, 12.14s/it]\u001b[A\n"
     ]
    },
    {
     "name": "stdout",
     "output_type": "stream",
     "text": [
      "Cleaning up sorted DICOM files...\n"
     ]
    },
    {
     "name": "stderr",
     "output_type": "stream",
     "text": [
      "\n",
      "  0%|                                                                                                                                               | 0/10 [00:00<?, ?it/s]\u001b[A\n",
      "100%|██████████████████████████████████████████████████████████████████████████████████████████████████████████████████████████████████████| 10/10 [00:00<00:00, 60.80it/s]\u001b[A\n",
      "100%|██████████| 1450/1450 [00:02<00:00, 523.30it/s]                                                                                   | 150/928 [36:04<1:03:37,  4.91s/it]\n"
     ]
    },
    {
     "name": "stdout",
     "output_type": "stream",
     "text": [
      "Files sorted\n",
      "Cleaning up downloaded DICOM files...\n"
     ]
    },
    {
     "name": "stderr",
     "output_type": "stream",
     "text": [
      "\n",
      "  0%|                                                                                                                                               | 0/10 [00:00<?, ?it/s]\u001b[A\n",
      "100%|██████████████████████████████████████████████████████████████████████████████████████████████████████████████████████████████████████| 10/10 [00:00<00:00, 83.19it/s]\u001b[A\n"
     ]
    },
    {
     "name": "stdout",
     "output_type": "stream",
     "text": [
      "Saving patient data as .npz file...\n",
      "Saving patient .npz files to /data/all/train\n"
     ]
    },
    {
     "name": "stderr",
     "output_type": "stream",
     "text": [
      "\n",
      "  0%|                                                                                                                                                | 0/9 [00:00<?, ?it/s]\u001b[A\n",
      " 11%|███████████████                                                                                                                         | 1/9 [00:06<00:54,  6.78s/it]\u001b[A\n",
      " 22%|██████████████████████████████▏                                                                                                         | 2/9 [00:24<01:30, 12.94s/it]\u001b[A\n",
      " 33%|█████████████████████████████████████████████▎                                                                                          | 3/9 [00:31<01:02, 10.39s/it]\u001b[A\n",
      " 44%|████████████████████████████████████████████████████████████▍                                                                           | 4/9 [00:39<00:46,  9.35s/it]\u001b[A\n",
      " 56%|███████████████████████████████████████████████████████████████████████████▌                                                            | 5/9 [00:46<00:34,  8.67s/it]\u001b[A\n",
      " 67%|██████████████████████████████████████████████████████████████████████████████████████████▋                                             | 6/9 [00:53<00:24,  8.21s/it]\u001b[A\n",
      " 78%|█████████████████████████████████████████████████████████████████████████████████████████████████████████▊                              | 7/9 [01:01<00:16,  8.01s/it]\u001b[A\n",
      " 89%|████████████████████████████████████████████████████████████████████████████████████████████████████████████████████████▉               | 8/9 [01:06<00:07,  7.18s/it]\u001b[A\n",
      "100%|████████████████████████████████████████████████████████████████████████████████████████████████████████████████████████████████████████| 9/9 [01:14<00:00,  8.24s/it]\u001b[A\n"
     ]
    },
    {
     "name": "stdout",
     "output_type": "stream",
     "text": [
      "Cleaning up sorted DICOM files...\n"
     ]
    },
    {
     "name": "stderr",
     "output_type": "stream",
     "text": [
      "\n",
      "  0%|                                                                                                                                                | 0/9 [00:00<?, ?it/s]\u001b[A\n",
      "100%|████████████████████████████████████████████████████████████████████████████████████████████████████████████████████████████████████████| 9/9 [00:00<00:00, 74.42it/s]\u001b[A\n",
      "100%|██████████| 1666/1666 [00:03<00:00, 531.20it/s]                                                                                     | 160/928 [37:58<58:43,  4.59s/it]\n"
     ]
    },
    {
     "name": "stdout",
     "output_type": "stream",
     "text": [
      "Files sorted\n",
      "Cleaning up downloaded DICOM files...\n"
     ]
    },
    {
     "name": "stderr",
     "output_type": "stream",
     "text": [
      "\n",
      "  0%|                                                                                                                                               | 0/10 [00:00<?, ?it/s]\u001b[A\n",
      "100%|██████████████████████████████████████████████████████████████████████████████████████████████████████████████████████████████████████| 10/10 [00:00<00:00, 64.44it/s]\u001b[A\n"
     ]
    },
    {
     "name": "stdout",
     "output_type": "stream",
     "text": [
      "Saving patient data as .npz file...\n",
      "Saving patient .npz files to /data/all/train\n"
     ]
    },
    {
     "name": "stderr",
     "output_type": "stream",
     "text": [
      "\n",
      "  0%|                                                                                                                                               | 0/10 [00:00<?, ?it/s]\u001b[A\n",
      " 10%|█████████████▌                                                                                                                         | 1/10 [00:13<02:03, 13.74s/it]\u001b[A\n",
      " 20%|███████████████████████████                                                                                                            | 2/10 [00:27<01:47, 13.49s/it]\u001b[A\n",
      " 30%|████████████████████████████████████████▌                                                                                              | 3/10 [00:33<01:13, 10.46s/it]\u001b[A\n",
      " 40%|██████████████████████████████████████████████████████                                                                                 | 4/10 [00:41<00:56,  9.38s/it]\u001b[A\n",
      " 50%|███████████████████████████████████████████████████████████████████▌                                                                   | 5/10 [00:48<00:42,  8.55s/it]\u001b[A\n",
      " 60%|█████████████████████████████████████████████████████████████████████████████████                                                      | 6/10 [00:55<00:31,  7.91s/it]\u001b[A\n",
      " 70%|██████████████████████████████████████████████████████████████████████████████████████████████▌                                        | 7/10 [01:02<00:23,  7.78s/it]\u001b[A\n",
      " 80%|████████████████████████████████████████████████████████████████████████████████████████████████████████████                           | 8/10 [01:15<00:18,  9.24s/it]\u001b[A\n",
      " 90%|█████████████████████████████████████████████████████████████████████████████████████████████████████████████████████████▌             | 9/10 [01:21<00:08,  8.26s/it]\u001b[A\n",
      "100%|██████████████████████████████████████████████████████████████████████████████████████████████████████████████████████████████████████| 10/10 [01:28<00:00,  8.85s/it]\u001b[A\n"
     ]
    },
    {
     "name": "stdout",
     "output_type": "stream",
     "text": [
      "Cleaning up sorted DICOM files...\n"
     ]
    },
    {
     "name": "stderr",
     "output_type": "stream",
     "text": [
      "\n",
      "  0%|                                                                                                                                               | 0/10 [00:00<?, ?it/s]\u001b[A\n",
      "100%|██████████████████████████████████████████████████████████████████████████████████████████████████████████████████████████████████████| 10/10 [00:00<00:00, 78.27it/s]\u001b[A\n",
      "100%|██████████| 1694/1694 [00:03<00:00, 542.39it/s]                                                                                   | 170/928 [40:15<1:11:55,  5.69s/it]\n"
     ]
    },
    {
     "name": "stdout",
     "output_type": "stream",
     "text": [
      "Files sorted\n",
      "Cleaning up downloaded DICOM files...\n"
     ]
    },
    {
     "name": "stderr",
     "output_type": "stream",
     "text": [
      "\n",
      "  0%|                                                                                                                                               | 0/10 [00:00<?, ?it/s]\u001b[A\n",
      "100%|██████████████████████████████████████████████████████████████████████████████████████████████████████████████████████████████████████| 10/10 [00:00<00:00, 69.13it/s]\u001b[A\n"
     ]
    },
    {
     "name": "stdout",
     "output_type": "stream",
     "text": [
      "Saving patient data as .npz file...\n",
      "Saving patient .npz files to /data/all/train\n"
     ]
    },
    {
     "name": "stderr",
     "output_type": "stream",
     "text": [
      "\n",
      "  0%|                                                                                                                                               | 0/10 [00:00<?, ?it/s]\u001b[A\n",
      " 10%|█████████████▌                                                                                                                         | 1/10 [00:06<01:01,  6.81s/it]\u001b[A\n",
      " 20%|███████████████████████████                                                                                                            | 2/10 [00:13<00:55,  6.93s/it]\u001b[A\n",
      " 30%|████████████████████████████████████████▌                                                                                              | 3/10 [00:21<00:49,  7.09s/it]\u001b[A\n",
      " 40%|██████████████████████████████████████████████████████                                                                                 | 4/10 [00:38<01:06, 11.12s/it]\u001b[A\n",
      " 50%|███████████████████████████████████████████████████████████████████▌                                                                   | 5/10 [00:50<00:56, 11.32s/it]\u001b[A\n",
      " 60%|█████████████████████████████████████████████████████████████████████████████████                                                      | 6/10 [00:56<00:39,  9.80s/it]\u001b[A\n",
      " 70%|██████████████████████████████████████████████████████████████████████████████████████████████▌                                        | 7/10 [01:02<00:25,  8.50s/it]\u001b[A\n",
      " 80%|████████████████████████████████████████████████████████████████████████████████████████████████████████████                           | 8/10 [01:15<00:19,  9.83s/it]\u001b[A\n",
      " 90%|█████████████████████████████████████████████████████████████████████████████████████████████████████████████████████████▌             | 9/10 [01:28<00:10, 10.99s/it]\u001b[A\n",
      "100%|██████████████████████████████████████████████████████████████████████████████████████████████████████████████████████████████████████| 10/10 [01:36<00:00,  9.62s/it]\u001b[A\n"
     ]
    },
    {
     "name": "stdout",
     "output_type": "stream",
     "text": [
      "Cleaning up sorted DICOM files...\n"
     ]
    },
    {
     "name": "stderr",
     "output_type": "stream",
     "text": [
      "\n",
      "  0%|                                                                                                                                               | 0/10 [00:00<?, ?it/s]\u001b[A\n",
      "100%|██████████████████████████████████████████████████████████████████████████████████████████████████████████████████████████████████████| 10/10 [00:00<00:00, 74.38it/s]\u001b[A\n",
      "100%|██████████| 1519/1519 [00:02<00:00, 517.99it/s]                                                                                   | 180/928 [42:30<1:02:51,  5.04s/it]\n"
     ]
    },
    {
     "name": "stdout",
     "output_type": "stream",
     "text": [
      "Files sorted\n",
      "Cleaning up downloaded DICOM files...\n"
     ]
    },
    {
     "name": "stderr",
     "output_type": "stream",
     "text": [
      "\n",
      "  0%|                                                                                                                                               | 0/10 [00:00<?, ?it/s]\u001b[A\n",
      "100%|██████████████████████████████████████████████████████████████████████████████████████████████████████████████████████████████████████| 10/10 [00:00<00:00, 55.68it/s]\u001b[A\n"
     ]
    },
    {
     "name": "stdout",
     "output_type": "stream",
     "text": [
      "Saving patient data as .npz file...\n",
      "Saving patient .npz files to /data/all/train\n"
     ]
    },
    {
     "name": "stderr",
     "output_type": "stream",
     "text": [
      "\n",
      "  0%|                                                                                                                                               | 0/10 [00:00<?, ?it/s]\u001b[A\n",
      " 10%|█████████████▌                                                                                                                         | 1/10 [00:09<01:29,  9.92s/it]\u001b[A\n",
      " 20%|███████████████████████████                                                                                                            | 2/10 [00:17<01:06,  8.28s/it]\u001b[A\n",
      " 30%|████████████████████████████████████████▌                                                                                              | 3/10 [00:24<00:55,  7.87s/it]\u001b[A\n",
      " 40%|██████████████████████████████████████████████████████                                                                                 | 4/10 [00:30<00:44,  7.35s/it]\u001b[A\n",
      " 50%|███████████████████████████████████████████████████████████████████▌                                                                   | 5/10 [00:42<00:43,  8.78s/it]\u001b[A\n",
      " 60%|█████████████████████████████████████████████████████████████████████████████████                                                      | 6/10 [00:48<00:32,  8.06s/it]\u001b[A\n",
      " 70%|██████████████████████████████████████████████████████████████████████████████████████████████▌                                        | 7/10 [01:01<00:28,  9.49s/it]\u001b[A\n",
      " 80%|████████████████████████████████████████████████████████████████████████████████████████████████████████████                           | 8/10 [01:08<00:17,  8.72s/it]\u001b[A\n",
      " 90%|█████████████████████████████████████████████████████████████████████████████████████████████████████████████████████████▌             | 9/10 [01:16<00:08,  8.37s/it]\u001b[A\n",
      "100%|██████████████████████████████████████████████████████████████████████████████████████████████████████████████████████████████████████| 10/10 [01:22<00:00,  8.27s/it]\u001b[A\n"
     ]
    },
    {
     "name": "stdout",
     "output_type": "stream",
     "text": [
      "Cleaning up sorted DICOM files...\n"
     ]
    },
    {
     "name": "stderr",
     "output_type": "stream",
     "text": [
      "\n",
      "  0%|                                                                                                                                               | 0/10 [00:00<?, ?it/s]\u001b[A\n",
      "100%|██████████████████████████████████████████████████████████████████████████████████████████████████████████████████████████████████████| 10/10 [00:00<00:00, 84.49it/s]\u001b[A\n",
      "100%|██████████| 1315/1315 [00:02<00:00, 513.25it/s]                                                                                     | 190/928 [44:29<52:17,  4.25s/it]\n"
     ]
    },
    {
     "name": "stdout",
     "output_type": "stream",
     "text": [
      "Files sorted\n",
      "Cleaning up downloaded DICOM files...\n"
     ]
    },
    {
     "name": "stderr",
     "output_type": "stream",
     "text": [
      "\n",
      "  0%|                                                                                                                                               | 0/10 [00:00<?, ?it/s]\u001b[A\n",
      "100%|██████████████████████████████████████████████████████████████████████████████████████████████████████████████████████████████████████| 10/10 [00:00<00:00, 95.09it/s]\u001b[A\n"
     ]
    },
    {
     "name": "stdout",
     "output_type": "stream",
     "text": [
      "Saving patient data as .npz file...\n",
      "Saving patient .npz files to /data/all/train\n"
     ]
    },
    {
     "name": "stderr",
     "output_type": "stream",
     "text": [
      "\n",
      "  0%|                                                                                                                                               | 0/10 [00:00<?, ?it/s]\u001b[A\n",
      " 10%|█████████████▌                                                                                                                         | 1/10 [00:07<01:07,  7.46s/it]\u001b[A\n",
      " 20%|███████████████████████████                                                                                                            | 2/10 [00:14<00:59,  7.48s/it]\u001b[A\n",
      " 30%|████████████████████████████████████████▌                                                                                              | 3/10 [00:20<00:46,  6.70s/it]\u001b[A\n",
      " 40%|██████████████████████████████████████████████████████                                                                                 | 4/10 [00:27<00:41,  6.85s/it]\u001b[A\n",
      " 50%|███████████████████████████████████████████████████████████████████▌                                                                   | 5/10 [00:35<00:35,  7.07s/it]\u001b[A\n",
      " 60%|█████████████████████████████████████████████████████████████████████████████████                                                      | 6/10 [00:43<00:29,  7.31s/it]\u001b[A\n",
      " 70%|██████████████████████████████████████████████████████████████████████████████████████████████▌                                        | 7/10 [00:50<00:21,  7.24s/it]\u001b[A\n",
      " 80%|████████████████████████████████████████████████████████████████████████████████████████████████████████████                           | 8/10 [00:58<00:15,  7.52s/it]\u001b[A\n",
      " 90%|█████████████████████████████████████████████████████████████████████████████████████████████████████████████████████████▌             | 9/10 [01:05<00:07,  7.46s/it]\u001b[A\n",
      "100%|██████████████████████████████████████████████████████████████████████████████████████████████████████████████████████████████████████| 10/10 [01:12<00:00,  7.27s/it]\u001b[A\n"
     ]
    },
    {
     "name": "stdout",
     "output_type": "stream",
     "text": [
      "Cleaning up sorted DICOM files...\n"
     ]
    },
    {
     "name": "stderr",
     "output_type": "stream",
     "text": [
      "\n",
      "  0%|                                                                                                                                               | 0/10 [00:00<?, ?it/s]\u001b[A\n",
      "100%|██████████████████████████████████████████████████████████████████████████████████████████████████████████████████████████████████████| 10/10 [00:00<00:00, 97.67it/s]\u001b[A\n",
      "100%|██████████| 1531/1531 [00:02<00:00, 538.38it/s]                                                                                     | 200/928 [46:20<52:39,  4.34s/it]\n"
     ]
    },
    {
     "name": "stdout",
     "output_type": "stream",
     "text": [
      "Files sorted\n",
      "Cleaning up downloaded DICOM files...\n"
     ]
    },
    {
     "name": "stderr",
     "output_type": "stream",
     "text": [
      "\n",
      "  0%|                                                                                                                                               | 0/10 [00:00<?, ?it/s]\u001b[A\n",
      "100%|██████████████████████████████████████████████████████████████████████████████████████████████████████████████████████████████████████| 10/10 [00:00<00:00, 74.53it/s]\u001b[A\n"
     ]
    },
    {
     "name": "stdout",
     "output_type": "stream",
     "text": [
      "Saving patient data as .npz file...\n",
      "Saving patient .npz files to /data/all/train\n"
     ]
    },
    {
     "name": "stderr",
     "output_type": "stream",
     "text": [
      "\n",
      "  0%|                                                                                                                                               | 0/10 [00:00<?, ?it/s]\u001b[A\n",
      " 10%|█████████████▌                                                                                                                         | 1/10 [00:08<01:17,  8.59s/it]\u001b[A\n",
      " 20%|███████████████████████████                                                                                                            | 2/10 [00:17<01:11,  8.88s/it]\u001b[A\n",
      " 30%|████████████████████████████████████████▌                                                                                              | 3/10 [00:24<00:54,  7.86s/it]\u001b[A\n",
      " 40%|██████████████████████████████████████████████████████                                                                                 | 4/10 [00:38<01:02, 10.38s/it]\u001b[A\n",
      " 50%|███████████████████████████████████████████████████████████████████▌                                                                   | 5/10 [00:51<00:56, 11.25s/it]\u001b[A\n",
      " 60%|█████████████████████████████████████████████████████████████████████████████████                                                      | 6/10 [00:58<00:39,  9.86s/it]\u001b[A\n",
      " 70%|██████████████████████████████████████████████████████████████████████████████████████████████▌                                        | 7/10 [01:04<00:25,  8.57s/it]\u001b[A\n",
      " 80%|████████████████████████████████████████████████████████████████████████████████████████████████████████████                           | 8/10 [01:10<00:15,  7.88s/it]\u001b[A\n",
      " 90%|█████████████████████████████████████████████████████████████████████████████████████████████████████████████████████████▌             | 9/10 [01:18<00:07,  7.70s/it]\u001b[A\n",
      "100%|██████████████████████████████████████████████████████████████████████████████████████████████████████████████████████████████████████| 10/10 [01:25<00:00,  8.51s/it]\u001b[A\n"
     ]
    },
    {
     "name": "stdout",
     "output_type": "stream",
     "text": [
      "Cleaning up sorted DICOM files...\n"
     ]
    },
    {
     "name": "stderr",
     "output_type": "stream",
     "text": [
      "\n",
      "  0%|                                                                                                                                               | 0/10 [00:00<?, ?it/s]\u001b[A\n",
      "100%|██████████████████████████████████████████████████████████████████████████████████████████████████████████████████████████████████████| 10/10 [00:00<00:00, 83.78it/s]\u001b[A\n",
      "100%|██████████| 1673/1673 [00:03<00:00, 533.33it/s]                                                                                     | 210/928 [48:25<55:49,  4.67s/it]\n"
     ]
    },
    {
     "name": "stdout",
     "output_type": "stream",
     "text": [
      "Files sorted\n",
      "Cleaning up downloaded DICOM files...\n"
     ]
    },
    {
     "name": "stderr",
     "output_type": "stream",
     "text": [
      "\n",
      "  0%|                                                                                                                                               | 0/10 [00:00<?, ?it/s]\u001b[A\n",
      "100%|██████████████████████████████████████████████████████████████████████████████████████████████████████████████████████████████████████| 10/10 [00:00<00:00, 57.67it/s]\u001b[A\n"
     ]
    },
    {
     "name": "stdout",
     "output_type": "stream",
     "text": [
      "Saving patient data as .npz file...\n",
      "Saving patient .npz files to /data/all/train\n"
     ]
    },
    {
     "name": "stderr",
     "output_type": "stream",
     "text": [
      "\n",
      "  0%|                                                                                                                                               | 0/10 [00:00<?, ?it/s]\u001b[A\n",
      " 10%|█████████████▌                                                                                                                         | 1/10 [00:07<01:02,  7.00s/it]\u001b[A"
     ]
    },
    {
     "name": "stdout",
     "output_type": "stream",
     "text": [
      "Failed to reduce all groups to <= 4 Annotations.\n",
      "Some nodules may be close and must be grouped manually.\n"
     ]
    },
    {
     "name": "stderr",
     "output_type": "stream",
     "text": [
      "\n",
      " 20%|███████████████████████████                                                                                                            | 2/10 [00:13<00:55,  6.93s/it]\u001b[A\n",
      " 30%|████████████████████████████████████████▌                                                                                              | 3/10 [00:21<00:52,  7.44s/it]\u001b[A\n",
      " 40%|██████████████████████████████████████████████████████                                                                                 | 4/10 [00:34<00:57,  9.66s/it]\u001b[A\n",
      " 50%|███████████████████████████████████████████████████████████████████▌                                                                   | 5/10 [00:41<00:42,  8.52s/it]\u001b[A\n",
      " 60%|█████████████████████████████████████████████████████████████████████████████████                                                      | 6/10 [00:48<00:32,  8.03s/it]\u001b[A\n",
      " 70%|██████████████████████████████████████████████████████████████████████████████████████████████▌                                        | 7/10 [01:01<00:28,  9.54s/it]\u001b[A\n",
      " 80%|████████████████████████████████████████████████████████████████████████████████████████████████████████████                           | 8/10 [01:06<00:16,  8.32s/it]\u001b[A\n",
      " 90%|█████████████████████████████████████████████████████████████████████████████████████████████████████████████████████████▌             | 9/10 [01:14<00:07,  7.99s/it]\u001b[A\n",
      "100%|██████████████████████████████████████████████████████████████████████████████████████████████████████████████████████████████████████| 10/10 [01:31<00:00,  9.16s/it]\u001b[A\n"
     ]
    },
    {
     "name": "stdout",
     "output_type": "stream",
     "text": [
      "Cleaning up sorted DICOM files...\n"
     ]
    },
    {
     "name": "stderr",
     "output_type": "stream",
     "text": [
      "\n",
      "  0%|                                                                                                                                               | 0/10 [00:00<?, ?it/s]\u001b[A\n",
      "100%|██████████████████████████████████████████████████████████████████████████████████████████████████████████████████████████████████████| 10/10 [00:00<00:00, 74.33it/s]\u001b[A\n",
      "100%|██████████| 1648/1648 [00:03<00:00, 518.20it/s]                                                                                   | 220/928 [50:43<1:02:26,  5.29s/it]\n"
     ]
    },
    {
     "name": "stdout",
     "output_type": "stream",
     "text": [
      "Files sorted\n",
      "Cleaning up downloaded DICOM files...\n"
     ]
    },
    {
     "name": "stderr",
     "output_type": "stream",
     "text": [
      "\n",
      "  0%|                                                                                                                                               | 0/10 [00:00<?, ?it/s]\u001b[A\n",
      "100%|██████████████████████████████████████████████████████████████████████████████████████████████████████████████████████████████████████| 10/10 [00:00<00:00, 73.34it/s]\u001b[A\n"
     ]
    },
    {
     "name": "stdout",
     "output_type": "stream",
     "text": [
      "Saving patient data as .npz file...\n",
      "Saving patient .npz files to /data/all/train\n"
     ]
    },
    {
     "name": "stderr",
     "output_type": "stream",
     "text": [
      "\n",
      "  0%|                                                                                                                                               | 0/10 [00:00<?, ?it/s]\u001b[A\n",
      " 10%|█████████████▌                                                                                                                         | 1/10 [00:06<00:57,  6.37s/it]\u001b[A\n",
      " 20%|███████████████████████████                                                                                                            | 2/10 [00:13<00:55,  6.97s/it]\u001b[A\n",
      " 30%|████████████████████████████████████████▌                                                                                              | 3/10 [00:20<00:49,  7.07s/it]\u001b[A\n",
      " 40%|██████████████████████████████████████████████████████                                                                                 | 4/10 [00:28<00:44,  7.35s/it]\u001b[A\n",
      " 50%|███████████████████████████████████████████████████████████████████▌                                                                   | 5/10 [00:36<00:36,  7.33s/it]\u001b[A\n",
      " 60%|█████████████████████████████████████████████████████████████████████████████████                                                      | 6/10 [00:43<00:29,  7.34s/it]\u001b[A\n",
      " 70%|██████████████████████████████████████████████████████████████████████████████████████████████▌                                        | 7/10 [00:50<00:21,  7.33s/it]\u001b[A\n",
      " 80%|████████████████████████████████████████████████████████████████████████████████████████████████████████████                           | 8/10 [01:03<00:17,  8.96s/it]\u001b[A\n",
      " 90%|█████████████████████████████████████████████████████████████████████████████████████████████████████████████████████████▌             | 9/10 [01:16<00:10, 10.26s/it]\u001b[A\n",
      "100%|██████████████████████████████████████████████████████████████████████████████████████████████████████████████████████████████████████| 10/10 [01:27<00:00,  8.70s/it]\u001b[A\n"
     ]
    },
    {
     "name": "stdout",
     "output_type": "stream",
     "text": [
      "Cleaning up sorted DICOM files...\n"
     ]
    },
    {
     "name": "stderr",
     "output_type": "stream",
     "text": [
      "\n",
      "  0%|                                                                                                                                               | 0/10 [00:00<?, ?it/s]\u001b[A\n",
      "100%|██████████████████████████████████████████████████████████████████████████████████████████████████████████████████████████████████████| 10/10 [00:00<00:00, 75.04it/s]\u001b[A\n",
      "100%|██████████| 1421/1421 [00:02<00:00, 491.66it/s]                                                                                     | 230/928 [52:51<51:01,  4.39s/it]\n"
     ]
    },
    {
     "name": "stdout",
     "output_type": "stream",
     "text": [
      "Files sorted\n",
      "Cleaning up downloaded DICOM files...\n"
     ]
    },
    {
     "name": "stderr",
     "output_type": "stream",
     "text": [
      "\n",
      "  0%|                                                                                                                                               | 0/10 [00:00<?, ?it/s]\u001b[A\n",
      "100%|██████████████████████████████████████████████████████████████████████████████████████████████████████████████████████████████████████| 10/10 [00:00<00:00, 82.23it/s]\u001b[A\n"
     ]
    },
    {
     "name": "stdout",
     "output_type": "stream",
     "text": [
      "Saving patient data as .npz file...\n",
      "Saving patient .npz files to /data/all/train\n"
     ]
    },
    {
     "name": "stderr",
     "output_type": "stream",
     "text": [
      "\n",
      "  0%|                                                                                                                                               | 0/10 [00:00<?, ?it/s]\u001b[A\n",
      " 10%|█████████████▌                                                                                                                         | 1/10 [00:06<01:01,  6.86s/it]\u001b[A\n",
      " 20%|███████████████████████████                                                                                                            | 2/10 [00:14<00:57,  7.24s/it]\u001b[A\n",
      " 30%|████████████████████████████████████████▌                                                                                              | 3/10 [00:20<00:46,  6.67s/it]\u001b[A\n",
      " 40%|██████████████████████████████████████████████████████                                                                                 | 4/10 [00:27<00:40,  6.72s/it]\u001b[A\n",
      " 50%|███████████████████████████████████████████████████████████████████▌                                                                   | 5/10 [00:36<00:38,  7.67s/it]\u001b[A\n",
      " 60%|█████████████████████████████████████████████████████████████████████████████████                                                      | 6/10 [00:43<00:29,  7.35s/it]\u001b[A\n",
      " 70%|██████████████████████████████████████████████████████████████████████████████████████████████▌                                        | 7/10 [00:50<00:22,  7.48s/it]\u001b[A\n",
      " 80%|████████████████████████████████████████████████████████████████████████████████████████████████████████████                           | 8/10 [01:04<00:18,  9.31s/it]\u001b[A\n",
      " 90%|█████████████████████████████████████████████████████████████████████████████████████████████████████████████████████████▌             | 9/10 [01:10<00:08,  8.43s/it]\u001b[A\n",
      "100%|██████████████████████████████████████████████████████████████████████████████████████████████████████████████████████████████████████| 10/10 [01:16<00:00,  7.68s/it]\u001b[A\n"
     ]
    },
    {
     "name": "stdout",
     "output_type": "stream",
     "text": [
      "Cleaning up sorted DICOM files...\n"
     ]
    },
    {
     "name": "stderr",
     "output_type": "stream",
     "text": [
      "\n",
      "  0%|                                                                                                                                               | 0/10 [00:00<?, ?it/s]\u001b[A\n",
      "100%|██████████████████████████████████████████████████████████████████████████████████████████████████████████████████████████████████████| 10/10 [00:00<00:00, 80.67it/s]\u001b[A\n",
      "100%|██████████| 1558/1558 [00:03<00:00, 470.56it/s]                                                                                     | 240/928 [54:46<56:50,  4.96s/it]\n"
     ]
    },
    {
     "name": "stdout",
     "output_type": "stream",
     "text": [
      "Files sorted\n",
      "Cleaning up downloaded DICOM files...\n"
     ]
    },
    {
     "name": "stderr",
     "output_type": "stream",
     "text": [
      "\n",
      "  0%|                                                                                                                                               | 0/10 [00:00<?, ?it/s]\u001b[A\n",
      "100%|██████████████████████████████████████████████████████████████████████████████████████████████████████████████████████████████████████| 10/10 [00:00<00:00, 78.81it/s]\u001b[A\n"
     ]
    },
    {
     "name": "stdout",
     "output_type": "stream",
     "text": [
      "Saving patient data as .npz file...\n",
      "Saving patient .npz files to /data/all/train\n"
     ]
    },
    {
     "name": "stderr",
     "output_type": "stream",
     "text": [
      "\n",
      "  0%|                                                                                                                                               | 0/10 [00:00<?, ?it/s]\u001b[A\n",
      " 10%|█████████████▌                                                                                                                         | 1/10 [00:06<01:01,  6.83s/it]\u001b[A\n",
      " 20%|███████████████████████████                                                                                                            | 2/10 [00:14<00:59,  7.47s/it]\u001b[A\n",
      " 30%|████████████████████████████████████████▌                                                                                              | 3/10 [00:21<00:50,  7.17s/it]\u001b[A\n",
      " 40%|██████████████████████████████████████████████████████                                                                                 | 4/10 [00:28<00:42,  7.16s/it]\u001b[A\n",
      " 50%|███████████████████████████████████████████████████████████████████▌                                                                   | 5/10 [00:36<00:37,  7.43s/it]\u001b[A\n",
      " 60%|█████████████████████████████████████████████████████████████████████████████████                                                      | 6/10 [00:53<00:42, 10.67s/it]\u001b[A\n",
      " 70%|██████████████████████████████████████████████████████████████████████████████████████████████▌                                        | 7/10 [01:00<00:28,  9.38s/it]\u001b[A\n",
      " 80%|████████████████████████████████████████████████████████████████████████████████████████████████████████████                           | 8/10 [01:08<00:17,  8.93s/it]\u001b[A\n",
      " 90%|█████████████████████████████████████████████████████████████████████████████████████████████████████████████████████████▌             | 9/10 [01:15<00:08,  8.36s/it]\u001b[A\n",
      "100%|██████████████████████████████████████████████████████████████████████████████████████████████████████████████████████████████████████| 10/10 [01:23<00:00,  8.32s/it]\u001b[A\n"
     ]
    },
    {
     "name": "stdout",
     "output_type": "stream",
     "text": [
      "Cleaning up sorted DICOM files...\n"
     ]
    },
    {
     "name": "stderr",
     "output_type": "stream",
     "text": [
      "\n",
      "  0%|                                                                                                                                               | 0/10 [00:00<?, ?it/s]\u001b[A\n",
      "100%|██████████████████████████████████████████████████████████████████████████████████████████████████████████████████████████████████████| 10/10 [00:00<00:00, 68.42it/s]\u001b[A\n",
      "100%|██████████| 1418/1418 [00:02<00:00, 505.77it/s]                                                                                     | 250/928 [56:50<52:32,  4.65s/it]\n"
     ]
    },
    {
     "name": "stdout",
     "output_type": "stream",
     "text": [
      "Files sorted\n",
      "Cleaning up downloaded DICOM files...\n"
     ]
    },
    {
     "name": "stderr",
     "output_type": "stream",
     "text": [
      "\n",
      "  0%|                                                                                                                                               | 0/10 [00:00<?, ?it/s]\u001b[A\n",
      "100%|██████████████████████████████████████████████████████████████████████████████████████████████████████████████████████████████████████| 10/10 [00:00<00:00, 80.87it/s]\u001b[A\n"
     ]
    },
    {
     "name": "stdout",
     "output_type": "stream",
     "text": [
      "Saving patient data as .npz file...\n",
      "Saving patient .npz files to /data/all/train\n"
     ]
    },
    {
     "name": "stderr",
     "output_type": "stream",
     "text": [
      "\n",
      "  0%|                                                                                                                                               | 0/10 [00:00<?, ?it/s]\u001b[A\n",
      " 10%|█████████████▌                                                                                                                         | 1/10 [00:07<01:09,  7.77s/it]\u001b[A\n",
      " 20%|███████████████████████████                                                                                                            | 2/10 [00:20<01:23, 10.50s/it]\u001b[A\n",
      " 30%|████████████████████████████████████████▌                                                                                              | 3/10 [00:26<00:58,  8.40s/it]\u001b[A\n",
      " 40%|██████████████████████████████████████████████████████                                                                                 | 4/10 [00:33<00:48,  8.02s/it]\u001b[A"
     ]
    },
    {
     "name": "stdout",
     "output_type": "stream",
     "text": [
      "Failed to reduce all groups to <= 4 Annotations.\n",
      "Some nodules may be close and must be grouped manually.\n"
     ]
    },
    {
     "name": "stderr",
     "output_type": "stream",
     "text": [
      "\n",
      " 50%|███████████████████████████████████████████████████████████████████▌                                                                   | 5/10 [00:41<00:39,  7.97s/it]\u001b[A\n",
      " 60%|█████████████████████████████████████████████████████████████████████████████████                                                      | 6/10 [00:48<00:31,  7.76s/it]\u001b[A\n",
      " 70%|██████████████████████████████████████████████████████████████████████████████████████████████▌                                        | 7/10 [00:56<00:22,  7.62s/it]\u001b[A\n",
      " 80%|████████████████████████████████████████████████████████████████████████████████████████████████████████████                           | 8/10 [01:02<00:14,  7.11s/it]\u001b[A\n",
      " 90%|█████████████████████████████████████████████████████████████████████████████████████████████████████████████████████████▌             | 9/10 [01:09<00:07,  7.17s/it]\u001b[A\n",
      "100%|██████████████████████████████████████████████████████████████████████████████████████████████████████████████████████████████████████| 10/10 [01:15<00:00,  7.56s/it]\u001b[A\n"
     ]
    },
    {
     "name": "stdout",
     "output_type": "stream",
     "text": [
      "Cleaning up sorted DICOM files...\n"
     ]
    },
    {
     "name": "stderr",
     "output_type": "stream",
     "text": [
      "\n",
      "  0%|                                                                                                                                               | 0/10 [00:00<?, ?it/s]\u001b[A\n",
      "100%|██████████████████████████████████████████████████████████████████████████████████████████████████████████████████████████████████████| 10/10 [00:00<00:00, 93.02it/s]\u001b[A\n",
      "100%|██████████| 1401/1401 [00:02<00:00, 521.20it/s]                                                                                     | 260/928 [58:42<47:33,  4.27s/it]\n"
     ]
    },
    {
     "name": "stdout",
     "output_type": "stream",
     "text": [
      "Files sorted\n",
      "Cleaning up downloaded DICOM files...\n"
     ]
    },
    {
     "name": "stderr",
     "output_type": "stream",
     "text": [
      "\n",
      "  0%|                                                                                                                                               | 0/10 [00:00<?, ?it/s]\u001b[A\n",
      "100%|██████████████████████████████████████████████████████████████████████████████████████████████████████████████████████████████████████| 10/10 [00:00<00:00, 86.97it/s]\u001b[A\n"
     ]
    },
    {
     "name": "stdout",
     "output_type": "stream",
     "text": [
      "Saving patient data as .npz file...\n",
      "Saving patient .npz files to /data/all/train\n"
     ]
    },
    {
     "name": "stderr",
     "output_type": "stream",
     "text": [
      "\n",
      "  0%|                                                                                                                                               | 0/10 [00:00<?, ?it/s]\u001b[A\n",
      " 10%|█████████████▌                                                                                                                         | 1/10 [00:06<01:02,  6.93s/it]\u001b[A\n",
      " 20%|███████████████████████████                                                                                                            | 2/10 [00:16<01:07,  8.46s/it]\u001b[A\n",
      " 30%|████████████████████████████████████████▌                                                                                              | 3/10 [00:24<00:57,  8.17s/it]\u001b[A\n",
      " 40%|██████████████████████████████████████████████████████                                                                                 | 4/10 [00:31<00:46,  7.83s/it]\u001b[A\n",
      " 50%|███████████████████████████████████████████████████████████████████▌                                                                   | 5/10 [00:39<00:39,  7.80s/it]\u001b[A\n",
      " 60%|█████████████████████████████████████████████████████████████████████████████████                                                      | 6/10 [00:45<00:29,  7.40s/it]\u001b[A\n",
      " 70%|██████████████████████████████████████████████████████████████████████████████████████████████▌                                        | 7/10 [00:52<00:21,  7.26s/it]\u001b[A\n",
      " 80%|████████████████████████████████████████████████████████████████████████████████████████████████████████████                           | 8/10 [01:00<00:14,  7.29s/it]\u001b[A\n",
      " 90%|█████████████████████████████████████████████████████████████████████████████████████████████████████████████████████████▌             | 9/10 [01:06<00:06,  6.84s/it]\u001b[A\n",
      "100%|██████████████████████████████████████████████████████████████████████████████████████████████████████████████████████████████████████| 10/10 [01:12<00:00,  7.30s/it]\u001b[A\n"
     ]
    },
    {
     "name": "stdout",
     "output_type": "stream",
     "text": [
      "Cleaning up sorted DICOM files...\n"
     ]
    },
    {
     "name": "stderr",
     "output_type": "stream",
     "text": [
      "\n",
      "  0%|                                                                                                                                               | 0/10 [00:00<?, ?it/s]\u001b[A\n",
      "100%|██████████████████████████████████████████████████████████████████████████████████████████████████████████████████████████████████████| 10/10 [00:00<00:00, 73.34it/s]\u001b[A\n",
      "100%|██████████| 1685/1685 [00:03<00:00, 526.82it/s]                                                                                   | 270/928 [1:00:37<52:13,  4.76s/it]\n"
     ]
    },
    {
     "name": "stdout",
     "output_type": "stream",
     "text": [
      "Files sorted\n",
      "Cleaning up downloaded DICOM files...\n"
     ]
    },
    {
     "name": "stderr",
     "output_type": "stream",
     "text": [
      "\n",
      "  0%|                                                                                                                                               | 0/10 [00:00<?, ?it/s]\u001b[A\n",
      "100%|██████████████████████████████████████████████████████████████████████████████████████████████████████████████████████████████████████| 10/10 [00:00<00:00, 68.70it/s]\u001b[A\n"
     ]
    },
    {
     "name": "stdout",
     "output_type": "stream",
     "text": [
      "Saving patient data as .npz file...\n",
      "Saving patient .npz files to /data/all/train\n"
     ]
    },
    {
     "name": "stderr",
     "output_type": "stream",
     "text": [
      "\n",
      "  0%|                                                                                                                                               | 0/10 [00:00<?, ?it/s]\u001b[A\n",
      " 10%|█████████████▌                                                                                                                         | 1/10 [00:07<01:04,  7.19s/it]\u001b[A\n",
      " 20%|███████████████████████████                                                                                                            | 2/10 [00:14<00:58,  7.36s/it]\u001b[A\n",
      " 30%|████████████████████████████████████████▌                                                                                              | 3/10 [00:23<00:54,  7.81s/it]\u001b[A\n",
      " 40%|██████████████████████████████████████████████████████                                                                                 | 4/10 [00:37<01:01, 10.32s/it]\u001b[A\n",
      " 50%|███████████████████████████████████████████████████████████████████▌                                                                   | 5/10 [00:42<00:43,  8.64s/it]\u001b[A\n",
      " 60%|█████████████████████████████████████████████████████████████████████████████████                                                      | 6/10 [00:56<00:41, 10.28s/it]\u001b[A\n",
      " 70%|██████████████████████████████████████████████████████████████████████████████████████████████▌                                        | 7/10 [01:02<00:26,  8.89s/it]\u001b[A\n",
      " 80%|████████████████████████████████████████████████████████████████████████████████████████████████████████████                           | 8/10 [01:18<00:22, 11.17s/it]\u001b[A\n",
      " 90%|█████████████████████████████████████████████████████████████████████████████████████████████████████████████████████████▌             | 9/10 [01:25<00:09,  9.78s/it]\u001b[A\n",
      "100%|██████████████████████████████████████████████████████████████████████████████████████████████████████████████████████████████████████| 10/10 [01:32<00:00,  9.22s/it]\u001b[A\n"
     ]
    },
    {
     "name": "stdout",
     "output_type": "stream",
     "text": [
      "Cleaning up sorted DICOM files...\n"
     ]
    },
    {
     "name": "stderr",
     "output_type": "stream",
     "text": [
      "\n",
      "  0%|                                                                                                                                               | 0/10 [00:00<?, ?it/s]\u001b[A\n",
      "100%|██████████████████████████████████████████████████████████████████████████████████████████████████████████████████████████████████████| 10/10 [00:00<00:00, 69.20it/s]\u001b[A\n",
      "100%|██████████| 1479/1479 [00:02<00:00, 506.50it/s]                                                                                   | 280/928 [1:02:53<52:23,  4.85s/it]\n"
     ]
    },
    {
     "name": "stdout",
     "output_type": "stream",
     "text": [
      "Files sorted\n",
      "Cleaning up downloaded DICOM files...\n"
     ]
    },
    {
     "name": "stderr",
     "output_type": "stream",
     "text": [
      "\n",
      "  0%|                                                                                                                                               | 0/10 [00:00<?, ?it/s]\u001b[A\n",
      "100%|██████████████████████████████████████████████████████████████████████████████████████████████████████████████████████████████████████| 10/10 [00:00<00:00, 82.56it/s]\u001b[A\n"
     ]
    },
    {
     "name": "stdout",
     "output_type": "stream",
     "text": [
      "Saving patient data as .npz file...\n",
      "Saving patient .npz files to /data/all/train\n"
     ]
    },
    {
     "name": "stderr",
     "output_type": "stream",
     "text": [
      "\n",
      "  0%|                                                                                                                                               | 0/10 [00:00<?, ?it/s]\u001b[A\n",
      " 10%|█████████████▌                                                                                                                         | 1/10 [00:13<02:05, 13.91s/it]\u001b[A\n",
      " 20%|███████████████████████████                                                                                                            | 2/10 [00:20<01:15,  9.41s/it]\u001b[A\n",
      " 30%|████████████████████████████████████████▌                                                                                              | 3/10 [00:27<00:59,  8.51s/it]\u001b[A\n",
      " 40%|██████████████████████████████████████████████████████                                                                                 | 4/10 [00:34<00:47,  7.98s/it]\u001b[A\n",
      " 50%|███████████████████████████████████████████████████████████████████▌                                                                   | 5/10 [00:41<00:38,  7.65s/it]\u001b[A\n",
      " 60%|█████████████████████████████████████████████████████████████████████████████████                                                      | 6/10 [00:48<00:29,  7.35s/it]\u001b[A\n",
      " 70%|██████████████████████████████████████████████████████████████████████████████████████████████▌                                        | 7/10 [00:54<00:21,  7.02s/it]\u001b[A\n",
      " 80%|████████████████████████████████████████████████████████████████████████████████████████████████████████████                           | 8/10 [01:01<00:13,  6.82s/it]\u001b[A\n",
      " 90%|█████████████████████████████████████████████████████████████████████████████████████████████████████████████████████████▌             | 9/10 [01:07<00:06,  6.76s/it]\u001b[A\n",
      "100%|██████████████████████████████████████████████████████████████████████████████████████████████████████████████████████████████████████| 10/10 [01:19<00:00,  7.96s/it]\u001b[A\n"
     ]
    },
    {
     "name": "stdout",
     "output_type": "stream",
     "text": [
      "Cleaning up sorted DICOM files...\n"
     ]
    },
    {
     "name": "stderr",
     "output_type": "stream",
     "text": [
      "\n",
      "  0%|                                                                                                                                               | 0/10 [00:00<?, ?it/s]\u001b[A\n",
      "100%|██████████████████████████████████████████████████████████████████████████████████████████████████████████████████████████████████████| 10/10 [00:00<00:00, 79.11it/s]\u001b[A\n",
      "100%|██████████| 1906/1906 [00:03<00:00, 532.66it/s]                                                                                 | 290/928 [1:04:55<1:04:19,  6.05s/it]\n"
     ]
    },
    {
     "name": "stdout",
     "output_type": "stream",
     "text": [
      "Files sorted\n",
      "Cleaning up downloaded DICOM files...\n"
     ]
    },
    {
     "name": "stderr",
     "output_type": "stream",
     "text": [
      "\n",
      "  0%|                                                                                                                                               | 0/10 [00:00<?, ?it/s]\u001b[A\n",
      "100%|██████████████████████████████████████████████████████████████████████████████████████████████████████████████████████████████████████| 10/10 [00:00<00:00, 50.86it/s]\u001b[A\n"
     ]
    },
    {
     "name": "stdout",
     "output_type": "stream",
     "text": [
      "Saving patient data as .npz file...\n",
      "Saving patient .npz files to /data/all/train\n"
     ]
    },
    {
     "name": "stderr",
     "output_type": "stream",
     "text": [
      "\n",
      "  0%|                                                                                                                                               | 0/10 [00:00<?, ?it/s]\u001b[A\n",
      " 10%|█████████████▌                                                                                                                         | 1/10 [00:07<01:11,  7.98s/it]\u001b[A\n",
      " 20%|███████████████████████████                                                                                                            | 2/10 [00:15<01:01,  7.71s/it]\u001b[A\n",
      " 30%|████████████████████████████████████████▌                                                                                              | 3/10 [00:29<01:15, 10.81s/it]\u001b[A\n",
      " 40%|██████████████████████████████████████████████████████                                                                                 | 4/10 [00:55<01:40, 16.69s/it]\u001b[A\n",
      " 50%|███████████████████████████████████████████████████████████████████▌                                                                   | 5/10 [01:01<01:04, 12.90s/it]\u001b[A\n",
      " 60%|█████████████████████████████████████████████████████████████████████████████████                                                      | 6/10 [01:08<00:43, 10.88s/it]\u001b[A\n",
      " 70%|██████████████████████████████████████████████████████████████████████████████████████████████▌                                        | 7/10 [01:15<00:28,  9.36s/it]\u001b[A\n",
      " 80%|████████████████████████████████████████████████████████████████████████████████████████████████████████████                           | 8/10 [01:22<00:17,  8.64s/it]\u001b[A\n",
      " 90%|█████████████████████████████████████████████████████████████████████████████████████████████████████████████████████████▌             | 9/10 [01:36<00:10, 10.41s/it]\u001b[A\n",
      "100%|██████████████████████████████████████████████████████████████████████████████████████████████████████████████████████████████████████| 10/10 [01:42<00:00, 10.24s/it]\u001b[A\n"
     ]
    },
    {
     "name": "stdout",
     "output_type": "stream",
     "text": [
      "Cleaning up sorted DICOM files...\n"
     ]
    },
    {
     "name": "stderr",
     "output_type": "stream",
     "text": [
      "\n",
      "  0%|                                                                                                                                               | 0/10 [00:00<?, ?it/s]\u001b[A\n",
      "100%|██████████████████████████████████████████████████████████████████████████████████████████████████████████████████████████████████████| 10/10 [00:00<00:00, 52.30it/s]\u001b[A\n",
      "100%|██████████| 3422/3422 [00:06<00:00, 538.49it/s]                                                                                 | 300/928 [1:07:55<1:40:57,  9.65s/it]\n"
     ]
    },
    {
     "name": "stdout",
     "output_type": "stream",
     "text": [
      "Files sorted\n",
      "Cleaning up downloaded DICOM files...\n"
     ]
    },
    {
     "name": "stderr",
     "output_type": "stream",
     "text": [
      "\n",
      "  0%|                                                                                                                                               | 0/10 [00:00<?, ?it/s]\u001b[A\n",
      " 40%|██████████████████████████████████████████████████████                                                                                 | 4/10 [00:00<00:00, 31.59it/s]\u001b[A\n",
      "100%|██████████████████████████████████████████████████████████████████████████████████████████████████████████████████████████████████████| 10/10 [00:00<00:00, 36.25it/s]\u001b[A\n"
     ]
    },
    {
     "name": "stdout",
     "output_type": "stream",
     "text": [
      "Saving patient data as .npz file...\n",
      "Saving patient .npz files to /data/all/train\n"
     ]
    },
    {
     "name": "stderr",
     "output_type": "stream",
     "text": [
      "\n",
      "  0%|                                                                                                                                               | 0/10 [00:00<?, ?it/s]\u001b[A\n",
      " 10%|█████████████▌                                                                                                                         | 1/10 [00:15<02:16, 15.18s/it]\u001b[A\n",
      " 20%|███████████████████████████                                                                                                            | 2/10 [00:39<02:43, 20.47s/it]\u001b[A\n",
      " 30%|████████████████████████████████████████▌                                                                                              | 3/10 [01:07<02:47, 23.92s/it]\u001b[A\n",
      " 40%|██████████████████████████████████████████████████████                                                                                 | 4/10 [01:18<01:53, 18.94s/it]\u001b[A\n",
      " 50%|███████████████████████████████████████████████████████████████████▌                                                                   | 5/10 [01:26<01:14, 14.82s/it]\u001b[A\n",
      " 60%|█████████████████████████████████████████████████████████████████████████████████                                                      | 6/10 [01:49<01:10, 17.57s/it]\u001b[A\n",
      " 70%|██████████████████████████████████████████████████████████████████████████████████████████████▌                                        | 7/10 [01:57<00:43, 14.43s/it]\u001b[A\n",
      " 80%|████████████████████████████████████████████████████████████████████████████████████████████████████████████                           | 8/10 [02:21<00:35, 17.62s/it]\u001b[A\n",
      " 90%|█████████████████████████████████████████████████████████████████████████████████████████████████████████████████████████▌             | 9/10 [02:50<00:21, 21.15s/it]\u001b[A\n",
      "100%|██████████████████████████████████████████████████████████████████████████████████████████████████████████████████████████████████████| 10/10 [03:17<00:00, 19.76s/it]\u001b[A\n"
     ]
    },
    {
     "name": "stdout",
     "output_type": "stream",
     "text": [
      "Cleaning up sorted DICOM files...\n"
     ]
    },
    {
     "name": "stderr",
     "output_type": "stream",
     "text": [
      "\n",
      "  0%|                                                                                                                                               | 0/10 [00:00<?, ?it/s]\u001b[A\n",
      " 40%|██████████████████████████████████████████████████████                                                                                 | 4/10 [00:00<00:00, 38.18it/s]\u001b[A\n",
      "100%|██████████████████████████████████████████████████████████████████████████████████████████████████████████████████████████████████████| 10/10 [00:00<00:00, 30.40it/s]\u001b[A\n",
      "100%|██████████| 2465/2465 [00:05<00:00, 492.53it/s]                                                                                 | 310/928 [1:12:07<1:15:52,  7.37s/it]\n"
     ]
    },
    {
     "name": "stdout",
     "output_type": "stream",
     "text": [
      "Files sorted\n",
      "Cleaning up downloaded DICOM files...\n"
     ]
    },
    {
     "name": "stderr",
     "output_type": "stream",
     "text": [
      "\n",
      "  0%|                                                                                                                                               | 0/10 [00:00<?, ?it/s]\u001b[A\n",
      " 50%|███████████████████████████████████████████████████████████████████▌                                                                   | 5/10 [00:00<00:00, 42.64it/s]\u001b[A\n",
      "100%|██████████████████████████████████████████████████████████████████████████████████████████████████████████████████████████████████████| 10/10 [00:00<00:00, 35.20it/s]\u001b[A\n"
     ]
    },
    {
     "name": "stdout",
     "output_type": "stream",
     "text": [
      "Saving patient data as .npz file...\n",
      "Saving patient .npz files to /data/all/train\n"
     ]
    },
    {
     "name": "stderr",
     "output_type": "stream",
     "text": [
      "\n",
      "  0%|                                                                                                                                               | 0/10 [00:00<?, ?it/s]\u001b[A\n",
      " 10%|█████████████▌                                                                                                                         | 1/10 [00:06<00:55,  6.14s/it]\u001b[A\n",
      " 20%|███████████████████████████                                                                                                            | 2/10 [00:18<01:18,  9.87s/it]\u001b[A\n",
      " 30%|████████████████████████████████████████▌                                                                                              | 3/10 [00:31<01:18, 11.25s/it]\u001b[A\n",
      " 40%|██████████████████████████████████████████████████████                                                                                 | 4/10 [00:45<01:13, 12.26s/it]\u001b[A\n",
      " 50%|███████████████████████████████████████████████████████████████████▌                                                                   | 5/10 [01:00<01:06, 13.29s/it]\u001b[A\n",
      " 60%|█████████████████████████████████████████████████████████████████████████████████                                                      | 6/10 [01:13<00:52, 13.12s/it]\u001b[A\n",
      " 70%|██████████████████████████████████████████████████████████████████████████████████████████████▌                                        | 7/10 [01:25<00:38, 12.89s/it]\u001b[A\n",
      " 80%|████████████████████████████████████████████████████████████████████████████████████████████████████████████                           | 8/10 [01:54<00:36, 18.08s/it]\u001b[A\n",
      " 90%|█████████████████████████████████████████████████████████████████████████████████████████████████████████████████████████▌             | 9/10 [02:00<00:14, 14.22s/it]\u001b[A\n",
      "100%|██████████████████████████████████████████████████████████████████████████████████████████████████████████████████████████████████████| 10/10 [02:14<00:00, 13.41s/it]\u001b[A\n"
     ]
    },
    {
     "name": "stdout",
     "output_type": "stream",
     "text": [
      "Cleaning up sorted DICOM files...\n"
     ]
    },
    {
     "name": "stderr",
     "output_type": "stream",
     "text": [
      "\n",
      "  0%|                                                                                                                                               | 0/10 [00:00<?, ?it/s]\u001b[A\n",
      "100%|██████████████████████████████████████████████████████████████████████████████████████████████████████████████████████████████████████| 10/10 [00:00<00:00, 52.68it/s]\u001b[A\n",
      "100%|██████████| 1713/1713 [00:03<00:00, 556.75it/s]                                                                                   | 320/928 [1:15:06<56:55,  5.62s/it]\n"
     ]
    },
    {
     "name": "stdout",
     "output_type": "stream",
     "text": [
      "Files sorted\n",
      "Cleaning up downloaded DICOM files...\n"
     ]
    },
    {
     "name": "stderr",
     "output_type": "stream",
     "text": [
      "\n",
      "  0%|                                                                                                                                               | 0/10 [00:00<?, ?it/s]\u001b[A\n",
      "100%|██████████████████████████████████████████████████████████████████████████████████████████████████████████████████████████████████████| 10/10 [00:00<00:00, 68.52it/s]\u001b[A\n"
     ]
    },
    {
     "name": "stdout",
     "output_type": "stream",
     "text": [
      "Saving patient data as .npz file...\n",
      "Saving patient .npz files to /data/all/train\n"
     ]
    },
    {
     "name": "stderr",
     "output_type": "stream",
     "text": [
      "\n",
      "  0%|                                                                                                                                                | 0/9 [00:00<?, ?it/s]\u001b[A\n",
      " 11%|███████████████                                                                                                                         | 1/9 [00:06<00:50,  6.26s/it]\u001b[A\n",
      " 22%|██████████████████████████████▏                                                                                                         | 2/9 [00:14<00:52,  7.50s/it]\u001b[A\n",
      " 33%|█████████████████████████████████████████████▎                                                                                          | 3/9 [00:29<01:04, 10.67s/it]\u001b[A\n",
      " 44%|████████████████████████████████████████████████████████████▍                                                                           | 4/9 [00:35<00:44,  8.97s/it]\u001b[A\n",
      " 56%|███████████████████████████████████████████████████████████████████████████▌                                                            | 5/9 [00:52<00:47, 11.98s/it]\u001b[A\n",
      " 67%|██████████████████████████████████████████████████████████████████████████████████████████▋                                             | 6/9 [00:59<00:30, 10.07s/it]\u001b[A\n",
      " 78%|█████████████████████████████████████████████████████████████████████████████████████████████████████████▊                              | 7/9 [01:11<00:21, 10.77s/it]\u001b[A\n",
      " 89%|████████████████████████████████████████████████████████████████████████████████████████████████████████████████████████▉               | 8/9 [01:23<00:11, 11.21s/it]\u001b[A\n",
      "100%|████████████████████████████████████████████████████████████████████████████████████████████████████████████████████████████████████████| 9/9 [01:35<00:00, 10.56s/it]\u001b[A\n"
     ]
    },
    {
     "name": "stdout",
     "output_type": "stream",
     "text": [
      "Cleaning up sorted DICOM files...\n"
     ]
    },
    {
     "name": "stderr",
     "output_type": "stream",
     "text": [
      "\n",
      "  0%|                                                                                                                                                | 0/9 [00:00<?, ?it/s]\u001b[A\n",
      "100%|████████████████████████████████████████████████████████████████████████████████████████████████████████████████████████████████████████| 9/9 [00:00<00:00, 70.28it/s]\u001b[A\n",
      "100%|██████████| 2704/2704 [00:05<00:00, 526.34it/s]                                                                                   | 330/928 [1:17:40<57:42,  5.79s/it]\n"
     ]
    },
    {
     "name": "stdout",
     "output_type": "stream",
     "text": [
      "Files sorted\n",
      "Cleaning up downloaded DICOM files...\n"
     ]
    },
    {
     "name": "stderr",
     "output_type": "stream",
     "text": [
      "\n",
      "  0%|                                                                                                                                               | 0/10 [00:00<?, ?it/s]\u001b[A\n",
      " 40%|██████████████████████████████████████████████████████                                                                                 | 4/10 [00:00<00:00, 33.69it/s]\u001b[A\n",
      "100%|██████████████████████████████████████████████████████████████████████████████████████████████████████████████████████████████████████| 10/10 [00:00<00:00, 39.52it/s]\u001b[A\n"
     ]
    },
    {
     "name": "stdout",
     "output_type": "stream",
     "text": [
      "Saving patient data as .npz file...\n",
      "Saving patient .npz files to /data/all/train\n"
     ]
    },
    {
     "name": "stderr",
     "output_type": "stream",
     "text": [
      "\n",
      "  0%|                                                                                                                                                | 0/9 [00:00<?, ?it/s]\u001b[A\n",
      " 11%|███████████████                                                                                                                         | 1/9 [00:11<01:30, 11.28s/it]\u001b[A\n",
      " 22%|██████████████████████████████▏                                                                                                         | 2/9 [00:41<02:36, 22.35s/it]\u001b[A\n",
      " 33%|█████████████████████████████████████████████▎                                                                                          | 3/9 [00:47<01:30, 15.08s/it]\u001b[A\n",
      " 44%|████████████████████████████████████████████████████████████▍                                                                           | 4/9 [01:02<01:14, 14.92s/it]\u001b[A\n",
      " 56%|███████████████████████████████████████████████████████████████████████████▌                                                            | 5/9 [01:07<00:45, 11.43s/it]\u001b[A\n",
      " 67%|██████████████████████████████████████████████████████████████████████████████████████████▋                                             | 6/9 [01:20<00:35, 11.92s/it]\u001b[A\n",
      " 78%|█████████████████████████████████████████████████████████████████████████████████████████████████████████▊                              | 7/9 [01:32<00:24, 12.03s/it]\u001b[A\n",
      " 89%|████████████████████████████████████████████████████████████████████████████████████████████████████████████████████████▉               | 8/9 [02:01<00:17, 17.45s/it]\u001b[A\n",
      "100%|████████████████████████████████████████████████████████████████████████████████████████████████████████████████████████████████████████| 9/9 [02:19<00:00, 15.47s/it]\u001b[A\n"
     ]
    },
    {
     "name": "stdout",
     "output_type": "stream",
     "text": [
      "Cleaning up sorted DICOM files...\n"
     ]
    },
    {
     "name": "stderr",
     "output_type": "stream",
     "text": [
      "\n",
      "  0%|                                                                                                                                                | 0/9 [00:00<?, ?it/s]\u001b[A\n",
      " 44%|████████████████████████████████████████████████████████████▍                                                                           | 4/9 [00:00<00:00, 38.87it/s]\u001b[A\n",
      "100%|████████████████████████████████████████████████████████████████████████████████████████████████████████████████████████████████████████| 9/9 [00:00<00:00, 42.13it/s]\u001b[A\n",
      "100%|██████████| 2288/2288 [00:04<00:00, 546.67it/s]                                                                                 | 340/928 [1:20:55<1:10:44,  7.22s/it]\n"
     ]
    },
    {
     "name": "stdout",
     "output_type": "stream",
     "text": [
      "Files sorted\n",
      "Cleaning up downloaded DICOM files...\n"
     ]
    },
    {
     "name": "stderr",
     "output_type": "stream",
     "text": [
      "\n",
      "  0%|                                                                                                                                               | 0/10 [00:00<?, ?it/s]\u001b[A\n",
      "100%|██████████████████████████████████████████████████████████████████████████████████████████████████████████████████████████████████████| 10/10 [00:00<00:00, 45.27it/s]\u001b[A\n"
     ]
    },
    {
     "name": "stdout",
     "output_type": "stream",
     "text": [
      "Saving patient data as .npz file...\n",
      "Saving patient .npz files to /data/all/train\n"
     ]
    },
    {
     "name": "stderr",
     "output_type": "stream",
     "text": [
      "\n",
      "  0%|                                                                                                                                               | 0/10 [00:00<?, ?it/s]\u001b[A\n",
      " 10%|█████████████▌                                                                                                                         | 1/10 [00:13<02:01, 13.48s/it]\u001b[A\n",
      " 20%|███████████████████████████                                                                                                            | 2/10 [00:19<01:12,  9.07s/it]\u001b[A\n",
      " 30%|████████████████████████████████████████▌                                                                                              | 3/10 [00:37<01:32, 13.19s/it]\u001b[A\n",
      " 40%|██████████████████████████████████████████████████████                                                                                 | 4/10 [00:45<01:06, 11.17s/it]\u001b[A\n",
      " 50%|███████████████████████████████████████████████████████████████████▌                                                                   | 5/10 [01:04<01:10, 14.04s/it]\u001b[A\n",
      " 60%|█████████████████████████████████████████████████████████████████████████████████                                                      | 6/10 [01:19<00:56, 14.12s/it]\u001b[A\n",
      " 70%|██████████████████████████████████████████████████████████████████████████████████████████████▌                                        | 7/10 [01:25<00:34, 11.51s/it]\u001b[A"
     ]
    },
    {
     "name": "stdout",
     "output_type": "stream",
     "text": [
      "Failed to reduce all groups to <= 4 Annotations.\n",
      "Some nodules may be close and must be grouped manually.\n"
     ]
    },
    {
     "name": "stderr",
     "output_type": "stream",
     "text": [
      "\n",
      " 80%|████████████████████████████████████████████████████████████████████████████████████████████████████████████                           | 8/10 [01:48<00:30, 15.23s/it]\u001b[A\n",
      " 90%|█████████████████████████████████████████████████████████████████████████████████████████████████████████████████████████▌             | 9/10 [01:55<00:12, 12.84s/it]\u001b[A\n",
      "100%|██████████████████████████████████████████████████████████████████████████████████████████████████████████████████████████████████████| 10/10 [02:09<00:00, 12.94s/it]\u001b[A\n"
     ]
    },
    {
     "name": "stdout",
     "output_type": "stream",
     "text": [
      "Cleaning up sorted DICOM files...\n"
     ]
    },
    {
     "name": "stderr",
     "output_type": "stream",
     "text": [
      "\n",
      "  0%|                                                                                                                                               | 0/10 [00:00<?, ?it/s]\u001b[A\n",
      "100%|██████████████████████████████████████████████████████████████████████████████████████████████████████████████████████████████████████| 10/10 [00:00<00:00, 45.97it/s]\u001b[A\n",
      "100%|██████████| 1914/1914 [00:03<00:00, 527.79it/s]██                                                                                 | 350/928 [1:23:49<58:40,  6.09s/it]\n"
     ]
    },
    {
     "name": "stdout",
     "output_type": "stream",
     "text": [
      "Files sorted\n",
      "Cleaning up downloaded DICOM files...\n"
     ]
    },
    {
     "name": "stderr",
     "output_type": "stream",
     "text": [
      "\n",
      "  0%|                                                                                                                                               | 0/10 [00:00<?, ?it/s]\u001b[A\n",
      "100%|██████████████████████████████████████████████████████████████████████████████████████████████████████████████████████████████████████| 10/10 [00:00<00:00, 47.07it/s]\u001b[A\n"
     ]
    },
    {
     "name": "stdout",
     "output_type": "stream",
     "text": [
      "Saving patient data as .npz file...\n",
      "Saving patient .npz files to /data/all/train\n"
     ]
    },
    {
     "name": "stderr",
     "output_type": "stream",
     "text": [
      "\n",
      "  0%|                                                                                                                                               | 0/10 [00:00<?, ?it/s]\u001b[A\n",
      " 10%|█████████████▌                                                                                                                         | 1/10 [00:06<00:59,  6.67s/it]\u001b[A\n",
      " 20%|███████████████████████████                                                                                                            | 2/10 [00:20<01:25, 10.66s/it]\u001b[A\n",
      " 30%|████████████████████████████████████████▌                                                                                              | 3/10 [00:29<01:09,  9.96s/it]\u001b[A\n",
      " 40%|██████████████████████████████████████████████████████                                                                                 | 4/10 [00:46<01:17, 12.97s/it]\u001b[A\n",
      " 50%|███████████████████████████████████████████████████████████████████▌                                                                   | 5/10 [00:53<00:53, 10.69s/it]\u001b[A\n",
      " 60%|█████████████████████████████████████████████████████████████████████████████████                                                      | 6/10 [00:59<00:36,  9.22s/it]\u001b[A\n",
      " 70%|██████████████████████████████████████████████████████████████████████████████████████████████▌                                        | 7/10 [01:10<00:29,  9.82s/it]\u001b[A\n",
      " 80%|████████████████████████████████████████████████████████████████████████████████████████████████████████████                           | 8/10 [01:19<00:18,  9.29s/it]\u001b[A\n",
      " 90%|█████████████████████████████████████████████████████████████████████████████████████████████████████████████████████████▌             | 9/10 [01:32<00:10, 10.59s/it]\u001b[A\n",
      "100%|██████████████████████████████████████████████████████████████████████████████████████████████████████████████████████████████████████| 10/10 [01:50<00:00, 11.05s/it]\u001b[A\n"
     ]
    },
    {
     "name": "stdout",
     "output_type": "stream",
     "text": [
      "Cleaning up sorted DICOM files...\n"
     ]
    },
    {
     "name": "stderr",
     "output_type": "stream",
     "text": [
      "\n",
      "  0%|                                                                                                                                               | 0/10 [00:00<?, ?it/s]\u001b[A\n",
      "100%|██████████████████████████████████████████████████████████████████████████████████████████████████████████████████████████████████████| 10/10 [00:00<00:00, 63.89it/s]\u001b[A\n",
      "100%|██████████| 1841/1841 [00:03<00:00, 531.94it/s]███▍                                                                               | 360/928 [1:26:26<56:25,  5.96s/it]\n"
     ]
    },
    {
     "name": "stdout",
     "output_type": "stream",
     "text": [
      "Files sorted\n",
      "Cleaning up downloaded DICOM files...\n"
     ]
    },
    {
     "name": "stderr",
     "output_type": "stream",
     "text": [
      "\n",
      "  0%|                                                                                                                                               | 0/10 [00:00<?, ?it/s]\u001b[A\n",
      "100%|██████████████████████████████████████████████████████████████████████████████████████████████████████████████████████████████████████| 10/10 [00:00<00:00, 64.89it/s]\u001b[A\n"
     ]
    },
    {
     "name": "stdout",
     "output_type": "stream",
     "text": [
      "Saving patient data as .npz file...\n",
      "Saving patient .npz files to /data/all/train\n"
     ]
    },
    {
     "name": "stderr",
     "output_type": "stream",
     "text": [
      "\n",
      "  0%|                                                                                                                                                | 0/9 [00:00<?, ?it/s]\u001b[A\n",
      " 11%|███████████████                                                                                                                         | 1/9 [00:11<01:35, 11.96s/it]\u001b[A\n",
      " 22%|██████████████████████████████▏                                                                                                         | 2/9 [00:27<01:39, 14.25s/it]\u001b[A\n",
      " 33%|█████████████████████████████████████████████▎                                                                                          | 3/9 [00:40<01:22, 13.76s/it]\u001b[A\n",
      " 44%|████████████████████████████████████████████████████████████▍                                                                           | 4/9 [00:47<00:53, 10.73s/it]\u001b[A\n",
      " 56%|███████████████████████████████████████████████████████████████████████████▌                                                            | 5/9 [00:53<00:36,  9.02s/it]\u001b[A\n",
      " 67%|██████████████████████████████████████████████████████████████████████████████████████████▋                                             | 6/9 [01:05<00:30, 10.07s/it]\u001b[A\n",
      " 78%|█████████████████████████████████████████████████████████████████████████████████████████████████████████▊                              | 7/9 [01:28<00:28, 14.37s/it]\u001b[A\n",
      " 89%|████████████████████████████████████████████████████████████████████████████████████████████████████████████████████████▉               | 8/9 [01:34<00:11, 11.69s/it]\u001b[A\n",
      "100%|████████████████████████████████████████████████████████████████████████████████████████████████████████████████████████████████████████| 9/9 [01:40<00:00, 11.19s/it]\u001b[A\n"
     ]
    },
    {
     "name": "stdout",
     "output_type": "stream",
     "text": [
      "Cleaning up sorted DICOM files...\n"
     ]
    },
    {
     "name": "stderr",
     "output_type": "stream",
     "text": [
      "\n",
      "  0%|                                                                                                                                                | 0/9 [00:00<?, ?it/s]\u001b[A\n",
      "100%|████████████████████████████████████████████████████████████████████████████████████████████████████████████████████████████████████████| 9/9 [00:00<00:00, 55.44it/s]\u001b[A\n",
      "100%|██████████| 2469/2469 [00:05<00:00, 491.77it/s]████                                                                             | 370/928 [1:29:00<1:09:16,  7.45s/it]\n"
     ]
    },
    {
     "name": "stdout",
     "output_type": "stream",
     "text": [
      "Files sorted\n",
      "Cleaning up downloaded DICOM files...\n"
     ]
    },
    {
     "name": "stderr",
     "output_type": "stream",
     "text": [
      "\n",
      "  0%|                                                                                                                                               | 0/10 [00:00<?, ?it/s]\u001b[A\n",
      " 40%|██████████████████████████████████████████████████████                                                                                 | 4/10 [00:00<00:00, 39.09it/s]\u001b[A\n",
      "100%|██████████████████████████████████████████████████████████████████████████████████████████████████████████████████████████████████████| 10/10 [00:00<00:00, 48.57it/s]\u001b[A\n"
     ]
    },
    {
     "name": "stdout",
     "output_type": "stream",
     "text": [
      "Saving patient data as .npz file...\n",
      "Saving patient .npz files to /data/all/train\n"
     ]
    },
    {
     "name": "stderr",
     "output_type": "stream",
     "text": [
      "\n",
      "  0%|                                                                                                                                                | 0/9 [00:00<?, ?it/s]\u001b[A"
     ]
    },
    {
     "name": "stdout",
     "output_type": "stream",
     "text": [
      "Failed to reduce all groups to <= 4 Annotations.\n",
      "Some nodules may be close and must be grouped manually.\n"
     ]
    },
    {
     "name": "stderr",
     "output_type": "stream",
     "text": [
      "\n",
      " 11%|███████████████                                                                                                                         | 1/9 [00:06<00:53,  6.64s/it]\u001b[A\n",
      " 22%|██████████████████████████████▏                                                                                                         | 2/9 [00:12<00:42,  6.09s/it]\u001b[A\n",
      " 33%|█████████████████████████████████████████████▎                                                                                          | 3/9 [00:26<00:57,  9.62s/it]\u001b[A\n",
      " 44%|████████████████████████████████████████████████████████████▍                                                                           | 4/9 [00:32<00:42,  8.42s/it]\u001b[A\n",
      " 56%|███████████████████████████████████████████████████████████████████████████▌                                                            | 5/9 [00:59<01:00, 15.08s/it]\u001b[A\n",
      " 67%|██████████████████████████████████████████████████████████████████████████████████████████▋                                             | 6/9 [01:22<00:52, 17.67s/it]\u001b[A\n",
      " 78%|█████████████████████████████████████████████████████████████████████████████████████████████████████████▊                              | 7/9 [01:34<00:32, 16.02s/it]\u001b[A\n",
      " 89%|████████████████████████████████████████████████████████████████████████████████████████████████████████████████████████▉               | 8/9 [02:00<00:19, 19.17s/it]\u001b[A\n",
      "100%|████████████████████████████████████████████████████████████████████████████████████████████████████████████████████████████████████████| 9/9 [02:08<00:00, 14.22s/it]\u001b[A\n"
     ]
    },
    {
     "name": "stdout",
     "output_type": "stream",
     "text": [
      "Cleaning up sorted DICOM files...\n"
     ]
    },
    {
     "name": "stderr",
     "output_type": "stream",
     "text": [
      "\n",
      "  0%|                                                                                                                                                | 0/9 [00:00<?, ?it/s]\u001b[A\n",
      "100%|████████████████████████████████████████████████████████████████████████████████████████████████████████████████████████████████████████| 9/9 [00:00<00:00, 36.08it/s]\u001b[A\n",
      "100%|██████████| 2793/2793 [00:05<00:00, 529.84it/s]██████▏                                                                            | 380/928 [1:32:17<59:31,  6.52s/it]\n"
     ]
    },
    {
     "name": "stdout",
     "output_type": "stream",
     "text": [
      "Files sorted\n",
      "Cleaning up downloaded DICOM files...\n"
     ]
    },
    {
     "name": "stderr",
     "output_type": "stream",
     "text": [
      "\n",
      "  0%|                                                                                                                                               | 0/10 [00:00<?, ?it/s]\u001b[A\n",
      " 40%|██████████████████████████████████████████████████████                                                                                 | 4/10 [00:00<00:00, 35.53it/s]\u001b[A\n",
      "100%|██████████████████████████████████████████████████████████████████████████████████████████████████████████████████████████████████████| 10/10 [00:00<00:00, 39.82it/s]\u001b[A\n"
     ]
    },
    {
     "name": "stdout",
     "output_type": "stream",
     "text": [
      "Saving patient data as .npz file...\n",
      "Saving patient .npz files to /data/all/train\n"
     ]
    },
    {
     "name": "stderr",
     "output_type": "stream",
     "text": [
      "\n",
      "  0%|                                                                                                                                               | 0/10 [00:00<?, ?it/s]\u001b[A\n",
      " 10%|█████████████▌                                                                                                                         | 1/10 [00:33<05:05, 33.89s/it]\u001b[A\n",
      " 20%|███████████████████████████                                                                                                            | 2/10 [00:54<03:30, 26.33s/it]\u001b[A\n",
      " 30%|████████████████████████████████████████▌                                                                                              | 3/10 [01:02<02:02, 17.55s/it]\u001b[A\n",
      " 40%|██████████████████████████████████████████████████████                                                                                 | 4/10 [01:37<02:28, 24.78s/it]\u001b[A\n",
      " 50%|███████████████████████████████████████████████████████████████████▌                                                                   | 5/10 [01:43<01:29, 17.85s/it]\u001b[A\n",
      " 60%|█████████████████████████████████████████████████████████████████████████████████                                                      | 6/10 [01:56<01:04, 16.08s/it]\u001b[A\n",
      " 70%|██████████████████████████████████████████████████████████████████████████████████████████████▌                                        | 7/10 [02:09<00:46, 15.36s/it]\u001b[A\n",
      " 80%|████████████████████████████████████████████████████████████████████████████████████████████████████████████                           | 8/10 [02:16<00:25, 12.57s/it]\u001b[A\n",
      " 90%|█████████████████████████████████████████████████████████████████████████████████████████████████████████████████████████▌             | 9/10 [02:28<00:12, 12.38s/it]\u001b[A\n",
      "100%|██████████████████████████████████████████████████████████████████████████████████████████████████████████████████████████████████████| 10/10 [02:41<00:00, 16.18s/it]\u001b[A\n"
     ]
    },
    {
     "name": "stdout",
     "output_type": "stream",
     "text": [
      "Cleaning up sorted DICOM files...\n"
     ]
    },
    {
     "name": "stderr",
     "output_type": "stream",
     "text": [
      "\n",
      "  0%|                                                                                                                                               | 0/10 [00:00<?, ?it/s]\u001b[A\n",
      "100%|██████████████████████████████████████████████████████████████████████████████████████████████████████████████████████████████████████| 10/10 [00:00<00:00, 45.62it/s]\u001b[A\n",
      "100%|██████████| 2496/2496 [00:04<00:00, 536.60it/s]███████▋                                                                           | 390/928 [1:35:54<56:48,  6.34s/it]\n"
     ]
    },
    {
     "name": "stdout",
     "output_type": "stream",
     "text": [
      "Files sorted\n",
      "Cleaning up downloaded DICOM files...\n"
     ]
    },
    {
     "name": "stderr",
     "output_type": "stream",
     "text": [
      "\n",
      "  0%|                                                                                                                                               | 0/10 [00:00<?, ?it/s]\u001b[A\n",
      " 30%|████████████████████████████████████████▌                                                                                              | 3/10 [00:00<00:00, 28.12it/s]\u001b[A\n",
      "100%|██████████████████████████████████████████████████████████████████████████████████████████████████████████████████████████████████████| 10/10 [00:00<00:00, 44.57it/s]\u001b[A\n"
     ]
    },
    {
     "name": "stdout",
     "output_type": "stream",
     "text": [
      "Saving patient data as .npz file...\n",
      "Saving patient .npz files to /data/all/train\n"
     ]
    },
    {
     "name": "stderr",
     "output_type": "stream",
     "text": [
      "\n",
      "  0%|                                                                                                                                               | 0/10 [00:00<?, ?it/s]\u001b[A\n",
      " 10%|█████████████▌                                                                                                                         | 1/10 [00:05<00:48,  5.39s/it]\u001b[A\n",
      " 20%|███████████████████████████                                                                                                            | 2/10 [00:31<02:22, 17.84s/it]\u001b[A\n",
      " 30%|████████████████████████████████████████▌                                                                                              | 3/10 [00:57<02:28, 21.26s/it]\u001b[A\n",
      " 40%|██████████████████████████████████████████████████████                                                                                 | 4/10 [01:04<01:33, 15.59s/it]\u001b[A\n",
      " 50%|███████████████████████████████████████████████████████████████████▌                                                                   | 5/10 [01:09<01:00, 12.05s/it]\u001b[A\n",
      " 60%|█████████████████████████████████████████████████████████████████████████████████                                                      | 6/10 [01:18<00:43, 10.82s/it]\u001b[A\n",
      " 70%|██████████████████████████████████████████████████████████████████████████████████████████████▌                                        | 7/10 [01:48<00:51, 17.25s/it]\u001b[A\n",
      " 80%|████████████████████████████████████████████████████████████████████████████████████████████████████████████                           | 8/10 [01:55<00:28, 14.02s/it]\u001b[A\n",
      " 90%|█████████████████████████████████████████████████████████████████████████████████████████████████████████████████████████▌             | 9/10 [02:19<00:17, 17.10s/it]\u001b[A\n",
      "100%|██████████████████████████████████████████████████████████████████████████████████████████████████████████████████████████████████████| 10/10 [02:25<00:00, 14.59s/it]\u001b[A\n"
     ]
    },
    {
     "name": "stdout",
     "output_type": "stream",
     "text": [
      "Cleaning up sorted DICOM files...\n"
     ]
    },
    {
     "name": "stderr",
     "output_type": "stream",
     "text": [
      "\n",
      "  0%|                                                                                                                                               | 0/10 [00:00<?, ?it/s]\u001b[A\n",
      " 40%|██████████████████████████████████████████████████████                                                                                 | 4/10 [00:00<00:00, 37.91it/s]\u001b[A\n",
      "100%|██████████████████████████████████████████████████████████████████████████████████████████████████████████████████████████████████████| 10/10 [00:00<00:00, 47.89it/s]\u001b[A\n",
      "100%|██████████| 2282/2282 [00:04<00:00, 533.08it/s]████████▏                                                                        | 400/928 [1:39:14<1:01:10,  6.95s/it]\n"
     ]
    },
    {
     "name": "stdout",
     "output_type": "stream",
     "text": [
      "Files sorted\n",
      "Cleaning up downloaded DICOM files...\n"
     ]
    },
    {
     "name": "stderr",
     "output_type": "stream",
     "text": [
      "\n",
      "  0%|                                                                                                                                               | 0/10 [00:00<?, ?it/s]\u001b[A\n",
      "100%|██████████████████████████████████████████████████████████████████████████████████████████████████████████████████████████████████████| 10/10 [00:00<00:00, 47.03it/s]\u001b[A\n"
     ]
    },
    {
     "name": "stdout",
     "output_type": "stream",
     "text": [
      "Saving patient data as .npz file...\n",
      "Saving patient .npz files to /data/all/train\n"
     ]
    },
    {
     "name": "stderr",
     "output_type": "stream",
     "text": [
      "\n",
      "  0%|                                                                                                                                               | 0/10 [00:00<?, ?it/s]\u001b[A\n",
      " 10%|█████████████▌                                                                                                                         | 1/10 [00:07<01:03,  7.02s/it]\u001b[A\n",
      " 20%|███████████████████████████                                                                                                            | 2/10 [00:12<00:50,  6.36s/it]\u001b[A\n",
      " 30%|████████████████████████████████████████▌                                                                                              | 3/10 [00:25<01:04,  9.27s/it]\u001b[A\n",
      " 40%|██████████████████████████████████████████████████████                                                                                 | 4/10 [00:40<01:08, 11.42s/it]\u001b[A\n",
      " 50%|███████████████████████████████████████████████████████████████████▌                                                                   | 5/10 [00:53<01:00, 12.14s/it]\u001b[A\n",
      " 60%|█████████████████████████████████████████████████████████████████████████████████                                                      | 6/10 [01:06<00:49, 12.41s/it]\u001b[A\n",
      " 70%|██████████████████████████████████████████████████████████████████████████████████████████████▌                                        | 7/10 [01:23<00:41, 13.91s/it]\u001b[A\n",
      " 80%|████████████████████████████████████████████████████████████████████████████████████████████████████████████                           | 8/10 [01:36<00:27, 13.54s/it]\u001b[A\n",
      " 90%|█████████████████████████████████████████████████████████████████████████████████████████████████████████████████████████▌             | 9/10 [01:42<00:11, 11.30s/it]\u001b[A\n",
      "100%|██████████████████████████████████████████████████████████████████████████████████████████████████████████████████████████████████████| 10/10 [02:12<00:00, 13.24s/it]\u001b[A\n"
     ]
    },
    {
     "name": "stdout",
     "output_type": "stream",
     "text": [
      "Cleaning up sorted DICOM files...\n"
     ]
    },
    {
     "name": "stderr",
     "output_type": "stream",
     "text": [
      "\n",
      "  0%|                                                                                                                                               | 0/10 [00:00<?, ?it/s]\u001b[A\n",
      "100%|██████████████████████████████████████████████████████████████████████████████████████████████████████████████████████████████████████| 10/10 [00:00<00:00, 58.95it/s]\u001b[A\n",
      "100%|██████████| 2955/2955 [00:05<00:00, 523.27it/s]██████████▍                                                                        | 410/928 [1:42:23<55:55,  6.48s/it]\n"
     ]
    },
    {
     "name": "stdout",
     "output_type": "stream",
     "text": [
      "Files sorted\n",
      "Cleaning up downloaded DICOM files...\n"
     ]
    },
    {
     "name": "stderr",
     "output_type": "stream",
     "text": [
      "\n",
      "  0%|                                                                                                                                               | 0/10 [00:00<?, ?it/s]\u001b[A\n",
      " 50%|███████████████████████████████████████████████████████████████████▌                                                                   | 5/10 [00:00<00:00, 47.64it/s]\u001b[A\n",
      "100%|██████████████████████████████████████████████████████████████████████████████████████████████████████████████████████████████████████| 10/10 [00:00<00:00, 38.05it/s]\u001b[A\n"
     ]
    },
    {
     "name": "stdout",
     "output_type": "stream",
     "text": [
      "Saving patient data as .npz file...\n",
      "Saving patient .npz files to /data/all/train\n"
     ]
    },
    {
     "name": "stderr",
     "output_type": "stream",
     "text": [
      "\n",
      "  0%|                                                                                                                                               | 0/10 [00:00<?, ?it/s]\u001b[A\n",
      " 10%|█████████████▌                                                                                                                         | 1/10 [00:06<00:55,  6.14s/it]\u001b[A\n",
      " 20%|███████████████████████████                                                                                                            | 2/10 [00:20<01:27, 10.91s/it]\u001b[A\n",
      " 30%|████████████████████████████████████████▌                                                                                              | 3/10 [00:39<01:42, 14.62s/it]\u001b[A\n",
      " 40%|██████████████████████████████████████████████████████                                                                                 | 4/10 [01:03<01:49, 18.17s/it]\u001b[A\n",
      " 50%|███████████████████████████████████████████████████████████████████▌                                                                   | 5/10 [01:18<01:26, 17.23s/it]\u001b[A\n",
      " 60%|█████████████████████████████████████████████████████████████████████████████████                                                      | 6/10 [01:34<01:07, 16.90s/it]\u001b[A\n",
      " 70%|██████████████████████████████████████████████████████████████████████████████████████████████▌                                        | 7/10 [01:47<00:46, 15.43s/it]\u001b[A\n",
      " 80%|████████████████████████████████████████████████████████████████████████████████████████████████████████████                           | 8/10 [02:21<00:42, 21.34s/it]\u001b[A"
     ]
    },
    {
     "name": "stdout",
     "output_type": "stream",
     "text": [
      "Failed to reduce all groups to <= 4 Annotations.\n",
      "Some nodules may be close and must be grouped manually.\n"
     ]
    },
    {
     "name": "stderr",
     "output_type": "stream",
     "text": [
      "\n",
      " 90%|█████████████████████████████████████████████████████████████████████████████████████████████████████████████████████████▌             | 9/10 [02:38<00:19, 19.96s/it]\u001b[A\n",
      "100%|██████████████████████████████████████████████████████████████████████████████████████████████████████████████████████████████████████| 10/10 [03:06<00:00, 18.62s/it]\u001b[A\n"
     ]
    },
    {
     "name": "stdout",
     "output_type": "stream",
     "text": [
      "Cleaning up sorted DICOM files...\n"
     ]
    },
    {
     "name": "stderr",
     "output_type": "stream",
     "text": [
      "\n",
      "  0%|                                                                                                                                               | 0/10 [00:00<?, ?it/s]\u001b[A\n",
      " 50%|███████████████████████████████████████████████████████████████████▌                                                                   | 5/10 [00:00<00:00, 49.41it/s]\u001b[A\n",
      "100%|██████████████████████████████████████████████████████████████████████████████████████████████████████████████████████████████████████| 10/10 [00:00<00:00, 37.01it/s]\u001b[A\n",
      "100%|██████████| 1824/1824 [00:03<00:00, 513.35it/s]██████████▉                                                                      | 420/928 [1:46:24<1:03:50,  7.54s/it]\n"
     ]
    },
    {
     "name": "stdout",
     "output_type": "stream",
     "text": [
      "Files sorted\n",
      "Cleaning up downloaded DICOM files...\n"
     ]
    },
    {
     "name": "stderr",
     "output_type": "stream",
     "text": [
      "\n",
      "  0%|                                                                                                                                               | 0/10 [00:00<?, ?it/s]\u001b[A\n",
      "100%|██████████████████████████████████████████████████████████████████████████████████████████████████████████████████████████████████████| 10/10 [00:00<00:00, 57.19it/s]\u001b[A\n"
     ]
    },
    {
     "name": "stdout",
     "output_type": "stream",
     "text": [
      "Saving patient data as .npz file...\n",
      "Saving patient .npz files to /data/all/train\n"
     ]
    },
    {
     "name": "stderr",
     "output_type": "stream",
     "text": [
      "\n",
      "  0%|                                                                                                                                               | 0/10 [00:00<?, ?it/s]\u001b[A\n",
      " 10%|█████████████▌                                                                                                                         | 1/10 [00:13<02:00, 13.35s/it]\u001b[A\n",
      " 20%|███████████████████████████                                                                                                            | 2/10 [00:25<01:42, 12.77s/it]\u001b[A\n",
      " 30%|████████████████████████████████████████▌                                                                                              | 3/10 [00:32<01:09,  9.86s/it]\u001b[A\n",
      " 40%|██████████████████████████████████████████████████████                                                                                 | 4/10 [00:44<01:04, 10.68s/it]\u001b[A\n",
      " 50%|███████████████████████████████████████████████████████████████████▌                                                                   | 5/10 [00:55<00:54, 10.95s/it]\u001b[A\n",
      " 60%|█████████████████████████████████████████████████████████████████████████████████                                                      | 6/10 [01:12<00:52, 13.09s/it]\u001b[A\n",
      " 70%|██████████████████████████████████████████████████████████████████████████████████████████████▌                                        | 7/10 [01:18<00:31, 10.60s/it]\u001b[A\n",
      " 80%|████████████████████████████████████████████████████████████████████████████████████████████████████████████                           | 8/10 [01:30<00:22, 11.29s/it]\u001b[A\n",
      " 90%|█████████████████████████████████████████████████████████████████████████████████████████████████████████████████████████▌             | 9/10 [01:38<00:10, 10.10s/it]\u001b[A\n",
      "100%|██████████████████████████████████████████████████████████████████████████████████████████████████████████████████████████████████████| 10/10 [01:49<00:00, 10.97s/it]\u001b[A\n"
     ]
    },
    {
     "name": "stdout",
     "output_type": "stream",
     "text": [
      "Cleaning up sorted DICOM files...\n"
     ]
    },
    {
     "name": "stderr",
     "output_type": "stream",
     "text": [
      "\n",
      "  0%|                                                                                                                                               | 0/10 [00:00<?, ?it/s]\u001b[A\n",
      "100%|██████████████████████████████████████████████████████████████████████████████████████████████████████████████████████████████████████| 10/10 [00:00<00:00, 60.78it/s]\u001b[A\n",
      "100%|██████████| 2924/2924 [00:05<00:00, 506.98it/s]████████████▎                                                                    | 430/928 [1:49:15<1:09:36,  8.39s/it]\n"
     ]
    },
    {
     "name": "stdout",
     "output_type": "stream",
     "text": [
      "Files sorted\n",
      "Cleaning up downloaded DICOM files...\n"
     ]
    },
    {
     "name": "stderr",
     "output_type": "stream",
     "text": [
      "\n",
      "  0%|                                                                                                                                               | 0/10 [00:00<?, ?it/s]\u001b[A\n",
      " 40%|██████████████████████████████████████████████████████                                                                                 | 4/10 [00:00<00:00, 36.18it/s]\u001b[A\n",
      "100%|██████████████████████████████████████████████████████████████████████████████████████████████████████████████████████████████████████| 10/10 [00:00<00:00, 35.42it/s]\u001b[A\n"
     ]
    },
    {
     "name": "stdout",
     "output_type": "stream",
     "text": [
      "Saving patient data as .npz file...\n",
      "Saving patient .npz files to /data/all/train\n"
     ]
    },
    {
     "name": "stderr",
     "output_type": "stream",
     "text": [
      "\n",
      "  0%|                                                                                                                                               | 0/10 [00:00<?, ?it/s]\u001b[A\n",
      " 10%|█████████████▌                                                                                                                         | 1/10 [00:14<02:11, 14.65s/it]\u001b[A\n",
      " 20%|███████████████████████████                                                                                                            | 2/10 [00:28<01:52, 14.05s/it]\u001b[A\n",
      " 30%|████████████████████████████████████████▌                                                                                              | 3/10 [00:34<01:14, 10.68s/it]\u001b[A\n",
      " 40%|██████████████████████████████████████████████████████                                                                                 | 4/10 [00:56<01:28, 14.82s/it]\u001b[A\n",
      " 50%|███████████████████████████████████████████████████████████████████▌                                                                   | 5/10 [01:04<01:02, 12.45s/it]\u001b[A\n",
      " 60%|█████████████████████████████████████████████████████████████████████████████████                                                      | 6/10 [01:30<01:08, 17.13s/it]\u001b[A\n",
      " 70%|██████████████████████████████████████████████████████████████████████████████████████████████▌                                        | 7/10 [01:42<00:46, 15.46s/it]\u001b[A\n",
      " 80%|████████████████████████████████████████████████████████████████████████████████████████████████████████████                           | 8/10 [02:07<00:37, 18.53s/it]\u001b[A\n",
      " 90%|█████████████████████████████████████████████████████████████████████████████████████████████████████████████████████████▌             | 9/10 [02:29<00:19, 19.65s/it]\u001b[A\n",
      "100%|██████████████████████████████████████████████████████████████████████████████████████████████████████████████████████████████████████| 10/10 [02:50<00:00, 17.09s/it]\u001b[A\n"
     ]
    },
    {
     "name": "stdout",
     "output_type": "stream",
     "text": [
      "Cleaning up sorted DICOM files...\n"
     ]
    },
    {
     "name": "stderr",
     "output_type": "stream",
     "text": [
      "\n",
      "  0%|                                                                                                                                               | 0/10 [00:00<?, ?it/s]\u001b[A\n",
      " 40%|██████████████████████████████████████████████████████                                                                                 | 4/10 [00:00<00:00, 38.34it/s]\u001b[A\n",
      "100%|██████████████████████████████████████████████████████████████████████████████████████████████████████████████████████████████████████| 10/10 [00:00<00:00, 35.34it/s]\u001b[A\n",
      "100%|██████████| 2899/2899 [00:05<00:00, 510.31it/s]█████████████▋                                                                   | 440/928 [1:53:08<1:00:02,  7.38s/it]\n"
     ]
    },
    {
     "name": "stdout",
     "output_type": "stream",
     "text": [
      "Files sorted\n",
      "Cleaning up downloaded DICOM files...\n"
     ]
    },
    {
     "name": "stderr",
     "output_type": "stream",
     "text": [
      "\n",
      "  0%|                                                                                                                                               | 0/10 [00:00<?, ?it/s]\u001b[A\n",
      " 50%|███████████████████████████████████████████████████████████████████▌                                                                   | 5/10 [00:00<00:00, 49.08it/s]\u001b[A\n",
      "100%|██████████████████████████████████████████████████████████████████████████████████████████████████████████████████████████████████████| 10/10 [00:00<00:00, 40.30it/s]\u001b[A\n"
     ]
    },
    {
     "name": "stdout",
     "output_type": "stream",
     "text": [
      "Saving patient data as .npz file...\n",
      "Saving patient .npz files to /data/all/train\n"
     ]
    },
    {
     "name": "stderr",
     "output_type": "stream",
     "text": [
      "\n",
      "  0%|                                                                                                                                                | 0/9 [00:00<?, ?it/s]\u001b[A\n",
      " 11%|███████████████                                                                                                                         | 1/9 [00:07<00:57,  7.14s/it]\u001b[A\n",
      " 22%|██████████████████████████████▏                                                                                                         | 2/9 [00:15<00:53,  7.58s/it]\u001b[A\n",
      " 33%|█████████████████████████████████████████████▎                                                                                          | 3/9 [00:51<02:05, 20.92s/it]\u001b[A\n",
      " 44%|████████████████████████████████████████████████████████████▍                                                                           | 4/9 [00:58<01:15, 15.17s/it]\u001b[A\n",
      " 56%|███████████████████████████████████████████████████████████████████████████▌                                                            | 5/9 [01:23<01:15, 18.89s/it]\u001b[A\n",
      " 67%|██████████████████████████████████████████████████████████████████████████████████████████▋                                             | 6/9 [01:42<00:56, 18.98s/it]\u001b[A\n",
      " 78%|█████████████████████████████████████████████████████████████████████████████████████████████████████████▊                              | 7/9 [02:11<00:44, 22.02s/it]\u001b[A\n",
      " 89%|████████████████████████████████████████████████████████████████████████████████████████████████████████████████████████▉               | 8/9 [02:37<00:23, 23.46s/it]\u001b[A\n",
      "100%|████████████████████████████████████████████████████████████████████████████████████████████████████████████████████████████████████████| 9/9 [02:45<00:00, 18.39s/it]\u001b[A\n"
     ]
    },
    {
     "name": "stdout",
     "output_type": "stream",
     "text": [
      "Cleaning up sorted DICOM files...\n"
     ]
    },
    {
     "name": "stderr",
     "output_type": "stream",
     "text": [
      "\n",
      "  0%|                                                                                                                                                | 0/9 [00:00<?, ?it/s]\u001b[A\n",
      " 56%|███████████████████████████████████████████████████████████████████████████▌                                                            | 5/9 [00:00<00:00, 39.42it/s]\u001b[A\n",
      "100%|████████████████████████████████████████████████████████████████████████████████████████████████████████████████████████████████████████| 9/9 [00:00<00:00, 35.48it/s]\u001b[A\n",
      "100%|██████████| 2944/2944 [00:05<00:00, 513.52it/s]███████████████                                                                  | 450/928 [1:56:57<1:06:04,  8.29s/it]\n"
     ]
    },
    {
     "name": "stdout",
     "output_type": "stream",
     "text": [
      "Files sorted\n",
      "Cleaning up downloaded DICOM files...\n"
     ]
    },
    {
     "name": "stderr",
     "output_type": "stream",
     "text": [
      "\n",
      "  0%|                                                                                                                                               | 0/10 [00:00<?, ?it/s]\u001b[A\n",
      " 50%|███████████████████████████████████████████████████████████████████▌                                                                   | 5/10 [00:00<00:00, 42.29it/s]\u001b[A\n",
      "100%|██████████████████████████████████████████████████████████████████████████████████████████████████████████████████████████████████████| 10/10 [00:00<00:00, 39.97it/s]\u001b[A\n"
     ]
    },
    {
     "name": "stdout",
     "output_type": "stream",
     "text": [
      "Saving patient data as .npz file...\n",
      "Saving patient .npz files to /data/all/train\n"
     ]
    },
    {
     "name": "stderr",
     "output_type": "stream",
     "text": [
      "\n",
      "  0%|                                                                                                                                               | 0/10 [00:00<?, ?it/s]\u001b[A\n",
      " 10%|█████████████▌                                                                                                                         | 1/10 [00:32<04:52, 32.51s/it]\u001b[A\n",
      " 20%|███████████████████████████                                                                                                            | 2/10 [00:53<03:24, 25.58s/it]\u001b[A\n",
      " 30%|████████████████████████████████████████▌                                                                                              | 3/10 [01:07<02:22, 20.30s/it]\u001b[A\n",
      " 40%|██████████████████████████████████████████████████████                                                                                 | 4/10 [01:21<01:47, 17.84s/it]\u001b[A\n",
      " 50%|███████████████████████████████████████████████████████████████████▌                                                                   | 5/10 [01:48<01:46, 21.23s/it]\u001b[A\n",
      " 60%|█████████████████████████████████████████████████████████████████████████████████                                                      | 6/10 [01:56<01:06, 16.75s/it]\u001b[A\n",
      " 70%|██████████████████████████████████████████████████████████████████████████████████████████████▌                                        | 7/10 [02:18<00:55, 18.43s/it]\u001b[A\n",
      " 80%|████████████████████████████████████████████████████████████████████████████████████████████████████████████                           | 8/10 [02:24<00:29, 14.62s/it]\u001b[A\n",
      " 90%|█████████████████████████████████████████████████████████████████████████████████████████████████████████████████████████▌             | 9/10 [02:40<00:15, 15.05s/it]\u001b[A\n",
      "100%|██████████████████████████████████████████████████████████████████████████████████████████████████████████████████████████████████████| 10/10 [02:52<00:00, 17.24s/it]\u001b[A\n"
     ]
    },
    {
     "name": "stdout",
     "output_type": "stream",
     "text": [
      "Cleaning up sorted DICOM files...\n"
     ]
    },
    {
     "name": "stderr",
     "output_type": "stream",
     "text": [
      "\n",
      "  0%|                                                                                                                                               | 0/10 [00:00<?, ?it/s]\u001b[A\n",
      " 40%|██████████████████████████████████████████████████████                                                                                 | 4/10 [00:00<00:00, 39.41it/s]\u001b[A\n",
      "100%|██████████████████████████████████████████████████████████████████████████████████████████████████████████████████████████████████████| 10/10 [00:00<00:00, 44.08it/s]\u001b[A\n",
      "100%|██████████| 3017/3017 [00:05<00:00, 529.43it/s]████████████████▍                                                                | 460/928 [2:01:57<1:40:53, 12.93s/it]\n"
     ]
    },
    {
     "name": "stdout",
     "output_type": "stream",
     "text": [
      "Files sorted\n",
      "Cleaning up downloaded DICOM files...\n"
     ]
    },
    {
     "name": "stderr",
     "output_type": "stream",
     "text": [
      "\n",
      "  0%|                                                                                                                                               | 0/10 [00:00<?, ?it/s]\u001b[A\n",
      " 40%|██████████████████████████████████████████████████████                                                                                 | 4/10 [00:00<00:00, 36.17it/s]\u001b[A\n",
      "100%|██████████████████████████████████████████████████████████████████████████████████████████████████████████████████████████████████████| 10/10 [00:00<00:00, 40.13it/s]\u001b[A\n"
     ]
    },
    {
     "name": "stdout",
     "output_type": "stream",
     "text": [
      "Saving patient data as .npz file...\n",
      "Saving patient .npz files to /data/all/train\n"
     ]
    },
    {
     "name": "stderr",
     "output_type": "stream",
     "text": [
      "\n",
      "  0%|                                                                                                                                               | 0/10 [00:00<?, ?it/s]\u001b[A\n",
      " 10%|█████████████▌                                                                                                                         | 1/10 [00:21<03:09, 21.09s/it]\u001b[A\n",
      " 20%|███████████████████████████                                                                                                            | 2/10 [00:33<02:07, 15.93s/it]\u001b[A\n",
      " 30%|████████████████████████████████████████▌                                                                                              | 3/10 [01:06<02:45, 23.58s/it]\u001b[A\n",
      " 40%|██████████████████████████████████████████████████████                                                                                 | 4/10 [01:16<01:51, 18.57s/it]\u001b[A\n",
      " 50%|███████████████████████████████████████████████████████████████████▌                                                                   | 5/10 [01:42<01:44, 20.93s/it]\u001b[A\n",
      " 60%|█████████████████████████████████████████████████████████████████████████████████                                                      | 6/10 [01:50<01:07, 16.84s/it]\u001b[A\n",
      " 70%|██████████████████████████████████████████████████████████████████████████████████████████████▌                                        | 7/10 [02:03<00:46, 15.52s/it]\u001b[A\n",
      " 80%|████████████████████████████████████████████████████████████████████████████████████████████████████████████                           | 8/10 [02:16<00:29, 14.57s/it]\u001b[A\n",
      " 90%|█████████████████████████████████████████████████████████████████████████████████████████████████████████████████████████▌             | 9/10 [02:27<00:13, 13.51s/it]\u001b[A\n",
      "100%|██████████████████████████████████████████████████████████████████████████████████████████████████████████████████████████████████████| 10/10 [02:56<00:00, 17.67s/it]\u001b[A\n"
     ]
    },
    {
     "name": "stdout",
     "output_type": "stream",
     "text": [
      "Cleaning up sorted DICOM files...\n"
     ]
    },
    {
     "name": "stderr",
     "output_type": "stream",
     "text": [
      "\n",
      "  0%|                                                                                                                                               | 0/10 [00:00<?, ?it/s]\u001b[A\n",
      " 40%|██████████████████████████████████████████████████████                                                                                 | 4/10 [00:00<00:00, 38.41it/s]\u001b[A\n",
      "100%|██████████████████████████████████████████████████████████████████████████████████████████████████████████████████████████████████████| 10/10 [00:00<00:00, 39.30it/s]\u001b[A\n",
      "100%|██████████| 2462/2462 [00:04<00:00, 522.07it/s]██████████████████▊                                                                | 470/928 [2:05:53<52:08,  6.83s/it]\n"
     ]
    },
    {
     "name": "stdout",
     "output_type": "stream",
     "text": [
      "Files sorted\n",
      "Cleaning up downloaded DICOM files...\n"
     ]
    },
    {
     "name": "stderr",
     "output_type": "stream",
     "text": [
      "\n",
      "  0%|                                                                                                                                               | 0/10 [00:00<?, ?it/s]\u001b[A\n",
      "100%|██████████████████████████████████████████████████████████████████████████████████████████████████████████████████████████████████████| 10/10 [00:00<00:00, 47.37it/s]\u001b[A\n"
     ]
    },
    {
     "name": "stdout",
     "output_type": "stream",
     "text": [
      "Saving patient data as .npz file...\n",
      "Saving patient .npz files to /data/all/train\n"
     ]
    },
    {
     "name": "stderr",
     "output_type": "stream",
     "text": [
      "\n",
      "  0%|                                                                                                                                               | 0/10 [00:00<?, ?it/s]\u001b[A\n",
      " 10%|█████████████▌                                                                                                                         | 1/10 [00:14<02:13, 14.80s/it]\u001b[A\n",
      " 20%|███████████████████████████                                                                                                            | 2/10 [00:27<01:48, 13.51s/it]\u001b[A\n",
      " 30%|████████████████████████████████████████▌                                                                                              | 3/10 [00:34<01:14, 10.59s/it]\u001b[A\n",
      " 40%|██████████████████████████████████████████████████████                                                                                 | 4/10 [00:40<00:52,  8.68s/it]\u001b[A\n",
      " 50%|███████████████████████████████████████████████████████████████████▌                                                                   | 5/10 [00:52<00:49,  9.87s/it]\u001b[A\n",
      " 60%|█████████████████████████████████████████████████████████████████████████████████                                                      | 6/10 [01:11<00:52, 13.21s/it]\u001b[A\n",
      " 70%|██████████████████████████████████████████████████████████████████████████████████████████████▌                                        | 7/10 [01:18<00:32, 10.99s/it]\u001b[A\n",
      " 80%|████████████████████████████████████████████████████████████████████████████████████████████████████████████                           | 8/10 [01:35<00:25, 12.99s/it]\u001b[A\n",
      " 90%|█████████████████████████████████████████████████████████████████████████████████████████████████████████████████████████▌             | 9/10 [02:02<00:17, 17.46s/it]\u001b[A\n",
      "100%|██████████████████████████████████████████████████████████████████████████████████████████████████████████████████████████████████████| 10/10 [02:16<00:00, 13.66s/it]\u001b[A\n"
     ]
    },
    {
     "name": "stdout",
     "output_type": "stream",
     "text": [
      "Cleaning up sorted DICOM files...\n"
     ]
    },
    {
     "name": "stderr",
     "output_type": "stream",
     "text": [
      "\n",
      "  0%|                                                                                                                                               | 0/10 [00:00<?, ?it/s]\u001b[A\n",
      " 40%|██████████████████████████████████████████████████████                                                                                 | 4/10 [00:00<00:00, 39.91it/s]\u001b[A\n",
      "100%|██████████████████████████████████████████████████████████████████████████████████████████████████████████████████████████████████████| 10/10 [00:00<00:00, 36.71it/s]\u001b[A\n",
      "100%|██████████| 2058/2058 [00:03<00:00, 524.73it/s]████████████████████▏                                                              | 480/928 [2:09:03<49:53,  6.68s/it]\n"
     ]
    },
    {
     "name": "stdout",
     "output_type": "stream",
     "text": [
      "Files sorted\n",
      "Cleaning up downloaded DICOM files...\n"
     ]
    },
    {
     "name": "stderr",
     "output_type": "stream",
     "text": [
      "\n",
      "  0%|                                                                                                                                               | 0/10 [00:00<?, ?it/s]\u001b[A\n",
      "100%|██████████████████████████████████████████████████████████████████████████████████████████████████████████████████████████████████████| 10/10 [00:00<00:00, 55.11it/s]\u001b[A\n"
     ]
    },
    {
     "name": "stdout",
     "output_type": "stream",
     "text": [
      "Saving patient data as .npz file...\n",
      "Saving patient .npz files to /data/all/train\n"
     ]
    },
    {
     "name": "stderr",
     "output_type": "stream",
     "text": [
      "\n",
      "  0%|                                                                                                                                               | 0/10 [00:00<?, ?it/s]\u001b[A\n",
      " 10%|█████████████▌                                                                                                                         | 1/10 [00:07<01:04,  7.19s/it]\u001b[A\n",
      " 20%|███████████████████████████                                                                                                            | 2/10 [00:13<00:53,  6.69s/it]\u001b[A\n",
      " 30%|████████████████████████████████████████▌                                                                                              | 3/10 [00:31<01:22, 11.72s/it]\u001b[A\n",
      " 40%|██████████████████████████████████████████████████████                                                                                 | 4/10 [00:44<01:13, 12.26s/it]\u001b[A\n",
      " 50%|███████████████████████████████████████████████████████████████████▌                                                                   | 5/10 [00:59<01:05, 13.19s/it]\u001b[A\n",
      " 60%|█████████████████████████████████████████████████████████████████████████████████                                                      | 6/10 [01:06<00:44, 11.17s/it]\u001b[A\n",
      " 70%|██████████████████████████████████████████████████████████████████████████████████████████████▌                                        | 7/10 [01:17<00:33, 11.21s/it]\u001b[A\n",
      " 80%|████████████████████████████████████████████████████████████████████████████████████████████████████████████                           | 8/10 [01:39<00:28, 14.47s/it]\u001b[A\n",
      " 90%|█████████████████████████████████████████████████████████████████████████████████████████████████████████████████████████▌             | 9/10 [01:53<00:14, 14.43s/it]\u001b[A\n",
      "100%|██████████████████████████████████████████████████████████████████████████████████████████████████████████████████████████████████████| 10/10 [01:59<00:00, 11.90s/it]\u001b[A\n"
     ]
    },
    {
     "name": "stdout",
     "output_type": "stream",
     "text": [
      "Cleaning up sorted DICOM files...\n"
     ]
    },
    {
     "name": "stderr",
     "output_type": "stream",
     "text": [
      "\n",
      "  0%|                                                                                                                                               | 0/10 [00:00<?, ?it/s]\u001b[A\n",
      "100%|██████████████████████████████████████████████████████████████████████████████████████████████████████████████████████████████████████| 10/10 [00:00<00:00, 64.90it/s]\u001b[A\n",
      "100%|██████████| 2847/2847 [00:05<00:00, 522.75it/s]█████████████████████▋                                                             | 490/928 [2:11:58<47:59,  6.57s/it]\n"
     ]
    },
    {
     "name": "stdout",
     "output_type": "stream",
     "text": [
      "Files sorted\n",
      "Cleaning up downloaded DICOM files...\n"
     ]
    },
    {
     "name": "stderr",
     "output_type": "stream",
     "text": [
      "\n",
      "  0%|                                                                                                                                               | 0/10 [00:00<?, ?it/s]\u001b[A\n",
      "100%|██████████████████████████████████████████████████████████████████████████████████████████████████████████████████████████████████████| 10/10 [00:00<00:00, 42.97it/s]\u001b[A\n"
     ]
    },
    {
     "name": "stdout",
     "output_type": "stream",
     "text": [
      "Saving patient data as .npz file...\n",
      "Saving patient .npz files to /data/all/train\n"
     ]
    },
    {
     "name": "stderr",
     "output_type": "stream",
     "text": [
      "\n",
      "  0%|                                                                                                                                               | 0/10 [00:00<?, ?it/s]\u001b[A\n",
      " 10%|█████████████▌                                                                                                                         | 1/10 [00:21<03:14, 21.60s/it]\u001b[A\n",
      " 20%|███████████████████████████                                                                                                            | 2/10 [00:22<01:13,  9.22s/it]\u001b[A"
     ]
    },
    {
     "name": "stdout",
     "output_type": "stream",
     "text": [
      "Error getting DICOM files for patient LIDC-IDRI-0484, skipping\n"
     ]
    },
    {
     "name": "stderr",
     "output_type": "stream",
     "text": [
      "\n",
      " 30%|████████████████████████████████████████▌                                                                                              | 3/10 [00:35<01:17, 11.03s/it]\u001b[A\n",
      " 40%|██████████████████████████████████████████████████████                                                                                 | 4/10 [00:41<00:55,  9.24s/it]\u001b[A\n",
      " 50%|███████████████████████████████████████████████████████████████████▌                                                                   | 5/10 [01:00<01:03, 12.74s/it]\u001b[A\n",
      " 60%|█████████████████████████████████████████████████████████████████████████████████                                                      | 6/10 [01:09<00:45, 11.39s/it]\u001b[A\n",
      " 70%|██████████████████████████████████████████████████████████████████████████████████████████████▌                                        | 7/10 [01:43<00:55, 18.61s/it]\u001b[A\n",
      " 80%|████████████████████████████████████████████████████████████████████████████████████████████████████████████                           | 8/10 [02:10<00:43, 21.55s/it]\u001b[A\n",
      " 90%|█████████████████████████████████████████████████████████████████████████████████████████████████████████████████████████▌             | 9/10 [02:26<00:19, 19.73s/it]\u001b[A\n",
      "100%|██████████████████████████████████████████████████████████████████████████████████████████████████████████████████████████████████████| 10/10 [02:48<00:00, 16.89s/it]\u001b[A\n"
     ]
    },
    {
     "name": "stdout",
     "output_type": "stream",
     "text": [
      "Cleaning up sorted DICOM files...\n"
     ]
    },
    {
     "name": "stderr",
     "output_type": "stream",
     "text": [
      "\n",
      "  0%|                                                                                                                                               | 0/10 [00:00<?, ?it/s]\u001b[A\n",
      "100%|██████████████████████████████████████████████████████████████████████████████████████████████████████████████████████████████████████| 10/10 [00:00<00:00, 41.92it/s]\u001b[A\n",
      "100%|██████████| 2091/2091 [00:03<00:00, 529.51it/s]███████████████████████                                                            | 500/928 [2:15:39<42:43,  5.99s/it]\n"
     ]
    },
    {
     "name": "stdout",
     "output_type": "stream",
     "text": [
      "Files sorted\n",
      "Cleaning up downloaded DICOM files...\n"
     ]
    },
    {
     "name": "stderr",
     "output_type": "stream",
     "text": [
      "\n",
      "  0%|                                                                                                                                               | 0/10 [00:00<?, ?it/s]\u001b[A\n",
      "100%|██████████████████████████████████████████████████████████████████████████████████████████████████████████████████████████████████████| 10/10 [00:00<00:00, 60.37it/s]\u001b[A\n"
     ]
    },
    {
     "name": "stdout",
     "output_type": "stream",
     "text": [
      "Saving patient data as .npz file...\n",
      "Saving patient .npz files to /data/all/train\n"
     ]
    },
    {
     "name": "stderr",
     "output_type": "stream",
     "text": [
      "\n",
      "  0%|                                                                                                                                               | 0/10 [00:00<?, ?it/s]\u001b[A\n",
      " 10%|█████████████▌                                                                                                                         | 1/10 [00:11<01:45, 11.71s/it]\u001b[A\n",
      " 20%|███████████████████████████                                                                                                            | 2/10 [00:23<01:35, 11.99s/it]\u001b[A\n",
      " 30%|████████████████████████████████████████▌                                                                                              | 3/10 [00:32<01:13, 10.54s/it]\u001b[A\n",
      " 40%|██████████████████████████████████████████████████████                                                                                 | 4/10 [01:00<01:44, 17.42s/it]\u001b[A\n",
      " 50%|███████████████████████████████████████████████████████████████████▌                                                                   | 5/10 [01:08<01:10, 14.04s/it]\u001b[A\n",
      " 60%|█████████████████████████████████████████████████████████████████████████████████                                                      | 6/10 [01:14<00:45, 11.33s/it]\u001b[A\n",
      " 70%|██████████████████████████████████████████████████████████████████████████████████████████████▌                                        | 7/10 [01:28<00:36, 12.01s/it]\u001b[A\n",
      " 80%|████████████████████████████████████████████████████████████████████████████████████████████████████████████                           | 8/10 [01:40<00:24, 12.12s/it]\u001b[A\n",
      " 90%|█████████████████████████████████████████████████████████████████████████████████████████████████████████████████████████▌             | 9/10 [01:46<00:10, 10.29s/it]\u001b[A\n",
      "100%|██████████████████████████████████████████████████████████████████████████████████████████████████████████████████████████████████████| 10/10 [01:57<00:00, 11.79s/it]\u001b[A\n"
     ]
    },
    {
     "name": "stdout",
     "output_type": "stream",
     "text": [
      "Cleaning up sorted DICOM files...\n"
     ]
    },
    {
     "name": "stderr",
     "output_type": "stream",
     "text": [
      "\n",
      "  0%|                                                                                                                                               | 0/10 [00:00<?, ?it/s]\u001b[A\n",
      "100%|██████████████████████████████████████████████████████████████████████████████████████████████████████████████████████████████████████| 10/10 [00:00<00:00, 57.80it/s]\u001b[A\n",
      "100%|██████████| 1923/1923 [00:03<00:00, 512.16it/s]████████████████████████▍                                                          | 510/928 [2:18:28<45:56,  6.60s/it]\n"
     ]
    },
    {
     "name": "stdout",
     "output_type": "stream",
     "text": [
      "Files sorted\n",
      "Cleaning up downloaded DICOM files...\n"
     ]
    },
    {
     "name": "stderr",
     "output_type": "stream",
     "text": [
      "\n",
      "  0%|                                                                                                                                               | 0/10 [00:00<?, ?it/s]\u001b[A\n",
      "100%|██████████████████████████████████████████████████████████████████████████████████████████████████████████████████████████████████████| 10/10 [00:00<00:00, 52.88it/s]\u001b[A\n"
     ]
    },
    {
     "name": "stdout",
     "output_type": "stream",
     "text": [
      "Saving patient data as .npz file...\n",
      "Saving patient .npz files to /data/all/train\n"
     ]
    },
    {
     "name": "stderr",
     "output_type": "stream",
     "text": [
      "\n",
      "  0%|                                                                                                                                               | 0/10 [00:00<?, ?it/s]\u001b[A\n",
      " 10%|█████████████▌                                                                                                                         | 1/10 [00:15<02:19, 15.46s/it]\u001b[A\n",
      " 20%|███████████████████████████                                                                                                            | 2/10 [00:22<01:22, 10.33s/it]\u001b[A\n",
      " 30%|████████████████████████████████████████▌                                                                                              | 3/10 [00:28<00:57,  8.27s/it]\u001b[A\n",
      " 40%|██████████████████████████████████████████████████████                                                                                 | 4/10 [00:37<00:53,  8.87s/it]\u001b[A\n",
      " 50%|███████████████████████████████████████████████████████████████████▌                                                                   | 5/10 [00:55<00:59, 11.91s/it]\u001b[A\n",
      " 60%|█████████████████████████████████████████████████████████████████████████████████                                                      | 6/10 [01:11<00:53, 13.43s/it]\u001b[A\n",
      " 70%|██████████████████████████████████████████████████████████████████████████████████████████████▌                                        | 7/10 [01:17<00:33, 11.05s/it]\u001b[A\n",
      " 80%|████████████████████████████████████████████████████████████████████████████████████████████████████████████                           | 8/10 [01:39<00:28, 14.35s/it]\u001b[A\n",
      " 90%|█████████████████████████████████████████████████████████████████████████████████████████████████████████████████████████▌             | 9/10 [01:46<00:12, 12.30s/it]\u001b[A\n",
      "100%|██████████████████████████████████████████████████████████████████████████████████████████████████████████████████████████████████████| 10/10 [01:54<00:00, 11.40s/it]\u001b[A\n"
     ]
    },
    {
     "name": "stdout",
     "output_type": "stream",
     "text": [
      "Cleaning up sorted DICOM files...\n"
     ]
    },
    {
     "name": "stderr",
     "output_type": "stream",
     "text": [
      "\n",
      "  0%|                                                                                                                                               | 0/10 [00:00<?, ?it/s]\u001b[A\n",
      "100%|██████████████████████████████████████████████████████████████████████████████████████████████████████████████████████████████████████| 10/10 [00:00<00:00, 52.62it/s]\u001b[A\n",
      "100%|██████████| 2060/2060 [00:03<00:00, 540.08it/s]█████████████████████████▊                                                         | 520/928 [2:21:13<37:20,  5.49s/it]\n"
     ]
    },
    {
     "name": "stdout",
     "output_type": "stream",
     "text": [
      "Files sorted\n",
      "Cleaning up downloaded DICOM files...\n"
     ]
    },
    {
     "name": "stderr",
     "output_type": "stream",
     "text": [
      "\n",
      "  0%|                                                                                                                                               | 0/10 [00:00<?, ?it/s]\u001b[A\n",
      "100%|██████████████████████████████████████████████████████████████████████████████████████████████████████████████████████████████████████| 10/10 [00:00<00:00, 57.46it/s]\u001b[A\n"
     ]
    },
    {
     "name": "stdout",
     "output_type": "stream",
     "text": [
      "Saving patient data as .npz file...\n",
      "Saving patient .npz files to /data/all/train\n"
     ]
    },
    {
     "name": "stderr",
     "output_type": "stream",
     "text": [
      "\n",
      "  0%|                                                                                                                                               | 0/10 [00:00<?, ?it/s]\u001b[A\n",
      " 10%|█████████████▌                                                                                                                         | 1/10 [00:15<02:17, 15.29s/it]\u001b[A\n",
      " 20%|███████████████████████████                                                                                                            | 2/10 [00:27<01:47, 13.42s/it]\u001b[A\n",
      " 30%|████████████████████████████████████████▌                                                                                              | 3/10 [00:33<01:11, 10.20s/it]\u001b[A\n",
      " 40%|██████████████████████████████████████████████████████                                                                                 | 4/10 [00:40<00:51,  8.66s/it]\u001b[A\n",
      " 50%|███████████████████████████████████████████████████████████████████▌                                                                   | 5/10 [00:46<00:39,  7.94s/it]\u001b[A\n",
      " 60%|█████████████████████████████████████████████████████████████████████████████████                                                      | 6/10 [01:06<00:47, 11.99s/it]\u001b[A\n",
      " 70%|██████████████████████████████████████████████████████████████████████████████████████████████▌                                        | 7/10 [01:14<00:32, 10.76s/it]\u001b[A\n",
      " 80%|████████████████████████████████████████████████████████████████████████████████████████████████████████████                           | 8/10 [01:43<00:32, 16.35s/it]\u001b[A\n",
      " 90%|█████████████████████████████████████████████████████████████████████████████████████████████████████████████████████████▌             | 9/10 [01:50<00:13, 13.45s/it]\u001b[A\n",
      "100%|██████████████████████████████████████████████████████████████████████████████████████████████████████████████████████████████████████| 10/10 [01:58<00:00, 11.90s/it]\u001b[A\n"
     ]
    },
    {
     "name": "stdout",
     "output_type": "stream",
     "text": [
      "Cleaning up sorted DICOM files...\n"
     ]
    },
    {
     "name": "stderr",
     "output_type": "stream",
     "text": [
      "\n",
      "  0%|                                                                                                                                               | 0/10 [00:00<?, ?it/s]\u001b[A\n",
      " 50%|███████████████████████████████████████████████████████████████████▌                                                                   | 5/10 [00:00<00:00, 47.33it/s]\u001b[A\n",
      "100%|██████████████████████████████████████████████████████████████████████████████████████████████████████████████████████████████████████| 10/10 [00:00<00:00, 41.28it/s]\u001b[A\n",
      "100%|██████████| 3028/3028 [00:05<00:00, 524.58it/s]███████████████████████████▏                                                       | 530/928 [2:24:11<54:12,  8.17s/it]\n"
     ]
    },
    {
     "name": "stdout",
     "output_type": "stream",
     "text": [
      "Files sorted\n",
      "Cleaning up downloaded DICOM files...\n"
     ]
    },
    {
     "name": "stderr",
     "output_type": "stream",
     "text": [
      "\n",
      "  0%|                                                                                                                                               | 0/10 [00:00<?, ?it/s]\u001b[A\n",
      " 20%|███████████████████████████                                                                                                            | 2/10 [00:00<00:00, 18.11it/s]\u001b[A\n",
      "100%|██████████████████████████████████████████████████████████████████████████████████████████████████████████████████████████████████████| 10/10 [00:00<00:00, 34.61it/s]\u001b[A\n"
     ]
    },
    {
     "name": "stdout",
     "output_type": "stream",
     "text": [
      "Saving patient data as .npz file...\n",
      "Saving patient .npz files to /data/all/train\n"
     ]
    },
    {
     "name": "stderr",
     "output_type": "stream",
     "text": [
      "\n",
      "  0%|                                                                                                                                               | 0/10 [00:00<?, ?it/s]\u001b[A\n",
      " 10%|█████████████▌                                                                                                                         | 1/10 [00:06<00:57,  6.44s/it]\u001b[A\n",
      " 20%|███████████████████████████                                                                                                            | 2/10 [00:18<01:18,  9.81s/it]\u001b[A\n",
      " 30%|████████████████████████████████████████▌                                                                                              | 3/10 [00:26<01:02,  8.91s/it]\u001b[A\n",
      " 40%|██████████████████████████████████████████████████████                                                                                 | 4/10 [00:35<00:53,  8.99s/it]\u001b[A\n",
      " 50%|███████████████████████████████████████████████████████████████████▌                                                                   | 5/10 [01:04<01:20, 16.05s/it]\u001b[A\n",
      " 60%|█████████████████████████████████████████████████████████████████████████████████                                                      | 6/10 [01:13<00:54, 13.68s/it]\u001b[A\n",
      " 70%|██████████████████████████████████████████████████████████████████████████████████████████████▌                                        | 7/10 [01:32<00:46, 15.65s/it]\u001b[A\n",
      " 80%|████████████████████████████████████████████████████████████████████████████████████████████████████████████                           | 8/10 [01:48<00:31, 15.74s/it]\u001b[A\n",
      " 90%|█████████████████████████████████████████████████████████████████████████████████████████████████████████████████████████▌             | 9/10 [02:25<00:22, 22.35s/it]\u001b[A\n",
      "100%|██████████████████████████████████████████████████████████████████████████████████████████████████████████████████████████████████████| 10/10 [03:01<00:00, 18.16s/it]\u001b[A\n"
     ]
    },
    {
     "name": "stdout",
     "output_type": "stream",
     "text": [
      "Cleaning up sorted DICOM files...\n"
     ]
    },
    {
     "name": "stderr",
     "output_type": "stream",
     "text": [
      "\n",
      "  0%|                                                                                                                                               | 0/10 [00:00<?, ?it/s]\u001b[A\n",
      " 50%|███████████████████████████████████████████████████████████████████▌                                                                   | 5/10 [00:00<00:00, 49.80it/s]\u001b[A\n",
      "100%|██████████████████████████████████████████████████████████████████████████████████████████████████████████████████████████████████████| 10/10 [00:00<00:00, 35.92it/s]\u001b[A\n",
      "100%|██████████| 2922/2922 [00:05<00:00, 534.40it/s]████████████████████████████▋                                                      | 540/928 [2:28:15<47:12,  7.30s/it]\n"
     ]
    },
    {
     "name": "stdout",
     "output_type": "stream",
     "text": [
      "Files sorted\n",
      "Cleaning up downloaded DICOM files...\n"
     ]
    },
    {
     "name": "stderr",
     "output_type": "stream",
     "text": [
      "\n",
      "  0%|                                                                                                                                               | 0/10 [00:00<?, ?it/s]\u001b[A\n",
      " 40%|██████████████████████████████████████████████████████                                                                                 | 4/10 [00:00<00:00, 35.85it/s]\u001b[A\n",
      "100%|██████████████████████████████████████████████████████████████████████████████████████████████████████████████████████████████████████| 10/10 [00:00<00:00, 35.32it/s]\u001b[A\n"
     ]
    },
    {
     "name": "stdout",
     "output_type": "stream",
     "text": [
      "Saving patient data as .npz file...\n",
      "Saving patient .npz files to /data/all/train\n"
     ]
    },
    {
     "name": "stderr",
     "output_type": "stream",
     "text": [
      "\n",
      "  0%|                                                                                                                                               | 0/10 [00:00<?, ?it/s]\u001b[A\n",
      " 10%|█████████████▌                                                                                                                         | 1/10 [00:20<03:05, 20.65s/it]\u001b[A\n",
      " 20%|███████████████████████████                                                                                                            | 2/10 [00:26<01:35, 11.97s/it]\u001b[A\n",
      " 30%|████████████████████████████████████████▌                                                                                              | 3/10 [00:38<01:24, 12.06s/it]\u001b[A\n",
      " 40%|██████████████████████████████████████████████████████                                                                                 | 4/10 [00:46<01:01, 10.29s/it]\u001b[A\n",
      " 50%|███████████████████████████████████████████████████████████████████▌                                                                   | 5/10 [01:10<01:17, 15.41s/it]\u001b[A\n",
      " 60%|█████████████████████████████████████████████████████████████████████████████████                                                      | 6/10 [01:16<00:48, 12.10s/it]\u001b[A\n",
      " 70%|██████████████████████████████████████████████████████████████████████████████████████████████▌                                        | 7/10 [01:43<00:51, 17.14s/it]\u001b[A\n",
      " 80%|████████████████████████████████████████████████████████████████████████████████████████████████████████████                           | 8/10 [01:57<00:31, 15.93s/it]\u001b[A\n",
      " 90%|█████████████████████████████████████████████████████████████████████████████████████████████████████████████████████████▌             | 9/10 [02:30<00:21, 21.47s/it]\u001b[A\n",
      "100%|██████████████████████████████████████████████████████████████████████████████████████████████████████████████████████████████████████| 10/10 [02:52<00:00, 17.23s/it]\u001b[A\n"
     ]
    },
    {
     "name": "stdout",
     "output_type": "stream",
     "text": [
      "Cleaning up sorted DICOM files...\n"
     ]
    },
    {
     "name": "stderr",
     "output_type": "stream",
     "text": [
      "\n",
      "  0%|                                                                                                                                               | 0/10 [00:00<?, ?it/s]\u001b[A\n",
      " 50%|███████████████████████████████████████████████████████████████████▌                                                                   | 5/10 [00:00<00:00, 36.57it/s]\u001b[A\n",
      "100%|██████████████████████████████████████████████████████████████████████████████████████████████████████████████████████████████████████| 10/10 [00:00<00:00, 34.96it/s]\u001b[A\n",
      "100%|██████████| 2706/2706 [00:05<00:00, 516.41it/s]██████████████████████████████                                                     | 550/928 [2:32:12<45:55,  7.29s/it]\n"
     ]
    },
    {
     "name": "stdout",
     "output_type": "stream",
     "text": [
      "Files sorted\n",
      "Cleaning up downloaded DICOM files...\n"
     ]
    },
    {
     "name": "stderr",
     "output_type": "stream",
     "text": [
      "\n",
      "  0%|                                                                                                                                               | 0/10 [00:00<?, ?it/s]\u001b[A\n",
      " 50%|███████████████████████████████████████████████████████████████████▌                                                                   | 5/10 [00:00<00:00, 41.74it/s]\u001b[A\n",
      "100%|██████████████████████████████████████████████████████████████████████████████████████████████████████████████████████████████████████| 10/10 [00:00<00:00, 43.99it/s]\u001b[A\n"
     ]
    },
    {
     "name": "stdout",
     "output_type": "stream",
     "text": [
      "Saving patient data as .npz file...\n",
      "Saving patient .npz files to /data/all/train\n"
     ]
    },
    {
     "name": "stderr",
     "output_type": "stream",
     "text": [
      "\n",
      "  0%|                                                                                                                                               | 0/10 [00:00<?, ?it/s]\u001b[A\n",
      " 10%|█████████████▌                                                                                                                         | 1/10 [00:18<02:50, 18.98s/it]\u001b[A\n",
      " 20%|███████████████████████████                                                                                                            | 2/10 [00:39<02:40, 20.01s/it]\u001b[A\n",
      " 30%|████████████████████████████████████████▌                                                                                              | 3/10 [00:47<01:40, 14.34s/it]\u001b[A\n",
      " 40%|██████████████████████████████████████████████████████                                                                                 | 4/10 [00:55<01:12, 12.04s/it]\u001b[A\n",
      " 50%|███████████████████████████████████████████████████████████████████▌                                                                   | 5/10 [01:09<01:02, 12.50s/it]\u001b[A\n",
      " 60%|█████████████████████████████████████████████████████████████████████████████████                                                      | 6/10 [01:26<00:56, 14.00s/it]\u001b[A\n",
      " 70%|██████████████████████████████████████████████████████████████████████████████████████████████▌                                        | 7/10 [01:51<00:53, 17.80s/it]\u001b[A\n",
      " 80%|████████████████████████████████████████████████████████████████████████████████████████████████████████████                           | 8/10 [02:20<00:42, 21.33s/it]\u001b[A\n",
      " 90%|█████████████████████████████████████████████████████████████████████████████████████████████████████████████████████████▌             | 9/10 [02:26<00:16, 16.58s/it]\u001b[A\n",
      "100%|██████████████████████████████████████████████████████████████████████████████████████████████████████████████████████████████████████| 10/10 [02:32<00:00, 15.27s/it]\u001b[A\n"
     ]
    },
    {
     "name": "stdout",
     "output_type": "stream",
     "text": [
      "Cleaning up sorted DICOM files...\n"
     ]
    },
    {
     "name": "stderr",
     "output_type": "stream",
     "text": [
      "\n",
      "  0%|                                                                                                                                               | 0/10 [00:00<?, ?it/s]\u001b[A\n",
      "100%|██████████████████████████████████████████████████████████████████████████████████████████████████████████████████████████████████████| 10/10 [00:00<00:00, 48.35it/s]\u001b[A\n",
      "100%|██████████| 2355/2355 [00:04<00:00, 505.27it/s]███████████████████████████████▍                                                   | 560/928 [2:35:42<42:48,  6.98s/it]\n"
     ]
    },
    {
     "name": "stdout",
     "output_type": "stream",
     "text": [
      "Files sorted\n",
      "Cleaning up downloaded DICOM files...\n"
     ]
    },
    {
     "name": "stderr",
     "output_type": "stream",
     "text": [
      "\n",
      "  0%|                                                                                                                                               | 0/10 [00:00<?, ?it/s]\u001b[A\n",
      "100%|██████████████████████████████████████████████████████████████████████████████████████████████████████████████████████████████████████| 10/10 [00:00<00:00, 48.13it/s]\u001b[A\n"
     ]
    },
    {
     "name": "stdout",
     "output_type": "stream",
     "text": [
      "Saving patient data as .npz file...\n",
      "Saving patient .npz files to /data/all/train\n"
     ]
    },
    {
     "name": "stderr",
     "output_type": "stream",
     "text": [
      "\n",
      "  0%|                                                                                                                                               | 0/10 [00:00<?, ?it/s]\u001b[A\n",
      " 10%|█████████████▌                                                                                                                         | 1/10 [00:08<01:12,  8.03s/it]\u001b[A\n",
      " 20%|███████████████████████████                                                                                                            | 2/10 [00:24<01:45, 13.13s/it]\u001b[A\n",
      " 30%|████████████████████████████████████████▌                                                                                              | 3/10 [00:36<01:26, 12.35s/it]\u001b[A\n",
      " 40%|██████████████████████████████████████████████████████                                                                                 | 4/10 [00:48<01:14, 12.41s/it]\u001b[A\n",
      " 50%|███████████████████████████████████████████████████████████████████▌                                                                   | 5/10 [00:59<00:58, 11.75s/it]\u001b[A\n",
      " 60%|█████████████████████████████████████████████████████████████████████████████████                                                      | 6/10 [01:15<00:52, 13.14s/it]\u001b[A\n",
      " 70%|██████████████████████████████████████████████████████████████████████████████████████████████▌                                        | 7/10 [01:27<00:38, 12.88s/it]\u001b[A\n",
      " 80%|████████████████████████████████████████████████████████████████████████████████████████████████████████████                           | 8/10 [01:52<00:33, 16.71s/it]\u001b[A\n",
      " 90%|█████████████████████████████████████████████████████████████████████████████████████████████████████████████████████████▌             | 9/10 [02:08<00:16, 16.64s/it]\u001b[A\n",
      "100%|██████████████████████████████████████████████████████████████████████████████████████████████████████████████████████████████████████| 10/10 [02:14<00:00, 13.48s/it]\u001b[A\n"
     ]
    },
    {
     "name": "stdout",
     "output_type": "stream",
     "text": [
      "Cleaning up sorted DICOM files...\n"
     ]
    },
    {
     "name": "stderr",
     "output_type": "stream",
     "text": [
      "\n",
      "  0%|                                                                                                                                               | 0/10 [00:00<?, ?it/s]\u001b[A\n",
      "100%|██████████████████████████████████████████████████████████████████████████████████████████████████████████████████████████████████████| 10/10 [00:00<00:00, 49.36it/s]\u001b[A\n",
      "100%|██████████| 2222/2222 [00:04<00:00, 509.09it/s]████████████████████████████████▊                                                  | 570/928 [2:38:46<34:59,  5.86s/it]\n"
     ]
    },
    {
     "name": "stdout",
     "output_type": "stream",
     "text": [
      "Files sorted\n",
      "Cleaning up downloaded DICOM files...\n"
     ]
    },
    {
     "name": "stderr",
     "output_type": "stream",
     "text": [
      "\n",
      "  0%|                                                                                                                                               | 0/10 [00:00<?, ?it/s]\u001b[A\n",
      "100%|██████████████████████████████████████████████████████████████████████████████████████████████████████████████████████████████████████| 10/10 [00:00<00:00, 55.01it/s]\u001b[A\n"
     ]
    },
    {
     "name": "stdout",
     "output_type": "stream",
     "text": [
      "Saving patient data as .npz file...\n",
      "Saving patient .npz files to /data/all/train\n"
     ]
    },
    {
     "name": "stderr",
     "output_type": "stream",
     "text": [
      "\n",
      "  0%|                                                                                                                                               | 0/10 [00:00<?, ?it/s]\u001b[A\n",
      " 10%|█████████████▌                                                                                                                         | 1/10 [00:18<02:47, 18.65s/it]\u001b[A\n",
      " 20%|███████████████████████████                                                                                                            | 2/10 [00:43<02:56, 22.02s/it]\u001b[A\n",
      " 30%|████████████████████████████████████████▌                                                                                              | 3/10 [00:52<01:53, 16.24s/it]\u001b[A\n",
      " 40%|██████████████████████████████████████████████████████                                                                                 | 4/10 [01:01<01:20, 13.36s/it]\u001b[A\n",
      " 50%|███████████████████████████████████████████████████████████████████▌                                                                   | 5/10 [01:07<00:54, 10.88s/it]\u001b[A\n",
      " 60%|█████████████████████████████████████████████████████████████████████████████████                                                      | 6/10 [01:20<00:45, 11.45s/it]\u001b[A\n",
      " 70%|██████████████████████████████████████████████████████████████████████████████████████████████▌                                        | 7/10 [01:27<00:30, 10.01s/it]\u001b[A\n",
      " 80%|████████████████████████████████████████████████████████████████████████████████████████████████████████████                           | 8/10 [01:37<00:20, 10.13s/it]\u001b[A\n",
      " 90%|█████████████████████████████████████████████████████████████████████████████████████████████████████████████████████████▌             | 9/10 [01:56<00:12, 12.83s/it]\u001b[A\n",
      "100%|██████████████████████████████████████████████████████████████████████████████████████████████████████████████████████████████████████| 10/10 [02:02<00:00, 12.30s/it]\u001b[A\n"
     ]
    },
    {
     "name": "stdout",
     "output_type": "stream",
     "text": [
      "Cleaning up sorted DICOM files...\n"
     ]
    },
    {
     "name": "stderr",
     "output_type": "stream",
     "text": [
      "\n",
      "  0%|                                                                                                                                               | 0/10 [00:00<?, ?it/s]\u001b[A\n",
      "100%|██████████████████████████████████████████████████████████████████████████████████████████████████████████████████████████████████████| 10/10 [00:00<00:00, 42.92it/s]\u001b[A\n",
      "100%|██████████| 2231/2231 [00:04<00:00, 527.04it/s]██████████████████████████████████▎                                                | 580/928 [2:41:40<38:02,  6.56s/it]\n"
     ]
    },
    {
     "name": "stdout",
     "output_type": "stream",
     "text": [
      "Files sorted\n",
      "Cleaning up downloaded DICOM files...\n"
     ]
    },
    {
     "name": "stderr",
     "output_type": "stream",
     "text": [
      "\n",
      "  0%|                                                                                                                                               | 0/10 [00:00<?, ?it/s]\u001b[A\n",
      "100%|██████████████████████████████████████████████████████████████████████████████████████████████████████████████████████████████████████| 10/10 [00:00<00:00, 55.70it/s]\u001b[A\n"
     ]
    },
    {
     "name": "stdout",
     "output_type": "stream",
     "text": [
      "Saving patient data as .npz file...\n",
      "Saving patient .npz files to /data/all/train\n"
     ]
    },
    {
     "name": "stderr",
     "output_type": "stream",
     "text": [
      "\n",
      "  0%|                                                                                                                                               | 0/10 [00:00<?, ?it/s]\u001b[A\n",
      " 10%|█████████████▌                                                                                                                         | 1/10 [00:22<03:18, 22.00s/it]\u001b[A\n",
      " 20%|███████████████████████████                                                                                                            | 2/10 [00:35<02:16, 17.06s/it]\u001b[A\n",
      " 30%|████████████████████████████████████████▌                                                                                              | 3/10 [00:42<01:25, 12.22s/it]\u001b[A\n",
      " 40%|██████████████████████████████████████████████████████                                                                                 | 4/10 [01:12<01:56, 19.35s/it]\u001b[A\n",
      " 50%|███████████████████████████████████████████████████████████████████▌                                                                   | 5/10 [01:18<01:13, 14.61s/it]\u001b[A\n",
      " 60%|█████████████████████████████████████████████████████████████████████████████████                                                      | 6/10 [01:35<01:01, 15.34s/it]\u001b[A\n",
      " 70%|██████████████████████████████████████████████████████████████████████████████████████████████▌                                        | 7/10 [01:41<00:37, 12.39s/it]\u001b[A\n",
      " 80%|████████████████████████████████████████████████████████████████████████████████████████████████████████████                           | 8/10 [01:48<00:21, 10.68s/it]\u001b[A\n",
      " 90%|█████████████████████████████████████████████████████████████████████████████████████████████████████████████████████████▌             | 9/10 [01:57<00:09,  9.96s/it]\u001b[A\n",
      "100%|██████████████████████████████████████████████████████████████████████████████████████████████████████████████████████████████████████| 10/10 [02:08<00:00, 12.85s/it]\u001b[A\n"
     ]
    },
    {
     "name": "stdout",
     "output_type": "stream",
     "text": [
      "Cleaning up sorted DICOM files...\n"
     ]
    },
    {
     "name": "stderr",
     "output_type": "stream",
     "text": [
      "\n",
      "  0%|                                                                                                                                               | 0/10 [00:00<?, ?it/s]\u001b[A\n",
      "100%|██████████████████████████████████████████████████████████████████████████████████████████████████████████████████████████████████████| 10/10 [00:00<00:00, 53.51it/s]\u001b[A\n",
      "100%|██████████| 1955/1955 [00:03<00:00, 553.43it/s]███████████████████████████████████▋                                               | 590/928 [2:44:35<36:19,  6.45s/it]\n"
     ]
    },
    {
     "name": "stdout",
     "output_type": "stream",
     "text": [
      "Files sorted\n",
      "Cleaning up downloaded DICOM files...\n"
     ]
    },
    {
     "name": "stderr",
     "output_type": "stream",
     "text": [
      "\n",
      "  0%|                                                                                                                                               | 0/10 [00:00<?, ?it/s]\u001b[A\n",
      "100%|██████████████████████████████████████████████████████████████████████████████████████████████████████████████████████████████████████| 10/10 [00:00<00:00, 59.55it/s]\u001b[A\n"
     ]
    },
    {
     "name": "stdout",
     "output_type": "stream",
     "text": [
      "Saving patient data as .npz file...\n",
      "Saving patient .npz files to /data/all/train\n"
     ]
    },
    {
     "name": "stderr",
     "output_type": "stream",
     "text": [
      "\n",
      "  0%|                                                                                                                                               | 0/10 [00:00<?, ?it/s]\u001b[A\n",
      " 10%|█████████████▌                                                                                                                         | 1/10 [00:05<00:49,  5.47s/it]\u001b[A\n",
      " 20%|███████████████████████████                                                                                                            | 2/10 [00:16<01:11,  8.93s/it]\u001b[A\n",
      " 30%|████████████████████████████████████████▌                                                                                              | 3/10 [00:30<01:19, 11.33s/it]\u001b[A\n",
      " 40%|██████████████████████████████████████████████████████                                                                                 | 4/10 [00:37<00:56,  9.35s/it]\u001b[A\n",
      " 50%|███████████████████████████████████████████████████████████████████▌                                                                   | 5/10 [00:56<01:04, 12.82s/it]\u001b[A\n",
      " 60%|█████████████████████████████████████████████████████████████████████████████████                                                      | 6/10 [01:02<00:42, 10.67s/it]\u001b[A\n",
      " 70%|██████████████████████████████████████████████████████████████████████████████████████████████▌                                        | 7/10 [01:15<00:33, 11.27s/it]\u001b[A\n",
      " 80%|████████████████████████████████████████████████████████████████████████████████████████████████████████████                           | 8/10 [01:25<00:21, 10.91s/it]\u001b[A\n",
      " 90%|█████████████████████████████████████████████████████████████████████████████████████████████████████████████████████████▌             | 9/10 [01:31<00:09,  9.50s/it]\u001b[A\n",
      "100%|██████████████████████████████████████████████████████████████████████████████████████████████████████████████████████████████████████| 10/10 [01:46<00:00, 10.69s/it]\u001b[A\n"
     ]
    },
    {
     "name": "stdout",
     "output_type": "stream",
     "text": [
      "Cleaning up sorted DICOM files...\n"
     ]
    },
    {
     "name": "stderr",
     "output_type": "stream",
     "text": [
      "\n",
      "  0%|                                                                                                                                               | 0/10 [00:00<?, ?it/s]\u001b[A\n",
      "100%|██████████████████████████████████████████████████████████████████████████████████████████████████████████████████████████████████████| 10/10 [00:00<00:00, 54.84it/s]\u001b[A\n",
      "100%|██████████| 2814/2814 [00:05<00:00, 534.70it/s]█████████████████████████████████████                                              | 600/928 [2:47:13<32:19,  5.91s/it]\n"
     ]
    },
    {
     "name": "stdout",
     "output_type": "stream",
     "text": [
      "Files sorted\n",
      "Cleaning up downloaded DICOM files...\n"
     ]
    },
    {
     "name": "stderr",
     "output_type": "stream",
     "text": [
      "\n",
      "  0%|                                                                                                                                               | 0/10 [00:00<?, ?it/s]\u001b[A\n",
      " 50%|███████████████████████████████████████████████████████████████████▌                                                                   | 5/10 [00:00<00:00, 48.87it/s]\u001b[A\n",
      "100%|██████████████████████████████████████████████████████████████████████████████████████████████████████████████████████████████████████| 10/10 [00:00<00:00, 41.75it/s]\u001b[A\n"
     ]
    },
    {
     "name": "stdout",
     "output_type": "stream",
     "text": [
      "Saving patient data as .npz file...\n",
      "Saving patient .npz files to /data/all/train\n"
     ]
    },
    {
     "name": "stderr",
     "output_type": "stream",
     "text": [
      "\n",
      "  0%|                                                                                                                                               | 0/10 [00:00<?, ?it/s]\u001b[A\n",
      " 10%|█████████████▌                                                                                                                         | 1/10 [00:07<01:11,  7.96s/it]\u001b[A\n",
      " 20%|███████████████████████████                                                                                                            | 2/10 [00:38<02:52, 21.50s/it]\u001b[A\n",
      " 30%|████████████████████████████████████████▌                                                                                              | 3/10 [01:17<03:24, 29.16s/it]\u001b[A\n",
      " 40%|██████████████████████████████████████████████████████                                                                                 | 4/10 [01:22<01:59, 19.92s/it]\u001b[A\n",
      " 50%|███████████████████████████████████████████████████████████████████▌                                                                   | 5/10 [01:47<01:47, 21.49s/it]\u001b[A"
     ]
    },
    {
     "name": "stdout",
     "output_type": "stream",
     "text": [
      "Failed to reduce all groups to <= 4 Annotations.\n",
      "Some nodules may be close and must be grouped manually.\n"
     ]
    },
    {
     "name": "stderr",
     "output_type": "stream",
     "text": [
      "\n",
      " 60%|█████████████████████████████████████████████████████████████████████████████████                                                      | 6/10 [02:06<01:22, 20.59s/it]\u001b[A\n",
      " 70%|██████████████████████████████████████████████████████████████████████████████████████████████▌                                        | 7/10 [02:22<00:57, 19.16s/it]\u001b[A\n",
      " 80%|████████████████████████████████████████████████████████████████████████████████████████████████████████████                           | 8/10 [02:31<00:31, 15.99s/it]\u001b[A\n",
      " 90%|█████████████████████████████████████████████████████████████████████████████████████████████████████████████████████████▌             | 9/10 [02:38<00:13, 13.28s/it]\u001b[A\n",
      "100%|██████████████████████████████████████████████████████████████████████████████████████████████████████████████████████████████████████| 10/10 [02:47<00:00, 16.71s/it]\u001b[A\n"
     ]
    },
    {
     "name": "stdout",
     "output_type": "stream",
     "text": [
      "Cleaning up sorted DICOM files...\n"
     ]
    },
    {
     "name": "stderr",
     "output_type": "stream",
     "text": [
      "\n",
      "  0%|                                                                                                                                               | 0/10 [00:00<?, ?it/s]\u001b[A\n",
      " 30%|████████████████████████████████████████▌                                                                                              | 3/10 [00:00<00:00, 22.85it/s]\u001b[A\n",
      "100%|██████████████████████████████████████████████████████████████████████████████████████████████████████████████████████████████████████| 10/10 [00:00<00:00, 36.45it/s]\u001b[A\n",
      "100%|██████████| 2463/2463 [00:04<00:00, 519.97it/s]██████████████████████████████████████▍                                            | 610/928 [2:51:08<48:03,  9.07s/it]\n"
     ]
    },
    {
     "name": "stdout",
     "output_type": "stream",
     "text": [
      "Files sorted\n",
      "Cleaning up downloaded DICOM files...\n"
     ]
    },
    {
     "name": "stderr",
     "output_type": "stream",
     "text": [
      "\n",
      "  0%|                                                                                                                                               | 0/10 [00:00<?, ?it/s]\u001b[A\n",
      " 50%|███████████████████████████████████████████████████████████████████▌                                                                   | 5/10 [00:00<00:00, 46.90it/s]\u001b[A\n",
      "100%|██████████████████████████████████████████████████████████████████████████████████████████████████████████████████████████████████████| 10/10 [00:00<00:00, 46.95it/s]\u001b[A\n"
     ]
    },
    {
     "name": "stdout",
     "output_type": "stream",
     "text": [
      "Saving patient data as .npz file...\n",
      "Saving patient .npz files to /data/all/train\n"
     ]
    },
    {
     "name": "stderr",
     "output_type": "stream",
     "text": [
      "\n",
      "  0%|                                                                                                                                               | 0/10 [00:00<?, ?it/s]\u001b[A\n",
      " 10%|█████████████▌                                                                                                                         | 1/10 [00:06<00:58,  6.53s/it]\u001b[A\n",
      " 20%|███████████████████████████                                                                                                            | 2/10 [00:27<01:58, 14.79s/it]\u001b[A\n",
      " 30%|████████████████████████████████████████▌                                                                                              | 3/10 [00:33<01:17, 11.09s/it]\u001b[A\n",
      " 40%|██████████████████████████████████████████████████████                                                                                 | 4/10 [00:53<01:27, 14.59s/it]\u001b[A\n",
      " 50%|███████████████████████████████████████████████████████████████████▌                                                                   | 5/10 [01:06<01:10, 14.06s/it]\u001b[A\n",
      " 60%|█████████████████████████████████████████████████████████████████████████████████                                                      | 6/10 [01:32<01:11, 17.92s/it]\u001b[A\n",
      " 70%|██████████████████████████████████████████████████████████████████████████████████████████████▌                                        | 7/10 [01:42<00:46, 15.48s/it]\u001b[A\n",
      " 80%|████████████████████████████████████████████████████████████████████████████████████████████████████████████                           | 8/10 [01:54<00:28, 14.41s/it]\u001b[A\n",
      " 90%|█████████████████████████████████████████████████████████████████████████████████████████████████████████████████████████▌             | 9/10 [02:07<00:13, 13.74s/it]\u001b[A\n",
      "100%|██████████████████████████████████████████████████████████████████████████████████████████████████████████████████████████████████████| 10/10 [02:17<00:00, 13.78s/it]\u001b[A\n"
     ]
    },
    {
     "name": "stdout",
     "output_type": "stream",
     "text": [
      "Cleaning up sorted DICOM files...\n"
     ]
    },
    {
     "name": "stderr",
     "output_type": "stream",
     "text": [
      "\n",
      "  0%|                                                                                                                                               | 0/10 [00:00<?, ?it/s]\u001b[A\n",
      " 50%|███████████████████████████████████████████████████████████████████▌                                                                   | 5/10 [00:00<00:00, 49.46it/s]\u001b[A\n",
      "100%|██████████████████████████████████████████████████████████████████████████████████████████████████████████████████████████████████████| 10/10 [00:00<00:00, 43.56it/s]\u001b[A\n",
      "100%|██████████| 2162/2162 [00:04<00:00, 525.10it/s]███████████████████████████████████████▊                                           | 620/928 [2:54:17<34:48,  6.78s/it]\n"
     ]
    },
    {
     "name": "stdout",
     "output_type": "stream",
     "text": [
      "Files sorted\n",
      "Cleaning up downloaded DICOM files...\n"
     ]
    },
    {
     "name": "stderr",
     "output_type": "stream",
     "text": [
      "\n",
      "  0%|                                                                                                                                               | 0/10 [00:00<?, ?it/s]\u001b[A\n",
      "100%|██████████████████████████████████████████████████████████████████████████████████████████████████████████████████████████████████████| 10/10 [00:00<00:00, 57.17it/s]\u001b[A\n"
     ]
    },
    {
     "name": "stdout",
     "output_type": "stream",
     "text": [
      "Saving patient data as .npz file...\n",
      "Saving patient .npz files to /data/all/train\n"
     ]
    },
    {
     "name": "stderr",
     "output_type": "stream",
     "text": [
      "\n",
      "  0%|                                                                                                                                               | 0/10 [00:00<?, ?it/s]\u001b[A\n",
      " 10%|█████████████▌                                                                                                                         | 1/10 [00:05<00:51,  5.76s/it]\u001b[A\n",
      " 20%|███████████████████████████                                                                                                            | 2/10 [00:18<01:17,  9.66s/it]\u001b[A\n",
      " 30%|████████████████████████████████████████▌                                                                                              | 3/10 [00:32<01:21, 11.66s/it]\u001b[A\n",
      " 40%|██████████████████████████████████████████████████████                                                                                 | 4/10 [00:47<01:18, 13.09s/it]\u001b[A\n",
      " 50%|███████████████████████████████████████████████████████████████████▌                                                                   | 5/10 [00:54<00:54, 10.98s/it]\u001b[A\n",
      " 60%|█████████████████████████████████████████████████████████████████████████████████                                                      | 6/10 [01:15<00:57, 14.45s/it]\u001b[A\n",
      " 70%|██████████████████████████████████████████████████████████████████████████████████████████████▌                                        | 7/10 [01:22<00:35, 11.91s/it]\u001b[A\n",
      " 80%|████████████████████████████████████████████████████████████████████████████████████████████████████████████                           | 8/10 [01:28<00:20, 10.07s/it]\u001b[A\n",
      " 90%|█████████████████████████████████████████████████████████████████████████████████████████████████████████████████████████▌             | 9/10 [01:35<00:08,  8.92s/it]\u001b[A\n",
      "100%|██████████████████████████████████████████████████████████████████████████████████████████████████████████████████████████████████████| 10/10 [02:01<00:00, 12.18s/it]\u001b[A\n"
     ]
    },
    {
     "name": "stdout",
     "output_type": "stream",
     "text": [
      "Cleaning up sorted DICOM files...\n"
     ]
    },
    {
     "name": "stderr",
     "output_type": "stream",
     "text": [
      "\n",
      "  0%|                                                                                                                                               | 0/10 [00:00<?, ?it/s]\u001b[A\n",
      " 40%|██████████████████████████████████████████████████████                                                                                 | 4/10 [00:00<00:00, 33.71it/s]\u001b[A\n",
      "100%|██████████████████████████████████████████████████████████████████████████████████████████████████████████████████████████████████████| 10/10 [00:00<00:00, 44.20it/s]\u001b[A\n",
      "100%|██████████| 2938/2938 [00:05<00:00, 509.93it/s]█████████████████████████████████████████▎                                         | 630/928 [2:57:21<46:02,  9.27s/it]\n"
     ]
    },
    {
     "name": "stdout",
     "output_type": "stream",
     "text": [
      "Files sorted\n",
      "Cleaning up downloaded DICOM files...\n"
     ]
    },
    {
     "name": "stderr",
     "output_type": "stream",
     "text": [
      "\n",
      "  0%|                                                                                                                                               | 0/10 [00:00<?, ?it/s]\u001b[A\n",
      " 30%|████████████████████████████████████████▌                                                                                              | 3/10 [00:00<00:00, 27.23it/s]\u001b[A\n",
      "100%|██████████████████████████████████████████████████████████████████████████████████████████████████████████████████████████████████████| 10/10 [00:00<00:00, 42.34it/s]\u001b[A\n"
     ]
    },
    {
     "name": "stdout",
     "output_type": "stream",
     "text": [
      "Saving patient data as .npz file...\n",
      "Saving patient .npz files to /data/all/train\n"
     ]
    },
    {
     "name": "stderr",
     "output_type": "stream",
     "text": [
      "\n",
      "  0%|                                                                                                                                               | 0/10 [00:00<?, ?it/s]\u001b[A\n",
      " 10%|█████████████▌                                                                                                                         | 1/10 [00:09<01:23,  9.32s/it]\u001b[A\n",
      " 20%|███████████████████████████                                                                                                            | 2/10 [01:06<04:59, 37.47s/it]\u001b[A\n",
      " 30%|████████████████████████████████████████▌                                                                                              | 3/10 [01:13<02:43, 23.42s/it]\u001b[A\n",
      " 40%|██████████████████████████████████████████████████████                                                                                 | 4/10 [01:34<02:15, 22.59s/it]\u001b[A\n",
      " 50%|███████████████████████████████████████████████████████████████████▌                                                                   | 5/10 [01:41<01:25, 17.00s/it]\u001b[A\n",
      " 60%|█████████████████████████████████████████████████████████████████████████████████                                                      | 6/10 [02:10<01:23, 20.97s/it]\u001b[A\n",
      " 70%|██████████████████████████████████████████████████████████████████████████████████████████████▌                                        | 7/10 [02:22<00:54, 18.19s/it]\u001b[A\n",
      " 80%|████████████████████████████████████████████████████████████████████████████████████████████████████████████                           | 8/10 [02:36<00:33, 16.83s/it]\u001b[A\n",
      " 90%|█████████████████████████████████████████████████████████████████████████████████████████████████████████████████████████▌             | 9/10 [02:44<00:14, 14.03s/it]\u001b[A\n",
      "100%|██████████████████████████████████████████████████████████████████████████████████████████████████████████████████████████████████████| 10/10 [03:00<00:00, 18.04s/it]\u001b[A\n"
     ]
    },
    {
     "name": "stdout",
     "output_type": "stream",
     "text": [
      "Cleaning up sorted DICOM files...\n"
     ]
    },
    {
     "name": "stderr",
     "output_type": "stream",
     "text": [
      "\n",
      "  0%|                                                                                                                                               | 0/10 [00:00<?, ?it/s]\u001b[A\n",
      " 40%|██████████████████████████████████████████████████████                                                                                 | 4/10 [00:00<00:00, 35.52it/s]\u001b[A\n",
      "100%|██████████████████████████████████████████████████████████████████████████████████████████████████████████████████████████████████████| 10/10 [00:00<00:00, 37.34it/s]\u001b[A\n",
      "100%|██████████| 2425/2425 [00:04<00:00, 536.49it/s]██████████████████████████████████████████▋                                        | 640/928 [3:01:17<34:48,  7.25s/it]\n"
     ]
    },
    {
     "name": "stdout",
     "output_type": "stream",
     "text": [
      "Files sorted\n",
      "Cleaning up downloaded DICOM files...\n"
     ]
    },
    {
     "name": "stderr",
     "output_type": "stream",
     "text": [
      "\n",
      "  0%|                                                                                                                                               | 0/10 [00:00<?, ?it/s]\u001b[A\n",
      " 40%|██████████████████████████████████████████████████████                                                                                 | 4/10 [00:00<00:00, 32.36it/s]\u001b[A\n",
      "100%|██████████████████████████████████████████████████████████████████████████████████████████████████████████████████████████████████████| 10/10 [00:00<00:00, 37.72it/s]\u001b[A\n"
     ]
    },
    {
     "name": "stdout",
     "output_type": "stream",
     "text": [
      "Saving patient data as .npz file...\n",
      "Saving patient .npz files to /data/all/train\n"
     ]
    },
    {
     "name": "stderr",
     "output_type": "stream",
     "text": [
      "\n",
      "  0%|                                                                                                                                               | 0/10 [00:00<?, ?it/s]\u001b[A\n",
      " 10%|█████████████▌                                                                                                                         | 1/10 [00:20<03:07, 20.86s/it]\u001b[A\n",
      " 20%|███████████████████████████                                                                                                            | 2/10 [00:33<02:10, 16.27s/it]\u001b[A\n",
      " 30%|████████████████████████████████████████▌                                                                                              | 3/10 [00:47<01:45, 15.11s/it]\u001b[A\n",
      " 40%|██████████████████████████████████████████████████████                                                                                 | 4/10 [01:01<01:26, 14.49s/it]\u001b[A\n",
      " 50%|███████████████████████████████████████████████████████████████████▌                                                                   | 5/10 [01:07<00:57, 11.50s/it]\u001b[A\n",
      " 60%|█████████████████████████████████████████████████████████████████████████████████                                                      | 6/10 [01:20<00:48, 12.18s/it]\u001b[A\n",
      " 70%|██████████████████████████████████████████████████████████████████████████████████████████████▌                                        | 7/10 [01:33<00:37, 12.34s/it]\u001b[A\n",
      " 80%|████████████████████████████████████████████████████████████████████████████████████████████████████████████                           | 8/10 [01:46<00:24, 12.39s/it]\u001b[A\n",
      " 90%|█████████████████████████████████████████████████████████████████████████████████████████████████████████████████████████▌             | 9/10 [02:01<00:13, 13.21s/it]\u001b[A\n",
      "100%|██████████████████████████████████████████████████████████████████████████████████████████████████████████████████████████████████████| 10/10 [02:10<00:00, 13.01s/it]\u001b[A\n"
     ]
    },
    {
     "name": "stdout",
     "output_type": "stream",
     "text": [
      "Cleaning up sorted DICOM files...\n"
     ]
    },
    {
     "name": "stderr",
     "output_type": "stream",
     "text": [
      "\n",
      "  0%|                                                                                                                                               | 0/10 [00:00<?, ?it/s]\u001b[A\n",
      "100%|██████████████████████████████████████████████████████████████████████████████████████████████████████████████████████████████████████| 10/10 [00:00<00:00, 53.35it/s]\u001b[A\n",
      "100%|██████████| 3447/3447 [00:06<00:00, 512.08it/s]████████████████████████████████████████████                                       | 650/928 [3:04:42<38:42,  8.35s/it]\n"
     ]
    },
    {
     "name": "stdout",
     "output_type": "stream",
     "text": [
      "Files sorted\n",
      "Cleaning up downloaded DICOM files...\n"
     ]
    },
    {
     "name": "stderr",
     "output_type": "stream",
     "text": [
      "\n",
      "  0%|                                                                                                                                               | 0/10 [00:00<?, ?it/s]\u001b[A\n",
      " 40%|██████████████████████████████████████████████████████                                                                                 | 4/10 [00:00<00:00, 38.81it/s]\u001b[A\n",
      "100%|██████████████████████████████████████████████████████████████████████████████████████████████████████████████████████████████████████| 10/10 [00:00<00:00, 30.56it/s]\u001b[A\n"
     ]
    },
    {
     "name": "stdout",
     "output_type": "stream",
     "text": [
      "Saving patient data as .npz file...\n",
      "Saving patient .npz files to /data/all/train\n"
     ]
    },
    {
     "name": "stderr",
     "output_type": "stream",
     "text": [
      "\n",
      "  0%|                                                                                                                                               | 0/10 [00:00<?, ?it/s]\u001b[A\n",
      " 10%|█████████████▌                                                                                                                         | 1/10 [00:13<02:03, 13.73s/it]\u001b[A\n",
      " 20%|███████████████████████████                                                                                                            | 2/10 [00:41<02:58, 22.27s/it]\u001b[A\n",
      " 30%|████████████████████████████████████████▌                                                                                              | 3/10 [01:06<02:44, 23.45s/it]\u001b[A\n",
      " 40%|██████████████████████████████████████████████████████                                                                                 | 4/10 [01:39<02:41, 26.94s/it]\u001b[A\n",
      " 50%|███████████████████████████████████████████████████████████████████▌                                                                   | 5/10 [01:47<01:40, 20.07s/it]\u001b[A\n",
      " 60%|█████████████████████████████████████████████████████████████████████████████████                                                      | 6/10 [01:52<01:00, 15.22s/it]\u001b[A\n",
      " 70%|██████████████████████████████████████████████████████████████████████████████████████████████▌                                        | 7/10 [02:03<00:40, 13.63s/it]\u001b[A\n",
      " 80%|████████████████████████████████████████████████████████████████████████████████████████████████████████████                           | 8/10 [02:41<00:43, 21.58s/it]\u001b[A\n",
      " 90%|█████████████████████████████████████████████████████████████████████████████████████████████████████████████████████████▌             | 9/10 [02:56<00:19, 19.30s/it]\u001b[A\n",
      "100%|██████████████████████████████████████████████████████████████████████████████████████████████████████████████████████████████████████| 10/10 [03:25<00:00, 20.50s/it]\u001b[A\n"
     ]
    },
    {
     "name": "stdout",
     "output_type": "stream",
     "text": [
      "Cleaning up sorted DICOM files...\n"
     ]
    },
    {
     "name": "stderr",
     "output_type": "stream",
     "text": [
      "\n",
      "  0%|                                                                                                                                               | 0/10 [00:00<?, ?it/s]\u001b[A\n",
      " 40%|██████████████████████████████████████████████████████                                                                                 | 4/10 [00:00<00:00, 29.82it/s]\u001b[A\n",
      "100%|██████████████████████████████████████████████████████████████████████████████████████████████████████████████████████████████████████| 10/10 [00:00<00:00, 36.30it/s]\u001b[A\n",
      "100%|██████████| 3014/3014 [00:05<00:00, 517.09it/s]█████████████████████████████████████████████▍                                     | 660/928 [3:09:08<29:26,  6.59s/it]\n"
     ]
    },
    {
     "name": "stdout",
     "output_type": "stream",
     "text": [
      "Files sorted\n",
      "Cleaning up downloaded DICOM files...\n"
     ]
    },
    {
     "name": "stderr",
     "output_type": "stream",
     "text": [
      "\n",
      "  0%|                                                                                                                                               | 0/10 [00:00<?, ?it/s]\u001b[A\n",
      " 30%|████████████████████████████████████████▌                                                                                              | 3/10 [00:00<00:00, 29.94it/s]\u001b[A\n",
      "100%|██████████████████████████████████████████████████████████████████████████████████████████████████████████████████████████████████████| 10/10 [00:00<00:00, 39.56it/s]\u001b[A\n"
     ]
    },
    {
     "name": "stdout",
     "output_type": "stream",
     "text": [
      "Saving patient data as .npz file...\n",
      "Saving patient .npz files to /data/all/train\n"
     ]
    },
    {
     "name": "stderr",
     "output_type": "stream",
     "text": [
      "\n",
      "  0%|                                                                                                                                               | 0/10 [00:00<?, ?it/s]\u001b[A\n",
      " 10%|█████████████▌                                                                                                                         | 1/10 [00:08<01:20,  8.91s/it]\u001b[A\n",
      " 20%|███████████████████████████                                                                                                            | 2/10 [00:32<02:20, 17.52s/it]\u001b[A\n",
      " 30%|████████████████████████████████████████▌                                                                                              | 3/10 [01:00<02:37, 22.47s/it]\u001b[A\n",
      " 40%|██████████████████████████████████████████████████████                                                                                 | 4/10 [01:09<01:41, 16.97s/it]\u001b[A\n",
      " 50%|███████████████████████████████████████████████████████████████████▌                                                                   | 5/10 [01:37<01:44, 20.90s/it]\u001b[A\n",
      " 60%|█████████████████████████████████████████████████████████████████████████████████                                                      | 6/10 [01:42<01:02, 15.73s/it]\u001b[A\n",
      " 70%|██████████████████████████████████████████████████████████████████████████████████████████████▌                                        | 7/10 [01:49<00:38, 12.73s/it]\u001b[A\n",
      " 80%|████████████████████████████████████████████████████████████████████████████████████████████████████████████                           | 8/10 [01:56<00:21, 10.77s/it]\u001b[A\n",
      " 90%|█████████████████████████████████████████████████████████████████████████████████████████████████████████████████████████▌             | 9/10 [02:23<00:15, 15.95s/it]\u001b[A\n",
      "100%|██████████████████████████████████████████████████████████████████████████████████████████████████████████████████████████████████████| 10/10 [02:47<00:00, 16.79s/it]\u001b[A\n"
     ]
    },
    {
     "name": "stdout",
     "output_type": "stream",
     "text": [
      "Cleaning up sorted DICOM files...\n"
     ]
    },
    {
     "name": "stderr",
     "output_type": "stream",
     "text": [
      "\n",
      "  0%|                                                                                                                                               | 0/10 [00:00<?, ?it/s]\u001b[A\n",
      " 30%|████████████████████████████████████████▌                                                                                              | 3/10 [00:00<00:00, 29.58it/s]\u001b[A\n",
      "100%|██████████████████████████████████████████████████████████████████████████████████████████████████████████████████████████████████████| 10/10 [00:00<00:00, 39.97it/s]\u001b[A\n",
      "100%|██████████| 2403/2403 [00:04<00:00, 521.45it/s]██████████████████████████████████████████████▊                                    | 670/928 [3:12:56<29:25,  6.84s/it]\n"
     ]
    },
    {
     "name": "stdout",
     "output_type": "stream",
     "text": [
      "Files sorted\n",
      "Cleaning up downloaded DICOM files...\n"
     ]
    },
    {
     "name": "stderr",
     "output_type": "stream",
     "text": [
      "\n",
      "  0%|                                                                                                                                               | 0/10 [00:00<?, ?it/s]\u001b[A\n",
      "100%|██████████████████████████████████████████████████████████████████████████████████████████████████████████████████████████████████████| 10/10 [00:00<00:00, 40.18it/s]\u001b[A\n"
     ]
    },
    {
     "name": "stdout",
     "output_type": "stream",
     "text": [
      "Saving patient data as .npz file...\n",
      "Saving patient .npz files to /data/all/train\n"
     ]
    },
    {
     "name": "stderr",
     "output_type": "stream",
     "text": [
      "\n",
      "  0%|                                                                                                                                               | 0/10 [00:00<?, ?it/s]\u001b[A\n",
      " 10%|█████████████▌                                                                                                                         | 1/10 [00:23<03:27, 23.00s/it]\u001b[A\n",
      " 20%|███████████████████████████                                                                                                            | 2/10 [00:38<02:30, 18.85s/it]\u001b[A\n",
      " 30%|████████████████████████████████████████▌                                                                                              | 3/10 [00:57<02:10, 18.65s/it]\u001b[A\n",
      " 40%|██████████████████████████████████████████████████████                                                                                 | 4/10 [01:11<01:40, 16.68s/it]\u001b[A\n",
      " 50%|███████████████████████████████████████████████████████████████████▌                                                                   | 5/10 [01:18<01:06, 13.32s/it]\u001b[A\n",
      " 60%|█████████████████████████████████████████████████████████████████████████████████                                                      | 6/10 [01:25<00:44, 11.08s/it]\u001b[A\n",
      " 70%|██████████████████████████████████████████████████████████████████████████████████████████████▌                                        | 7/10 [01:31<00:28,  9.51s/it]\u001b[A\n",
      " 80%|████████████████████████████████████████████████████████████████████████████████████████████████████████████                           | 8/10 [02:00<00:31, 15.87s/it]\u001b[A\n",
      " 90%|█████████████████████████████████████████████████████████████████████████████████████████████████████████████████████████▌             | 9/10 [02:07<00:12, 12.99s/it]\u001b[A\n",
      "100%|██████████████████████████████████████████████████████████████████████████████████████████████████████████████████████████████████████| 10/10 [02:13<00:00, 13.38s/it]\u001b[A\n"
     ]
    },
    {
     "name": "stdout",
     "output_type": "stream",
     "text": [
      "Cleaning up sorted DICOM files...\n"
     ]
    },
    {
     "name": "stderr",
     "output_type": "stream",
     "text": [
      "\n",
      "  0%|                                                                                                                                               | 0/10 [00:00<?, ?it/s]\u001b[A\n",
      "100%|██████████████████████████████████████████████████████████████████████████████████████████████████████████████████████████████████████| 10/10 [00:00<00:00, 52.65it/s]\u001b[A\n",
      "100%|██████████| 2698/2698 [00:05<00:00, 534.76it/s]████████████████████████████████████████████████▎                                  | 680/928 [3:16:06<33:52,  8.20s/it]\n"
     ]
    },
    {
     "name": "stdout",
     "output_type": "stream",
     "text": [
      "Files sorted\n",
      "Cleaning up downloaded DICOM files...\n"
     ]
    },
    {
     "name": "stderr",
     "output_type": "stream",
     "text": [
      "\n",
      "  0%|                                                                                                                                               | 0/10 [00:00<?, ?it/s]\u001b[A\n",
      " 50%|███████████████████████████████████████████████████████████████████▌                                                                   | 5/10 [00:00<00:00, 36.72it/s]\u001b[A\n",
      "100%|██████████████████████████████████████████████████████████████████████████████████████████████████████████████████████████████████████| 10/10 [00:00<00:00, 40.26it/s]\u001b[A\n"
     ]
    },
    {
     "name": "stdout",
     "output_type": "stream",
     "text": [
      "Saving patient data as .npz file...\n",
      "Saving patient .npz files to /data/all/train\n"
     ]
    },
    {
     "name": "stderr",
     "output_type": "stream",
     "text": [
      "\n",
      "  0%|                                                                                                                                               | 0/10 [00:00<?, ?it/s]\u001b[A\n",
      " 10%|█████████████▌                                                                                                                         | 1/10 [00:27<04:07, 27.54s/it]\u001b[A\n",
      " 20%|███████████████████████████                                                                                                            | 2/10 [00:39<02:24, 18.12s/it]\u001b[A\n",
      " 30%|████████████████████████████████████████▌                                                                                              | 3/10 [00:55<02:01, 17.32s/it]\u001b[A\n",
      " 40%|██████████████████████████████████████████████████████                                                                                 | 4/10 [01:22<02:06, 21.10s/it]\u001b[A\n",
      " 50%|███████████████████████████████████████████████████████████████████▌                                                                   | 5/10 [01:33<01:28, 17.68s/it]\u001b[A\n",
      " 60%|█████████████████████████████████████████████████████████████████████████████████                                                      | 6/10 [01:40<00:55, 13.84s/it]\u001b[A\n",
      " 70%|██████████████████████████████████████████████████████████████████████████████████████████████▌                                        | 7/10 [01:50<00:38, 12.78s/it]\u001b[A\n",
      " 80%|████████████████████████████████████████████████████████████████████████████████████████████████████████████                           | 8/10 [01:57<00:21, 10.90s/it]\u001b[A\n",
      " 90%|█████████████████████████████████████████████████████████████████████████████████████████████████████████████████████████▌             | 9/10 [02:05<00:09,  9.85s/it]\u001b[A\n",
      "100%|██████████████████████████████████████████████████████████████████████████████████████████████████████████████████████████████████████| 10/10 [02:25<00:00, 14.53s/it]\u001b[A\n"
     ]
    },
    {
     "name": "stdout",
     "output_type": "stream",
     "text": [
      "Cleaning up sorted DICOM files...\n"
     ]
    },
    {
     "name": "stderr",
     "output_type": "stream",
     "text": [
      "\n",
      "  0%|                                                                                                                                               | 0/10 [00:00<?, ?it/s]\u001b[A\n",
      "100%|██████████████████████████████████████████████████████████████████████████████████████████████████████████████████████████████████████| 10/10 [00:00<00:00, 47.11it/s]\u001b[A\n",
      "100%|██████████| 2789/2789 [00:05<00:00, 545.57it/s]█████████████████████████████████████████████████▋                                 | 690/928 [3:19:32<27:48,  7.01s/it]\n"
     ]
    },
    {
     "name": "stdout",
     "output_type": "stream",
     "text": [
      "Files sorted\n",
      "Cleaning up downloaded DICOM files...\n"
     ]
    },
    {
     "name": "stderr",
     "output_type": "stream",
     "text": [
      "\n",
      "  0%|                                                                                                                                               | 0/10 [00:00<?, ?it/s]\u001b[A\n",
      " 40%|██████████████████████████████████████████████████████                                                                                 | 4/10 [00:00<00:00, 35.47it/s]\u001b[A\n",
      "100%|██████████████████████████████████████████████████████████████████████████████████████████████████████████████████████████████████████| 10/10 [00:00<00:00, 37.20it/s]\u001b[A\n"
     ]
    },
    {
     "name": "stdout",
     "output_type": "stream",
     "text": [
      "Saving patient data as .npz file...\n",
      "Saving patient .npz files to /data/all/train\n"
     ]
    },
    {
     "name": "stderr",
     "output_type": "stream",
     "text": [
      "\n",
      "  0%|                                                                                                                                               | 0/10 [00:00<?, ?it/s]\u001b[A\n",
      " 10%|█████████████▌                                                                                                                         | 1/10 [00:26<04:00, 26.72s/it]\u001b[A\n",
      " 20%|███████████████████████████                                                                                                            | 2/10 [00:46<02:59, 22.47s/it]\u001b[A\n",
      " 30%|████████████████████████████████████████▌                                                                                              | 3/10 [00:51<01:43, 14.84s/it]\u001b[A\n",
      " 40%|██████████████████████████████████████████████████████                                                                                 | 4/10 [00:59<01:11, 11.86s/it]\u001b[A\n",
      " 50%|███████████████████████████████████████████████████████████████████▌                                                                   | 5/10 [01:07<00:52, 10.45s/it]\u001b[A\n",
      " 60%|█████████████████████████████████████████████████████████████████████████████████                                                      | 6/10 [01:34<01:04, 16.05s/it]\u001b[A\n",
      " 70%|██████████████████████████████████████████████████████████████████████████████████████████████▌                                        | 7/10 [01:41<00:39, 13.09s/it]\u001b[A\n",
      " 80%|████████████████████████████████████████████████████████████████████████████████████████████████████████████                           | 8/10 [02:10<00:36, 18.22s/it]\u001b[A\n",
      " 90%|█████████████████████████████████████████████████████████████████████████████████████████████████████████████████████████▌             | 9/10 [02:34<00:20, 20.07s/it]\u001b[A\n",
      "100%|██████████████████████████████████████████████████████████████████████████████████████████████████████████████████████████████████████| 10/10 [02:40<00:00, 16.07s/it]\u001b[A\n"
     ]
    },
    {
     "name": "stdout",
     "output_type": "stream",
     "text": [
      "Cleaning up sorted DICOM files...\n"
     ]
    },
    {
     "name": "stderr",
     "output_type": "stream",
     "text": [
      "\n",
      "  0%|                                                                                                                                               | 0/10 [00:00<?, ?it/s]\u001b[A\n",
      "100%|██████████████████████████████████████████████████████████████████████████████████████████████████████████████████████████████████████| 10/10 [00:00<00:00, 35.20it/s]\u001b[A\n",
      "100%|██████████| 2438/2438 [00:04<00:00, 532.12it/s]███████████████████████████████████████████████████                                | 700/928 [3:23:07<24:38,  6.49s/it]\n"
     ]
    },
    {
     "name": "stdout",
     "output_type": "stream",
     "text": [
      "Files sorted\n",
      "Cleaning up downloaded DICOM files...\n"
     ]
    },
    {
     "name": "stderr",
     "output_type": "stream",
     "text": [
      "\n",
      "  0%|                                                                                                                                               | 0/10 [00:00<?, ?it/s]\u001b[A\n",
      " 40%|██████████████████████████████████████████████████████                                                                                 | 4/10 [00:00<00:00, 39.70it/s]\u001b[A\n",
      "100%|██████████████████████████████████████████████████████████████████████████████████████████████████████████████████████████████████████| 10/10 [00:00<00:00, 45.39it/s]\u001b[A\n"
     ]
    },
    {
     "name": "stdout",
     "output_type": "stream",
     "text": [
      "Saving patient data as .npz file...\n",
      "Saving patient .npz files to /data/all/train\n"
     ]
    },
    {
     "name": "stderr",
     "output_type": "stream",
     "text": [
      "\n",
      "  0%|                                                                                                                                               | 0/10 [00:00<?, ?it/s]\u001b[A\n",
      " 10%|█████████████▌                                                                                                                         | 1/10 [00:13<01:58, 13.12s/it]\u001b[A\n",
      " 20%|███████████████████████████                                                                                                            | 2/10 [00:18<01:10,  8.83s/it]\u001b[A\n",
      " 30%|████████████████████████████████████████▌                                                                                              | 3/10 [00:27<00:59,  8.53s/it]\u001b[A\n",
      " 40%|██████████████████████████████████████████████████████                                                                                 | 4/10 [00:55<01:37, 16.32s/it]\u001b[A\n",
      " 50%|███████████████████████████████████████████████████████████████████▌                                                                   | 5/10 [01:08<01:15, 15.17s/it]\u001b[A\n",
      " 60%|█████████████████████████████████████████████████████████████████████████████████                                                      | 6/10 [01:36<01:17, 19.38s/it]\u001b[A\n",
      " 70%|██████████████████████████████████████████████████████████████████████████████████████████████▌                                        | 7/10 [01:54<00:57, 19.04s/it]\u001b[A\n",
      " 80%|████████████████████████████████████████████████████████████████████████████████████████████████████████████                           | 8/10 [02:00<00:29, 14.92s/it]\u001b[A\n",
      " 90%|█████████████████████████████████████████████████████████████████████████████████████████████████████████████████████████▌             | 9/10 [02:11<00:13, 13.83s/it]\u001b[A\n",
      "100%|██████████████████████████████████████████████████████████████████████████████████████████████████████████████████████████████████████| 10/10 [02:18<00:00, 13.86s/it]\u001b[A\n"
     ]
    },
    {
     "name": "stdout",
     "output_type": "stream",
     "text": [
      "Cleaning up sorted DICOM files...\n"
     ]
    },
    {
     "name": "stderr",
     "output_type": "stream",
     "text": [
      "\n",
      "  0%|                                                                                                                                               | 0/10 [00:00<?, ?it/s]\u001b[A\n",
      " 50%|███████████████████████████████████████████████████████████████████▌                                                                   | 5/10 [00:00<00:00, 41.45it/s]\u001b[A\n",
      "100%|██████████████████████████████████████████████████████████████████████████████████████████████████████████████████████████████████████| 10/10 [00:00<00:00, 41.01it/s]\u001b[A\n",
      "100%|██████████| 3278/3278 [00:06<00:00, 533.47it/s]████████████████████████████████████████████████████▍                              | 710/928 [3:26:32<27:11,  7.48s/it]\n"
     ]
    },
    {
     "name": "stdout",
     "output_type": "stream",
     "text": [
      "Files sorted\n",
      "Cleaning up downloaded DICOM files...\n"
     ]
    },
    {
     "name": "stderr",
     "output_type": "stream",
     "text": [
      "\n",
      "  0%|                                                                                                                                               | 0/10 [00:00<?, ?it/s]\u001b[A\n",
      " 40%|██████████████████████████████████████████████████████                                                                                 | 4/10 [00:00<00:00, 36.11it/s]\u001b[A\n",
      "100%|██████████████████████████████████████████████████████████████████████████████████████████████████████████████████████████████████████| 10/10 [00:00<00:00, 28.79it/s]\u001b[A\n"
     ]
    },
    {
     "name": "stdout",
     "output_type": "stream",
     "text": [
      "Saving patient data as .npz file...\n",
      "Saving patient .npz files to /data/all/train\n"
     ]
    },
    {
     "name": "stderr",
     "output_type": "stream",
     "text": [
      "\n",
      "  0%|                                                                                                                                               | 0/10 [00:00<?, ?it/s]\u001b[A\n",
      " 10%|█████████████▌                                                                                                                         | 1/10 [00:23<03:27, 23.05s/it]\u001b[A\n",
      " 20%|███████████████████████████                                                                                                            | 2/10 [00:44<02:58, 22.37s/it]\u001b[A\n",
      " 30%|████████████████████████████████████████▌                                                                                              | 3/10 [01:11<02:48, 24.13s/it]\u001b[A\n",
      " 40%|██████████████████████████████████████████████████████                                                                                 | 4/10 [01:17<01:42, 17.12s/it]\u001b[A\n",
      " 50%|███████████████████████████████████████████████████████████████████▌                                                                   | 5/10 [01:28<01:13, 14.74s/it]\u001b[A\n",
      " 60%|█████████████████████████████████████████████████████████████████████████████████                                                      | 6/10 [01:54<01:14, 18.67s/it]\u001b[A\n",
      " 70%|██████████████████████████████████████████████████████████████████████████████████████████████▌                                        | 7/10 [02:21<01:04, 21.50s/it]\u001b[A\n",
      " 80%|████████████████████████████████████████████████████████████████████████████████████████████████████████████                           | 8/10 [02:35<00:37, 18.90s/it]\u001b[A\n",
      " 90%|█████████████████████████████████████████████████████████████████████████████████████████████████████████████████████████▌             | 9/10 [02:47<00:16, 16.78s/it]\u001b[A\n",
      "100%|██████████████████████████████████████████████████████████████████████████████████████████████████████████████████████████████████████| 10/10 [03:01<00:00, 18.10s/it]\u001b[A\n"
     ]
    },
    {
     "name": "stdout",
     "output_type": "stream",
     "text": [
      "Cleaning up sorted DICOM files...\n"
     ]
    },
    {
     "name": "stderr",
     "output_type": "stream",
     "text": [
      "\n",
      "  0%|                                                                                                                                               | 0/10 [00:00<?, ?it/s]\u001b[A\n",
      " 40%|██████████████████████████████████████████████████████                                                                                 | 4/10 [00:00<00:00, 39.29it/s]\u001b[A\n",
      "100%|██████████████████████████████████████████████████████████████████████████████████████████████████████████████████████████████████████| 10/10 [00:00<00:00, 37.72it/s]\u001b[A\n",
      "100%|██████████| 2530/2530 [00:04<00:00, 517.42it/s]█████████████████████████████████████████████████████▊                             | 720/928 [3:30:39<26:25,  7.62s/it]\n"
     ]
    },
    {
     "name": "stdout",
     "output_type": "stream",
     "text": [
      "Files sorted\n",
      "Cleaning up downloaded DICOM files...\n"
     ]
    },
    {
     "name": "stderr",
     "output_type": "stream",
     "text": [
      "\n",
      "  0%|                                                                                                                                               | 0/10 [00:00<?, ?it/s]\u001b[A\n",
      " 40%|██████████████████████████████████████████████████████                                                                                 | 4/10 [00:00<00:00, 37.83it/s]\u001b[A\n",
      "100%|██████████████████████████████████████████████████████████████████████████████████████████████████████████████████████████████████████| 10/10 [00:00<00:00, 46.16it/s]\u001b[A\n"
     ]
    },
    {
     "name": "stdout",
     "output_type": "stream",
     "text": [
      "Saving patient data as .npz file...\n",
      "Saving patient .npz files to /data/all/train\n"
     ]
    },
    {
     "name": "stderr",
     "output_type": "stream",
     "text": [
      "\n",
      "  0%|                                                                                                                                               | 0/10 [00:00<?, ?it/s]\u001b[A\n",
      " 10%|█████████████▌                                                                                                                         | 1/10 [00:15<02:19, 15.49s/it]\u001b[A\n",
      " 20%|███████████████████████████                                                                                                            | 2/10 [00:36<02:31, 18.89s/it]\u001b[A\n",
      " 30%|████████████████████████████████████████▌                                                                                              | 3/10 [00:55<02:10, 18.63s/it]\u001b[A\n",
      " 40%|██████████████████████████████████████████████████████                                                                                 | 4/10 [01:15<01:55, 19.27s/it]\u001b[A\n",
      " 50%|███████████████████████████████████████████████████████████████████▌                                                                   | 5/10 [01:45<01:56, 23.34s/it]\u001b[A\n",
      " 60%|█████████████████████████████████████████████████████████████████████████████████                                                      | 6/10 [01:58<01:19, 19.82s/it]\u001b[A\n",
      " 70%|██████████████████████████████████████████████████████████████████████████████████████████████▌                                        | 7/10 [02:09<00:50, 16.73s/it]\u001b[A\n",
      " 80%|████████████████████████████████████████████████████████████████████████████████████████████████████████████                           | 8/10 [02:22<00:31, 15.72s/it]\u001b[A\n",
      " 90%|█████████████████████████████████████████████████████████████████████████████████████████████████████████████████████████▌             | 9/10 [02:29<00:12, 12.89s/it]\u001b[A\n",
      "100%|██████████████████████████████████████████████████████████████████████████████████████████████████████████████████████████████████████| 10/10 [02:35<00:00, 15.54s/it]\u001b[A\n"
     ]
    },
    {
     "name": "stdout",
     "output_type": "stream",
     "text": [
      "Cleaning up sorted DICOM files...\n"
     ]
    },
    {
     "name": "stderr",
     "output_type": "stream",
     "text": [
      "\n",
      "  0%|                                                                                                                                               | 0/10 [00:00<?, ?it/s]\u001b[A\n",
      " 30%|████████████████████████████████████████▌                                                                                              | 3/10 [00:00<00:00, 29.25it/s]\u001b[A\n",
      "100%|██████████████████████████████████████████████████████████████████████████████████████████████████████████████████████████████████████| 10/10 [00:00<00:00, 38.44it/s]\u001b[A\n",
      "100%|██████████| 1572/1572 [00:02<00:00, 534.55it/s]███████████████████████████████████████████████████████▎                           | 730/928 [3:34:00<21:36,  6.55s/it]\n"
     ]
    },
    {
     "name": "stdout",
     "output_type": "stream",
     "text": [
      "Files sorted\n",
      "Cleaning up downloaded DICOM files...\n"
     ]
    },
    {
     "name": "stderr",
     "output_type": "stream",
     "text": [
      "\n",
      "  0%|                                                                                                                                               | 0/10 [00:00<?, ?it/s]\u001b[A\n",
      "100%|██████████████████████████████████████████████████████████████████████████████████████████████████████████████████████████████████████| 10/10 [00:00<00:00, 69.13it/s]\u001b[A\n"
     ]
    },
    {
     "name": "stdout",
     "output_type": "stream",
     "text": [
      "Saving patient data as .npz file...\n",
      "Saving patient .npz files to /data/all/train\n"
     ]
    },
    {
     "name": "stderr",
     "output_type": "stream",
     "text": [
      "\n",
      "  0%|                                                                                                                                               | 0/10 [00:00<?, ?it/s]\u001b[A\n",
      " 10%|█████████████▌                                                                                                                         | 1/10 [00:09<01:29,  9.95s/it]\u001b[A\n",
      " 20%|███████████████████████████                                                                                                            | 2/10 [00:16<01:04,  8.05s/it]\u001b[A\n",
      " 30%|████████████████████████████████████████▌                                                                                              | 3/10 [00:24<00:55,  7.97s/it]\u001b[A\n",
      " 40%|██████████████████████████████████████████████████████                                                                                 | 4/10 [00:37<00:59,  9.93s/it]\u001b[A\n",
      " 50%|███████████████████████████████████████████████████████████████████▌                                                                   | 5/10 [00:43<00:42,  8.50s/it]\u001b[A\n",
      " 60%|█████████████████████████████████████████████████████████████████████████████████                                                      | 6/10 [00:51<00:32,  8.21s/it]\u001b[A\n",
      " 70%|██████████████████████████████████████████████████████████████████████████████████████████████▌                                        | 7/10 [01:03<00:28,  9.49s/it]\u001b[A\n",
      " 80%|████████████████████████████████████████████████████████████████████████████████████████████████████████████                           | 8/10 [01:09<00:17,  8.52s/it]\u001b[A\n",
      " 90%|█████████████████████████████████████████████████████████████████████████████████████████████████████████████████████████▌             | 9/10 [01:18<00:08,  8.49s/it]\u001b[A\n",
      "100%|██████████████████████████████████████████████████████████████████████████████████████████████████████████████████████████████████████| 10/10 [01:30<00:00,  9.03s/it]\u001b[A\n"
     ]
    },
    {
     "name": "stdout",
     "output_type": "stream",
     "text": [
      "Cleaning up sorted DICOM files...\n"
     ]
    },
    {
     "name": "stderr",
     "output_type": "stream",
     "text": [
      "\n",
      "  0%|                                                                                                                                               | 0/10 [00:00<?, ?it/s]\u001b[A\n",
      "100%|██████████████████████████████████████████████████████████████████████████████████████████████████████████████████████████████████████| 10/10 [00:00<00:00, 76.07it/s]\u001b[A\n",
      "100%|██████████| 2875/2875 [00:05<00:00, 507.51it/s]████████████████████████████████████████████████████████▋                          | 740/928 [3:36:38<23:38,  7.55s/it]\n"
     ]
    },
    {
     "name": "stdout",
     "output_type": "stream",
     "text": [
      "Files sorted\n",
      "Cleaning up downloaded DICOM files...\n"
     ]
    },
    {
     "name": "stderr",
     "output_type": "stream",
     "text": [
      "\n",
      "  0%|                                                                                                                                               | 0/10 [00:00<?, ?it/s]\u001b[A\n",
      " 20%|███████████████████████████                                                                                                            | 2/10 [00:00<00:00, 17.02it/s]\u001b[A\n",
      "100%|██████████████████████████████████████████████████████████████████████████████████████████████████████████████████████████████████████| 10/10 [00:00<00:00, 34.64it/s]\u001b[A\n"
     ]
    },
    {
     "name": "stdout",
     "output_type": "stream",
     "text": [
      "Saving patient data as .npz file...\n",
      "Saving patient .npz files to /data/all/train\n"
     ]
    },
    {
     "name": "stderr",
     "output_type": "stream",
     "text": [
      "\n",
      "  0%|                                                                                                                                               | 0/10 [00:00<?, ?it/s]\u001b[A\n",
      " 10%|█████████████▌                                                                                                                         | 1/10 [00:07<01:07,  7.50s/it]\u001b[A\n",
      " 20%|███████████████████████████                                                                                                            | 2/10 [00:36<02:43, 20.39s/it]\u001b[A\n",
      " 30%|████████████████████████████████████████▌                                                                                              | 3/10 [00:46<01:48, 15.47s/it]\u001b[A\n",
      " 40%|██████████████████████████████████████████████████████                                                                                 | 4/10 [01:03<01:35, 15.96s/it]\u001b[A\n",
      " 50%|███████████████████████████████████████████████████████████████████▌                                                                   | 5/10 [01:20<01:22, 16.52s/it]\u001b[A\n",
      " 60%|█████████████████████████████████████████████████████████████████████████████████                                                      | 6/10 [01:52<01:26, 21.62s/it]\u001b[A\n",
      " 70%|██████████████████████████████████████████████████████████████████████████████████████████████▌                                        | 7/10 [02:04<00:55, 18.61s/it]\u001b[A\n",
      " 80%|████████████████████████████████████████████████████████████████████████████████████████████████████████████                           | 8/10 [02:33<00:43, 21.95s/it]\u001b[A\n",
      " 90%|█████████████████████████████████████████████████████████████████████████████████████████████████████████████████████████▌             | 9/10 [02:40<00:17, 17.17s/it]\u001b[A\n",
      "100%|██████████████████████████████████████████████████████████████████████████████████████████████████████████████████████████████████████| 10/10 [02:47<00:00, 16.77s/it]\u001b[A\n"
     ]
    },
    {
     "name": "stdout",
     "output_type": "stream",
     "text": [
      "Cleaning up sorted DICOM files...\n"
     ]
    },
    {
     "name": "stderr",
     "output_type": "stream",
     "text": [
      "\n",
      "  0%|                                                                                                                                               | 0/10 [00:00<?, ?it/s]\u001b[A\n",
      " 50%|███████████████████████████████████████████████████████████████████▌                                                                   | 5/10 [00:00<00:00, 42.65it/s]\u001b[A\n",
      "100%|██████████████████████████████████████████████████████████████████████████████████████████████████████████████████████████████████████| 10/10 [00:00<00:00, 39.37it/s]\u001b[A\n",
      "100%|██████████| 2370/2370 [00:04<00:00, 509.60it/s]██████████████████████████████████████████████████████████                         | 750/928 [3:40:17<19:18,  6.51s/it]\n"
     ]
    },
    {
     "name": "stdout",
     "output_type": "stream",
     "text": [
      "Files sorted\n",
      "Cleaning up downloaded DICOM files...\n"
     ]
    },
    {
     "name": "stderr",
     "output_type": "stream",
     "text": [
      "\n",
      "  0%|                                                                                                                                               | 0/10 [00:00<?, ?it/s]\u001b[A\n",
      " 50%|███████████████████████████████████████████████████████████████████▌                                                                   | 5/10 [00:00<00:00, 49.03it/s]\u001b[A\n",
      "100%|██████████████████████████████████████████████████████████████████████████████████████████████████████████████████████████████████████| 10/10 [00:00<00:00, 48.26it/s]\u001b[A\n"
     ]
    },
    {
     "name": "stdout",
     "output_type": "stream",
     "text": [
      "Saving patient data as .npz file...\n",
      "Saving patient .npz files to /data/all/train\n"
     ]
    },
    {
     "name": "stderr",
     "output_type": "stream",
     "text": [
      "\n",
      "  0%|                                                                                                                                               | 0/10 [00:00<?, ?it/s]\u001b[A\n",
      " 10%|█████████████▌                                                                                                                         | 1/10 [00:13<02:01, 13.54s/it]\u001b[A\n",
      " 20%|███████████████████████████                                                                                                            | 2/10 [00:21<01:22, 10.37s/it]\u001b[A\n",
      " 30%|████████████████████████████████████████▌                                                                                              | 3/10 [00:31<01:11, 10.23s/it]\u001b[A\n",
      " 40%|██████████████████████████████████████████████████████                                                                                 | 4/10 [00:46<01:11, 11.85s/it]\u001b[A\n",
      " 50%|███████████████████████████████████████████████████████████████████▌                                                                   | 5/10 [00:52<00:49,  9.88s/it]\u001b[A\n",
      " 60%|█████████████████████████████████████████████████████████████████████████████████                                                      | 6/10 [01:09<00:49, 12.26s/it]\u001b[A\n",
      " 70%|██████████████████████████████████████████████████████████████████████████████████████████████▌                                        | 7/10 [01:36<00:51, 17.19s/it]\u001b[A\n",
      " 80%|████████████████████████████████████████████████████████████████████████████████████████████████████████████                           | 8/10 [01:48<00:31, 15.62s/it]\u001b[A\n",
      " 90%|█████████████████████████████████████████████████████████████████████████████████████████████████████████████████████████▌             | 9/10 [02:05<00:15, 15.87s/it]\u001b[A\n",
      "100%|██████████████████████████████████████████████████████████████████████████████████████████████████████████████████████████████████████| 10/10 [02:31<00:00, 15.12s/it]\u001b[A\n"
     ]
    },
    {
     "name": "stdout",
     "output_type": "stream",
     "text": [
      "Cleaning up sorted DICOM files...\n"
     ]
    },
    {
     "name": "stderr",
     "output_type": "stream",
     "text": [
      "\n",
      "  0%|                                                                                                                                               | 0/10 [00:00<?, ?it/s]\u001b[A\n",
      "100%|██████████████████████████████████████████████████████████████████████████████████████████████████████████████████████████████████████| 10/10 [00:00<00:00, 47.17it/s]\u001b[A\n",
      "100%|██████████| 3082/3082 [00:05<00:00, 531.38it/s]███████████████████████████████████████████████████████████▍                       | 760/928 [3:44:03<27:37,  9.87s/it]\n"
     ]
    },
    {
     "name": "stdout",
     "output_type": "stream",
     "text": [
      "Files sorted\n",
      "Cleaning up downloaded DICOM files...\n"
     ]
    },
    {
     "name": "stderr",
     "output_type": "stream",
     "text": [
      "\n",
      "  0%|                                                                                                                                               | 0/10 [00:00<?, ?it/s]\u001b[A\n",
      " 40%|██████████████████████████████████████████████████████                                                                                 | 4/10 [00:00<00:00, 37.14it/s]\u001b[A\n",
      "100%|██████████████████████████████████████████████████████████████████████████████████████████████████████████████████████████████████████| 10/10 [00:00<00:00, 38.80it/s]\u001b[A\n"
     ]
    },
    {
     "name": "stdout",
     "output_type": "stream",
     "text": [
      "Saving patient data as .npz file...\n",
      "Saving patient .npz files to /data/all/train\n"
     ]
    },
    {
     "name": "stderr",
     "output_type": "stream",
     "text": [
      "\n",
      "  0%|                                                                                                                                               | 0/10 [00:00<?, ?it/s]\u001b[A\n",
      " 10%|█████████████▌                                                                                                                         | 1/10 [00:14<02:14, 14.97s/it]\u001b[A\n",
      " 20%|███████████████████████████                                                                                                            | 2/10 [00:35<02:27, 18.49s/it]\u001b[A\n",
      " 30%|████████████████████████████████████████▌                                                                                              | 3/10 [00:51<02:00, 17.17s/it]\u001b[A\n",
      " 40%|██████████████████████████████████████████████████████                                                                                 | 4/10 [01:13<01:54, 19.01s/it]\u001b[A\n",
      " 50%|███████████████████████████████████████████████████████████████████▌                                                                   | 5/10 [01:34<01:39, 19.89s/it]\u001b[A\n",
      " 60%|█████████████████████████████████████████████████████████████████████████████████                                                      | 6/10 [02:02<01:30, 22.51s/it]\u001b[A\n",
      " 70%|██████████████████████████████████████████████████████████████████████████████████████████████▌                                        | 7/10 [02:27<01:09, 23.22s/it]\u001b[A\n",
      " 80%|████████████████████████████████████████████████████████████████████████████████████████████████████████████                           | 8/10 [02:38<00:38, 19.38s/it]\u001b[A\n",
      " 90%|█████████████████████████████████████████████████████████████████████████████████████████████████████████████████████████▌             | 9/10 [02:50<00:17, 17.14s/it]\u001b[A\n",
      "100%|██████████████████████████████████████████████████████████████████████████████████████████████████████████████████████████████████████| 10/10 [03:01<00:00, 18.14s/it]\u001b[A\n"
     ]
    },
    {
     "name": "stdout",
     "output_type": "stream",
     "text": [
      "Cleaning up sorted DICOM files...\n"
     ]
    },
    {
     "name": "stderr",
     "output_type": "stream",
     "text": [
      "\n",
      "  0%|                                                                                                                                               | 0/10 [00:00<?, ?it/s]\u001b[A\n",
      " 50%|███████████████████████████████████████████████████████████████████▌                                                                   | 5/10 [00:00<00:00, 40.57it/s]\u001b[A\n",
      "100%|██████████████████████████████████████████████████████████████████████████████████████████████████████████████████████████████████████| 10/10 [00:00<00:00, 39.80it/s]\u001b[A\n",
      "100%|██████████| 2961/2961 [00:05<00:00, 516.79it/s]████████████████████████████████████████████████████████████▊                      | 770/928 [3:48:11<25:18,  9.61s/it]\n"
     ]
    },
    {
     "name": "stdout",
     "output_type": "stream",
     "text": [
      "Files sorted\n",
      "Cleaning up downloaded DICOM files...\n"
     ]
    },
    {
     "name": "stderr",
     "output_type": "stream",
     "text": [
      "\n",
      "  0%|                                                                                                                                               | 0/10 [00:00<?, ?it/s]\u001b[A\n",
      " 20%|███████████████████████████                                                                                                            | 2/10 [00:00<00:00, 18.86it/s]\u001b[A\n",
      "100%|██████████████████████████████████████████████████████████████████████████████████████████████████████████████████████████████████████| 10/10 [00:00<00:00, 33.57it/s]\u001b[A\n"
     ]
    },
    {
     "name": "stdout",
     "output_type": "stream",
     "text": [
      "Saving patient data as .npz file...\n",
      "Saving patient .npz files to /data/all/train\n"
     ]
    },
    {
     "name": "stderr",
     "output_type": "stream",
     "text": [
      "\n",
      "  0%|                                                                                                                                               | 0/10 [00:00<?, ?it/s]\u001b[A\n",
      " 10%|█████████████▌                                                                                                                         | 1/10 [00:23<03:34, 23.83s/it]\u001b[A\n",
      " 20%|███████████████████████████                                                                                                            | 2/10 [00:47<03:10, 23.81s/it]\u001b[A\n",
      " 30%|████████████████████████████████████████▌                                                                                              | 3/10 [00:54<01:53, 16.21s/it]\u001b[A\n",
      " 40%|██████████████████████████████████████████████████████                                                                                 | 4/10 [01:03<01:19, 13.33s/it]\u001b[A\n",
      " 50%|███████████████████████████████████████████████████████████████████▌                                                                   | 5/10 [01:17<01:07, 13.49s/it]\u001b[A\n",
      " 60%|█████████████████████████████████████████████████████████████████████████████████                                                      | 6/10 [01:25<00:46, 11.74s/it]\u001b[A\n",
      " 70%|██████████████████████████████████████████████████████████████████████████████████████████████▌                                        | 7/10 [01:53<00:51, 17.09s/it]\u001b[A\n",
      " 80%|████████████████████████████████████████████████████████████████████████████████████████████████████████████                           | 8/10 [02:05<00:30, 15.48s/it]\u001b[A\n",
      " 90%|█████████████████████████████████████████████████████████████████████████████████████████████████████████████████████████▌             | 9/10 [02:31<00:18, 18.58s/it]\u001b[A\n",
      "100%|██████████████████████████████████████████████████████████████████████████████████████████████████████████████████████████████████████| 10/10 [02:58<00:00, 17.83s/it]\u001b[A\n"
     ]
    },
    {
     "name": "stdout",
     "output_type": "stream",
     "text": [
      "Cleaning up sorted DICOM files...\n"
     ]
    },
    {
     "name": "stderr",
     "output_type": "stream",
     "text": [
      "\n",
      "  0%|                                                                                                                                               | 0/10 [00:00<?, ?it/s]\u001b[A\n",
      "100%|██████████████████████████████████████████████████████████████████████████████████████████████████████████████████████████████████████| 10/10 [00:00<00:00, 42.21it/s]\u001b[A\n",
      "100%|██████████| 2399/2399 [00:04<00:00, 515.85it/s]██████████████████████████████████████████████████████████████▎                    | 780/928 [3:52:03<16:38,  6.75s/it]\n"
     ]
    },
    {
     "name": "stdout",
     "output_type": "stream",
     "text": [
      "Files sorted\n",
      "Cleaning up downloaded DICOM files...\n"
     ]
    },
    {
     "name": "stderr",
     "output_type": "stream",
     "text": [
      "\n",
      "  0%|                                                                                                                                               | 0/10 [00:00<?, ?it/s]\u001b[A\n",
      "100%|██████████████████████████████████████████████████████████████████████████████████████████████████████████████████████████████████████| 10/10 [00:00<00:00, 51.03it/s]\u001b[A\n"
     ]
    },
    {
     "name": "stdout",
     "output_type": "stream",
     "text": [
      "Saving patient data as .npz file...\n",
      "Saving patient .npz files to /data/all/train\n"
     ]
    },
    {
     "name": "stderr",
     "output_type": "stream",
     "text": [
      "\n",
      "  0%|                                                                                                                                               | 0/10 [00:00<?, ?it/s]\u001b[A\n",
      " 10%|█████████████▌                                                                                                                         | 1/10 [00:12<01:55, 12.81s/it]\u001b[A\n",
      " 20%|███████████████████████████                                                                                                            | 2/10 [00:19<01:14,  9.26s/it]\u001b[A\n",
      " 30%|████████████████████████████████████████▌                                                                                              | 3/10 [00:48<02:06, 18.02s/it]\u001b[A\n",
      " 40%|██████████████████████████████████████████████████████                                                                                 | 4/10 [01:00<01:34, 15.81s/it]\u001b[A\n",
      " 50%|███████████████████████████████████████████████████████████████████▌                                                                   | 5/10 [01:13<01:14, 14.85s/it]\u001b[A\n",
      " 60%|█████████████████████████████████████████████████████████████████████████████████                                                      | 6/10 [01:26<00:56, 14.12s/it]\u001b[A\n",
      " 70%|██████████████████████████████████████████████████████████████████████████████████████████████▌                                        | 7/10 [01:32<00:34, 11.53s/it]\u001b[A\n",
      " 80%|████████████████████████████████████████████████████████████████████████████████████████████████████████████                           | 8/10 [01:45<00:23, 11.92s/it]\u001b[A\n",
      " 90%|█████████████████████████████████████████████████████████████████████████████████████████████████████████████████████████▌             | 9/10 [01:59<00:12, 12.76s/it]\u001b[A\n",
      "100%|██████████████████████████████████████████████████████████████████████████████████████████████████████████████████████████████████████| 10/10 [02:06<00:00, 12.61s/it]\u001b[A\n"
     ]
    },
    {
     "name": "stdout",
     "output_type": "stream",
     "text": [
      "Cleaning up sorted DICOM files...\n"
     ]
    },
    {
     "name": "stderr",
     "output_type": "stream",
     "text": [
      "\n",
      "  0%|                                                                                                                                               | 0/10 [00:00<?, ?it/s]\u001b[A\n",
      "100%|██████████████████████████████████████████████████████████████████████████████████████████████████████████████████████████████████████| 10/10 [00:00<00:00, 53.02it/s]\u001b[A\n",
      "100%|██████████| 2619/2619 [00:04<00:00, 524.09it/s]███████████████████████████████████████████████████████████████▋                   | 790/928 [3:55:10<15:09,  6.59s/it]\n"
     ]
    },
    {
     "name": "stdout",
     "output_type": "stream",
     "text": [
      "Files sorted\n",
      "Cleaning up downloaded DICOM files...\n"
     ]
    },
    {
     "name": "stderr",
     "output_type": "stream",
     "text": [
      "\n",
      "  0%|                                                                                                                                               | 0/10 [00:00<?, ?it/s]\u001b[A\n",
      " 50%|███████████████████████████████████████████████████████████████████▌                                                                   | 5/10 [00:00<00:00, 45.56it/s]\u001b[A\n",
      "100%|██████████████████████████████████████████████████████████████████████████████████████████████████████████████████████████████████████| 10/10 [00:00<00:00, 44.79it/s]\u001b[A\n"
     ]
    },
    {
     "name": "stdout",
     "output_type": "stream",
     "text": [
      "Saving patient data as .npz file...\n",
      "Saving patient .npz files to /data/all/train\n"
     ]
    },
    {
     "name": "stderr",
     "output_type": "stream",
     "text": [
      "\n",
      "  0%|                                                                                                                                               | 0/10 [00:00<?, ?it/s]\u001b[A\n",
      " 10%|█████████████▌                                                                                                                         | 1/10 [00:08<01:20,  8.98s/it]\u001b[A\n",
      " 20%|███████████████████████████                                                                                                            | 2/10 [00:20<01:24, 10.54s/it]\u001b[A\n",
      " 30%|████████████████████████████████████████▌                                                                                              | 3/10 [00:30<01:11, 10.24s/it]\u001b[A\n",
      " 40%|██████████████████████████████████████████████████████                                                                                 | 4/10 [00:43<01:08, 11.34s/it]\u001b[A"
     ]
    },
    {
     "name": "stdout",
     "output_type": "stream",
     "text": [
      "Failed to reduce all groups to <= 4 Annotations.\n",
      "Some nodules may be close and must be grouped manually.\n"
     ]
    },
    {
     "name": "stderr",
     "output_type": "stream",
     "text": [
      "\n",
      " 50%|███████████████████████████████████████████████████████████████████▌                                                                   | 5/10 [01:00<01:06, 13.30s/it]\u001b[A\n",
      " 60%|█████████████████████████████████████████████████████████████████████████████████                                                      | 6/10 [01:23<01:06, 16.63s/it]\u001b[A\n",
      " 70%|██████████████████████████████████████████████████████████████████████████████████████████████▌                                        | 7/10 [01:50<00:59, 19.97s/it]\u001b[A\n",
      " 80%|████████████████████████████████████████████████████████████████████████████████████████████████████████████                           | 8/10 [02:12<00:41, 20.60s/it]\u001b[A\n",
      " 90%|█████████████████████████████████████████████████████████████████████████████████████████████████████████████████████████▌             | 9/10 [02:27<00:18, 18.85s/it]\u001b[A\n",
      "100%|██████████████████████████████████████████████████████████████████████████████████████████████████████████████████████████████████████| 10/10 [02:40<00:00, 16.10s/it]\u001b[A\n"
     ]
    },
    {
     "name": "stdout",
     "output_type": "stream",
     "text": [
      "Cleaning up sorted DICOM files...\n"
     ]
    },
    {
     "name": "stderr",
     "output_type": "stream",
     "text": [
      "\n",
      "  0%|                                                                                                                                               | 0/10 [00:00<?, ?it/s]\u001b[A\n",
      "100%|██████████████████████████████████████████████████████████████████████████████████████████████████████████████████████████████████████| 10/10 [00:00<00:00, 50.01it/s]\u001b[A\n",
      "100%|██████████| 2862/2862 [00:05<00:00, 508.44it/s]█████████████████████████████████████████████████████████████████                  | 800/928 [3:58:51<18:12,  8.53s/it]\n"
     ]
    },
    {
     "name": "stdout",
     "output_type": "stream",
     "text": [
      "Files sorted\n",
      "Cleaning up downloaded DICOM files...\n"
     ]
    },
    {
     "name": "stderr",
     "output_type": "stream",
     "text": [
      "\n",
      "  0%|                                                                                                                                               | 0/10 [00:00<?, ?it/s]\u001b[A\n",
      " 40%|██████████████████████████████████████████████████████                                                                                 | 4/10 [00:00<00:00, 36.48it/s]\u001b[A\n",
      "100%|██████████████████████████████████████████████████████████████████████████████████████████████████████████████████████████████████████| 10/10 [00:00<00:00, 41.30it/s]\u001b[A\n"
     ]
    },
    {
     "name": "stdout",
     "output_type": "stream",
     "text": [
      "Saving patient data as .npz file...\n",
      "Saving patient .npz files to /data/all/train\n"
     ]
    },
    {
     "name": "stderr",
     "output_type": "stream",
     "text": [
      "\n",
      "  0%|                                                                                                                                               | 0/10 [00:00<?, ?it/s]\u001b[A\n",
      " 10%|█████████████▌                                                                                                                         | 1/10 [00:21<03:13, 21.45s/it]\u001b[A\n",
      " 20%|███████████████████████████                                                                                                            | 2/10 [00:49<03:20, 25.12s/it]\u001b[A\n",
      " 30%|████████████████████████████████████████▌                                                                                              | 3/10 [01:08<02:36, 22.32s/it]\u001b[A\n",
      " 40%|██████████████████████████████████████████████████████                                                                                 | 4/10 [01:17<01:43, 17.24s/it]\u001b[A\n",
      " 50%|███████████████████████████████████████████████████████████████████▌                                                                   | 5/10 [01:24<01:07, 13.46s/it]\u001b[A\n",
      " 60%|█████████████████████████████████████████████████████████████████████████████████                                                      | 6/10 [01:37<00:53, 13.32s/it]\u001b[A\n",
      " 70%|██████████████████████████████████████████████████████████████████████████████████████████████▌                                        | 7/10 [01:56<00:45, 15.25s/it]\u001b[A\n",
      " 80%|████████████████████████████████████████████████████████████████████████████████████████████████████████████                           | 8/10 [02:03<00:24, 12.49s/it]\u001b[A\n",
      " 90%|█████████████████████████████████████████████████████████████████████████████████████████████████████████████████████████▌             | 9/10 [02:15<00:12, 12.53s/it]\u001b[A\n",
      "100%|██████████████████████████████████████████████████████████████████████████████████████████████████████████████████████████████████████| 10/10 [02:45<00:00, 16.55s/it]\u001b[A\n"
     ]
    },
    {
     "name": "stdout",
     "output_type": "stream",
     "text": [
      "Cleaning up sorted DICOM files...\n"
     ]
    },
    {
     "name": "stderr",
     "output_type": "stream",
     "text": [
      "\n",
      "  0%|                                                                                                                                               | 0/10 [00:00<?, ?it/s]\u001b[A\n",
      " 40%|██████████████████████████████████████████████████████                                                                                 | 4/10 [00:00<00:00, 33.33it/s]\u001b[A\n",
      "100%|██████████████████████████████████████████████████████████████████████████████████████████████████████████████████████████████████████| 10/10 [00:00<00:00, 40.97it/s]\u001b[A\n",
      "100%|██████████| 3099/3099 [00:06<00:00, 501.89it/s]██████████████████████████████████████████████████████████████████▍                | 810/928 [4:02:38<15:52,  8.07s/it]\n"
     ]
    },
    {
     "name": "stdout",
     "output_type": "stream",
     "text": [
      "Files sorted\n",
      "Cleaning up downloaded DICOM files...\n"
     ]
    },
    {
     "name": "stderr",
     "output_type": "stream",
     "text": [
      "\n",
      "  0%|                                                                                                                                               | 0/10 [00:00<?, ?it/s]\u001b[A\n",
      " 30%|████████████████████████████████████████▌                                                                                              | 3/10 [00:00<00:00, 19.52it/s]\u001b[A\n",
      "100%|██████████████████████████████████████████████████████████████████████████████████████████████████████████████████████████████████████| 10/10 [00:00<00:00, 29.74it/s]\u001b[A\n"
     ]
    },
    {
     "name": "stdout",
     "output_type": "stream",
     "text": [
      "Saving patient data as .npz file...\n",
      "Saving patient .npz files to /data/all/train\n"
     ]
    },
    {
     "name": "stderr",
     "output_type": "stream",
     "text": [
      "\n",
      "  0%|                                                                                                                                               | 0/10 [00:00<?, ?it/s]\u001b[A\n",
      " 10%|█████████████▌                                                                                                                         | 1/10 [00:17<02:37, 17.46s/it]\u001b[A\n",
      " 20%|███████████████████████████                                                                                                            | 2/10 [00:46<03:12, 24.07s/it]\u001b[A\n",
      " 30%|████████████████████████████████████████▌                                                                                              | 3/10 [01:14<03:02, 26.04s/it]\u001b[A\n",
      " 40%|██████████████████████████████████████████████████████                                                                                 | 4/10 [01:25<01:59, 19.99s/it]\u001b[A\n",
      " 50%|███████████████████████████████████████████████████████████████████▌                                                                   | 5/10 [01:31<01:16, 15.20s/it]\u001b[A\n",
      " 60%|█████████████████████████████████████████████████████████████████████████████████                                                      | 6/10 [01:44<00:57, 14.30s/it]\u001b[A\n",
      " 70%|██████████████████████████████████████████████████████████████████████████████████████████████▌                                        | 7/10 [02:13<00:56, 18.98s/it]\u001b[A\n",
      " 80%|████████████████████████████████████████████████████████████████████████████████████████████████████████████                           | 8/10 [02:28<00:35, 17.81s/it]\u001b[A\n",
      " 90%|█████████████████████████████████████████████████████████████████████████████████████████████████████████████████████████▌             | 9/10 [02:41<00:16, 16.24s/it]\u001b[A\n",
      "100%|██████████████████████████████████████████████████████████████████████████████████████████████████████████████████████████████████████| 10/10 [02:57<00:00, 17.78s/it]\u001b[A\n"
     ]
    },
    {
     "name": "stdout",
     "output_type": "stream",
     "text": [
      "Cleaning up sorted DICOM files...\n"
     ]
    },
    {
     "name": "stderr",
     "output_type": "stream",
     "text": [
      "\n",
      "  0%|                                                                                                                                               | 0/10 [00:00<?, ?it/s]\u001b[A\n",
      " 30%|████████████████████████████████████████▌                                                                                              | 3/10 [00:00<00:00, 22.03it/s]\u001b[A\n",
      "100%|██████████████████████████████████████████████████████████████████████████████████████████████████████████████████████████████████████| 10/10 [00:00<00:00, 32.16it/s]\u001b[A\n",
      "100%|██████████| 2498/2498 [00:04<00:00, 525.78it/s]███████████████████████████████████████████████████████████████████▊               | 820/928 [4:06:37<14:12,  7.89s/it]\n"
     ]
    },
    {
     "name": "stdout",
     "output_type": "stream",
     "text": [
      "Files sorted\n",
      "Cleaning up downloaded DICOM files...\n"
     ]
    },
    {
     "name": "stderr",
     "output_type": "stream",
     "text": [
      "\n",
      "  0%|                                                                                                                                               | 0/10 [00:00<?, ?it/s]\u001b[A\n",
      "100%|██████████████████████████████████████████████████████████████████████████████████████████████████████████████████████████████████████| 10/10 [00:00<00:00, 44.90it/s]\u001b[A\n"
     ]
    },
    {
     "name": "stdout",
     "output_type": "stream",
     "text": [
      "Saving patient data as .npz file...\n",
      "Saving patient .npz files to /data/all/train\n"
     ]
    },
    {
     "name": "stderr",
     "output_type": "stream",
     "text": [
      "\n",
      "  0%|                                                                                                                                               | 0/10 [00:00<?, ?it/s]\u001b[A\n",
      " 10%|█████████████▌                                                                                                                         | 1/10 [00:25<03:50, 25.63s/it]\u001b[A\n",
      " 20%|███████████████████████████                                                                                                            | 2/10 [00:32<01:58, 14.79s/it]\u001b[A\n",
      " 30%|████████████████████████████████████████▌                                                                                              | 3/10 [00:39<01:17, 11.10s/it]\u001b[A\n",
      " 40%|██████████████████████████████████████████████████████                                                                                 | 4/10 [01:03<01:36, 16.15s/it]\u001b[A\n",
      " 50%|███████████████████████████████████████████████████████████████████▌                                                                   | 5/10 [01:09<01:03, 12.64s/it]\u001b[A\n",
      " 60%|█████████████████████████████████████████████████████████████████████████████████                                                      | 6/10 [01:17<00:43, 10.88s/it]\u001b[A\n",
      " 70%|██████████████████████████████████████████████████████████████████████████████████████████████▌                                        | 7/10 [01:23<00:27,  9.32s/it]\u001b[A\n",
      " 80%|████████████████████████████████████████████████████████████████████████████████████████████████████████████                           | 8/10 [01:33<00:19,  9.60s/it]\u001b[A\n",
      " 90%|█████████████████████████████████████████████████████████████████████████████████████████████████████████████████████████▌             | 9/10 [02:01<00:15, 15.16s/it]\u001b[A\n",
      "100%|██████████████████████████████████████████████████████████████████████████████████████████████████████████████████████████████████████| 10/10 [02:12<00:00, 13.28s/it]\u001b[A\n"
     ]
    },
    {
     "name": "stdout",
     "output_type": "stream",
     "text": [
      "Cleaning up sorted DICOM files...\n"
     ]
    },
    {
     "name": "stderr",
     "output_type": "stream",
     "text": [
      "\n",
      "  0%|                                                                                                                                               | 0/10 [00:00<?, ?it/s]\u001b[A\n",
      "100%|██████████████████████████████████████████████████████████████████████████████████████████████████████████████████████████████████████| 10/10 [00:00<00:00, 49.91it/s]\u001b[A\n",
      "100%|██████████| 2889/2889 [00:05<00:00, 503.22it/s]█████████████████████████████████████████████████████████████████████▎             | 830/928 [4:09:58<13:34,  8.31s/it]\n"
     ]
    },
    {
     "name": "stdout",
     "output_type": "stream",
     "text": [
      "Files sorted\n",
      "Cleaning up downloaded DICOM files...\n"
     ]
    },
    {
     "name": "stderr",
     "output_type": "stream",
     "text": [
      "\n",
      "  0%|                                                                                                                                               | 0/10 [00:00<?, ?it/s]\u001b[A\n",
      " 50%|███████████████████████████████████████████████████████████████████▌                                                                   | 5/10 [00:00<00:00, 46.66it/s]\u001b[A\n",
      "100%|██████████████████████████████████████████████████████████████████████████████████████████████████████████████████████████████████████| 10/10 [00:00<00:00, 36.25it/s]\u001b[A\n"
     ]
    },
    {
     "name": "stdout",
     "output_type": "stream",
     "text": [
      "Saving patient data as .npz file...\n",
      "Saving patient .npz files to /data/all/train\n"
     ]
    },
    {
     "name": "stderr",
     "output_type": "stream",
     "text": [
      "\n",
      "  0%|                                                                                                                                               | 0/10 [00:00<?, ?it/s]\u001b[A\n",
      " 10%|█████████████▌                                                                                                                         | 1/10 [00:26<03:55, 26.14s/it]\u001b[A\n",
      " 20%|███████████████████████████                                                                                                            | 2/10 [00:37<02:18, 17.26s/it]\u001b[A\n",
      " 30%|████████████████████████████████████████▌                                                                                              | 3/10 [01:08<02:45, 23.68s/it]\u001b[A\n",
      " 40%|██████████████████████████████████████████████████████                                                                                 | 4/10 [01:27<02:12, 22.01s/it]\u001b[A\n",
      " 50%|███████████████████████████████████████████████████████████████████▌                                                                   | 5/10 [01:39<01:30, 18.16s/it]\u001b[A\n",
      " 60%|█████████████████████████████████████████████████████████████████████████████████                                                      | 6/10 [01:57<01:12, 18.11s/it]\u001b[A\n",
      " 70%|██████████████████████████████████████████████████████████████████████████████████████████████▌                                        | 7/10 [02:14<00:53, 17.86s/it]\u001b[A\n",
      " 80%|████████████████████████████████████████████████████████████████████████████████████████████████████████████                           | 8/10 [02:20<00:28, 14.19s/it]\u001b[A\n",
      " 90%|█████████████████████████████████████████████████████████████████████████████████████████████████████████████████████████▌             | 9/10 [02:45<00:17, 17.53s/it]\u001b[A\n",
      "100%|██████████████████████████████████████████████████████████████████████████████████████████████████████████████████████████████████████| 10/10 [02:55<00:00, 17.58s/it]\u001b[A\n"
     ]
    },
    {
     "name": "stdout",
     "output_type": "stream",
     "text": [
      "Cleaning up sorted DICOM files...\n"
     ]
    },
    {
     "name": "stderr",
     "output_type": "stream",
     "text": [
      "\n",
      "  0%|                                                                                                                                               | 0/10 [00:00<?, ?it/s]\u001b[A\n",
      " 30%|████████████████████████████████████████▌                                                                                              | 3/10 [00:00<00:00, 24.62it/s]\u001b[A\n",
      "100%|██████████████████████████████████████████████████████████████████████████████████████████████████████████████████████████████████████| 10/10 [00:00<00:00, 37.49it/s]\u001b[A\n",
      "100%|██████████| 2149/2149 [00:04<00:00, 531.08it/s]██████████████████████████████████████████████████████████████████████▋            | 840/928 [4:13:44<10:16,  7.01s/it]\n"
     ]
    },
    {
     "name": "stdout",
     "output_type": "stream",
     "text": [
      "Files sorted\n",
      "Cleaning up downloaded DICOM files...\n"
     ]
    },
    {
     "name": "stderr",
     "output_type": "stream",
     "text": [
      "\n",
      "  0%|                                                                                                                                               | 0/10 [00:00<?, ?it/s]\u001b[A\n",
      "100%|██████████████████████████████████████████████████████████████████████████████████████████████████████████████████████████████████████| 10/10 [00:00<00:00, 54.71it/s]\u001b[A\n"
     ]
    },
    {
     "name": "stdout",
     "output_type": "stream",
     "text": [
      "Saving patient data as .npz file...\n",
      "Saving patient .npz files to /data/all/train\n"
     ]
    },
    {
     "name": "stderr",
     "output_type": "stream",
     "text": [
      "\n",
      "  0%|                                                                                                                                               | 0/10 [00:00<?, ?it/s]\u001b[A\n",
      " 10%|█████████████▌                                                                                                                         | 1/10 [00:24<03:37, 24.18s/it]\u001b[A\n",
      " 20%|███████████████████████████                                                                                                            | 2/10 [00:38<02:26, 18.36s/it]\u001b[A\n",
      " 30%|████████████████████████████████████████▌                                                                                              | 3/10 [00:52<01:54, 16.34s/it]\u001b[A\n",
      " 40%|██████████████████████████████████████████████████████                                                                                 | 4/10 [01:10<01:41, 16.99s/it]\u001b[A\n",
      " 50%|███████████████████████████████████████████████████████████████████▌                                                                   | 5/10 [01:16<01:05, 13.05s/it]\u001b[A"
     ]
    },
    {
     "name": "stdout",
     "output_type": "stream",
     "text": [
      "Failed to reduce all groups to <= 4 Annotations.\n",
      "Some nodules may be close and must be grouped manually.\n"
     ]
    },
    {
     "name": "stderr",
     "output_type": "stream",
     "text": [
      "\n",
      " 60%|█████████████████████████████████████████████████████████████████████████████████                                                      | 6/10 [01:24<00:45, 11.30s/it]\u001b[A\n",
      " 70%|██████████████████████████████████████████████████████████████████████████████████████████████▌                                        | 7/10 [01:38<00:36, 12.30s/it]\u001b[A\n",
      " 80%|████████████████████████████████████████████████████████████████████████████████████████████████████████████                           | 8/10 [01:45<00:20, 10.39s/it]\u001b[A\n",
      " 90%|█████████████████████████████████████████████████████████████████████████████████████████████████████████████████████████▌             | 9/10 [01:57<00:11, 11.10s/it]\u001b[A\n",
      "100%|██████████████████████████████████████████████████████████████████████████████████████████████████████████████████████████████████████| 10/10 [02:05<00:00, 12.53s/it]\u001b[A\n"
     ]
    },
    {
     "name": "stdout",
     "output_type": "stream",
     "text": [
      "Cleaning up sorted DICOM files...\n"
     ]
    },
    {
     "name": "stderr",
     "output_type": "stream",
     "text": [
      "\n",
      "  0%|                                                                                                                                               | 0/10 [00:00<?, ?it/s]\u001b[A\n",
      "100%|██████████████████████████████████████████████████████████████████████████████████████████████████████████████████████████████████████| 10/10 [00:00<00:00, 57.95it/s]\u001b[A\n",
      "100%|██████████| 2715/2715 [00:05<00:00, 529.98it/s]████████████████████████████████████████████████████████████████████████           | 850/928 [4:16:48<09:05,  6.99s/it]\n"
     ]
    },
    {
     "name": "stdout",
     "output_type": "stream",
     "text": [
      "Files sorted\n",
      "Cleaning up downloaded DICOM files...\n"
     ]
    },
    {
     "name": "stderr",
     "output_type": "stream",
     "text": [
      "\n",
      "  0%|                                                                                                                                               | 0/10 [00:00<?, ?it/s]\u001b[A\n",
      "100%|██████████████████████████████████████████████████████████████████████████████████████████████████████████████████████████████████████| 10/10 [00:00<00:00, 44.75it/s]\u001b[A\n"
     ]
    },
    {
     "name": "stdout",
     "output_type": "stream",
     "text": [
      "Saving patient data as .npz file...\n",
      "Saving patient .npz files to /data/all/train\n"
     ]
    },
    {
     "name": "stderr",
     "output_type": "stream",
     "text": [
      "\n",
      "  0%|                                                                                                                                               | 0/10 [00:00<?, ?it/s]\u001b[A\n",
      " 10%|█████████████▌                                                                                                                         | 1/10 [00:06<00:59,  6.58s/it]\u001b[A\n",
      " 20%|███████████████████████████                                                                                                            | 2/10 [00:21<01:30, 11.36s/it]\u001b[A\n",
      " 30%|████████████████████████████████████████▌                                                                                              | 3/10 [00:33<01:23, 11.93s/it]\u001b[A\n",
      " 40%|██████████████████████████████████████████████████████                                                                                 | 4/10 [01:06<02:00, 20.01s/it]\u001b[A\n",
      " 50%|███████████████████████████████████████████████████████████████████▌                                                                   | 5/10 [01:37<02:00, 24.02s/it]\u001b[A\n",
      " 60%|█████████████████████████████████████████████████████████████████████████████████                                                      | 6/10 [01:43<01:11, 17.85s/it]\u001b[A\n",
      " 70%|██████████████████████████████████████████████████████████████████████████████████████████████▌                                        | 7/10 [01:49<00:42, 14.15s/it]\u001b[A\n",
      " 80%|████████████████████████████████████████████████████████████████████████████████████████████████████████████                           | 8/10 [02:03<00:28, 14.13s/it]\u001b[A\n",
      " 90%|█████████████████████████████████████████████████████████████████████████████████████████████████████████████████████████▌             | 9/10 [02:17<00:13, 13.95s/it]\u001b[A\n",
      "100%|██████████████████████████████████████████████████████████████████████████████████████████████████████████████████████████████████████| 10/10 [02:33<00:00, 15.38s/it]\u001b[A\n"
     ]
    },
    {
     "name": "stdout",
     "output_type": "stream",
     "text": [
      "Cleaning up sorted DICOM files...\n"
     ]
    },
    {
     "name": "stderr",
     "output_type": "stream",
     "text": [
      "\n",
      "  0%|                                                                                                                                               | 0/10 [00:00<?, ?it/s]\u001b[A\n",
      " 40%|██████████████████████████████████████████████████████                                                                                 | 4/10 [00:00<00:00, 36.63it/s]\u001b[A\n",
      "100%|██████████████████████████████████████████████████████████████████████████████████████████████████████████████████████████████████████| 10/10 [00:00<00:00, 42.14it/s]\u001b[A\n",
      "100%|██████████| 2052/2052 [00:03<00:00, 515.45it/s]█████████████████████████████████████████████████████████████████████████▍         | 860/928 [4:20:14<07:22,  6.51s/it]\n"
     ]
    },
    {
     "name": "stdout",
     "output_type": "stream",
     "text": [
      "Files sorted\n",
      "Cleaning up downloaded DICOM files...\n"
     ]
    },
    {
     "name": "stderr",
     "output_type": "stream",
     "text": [
      "\n",
      "  0%|                                                                                                                                               | 0/10 [00:00<?, ?it/s]\u001b[A\n",
      "100%|██████████████████████████████████████████████████████████████████████████████████████████████████████████████████████████████████████| 10/10 [00:00<00:00, 57.48it/s]\u001b[A\n"
     ]
    },
    {
     "name": "stdout",
     "output_type": "stream",
     "text": [
      "Saving patient data as .npz file...\n",
      "Saving patient .npz files to /data/all/train\n"
     ]
    },
    {
     "name": "stderr",
     "output_type": "stream",
     "text": [
      "\n",
      "  0%|                                                                                                                                               | 0/10 [00:00<?, ?it/s]\u001b[A\n",
      " 10%|█████████████▌                                                                                                                         | 1/10 [00:16<02:27, 16.44s/it]\u001b[A\n",
      " 20%|███████████████████████████                                                                                                            | 2/10 [00:22<01:22, 10.37s/it]\u001b[A\n",
      " 30%|████████████████████████████████████████▌                                                                                              | 3/10 [00:29<01:00,  8.58s/it]\u001b[A\n",
      " 40%|██████████████████████████████████████████████████████                                                                                 | 4/10 [00:42<01:03, 10.60s/it]\u001b[A\n",
      " 50%|███████████████████████████████████████████████████████████████████▌                                                                   | 5/10 [00:56<00:58, 11.71s/it]\u001b[A\n",
      " 60%|█████████████████████████████████████████████████████████████████████████████████                                                      | 6/10 [01:01<00:38,  9.51s/it]\u001b[A\n",
      " 70%|██████████████████████████████████████████████████████████████████████████████████████████████▌                                        | 7/10 [01:13<00:30, 10.22s/it]\u001b[A\n",
      " 80%|████████████████████████████████████████████████████████████████████████████████████████████████████████████                           | 8/10 [01:25<00:21, 10.75s/it]\u001b[A\n",
      " 90%|█████████████████████████████████████████████████████████████████████████████████████████████████████████████████████████▌             | 9/10 [01:48<00:14, 14.54s/it]\u001b[A\n",
      "100%|██████████████████████████████████████████████████████████████████████████████████████████████████████████████████████████████████████| 10/10 [01:54<00:00, 11.46s/it]\u001b[A\n"
     ]
    },
    {
     "name": "stdout",
     "output_type": "stream",
     "text": [
      "Cleaning up sorted DICOM files...\n"
     ]
    },
    {
     "name": "stderr",
     "output_type": "stream",
     "text": [
      "\n",
      "  0%|                                                                                                                                               | 0/10 [00:00<?, ?it/s]\u001b[A\n",
      "100%|██████████████████████████████████████████████████████████████████████████████████████████████████████████████████████████████████████| 10/10 [00:00<00:00, 61.29it/s]\u001b[A\n",
      "100%|██████████| 2742/2742 [00:05<00:00, 520.10it/s]██████████████████████████████████████████████████████████████████████████▉        | 870/928 [4:23:13<07:13,  7.47s/it]\n"
     ]
    },
    {
     "name": "stdout",
     "output_type": "stream",
     "text": [
      "Files sorted\n",
      "Cleaning up downloaded DICOM files...\n"
     ]
    },
    {
     "name": "stderr",
     "output_type": "stream",
     "text": [
      "\n",
      "  0%|                                                                                                                                               | 0/10 [00:00<?, ?it/s]\u001b[A\n",
      " 30%|████████████████████████████████████████▌                                                                                              | 3/10 [00:00<00:00, 18.94it/s]\u001b[A\n",
      "100%|██████████████████████████████████████████████████████████████████████████████████████████████████████████████████████████████████████| 10/10 [00:00<00:00, 31.19it/s]\u001b[A\n"
     ]
    },
    {
     "name": "stdout",
     "output_type": "stream",
     "text": [
      "Saving patient data as .npz file...\n",
      "Saving patient .npz files to /data/all/train\n"
     ]
    },
    {
     "name": "stderr",
     "output_type": "stream",
     "text": [
      "\n",
      "  0%|                                                                                                                                               | 0/10 [00:00<?, ?it/s]\u001b[A\n",
      " 10%|█████████████▌                                                                                                                         | 1/10 [00:04<00:44,  4.90s/it]\u001b[A\n",
      " 20%|███████████████████████████                                                                                                            | 2/10 [00:11<00:49,  6.15s/it]\u001b[A\n",
      " 30%|████████████████████████████████████████▌                                                                                              | 3/10 [00:25<01:06,  9.45s/it]\u001b[A\n",
      " 40%|██████████████████████████████████████████████████████                                                                                 | 4/10 [00:31<00:48,  8.05s/it]\u001b[A\n",
      " 50%|███████████████████████████████████████████████████████████████████▌                                                                   | 5/10 [00:50<01:00, 12.19s/it]\u001b[A\n",
      " 60%|█████████████████████████████████████████████████████████████████████████████████                                                      | 6/10 [01:08<00:55, 13.94s/it]\u001b[A\n",
      " 70%|██████████████████████████████████████████████████████████████████████████████████████████████▌                                        | 7/10 [01:18<00:38, 12.91s/it]\u001b[A\n",
      " 80%|████████████████████████████████████████████████████████████████████████████████████████████████████████████                           | 8/10 [01:47<00:36, 18.06s/it]\u001b[A\n",
      " 90%|█████████████████████████████████████████████████████████████████████████████████████████████████████████████████████████▌             | 9/10 [02:14<00:20, 20.75s/it]\u001b[A\n",
      "100%|██████████████████████████████████████████████████████████████████████████████████████████████████████████████████████████████████████| 10/10 [02:40<00:00, 16.00s/it]\u001b[A\n"
     ]
    },
    {
     "name": "stdout",
     "output_type": "stream",
     "text": [
      "Cleaning up sorted DICOM files...\n"
     ]
    },
    {
     "name": "stderr",
     "output_type": "stream",
     "text": [
      "\n",
      "  0%|                                                                                                                                               | 0/10 [00:00<?, ?it/s]\u001b[A\n",
      "100%|██████████████████████████████████████████████████████████████████████████████████████████████████████████████████████████████████████| 10/10 [00:00<00:00, 43.56it/s]\u001b[A\n",
      "100%|██████████| 2662/2662 [00:05<00:00, 505.95it/s]████████████████████████████████████████████████████████████████████████████▎      | 880/928 [4:26:55<06:30,  8.14s/it]\n"
     ]
    },
    {
     "name": "stdout",
     "output_type": "stream",
     "text": [
      "Files sorted\n",
      "Cleaning up downloaded DICOM files...\n"
     ]
    },
    {
     "name": "stderr",
     "output_type": "stream",
     "text": [
      "\n",
      "  0%|                                                                                                                                               | 0/10 [00:00<?, ?it/s]\u001b[A\n",
      " 50%|███████████████████████████████████████████████████████████████████▌                                                                   | 5/10 [00:00<00:00, 47.89it/s]\u001b[A\n",
      "100%|██████████████████████████████████████████████████████████████████████████████████████████████████████████████████████████████████████| 10/10 [00:00<00:00, 42.83it/s]\u001b[A\n"
     ]
    },
    {
     "name": "stdout",
     "output_type": "stream",
     "text": [
      "Saving patient data as .npz file...\n",
      "Saving patient .npz files to /data/all/train\n"
     ]
    },
    {
     "name": "stderr",
     "output_type": "stream",
     "text": [
      "\n",
      "  0%|                                                                                                                                               | 0/10 [00:00<?, ?it/s]\u001b[A\n",
      " 10%|█████████████▌                                                                                                                         | 1/10 [00:05<00:49,  5.49s/it]\u001b[A\n",
      " 20%|███████████████████████████                                                                                                            | 2/10 [00:18<01:18,  9.78s/it]\u001b[A\n",
      " 30%|████████████████████████████████████████▌                                                                                              | 3/10 [00:46<02:07, 18.21s/it]\u001b[A\n",
      " 40%|██████████████████████████████████████████████████████                                                                                 | 4/10 [01:12<02:06, 21.14s/it]\u001b[A\n",
      " 50%|███████████████████████████████████████████████████████████████████▌                                                                   | 5/10 [01:24<01:30, 18.04s/it]\u001b[A\n",
      " 60%|█████████████████████████████████████████████████████████████████████████████████                                                      | 6/10 [01:34<01:01, 15.41s/it]\u001b[A\n",
      " 70%|██████████████████████████████████████████████████████████████████████████████████████████████▌                                        | 7/10 [02:03<00:58, 19.62s/it]\u001b[A\n",
      " 80%|████████████████████████████████████████████████████████████████████████████████████████████████████████████                           | 8/10 [02:09<00:30, 15.38s/it]\u001b[A\n",
      " 90%|█████████████████████████████████████████████████████████████████████████████████████████████████████████████████████████▌             | 9/10 [02:16<00:12, 12.63s/it]\u001b[A\n",
      "100%|██████████████████████████████████████████████████████████████████████████████████████████████████████████████████████████████████████| 10/10 [02:25<00:00, 14.56s/it]\u001b[A\n"
     ]
    },
    {
     "name": "stdout",
     "output_type": "stream",
     "text": [
      "Cleaning up sorted DICOM files...\n"
     ]
    },
    {
     "name": "stderr",
     "output_type": "stream",
     "text": [
      "\n",
      "  0%|                                                                                                                                               | 0/10 [00:00<?, ?it/s]\u001b[A\n",
      " 40%|██████████████████████████████████████████████████████                                                                                 | 4/10 [00:00<00:00, 39.52it/s]\u001b[A\n",
      "100%|██████████████████████████████████████████████████████████████████████████████████████████████████████████████████████████████████████| 10/10 [00:00<00:00, 46.03it/s]\u001b[A\n",
      "100%|██████████| 2781/2781 [00:05<00:00, 512.90it/s]█████████████████████████████████████████████████████████████████████████████▋     | 890/928 [4:30:22<05:10,  8.18s/it]\n"
     ]
    },
    {
     "name": "stdout",
     "output_type": "stream",
     "text": [
      "Files sorted\n",
      "Cleaning up downloaded DICOM files...\n"
     ]
    },
    {
     "name": "stderr",
     "output_type": "stream",
     "text": [
      "\n",
      "  0%|                                                                                                                                               | 0/10 [00:00<?, ?it/s]\u001b[A\n",
      " 50%|███████████████████████████████████████████████████████████████████▌                                                                   | 5/10 [00:00<00:00, 41.27it/s]\u001b[A\n",
      "100%|██████████████████████████████████████████████████████████████████████████████████████████████████████████████████████████████████████| 10/10 [00:00<00:00, 40.17it/s]\u001b[A\n"
     ]
    },
    {
     "name": "stdout",
     "output_type": "stream",
     "text": [
      "Saving patient data as .npz file...\n",
      "Saving patient .npz files to /data/all/train\n"
     ]
    },
    {
     "name": "stderr",
     "output_type": "stream",
     "text": [
      "\n",
      "  0%|                                                                                                                                               | 0/10 [00:00<?, ?it/s]\u001b[A\n",
      " 10%|█████████████▌                                                                                                                         | 1/10 [00:23<03:32, 23.62s/it]\u001b[A\n",
      " 20%|███████████████████████████                                                                                                            | 2/10 [00:49<03:19, 24.90s/it]\u001b[A\n",
      " 30%|████████████████████████████████████████▌                                                                                              | 3/10 [00:56<01:58, 16.92s/it]\u001b[A\n",
      " 40%|██████████████████████████████████████████████████████                                                                                 | 4/10 [01:09<01:32, 15.36s/it]\u001b[A\n",
      " 50%|███████████████████████████████████████████████████████████████████▌                                                                   | 5/10 [01:36<01:37, 19.45s/it]\u001b[A\n",
      " 60%|█████████████████████████████████████████████████████████████████████████████████                                                      | 6/10 [01:57<01:19, 19.96s/it]\u001b[A\n",
      " 70%|██████████████████████████████████████████████████████████████████████████████████████████████▌                                        | 7/10 [02:04<00:47, 15.67s/it]\u001b[A\n",
      " 80%|████████████████████████████████████████████████████████████████████████████████████████████████████████████                           | 8/10 [02:15<00:28, 14.37s/it]\u001b[A\n",
      " 90%|█████████████████████████████████████████████████████████████████████████████████████████████████████████████████████████▌             | 9/10 [02:27<00:13, 13.64s/it]\u001b[A\n",
      "100%|██████████████████████████████████████████████████████████████████████████████████████████████████████████████████████████████████████| 10/10 [02:40<00:00, 16.07s/it]\u001b[A\n"
     ]
    },
    {
     "name": "stdout",
     "output_type": "stream",
     "text": [
      "Cleaning up sorted DICOM files...\n"
     ]
    },
    {
     "name": "stderr",
     "output_type": "stream",
     "text": [
      "\n",
      "  0%|                                                                                                                                               | 0/10 [00:00<?, ?it/s]\u001b[A\n",
      "100%|██████████████████████████████████████████████████████████████████████████████████████████████████████████████████████████████████████| 10/10 [00:00<00:00, 46.23it/s]\u001b[A\n",
      "100%|██████████| 2408/2408 [00:04<00:00, 549.47it/s]███████████████████████████████████████████████████████████████████████████████    | 900/928 [4:33:59<03:04,  6.60s/it]\n"
     ]
    },
    {
     "name": "stdout",
     "output_type": "stream",
     "text": [
      "Files sorted\n",
      "Cleaning up downloaded DICOM files...\n"
     ]
    },
    {
     "name": "stderr",
     "output_type": "stream",
     "text": [
      "\n",
      "  0%|                                                                                                                                               | 0/10 [00:00<?, ?it/s]\u001b[A\n",
      "100%|██████████████████████████████████████████████████████████████████████████████████████████████████████████████████████████████████████| 10/10 [00:00<00:00, 46.79it/s]\u001b[A\n"
     ]
    },
    {
     "name": "stdout",
     "output_type": "stream",
     "text": [
      "Saving patient data as .npz file...\n",
      "Saving patient .npz files to /data/all/train\n"
     ]
    },
    {
     "name": "stderr",
     "output_type": "stream",
     "text": [
      "\n",
      "  0%|                                                                                                                                               | 0/10 [00:00<?, ?it/s]\u001b[A\n",
      " 10%|█████████████▌                                                                                                                         | 1/10 [00:16<02:31, 16.87s/it]\u001b[A\n",
      " 20%|███████████████████████████                                                                                                            | 2/10 [00:29<01:53, 14.20s/it]\u001b[A\n",
      " 30%|████████████████████████████████████████▌                                                                                              | 3/10 [00:42<01:37, 13.91s/it]\u001b[A\n",
      " 40%|██████████████████████████████████████████████████████                                                                                 | 4/10 [00:55<01:21, 13.51s/it]\u001b[A\n",
      " 50%|███████████████████████████████████████████████████████████████████▌                                                                   | 5/10 [01:00<00:52, 10.42s/it]\u001b[A\n",
      " 60%|█████████████████████████████████████████████████████████████████████████████████                                                      | 6/10 [01:06<00:36,  9.02s/it]\u001b[A\n",
      " 70%|██████████████████████████████████████████████████████████████████████████████████████████████▌                                        | 7/10 [01:18<00:29,  9.96s/it]\u001b[A\n",
      " 80%|████████████████████████████████████████████████████████████████████████████████████████████████████████████                           | 8/10 [01:30<00:21, 10.58s/it]\u001b[A\n",
      " 90%|█████████████████████████████████████████████████████████████████████████████████████████████████████████████████████████▌             | 9/10 [01:56<00:15, 15.36s/it]\u001b[A\n",
      "100%|██████████████████████████████████████████████████████████████████████████████████████████████████████████████████████████████████████| 10/10 [02:15<00:00, 13.60s/it]\u001b[A\n"
     ]
    },
    {
     "name": "stdout",
     "output_type": "stream",
     "text": [
      "Cleaning up sorted DICOM files...\n"
     ]
    },
    {
     "name": "stderr",
     "output_type": "stream",
     "text": [
      "\n",
      "  0%|                                                                                                                                               | 0/10 [00:00<?, ?it/s]\u001b[A\n",
      "100%|██████████████████████████████████████████████████████████████████████████████████████████████████████████████████████████████████████| 10/10 [00:00<00:00, 55.30it/s]\u001b[A\n",
      "100%|██████████| 2728/2728 [00:05<00:00, 494.24it/s]████████████████████████████████████████████████████████████████████████████████▍  | 910/928 [4:37:17<02:57,  9.84s/it]\n"
     ]
    },
    {
     "name": "stdout",
     "output_type": "stream",
     "text": [
      "Files sorted\n",
      "Cleaning up downloaded DICOM files...\n"
     ]
    },
    {
     "name": "stderr",
     "output_type": "stream",
     "text": [
      "\n",
      "  0%|                                                                                                                                               | 0/10 [00:00<?, ?it/s]\u001b[A\n",
      " 40%|██████████████████████████████████████████████████████                                                                                 | 4/10 [00:00<00:00, 32.08it/s]\u001b[A\n",
      "100%|██████████████████████████████████████████████████████████████████████████████████████████████████████████████████████████████████████| 10/10 [00:00<00:00, 34.69it/s]\u001b[A\n"
     ]
    },
    {
     "name": "stdout",
     "output_type": "stream",
     "text": [
      "Saving patient data as .npz file...\n",
      "Saving patient .npz files to /data/all/train\n"
     ]
    },
    {
     "name": "stderr",
     "output_type": "stream",
     "text": [
      "\n",
      "  0%|                                                                                                                                               | 0/10 [00:00<?, ?it/s]\u001b[A\n",
      " 10%|█████████████▌                                                                                                                         | 1/10 [00:31<04:42, 31.39s/it]\u001b[A\n",
      " 20%|███████████████████████████                                                                                                            | 2/10 [00:39<02:21, 17.64s/it]\u001b[A"
     ]
    },
    {
     "name": "stdout",
     "output_type": "stream",
     "text": [
      "Failed to reduce all groups to <= 4 Annotations.\n",
      "Some nodules may be close and must be grouped manually.\n"
     ]
    },
    {
     "name": "stderr",
     "output_type": "stream",
     "text": [
      "\n",
      " 30%|████████████████████████████████████████▌                                                                                              | 3/10 [00:56<02:00, 17.23s/it]\u001b[A\n",
      " 40%|██████████████████████████████████████████████████████                                                                                 | 4/10 [01:22<02:05, 20.89s/it]\u001b[A\n",
      " 50%|███████████████████████████████████████████████████████████████████▌                                                                   | 5/10 [01:35<01:29, 17.84s/it]\u001b[A\n",
      " 60%|█████████████████████████████████████████████████████████████████████████████████                                                      | 6/10 [01:46<01:03, 15.80s/it]\u001b[A\n",
      " 70%|██████████████████████████████████████████████████████████████████████████████████████████████▌                                        | 7/10 [01:54<00:39, 13.28s/it]\u001b[A\n",
      " 80%|████████████████████████████████████████████████████████████████████████████████████████████████████████████                           | 8/10 [02:06<00:25, 12.58s/it]\u001b[A\n",
      " 90%|█████████████████████████████████████████████████████████████████████████████████████████████████████████████████████████▌             | 9/10 [02:12<00:10, 10.56s/it]\u001b[A\n",
      "100%|██████████████████████████████████████████████████████████████████████████████████████████████████████████████████████████████████████| 10/10 [02:37<00:00, 15.74s/it]\u001b[A\n"
     ]
    },
    {
     "name": "stdout",
     "output_type": "stream",
     "text": [
      "Cleaning up sorted DICOM files...\n"
     ]
    },
    {
     "name": "stderr",
     "output_type": "stream",
     "text": [
      "\n",
      "  0%|                                                                                                                                               | 0/10 [00:00<?, ?it/s]\u001b[A\n",
      " 40%|██████████████████████████████████████████████████████                                                                                 | 4/10 [00:00<00:00, 32.42it/s]\u001b[A\n",
      "100%|██████████████████████████████████████████████████████████████████████████████████████████████████████████████████████████████████████| 10/10 [00:00<00:00, 43.47it/s]\u001b[A\n",
      "100%|██████████| 2314/2314 [00:04<00:00, 521.56it/s]█████████████████████████████████████████████████████████████████████████████████▉ | 920/928 [4:40:54<00:59,  7.38s/it]\n"
     ]
    },
    {
     "name": "stdout",
     "output_type": "stream",
     "text": [
      "Files sorted\n",
      "Cleaning up downloaded DICOM files...\n"
     ]
    },
    {
     "name": "stderr",
     "output_type": "stream",
     "text": [
      "\n",
      "  0%|                                                                                                                                               | 0/10 [00:00<?, ?it/s]\u001b[A\n",
      "100%|██████████████████████████████████████████████████████████████████████████████████████████████████████████████████████████████████████| 10/10 [00:00<00:00, 53.88it/s]\u001b[A\n"
     ]
    },
    {
     "name": "stdout",
     "output_type": "stream",
     "text": [
      "Saving patient data as .npz file...\n",
      "Saving patient .npz files to /data/all/train\n"
     ]
    },
    {
     "name": "stderr",
     "output_type": "stream",
     "text": [
      "\n",
      "  0%|                                                                                                                                               | 0/10 [00:00<?, ?it/s]\u001b[A\n",
      " 10%|█████████████▌                                                                                                                         | 1/10 [00:05<00:52,  5.84s/it]\u001b[A\n",
      " 20%|███████████████████████████                                                                                                            | 2/10 [00:15<01:05,  8.23s/it]\u001b[A\n",
      " 30%|████████████████████████████████████████▌                                                                                              | 3/10 [00:29<01:16, 10.98s/it]\u001b[A\n",
      " 40%|██████████████████████████████████████████████████████                                                                                 | 4/10 [00:38<00:59,  9.95s/it]\u001b[A\n",
      " 50%|███████████████████████████████████████████████████████████████████▌                                                                   | 5/10 [00:58<01:07, 13.59s/it]\u001b[A\n",
      " 60%|█████████████████████████████████████████████████████████████████████████████████                                                      | 6/10 [01:24<01:11, 17.80s/it]\u001b[A\n",
      " 70%|██████████████████████████████████████████████████████████████████████████████████████████████▌                                        | 7/10 [01:52<01:03, 21.32s/it]\u001b[A\n",
      " 80%|████████████████████████████████████████████████████████████████████████████████████████████████████████████                           | 8/10 [02:00<00:33, 16.90s/it]\u001b[A\n",
      " 90%|█████████████████████████████████████████████████████████████████████████████████████████████████████████████████████████▌             | 9/10 [02:07<00:13, 13.73s/it]\u001b[A\n",
      "100%|██████████████████████████████████████████████████████████████████████████████████████████████████████████████████████████████████████| 10/10 [02:13<00:00, 13.37s/it]\u001b[A\n"
     ]
    },
    {
     "name": "stdout",
     "output_type": "stream",
     "text": [
      "Cleaning up sorted DICOM files...\n"
     ]
    },
    {
     "name": "stderr",
     "output_type": "stream",
     "text": [
      "\n",
      "  0%|                                                                                                                                               | 0/10 [00:00<?, ?it/s]\u001b[A\n",
      " 50%|███████████████████████████████████████████████████████████████████▌                                                                   | 5/10 [00:00<00:00, 49.48it/s]\u001b[A\n",
      "100%|██████████████████████████████████████████████████████████████████████████████████████████████████████████████████████████████████████| 10/10 [00:00<00:00, 48.66it/s]\u001b[A\n",
      "100%|██████████████████████████████████████████████████████████████████████████████████████████████████████████████████████████████████| 928/928 [4:43:50<00:00, 18.35s/it]\n"
     ]
    }
   ],
   "source": [
    "import os, shutil\n",
    "import glob\n",
    "download_dir = '/data/temp/gcsfiles/'\n",
    "sorted_dir = '/data/temp/sorted_gcsfiles/'\n",
    "if not os.path.exists(download_dir):\n",
    "    print(\"Creating directory {}\".format(download_dir))\n",
    "    os.makedirs(download_dir)\n",
    "else:\n",
    "    print(\"Directory {} exists\".format(download_dir))\n",
    "\n",
    "if not os.path.exists(sorted_dir):\n",
    "    print(\"Creating directory {}\".format(sorted_dir))\n",
    "    os.makedirs(sorted_dir)\n",
    "else:\n",
    "    print(\"Directory {} exists\".format(sorted_dir))\n",
    "\n",
    "max_patients = 100 #change this later, for testing .npz files etc.   \n",
    "# set start from an index\n",
    "start_patient = 50\n",
    "#wrong, fix it, need to use positions not i\n",
    "for i in tqdm(range(manifest_df[start_patient+1:].shape[0])):\n",
    "    #wrong, fix it, need to use positions not i\n",
    "    url = manifest_df.iloc[i].gcs\n",
    "    download_command = \"gsutil -u {} -m cp -r {} {} >/dev/null 2>&1\".format(myProjectID, url, download_dir)\n",
    "    os.system(download_command)\n",
    "    if (i > 1) and (i % 10 == 0): # got 10 patients\n",
    "       # sort the images\n",
    "       # !python dicomsort/dicomsort.py -u downloaded_cohort_3 cohort_sorted_3/%PatientID/%StudyInstanceUID/%SeriesInstanceUID/%SOPInstanceUID.dcm\n",
    "        sort_command = \"python dicomsort/dicomsort.py -u {} {}/%PatientID/%StudyInstanceUID/%SeriesInstanceUID/%SOPInstanceUID.dcm\".format(download_dir, sorted_dir)\n",
    "        os.system(sort_command)\n",
    "        #todo: remove the download_dir contents\n",
    "        print(\"Cleaning up downloaded DICOM files...\")\n",
    "        files = glob.glob(download_dir + \"/*\")\n",
    "        for i in tqdm(range(len(files))):\n",
    "            if os.path.isdir(files[i]):\n",
    "                shutil.rmtree(files[i])\n",
    "        print(\"Saving patient data as .npz file...\")\n",
    "        patient_data_as_npz_files()\n",
    "        #todo: remove the sorted_dir contents\n",
    "        print(\"Cleaning up sorted DICOM files...\")\n",
    "        files = glob.glob(sorted_dir + \"/*\")\n",
    "        for i in tqdm(range(len(files))):\n",
    "            if os.path.isdir(files[i]):\n",
    "                shutil.rmtree(files[i])"
   ]
  },
  {
   "cell_type": "code",
   "execution_count": 153,
   "id": "bb86f124",
   "metadata": {},
   "outputs": [
    {
     "name": "stdout",
     "output_type": "stream",
     "text": [
      "Saving patient data as .npz file...\n",
      "Saving patient .npz files to /data/all/train\n"
     ]
    },
    {
     "name": "stderr",
     "output_type": "stream",
     "text": [
      " 80%|████████████████████████████████████████████████████████████████████████████████████████████████████████████                           | 8/10 [01:38<00:19,  9.80s/it]"
     ]
    },
    {
     "name": "stdout",
     "output_type": "stream",
     "text": [
      "Error getting DICOM files for patient LIDC-IDRI-0132, skipping\n"
     ]
    },
    {
     "name": "stderr",
     "output_type": "stream",
     "text": [
      " 90%|█████████████████████████████████████████████████████████████████████████████████████████████████████████████████████████▌             | 9/10 [01:45<00:08,  8.79s/it]"
     ]
    },
    {
     "name": "stdout",
     "output_type": "stream",
     "text": [
      "Failed to reduce all groups to <= 4 Annotations.\n",
      "Some nodules may be close and must be grouped manually.\n"
     ]
    },
    {
     "name": "stderr",
     "output_type": "stream",
     "text": [
      "100%|██████████████████████████████████████████████████████████████████████████████████████████████████████████████████████████████████████| 10/10 [01:53<00:00, 11.31s/it]\n"
     ]
    }
   ],
   "source": [
    "# print(\"Saving patient data as .npz file...\")\n",
    "# patient_data_as_npz_files()"
   ]
  },
  {
   "cell_type": "code",
   "execution_count": 154,
   "id": "bbff52fc",
   "metadata": {},
   "outputs": [
    {
     "name": "stdout",
     "output_type": "stream",
     "text": [
      "Cleaning up sorted DICOM files...\n"
     ]
    },
    {
     "name": "stderr",
     "output_type": "stream",
     "text": [
      "100%|██████████████████████████████████████████████████████████████████████████████████████████████████████████████████████████████████████| 10/10 [00:00<00:00, 66.34it/s]\n"
     ]
    }
   ],
   "source": [
    "# print(\"Cleaning up sorted DICOM files...\")\n",
    "# files = glob.glob(sorted_dir + \"/*\")\n",
    "# for i in tqdm(range(len(files))):\n",
    "#     if os.path.isdir(files[i]):\n",
    "#         shutil.rmtree(files[i])"
   ]
  },
  {
   "cell_type": "code",
   "execution_count": 2,
   "id": "f5badaaf",
   "metadata": {},
   "outputs": [],
   "source": [
    "# scan = pl.query(pl.Scan).filter(pl.Scan.patient_id.in_(['LIDC-IDRI-0132']))[0]\n",
    "# nodules_annotation = scan.cluster_annotations()\n",
    "# nodules_annotation\n",
    "# vol = scan.to_volume()"
   ]
  },
  {
   "cell_type": "code",
   "execution_count": 3,
   "id": "53f465b0",
   "metadata": {},
   "outputs": [],
   "source": [
    "# ls /data/temp/sorted_gcsfiles/LIDC-IDRI-0132/*/*/"
   ]
  },
  {
   "cell_type": "code",
   "execution_count": 144,
   "id": "beb750d5",
   "metadata": {},
   "outputs": [
    {
     "name": "stdout",
     "output_type": "stream",
     "text": [
      "\u001b[0m\u001b[01;34mLIDC-IDRI-0132\u001b[0m/  \u001b[01;34mLIDC-IDRI-0135\u001b[0m/  \u001b[01;34mLIDC-IDRI-0138\u001b[0m/  \u001b[01;34mLIDC-IDRI-0142\u001b[0m/\n",
      "\u001b[01;34mLIDC-IDRI-0133\u001b[0m/  \u001b[01;34mLIDC-IDRI-0136\u001b[0m/  \u001b[01;34mLIDC-IDRI-0139\u001b[0m/\n",
      "\u001b[01;34mLIDC-IDRI-0134\u001b[0m/  \u001b[01;34mLIDC-IDRI-0137\u001b[0m/  \u001b[01;34mLIDC-IDRI-0141\u001b[0m/\n"
     ]
    }
   ],
   "source": [
    "ls /data/temp/sorted_gcsfiles/"
   ]
  },
  {
   "cell_type": "code",
   "execution_count": null,
   "id": "1de2a2aa",
   "metadata": {},
   "outputs": [],
   "source": []
  }
 ],
 "metadata": {
  "kernelspec": {
   "display_name": "Python 3 (ipykernel)",
   "language": "python",
   "name": "python3"
  },
  "language_info": {
   "codemirror_mode": {
    "name": "ipython",
    "version": 3
   },
   "file_extension": ".py",
   "mimetype": "text/x-python",
   "name": "python",
   "nbconvert_exporter": "python",
   "pygments_lexer": "ipython3",
   "version": "3.8.10"
  }
 },
 "nbformat": 4,
 "nbformat_minor": 5
}
