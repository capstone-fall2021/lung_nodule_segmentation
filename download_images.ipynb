{
 "cells": [
  {
   "cell_type": "markdown",
   "id": "06296bcd",
   "metadata": {},
   "source": [
    "## Download DICOM images\n",
    "\n",
    "We will download the DICOM images and save them as .npz files\n",
    "\n",
    "A total of 900 patients data (125 GB of DICOM) was downloaded and the final size of the saved .npz files were only 74GB\n",
    "\n",
    "The code loops over 10 patients at a time, downloads their CT images, converts them into .npz and cleans up the directory\n",
    "\n",
    "The data is saved in a new disk (100 GB) mounted into /mnt/disks/data"
   ]
  },
  {
   "cell_type": "code",
   "execution_count": null,
   "id": "5363c766",
   "metadata": {},
   "outputs": [],
   "source": [
    "#### Install the pidicom libraries"
   ]
  },
  {
   "cell_type": "code",
   "execution_count": 1,
   "id": "be871cdf",
   "metadata": {},
   "outputs": [
    {
     "name": "stdout",
     "output_type": "stream",
     "text": [
      "Collecting pydicom\n",
      "  Downloading pydicom-2.2.2-py3-none-any.whl (2.0 MB)\n",
      "\u001b[K     |████████████████████████████████| 2.0 MB 8.3 MB/s eta 0:00:01\n",
      "\u001b[?25hInstalling collected packages: pydicom\n",
      "Successfully installed pydicom-2.2.2\n",
      "\u001b[33mWARNING: Running pip as the 'root' user can result in broken permissions and conflicting behaviour with the system package manager. It is recommended to use a virtual environment instead: https://pip.pypa.io/warnings/venv\u001b[0m\n",
      "Collecting pylidc\n",
      "  Downloading pylidc-0.2.2-py2.py3-none-any.whl (5.6 MB)\n",
      "\u001b[K     |████████████████████████████████| 5.6 MB 6.7 MB/s eta 0:00:01\n",
      "\u001b[?25hCollecting scikit-image>=0.13\n",
      "  Downloading scikit_image-0.18.3-cp38-cp38-manylinux_2_5_x86_64.manylinux1_x86_64.whl (30.2 MB)\n",
      "\u001b[K     |████████████████████████████████| 30.2 MB 29.4 MB/s eta 0:00:01\n",
      "\u001b[?25hRequirement already satisfied: numpy>=1.12.0 in /opt/conda/lib/python3.8/site-packages (from pylidc) (1.21.2)\n",
      "Requirement already satisfied: matplotlib>=2.0.0 in /opt/conda/lib/python3.8/site-packages (from pylidc) (3.4.3)\n",
      "Collecting sqlalchemy>=1.1.5\n",
      "  Downloading SQLAlchemy-1.4.26-cp38-cp38-manylinux_2_5_x86_64.manylinux1_x86_64.manylinux_2_17_x86_64.manylinux2014_x86_64.whl (1.6 MB)\n",
      "\u001b[K     |████████████████████████████████| 1.6 MB 64.2 MB/s eta 0:00:01\n",
      "\u001b[?25hRequirement already satisfied: pydicom>=1.0.0 in /opt/conda/lib/python3.8/site-packages (from pylidc) (2.2.2)\n",
      "Requirement already satisfied: scipy>=0.18.1 in /opt/conda/lib/python3.8/site-packages (from pylidc) (1.6.3)\n",
      "Requirement already satisfied: kiwisolver>=1.0.1 in /opt/conda/lib/python3.8/site-packages (from matplotlib>=2.0.0->pylidc) (1.3.2)\n",
      "Requirement already satisfied: pyparsing>=2.2.1 in /opt/conda/lib/python3.8/site-packages (from matplotlib>=2.0.0->pylidc) (2.4.7)\n",
      "Requirement already satisfied: pillow>=6.2.0 in /opt/conda/lib/python3.8/site-packages (from matplotlib>=2.0.0->pylidc) (8.2.0)\n",
      "Requirement already satisfied: cycler>=0.10 in /opt/conda/lib/python3.8/site-packages (from matplotlib>=2.0.0->pylidc) (0.10.0)\n",
      "Requirement already satisfied: python-dateutil>=2.7 in /opt/conda/lib/python3.8/site-packages (from matplotlib>=2.0.0->pylidc) (2.8.2)\n",
      "Requirement already satisfied: six in /opt/conda/lib/python3.8/site-packages (from cycler>=0.10->matplotlib>=2.0.0->pylidc) (1.16.0)\n",
      "Collecting PyWavelets>=1.1.1\n",
      "  Downloading PyWavelets-1.1.1-cp38-cp38-manylinux1_x86_64.whl (4.4 MB)\n",
      "\u001b[K     |████████████████████████████████| 4.4 MB 63.5 MB/s eta 0:00:01\n",
      "\u001b[?25hCollecting tifffile>=2019.7.26\n",
      "  Downloading tifffile-2021.11.2-py3-none-any.whl (178 kB)\n",
      "\u001b[K     |████████████████████████████████| 178 kB 92.8 MB/s eta 0:00:01\n",
      "\u001b[?25hCollecting imageio>=2.3.0\n",
      "  Downloading imageio-2.10.3-py3-none-any.whl (3.3 MB)\n",
      "\u001b[K     |████████████████████████████████| 3.3 MB 72.3 MB/s eta 0:00:01\n",
      "\u001b[?25hRequirement already satisfied: networkx>=2.0 in /opt/conda/lib/python3.8/site-packages (from scikit-image>=0.13->pylidc) (2.0)\n",
      "Collecting pillow>=6.2.0\n",
      "  Downloading Pillow-8.4.0-cp38-cp38-manylinux_2_17_x86_64.manylinux2014_x86_64.whl (3.1 MB)\n",
      "\u001b[K     |████████████████████████████████| 3.1 MB 54.1 MB/s eta 0:00:01\n",
      "\u001b[?25hRequirement already satisfied: decorator>=4.1.0 in /opt/conda/lib/python3.8/site-packages (from networkx>=2.0->scikit-image>=0.13->pylidc) (5.0.9)\n",
      "Collecting greenlet!=0.4.17\n",
      "  Downloading greenlet-1.1.2-cp38-cp38-manylinux_2_17_x86_64.manylinux2014_x86_64.whl (156 kB)\n",
      "\u001b[K     |████████████████████████████████| 156 kB 92.0 MB/s eta 0:00:01\n",
      "\u001b[?25hInstalling collected packages: pillow, tifffile, PyWavelets, imageio, greenlet, sqlalchemy, scikit-image, pylidc\n",
      "  Attempting uninstall: pillow\n",
      "    Found existing installation: Pillow 8.2.0\n",
      "    Uninstalling Pillow-8.2.0:\n",
      "      Successfully uninstalled Pillow-8.2.0\n",
      "Successfully installed PyWavelets-1.1.1 greenlet-1.1.2 imageio-2.10.3 pillow-8.4.0 pylidc-0.2.2 scikit-image-0.18.3 sqlalchemy-1.4.26 tifffile-2021.11.2\n",
      "\u001b[33mWARNING: Running pip as the 'root' user can result in broken permissions and conflicting behaviour with the system package manager. It is recommended to use a virtual environment instead: https://pip.pypa.io/warnings/venv\u001b[0m\n",
      "Collecting google-cloud-bigquery\n",
      "  Downloading google_cloud_bigquery-2.30.1-py2.py3-none-any.whl (203 kB)\n",
      "\u001b[K     |████████████████████████████████| 203 kB 6.9 MB/s eta 0:00:01\n",
      "\u001b[?25hCollecting proto-plus>=1.10.0\n",
      "  Downloading proto_plus-1.19.7-py3-none-any.whl (45 kB)\n",
      "\u001b[K     |████████████████████████████████| 45 kB 6.1 MB/s  eta 0:00:01\n",
      "\u001b[?25hRequirement already satisfied: grpcio<2.0dev,>=1.38.1 in /opt/conda/lib/python3.8/site-packages (from google-cloud-bigquery) (1.39.0)\n",
      "Collecting google-api-core[grpc]<3.0.0dev,>=1.29.0\n",
      "  Downloading google_api_core-2.2.2-py2.py3-none-any.whl (95 kB)\n",
      "\u001b[K     |████████████████████████████████| 95 kB 8.4 MB/s  eta 0:00:01\n",
      "\u001b[?25hRequirement already satisfied: packaging>=14.3 in /opt/conda/lib/python3.8/site-packages (from google-cloud-bigquery) (21.0)\n",
      "Requirement already satisfied: protobuf>=3.12.0 in /opt/conda/lib/python3.8/site-packages (from google-cloud-bigquery) (3.17.3)\n",
      "Requirement already satisfied: python-dateutil<3.0dev,>=2.7.2 in /opt/conda/lib/python3.8/site-packages (from google-cloud-bigquery) (2.8.2)\n",
      "Requirement already satisfied: requests<3.0.0dev,>=2.18.0 in /opt/conda/lib/python3.8/site-packages (from google-cloud-bigquery) (2.26.0)\n",
      "Collecting google-resumable-media<3.0dev,>=0.6.0\n",
      "  Downloading google_resumable_media-2.1.0-py2.py3-none-any.whl (75 kB)\n",
      "\u001b[K     |████████████████████████████████| 75 kB 7.8 MB/s  eta 0:00:01\n",
      "\u001b[?25hCollecting google-cloud-core<3.0.0dev,>=1.4.1\n",
      "  Downloading google_cloud_core-2.1.0-py2.py3-none-any.whl (27 kB)\n",
      "Requirement already satisfied: google-auth<3.0dev,>=1.25.0 in /opt/conda/lib/python3.8/site-packages (from google-api-core[grpc]<3.0.0dev,>=1.29.0->google-cloud-bigquery) (1.35.0)\n",
      "Requirement already satisfied: setuptools>=40.3.0 in /opt/conda/lib/python3.8/site-packages (from google-api-core[grpc]<3.0.0dev,>=1.29.0->google-cloud-bigquery) (57.4.0)\n",
      "Collecting googleapis-common-protos<2.0dev,>=1.52.0\n",
      "  Downloading googleapis_common_protos-1.53.0-py2.py3-none-any.whl (198 kB)\n",
      "\u001b[K     |████████████████████████████████| 198 kB 71.0 MB/s eta 0:00:01\n",
      "\u001b[?25hCollecting grpcio-status<2.0dev,>=1.33.2\n",
      "  Downloading grpcio_status-1.41.1-py3-none-any.whl (9.2 kB)\n",
      "Requirement already satisfied: six>=1.9.0 in /opt/conda/lib/python3.8/site-packages (from google-auth<3.0dev,>=1.25.0->google-api-core[grpc]<3.0.0dev,>=1.29.0->google-cloud-bigquery) (1.16.0)\n",
      "Requirement already satisfied: rsa<5,>=3.1.4 in /opt/conda/lib/python3.8/site-packages (from google-auth<3.0dev,>=1.25.0->google-api-core[grpc]<3.0.0dev,>=1.29.0->google-cloud-bigquery) (4.7.2)\n",
      "Requirement already satisfied: pyasn1-modules>=0.2.1 in /opt/conda/lib/python3.8/site-packages (from google-auth<3.0dev,>=1.25.0->google-api-core[grpc]<3.0.0dev,>=1.29.0->google-cloud-bigquery) (0.2.8)\n",
      "Requirement already satisfied: cachetools<5.0,>=2.0.0 in /opt/conda/lib/python3.8/site-packages (from google-auth<3.0dev,>=1.25.0->google-api-core[grpc]<3.0.0dev,>=1.29.0->google-cloud-bigquery) (4.2.2)\n",
      "Collecting google-crc32c<2.0dev,>=1.0\n",
      "  Downloading google_crc32c-1.3.0-cp38-cp38-manylinux_2_12_x86_64.manylinux2010_x86_64.whl (37 kB)\n",
      "Collecting grpcio<2.0dev,>=1.38.1\n",
      "  Downloading grpcio-1.41.1-cp38-cp38-manylinux_2_17_x86_64.manylinux2014_x86_64.whl (3.9 MB)\n",
      "\u001b[K     |████████████████████████████████| 3.9 MB 72.0 MB/s eta 0:00:01\n",
      "\u001b[?25hRequirement already satisfied: pyparsing>=2.0.2 in /opt/conda/lib/python3.8/site-packages (from packaging>=14.3->google-cloud-bigquery) (2.4.7)\n",
      "Collecting protobuf>=3.12.0\n",
      "  Downloading protobuf-3.19.1-cp38-cp38-manylinux_2_17_x86_64.manylinux2014_x86_64.whl (1.1 MB)\n",
      "\u001b[K     |████████████████████████████████| 1.1 MB 81.0 MB/s eta 0:00:01\n",
      "\u001b[?25hRequirement already satisfied: pyasn1<0.5.0,>=0.4.6 in /opt/conda/lib/python3.8/site-packages (from pyasn1-modules>=0.2.1->google-auth<3.0dev,>=1.25.0->google-api-core[grpc]<3.0.0dev,>=1.29.0->google-cloud-bigquery) (0.4.8)\n",
      "Requirement already satisfied: urllib3<1.27,>=1.21.1 in /opt/conda/lib/python3.8/site-packages (from requests<3.0.0dev,>=2.18.0->google-cloud-bigquery) (1.26.6)\n",
      "Requirement already satisfied: charset-normalizer~=2.0.0 in /opt/conda/lib/python3.8/site-packages (from requests<3.0.0dev,>=2.18.0->google-cloud-bigquery) (2.0.0)\n",
      "Requirement already satisfied: certifi>=2017.4.17 in /opt/conda/lib/python3.8/site-packages (from requests<3.0.0dev,>=2.18.0->google-cloud-bigquery) (2021.5.30)\n",
      "Requirement already satisfied: idna<4,>=2.5 in /opt/conda/lib/python3.8/site-packages (from requests<3.0.0dev,>=2.18.0->google-cloud-bigquery) (3.1)\n",
      "Installing collected packages: protobuf, grpcio, googleapis-common-protos, grpcio-status, google-crc32c, google-api-core, proto-plus, google-resumable-media, google-cloud-core, google-cloud-bigquery\n",
      "  Attempting uninstall: protobuf\n",
      "    Found existing installation: protobuf 3.17.3\n",
      "    Uninstalling protobuf-3.17.3:\n",
      "      Successfully uninstalled protobuf-3.17.3\n",
      "  Attempting uninstall: grpcio\n",
      "    Found existing installation: grpcio 1.39.0\n",
      "    Uninstalling grpcio-1.39.0:\n",
      "      Successfully uninstalled grpcio-1.39.0\n",
      "Successfully installed google-api-core-2.2.2 google-cloud-bigquery-2.30.1 google-cloud-core-2.1.0 google-crc32c-1.3.0 google-resumable-media-2.1.0 googleapis-common-protos-1.53.0 grpcio-1.41.1 grpcio-status-1.41.1 proto-plus-1.19.7 protobuf-3.19.1\n",
      "\u001b[33mWARNING: Running pip as the 'root' user can result in broken permissions and conflicting behaviour with the system package manager. It is recommended to use a virtual environment instead: https://pip.pypa.io/warnings/venv\u001b[0m\n",
      "Requirement already satisfied: google-auth-oauthlib in /opt/conda/lib/python3.8/site-packages (0.4.6)\n",
      "Requirement already satisfied: requests-oauthlib>=0.7.0 in /opt/conda/lib/python3.8/site-packages (from google-auth-oauthlib) (1.3.0)\n",
      "Requirement already satisfied: google-auth>=1.0.0 in /opt/conda/lib/python3.8/site-packages (from google-auth-oauthlib) (1.35.0)\n",
      "Requirement already satisfied: setuptools>=40.3.0 in /opt/conda/lib/python3.8/site-packages (from google-auth>=1.0.0->google-auth-oauthlib) (57.4.0)\n",
      "Requirement already satisfied: pyasn1-modules>=0.2.1 in /opt/conda/lib/python3.8/site-packages (from google-auth>=1.0.0->google-auth-oauthlib) (0.2.8)\n",
      "Requirement already satisfied: rsa<5,>=3.1.4 in /opt/conda/lib/python3.8/site-packages (from google-auth>=1.0.0->google-auth-oauthlib) (4.7.2)\n",
      "Requirement already satisfied: cachetools<5.0,>=2.0.0 in /opt/conda/lib/python3.8/site-packages (from google-auth>=1.0.0->google-auth-oauthlib) (4.2.2)\n",
      "Requirement already satisfied: six>=1.9.0 in /opt/conda/lib/python3.8/site-packages (from google-auth>=1.0.0->google-auth-oauthlib) (1.16.0)\n",
      "Requirement already satisfied: pyasn1<0.5.0,>=0.4.6 in /opt/conda/lib/python3.8/site-packages (from pyasn1-modules>=0.2.1->google-auth>=1.0.0->google-auth-oauthlib) (0.4.8)\n",
      "Requirement already satisfied: oauthlib>=3.0.0 in /opt/conda/lib/python3.8/site-packages (from requests-oauthlib>=0.7.0->google-auth-oauthlib) (3.1.1)\n",
      "Requirement already satisfied: requests>=2.0.0 in /opt/conda/lib/python3.8/site-packages (from requests-oauthlib>=0.7.0->google-auth-oauthlib) (2.26.0)\n",
      "Requirement already satisfied: charset-normalizer~=2.0.0 in /opt/conda/lib/python3.8/site-packages (from requests>=2.0.0->requests-oauthlib>=0.7.0->google-auth-oauthlib) (2.0.0)\n",
      "Requirement already satisfied: certifi>=2017.4.17 in /opt/conda/lib/python3.8/site-packages (from requests>=2.0.0->requests-oauthlib>=0.7.0->google-auth-oauthlib) (2021.5.30)\n",
      "Requirement already satisfied: urllib3<1.27,>=1.21.1 in /opt/conda/lib/python3.8/site-packages (from requests>=2.0.0->requests-oauthlib>=0.7.0->google-auth-oauthlib) (1.26.6)\n",
      "Requirement already satisfied: idna<4,>=2.5 in /opt/conda/lib/python3.8/site-packages (from requests>=2.0.0->requests-oauthlib>=0.7.0->google-auth-oauthlib) (3.1)\n",
      "\u001b[33mWARNING: Running pip as the 'root' user can result in broken permissions and conflicting behaviour with the system package manager. It is recommended to use a virtual environment instead: https://pip.pypa.io/warnings/venv\u001b[0m\n",
      "Requirement already satisfied: google-cloud-bigquery[bqstorage,pandas] in /opt/conda/lib/python3.8/site-packages (2.30.1)\n",
      "Requirement already satisfied: proto-plus>=1.10.0 in /opt/conda/lib/python3.8/site-packages (from google-cloud-bigquery[bqstorage,pandas]) (1.19.7)\n",
      "Requirement already satisfied: python-dateutil<3.0dev,>=2.7.2 in /opt/conda/lib/python3.8/site-packages (from google-cloud-bigquery[bqstorage,pandas]) (2.8.2)\n",
      "Requirement already satisfied: requests<3.0.0dev,>=2.18.0 in /opt/conda/lib/python3.8/site-packages (from google-cloud-bigquery[bqstorage,pandas]) (2.26.0)\n",
      "Requirement already satisfied: google-cloud-core<3.0.0dev,>=1.4.1 in /opt/conda/lib/python3.8/site-packages (from google-cloud-bigquery[bqstorage,pandas]) (2.1.0)\n",
      "Requirement already satisfied: grpcio<2.0dev,>=1.38.1 in /opt/conda/lib/python3.8/site-packages (from google-cloud-bigquery[bqstorage,pandas]) (1.41.1)\n",
      "Requirement already satisfied: protobuf>=3.12.0 in /opt/conda/lib/python3.8/site-packages (from google-cloud-bigquery[bqstorage,pandas]) (3.19.1)\n",
      "Requirement already satisfied: google-resumable-media<3.0dev,>=0.6.0 in /opt/conda/lib/python3.8/site-packages (from google-cloud-bigquery[bqstorage,pandas]) (2.1.0)\n",
      "Requirement already satisfied: google-api-core[grpc]<3.0.0dev,>=1.29.0 in /opt/conda/lib/python3.8/site-packages (from google-cloud-bigquery[bqstorage,pandas]) (2.2.2)\n",
      "Requirement already satisfied: packaging>=14.3 in /opt/conda/lib/python3.8/site-packages (from google-cloud-bigquery[bqstorage,pandas]) (21.0)\n",
      "Collecting pyarrow<7.0dev,>=3.0.0\n",
      "  Downloading pyarrow-6.0.0-cp38-cp38-manylinux_2_17_x86_64.manylinux2014_x86_64.whl (25.6 MB)\n",
      "\u001b[K     |████████████████████████████████| 25.6 MB 7.4 MB/s eta 0:00:01\n",
      "\u001b[?25hCollecting pandas>=0.24.2\n",
      "  Downloading pandas-1.3.4-cp38-cp38-manylinux_2_17_x86_64.manylinux2014_x86_64.whl (11.5 MB)\n",
      "\u001b[K     |████████████████████████████████| 11.5 MB 67.9 MB/s eta 0:00:01\n",
      "\u001b[?25hCollecting google-cloud-bigquery-storage<3.0.0dev,>=2.0.0\n",
      "  Downloading google_cloud_bigquery_storage-2.9.1-py2.py3-none-any.whl (170 kB)\n",
      "\u001b[K     |████████████████████████████████| 170 kB 74.7 MB/s eta 0:00:01\n",
      "\u001b[?25hRequirement already satisfied: googleapis-common-protos<2.0dev,>=1.52.0 in /opt/conda/lib/python3.8/site-packages (from google-api-core[grpc]<3.0.0dev,>=1.29.0->google-cloud-bigquery[bqstorage,pandas]) (1.53.0)\n",
      "Requirement already satisfied: google-auth<3.0dev,>=1.25.0 in /opt/conda/lib/python3.8/site-packages (from google-api-core[grpc]<3.0.0dev,>=1.29.0->google-cloud-bigquery[bqstorage,pandas]) (1.35.0)\n",
      "Requirement already satisfied: setuptools>=40.3.0 in /opt/conda/lib/python3.8/site-packages (from google-api-core[grpc]<3.0.0dev,>=1.29.0->google-cloud-bigquery[bqstorage,pandas]) (57.4.0)\n",
      "Requirement already satisfied: grpcio-status<2.0dev,>=1.33.2 in /opt/conda/lib/python3.8/site-packages (from google-api-core[grpc]<3.0.0dev,>=1.29.0->google-cloud-bigquery[bqstorage,pandas]) (1.41.1)\n",
      "Requirement already satisfied: six>=1.9.0 in /opt/conda/lib/python3.8/site-packages (from google-auth<3.0dev,>=1.25.0->google-api-core[grpc]<3.0.0dev,>=1.29.0->google-cloud-bigquery[bqstorage,pandas]) (1.16.0)\n",
      "Requirement already satisfied: rsa<5,>=3.1.4 in /opt/conda/lib/python3.8/site-packages (from google-auth<3.0dev,>=1.25.0->google-api-core[grpc]<3.0.0dev,>=1.29.0->google-cloud-bigquery[bqstorage,pandas]) (4.7.2)\n",
      "Requirement already satisfied: cachetools<5.0,>=2.0.0 in /opt/conda/lib/python3.8/site-packages (from google-auth<3.0dev,>=1.25.0->google-api-core[grpc]<3.0.0dev,>=1.29.0->google-cloud-bigquery[bqstorage,pandas]) (4.2.2)\n",
      "Requirement already satisfied: pyasn1-modules>=0.2.1 in /opt/conda/lib/python3.8/site-packages (from google-auth<3.0dev,>=1.25.0->google-api-core[grpc]<3.0.0dev,>=1.29.0->google-cloud-bigquery[bqstorage,pandas]) (0.2.8)\n",
      "Collecting libcst>=0.2.5\n",
      "  Downloading libcst-0.3.21-py3-none-any.whl (514 kB)\n",
      "\u001b[K     |████████████████████████████████| 514 kB 102.1 MB/s eta 0:00:01\n",
      "\u001b[?25hRequirement already satisfied: google-crc32c<2.0dev,>=1.0 in /opt/conda/lib/python3.8/site-packages (from google-resumable-media<3.0dev,>=0.6.0->google-cloud-bigquery[bqstorage,pandas]) (1.3.0)\n",
      "Collecting typing-inspect>=0.4.0\n",
      "  Downloading typing_inspect-0.7.1-py3-none-any.whl (8.4 kB)\n",
      "Requirement already satisfied: pyyaml>=5.2 in /opt/conda/lib/python3.8/site-packages (from libcst>=0.2.5->google-cloud-bigquery-storage<3.0.0dev,>=2.0.0->google-cloud-bigquery[bqstorage,pandas]) (5.4.1)\n",
      "Requirement already satisfied: typing-extensions>=3.7.4.2 in /opt/conda/lib/python3.8/site-packages (from libcst>=0.2.5->google-cloud-bigquery-storage<3.0.0dev,>=2.0.0->google-cloud-bigquery[bqstorage,pandas]) (3.10.0.0)\n",
      "Requirement already satisfied: pyparsing>=2.0.2 in /opt/conda/lib/python3.8/site-packages (from packaging>=14.3->google-cloud-bigquery[bqstorage,pandas]) (2.4.7)\n",
      "Requirement already satisfied: pytz>=2017.3 in /opt/conda/lib/python3.8/site-packages (from pandas>=0.24.2->google-cloud-bigquery[bqstorage,pandas]) (2021.1)\n",
      "Requirement already satisfied: numpy>=1.17.3 in /opt/conda/lib/python3.8/site-packages (from pandas>=0.24.2->google-cloud-bigquery[bqstorage,pandas]) (1.21.2)\n",
      "Requirement already satisfied: pyasn1<0.5.0,>=0.4.6 in /opt/conda/lib/python3.8/site-packages (from pyasn1-modules>=0.2.1->google-auth<3.0dev,>=1.25.0->google-api-core[grpc]<3.0.0dev,>=1.29.0->google-cloud-bigquery[bqstorage,pandas]) (0.4.8)\n",
      "Requirement already satisfied: idna<4,>=2.5 in /opt/conda/lib/python3.8/site-packages (from requests<3.0.0dev,>=2.18.0->google-cloud-bigquery[bqstorage,pandas]) (3.1)\n",
      "Requirement already satisfied: charset-normalizer~=2.0.0 in /opt/conda/lib/python3.8/site-packages (from requests<3.0.0dev,>=2.18.0->google-cloud-bigquery[bqstorage,pandas]) (2.0.0)\n",
      "Requirement already satisfied: urllib3<1.27,>=1.21.1 in /opt/conda/lib/python3.8/site-packages (from requests<3.0.0dev,>=2.18.0->google-cloud-bigquery[bqstorage,pandas]) (1.26.6)\n",
      "Requirement already satisfied: certifi>=2017.4.17 in /opt/conda/lib/python3.8/site-packages (from requests<3.0.0dev,>=2.18.0->google-cloud-bigquery[bqstorage,pandas]) (2021.5.30)\n",
      "Collecting mypy-extensions>=0.3.0\n",
      "  Downloading mypy_extensions-0.4.3-py2.py3-none-any.whl (4.5 kB)\n",
      "Installing collected packages: mypy-extensions, typing-inspect, libcst, pyarrow, pandas, google-cloud-bigquery-storage\n",
      "Successfully installed google-cloud-bigquery-storage-2.9.1 libcst-0.3.21 mypy-extensions-0.4.3 pandas-1.3.4 pyarrow-6.0.0 typing-inspect-0.7.1\n",
      "\u001b[33mWARNING: Running pip as the 'root' user can result in broken permissions and conflicting behaviour with the system package manager. It is recommended to use a virtual environment instead: https://pip.pypa.io/warnings/venv\u001b[0m\n"
     ]
    }
   ],
   "source": [
    "#!git clone https://github.com/pieper/dicomsort.git\n",
    "!pip install pydicom\n",
    "!pip install pylidc\n",
    "!pip install google-cloud-bigquery\n",
    "!pip install --upgrade google-auth-oauthlib\n",
    "!pip install --upgrade 'google-cloud-bigquery[bqstorage,pandas]'\n",
    "#!python dicomsort/dicomsort.py --help"
   ]
  },
  {
   "cell_type": "code",
   "execution_count": 1,
   "id": "10627698",
   "metadata": {},
   "outputs": [],
   "source": [
    "%load_ext google.cloud.bigquery"
   ]
  },
  {
   "cell_type": "code",
   "execution_count": 2,
   "id": "5fd2a2af",
   "metadata": {},
   "outputs": [
    {
     "name": "stdout",
     "output_type": "stream",
     "text": [
      "fatal: destination path 'dicomsort' already exists and is not an empty directory.\n"
     ]
    }
   ],
   "source": [
    "!git clone https://github.com/pieper/dicomsort.git"
   ]
  },
  {
   "cell_type": "code",
   "execution_count": 3,
   "id": "335feb70",
   "metadata": {},
   "outputs": [],
   "source": [
    "import pylidc as pl\n",
    "from pylidc.utils import consensus\n",
    "import pydicom as dicom\n",
    "from skimage.measure import find_contours\n",
    "import numpy as np\n",
    "import matplotlib.pyplot as plt"
   ]
  },
  {
   "cell_type": "code",
   "execution_count": 4,
   "id": "8eb2bf17",
   "metadata": {},
   "outputs": [
    {
     "data": {
      "text/plain": [
       "'1.3.6.1.4.1.14519.5.2.1.6279.6001.303241414168367763244410429787'"
      ]
     },
     "execution_count": 4,
     "metadata": {},
     "output_type": "execute_result"
    }
   ],
   "source": [
    "pl.query(pl.Scan).count()\n",
    "pid = 'LIDC-IDRI-0069'#'LIDC-IDRI-0001'\n",
    "scan = pl.query(pl.Scan).filter(pl.Scan.patient_id == pid).first()\n",
    "scan.study_instance_uid"
   ]
  },
  {
   "cell_type": "code",
   "execution_count": null,
   "id": "4b41d97f",
   "metadata": {},
   "outputs": [],
   "source": []
  },
  {
   "cell_type": "code",
   "execution_count": 5,
   "id": "095e0724",
   "metadata": {},
   "outputs": [
    {
     "name": "stdout",
     "output_type": "stream",
     "text": [
      "Please visit this URL to authorize this application: https://accounts.google.com/o/oauth2/auth?response_type=code&client_id=354066013909-il5lh54dbass54iv45m7thff0uuefjar.apps.googleusercontent.com&redirect_uri=urn%3Aietf%3Awg%3Aoauth%3A2.0%3Aoob&scope=https%3A%2F%2Fwww.googleapis.com%2Fauth%2Fbigquery&state=JybFkpt3tA5gAurrY5Bkly1MoU46VF&prompt=consent&access_type=offline\n"
     ]
    },
    {
     "name": "stdin",
     "output_type": "stream",
     "text": [
      "Enter the authorization code:  4/1AX4XfWiozFdsiX4rrkiyzJcWrYfBdpFkmAY-nm4fbBk4qGBDXXwLyjWsbr4\n"
     ]
    }
   ],
   "source": [
    "from google_auth_oauthlib import flow\n",
    "\n",
    "# TODO: Uncomment the line below to set the `launch_browser` variable.\n",
    "launch_browser = False\n",
    "#\n",
    "# The `launch_browser` boolean variable indicates if a local server is used\n",
    "# as the callback URL in the auth flow. A value of `True` is recommended,\n",
    "# but a local server does not work if accessing the application remotely,\n",
    "# such as over SSH or from a remote Jupyter notebook.\n",
    "\n",
    "appflow = flow.InstalledAppFlow.from_client_secrets_file(\n",
    "    \"client_secret_desktop.json\", scopes=[\"https://www.googleapis.com/auth/bigquery\"]\n",
    ")\n",
    "\n",
    "if launch_browser:\n",
    "    appflow.run_local_server()\n",
    "else:\n",
    "    appflow.run_console()\n",
    "\n",
    "credentials = appflow.credentials"
   ]
  },
  {
   "cell_type": "code",
   "execution_count": 5,
   "id": "2c896630",
   "metadata": {},
   "outputs": [],
   "source": []
  },
  {
   "cell_type": "code",
   "execution_count": 6,
   "id": "8748db1a",
   "metadata": {},
   "outputs": [],
   "source": [
    "from google.cloud.bigquery import magics\n",
    "magics.context.credentials = credentials"
   ]
  },
  {
   "cell_type": "code",
   "execution_count": 8,
   "id": "6670ee9a",
   "metadata": {},
   "outputs": [],
   "source": [
    "myProjectID = \"idc-external-012\" #\"positive-sector-330514\" #\"idc-external-012\""
   ]
  },
  {
   "cell_type": "code",
   "execution_count": 9,
   "id": "bd9358e9",
   "metadata": {},
   "outputs": [
    {
     "name": "stderr",
     "output_type": "stream",
     "text": [
      "Query complete after 0.03s: 100%|█████████████████████████████████████████████████████████████████████████████████████████| 15/15 [00:00<00:00, 8192.00query/s]\n",
      "Downloading: 100%|██████████████████████████████████████████████████████████████████████████████████████████████████████| 1018/1018 [00:01<00:00, 628.82rows/s]\n"
     ]
    }
   ],
   "source": [
    "%%bigquery CT_series --project=$myProjectID \n",
    "\n",
    "WITH\n",
    "  all_lidc_ct_series AS (\n",
    "  SELECT\n",
    "    DISTINCT(SeriesInstanceUID),\n",
    "    StudyInstanceUID,  \n",
    "    PatientID,\n",
    "    SliceThickness,\n",
    "    ARRAY_TO_STRING(PixelSpacing,\"/\") as pixelspa \n",
    "  FROM\n",
    "    `canceridc-data.idc_views.dicom_all`\n",
    "  WHERE\n",
    "    Modality = \"CT\"\n",
    "    AND collection_id = \"lidc_idri\")\n",
    "SELECT PatientID,SliceThickness,pixelspa,StudyInstanceUID,SeriesInstanceUID FROM\n",
    "  all_lidc_ct_series\n",
    "ORDER BY\n",
    "  PatientID"
   ]
  },
  {
   "cell_type": "code",
   "execution_count": 10,
   "id": "bb61a70a",
   "metadata": {},
   "outputs": [
    {
     "name": "stdout",
     "output_type": "stream",
     "text": [
      "Choosing patients with slice thickness > 1.0\n",
      "Total patients is 1010 and chosen patients are 971\n"
     ]
    }
   ],
   "source": [
    "total_patients = len(np.unique(CT_series['PatientID']))\n",
    "chosen_patients = len(np.unique(CT_series[(CT_series[\"SliceThickness\"].astype(float)>=1.0)]['PatientID']))\n",
    "print(\"Choosing patients with slice thickness > 1.0\")\n",
    "print(\"Total patients is {} and chosen patients are {}\".format(total_patients, chosen_patients))"
   ]
  },
  {
   "cell_type": "code",
   "execution_count": 11,
   "id": "c60ae448",
   "metadata": {},
   "outputs": [
    {
     "name": "stdout",
     "output_type": "stream",
     "text": [
      "Shape of the raw dataset is (979, 5)\n"
     ]
    }
   ],
   "source": [
    "import pandas as pd\n",
    "# s_1,s_2,s_3 = 5,5,5\n",
    "# ct_series_1 = CT_series[CT_series[\"SliceThickness\"].astype(float)==1.0]\n",
    "# ct_series_2 = CT_series[CT_series[\"SliceThickness\"].astype(float)==2.0]\n",
    "# ct_series_3 = CT_series[CT_series[\"SliceThickness\"].astype(float)==3.0]\n",
    "# ct_series_HR = pd.concat([ct_series_1[:s_1],ct_series_2[:s_2],ct_series_3[:s_3]])\n",
    "ct_series_HR = CT_series[(CT_series[\"SliceThickness\"].astype(float)>=1.0)]\n",
    "print(\"Shape of the raw dataset is {}\".format(ct_series_HR.shape))"
   ]
  },
  {
   "cell_type": "code",
   "execution_count": 12,
   "id": "2669695b",
   "metadata": {},
   "outputs": [],
   "source": [
    "to_download = []\n",
    "base_gs_uri = 'gs://idc-tcia-lidc-idri/dicom/'\n",
    "\n",
    "for i in range(ct_series_HR.shape[0]):\n",
    "    to_download.append(base_gs_uri + ct_series_HR.iloc[i]['StudyInstanceUID'] + '/' + ct_series_HR.iloc[i]['SeriesInstanceUID'])\n",
    "\n",
    "manifest_df = pd.DataFrame({\"gcs\":to_download},columns=[\"gcs\"])"
   ]
  },
  {
   "cell_type": "code",
   "execution_count": 13,
   "id": "e2f9395e",
   "metadata": {
    "collapsed": true,
    "jupyter": {
     "outputs_hidden": true
    }
   },
   "outputs": [
    {
     "name": "stdout",
     "output_type": "stream",
     "text": [
      "gs://idc-tcia-lidc-idri/dicom/1.3.6.1.4.1.14519.5.2.1.6279.6001.298806137288633453246975630178/1.3.6.1.4.1.14519.5.2.1.6279.6001.179049373636438705059720603192\n",
      "gs://idc-tcia-lidc-idri/dicom/1.3.6.1.4.1.14519.5.2.1.6279.6001.490157381160200744295382098329/1.3.6.1.4.1.14519.5.2.1.6279.6001.619372068417051974713149104919\n",
      "gs://idc-tcia-lidc-idri/dicom/1.3.6.1.4.1.14519.5.2.1.6279.6001.101370605276577556143013894866/1.3.6.1.4.1.14519.5.2.1.6279.6001.170706757615202213033480003264\n",
      "gs://idc-tcia-lidc-idri/dicom/1.3.6.1.4.1.14519.5.2.1.6279.6001.191425307197546732281885591780/1.3.6.1.4.1.14519.5.2.1.6279.6001.323541312620128092852212458228\n",
      "gs://idc-tcia-lidc-idri/dicom/1.3.6.1.4.1.14519.5.2.1.6279.6001.190188259083742759886805142125/1.3.6.1.4.1.14519.5.2.1.6279.6001.129007566048223160327836686225\n",
      "gs://idc-tcia-lidc-idri/dicom/1.3.6.1.4.1.14519.5.2.1.6279.6001.324680252006411183918098592500/1.3.6.1.4.1.14519.5.2.1.6279.6001.132817748896065918417924920957\n",
      "gs://idc-tcia-lidc-idri/dicom/1.3.6.1.4.1.14519.5.2.1.6279.6001.280315210397549164238230581781/1.3.6.1.4.1.14519.5.2.1.6279.6001.272348349298439120568330857680\n",
      "gs://idc-tcia-lidc-idri/dicom/1.3.6.1.4.1.14519.5.2.1.6279.6001.185810436275168701789786930141/1.3.6.1.4.1.14519.5.2.1.6279.6001.774060103415303828812229821954\n",
      "gs://idc-tcia-lidc-idri/dicom/1.3.6.1.4.1.14519.5.2.1.6279.6001.225213110794629789874295007045/1.3.6.1.4.1.14519.5.2.1.6279.6001.286061375572911414226912429210\n",
      "gs://idc-tcia-lidc-idri/dicom/1.3.6.1.4.1.14519.5.2.1.6279.6001.303099231937480740934110243375/1.3.6.1.4.1.14519.5.2.1.6279.6001.416701701108520592702405866796\n"
     ]
    }
   ],
   "source": [
    "manifest_df.to_csv(\"gcs_paths_all.txt\",header=False, index=False)\n",
    "!head gcs_paths_all.txt"
   ]
  },
  {
   "cell_type": "code",
   "execution_count": 14,
   "id": "1c82713a",
   "metadata": {
    "collapsed": true,
    "jupyter": {
     "outputs_hidden": true
    }
   },
   "outputs": [
    {
     "name": "stdout",
     "output_type": "stream",
     "text": [
      "Collecting gsutil\n",
      "  Downloading gsutil-5.4.tar.gz (2.9 MB)\n",
      "\u001b[K     |████████████████████████████████| 2.9 MB 8.1 MB/s eta 0:00:01\n",
      "\u001b[?25hCollecting argcomplete>=1.9.4\n",
      "  Downloading argcomplete-1.12.3-py2.py3-none-any.whl (38 kB)\n",
      "Collecting crcmod>=1.7\n",
      "  Downloading crcmod-1.7.tar.gz (89 kB)\n",
      "\u001b[K     |████████████████████████████████| 89 kB 15.2 MB/s eta 0:00:01\n",
      "\u001b[?25hCollecting fasteners>=0.14.1\n",
      "  Downloading fasteners-0.16.3-py2.py3-none-any.whl (28 kB)\n",
      "Collecting gcs-oauth2-boto-plugin>=3.0\n",
      "  Downloading gcs-oauth2-boto-plugin-3.0.tar.gz (20 kB)\n",
      "Collecting google-apitools>=0.5.32\n",
      "  Downloading google_apitools-0.5.32-py3-none-any.whl (135 kB)\n",
      "\u001b[K     |████████████████████████████████| 135 kB 64.9 MB/s eta 0:00:01\n",
      "\u001b[?25hCollecting httplib2>=0.18\n",
      "  Downloading httplib2-0.20.2-py3-none-any.whl (96 kB)\n",
      "\u001b[K     |████████████████████████████████| 96 kB 9.9 MB/s  eta 0:00:01\n",
      "\u001b[?25hCollecting google-reauth>=0.1.0\n",
      "  Downloading google_reauth-0.1.1-py2.py3-none-any.whl (17 kB)\n",
      "Collecting monotonic>=1.4\n",
      "  Downloading monotonic-1.6-py2.py3-none-any.whl (8.2 kB)\n",
      "Requirement already satisfied: pyOpenSSL>=0.13 in /opt/conda/lib/python3.8/site-packages (from gsutil) (20.0.1)\n",
      "Collecting retry_decorator>=1.0.0\n",
      "  Downloading retry_decorator-1.1.1.tar.gz (3.9 kB)\n",
      "Requirement already satisfied: six>=1.12.0 in /opt/conda/lib/python3.8/site-packages (from gsutil) (1.16.0)\n",
      "Requirement already satisfied: rsa==4.7.2 in /opt/conda/lib/python3.8/site-packages (from gcs-oauth2-boto-plugin>=3.0->gsutil) (4.7.2)\n",
      "Collecting boto>=2.29.1\n",
      "  Downloading boto-2.49.0-py2.py3-none-any.whl (1.4 MB)\n",
      "\u001b[K     |████████████████████████████████| 1.4 MB 59.4 MB/s eta 0:00:01\n",
      "\u001b[?25hCollecting oauth2client>=2.2.0\n",
      "  Downloading oauth2client-4.1.3-py2.py3-none-any.whl (98 kB)\n",
      "\u001b[K     |████████████████████████████████| 98 kB 13.3 MB/s  eta 0:00:01\n",
      "\u001b[?25hRequirement already satisfied: pyasn1>=0.1.3 in /opt/conda/lib/python3.8/site-packages (from rsa==4.7.2->gcs-oauth2-boto-plugin>=3.0->gsutil) (0.4.8)\n",
      "Collecting pyu2f\n",
      "  Downloading pyu2f-0.1.5.tar.gz (27 kB)\n",
      "Requirement already satisfied: pyparsing!=3.0.0,!=3.0.1,!=3.0.2,!=3.0.3,<4,>=2.4.2 in /opt/conda/lib/python3.8/site-packages (from httplib2>=0.18->gsutil) (2.4.7)\n",
      "Requirement already satisfied: pyasn1-modules>=0.0.5 in /opt/conda/lib/python3.8/site-packages (from oauth2client>=2.2.0->gcs-oauth2-boto-plugin>=3.0->gsutil) (0.2.8)\n",
      "Requirement already satisfied: cryptography>=3.2 in /opt/conda/lib/python3.8/site-packages (from pyOpenSSL>=0.13->gsutil) (3.4.7)\n",
      "Requirement already satisfied: cffi>=1.12 in /opt/conda/lib/python3.8/site-packages (from cryptography>=3.2->pyOpenSSL>=0.13->gsutil) (1.14.6)\n",
      "Requirement already satisfied: pycparser in /opt/conda/lib/python3.8/site-packages (from cffi>=1.12->cryptography>=3.2->pyOpenSSL>=0.13->gsutil) (2.20)\n",
      "Building wheels for collected packages: gsutil, crcmod, gcs-oauth2-boto-plugin, retry-decorator, pyu2f\n",
      "  Building wheel for gsutil (setup.py) ... \u001b[?25ldone\n",
      "\u001b[?25h  Created wheel for gsutil: filename=gsutil-5.4-py3-none-any.whl size=3715191 sha256=8fa47c2ef6d11206648164896f7ae63bf005c98af3e75d87880601139862f86e\n",
      "  Stored in directory: /root/.cache/pip/wheels/dc/7c/63/8cf44cb0431ae369e2c158cbbefa036b38bfa94bd707ab653e\n",
      "  Building wheel for crcmod (setup.py) ... \u001b[?25ldone\n",
      "\u001b[?25h  Created wheel for crcmod: filename=crcmod-1.7-cp38-cp38-linux_x86_64.whl size=35920 sha256=37dcfcb9abf1c756fdad136468852da7629c5c5ffe824a1d77057b571377d7ff\n",
      "  Stored in directory: /root/.cache/pip/wheels/ca/5a/02/f3acf982a026f3319fb3e798a8dca2d48fafee7761788562e9\n",
      "  Building wheel for gcs-oauth2-boto-plugin (setup.py) ... \u001b[?25ldone\n",
      "\u001b[?25h  Created wheel for gcs-oauth2-boto-plugin: filename=gcs_oauth2_boto_plugin-3.0-py3-none-any.whl size=23220 sha256=2e4e449d4fa350518a506924e06a0763e0ee303880dd0d85c0f76404ba04ef1f\n",
      "  Stored in directory: /root/.cache/pip/wheels/c2/ff/00/10b85e9e1b43efc461153dca75aa47e4640ef41d291b3666a1\n",
      "  Building wheel for retry-decorator (setup.py) ... \u001b[?25ldone\n",
      "\u001b[?25h  Created wheel for retry-decorator: filename=retry_decorator-1.1.1-py2.py3-none-any.whl size=3656 sha256=1306a6b921cd0f7501b97705dc239704744c8d6c1b7a4cb0f9d9dddd676a65e0\n",
      "  Stored in directory: /root/.cache/pip/wheels/1e/bb/cb/5d7a05561d7ec60b8c0dc65f156a33909a3eb5c56340959fa9\n",
      "  Building wheel for pyu2f (setup.py) ... \u001b[?25ldone\n",
      "\u001b[?25h  Created wheel for pyu2f: filename=pyu2f-0.1.5-py3-none-any.whl size=39402 sha256=99fdfa840a29d4539e4687a6fc09eec529521315605d6ec41aaa0edbce20e714\n",
      "  Stored in directory: /root/.cache/pip/wheels/8d/38/8f/378b4491d760a176f261d56310fcb051e53090a894534acbf0\n",
      "Successfully built gsutil crcmod gcs-oauth2-boto-plugin retry-decorator pyu2f\n",
      "Installing collected packages: pyu2f, httplib2, retry-decorator, oauth2client, google-reauth, fasteners, boto, monotonic, google-apitools, gcs-oauth2-boto-plugin, crcmod, argcomplete, gsutil\n",
      "Successfully installed argcomplete-1.12.3 boto-2.49.0 crcmod-1.7 fasteners-0.16.3 gcs-oauth2-boto-plugin-3.0 google-apitools-0.5.32 google-reauth-0.1.1 gsutil-5.4 httplib2-0.20.2 monotonic-1.6 oauth2client-4.1.3 pyu2f-0.1.5 retry-decorator-1.1.1\n",
      "\u001b[33mWARNING: Running pip as the 'root' user can result in broken permissions and conflicting behaviour with the system package manager. It is recommended to use a virtual environment instead: https://pip.pypa.io/warnings/venv\u001b[0m\n"
     ]
    }
   ],
   "source": [
    "!pip install gsutil"
   ]
  },
  {
   "cell_type": "code",
   "execution_count": 89,
   "id": "be94b9f5",
   "metadata": {},
   "outputs": [],
   "source": [
    "root_dir = '/rawdata/all/train'"
   ]
  },
  {
   "cell_type": "code",
   "execution_count": 13,
   "id": "4bcf7719",
   "metadata": {},
   "outputs": [],
   "source": [
    "!rm -rf data/temp/gcsfiles/\n",
    "!rm -rf data/temp/sorted_gcsfiles/"
   ]
  },
  {
   "cell_type": "code",
   "execution_count": 76,
   "id": "002ddbe7",
   "metadata": {},
   "outputs": [],
   "source": [
    "import os\n",
    "from tqdm import tqdm\n",
    "# this directory will be created in the downloader but never deletedn entirely, only contents would be cleared\n",
    "data_folder = '/rawdata/temp/sorted_gcsfiles/'"
   ]
  },
  {
   "cell_type": "code",
   "execution_count": 21,
   "id": "5fd303a6",
   "metadata": {
    "collapsed": true,
    "jupyter": {
     "outputs_hidden": true
    }
   },
   "outputs": [
    {
     "ename": "FileNotFoundError",
     "evalue": "[Errno 2] No such file or directory: 'data/temp/sorted_gcsfiles/'",
     "output_type": "error",
     "traceback": [
      "\u001b[0;31m---------------------------------------------------------------------------\u001b[0m",
      "\u001b[0;31mFileNotFoundError\u001b[0m                         Traceback (most recent call last)",
      "\u001b[0;32m<ipython-input-21-16446d9a4e3c>\u001b[0m in \u001b[0;36m<module>\u001b[0;34m\u001b[0m\n\u001b[0;32m----> 1\u001b[0;31m \u001b[0mpatient_list\u001b[0m \u001b[0;34m=\u001b[0m \u001b[0mos\u001b[0m\u001b[0;34m.\u001b[0m\u001b[0mlistdir\u001b[0m\u001b[0;34m(\u001b[0m\u001b[0mdata_folder\u001b[0m\u001b[0;34m)\u001b[0m\u001b[0;34m\u001b[0m\u001b[0;34m\u001b[0m\u001b[0m\n\u001b[0m",
      "\u001b[0;31mFileNotFoundError\u001b[0m: [Errno 2] No such file or directory: 'data/temp/sorted_gcsfiles/'"
     ]
    }
   ],
   "source": [
    "patient_list = os.listdir(data_folder)"
   ]
  },
  {
   "cell_type": "code",
   "execution_count": 71,
   "id": "03063095",
   "metadata": {},
   "outputs": [],
   "source": [
    "class RedirectStdStreams(object):\n",
    "    def __init__(self, stdout=None, stderr=None):\n",
    "        self._stdout = stdout or sys.stdout\n",
    "        self._stderr = stderr or sys.stderr\n",
    "\n",
    "    def __enter__(self):\n",
    "        self.old_stdout, self.old_stderr = sys.stdout, sys.stderr\n",
    "        self.old_stdout.flush(); self.old_stderr.flush()\n",
    "        sys.stdout, sys.stderr = self._stdout, self._stderr\n",
    "\n",
    "    def __exit__(self, exc_type, exc_value, traceback):\n",
    "        self._stdout.flush(); self._stderr.flush()\n",
    "        sys.stdout = self.old_stdout\n",
    "        sys.stderr = self.old_stderr"
   ]
  },
  {
   "cell_type": "code",
   "execution_count": 118,
   "id": "b818f839",
   "metadata": {},
   "outputs": [],
   "source": [
    "from PIL import Image\n",
    "import contextlib\n",
    "import os\n",
    "import imageio\n",
    "from __future__ import print_function\n",
    "import sys\n",
    "from contextlib import redirect_stdout, redirect_stderr\n",
    "\n",
    "devnull = open(os.devnull, 'w')\n",
    "\n",
    "def save_patient_images_and_masks(patient_id, root_dir='/rawdata/all/train'):\n",
    "    scan = pl.query(pl.Scan).filter(pl.Scan.patient_id.in_([patient_id]))[0]\n",
    "    nodules_annotation = scan.cluster_annotations()\n",
    "    with contextlib.redirect_stdout(None):\n",
    "        vol = scan.to_volume()\n",
    "        \n",
    "    cmask_CT = []\n",
    "    cbbox_CT = []\n",
    "    masks_CT = []\n",
    "    for nodule_idx, nodule in enumerate(nodules_annotation):\n",
    "        cmask, cbbox, masks = consensus(nodule)\n",
    "        cmask_CT.append(cmask)\n",
    "        cbbox_CT.append(cbbox)\n",
    "        masks_CT.append(masks)\n",
    "\n",
    "    CT_mask = np.zeros_like(vol)    \n",
    "    nodule_num = len(cmask_CT)\n",
    "\n",
    "    for i in range(nodule_num):\n",
    "        cmask = cmask_CT[i]\n",
    "        cbbox = cbbox_CT[i]\n",
    "        masks = masks_CT[i]    \n",
    "        CT_mask[cbbox] += cmask\n",
    "\n",
    "    for slice_id in range(vol.shape[2]):\n",
    "        image = vol[:,:,slice_id]\n",
    "        mask = CT_mask[:,:,slice_id]\n",
    "        image_file_name = root_dir + \"/images/\" + \"img\" + \"_\" + str(patient_id) + \"_\" + str(slice_id) + \".jpg\"\n",
    "        mask_file_name = root_dir + \"/masks/\" + \"mask\" + \"_\" + str(patient_id) + \"_\" + str(slice_id) + \".jpg\"\n",
    "        with RedirectStdStreams(stdout=devnull, stderr=devnull):\n",
    "            imageio.imwrite(image_file_name, image)\n",
    "        with RedirectStdStreams(stdout=devnull, stderr=devnull):\n",
    "            imageio.imwrite(mask_file_name, mask)\n",
    "#         np.savez_compressed(image_file_name, image)\n",
    "#         np.savez_compressed(mask_file_name, mask)"
   ]
  },
  {
   "cell_type": "code",
   "execution_count": 19,
   "id": "fb0b149d",
   "metadata": {},
   "outputs": [
    {
     "name": "stdout",
     "output_type": "stream",
     "text": [
      "Filesystem      Size  Used Avail Use% Mounted on\n",
      "/dev/sdc        147G   61M  147G   1% /rawdata\n"
     ]
    }
   ],
   "source": [
    "!df -h /rawdata"
   ]
  },
  {
   "cell_type": "code",
   "execution_count": 74,
   "id": "77ebab13",
   "metadata": {},
   "outputs": [],
   "source": [
    "root_dir = '/rawdata/all/train'\n",
    "def patient_data_as_jpg_files(sorted_data_dir):\n",
    "    #get patient list\n",
    "    patient_list = os.listdir(sorted_data_dir)\n",
    "    if not os.path.exists(root_dir):\n",
    "        print(\"Creating directory {}\".format(root_dir))\n",
    "        os.makedirs(root_dir)\n",
    "    if not os.path.exists(root_dir + \"/images/\"):\n",
    "        print(\"Creating directory {}\".format(root_dir + \"/images/\"))\n",
    "        os.makedirs(root_dir + \"/images/\")\n",
    "    if not os.path.exists(root_dir + \"/masks/\"):\n",
    "        print(\"Creating directory {}\".format(root_dir + \"/masks/\"))\n",
    "        os.makedirs(root_dir + \"/masks/\")\n",
    "    for i in tqdm(range(len(patient_list))):\n",
    "        try:\n",
    "            save_patient_images_and_masks(patient_list[i], root_dir)\n",
    "        except:\n",
    "            print(\"Error getting DICOM files for patient {}, skipping\".format(patient_list[i]))"
   ]
  },
  {
   "cell_type": "code",
   "execution_count": 90,
   "id": "cf08143b",
   "metadata": {},
   "outputs": [],
   "source": [
    "def patient_data_as_npz_files():\n",
    "    #get patient list\n",
    "    patient_list = os.listdir(data_folder)\n",
    "    if not os.path.exists(root_dir):\n",
    "        print(\"Creating directory {}\".format(root_dir))\n",
    "        os.makedirs(root_dir)\n",
    "    if not os.path.exists(root_dir + \"/images/\"):\n",
    "        print(\"Creating directory {}\".format(root_dir + \"/images/\"))\n",
    "        os.makedirs(root_dir + \"/images/\")\n",
    "    if not os.path.exists(root_dir + \"/masks/\"):\n",
    "        print(\"Creating directory {}\".format(root_dir + \"/masks/\"))\n",
    "        os.makedirs(root_dir + \"/masks/\")\n",
    "    print(\"Saving patient .npz files to {}\".format(root_dir))\n",
    "    for i in tqdm(range(len(patient_list))):\n",
    "        try:\n",
    "            save_patient_images_and_masks(patient_list[i], root_dir)\n",
    "        except:\n",
    "            print(\"Error getting DICOM files for patient {}, skipping\".format(patient_list[i]))"
   ]
  },
  {
   "cell_type": "code",
   "execution_count": 116,
   "id": "ddf329a0",
   "metadata": {},
   "outputs": [],
   "source": [
    "# clean start\n",
    "!rm -rf /rawdata/temp/gcsfiles/\n",
    "!rm -rf /rawdata/temp/sorted_gcsfiles/"
   ]
  },
  {
   "cell_type": "code",
   "execution_count": 120,
   "id": "6f94e100",
   "metadata": {},
   "outputs": [
    {
     "name": "stdout",
     "output_type": "stream",
     "text": [
      "Directory /rawdata/temp/gcsfiles/ exists\n",
      "Directory /rawdata/temp/sorted_gcsfiles/ exists\n"
     ]
    },
    {
     "name": "stderr",
     "output_type": "stream",
     "text": [
      "100%|██████████| 1980/1980 [00:03<00:00, 548.25it/s]                                                                          | 10/979 [00:31<54:24,  3.37s/it]\n"
     ]
    },
    {
     "name": "stdout",
     "output_type": "stream",
     "text": [
      "Files sorted\n",
      "Cleaning up downloaded DICOM files...\n"
     ]
    },
    {
     "name": "stderr",
     "output_type": "stream",
     "text": [
      "\n",
      "  0%|                                                                                                                                   | 0/11 [00:00<?, ?it/s]\u001b[A\n",
      "100%|██████████████████████████████████████████████████████████████████████████████████████████████████████████████████████████| 11/11 [00:00<00:00, 67.22it/s]\u001b[A\n"
     ]
    },
    {
     "name": "stdout",
     "output_type": "stream",
     "text": [
      "Saving patient data as .npz file...\n",
      "Creating directory /rawdata/all/train\n",
      "Creating directory /rawdata/all/train/images/\n",
      "Creating directory /rawdata/all/train/masks/\n"
     ]
    },
    {
     "name": "stderr",
     "output_type": "stream",
     "text": [
      "\n",
      "  0%|                                                                                                                                   | 0/11 [00:00<?, ?it/s]\u001b[A\n",
      "  9%|███████████▏                                                                                                               | 1/11 [00:06<01:05,  6.60s/it]\u001b[A\n",
      " 18%|██████████████████████▎                                                                                                    | 2/11 [00:10<00:44,  4.99s/it]\u001b[A\n",
      " 27%|█████████████████████████████████▌                                                                                         | 3/11 [00:18<00:49,  6.23s/it]\u001b[A\n",
      " 36%|████████████████████████████████████████████▋                                                                              | 4/11 [00:22<00:37,  5.33s/it]\u001b[A\n",
      " 45%|███████████████████████████████████████████████████████▉                                                                   | 5/11 [00:25<00:28,  4.78s/it]\u001b[A\n",
      " 55%|███████████████████████████████████████████████████████████████████                                                        | 6/11 [00:30<00:23,  4.79s/it]\u001b[A\n",
      " 64%|██████████████████████████████████████████████████████████████████████████████▎                                            | 7/11 [00:38<00:22,  5.68s/it]\u001b[A\n",
      " 73%|█████████████████████████████████████████████████████████████████████████████████████████▍                                 | 8/11 [00:42<00:15,  5.09s/it]\u001b[A\n",
      " 82%|████████████████████████████████████████████████████████████████████████████████████████████████████▋                      | 9/11 [00:47<00:10,  5.25s/it]\u001b[A\n",
      " 91%|██████████████████████████████████████████████████████████████████████████████████████████████████████████████▉           | 10/11 [00:53<00:05,  5.54s/it]\u001b[A\n",
      "100%|██████████████████████████████████████████████████████████████████████████████████████████████████████████████████████████| 11/11 [00:58<00:00,  5.29s/it]\u001b[A\n"
     ]
    },
    {
     "name": "stdout",
     "output_type": "stream",
     "text": [
      "Cleaning up sorted DICOM files...\n"
     ]
    },
    {
     "name": "stderr",
     "output_type": "stream",
     "text": [
      "\n",
      "  0%|                                                                                                                                   | 0/11 [00:00<?, ?it/s]\u001b[A\n",
      "100%|██████████████████████████████████████████████████████████████████████████████████████████████████████████████████████████| 11/11 [00:00<00:00, 70.87it/s]\u001b[A\n",
      "  1%|█▎                                                                                                                     | 11/979 [01:36<5:58:33, 22.22s/it]"
     ]
    },
    {
     "name": "stdout",
     "output_type": "stream",
     "text": [
      "Collected 1980 images in /rawdata/all/train/images\n"
     ]
    },
    {
     "name": "stderr",
     "output_type": "stream",
     "text": [
      "100%|██████████| 1761/1761 [00:03<00:00, 555.82it/s]                                                                        | 20/979 [02:08<1:15:37,  4.73s/it]\n"
     ]
    },
    {
     "name": "stdout",
     "output_type": "stream",
     "text": [
      "Files sorted\n",
      "Cleaning up downloaded DICOM files...\n"
     ]
    },
    {
     "name": "stderr",
     "output_type": "stream",
     "text": [
      "\n",
      "  0%|                                                                                                                                   | 0/10 [00:00<?, ?it/s]\u001b[A\n",
      "100%|██████████████████████████████████████████████████████████████████████████████████████████████████████████████████████████| 10/10 [00:00<00:00, 70.69it/s]\u001b[A\n"
     ]
    },
    {
     "name": "stdout",
     "output_type": "stream",
     "text": [
      "Saving patient data as .npz file...\n"
     ]
    },
    {
     "name": "stderr",
     "output_type": "stream",
     "text": [
      "\n",
      "  0%|                                                                                                                                   | 0/10 [00:00<?, ?it/s]\u001b[A\n",
      " 10%|████████████▎                                                                                                              | 1/10 [00:07<01:09,  7.74s/it]\u001b[A\n",
      " 20%|████████████████████████▌                                                                                                  | 2/10 [00:13<00:53,  6.70s/it]\u001b[A\n",
      " 30%|████████████████████████████████████▉                                                                                      | 3/10 [00:18<00:41,  5.97s/it]\u001b[A\n",
      " 40%|█████████████████████████████████████████████████▏                                                                         | 4/10 [00:22<00:31,  5.26s/it]\u001b[A\n",
      " 50%|█████████████████████████████████████████████████████████████▌                                                             | 5/10 [00:29<00:28,  5.78s/it]\u001b[A\n",
      " 60%|█████████████████████████████████████████████████████████████████████████▊                                                 | 6/10 [00:33<00:20,  5.25s/it]\u001b[A\n",
      " 70%|██████████████████████████████████████████████████████████████████████████████████████                                     | 7/10 [00:37<00:13,  4.63s/it]\u001b[A\n",
      " 80%|██████████████████████████████████████████████████████████████████████████████████████████████████▍                        | 8/10 [00:43<00:10,  5.04s/it]\u001b[A\n",
      " 90%|██████████████████████████████████████████████████████████████████████████████████████████████████████████████▋            | 9/10 [00:48<00:05,  5.14s/it]\u001b[A\n",
      "100%|██████████████████████████████████████████████████████████████████████████████████████████████████████████████████████████| 10/10 [00:52<00:00,  5.27s/it]\u001b[A\n"
     ]
    },
    {
     "name": "stdout",
     "output_type": "stream",
     "text": [
      "Cleaning up sorted DICOM files...\n"
     ]
    },
    {
     "name": "stderr",
     "output_type": "stream",
     "text": [
      "\n",
      "  0%|                                                                                                                                   | 0/10 [00:00<?, ?it/s]\u001b[A\n",
      "100%|██████████████████████████████████████████████████████████████████████████████████████████████████████████████████████████| 10/10 [00:00<00:00, 73.28it/s]\u001b[A\n",
      "  2%|██▌                                                                                                                    | 21/979 [03:08<5:38:57, 21.23s/it]"
     ]
    },
    {
     "name": "stdout",
     "output_type": "stream",
     "text": [
      "Collected 3741 images in /rawdata/all/train/images\n"
     ]
    },
    {
     "name": "stderr",
     "output_type": "stream",
     "text": [
      "100%|██████████| 1724/1724 [00:03<00:00, 538.73it/s]                                                                        | 30/979 [03:40<1:06:50,  4.23s/it]\n"
     ]
    },
    {
     "name": "stdout",
     "output_type": "stream",
     "text": [
      "Files sorted\n",
      "Cleaning up downloaded DICOM files...\n"
     ]
    },
    {
     "name": "stderr",
     "output_type": "stream",
     "text": [
      "\n",
      "  0%|                                                                                                                                   | 0/10 [00:00<?, ?it/s]\u001b[A\n",
      "100%|██████████████████████████████████████████████████████████████████████████████████████████████████████████████████████████| 10/10 [00:00<00:00, 69.23it/s]\u001b[A\n"
     ]
    },
    {
     "name": "stdout",
     "output_type": "stream",
     "text": [
      "Saving patient data as .npz file...\n"
     ]
    },
    {
     "name": "stderr",
     "output_type": "stream",
     "text": [
      "\n",
      "  0%|                                                                                                                                   | 0/10 [00:00<?, ?it/s]\u001b[A\n",
      " 10%|████████████▎                                                                                                              | 1/10 [00:06<00:55,  6.22s/it]\u001b[A\n",
      " 20%|████████████████████████▌                                                                                                  | 2/10 [00:12<00:51,  6.42s/it]\u001b[A\n",
      " 30%|████████████████████████████████████▉                                                                                      | 3/10 [00:16<00:36,  5.23s/it]\u001b[A\n",
      " 40%|█████████████████████████████████████████████████▏                                                                         | 4/10 [00:22<00:33,  5.60s/it]\u001b[A\n",
      " 50%|█████████████████████████████████████████████████████████████▌                                                             | 5/10 [00:25<00:23,  4.71s/it]\u001b[A\n",
      " 60%|█████████████████████████████████████████████████████████████████████████▊                                                 | 6/10 [00:29<00:17,  4.50s/it]\u001b[A\n",
      " 70%|██████████████████████████████████████████████████████████████████████████████████████                                     | 7/10 [00:34<00:13,  4.43s/it]\u001b[A\n",
      " 80%|██████████████████████████████████████████████████████████████████████████████████████████████████▍                        | 8/10 [00:37<00:08,  4.21s/it]\u001b[A\n",
      " 90%|██████████████████████████████████████████████████████████████████████████████████████████████████████████████▋            | 9/10 [00:41<00:03,  3.96s/it]\u001b[A\n",
      "100%|██████████████████████████████████████████████████████████████████████████████████████████████████████████████████████████| 10/10 [00:45<00:00,  4.58s/it]\u001b[A\n"
     ]
    },
    {
     "name": "stdout",
     "output_type": "stream",
     "text": [
      "Cleaning up sorted DICOM files...\n"
     ]
    },
    {
     "name": "stderr",
     "output_type": "stream",
     "text": [
      "\n",
      "  0%|                                                                                                                                   | 0/10 [00:00<?, ?it/s]\u001b[A\n",
      "100%|██████████████████████████████████████████████████████████████████████████████████████████████████████████████████████████| 10/10 [00:00<00:00, 77.63it/s]\u001b[A\n",
      "  3%|███▊                                                                                                                   | 31/979 [04:32<4:55:43, 18.72s/it]"
     ]
    },
    {
     "name": "stdout",
     "output_type": "stream",
     "text": [
      "Collected 5465 images in /rawdata/all/train/images\n"
     ]
    },
    {
     "name": "stderr",
     "output_type": "stream",
     "text": [
      "100%|██████████| 1882/1882 [00:03<00:00, 545.73it/s]                                                                        | 40/979 [05:06<1:03:23,  4.05s/it]\n"
     ]
    },
    {
     "name": "stdout",
     "output_type": "stream",
     "text": [
      "Files sorted\n",
      "Cleaning up downloaded DICOM files...\n"
     ]
    },
    {
     "name": "stderr",
     "output_type": "stream",
     "text": [
      "\n",
      "  0%|                                                                                                                                   | 0/10 [00:00<?, ?it/s]\u001b[A\n",
      "100%|██████████████████████████████████████████████████████████████████████████████████████████████████████████████████████████| 10/10 [00:00<00:00, 63.13it/s]\u001b[A\n"
     ]
    },
    {
     "name": "stdout",
     "output_type": "stream",
     "text": [
      "Saving patient data as .npz file...\n"
     ]
    },
    {
     "name": "stderr",
     "output_type": "stream",
     "text": [
      "\n",
      "  0%|                                                                                                                                   | 0/10 [00:00<?, ?it/s]\u001b[A\n",
      " 10%|████████████▎                                                                                                              | 1/10 [00:04<00:37,  4.21s/it]\u001b[A\n",
      " 20%|████████████████████████▌                                                                                                  | 2/10 [00:07<00:29,  3.69s/it]\u001b[A\n",
      " 30%|████████████████████████████████████▉                                                                                      | 3/10 [00:14<00:34,  5.00s/it]\u001b[A\n",
      " 40%|█████████████████████████████████████████████████▏                                                                         | 4/10 [00:17<00:27,  4.55s/it]\u001b[A\n",
      " 50%|█████████████████████████████████████████████████████████████▌                                                             | 5/10 [00:21<00:21,  4.21s/it]\u001b[A\n",
      " 60%|█████████████████████████████████████████████████████████████████████████▊                                                 | 6/10 [00:24<00:15,  3.87s/it]\u001b[A\n",
      " 70%|██████████████████████████████████████████████████████████████████████████████████████                                     | 7/10 [00:33<00:16,  5.43s/it]\u001b[A\n",
      " 80%|██████████████████████████████████████████████████████████████████████████████████████████████████▍                        | 8/10 [00:36<00:09,  4.76s/it]\u001b[A\n",
      " 90%|██████████████████████████████████████████████████████████████████████████████████████████████████████████████▋            | 9/10 [00:43<00:05,  5.47s/it]\u001b[A\n",
      "100%|██████████████████████████████████████████████████████████████████████████████████████████████████████████████████████████| 10/10 [00:49<00:00,  4.97s/it]\u001b[A\n"
     ]
    },
    {
     "name": "stdout",
     "output_type": "stream",
     "text": [
      "Cleaning up sorted DICOM files...\n"
     ]
    },
    {
     "name": "stderr",
     "output_type": "stream",
     "text": [
      "\n",
      "  0%|                                                                                                                                   | 0/10 [00:00<?, ?it/s]\u001b[A\n",
      "100%|██████████████████████████████████████████████████████████████████████████████████████████████████████████████████████████| 10/10 [00:00<00:00, 67.90it/s]\u001b[A\n",
      "  4%|████▉                                                                                                                  | 41/979 [06:03<5:10:16, 19.85s/it]"
     ]
    },
    {
     "name": "stdout",
     "output_type": "stream",
     "text": [
      "Collected 7347 images in /rawdata/all/train/images\n"
     ]
    },
    {
     "name": "stderr",
     "output_type": "stream",
     "text": [
      "100%|██████████| 1479/1479 [00:02<00:00, 519.86it/s]                                                                        | 50/979 [06:32<1:01:00,  3.94s/it]\n"
     ]
    },
    {
     "name": "stdout",
     "output_type": "stream",
     "text": [
      "Files sorted\n",
      "Cleaning up downloaded DICOM files...\n"
     ]
    },
    {
     "name": "stderr",
     "output_type": "stream",
     "text": [
      "\n",
      "  0%|                                                                                                                                   | 0/10 [00:00<?, ?it/s]\u001b[A\n",
      "100%|██████████████████████████████████████████████████████████████████████████████████████████████████████████████████████████| 10/10 [00:00<00:00, 74.17it/s]\u001b[A\n"
     ]
    },
    {
     "name": "stdout",
     "output_type": "stream",
     "text": [
      "Saving patient data as .npz file...\n"
     ]
    },
    {
     "name": "stderr",
     "output_type": "stream",
     "text": [
      "\n",
      "  0%|                                                                                                                                   | 0/10 [00:00<?, ?it/s]\u001b[A\n",
      " 10%|████████████▎                                                                                                              | 1/10 [00:06<00:57,  6.37s/it]\u001b[A\n",
      " 20%|████████████████████████▌                                                                                                  | 2/10 [00:11<00:46,  5.79s/it]\u001b[A\n",
      " 30%|████████████████████████████████████▉                                                                                      | 3/10 [00:20<00:48,  6.96s/it]\u001b[A\n",
      " 40%|█████████████████████████████████████████████████▏                                                                         | 4/10 [00:23<00:33,  5.66s/it]\u001b[A\n",
      " 50%|█████████████████████████████████████████████████████████████▌                                                             | 5/10 [00:28<00:26,  5.39s/it]\u001b[A\n",
      " 60%|█████████████████████████████████████████████████████████████████████████▊                                                 | 6/10 [00:35<00:23,  5.75s/it]\u001b[A\n",
      " 70%|██████████████████████████████████████████████████████████████████████████████████████                                     | 7/10 [00:39<00:15,  5.27s/it]\u001b[A\n",
      " 80%|██████████████████████████████████████████████████████████████████████████████████████████████████▍                        | 8/10 [00:43<00:09,  4.78s/it]\u001b[A\n",
      " 90%|██████████████████████████████████████████████████████████████████████████████████████████████████████████████▋            | 9/10 [00:47<00:04,  4.72s/it]\u001b[A\n",
      "100%|██████████████████████████████████████████████████████████████████████████████████████████████████████████████████████████| 10/10 [00:51<00:00,  5.17s/it]\u001b[A\n"
     ]
    },
    {
     "name": "stdout",
     "output_type": "stream",
     "text": [
      "Cleaning up sorted DICOM files...\n"
     ]
    },
    {
     "name": "stderr",
     "output_type": "stream",
     "text": [
      "\n",
      "  0%|                                                                                                                                   | 0/10 [00:00<?, ?it/s]\u001b[A\n",
      "100%|██████████████████████████████████████████████████████████████████████████████████████████████████████████████████████████| 10/10 [00:00<00:00, 85.59it/s]\u001b[A\n",
      "  5%|██████▏                                                                                                                | 51/979 [07:30<5:11:38, 20.15s/it]"
     ]
    },
    {
     "name": "stdout",
     "output_type": "stream",
     "text": [
      "Collected 8826 images in /rawdata/all/train/images\n"
     ]
    },
    {
     "name": "stderr",
     "output_type": "stream",
     "text": [
      "100%|██████████| 1649/1649 [00:03<00:00, 545.85it/s]                                                                          | 60/979 [08:01<59:24,  3.88s/it]\n"
     ]
    },
    {
     "name": "stdout",
     "output_type": "stream",
     "text": [
      "Files sorted\n",
      "Cleaning up downloaded DICOM files...\n"
     ]
    },
    {
     "name": "stderr",
     "output_type": "stream",
     "text": [
      "\n",
      "  0%|                                                                                                                                   | 0/10 [00:00<?, ?it/s]\u001b[A\n",
      "100%|██████████████████████████████████████████████████████████████████████████████████████████████████████████████████████████| 10/10 [00:00<00:00, 74.60it/s]\u001b[A\n"
     ]
    },
    {
     "name": "stdout",
     "output_type": "stream",
     "text": [
      "Saving patient data as .npz file...\n"
     ]
    },
    {
     "name": "stderr",
     "output_type": "stream",
     "text": [
      "\n",
      "  0%|                                                                                                                                   | 0/10 [00:00<?, ?it/s]\u001b[A\n",
      " 10%|████████████▎                                                                                                              | 1/10 [00:07<01:09,  7.75s/it]\u001b[A\n",
      " 20%|████████████████████████▌                                                                                                  | 2/10 [00:12<00:48,  6.11s/it]\u001b[A\n",
      " 30%|████████████████████████████████████▉                                                                                      | 3/10 [00:16<00:34,  4.91s/it]\u001b[A\n",
      " 40%|█████████████████████████████████████████████████▏                                                                         | 4/10 [00:19<00:25,  4.30s/it]\u001b[A\n",
      " 50%|█████████████████████████████████████████████████████████████▌                                                             | 5/10 [00:23<00:20,  4.15s/it]\u001b[A\n",
      " 60%|█████████████████████████████████████████████████████████████████████████▊                                                 | 6/10 [00:27<00:15,  3.96s/it]\u001b[A\n",
      " 70%|██████████████████████████████████████████████████████████████████████████████████████                                     | 7/10 [00:34<00:14,  4.96s/it]\u001b[A\n",
      " 80%|██████████████████████████████████████████████████████████████████████████████████████████████████▍                        | 8/10 [00:40<00:11,  5.54s/it]\u001b[A\n",
      " 90%|██████████████████████████████████████████████████████████████████████████████████████████████████████████████▋            | 9/10 [00:45<00:05,  5.18s/it]\u001b[A"
     ]
    },
    {
     "name": "stdout",
     "output_type": "stream",
     "text": [
      "Failed to reduce all groups to <= 4 Annotations.\n",
      "Some nodules may be close and must be grouped manually.\n"
     ]
    },
    {
     "name": "stderr",
     "output_type": "stream",
     "text": [
      "\n",
      "100%|██████████████████████████████████████████████████████████████████████████████████████████████████████████████████████████| 10/10 [00:50<00:00,  5.00s/it]\u001b[A\n"
     ]
    },
    {
     "name": "stdout",
     "output_type": "stream",
     "text": [
      "Cleaning up sorted DICOM files...\n"
     ]
    },
    {
     "name": "stderr",
     "output_type": "stream",
     "text": [
      "\n",
      "  0%|                                                                                                                                   | 0/10 [00:00<?, ?it/s]\u001b[A\n",
      "100%|██████████████████████████████████████████████████████████████████████████████████████████████████████████████████████████| 10/10 [00:00<00:00, 75.55it/s]\u001b[A\n",
      "  6%|███████▍                                                                                                               | 61/979 [08:57<5:00:13, 19.62s/it]"
     ]
    },
    {
     "name": "stdout",
     "output_type": "stream",
     "text": [
      "Collected 10475 images in /rawdata/all/train/images\n"
     ]
    },
    {
     "name": "stderr",
     "output_type": "stream",
     "text": [
      "100%|██████████| 1960/1960 [00:03<00:00, 556.87it/s]                                                                        | 70/979 [09:29<1:06:21,  4.38s/it]\n"
     ]
    },
    {
     "name": "stdout",
     "output_type": "stream",
     "text": [
      "Files sorted\n",
      "Cleaning up downloaded DICOM files...\n"
     ]
    },
    {
     "name": "stderr",
     "output_type": "stream",
     "text": [
      "\n",
      "  0%|                                                                                                                                   | 0/10 [00:00<?, ?it/s]\u001b[A\n",
      "100%|██████████████████████████████████████████████████████████████████████████████████████████████████████████████████████████| 10/10 [00:00<00:00, 62.45it/s]\u001b[A\n"
     ]
    },
    {
     "name": "stdout",
     "output_type": "stream",
     "text": [
      "Saving patient data as .npz file...\n"
     ]
    },
    {
     "name": "stderr",
     "output_type": "stream",
     "text": [
      "\n",
      "  0%|                                                                                                                                   | 0/10 [00:00<?, ?it/s]\u001b[A\n",
      " 10%|████████████▎                                                                                                              | 1/10 [00:04<00:36,  4.08s/it]\u001b[A\n",
      " 20%|████████████████████████▌                                                                                                  | 2/10 [00:12<00:53,  6.68s/it]\u001b[A\n",
      " 30%|████████████████████████████████████▉                                                                                      | 3/10 [00:15<00:34,  4.95s/it]\u001b[A\n",
      " 40%|█████████████████████████████████████████████████▏                                                                         | 4/10 [00:19<00:27,  4.58s/it]\u001b[A\n",
      " 50%|█████████████████████████████████████████████████████████████▌                                                             | 5/10 [00:23<00:21,  4.36s/it]\u001b[A\n",
      " 60%|█████████████████████████████████████████████████████████████████████████▊                                                 | 6/10 [00:31<00:22,  5.74s/it]\u001b[A\n",
      " 70%|██████████████████████████████████████████████████████████████████████████████████████                                     | 7/10 [00:36<00:15,  5.32s/it]\u001b[A\n",
      " 80%|██████████████████████████████████████████████████████████████████████████████████████████████████▍                        | 8/10 [00:43<00:11,  5.75s/it]\u001b[A\n",
      " 90%|██████████████████████████████████████████████████████████████████████████████████████████████████████████████▋            | 9/10 [00:50<00:06,  6.28s/it]\u001b[A\n",
      "100%|██████████████████████████████████████████████████████████████████████████████████████████████████████████████████████████| 10/10 [00:56<00:00,  5.65s/it]\u001b[A\n"
     ]
    },
    {
     "name": "stdout",
     "output_type": "stream",
     "text": [
      "Cleaning up sorted DICOM files...\n"
     ]
    },
    {
     "name": "stderr",
     "output_type": "stream",
     "text": [
      "\n",
      "  0%|                                                                                                                                   | 0/10 [00:00<?, ?it/s]\u001b[A\n",
      "100%|██████████████████████████████████████████████████████████████████████████████████████████████████████████████████████████| 10/10 [00:00<00:00, 63.95it/s]\u001b[A\n",
      "  7%|████████▋                                                                                                              | 71/979 [10:35<5:45:12, 22.81s/it]"
     ]
    },
    {
     "name": "stdout",
     "output_type": "stream",
     "text": [
      "Collected 12435 images in /rawdata/all/train/images\n"
     ]
    },
    {
     "name": "stderr",
     "output_type": "stream",
     "text": [
      "100%|██████████| 1749/1749 [00:03<00:00, 552.96it/s]                                                                        | 80/979 [11:06<1:01:46,  4.12s/it]\n"
     ]
    },
    {
     "name": "stdout",
     "output_type": "stream",
     "text": [
      "Files sorted\n",
      "Cleaning up downloaded DICOM files...\n"
     ]
    },
    {
     "name": "stderr",
     "output_type": "stream",
     "text": [
      "\n",
      "  0%|                                                                                                                                   | 0/10 [00:00<?, ?it/s]\u001b[A\n",
      "100%|██████████████████████████████████████████████████████████████████████████████████████████████████████████████████████████| 10/10 [00:00<00:00, 68.64it/s]\u001b[A\n"
     ]
    },
    {
     "name": "stdout",
     "output_type": "stream",
     "text": [
      "Saving patient data as .npz file...\n"
     ]
    },
    {
     "name": "stderr",
     "output_type": "stream",
     "text": [
      "\n",
      "  0%|                                                                                                                                   | 0/10 [00:00<?, ?it/s]\u001b[A\n",
      " 10%|████████████▎                                                                                                              | 1/10 [00:03<00:34,  3.87s/it]\u001b[A\n",
      " 20%|████████████████████████▌                                                                                                  | 2/10 [00:07<00:27,  3.49s/it]\u001b[A\n",
      " 30%|████████████████████████████████████▉                                                                                      | 3/10 [00:13<00:33,  4.85s/it]\u001b[A\n",
      " 40%|█████████████████████████████████████████████████▏                                                                         | 4/10 [00:17<00:26,  4.44s/it]\u001b[A\n",
      " 50%|█████████████████████████████████████████████████████████████▌                                                             | 5/10 [00:24<00:27,  5.42s/it]\u001b[A\n",
      " 60%|█████████████████████████████████████████████████████████████████████████▊                                                 | 6/10 [00:27<00:18,  4.62s/it]\u001b[A\n",
      " 70%|██████████████████████████████████████████████████████████████████████████████████████                                     | 7/10 [00:30<00:12,  4.18s/it]\u001b[A\n",
      " 80%|██████████████████████████████████████████████████████████████████████████████████████████████████▍                        | 8/10 [00:39<00:10,  5.50s/it]\u001b[A\n",
      " 90%|██████████████████████████████████████████████████████████████████████████████████████████████████████████████▋            | 9/10 [00:46<00:06,  6.01s/it]\u001b[A\n",
      "100%|██████████████████████████████████████████████████████████████████████████████████████████████████████████████████████████| 10/10 [00:50<00:00,  5.02s/it]\u001b[A\n"
     ]
    },
    {
     "name": "stdout",
     "output_type": "stream",
     "text": [
      "Cleaning up sorted DICOM files...\n"
     ]
    },
    {
     "name": "stderr",
     "output_type": "stream",
     "text": [
      "\n",
      "  0%|                                                                                                                                   | 0/10 [00:00<?, ?it/s]\u001b[A\n",
      "100%|██████████████████████████████████████████████████████████████████████████████████████████████████████████████████████████| 10/10 [00:00<00:00, 73.26it/s]\u001b[A\n",
      "  8%|█████████▊                                                                                                             | 81/979 [12:04<5:05:27, 20.41s/it]"
     ]
    },
    {
     "name": "stdout",
     "output_type": "stream",
     "text": [
      "Collected 14184 images in /rawdata/all/train/images\n"
     ]
    },
    {
     "name": "stderr",
     "output_type": "stream",
     "text": [
      "100%|██████████| 1987/1987 [00:03<00:00, 566.36it/s]                                                                        | 90/979 [12:38<1:02:20,  4.21s/it]\n"
     ]
    },
    {
     "name": "stdout",
     "output_type": "stream",
     "text": [
      "Files sorted\n",
      "Cleaning up downloaded DICOM files...\n"
     ]
    },
    {
     "name": "stderr",
     "output_type": "stream",
     "text": [
      "\n",
      "  0%|                                                                                                                                   | 0/10 [00:00<?, ?it/s]\u001b[A\n",
      "100%|██████████████████████████████████████████████████████████████████████████████████████████████████████████████████████████| 10/10 [00:00<00:00, 63.57it/s]\u001b[A\n"
     ]
    },
    {
     "name": "stdout",
     "output_type": "stream",
     "text": [
      "Saving patient data as .npz file...\n"
     ]
    },
    {
     "name": "stderr",
     "output_type": "stream",
     "text": [
      "\n",
      "  0%|                                                                                                                                   | 0/10 [00:00<?, ?it/s]\u001b[A\n",
      " 10%|████████████▎                                                                                                              | 1/10 [00:06<00:56,  6.23s/it]\u001b[A\n",
      " 20%|████████████████████████▌                                                                                                  | 2/10 [00:10<00:39,  4.95s/it]\u001b[A"
     ]
    },
    {
     "name": "stdout",
     "output_type": "stream",
     "text": [
      "Failed to reduce all groups to <= 4 Annotations.\n",
      "Some nodules may be close and must be grouped manually.\n"
     ]
    },
    {
     "name": "stderr",
     "output_type": "stream",
     "text": [
      "\n",
      " 30%|████████████████████████████████████▉                                                                                      | 3/10 [00:16<00:40,  5.74s/it]\u001b[A\n",
      " 40%|█████████████████████████████████████████████████▏                                                                         | 4/10 [00:23<00:37,  6.21s/it]\u001b[A\n",
      " 50%|█████████████████████████████████████████████████████████████▌                                                             | 5/10 [00:27<00:26,  5.24s/it]\u001b[A\n",
      " 60%|█████████████████████████████████████████████████████████████████████████▊                                                 | 6/10 [00:31<00:18,  4.75s/it]\u001b[A\n",
      " 70%|██████████████████████████████████████████████████████████████████████████████████████                                     | 7/10 [00:36<00:14,  4.96s/it]\u001b[A\n",
      " 80%|██████████████████████████████████████████████████████████████████████████████████████████████████▍                        | 8/10 [00:43<00:10,  5.44s/it]\u001b[A\n",
      " 90%|██████████████████████████████████████████████████████████████████████████████████████████████████████████████▋            | 9/10 [00:49<00:05,  5.72s/it]\u001b[A\n",
      "100%|██████████████████████████████████████████████████████████████████████████████████████████████████████████████████████████| 10/10 [00:55<00:00,  5.52s/it]\u001b[A\n"
     ]
    },
    {
     "name": "stdout",
     "output_type": "stream",
     "text": [
      "Cleaning up sorted DICOM files...\n"
     ]
    },
    {
     "name": "stderr",
     "output_type": "stream",
     "text": [
      "\n",
      "  0%|                                                                                                                                   | 0/10 [00:00<?, ?it/s]\u001b[A\n",
      "100%|██████████████████████████████████████████████████████████████████████████████████████████████████████████████████████████| 10/10 [00:00<00:00, 66.12it/s]\u001b[A\n",
      "  9%|███████████                                                                                                            | 91/979 [13:41<5:26:40, 22.07s/it]"
     ]
    },
    {
     "name": "stdout",
     "output_type": "stream",
     "text": [
      "Collected 16170 images in /rawdata/all/train/images\n"
     ]
    },
    {
     "name": "stderr",
     "output_type": "stream",
     "text": [
      "100%|██████████| 2085/2085 [00:03<00:00, 539.66it/s]                                                                       | 100/979 [14:17<1:05:35,  4.48s/it]\n"
     ]
    },
    {
     "name": "stdout",
     "output_type": "stream",
     "text": [
      "Files sorted\n",
      "Cleaning up downloaded DICOM files...\n"
     ]
    },
    {
     "name": "stderr",
     "output_type": "stream",
     "text": [
      "\n",
      "  0%|                                                                                                                                   | 0/10 [00:00<?, ?it/s]\u001b[A\n",
      "100%|██████████████████████████████████████████████████████████████████████████████████████████████████████████████████████████| 10/10 [00:00<00:00, 55.88it/s]\u001b[A\n"
     ]
    },
    {
     "name": "stdout",
     "output_type": "stream",
     "text": [
      "Saving patient data as .npz file...\n"
     ]
    },
    {
     "name": "stderr",
     "output_type": "stream",
     "text": [
      "\n",
      "  0%|                                                                                                                                   | 0/10 [00:00<?, ?it/s]\u001b[A\n",
      " 10%|████████████▎                                                                                                              | 1/10 [00:03<00:30,  3.43s/it]\u001b[A\n",
      " 20%|████████████████████████▌                                                                                                  | 2/10 [00:06<00:24,  3.11s/it]\u001b[A\n",
      " 30%|████████████████████████████████████▉                                                                                      | 3/10 [00:12<00:32,  4.70s/it]\u001b[A\n",
      " 40%|█████████████████████████████████████████████████▏                                                                         | 4/10 [00:16<00:25,  4.19s/it]\u001b[A\n",
      " 50%|█████████████████████████████████████████████████████████████▌                                                             | 5/10 [00:20<00:20,  4.06s/it]\u001b[A\n",
      " 60%|█████████████████████████████████████████████████████████████████████████▊                                                 | 6/10 [00:26<00:19,  4.82s/it]\u001b[A\n",
      " 70%|██████████████████████████████████████████████████████████████████████████████████████                                     | 7/10 [00:30<00:13,  4.62s/it]\u001b[A\n",
      " 80%|██████████████████████████████████████████████████████████████████████████████████████████████████▍                        | 8/10 [00:40<00:12,  6.42s/it]\u001b[A\n",
      " 90%|██████████████████████████████████████████████████████████████████████████████████████████████████████████████▋            | 9/10 [00:51<00:07,  7.74s/it]\u001b[A\n",
      "100%|██████████████████████████████████████████████████████████████████████████████████████████████████████████████████████████| 10/10 [00:56<00:00,  5.70s/it]\u001b[A\n"
     ]
    },
    {
     "name": "stdout",
     "output_type": "stream",
     "text": [
      "Cleaning up sorted DICOM files...\n"
     ]
    },
    {
     "name": "stderr",
     "output_type": "stream",
     "text": [
      "\n",
      "  0%|                                                                                                                                   | 0/10 [00:00<?, ?it/s]\u001b[A\n",
      "100%|██████████████████████████████████████████████████████████████████████████████████████████████████████████████████████████| 10/10 [00:00<00:00, 62.64it/s]\u001b[A\n",
      " 10%|████████████▏                                                                                                         | 101/979 [15:22<5:29:29, 22.52s/it]"
     ]
    },
    {
     "name": "stdout",
     "output_type": "stream",
     "text": [
      "Collected 18255 images in /rawdata/all/train/images\n"
     ]
    },
    {
     "name": "stderr",
     "output_type": "stream",
     "text": [
      "100%|██████████| 1411/1411 [00:02<00:00, 548.20it/s]                                                                         | 110/979 [15:50<58:07,  4.01s/it]\n"
     ]
    },
    {
     "name": "stdout",
     "output_type": "stream",
     "text": [
      "Files sorted\n",
      "Cleaning up downloaded DICOM files...\n"
     ]
    },
    {
     "name": "stderr",
     "output_type": "stream",
     "text": [
      "\n",
      "  0%|                                                                                                                                   | 0/10 [00:00<?, ?it/s]\u001b[A\n",
      "100%|██████████████████████████████████████████████████████████████████████████████████████████████████████████████████████████| 10/10 [00:00<00:00, 84.58it/s]\u001b[A\n"
     ]
    },
    {
     "name": "stdout",
     "output_type": "stream",
     "text": [
      "Saving patient data as .npz file...\n"
     ]
    },
    {
     "name": "stderr",
     "output_type": "stream",
     "text": [
      "\n",
      "  0%|                                                                                                                                   | 0/10 [00:00<?, ?it/s]\u001b[A\n",
      " 10%|████████████▎                                                                                                              | 1/10 [00:03<00:27,  3.02s/it]\u001b[A\n",
      " 20%|████████████████████████▌                                                                                                  | 2/10 [00:07<00:29,  3.64s/it]\u001b[A\n",
      " 30%|████████████████████████████████████▉                                                                                      | 3/10 [00:11<00:28,  4.13s/it]\u001b[A\n",
      " 40%|█████████████████████████████████████████████████▏                                                                         | 4/10 [00:17<00:28,  4.83s/it]\u001b[A\n",
      " 50%|█████████████████████████████████████████████████████████████▌                                                             | 5/10 [00:21<00:21,  4.37s/it]\u001b[A\n",
      " 60%|█████████████████████████████████████████████████████████████████████████▊                                                 | 6/10 [00:26<00:18,  4.53s/it]\u001b[A\n",
      " 70%|██████████████████████████████████████████████████████████████████████████████████████                                     | 7/10 [00:29<00:12,  4.02s/it]\u001b[A\n",
      " 80%|██████████████████████████████████████████████████████████████████████████████████████████████████▍                        | 8/10 [00:33<00:08,  4.13s/it]\u001b[A\n",
      " 90%|██████████████████████████████████████████████████████████████████████████████████████████████████████████████▋            | 9/10 [00:36<00:03,  3.93s/it]\u001b[A\n",
      "100%|██████████████████████████████████████████████████████████████████████████████████████████████████████████████████████████| 10/10 [00:40<00:00,  4.06s/it]\u001b[A\n"
     ]
    },
    {
     "name": "stdout",
     "output_type": "stream",
     "text": [
      "Cleaning up sorted DICOM files...\n"
     ]
    },
    {
     "name": "stderr",
     "output_type": "stream",
     "text": [
      "\n",
      "  0%|                                                                                                                                   | 0/10 [00:00<?, ?it/s]\u001b[A\n",
      "100%|██████████████████████████████████████████████████████████████████████████████████████████████████████████████████████████| 10/10 [00:00<00:00, 90.25it/s]\u001b[A\n",
      " 11%|█████████████▍                                                                                                        | 111/979 [16:37<4:02:18, 16.75s/it]"
     ]
    },
    {
     "name": "stdout",
     "output_type": "stream",
     "text": [
      "Collected 19666 images in /rawdata/all/train/images\n"
     ]
    },
    {
     "name": "stderr",
     "output_type": "stream",
     "text": [
      "100%|██████████| 1915/1915 [00:03<00:00, 561.23it/s]                                                                       | 120/979 [17:12<1:10:28,  4.92s/it]\n"
     ]
    },
    {
     "name": "stdout",
     "output_type": "stream",
     "text": [
      "Files sorted\n",
      "Cleaning up downloaded DICOM files...\n"
     ]
    },
    {
     "name": "stderr",
     "output_type": "stream",
     "text": [
      "\n",
      "  0%|                                                                                                                                   | 0/10 [00:00<?, ?it/s]\u001b[A\n",
      "100%|██████████████████████████████████████████████████████████████████████████████████████████████████████████████████████████| 10/10 [00:00<00:00, 64.12it/s]\u001b[A\n"
     ]
    },
    {
     "name": "stdout",
     "output_type": "stream",
     "text": [
      "Saving patient data as .npz file...\n"
     ]
    },
    {
     "name": "stderr",
     "output_type": "stream",
     "text": [
      "\n",
      "  0%|                                                                                                                                   | 0/10 [00:00<?, ?it/s]\u001b[A\n",
      " 10%|████████████▎                                                                                                              | 1/10 [00:09<01:24,  9.40s/it]\u001b[A\n",
      " 20%|████████████████████████▌                                                                                                  | 2/10 [00:12<00:46,  5.78s/it]\u001b[A\n",
      " 30%|████████████████████████████████████▉                                                                                      | 3/10 [00:20<00:45,  6.51s/it]\u001b[A\n",
      " 40%|█████████████████████████████████████████████████▏                                                                         | 4/10 [00:23<00:32,  5.47s/it]\u001b[A\n",
      " 50%|█████████████████████████████████████████████████████████████▌                                                             | 5/10 [00:25<00:20,  4.13s/it]\u001b[A"
     ]
    },
    {
     "name": "stdout",
     "output_type": "stream",
     "text": [
      "Error getting DICOM files for patient LIDC-IDRI-0120, skipping\n"
     ]
    },
    {
     "name": "stderr",
     "output_type": "stream",
     "text": [
      "\n",
      " 60%|█████████████████████████████████████████████████████████████████████████▊                                                 | 6/10 [00:29<00:15,  4.00s/it]\u001b[A\n",
      " 70%|██████████████████████████████████████████████████████████████████████████████████████                                     | 7/10 [00:32<00:11,  3.80s/it]\u001b[A\n",
      " 80%|██████████████████████████████████████████████████████████████████████████████████████████████████▍                        | 8/10 [00:38<00:08,  4.42s/it]\u001b[A\n",
      " 90%|██████████████████████████████████████████████████████████████████████████████████████████████████████████████▋            | 9/10 [00:41<00:04,  4.02s/it]\u001b[A\n",
      "100%|██████████████████████████████████████████████████████████████████████████████████████████████████████████████████████████| 10/10 [00:49<00:00,  4.90s/it]\u001b[A\n"
     ]
    },
    {
     "name": "stdout",
     "output_type": "stream",
     "text": [
      "Cleaning up sorted DICOM files...\n"
     ]
    },
    {
     "name": "stderr",
     "output_type": "stream",
     "text": [
      "\n",
      "  0%|                                                                                                                                   | 0/10 [00:00<?, ?it/s]\u001b[A\n",
      "100%|██████████████████████████████████████████████████████████████████████████████████████████████████████████████████████████| 10/10 [00:00<00:00, 70.31it/s]\u001b[A\n",
      " 12%|██████████████▌                                                                                                       | 121/979 [18:08<4:48:35, 20.18s/it]"
     ]
    },
    {
     "name": "stdout",
     "output_type": "stream",
     "text": [
      "Collected 21399 images in /rawdata/all/train/images\n"
     ]
    },
    {
     "name": "stderr",
     "output_type": "stream",
     "text": [
      "100%|██████████| 1992/1992 [00:03<00:00, 548.08it/s]                                                                       | 130/979 [18:41<1:06:12,  4.68s/it]\n"
     ]
    },
    {
     "name": "stdout",
     "output_type": "stream",
     "text": [
      "Files sorted\n",
      "Cleaning up downloaded DICOM files...\n"
     ]
    },
    {
     "name": "stderr",
     "output_type": "stream",
     "text": [
      "\n",
      "  0%|                                                                                                                                   | 0/10 [00:00<?, ?it/s]\u001b[A\n",
      "100%|██████████████████████████████████████████████████████████████████████████████████████████████████████████████████████████| 10/10 [00:00<00:00, 62.20it/s]\u001b[A\n"
     ]
    },
    {
     "name": "stdout",
     "output_type": "stream",
     "text": [
      "Saving patient data as .npz file...\n"
     ]
    },
    {
     "name": "stderr",
     "output_type": "stream",
     "text": [
      "\n",
      "  0%|                                                                                                                                   | 0/10 [00:00<?, ?it/s]\u001b[A\n",
      " 10%|████████████▎                                                                                                              | 1/10 [00:05<00:46,  5.15s/it]\u001b[A\n",
      " 20%|████████████████████████▌                                                                                                  | 2/10 [00:08<00:31,  3.95s/it]\u001b[A\n",
      " 30%|████████████████████████████████████▉                                                                                      | 3/10 [00:17<00:43,  6.18s/it]\u001b[A\n",
      " 40%|█████████████████████████████████████████████████▏                                                                         | 4/10 [00:29<00:51,  8.61s/it]\u001b[A\n",
      " 50%|█████████████████████████████████████████████████████████████▌                                                             | 5/10 [00:36<00:39,  7.88s/it]\u001b[A\n",
      " 60%|█████████████████████████████████████████████████████████████████████████▊                                                 | 6/10 [00:42<00:29,  7.38s/it]\u001b[A\n",
      " 70%|██████████████████████████████████████████████████████████████████████████████████████                                     | 7/10 [00:43<00:15,  5.20s/it]\u001b[A"
     ]
    },
    {
     "name": "stdout",
     "output_type": "stream",
     "text": [
      "Error getting DICOM files for patient LIDC-IDRI-0132, skipping\n"
     ]
    },
    {
     "name": "stderr",
     "output_type": "stream",
     "text": [
      "\n",
      " 80%|██████████████████████████████████████████████████████████████████████████████████████████████████▍                        | 8/10 [00:48<00:10,  5.22s/it]\u001b[A\n",
      " 90%|██████████████████████████████████████████████████████████████████████████████████████████████████████████████▋            | 9/10 [00:54<00:05,  5.44s/it]\u001b[A\n",
      "100%|██████████████████████████████████████████████████████████████████████████████████████████████████████████████████████████| 10/10 [00:58<00:00,  5.81s/it]\u001b[A\n"
     ]
    },
    {
     "name": "stdout",
     "output_type": "stream",
     "text": [
      "Cleaning up sorted DICOM files...\n"
     ]
    },
    {
     "name": "stderr",
     "output_type": "stream",
     "text": [
      "\n",
      "  0%|                                                                                                                                   | 0/10 [00:00<?, ?it/s]\u001b[A\n",
      "100%|██████████████████████████████████████████████████████████████████████████████████████████████████████████████████████████| 10/10 [00:00<00:00, 66.12it/s]\u001b[A\n",
      " 13%|███████████████▊                                                                                                      | 131/979 [19:46<5:21:57, 22.78s/it]"
     ]
    },
    {
     "name": "stdout",
     "output_type": "stream",
     "text": [
      "Collected 23275 images in /rawdata/all/train/images\n"
     ]
    },
    {
     "name": "stderr",
     "output_type": "stream",
     "text": [
      "100%|██████████| 1996/1996 [00:03<00:00, 548.92it/s]                                                                       | 140/979 [20:18<1:06:50,  4.78s/it]\n"
     ]
    },
    {
     "name": "stdout",
     "output_type": "stream",
     "text": [
      "Files sorted\n",
      "Cleaning up downloaded DICOM files...\n"
     ]
    },
    {
     "name": "stderr",
     "output_type": "stream",
     "text": [
      "\n",
      "  0%|                                                                                                                                   | 0/10 [00:00<?, ?it/s]\u001b[A\n",
      "100%|██████████████████████████████████████████████████████████████████████████████████████████████████████████████████████████| 10/10 [00:00<00:00, 61.30it/s]\u001b[A"
     ]
    },
    {
     "name": "stdout",
     "output_type": "stream",
     "text": [
      "Saving patient data as .npz file...\n"
     ]
    },
    {
     "name": "stderr",
     "output_type": "stream",
     "text": [
      "\n",
      "\n",
      "  0%|                                                                                                                                   | 0/10 [00:00<?, ?it/s]\u001b[A\n",
      " 10%|████████████▎                                                                                                              | 1/10 [00:05<00:46,  5.13s/it]\u001b[A\n",
      " 20%|████████████████████████▌                                                                                                  | 2/10 [00:08<00:34,  4.31s/it]\u001b[A\n",
      " 30%|████████████████████████████████████▉                                                                                      | 3/10 [00:12<00:27,  3.97s/it]\u001b[A\n",
      " 40%|█████████████████████████████████████████████████▏                                                                         | 4/10 [00:18<00:29,  4.98s/it]\u001b[A"
     ]
    },
    {
     "name": "stdout",
     "output_type": "stream",
     "text": [
      "Failed to reduce all groups to <= 4 Annotations.\n",
      "Some nodules may be close and must be grouped manually.\n"
     ]
    },
    {
     "name": "stderr",
     "output_type": "stream",
     "text": [
      "\n",
      " 50%|█████████████████████████████████████████████████████████████▌                                                             | 5/10 [00:23<00:23,  4.80s/it]\u001b[A\n",
      " 60%|█████████████████████████████████████████████████████████████████████████▊                                                 | 6/10 [00:30<00:22,  5.65s/it]\u001b[A\n",
      " 70%|██████████████████████████████████████████████████████████████████████████████████████                                     | 7/10 [00:35<00:15,  5.24s/it]\u001b[A\n",
      " 80%|██████████████████████████████████████████████████████████████████████████████████████████████████▍                        | 8/10 [00:39<00:09,  4.86s/it]\u001b[A\n",
      " 90%|██████████████████████████████████████████████████████████████████████████████████████████████████████████████▋            | 9/10 [00:48<00:06,  6.34s/it]\u001b[A\n",
      "100%|██████████████████████████████████████████████████████████████████████████████████████████████████████████████████████████| 10/10 [01:00<00:00,  6.10s/it]\u001b[A\n"
     ]
    },
    {
     "name": "stdout",
     "output_type": "stream",
     "text": [
      "Cleaning up sorted DICOM files...\n"
     ]
    },
    {
     "name": "stderr",
     "output_type": "stream",
     "text": [
      "\n",
      "  0%|                                                                                                                                   | 0/10 [00:00<?, ?it/s]\u001b[A\n",
      "100%|██████████████████████████████████████████████████████████████████████████████████████████████████████████████████████████| 10/10 [00:00<00:00, 66.04it/s]\u001b[A\n",
      " 14%|████████████████▉                                                                                                     | 141/979 [21:29<5:43:59, 24.63s/it]"
     ]
    },
    {
     "name": "stdout",
     "output_type": "stream",
     "text": [
      "Collected 25271 images in /rawdata/all/train/images\n"
     ]
    },
    {
     "name": "stderr",
     "output_type": "stream",
     "text": [
      "100%|██████████| 1450/1450 [00:02<00:00, 568.48it/s]                                                                         | 150/979 [21:56<50:52,  3.68s/it]\n"
     ]
    },
    {
     "name": "stdout",
     "output_type": "stream",
     "text": [
      "Files sorted\n",
      "Cleaning up downloaded DICOM files...\n"
     ]
    },
    {
     "name": "stderr",
     "output_type": "stream",
     "text": [
      "\n",
      "  0%|                                                                                                                                   | 0/10 [00:00<?, ?it/s]\u001b[A\n",
      "100%|██████████████████████████████████████████████████████████████████████████████████████████████████████████████████████████| 10/10 [00:00<00:00, 79.29it/s]\u001b[A\n"
     ]
    },
    {
     "name": "stdout",
     "output_type": "stream",
     "text": [
      "Saving patient data as .npz file...\n"
     ]
    },
    {
     "name": "stderr",
     "output_type": "stream",
     "text": [
      "\n",
      "  0%|                                                                                                                                    | 0/9 [00:00<?, ?it/s]\u001b[A\n",
      " 11%|█████████████▊                                                                                                              | 1/9 [00:07<01:02,  7.80s/it]\u001b[A\n",
      " 22%|███████████████████████████▌                                                                                                | 2/9 [00:11<00:38,  5.46s/it]\u001b[A\n",
      " 33%|█████████████████████████████████████████▎                                                                                  | 3/9 [00:14<00:26,  4.44s/it]\u001b[A\n",
      " 44%|███████████████████████████████████████████████████████                                                                     | 4/9 [00:19<00:22,  4.52s/it]\u001b[A\n",
      " 56%|████████████████████████████████████████████████████████████████████▉                                                       | 5/9 [00:23<00:17,  4.42s/it]\u001b[A\n",
      " 67%|██████████████████████████████████████████████████████████████████████████████████▋                                         | 6/9 [00:27<00:12,  4.28s/it]\u001b[A\n",
      " 78%|████████████████████████████████████████████████████████████████████████████████████████████████▍                           | 7/9 [00:30<00:07,  3.79s/it]\u001b[A\n",
      " 89%|██████████████████████████████████████████████████████████████████████████████████████████████████████████████▏             | 8/9 [00:35<00:04,  4.03s/it]\u001b[A\n",
      "100%|████████████████████████████████████████████████████████████████████████████████████████████████████████████████████████████| 9/9 [00:38<00:00,  4.26s/it]\u001b[A\n"
     ]
    },
    {
     "name": "stdout",
     "output_type": "stream",
     "text": [
      "Cleaning up sorted DICOM files...\n"
     ]
    },
    {
     "name": "stderr",
     "output_type": "stream",
     "text": [
      "\n",
      "  0%|                                                                                                                                    | 0/9 [00:00<?, ?it/s]\u001b[A\n",
      "100%|████████████████████████████████████████████████████████████████████████████████████████████████████████████████████████████| 9/9 [00:00<00:00, 80.89it/s]\u001b[A\n",
      " 15%|██████████████████▏                                                                                                   | 151/979 [22:40<3:38:00, 15.80s/it]"
     ]
    },
    {
     "name": "stdout",
     "output_type": "stream",
     "text": [
      "Collected 26608 images in /rawdata/all/train/images\n"
     ]
    },
    {
     "name": "stderr",
     "output_type": "stream",
     "text": [
      "100%|██████████| 1666/1666 [00:02<00:00, 570.77it/s]                                                                         | 160/979 [23:09<50:30,  3.70s/it]\n"
     ]
    },
    {
     "name": "stdout",
     "output_type": "stream",
     "text": [
      "Files sorted\n",
      "Cleaning up downloaded DICOM files...\n"
     ]
    },
    {
     "name": "stderr",
     "output_type": "stream",
     "text": [
      "\n",
      "  0%|                                                                                                                                   | 0/10 [00:00<?, ?it/s]\u001b[A\n",
      "100%|██████████████████████████████████████████████████████████████████████████████████████████████████████████████████████████| 10/10 [00:00<00:00, 73.40it/s]\u001b[A\n"
     ]
    },
    {
     "name": "stdout",
     "output_type": "stream",
     "text": [
      "Saving patient data as .npz file...\n"
     ]
    },
    {
     "name": "stderr",
     "output_type": "stream",
     "text": [
      "\n",
      "  0%|                                                                                                                                   | 0/10 [00:00<?, ?it/s]\u001b[A\n",
      " 10%|████████████▎                                                                                                              | 1/10 [00:03<00:31,  3.49s/it]\u001b[A\n",
      " 20%|████████████████████████▌                                                                                                  | 2/10 [00:07<00:28,  3.59s/it]\u001b[A\n",
      " 30%|████████████████████████████████████▉                                                                                      | 3/10 [00:10<00:24,  3.49s/it]\u001b[A\n",
      " 40%|█████████████████████████████████████████████████▏                                                                         | 4/10 [00:13<00:19,  3.33s/it]\u001b[A\n",
      " 50%|█████████████████████████████████████████████████████████████▌                                                             | 5/10 [00:20<00:22,  4.53s/it]\u001b[A\n",
      " 60%|█████████████████████████████████████████████████████████████████████████▊                                                 | 6/10 [00:26<00:20,  5.08s/it]\u001b[A\n",
      " 70%|██████████████████████████████████████████████████████████████████████████████████████                                     | 7/10 [00:31<00:15,  5.02s/it]\u001b[A\n",
      " 80%|██████████████████████████████████████████████████████████████████████████████████████████████████▍                        | 8/10 [00:35<00:09,  4.78s/it]\u001b[A\n",
      " 90%|██████████████████████████████████████████████████████████████████████████████████████████████████████████████▋            | 9/10 [00:42<00:05,  5.46s/it]\u001b[A\n",
      "100%|██████████████████████████████████████████████████████████████████████████████████████████████████████████████████████████| 10/10 [00:46<00:00,  4.62s/it]\u001b[A\n"
     ]
    },
    {
     "name": "stdout",
     "output_type": "stream",
     "text": [
      "Cleaning up sorted DICOM files...\n"
     ]
    },
    {
     "name": "stderr",
     "output_type": "stream",
     "text": [
      "\n",
      "  0%|                                                                                                                                   | 0/10 [00:00<?, ?it/s]\u001b[A\n",
      "100%|██████████████████████████████████████████████████████████████████████████████████████████████████████████████████████████| 10/10 [00:00<00:00, 77.74it/s]\u001b[A\n",
      " 16%|███████████████████▍                                                                                                  | 161/979 [24:03<4:16:18, 18.80s/it]"
     ]
    },
    {
     "name": "stdout",
     "output_type": "stream",
     "text": [
      "Collected 28274 images in /rawdata/all/train/images\n"
     ]
    },
    {
     "name": "stderr",
     "output_type": "stream",
     "text": [
      "100%|██████████| 1694/1694 [00:03<00:00, 555.74it/s]                                                                         | 170/979 [24:34<57:43,  4.28s/it]\n"
     ]
    },
    {
     "name": "stdout",
     "output_type": "stream",
     "text": [
      "Files sorted\n",
      "Cleaning up downloaded DICOM files...\n"
     ]
    },
    {
     "name": "stderr",
     "output_type": "stream",
     "text": [
      "\n",
      "  0%|                                                                                                                                   | 0/10 [00:00<?, ?it/s]\u001b[A\n",
      "100%|██████████████████████████████████████████████████████████████████████████████████████████████████████████████████████████| 10/10 [00:00<00:00, 66.25it/s]\u001b[A\n"
     ]
    },
    {
     "name": "stdout",
     "output_type": "stream",
     "text": [
      "Saving patient data as .npz file...\n"
     ]
    },
    {
     "name": "stderr",
     "output_type": "stream",
     "text": [
      "\n",
      "  0%|                                                                                                                                   | 0/10 [00:00<?, ?it/s]\u001b[A\n",
      " 10%|████████████▎                                                                                                              | 1/10 [00:03<00:32,  3.64s/it]\u001b[A\n",
      " 20%|████████████████████████▌                                                                                                  | 2/10 [00:07<00:28,  3.60s/it]\u001b[A\n",
      " 30%|████████████████████████████████████▉                                                                                      | 3/10 [00:13<00:34,  4.87s/it]\u001b[A\n",
      " 40%|█████████████████████████████████████████████████▏                                                                         | 4/10 [00:17<00:26,  4.47s/it]\u001b[A\n",
      " 50%|█████████████████████████████████████████████████████████████▌                                                             | 5/10 [00:21<00:21,  4.32s/it]\u001b[A\n",
      " 60%|█████████████████████████████████████████████████████████████████████████▊                                                 | 6/10 [00:28<00:20,  5.24s/it]\u001b[A\n",
      " 70%|██████████████████████████████████████████████████████████████████████████████████████                                     | 7/10 [00:33<00:15,  5.01s/it]\u001b[A\n",
      " 80%|██████████████████████████████████████████████████████████████████████████████████████████████████▍                        | 8/10 [00:44<00:14,  7.01s/it]\u001b[A\n",
      " 90%|██████████████████████████████████████████████████████████████████████████████████████████████████████████████▋            | 9/10 [00:50<00:06,  6.83s/it]\u001b[A\n",
      "100%|██████████████████████████████████████████████████████████████████████████████████████████████████████████████████████████| 10/10 [00:54<00:00,  5.45s/it]\u001b[A\n"
     ]
    },
    {
     "name": "stdout",
     "output_type": "stream",
     "text": [
      "Cleaning up sorted DICOM files...\n"
     ]
    },
    {
     "name": "stderr",
     "output_type": "stream",
     "text": [
      "\n",
      "  0%|                                                                                                                                   | 0/10 [00:00<?, ?it/s]\u001b[A\n",
      "100%|██████████████████████████████████████████████████████████████████████████████████████████████████████████████████████████| 10/10 [00:00<00:00, 76.63it/s]\u001b[A\n",
      " 17%|████████████████████▌                                                                                                 | 171/979 [25:35<4:45:15, 21.18s/it]"
     ]
    },
    {
     "name": "stdout",
     "output_type": "stream",
     "text": [
      "Collected 29968 images in /rawdata/all/train/images\n"
     ]
    },
    {
     "name": "stderr",
     "output_type": "stream",
     "text": [
      "100%|██████████| 1519/1519 [00:02<00:00, 570.37it/s]                                                                         | 180/979 [26:03<53:03,  3.98s/it]\n"
     ]
    },
    {
     "name": "stdout",
     "output_type": "stream",
     "text": [
      "Files sorted\n",
      "Cleaning up downloaded DICOM files...\n"
     ]
    },
    {
     "name": "stderr",
     "output_type": "stream",
     "text": [
      "\n",
      "  0%|                                                                                                                                   | 0/10 [00:00<?, ?it/s]\u001b[A\n",
      "100%|██████████████████████████████████████████████████████████████████████████████████████████████████████████████████████████| 10/10 [00:00<00:00, 78.47it/s]\u001b[A\n"
     ]
    },
    {
     "name": "stdout",
     "output_type": "stream",
     "text": [
      "Saving patient data as .npz file...\n"
     ]
    },
    {
     "name": "stderr",
     "output_type": "stream",
     "text": [
      "\n",
      "  0%|                                                                                                                                   | 0/10 [00:00<?, ?it/s]\u001b[A\n",
      " 10%|████████████▎                                                                                                              | 1/10 [00:05<00:53,  5.96s/it]\u001b[A\n",
      " 20%|████████████████████████▌                                                                                                  | 2/10 [00:12<00:48,  6.01s/it]\u001b[A\n",
      " 30%|████████████████████████████████████▉                                                                                      | 3/10 [00:15<00:34,  4.95s/it]\u001b[A\n",
      " 40%|█████████████████████████████████████████████████▏                                                                         | 4/10 [00:19<00:25,  4.30s/it]\u001b[A\n",
      " 50%|█████████████████████████████████████████████████████████████▌                                                             | 5/10 [00:22<00:20,  4.07s/it]\u001b[A\n",
      " 60%|█████████████████████████████████████████████████████████████████████████▊                                                 | 6/10 [00:26<00:15,  3.88s/it]\u001b[A\n",
      " 70%|██████████████████████████████████████████████████████████████████████████████████████                                     | 7/10 [00:29<00:11,  3.82s/it]\u001b[A\n",
      " 80%|██████████████████████████████████████████████████████████████████████████████████████████████████▍                        | 8/10 [00:33<00:07,  3.71s/it]\u001b[A\n",
      " 90%|██████████████████████████████████████████████████████████████████████████████████████████████████████████████▋            | 9/10 [00:39<00:04,  4.40s/it]\u001b[A\n",
      "100%|██████████████████████████████████████████████████████████████████████████████████████████████████████████████████████████| 10/10 [00:44<00:00,  4.42s/it]\u001b[A\n"
     ]
    },
    {
     "name": "stdout",
     "output_type": "stream",
     "text": [
      "Cleaning up sorted DICOM files...\n"
     ]
    },
    {
     "name": "stderr",
     "output_type": "stream",
     "text": [
      "\n",
      "  0%|                                                                                                                                   | 0/10 [00:00<?, ?it/s]\u001b[A\n",
      "100%|██████████████████████████████████████████████████████████████████████████████████████████████████████████████████████████| 10/10 [00:00<00:00, 83.84it/s]\u001b[A\n",
      " 18%|█████████████████████▊                                                                                                | 181/979 [26:54<3:58:12, 17.91s/it]"
     ]
    },
    {
     "name": "stdout",
     "output_type": "stream",
     "text": [
      "Collected 31487 images in /rawdata/all/train/images\n"
     ]
    },
    {
     "name": "stderr",
     "output_type": "stream",
     "text": [
      "100%|██████████| 1315/1315 [00:02<00:00, 553.72it/s]                                                                         | 190/979 [27:21<52:02,  3.96s/it]\n"
     ]
    },
    {
     "name": "stdout",
     "output_type": "stream",
     "text": [
      "Files sorted\n",
      "Cleaning up downloaded DICOM files...\n"
     ]
    },
    {
     "name": "stderr",
     "output_type": "stream",
     "text": [
      "\n",
      "  0%|                                                                                                                                   | 0/10 [00:00<?, ?it/s]\u001b[A\n",
      "100%|██████████████████████████████████████████████████████████████████████████████████████████████████████████████████████████| 10/10 [00:00<00:00, 91.92it/s]\u001b[A\n"
     ]
    },
    {
     "name": "stdout",
     "output_type": "stream",
     "text": [
      "Saving patient data as .npz file...\n"
     ]
    },
    {
     "name": "stderr",
     "output_type": "stream",
     "text": [
      "\n",
      "  0%|                                                                                                                                   | 0/10 [00:00<?, ?it/s]\u001b[A\n",
      " 10%|████████████▎                                                                                                              | 1/10 [00:03<00:34,  3.83s/it]\u001b[A\n",
      " 20%|████████████████████████▌                                                                                                  | 2/10 [00:07<00:30,  3.81s/it]\u001b[A\n",
      " 30%|████████████████████████████████████▉                                                                                      | 3/10 [00:12<00:28,  4.12s/it]\u001b[A\n",
      " 40%|█████████████████████████████████████████████████▏                                                                         | 4/10 [00:16<00:24,  4.11s/it]\u001b[A\n",
      " 50%|█████████████████████████████████████████████████████████████▌                                                             | 5/10 [00:20<00:20,  4.09s/it]\u001b[A\n",
      " 60%|█████████████████████████████████████████████████████████████████████████▊                                                 | 6/10 [00:24<00:16,  4.14s/it]\u001b[A\n",
      " 70%|██████████████████████████████████████████████████████████████████████████████████████                                     | 7/10 [00:29<00:12,  4.29s/it]\u001b[A\n",
      " 80%|██████████████████████████████████████████████████████████████████████████████████████████████████▍                        | 8/10 [00:33<00:08,  4.20s/it]\u001b[A\n",
      " 90%|██████████████████████████████████████████████████████████████████████████████████████████████████████████████▋            | 9/10 [00:37<00:04,  4.15s/it]\u001b[A\n",
      "100%|██████████████████████████████████████████████████████████████████████████████████████████████████████████████████████████| 10/10 [00:40<00:00,  4.01s/it]\u001b[A\n"
     ]
    },
    {
     "name": "stdout",
     "output_type": "stream",
     "text": [
      "Cleaning up sorted DICOM files...\n"
     ]
    },
    {
     "name": "stderr",
     "output_type": "stream",
     "text": [
      "\n",
      "100%|█████████████████████████████████████████████████████████████████████████████████████████████████████████████████████████| 10/10 [00:00<00:00, 101.80it/s]\u001b[A\n",
      " 20%|███████████████████████                                                                                               | 191/979 [28:07<3:37:43, 16.58s/it]"
     ]
    },
    {
     "name": "stdout",
     "output_type": "stream",
     "text": [
      "Collected 32802 images in /rawdata/all/train/images\n"
     ]
    },
    {
     "name": "stderr",
     "output_type": "stream",
     "text": [
      "100%|██████████| 1531/1531 [00:02<00:00, 571.02it/s]                                                                         | 200/979 [28:35<47:13,  3.64s/it]\n"
     ]
    },
    {
     "name": "stdout",
     "output_type": "stream",
     "text": [
      "Files sorted\n",
      "Cleaning up downloaded DICOM files...\n"
     ]
    },
    {
     "name": "stderr",
     "output_type": "stream",
     "text": [
      "\n",
      "  0%|                                                                                                                                   | 0/10 [00:00<?, ?it/s]\u001b[A\n",
      "100%|██████████████████████████████████████████████████████████████████████████████████████████████████████████████████████████| 10/10 [00:00<00:00, 79.25it/s]\u001b[A\n"
     ]
    },
    {
     "name": "stdout",
     "output_type": "stream",
     "text": [
      "Saving patient data as .npz file...\n"
     ]
    },
    {
     "name": "stderr",
     "output_type": "stream",
     "text": [
      "\n",
      "  0%|                                                                                                                                   | 0/10 [00:00<?, ?it/s]\u001b[A\n",
      " 10%|████████████▎                                                                                                              | 1/10 [00:03<00:29,  3.25s/it]\u001b[A\n",
      " 20%|████████████████████████▌                                                                                                  | 2/10 [00:10<00:42,  5.37s/it]\u001b[A\n",
      " 30%|████████████████████████████████████▉                                                                                      | 3/10 [00:14<00:33,  4.84s/it]\u001b[A\n",
      " 40%|█████████████████████████████████████████████████▏                                                                         | 4/10 [00:20<00:32,  5.36s/it]\u001b[A"
     ]
    },
    {
     "name": "stdout",
     "output_type": "stream",
     "text": [
      "Error getting DICOM files for patient LIDC-IDRI-0199, skipping\n"
     ]
    },
    {
     "name": "stderr",
     "output_type": "stream",
     "text": [
      "\n",
      " 50%|█████████████████████████████████████████████████████████████▌                                                             | 5/10 [00:26<00:27,  5.45s/it]\u001b[A\n",
      " 60%|█████████████████████████████████████████████████████████████████████████▊                                                 | 6/10 [00:29<00:19,  4.86s/it]\u001b[A\n",
      " 70%|██████████████████████████████████████████████████████████████████████████████████████                                     | 7/10 [00:34<00:14,  4.88s/it]\u001b[A\n",
      " 80%|██████████████████████████████████████████████████████████████████████████████████████████████████▍                        | 8/10 [00:38<00:09,  4.51s/it]\u001b[A\n",
      " 90%|██████████████████████████████████████████████████████████████████████████████████████████████████████████████▋            | 9/10 [00:41<00:04,  4.20s/it]\u001b[A\n",
      "100%|██████████████████████████████████████████████████████████████████████████████████████████████████████████████████████████| 10/10 [00:45<00:00,  4.51s/it]\u001b[A\n"
     ]
    },
    {
     "name": "stdout",
     "output_type": "stream",
     "text": [
      "Cleaning up sorted DICOM files...\n"
     ]
    },
    {
     "name": "stderr",
     "output_type": "stream",
     "text": [
      "\n",
      "  0%|                                                                                                                                   | 0/10 [00:00<?, ?it/s]\u001b[A\n",
      "100%|██████████████████████████████████████████████████████████████████████████████████████████████████████████████████████████| 10/10 [00:00<00:00, 84.84it/s]\u001b[A\n",
      " 21%|████████████████████████▏                                                                                             | 201/979 [29:26<3:51:54, 17.88s/it]"
     ]
    },
    {
     "name": "stdout",
     "output_type": "stream",
     "text": [
      "Collected 34318 images in /rawdata/all/train/images\n"
     ]
    },
    {
     "name": "stderr",
     "output_type": "stream",
     "text": [
      "100%|██████████| 1673/1673 [00:03<00:00, 556.19it/s]                                                                         | 210/979 [29:56<48:51,  3.81s/it]\n"
     ]
    },
    {
     "name": "stdout",
     "output_type": "stream",
     "text": [
      "Files sorted\n",
      "Cleaning up downloaded DICOM files...\n"
     ]
    },
    {
     "name": "stderr",
     "output_type": "stream",
     "text": [
      "\n",
      "  0%|                                                                                                                                   | 0/10 [00:00<?, ?it/s]\u001b[A\n",
      "100%|██████████████████████████████████████████████████████████████████████████████████████████████████████████████████████████| 10/10 [00:00<00:00, 71.72it/s]\u001b[A\n"
     ]
    },
    {
     "name": "stdout",
     "output_type": "stream",
     "text": [
      "Saving patient data as .npz file...\n"
     ]
    },
    {
     "name": "stderr",
     "output_type": "stream",
     "text": [
      "\n",
      "  0%|                                                                                                                                   | 0/10 [00:00<?, ?it/s]\u001b[A"
     ]
    },
    {
     "name": "stdout",
     "output_type": "stream",
     "text": [
      "Failed to reduce all groups to <= 4 Annotations.\n",
      "Some nodules may be close and must be grouped manually.\n"
     ]
    },
    {
     "name": "stderr",
     "output_type": "stream",
     "text": [
      "\n",
      " 10%|████████████▎                                                                                                              | 1/10 [00:03<00:35,  3.98s/it]\u001b[A\n",
      " 20%|████████████████████████▌                                                                                                  | 2/10 [00:10<00:43,  5.44s/it]\u001b[A\n",
      " 30%|████████████████████████████████████▉                                                                                      | 3/10 [00:13<00:32,  4.58s/it]\u001b[A\n",
      " 40%|█████████████████████████████████████████████████▏                                                                         | 4/10 [00:20<00:30,  5.16s/it]\u001b[A\n",
      " 50%|█████████████████████████████████████████████████████████████▌                                                             | 5/10 [00:23<00:22,  4.55s/it]\u001b[A\n",
      " 60%|█████████████████████████████████████████████████████████████████████████▊                                                 | 6/10 [00:27<00:17,  4.42s/it]\u001b[A\n",
      " 70%|██████████████████████████████████████████████████████████████████████████████████████                                     | 7/10 [00:32<00:13,  4.49s/it]\u001b[A\n",
      " 80%|██████████████████████████████████████████████████████████████████████████████████████████████████▍                        | 8/10 [00:41<00:11,  5.85s/it]\u001b[A\n",
      " 90%|██████████████████████████████████████████████████████████████████████████████████████████████████████████████▋            | 9/10 [00:44<00:04,  4.99s/it]\u001b[A\n",
      "100%|██████████████████████████████████████████████████████████████████████████████████████████████████████████████████████████| 10/10 [00:48<00:00,  4.82s/it]\u001b[A\n"
     ]
    },
    {
     "name": "stdout",
     "output_type": "stream",
     "text": [
      "Cleaning up sorted DICOM files...\n"
     ]
    },
    {
     "name": "stderr",
     "output_type": "stream",
     "text": [
      "\n",
      "  0%|                                                                                                                                   | 0/10 [00:00<?, ?it/s]\u001b[A\n",
      "100%|██████████████████████████████████████████████████████████████████████████████████████████████████████████████████████████| 10/10 [00:00<00:00, 77.47it/s]\u001b[A\n",
      " 22%|█████████████████████████▍                                                                                            | 211/979 [30:52<4:08:30, 19.41s/it]"
     ]
    },
    {
     "name": "stdout",
     "output_type": "stream",
     "text": [
      "Collected 35991 images in /rawdata/all/train/images\n"
     ]
    },
    {
     "name": "stderr",
     "output_type": "stream",
     "text": [
      "100%|██████████| 1648/1648 [00:02<00:00, 556.73it/s]                                                                         | 220/979 [31:22<53:12,  4.21s/it]\n"
     ]
    },
    {
     "name": "stdout",
     "output_type": "stream",
     "text": [
      "Files sorted\n",
      "Cleaning up downloaded DICOM files...\n"
     ]
    },
    {
     "name": "stderr",
     "output_type": "stream",
     "text": [
      "\n",
      "  0%|                                                                                                                                   | 0/10 [00:00<?, ?it/s]\u001b[A\n",
      "100%|██████████████████████████████████████████████████████████████████████████████████████████████████████████████████████████| 10/10 [00:00<00:00, 74.03it/s]\u001b[A\n"
     ]
    },
    {
     "name": "stdout",
     "output_type": "stream",
     "text": [
      "Saving patient data as .npz file...\n"
     ]
    },
    {
     "name": "stderr",
     "output_type": "stream",
     "text": [
      "\n",
      "  0%|                                                                                                                                   | 0/10 [00:00<?, ?it/s]\u001b[A\n",
      " 10%|████████████▎                                                                                                              | 1/10 [00:03<00:32,  3.62s/it]\u001b[A\n",
      " 20%|████████████████████████▌                                                                                                  | 2/10 [00:09<00:37,  4.71s/it]\u001b[A\n",
      " 30%|████████████████████████████████████▉                                                                                      | 3/10 [00:15<00:38,  5.56s/it]\u001b[A\n",
      " 40%|█████████████████████████████████████████████████▏                                                                         | 4/10 [00:19<00:29,  4.86s/it]\u001b[A\n",
      " 50%|█████████████████████████████████████████████████████████████▌                                                             | 5/10 [00:23<00:22,  4.50s/it]\u001b[A\n",
      " 60%|█████████████████████████████████████████████████████████████████████████▊                                                 | 6/10 [00:27<00:17,  4.47s/it]\u001b[A\n",
      " 70%|██████████████████████████████████████████████████████████████████████████████████████                                     | 7/10 [00:31<00:12,  4.19s/it]\u001b[A\n",
      " 80%|██████████████████████████████████████████████████████████████████████████████████████████████████▍                        | 8/10 [00:35<00:08,  4.22s/it]\u001b[A\n",
      " 90%|██████████████████████████████████████████████████████████████████████████████████████████████████████████████▋            | 9/10 [00:42<00:05,  5.03s/it]\u001b[A\n",
      "100%|██████████████████████████████████████████████████████████████████████████████████████████████████████████████████████████| 10/10 [00:45<00:00,  4.60s/it]\u001b[A\n"
     ]
    },
    {
     "name": "stdout",
     "output_type": "stream",
     "text": [
      "Cleaning up sorted DICOM files...\n"
     ]
    },
    {
     "name": "stderr",
     "output_type": "stream",
     "text": [
      "\n",
      "  0%|                                                                                                                                   | 0/10 [00:00<?, ?it/s]\u001b[A\n",
      "100%|██████████████████████████████████████████████████████████████████████████████████████████████████████████████████████████| 10/10 [00:00<00:00, 77.95it/s]\u001b[A\n",
      " 23%|██████████████████████████▋                                                                                           | 221/979 [32:15<3:56:27, 18.72s/it]"
     ]
    },
    {
     "name": "stdout",
     "output_type": "stream",
     "text": [
      "Collected 37639 images in /rawdata/all/train/images\n"
     ]
    },
    {
     "name": "stderr",
     "output_type": "stream",
     "text": [
      "100%|██████████| 1421/1421 [00:02<00:00, 553.88it/s]                                                                         | 230/979 [32:42<44:17,  3.55s/it]\n"
     ]
    },
    {
     "name": "stdout",
     "output_type": "stream",
     "text": [
      "Files sorted\n",
      "Cleaning up downloaded DICOM files...\n"
     ]
    },
    {
     "name": "stderr",
     "output_type": "stream",
     "text": [
      "\n",
      "  0%|                                                                                                                                   | 0/10 [00:00<?, ?it/s]\u001b[A\n",
      "100%|██████████████████████████████████████████████████████████████████████████████████████████████████████████████████████████| 10/10 [00:00<00:00, 86.22it/s]\u001b[A\n"
     ]
    },
    {
     "name": "stdout",
     "output_type": "stream",
     "text": [
      "Saving patient data as .npz file...\n"
     ]
    },
    {
     "name": "stderr",
     "output_type": "stream",
     "text": [
      "\n",
      "  0%|                                                                                                                                   | 0/10 [00:00<?, ?it/s]\u001b[A\n",
      " 10%|████████████▎                                                                                                              | 1/10 [00:06<01:01,  6.78s/it]\u001b[A\n",
      " 20%|████████████████████████▌                                                                                                  | 2/10 [00:10<00:39,  4.97s/it]\u001b[A\n",
      " 30%|████████████████████████████████████▉                                                                                      | 3/10 [00:15<00:36,  5.20s/it]\u001b[A\n",
      " 40%|█████████████████████████████████████████████████▏                                                                         | 4/10 [00:19<00:26,  4.48s/it]\u001b[A\n",
      " 50%|█████████████████████████████████████████████████████████████▌                                                             | 5/10 [00:22<00:20,  4.15s/it]\u001b[A\n",
      " 60%|█████████████████████████████████████████████████████████████████████████▊                                                 | 6/10 [00:26<00:16,  4.05s/it]\u001b[A\n",
      " 70%|██████████████████████████████████████████████████████████████████████████████████████                                     | 7/10 [00:30<00:11,  3.83s/it]\u001b[A\n",
      " 80%|██████████████████████████████████████████████████████████████████████████████████████████████████▍                        | 8/10 [00:34<00:07,  3.88s/it]\u001b[A\n",
      " 90%|██████████████████████████████████████████████████████████████████████████████████████████████████████████████▋            | 9/10 [00:37<00:03,  3.67s/it]\u001b[A\n",
      "100%|██████████████████████████████████████████████████████████████████████████████████████████████████████████████████████████| 10/10 [00:40<00:00,  4.08s/it]\u001b[A\n"
     ]
    },
    {
     "name": "stdout",
     "output_type": "stream",
     "text": [
      "Cleaning up sorted DICOM files...\n"
     ]
    },
    {
     "name": "stderr",
     "output_type": "stream",
     "text": [
      "\n",
      "  0%|                                                                                                                                   | 0/10 [00:00<?, ?it/s]\u001b[A\n",
      "100%|██████████████████████████████████████████████████████████████████████████████████████████████████████████████████████████| 10/10 [00:00<00:00, 90.92it/s]\u001b[A\n",
      " 24%|███████████████████████████▊                                                                                          | 231/979 [33:29<3:26:38, 16.58s/it]"
     ]
    },
    {
     "name": "stdout",
     "output_type": "stream",
     "text": [
      "Collected 39060 images in /rawdata/all/train/images\n"
     ]
    },
    {
     "name": "stderr",
     "output_type": "stream",
     "text": [
      "100%|██████████| 1558/1558 [00:02<00:00, 562.16it/s]                                                                         | 240/979 [33:58<50:08,  4.07s/it]\n"
     ]
    },
    {
     "name": "stdout",
     "output_type": "stream",
     "text": [
      "Files sorted\n",
      "Cleaning up downloaded DICOM files...\n"
     ]
    },
    {
     "name": "stderr",
     "output_type": "stream",
     "text": [
      "\n",
      "  0%|                                                                                                                                   | 0/10 [00:00<?, ?it/s]\u001b[A\n",
      "100%|██████████████████████████████████████████████████████████████████████████████████████████████████████████████████████████| 10/10 [00:00<00:00, 77.86it/s]\u001b[A\n"
     ]
    },
    {
     "name": "stdout",
     "output_type": "stream",
     "text": [
      "Saving patient data as .npz file...\n"
     ]
    },
    {
     "name": "stderr",
     "output_type": "stream",
     "text": [
      "\n",
      "  0%|                                                                                                                                   | 0/10 [00:00<?, ?it/s]\u001b[A\n",
      " 10%|████████████▎                                                                                                              | 1/10 [00:04<00:37,  4.15s/it]\u001b[A\n",
      " 20%|████████████████████████▌                                                                                                  | 2/10 [00:12<00:52,  6.59s/it]\u001b[A\n",
      " 30%|████████████████████████████████████▉                                                                                      | 3/10 [00:16<00:36,  5.27s/it]\u001b[A\n",
      " 40%|█████████████████████████████████████████████████▏                                                                         | 4/10 [00:20<00:29,  4.89s/it]\u001b[A\n",
      " 50%|█████████████████████████████████████████████████████████████▌                                                             | 5/10 [00:24<00:23,  4.61s/it]\u001b[A\n",
      " 60%|█████████████████████████████████████████████████████████████████████████▊                                                 | 6/10 [00:28<00:17,  4.40s/it]\u001b[A\n",
      " 70%|██████████████████████████████████████████████████████████████████████████████████████                                     | 7/10 [00:32<00:12,  4.25s/it]\u001b[A\n",
      " 80%|██████████████████████████████████████████████████████████████████████████████████████████████████▍                        | 8/10 [00:36<00:08,  4.26s/it]\u001b[A\n",
      " 90%|██████████████████████████████████████████████████████████████████████████████████████████████████████████████▋            | 9/10 [00:40<00:04,  4.16s/it]\u001b[A\n",
      "100%|██████████████████████████████████████████████████████████████████████████████████████████████████████████████████████████| 10/10 [00:44<00:00,  4.43s/it]\u001b[A\n"
     ]
    },
    {
     "name": "stdout",
     "output_type": "stream",
     "text": [
      "Cleaning up sorted DICOM files...\n"
     ]
    },
    {
     "name": "stderr",
     "output_type": "stream",
     "text": [
      "\n",
      "  0%|                                                                                                                                   | 0/10 [00:00<?, ?it/s]\u001b[A\n",
      "100%|██████████████████████████████████████████████████████████████████████████████████████████████████████████████████████████| 10/10 [00:00<00:00, 84.38it/s]\u001b[A\n",
      " 25%|█████████████████████████████                                                                                         | 241/979 [34:48<3:42:00, 18.05s/it]"
     ]
    },
    {
     "name": "stdout",
     "output_type": "stream",
     "text": [
      "Collected 40618 images in /rawdata/all/train/images\n"
     ]
    },
    {
     "name": "stderr",
     "output_type": "stream",
     "text": [
      "100%|██████████| 1418/1418 [00:02<00:00, 560.58it/s]                                                                         | 250/979 [35:15<44:25,  3.66s/it]\n"
     ]
    },
    {
     "name": "stdout",
     "output_type": "stream",
     "text": [
      "Files sorted\n",
      "Cleaning up downloaded DICOM files...\n"
     ]
    },
    {
     "name": "stderr",
     "output_type": "stream",
     "text": [
      "\n",
      "  0%|                                                                                                                                   | 0/10 [00:00<?, ?it/s]\u001b[A\n",
      "100%|██████████████████████████████████████████████████████████████████████████████████████████████████████████████████████████| 10/10 [00:00<00:00, 83.57it/s]\u001b[A\n"
     ]
    },
    {
     "name": "stdout",
     "output_type": "stream",
     "text": [
      "Saving patient data as .npz file...\n"
     ]
    },
    {
     "name": "stderr",
     "output_type": "stream",
     "text": [
      "\n",
      "  0%|                                                                                                                                   | 0/10 [00:00<?, ?it/s]\u001b[A\n",
      " 10%|████████████▎                                                                                                              | 1/10 [00:04<00:39,  4.40s/it]\u001b[A\n",
      " 20%|████████████████████████▌                                                                                                  | 2/10 [00:08<00:32,  4.05s/it]\u001b[A"
     ]
    },
    {
     "name": "stdout",
     "output_type": "stream",
     "text": [
      "Failed to reduce all groups to <= 4 Annotations.\n",
      "Some nodules may be close and must be grouped manually.\n"
     ]
    },
    {
     "name": "stderr",
     "output_type": "stream",
     "text": [
      "\n",
      " 30%|████████████████████████████████████▉                                                                                      | 3/10 [00:12<00:28,  4.09s/it]\u001b[A\n",
      " 40%|█████████████████████████████████████████████████▏                                                                         | 4/10 [00:15<00:22,  3.82s/it]\u001b[A\n",
      " 50%|█████████████████████████████████████████████████████████████▌                                                             | 5/10 [00:19<00:19,  3.93s/it]\u001b[A\n",
      " 60%|█████████████████████████████████████████████████████████████████████████▊                                                 | 6/10 [00:23<00:15,  3.82s/it]\u001b[A\n",
      " 70%|██████████████████████████████████████████████████████████████████████████████████████                                     | 7/10 [00:26<00:10,  3.59s/it]\u001b[A\n",
      " 80%|██████████████████████████████████████████████████████████████████████████████████████████████████▍                        | 8/10 [00:33<00:09,  4.52s/it]\u001b[A\n",
      " 90%|██████████████████████████████████████████████████████████████████████████████████████████████████████████████▋            | 9/10 [00:37<00:04,  4.35s/it]\u001b[A\n",
      "100%|██████████████████████████████████████████████████████████████████████████████████████████████████████████████████████████| 10/10 [00:40<00:00,  4.03s/it]\u001b[A\n"
     ]
    },
    {
     "name": "stdout",
     "output_type": "stream",
     "text": [
      "Cleaning up sorted DICOM files...\n"
     ]
    },
    {
     "name": "stderr",
     "output_type": "stream",
     "text": [
      "\n",
      "  0%|                                                                                                                                   | 0/10 [00:00<?, ?it/s]\u001b[A\n",
      "100%|██████████████████████████████████████████████████████████████████████████████████████████████████████████████████████████| 10/10 [00:00<00:00, 85.28it/s]\u001b[A\n",
      " 26%|██████████████████████████████▎                                                                                       | 251/979 [36:02<3:19:57, 16.48s/it]"
     ]
    },
    {
     "name": "stdout",
     "output_type": "stream",
     "text": [
      "Collected 42036 images in /rawdata/all/train/images\n"
     ]
    },
    {
     "name": "stderr",
     "output_type": "stream",
     "text": [
      "100%|██████████| 1401/1401 [00:02<00:00, 562.10it/s]                                                                         | 260/979 [36:27<41:39,  3.48s/it]\n"
     ]
    },
    {
     "name": "stdout",
     "output_type": "stream",
     "text": [
      "Files sorted\n",
      "Cleaning up downloaded DICOM files...\n"
     ]
    },
    {
     "name": "stderr",
     "output_type": "stream",
     "text": [
      "\n",
      "  0%|                                                                                                                                   | 0/10 [00:00<?, ?it/s]\u001b[A\n",
      "100%|██████████████████████████████████████████████████████████████████████████████████████████████████████████████████████████| 10/10 [00:00<00:00, 82.30it/s]\u001b[A\n"
     ]
    },
    {
     "name": "stdout",
     "output_type": "stream",
     "text": [
      "Saving patient data as .npz file...\n"
     ]
    },
    {
     "name": "stderr",
     "output_type": "stream",
     "text": [
      "\n",
      "  0%|                                                                                                                                   | 0/10 [00:00<?, ?it/s]\u001b[A\n",
      " 10%|████████████▎                                                                                                              | 1/10 [00:03<00:31,  3.55s/it]\u001b[A\n",
      " 20%|████████████████████████▌                                                                                                  | 2/10 [00:07<00:30,  3.86s/it]\u001b[A\n",
      " 30%|████████████████████████████████████▉                                                                                      | 3/10 [00:10<00:25,  3.62s/it]\u001b[A\n",
      " 40%|█████████████████████████████████████████████████▏                                                                         | 4/10 [00:14<00:22,  3.69s/it]\u001b[A\n",
      " 50%|█████████████████████████████████████████████████████████████▌                                                             | 5/10 [00:18<00:17,  3.58s/it]\u001b[A\n",
      " 60%|█████████████████████████████████████████████████████████████████████████▊                                                 | 6/10 [00:21<00:14,  3.63s/it]\u001b[A\n",
      " 70%|██████████████████████████████████████████████████████████████████████████████████████                                     | 7/10 [00:26<00:11,  3.92s/it]\u001b[A\n",
      " 80%|██████████████████████████████████████████████████████████████████████████████████████████████████▍                        | 8/10 [00:32<00:09,  4.51s/it]\u001b[A\n",
      " 90%|██████████████████████████████████████████████████████████████████████████████████████████████████████████████▋            | 9/10 [00:35<00:04,  4.25s/it]\u001b[A\n",
      "100%|██████████████████████████████████████████████████████████████████████████████████████████████████████████████████████████| 10/10 [00:39<00:00,  3.98s/it]\u001b[A\n"
     ]
    },
    {
     "name": "stdout",
     "output_type": "stream",
     "text": [
      "Cleaning up sorted DICOM files...\n"
     ]
    },
    {
     "name": "stderr",
     "output_type": "stream",
     "text": [
      "\n",
      "  0%|                                                                                                                                   | 0/10 [00:00<?, ?it/s]\u001b[A\n",
      "100%|██████████████████████████████████████████████████████████████████████████████████████████████████████████████████████████| 10/10 [00:00<00:00, 87.00it/s]\u001b[A\n",
      " 27%|███████████████████████████████▍                                                                                      | 261/979 [37:14<3:15:37, 16.35s/it]"
     ]
    },
    {
     "name": "stdout",
     "output_type": "stream",
     "text": [
      "Collected 43437 images in /rawdata/all/train/images\n"
     ]
    },
    {
     "name": "stderr",
     "output_type": "stream",
     "text": [
      "100%|██████████| 1685/1685 [00:02<00:00, 570.56it/s]                                                                         | 270/979 [37:45<44:18,  3.75s/it]\n"
     ]
    },
    {
     "name": "stdout",
     "output_type": "stream",
     "text": [
      "Files sorted\n",
      "Cleaning up downloaded DICOM files...\n"
     ]
    },
    {
     "name": "stderr",
     "output_type": "stream",
     "text": [
      "\n",
      "  0%|                                                                                                                                   | 0/10 [00:00<?, ?it/s]\u001b[A\n",
      "100%|██████████████████████████████████████████████████████████████████████████████████████████████████████████████████████████| 10/10 [00:00<00:00, 73.13it/s]\u001b[A\n"
     ]
    },
    {
     "name": "stdout",
     "output_type": "stream",
     "text": [
      "Saving patient data as .npz file...\n"
     ]
    },
    {
     "name": "stderr",
     "output_type": "stream",
     "text": [
      "\n",
      "  0%|                                                                                                                                   | 0/10 [00:00<?, ?it/s]\u001b[A\n",
      " 10%|████████████▎                                                                                                              | 1/10 [00:03<00:35,  3.94s/it]\u001b[A\n",
      " 20%|████████████████████████▌                                                                                                  | 2/10 [00:07<00:27,  3.44s/it]\u001b[A\n",
      " 30%|████████████████████████████████████▉                                                                                      | 3/10 [00:10<00:25,  3.60s/it]\u001b[A\n",
      " 40%|█████████████████████████████████████████████████▏                                                                         | 4/10 [00:14<00:21,  3.61s/it]\u001b[A\n",
      " 50%|█████████████████████████████████████████████████████████████▌                                                             | 5/10 [00:20<00:23,  4.63s/it]\u001b[A\n",
      " 60%|█████████████████████████████████████████████████████████████████████████▊                                                 | 6/10 [00:28<00:22,  5.55s/it]\u001b[A\n",
      " 70%|██████████████████████████████████████████████████████████████████████████████████████                                     | 7/10 [00:32<00:15,  5.29s/it]\u001b[A\n",
      " 80%|██████████████████████████████████████████████████████████████████████████████████████████████████▍                        | 8/10 [00:36<00:09,  4.58s/it]\u001b[A\n",
      " 90%|██████████████████████████████████████████████████████████████████████████████████████████████████████████████▋            | 9/10 [00:42<00:05,  5.05s/it]\u001b[A\n",
      "100%|██████████████████████████████████████████████████████████████████████████████████████████████████████████████████████████| 10/10 [00:45<00:00,  4.54s/it]\u001b[A\n"
     ]
    },
    {
     "name": "stdout",
     "output_type": "stream",
     "text": [
      "Cleaning up sorted DICOM files...\n"
     ]
    },
    {
     "name": "stderr",
     "output_type": "stream",
     "text": [
      "\n",
      "  0%|                                                                                                                                   | 0/10 [00:00<?, ?it/s]\u001b[A\n",
      "100%|██████████████████████████████████████████████████████████████████████████████████████████████████████████████████████████| 10/10 [00:00<00:00, 76.77it/s]\u001b[A\n",
      " 28%|████████████████████████████████▋                                                                                     | 271/979 [38:36<3:33:50, 18.12s/it]"
     ]
    },
    {
     "name": "stdout",
     "output_type": "stream",
     "text": [
      "Collected 45122 images in /rawdata/all/train/images\n"
     ]
    },
    {
     "name": "stderr",
     "output_type": "stream",
     "text": [
      "100%|██████████| 1479/1479 [00:02<00:00, 571.56it/s]                                                                         | 280/979 [39:05<44:37,  3.83s/it]\n"
     ]
    },
    {
     "name": "stdout",
     "output_type": "stream",
     "text": [
      "Files sorted\n",
      "Cleaning up downloaded DICOM files...\n"
     ]
    },
    {
     "name": "stderr",
     "output_type": "stream",
     "text": [
      "\n",
      "  0%|                                                                                                                                   | 0/10 [00:00<?, ?it/s]\u001b[A\n",
      "100%|██████████████████████████████████████████████████████████████████████████████████████████████████████████████████████████| 10/10 [00:00<00:00, 81.18it/s]\u001b[A\n"
     ]
    },
    {
     "name": "stdout",
     "output_type": "stream",
     "text": [
      "Saving patient data as .npz file...\n"
     ]
    },
    {
     "name": "stderr",
     "output_type": "stream",
     "text": [
      "\n",
      "  0%|                                                                                                                                   | 0/10 [00:00<?, ?it/s]\u001b[A\n",
      " 10%|████████████▎                                                                                                              | 1/10 [00:03<00:32,  3.64s/it]\u001b[A\n",
      " 20%|████████████████████████▌                                                                                                  | 2/10 [00:06<00:27,  3.42s/it]\u001b[A\n",
      " 30%|████████████████████████████████████▉                                                                                      | 3/10 [00:10<00:23,  3.38s/it]\u001b[A\n",
      " 40%|█████████████████████████████████████████████████▏                                                                         | 4/10 [00:13<00:19,  3.30s/it]\u001b[A\n",
      " 50%|█████████████████████████████████████████████████████████████▌                                                             | 5/10 [00:17<00:17,  3.41s/it]\u001b[A\n",
      " 60%|█████████████████████████████████████████████████████████████████████████▊                                                 | 6/10 [00:20<00:14,  3.54s/it]\u001b[A\n",
      " 70%|██████████████████████████████████████████████████████████████████████████████████████                                     | 7/10 [00:26<00:12,  4.29s/it]\u001b[A\n",
      " 80%|██████████████████████████████████████████████████████████████████████████████████████████████████▍                        | 8/10 [00:30<00:08,  4.11s/it]\u001b[A\n",
      " 90%|██████████████████████████████████████████████████████████████████████████████████████████████████████████████▋            | 9/10 [00:33<00:03,  3.87s/it]\u001b[A\n",
      "100%|██████████████████████████████████████████████████████████████████████████████████████████████████████████████████████████| 10/10 [00:39<00:00,  3.95s/it]\u001b[A\n"
     ]
    },
    {
     "name": "stdout",
     "output_type": "stream",
     "text": [
      "Cleaning up sorted DICOM files...\n"
     ]
    },
    {
     "name": "stderr",
     "output_type": "stream",
     "text": [
      "\n",
      "  0%|                                                                                                                                   | 0/10 [00:00<?, ?it/s]\u001b[A\n",
      "100%|██████████████████████████████████████████████████████████████████████████████████████████████████████████████████████████| 10/10 [00:00<00:00, 86.59it/s]\u001b[A\n",
      " 29%|█████████████████████████████████▊                                                                                    | 281/979 [39:50<3:09:20, 16.28s/it]"
     ]
    },
    {
     "name": "stdout",
     "output_type": "stream",
     "text": [
      "Collected 46601 images in /rawdata/all/train/images\n"
     ]
    },
    {
     "name": "stderr",
     "output_type": "stream",
     "text": [
      "100%|██████████| 1906/1906 [00:03<00:00, 582.54it/s]                                                                         | 290/979 [40:20<49:41,  4.33s/it]\n"
     ]
    },
    {
     "name": "stdout",
     "output_type": "stream",
     "text": [
      "Files sorted\n",
      "Cleaning up downloaded DICOM files...\n"
     ]
    },
    {
     "name": "stderr",
     "output_type": "stream",
     "text": [
      "\n",
      "  0%|                                                                                                                                   | 0/10 [00:00<?, ?it/s]\u001b[A\n",
      "100%|██████████████████████████████████████████████████████████████████████████████████████████████████████████████████████████| 10/10 [00:00<00:00, 63.70it/s]\u001b[A\n"
     ]
    },
    {
     "name": "stdout",
     "output_type": "stream",
     "text": [
      "Saving patient data as .npz file...\n"
     ]
    },
    {
     "name": "stderr",
     "output_type": "stream",
     "text": [
      "\n",
      "  0%|                                                                                                                                   | 0/10 [00:00<?, ?it/s]\u001b[A\n",
      " 10%|████████████▎                                                                                                              | 1/10 [00:06<01:02,  6.95s/it]\u001b[A\n",
      " 20%|████████████████████████▌                                                                                                  | 2/10 [00:10<00:39,  4.92s/it]\u001b[A\n",
      " 30%|████████████████████████████████████▉                                                                                      | 3/10 [00:23<01:00,  8.61s/it]\u001b[A\n",
      " 40%|█████████████████████████████████████████████████▏                                                                         | 4/10 [00:26<00:39,  6.51s/it]\u001b[A\n",
      " 50%|█████████████████████████████████████████████████████████████▌                                                             | 5/10 [00:32<00:31,  6.36s/it]\u001b[A\n",
      " 60%|█████████████████████████████████████████████████████████████████████████▊                                                 | 6/10 [00:37<00:22,  5.65s/it]\u001b[A\n",
      " 70%|██████████████████████████████████████████████████████████████████████████████████████                                     | 7/10 [00:40<00:14,  4.83s/it]\u001b[A\n",
      " 80%|██████████████████████████████████████████████████████████████████████████████████████████████████▍                        | 8/10 [00:44<00:09,  4.54s/it]\u001b[A\n",
      " 90%|██████████████████████████████████████████████████████████████████████████████████████████████████████████████▋            | 9/10 [00:47<00:04,  4.09s/it]\u001b[A\n",
      "100%|██████████████████████████████████████████████████████████████████████████████████████████████████████████████████████████| 10/10 [00:51<00:00,  5.16s/it]\u001b[A\n"
     ]
    },
    {
     "name": "stdout",
     "output_type": "stream",
     "text": [
      "Cleaning up sorted DICOM files...\n"
     ]
    },
    {
     "name": "stderr",
     "output_type": "stream",
     "text": [
      "\n",
      "  0%|                                                                                                                                   | 0/10 [00:00<?, ?it/s]\u001b[A\n",
      "100%|██████████████████████████████████████████████████████████████████████████████████████████████████████████████████████████| 10/10 [00:00<00:00, 70.44it/s]\u001b[A\n",
      " 30%|███████████████████████████████████                                                                                   | 291/979 [41:23<4:12:00, 21.98s/it]"
     ]
    },
    {
     "name": "stdout",
     "output_type": "stream",
     "text": [
      "Collected 48507 images in /rawdata/all/train/images\n"
     ]
    },
    {
     "name": "stderr",
     "output_type": "stream",
     "text": [
      "100%|██████████| 3422/3422 [00:06<00:00, 561.09it/s]                                                                       | 300/979 [42:16<1:22:32,  7.29s/it]\n"
     ]
    },
    {
     "name": "stdout",
     "output_type": "stream",
     "text": [
      "Files sorted\n",
      "Cleaning up downloaded DICOM files...\n"
     ]
    },
    {
     "name": "stderr",
     "output_type": "stream",
     "text": [
      "\n",
      "  0%|                                                                                                                                   | 0/10 [00:00<?, ?it/s]\u001b[A\n",
      " 50%|█████████████████████████████████████████████████████████████▌                                                             | 5/10 [00:00<00:00, 47.62it/s]\u001b[A\n",
      "100%|██████████████████████████████████████████████████████████████████████████████████████████████████████████████████████████| 10/10 [00:00<00:00, 37.11it/s]\u001b[A\n"
     ]
    },
    {
     "name": "stdout",
     "output_type": "stream",
     "text": [
      "Saving patient data as .npz file...\n"
     ]
    },
    {
     "name": "stderr",
     "output_type": "stream",
     "text": [
      "\n",
      "  0%|                                                                                                                                   | 0/10 [00:00<?, ?it/s]\u001b[A\n",
      " 10%|████████████▎                                                                                                              | 1/10 [00:11<01:46, 11.87s/it]\u001b[A\n",
      " 20%|████████████████████████▌                                                                                                  | 2/10 [00:22<01:29, 11.18s/it]\u001b[A\n",
      " 30%|████████████████████████████████████▉                                                                                      | 3/10 [00:25<00:53,  7.60s/it]\u001b[A\n",
      " 40%|█████████████████████████████████████████████████▏                                                                         | 4/10 [00:30<00:39,  6.58s/it]\u001b[A\n",
      " 50%|█████████████████████████████████████████████████████████████▌                                                             | 5/10 [00:46<00:48,  9.69s/it]\u001b[A\n",
      " 60%|█████████████████████████████████████████████████████████████████████████▊                                                 | 6/10 [00:52<00:34,  8.71s/it]\u001b[A\n",
      " 70%|██████████████████████████████████████████████████████████████████████████████████████                                     | 7/10 [01:04<00:28,  9.55s/it]\u001b[A\n",
      " 80%|██████████████████████████████████████████████████████████████████████████████████████████████████▍                        | 8/10 [01:15<00:20, 10.25s/it]\u001b[A\n",
      " 90%|██████████████████████████████████████████████████████████████████████████████████████████████████████████████▋            | 9/10 [01:19<00:08,  8.12s/it]\u001b[A\n",
      "100%|██████████████████████████████████████████████████████████████████████████████████████████████████████████████████████████| 10/10 [01:32<00:00,  9.20s/it]\u001b[A\n"
     ]
    },
    {
     "name": "stdout",
     "output_type": "stream",
     "text": [
      "Cleaning up sorted DICOM files...\n"
     ]
    },
    {
     "name": "stderr",
     "output_type": "stream",
     "text": [
      "\n",
      "  0%|                                                                                                                                   | 0/10 [00:00<?, ?it/s]\u001b[A\n",
      " 50%|█████████████████████████████████████████████████████████████▌                                                             | 5/10 [00:00<00:00, 41.12it/s]\u001b[A\n",
      "100%|██████████████████████████████████████████████████████████████████████████████████████████████████████████████████████████| 10/10 [00:00<00:00, 39.91it/s]\u001b[A\n",
      " 31%|████████████████████████████████████▎                                                                                 | 301/979 [43:58<6:42:44, 35.64s/it]"
     ]
    },
    {
     "name": "stdout",
     "output_type": "stream",
     "text": [
      "Collected 51929 images in /rawdata/all/train/images\n"
     ]
    },
    {
     "name": "stderr",
     "output_type": "stream",
     "text": [
      "100%|██████████| 2465/2465 [00:04<00:00, 582.81it/s]                                                                         | 310/979 [44:35<58:54,  5.28s/it]\n"
     ]
    },
    {
     "name": "stdout",
     "output_type": "stream",
     "text": [
      "Files sorted\n",
      "Cleaning up downloaded DICOM files...\n"
     ]
    },
    {
     "name": "stderr",
     "output_type": "stream",
     "text": [
      "\n",
      "  0%|                                                                                                                                   | 0/10 [00:00<?, ?it/s]\u001b[A\n",
      "100%|██████████████████████████████████████████████████████████████████████████████████████████████████████████████████████████| 10/10 [00:00<00:00, 51.60it/s]\u001b[A\n"
     ]
    },
    {
     "name": "stdout",
     "output_type": "stream",
     "text": [
      "Saving patient data as .npz file...\n"
     ]
    },
    {
     "name": "stderr",
     "output_type": "stream",
     "text": [
      "\n",
      "  0%|                                                                                                                                   | 0/10 [00:00<?, ?it/s]\u001b[A\n",
      " 10%|████████████▎                                                                                                              | 1/10 [00:06<00:54,  6.01s/it]\u001b[A\n",
      " 20%|████████████████████████▌                                                                                                  | 2/10 [00:09<00:34,  4.26s/it]\u001b[A\n",
      " 30%|████████████████████████████████████▉                                                                                      | 3/10 [00:15<00:37,  5.33s/it]\u001b[A\n",
      " 40%|█████████████████████████████████████████████████▏                                                                         | 4/10 [00:21<00:32,  5.41s/it]\u001b[A\n",
      " 50%|█████████████████████████████████████████████████████████████▌                                                             | 5/10 [00:27<00:28,  5.79s/it]\u001b[A\n",
      " 60%|█████████████████████████████████████████████████████████████████████████▊                                                 | 6/10 [00:34<00:23,  5.99s/it]\u001b[A\n",
      " 70%|██████████████████████████████████████████████████████████████████████████████████████                                     | 7/10 [00:41<00:19,  6.38s/it]\u001b[A\n",
      " 80%|██████████████████████████████████████████████████████████████████████████████████████████████████▍                        | 8/10 [00:48<00:13,  6.81s/it]\u001b[A\n",
      " 90%|██████████████████████████████████████████████████████████████████████████████████████████████████████████████▋            | 9/10 [01:04<00:09,  9.42s/it]\u001b[A\n",
      "100%|██████████████████████████████████████████████████████████████████████████████████████████████████████████████████████████| 10/10 [01:07<00:00,  6.72s/it]\u001b[A\n"
     ]
    },
    {
     "name": "stdout",
     "output_type": "stream",
     "text": [
      "Cleaning up sorted DICOM files...\n"
     ]
    },
    {
     "name": "stderr",
     "output_type": "stream",
     "text": [
      "\n",
      "  0%|                                                                                                                                   | 0/10 [00:00<?, ?it/s]\u001b[A\n",
      "100%|██████████████████████████████████████████████████████████████████████████████████████████████████████████████████████████| 10/10 [00:00<00:00, 55.74it/s]\u001b[A\n",
      " 32%|█████████████████████████████████████▍                                                                                | 311/979 [45:51<4:55:56, 26.58s/it]"
     ]
    },
    {
     "name": "stdout",
     "output_type": "stream",
     "text": [
      "Collected 54394 images in /rawdata/all/train/images\n"
     ]
    },
    {
     "name": "stderr",
     "output_type": "stream",
     "text": [
      "100%|██████████| 1713/1713 [00:02<00:00, 581.63it/s]                                                                         | 320/979 [46:21<46:48,  4.26s/it]\n"
     ]
    },
    {
     "name": "stdout",
     "output_type": "stream",
     "text": [
      "Files sorted\n",
      "Cleaning up downloaded DICOM files...\n"
     ]
    },
    {
     "name": "stderr",
     "output_type": "stream",
     "text": [
      "\n",
      "  0%|                                                                                                                                   | 0/10 [00:00<?, ?it/s]\u001b[A\n",
      "100%|██████████████████████████████████████████████████████████████████████████████████████████████████████████████████████████| 10/10 [00:00<00:00, 70.68it/s]\u001b[A\n"
     ]
    },
    {
     "name": "stdout",
     "output_type": "stream",
     "text": [
      "Saving patient data as .npz file...\n"
     ]
    },
    {
     "name": "stderr",
     "output_type": "stream",
     "text": [
      "\n",
      "  0%|                                                                                                                                    | 0/9 [00:00<?, ?it/s]\u001b[A\n",
      " 11%|█████████████▊                                                                                                              | 1/9 [00:04<00:32,  4.07s/it]\u001b[A\n",
      " 22%|███████████████████████████▌                                                                                                | 2/9 [00:09<00:32,  4.68s/it]\u001b[A\n",
      " 33%|█████████████████████████████████████████▎                                                                                  | 3/9 [00:13<00:26,  4.36s/it]\u001b[A\n",
      " 44%|███████████████████████████████████████████████████████                                                                     | 4/9 [00:16<00:19,  3.92s/it]\u001b[A\n",
      " 56%|████████████████████████████████████████████████████████████████████▉                                                       | 5/9 [00:21<00:17,  4.29s/it]\u001b[A\n",
      " 67%|██████████████████████████████████████████████████████████████████████████████████▋                                         | 6/9 [00:28<00:15,  5.30s/it]\u001b[A\n",
      " 78%|████████████████████████████████████████████████████████████████████████████████████████████████▍                           | 7/9 [00:31<00:09,  4.62s/it]\u001b[A\n",
      " 89%|██████████████████████████████████████████████████████████████████████████████████████████████████████████████▏             | 8/9 [00:36<00:04,  4.76s/it]\u001b[A\n",
      "100%|████████████████████████████████████████████████████████████████████████████████████████████████████████████████████████████| 9/9 [00:44<00:00,  4.90s/it]\u001b[A\n"
     ]
    },
    {
     "name": "stdout",
     "output_type": "stream",
     "text": [
      "Cleaning up sorted DICOM files...\n"
     ]
    },
    {
     "name": "stderr",
     "output_type": "stream",
     "text": [
      "\n",
      "  0%|                                                                                                                                    | 0/9 [00:00<?, ?it/s]\u001b[A\n",
      "100%|████████████████████████████████████████████████████████████████████████████████████████████████████████████████████████████| 9/9 [00:00<00:00, 70.03it/s]\u001b[A\n",
      " 33%|██████████████████████████████████████▋                                                                               | 321/979 [47:11<3:17:53, 18.04s/it]"
     ]
    },
    {
     "name": "stdout",
     "output_type": "stream",
     "text": [
      "Collected 55990 images in /rawdata/all/train/images\n"
     ]
    },
    {
     "name": "stderr",
     "output_type": "stream",
     "text": [
      "100%|██████████| 2704/2704 [00:04<00:00, 576.46it/s]                                                                         | 330/979 [47:54<54:39,  5.05s/it]\n"
     ]
    },
    {
     "name": "stdout",
     "output_type": "stream",
     "text": [
      "Files sorted\n",
      "Cleaning up downloaded DICOM files...\n"
     ]
    },
    {
     "name": "stderr",
     "output_type": "stream",
     "text": [
      "\n",
      "  0%|                                                                                                                                   | 0/10 [00:00<?, ?it/s]\u001b[A\n",
      "100%|██████████████████████████████████████████████████████████████████████████████████████████████████████████████████████████| 10/10 [00:00<00:00, 46.25it/s]\u001b[A\n"
     ]
    },
    {
     "name": "stdout",
     "output_type": "stream",
     "text": [
      "Saving patient data as .npz file...\n"
     ]
    },
    {
     "name": "stderr",
     "output_type": "stream",
     "text": [
      "\n",
      "  0%|                                                                                                                                    | 0/9 [00:00<?, ?it/s]\u001b[A\n",
      " 11%|█████████████▊                                                                                                              | 1/9 [00:05<00:44,  5.56s/it]\u001b[A\n",
      " 22%|███████████████████████████▌                                                                                                | 2/9 [00:11<00:39,  5.65s/it]\u001b[A\n",
      " 33%|█████████████████████████████████████████▎                                                                                  | 3/9 [00:23<00:51,  8.62s/it]\u001b[A\n",
      " 44%|███████████████████████████████████████████████████████                                                                     | 4/9 [00:26<00:32,  6.57s/it]\u001b[A\n",
      " 56%|████████████████████████████████████████████████████████████████████▉                                                       | 5/9 [00:39<00:35,  8.81s/it]\u001b[A\n",
      " 67%|██████████████████████████████████████████████████████████████████████████████████▋                                         | 6/9 [00:46<00:24,  8.13s/it]\u001b[A\n",
      " 78%|████████████████████████████████████████████████████████████████████████████████████████████████▍                           | 7/9 [00:54<00:15,  7.95s/it]\u001b[A\n",
      " 89%|██████████████████████████████████████████████████████████████████████████████████████████████████████████████▏             | 8/9 [00:56<00:06,  6.26s/it]\u001b[A\n",
      "100%|████████████████████████████████████████████████████████████████████████████████████████████████████████████████████████████| 9/9 [01:02<00:00,  6.93s/it]\u001b[A\n"
     ]
    },
    {
     "name": "stdout",
     "output_type": "stream",
     "text": [
      "Cleaning up sorted DICOM files...\n"
     ]
    },
    {
     "name": "stderr",
     "output_type": "stream",
     "text": [
      "\n",
      "  0%|                                                                                                                                    | 0/9 [00:00<?, ?it/s]\u001b[A\n",
      "100%|████████████████████████████████████████████████████████████████████████████████████████████████████████████████████████████| 9/9 [00:00<00:00, 45.46it/s]\u001b[A\n",
      " 34%|███████████████████████████████████████▉                                                                              | 331/979 [49:05<4:29:04, 24.91s/it]"
     ]
    },
    {
     "name": "stdout",
     "output_type": "stream",
     "text": [
      "Collected 58402 images in /rawdata/all/train/images\n"
     ]
    },
    {
     "name": "stderr",
     "output_type": "stream",
     "text": [
      "100%|██████████| 2288/2288 [00:03<00:00, 586.54it/s]                                                                         | 340/979 [49:43<57:45,  5.42s/it]\n"
     ]
    },
    {
     "name": "stdout",
     "output_type": "stream",
     "text": [
      "Files sorted\n",
      "Cleaning up downloaded DICOM files...\n"
     ]
    },
    {
     "name": "stderr",
     "output_type": "stream",
     "text": [
      "\n",
      "  0%|                                                                                                                                   | 0/10 [00:00<?, ?it/s]\u001b[A\n",
      "100%|██████████████████████████████████████████████████████████████████████████████████████████████████████████████████████████| 10/10 [00:00<00:00, 54.16it/s]\u001b[A\n"
     ]
    },
    {
     "name": "stdout",
     "output_type": "stream",
     "text": [
      "Saving patient data as .npz file...\n"
     ]
    },
    {
     "name": "stderr",
     "output_type": "stream",
     "text": [
      "\n",
      "  0%|                                                                                                                                   | 0/10 [00:00<?, ?it/s]\u001b[A\n",
      " 10%|████████████▎                                                                                                              | 1/10 [00:07<01:11,  7.97s/it]\u001b[A\n",
      " 20%|████████████████████████▌                                                                                                  | 2/10 [00:12<00:46,  5.86s/it]\u001b[A\n",
      " 30%|████████████████████████████████████▉                                                                                      | 3/10 [00:18<00:41,  5.99s/it]\u001b[A\n",
      " 40%|█████████████████████████████████████████████████▏                                                                         | 4/10 [00:22<00:30,  5.05s/it]\u001b[A"
     ]
    },
    {
     "name": "stdout",
     "output_type": "stream",
     "text": [
      "Failed to reduce all groups to <= 4 Annotations.\n",
      "Some nodules may be close and must be grouped manually.\n"
     ]
    },
    {
     "name": "stderr",
     "output_type": "stream",
     "text": [
      "\n",
      " 50%|█████████████████████████████████████████████████████████████▌                                                             | 5/10 [00:36<00:42,  8.51s/it]\u001b[A\n",
      " 60%|█████████████████████████████████████████████████████████████████████████▊                                                 | 6/10 [00:44<00:32,  8.21s/it]\u001b[A\n",
      " 70%|██████████████████████████████████████████████████████████████████████████████████████                                     | 7/10 [00:52<00:24,  8.23s/it]\u001b[A\n",
      " 80%|██████████████████████████████████████████████████████████████████████████████████████████████████▍                        | 8/10 [00:56<00:13,  6.75s/it]\u001b[A\n",
      " 90%|██████████████████████████████████████████████████████████████████████████████████████████████████████████████▋            | 9/10 [01:04<00:07,  7.17s/it]\u001b[A\n",
      "100%|██████████████████████████████████████████████████████████████████████████████████████████████████████████████████████████| 10/10 [01:07<00:00,  6.78s/it]\u001b[A\n"
     ]
    },
    {
     "name": "stdout",
     "output_type": "stream",
     "text": [
      "Cleaning up sorted DICOM files...\n"
     ]
    },
    {
     "name": "stderr",
     "output_type": "stream",
     "text": [
      "\n",
      "  0%|                                                                                                                                   | 0/10 [00:00<?, ?it/s]\u001b[A\n",
      "100%|██████████████████████████████████████████████████████████████████████████████████████████████████████████████████████████| 10/10 [00:00<00:00, 56.82it/s]\u001b[A\n",
      " 35%|█████████████████████████████████████████                                                                             | 341/979 [50:58<4:40:06, 26.34s/it]"
     ]
    },
    {
     "name": "stdout",
     "output_type": "stream",
     "text": [
      "Collected 60690 images in /rawdata/all/train/images\n"
     ]
    },
    {
     "name": "stderr",
     "output_type": "stream",
     "text": [
      "100%|██████████| 1914/1914 [00:03<00:00, 554.90it/s]                                                                         | 350/979 [51:30<48:47,  4.65s/it]\n"
     ]
    },
    {
     "name": "stdout",
     "output_type": "stream",
     "text": [
      "Files sorted\n",
      "Cleaning up downloaded DICOM files...\n"
     ]
    },
    {
     "name": "stderr",
     "output_type": "stream",
     "text": [
      "\n",
      "  0%|                                                                                                                                   | 0/10 [00:00<?, ?it/s]\u001b[A\n",
      "100%|██████████████████████████████████████████████████████████████████████████████████████████████████████████████████████████| 10/10 [00:00<00:00, 58.99it/s]\u001b[A\n"
     ]
    },
    {
     "name": "stdout",
     "output_type": "stream",
     "text": [
      "Saving patient data as .npz file...\n"
     ]
    },
    {
     "name": "stderr",
     "output_type": "stream",
     "text": [
      "\n",
      "  0%|                                                                                                                                   | 0/10 [00:00<?, ?it/s]\u001b[A\n",
      " 10%|████████████▎                                                                                                              | 1/10 [00:04<00:39,  4.41s/it]\u001b[A\n",
      " 20%|████████████████████████▌                                                                                                  | 2/10 [00:08<00:35,  4.49s/it]\u001b[A\n",
      " 30%|████████████████████████████████████▉                                                                                      | 3/10 [00:12<00:28,  4.12s/it]\u001b[A\n",
      " 40%|█████████████████████████████████████████████████▏                                                                         | 4/10 [00:16<00:23,  3.94s/it]\u001b[A\n",
      " 50%|█████████████████████████████████████████████████████████████▌                                                             | 5/10 [00:23<00:25,  5.12s/it]\u001b[A\n",
      " 60%|█████████████████████████████████████████████████████████████████████████▊                                                 | 6/10 [00:26<00:17,  4.35s/it]\u001b[A\n",
      " 70%|██████████████████████████████████████████████████████████████████████████████████████                                     | 7/10 [00:31<00:13,  4.58s/it]\u001b[A\n",
      " 80%|██████████████████████████████████████████████████████████████████████████████████████████████████▍                        | 8/10 [00:39<00:11,  5.78s/it]\u001b[A\n",
      " 90%|██████████████████████████████████████████████████████████████████████████████████████████████████████████████▋            | 9/10 [00:47<00:06,  6.25s/it]\u001b[A\n",
      "100%|██████████████████████████████████████████████████████████████████████████████████████████████████████████████████████████| 10/10 [00:54<00:00,  5.42s/it]\u001b[A\n"
     ]
    },
    {
     "name": "stdout",
     "output_type": "stream",
     "text": [
      "Cleaning up sorted DICOM files...\n"
     ]
    },
    {
     "name": "stderr",
     "output_type": "stream",
     "text": [
      "\n",
      "  0%|                                                                                                                                   | 0/10 [00:00<?, ?it/s]\u001b[A\n",
      "100%|██████████████████████████████████████████████████████████████████████████████████████████████████████████████████████████| 10/10 [00:00<00:00, 65.08it/s]\u001b[A\n",
      " 36%|██████████████████████████████████████████▎                                                                           | 351/979 [52:33<3:51:52, 22.15s/it]"
     ]
    },
    {
     "name": "stdout",
     "output_type": "stream",
     "text": [
      "Collected 62604 images in /rawdata/all/train/images\n"
     ]
    },
    {
     "name": "stderr",
     "output_type": "stream",
     "text": [
      "100%|██████████| 1841/1841 [00:03<00:00, 575.16it/s]                                                                         | 360/979 [53:04<47:28,  4.60s/it]\n"
     ]
    },
    {
     "name": "stdout",
     "output_type": "stream",
     "text": [
      "Files sorted\n",
      "Cleaning up downloaded DICOM files...\n"
     ]
    },
    {
     "name": "stderr",
     "output_type": "stream",
     "text": [
      "\n",
      "  0%|                                                                                                                                   | 0/10 [00:00<?, ?it/s]\u001b[A\n",
      "100%|██████████████████████████████████████████████████████████████████████████████████████████████████████████████████████████| 10/10 [00:00<00:00, 67.92it/s]\u001b[A\n"
     ]
    },
    {
     "name": "stdout",
     "output_type": "stream",
     "text": [
      "Saving patient data as .npz file...\n"
     ]
    },
    {
     "name": "stderr",
     "output_type": "stream",
     "text": [
      "\n",
      "  0%|                                                                                                                                    | 0/9 [00:00<?, ?it/s]\u001b[A\n",
      " 11%|█████████████▊                                                                                                              | 1/9 [00:06<00:49,  6.20s/it]\u001b[A\n",
      " 22%|███████████████████████████▌                                                                                                | 2/9 [00:14<00:50,  7.20s/it]\u001b[A\n",
      " 33%|█████████████████████████████████████████▎                                                                                  | 3/9 [00:17<00:31,  5.32s/it]\u001b[A\n",
      " 44%|███████████████████████████████████████████████████████                                                                     | 4/9 [00:22<00:25,  5.16s/it]\u001b[A\n",
      " 56%|████████████████████████████████████████████████████████████████████▉                                                       | 5/9 [00:25<00:18,  4.55s/it]\u001b[A\n",
      " 67%|██████████████████████████████████████████████████████████████████████████████████▋                                         | 6/9 [00:28<00:12,  4.01s/it]\u001b[A\n",
      " 78%|████████████████████████████████████████████████████████████████████████████████████████████████▍                           | 7/9 [00:35<00:09,  4.85s/it]\u001b[A\n",
      " 89%|██████████████████████████████████████████████████████████████████████████████████████████████████████████████▏             | 8/9 [00:45<00:06,  6.63s/it]\u001b[A\n",
      "100%|████████████████████████████████████████████████████████████████████████████████████████████████████████████████████████████| 9/9 [00:48<00:00,  5.40s/it]\u001b[A\n"
     ]
    },
    {
     "name": "stdout",
     "output_type": "stream",
     "text": [
      "Cleaning up sorted DICOM files...\n"
     ]
    },
    {
     "name": "stderr",
     "output_type": "stream",
     "text": [
      "\n",
      "  0%|                                                                                                                                    | 0/9 [00:00<?, ?it/s]\u001b[A\n",
      "100%|████████████████████████████████████████████████████████████████████████████████████████████████████████████████████████████| 9/9 [00:00<00:00, 62.53it/s]\u001b[A\n",
      " 37%|███████████████████████████████████████████▌                                                                          | 361/979 [54:00<3:26:10, 20.02s/it]"
     ]
    },
    {
     "name": "stdout",
     "output_type": "stream",
     "text": [
      "Collected 64324 images in /rawdata/all/train/images\n"
     ]
    },
    {
     "name": "stderr",
     "output_type": "stream",
     "text": [
      "100%|██████████| 2469/2469 [00:04<00:00, 587.46it/s]                                                                         | 370/979 [54:35<54:41,  5.39s/it]\n"
     ]
    },
    {
     "name": "stdout",
     "output_type": "stream",
     "text": [
      "Files sorted\n",
      "Cleaning up downloaded DICOM files...\n"
     ]
    },
    {
     "name": "stderr",
     "output_type": "stream",
     "text": [
      "\n",
      "  0%|                                                                                                                                   | 0/10 [00:00<?, ?it/s]\u001b[A\n",
      "100%|██████████████████████████████████████████████████████████████████████████████████████████████████████████████████████████| 10/10 [00:00<00:00, 49.13it/s]\u001b[A\n"
     ]
    },
    {
     "name": "stdout",
     "output_type": "stream",
     "text": [
      "Saving patient data as .npz file...\n"
     ]
    },
    {
     "name": "stderr",
     "output_type": "stream",
     "text": [
      "\n",
      "  0%|                                                                                                                                    | 0/9 [00:00<?, ?it/s]\u001b[A\n",
      " 11%|█████████████▊                                                                                                              | 1/9 [00:06<00:51,  6.49s/it]\u001b[A\n",
      " 22%|███████████████████████████▌                                                                                                | 2/9 [00:17<01:05,  9.40s/it]\u001b[A\n",
      " 33%|█████████████████████████████████████████▎                                                                                  | 3/9 [00:30<01:04, 10.76s/it]\u001b[A\n",
      " 44%|███████████████████████████████████████████████████████                                                                     | 4/9 [00:35<00:42,  8.41s/it]\u001b[A"
     ]
    },
    {
     "name": "stdout",
     "output_type": "stream",
     "text": [
      "Failed to reduce all groups to <= 4 Annotations.\n",
      "Some nodules may be close and must be grouped manually.\n"
     ]
    },
    {
     "name": "stderr",
     "output_type": "stream",
     "text": [
      "\n",
      " 56%|████████████████████████████████████████████████████████████████████▉                                                       | 5/9 [00:38<00:26,  6.67s/it]\u001b[A\n",
      " 67%|██████████████████████████████████████████████████████████████████████████████████▋                                         | 6/9 [00:45<00:20,  6.77s/it]\u001b[A\n",
      " 78%|████████████████████████████████████████████████████████████████████████████████████████████████▍                           | 7/9 [00:48<00:10,  5.43s/it]\u001b[A\n",
      " 89%|██████████████████████████████████████████████████████████████████████████████████████████████████████████████▏             | 8/9 [00:51<00:04,  4.65s/it]\u001b[A\n",
      "100%|████████████████████████████████████████████████████████████████████████████████████████████████████████████████████████████| 9/9 [01:03<00:00,  7.03s/it]\u001b[A\n"
     ]
    },
    {
     "name": "stdout",
     "output_type": "stream",
     "text": [
      "Cleaning up sorted DICOM files...\n"
     ]
    },
    {
     "name": "stderr",
     "output_type": "stream",
     "text": [
      "\n",
      "  0%|                                                                                                                                    | 0/9 [00:00<?, ?it/s]\u001b[A\n",
      "100%|████████████████████████████████████████████████████████████████████████████████████████████████████████████████████████████| 9/9 [00:00<00:00, 50.39it/s]\u001b[A\n",
      " 38%|████████████████████████████████████████████▋                                                                         | 371/979 [55:50<4:27:13, 26.37s/it]"
     ]
    },
    {
     "name": "stdout",
     "output_type": "stream",
     "text": [
      "Collected 66695 images in /rawdata/all/train/images\n"
     ]
    },
    {
     "name": "stderr",
     "output_type": "stream",
     "text": [
      "100%|██████████| 2793/2793 [00:05<00:00, 555.24it/s]                                                                         | 380/979 [56:34<47:58,  4.81s/it]\n"
     ]
    },
    {
     "name": "stdout",
     "output_type": "stream",
     "text": [
      "Files sorted\n",
      "Cleaning up downloaded DICOM files...\n"
     ]
    },
    {
     "name": "stderr",
     "output_type": "stream",
     "text": [
      "\n",
      "  0%|                                                                                                                                   | 0/10 [00:00<?, ?it/s]\u001b[A\n",
      " 30%|████████████████████████████████████▉                                                                                      | 3/10 [00:00<00:00, 29.20it/s]\u001b[A\n",
      "100%|██████████████████████████████████████████████████████████████████████████████████████████████████████████████████████████| 10/10 [00:00<00:00, 40.95it/s]\u001b[A\n"
     ]
    },
    {
     "name": "stdout",
     "output_type": "stream",
     "text": [
      "Saving patient data as .npz file...\n"
     ]
    },
    {
     "name": "stderr",
     "output_type": "stream",
     "text": [
      "\n",
      "  0%|                                                                                                                                   | 0/10 [00:00<?, ?it/s]\u001b[A\n",
      " 10%|████████████▎                                                                                                              | 1/10 [00:10<01:38, 10.91s/it]\u001b[A\n",
      " 20%|████████████████████████▌                                                                                                  | 2/10 [00:15<00:56,  7.03s/it]\u001b[A\n",
      " 30%|████████████████████████████████████▉                                                                                      | 3/10 [00:30<01:15, 10.79s/it]\u001b[A\n",
      " 40%|█████████████████████████████████████████████████▏                                                                         | 4/10 [00:33<00:45,  7.65s/it]\u001b[A\n",
      " 50%|█████████████████████████████████████████████████████████████▌                                                             | 5/10 [00:38<00:34,  6.81s/it]\u001b[A\n",
      " 60%|█████████████████████████████████████████████████████████████████████████▊                                                 | 6/10 [00:41<00:21,  5.43s/it]\u001b[A\n",
      " 70%|██████████████████████████████████████████████████████████████████████████████████████                                     | 7/10 [00:48<00:17,  5.87s/it]\u001b[A\n",
      " 80%|██████████████████████████████████████████████████████████████████████████████████████████████████▍                        | 8/10 [00:55<00:12,  6.25s/it]\u001b[A\n",
      " 90%|██████████████████████████████████████████████████████████████████████████████████████████████████████████████▋            | 9/10 [01:09<00:08,  8.65s/it]\u001b[A\n",
      "100%|██████████████████████████████████████████████████████████████████████████████████████████████████████████████████████████| 10/10 [01:15<00:00,  7.57s/it]\u001b[A\n"
     ]
    },
    {
     "name": "stdout",
     "output_type": "stream",
     "text": [
      "Cleaning up sorted DICOM files...\n"
     ]
    },
    {
     "name": "stderr",
     "output_type": "stream",
     "text": [
      "\n",
      "  0%|                                                                                                                                   | 0/10 [00:00<?, ?it/s]\u001b[A\n",
      " 50%|█████████████████████████████████████████████████████████████▌                                                             | 5/10 [00:00<00:00, 48.08it/s]\u001b[A\n",
      "100%|██████████████████████████████████████████████████████████████████████████████████████████████████████████████████████████| 10/10 [00:00<00:00, 48.15it/s]\u001b[A\n",
      " 39%|█████████████████████████████████████████████▉                                                                        | 381/979 [57:58<4:44:16, 28.52s/it]"
     ]
    },
    {
     "name": "stdout",
     "output_type": "stream",
     "text": [
      "Collected 69488 images in /rawdata/all/train/images\n"
     ]
    },
    {
     "name": "stderr",
     "output_type": "stream",
     "text": [
      "100%|██████████| 2496/2496 [00:04<00:00, 569.80it/s]▊                                                                        | 390/979 [58:38<46:39,  4.75s/it]\n"
     ]
    },
    {
     "name": "stdout",
     "output_type": "stream",
     "text": [
      "Files sorted\n",
      "Cleaning up downloaded DICOM files...\n"
     ]
    },
    {
     "name": "stderr",
     "output_type": "stream",
     "text": [
      "\n",
      "  0%|                                                                                                                                   | 0/10 [00:00<?, ?it/s]\u001b[A\n",
      "100%|██████████████████████████████████████████████████████████████████████████████████████████████████████████████████████████| 10/10 [00:00<00:00, 49.01it/s]\u001b[A\n"
     ]
    },
    {
     "name": "stdout",
     "output_type": "stream",
     "text": [
      "Saving patient data as .npz file...\n"
     ]
    },
    {
     "name": "stderr",
     "output_type": "stream",
     "text": [
      "\n",
      "  0%|                                                                                                                                   | 0/10 [00:00<?, ?it/s]\u001b[A\n",
      " 10%|████████████▎                                                                                                              | 1/10 [00:04<00:41,  4.61s/it]\u001b[A\n",
      " 20%|████████████████████████▌                                                                                                  | 2/10 [00:07<00:28,  3.58s/it]\u001b[A\n",
      " 30%|████████████████████████████████████▉                                                                                      | 3/10 [00:10<00:22,  3.24s/it]\u001b[A\n",
      " 40%|█████████████████████████████████████████████████▏                                                                         | 4/10 [00:13<00:20,  3.39s/it]\u001b[A\n",
      " 50%|█████████████████████████████████████████████████████████████▌                                                             | 5/10 [00:16<00:15,  3.14s/it]\u001b[A\n",
      " 60%|█████████████████████████████████████████████████████████████████████████▊                                                 | 6/10 [00:31<00:28,  7.14s/it]\u001b[A\n",
      " 70%|██████████████████████████████████████████████████████████████████████████████████████                                     | 7/10 [00:43<00:26,  8.68s/it]\u001b[A\n",
      " 80%|██████████████████████████████████████████████████████████████████████████████████████████████████▍                        | 8/10 [00:46<00:13,  6.97s/it]\u001b[A\n",
      " 90%|██████████████████████████████████████████████████████████████████████████████████████████████████████████████▋            | 9/10 [00:56<00:07,  7.83s/it]\u001b[A\n",
      "100%|██████████████████████████████████████████████████████████████████████████████████████████████████████████████████████████| 10/10 [01:09<00:00,  6.93s/it]\u001b[A\n"
     ]
    },
    {
     "name": "stdout",
     "output_type": "stream",
     "text": [
      "Cleaning up sorted DICOM files...\n"
     ]
    },
    {
     "name": "stderr",
     "output_type": "stream",
     "text": [
      "\n",
      "  0%|                                                                                                                                   | 0/10 [00:00<?, ?it/s]\u001b[A\n",
      "100%|██████████████████████████████████████████████████████████████████████████████████████████████████████████████████████████| 10/10 [00:00<00:00, 54.81it/s]\u001b[A\n",
      " 40%|███████████████████████████████████████████████▏                                                                      | 391/979 [59:55<4:19:57, 26.53s/it]"
     ]
    },
    {
     "name": "stdout",
     "output_type": "stream",
     "text": [
      "Collected 71984 images in /rawdata/all/train/images\n"
     ]
    },
    {
     "name": "stderr",
     "output_type": "stream",
     "text": [
      "100%|██████████| 2282/2282 [00:03<00:00, 570.56it/s]█▏                                                                     | 400/979 [1:00:32<49:05,  5.09s/it]\n"
     ]
    },
    {
     "name": "stdout",
     "output_type": "stream",
     "text": [
      "Files sorted\n",
      "Cleaning up downloaded DICOM files...\n"
     ]
    },
    {
     "name": "stderr",
     "output_type": "stream",
     "text": [
      "\n",
      "  0%|                                                                                                                                   | 0/10 [00:00<?, ?it/s]\u001b[A\n",
      "100%|██████████████████████████████████████████████████████████████████████████████████████████████████████████████████████████| 10/10 [00:00<00:00, 53.89it/s]\u001b[A\n"
     ]
    },
    {
     "name": "stdout",
     "output_type": "stream",
     "text": [
      "Saving patient data as .npz file...\n"
     ]
    },
    {
     "name": "stderr",
     "output_type": "stream",
     "text": [
      "\n",
      "  0%|                                                                                                                                   | 0/10 [00:00<?, ?it/s]\u001b[A\n",
      " 10%|████████████▎                                                                                                              | 1/10 [00:11<01:45, 11.76s/it]\u001b[A\n",
      " 20%|████████████████████████▌                                                                                                  | 2/10 [00:14<00:52,  6.56s/it]\u001b[A\n",
      " 30%|████████████████████████████████████▉                                                                                      | 3/10 [00:20<00:44,  6.35s/it]\u001b[A\n",
      " 40%|█████████████████████████████████████████████████▏                                                                         | 4/10 [00:29<00:43,  7.28s/it]\u001b[A\n",
      " 50%|█████████████████████████████████████████████████████████████▌                                                             | 5/10 [00:36<00:35,  7.16s/it]\u001b[A\n",
      " 60%|█████████████████████████████████████████████████████████████████████████▊                                                 | 6/10 [00:44<00:29,  7.34s/it]\u001b[A\n",
      " 70%|██████████████████████████████████████████████████████████████████████████████████████                                     | 7/10 [00:47<00:18,  6.03s/it]\u001b[A\n",
      " 80%|██████████████████████████████████████████████████████████████████████████████████████████████████▍                        | 8/10 [00:51<00:10,  5.34s/it]\u001b[A\n",
      " 90%|██████████████████████████████████████████████████████████████████████████████████████████████████████████████▋            | 9/10 [00:59<00:06,  6.09s/it]\u001b[A\n",
      "100%|██████████████████████████████████████████████████████████████████████████████████████████████████████████████████████████| 10/10 [01:05<00:00,  6.51s/it]\u001b[A\n"
     ]
    },
    {
     "name": "stdout",
     "output_type": "stream",
     "text": [
      "Cleaning up sorted DICOM files...\n"
     ]
    },
    {
     "name": "stderr",
     "output_type": "stream",
     "text": [
      "\n",
      "  0%|                                                                                                                                   | 0/10 [00:00<?, ?it/s]\u001b[A\n",
      "100%|██████████████████████████████████████████████████████████████████████████████████████████████████████████████████████████| 10/10 [00:00<00:00, 60.43it/s]\u001b[A\n",
      " 41%|███████████████████████████████████████████████▌                                                                    | 401/979 [1:01:45<4:04:09, 25.35s/it]"
     ]
    },
    {
     "name": "stdout",
     "output_type": "stream",
     "text": [
      "Collected 74266 images in /rawdata/all/train/images\n"
     ]
    },
    {
     "name": "stderr",
     "output_type": "stream",
     "text": [
      "100%|██████████| 2955/2955 [00:05<00:00, 567.09it/s]██▍                                                                    | 410/979 [1:02:26<46:28,  4.90s/it]\n"
     ]
    },
    {
     "name": "stdout",
     "output_type": "stream",
     "text": [
      "Files sorted\n",
      "Cleaning up downloaded DICOM files...\n"
     ]
    },
    {
     "name": "stderr",
     "output_type": "stream",
     "text": [
      "\n",
      "  0%|                                                                                                                                   | 0/10 [00:00<?, ?it/s]\u001b[A\n",
      " 40%|█████████████████████████████████████████████████▏                                                                         | 4/10 [00:00<00:00, 36.91it/s]\u001b[A\n",
      "100%|██████████████████████████████████████████████████████████████████████████████████████████████████████████████████████████| 10/10 [00:00<00:00, 39.67it/s]\u001b[A\n"
     ]
    },
    {
     "name": "stdout",
     "output_type": "stream",
     "text": [
      "Saving patient data as .npz file...\n"
     ]
    },
    {
     "name": "stderr",
     "output_type": "stream",
     "text": [
      "\n",
      "  0%|                                                                                                                                   | 0/10 [00:00<?, ?it/s]\u001b[A\n",
      " 10%|████████████▎                                                                                                              | 1/10 [00:03<00:29,  3.27s/it]\u001b[A\n",
      " 20%|████████████████████████▌                                                                                                  | 2/10 [00:11<00:49,  6.19s/it]\u001b[A\n",
      " 30%|████████████████████████████████████▉                                                                                      | 3/10 [00:24<01:05,  9.42s/it]\u001b[A\n",
      " 40%|█████████████████████████████████████████████████▏                                                                         | 4/10 [00:32<00:52,  8.71s/it]\u001b[A\n",
      " 50%|█████████████████████████████████████████████████████████████▌                                                             | 5/10 [00:38<00:38,  7.66s/it]\u001b[A\n",
      " 60%|█████████████████████████████████████████████████████████████████████████▊                                                 | 6/10 [00:50<00:36,  9.22s/it]\u001b[A\n",
      " 70%|██████████████████████████████████████████████████████████████████████████████████████                                     | 7/10 [00:57<00:25,  8.58s/it]\u001b[A\n",
      " 80%|██████████████████████████████████████████████████████████████████████████████████████████████████▍                        | 8/10 [01:07<00:17,  8.86s/it]\u001b[A\n",
      " 90%|██████████████████████████████████████████████████████████████████████████████████████████████████████████████▋            | 9/10 [01:15<00:08,  8.72s/it]\u001b[A"
     ]
    },
    {
     "name": "stdout",
     "output_type": "stream",
     "text": [
      "Failed to reduce all groups to <= 4 Annotations.\n",
      "Some nodules may be close and must be grouped manually.\n"
     ]
    },
    {
     "name": "stderr",
     "output_type": "stream",
     "text": [
      "\n",
      "100%|██████████████████████████████████████████████████████████████████████████████████████████████████████████████████████████| 10/10 [01:24<00:00,  8.43s/it]\u001b[A\n"
     ]
    },
    {
     "name": "stdout",
     "output_type": "stream",
     "text": [
      "Cleaning up sorted DICOM files...\n"
     ]
    },
    {
     "name": "stderr",
     "output_type": "stream",
     "text": [
      "\n",
      "  0%|                                                                                                                                   | 0/10 [00:00<?, ?it/s]\u001b[A\n",
      "100%|██████████████████████████████████████████████████████████████████████████████████████████████████████████████████████████| 10/10 [00:00<00:00, 46.91it/s]\u001b[A\n",
      " 42%|████████████████████████████████████████████████▋                                                                   | 411/979 [1:04:03<5:08:47, 32.62s/it]"
     ]
    },
    {
     "name": "stdout",
     "output_type": "stream",
     "text": [
      "Collected 77221 images in /rawdata/all/train/images\n"
     ]
    },
    {
     "name": "stderr",
     "output_type": "stream",
     "text": [
      "100%|██████████| 1824/1824 [00:03<00:00, 589.67it/s]███▌                                                                   | 420/979 [1:04:39<47:44,  5.13s/it]\n"
     ]
    },
    {
     "name": "stdout",
     "output_type": "stream",
     "text": [
      "Files sorted\n",
      "Cleaning up downloaded DICOM files...\n"
     ]
    },
    {
     "name": "stderr",
     "output_type": "stream",
     "text": [
      "\n",
      "  0%|                                                                                                                                   | 0/10 [00:00<?, ?it/s]\u001b[A\n",
      "100%|██████████████████████████████████████████████████████████████████████████████████████████████████████████████████████████| 10/10 [00:00<00:00, 64.86it/s]\u001b[A\n"
     ]
    },
    {
     "name": "stdout",
     "output_type": "stream",
     "text": [
      "Saving patient data as .npz file...\n"
     ]
    },
    {
     "name": "stderr",
     "output_type": "stream",
     "text": [
      "\n",
      "  0%|                                                                                                                                   | 0/10 [00:00<?, ?it/s]\u001b[A\n",
      " 10%|████████████▎                                                                                                              | 1/10 [00:05<00:51,  5.68s/it]\u001b[A\n",
      " 20%|████████████████████████▌                                                                                                  | 2/10 [00:09<00:34,  4.31s/it]\u001b[A\n",
      " 30%|████████████████████████████████████▉                                                                                      | 3/10 [00:16<00:40,  5.74s/it]\u001b[A\n",
      " 40%|█████████████████████████████████████████████████▏                                                                         | 4/10 [00:19<00:28,  4.76s/it]\u001b[A\n",
      " 50%|█████████████████████████████████████████████████████████████▌                                                             | 5/10 [00:24<00:23,  4.77s/it]\u001b[A\n",
      " 60%|█████████████████████████████████████████████████████████████████████████▊                                                 | 6/10 [00:32<00:23,  5.85s/it]\u001b[A\n",
      " 70%|██████████████████████████████████████████████████████████████████████████████████████                                     | 7/10 [00:37<00:16,  5.59s/it]\u001b[A\n",
      " 80%|██████████████████████████████████████████████████████████████████████████████████████████████████▍                        | 8/10 [00:40<00:09,  4.77s/it]\u001b[A\n",
      " 90%|██████████████████████████████████████████████████████████████████████████████████████████████████████████████▋            | 9/10 [00:46<00:05,  5.03s/it]\u001b[A\n",
      "100%|██████████████████████████████████████████████████████████████████████████████████████████████████████████████████████████| 10/10 [00:51<00:00,  5.15s/it]\u001b[A\n"
     ]
    },
    {
     "name": "stdout",
     "output_type": "stream",
     "text": [
      "Cleaning up sorted DICOM files...\n"
     ]
    },
    {
     "name": "stderr",
     "output_type": "stream",
     "text": [
      "\n",
      "  0%|                                                                                                                                   | 0/10 [00:00<?, ?it/s]\u001b[A\n",
      "100%|██████████████████████████████████████████████████████████████████████████████████████████████████████████████████████████| 10/10 [00:00<00:00, 73.20it/s]\u001b[A\n",
      " 43%|█████████████████████████████████████████████████▉                                                                  | 421/979 [1:05:36<3:14:36, 20.93s/it]"
     ]
    },
    {
     "name": "stdout",
     "output_type": "stream",
     "text": [
      "Collected 79040 images in /rawdata/all/train/images\n"
     ]
    },
    {
     "name": "stderr",
     "output_type": "stream",
     "text": [
      "100%|██████████| 2924/2924 [00:05<00:00, 533.62it/s]████▊                                                                  | 430/979 [1:06:27<59:58,  6.55s/it]\n"
     ]
    },
    {
     "name": "stdout",
     "output_type": "stream",
     "text": [
      "Files sorted\n",
      "Cleaning up downloaded DICOM files...\n"
     ]
    },
    {
     "name": "stderr",
     "output_type": "stream",
     "text": [
      "\n",
      "  0%|                                                                                                                                   | 0/10 [00:00<?, ?it/s]\u001b[A\n",
      " 40%|█████████████████████████████████████████████████▏                                                                         | 4/10 [00:00<00:00, 32.03it/s]\u001b[A\n",
      "100%|██████████████████████████████████████████████████████████████████████████████████████████████████████████████████████████| 10/10 [00:00<00:00, 39.25it/s]\u001b[A\n"
     ]
    },
    {
     "name": "stdout",
     "output_type": "stream",
     "text": [
      "Saving patient data as .npz file...\n"
     ]
    },
    {
     "name": "stderr",
     "output_type": "stream",
     "text": [
      "\n",
      "  0%|                                                                                                                                   | 0/10 [00:00<?, ?it/s]\u001b[A\n",
      " 10%|████████████▎                                                                                                              | 1/10 [00:13<01:58, 13.17s/it]\u001b[A\n",
      " 20%|████████████████████████▌                                                                                                  | 2/10 [00:20<01:18,  9.87s/it]\u001b[A\n",
      " 30%|████████████████████████████████████▉                                                                                      | 3/10 [00:29<01:05,  9.38s/it]\u001b[A\n",
      " 40%|█████████████████████████████████████████████████▏                                                                         | 4/10 [00:41<01:02, 10.41s/it]\u001b[A\n",
      " 50%|█████████████████████████████████████████████████████████████▌                                                             | 5/10 [00:53<00:54, 10.83s/it]\u001b[A\n",
      " 60%|█████████████████████████████████████████████████████████████████████████▊                                                 | 6/10 [00:57<00:34,  8.74s/it]\u001b[A\n",
      " 70%|██████████████████████████████████████████████████████████████████████████████████████                                     | 7/10 [01:03<00:23,  7.87s/it]\u001b[A\n",
      " 80%|██████████████████████████████████████████████████████████████████████████████████████████████████▍                        | 8/10 [01:06<00:12,  6.35s/it]\u001b[A\n",
      " 90%|██████████████████████████████████████████████████████████████████████████████████████████████████████████████▋            | 9/10 [01:10<00:05,  5.61s/it]\u001b[A\n",
      "100%|██████████████████████████████████████████████████████████████████████████████████████████████████████████████████████████| 10/10 [01:18<00:00,  7.90s/it]\u001b[A\n"
     ]
    },
    {
     "name": "stdout",
     "output_type": "stream",
     "text": [
      "Cleaning up sorted DICOM files...\n"
     ]
    },
    {
     "name": "stderr",
     "output_type": "stream",
     "text": [
      "\n",
      "  0%|                                                                                                                                   | 0/10 [00:00<?, ?it/s]\u001b[A\n",
      " 40%|█████████████████████████████████████████████████▏                                                                         | 4/10 [00:00<00:00, 37.59it/s]\u001b[A\n",
      "100%|██████████████████████████████████████████████████████████████████████████████████████████████████████████████████████████| 10/10 [00:00<00:00, 45.76it/s]\u001b[A\n",
      " 44%|███████████████████████████████████████████████████                                                                 | 431/979 [1:07:55<4:44:46, 31.18s/it]"
     ]
    },
    {
     "name": "stdout",
     "output_type": "stream",
     "text": [
      "Collected 81964 images in /rawdata/all/train/images\n"
     ]
    },
    {
     "name": "stderr",
     "output_type": "stream",
     "text": [
      "100%|██████████| 2899/2899 [00:05<00:00, 579.04it/s]██████                                                                 | 440/979 [1:08:41<49:40,  5.53s/it]\n"
     ]
    },
    {
     "name": "stdout",
     "output_type": "stream",
     "text": [
      "Files sorted\n",
      "Cleaning up downloaded DICOM files...\n"
     ]
    },
    {
     "name": "stderr",
     "output_type": "stream",
     "text": [
      "\n",
      "  0%|                                                                                                                                   | 0/10 [00:00<?, ?it/s]\u001b[A\n",
      " 40%|█████████████████████████████████████████████████▏                                                                         | 4/10 [00:00<00:00, 35.13it/s]\u001b[A\n",
      "100%|██████████████████████████████████████████████████████████████████████████████████████████████████████████████████████████| 10/10 [00:00<00:00, 42.26it/s]\u001b[A\n"
     ]
    },
    {
     "name": "stdout",
     "output_type": "stream",
     "text": [
      "Saving patient data as .npz file...\n"
     ]
    },
    {
     "name": "stderr",
     "output_type": "stream",
     "text": [
      "\n",
      "  0%|                                                                                                                                    | 0/9 [00:00<?, ?it/s]\u001b[A\n",
      " 11%|█████████████▊                                                                                                              | 1/9 [00:03<00:26,  3.34s/it]\u001b[A\n",
      " 22%|███████████████████████████▌                                                                                                | 2/9 [00:06<00:23,  3.32s/it]\u001b[A\n",
      " 33%|█████████████████████████████████████████▎                                                                                  | 3/9 [00:10<00:20,  3.39s/it]\u001b[A\n",
      " 44%|███████████████████████████████████████████████████████                                                                     | 4/9 [00:21<00:33,  6.68s/it]\u001b[A\n",
      " 56%|████████████████████████████████████████████████████████████████████▉                                                       | 5/9 [00:38<00:40, 10.15s/it]\u001b[A\n",
      " 67%|██████████████████████████████████████████████████████████████████████████████████▋                                         | 6/9 [00:41<00:23,  7.86s/it]\u001b[A\n",
      " 78%|████████████████████████████████████████████████████████████████████████████████████████████████▍                           | 7/9 [00:54<00:19,  9.66s/it]\u001b[A\n",
      " 89%|██████████████████████████████████████████████████████████████████████████████████████████████████████████████▏             | 8/9 [01:08<00:10, 10.96s/it]\u001b[A\n",
      "100%|████████████████████████████████████████████████████████████████████████████████████████████████████████████████████████████| 9/9 [01:17<00:00,  8.56s/it]\u001b[A\n"
     ]
    },
    {
     "name": "stdout",
     "output_type": "stream",
     "text": [
      "Cleaning up sorted DICOM files...\n"
     ]
    },
    {
     "name": "stderr",
     "output_type": "stream",
     "text": [
      "\n",
      "  0%|                                                                                                                                    | 0/9 [00:00<?, ?it/s]\u001b[A\n",
      "100%|████████████████████████████████████████████████████████████████████████████████████████████████████████████████████████████| 9/9 [00:00<00:00, 42.70it/s]\u001b[A\n",
      " 45%|████████████████████████████████████████████████████▎                                                               | 441/979 [1:10:06<4:25:04, 29.56s/it]"
     ]
    },
    {
     "name": "stdout",
     "output_type": "stream",
     "text": [
      "Collected 84756 images in /rawdata/all/train/images\n"
     ]
    },
    {
     "name": "stderr",
     "output_type": "stream",
     "text": [
      "100%|██████████| 2944/2944 [00:05<00:00, 553.88it/s]███████▏                                                               | 450/979 [1:10:49<45:03,  5.11s/it]\n"
     ]
    },
    {
     "name": "stdout",
     "output_type": "stream",
     "text": [
      "Files sorted\n",
      "Cleaning up downloaded DICOM files...\n"
     ]
    },
    {
     "name": "stderr",
     "output_type": "stream",
     "text": [
      "\n",
      "  0%|                                                                                                                                   | 0/10 [00:00<?, ?it/s]\u001b[A\n",
      " 30%|████████████████████████████████████▉                                                                                      | 3/10 [00:00<00:00, 28.90it/s]\u001b[A\n",
      "100%|██████████████████████████████████████████████████████████████████████████████████████████████████████████████████████████| 10/10 [00:00<00:00, 37.38it/s]\u001b[A\n"
     ]
    },
    {
     "name": "stdout",
     "output_type": "stream",
     "text": [
      "Saving patient data as .npz file...\n"
     ]
    },
    {
     "name": "stderr",
     "output_type": "stream",
     "text": [
      "\n",
      "  0%|                                                                                                                                   | 0/10 [00:00<?, ?it/s]\u001b[A\n",
      " 10%|████████████▎                                                                                                              | 1/10 [00:04<00:44,  4.93s/it]\u001b[A\n",
      " 20%|████████████████████████▌                                                                                                  | 2/10 [00:13<00:56,  7.10s/it]\u001b[A\n",
      " 30%|████████████████████████████████████▉                                                                                      | 3/10 [00:27<01:10, 10.05s/it]\u001b[A\n",
      " 40%|█████████████████████████████████████████████████▏                                                                         | 4/10 [00:35<00:55,  9.24s/it]\u001b[A\n",
      " 50%|█████████████████████████████████████████████████████████████▌                                                             | 5/10 [00:44<00:47,  9.44s/it]\u001b[A\n",
      " 60%|█████████████████████████████████████████████████████████████████████████▊                                                 | 6/10 [00:48<00:29,  7.45s/it]\u001b[A\n",
      " 70%|██████████████████████████████████████████████████████████████████████████████████████                                     | 7/10 [01:05<00:31, 10.58s/it]\u001b[A\n",
      " 80%|██████████████████████████████████████████████████████████████████████████████████████████████████▍                        | 8/10 [01:11<00:18,  9.04s/it]\u001b[A\n",
      " 90%|██████████████████████████████████████████████████████████████████████████████████████████████████████████████▋            | 9/10 [01:18<00:08,  8.58s/it]\u001b[A\n",
      "100%|██████████████████████████████████████████████████████████████████████████████████████████████████████████████████████████| 10/10 [01:27<00:00,  8.79s/it]\u001b[A\n"
     ]
    },
    {
     "name": "stdout",
     "output_type": "stream",
     "text": [
      "Cleaning up sorted DICOM files...\n"
     ]
    },
    {
     "name": "stderr",
     "output_type": "stream",
     "text": [
      "\n",
      "  0%|                                                                                                                                   | 0/10 [00:00<?, ?it/s]\u001b[A\n",
      " 50%|█████████████████████████████████████████████████████████████▌                                                             | 5/10 [00:00<00:00, 46.18it/s]\u001b[A\n",
      "100%|██████████████████████████████████████████████████████████████████████████████████████████████████████████████████████████| 10/10 [00:00<00:00, 46.08it/s]\u001b[A\n",
      " 46%|█████████████████████████████████████████████████████▍                                                              | 451/979 [1:12:29<4:54:31, 33.47s/it]"
     ]
    },
    {
     "name": "stdout",
     "output_type": "stream",
     "text": [
      "Collected 87700 images in /rawdata/all/train/images\n"
     ]
    },
    {
     "name": "stderr",
     "output_type": "stream",
     "text": [
      "100%|██████████| 3017/3017 [00:05<00:00, 557.85it/s]████████▍                                                              | 460/979 [1:13:10<51:05,  5.91s/it]\n"
     ]
    },
    {
     "name": "stdout",
     "output_type": "stream",
     "text": [
      "Files sorted\n",
      "Cleaning up downloaded DICOM files...\n"
     ]
    },
    {
     "name": "stderr",
     "output_type": "stream",
     "text": [
      "\n",
      "  0%|                                                                                                                                   | 0/10 [00:00<?, ?it/s]\u001b[A\n",
      " 50%|█████████████████████████████████████████████████████████████▌                                                             | 5/10 [00:00<00:00, 46.72it/s]\u001b[A\n",
      "100%|██████████████████████████████████████████████████████████████████████████████████████████████████████████████████████████| 10/10 [00:00<00:00, 40.63it/s]\u001b[A\n"
     ]
    },
    {
     "name": "stdout",
     "output_type": "stream",
     "text": [
      "Saving patient data as .npz file...\n"
     ]
    },
    {
     "name": "stderr",
     "output_type": "stream",
     "text": [
      "\n",
      "  0%|                                                                                                                                   | 0/10 [00:00<?, ?it/s]\u001b[A\n",
      " 10%|████████████▎                                                                                                              | 1/10 [00:04<00:43,  4.88s/it]\u001b[A\n",
      " 20%|████████████████████████▌                                                                                                  | 2/10 [00:14<01:00,  7.52s/it]\u001b[A\n",
      " 30%|████████████████████████████████████▉                                                                                      | 3/10 [00:20<00:49,  7.00s/it]\u001b[A\n",
      " 40%|█████████████████████████████████████████████████▏                                                                         | 4/10 [00:25<00:36,  6.08s/it]\u001b[A\n",
      " 50%|█████████████████████████████████████████████████████████████▌                                                             | 5/10 [00:41<00:49,  9.90s/it]\u001b[A\n",
      " 60%|█████████████████████████████████████████████████████████████████████████▊                                                 | 6/10 [00:48<00:34,  8.60s/it]\u001b[A\n",
      " 70%|██████████████████████████████████████████████████████████████████████████████████████                                     | 7/10 [00:54<00:23,  7.74s/it]\u001b[A\n",
      " 80%|██████████████████████████████████████████████████████████████████████████████████████████████████▍                        | 8/10 [01:00<00:14,  7.38s/it]\u001b[A\n",
      " 90%|██████████████████████████████████████████████████████████████████████████████████████████████████████████████▋            | 9/10 [01:12<00:08,  8.92s/it]\u001b[A\n",
      "100%|██████████████████████████████████████████████████████████████████████████████████████████████████████████████████████████| 10/10 [01:25<00:00,  8.54s/it]\u001b[A\n"
     ]
    },
    {
     "name": "stdout",
     "output_type": "stream",
     "text": [
      "Cleaning up sorted DICOM files...\n"
     ]
    },
    {
     "name": "stderr",
     "output_type": "stream",
     "text": [
      "\n",
      "  0%|                                                                                                                                   | 0/10 [00:00<?, ?it/s]\u001b[A\n",
      " 50%|█████████████████████████████████████████████████████████████▌                                                             | 5/10 [00:00<00:00, 46.36it/s]\u001b[A\n",
      "100%|██████████████████████████████████████████████████████████████████████████████████████████████████████████████████████████| 10/10 [00:00<00:00, 43.46it/s]\u001b[A\n",
      " 47%|██████████████████████████████████████████████████████▌                                                             | 461/979 [1:14:50<4:54:56, 34.16s/it]"
     ]
    },
    {
     "name": "stdout",
     "output_type": "stream",
     "text": [
      "Collected 90717 images in /rawdata/all/train/images\n"
     ]
    },
    {
     "name": "stderr",
     "output_type": "stream",
     "text": [
      "100%|██████████| 2462/2462 [00:04<00:00, 584.28it/s]█████████▋                                                             | 470/979 [1:15:27<42:07,  4.97s/it]\n"
     ]
    },
    {
     "name": "stdout",
     "output_type": "stream",
     "text": [
      "Files sorted\n",
      "Cleaning up downloaded DICOM files...\n"
     ]
    },
    {
     "name": "stderr",
     "output_type": "stream",
     "text": [
      "\n",
      "  0%|                                                                                                                                   | 0/10 [00:00<?, ?it/s]\u001b[A\n",
      "100%|██████████████████████████████████████████████████████████████████████████████████████████████████████████████████████████| 10/10 [00:00<00:00, 50.26it/s]\u001b[A\n"
     ]
    },
    {
     "name": "stdout",
     "output_type": "stream",
     "text": [
      "Saving patient data as .npz file...\n"
     ]
    },
    {
     "name": "stderr",
     "output_type": "stream",
     "text": [
      "\n",
      "  0%|                                                                                                                                   | 0/10 [00:00<?, ?it/s]\u001b[A\n",
      " 10%|████████████▎                                                                                                              | 1/10 [00:03<00:32,  3.57s/it]\u001b[A\n",
      " 20%|████████████████████████▌                                                                                                  | 2/10 [00:12<00:55,  7.00s/it]\u001b[A\n",
      " 30%|████████████████████████████████████▉                                                                                      | 3/10 [00:26<01:09,  9.96s/it]\u001b[A\n",
      " 40%|█████████████████████████████████████████████████▏                                                                         | 4/10 [00:35<00:56,  9.42s/it]\u001b[A\n",
      " 50%|█████████████████████████████████████████████████████████████▌                                                             | 5/10 [00:38<00:35,  7.12s/it]\u001b[A\n",
      " 60%|█████████████████████████████████████████████████████████████████████████▊                                                 | 6/10 [00:44<00:27,  6.77s/it]\u001b[A\n",
      " 70%|██████████████████████████████████████████████████████████████████████████████████████                                     | 7/10 [00:50<00:20,  6.73s/it]\u001b[A\n",
      " 80%|██████████████████████████████████████████████████████████████████████████████████████████████████▍                        | 8/10 [00:58<00:14,  7.01s/it]\u001b[A\n",
      " 90%|██████████████████████████████████████████████████████████████████████████████████████████████████████████████▋            | 9/10 [01:02<00:05,  5.95s/it]\u001b[A\n",
      "100%|██████████████████████████████████████████████████████████████████████████████████████████████████████████████████████████| 10/10 [01:08<00:00,  6.86s/it]\u001b[A\n"
     ]
    },
    {
     "name": "stdout",
     "output_type": "stream",
     "text": [
      "Cleaning up sorted DICOM files...\n"
     ]
    },
    {
     "name": "stderr",
     "output_type": "stream",
     "text": [
      "\n",
      "  0%|                                                                                                                                   | 0/10 [00:00<?, ?it/s]\u001b[A\n",
      "100%|██████████████████████████████████████████████████████████████████████████████████████████████████████████████████████████| 10/10 [00:00<00:00, 54.88it/s]\u001b[A\n",
      " 48%|███████████████████████████████████████████████████████▊                                                            | 471/979 [1:16:46<3:48:09, 26.95s/it]"
     ]
    },
    {
     "name": "stdout",
     "output_type": "stream",
     "text": [
      "Collected 93179 images in /rawdata/all/train/images\n"
     ]
    },
    {
     "name": "stderr",
     "output_type": "stream",
     "text": [
      "100%|██████████| 2058/2058 [00:03<00:00, 560.21it/s]██████████▊                                                            | 480/979 [1:17:21<41:11,  4.95s/it]\n"
     ]
    },
    {
     "name": "stdout",
     "output_type": "stream",
     "text": [
      "Files sorted\n",
      "Cleaning up downloaded DICOM files...\n"
     ]
    },
    {
     "name": "stderr",
     "output_type": "stream",
     "text": [
      "\n",
      "  0%|                                                                                                                                   | 0/10 [00:00<?, ?it/s]\u001b[A\n",
      "100%|██████████████████████████████████████████████████████████████████████████████████████████████████████████████████████████| 10/10 [00:00<00:00, 56.98it/s]\u001b[A\n"
     ]
    },
    {
     "name": "stdout",
     "output_type": "stream",
     "text": [
      "Saving patient data as .npz file...\n"
     ]
    },
    {
     "name": "stderr",
     "output_type": "stream",
     "text": [
      "\n",
      "  0%|                                                                                                                                   | 0/10 [00:00<?, ?it/s]\u001b[A\n",
      " 10%|████████████▎                                                                                                              | 1/10 [00:07<01:05,  7.28s/it]\u001b[A\n",
      " 20%|████████████████████████▌                                                                                                  | 2/10 [00:13<00:54,  6.79s/it]\u001b[A\n",
      " 30%|████████████████████████████████████▉                                                                                      | 3/10 [00:23<00:58,  8.33s/it]\u001b[A\n",
      " 40%|█████████████████████████████████████████████████▏                                                                         | 4/10 [00:27<00:37,  6.27s/it]\u001b[A\n",
      " 50%|█████████████████████████████████████████████████████████████▌                                                             | 5/10 [00:29<00:25,  5.05s/it]\u001b[A\n",
      " 60%|█████████████████████████████████████████████████████████████████████████▊                                                 | 6/10 [00:39<00:26,  6.56s/it]\u001b[A\n",
      " 70%|██████████████████████████████████████████████████████████████████████████████████████                                     | 7/10 [00:43<00:17,  5.73s/it]\u001b[A\n",
      " 80%|██████████████████████████████████████████████████████████████████████████████████████████████████▍                        | 8/10 [00:51<00:13,  6.56s/it]\u001b[A\n",
      " 90%|██████████████████████████████████████████████████████████████████████████████████████████████████████████████▋            | 9/10 [00:57<00:06,  6.23s/it]\u001b[A\n",
      "100%|██████████████████████████████████████████████████████████████████████████████████████████████████████████████████████████| 10/10 [01:00<00:00,  6.05s/it]\u001b[A\n"
     ]
    },
    {
     "name": "stdout",
     "output_type": "stream",
     "text": [
      "Cleaning up sorted DICOM files...\n"
     ]
    },
    {
     "name": "stderr",
     "output_type": "stream",
     "text": [
      "\n",
      "  0%|                                                                                                                                   | 0/10 [00:00<?, ?it/s]\u001b[A\n",
      "100%|██████████████████████████████████████████████████████████████████████████████████████████████████████████████████████████| 10/10 [00:00<00:00, 60.58it/s]\u001b[A\n",
      " 49%|████████████████████████████████████████████████████████▉                                                           | 481/979 [1:18:28<3:16:44, 23.70s/it]"
     ]
    },
    {
     "name": "stdout",
     "output_type": "stream",
     "text": [
      "Collected 95237 images in /rawdata/all/train/images\n"
     ]
    },
    {
     "name": "stderr",
     "output_type": "stream",
     "text": [
      "100%|██████████| 2847/2847 [00:04<00:00, 574.62it/s]████████████                                                           | 490/979 [1:19:09<41:46,  5.13s/it]\n"
     ]
    },
    {
     "name": "stdout",
     "output_type": "stream",
     "text": [
      "Files sorted\n",
      "Cleaning up downloaded DICOM files...\n"
     ]
    },
    {
     "name": "stderr",
     "output_type": "stream",
     "text": [
      "\n",
      "  0%|                                                                                                                                   | 0/10 [00:00<?, ?it/s]\u001b[A\n",
      " 50%|█████████████████████████████████████████████████████████████▌                                                             | 5/10 [00:00<00:00, 47.54it/s]\u001b[A\n",
      "100%|██████████████████████████████████████████████████████████████████████████████████████████████████████████████████████████| 10/10 [00:00<00:00, 44.02it/s]\u001b[A\n"
     ]
    },
    {
     "name": "stdout",
     "output_type": "stream",
     "text": [
      "Saving patient data as .npz file...\n"
     ]
    },
    {
     "name": "stderr",
     "output_type": "stream",
     "text": [
      "\n",
      "  0%|                                                                                                                                   | 0/10 [00:00<?, ?it/s]\u001b[A\n",
      " 10%|████████████▎                                                                                                              | 1/10 [00:03<00:30,  3.37s/it]\u001b[A\n",
      " 20%|████████████████████████▌                                                                                                  | 2/10 [00:08<00:36,  4.54s/it]\u001b[A\n",
      " 30%|████████████████████████████████████▉                                                                                      | 3/10 [00:17<00:45,  6.44s/it]\u001b[A\n",
      " 40%|█████████████████████████████████████████████████▏                                                                         | 4/10 [00:24<00:41,  6.88s/it]\u001b[A\n",
      " 50%|█████████████████████████████████████████████████████████████▌                                                             | 5/10 [00:25<00:22,  4.51s/it]\u001b[A"
     ]
    },
    {
     "name": "stdout",
     "output_type": "stream",
     "text": [
      "Error getting DICOM files for patient LIDC-IDRI-0484, skipping\n"
     ]
    },
    {
     "name": "stderr",
     "output_type": "stream",
     "text": [
      "\n",
      " 60%|█████████████████████████████████████████████████████████████████████████▊                                                 | 6/10 [00:42<00:35,  8.96s/it]\u001b[A\n",
      " 70%|██████████████████████████████████████████████████████████████████████████████████████                                     | 7/10 [00:50<00:25,  8.61s/it]\u001b[A\n",
      " 80%|██████████████████████████████████████████████████████████████████████████████████████████████████▍                        | 8/10 [00:59<00:17,  8.56s/it]\u001b[A\n",
      " 90%|██████████████████████████████████████████████████████████████████████████████████████████████████████████████▋            | 9/10 [01:10<00:09,  9.44s/it]\u001b[A\n",
      "100%|██████████████████████████████████████████████████████████████████████████████████████████████████████████████████████████| 10/10 [01:16<00:00,  7.68s/it]\u001b[A\n"
     ]
    },
    {
     "name": "stdout",
     "output_type": "stream",
     "text": [
      "Cleaning up sorted DICOM files...\n"
     ]
    },
    {
     "name": "stderr",
     "output_type": "stream",
     "text": [
      "\n",
      "  0%|                                                                                                                                   | 0/10 [00:00<?, ?it/s]\u001b[A\n",
      "100%|██████████████████████████████████████████████████████████████████████████████████████████████████████████████████████████| 10/10 [00:00<00:00, 47.84it/s]\u001b[A\n",
      " 50%|██████████████████████████████████████████████████████████▏                                                         | 491/979 [1:20:37<4:04:13, 30.03s/it]"
     ]
    },
    {
     "name": "stdout",
     "output_type": "stream",
     "text": [
      "Collected 97972 images in /rawdata/all/train/images\n"
     ]
    },
    {
     "name": "stderr",
     "output_type": "stream",
     "text": [
      "100%|██████████| 2091/2091 [00:03<00:00, 592.17it/s]█████████████▎                                                         | 500/979 [1:21:11<34:14,  4.29s/it]\n"
     ]
    },
    {
     "name": "stdout",
     "output_type": "stream",
     "text": [
      "Files sorted\n",
      "Cleaning up downloaded DICOM files...\n"
     ]
    },
    {
     "name": "stderr",
     "output_type": "stream",
     "text": [
      "\n",
      "  0%|                                                                                                                                   | 0/10 [00:00<?, ?it/s]\u001b[A\n",
      "100%|██████████████████████████████████████████████████████████████████████████████████████████████████████████████████████████| 10/10 [00:00<00:00, 59.16it/s]\u001b[A\n"
     ]
    },
    {
     "name": "stdout",
     "output_type": "stream",
     "text": [
      "Saving patient data as .npz file...\n"
     ]
    },
    {
     "name": "stderr",
     "output_type": "stream",
     "text": [
      "\n",
      "  0%|                                                                                                                                   | 0/10 [00:00<?, ?it/s]\u001b[A\n",
      " 10%|████████████▎                                                                                                              | 1/10 [00:11<01:43, 11.53s/it]\u001b[A\n",
      " 20%|████████████████████████▌                                                                                                  | 2/10 [00:18<01:08,  8.58s/it]\u001b[A\n",
      " 30%|████████████████████████████████████▉                                                                                      | 3/10 [00:21<00:43,  6.22s/it]\u001b[A\n",
      " 40%|█████████████████████████████████████████████████▏                                                                         | 4/10 [00:27<00:37,  6.22s/it]\u001b[A\n",
      " 50%|█████████████████████████████████████████████████████████████▌                                                             | 5/10 [00:33<00:29,  5.95s/it]\u001b[A\n",
      " 60%|█████████████████████████████████████████████████████████████████████████▊                                                 | 6/10 [00:37<00:21,  5.28s/it]\u001b[A\n",
      " 70%|██████████████████████████████████████████████████████████████████████████████████████                                     | 7/10 [00:41<00:14,  4.97s/it]\u001b[A\n",
      " 80%|██████████████████████████████████████████████████████████████████████████████████████████████████▍                        | 8/10 [00:48<00:11,  5.62s/it]\u001b[A\n",
      " 90%|██████████████████████████████████████████████████████████████████████████████████████████████████████████████▋            | 9/10 [00:53<00:05,  5.42s/it]\u001b[A\n",
      "100%|██████████████████████████████████████████████████████████████████████████████████████████████████████████████████████████| 10/10 [00:56<00:00,  5.69s/it]\u001b[A\n"
     ]
    },
    {
     "name": "stdout",
     "output_type": "stream",
     "text": [
      "Cleaning up sorted DICOM files...\n"
     ]
    },
    {
     "name": "stderr",
     "output_type": "stream",
     "text": [
      "\n",
      "  0%|                                                                                                                                   | 0/10 [00:00<?, ?it/s]\u001b[A\n",
      "100%|██████████████████████████████████████████████████████████████████████████████████████████████████████████████████████████| 10/10 [00:00<00:00, 62.10it/s]\u001b[A\n",
      " 51%|███████████████████████████████████████████████████████████▎                                                        | 501/979 [1:22:16<2:57:54, 22.33s/it]"
     ]
    },
    {
     "name": "stdout",
     "output_type": "stream",
     "text": [
      "Collected 100063 images in /rawdata/all/train/images\n"
     ]
    },
    {
     "name": "stderr",
     "output_type": "stream",
     "text": [
      "100%|██████████| 1923/1923 [00:03<00:00, 587.83it/s]██████████████▍                                                        | 510/979 [1:22:50<36:06,  4.62s/it]\n"
     ]
    },
    {
     "name": "stdout",
     "output_type": "stream",
     "text": [
      "Files sorted\n",
      "Cleaning up downloaded DICOM files...\n"
     ]
    },
    {
     "name": "stderr",
     "output_type": "stream",
     "text": [
      "\n",
      "  0%|                                                                                                                                   | 0/10 [00:00<?, ?it/s]\u001b[A\n",
      "100%|██████████████████████████████████████████████████████████████████████████████████████████████████████████████████████████| 10/10 [00:00<00:00, 64.51it/s]\u001b[A\n"
     ]
    },
    {
     "name": "stdout",
     "output_type": "stream",
     "text": [
      "Saving patient data as .npz file...\n"
     ]
    },
    {
     "name": "stderr",
     "output_type": "stream",
     "text": [
      "\n",
      "  0%|                                                                                                                                   | 0/10 [00:00<?, ?it/s]\u001b[A\n",
      " 10%|████████████▎                                                                                                              | 1/10 [00:04<00:38,  4.23s/it]\u001b[A\n",
      " 20%|████████████████████████▌                                                                                                  | 2/10 [00:07<00:31,  3.88s/it]\u001b[A\n",
      " 30%|████████████████████████████████████▉                                                                                      | 3/10 [00:11<00:25,  3.58s/it]\u001b[A\n",
      " 40%|█████████████████████████████████████████████████▏                                                                         | 4/10 [00:20<00:35,  5.89s/it]\u001b[A\n",
      " 50%|█████████████████████████████████████████████████████████████▌                                                             | 5/10 [00:29<00:34,  6.92s/it]\u001b[A\n",
      " 60%|█████████████████████████████████████████████████████████████████████████▊                                                 | 6/10 [00:36<00:28,  7.19s/it]\u001b[A\n",
      " 70%|██████████████████████████████████████████████████████████████████████████████████████                                     | 7/10 [00:39<00:17,  5.80s/it]\u001b[A\n",
      " 80%|██████████████████████████████████████████████████████████████████████████████████████████████████▍                        | 8/10 [00:43<00:09,  4.97s/it]\u001b[A\n",
      " 90%|██████████████████████████████████████████████████████████████████████████████████████████████████████████████▋            | 9/10 [00:49<00:05,  5.47s/it]\u001b[A\n",
      "100%|██████████████████████████████████████████████████████████████████████████████████████████████████████████████████████████| 10/10 [00:53<00:00,  5.34s/it]\u001b[A\n"
     ]
    },
    {
     "name": "stdout",
     "output_type": "stream",
     "text": [
      "Cleaning up sorted DICOM files...\n"
     ]
    },
    {
     "name": "stderr",
     "output_type": "stream",
     "text": [
      "\n",
      "  0%|                                                                                                                                   | 0/10 [00:00<?, ?it/s]\u001b[A\n",
      "100%|██████████████████████████████████████████████████████████████████████████████████████████████████████████████████████████| 10/10 [00:00<00:00, 70.44it/s]\u001b[A\n",
      " 52%|████████████████████████████████████████████████████████████▌                                                       | 511/979 [1:23:50<2:45:21, 21.20s/it]"
     ]
    },
    {
     "name": "stdout",
     "output_type": "stream",
     "text": [
      "Collected 101986 images in /rawdata/all/train/images\n"
     ]
    },
    {
     "name": "stderr",
     "output_type": "stream",
     "text": [
      "100%|██████████| 2060/2060 [00:03<00:00, 587.84it/s]███████████████▋                                                       | 520/979 [1:24:24<30:30,  3.99s/it]\n"
     ]
    },
    {
     "name": "stdout",
     "output_type": "stream",
     "text": [
      "Files sorted\n",
      "Cleaning up downloaded DICOM files...\n"
     ]
    },
    {
     "name": "stderr",
     "output_type": "stream",
     "text": [
      "\n",
      "  0%|                                                                                                                                   | 0/10 [00:00<?, ?it/s]\u001b[A\n",
      "100%|██████████████████████████████████████████████████████████████████████████████████████████████████████████████████████████| 10/10 [00:00<00:00, 58.26it/s]\u001b[A\n"
     ]
    },
    {
     "name": "stdout",
     "output_type": "stream",
     "text": [
      "Saving patient data as .npz file...\n"
     ]
    },
    {
     "name": "stderr",
     "output_type": "stream",
     "text": [
      "\n",
      "  0%|                                                                                                                                   | 0/10 [00:00<?, ?it/s]\u001b[A\n",
      " 10%|████████████▎                                                                                                              | 1/10 [00:03<00:31,  3.49s/it]\u001b[A\n",
      " 20%|████████████████████████▌                                                                                                  | 2/10 [00:06<00:27,  3.46s/it]\u001b[A\n",
      " 30%|████████████████████████████████████▉                                                                                      | 3/10 [00:10<00:25,  3.63s/it]\u001b[A\n",
      " 40%|█████████████████████████████████████████████████▏                                                                         | 4/10 [00:16<00:27,  4.56s/it]\u001b[A\n",
      " 50%|█████████████████████████████████████████████████████████████▌                                                             | 5/10 [00:19<00:20,  4.08s/it]\u001b[A\n",
      " 60%|█████████████████████████████████████████████████████████████████████████▊                                                 | 6/10 [00:32<00:27,  6.90s/it]\u001b[A\n",
      " 70%|██████████████████████████████████████████████████████████████████████████████████████                                     | 7/10 [00:39<00:20,  6.87s/it]\u001b[A\n",
      " 80%|██████████████████████████████████████████████████████████████████████████████████████████████████▍                        | 8/10 [00:42<00:11,  5.71s/it]\u001b[A\n",
      " 90%|██████████████████████████████████████████████████████████████████████████████████████████████████████████████▋            | 9/10 [00:47<00:05,  5.65s/it]\u001b[A\n",
      "100%|██████████████████████████████████████████████████████████████████████████████████████████████████████████████████████████| 10/10 [00:56<00:00,  5.62s/it]\u001b[A\n"
     ]
    },
    {
     "name": "stdout",
     "output_type": "stream",
     "text": [
      "Cleaning up sorted DICOM files...\n"
     ]
    },
    {
     "name": "stderr",
     "output_type": "stream",
     "text": [
      "\n",
      "  0%|                                                                                                                                   | 0/10 [00:00<?, ?it/s]\u001b[A\n",
      "100%|██████████████████████████████████████████████████████████████████████████████████████████████████████████████████████████| 10/10 [00:00<00:00, 65.66it/s]\u001b[A\n",
      " 53%|█████████████████████████████████████████████████████████████▋                                                      | 521/979 [1:25:27<2:45:38, 21.70s/it]"
     ]
    },
    {
     "name": "stdout",
     "output_type": "stream",
     "text": [
      "Collected 104046 images in /rawdata/all/train/images\n"
     ]
    },
    {
     "name": "stderr",
     "output_type": "stream",
     "text": [
      "100%|██████████| 3028/3028 [00:05<00:00, 566.43it/s]████████████████▉                                                      | 530/979 [1:26:12<48:11,  6.44s/it]\n"
     ]
    },
    {
     "name": "stdout",
     "output_type": "stream",
     "text": [
      "Files sorted\n",
      "Cleaning up downloaded DICOM files...\n"
     ]
    },
    {
     "name": "stderr",
     "output_type": "stream",
     "text": [
      "\n",
      "  0%|                                                                                                                                   | 0/10 [00:00<?, ?it/s]\u001b[A\n",
      " 50%|█████████████████████████████████████████████████████████████▌                                                             | 5/10 [00:00<00:00, 38.80it/s]\u001b[A\n",
      "100%|██████████████████████████████████████████████████████████████████████████████████████████████████████████████████████████| 10/10 [00:00<00:00, 40.84it/s]\u001b[A\n"
     ]
    },
    {
     "name": "stdout",
     "output_type": "stream",
     "text": [
      "Saving patient data as .npz file...\n"
     ]
    },
    {
     "name": "stderr",
     "output_type": "stream",
     "text": [
      "\n",
      "  0%|                                                                                                                                   | 0/10 [00:00<?, ?it/s]\u001b[A\n",
      " 10%|████████████▎                                                                                                              | 1/10 [00:11<01:44, 11.64s/it]\u001b[A\n",
      " 20%|████████████████████████▌                                                                                                  | 2/10 [00:26<01:46, 13.31s/it]\u001b[A\n",
      " 30%|████████████████████████████████████▉                                                                                      | 3/10 [00:43<01:47, 15.30s/it]\u001b[A\n",
      " 40%|█████████████████████████████████████████████████▏                                                                         | 4/10 [00:47<01:05, 10.86s/it]\u001b[A\n",
      " 50%|█████████████████████████████████████████████████████████████▌                                                             | 5/10 [00:57<00:51, 10.38s/it]\u001b[A\n",
      " 60%|█████████████████████████████████████████████████████████████████████████▊                                                 | 6/10 [01:00<00:32,  8.01s/it]\u001b[A\n",
      " 70%|██████████████████████████████████████████████████████████████████████████████████████                                     | 7/10 [01:08<00:23,  7.95s/it]\u001b[A\n",
      " 80%|██████████████████████████████████████████████████████████████████████████████████████████████████▍                        | 8/10 [01:15<00:15,  7.59s/it]\u001b[A\n",
      " 90%|██████████████████████████████████████████████████████████████████████████████████████████████████████████████▋            | 9/10 [01:20<00:06,  6.86s/it]\u001b[A\n",
      "100%|██████████████████████████████████████████████████████████████████████████████████████████████████████████████████████████| 10/10 [01:24<00:00,  8.40s/it]\u001b[A\n"
     ]
    },
    {
     "name": "stdout",
     "output_type": "stream",
     "text": [
      "Cleaning up sorted DICOM files...\n"
     ]
    },
    {
     "name": "stderr",
     "output_type": "stream",
     "text": [
      "\n",
      "  0%|                                                                                                                                   | 0/10 [00:00<?, ?it/s]\u001b[A\n",
      " 30%|████████████████████████████████████▉                                                                                      | 3/10 [00:00<00:00, 22.84it/s]\u001b[A\n",
      "100%|██████████████████████████████████████████████████████████████████████████████████████████████████████████████████████████| 10/10 [00:00<00:00, 41.31it/s]\u001b[A\n",
      " 54%|██████████████████████████████████████████████████████████████▉                                                     | 531/979 [1:27:46<4:05:03, 32.82s/it]"
     ]
    },
    {
     "name": "stdout",
     "output_type": "stream",
     "text": [
      "Collected 107074 images in /rawdata/all/train/images\n"
     ]
    },
    {
     "name": "stderr",
     "output_type": "stream",
     "text": [
      "100%|██████████| 2922/2922 [00:05<00:00, 557.24it/s]██████████████████                                                     | 540/979 [1:28:31<40:15,  5.50s/it]\n"
     ]
    },
    {
     "name": "stdout",
     "output_type": "stream",
     "text": [
      "Files sorted\n",
      "Cleaning up downloaded DICOM files...\n"
     ]
    },
    {
     "name": "stderr",
     "output_type": "stream",
     "text": [
      "\n",
      "  0%|                                                                                                                                   | 0/10 [00:00<?, ?it/s]\u001b[A\n",
      " 40%|█████████████████████████████████████████████████▏                                                                         | 4/10 [00:00<00:00, 36.09it/s]\u001b[A\n",
      "100%|██████████████████████████████████████████████████████████████████████████████████████████████████████████████████████████| 10/10 [00:00<00:00, 40.58it/s]\u001b[A\n"
     ]
    },
    {
     "name": "stdout",
     "output_type": "stream",
     "text": [
      "Saving patient data as .npz file...\n"
     ]
    },
    {
     "name": "stderr",
     "output_type": "stream",
     "text": [
      "\n",
      "  0%|                                                                                                                                   | 0/10 [00:00<?, ?it/s]\u001b[A\n",
      " 10%|████████████▎                                                                                                              | 1/10 [00:15<02:17, 15.24s/it]\u001b[A\n",
      " 20%|████████████████████████▌                                                                                                  | 2/10 [00:18<01:07,  8.40s/it]\u001b[A\n",
      " 30%|████████████████████████████████████▉                                                                                      | 3/10 [00:21<00:41,  5.92s/it]\u001b[A\n",
      " 40%|█████████████████████████████████████████████████▏                                                                         | 4/10 [00:24<00:28,  4.83s/it]\u001b[A\n",
      " 50%|█████████████████████████████████████████████████████████████▌                                                             | 5/10 [00:31<00:26,  5.32s/it]\u001b[A\n",
      " 60%|█████████████████████████████████████████████████████████████████████████▊                                                 | 6/10 [00:39<00:25,  6.33s/it]\u001b[A\n",
      " 70%|██████████████████████████████████████████████████████████████████████████████████████                                     | 7/10 [00:50<00:23,  7.94s/it]\u001b[A\n",
      " 80%|██████████████████████████████████████████████████████████████████████████████████████████████████▍                        | 8/10 [00:58<00:16,  8.02s/it]\u001b[A\n",
      " 90%|██████████████████████████████████████████████████████████████████████████████████████████████████████████████▋            | 9/10 [01:08<00:08,  8.49s/it]\u001b[A\n",
      "100%|██████████████████████████████████████████████████████████████████████████████████████████████████████████████████████████| 10/10 [01:20<00:00,  8.00s/it]\u001b[A\n"
     ]
    },
    {
     "name": "stdout",
     "output_type": "stream",
     "text": [
      "Cleaning up sorted DICOM files...\n"
     ]
    },
    {
     "name": "stderr",
     "output_type": "stream",
     "text": [
      "\n",
      "  0%|                                                                                                                                   | 0/10 [00:00<?, ?it/s]\u001b[A\n",
      "100%|██████████████████████████████████████████████████████████████████████████████████████████████████████████████████████████| 10/10 [00:00<00:00, 47.00it/s]\u001b[A\n",
      " 55%|████████████████████████████████████████████████████████████████                                                    | 541/979 [1:30:01<3:45:52, 30.94s/it]"
     ]
    },
    {
     "name": "stdout",
     "output_type": "stream",
     "text": [
      "Collected 109996 images in /rawdata/all/train/images\n"
     ]
    },
    {
     "name": "stderr",
     "output_type": "stream",
     "text": [
      "100%|██████████| 2706/2706 [00:04<00:00, 554.18it/s]███████████████████▎                                                   | 550/979 [1:30:43<38:43,  5.42s/it]\n"
     ]
    },
    {
     "name": "stdout",
     "output_type": "stream",
     "text": [
      "Files sorted\n",
      "Cleaning up downloaded DICOM files...\n"
     ]
    },
    {
     "name": "stderr",
     "output_type": "stream",
     "text": [
      "\n",
      "  0%|                                                                                                                                   | 0/10 [00:00<?, ?it/s]\u001b[A\n",
      "100%|██████████████████████████████████████████████████████████████████████████████████████████████████████████████████████████| 10/10 [00:00<00:00, 44.50it/s]\u001b[A\n"
     ]
    },
    {
     "name": "stdout",
     "output_type": "stream",
     "text": [
      "Saving patient data as .npz file...\n"
     ]
    },
    {
     "name": "stderr",
     "output_type": "stream",
     "text": [
      "\n",
      "  0%|                                                                                                                                   | 0/10 [00:00<?, ?it/s]\u001b[A\n",
      " 10%|████████████▎                                                                                                              | 1/10 [00:03<00:29,  3.25s/it]\u001b[A\n",
      " 20%|████████████████████████▌                                                                                                  | 2/10 [00:12<00:53,  6.72s/it]\u001b[A\n",
      " 30%|████████████████████████████████████▉                                                                                      | 3/10 [00:19<00:47,  6.80s/it]\u001b[A\n",
      " 40%|█████████████████████████████████████████████████▏                                                                         | 4/10 [00:26<00:42,  7.03s/it]\u001b[A\n",
      " 50%|█████████████████████████████████████████████████████████████▌                                                             | 5/10 [00:30<00:29,  5.84s/it]\u001b[A\n",
      " 60%|█████████████████████████████████████████████████████████████████████████▊                                                 | 6/10 [00:43<00:33,  8.32s/it]\u001b[A\n",
      " 70%|██████████████████████████████████████████████████████████████████████████████████████                                     | 7/10 [00:47<00:20,  6.87s/it]\u001b[A\n",
      " 80%|██████████████████████████████████████████████████████████████████████████████████████████████████▍                        | 8/10 [00:50<00:11,  5.71s/it]\u001b[A\n",
      " 90%|██████████████████████████████████████████████████████████████████████████████████████████████████████████████▋            | 9/10 [01:04<00:08,  8.15s/it]\u001b[A\n",
      "100%|██████████████████████████████████████████████████████████████████████████████████████████████████████████████████████████| 10/10 [01:11<00:00,  7.19s/it]\u001b[A\n"
     ]
    },
    {
     "name": "stdout",
     "output_type": "stream",
     "text": [
      "Cleaning up sorted DICOM files...\n"
     ]
    },
    {
     "name": "stderr",
     "output_type": "stream",
     "text": [
      "\n",
      "  0%|                                                                                                                                   | 0/10 [00:00<?, ?it/s]\u001b[A\n",
      "100%|██████████████████████████████████████████████████████████████████████████████████████████████████████████████████████████| 10/10 [00:00<00:00, 50.77it/s]\u001b[A\n",
      " 56%|█████████████████████████████████████████████████████████████████▎                                                  | 551/979 [1:32:03<3:18:47, 27.87s/it]"
     ]
    },
    {
     "name": "stdout",
     "output_type": "stream",
     "text": [
      "Collected 112702 images in /rawdata/all/train/images\n"
     ]
    },
    {
     "name": "stderr",
     "output_type": "stream",
     "text": [
      "100%|██████████| 2355/2355 [00:04<00:00, 559.84it/s]████████████████████▍                                                  | 560/979 [1:32:41<35:41,  5.11s/it]\n"
     ]
    },
    {
     "name": "stdout",
     "output_type": "stream",
     "text": [
      "Files sorted\n",
      "Cleaning up downloaded DICOM files...\n"
     ]
    },
    {
     "name": "stderr",
     "output_type": "stream",
     "text": [
      "\n",
      "  0%|                                                                                                                                   | 0/10 [00:00<?, ?it/s]\u001b[A\n",
      "100%|██████████████████████████████████████████████████████████████████████████████████████████████████████████████████████████| 10/10 [00:00<00:00, 51.31it/s]\u001b[A\n"
     ]
    },
    {
     "name": "stdout",
     "output_type": "stream",
     "text": [
      "Saving patient data as .npz file...\n"
     ]
    },
    {
     "name": "stderr",
     "output_type": "stream",
     "text": [
      "\n",
      "  0%|                                                                                                                                   | 0/10 [00:00<?, ?it/s]\u001b[A\n",
      " 10%|████████████▎                                                                                                              | 1/10 [00:08<01:14,  8.29s/it]\u001b[A\n",
      " 20%|████████████████████████▌                                                                                                  | 2/10 [00:12<00:45,  5.74s/it]\u001b[A\n",
      " 30%|████████████████████████████████████▉                                                                                      | 3/10 [00:18<00:41,  5.89s/it]\u001b[A\n",
      " 40%|█████████████████████████████████████████████████▏                                                                         | 4/10 [00:23<00:32,  5.44s/it]\u001b[A\n",
      " 50%|█████████████████████████████████████████████████████████████▌                                                             | 5/10 [00:30<00:30,  6.03s/it]\u001b[A\n",
      " 60%|█████████████████████████████████████████████████████████████████████████▊                                                 | 6/10 [00:38<00:26,  6.67s/it]\u001b[A\n",
      " 70%|██████████████████████████████████████████████████████████████████████████████████████                                     | 7/10 [00:41<00:16,  5.54s/it]\u001b[A\n",
      " 80%|██████████████████████████████████████████████████████████████████████████████████████████████████▍                        | 8/10 [00:46<00:10,  5.28s/it]\u001b[A\n",
      " 90%|██████████████████████████████████████████████████████████████████████████████████████████████████████████████▋            | 9/10 [00:51<00:05,  5.37s/it]\u001b[A\n",
      "100%|██████████████████████████████████████████████████████████████████████████████████████████████████████████████████████████| 10/10 [01:03<00:00,  6.34s/it]\u001b[A\n"
     ]
    },
    {
     "name": "stdout",
     "output_type": "stream",
     "text": [
      "Cleaning up sorted DICOM files...\n"
     ]
    },
    {
     "name": "stderr",
     "output_type": "stream",
     "text": [
      "\n",
      "  0%|                                                                                                                                   | 0/10 [00:00<?, ?it/s]\u001b[A\n",
      "100%|██████████████████████████████████████████████████████████████████████████████████████████████████████████████████████████| 10/10 [00:00<00:00, 56.09it/s]\u001b[A\n",
      " 57%|██████████████████████████████████████████████████████████████████▍                                                 | 561/979 [1:33:52<2:53:11, 24.86s/it]"
     ]
    },
    {
     "name": "stdout",
     "output_type": "stream",
     "text": [
      "Collected 115057 images in /rawdata/all/train/images\n"
     ]
    },
    {
     "name": "stderr",
     "output_type": "stream",
     "text": [
      "100%|██████████| 2222/2222 [00:03<00:00, 561.29it/s]█████████████████████▋                                                 | 570/979 [1:34:27<30:15,  4.44s/it]\n"
     ]
    },
    {
     "name": "stdout",
     "output_type": "stream",
     "text": [
      "Files sorted\n",
      "Cleaning up downloaded DICOM files...\n"
     ]
    },
    {
     "name": "stderr",
     "output_type": "stream",
     "text": [
      "\n",
      "  0%|                                                                                                                                   | 0/10 [00:00<?, ?it/s]\u001b[A\n",
      "100%|██████████████████████████████████████████████████████████████████████████████████████████████████████████████████████████| 10/10 [00:00<00:00, 53.66it/s]\u001b[A\n"
     ]
    },
    {
     "name": "stdout",
     "output_type": "stream",
     "text": [
      "Saving patient data as .npz file...\n"
     ]
    },
    {
     "name": "stderr",
     "output_type": "stream",
     "text": [
      "\n",
      "  0%|                                                                                                                                   | 0/10 [00:00<?, ?it/s]\u001b[A\n",
      " 10%|████████████▎                                                                                                              | 1/10 [00:08<01:20,  8.95s/it]\u001b[A\n",
      " 20%|████████████████████████▌                                                                                                  | 2/10 [00:20<01:23, 10.39s/it]\u001b[A\n",
      " 30%|████████████████████████████████████▉                                                                                      | 3/10 [00:24<00:53,  7.61s/it]\u001b[A\n",
      " 40%|█████████████████████████████████████████████████▏                                                                         | 4/10 [00:29<00:39,  6.61s/it]\u001b[A\n",
      " 50%|█████████████████████████████████████████████████████████████▌                                                             | 5/10 [00:33<00:27,  5.55s/it]\u001b[A\n",
      " 60%|█████████████████████████████████████████████████████████████████████████▊                                                 | 6/10 [00:39<00:23,  5.88s/it]\u001b[A\n",
      " 70%|██████████████████████████████████████████████████████████████████████████████████████                                     | 7/10 [00:45<00:17,  5.69s/it]\u001b[A\n",
      " 80%|██████████████████████████████████████████████████████████████████████████████████████████████████▍                        | 8/10 [00:48<00:09,  4.88s/it]\u001b[A\n",
      " 90%|██████████████████████████████████████████████████████████████████████████████████████████████████████████████▋            | 9/10 [00:56<00:05,  5.91s/it]\u001b[A\n",
      "100%|██████████████████████████████████████████████████████████████████████████████████████████████████████████████████████████| 10/10 [00:59<00:00,  6.00s/it]\u001b[A\n"
     ]
    },
    {
     "name": "stdout",
     "output_type": "stream",
     "text": [
      "Cleaning up sorted DICOM files...\n"
     ]
    },
    {
     "name": "stderr",
     "output_type": "stream",
     "text": [
      "\n",
      "  0%|                                                                                                                                   | 0/10 [00:00<?, ?it/s]\u001b[A\n",
      "100%|██████████████████████████████████████████████████████████████████████████████████████████████████████████████████████████| 10/10 [00:00<00:00, 55.26it/s]\u001b[A\n",
      " 58%|███████████████████████████████████████████████████████████████████▋                                                | 571/979 [1:35:36<2:41:40, 23.78s/it]"
     ]
    },
    {
     "name": "stdout",
     "output_type": "stream",
     "text": [
      "Collected 117278 images in /rawdata/all/train/images\n"
     ]
    },
    {
     "name": "stderr",
     "output_type": "stream",
     "text": [
      "100%|██████████| 2231/2231 [00:03<00:00, 573.40it/s]██████████████████████▉                                                | 580/979 [1:36:12<34:38,  5.21s/it]\n"
     ]
    },
    {
     "name": "stdout",
     "output_type": "stream",
     "text": [
      "Files sorted\n",
      "Cleaning up downloaded DICOM files...\n"
     ]
    },
    {
     "name": "stderr",
     "output_type": "stream",
     "text": [
      "\n",
      "  0%|                                                                                                                                   | 0/10 [00:00<?, ?it/s]\u001b[A\n",
      "100%|██████████████████████████████████████████████████████████████████████████████████████████████████████████████████████████| 10/10 [00:00<00:00, 53.95it/s]\u001b[A\n"
     ]
    },
    {
     "name": "stdout",
     "output_type": "stream",
     "text": [
      "Saving patient data as .npz file...\n"
     ]
    },
    {
     "name": "stderr",
     "output_type": "stream",
     "text": [
      "\n",
      "  0%|                                                                                                                                   | 0/10 [00:00<?, ?it/s]\u001b[A\n",
      " 10%|████████████▎                                                                                                              | 1/10 [00:04<00:39,  4.42s/it]\u001b[A\n",
      " 20%|████████████████████████▌                                                                                                  | 2/10 [00:16<01:10,  8.81s/it]\u001b[A\n",
      " 30%|████████████████████████████████████▉                                                                                      | 3/10 [00:19<00:45,  6.43s/it]\u001b[A\n",
      " 40%|█████████████████████████████████████████████████▏                                                                         | 4/10 [00:23<00:31,  5.25s/it]\u001b[A\n",
      " 50%|█████████████████████████████████████████████████████████████▌                                                             | 5/10 [00:26<00:23,  4.63s/it]\u001b[A\n",
      " 60%|█████████████████████████████████████████████████████████████████████████▊                                                 | 6/10 [00:34<00:21,  5.50s/it]\u001b[A\n",
      " 70%|██████████████████████████████████████████████████████████████████████████████████████                                     | 7/10 [00:46<00:23,  7.86s/it]\u001b[A\n",
      " 80%|██████████████████████████████████████████████████████████████████████████████████████████████████▍                        | 8/10 [00:50<00:12,  6.44s/it]\u001b[A\n",
      " 90%|██████████████████████████████████████████████████████████████████████████████████████████████████████████████▋            | 9/10 [00:55<00:06,  6.23s/it]\u001b[A\n",
      "100%|██████████████████████████████████████████████████████████████████████████████████████████████████████████████████████████| 10/10 [01:04<00:00,  6.50s/it]\u001b[A\n"
     ]
    },
    {
     "name": "stdout",
     "output_type": "stream",
     "text": [
      "Cleaning up sorted DICOM files...\n"
     ]
    },
    {
     "name": "stderr",
     "output_type": "stream",
     "text": [
      "\n",
      "  0%|                                                                                                                                   | 0/10 [00:00<?, ?it/s]\u001b[A\n",
      "100%|██████████████████████████████████████████████████████████████████████████████████████████████████████████████████████████| 10/10 [00:00<00:00, 61.22it/s]\u001b[A\n",
      " 59%|████████████████████████████████████████████████████████████████████▊                                               | 581/979 [1:37:26<2:51:41, 25.88s/it]"
     ]
    },
    {
     "name": "stdout",
     "output_type": "stream",
     "text": [
      "Collected 119509 images in /rawdata/all/train/images\n"
     ]
    },
    {
     "name": "stderr",
     "output_type": "stream",
     "text": [
      "100%|██████████| 1955/1955 [00:03<00:00, 587.31it/s]████████████████████████                                               | 590/979 [1:37:59<32:10,  4.96s/it]\n"
     ]
    },
    {
     "name": "stdout",
     "output_type": "stream",
     "text": [
      "Files sorted\n",
      "Cleaning up downloaded DICOM files...\n"
     ]
    },
    {
     "name": "stderr",
     "output_type": "stream",
     "text": [
      "\n",
      "  0%|                                                                                                                                   | 0/10 [00:00<?, ?it/s]\u001b[A\n",
      "100%|██████████████████████████████████████████████████████████████████████████████████████████████████████████████████████████| 10/10 [00:00<00:00, 63.46it/s]\u001b[A\n"
     ]
    },
    {
     "name": "stdout",
     "output_type": "stream",
     "text": [
      "Saving patient data as .npz file...\n"
     ]
    },
    {
     "name": "stderr",
     "output_type": "stream",
     "text": [
      "\n",
      "  0%|                                                                                                                                   | 0/10 [00:00<?, ?it/s]\u001b[A\n",
      " 10%|████████████▎                                                                                                              | 1/10 [00:03<00:30,  3.34s/it]\u001b[A\n",
      " 20%|████████████████████████▌                                                                                                  | 2/10 [00:09<00:42,  5.27s/it]\u001b[A\n",
      " 30%|████████████████████████████████████▉                                                                                      | 3/10 [00:13<00:30,  4.39s/it]\u001b[A\n",
      " 40%|█████████████████████████████████████████████████▏                                                                         | 4/10 [00:22<00:37,  6.19s/it]\u001b[A\n",
      " 50%|█████████████████████████████████████████████████████████████▌                                                             | 5/10 [00:30<00:34,  6.90s/it]\u001b[A\n",
      " 60%|█████████████████████████████████████████████████████████████████████████▊                                                 | 6/10 [00:35<00:25,  6.27s/it]\u001b[A\n",
      " 70%|██████████████████████████████████████████████████████████████████████████████████████                                     | 7/10 [00:41<00:18,  6.08s/it]\u001b[A\n",
      " 80%|██████████████████████████████████████████████████████████████████████████████████████████████████▍                        | 8/10 [00:44<00:10,  5.05s/it]\u001b[A\n",
      " 90%|██████████████████████████████████████████████████████████████████████████████████████████████████████████████▋            | 9/10 [00:46<00:04,  4.35s/it]\u001b[A\n",
      "100%|██████████████████████████████████████████████████████████████████████████████████████████████████████████████████████████| 10/10 [00:53<00:00,  5.37s/it]\u001b[A\n"
     ]
    },
    {
     "name": "stdout",
     "output_type": "stream",
     "text": [
      "Cleaning up sorted DICOM files...\n"
     ]
    },
    {
     "name": "stderr",
     "output_type": "stream",
     "text": [
      "\n",
      "  0%|                                                                                                                                   | 0/10 [00:00<?, ?it/s]\u001b[A\n",
      "100%|██████████████████████████████████████████████████████████████████████████████████████████████████████████████████████████| 10/10 [00:00<00:00, 66.58it/s]\u001b[A\n",
      " 60%|██████████████████████████████████████████████████████████████████████                                              | 591/979 [1:38:59<2:19:41, 21.60s/it]"
     ]
    },
    {
     "name": "stdout",
     "output_type": "stream",
     "text": [
      "Collected 121464 images in /rawdata/all/train/images\n"
     ]
    },
    {
     "name": "stderr",
     "output_type": "stream",
     "text": [
      "100%|██████████| 2814/2814 [00:04<00:00, 581.24it/s]█████████████████████████▎                                             | 600/979 [1:39:38<30:57,  4.90s/it]\n"
     ]
    },
    {
     "name": "stdout",
     "output_type": "stream",
     "text": [
      "Files sorted\n",
      "Cleaning up downloaded DICOM files...\n"
     ]
    },
    {
     "name": "stderr",
     "output_type": "stream",
     "text": [
      "\n",
      "  0%|                                                                                                                                   | 0/10 [00:00<?, ?it/s]\u001b[A\n",
      " 50%|█████████████████████████████████████████████████████████████▌                                                             | 5/10 [00:00<00:00, 49.77it/s]\u001b[A\n",
      "100%|██████████████████████████████████████████████████████████████████████████████████████████████████████████████████████████| 10/10 [00:00<00:00, 43.59it/s]\u001b[A\n"
     ]
    },
    {
     "name": "stdout",
     "output_type": "stream",
     "text": [
      "Saving patient data as .npz file...\n"
     ]
    },
    {
     "name": "stderr",
     "output_type": "stream",
     "text": [
      "\n",
      "  0%|                                                                                                                                   | 0/10 [00:00<?, ?it/s]\u001b[A\n",
      " 10%|████████████▎                                                                                                              | 1/10 [00:12<01:49, 12.15s/it]\u001b[A\n",
      " 20%|████████████████████████▌                                                                                                  | 2/10 [00:16<00:58,  7.29s/it]\u001b[A\n",
      " 30%|████████████████████████████████████▉                                                                                      | 3/10 [00:24<00:53,  7.62s/it]\u001b[A"
     ]
    },
    {
     "name": "stdout",
     "output_type": "stream",
     "text": [
      "Failed to reduce all groups to <= 4 Annotations.\n",
      "Some nodules may be close and must be grouped manually.\n"
     ]
    },
    {
     "name": "stderr",
     "output_type": "stream",
     "text": [
      "\n",
      " 40%|█████████████████████████████████████████████████▏                                                                         | 4/10 [00:32<00:48,  8.13s/it]\u001b[A\n",
      " 50%|█████████████████████████████████████████████████████████████▌                                                             | 5/10 [00:36<00:33,  6.61s/it]\u001b[A\n",
      " 60%|█████████████████████████████████████████████████████████████████████████▊                                                 | 6/10 [00:42<00:24,  6.19s/it]\u001b[A\n",
      " 70%|██████████████████████████████████████████████████████████████████████████████████████                                     | 7/10 [00:47<00:17,  5.72s/it]\u001b[A\n",
      " 80%|██████████████████████████████████████████████████████████████████████████████████████████████████▍                        | 8/10 [01:03<00:18,  9.06s/it]\u001b[A\n",
      " 90%|██████████████████████████████████████████████████████████████████████████████████████████████████████████████▋            | 9/10 [01:05<00:06,  6.97s/it]\u001b[A\n",
      "100%|██████████████████████████████████████████████████████████████████████████████████████████████████████████████████████████| 10/10 [01:18<00:00,  7.82s/it]\u001b[A\n"
     ]
    },
    {
     "name": "stdout",
     "output_type": "stream",
     "text": [
      "Cleaning up sorted DICOM files...\n"
     ]
    },
    {
     "name": "stderr",
     "output_type": "stream",
     "text": [
      "\n",
      "  0%|                                                                                                                                   | 0/10 [00:00<?, ?it/s]\u001b[A\n",
      " 50%|█████████████████████████████████████████████████████████████▌                                                             | 5/10 [00:00<00:00, 49.03it/s]\u001b[A\n",
      "100%|██████████████████████████████████████████████████████████████████████████████████████████████████████████████████████████| 10/10 [00:00<00:00, 44.65it/s]\u001b[A\n",
      " 61%|███████████████████████████████████████████████████████████████████████▏                                            | 601/979 [1:41:11<3:17:10, 31.30s/it]"
     ]
    },
    {
     "name": "stdout",
     "output_type": "stream",
     "text": [
      "Collected 124278 images in /rawdata/all/train/images\n"
     ]
    },
    {
     "name": "stderr",
     "output_type": "stream",
     "text": [
      "100%|██████████| 2463/2463 [00:04<00:00, 586.28it/s]██████████████████████████▌                                            | 610/979 [1:41:51<36:59,  6.01s/it]\n"
     ]
    },
    {
     "name": "stdout",
     "output_type": "stream",
     "text": [
      "Files sorted\n",
      "Cleaning up downloaded DICOM files...\n"
     ]
    },
    {
     "name": "stderr",
     "output_type": "stream",
     "text": [
      "\n",
      "  0%|                                                                                                                                   | 0/10 [00:00<?, ?it/s]\u001b[A\n",
      "100%|██████████████████████████████████████████████████████████████████████████████████████████████████████████████████████████| 10/10 [00:00<00:00, 49.09it/s]\u001b[A\n"
     ]
    },
    {
     "name": "stdout",
     "output_type": "stream",
     "text": [
      "Saving patient data as .npz file...\n"
     ]
    },
    {
     "name": "stderr",
     "output_type": "stream",
     "text": [
      "\n",
      "  0%|                                                                                                                                   | 0/10 [00:00<?, ?it/s]\u001b[A\n",
      " 10%|████████████▎                                                                                                              | 1/10 [00:06<01:01,  6.83s/it]\u001b[A\n",
      " 20%|████████████████████████▌                                                                                                  | 2/10 [00:15<01:04,  8.09s/it]\u001b[A\n",
      " 30%|████████████████████████████████████▉                                                                                      | 3/10 [00:27<01:08,  9.83s/it]\u001b[A\n",
      " 40%|█████████████████████████████████████████████████▏                                                                         | 4/10 [00:34<00:52,  8.82s/it]\u001b[A\n",
      " 50%|█████████████████████████████████████████████████████████████▌                                                             | 5/10 [00:44<00:46,  9.21s/it]\u001b[A\n",
      " 60%|█████████████████████████████████████████████████████████████████████████▊                                                 | 6/10 [00:51<00:33,  8.40s/it]\u001b[A\n",
      " 70%|██████████████████████████████████████████████████████████████████████████████████████                                     | 7/10 [00:58<00:23,  7.72s/it]\u001b[A\n",
      " 80%|██████████████████████████████████████████████████████████████████████████████████████████████████▍                        | 8/10 [01:01<00:12,  6.43s/it]\u001b[A\n",
      " 90%|██████████████████████████████████████████████████████████████████████████████████████████████████████████████▋            | 9/10 [01:05<00:05,  5.76s/it]\u001b[A\n",
      "100%|██████████████████████████████████████████████████████████████████████████████████████████████████████████████████████████| 10/10 [01:09<00:00,  6.99s/it]\u001b[A\n"
     ]
    },
    {
     "name": "stdout",
     "output_type": "stream",
     "text": [
      "Cleaning up sorted DICOM files...\n"
     ]
    },
    {
     "name": "stderr",
     "output_type": "stream",
     "text": [
      "\n",
      "  0%|                                                                                                                                   | 0/10 [00:00<?, ?it/s]\u001b[A\n",
      "100%|██████████████████████████████████████████████████████████████████████████████████████████████████████████████████████████| 10/10 [00:00<00:00, 54.89it/s]\u001b[A\n",
      " 62%|████████████████████████████████████████████████████████████████████████▍                                           | 611/979 [1:43:09<2:49:23, 27.62s/it]"
     ]
    },
    {
     "name": "stdout",
     "output_type": "stream",
     "text": [
      "Collected 126741 images in /rawdata/all/train/images\n"
     ]
    },
    {
     "name": "stderr",
     "output_type": "stream",
     "text": [
      "100%|██████████| 2162/2162 [00:03<00:00, 588.33it/s]███████████████████████████▋                                           | 620/979 [1:43:45<30:40,  5.13s/it]\n"
     ]
    },
    {
     "name": "stdout",
     "output_type": "stream",
     "text": [
      "Files sorted\n",
      "Cleaning up downloaded DICOM files...\n"
     ]
    },
    {
     "name": "stderr",
     "output_type": "stream",
     "text": [
      "\n",
      "  0%|                                                                                                                                   | 0/10 [00:00<?, ?it/s]\u001b[A\n",
      "100%|██████████████████████████████████████████████████████████████████████████████████████████████████████████████████████████| 10/10 [00:00<00:00, 56.88it/s]\u001b[A\n"
     ]
    },
    {
     "name": "stdout",
     "output_type": "stream",
     "text": [
      "Saving patient data as .npz file...\n"
     ]
    },
    {
     "name": "stderr",
     "output_type": "stream",
     "text": [
      "\n",
      "  0%|                                                                                                                                   | 0/10 [00:00<?, ?it/s]\u001b[A\n",
      " 10%|████████████▎                                                                                                              | 1/10 [00:03<00:34,  3.88s/it]\u001b[A\n",
      " 20%|████████████████████████▌                                                                                                  | 2/10 [00:15<01:09,  8.69s/it]\u001b[A\n",
      " 30%|████████████████████████████████████▉                                                                                      | 3/10 [00:19<00:42,  6.13s/it]\u001b[A\n",
      " 40%|█████████████████████████████████████████████████▏                                                                         | 4/10 [00:22<00:30,  5.16s/it]\u001b[A\n",
      " 50%|█████████████████████████████████████████████████████████████▌                                                             | 5/10 [00:29<00:28,  5.66s/it]\u001b[A\n",
      " 60%|█████████████████████████████████████████████████████████████████████████▊                                                 | 6/10 [00:39<00:29,  7.39s/it]\u001b[A\n",
      " 70%|██████████████████████████████████████████████████████████████████████████████████████                                     | 7/10 [00:43<00:18,  6.08s/it]\u001b[A\n",
      " 80%|██████████████████████████████████████████████████████████████████████████████████████████████████▍                        | 8/10 [00:46<00:10,  5.14s/it]\u001b[A\n",
      " 90%|██████████████████████████████████████████████████████████████████████████████████████████████████████████████▋            | 9/10 [00:54<00:06,  6.05s/it]\u001b[A\n",
      "100%|██████████████████████████████████████████████████████████████████████████████████████████████████████████████████████████| 10/10 [00:59<00:00,  5.97s/it]\u001b[A\n"
     ]
    },
    {
     "name": "stdout",
     "output_type": "stream",
     "text": [
      "Cleaning up sorted DICOM files...\n"
     ]
    },
    {
     "name": "stderr",
     "output_type": "stream",
     "text": [
      "\n",
      "  0%|                                                                                                                                   | 0/10 [00:00<?, ?it/s]\u001b[A\n",
      "100%|██████████████████████████████████████████████████████████████████████████████████████████████████████████████████████████| 10/10 [00:00<00:00, 58.77it/s]\u001b[A\n",
      " 63%|█████████████████████████████████████████████████████████████████████████▌                                          | 621/979 [1:44:52<2:21:29, 23.71s/it]"
     ]
    },
    {
     "name": "stdout",
     "output_type": "stream",
     "text": [
      "Collected 128903 images in /rawdata/all/train/images\n"
     ]
    },
    {
     "name": "stderr",
     "output_type": "stream",
     "text": [
      "100%|██████████| 2938/2938 [00:05<00:00, 561.77it/s]████████████████████████████▉                                          | 630/979 [1:45:34<41:29,  7.13s/it]\n"
     ]
    },
    {
     "name": "stdout",
     "output_type": "stream",
     "text": [
      "Files sorted\n",
      "Cleaning up downloaded DICOM files...\n"
     ]
    },
    {
     "name": "stderr",
     "output_type": "stream",
     "text": [
      "\n",
      "  0%|                                                                                                                                   | 0/10 [00:00<?, ?it/s]\u001b[A\n",
      " 20%|████████████████████████▌                                                                                                  | 2/10 [00:00<00:00, 19.99it/s]\u001b[A\n",
      "100%|██████████████████████████████████████████████████████████████████████████████████████████████████████████████████████████| 10/10 [00:00<00:00, 41.56it/s]\u001b[A\n"
     ]
    },
    {
     "name": "stdout",
     "output_type": "stream",
     "text": [
      "Saving patient data as .npz file...\n"
     ]
    },
    {
     "name": "stderr",
     "output_type": "stream",
     "text": [
      "\n",
      "  0%|                                                                                                                                   | 0/10 [00:00<?, ?it/s]\u001b[A\n",
      " 10%|████████████▎                                                                                                              | 1/10 [00:03<00:31,  3.46s/it]\u001b[A\n",
      " 20%|████████████████████████▌                                                                                                  | 2/10 [00:06<00:27,  3.44s/it]\u001b[A\n",
      " 30%|████████████████████████████████████▉                                                                                      | 3/10 [00:17<00:47,  6.74s/it]\u001b[A\n",
      " 40%|█████████████████████████████████████████████████▏                                                                         | 4/10 [00:38<01:14, 12.36s/it]\u001b[A\n",
      " 50%|█████████████████████████████████████████████████████████████▌                                                             | 5/10 [00:47<00:56, 11.27s/it]\u001b[A\n",
      " 60%|█████████████████████████████████████████████████████████████████████████▊                                                 | 6/10 [00:53<00:38,  9.52s/it]\u001b[A\n",
      " 70%|██████████████████████████████████████████████████████████████████████████████████████                                     | 7/10 [00:59<00:24,  8.15s/it]\u001b[A\n",
      " 80%|██████████████████████████████████████████████████████████████████████████████████████████████████▍                        | 8/10 [01:03<00:13,  6.91s/it]\u001b[A\n",
      " 90%|██████████████████████████████████████████████████████████████████████████████████████████████████████████████▋            | 9/10 [01:09<00:06,  6.46s/it]\u001b[A\n",
      "100%|██████████████████████████████████████████████████████████████████████████████████████████████████████████████████████████| 10/10 [01:21<00:00,  8.17s/it]\u001b[A\n"
     ]
    },
    {
     "name": "stdout",
     "output_type": "stream",
     "text": [
      "Cleaning up sorted DICOM files...\n"
     ]
    },
    {
     "name": "stderr",
     "output_type": "stream",
     "text": [
      "\n",
      "  0%|                                                                                                                                   | 0/10 [00:00<?, ?it/s]\u001b[A\n",
      " 40%|█████████████████████████████████████████████████▏                                                                         | 4/10 [00:00<00:00, 38.62it/s]\u001b[A\n",
      "100%|██████████████████████████████████████████████████████████████████████████████████████████████████████████████████████████| 10/10 [00:00<00:00, 45.23it/s]\u001b[A\n",
      " 64%|██████████████████████████████████████████████████████████████████████████▊                                         | 631/979 [1:47:07<3:09:40, 32.70s/it]"
     ]
    },
    {
     "name": "stdout",
     "output_type": "stream",
     "text": [
      "Collected 131841 images in /rawdata/all/train/images\n"
     ]
    },
    {
     "name": "stderr",
     "output_type": "stream",
     "text": [
      "100%|██████████| 2425/2425 [00:04<00:00, 577.01it/s]██████████████████████████████▏                                        | 640/979 [1:47:44<30:00,  5.31s/it]\n"
     ]
    },
    {
     "name": "stdout",
     "output_type": "stream",
     "text": [
      "Files sorted\n",
      "Cleaning up downloaded DICOM files...\n"
     ]
    },
    {
     "name": "stderr",
     "output_type": "stream",
     "text": [
      "\n",
      "  0%|                                                                                                                                   | 0/10 [00:00<?, ?it/s]\u001b[A\n",
      "100%|██████████████████████████████████████████████████████████████████████████████████████████████████████████████████████████| 10/10 [00:00<00:00, 51.56it/s]\u001b[A\n"
     ]
    },
    {
     "name": "stdout",
     "output_type": "stream",
     "text": [
      "Saving patient data as .npz file...\n"
     ]
    },
    {
     "name": "stderr",
     "output_type": "stream",
     "text": [
      "\n",
      "  0%|                                                                                                                                   | 0/10 [00:00<?, ?it/s]\u001b[A\n",
      " 10%|████████████▎                                                                                                              | 1/10 [00:05<00:52,  5.81s/it]\u001b[A\n",
      " 20%|████████████████████████▌                                                                                                  | 2/10 [00:12<00:51,  6.45s/it]\u001b[A\n",
      " 30%|████████████████████████████████████▉                                                                                      | 3/10 [00:19<00:47,  6.81s/it]\u001b[A\n",
      " 40%|█████████████████████████████████████████████████▏                                                                         | 4/10 [00:30<00:50,  8.33s/it]\u001b[A\n",
      " 50%|█████████████████████████████████████████████████████████████▌                                                             | 5/10 [00:38<00:40,  8.03s/it]\u001b[A\n",
      " 60%|█████████████████████████████████████████████████████████████████████████▊                                                 | 6/10 [00:42<00:27,  6.81s/it]\u001b[A\n",
      " 70%|██████████████████████████████████████████████████████████████████████████████████████                                     | 7/10 [00:45<00:16,  5.64s/it]\u001b[A\n",
      " 80%|██████████████████████████████████████████████████████████████████████████████████████████████████▍                        | 8/10 [00:51<00:11,  5.66s/it]\u001b[A\n",
      " 90%|██████████████████████████████████████████████████████████████████████████████████████████████████████████████▋            | 9/10 [00:57<00:05,  5.75s/it]\u001b[A\n",
      "100%|██████████████████████████████████████████████████████████████████████████████████████████████████████████████████████████| 10/10 [01:04<00:00,  6.44s/it]\u001b[A\n"
     ]
    },
    {
     "name": "stdout",
     "output_type": "stream",
     "text": [
      "Cleaning up sorted DICOM files...\n"
     ]
    },
    {
     "name": "stderr",
     "output_type": "stream",
     "text": [
      "\n",
      "  0%|                                                                                                                                   | 0/10 [00:00<?, ?it/s]\u001b[A\n",
      "100%|██████████████████████████████████████████████████████████████████████████████████████████████████████████████████████████| 10/10 [00:00<00:00, 56.09it/s]\u001b[A\n",
      " 65%|███████████████████████████████████████████████████████████████████████████▉                                        | 641/979 [1:48:57<2:25:09, 25.77s/it]"
     ]
    },
    {
     "name": "stdout",
     "output_type": "stream",
     "text": [
      "Collected 134266 images in /rawdata/all/train/images\n"
     ]
    },
    {
     "name": "stderr",
     "output_type": "stream",
     "text": [
      "100%|██████████| 3447/3447 [00:05<00:00, 583.89it/s]███████████████████████████████▎                                       | 650/979 [1:49:46<30:36,  5.58s/it]\n"
     ]
    },
    {
     "name": "stdout",
     "output_type": "stream",
     "text": [
      "Files sorted\n",
      "Cleaning up downloaded DICOM files...\n"
     ]
    },
    {
     "name": "stderr",
     "output_type": "stream",
     "text": [
      "\n",
      "  0%|                                                                                                                                   | 0/10 [00:00<?, ?it/s]\u001b[A\n",
      " 30%|████████████████████████████████████▉                                                                                      | 3/10 [00:00<00:00, 25.21it/s]\u001b[A\n",
      "100%|██████████████████████████████████████████████████████████████████████████████████████████████████████████████████████████| 10/10 [00:00<00:00, 36.13it/s]\u001b[A\n"
     ]
    },
    {
     "name": "stdout",
     "output_type": "stream",
     "text": [
      "Saving patient data as .npz file...\n"
     ]
    },
    {
     "name": "stderr",
     "output_type": "stream",
     "text": [
      "\n",
      "  0%|                                                                                                                                   | 0/10 [00:00<?, ?it/s]\u001b[A\n",
      " 10%|████████████▎                                                                                                              | 1/10 [00:06<00:58,  6.46s/it]\u001b[A\n",
      " 20%|████████████████████████▌                                                                                                  | 2/10 [00:10<00:42,  5.27s/it]\u001b[A\n",
      " 30%|████████████████████████████████████▉                                                                                      | 3/10 [00:14<00:32,  4.66s/it]\u001b[A\n",
      " 40%|█████████████████████████████████████████████████▏                                                                         | 4/10 [00:22<00:34,  5.77s/it]\u001b[A\n",
      " 50%|█████████████████████████████████████████████████████████████▌                                                             | 5/10 [00:34<00:39,  7.99s/it]\u001b[A\n",
      " 60%|█████████████████████████████████████████████████████████████████████████▊                                                 | 6/10 [00:47<00:38,  9.65s/it]\u001b[A\n",
      " 70%|██████████████████████████████████████████████████████████████████████████████████████                                     | 7/10 [00:59<00:32, 10.67s/it]\u001b[A\n",
      " 80%|██████████████████████████████████████████████████████████████████████████████████████████████████▍                        | 8/10 [01:15<00:24, 12.19s/it]\u001b[A\n",
      " 90%|██████████████████████████████████████████████████████████████████████████████████████████████████████████████▋            | 9/10 [01:26<00:11, 11.94s/it]\u001b[A\n",
      "100%|██████████████████████████████████████████████████████████████████████████████████████████████████████████████████████████| 10/10 [01:29<00:00,  8.96s/it]\u001b[A\n"
     ]
    },
    {
     "name": "stdout",
     "output_type": "stream",
     "text": [
      "Cleaning up sorted DICOM files...\n"
     ]
    },
    {
     "name": "stderr",
     "output_type": "stream",
     "text": [
      "\n",
      "  0%|                                                                                                                                   | 0/10 [00:00<?, ?it/s]\u001b[A\n",
      "100%|██████████████████████████████████████████████████████████████████████████████████████████████████████████████████████████| 10/10 [00:00<00:00, 39.96it/s]\u001b[A\n",
      " 66%|█████████████████████████████████████████████████████████████████████████████▏                                      | 651/979 [1:51:26<3:06:17, 34.08s/it]"
     ]
    },
    {
     "name": "stdout",
     "output_type": "stream",
     "text": [
      "Collected 137713 images in /rawdata/all/train/images\n"
     ]
    },
    {
     "name": "stderr",
     "output_type": "stream",
     "text": [
      "100%|██████████| 3014/3014 [00:05<00:00, 593.64it/s]████████████████████████████████▌                                      | 660/979 [1:52:08<26:12,  4.93s/it]\n"
     ]
    },
    {
     "name": "stdout",
     "output_type": "stream",
     "text": [
      "Files sorted\n",
      "Cleaning up downloaded DICOM files...\n"
     ]
    },
    {
     "name": "stderr",
     "output_type": "stream",
     "text": [
      "\n",
      "  0%|                                                                                                                                   | 0/10 [00:00<?, ?it/s]\u001b[A\n",
      "100%|██████████████████████████████████████████████████████████████████████████████████████████████████████████████████████████| 10/10 [00:00<00:00, 41.02it/s]\u001b[A\n"
     ]
    },
    {
     "name": "stdout",
     "output_type": "stream",
     "text": [
      "Saving patient data as .npz file...\n"
     ]
    },
    {
     "name": "stderr",
     "output_type": "stream",
     "text": [
      "\n",
      "  0%|                                                                                                                                   | 0/10 [00:00<?, ?it/s]\u001b[A\n",
      " 10%|████████████▎                                                                                                              | 1/10 [00:03<00:28,  3.15s/it]\u001b[A\n",
      " 20%|████████████████████████▌                                                                                                  | 2/10 [00:06<00:26,  3.31s/it]\u001b[A\n",
      " 30%|████████████████████████████████████▉                                                                                      | 3/10 [00:18<00:49,  7.07s/it]\u001b[A\n",
      " 40%|█████████████████████████████████████████████████▏                                                                         | 4/10 [00:29<00:53,  8.88s/it]\u001b[A\n",
      " 50%|█████████████████████████████████████████████████████████████▌                                                             | 5/10 [00:33<00:34,  6.99s/it]\u001b[A\n",
      " 60%|█████████████████████████████████████████████████████████████████████████▊                                                 | 6/10 [00:46<00:35,  8.99s/it]\u001b[A\n",
      " 70%|██████████████████████████████████████████████████████████████████████████████████████                                     | 7/10 [00:50<00:22,  7.53s/it]\u001b[A\n",
      " 80%|██████████████████████████████████████████████████████████████████████████████████████████████████▍                        | 8/10 [01:04<00:18,  9.50s/it]\u001b[A\n",
      " 90%|██████████████████████████████████████████████████████████████████████████████████████████████████████████████▋            | 9/10 [01:08<00:07,  7.88s/it]\u001b[A\n",
      "100%|██████████████████████████████████████████████████████████████████████████████████████████████████████████████████████████| 10/10 [01:18<00:00,  7.85s/it]\u001b[A\n"
     ]
    },
    {
     "name": "stdout",
     "output_type": "stream",
     "text": [
      "Cleaning up sorted DICOM files...\n"
     ]
    },
    {
     "name": "stderr",
     "output_type": "stream",
     "text": [
      "\n",
      "  0%|                                                                                                                                   | 0/10 [00:00<?, ?it/s]\u001b[A\n",
      "100%|██████████████████████████████████████████████████████████████████████████████████████████████████████████████████████████| 10/10 [00:00<00:00, 45.42it/s]\u001b[A\n",
      " 68%|██████████████████████████████████████████████████████████████████████████████▎                                     | 661/979 [1:53:40<2:43:48, 30.91s/it]"
     ]
    },
    {
     "name": "stdout",
     "output_type": "stream",
     "text": [
      "Collected 140727 images in /rawdata/all/train/images\n"
     ]
    },
    {
     "name": "stderr",
     "output_type": "stream",
     "text": [
      "100%|██████████| 2403/2403 [00:04<00:00, 591.83it/s]█████████████████████████████████▊                                     | 670/979 [1:54:18<25:52,  5.03s/it]\n"
     ]
    },
    {
     "name": "stdout",
     "output_type": "stream",
     "text": [
      "Files sorted\n",
      "Cleaning up downloaded DICOM files...\n"
     ]
    },
    {
     "name": "stderr",
     "output_type": "stream",
     "text": [
      "\n",
      "  0%|                                                                                                                                   | 0/10 [00:00<?, ?it/s]\u001b[A\n",
      "100%|██████████████████████████████████████████████████████████████████████████████████████████████████████████████████████████| 10/10 [00:00<00:00, 51.47it/s]\u001b[A\n"
     ]
    },
    {
     "name": "stdout",
     "output_type": "stream",
     "text": [
      "Saving patient data as .npz file...\n"
     ]
    },
    {
     "name": "stderr",
     "output_type": "stream",
     "text": [
      "\n",
      "  0%|                                                                                                                                   | 0/10 [00:00<?, ?it/s]\u001b[A\n",
      " 10%|████████████▎                                                                                                              | 1/10 [00:11<01:39, 11.02s/it]\u001b[A\n",
      " 20%|████████████████████████▌                                                                                                  | 2/10 [00:13<00:49,  6.21s/it]\u001b[A\n",
      " 30%|████████████████████████████████████▉                                                                                      | 3/10 [00:17<00:35,  5.14s/it]\u001b[A\n",
      " 40%|█████████████████████████████████████████████████▏                                                                         | 4/10 [00:24<00:34,  5.71s/it]\u001b[A\n",
      " 50%|█████████████████████████████████████████████████████████████▌                                                             | 5/10 [00:27<00:24,  4.83s/it]\u001b[A\n",
      " 60%|█████████████████████████████████████████████████████████████████████████▊                                                 | 6/10 [00:30<00:17,  4.26s/it]\u001b[A\n",
      " 70%|██████████████████████████████████████████████████████████████████████████████████████                                     | 7/10 [00:44<00:22,  7.51s/it]\u001b[A\n",
      " 80%|██████████████████████████████████████████████████████████████████████████████████████████████████▍                        | 8/10 [00:52<00:15,  7.59s/it]\u001b[A\n",
      " 90%|██████████████████████████████████████████████████████████████████████████████████████████████████████████████▋            | 9/10 [01:04<00:08,  8.76s/it]\u001b[A\n",
      "100%|██████████████████████████████████████████████████████████████████████████████████████████████████████████████████████████| 10/10 [01:07<00:00,  6.75s/it]\u001b[A\n"
     ]
    },
    {
     "name": "stdout",
     "output_type": "stream",
     "text": [
      "Cleaning up sorted DICOM files...\n"
     ]
    },
    {
     "name": "stderr",
     "output_type": "stream",
     "text": [
      "\n",
      "  0%|                                                                                                                                   | 0/10 [00:00<?, ?it/s]\u001b[A\n",
      "100%|██████████████████████████████████████████████████████████████████████████████████████████████████████████████████████████| 10/10 [00:00<00:00, 58.59it/s]\u001b[A\n",
      " 69%|███████████████████████████████████████████████████████████████████████████████▌                                    | 671/979 [1:55:33<2:13:22, 25.98s/it]"
     ]
    },
    {
     "name": "stdout",
     "output_type": "stream",
     "text": [
      "Collected 143130 images in /rawdata/all/train/images\n"
     ]
    },
    {
     "name": "stderr",
     "output_type": "stream",
     "text": [
      "100%|██████████| 2698/2698 [00:04<00:00, 597.02it/s]██████████████████████████████████▉                                    | 680/979 [1:56:11<30:40,  6.16s/it]\n"
     ]
    },
    {
     "name": "stdout",
     "output_type": "stream",
     "text": [
      "Files sorted\n",
      "Cleaning up downloaded DICOM files...\n"
     ]
    },
    {
     "name": "stderr",
     "output_type": "stream",
     "text": [
      "\n",
      "  0%|                                                                                                                                   | 0/10 [00:00<?, ?it/s]\u001b[A\n",
      " 50%|█████████████████████████████████████████████████████████████▌                                                             | 5/10 [00:00<00:00, 43.27it/s]\u001b[A\n",
      "100%|██████████████████████████████████████████████████████████████████████████████████████████████████████████████████████████| 10/10 [00:00<00:00, 45.73it/s]\u001b[A\n"
     ]
    },
    {
     "name": "stdout",
     "output_type": "stream",
     "text": [
      "Saving patient data as .npz file...\n"
     ]
    },
    {
     "name": "stderr",
     "output_type": "stream",
     "text": [
      "\n",
      "  0%|                                                                                                                                   | 0/10 [00:00<?, ?it/s]\u001b[A\n",
      " 10%|████████████▎                                                                                                              | 1/10 [00:08<01:16,  8.48s/it]\u001b[A\n",
      " 20%|████████████████████████▌                                                                                                  | 2/10 [00:12<00:44,  5.59s/it]\u001b[A\n",
      " 30%|████████████████████████████████████▉                                                                                      | 3/10 [00:16<00:36,  5.16s/it]\u001b[A\n",
      " 40%|█████████████████████████████████████████████████▏                                                                         | 4/10 [00:22<00:32,  5.50s/it]\u001b[A\n",
      " 50%|█████████████████████████████████████████████████████████████▌                                                             | 5/10 [00:26<00:23,  4.71s/it]\u001b[A\n",
      " 60%|█████████████████████████████████████████████████████████████████████████▊                                                 | 6/10 [00:36<00:27,  6.76s/it]\u001b[A\n",
      " 70%|██████████████████████████████████████████████████████████████████████████████████████                                     | 7/10 [00:42<00:19,  6.50s/it]\u001b[A\n",
      " 80%|██████████████████████████████████████████████████████████████████████████████████████████████████▍                        | 8/10 [00:55<00:17,  8.63s/it]\u001b[A\n",
      " 90%|██████████████████████████████████████████████████████████████████████████████████████████████████████████████▋            | 9/10 [01:08<00:10, 10.00s/it]\u001b[A\n",
      "100%|██████████████████████████████████████████████████████████████████████████████████████████████████████████████████████████| 10/10 [01:12<00:00,  7.28s/it]\u001b[A\n"
     ]
    },
    {
     "name": "stdout",
     "output_type": "stream",
     "text": [
      "Cleaning up sorted DICOM files...\n"
     ]
    },
    {
     "name": "stderr",
     "output_type": "stream",
     "text": [
      "\n",
      "  0%|                                                                                                                                   | 0/10 [00:00<?, ?it/s]\u001b[A\n",
      "100%|██████████████████████████████████████████████████████████████████████████████████████████████████████████████████████████| 10/10 [00:00<00:00, 51.27it/s]\u001b[A\n",
      " 70%|████████████████████████████████████████████████████████████████████████████████▋                                   | 681/979 [1:57:34<2:24:16, 29.05s/it]"
     ]
    },
    {
     "name": "stdout",
     "output_type": "stream",
     "text": [
      "Collected 145828 images in /rawdata/all/train/images\n"
     ]
    },
    {
     "name": "stderr",
     "output_type": "stream",
     "text": [
      "100%|██████████| 2789/2789 [00:04<00:00, 570.98it/s]████████████████████████████████████▏                                  | 690/979 [1:58:15<25:27,  5.28s/it]\n"
     ]
    },
    {
     "name": "stdout",
     "output_type": "stream",
     "text": [
      "Files sorted\n",
      "Cleaning up downloaded DICOM files...\n"
     ]
    },
    {
     "name": "stderr",
     "output_type": "stream",
     "text": [
      "\n",
      "  0%|                                                                                                                                   | 0/10 [00:00<?, ?it/s]\u001b[A\n",
      "100%|██████████████████████████████████████████████████████████████████████████████████████████████████████████████████████████| 10/10 [00:00<00:00, 45.01it/s]\u001b[A\n"
     ]
    },
    {
     "name": "stdout",
     "output_type": "stream",
     "text": [
      "Saving patient data as .npz file...\n"
     ]
    },
    {
     "name": "stderr",
     "output_type": "stream",
     "text": [
      "\n",
      "  0%|                                                                                                                                   | 0/10 [00:00<?, ?it/s]\u001b[A\n",
      " 10%|████████████▎                                                                                                              | 1/10 [00:03<00:30,  3.44s/it]\u001b[A\n",
      " 20%|████████████████████████▌                                                                                                  | 2/10 [00:07<00:28,  3.51s/it]\u001b[A\n",
      " 30%|████████████████████████████████████▉                                                                                      | 3/10 [00:19<00:53,  7.70s/it]\u001b[A\n",
      " 40%|█████████████████████████████████████████████████▏                                                                         | 4/10 [00:27<00:46,  7.80s/it]\u001b[A\n",
      " 50%|█████████████████████████████████████████████████████████████▌                                                             | 5/10 [00:31<00:32,  6.44s/it]\u001b[A\n",
      " 60%|█████████████████████████████████████████████████████████████████████████▊                                                 | 6/10 [00:44<00:34,  8.70s/it]\u001b[A\n",
      " 70%|██████████████████████████████████████████████████████████████████████████████████████                                     | 7/10 [00:56<00:28,  9.60s/it]\u001b[A\n",
      " 80%|██████████████████████████████████████████████████████████████████████████████████████████████████▍                        | 8/10 [00:59<00:15,  7.60s/it]\u001b[A\n",
      " 90%|██████████████████████████████████████████████████████████████████████████████████████████████████████████████▋            | 9/10 [01:12<00:09,  9.36s/it]\u001b[A\n",
      "100%|██████████████████████████████████████████████████████████████████████████████████████████████████████████████████████████| 10/10 [01:16<00:00,  7.62s/it]\u001b[A\n"
     ]
    },
    {
     "name": "stdout",
     "output_type": "stream",
     "text": [
      "Cleaning up sorted DICOM files...\n"
     ]
    },
    {
     "name": "stderr",
     "output_type": "stream",
     "text": [
      "\n",
      "  0%|                                                                                                                                   | 0/10 [00:00<?, ?it/s]\u001b[A\n",
      "100%|██████████████████████████████████████████████████████████████████████████████████████████████████████████████████████████| 10/10 [00:00<00:00, 50.59it/s]\u001b[A\n",
      " 71%|█████████████████████████████████████████████████████████████████████████████████▉                                  | 691/979 [1:59:40<2:19:58, 29.16s/it]"
     ]
    },
    {
     "name": "stdout",
     "output_type": "stream",
     "text": [
      "Collected 148617 images in /rawdata/all/train/images\n"
     ]
    },
    {
     "name": "stderr",
     "output_type": "stream",
     "text": [
      "100%|██████████| 2438/2438 [00:04<00:00, 585.10it/s]█████████████████████████████████████▎                                 | 700/979 [2:00:13<20:28,  4.40s/it]\n"
     ]
    },
    {
     "name": "stdout",
     "output_type": "stream",
     "text": [
      "Files sorted\n",
      "Cleaning up downloaded DICOM files...\n"
     ]
    },
    {
     "name": "stderr",
     "output_type": "stream",
     "text": [
      "\n",
      "  0%|                                                                                                                                   | 0/10 [00:00<?, ?it/s]\u001b[A\n",
      "100%|██████████████████████████████████████████████████████████████████████████████████████████████████████████████████████████| 10/10 [00:00<00:00, 51.51it/s]\u001b[A\n"
     ]
    },
    {
     "name": "stdout",
     "output_type": "stream",
     "text": [
      "Saving patient data as .npz file...\n"
     ]
    },
    {
     "name": "stderr",
     "output_type": "stream",
     "text": [
      "\n",
      "  0%|                                                                                                                                   | 0/10 [00:00<?, ?it/s]\u001b[A\n",
      " 10%|████████████▎                                                                                                              | 1/10 [00:06<00:55,  6.17s/it]\u001b[A\n",
      " 20%|████████████████████████▌                                                                                                  | 2/10 [00:08<00:32,  4.01s/it]\u001b[A\n",
      " 30%|████████████████████████████████████▉                                                                                      | 3/10 [00:16<00:39,  5.66s/it]\u001b[A\n",
      " 40%|█████████████████████████████████████████████████▏                                                                         | 4/10 [00:19<00:28,  4.68s/it]\u001b[A\n",
      " 50%|█████████████████████████████████████████████████████████████▌                                                             | 5/10 [00:32<00:39,  7.84s/it]\u001b[A\n",
      " 60%|█████████████████████████████████████████████████████████████████████████▊                                                 | 6/10 [00:39<00:29,  7.44s/it]\u001b[A\n",
      " 70%|██████████████████████████████████████████████████████████████████████████████████████                                     | 7/10 [00:44<00:20,  6.76s/it]\u001b[A\n",
      " 80%|██████████████████████████████████████████████████████████████████████████████████████████████████▍                        | 8/10 [00:48<00:11,  5.85s/it]\u001b[A\n",
      " 90%|██████████████████████████████████████████████████████████████████████████████████████████████████████████████▋            | 9/10 [01:02<00:08,  8.22s/it]\u001b[A\n",
      "100%|██████████████████████████████████████████████████████████████████████████████████████████████████████████████████████████| 10/10 [01:05<00:00,  6.53s/it]\u001b[A\n"
     ]
    },
    {
     "name": "stdout",
     "output_type": "stream",
     "text": [
      "Cleaning up sorted DICOM files...\n"
     ]
    },
    {
     "name": "stderr",
     "output_type": "stream",
     "text": [
      "\n",
      "  0%|                                                                                                                                   | 0/10 [00:00<?, ?it/s]\u001b[A\n",
      "100%|██████████████████████████████████████████████████████████████████████████████████████████████████████████████████████████| 10/10 [00:00<00:00, 56.27it/s]\u001b[A\n",
      " 72%|███████████████████████████████████████████████████████████████████████████████████                                 | 701/979 [2:01:30<2:01:58, 26.33s/it]"
     ]
    },
    {
     "name": "stdout",
     "output_type": "stream",
     "text": [
      "Collected 151055 images in /rawdata/all/train/images\n"
     ]
    },
    {
     "name": "stderr",
     "output_type": "stream",
     "text": [
      "100%|██████████| 3278/3278 [00:05<00:00, 596.03it/s]██████████████████████████████████████▌                                | 710/979 [2:02:14<24:59,  5.57s/it]\n"
     ]
    },
    {
     "name": "stdout",
     "output_type": "stream",
     "text": [
      "Files sorted\n",
      "Cleaning up downloaded DICOM files...\n"
     ]
    },
    {
     "name": "stderr",
     "output_type": "stream",
     "text": [
      "\n",
      "  0%|                                                                                                                                   | 0/10 [00:00<?, ?it/s]\u001b[A\n",
      " 40%|█████████████████████████████████████████████████▏                                                                         | 4/10 [00:00<00:00, 37.44it/s]\u001b[A\n",
      "100%|██████████████████████████████████████████████████████████████████████████████████████████████████████████████████████████| 10/10 [00:00<00:00, 38.02it/s]\u001b[A\n"
     ]
    },
    {
     "name": "stdout",
     "output_type": "stream",
     "text": [
      "Saving patient data as .npz file...\n"
     ]
    },
    {
     "name": "stderr",
     "output_type": "stream",
     "text": [
      "\n",
      "  0%|                                                                                                                                   | 0/10 [00:00<?, ?it/s]\u001b[A\n",
      " 10%|████████████▎                                                                                                              | 1/10 [00:02<00:26,  2.90s/it]\u001b[A"
     ]
    },
    {
     "name": "stdout",
     "output_type": "stream",
     "text": [
      "Error getting DICOM files for patient LIDC-IDRI-0724, skipping\n"
     ]
    },
    {
     "name": "stderr",
     "output_type": "stream",
     "text": [
      "\n",
      " 20%|████████████████████████▌                                                                                                  | 2/10 [00:14<01:05,  8.22s/it]\u001b[A\n",
      " 30%|████████████████████████████████████▉                                                                                      | 3/10 [00:25<01:04,  9.20s/it]\u001b[A\n",
      " 40%|█████████████████████████████████████████████████▏                                                                         | 4/10 [00:30<00:44,  7.46s/it]\u001b[A\n",
      " 50%|█████████████████████████████████████████████████████████████▌                                                             | 5/10 [00:43<00:49,  9.80s/it]\u001b[A\n",
      " 60%|█████████████████████████████████████████████████████████████████████████▊                                                 | 6/10 [00:50<00:34,  8.74s/it]\u001b[A\n",
      " 70%|██████████████████████████████████████████████████████████████████████████████████████                                     | 7/10 [00:56<00:23,  7.79s/it]\u001b[A\n",
      " 80%|██████████████████████████████████████████████████████████████████████████████████████████████████▍                        | 8/10 [01:05<00:16,  8.06s/it]\u001b[A\n",
      " 90%|██████████████████████████████████████████████████████████████████████████████████████████████████████████████▋            | 9/10 [01:10<00:07,  7.34s/it]\u001b[A\n",
      "100%|██████████████████████████████████████████████████████████████████████████████████████████████████████████████████████████| 10/10 [01:23<00:00,  8.35s/it]\u001b[A\n"
     ]
    },
    {
     "name": "stdout",
     "output_type": "stream",
     "text": [
      "Cleaning up sorted DICOM files...\n"
     ]
    },
    {
     "name": "stderr",
     "output_type": "stream",
     "text": [
      "\n",
      "  0%|                                                                                                                                   | 0/10 [00:00<?, ?it/s]\u001b[A\n",
      " 50%|█████████████████████████████████████████████████████████████▌                                                             | 5/10 [00:00<00:00, 41.31it/s]\u001b[A\n",
      "100%|██████████████████████████████████████████████████████████████████████████████████████████████████████████████████████████| 10/10 [00:00<00:00, 41.79it/s]\u001b[A\n",
      " 73%|████████████████████████████████████████████████████████████████████████████████████▏                               | 711/979 [2:03:51<2:27:05, 32.93s/it]"
     ]
    },
    {
     "name": "stdout",
     "output_type": "stream",
     "text": [
      "Collected 154312 images in /rawdata/all/train/images\n"
     ]
    },
    {
     "name": "stderr",
     "output_type": "stream",
     "text": [
      "100%|██████████| 2530/2530 [00:04<00:00, 584.86it/s]███████████████████████████████████████▊                               | 720/979 [2:04:33<25:23,  5.88s/it]\n"
     ]
    },
    {
     "name": "stdout",
     "output_type": "stream",
     "text": [
      "Files sorted\n",
      "Cleaning up downloaded DICOM files...\n"
     ]
    },
    {
     "name": "stderr",
     "output_type": "stream",
     "text": [
      "\n",
      "  0%|                                                                                                                                   | 0/10 [00:00<?, ?it/s]\u001b[A\n",
      "100%|██████████████████████████████████████████████████████████████████████████████████████████████████████████████████████████| 10/10 [00:00<00:00, 47.68it/s]\u001b[A\n"
     ]
    },
    {
     "name": "stdout",
     "output_type": "stream",
     "text": [
      "Saving patient data as .npz file...\n"
     ]
    },
    {
     "name": "stderr",
     "output_type": "stream",
     "text": [
      "\n",
      "  0%|                                                                                                                                   | 0/10 [00:00<?, ?it/s]\u001b[A\n",
      " 10%|████████████▎                                                                                                              | 1/10 [00:06<00:56,  6.31s/it]\u001b[A\n",
      " 20%|████████████████████████▌                                                                                                  | 2/10 [00:09<00:34,  4.26s/it]\u001b[A\n",
      " 30%|████████████████████████████████████▉                                                                                      | 3/10 [00:12<00:27,  3.97s/it]\u001b[A\n",
      " 40%|█████████████████████████████████████████████████▏                                                                         | 4/10 [00:21<00:35,  5.86s/it]\u001b[A\n",
      " 50%|█████████████████████████████████████████████████████████████▌                                                             | 5/10 [00:35<00:44,  8.89s/it]\u001b[A\n",
      " 60%|█████████████████████████████████████████████████████████████████████████▊                                                 | 6/10 [00:44<00:35,  8.91s/it]\u001b[A\n",
      " 70%|██████████████████████████████████████████████████████████████████████████████████████                                     | 7/10 [00:50<00:23,  7.79s/it]\u001b[A\n",
      " 80%|██████████████████████████████████████████████████████████████████████████████████████████████████▍                        | 8/10 [00:55<00:13,  6.92s/it]\u001b[A\n",
      " 90%|██████████████████████████████████████████████████████████████████████████████████████████████████████████████▋            | 9/10 [01:02<00:07,  7.01s/it]\u001b[A\n",
      "100%|██████████████████████████████████████████████████████████████████████████████████████████████████████████████████████████| 10/10 [01:06<00:00,  6.68s/it]\u001b[A\n"
     ]
    },
    {
     "name": "stdout",
     "output_type": "stream",
     "text": [
      "Cleaning up sorted DICOM files...\n"
     ]
    },
    {
     "name": "stderr",
     "output_type": "stream",
     "text": [
      "\n",
      "  0%|                                                                                                                                   | 0/10 [00:00<?, ?it/s]\u001b[A\n",
      "100%|██████████████████████████████████████████████████████████████████████████████████████████████████████████████████████████| 10/10 [00:00<00:00, 55.53it/s]\u001b[A\n",
      " 74%|█████████████████████████████████████████████████████████████████████████████████████▍                              | 721/979 [2:05:48<1:54:21, 26.60s/it]"
     ]
    },
    {
     "name": "stdout",
     "output_type": "stream",
     "text": [
      "Collected 156842 images in /rawdata/all/train/images\n"
     ]
    },
    {
     "name": "stderr",
     "output_type": "stream",
     "text": [
      "100%|██████████| 1572/1572 [00:02<00:00, 598.18it/s]████████████████████████████████████████▉                              | 730/979 [2:06:15<18:13,  4.39s/it]\n"
     ]
    },
    {
     "name": "stdout",
     "output_type": "stream",
     "text": [
      "Files sorted\n",
      "Cleaning up downloaded DICOM files...\n"
     ]
    },
    {
     "name": "stderr",
     "output_type": "stream",
     "text": [
      "\n",
      "  0%|                                                                                                                                   | 0/10 [00:00<?, ?it/s]\u001b[A\n",
      "100%|██████████████████████████████████████████████████████████████████████████████████████████████████████████████████████████| 10/10 [00:00<00:00, 77.54it/s]\u001b[A\n"
     ]
    },
    {
     "name": "stdout",
     "output_type": "stream",
     "text": [
      "Saving patient data as .npz file...\n"
     ]
    },
    {
     "name": "stderr",
     "output_type": "stream",
     "text": [
      "\n",
      "  0%|                                                                                                                                   | 0/10 [00:00<?, ?it/s]\u001b[A\n",
      " 10%|████████████▎                                                                                                              | 1/10 [00:04<00:41,  4.58s/it]\u001b[A\n",
      " 20%|████████████████████████▌                                                                                                  | 2/10 [00:10<00:40,  5.09s/it]\u001b[A\n",
      " 30%|████████████████████████████████████▉                                                                                      | 3/10 [00:14<00:34,  4.87s/it]\u001b[A\n",
      " 40%|█████████████████████████████████████████████████▏                                                                         | 4/10 [00:18<00:26,  4.43s/it]\u001b[A\n",
      " 50%|█████████████████████████████████████████████████████████████▌                                                             | 5/10 [00:21<00:19,  3.94s/it]\u001b[A\n",
      " 60%|█████████████████████████████████████████████████████████████████████████▊                                                 | 6/10 [00:27<00:18,  4.58s/it]\u001b[A\n",
      " 70%|██████████████████████████████████████████████████████████████████████████████████████                                     | 7/10 [00:33<00:15,  5.18s/it]\u001b[A\n",
      " 80%|██████████████████████████████████████████████████████████████████████████████████████████████████▍                        | 8/10 [00:36<00:09,  4.57s/it]\u001b[A\n",
      " 90%|██████████████████████████████████████████████████████████████████████████████████████████████████████████████▋            | 9/10 [00:40<00:04,  4.18s/it]\u001b[A\n",
      "100%|██████████████████████████████████████████████████████████████████████████████████████████████████████████████████████████| 10/10 [00:44<00:00,  4.44s/it]\u001b[A\n"
     ]
    },
    {
     "name": "stdout",
     "output_type": "stream",
     "text": [
      "Cleaning up sorted DICOM files...\n"
     ]
    },
    {
     "name": "stderr",
     "output_type": "stream",
     "text": [
      "\n",
      "  0%|                                                                                                                                   | 0/10 [00:00<?, ?it/s]\u001b[A\n",
      "100%|██████████████████████████████████████████████████████████████████████████████████████████████████████████████████████████| 10/10 [00:00<00:00, 80.28it/s]\u001b[A\n",
      " 75%|██████████████████████████████████████████████████████████████████████████████████████▌                             | 731/979 [2:07:06<1:15:09, 18.18s/it]"
     ]
    },
    {
     "name": "stdout",
     "output_type": "stream",
     "text": [
      "Collected 158414 images in /rawdata/all/train/images\n"
     ]
    },
    {
     "name": "stderr",
     "output_type": "stream",
     "text": [
      "100%|██████████| 2875/2875 [00:04<00:00, 575.54it/s]██████████████████████████████████████████▏                            | 740/979 [2:07:49<17:58,  4.51s/it]\n"
     ]
    },
    {
     "name": "stdout",
     "output_type": "stream",
     "text": [
      "Files sorted\n",
      "Cleaning up downloaded DICOM files...\n"
     ]
    },
    {
     "name": "stderr",
     "output_type": "stream",
     "text": [
      "\n",
      "  0%|                                                                                                                                   | 0/10 [00:00<?, ?it/s]\u001b[A\n",
      " 40%|█████████████████████████████████████████████████▏                                                                         | 4/10 [00:00<00:00, 34.52it/s]\u001b[A\n",
      "100%|██████████████████████████████████████████████████████████████████████████████████████████████████████████████████████████| 10/10 [00:00<00:00, 43.08it/s]\u001b[A\n"
     ]
    },
    {
     "name": "stdout",
     "output_type": "stream",
     "text": [
      "Saving patient data as .npz file...\n"
     ]
    },
    {
     "name": "stderr",
     "output_type": "stream",
     "text": [
      "\n",
      "  0%|                                                                                                                                   | 0/10 [00:00<?, ?it/s]\u001b[A\n",
      " 10%|████████████▎                                                                                                              | 1/10 [00:03<00:34,  3.88s/it]\u001b[A\n",
      " 20%|████████████████████████▌                                                                                                  | 2/10 [00:15<01:09,  8.65s/it]\u001b[A\n",
      " 30%|████████████████████████████████████▉                                                                                      | 3/10 [00:22<00:55,  7.89s/it]\u001b[A\n",
      " 40%|█████████████████████████████████████████████████▏                                                                         | 4/10 [00:26<00:37,  6.25s/it]\u001b[A\n",
      " 50%|█████████████████████████████████████████████████████████████▌                                                             | 5/10 [00:40<00:44,  8.96s/it]\u001b[A\n",
      " 60%|█████████████████████████████████████████████████████████████████████████▊                                                 | 6/10 [00:47<00:33,  8.42s/it]\u001b[A\n",
      " 70%|██████████████████████████████████████████████████████████████████████████████████████                                     | 7/10 [00:52<00:21,  7.21s/it]\u001b[A\n",
      " 80%|██████████████████████████████████████████████████████████████████████████████████████████████████▍                        | 8/10 [00:56<00:12,  6.05s/it]\u001b[A\n",
      " 90%|██████████████████████████████████████████████████████████████████████████████████████████████████████████████▋            | 9/10 [01:02<00:06,  6.19s/it]\u001b[A\n",
      "100%|██████████████████████████████████████████████████████████████████████████████████████████████████████████████████████████| 10/10 [01:14<00:00,  7.42s/it]\u001b[A\n"
     ]
    },
    {
     "name": "stdout",
     "output_type": "stream",
     "text": [
      "Cleaning up sorted DICOM files...\n"
     ]
    },
    {
     "name": "stderr",
     "output_type": "stream",
     "text": [
      "\n",
      "  0%|                                                                                                                                   | 0/10 [00:00<?, ?it/s]\u001b[A\n",
      "100%|██████████████████████████████████████████████████████████████████████████████████████████████████████████████████████████| 10/10 [00:00<00:00, 49.06it/s]\u001b[A\n",
      " 76%|███████████████████████████████████████████████████████████████████████████████████████▊                            | 741/979 [2:09:11<1:50:52, 27.95s/it]"
     ]
    },
    {
     "name": "stdout",
     "output_type": "stream",
     "text": [
      "Collected 161289 images in /rawdata/all/train/images\n"
     ]
    },
    {
     "name": "stderr",
     "output_type": "stream",
     "text": [
      "100%|██████████| 2370/2370 [00:04<00:00, 580.70it/s]███████████████████████████████████████████▍                           | 750/979 [2:09:46<17:44,  4.65s/it]\n"
     ]
    },
    {
     "name": "stdout",
     "output_type": "stream",
     "text": [
      "Files sorted\n",
      "Cleaning up downloaded DICOM files...\n"
     ]
    },
    {
     "name": "stderr",
     "output_type": "stream",
     "text": [
      "\n",
      "  0%|                                                                                                                                   | 0/10 [00:00<?, ?it/s]\u001b[A\n",
      "100%|██████████████████████████████████████████████████████████████████████████████████████████████████████████████████████████| 10/10 [00:00<00:00, 52.71it/s]\u001b[A\n"
     ]
    },
    {
     "name": "stdout",
     "output_type": "stream",
     "text": [
      "Saving patient data as .npz file...\n"
     ]
    },
    {
     "name": "stderr",
     "output_type": "stream",
     "text": [
      "\n",
      "  0%|                                                                                                                                   | 0/10 [00:00<?, ?it/s]\u001b[A\n",
      " 10%|████████████▎                                                                                                              | 1/10 [00:03<00:32,  3.62s/it]\u001b[A\n",
      " 20%|████████████████████████▌                                                                                                  | 2/10 [00:09<00:40,  5.01s/it]\u001b[A\n",
      " 30%|████████████████████████████████████▉                                                                                      | 3/10 [00:16<00:41,  5.88s/it]\u001b[A\n",
      " 40%|█████████████████████████████████████████████████▏                                                                         | 4/10 [00:21<00:33,  5.61s/it]\u001b[A\n",
      " 50%|█████████████████████████████████████████████████████████████▌                                                             | 5/10 [00:34<00:41,  8.35s/it]\u001b[A\n",
      " 60%|█████████████████████████████████████████████████████████████████████████▊                                                 | 6/10 [00:40<00:29,  7.25s/it]\u001b[A\n",
      " 70%|██████████████████████████████████████████████████████████████████████████████████████                                     | 7/10 [00:52<00:27,  9.10s/it]\u001b[A\n",
      " 80%|██████████████████████████████████████████████████████████████████████████████████████████████████▍                        | 8/10 [00:59<00:16,  8.38s/it]\u001b[A\n",
      " 90%|██████████████████████████████████████████████████████████████████████████████████████████████████████████████▋            | 9/10 [01:04<00:07,  7.08s/it]\u001b[A\n",
      "100%|██████████████████████████████████████████████████████████████████████████████████████████████████████████████████████████| 10/10 [01:09<00:00,  6.90s/it]\u001b[A\n"
     ]
    },
    {
     "name": "stdout",
     "output_type": "stream",
     "text": [
      "Cleaning up sorted DICOM files...\n"
     ]
    },
    {
     "name": "stderr",
     "output_type": "stream",
     "text": [
      "\n",
      "  0%|                                                                                                                                   | 0/10 [00:00<?, ?it/s]\u001b[A\n",
      "100%|██████████████████████████████████████████████████████████████████████████████████████████████████████████████████████████| 10/10 [00:00<00:00, 57.99it/s]\u001b[A\n",
      " 77%|████████████████████████████████████████████████████████████████████████████████████████▉                           | 751/979 [2:11:05<1:42:13, 26.90s/it]"
     ]
    },
    {
     "name": "stdout",
     "output_type": "stream",
     "text": [
      "Collected 163659 images in /rawdata/all/train/images\n"
     ]
    },
    {
     "name": "stderr",
     "output_type": "stream",
     "text": [
      "100%|██████████| 3082/3082 [00:05<00:00, 590.35it/s]████████████████████████████████████████████▌                          | 760/979 [2:11:48<21:41,  5.94s/it]\n"
     ]
    },
    {
     "name": "stdout",
     "output_type": "stream",
     "text": [
      "Files sorted\n",
      "Cleaning up downloaded DICOM files...\n"
     ]
    },
    {
     "name": "stderr",
     "output_type": "stream",
     "text": [
      "\n",
      "  0%|                                                                                                                                   | 0/10 [00:00<?, ?it/s]\u001b[A\n",
      " 50%|█████████████████████████████████████████████████████████████▌                                                             | 5/10 [00:00<00:00, 40.19it/s]\u001b[A\n",
      "100%|██████████████████████████████████████████████████████████████████████████████████████████████████████████████████████████| 10/10 [00:00<00:00, 40.31it/s]\u001b[A\n"
     ]
    },
    {
     "name": "stdout",
     "output_type": "stream",
     "text": [
      "Saving patient data as .npz file...\n"
     ]
    },
    {
     "name": "stderr",
     "output_type": "stream",
     "text": [
      "\n",
      "  0%|                                                                                                                                   | 0/10 [00:00<?, ?it/s]\u001b[A\n",
      " 10%|████████████▎                                                                                                              | 1/10 [00:06<00:59,  6.56s/it]\u001b[A\n",
      " 20%|████████████████████████▌                                                                                                  | 2/10 [00:11<00:47,  5.89s/it]\u001b[A\n",
      " 30%|████████████████████████████████████▉                                                                                      | 3/10 [00:20<00:49,  7.07s/it]\u001b[A\n",
      " 40%|█████████████████████████████████████████████████▏                                                                         | 4/10 [00:26<00:39,  6.63s/it]\u001b[A\n",
      " 50%|█████████████████████████████████████████████████████████████▌                                                             | 5/10 [00:38<00:42,  8.52s/it]\u001b[A\n",
      " 60%|█████████████████████████████████████████████████████████████████████████▊                                                 | 6/10 [00:47<00:34,  8.66s/it]\u001b[A\n",
      " 70%|██████████████████████████████████████████████████████████████████████████████████████                                     | 7/10 [00:51<00:21,  7.23s/it]\u001b[A\n",
      " 80%|██████████████████████████████████████████████████████████████████████████████████████████████████▍                        | 8/10 [01:00<00:15,  7.80s/it]\u001b[A\n",
      " 90%|██████████████████████████████████████████████████████████████████████████████████████████████████████████████▋            | 9/10 [01:09<00:08,  8.12s/it]\u001b[A\n",
      "100%|██████████████████████████████████████████████████████████████████████████████████████████████████████████████████████████| 10/10 [01:20<00:00,  8.08s/it]\u001b[A\n"
     ]
    },
    {
     "name": "stdout",
     "output_type": "stream",
     "text": [
      "Cleaning up sorted DICOM files...\n"
     ]
    },
    {
     "name": "stderr",
     "output_type": "stream",
     "text": [
      "\n",
      "  0%|                                                                                                                                   | 0/10 [00:00<?, ?it/s]\u001b[A\n",
      " 50%|█████████████████████████████████████████████████████████████▌                                                             | 5/10 [00:00<00:00, 49.43it/s]\u001b[A\n",
      "100%|██████████████████████████████████████████████████████████████████████████████████████████████████████████████████████████| 10/10 [00:00<00:00, 44.30it/s]\u001b[A\n",
      " 78%|██████████████████████████████████████████████████████████████████████████████████████████▏                         | 761/979 [2:13:19<1:54:20, 31.47s/it]"
     ]
    },
    {
     "name": "stdout",
     "output_type": "stream",
     "text": [
      "Collected 166741 images in /rawdata/all/train/images\n"
     ]
    },
    {
     "name": "stderr",
     "output_type": "stream",
     "text": [
      "100%|██████████| 2961/2961 [00:05<00:00, 584.09it/s]█████████████████████████████████████████████▊                         | 770/979 [2:14:04<23:39,  6.79s/it]\n"
     ]
    },
    {
     "name": "stdout",
     "output_type": "stream",
     "text": [
      "Files sorted\n",
      "Cleaning up downloaded DICOM files...\n"
     ]
    },
    {
     "name": "stderr",
     "output_type": "stream",
     "text": [
      "\n",
      "  0%|                                                                                                                                   | 0/10 [00:00<?, ?it/s]\u001b[A\n",
      " 40%|█████████████████████████████████████████████████▏                                                                         | 4/10 [00:00<00:00, 36.19it/s]\u001b[A\n",
      "100%|██████████████████████████████████████████████████████████████████████████████████████████████████████████████████████████| 10/10 [00:00<00:00, 39.10it/s]\u001b[A\n"
     ]
    },
    {
     "name": "stdout",
     "output_type": "stream",
     "text": [
      "Saving patient data as .npz file...\n"
     ]
    },
    {
     "name": "stderr",
     "output_type": "stream",
     "text": [
      "\n",
      "  0%|                                                                                                                                   | 0/10 [00:00<?, ?it/s]\u001b[A\n",
      " 10%|████████████▎                                                                                                              | 1/10 [00:09<01:27,  9.73s/it]\u001b[A\n",
      " 20%|████████████████████████▌                                                                                                  | 2/10 [00:18<01:15,  9.40s/it]\u001b[A\n",
      " 30%|████████████████████████████████████▉                                                                                      | 3/10 [00:30<01:12, 10.40s/it]\u001b[A\n",
      " 40%|█████████████████████████████████████████████████▏                                                                         | 4/10 [00:35<00:49,  8.20s/it]\u001b[A\n",
      " 50%|█████████████████████████████████████████████████████████████▌                                                             | 5/10 [00:47<00:48,  9.66s/it]\u001b[A\n",
      " 60%|█████████████████████████████████████████████████████████████████████████▊                                                 | 6/10 [00:51<00:30,  7.59s/it]\u001b[A\n",
      " 70%|██████████████████████████████████████████████████████████████████████████████████████                                     | 7/10 [00:56<00:20,  6.93s/it]\u001b[A\n",
      " 80%|██████████████████████████████████████████████████████████████████████████████████████████████████▍                        | 8/10 [01:00<00:12,  6.08s/it]\u001b[A\n",
      " 90%|██████████████████████████████████████████████████████████████████████████████████████████████████████████████▋            | 9/10 [01:11<00:07,  7.44s/it]\u001b[A\n",
      "100%|██████████████████████████████████████████████████████████████████████████████████████████████████████████████████████████| 10/10 [01:17<00:00,  7.78s/it]\u001b[A\n"
     ]
    },
    {
     "name": "stdout",
     "output_type": "stream",
     "text": [
      "Cleaning up sorted DICOM files...\n"
     ]
    },
    {
     "name": "stderr",
     "output_type": "stream",
     "text": [
      "\n",
      "  0%|                                                                                                                                   | 0/10 [00:00<?, ?it/s]\u001b[A\n",
      "100%|██████████████████████████████████████████████████████████████████████████████████████████████████████████████████████████| 10/10 [00:00<00:00, 47.85it/s]\u001b[A\n",
      " 79%|███████████████████████████████████████████████████████████████████████████████████████████▎                        | 771/979 [2:15:31<1:46:39, 30.77s/it]"
     ]
    },
    {
     "name": "stdout",
     "output_type": "stream",
     "text": [
      "Collected 169702 images in /rawdata/all/train/images\n"
     ]
    },
    {
     "name": "stderr",
     "output_type": "stream",
     "text": [
      "100%|██████████| 2399/2399 [00:04<00:00, 590.71it/s]███████████████████████████████████████████████                        | 780/979 [2:16:04<15:31,  4.68s/it]\n"
     ]
    },
    {
     "name": "stdout",
     "output_type": "stream",
     "text": [
      "Files sorted\n",
      "Cleaning up downloaded DICOM files...\n"
     ]
    },
    {
     "name": "stderr",
     "output_type": "stream",
     "text": [
      "\n",
      "  0%|                                                                                                                                   | 0/10 [00:00<?, ?it/s]\u001b[A\n",
      "100%|██████████████████████████████████████████████████████████████████████████████████████████████████████████████████████████| 10/10 [00:00<00:00, 51.81it/s]\u001b[A\n"
     ]
    },
    {
     "name": "stdout",
     "output_type": "stream",
     "text": [
      "Saving patient data as .npz file...\n"
     ]
    },
    {
     "name": "stderr",
     "output_type": "stream",
     "text": [
      "\n",
      "  0%|                                                                                                                                   | 0/10 [00:00<?, ?it/s]\u001b[A\n",
      " 10%|████████████▎                                                                                                              | 1/10 [00:06<00:56,  6.25s/it]\u001b[A\n",
      " 20%|████████████████████████▌                                                                                                  | 2/10 [00:10<00:39,  4.88s/it]\u001b[A\n",
      " 30%|████████████████████████████████████▉                                                                                      | 3/10 [00:17<00:42,  6.12s/it]\u001b[A\n",
      " 40%|█████████████████████████████████████████████████▏                                                                         | 4/10 [00:24<00:37,  6.30s/it]\u001b[A\n",
      " 50%|█████████████████████████████████████████████████████████████▌                                                             | 5/10 [00:38<00:45,  9.14s/it]\u001b[A\n",
      " 60%|█████████████████████████████████████████████████████████████████████████▊                                                 | 6/10 [00:44<00:32,  8.19s/it]\u001b[A\n",
      " 70%|██████████████████████████████████████████████████████████████████████████████████████                                     | 7/10 [00:51<00:22,  7.66s/it]\u001b[A\n",
      " 80%|██████████████████████████████████████████████████████████████████████████████████████████████████▍                        | 8/10 [00:57<00:14,  7.21s/it]\u001b[A\n",
      " 90%|██████████████████████████████████████████████████████████████████████████████████████████████████████████████▋            | 9/10 [01:00<00:05,  5.95s/it]\u001b[A\n",
      "100%|██████████████████████████████████████████████████████████████████████████████████████████████████████████████████████████| 10/10 [01:04<00:00,  6.42s/it]\u001b[A\n"
     ]
    },
    {
     "name": "stdout",
     "output_type": "stream",
     "text": [
      "Cleaning up sorted DICOM files...\n"
     ]
    },
    {
     "name": "stderr",
     "output_type": "stream",
     "text": [
      "\n",
      "  0%|                                                                                                                                   | 0/10 [00:00<?, ?it/s]\u001b[A\n",
      "100%|██████████████████████████████████████████████████████████████████████████████████████████████████████████████████████████| 10/10 [00:00<00:00, 55.54it/s]\u001b[A\n",
      " 80%|████████████████████████████████████████████████████████████████████████████████████████████▌                       | 781/979 [2:17:20<1:25:55, 26.04s/it]"
     ]
    },
    {
     "name": "stdout",
     "output_type": "stream",
     "text": [
      "Collected 172101 images in /rawdata/all/train/images\n"
     ]
    },
    {
     "name": "stderr",
     "output_type": "stream",
     "text": [
      "100%|██████████| 2619/2619 [00:04<00:00, 578.89it/s]████████████████████████████████████████████████▏                      | 790/979 [2:17:58<15:50,  5.03s/it]\n"
     ]
    },
    {
     "name": "stdout",
     "output_type": "stream",
     "text": [
      "Files sorted\n",
      "Cleaning up downloaded DICOM files...\n"
     ]
    },
    {
     "name": "stderr",
     "output_type": "stream",
     "text": [
      "\n",
      "  0%|                                                                                                                                   | 0/10 [00:00<?, ?it/s]\u001b[A\n",
      "100%|██████████████████████████████████████████████████████████████████████████████████████████████████████████████████████████| 10/10 [00:00<00:00, 48.12it/s]\u001b[A\n"
     ]
    },
    {
     "name": "stdout",
     "output_type": "stream",
     "text": [
      "Saving patient data as .npz file...\n"
     ]
    },
    {
     "name": "stderr",
     "output_type": "stream",
     "text": [
      "\n",
      "  0%|                                                                                                                                   | 0/10 [00:00<?, ?it/s]\u001b[A\n",
      " 10%|████████████▎                                                                                                              | 1/10 [00:09<01:29,  9.97s/it]\u001b[A\n",
      " 20%|████████████████████████▌                                                                                                  | 2/10 [00:15<00:56,  7.09s/it]\u001b[A\n",
      " 30%|████████████████████████████████████▉                                                                                      | 3/10 [00:20<00:43,  6.17s/it]\u001b[A\n",
      " 40%|█████████████████████████████████████████████████▏                                                                         | 4/10 [00:27<00:38,  6.47s/it]\u001b[A"
     ]
    },
    {
     "name": "stdout",
     "output_type": "stream",
     "text": [
      "Failed to reduce all groups to <= 4 Annotations.\n",
      "Some nodules may be close and must be grouped manually.\n"
     ]
    },
    {
     "name": "stderr",
     "output_type": "stream",
     "text": [
      "\n",
      " 50%|█████████████████████████████████████████████████████████████▌                                                             | 5/10 [00:33<00:33,  6.64s/it]\u001b[A\n",
      " 60%|█████████████████████████████████████████████████████████████████████████▊                                                 | 6/10 [00:37<00:22,  5.65s/it]\u001b[A\n",
      " 70%|██████████████████████████████████████████████████████████████████████████████████████                                     | 7/10 [00:49<00:23,  7.69s/it]\u001b[A\n",
      " 80%|██████████████████████████████████████████████████████████████████████████████████████████████████▍                        | 8/10 [00:54<00:13,  6.86s/it]\u001b[A\n",
      " 90%|██████████████████████████████████████████████████████████████████████████████████████████████████████████████▋            | 9/10 [00:58<00:06,  6.05s/it]\u001b[A\n",
      "100%|██████████████████████████████████████████████████████████████████████████████████████████████████████████████████████████| 10/10 [01:07<00:00,  6.73s/it]\u001b[A\n"
     ]
    },
    {
     "name": "stdout",
     "output_type": "stream",
     "text": [
      "Cleaning up sorted DICOM files...\n"
     ]
    },
    {
     "name": "stderr",
     "output_type": "stream",
     "text": [
      "\n",
      "  0%|                                                                                                                                   | 0/10 [00:00<?, ?it/s]\u001b[A\n",
      "100%|██████████████████████████████████████████████████████████████████████████████████████████████████████████████████████████| 10/10 [00:00<00:00, 51.19it/s]\u001b[A\n",
      " 81%|█████████████████████████████████████████████████████████████████████████████████████████████▋                      | 791/979 [2:19:14<1:22:37, 26.37s/it]"
     ]
    },
    {
     "name": "stdout",
     "output_type": "stream",
     "text": [
      "Collected 174720 images in /rawdata/all/train/images\n"
     ]
    },
    {
     "name": "stderr",
     "output_type": "stream",
     "text": [
      "100%|██████████| 2862/2862 [00:04<00:00, 591.46it/s]█████████████████████████████████████████████████▍                     | 800/979 [2:19:58<18:56,  6.35s/it]\n"
     ]
    },
    {
     "name": "stdout",
     "output_type": "stream",
     "text": [
      "Files sorted\n",
      "Cleaning up downloaded DICOM files...\n"
     ]
    },
    {
     "name": "stderr",
     "output_type": "stream",
     "text": [
      "\n",
      "  0%|                                                                                                                                   | 0/10 [00:00<?, ?it/s]\u001b[A\n",
      " 50%|█████████████████████████████████████████████████████████████▌                                                             | 5/10 [00:00<00:00, 46.40it/s]\u001b[A\n",
      "100%|██████████████████████████████████████████████████████████████████████████████████████████████████████████████████████████| 10/10 [00:00<00:00, 43.41it/s]\u001b[A\n"
     ]
    },
    {
     "name": "stdout",
     "output_type": "stream",
     "text": [
      "Saving patient data as .npz file...\n"
     ]
    },
    {
     "name": "stderr",
     "output_type": "stream",
     "text": [
      "\n",
      "  0%|                                                                                                                                   | 0/10 [00:00<?, ?it/s]\u001b[A\n",
      " 10%|████████████▎                                                                                                              | 1/10 [00:12<01:53, 12.59s/it]\u001b[A\n",
      " 20%|████████████████████████▌                                                                                                  | 2/10 [00:18<01:09,  8.63s/it]\u001b[A\n",
      " 30%|████████████████████████████████████▉                                                                                      | 3/10 [00:21<00:43,  6.22s/it]\u001b[A\n",
      " 40%|█████████████████████████████████████████████████▏                                                                         | 4/10 [00:30<00:43,  7.26s/it]\u001b[A\n",
      " 50%|█████████████████████████████████████████████████████████████▌                                                             | 5/10 [00:41<00:42,  8.46s/it]\u001b[A\n",
      " 60%|█████████████████████████████████████████████████████████████████████████▊                                                 | 6/10 [00:44<00:27,  6.80s/it]\u001b[A\n",
      " 70%|██████████████████████████████████████████████████████████████████████████████████████                                     | 7/10 [00:49<00:17,  5.98s/it]\u001b[A\n",
      " 80%|██████████████████████████████████████████████████████████████████████████████████████████████████▍                        | 8/10 [00:56<00:12,  6.45s/it]\u001b[A\n",
      " 90%|██████████████████████████████████████████████████████████████████████████████████████████████████████████████▋            | 9/10 [01:02<00:06,  6.40s/it]\u001b[A\n",
      "100%|██████████████████████████████████████████████████████████████████████████████████████████████████████████████████████████| 10/10 [01:14<00:00,  7.49s/it]\u001b[A\n"
     ]
    },
    {
     "name": "stdout",
     "output_type": "stream",
     "text": [
      "Cleaning up sorted DICOM files...\n"
     ]
    },
    {
     "name": "stderr",
     "output_type": "stream",
     "text": [
      "\n",
      "  0%|                                                                                                                                   | 0/10 [00:00<?, ?it/s]\u001b[A\n",
      "100%|██████████████████████████████████████████████████████████████████████████████████████████████████████████████████████████| 10/10 [00:00<00:00, 48.25it/s]\u001b[A\n",
      " 82%|██████████████████████████████████████████████████████████████████████████████████████████████▉                     | 801/979 [2:21:23<1:28:38, 29.88s/it]"
     ]
    },
    {
     "name": "stdout",
     "output_type": "stream",
     "text": [
      "Collected 177582 images in /rawdata/all/train/images\n"
     ]
    },
    {
     "name": "stderr",
     "output_type": "stream",
     "text": [
      "100%|██████████| 3099/3099 [00:05<00:00, 559.72it/s]██████████████████████████████████████████████████▋                    | 810/979 [2:22:04<16:50,  5.98s/it]\n"
     ]
    },
    {
     "name": "stdout",
     "output_type": "stream",
     "text": [
      "Files sorted\n",
      "Cleaning up downloaded DICOM files...\n"
     ]
    },
    {
     "name": "stderr",
     "output_type": "stream",
     "text": [
      "\n",
      "  0%|                                                                                                                                   | 0/10 [00:00<?, ?it/s]\u001b[A\n",
      " 30%|████████████████████████████████████▉                                                                                      | 3/10 [00:00<00:00, 29.71it/s]\u001b[A\n",
      "100%|██████████████████████████████████████████████████████████████████████████████████████████████████████████████████████████| 10/10 [00:00<00:00, 39.00it/s]\u001b[A\n"
     ]
    },
    {
     "name": "stdout",
     "output_type": "stream",
     "text": [
      "Saving patient data as .npz file...\n"
     ]
    },
    {
     "name": "stderr",
     "output_type": "stream",
     "text": [
      "\n",
      "  0%|                                                                                                                                   | 0/10 [00:00<?, ?it/s]\u001b[A\n",
      " 10%|████████████▎                                                                                                              | 1/10 [00:12<01:53, 12.57s/it]\u001b[A\n",
      " 20%|████████████████████████▌                                                                                                  | 2/10 [00:26<01:45, 13.13s/it]\u001b[A\n",
      " 30%|████████████████████████████████████▉                                                                                      | 3/10 [00:33<01:13, 10.51s/it]\u001b[A\n",
      " 40%|█████████████████████████████████████████████████▏                                                                         | 4/10 [00:41<00:56,  9.47s/it]\u001b[A\n",
      " 50%|█████████████████████████████████████████████████████████████▌                                                             | 5/10 [00:47<00:41,  8.34s/it]\u001b[A\n",
      " 60%|█████████████████████████████████████████████████████████████████████████▊                                                 | 6/10 [01:01<00:40, 10.11s/it]\u001b[A\n",
      " 70%|██████████████████████████████████████████████████████████████████████████████████████                                     | 7/10 [01:07<00:26,  8.70s/it]\u001b[A\n",
      " 80%|██████████████████████████████████████████████████████████████████████████████████████████████████▍                        | 8/10 [01:10<00:14,  7.04s/it]\u001b[A\n",
      " 90%|██████████████████████████████████████████████████████████████████████████████████████████████████████████████▋            | 9/10 [01:15<00:06,  6.26s/it]\u001b[A\n",
      "100%|██████████████████████████████████████████████████████████████████████████████████████████████████████████████████████████| 10/10 [01:21<00:00,  8.18s/it]\u001b[A\n"
     ]
    },
    {
     "name": "stdout",
     "output_type": "stream",
     "text": [
      "Cleaning up sorted DICOM files...\n"
     ]
    },
    {
     "name": "stderr",
     "output_type": "stream",
     "text": [
      "\n",
      "  0%|                                                                                                                                   | 0/10 [00:00<?, ?it/s]\u001b[A\n",
      " 40%|█████████████████████████████████████████████████▏                                                                         | 4/10 [00:00<00:00, 36.03it/s]\u001b[A\n",
      "100%|██████████████████████████████████████████████████████████████████████████████████████████████████████████████████████████| 10/10 [00:00<00:00, 44.47it/s]\u001b[A\n",
      " 83%|████████████████████████████████████████████████████████████████████████████████████████████████                    | 811/979 [2:23:39<1:31:33, 32.70s/it]"
     ]
    },
    {
     "name": "stdout",
     "output_type": "stream",
     "text": [
      "Collected 180681 images in /rawdata/all/train/images\n"
     ]
    },
    {
     "name": "stderr",
     "output_type": "stream",
     "text": [
      "100%|██████████| 2498/2498 [00:04<00:00, 577.88it/s]███████████████████████████████████████████████████▊                   | 820/979 [2:24:16<14:49,  5.59s/it]\n"
     ]
    },
    {
     "name": "stdout",
     "output_type": "stream",
     "text": [
      "Files sorted\n",
      "Cleaning up downloaded DICOM files...\n"
     ]
    },
    {
     "name": "stderr",
     "output_type": "stream",
     "text": [
      "\n",
      "  0%|                                                                                                                                   | 0/10 [00:00<?, ?it/s]\u001b[A\n",
      "100%|██████████████████████████████████████████████████████████████████████████████████████████████████████████████████████████| 10/10 [00:00<00:00, 50.95it/s]\u001b[A\n"
     ]
    },
    {
     "name": "stdout",
     "output_type": "stream",
     "text": [
      "Saving patient data as .npz file...\n"
     ]
    },
    {
     "name": "stderr",
     "output_type": "stream",
     "text": [
      "\n",
      "  0%|                                                                                                                                   | 0/10 [00:00<?, ?it/s]\u001b[A\n",
      " 10%|████████████▎                                                                                                              | 1/10 [00:09<01:29,  9.94s/it]\u001b[A\n",
      " 20%|████████████████████████▌                                                                                                  | 2/10 [00:22<01:30, 11.37s/it]\u001b[A\n",
      " 30%|████████████████████████████████████▉                                                                                      | 3/10 [00:25<00:54,  7.82s/it]\u001b[A\n",
      " 40%|█████████████████████████████████████████████████▏                                                                         | 4/10 [00:29<00:36,  6.04s/it]\u001b[A\n",
      " 50%|█████████████████████████████████████████████████████████████▌                                                             | 5/10 [00:33<00:26,  5.35s/it]\u001b[A\n",
      " 60%|█████████████████████████████████████████████████████████████████████████▊                                                 | 6/10 [00:39<00:22,  5.51s/it]\u001b[A\n",
      " 70%|██████████████████████████████████████████████████████████████████████████████████████                                     | 7/10 [00:42<00:14,  4.71s/it]\u001b[A\n",
      " 80%|██████████████████████████████████████████████████████████████████████████████████████████████████▍                        | 8/10 [00:55<00:14,  7.35s/it]\u001b[A\n",
      " 90%|██████████████████████████████████████████████████████████████████████████████████████████████████████████████▋            | 9/10 [01:01<00:07,  7.15s/it]\u001b[A\n",
      "100%|██████████████████████████████████████████████████████████████████████████████████████████████████████████████████████████| 10/10 [01:05<00:00,  6.60s/it]\u001b[A\n"
     ]
    },
    {
     "name": "stdout",
     "output_type": "stream",
     "text": [
      "Cleaning up sorted DICOM files...\n"
     ]
    },
    {
     "name": "stderr",
     "output_type": "stream",
     "text": [
      "\n",
      "  0%|                                                                                                                                   | 0/10 [00:00<?, ?it/s]\u001b[A\n",
      "100%|██████████████████████████████████████████████████████████████████████████████████████████████████████████████████████████| 10/10 [00:00<00:00, 54.56it/s]\u001b[A\n",
      " 84%|█████████████████████████████████████████████████████████████████████████████████████████████████▎                  | 821/979 [2:25:31<1:09:37, 26.44s/it]"
     ]
    },
    {
     "name": "stdout",
     "output_type": "stream",
     "text": [
      "Collected 183179 images in /rawdata/all/train/images\n"
     ]
    },
    {
     "name": "stderr",
     "output_type": "stream",
     "text": [
      "100%|██████████| 2889/2889 [00:05<00:00, 577.03it/s]█████████████████████████████████████████████████████                  | 830/979 [2:26:14<15:02,  6.06s/it]\n"
     ]
    },
    {
     "name": "stdout",
     "output_type": "stream",
     "text": [
      "Files sorted\n",
      "Cleaning up downloaded DICOM files...\n"
     ]
    },
    {
     "name": "stderr",
     "output_type": "stream",
     "text": [
      "\n",
      "  0%|                                                                                                                                   | 0/10 [00:00<?, ?it/s]\u001b[A\n",
      " 40%|█████████████████████████████████████████████████▏                                                                         | 4/10 [00:00<00:00, 33.64it/s]\u001b[A\n",
      "100%|██████████████████████████████████████████████████████████████████████████████████████████████████████████████████████████| 10/10 [00:00<00:00, 42.53it/s]\u001b[A\n"
     ]
    },
    {
     "name": "stdout",
     "output_type": "stream",
     "text": [
      "Saving patient data as .npz file...\n"
     ]
    },
    {
     "name": "stderr",
     "output_type": "stream",
     "text": [
      "\n",
      "  0%|                                                                                                                                   | 0/10 [00:00<?, ?it/s]\u001b[A\n",
      " 10%|████████████▎                                                                                                              | 1/10 [00:11<01:45, 11.67s/it]\u001b[A\n",
      " 20%|████████████████████████▌                                                                                                  | 2/10 [00:18<01:10,  8.82s/it]\u001b[A\n",
      " 30%|████████████████████████████████████▉                                                                                      | 3/10 [00:23<00:48,  6.86s/it]\u001b[A\n",
      " 40%|█████████████████████████████████████████████████▏                                                                         | 4/10 [00:28<00:37,  6.19s/it]\u001b[A\n",
      " 50%|█████████████████████████████████████████████████████████████▌                                                             | 5/10 [00:34<00:30,  6.11s/it]\u001b[A\n",
      " 60%|█████████████████████████████████████████████████████████████████████████▊                                                 | 6/10 [00:46<00:32,  8.14s/it]\u001b[A\n",
      " 70%|██████████████████████████████████████████████████████████████████████████████████████                                     | 7/10 [00:53<00:23,  7.90s/it]\u001b[A\n",
      " 80%|██████████████████████████████████████████████████████████████████████████████████████████████████▍                        | 8/10 [01:08<00:20, 10.21s/it]\u001b[A\n",
      " 90%|██████████████████████████████████████████████████████████████████████████████████████████████████████████████▋            | 9/10 [01:17<00:09,  9.84s/it]\u001b[A\n",
      "100%|██████████████████████████████████████████████████████████████████████████████████████████████████████████████████████████| 10/10 [01:20<00:00,  8.10s/it]\u001b[A\n"
     ]
    },
    {
     "name": "stdout",
     "output_type": "stream",
     "text": [
      "Cleaning up sorted DICOM files...\n"
     ]
    },
    {
     "name": "stderr",
     "output_type": "stream",
     "text": [
      "\n",
      "  0%|                                                                                                                                   | 0/10 [00:00<?, ?it/s]\u001b[A\n",
      "100%|██████████████████████████████████████████████████████████████████████████████████████████████████████████████████████████| 10/10 [00:00<00:00, 48.46it/s]\u001b[A\n",
      " 85%|██████████████████████████████████████████████████████████████████████████████████████████████████▍                 | 831/979 [2:27:44<1:17:14, 31.31s/it]"
     ]
    },
    {
     "name": "stdout",
     "output_type": "stream",
     "text": [
      "Collected 186068 images in /rawdata/all/train/images\n"
     ]
    },
    {
     "name": "stderr",
     "output_type": "stream",
     "text": [
      "100%|██████████| 2149/2149 [00:03<00:00, 578.62it/s]██████████████████████████████████████████████████████▏                | 840/979 [2:28:17<11:23,  4.92s/it]\n"
     ]
    },
    {
     "name": "stdout",
     "output_type": "stream",
     "text": [
      "Files sorted\n",
      "Cleaning up downloaded DICOM files...\n"
     ]
    },
    {
     "name": "stderr",
     "output_type": "stream",
     "text": [
      "\n",
      "  0%|                                                                                                                                   | 0/10 [00:00<?, ?it/s]\u001b[A\n",
      "100%|██████████████████████████████████████████████████████████████████████████████████████████████████████████████████████████| 10/10 [00:00<00:00, 55.47it/s]\u001b[A\n"
     ]
    },
    {
     "name": "stdout",
     "output_type": "stream",
     "text": [
      "Saving patient data as .npz file...\n"
     ]
    },
    {
     "name": "stderr",
     "output_type": "stream",
     "text": [
      "\n",
      "  0%|                                                                                                                                   | 0/10 [00:00<?, ?it/s]\u001b[A\n",
      " 10%|████████████▎                                                                                                              | 1/10 [00:06<00:58,  6.46s/it]\u001b[A\n",
      " 20%|████████████████████████▌                                                                                                  | 2/10 [00:18<01:18,  9.82s/it]\u001b[A"
     ]
    },
    {
     "name": "stdout",
     "output_type": "stream",
     "text": [
      "Failed to reduce all groups to <= 4 Annotations.\n",
      "Some nodules may be close and must be grouped manually.\n"
     ]
    },
    {
     "name": "stderr",
     "output_type": "stream",
     "text": [
      "\n",
      " 30%|████████████████████████████████████▉                                                                                      | 3/10 [00:22<00:49,  7.04s/it]\u001b[A\n",
      " 40%|█████████████████████████████████████████████████▏                                                                         | 4/10 [00:29<00:42,  7.02s/it]\u001b[A\n",
      " 50%|█████████████████████████████████████████████████████████████▌                                                             | 5/10 [00:32<00:28,  5.79s/it]\u001b[A\n",
      " 60%|█████████████████████████████████████████████████████████████████████████▊                                                 | 6/10 [00:40<00:25,  6.34s/it]\u001b[A\n",
      " 70%|██████████████████████████████████████████████████████████████████████████████████████                                     | 7/10 [00:48<00:20,  6.85s/it]\u001b[A\n",
      " 80%|██████████████████████████████████████████████████████████████████████████████████████████████████▍                        | 8/10 [00:51<00:11,  5.68s/it]\u001b[A\n",
      " 90%|██████████████████████████████████████████████████████████████████████████████████████████████████████████████▋            | 9/10 [00:54<00:04,  4.96s/it]\u001b[A\n",
      "100%|██████████████████████████████████████████████████████████████████████████████████████████████████████████████████████████| 10/10 [01:00<00:00,  6.03s/it]\u001b[A\n"
     ]
    },
    {
     "name": "stdout",
     "output_type": "stream",
     "text": [
      "Cleaning up sorted DICOM files...\n"
     ]
    },
    {
     "name": "stderr",
     "output_type": "stream",
     "text": [
      "\n",
      "  0%|                                                                                                                                   | 0/10 [00:00<?, ?it/s]\u001b[A\n",
      "100%|██████████████████████████████████████████████████████████████████████████████████████████████████████████████████████████| 10/10 [00:00<00:00, 61.12it/s]\u001b[A\n",
      " 86%|█████████████████████████████████████████████████████████████████████████████████████████████████████▎                | 841/979 [2:29:25<55:13, 24.01s/it]"
     ]
    },
    {
     "name": "stdout",
     "output_type": "stream",
     "text": [
      "Collected 188217 images in /rawdata/all/train/images\n"
     ]
    },
    {
     "name": "stderr",
     "output_type": "stream",
     "text": [
      "100%|██████████| 2715/2715 [00:04<00:00, 567.84it/s]███████████████████████████████████████████████████████▍               | 850/979 [2:30:06<11:07,  5.17s/it]\n"
     ]
    },
    {
     "name": "stdout",
     "output_type": "stream",
     "text": [
      "Files sorted\n",
      "Cleaning up downloaded DICOM files...\n"
     ]
    },
    {
     "name": "stderr",
     "output_type": "stream",
     "text": [
      "\n",
      "  0%|                                                                                                                                   | 0/10 [00:00<?, ?it/s]\u001b[A\n",
      "100%|██████████████████████████████████████████████████████████████████████████████████████████████████████████████████████████| 10/10 [00:00<00:00, 43.83it/s]\u001b[A\n"
     ]
    },
    {
     "name": "stdout",
     "output_type": "stream",
     "text": [
      "Saving patient data as .npz file...\n"
     ]
    },
    {
     "name": "stderr",
     "output_type": "stream",
     "text": [
      "\n",
      "  0%|                                                                                                                                   | 0/10 [00:00<?, ?it/s]\u001b[A\n",
      " 10%|████████████▎                                                                                                              | 1/10 [00:03<00:28,  3.21s/it]\u001b[A\n",
      " 20%|████████████████████████▌                                                                                                  | 2/10 [00:06<00:25,  3.15s/it]\u001b[A\n",
      " 30%|████████████████████████████████████▉                                                                                      | 3/10 [00:20<00:58,  8.38s/it]\u001b[A\n",
      " 40%|█████████████████████████████████████████████████▏                                                                         | 4/10 [00:35<01:05, 10.87s/it]\u001b[A\n",
      " 50%|█████████████████████████████████████████████████████████████▌                                                             | 5/10 [00:42<00:47,  9.47s/it]\u001b[A\n",
      " 60%|█████████████████████████████████████████████████████████████████████████▊                                                 | 6/10 [00:47<00:31,  7.92s/it]\u001b[A\n",
      " 70%|██████████████████████████████████████████████████████████████████████████████████████                                     | 7/10 [00:50<00:18,  6.28s/it]\u001b[A\n",
      " 80%|██████████████████████████████████████████████████████████████████████████████████████████████████▍                        | 8/10 [00:57<00:13,  6.53s/it]\u001b[A\n",
      " 90%|██████████████████████████████████████████████████████████████████████████████████████████████████████████████▋            | 9/10 [01:03<00:06,  6.49s/it]\u001b[A\n",
      "100%|██████████████████████████████████████████████████████████████████████████████████████████████████████████████████████████| 10/10 [01:09<00:00,  6.99s/it]\u001b[A\n"
     ]
    },
    {
     "name": "stdout",
     "output_type": "stream",
     "text": [
      "Cleaning up sorted DICOM files...\n"
     ]
    },
    {
     "name": "stderr",
     "output_type": "stream",
     "text": [
      "\n",
      "  0%|                                                                                                                                   | 0/10 [00:00<?, ?it/s]\u001b[A\n",
      "100%|██████████████████████████████████████████████████████████████████████████████████████████████████████████████████████████| 10/10 [00:00<00:00, 50.51it/s]\u001b[A\n",
      " 87%|██████████████████████████████████████████████████████████████████████████████████████████████████████▌               | 851/979 [2:31:24<57:41, 27.04s/it]"
     ]
    },
    {
     "name": "stdout",
     "output_type": "stream",
     "text": [
      "Collected 190932 images in /rawdata/all/train/images\n"
     ]
    },
    {
     "name": "stderr",
     "output_type": "stream",
     "text": [
      "100%|██████████| 2052/2052 [00:03<00:00, 602.67it/s]████████████████████████████████████████████████████████▋              | 860/979 [2:31:57<08:41,  4.38s/it]\n"
     ]
    },
    {
     "name": "stdout",
     "output_type": "stream",
     "text": [
      "Files sorted\n",
      "Cleaning up downloaded DICOM files...\n"
     ]
    },
    {
     "name": "stderr",
     "output_type": "stream",
     "text": [
      "\n",
      "  0%|                                                                                                                                   | 0/10 [00:00<?, ?it/s]\u001b[A\n",
      "100%|██████████████████████████████████████████████████████████████████████████████████████████████████████████████████████████| 10/10 [00:00<00:00, 60.67it/s]\u001b[A\n"
     ]
    },
    {
     "name": "stdout",
     "output_type": "stream",
     "text": [
      "Saving patient data as .npz file...\n"
     ]
    },
    {
     "name": "stderr",
     "output_type": "stream",
     "text": [
      "\n",
      "  0%|                                                                                                                                   | 0/10 [00:00<?, ?it/s]\u001b[A\n",
      " 10%|████████████▎                                                                                                              | 1/10 [00:02<00:25,  2.78s/it]\u001b[A\n",
      " 20%|████████████████████████▌                                                                                                  | 2/10 [00:07<00:31,  3.92s/it]\u001b[A\n",
      " 30%|████████████████████████████████████▉                                                                                      | 3/10 [00:10<00:26,  3.72s/it]\u001b[A\n",
      " 40%|█████████████████████████████████████████████████▏                                                                         | 4/10 [00:17<00:29,  4.83s/it]\u001b[A\n",
      " 50%|█████████████████████████████████████████████████████████████▌                                                             | 5/10 [00:20<00:20,  4.19s/it]\u001b[A\n",
      " 60%|█████████████████████████████████████████████████████████████████████████▊                                                 | 6/10 [00:30<00:24,  6.00s/it]\u001b[A\n",
      " 70%|██████████████████████████████████████████████████████████████████████████████████████                                     | 7/10 [00:37<00:19,  6.41s/it]\u001b[A\n",
      " 80%|██████████████████████████████████████████████████████████████████████████████████████████████████▍                        | 8/10 [00:43<00:12,  6.36s/it]\u001b[A\n",
      " 90%|██████████████████████████████████████████████████████████████████████████████████████████████████████████████▋            | 9/10 [00:46<00:05,  5.27s/it]\u001b[A\n",
      "100%|██████████████████████████████████████████████████████████████████████████████████████████████████████████████████████████| 10/10 [00:52<00:00,  5.29s/it]\u001b[A\n"
     ]
    },
    {
     "name": "stdout",
     "output_type": "stream",
     "text": [
      "Cleaning up sorted DICOM files...\n"
     ]
    },
    {
     "name": "stderr",
     "output_type": "stream",
     "text": [
      "\n",
      "  0%|                                                                                                                                   | 0/10 [00:00<?, ?it/s]\u001b[A\n",
      "100%|██████████████████████████████████████████████████████████████████████████████████████████████████████████████████████████| 10/10 [00:00<00:00, 67.43it/s]\u001b[A\n",
      " 88%|███████████████████████████████████████████████████████████████████████████████████████████████████████▊              | 861/979 [2:32:57<41:17, 21.00s/it]"
     ]
    },
    {
     "name": "stdout",
     "output_type": "stream",
     "text": [
      "Collected 192984 images in /rawdata/all/train/images\n"
     ]
    },
    {
     "name": "stderr",
     "output_type": "stream",
     "text": [
      "100%|██████████| 2742/2742 [00:04<00:00, 591.91it/s]█████████████████████████████████████████████████████████▊             | 870/979 [2:33:37<09:51,  5.43s/it]\n"
     ]
    },
    {
     "name": "stdout",
     "output_type": "stream",
     "text": [
      "Files sorted\n",
      "Cleaning up downloaded DICOM files...\n"
     ]
    },
    {
     "name": "stderr",
     "output_type": "stream",
     "text": [
      "\n",
      "  0%|                                                                                                                                   | 0/10 [00:00<?, ?it/s]\u001b[A\n",
      "100%|██████████████████████████████████████████████████████████████████████████████████████████████████████████████████████████| 10/10 [00:00<00:00, 46.10it/s]\u001b[A\n"
     ]
    },
    {
     "name": "stdout",
     "output_type": "stream",
     "text": [
      "Saving patient data as .npz file...\n"
     ]
    },
    {
     "name": "stderr",
     "output_type": "stream",
     "text": [
      "\n",
      "  0%|                                                                                                                                   | 0/10 [00:00<?, ?it/s]\u001b[A\n",
      " 10%|████████████▎                                                                                                              | 1/10 [00:04<00:42,  4.71s/it]\u001b[A\n",
      " 20%|████████████████████████▌                                                                                                  | 2/10 [00:17<01:14,  9.30s/it]\u001b[A\n",
      " 30%|████████████████████████████████████▉                                                                                      | 3/10 [00:28<01:12, 10.30s/it]\u001b[A\n",
      " 40%|█████████████████████████████████████████████████▏                                                                         | 4/10 [00:31<00:44,  7.40s/it]\u001b[A\n",
      " 50%|█████████████████████████████████████████████████████████████▌                                                             | 5/10 [00:35<00:31,  6.23s/it]\u001b[A\n",
      " 60%|█████████████████████████████████████████████████████████████████████████▊                                                 | 6/10 [00:42<00:25,  6.47s/it]\u001b[A\n",
      " 70%|██████████████████████████████████████████████████████████████████████████████████████                                     | 7/10 [00:45<00:15,  5.24s/it]\u001b[A\n",
      " 80%|██████████████████████████████████████████████████████████████████████████████████████████████████▍                        | 8/10 [00:53<00:12,  6.03s/it]\u001b[A\n",
      " 90%|██████████████████████████████████████████████████████████████████████████████████████████████████████████████▋            | 9/10 [01:03<00:07,  7.50s/it]\u001b[A\n",
      "100%|██████████████████████████████████████████████████████████████████████████████████████████████████████████████████████████| 10/10 [01:10<00:00,  7.08s/it]\u001b[A\n"
     ]
    },
    {
     "name": "stdout",
     "output_type": "stream",
     "text": [
      "Cleaning up sorted DICOM files...\n"
     ]
    },
    {
     "name": "stderr",
     "output_type": "stream",
     "text": [
      "\n",
      "  0%|                                                                                                                                   | 0/10 [00:00<?, ?it/s]\u001b[A\n",
      "100%|██████████████████████████████████████████████████████████████████████████████████████████████████████████████████████████| 10/10 [00:00<00:00, 50.38it/s]\u001b[A\n",
      " 89%|████████████████████████████████████████████████████████████████████████████████████████████████████████▉             | 871/979 [2:34:56<49:22, 27.43s/it]"
     ]
    },
    {
     "name": "stdout",
     "output_type": "stream",
     "text": [
      "Collected 195726 images in /rawdata/all/train/images\n"
     ]
    },
    {
     "name": "stderr",
     "output_type": "stream",
     "text": [
      "100%|██████████| 2662/2662 [00:04<00:00, 590.12it/s]███████████████████████████████████████████████████████████            | 880/979 [2:35:36<09:09,  5.55s/it]\n"
     ]
    },
    {
     "name": "stdout",
     "output_type": "stream",
     "text": [
      "Files sorted\n",
      "Cleaning up downloaded DICOM files...\n"
     ]
    },
    {
     "name": "stderr",
     "output_type": "stream",
     "text": [
      "\n",
      "  0%|                                                                                                                                   | 0/10 [00:00<?, ?it/s]\u001b[A\n",
      "100%|██████████████████████████████████████████████████████████████████████████████████████████████████████████████████████████| 10/10 [00:00<00:00, 47.25it/s]\u001b[A\n"
     ]
    },
    {
     "name": "stdout",
     "output_type": "stream",
     "text": [
      "Saving patient data as .npz file...\n"
     ]
    },
    {
     "name": "stderr",
     "output_type": "stream",
     "text": [
      "\n",
      "  0%|                                                                                                                                   | 0/10 [00:00<?, ?it/s]\u001b[A\n",
      " 10%|████████████▎                                                                                                              | 1/10 [00:04<00:39,  4.39s/it]\u001b[A\n",
      " 20%|████████████████████████▌                                                                                                  | 2/10 [00:17<01:16,  9.58s/it]\u001b[A\n",
      " 30%|████████████████████████████████████▉                                                                                      | 3/10 [00:20<00:47,  6.73s/it]\u001b[A\n",
      " 40%|█████████████████████████████████████████████████▏                                                                         | 4/10 [00:24<00:31,  5.32s/it]\u001b[A\n",
      " 50%|█████████████████████████████████████████████████████████████▌                                                             | 5/10 [00:27<00:22,  4.47s/it]\u001b[A\n",
      " 60%|█████████████████████████████████████████████████████████████████████████▊                                                 | 6/10 [00:33<00:20,  5.16s/it]\u001b[A\n",
      " 70%|██████████████████████████████████████████████████████████████████████████████████████                                     | 7/10 [00:46<00:22,  7.56s/it]\u001b[A\n",
      " 80%|██████████████████████████████████████████████████████████████████████████████████████████████████▍                        | 8/10 [00:58<00:18,  9.06s/it]\u001b[A\n",
      " 90%|██████████████████████████████████████████████████████████████████████████████████████████████████████████████▋            | 9/10 [01:02<00:07,  7.64s/it]\u001b[A\n",
      "100%|██████████████████████████████████████████████████████████████████████████████████████████████████████████████████████████| 10/10 [01:08<00:00,  6.89s/it]\u001b[A\n"
     ]
    },
    {
     "name": "stdout",
     "output_type": "stream",
     "text": [
      "Cleaning up sorted DICOM files...\n"
     ]
    },
    {
     "name": "stderr",
     "output_type": "stream",
     "text": [
      "\n",
      "  0%|                                                                                                                                   | 0/10 [00:00<?, ?it/s]\u001b[A\n",
      "100%|██████████████████████████████████████████████████████████████████████████████████████████████████████████████████████████| 10/10 [00:00<00:00, 53.00it/s]\u001b[A\n",
      " 90%|██████████████████████████████████████████████████████████████████████████████████████████████████████████▏           | 881/979 [2:36:54<44:15, 27.10s/it]"
     ]
    },
    {
     "name": "stdout",
     "output_type": "stream",
     "text": [
      "Collected 198388 images in /rawdata/all/train/images\n"
     ]
    },
    {
     "name": "stderr",
     "output_type": "stream",
     "text": [
      "100%|██████████| 2781/2781 [00:04<00:00, 582.86it/s]████████████████████████████████████████████████████████████▎          | 890/979 [2:37:32<08:13,  5.55s/it]\n"
     ]
    },
    {
     "name": "stdout",
     "output_type": "stream",
     "text": [
      "Files sorted\n",
      "Cleaning up downloaded DICOM files...\n"
     ]
    },
    {
     "name": "stderr",
     "output_type": "stream",
     "text": [
      "\n",
      "  0%|                                                                                                                                   | 0/10 [00:00<?, ?it/s]\u001b[A\n",
      " 40%|█████████████████████████████████████████████████▏                                                                         | 4/10 [00:00<00:00, 36.50it/s]\u001b[A\n",
      "100%|██████████████████████████████████████████████████████████████████████████████████████████████████████████████████████████| 10/10 [00:00<00:00, 45.38it/s]\u001b[A\n"
     ]
    },
    {
     "name": "stdout",
     "output_type": "stream",
     "text": [
      "Saving patient data as .npz file...\n"
     ]
    },
    {
     "name": "stderr",
     "output_type": "stream",
     "text": [
      "\n",
      "  0%|                                                                                                                                   | 0/10 [00:00<?, ?it/s]\u001b[A\n",
      " 10%|████████████▎                                                                                                              | 1/10 [00:06<00:56,  6.28s/it]\u001b[A\n",
      " 20%|████████████████████████▌                                                                                                  | 2/10 [00:18<01:16,  9.61s/it]\u001b[A\n",
      " 30%|████████████████████████████████████▉                                                                                      | 3/10 [00:29<01:11, 10.25s/it]\u001b[A\n",
      " 40%|█████████████████████████████████████████████████▏                                                                         | 4/10 [00:34<00:50,  8.36s/it]\u001b[A\n",
      " 50%|█████████████████████████████████████████████████████████████▌                                                             | 5/10 [00:41<00:38,  7.76s/it]\u001b[A\n",
      " 60%|█████████████████████████████████████████████████████████████████████████▊                                                 | 6/10 [00:45<00:26,  6.66s/it]\u001b[A\n",
      " 70%|██████████████████████████████████████████████████████████████████████████████████████                                     | 7/10 [00:52<00:19,  6.63s/it]\u001b[A\n",
      " 80%|██████████████████████████████████████████████████████████████████████████████████████████████████▍                        | 8/10 [00:55<00:11,  5.61s/it]\u001b[A\n",
      " 90%|██████████████████████████████████████████████████████████████████████████████████████████████████████████████▋            | 9/10 [01:06<00:07,  7.03s/it]\u001b[A\n",
      "100%|██████████████████████████████████████████████████████████████████████████████████████████████████████████████████████████| 10/10 [01:15<00:00,  7.60s/it]\u001b[A\n"
     ]
    },
    {
     "name": "stdout",
     "output_type": "stream",
     "text": [
      "Cleaning up sorted DICOM files...\n"
     ]
    },
    {
     "name": "stderr",
     "output_type": "stream",
     "text": [
      "\n",
      "  0%|                                                                                                                                   | 0/10 [00:00<?, ?it/s]\u001b[A\n",
      "100%|██████████████████████████████████████████████████████████████████████████████████████████████████████████████████████████| 10/10 [00:00<00:00, 50.28it/s]\u001b[A\n",
      " 91%|███████████████████████████████████████████████████████████████████████████████████████████████████████████▍          | 891/979 [2:38:59<43:50, 29.89s/it]"
     ]
    },
    {
     "name": "stdout",
     "output_type": "stream",
     "text": [
      "Collected 201169 images in /rawdata/all/train/images\n"
     ]
    },
    {
     "name": "stderr",
     "output_type": "stream",
     "text": [
      "100%|██████████| 2408/2408 [00:04<00:00, 601.43it/s]█████████████████████████████████████████████████████████████▍         | 900/979 [2:39:34<06:13,  4.73s/it]\n"
     ]
    },
    {
     "name": "stdout",
     "output_type": "stream",
     "text": [
      "Files sorted\n",
      "Cleaning up downloaded DICOM files...\n"
     ]
    },
    {
     "name": "stderr",
     "output_type": "stream",
     "text": [
      "\n",
      "  0%|                                                                                                                                   | 0/10 [00:00<?, ?it/s]\u001b[A\n",
      "100%|██████████████████████████████████████████████████████████████████████████████████████████████████████████████████████████| 10/10 [00:00<00:00, 51.53it/s]\u001b[A\n"
     ]
    },
    {
     "name": "stdout",
     "output_type": "stream",
     "text": [
      "Saving patient data as .npz file...\n"
     ]
    },
    {
     "name": "stderr",
     "output_type": "stream",
     "text": [
      "\n",
      "  0%|                                                                                                                                   | 0/10 [00:00<?, ?it/s]\u001b[A\n",
      " 10%|████████████▎                                                                                                              | 1/10 [00:02<00:26,  2.90s/it]\u001b[A\n",
      " 20%|████████████████████████▌                                                                                                  | 2/10 [00:05<00:22,  2.79s/it]\u001b[A\n",
      " 30%|████████████████████████████████████▉                                                                                      | 3/10 [00:11<00:30,  4.31s/it]\u001b[A\n",
      " 40%|█████████████████████████████████████████████████▏                                                                         | 4/10 [00:19<00:33,  5.65s/it]\u001b[A\n",
      " 50%|█████████████████████████████████████████████████████████████▌                                                             | 5/10 [00:29<00:36,  7.40s/it]\u001b[A\n",
      " 60%|█████████████████████████████████████████████████████████████████████████▊                                                 | 6/10 [00:38<00:30,  7.70s/it]\u001b[A\n",
      " 70%|██████████████████████████████████████████████████████████████████████████████████████                                     | 7/10 [00:43<00:20,  6.83s/it]\u001b[A\n",
      " 80%|██████████████████████████████████████████████████████████████████████████████████████████████████▍                        | 8/10 [00:49<00:13,  6.56s/it]\u001b[A\n",
      " 90%|██████████████████████████████████████████████████████████████████████████████████████████████████████████████▋            | 9/10 [00:55<00:06,  6.32s/it]\u001b[A\n",
      "100%|██████████████████████████████████████████████████████████████████████████████████████████████████████████████████████████| 10/10 [00:59<00:00,  6.00s/it]\u001b[A\n"
     ]
    },
    {
     "name": "stdout",
     "output_type": "stream",
     "text": [
      "Cleaning up sorted DICOM files...\n"
     ]
    },
    {
     "name": "stderr",
     "output_type": "stream",
     "text": [
      "\n",
      "  0%|                                                                                                                                   | 0/10 [00:00<?, ?it/s]\u001b[A\n",
      "100%|██████████████████████████████████████████████████████████████████████████████████████████████████████████████████████████| 10/10 [00:00<00:00, 57.27it/s]\u001b[A\n",
      " 92%|████████████████████████████████████████████████████████████████████████████████████████████████████████████▌         | 901/979 [2:40:43<30:52, 23.75s/it]"
     ]
    },
    {
     "name": "stdout",
     "output_type": "stream",
     "text": [
      "Collected 203577 images in /rawdata/all/train/images\n"
     ]
    },
    {
     "name": "stderr",
     "output_type": "stream",
     "text": [
      "100%|██████████| 2728/2728 [00:04<00:00, 584.46it/s]██████████████████████████████████████████████████████████████▋        | 910/979 [2:41:21<07:28,  6.51s/it]\n"
     ]
    },
    {
     "name": "stdout",
     "output_type": "stream",
     "text": [
      "Files sorted\n",
      "Cleaning up downloaded DICOM files...\n"
     ]
    },
    {
     "name": "stderr",
     "output_type": "stream",
     "text": [
      "\n",
      "  0%|                                                                                                                                   | 0/10 [00:00<?, ?it/s]\u001b[A\n",
      "100%|██████████████████████████████████████████████████████████████████████████████████████████████████████████████████████████| 10/10 [00:00<00:00, 46.87it/s]\u001b[A\n"
     ]
    },
    {
     "name": "stdout",
     "output_type": "stream",
     "text": [
      "Saving patient data as .npz file...\n"
     ]
    },
    {
     "name": "stderr",
     "output_type": "stream",
     "text": [
      "\n",
      "  0%|                                                                                                                                   | 0/10 [00:00<?, ?it/s]\u001b[A\n",
      " 10%|████████████▎                                                                                                              | 1/10 [00:03<00:35,  3.95s/it]\u001b[A\n",
      " 20%|████████████████████████▌                                                                                                  | 2/10 [00:15<01:08,  8.62s/it]\u001b[A\n",
      " 30%|████████████████████████████████████▉                                                                                      | 3/10 [00:21<00:52,  7.48s/it]\u001b[A\n",
      " 40%|█████████████████████████████████████████████████▏                                                                         | 4/10 [00:25<00:35,  5.88s/it]\u001b[A\n",
      " 50%|█████████████████████████████████████████████████████████████▌                                                             | 5/10 [00:27<00:23,  4.62s/it]\u001b[A"
     ]
    },
    {
     "name": "stdout",
     "output_type": "stream",
     "text": [
      "Failed to reduce all groups to <= 4 Annotations.\n",
      "Some nodules may be close and must be grouped manually.\n"
     ]
    },
    {
     "name": "stderr",
     "output_type": "stream",
     "text": [
      "\n",
      " 60%|█████████████████████████████████████████████████████████████████████████▊                                                 | 6/10 [00:36<00:23,  5.94s/it]\u001b[A\n",
      " 70%|██████████████████████████████████████████████████████████████████████████████████████                                     | 7/10 [00:42<00:17,  5.99s/it]\u001b[A\n",
      " 80%|██████████████████████████████████████████████████████████████████████████████████████████████████▍                        | 8/10 [00:55<00:16,  8.38s/it]\u001b[A\n",
      " 90%|██████████████████████████████████████████████████████████████████████████████████████████████████████████████▋            | 9/10 [01:07<00:09,  9.42s/it]\u001b[A\n",
      "100%|██████████████████████████████████████████████████████████████████████████████████████████████████████████████████████████| 10/10 [01:12<00:00,  7.29s/it]\u001b[A\n"
     ]
    },
    {
     "name": "stdout",
     "output_type": "stream",
     "text": [
      "Cleaning up sorted DICOM files...\n"
     ]
    },
    {
     "name": "stderr",
     "output_type": "stream",
     "text": [
      "\n",
      "  0%|                                                                                                                                   | 0/10 [00:00<?, ?it/s]\u001b[A\n",
      "100%|██████████████████████████████████████████████████████████████████████████████████████████████████████████████████████████| 10/10 [00:00<00:00, 50.22it/s]\u001b[A\n",
      " 93%|█████████████████████████████████████████████████████████████████████████████████████████████████████████████▊        | 911/979 [2:42:44<33:07, 29.23s/it]"
     ]
    },
    {
     "name": "stdout",
     "output_type": "stream",
     "text": [
      "Collected 206305 images in /rawdata/all/train/images\n"
     ]
    },
    {
     "name": "stderr",
     "output_type": "stream",
     "text": [
      "100%|██████████| 2314/2314 [00:03<00:00, 593.23it/s]███████████████████████████████████████████████████████████████▉       | 920/979 [2:43:20<04:55,  5.01s/it]\n"
     ]
    },
    {
     "name": "stdout",
     "output_type": "stream",
     "text": [
      "Files sorted\n",
      "Cleaning up downloaded DICOM files...\n"
     ]
    },
    {
     "name": "stderr",
     "output_type": "stream",
     "text": [
      "\n",
      "  0%|                                                                                                                                   | 0/10 [00:00<?, ?it/s]\u001b[A\n",
      "100%|██████████████████████████████████████████████████████████████████████████████████████████████████████████████████████████| 10/10 [00:00<00:00, 48.45it/s]\u001b[A\n"
     ]
    },
    {
     "name": "stdout",
     "output_type": "stream",
     "text": [
      "Saving patient data as .npz file...\n"
     ]
    },
    {
     "name": "stderr",
     "output_type": "stream",
     "text": [
      "\n",
      "  0%|                                                                                                                                   | 0/10 [00:00<?, ?it/s]\u001b[A\n",
      " 10%|████████████▎                                                                                                              | 1/10 [00:06<01:00,  6.67s/it]\u001b[A\n",
      " 20%|████████████████████████▌                                                                                                  | 2/10 [00:10<00:41,  5.17s/it]\u001b[A\n",
      " 30%|████████████████████████████████████▉                                                                                      | 3/10 [00:22<00:55,  7.96s/it]\u001b[A\n",
      " 40%|█████████████████████████████████████████████████▏                                                                         | 4/10 [00:25<00:36,  6.08s/it]\u001b[A\n",
      " 50%|█████████████████████████████████████████████████████████████▌                                                             | 5/10 [00:28<00:24,  4.91s/it]\u001b[A\n",
      " 60%|█████████████████████████████████████████████████████████████████████████▊                                                 | 6/10 [00:36<00:24,  6.18s/it]\u001b[A\n",
      " 70%|██████████████████████████████████████████████████████████████████████████████████████                                     | 7/10 [00:39<00:15,  5.17s/it]\u001b[A\n",
      " 80%|██████████████████████████████████████████████████████████████████████████████████████████████████▍                        | 8/10 [00:43<00:09,  4.57s/it]\u001b[A\n",
      " 90%|██████████████████████████████████████████████████████████████████████████████████████████████████████████████▋            | 9/10 [00:56<00:07,  7.23s/it]\u001b[A\n",
      "100%|██████████████████████████████████████████████████████████████████████████████████████████████████████████████████████████| 10/10 [00:59<00:00,  5.92s/it]\u001b[A\n"
     ]
    },
    {
     "name": "stdout",
     "output_type": "stream",
     "text": [
      "Cleaning up sorted DICOM files...\n"
     ]
    },
    {
     "name": "stderr",
     "output_type": "stream",
     "text": [
      "\n",
      "  0%|                                                                                                                                   | 0/10 [00:00<?, ?it/s]\u001b[A\n",
      "100%|██████████████████████████████████████████████████████████████████████████████████████████████████████████████████████████| 10/10 [00:00<00:00, 59.64it/s]\u001b[A\n",
      " 94%|███████████████████████████████████████████████████████████████████████████████████████████████████████████████       | 921/979 [2:44:26<22:45, 23.54s/it]"
     ]
    },
    {
     "name": "stdout",
     "output_type": "stream",
     "text": [
      "Collected 208619 images in /rawdata/all/train/images\n"
     ]
    },
    {
     "name": "stderr",
     "output_type": "stream",
     "text": [
      "100%|██████████| 2468/2468 [00:04<00:00, 586.84it/s]█████████████████████████████████████████████████████████████████      | 930/979 [2:45:04<03:54,  4.79s/it]\n"
     ]
    },
    {
     "name": "stdout",
     "output_type": "stream",
     "text": [
      "Files sorted\n",
      "Cleaning up downloaded DICOM files...\n"
     ]
    },
    {
     "name": "stderr",
     "output_type": "stream",
     "text": [
      "\n",
      "  0%|                                                                                                                                   | 0/10 [00:00<?, ?it/s]\u001b[A\n",
      "100%|██████████████████████████████████████████████████████████████████████████████████████████████████████████████████████████| 10/10 [00:00<00:00, 50.66it/s]\u001b[A\n"
     ]
    },
    {
     "name": "stdout",
     "output_type": "stream",
     "text": [
      "Saving patient data as .npz file...\n"
     ]
    },
    {
     "name": "stderr",
     "output_type": "stream",
     "text": [
      "\n",
      "  0%|                                                                                                                                   | 0/10 [00:00<?, ?it/s]\u001b[A\n",
      " 10%|████████████▎                                                                                                              | 1/10 [00:03<00:30,  3.42s/it]\u001b[A\n",
      " 20%|████████████████████████▌                                                                                                  | 2/10 [00:06<00:26,  3.33s/it]\u001b[A\n",
      " 30%|████████████████████████████████████▉                                                                                      | 3/10 [00:18<00:50,  7.25s/it]\u001b[A\n",
      " 40%|█████████████████████████████████████████████████▏                                                                         | 4/10 [00:24<00:39,  6.62s/it]\u001b[A\n",
      " 50%|█████████████████████████████████████████████████████████████▌                                                             | 5/10 [00:28<00:29,  5.81s/it]\u001b[A\n",
      " 60%|█████████████████████████████████████████████████████████████████████████▊                                                 | 6/10 [00:34<00:23,  5.97s/it]\u001b[A\n",
      " 70%|██████████████████████████████████████████████████████████████████████████████████████                                     | 7/10 [00:36<00:13,  4.65s/it]\u001b[A\n",
      " 80%|██████████████████████████████████████████████████████████████████████████████████████████████████▍                        | 8/10 [00:45<00:12,  6.08s/it]\u001b[A\n",
      " 90%|██████████████████████████████████████████████████████████████████████████████████████████████████████████████▋            | 9/10 [00:57<00:07,  7.73s/it]\u001b[A\n",
      "100%|██████████████████████████████████████████████████████████████████████████████████████████████████████████████████████████| 10/10 [01:03<00:00,  6.34s/it]\u001b[A\n"
     ]
    },
    {
     "name": "stdout",
     "output_type": "stream",
     "text": [
      "Cleaning up sorted DICOM files...\n"
     ]
    },
    {
     "name": "stderr",
     "output_type": "stream",
     "text": [
      "\n",
      "  0%|                                                                                                                                   | 0/10 [00:00<?, ?it/s]\u001b[A\n",
      "100%|██████████████████████████████████████████████████████████████████████████████████████████████████████████████████████████| 10/10 [00:00<00:00, 54.72it/s]\u001b[A\n",
      " 95%|████████████████████████████████████████████████████████████████████████████████████████████████████████████████▏     | 931/979 [2:46:16<19:44, 24.67s/it]"
     ]
    },
    {
     "name": "stdout",
     "output_type": "stream",
     "text": [
      "Collected 211087 images in /rawdata/all/train/images\n"
     ]
    },
    {
     "name": "stderr",
     "output_type": "stream",
     "text": [
      "100%|██████████| 2303/2303 [00:03<00:00, 594.92it/s]██████████████████████████████████████████████████████████████████▎    | 940/979 [2:46:52<02:58,  4.58s/it]\n"
     ]
    },
    {
     "name": "stdout",
     "output_type": "stream",
     "text": [
      "Files sorted\n",
      "Cleaning up downloaded DICOM files...\n"
     ]
    },
    {
     "name": "stderr",
     "output_type": "stream",
     "text": [
      "\n",
      "  0%|                                                                                                                                   | 0/10 [00:00<?, ?it/s]\u001b[A\n",
      "100%|██████████████████████████████████████████████████████████████████████████████████████████████████████████████████████████| 10/10 [00:00<00:00, 54.17it/s]\u001b[A\n"
     ]
    },
    {
     "name": "stdout",
     "output_type": "stream",
     "text": [
      "Saving patient data as .npz file...\n"
     ]
    },
    {
     "name": "stderr",
     "output_type": "stream",
     "text": [
      "\n",
      "  0%|                                                                                                                                   | 0/10 [00:00<?, ?it/s]\u001b[A\n",
      " 10%|████████████▎                                                                                                              | 1/10 [00:05<00:53,  5.89s/it]\u001b[A\n",
      " 20%|████████████████████████▌                                                                                                  | 2/10 [00:13<00:56,  7.01s/it]\u001b[A\n",
      " 30%|████████████████████████████████████▉                                                                                      | 3/10 [00:18<00:40,  5.80s/it]\u001b[A\n",
      " 40%|█████████████████████████████████████████████████▏                                                                         | 4/10 [00:29<00:48,  8.11s/it]\u001b[A\n",
      " 50%|█████████████████████████████████████████████████████████████▌                                                             | 5/10 [00:36<00:38,  7.63s/it]\u001b[A\n",
      " 60%|█████████████████████████████████████████████████████████████████████████▊                                                 | 6/10 [00:39<00:24,  6.12s/it]\u001b[A\n",
      " 70%|██████████████████████████████████████████████████████████████████████████████████████                                     | 7/10 [00:43<00:15,  5.24s/it]\u001b[A\n",
      " 80%|██████████████████████████████████████████████████████████████████████████████████████████████████▍                        | 8/10 [00:51<00:12,  6.37s/it]\u001b[A\n",
      " 90%|██████████████████████████████████████████████████████████████████████████████████████████████████████████████▋            | 9/10 [00:55<00:05,  5.36s/it]\u001b[A\n",
      "100%|██████████████████████████████████████████████████████████████████████████████████████████████████████████████████████████| 10/10 [00:57<00:00,  5.77s/it]\u001b[A\n"
     ]
    },
    {
     "name": "stdout",
     "output_type": "stream",
     "text": [
      "Cleaning up sorted DICOM files...\n"
     ]
    },
    {
     "name": "stderr",
     "output_type": "stream",
     "text": [
      "\n",
      "  0%|                                                                                                                                   | 0/10 [00:00<?, ?it/s]\u001b[A\n",
      "100%|██████████████████████████████████████████████████████████████████████████████████████████████████████████████████████████| 10/10 [00:00<00:00, 59.07it/s]\u001b[A\n",
      " 96%|█████████████████████████████████████████████████████████████████████████████████████████████████████████████████▍    | 941/979 [2:47:56<14:19, 22.62s/it]"
     ]
    },
    {
     "name": "stdout",
     "output_type": "stream",
     "text": [
      "Collected 213390 images in /rawdata/all/train/images\n"
     ]
    },
    {
     "name": "stderr",
     "output_type": "stream",
     "text": [
      "100%|██████████| 2635/2635 [00:04<00:00, 598.40it/s]███████████████████████████████████████████████████████████████████▌   | 950/979 [2:48:31<02:26,  5.04s/it]\n"
     ]
    },
    {
     "name": "stdout",
     "output_type": "stream",
     "text": [
      "Files sorted\n",
      "Cleaning up downloaded DICOM files...\n"
     ]
    },
    {
     "name": "stderr",
     "output_type": "stream",
     "text": [
      "\n",
      "  0%|                                                                                                                                   | 0/10 [00:00<?, ?it/s]\u001b[A\n",
      " 50%|█████████████████████████████████████████████████████████████▌                                                             | 5/10 [00:00<00:00, 46.29it/s]\u001b[A\n",
      "100%|██████████████████████████████████████████████████████████████████████████████████████████████████████████████████████████| 10/10 [00:00<00:00, 46.95it/s]\u001b[A\n"
     ]
    },
    {
     "name": "stdout",
     "output_type": "stream",
     "text": [
      "Saving patient data as .npz file...\n"
     ]
    },
    {
     "name": "stderr",
     "output_type": "stream",
     "text": [
      "\n",
      "  0%|                                                                                                                                   | 0/10 [00:00<?, ?it/s]\u001b[A\n",
      " 10%|████████████▎                                                                                                              | 1/10 [00:05<00:51,  5.67s/it]\u001b[A\n",
      " 20%|████████████████████████▌                                                                                                  | 2/10 [00:19<01:23, 10.38s/it]\u001b[A\n",
      " 30%|████████████████████████████████████▉                                                                                      | 3/10 [00:29<01:13, 10.44s/it]\u001b[A\n",
      " 40%|█████████████████████████████████████████████████▏                                                                         | 4/10 [00:32<00:45,  7.51s/it]\u001b[A\n",
      " 50%|█████████████████████████████████████████████████████████████▌                                                             | 5/10 [00:35<00:29,  5.89s/it]\u001b[A\n",
      " 60%|█████████████████████████████████████████████████████████████████████████▊                                                 | 6/10 [00:38<00:19,  4.89s/it]\u001b[A\n",
      " 70%|██████████████████████████████████████████████████████████████████████████████████████                                     | 7/10 [00:45<00:16,  5.44s/it]\u001b[A\n",
      " 80%|██████████████████████████████████████████████████████████████████████████████████████████████████▍                        | 8/10 [00:51<00:11,  5.75s/it]\u001b[A\n",
      " 90%|██████████████████████████████████████████████████████████████████████████████████████████████████████████████▋            | 9/10 [00:56<00:05,  5.56s/it]\u001b[A\n",
      "100%|██████████████████████████████████████████████████████████████████████████████████████████████████████████████████████████| 10/10 [01:07<00:00,  6.79s/it]\u001b[A\n"
     ]
    },
    {
     "name": "stdout",
     "output_type": "stream",
     "text": [
      "Cleaning up sorted DICOM files...\n"
     ]
    },
    {
     "name": "stderr",
     "output_type": "stream",
     "text": [
      "\n",
      "  0%|                                                                                                                                   | 0/10 [00:00<?, ?it/s]\u001b[A\n",
      "100%|██████████████████████████████████████████████████████████████████████████████████████████████████████████████████████████| 10/10 [00:00<00:00, 52.65it/s]\u001b[A\n",
      " 97%|██████████████████████████████████████████████████████████████████████████████████████████████████████████████████▋   | 951/979 [2:49:51<12:52, 27.61s/it]"
     ]
    },
    {
     "name": "stdout",
     "output_type": "stream",
     "text": [
      "Collected 216020 images in /rawdata/all/train/images\n"
     ]
    },
    {
     "name": "stderr",
     "output_type": "stream",
     "text": [
      "100%|██████████| 2282/2282 [00:03<00:00, 586.49it/s]████████████████████████████████████████████████████████████████████▋  | 960/979 [2:50:26<01:30,  4.78s/it]\n"
     ]
    },
    {
     "name": "stdout",
     "output_type": "stream",
     "text": [
      "Files sorted\n",
      "Cleaning up downloaded DICOM files...\n"
     ]
    },
    {
     "name": "stderr",
     "output_type": "stream",
     "text": [
      "\n",
      "  0%|                                                                                                                                   | 0/10 [00:00<?, ?it/s]\u001b[A\n",
      "100%|██████████████████████████████████████████████████████████████████████████████████████████████████████████████████████████| 10/10 [00:00<00:00, 53.93it/s]\u001b[A\n"
     ]
    },
    {
     "name": "stdout",
     "output_type": "stream",
     "text": [
      "Saving patient data as .npz file...\n"
     ]
    },
    {
     "name": "stderr",
     "output_type": "stream",
     "text": [
      "\n",
      "  0%|                                                                                                                                   | 0/10 [00:00<?, ?it/s]\u001b[A\n",
      " 10%|████████████▎                                                                                                              | 1/10 [00:06<00:56,  6.24s/it]\u001b[A\n",
      " 20%|████████████████████████▌                                                                                                  | 2/10 [00:13<00:52,  6.55s/it]\u001b[A\n",
      " 30%|████████████████████████████████████▉                                                                                      | 3/10 [00:16<00:35,  5.05s/it]\u001b[A\n",
      " 40%|█████████████████████████████████████████████████▏                                                                         | 4/10 [00:23<00:35,  6.00s/it]\u001b[A\n",
      " 50%|█████████████████████████████████████████████████████████████▌                                                             | 5/10 [00:25<00:23,  4.65s/it]\u001b[A\n",
      " 60%|█████████████████████████████████████████████████████████████████████████▊                                                 | 6/10 [00:38<00:29,  7.40s/it]\u001b[A\n",
      " 70%|██████████████████████████████████████████████████████████████████████████████████████                                     | 7/10 [00:44<00:21,  7.01s/it]\u001b[A\n",
      " 80%|██████████████████████████████████████████████████████████████████████████████████████████████████▍                        | 8/10 [00:48<00:11,  5.89s/it]\u001b[A\n",
      " 90%|██████████████████████████████████████████████████████████████████████████████████████████████████████████████▋            | 9/10 [00:51<00:05,  5.01s/it]\u001b[A\n",
      "100%|██████████████████████████████████████████████████████████████████████████████████████████████████████████████████████████| 10/10 [00:56<00:00,  5.68s/it]\u001b[A\n"
     ]
    },
    {
     "name": "stdout",
     "output_type": "stream",
     "text": [
      "Cleaning up sorted DICOM files...\n"
     ]
    },
    {
     "name": "stderr",
     "output_type": "stream",
     "text": [
      "\n",
      "  0%|                                                                                                                                   | 0/10 [00:00<?, ?it/s]\u001b[A\n",
      "100%|██████████████████████████████████████████████████████████████████████████████████████████████████████████████████████████| 10/10 [00:00<00:00, 57.91it/s]\u001b[A\n",
      " 98%|███████████████████████████████████████████████████████████████████████████████████████████████████████████████████▊  | 961/979 [2:51:30<06:46, 22.57s/it]"
     ]
    },
    {
     "name": "stdout",
     "output_type": "stream",
     "text": [
      "Collected 218302 images in /rawdata/all/train/images\n"
     ]
    },
    {
     "name": "stderr",
     "output_type": "stream",
     "text": [
      "100%|██████████| 2590/2590 [00:04<00:00, 593.41it/s]█████████████████████████████████████████████████████████████████████▉ | 970/979 [2:52:05<00:40,  4.46s/it]\n"
     ]
    },
    {
     "name": "stdout",
     "output_type": "stream",
     "text": [
      "Files sorted\n",
      "Cleaning up downloaded DICOM files...\n"
     ]
    },
    {
     "name": "stderr",
     "output_type": "stream",
     "text": [
      "\n",
      "  0%|                                                                                                                                   | 0/10 [00:00<?, ?it/s]\u001b[A\n",
      "100%|██████████████████████████████████████████████████████████████████████████████████████████████████████████████████████████| 10/10 [00:00<00:00, 48.11it/s]\u001b[A\n"
     ]
    },
    {
     "name": "stdout",
     "output_type": "stream",
     "text": [
      "Saving patient data as .npz file...\n"
     ]
    },
    {
     "name": "stderr",
     "output_type": "stream",
     "text": [
      "\n",
      "  0%|                                                                                                                                   | 0/10 [00:00<?, ?it/s]\u001b[A\n",
      " 10%|████████████▎                                                                                                              | 1/10 [00:04<00:36,  4.06s/it]\u001b[A\n",
      " 20%|████████████████████████▌                                                                                                  | 2/10 [00:15<01:07,  8.49s/it]\u001b[A\n",
      " 30%|████████████████████████████████████▉                                                                                      | 3/10 [00:18<00:41,  5.97s/it]\u001b[A\n",
      " 40%|█████████████████████████████████████████████████▏                                                                         | 4/10 [00:35<01:00, 10.16s/it]\u001b[A\n",
      " 50%|█████████████████████████████████████████████████████████████▌                                                             | 5/10 [00:40<00:41,  8.38s/it]\u001b[A\n",
      " 60%|█████████████████████████████████████████████████████████████████████████▊                                                 | 6/10 [00:46<00:30,  7.63s/it]\u001b[A\n",
      " 70%|██████████████████████████████████████████████████████████████████████████████████████                                     | 7/10 [00:52<00:20,  6.94s/it]\u001b[A\n",
      " 80%|██████████████████████████████████████████████████████████████████████████████████████████████████▍                        | 8/10 [00:55<00:11,  5.76s/it]\u001b[A\n",
      " 90%|██████████████████████████████████████████████████████████████████████████████████████████████████████████████▋            | 9/10 [01:02<00:06,  6.09s/it]\u001b[A\n",
      "100%|██████████████████████████████████████████████████████████████████████████████████████████████████████████████████████████| 10/10 [01:16<00:00,  7.70s/it]\u001b[A\n"
     ]
    },
    {
     "name": "stdout",
     "output_type": "stream",
     "text": [
      "Cleaning up sorted DICOM files...\n"
     ]
    },
    {
     "name": "stderr",
     "output_type": "stream",
     "text": [
      "\n",
      "  0%|                                                                                                                                   | 0/10 [00:00<?, ?it/s]\u001b[A\n",
      "100%|██████████████████████████████████████████████████████████████████████████████████████████████████████████████████████████| 10/10 [00:00<00:00, 53.70it/s]\u001b[A\n",
      " 99%|█████████████████████████████████████████████████████████████████████████████████████████████████████████████████████ | 971/979 [2:53:34<03:59, 29.91s/it]"
     ]
    },
    {
     "name": "stdout",
     "output_type": "stream",
     "text": [
      "Collected 220892 images in /rawdata/all/train/images\n"
     ]
    },
    {
     "name": "stderr",
     "output_type": "stream",
     "text": [
      "100%|██████████████████████████████████████████████████████████████████████████████████████████████████████████████████████| 979/979 [2:54:02<00:00, 10.67s/it]\n"
     ]
    }
   ],
   "source": [
    "import os, shutil\n",
    "import glob\n",
    "download_dir = '/rawdata/temp/gcsfiles/'\n",
    "sorted_dir = '/rawdata/temp/sorted_gcsfiles/'\n",
    "\n",
    "if not os.path.exists(download_dir):\n",
    "    print(\"Creating directory {}\".format(download_dir))\n",
    "    os.makedirs(download_dir)\n",
    "else:\n",
    "    print(\"Directory {} exists\".format(download_dir))\n",
    "\n",
    "if not os.path.exists(sorted_dir):\n",
    "    print(\"Creating directory {}\".format(sorted_dir))\n",
    "    os.makedirs(sorted_dir)\n",
    "else:\n",
    "    print(\"Directory {} exists\".format(sorted_dir))\n",
    "\n",
    "for i in tqdm(range(manifest_df.shape[0])):\n",
    "    url = manifest_df.iloc[i].gcs\n",
    "    download_command = \"gsutil -u {} -m cp -r {} {} >/dev/null 2>&1\".format(myProjectID, url, download_dir)\n",
    "    os.system(download_command)\n",
    "    if (i > 1) and (i % 10 == 0): # got 10 patients\n",
    "       # sort the images\n",
    "       # !python dicomsort/dicomsort.py -u downloaded_cohort_3 cohort_sorted_3/%PatientID/%StudyInstanceUID/%SeriesInstanceUID/%SOPInstanceUID.dcm\n",
    "        sort_command = \"python dicomsort/dicomsort.py -u {} {}/%PatientID/%StudyInstanceUID/%SeriesInstanceUID/%SOPInstanceUID.dcm\".format(download_dir, sorted_dir)\n",
    "        os.system(sort_command)\n",
    "        # todo: remove the download_dir contents\n",
    "        print(\"Cleaning up downloaded DICOM files...\")\n",
    "        files = glob.glob(download_dir + \"/*\")\n",
    "        for i in tqdm(range(len(files))):\n",
    "            if os.path.isdir(files[i]):\n",
    "                shutil.rmtree(files[i])\n",
    "        print(\"Saving patient data as .npz file...\")\n",
    "        patient_data_as_jpg_files(sorted_dir)\n",
    "        # todo: remove the sorted_dir contents\n",
    "        print(\"Cleaning up sorted DICOM files...\")\n",
    "        files = glob.glob(sorted_dir + \"/*\")\n",
    "        for i in tqdm(range(len(files))):\n",
    "            if os.path.isdir(files[i]):\n",
    "                shutil.rmtree(files[i])\n",
    "        print(\"Collected {} images in {}\".format(len(os.listdir(root_dir + '/images')), root_dir + '/images'))"
   ]
  },
  {
   "cell_type": "code",
   "execution_count": 117,
   "id": "f1852004",
   "metadata": {},
   "outputs": [],
   "source": [
    "!rm -rf /rawdata/all/train/"
   ]
  },
  {
   "cell_type": "code",
   "execution_count": 98,
   "id": "835040f4",
   "metadata": {
    "collapsed": true,
    "jupyter": {
     "outputs_hidden": true
    }
   },
   "outputs": [
    {
     "name": "stdout",
     "output_type": "stream",
     "text": [
      "\u001b[0m\u001b[01;35mmask_LIDC-IDRI-0001_0.jpg\u001b[0m    \u001b[01;35mmask_LIDC-IDRI-0006_53.jpg\u001b[0m\n",
      "\u001b[01;35mmask_LIDC-IDRI-0001_1.jpg\u001b[0m    \u001b[01;35mmask_LIDC-IDRI-0006_54.jpg\u001b[0m\n",
      "\u001b[01;35mmask_LIDC-IDRI-0001_10.jpg\u001b[0m   \u001b[01;35mmask_LIDC-IDRI-0006_55.jpg\u001b[0m\n",
      "\u001b[01;35mmask_LIDC-IDRI-0001_100.jpg\u001b[0m  \u001b[01;35mmask_LIDC-IDRI-0006_56.jpg\u001b[0m\n",
      "\u001b[01;35mmask_LIDC-IDRI-0001_101.jpg\u001b[0m  \u001b[01;35mmask_LIDC-IDRI-0006_57.jpg\u001b[0m\n",
      "\u001b[01;35mmask_LIDC-IDRI-0001_102.jpg\u001b[0m  \u001b[01;35mmask_LIDC-IDRI-0006_58.jpg\u001b[0m\n",
      "\u001b[01;35mmask_LIDC-IDRI-0001_103.jpg\u001b[0m  \u001b[01;35mmask_LIDC-IDRI-0006_59.jpg\u001b[0m\n",
      "\u001b[01;35mmask_LIDC-IDRI-0001_104.jpg\u001b[0m  \u001b[01;35mmask_LIDC-IDRI-0006_6.jpg\u001b[0m\n",
      "\u001b[01;35mmask_LIDC-IDRI-0001_105.jpg\u001b[0m  \u001b[01;35mmask_LIDC-IDRI-0006_60.jpg\u001b[0m\n",
      "\u001b[01;35mmask_LIDC-IDRI-0001_106.jpg\u001b[0m  \u001b[01;35mmask_LIDC-IDRI-0006_61.jpg\u001b[0m\n",
      "\u001b[01;35mmask_LIDC-IDRI-0001_107.jpg\u001b[0m  \u001b[01;35mmask_LIDC-IDRI-0006_62.jpg\u001b[0m\n",
      "\u001b[01;35mmask_LIDC-IDRI-0001_108.jpg\u001b[0m  \u001b[01;35mmask_LIDC-IDRI-0006_63.jpg\u001b[0m\n",
      "\u001b[01;35mmask_LIDC-IDRI-0001_109.jpg\u001b[0m  \u001b[01;35mmask_LIDC-IDRI-0006_64.jpg\u001b[0m\n",
      "\u001b[01;35mmask_LIDC-IDRI-0001_11.jpg\u001b[0m   \u001b[01;35mmask_LIDC-IDRI-0006_65.jpg\u001b[0m\n",
      "\u001b[01;35mmask_LIDC-IDRI-0001_110.jpg\u001b[0m  \u001b[01;35mmask_LIDC-IDRI-0006_66.jpg\u001b[0m\n",
      "\u001b[01;35mmask_LIDC-IDRI-0001_111.jpg\u001b[0m  \u001b[01;35mmask_LIDC-IDRI-0006_67.jpg\u001b[0m\n",
      "\u001b[01;35mmask_LIDC-IDRI-0001_112.jpg\u001b[0m  \u001b[01;35mmask_LIDC-IDRI-0006_68.jpg\u001b[0m\n",
      "\u001b[01;35mmask_LIDC-IDRI-0001_113.jpg\u001b[0m  \u001b[01;35mmask_LIDC-IDRI-0006_69.jpg\u001b[0m\n",
      "\u001b[01;35mmask_LIDC-IDRI-0001_114.jpg\u001b[0m  \u001b[01;35mmask_LIDC-IDRI-0006_7.jpg\u001b[0m\n",
      "\u001b[01;35mmask_LIDC-IDRI-0001_115.jpg\u001b[0m  \u001b[01;35mmask_LIDC-IDRI-0006_70.jpg\u001b[0m\n",
      "\u001b[01;35mmask_LIDC-IDRI-0001_116.jpg\u001b[0m  \u001b[01;35mmask_LIDC-IDRI-0006_71.jpg\u001b[0m\n",
      "\u001b[01;35mmask_LIDC-IDRI-0001_117.jpg\u001b[0m  \u001b[01;35mmask_LIDC-IDRI-0006_72.jpg\u001b[0m\n",
      "\u001b[01;35mmask_LIDC-IDRI-0001_118.jpg\u001b[0m  \u001b[01;35mmask_LIDC-IDRI-0006_73.jpg\u001b[0m\n",
      "\u001b[01;35mmask_LIDC-IDRI-0001_119.jpg\u001b[0m  \u001b[01;35mmask_LIDC-IDRI-0006_74.jpg\u001b[0m\n",
      "\u001b[01;35mmask_LIDC-IDRI-0001_12.jpg\u001b[0m   \u001b[01;35mmask_LIDC-IDRI-0006_75.jpg\u001b[0m\n",
      "\u001b[01;35mmask_LIDC-IDRI-0001_120.jpg\u001b[0m  \u001b[01;35mmask_LIDC-IDRI-0006_76.jpg\u001b[0m\n",
      "\u001b[01;35mmask_LIDC-IDRI-0001_121.jpg\u001b[0m  \u001b[01;35mmask_LIDC-IDRI-0006_77.jpg\u001b[0m\n",
      "\u001b[01;35mmask_LIDC-IDRI-0001_122.jpg\u001b[0m  \u001b[01;35mmask_LIDC-IDRI-0006_78.jpg\u001b[0m\n",
      "\u001b[01;35mmask_LIDC-IDRI-0001_123.jpg\u001b[0m  \u001b[01;35mmask_LIDC-IDRI-0006_79.jpg\u001b[0m\n",
      "\u001b[01;35mmask_LIDC-IDRI-0001_124.jpg\u001b[0m  \u001b[01;35mmask_LIDC-IDRI-0006_8.jpg\u001b[0m\n",
      "\u001b[01;35mmask_LIDC-IDRI-0001_125.jpg\u001b[0m  \u001b[01;35mmask_LIDC-IDRI-0006_80.jpg\u001b[0m\n",
      "\u001b[01;35mmask_LIDC-IDRI-0001_126.jpg\u001b[0m  \u001b[01;35mmask_LIDC-IDRI-0006_81.jpg\u001b[0m\n",
      "\u001b[01;35mmask_LIDC-IDRI-0001_127.jpg\u001b[0m  \u001b[01;35mmask_LIDC-IDRI-0006_82.jpg\u001b[0m\n",
      "\u001b[01;35mmask_LIDC-IDRI-0001_128.jpg\u001b[0m  \u001b[01;35mmask_LIDC-IDRI-0006_83.jpg\u001b[0m\n",
      "\u001b[01;35mmask_LIDC-IDRI-0001_129.jpg\u001b[0m  \u001b[01;35mmask_LIDC-IDRI-0006_84.jpg\u001b[0m\n",
      "\u001b[01;35mmask_LIDC-IDRI-0001_13.jpg\u001b[0m   \u001b[01;35mmask_LIDC-IDRI-0006_85.jpg\u001b[0m\n",
      "\u001b[01;35mmask_LIDC-IDRI-0001_130.jpg\u001b[0m  \u001b[01;35mmask_LIDC-IDRI-0006_86.jpg\u001b[0m\n",
      "\u001b[01;35mmask_LIDC-IDRI-0001_131.jpg\u001b[0m  \u001b[01;35mmask_LIDC-IDRI-0006_87.jpg\u001b[0m\n",
      "\u001b[01;35mmask_LIDC-IDRI-0001_132.jpg\u001b[0m  \u001b[01;35mmask_LIDC-IDRI-0006_88.jpg\u001b[0m\n",
      "\u001b[01;35mmask_LIDC-IDRI-0001_14.jpg\u001b[0m   \u001b[01;35mmask_LIDC-IDRI-0006_89.jpg\u001b[0m\n",
      "\u001b[01;35mmask_LIDC-IDRI-0001_15.jpg\u001b[0m   \u001b[01;35mmask_LIDC-IDRI-0006_9.jpg\u001b[0m\n",
      "\u001b[01;35mmask_LIDC-IDRI-0001_16.jpg\u001b[0m   \u001b[01;35mmask_LIDC-IDRI-0006_90.jpg\u001b[0m\n",
      "\u001b[01;35mmask_LIDC-IDRI-0001_17.jpg\u001b[0m   \u001b[01;35mmask_LIDC-IDRI-0006_91.jpg\u001b[0m\n",
      "\u001b[01;35mmask_LIDC-IDRI-0001_18.jpg\u001b[0m   \u001b[01;35mmask_LIDC-IDRI-0006_92.jpg\u001b[0m\n",
      "\u001b[01;35mmask_LIDC-IDRI-0001_19.jpg\u001b[0m   \u001b[01;35mmask_LIDC-IDRI-0006_93.jpg\u001b[0m\n",
      "\u001b[01;35mmask_LIDC-IDRI-0001_2.jpg\u001b[0m    \u001b[01;35mmask_LIDC-IDRI-0006_94.jpg\u001b[0m\n",
      "\u001b[01;35mmask_LIDC-IDRI-0001_20.jpg\u001b[0m   \u001b[01;35mmask_LIDC-IDRI-0006_95.jpg\u001b[0m\n",
      "\u001b[01;35mmask_LIDC-IDRI-0001_21.jpg\u001b[0m   \u001b[01;35mmask_LIDC-IDRI-0006_96.jpg\u001b[0m\n",
      "\u001b[01;35mmask_LIDC-IDRI-0001_22.jpg\u001b[0m   \u001b[01;35mmask_LIDC-IDRI-0006_97.jpg\u001b[0m\n",
      "\u001b[01;35mmask_LIDC-IDRI-0001_23.jpg\u001b[0m   \u001b[01;35mmask_LIDC-IDRI-0006_98.jpg\u001b[0m\n",
      "\u001b[01;35mmask_LIDC-IDRI-0001_24.jpg\u001b[0m   \u001b[01;35mmask_LIDC-IDRI-0006_99.jpg\u001b[0m\n",
      "\u001b[01;35mmask_LIDC-IDRI-0001_25.jpg\u001b[0m   \u001b[01;35mmask_LIDC-IDRI-0007_0.jpg\u001b[0m\n",
      "\u001b[01;35mmask_LIDC-IDRI-0001_26.jpg\u001b[0m   \u001b[01;35mmask_LIDC-IDRI-0007_1.jpg\u001b[0m\n",
      "\u001b[01;35mmask_LIDC-IDRI-0001_27.jpg\u001b[0m   \u001b[01;35mmask_LIDC-IDRI-0007_10.jpg\u001b[0m\n",
      "\u001b[01;35mmask_LIDC-IDRI-0001_28.jpg\u001b[0m   \u001b[01;35mmask_LIDC-IDRI-0007_100.jpg\u001b[0m\n",
      "\u001b[01;35mmask_LIDC-IDRI-0001_29.jpg\u001b[0m   \u001b[01;35mmask_LIDC-IDRI-0007_101.jpg\u001b[0m\n",
      "\u001b[01;35mmask_LIDC-IDRI-0001_3.jpg\u001b[0m    \u001b[01;35mmask_LIDC-IDRI-0007_102.jpg\u001b[0m\n",
      "\u001b[01;35mmask_LIDC-IDRI-0001_30.jpg\u001b[0m   \u001b[01;35mmask_LIDC-IDRI-0007_103.jpg\u001b[0m\n",
      "\u001b[01;35mmask_LIDC-IDRI-0001_31.jpg\u001b[0m   \u001b[01;35mmask_LIDC-IDRI-0007_104.jpg\u001b[0m\n",
      "\u001b[01;35mmask_LIDC-IDRI-0001_32.jpg\u001b[0m   \u001b[01;35mmask_LIDC-IDRI-0007_105.jpg\u001b[0m\n",
      "\u001b[01;35mmask_LIDC-IDRI-0001_33.jpg\u001b[0m   \u001b[01;35mmask_LIDC-IDRI-0007_106.jpg\u001b[0m\n",
      "\u001b[01;35mmask_LIDC-IDRI-0001_34.jpg\u001b[0m   \u001b[01;35mmask_LIDC-IDRI-0007_107.jpg\u001b[0m\n",
      "\u001b[01;35mmask_LIDC-IDRI-0001_35.jpg\u001b[0m   \u001b[01;35mmask_LIDC-IDRI-0007_108.jpg\u001b[0m\n",
      "\u001b[01;35mmask_LIDC-IDRI-0001_36.jpg\u001b[0m   \u001b[01;35mmask_LIDC-IDRI-0007_109.jpg\u001b[0m\n",
      "\u001b[01;35mmask_LIDC-IDRI-0001_37.jpg\u001b[0m   \u001b[01;35mmask_LIDC-IDRI-0007_11.jpg\u001b[0m\n",
      "\u001b[01;35mmask_LIDC-IDRI-0001_38.jpg\u001b[0m   \u001b[01;35mmask_LIDC-IDRI-0007_110.jpg\u001b[0m\n",
      "\u001b[01;35mmask_LIDC-IDRI-0001_39.jpg\u001b[0m   \u001b[01;35mmask_LIDC-IDRI-0007_111.jpg\u001b[0m\n",
      "\u001b[01;35mmask_LIDC-IDRI-0001_4.jpg\u001b[0m    \u001b[01;35mmask_LIDC-IDRI-0007_112.jpg\u001b[0m\n",
      "\u001b[01;35mmask_LIDC-IDRI-0001_40.jpg\u001b[0m   \u001b[01;35mmask_LIDC-IDRI-0007_113.jpg\u001b[0m\n",
      "\u001b[01;35mmask_LIDC-IDRI-0001_41.jpg\u001b[0m   \u001b[01;35mmask_LIDC-IDRI-0007_114.jpg\u001b[0m\n",
      "\u001b[01;35mmask_LIDC-IDRI-0001_42.jpg\u001b[0m   \u001b[01;35mmask_LIDC-IDRI-0007_115.jpg\u001b[0m\n",
      "\u001b[01;35mmask_LIDC-IDRI-0001_43.jpg\u001b[0m   \u001b[01;35mmask_LIDC-IDRI-0007_116.jpg\u001b[0m\n",
      "\u001b[01;35mmask_LIDC-IDRI-0001_44.jpg\u001b[0m   \u001b[01;35mmask_LIDC-IDRI-0007_117.jpg\u001b[0m\n",
      "\u001b[01;35mmask_LIDC-IDRI-0001_45.jpg\u001b[0m   \u001b[01;35mmask_LIDC-IDRI-0007_118.jpg\u001b[0m\n",
      "\u001b[01;35mmask_LIDC-IDRI-0001_46.jpg\u001b[0m   \u001b[01;35mmask_LIDC-IDRI-0007_119.jpg\u001b[0m\n",
      "\u001b[01;35mmask_LIDC-IDRI-0001_47.jpg\u001b[0m   \u001b[01;35mmask_LIDC-IDRI-0007_12.jpg\u001b[0m\n",
      "\u001b[01;35mmask_LIDC-IDRI-0001_48.jpg\u001b[0m   \u001b[01;35mmask_LIDC-IDRI-0007_120.jpg\u001b[0m\n",
      "\u001b[01;35mmask_LIDC-IDRI-0001_49.jpg\u001b[0m   \u001b[01;35mmask_LIDC-IDRI-0007_121.jpg\u001b[0m\n",
      "\u001b[01;35mmask_LIDC-IDRI-0001_5.jpg\u001b[0m    \u001b[01;35mmask_LIDC-IDRI-0007_122.jpg\u001b[0m\n",
      "\u001b[01;35mmask_LIDC-IDRI-0001_50.jpg\u001b[0m   \u001b[01;35mmask_LIDC-IDRI-0007_123.jpg\u001b[0m\n",
      "\u001b[01;35mmask_LIDC-IDRI-0001_51.jpg\u001b[0m   \u001b[01;35mmask_LIDC-IDRI-0007_124.jpg\u001b[0m\n",
      "\u001b[01;35mmask_LIDC-IDRI-0001_52.jpg\u001b[0m   \u001b[01;35mmask_LIDC-IDRI-0007_125.jpg\u001b[0m\n",
      "\u001b[01;35mmask_LIDC-IDRI-0001_53.jpg\u001b[0m   \u001b[01;35mmask_LIDC-IDRI-0007_126.jpg\u001b[0m\n",
      "\u001b[01;35mmask_LIDC-IDRI-0001_54.jpg\u001b[0m   \u001b[01;35mmask_LIDC-IDRI-0007_127.jpg\u001b[0m\n",
      "\u001b[01;35mmask_LIDC-IDRI-0001_55.jpg\u001b[0m   \u001b[01;35mmask_LIDC-IDRI-0007_128.jpg\u001b[0m\n",
      "\u001b[01;35mmask_LIDC-IDRI-0001_56.jpg\u001b[0m   \u001b[01;35mmask_LIDC-IDRI-0007_129.jpg\u001b[0m\n",
      "\u001b[01;35mmask_LIDC-IDRI-0001_57.jpg\u001b[0m   \u001b[01;35mmask_LIDC-IDRI-0007_13.jpg\u001b[0m\n",
      "\u001b[01;35mmask_LIDC-IDRI-0001_58.jpg\u001b[0m   \u001b[01;35mmask_LIDC-IDRI-0007_130.jpg\u001b[0m\n",
      "\u001b[01;35mmask_LIDC-IDRI-0001_59.jpg\u001b[0m   \u001b[01;35mmask_LIDC-IDRI-0007_131.jpg\u001b[0m\n",
      "\u001b[01;35mmask_LIDC-IDRI-0001_6.jpg\u001b[0m    \u001b[01;35mmask_LIDC-IDRI-0007_132.jpg\u001b[0m\n",
      "\u001b[01;35mmask_LIDC-IDRI-0001_60.jpg\u001b[0m   \u001b[01;35mmask_LIDC-IDRI-0007_133.jpg\u001b[0m\n",
      "\u001b[01;35mmask_LIDC-IDRI-0001_61.jpg\u001b[0m   \u001b[01;35mmask_LIDC-IDRI-0007_134.jpg\u001b[0m\n",
      "\u001b[01;35mmask_LIDC-IDRI-0001_62.jpg\u001b[0m   \u001b[01;35mmask_LIDC-IDRI-0007_135.jpg\u001b[0m\n",
      "\u001b[01;35mmask_LIDC-IDRI-0001_63.jpg\u001b[0m   \u001b[01;35mmask_LIDC-IDRI-0007_136.jpg\u001b[0m\n",
      "\u001b[01;35mmask_LIDC-IDRI-0001_64.jpg\u001b[0m   \u001b[01;35mmask_LIDC-IDRI-0007_137.jpg\u001b[0m\n",
      "\u001b[01;35mmask_LIDC-IDRI-0001_65.jpg\u001b[0m   \u001b[01;35mmask_LIDC-IDRI-0007_138.jpg\u001b[0m\n",
      "\u001b[01;35mmask_LIDC-IDRI-0001_66.jpg\u001b[0m   \u001b[01;35mmask_LIDC-IDRI-0007_139.jpg\u001b[0m\n",
      "\u001b[01;35mmask_LIDC-IDRI-0001_67.jpg\u001b[0m   \u001b[01;35mmask_LIDC-IDRI-0007_14.jpg\u001b[0m\n",
      "\u001b[01;35mmask_LIDC-IDRI-0001_68.jpg\u001b[0m   \u001b[01;35mmask_LIDC-IDRI-0007_140.jpg\u001b[0m\n",
      "\u001b[01;35mmask_LIDC-IDRI-0001_69.jpg\u001b[0m   \u001b[01;35mmask_LIDC-IDRI-0007_141.jpg\u001b[0m\n",
      "\u001b[01;35mmask_LIDC-IDRI-0001_7.jpg\u001b[0m    \u001b[01;35mmask_LIDC-IDRI-0007_142.jpg\u001b[0m\n",
      "\u001b[01;35mmask_LIDC-IDRI-0001_70.jpg\u001b[0m   \u001b[01;35mmask_LIDC-IDRI-0007_143.jpg\u001b[0m\n",
      "\u001b[01;35mmask_LIDC-IDRI-0001_71.jpg\u001b[0m   \u001b[01;35mmask_LIDC-IDRI-0007_144.jpg\u001b[0m\n",
      "\u001b[01;35mmask_LIDC-IDRI-0001_72.jpg\u001b[0m   \u001b[01;35mmask_LIDC-IDRI-0007_15.jpg\u001b[0m\n",
      "\u001b[01;35mmask_LIDC-IDRI-0001_73.jpg\u001b[0m   \u001b[01;35mmask_LIDC-IDRI-0007_16.jpg\u001b[0m\n",
      "\u001b[01;35mmask_LIDC-IDRI-0001_74.jpg\u001b[0m   \u001b[01;35mmask_LIDC-IDRI-0007_17.jpg\u001b[0m\n",
      "\u001b[01;35mmask_LIDC-IDRI-0001_75.jpg\u001b[0m   \u001b[01;35mmask_LIDC-IDRI-0007_18.jpg\u001b[0m\n",
      "\u001b[01;35mmask_LIDC-IDRI-0001_76.jpg\u001b[0m   \u001b[01;35mmask_LIDC-IDRI-0007_19.jpg\u001b[0m\n",
      "\u001b[01;35mmask_LIDC-IDRI-0001_77.jpg\u001b[0m   \u001b[01;35mmask_LIDC-IDRI-0007_2.jpg\u001b[0m\n",
      "\u001b[01;35mmask_LIDC-IDRI-0001_78.jpg\u001b[0m   \u001b[01;35mmask_LIDC-IDRI-0007_20.jpg\u001b[0m\n",
      "\u001b[01;35mmask_LIDC-IDRI-0001_79.jpg\u001b[0m   \u001b[01;35mmask_LIDC-IDRI-0007_21.jpg\u001b[0m\n",
      "\u001b[01;35mmask_LIDC-IDRI-0001_8.jpg\u001b[0m    \u001b[01;35mmask_LIDC-IDRI-0007_22.jpg\u001b[0m\n",
      "\u001b[01;35mmask_LIDC-IDRI-0001_80.jpg\u001b[0m   \u001b[01;35mmask_LIDC-IDRI-0007_23.jpg\u001b[0m\n",
      "\u001b[01;35mmask_LIDC-IDRI-0001_81.jpg\u001b[0m   \u001b[01;35mmask_LIDC-IDRI-0007_24.jpg\u001b[0m\n",
      "\u001b[01;35mmask_LIDC-IDRI-0001_82.jpg\u001b[0m   \u001b[01;35mmask_LIDC-IDRI-0007_25.jpg\u001b[0m\n",
      "\u001b[01;35mmask_LIDC-IDRI-0001_83.jpg\u001b[0m   \u001b[01;35mmask_LIDC-IDRI-0007_26.jpg\u001b[0m\n",
      "\u001b[01;35mmask_LIDC-IDRI-0001_84.jpg\u001b[0m   \u001b[01;35mmask_LIDC-IDRI-0007_27.jpg\u001b[0m\n",
      "\u001b[01;35mmask_LIDC-IDRI-0001_85.jpg\u001b[0m   \u001b[01;35mmask_LIDC-IDRI-0007_28.jpg\u001b[0m\n",
      "\u001b[01;35mmask_LIDC-IDRI-0001_86.jpg\u001b[0m   \u001b[01;35mmask_LIDC-IDRI-0007_29.jpg\u001b[0m\n",
      "\u001b[01;35mmask_LIDC-IDRI-0001_87.jpg\u001b[0m   \u001b[01;35mmask_LIDC-IDRI-0007_3.jpg\u001b[0m\n",
      "\u001b[01;35mmask_LIDC-IDRI-0001_88.jpg\u001b[0m   \u001b[01;35mmask_LIDC-IDRI-0007_30.jpg\u001b[0m\n",
      "\u001b[01;35mmask_LIDC-IDRI-0001_89.jpg\u001b[0m   \u001b[01;35mmask_LIDC-IDRI-0007_31.jpg\u001b[0m\n",
      "\u001b[01;35mmask_LIDC-IDRI-0001_9.jpg\u001b[0m    \u001b[01;35mmask_LIDC-IDRI-0007_32.jpg\u001b[0m\n",
      "\u001b[01;35mmask_LIDC-IDRI-0001_90.jpg\u001b[0m   \u001b[01;35mmask_LIDC-IDRI-0007_33.jpg\u001b[0m\n",
      "\u001b[01;35mmask_LIDC-IDRI-0001_91.jpg\u001b[0m   \u001b[01;35mmask_LIDC-IDRI-0007_34.jpg\u001b[0m\n",
      "\u001b[01;35mmask_LIDC-IDRI-0001_92.jpg\u001b[0m   \u001b[01;35mmask_LIDC-IDRI-0007_35.jpg\u001b[0m\n",
      "\u001b[01;35mmask_LIDC-IDRI-0001_93.jpg\u001b[0m   \u001b[01;35mmask_LIDC-IDRI-0007_36.jpg\u001b[0m\n",
      "\u001b[01;35mmask_LIDC-IDRI-0001_94.jpg\u001b[0m   \u001b[01;35mmask_LIDC-IDRI-0007_37.jpg\u001b[0m\n",
      "\u001b[01;35mmask_LIDC-IDRI-0001_95.jpg\u001b[0m   \u001b[01;35mmask_LIDC-IDRI-0007_38.jpg\u001b[0m\n",
      "\u001b[01;35mmask_LIDC-IDRI-0001_96.jpg\u001b[0m   \u001b[01;35mmask_LIDC-IDRI-0007_39.jpg\u001b[0m\n",
      "\u001b[01;35mmask_LIDC-IDRI-0001_97.jpg\u001b[0m   \u001b[01;35mmask_LIDC-IDRI-0007_4.jpg\u001b[0m\n",
      "\u001b[01;35mmask_LIDC-IDRI-0001_98.jpg\u001b[0m   \u001b[01;35mmask_LIDC-IDRI-0007_40.jpg\u001b[0m\n",
      "\u001b[01;35mmask_LIDC-IDRI-0001_99.jpg\u001b[0m   \u001b[01;35mmask_LIDC-IDRI-0007_41.jpg\u001b[0m\n",
      "\u001b[01;35mmask_LIDC-IDRI-0002_0.jpg\u001b[0m    \u001b[01;35mmask_LIDC-IDRI-0007_42.jpg\u001b[0m\n",
      "\u001b[01;35mmask_LIDC-IDRI-0002_1.jpg\u001b[0m    \u001b[01;35mmask_LIDC-IDRI-0007_43.jpg\u001b[0m\n",
      "\u001b[01;35mmask_LIDC-IDRI-0002_10.jpg\u001b[0m   \u001b[01;35mmask_LIDC-IDRI-0007_44.jpg\u001b[0m\n",
      "\u001b[01;35mmask_LIDC-IDRI-0002_100.jpg\u001b[0m  \u001b[01;35mmask_LIDC-IDRI-0007_45.jpg\u001b[0m\n",
      "\u001b[01;35mmask_LIDC-IDRI-0002_101.jpg\u001b[0m  \u001b[01;35mmask_LIDC-IDRI-0007_46.jpg\u001b[0m\n",
      "\u001b[01;35mmask_LIDC-IDRI-0002_102.jpg\u001b[0m  \u001b[01;35mmask_LIDC-IDRI-0007_47.jpg\u001b[0m\n",
      "\u001b[01;35mmask_LIDC-IDRI-0002_103.jpg\u001b[0m  \u001b[01;35mmask_LIDC-IDRI-0007_48.jpg\u001b[0m\n",
      "\u001b[01;35mmask_LIDC-IDRI-0002_104.jpg\u001b[0m  \u001b[01;35mmask_LIDC-IDRI-0007_49.jpg\u001b[0m\n",
      "\u001b[01;35mmask_LIDC-IDRI-0002_105.jpg\u001b[0m  \u001b[01;35mmask_LIDC-IDRI-0007_5.jpg\u001b[0m\n",
      "\u001b[01;35mmask_LIDC-IDRI-0002_106.jpg\u001b[0m  \u001b[01;35mmask_LIDC-IDRI-0007_50.jpg\u001b[0m\n",
      "\u001b[01;35mmask_LIDC-IDRI-0002_107.jpg\u001b[0m  \u001b[01;35mmask_LIDC-IDRI-0007_51.jpg\u001b[0m\n",
      "\u001b[01;35mmask_LIDC-IDRI-0002_108.jpg\u001b[0m  \u001b[01;35mmask_LIDC-IDRI-0007_52.jpg\u001b[0m\n",
      "\u001b[01;35mmask_LIDC-IDRI-0002_109.jpg\u001b[0m  \u001b[01;35mmask_LIDC-IDRI-0007_53.jpg\u001b[0m\n",
      "\u001b[01;35mmask_LIDC-IDRI-0002_11.jpg\u001b[0m   \u001b[01;35mmask_LIDC-IDRI-0007_54.jpg\u001b[0m\n",
      "\u001b[01;35mmask_LIDC-IDRI-0002_110.jpg\u001b[0m  \u001b[01;35mmask_LIDC-IDRI-0007_55.jpg\u001b[0m\n",
      "\u001b[01;35mmask_LIDC-IDRI-0002_111.jpg\u001b[0m  \u001b[01;35mmask_LIDC-IDRI-0007_56.jpg\u001b[0m\n",
      "\u001b[01;35mmask_LIDC-IDRI-0002_112.jpg\u001b[0m  \u001b[01;35mmask_LIDC-IDRI-0007_57.jpg\u001b[0m\n",
      "\u001b[01;35mmask_LIDC-IDRI-0002_113.jpg\u001b[0m  \u001b[01;35mmask_LIDC-IDRI-0007_58.jpg\u001b[0m\n",
      "\u001b[01;35mmask_LIDC-IDRI-0002_114.jpg\u001b[0m  \u001b[01;35mmask_LIDC-IDRI-0007_59.jpg\u001b[0m\n",
      "\u001b[01;35mmask_LIDC-IDRI-0002_115.jpg\u001b[0m  \u001b[01;35mmask_LIDC-IDRI-0007_6.jpg\u001b[0m\n",
      "\u001b[01;35mmask_LIDC-IDRI-0002_116.jpg\u001b[0m  \u001b[01;35mmask_LIDC-IDRI-0007_60.jpg\u001b[0m\n",
      "\u001b[01;35mmask_LIDC-IDRI-0002_117.jpg\u001b[0m  \u001b[01;35mmask_LIDC-IDRI-0007_61.jpg\u001b[0m\n",
      "\u001b[01;35mmask_LIDC-IDRI-0002_118.jpg\u001b[0m  \u001b[01;35mmask_LIDC-IDRI-0007_62.jpg\u001b[0m\n",
      "\u001b[01;35mmask_LIDC-IDRI-0002_119.jpg\u001b[0m  \u001b[01;35mmask_LIDC-IDRI-0007_63.jpg\u001b[0m\n",
      "\u001b[01;35mmask_LIDC-IDRI-0002_12.jpg\u001b[0m   \u001b[01;35mmask_LIDC-IDRI-0007_64.jpg\u001b[0m\n",
      "\u001b[01;35mmask_LIDC-IDRI-0002_120.jpg\u001b[0m  \u001b[01;35mmask_LIDC-IDRI-0007_65.jpg\u001b[0m\n",
      "\u001b[01;35mmask_LIDC-IDRI-0002_121.jpg\u001b[0m  \u001b[01;35mmask_LIDC-IDRI-0007_66.jpg\u001b[0m\n",
      "\u001b[01;35mmask_LIDC-IDRI-0002_122.jpg\u001b[0m  \u001b[01;35mmask_LIDC-IDRI-0007_67.jpg\u001b[0m\n",
      "\u001b[01;35mmask_LIDC-IDRI-0002_123.jpg\u001b[0m  \u001b[01;35mmask_LIDC-IDRI-0007_68.jpg\u001b[0m\n",
      "\u001b[01;35mmask_LIDC-IDRI-0002_124.jpg\u001b[0m  \u001b[01;35mmask_LIDC-IDRI-0007_69.jpg\u001b[0m\n",
      "\u001b[01;35mmask_LIDC-IDRI-0002_125.jpg\u001b[0m  \u001b[01;35mmask_LIDC-IDRI-0007_7.jpg\u001b[0m\n",
      "\u001b[01;35mmask_LIDC-IDRI-0002_126.jpg\u001b[0m  \u001b[01;35mmask_LIDC-IDRI-0007_70.jpg\u001b[0m\n",
      "\u001b[01;35mmask_LIDC-IDRI-0002_127.jpg\u001b[0m  \u001b[01;35mmask_LIDC-IDRI-0007_71.jpg\u001b[0m\n",
      "\u001b[01;35mmask_LIDC-IDRI-0002_128.jpg\u001b[0m  \u001b[01;35mmask_LIDC-IDRI-0007_72.jpg\u001b[0m\n",
      "\u001b[01;35mmask_LIDC-IDRI-0002_129.jpg\u001b[0m  \u001b[01;35mmask_LIDC-IDRI-0007_73.jpg\u001b[0m\n",
      "\u001b[01;35mmask_LIDC-IDRI-0002_13.jpg\u001b[0m   \u001b[01;35mmask_LIDC-IDRI-0007_74.jpg\u001b[0m\n",
      "\u001b[01;35mmask_LIDC-IDRI-0002_130.jpg\u001b[0m  \u001b[01;35mmask_LIDC-IDRI-0007_75.jpg\u001b[0m\n",
      "\u001b[01;35mmask_LIDC-IDRI-0002_131.jpg\u001b[0m  \u001b[01;35mmask_LIDC-IDRI-0007_76.jpg\u001b[0m\n",
      "\u001b[01;35mmask_LIDC-IDRI-0002_132.jpg\u001b[0m  \u001b[01;35mmask_LIDC-IDRI-0007_77.jpg\u001b[0m\n",
      "\u001b[01;35mmask_LIDC-IDRI-0002_133.jpg\u001b[0m  \u001b[01;35mmask_LIDC-IDRI-0007_78.jpg\u001b[0m\n",
      "\u001b[01;35mmask_LIDC-IDRI-0002_134.jpg\u001b[0m  \u001b[01;35mmask_LIDC-IDRI-0007_79.jpg\u001b[0m\n",
      "\u001b[01;35mmask_LIDC-IDRI-0002_135.jpg\u001b[0m  \u001b[01;35mmask_LIDC-IDRI-0007_8.jpg\u001b[0m\n",
      "\u001b[01;35mmask_LIDC-IDRI-0002_136.jpg\u001b[0m  \u001b[01;35mmask_LIDC-IDRI-0007_80.jpg\u001b[0m\n",
      "\u001b[01;35mmask_LIDC-IDRI-0002_137.jpg\u001b[0m  \u001b[01;35mmask_LIDC-IDRI-0007_81.jpg\u001b[0m\n",
      "\u001b[01;35mmask_LIDC-IDRI-0002_138.jpg\u001b[0m  \u001b[01;35mmask_LIDC-IDRI-0007_82.jpg\u001b[0m\n",
      "\u001b[01;35mmask_LIDC-IDRI-0002_139.jpg\u001b[0m  \u001b[01;35mmask_LIDC-IDRI-0007_83.jpg\u001b[0m\n",
      "\u001b[01;35mmask_LIDC-IDRI-0002_14.jpg\u001b[0m   \u001b[01;35mmask_LIDC-IDRI-0007_84.jpg\u001b[0m\n",
      "\u001b[01;35mmask_LIDC-IDRI-0002_140.jpg\u001b[0m  \u001b[01;35mmask_LIDC-IDRI-0007_85.jpg\u001b[0m\n",
      "\u001b[01;35mmask_LIDC-IDRI-0002_141.jpg\u001b[0m  \u001b[01;35mmask_LIDC-IDRI-0007_86.jpg\u001b[0m\n",
      "\u001b[01;35mmask_LIDC-IDRI-0002_142.jpg\u001b[0m  \u001b[01;35mmask_LIDC-IDRI-0007_87.jpg\u001b[0m\n",
      "\u001b[01;35mmask_LIDC-IDRI-0002_143.jpg\u001b[0m  \u001b[01;35mmask_LIDC-IDRI-0007_88.jpg\u001b[0m\n",
      "\u001b[01;35mmask_LIDC-IDRI-0002_144.jpg\u001b[0m  \u001b[01;35mmask_LIDC-IDRI-0007_89.jpg\u001b[0m\n",
      "\u001b[01;35mmask_LIDC-IDRI-0002_145.jpg\u001b[0m  \u001b[01;35mmask_LIDC-IDRI-0007_9.jpg\u001b[0m\n",
      "\u001b[01;35mmask_LIDC-IDRI-0002_146.jpg\u001b[0m  \u001b[01;35mmask_LIDC-IDRI-0007_90.jpg\u001b[0m\n",
      "\u001b[01;35mmask_LIDC-IDRI-0002_147.jpg\u001b[0m  \u001b[01;35mmask_LIDC-IDRI-0007_91.jpg\u001b[0m\n",
      "\u001b[01;35mmask_LIDC-IDRI-0002_148.jpg\u001b[0m  \u001b[01;35mmask_LIDC-IDRI-0007_92.jpg\u001b[0m\n",
      "\u001b[01;35mmask_LIDC-IDRI-0002_149.jpg\u001b[0m  \u001b[01;35mmask_LIDC-IDRI-0007_93.jpg\u001b[0m\n",
      "\u001b[01;35mmask_LIDC-IDRI-0002_15.jpg\u001b[0m   \u001b[01;35mmask_LIDC-IDRI-0007_94.jpg\u001b[0m\n",
      "\u001b[01;35mmask_LIDC-IDRI-0002_150.jpg\u001b[0m  \u001b[01;35mmask_LIDC-IDRI-0007_95.jpg\u001b[0m\n",
      "\u001b[01;35mmask_LIDC-IDRI-0002_151.jpg\u001b[0m  \u001b[01;35mmask_LIDC-IDRI-0007_96.jpg\u001b[0m\n",
      "\u001b[01;35mmask_LIDC-IDRI-0002_152.jpg\u001b[0m  \u001b[01;35mmask_LIDC-IDRI-0007_97.jpg\u001b[0m\n",
      "\u001b[01;35mmask_LIDC-IDRI-0002_153.jpg\u001b[0m  \u001b[01;35mmask_LIDC-IDRI-0007_98.jpg\u001b[0m\n",
      "\u001b[01;35mmask_LIDC-IDRI-0002_154.jpg\u001b[0m  \u001b[01;35mmask_LIDC-IDRI-0007_99.jpg\u001b[0m\n",
      "\u001b[01;35mmask_LIDC-IDRI-0002_155.jpg\u001b[0m  \u001b[01;35mmask_LIDC-IDRI-0008_0.jpg\u001b[0m\n",
      "\u001b[01;35mmask_LIDC-IDRI-0002_156.jpg\u001b[0m  \u001b[01;35mmask_LIDC-IDRI-0008_1.jpg\u001b[0m\n",
      "\u001b[01;35mmask_LIDC-IDRI-0002_157.jpg\u001b[0m  \u001b[01;35mmask_LIDC-IDRI-0008_10.jpg\u001b[0m\n",
      "\u001b[01;35mmask_LIDC-IDRI-0002_158.jpg\u001b[0m  \u001b[01;35mmask_LIDC-IDRI-0008_100.jpg\u001b[0m\n",
      "\u001b[01;35mmask_LIDC-IDRI-0002_159.jpg\u001b[0m  \u001b[01;35mmask_LIDC-IDRI-0008_101.jpg\u001b[0m\n",
      "\u001b[01;35mmask_LIDC-IDRI-0002_16.jpg\u001b[0m   \u001b[01;35mmask_LIDC-IDRI-0008_102.jpg\u001b[0m\n",
      "\u001b[01;35mmask_LIDC-IDRI-0002_160.jpg\u001b[0m  \u001b[01;35mmask_LIDC-IDRI-0008_103.jpg\u001b[0m\n",
      "\u001b[01;35mmask_LIDC-IDRI-0002_161.jpg\u001b[0m  \u001b[01;35mmask_LIDC-IDRI-0008_104.jpg\u001b[0m\n",
      "\u001b[01;35mmask_LIDC-IDRI-0002_162.jpg\u001b[0m  \u001b[01;35mmask_LIDC-IDRI-0008_105.jpg\u001b[0m\n",
      "\u001b[01;35mmask_LIDC-IDRI-0002_163.jpg\u001b[0m  \u001b[01;35mmask_LIDC-IDRI-0008_106.jpg\u001b[0m\n",
      "\u001b[01;35mmask_LIDC-IDRI-0002_164.jpg\u001b[0m  \u001b[01;35mmask_LIDC-IDRI-0008_107.jpg\u001b[0m\n",
      "\u001b[01;35mmask_LIDC-IDRI-0002_165.jpg\u001b[0m  \u001b[01;35mmask_LIDC-IDRI-0008_108.jpg\u001b[0m\n",
      "\u001b[01;35mmask_LIDC-IDRI-0002_166.jpg\u001b[0m  \u001b[01;35mmask_LIDC-IDRI-0008_109.jpg\u001b[0m\n",
      "\u001b[01;35mmask_LIDC-IDRI-0002_167.jpg\u001b[0m  \u001b[01;35mmask_LIDC-IDRI-0008_11.jpg\u001b[0m\n",
      "\u001b[01;35mmask_LIDC-IDRI-0002_168.jpg\u001b[0m  \u001b[01;35mmask_LIDC-IDRI-0008_110.jpg\u001b[0m\n",
      "\u001b[01;35mmask_LIDC-IDRI-0002_169.jpg\u001b[0m  \u001b[01;35mmask_LIDC-IDRI-0008_111.jpg\u001b[0m\n",
      "\u001b[01;35mmask_LIDC-IDRI-0002_17.jpg\u001b[0m   \u001b[01;35mmask_LIDC-IDRI-0008_112.jpg\u001b[0m\n",
      "\u001b[01;35mmask_LIDC-IDRI-0002_170.jpg\u001b[0m  \u001b[01;35mmask_LIDC-IDRI-0008_113.jpg\u001b[0m\n",
      "\u001b[01;35mmask_LIDC-IDRI-0002_171.jpg\u001b[0m  \u001b[01;35mmask_LIDC-IDRI-0008_114.jpg\u001b[0m\n",
      "\u001b[01;35mmask_LIDC-IDRI-0002_172.jpg\u001b[0m  \u001b[01;35mmask_LIDC-IDRI-0008_115.jpg\u001b[0m\n",
      "\u001b[01;35mmask_LIDC-IDRI-0002_173.jpg\u001b[0m  \u001b[01;35mmask_LIDC-IDRI-0008_116.jpg\u001b[0m\n",
      "\u001b[01;35mmask_LIDC-IDRI-0002_174.jpg\u001b[0m  \u001b[01;35mmask_LIDC-IDRI-0008_117.jpg\u001b[0m\n",
      "\u001b[01;35mmask_LIDC-IDRI-0002_175.jpg\u001b[0m  \u001b[01;35mmask_LIDC-IDRI-0008_118.jpg\u001b[0m\n",
      "\u001b[01;35mmask_LIDC-IDRI-0002_176.jpg\u001b[0m  \u001b[01;35mmask_LIDC-IDRI-0008_119.jpg\u001b[0m\n",
      "\u001b[01;35mmask_LIDC-IDRI-0002_177.jpg\u001b[0m  \u001b[01;35mmask_LIDC-IDRI-0008_12.jpg\u001b[0m\n",
      "\u001b[01;35mmask_LIDC-IDRI-0002_178.jpg\u001b[0m  \u001b[01;35mmask_LIDC-IDRI-0008_120.jpg\u001b[0m\n",
      "\u001b[01;35mmask_LIDC-IDRI-0002_179.jpg\u001b[0m  \u001b[01;35mmask_LIDC-IDRI-0008_121.jpg\u001b[0m\n",
      "\u001b[01;35mmask_LIDC-IDRI-0002_18.jpg\u001b[0m   \u001b[01;35mmask_LIDC-IDRI-0008_122.jpg\u001b[0m\n",
      "\u001b[01;35mmask_LIDC-IDRI-0002_180.jpg\u001b[0m  \u001b[01;35mmask_LIDC-IDRI-0008_123.jpg\u001b[0m\n",
      "\u001b[01;35mmask_LIDC-IDRI-0002_181.jpg\u001b[0m  \u001b[01;35mmask_LIDC-IDRI-0008_124.jpg\u001b[0m\n",
      "\u001b[01;35mmask_LIDC-IDRI-0002_182.jpg\u001b[0m  \u001b[01;35mmask_LIDC-IDRI-0008_125.jpg\u001b[0m\n",
      "\u001b[01;35mmask_LIDC-IDRI-0002_183.jpg\u001b[0m  \u001b[01;35mmask_LIDC-IDRI-0008_126.jpg\u001b[0m\n",
      "\u001b[01;35mmask_LIDC-IDRI-0002_184.jpg\u001b[0m  \u001b[01;35mmask_LIDC-IDRI-0008_127.jpg\u001b[0m\n",
      "\u001b[01;35mmask_LIDC-IDRI-0002_185.jpg\u001b[0m  \u001b[01;35mmask_LIDC-IDRI-0008_128.jpg\u001b[0m\n",
      "\u001b[01;35mmask_LIDC-IDRI-0002_186.jpg\u001b[0m  \u001b[01;35mmask_LIDC-IDRI-0008_129.jpg\u001b[0m\n",
      "\u001b[01;35mmask_LIDC-IDRI-0002_187.jpg\u001b[0m  \u001b[01;35mmask_LIDC-IDRI-0008_13.jpg\u001b[0m\n",
      "\u001b[01;35mmask_LIDC-IDRI-0002_188.jpg\u001b[0m  \u001b[01;35mmask_LIDC-IDRI-0008_130.jpg\u001b[0m\n",
      "\u001b[01;35mmask_LIDC-IDRI-0002_189.jpg\u001b[0m  \u001b[01;35mmask_LIDC-IDRI-0008_131.jpg\u001b[0m\n",
      "\u001b[01;35mmask_LIDC-IDRI-0002_19.jpg\u001b[0m   \u001b[01;35mmask_LIDC-IDRI-0008_132.jpg\u001b[0m\n",
      "\u001b[01;35mmask_LIDC-IDRI-0002_190.jpg\u001b[0m  \u001b[01;35mmask_LIDC-IDRI-0008_14.jpg\u001b[0m\n",
      "\u001b[01;35mmask_LIDC-IDRI-0002_191.jpg\u001b[0m  \u001b[01;35mmask_LIDC-IDRI-0008_15.jpg\u001b[0m\n",
      "\u001b[01;35mmask_LIDC-IDRI-0002_192.jpg\u001b[0m  \u001b[01;35mmask_LIDC-IDRI-0008_16.jpg\u001b[0m\n",
      "\u001b[01;35mmask_LIDC-IDRI-0002_193.jpg\u001b[0m  \u001b[01;35mmask_LIDC-IDRI-0008_17.jpg\u001b[0m\n",
      "\u001b[01;35mmask_LIDC-IDRI-0002_194.jpg\u001b[0m  \u001b[01;35mmask_LIDC-IDRI-0008_18.jpg\u001b[0m\n",
      "\u001b[01;35mmask_LIDC-IDRI-0002_195.jpg\u001b[0m  \u001b[01;35mmask_LIDC-IDRI-0008_19.jpg\u001b[0m\n",
      "\u001b[01;35mmask_LIDC-IDRI-0002_196.jpg\u001b[0m  \u001b[01;35mmask_LIDC-IDRI-0008_2.jpg\u001b[0m\n",
      "\u001b[01;35mmask_LIDC-IDRI-0002_197.jpg\u001b[0m  \u001b[01;35mmask_LIDC-IDRI-0008_20.jpg\u001b[0m\n",
      "\u001b[01;35mmask_LIDC-IDRI-0002_198.jpg\u001b[0m  \u001b[01;35mmask_LIDC-IDRI-0008_21.jpg\u001b[0m\n",
      "\u001b[01;35mmask_LIDC-IDRI-0002_199.jpg\u001b[0m  \u001b[01;35mmask_LIDC-IDRI-0008_22.jpg\u001b[0m\n",
      "\u001b[01;35mmask_LIDC-IDRI-0002_2.jpg\u001b[0m    \u001b[01;35mmask_LIDC-IDRI-0008_23.jpg\u001b[0m\n",
      "\u001b[01;35mmask_LIDC-IDRI-0002_20.jpg\u001b[0m   \u001b[01;35mmask_LIDC-IDRI-0008_24.jpg\u001b[0m\n",
      "\u001b[01;35mmask_LIDC-IDRI-0002_200.jpg\u001b[0m  \u001b[01;35mmask_LIDC-IDRI-0008_25.jpg\u001b[0m\n",
      "\u001b[01;35mmask_LIDC-IDRI-0002_201.jpg\u001b[0m  \u001b[01;35mmask_LIDC-IDRI-0008_26.jpg\u001b[0m\n",
      "\u001b[01;35mmask_LIDC-IDRI-0002_202.jpg\u001b[0m  \u001b[01;35mmask_LIDC-IDRI-0008_27.jpg\u001b[0m\n",
      "\u001b[01;35mmask_LIDC-IDRI-0002_203.jpg\u001b[0m  \u001b[01;35mmask_LIDC-IDRI-0008_28.jpg\u001b[0m\n",
      "\u001b[01;35mmask_LIDC-IDRI-0002_204.jpg\u001b[0m  \u001b[01;35mmask_LIDC-IDRI-0008_29.jpg\u001b[0m\n",
      "\u001b[01;35mmask_LIDC-IDRI-0002_205.jpg\u001b[0m  \u001b[01;35mmask_LIDC-IDRI-0008_3.jpg\u001b[0m\n",
      "\u001b[01;35mmask_LIDC-IDRI-0002_206.jpg\u001b[0m  \u001b[01;35mmask_LIDC-IDRI-0008_30.jpg\u001b[0m\n",
      "\u001b[01;35mmask_LIDC-IDRI-0002_207.jpg\u001b[0m  \u001b[01;35mmask_LIDC-IDRI-0008_31.jpg\u001b[0m\n",
      "\u001b[01;35mmask_LIDC-IDRI-0002_208.jpg\u001b[0m  \u001b[01;35mmask_LIDC-IDRI-0008_32.jpg\u001b[0m\n",
      "\u001b[01;35mmask_LIDC-IDRI-0002_209.jpg\u001b[0m  \u001b[01;35mmask_LIDC-IDRI-0008_33.jpg\u001b[0m\n",
      "\u001b[01;35mmask_LIDC-IDRI-0002_21.jpg\u001b[0m   \u001b[01;35mmask_LIDC-IDRI-0008_34.jpg\u001b[0m\n",
      "\u001b[01;35mmask_LIDC-IDRI-0002_210.jpg\u001b[0m  \u001b[01;35mmask_LIDC-IDRI-0008_35.jpg\u001b[0m\n",
      "\u001b[01;35mmask_LIDC-IDRI-0002_211.jpg\u001b[0m  \u001b[01;35mmask_LIDC-IDRI-0008_36.jpg\u001b[0m\n",
      "\u001b[01;35mmask_LIDC-IDRI-0002_212.jpg\u001b[0m  \u001b[01;35mmask_LIDC-IDRI-0008_37.jpg\u001b[0m\n",
      "\u001b[01;35mmask_LIDC-IDRI-0002_213.jpg\u001b[0m  \u001b[01;35mmask_LIDC-IDRI-0008_38.jpg\u001b[0m\n",
      "\u001b[01;35mmask_LIDC-IDRI-0002_214.jpg\u001b[0m  \u001b[01;35mmask_LIDC-IDRI-0008_39.jpg\u001b[0m\n",
      "\u001b[01;35mmask_LIDC-IDRI-0002_215.jpg\u001b[0m  \u001b[01;35mmask_LIDC-IDRI-0008_4.jpg\u001b[0m\n",
      "\u001b[01;35mmask_LIDC-IDRI-0002_216.jpg\u001b[0m  \u001b[01;35mmask_LIDC-IDRI-0008_40.jpg\u001b[0m\n",
      "\u001b[01;35mmask_LIDC-IDRI-0002_217.jpg\u001b[0m  \u001b[01;35mmask_LIDC-IDRI-0008_41.jpg\u001b[0m\n",
      "\u001b[01;35mmask_LIDC-IDRI-0002_218.jpg\u001b[0m  \u001b[01;35mmask_LIDC-IDRI-0008_42.jpg\u001b[0m\n",
      "\u001b[01;35mmask_LIDC-IDRI-0002_219.jpg\u001b[0m  \u001b[01;35mmask_LIDC-IDRI-0008_43.jpg\u001b[0m\n",
      "\u001b[01;35mmask_LIDC-IDRI-0002_22.jpg\u001b[0m   \u001b[01;35mmask_LIDC-IDRI-0008_44.jpg\u001b[0m\n",
      "\u001b[01;35mmask_LIDC-IDRI-0002_220.jpg\u001b[0m  \u001b[01;35mmask_LIDC-IDRI-0008_45.jpg\u001b[0m\n",
      "\u001b[01;35mmask_LIDC-IDRI-0002_221.jpg\u001b[0m  \u001b[01;35mmask_LIDC-IDRI-0008_46.jpg\u001b[0m\n",
      "\u001b[01;35mmask_LIDC-IDRI-0002_222.jpg\u001b[0m  \u001b[01;35mmask_LIDC-IDRI-0008_47.jpg\u001b[0m\n",
      "\u001b[01;35mmask_LIDC-IDRI-0002_223.jpg\u001b[0m  \u001b[01;35mmask_LIDC-IDRI-0008_48.jpg\u001b[0m\n",
      "\u001b[01;35mmask_LIDC-IDRI-0002_224.jpg\u001b[0m  \u001b[01;35mmask_LIDC-IDRI-0008_49.jpg\u001b[0m\n",
      "\u001b[01;35mmask_LIDC-IDRI-0002_225.jpg\u001b[0m  \u001b[01;35mmask_LIDC-IDRI-0008_5.jpg\u001b[0m\n",
      "\u001b[01;35mmask_LIDC-IDRI-0002_226.jpg\u001b[0m  \u001b[01;35mmask_LIDC-IDRI-0008_50.jpg\u001b[0m\n",
      "\u001b[01;35mmask_LIDC-IDRI-0002_227.jpg\u001b[0m  \u001b[01;35mmask_LIDC-IDRI-0008_51.jpg\u001b[0m\n",
      "\u001b[01;35mmask_LIDC-IDRI-0002_228.jpg\u001b[0m  \u001b[01;35mmask_LIDC-IDRI-0008_52.jpg\u001b[0m\n",
      "\u001b[01;35mmask_LIDC-IDRI-0002_229.jpg\u001b[0m  \u001b[01;35mmask_LIDC-IDRI-0008_53.jpg\u001b[0m\n",
      "\u001b[01;35mmask_LIDC-IDRI-0002_23.jpg\u001b[0m   \u001b[01;35mmask_LIDC-IDRI-0008_54.jpg\u001b[0m\n",
      "\u001b[01;35mmask_LIDC-IDRI-0002_230.jpg\u001b[0m  \u001b[01;35mmask_LIDC-IDRI-0008_55.jpg\u001b[0m\n",
      "\u001b[01;35mmask_LIDC-IDRI-0002_231.jpg\u001b[0m  \u001b[01;35mmask_LIDC-IDRI-0008_56.jpg\u001b[0m\n",
      "\u001b[01;35mmask_LIDC-IDRI-0002_232.jpg\u001b[0m  \u001b[01;35mmask_LIDC-IDRI-0008_57.jpg\u001b[0m\n",
      "\u001b[01;35mmask_LIDC-IDRI-0002_233.jpg\u001b[0m  \u001b[01;35mmask_LIDC-IDRI-0008_58.jpg\u001b[0m\n",
      "\u001b[01;35mmask_LIDC-IDRI-0002_234.jpg\u001b[0m  \u001b[01;35mmask_LIDC-IDRI-0008_59.jpg\u001b[0m\n",
      "\u001b[01;35mmask_LIDC-IDRI-0002_235.jpg\u001b[0m  \u001b[01;35mmask_LIDC-IDRI-0008_6.jpg\u001b[0m\n",
      "\u001b[01;35mmask_LIDC-IDRI-0002_236.jpg\u001b[0m  \u001b[01;35mmask_LIDC-IDRI-0008_60.jpg\u001b[0m\n",
      "\u001b[01;35mmask_LIDC-IDRI-0002_237.jpg\u001b[0m  \u001b[01;35mmask_LIDC-IDRI-0008_61.jpg\u001b[0m\n",
      "\u001b[01;35mmask_LIDC-IDRI-0002_238.jpg\u001b[0m  \u001b[01;35mmask_LIDC-IDRI-0008_62.jpg\u001b[0m\n",
      "\u001b[01;35mmask_LIDC-IDRI-0002_239.jpg\u001b[0m  \u001b[01;35mmask_LIDC-IDRI-0008_63.jpg\u001b[0m\n",
      "\u001b[01;35mmask_LIDC-IDRI-0002_24.jpg\u001b[0m   \u001b[01;35mmask_LIDC-IDRI-0008_64.jpg\u001b[0m\n",
      "\u001b[01;35mmask_LIDC-IDRI-0002_240.jpg\u001b[0m  \u001b[01;35mmask_LIDC-IDRI-0008_65.jpg\u001b[0m\n",
      "\u001b[01;35mmask_LIDC-IDRI-0002_241.jpg\u001b[0m  \u001b[01;35mmask_LIDC-IDRI-0008_66.jpg\u001b[0m\n",
      "\u001b[01;35mmask_LIDC-IDRI-0002_242.jpg\u001b[0m  \u001b[01;35mmask_LIDC-IDRI-0008_67.jpg\u001b[0m\n",
      "\u001b[01;35mmask_LIDC-IDRI-0002_243.jpg\u001b[0m  \u001b[01;35mmask_LIDC-IDRI-0008_68.jpg\u001b[0m\n",
      "\u001b[01;35mmask_LIDC-IDRI-0002_244.jpg\u001b[0m  \u001b[01;35mmask_LIDC-IDRI-0008_69.jpg\u001b[0m\n",
      "\u001b[01;35mmask_LIDC-IDRI-0002_245.jpg\u001b[0m  \u001b[01;35mmask_LIDC-IDRI-0008_7.jpg\u001b[0m\n",
      "\u001b[01;35mmask_LIDC-IDRI-0002_246.jpg\u001b[0m  \u001b[01;35mmask_LIDC-IDRI-0008_70.jpg\u001b[0m\n",
      "\u001b[01;35mmask_LIDC-IDRI-0002_247.jpg\u001b[0m  \u001b[01;35mmask_LIDC-IDRI-0008_71.jpg\u001b[0m\n",
      "\u001b[01;35mmask_LIDC-IDRI-0002_248.jpg\u001b[0m  \u001b[01;35mmask_LIDC-IDRI-0008_72.jpg\u001b[0m\n",
      "\u001b[01;35mmask_LIDC-IDRI-0002_249.jpg\u001b[0m  \u001b[01;35mmask_LIDC-IDRI-0008_73.jpg\u001b[0m\n",
      "\u001b[01;35mmask_LIDC-IDRI-0002_25.jpg\u001b[0m   \u001b[01;35mmask_LIDC-IDRI-0008_74.jpg\u001b[0m\n",
      "\u001b[01;35mmask_LIDC-IDRI-0002_250.jpg\u001b[0m  \u001b[01;35mmask_LIDC-IDRI-0008_75.jpg\u001b[0m\n",
      "\u001b[01;35mmask_LIDC-IDRI-0002_251.jpg\u001b[0m  \u001b[01;35mmask_LIDC-IDRI-0008_76.jpg\u001b[0m\n",
      "\u001b[01;35mmask_LIDC-IDRI-0002_252.jpg\u001b[0m  \u001b[01;35mmask_LIDC-IDRI-0008_77.jpg\u001b[0m\n",
      "\u001b[01;35mmask_LIDC-IDRI-0002_253.jpg\u001b[0m  \u001b[01;35mmask_LIDC-IDRI-0008_78.jpg\u001b[0m\n",
      "\u001b[01;35mmask_LIDC-IDRI-0002_254.jpg\u001b[0m  \u001b[01;35mmask_LIDC-IDRI-0008_79.jpg\u001b[0m\n",
      "\u001b[01;35mmask_LIDC-IDRI-0002_255.jpg\u001b[0m  \u001b[01;35mmask_LIDC-IDRI-0008_8.jpg\u001b[0m\n",
      "\u001b[01;35mmask_LIDC-IDRI-0002_256.jpg\u001b[0m  \u001b[01;35mmask_LIDC-IDRI-0008_80.jpg\u001b[0m\n",
      "\u001b[01;35mmask_LIDC-IDRI-0002_257.jpg\u001b[0m  \u001b[01;35mmask_LIDC-IDRI-0008_81.jpg\u001b[0m\n",
      "\u001b[01;35mmask_LIDC-IDRI-0002_258.jpg\u001b[0m  \u001b[01;35mmask_LIDC-IDRI-0008_82.jpg\u001b[0m\n",
      "\u001b[01;35mmask_LIDC-IDRI-0002_259.jpg\u001b[0m  \u001b[01;35mmask_LIDC-IDRI-0008_83.jpg\u001b[0m\n",
      "\u001b[01;35mmask_LIDC-IDRI-0002_26.jpg\u001b[0m   \u001b[01;35mmask_LIDC-IDRI-0008_84.jpg\u001b[0m\n",
      "\u001b[01;35mmask_LIDC-IDRI-0002_260.jpg\u001b[0m  \u001b[01;35mmask_LIDC-IDRI-0008_85.jpg\u001b[0m\n",
      "\u001b[01;35mmask_LIDC-IDRI-0002_27.jpg\u001b[0m   \u001b[01;35mmask_LIDC-IDRI-0008_86.jpg\u001b[0m\n",
      "\u001b[01;35mmask_LIDC-IDRI-0002_28.jpg\u001b[0m   \u001b[01;35mmask_LIDC-IDRI-0008_87.jpg\u001b[0m\n",
      "\u001b[01;35mmask_LIDC-IDRI-0002_29.jpg\u001b[0m   \u001b[01;35mmask_LIDC-IDRI-0008_88.jpg\u001b[0m\n",
      "\u001b[01;35mmask_LIDC-IDRI-0002_3.jpg\u001b[0m    \u001b[01;35mmask_LIDC-IDRI-0008_89.jpg\u001b[0m\n",
      "\u001b[01;35mmask_LIDC-IDRI-0002_30.jpg\u001b[0m   \u001b[01;35mmask_LIDC-IDRI-0008_9.jpg\u001b[0m\n",
      "\u001b[01;35mmask_LIDC-IDRI-0002_31.jpg\u001b[0m   \u001b[01;35mmask_LIDC-IDRI-0008_90.jpg\u001b[0m\n",
      "\u001b[01;35mmask_LIDC-IDRI-0002_32.jpg\u001b[0m   \u001b[01;35mmask_LIDC-IDRI-0008_91.jpg\u001b[0m\n",
      "\u001b[01;35mmask_LIDC-IDRI-0002_33.jpg\u001b[0m   \u001b[01;35mmask_LIDC-IDRI-0008_92.jpg\u001b[0m\n",
      "\u001b[01;35mmask_LIDC-IDRI-0002_34.jpg\u001b[0m   \u001b[01;35mmask_LIDC-IDRI-0008_93.jpg\u001b[0m\n",
      "\u001b[01;35mmask_LIDC-IDRI-0002_35.jpg\u001b[0m   \u001b[01;35mmask_LIDC-IDRI-0008_94.jpg\u001b[0m\n",
      "\u001b[01;35mmask_LIDC-IDRI-0002_36.jpg\u001b[0m   \u001b[01;35mmask_LIDC-IDRI-0008_95.jpg\u001b[0m\n",
      "\u001b[01;35mmask_LIDC-IDRI-0002_37.jpg\u001b[0m   \u001b[01;35mmask_LIDC-IDRI-0008_96.jpg\u001b[0m\n",
      "\u001b[01;35mmask_LIDC-IDRI-0002_38.jpg\u001b[0m   \u001b[01;35mmask_LIDC-IDRI-0008_97.jpg\u001b[0m\n",
      "\u001b[01;35mmask_LIDC-IDRI-0002_39.jpg\u001b[0m   \u001b[01;35mmask_LIDC-IDRI-0008_98.jpg\u001b[0m\n",
      "\u001b[01;35mmask_LIDC-IDRI-0002_4.jpg\u001b[0m    \u001b[01;35mmask_LIDC-IDRI-0008_99.jpg\u001b[0m\n",
      "\u001b[01;35mmask_LIDC-IDRI-0002_40.jpg\u001b[0m   \u001b[01;35mmask_LIDC-IDRI-0009_0.jpg\u001b[0m\n",
      "\u001b[01;35mmask_LIDC-IDRI-0002_41.jpg\u001b[0m   \u001b[01;35mmask_LIDC-IDRI-0009_1.jpg\u001b[0m\n",
      "\u001b[01;35mmask_LIDC-IDRI-0002_42.jpg\u001b[0m   \u001b[01;35mmask_LIDC-IDRI-0009_10.jpg\u001b[0m\n",
      "\u001b[01;35mmask_LIDC-IDRI-0002_43.jpg\u001b[0m   \u001b[01;35mmask_LIDC-IDRI-0009_100.jpg\u001b[0m\n",
      "\u001b[01;35mmask_LIDC-IDRI-0002_44.jpg\u001b[0m   \u001b[01;35mmask_LIDC-IDRI-0009_101.jpg\u001b[0m\n",
      "\u001b[01;35mmask_LIDC-IDRI-0002_45.jpg\u001b[0m   \u001b[01;35mmask_LIDC-IDRI-0009_102.jpg\u001b[0m\n",
      "\u001b[01;35mmask_LIDC-IDRI-0002_46.jpg\u001b[0m   \u001b[01;35mmask_LIDC-IDRI-0009_103.jpg\u001b[0m\n",
      "\u001b[01;35mmask_LIDC-IDRI-0002_47.jpg\u001b[0m   \u001b[01;35mmask_LIDC-IDRI-0009_104.jpg\u001b[0m\n",
      "\u001b[01;35mmask_LIDC-IDRI-0002_48.jpg\u001b[0m   \u001b[01;35mmask_LIDC-IDRI-0009_105.jpg\u001b[0m\n",
      "\u001b[01;35mmask_LIDC-IDRI-0002_49.jpg\u001b[0m   \u001b[01;35mmask_LIDC-IDRI-0009_106.jpg\u001b[0m\n",
      "\u001b[01;35mmask_LIDC-IDRI-0002_5.jpg\u001b[0m    \u001b[01;35mmask_LIDC-IDRI-0009_107.jpg\u001b[0m\n",
      "\u001b[01;35mmask_LIDC-IDRI-0002_50.jpg\u001b[0m   \u001b[01;35mmask_LIDC-IDRI-0009_108.jpg\u001b[0m\n",
      "\u001b[01;35mmask_LIDC-IDRI-0002_51.jpg\u001b[0m   \u001b[01;35mmask_LIDC-IDRI-0009_109.jpg\u001b[0m\n",
      "\u001b[01;35mmask_LIDC-IDRI-0002_52.jpg\u001b[0m   \u001b[01;35mmask_LIDC-IDRI-0009_11.jpg\u001b[0m\n",
      "\u001b[01;35mmask_LIDC-IDRI-0002_53.jpg\u001b[0m   \u001b[01;35mmask_LIDC-IDRI-0009_110.jpg\u001b[0m\n",
      "\u001b[01;35mmask_LIDC-IDRI-0002_54.jpg\u001b[0m   \u001b[01;35mmask_LIDC-IDRI-0009_111.jpg\u001b[0m\n",
      "\u001b[01;35mmask_LIDC-IDRI-0002_55.jpg\u001b[0m   \u001b[01;35mmask_LIDC-IDRI-0009_112.jpg\u001b[0m\n",
      "\u001b[01;35mmask_LIDC-IDRI-0002_56.jpg\u001b[0m   \u001b[01;35mmask_LIDC-IDRI-0009_113.jpg\u001b[0m\n",
      "\u001b[01;35mmask_LIDC-IDRI-0002_57.jpg\u001b[0m   \u001b[01;35mmask_LIDC-IDRI-0009_114.jpg\u001b[0m\n",
      "\u001b[01;35mmask_LIDC-IDRI-0002_58.jpg\u001b[0m   \u001b[01;35mmask_LIDC-IDRI-0009_115.jpg\u001b[0m\n",
      "\u001b[01;35mmask_LIDC-IDRI-0002_59.jpg\u001b[0m   \u001b[01;35mmask_LIDC-IDRI-0009_116.jpg\u001b[0m\n",
      "\u001b[01;35mmask_LIDC-IDRI-0002_6.jpg\u001b[0m    \u001b[01;35mmask_LIDC-IDRI-0009_117.jpg\u001b[0m\n",
      "\u001b[01;35mmask_LIDC-IDRI-0002_60.jpg\u001b[0m   \u001b[01;35mmask_LIDC-IDRI-0009_118.jpg\u001b[0m\n",
      "\u001b[01;35mmask_LIDC-IDRI-0002_61.jpg\u001b[0m   \u001b[01;35mmask_LIDC-IDRI-0009_119.jpg\u001b[0m\n",
      "\u001b[01;35mmask_LIDC-IDRI-0002_62.jpg\u001b[0m   \u001b[01;35mmask_LIDC-IDRI-0009_12.jpg\u001b[0m\n",
      "\u001b[01;35mmask_LIDC-IDRI-0002_63.jpg\u001b[0m   \u001b[01;35mmask_LIDC-IDRI-0009_120.jpg\u001b[0m\n",
      "\u001b[01;35mmask_LIDC-IDRI-0002_64.jpg\u001b[0m   \u001b[01;35mmask_LIDC-IDRI-0009_121.jpg\u001b[0m\n",
      "\u001b[01;35mmask_LIDC-IDRI-0002_65.jpg\u001b[0m   \u001b[01;35mmask_LIDC-IDRI-0009_122.jpg\u001b[0m\n",
      "\u001b[01;35mmask_LIDC-IDRI-0002_66.jpg\u001b[0m   \u001b[01;35mmask_LIDC-IDRI-0009_123.jpg\u001b[0m\n",
      "\u001b[01;35mmask_LIDC-IDRI-0002_67.jpg\u001b[0m   \u001b[01;35mmask_LIDC-IDRI-0009_124.jpg\u001b[0m\n",
      "\u001b[01;35mmask_LIDC-IDRI-0002_68.jpg\u001b[0m   \u001b[01;35mmask_LIDC-IDRI-0009_125.jpg\u001b[0m\n",
      "\u001b[01;35mmask_LIDC-IDRI-0002_69.jpg\u001b[0m   \u001b[01;35mmask_LIDC-IDRI-0009_126.jpg\u001b[0m\n",
      "\u001b[01;35mmask_LIDC-IDRI-0002_7.jpg\u001b[0m    \u001b[01;35mmask_LIDC-IDRI-0009_127.jpg\u001b[0m\n",
      "\u001b[01;35mmask_LIDC-IDRI-0002_70.jpg\u001b[0m   \u001b[01;35mmask_LIDC-IDRI-0009_128.jpg\u001b[0m\n",
      "\u001b[01;35mmask_LIDC-IDRI-0002_71.jpg\u001b[0m   \u001b[01;35mmask_LIDC-IDRI-0009_129.jpg\u001b[0m\n",
      "\u001b[01;35mmask_LIDC-IDRI-0002_72.jpg\u001b[0m   \u001b[01;35mmask_LIDC-IDRI-0009_13.jpg\u001b[0m\n",
      "\u001b[01;35mmask_LIDC-IDRI-0002_73.jpg\u001b[0m   \u001b[01;35mmask_LIDC-IDRI-0009_130.jpg\u001b[0m\n",
      "\u001b[01;35mmask_LIDC-IDRI-0002_74.jpg\u001b[0m   \u001b[01;35mmask_LIDC-IDRI-0009_131.jpg\u001b[0m\n",
      "\u001b[01;35mmask_LIDC-IDRI-0002_75.jpg\u001b[0m   \u001b[01;35mmask_LIDC-IDRI-0009_132.jpg\u001b[0m\n",
      "\u001b[01;35mmask_LIDC-IDRI-0002_76.jpg\u001b[0m   \u001b[01;35mmask_LIDC-IDRI-0009_133.jpg\u001b[0m\n",
      "\u001b[01;35mmask_LIDC-IDRI-0002_77.jpg\u001b[0m   \u001b[01;35mmask_LIDC-IDRI-0009_134.jpg\u001b[0m\n",
      "\u001b[01;35mmask_LIDC-IDRI-0002_78.jpg\u001b[0m   \u001b[01;35mmask_LIDC-IDRI-0009_135.jpg\u001b[0m\n",
      "\u001b[01;35mmask_LIDC-IDRI-0002_79.jpg\u001b[0m   \u001b[01;35mmask_LIDC-IDRI-0009_136.jpg\u001b[0m\n",
      "\u001b[01;35mmask_LIDC-IDRI-0002_8.jpg\u001b[0m    \u001b[01;35mmask_LIDC-IDRI-0009_137.jpg\u001b[0m\n",
      "\u001b[01;35mmask_LIDC-IDRI-0002_80.jpg\u001b[0m   \u001b[01;35mmask_LIDC-IDRI-0009_138.jpg\u001b[0m\n",
      "\u001b[01;35mmask_LIDC-IDRI-0002_81.jpg\u001b[0m   \u001b[01;35mmask_LIDC-IDRI-0009_139.jpg\u001b[0m\n",
      "\u001b[01;35mmask_LIDC-IDRI-0002_82.jpg\u001b[0m   \u001b[01;35mmask_LIDC-IDRI-0009_14.jpg\u001b[0m\n",
      "\u001b[01;35mmask_LIDC-IDRI-0002_83.jpg\u001b[0m   \u001b[01;35mmask_LIDC-IDRI-0009_140.jpg\u001b[0m\n",
      "\u001b[01;35mmask_LIDC-IDRI-0002_84.jpg\u001b[0m   \u001b[01;35mmask_LIDC-IDRI-0009_141.jpg\u001b[0m\n",
      "\u001b[01;35mmask_LIDC-IDRI-0002_85.jpg\u001b[0m   \u001b[01;35mmask_LIDC-IDRI-0009_142.jpg\u001b[0m\n",
      "\u001b[01;35mmask_LIDC-IDRI-0002_86.jpg\u001b[0m   \u001b[01;35mmask_LIDC-IDRI-0009_143.jpg\u001b[0m\n",
      "\u001b[01;35mmask_LIDC-IDRI-0002_87.jpg\u001b[0m   \u001b[01;35mmask_LIDC-IDRI-0009_144.jpg\u001b[0m\n",
      "\u001b[01;35mmask_LIDC-IDRI-0002_88.jpg\u001b[0m   \u001b[01;35mmask_LIDC-IDRI-0009_145.jpg\u001b[0m\n",
      "\u001b[01;35mmask_LIDC-IDRI-0002_89.jpg\u001b[0m   \u001b[01;35mmask_LIDC-IDRI-0009_146.jpg\u001b[0m\n",
      "\u001b[01;35mmask_LIDC-IDRI-0002_9.jpg\u001b[0m    \u001b[01;35mmask_LIDC-IDRI-0009_147.jpg\u001b[0m\n",
      "\u001b[01;35mmask_LIDC-IDRI-0002_90.jpg\u001b[0m   \u001b[01;35mmask_LIDC-IDRI-0009_148.jpg\u001b[0m\n",
      "\u001b[01;35mmask_LIDC-IDRI-0002_91.jpg\u001b[0m   \u001b[01;35mmask_LIDC-IDRI-0009_149.jpg\u001b[0m\n",
      "\u001b[01;35mmask_LIDC-IDRI-0002_92.jpg\u001b[0m   \u001b[01;35mmask_LIDC-IDRI-0009_15.jpg\u001b[0m\n",
      "\u001b[01;35mmask_LIDC-IDRI-0002_93.jpg\u001b[0m   \u001b[01;35mmask_LIDC-IDRI-0009_150.jpg\u001b[0m\n",
      "\u001b[01;35mmask_LIDC-IDRI-0002_94.jpg\u001b[0m   \u001b[01;35mmask_LIDC-IDRI-0009_151.jpg\u001b[0m\n",
      "\u001b[01;35mmask_LIDC-IDRI-0002_95.jpg\u001b[0m   \u001b[01;35mmask_LIDC-IDRI-0009_152.jpg\u001b[0m\n",
      "\u001b[01;35mmask_LIDC-IDRI-0002_96.jpg\u001b[0m   \u001b[01;35mmask_LIDC-IDRI-0009_153.jpg\u001b[0m\n",
      "\u001b[01;35mmask_LIDC-IDRI-0002_97.jpg\u001b[0m   \u001b[01;35mmask_LIDC-IDRI-0009_154.jpg\u001b[0m\n",
      "\u001b[01;35mmask_LIDC-IDRI-0002_98.jpg\u001b[0m   \u001b[01;35mmask_LIDC-IDRI-0009_155.jpg\u001b[0m\n",
      "\u001b[01;35mmask_LIDC-IDRI-0002_99.jpg\u001b[0m   \u001b[01;35mmask_LIDC-IDRI-0009_156.jpg\u001b[0m\n",
      "\u001b[01;35mmask_LIDC-IDRI-0003_0.jpg\u001b[0m    \u001b[01;35mmask_LIDC-IDRI-0009_157.jpg\u001b[0m\n",
      "\u001b[01;35mmask_LIDC-IDRI-0003_1.jpg\u001b[0m    \u001b[01;35mmask_LIDC-IDRI-0009_158.jpg\u001b[0m\n",
      "\u001b[01;35mmask_LIDC-IDRI-0003_10.jpg\u001b[0m   \u001b[01;35mmask_LIDC-IDRI-0009_159.jpg\u001b[0m\n",
      "\u001b[01;35mmask_LIDC-IDRI-0003_100.jpg\u001b[0m  \u001b[01;35mmask_LIDC-IDRI-0009_16.jpg\u001b[0m\n",
      "\u001b[01;35mmask_LIDC-IDRI-0003_101.jpg\u001b[0m  \u001b[01;35mmask_LIDC-IDRI-0009_160.jpg\u001b[0m\n",
      "\u001b[01;35mmask_LIDC-IDRI-0003_102.jpg\u001b[0m  \u001b[01;35mmask_LIDC-IDRI-0009_161.jpg\u001b[0m\n",
      "\u001b[01;35mmask_LIDC-IDRI-0003_103.jpg\u001b[0m  \u001b[01;35mmask_LIDC-IDRI-0009_162.jpg\u001b[0m\n",
      "\u001b[01;35mmask_LIDC-IDRI-0003_104.jpg\u001b[0m  \u001b[01;35mmask_LIDC-IDRI-0009_163.jpg\u001b[0m\n",
      "\u001b[01;35mmask_LIDC-IDRI-0003_105.jpg\u001b[0m  \u001b[01;35mmask_LIDC-IDRI-0009_164.jpg\u001b[0m\n",
      "\u001b[01;35mmask_LIDC-IDRI-0003_106.jpg\u001b[0m  \u001b[01;35mmask_LIDC-IDRI-0009_165.jpg\u001b[0m\n",
      "\u001b[01;35mmask_LIDC-IDRI-0003_107.jpg\u001b[0m  \u001b[01;35mmask_LIDC-IDRI-0009_166.jpg\u001b[0m\n",
      "\u001b[01;35mmask_LIDC-IDRI-0003_108.jpg\u001b[0m  \u001b[01;35mmask_LIDC-IDRI-0009_167.jpg\u001b[0m\n",
      "\u001b[01;35mmask_LIDC-IDRI-0003_109.jpg\u001b[0m  \u001b[01;35mmask_LIDC-IDRI-0009_168.jpg\u001b[0m\n",
      "\u001b[01;35mmask_LIDC-IDRI-0003_11.jpg\u001b[0m   \u001b[01;35mmask_LIDC-IDRI-0009_169.jpg\u001b[0m\n",
      "\u001b[01;35mmask_LIDC-IDRI-0003_110.jpg\u001b[0m  \u001b[01;35mmask_LIDC-IDRI-0009_17.jpg\u001b[0m\n",
      "\u001b[01;35mmask_LIDC-IDRI-0003_111.jpg\u001b[0m  \u001b[01;35mmask_LIDC-IDRI-0009_170.jpg\u001b[0m\n",
      "\u001b[01;35mmask_LIDC-IDRI-0003_112.jpg\u001b[0m  \u001b[01;35mmask_LIDC-IDRI-0009_171.jpg\u001b[0m\n",
      "\u001b[01;35mmask_LIDC-IDRI-0003_113.jpg\u001b[0m  \u001b[01;35mmask_LIDC-IDRI-0009_172.jpg\u001b[0m\n",
      "\u001b[01;35mmask_LIDC-IDRI-0003_114.jpg\u001b[0m  \u001b[01;35mmask_LIDC-IDRI-0009_173.jpg\u001b[0m\n",
      "\u001b[01;35mmask_LIDC-IDRI-0003_115.jpg\u001b[0m  \u001b[01;35mmask_LIDC-IDRI-0009_174.jpg\u001b[0m\n",
      "\u001b[01;35mmask_LIDC-IDRI-0003_116.jpg\u001b[0m  \u001b[01;35mmask_LIDC-IDRI-0009_175.jpg\u001b[0m\n",
      "\u001b[01;35mmask_LIDC-IDRI-0003_117.jpg\u001b[0m  \u001b[01;35mmask_LIDC-IDRI-0009_176.jpg\u001b[0m\n",
      "\u001b[01;35mmask_LIDC-IDRI-0003_118.jpg\u001b[0m  \u001b[01;35mmask_LIDC-IDRI-0009_177.jpg\u001b[0m\n",
      "\u001b[01;35mmask_LIDC-IDRI-0003_119.jpg\u001b[0m  \u001b[01;35mmask_LIDC-IDRI-0009_178.jpg\u001b[0m\n",
      "\u001b[01;35mmask_LIDC-IDRI-0003_12.jpg\u001b[0m   \u001b[01;35mmask_LIDC-IDRI-0009_179.jpg\u001b[0m\n",
      "\u001b[01;35mmask_LIDC-IDRI-0003_120.jpg\u001b[0m  \u001b[01;35mmask_LIDC-IDRI-0009_18.jpg\u001b[0m\n",
      "\u001b[01;35mmask_LIDC-IDRI-0003_121.jpg\u001b[0m  \u001b[01;35mmask_LIDC-IDRI-0009_180.jpg\u001b[0m\n",
      "\u001b[01;35mmask_LIDC-IDRI-0003_122.jpg\u001b[0m  \u001b[01;35mmask_LIDC-IDRI-0009_181.jpg\u001b[0m\n",
      "\u001b[01;35mmask_LIDC-IDRI-0003_123.jpg\u001b[0m  \u001b[01;35mmask_LIDC-IDRI-0009_182.jpg\u001b[0m\n",
      "\u001b[01;35mmask_LIDC-IDRI-0003_124.jpg\u001b[0m  \u001b[01;35mmask_LIDC-IDRI-0009_183.jpg\u001b[0m\n",
      "\u001b[01;35mmask_LIDC-IDRI-0003_125.jpg\u001b[0m  \u001b[01;35mmask_LIDC-IDRI-0009_184.jpg\u001b[0m\n",
      "\u001b[01;35mmask_LIDC-IDRI-0003_126.jpg\u001b[0m  \u001b[01;35mmask_LIDC-IDRI-0009_185.jpg\u001b[0m\n",
      "\u001b[01;35mmask_LIDC-IDRI-0003_127.jpg\u001b[0m  \u001b[01;35mmask_LIDC-IDRI-0009_186.jpg\u001b[0m\n",
      "\u001b[01;35mmask_LIDC-IDRI-0003_128.jpg\u001b[0m  \u001b[01;35mmask_LIDC-IDRI-0009_187.jpg\u001b[0m\n",
      "\u001b[01;35mmask_LIDC-IDRI-0003_129.jpg\u001b[0m  \u001b[01;35mmask_LIDC-IDRI-0009_188.jpg\u001b[0m\n",
      "\u001b[01;35mmask_LIDC-IDRI-0003_13.jpg\u001b[0m   \u001b[01;35mmask_LIDC-IDRI-0009_189.jpg\u001b[0m\n",
      "\u001b[01;35mmask_LIDC-IDRI-0003_130.jpg\u001b[0m  \u001b[01;35mmask_LIDC-IDRI-0009_19.jpg\u001b[0m\n",
      "\u001b[01;35mmask_LIDC-IDRI-0003_131.jpg\u001b[0m  \u001b[01;35mmask_LIDC-IDRI-0009_190.jpg\u001b[0m\n",
      "\u001b[01;35mmask_LIDC-IDRI-0003_132.jpg\u001b[0m  \u001b[01;35mmask_LIDC-IDRI-0009_191.jpg\u001b[0m\n",
      "\u001b[01;35mmask_LIDC-IDRI-0003_133.jpg\u001b[0m  \u001b[01;35mmask_LIDC-IDRI-0009_192.jpg\u001b[0m\n",
      "\u001b[01;35mmask_LIDC-IDRI-0003_134.jpg\u001b[0m  \u001b[01;35mmask_LIDC-IDRI-0009_193.jpg\u001b[0m\n",
      "\u001b[01;35mmask_LIDC-IDRI-0003_135.jpg\u001b[0m  \u001b[01;35mmask_LIDC-IDRI-0009_194.jpg\u001b[0m\n",
      "\u001b[01;35mmask_LIDC-IDRI-0003_136.jpg\u001b[0m  \u001b[01;35mmask_LIDC-IDRI-0009_195.jpg\u001b[0m\n",
      "\u001b[01;35mmask_LIDC-IDRI-0003_137.jpg\u001b[0m  \u001b[01;35mmask_LIDC-IDRI-0009_196.jpg\u001b[0m\n",
      "\u001b[01;35mmask_LIDC-IDRI-0003_138.jpg\u001b[0m  \u001b[01;35mmask_LIDC-IDRI-0009_197.jpg\u001b[0m\n",
      "\u001b[01;35mmask_LIDC-IDRI-0003_139.jpg\u001b[0m  \u001b[01;35mmask_LIDC-IDRI-0009_198.jpg\u001b[0m\n",
      "\u001b[01;35mmask_LIDC-IDRI-0003_14.jpg\u001b[0m   \u001b[01;35mmask_LIDC-IDRI-0009_199.jpg\u001b[0m\n",
      "\u001b[01;35mmask_LIDC-IDRI-0003_15.jpg\u001b[0m   \u001b[01;35mmask_LIDC-IDRI-0009_2.jpg\u001b[0m\n",
      "\u001b[01;35mmask_LIDC-IDRI-0003_16.jpg\u001b[0m   \u001b[01;35mmask_LIDC-IDRI-0009_20.jpg\u001b[0m\n",
      "\u001b[01;35mmask_LIDC-IDRI-0003_17.jpg\u001b[0m   \u001b[01;35mmask_LIDC-IDRI-0009_200.jpg\u001b[0m\n",
      "\u001b[01;35mmask_LIDC-IDRI-0003_18.jpg\u001b[0m   \u001b[01;35mmask_LIDC-IDRI-0009_201.jpg\u001b[0m\n",
      "\u001b[01;35mmask_LIDC-IDRI-0003_19.jpg\u001b[0m   \u001b[01;35mmask_LIDC-IDRI-0009_202.jpg\u001b[0m\n",
      "\u001b[01;35mmask_LIDC-IDRI-0003_2.jpg\u001b[0m    \u001b[01;35mmask_LIDC-IDRI-0009_203.jpg\u001b[0m\n",
      "\u001b[01;35mmask_LIDC-IDRI-0003_20.jpg\u001b[0m   \u001b[01;35mmask_LIDC-IDRI-0009_204.jpg\u001b[0m\n",
      "\u001b[01;35mmask_LIDC-IDRI-0003_21.jpg\u001b[0m   \u001b[01;35mmask_LIDC-IDRI-0009_205.jpg\u001b[0m\n",
      "\u001b[01;35mmask_LIDC-IDRI-0003_22.jpg\u001b[0m   \u001b[01;35mmask_LIDC-IDRI-0009_206.jpg\u001b[0m\n",
      "\u001b[01;35mmask_LIDC-IDRI-0003_23.jpg\u001b[0m   \u001b[01;35mmask_LIDC-IDRI-0009_207.jpg\u001b[0m\n",
      "\u001b[01;35mmask_LIDC-IDRI-0003_24.jpg\u001b[0m   \u001b[01;35mmask_LIDC-IDRI-0009_208.jpg\u001b[0m\n",
      "\u001b[01;35mmask_LIDC-IDRI-0003_25.jpg\u001b[0m   \u001b[01;35mmask_LIDC-IDRI-0009_209.jpg\u001b[0m\n",
      "\u001b[01;35mmask_LIDC-IDRI-0003_26.jpg\u001b[0m   \u001b[01;35mmask_LIDC-IDRI-0009_21.jpg\u001b[0m\n",
      "\u001b[01;35mmask_LIDC-IDRI-0003_27.jpg\u001b[0m   \u001b[01;35mmask_LIDC-IDRI-0009_210.jpg\u001b[0m\n",
      "\u001b[01;35mmask_LIDC-IDRI-0003_28.jpg\u001b[0m   \u001b[01;35mmask_LIDC-IDRI-0009_211.jpg\u001b[0m\n",
      "\u001b[01;35mmask_LIDC-IDRI-0003_29.jpg\u001b[0m   \u001b[01;35mmask_LIDC-IDRI-0009_212.jpg\u001b[0m\n",
      "\u001b[01;35mmask_LIDC-IDRI-0003_3.jpg\u001b[0m    \u001b[01;35mmask_LIDC-IDRI-0009_213.jpg\u001b[0m\n",
      "\u001b[01;35mmask_LIDC-IDRI-0003_30.jpg\u001b[0m   \u001b[01;35mmask_LIDC-IDRI-0009_214.jpg\u001b[0m\n",
      "\u001b[01;35mmask_LIDC-IDRI-0003_31.jpg\u001b[0m   \u001b[01;35mmask_LIDC-IDRI-0009_215.jpg\u001b[0m\n",
      "\u001b[01;35mmask_LIDC-IDRI-0003_32.jpg\u001b[0m   \u001b[01;35mmask_LIDC-IDRI-0009_216.jpg\u001b[0m\n",
      "\u001b[01;35mmask_LIDC-IDRI-0003_33.jpg\u001b[0m   \u001b[01;35mmask_LIDC-IDRI-0009_217.jpg\u001b[0m\n",
      "\u001b[01;35mmask_LIDC-IDRI-0003_34.jpg\u001b[0m   \u001b[01;35mmask_LIDC-IDRI-0009_218.jpg\u001b[0m\n",
      "\u001b[01;35mmask_LIDC-IDRI-0003_35.jpg\u001b[0m   \u001b[01;35mmask_LIDC-IDRI-0009_219.jpg\u001b[0m\n",
      "\u001b[01;35mmask_LIDC-IDRI-0003_36.jpg\u001b[0m   \u001b[01;35mmask_LIDC-IDRI-0009_22.jpg\u001b[0m\n",
      "\u001b[01;35mmask_LIDC-IDRI-0003_37.jpg\u001b[0m   \u001b[01;35mmask_LIDC-IDRI-0009_220.jpg\u001b[0m\n",
      "\u001b[01;35mmask_LIDC-IDRI-0003_38.jpg\u001b[0m   \u001b[01;35mmask_LIDC-IDRI-0009_221.jpg\u001b[0m\n",
      "\u001b[01;35mmask_LIDC-IDRI-0003_39.jpg\u001b[0m   \u001b[01;35mmask_LIDC-IDRI-0009_222.jpg\u001b[0m\n",
      "\u001b[01;35mmask_LIDC-IDRI-0003_4.jpg\u001b[0m    \u001b[01;35mmask_LIDC-IDRI-0009_223.jpg\u001b[0m\n",
      "\u001b[01;35mmask_LIDC-IDRI-0003_40.jpg\u001b[0m   \u001b[01;35mmask_LIDC-IDRI-0009_224.jpg\u001b[0m\n",
      "\u001b[01;35mmask_LIDC-IDRI-0003_41.jpg\u001b[0m   \u001b[01;35mmask_LIDC-IDRI-0009_225.jpg\u001b[0m\n",
      "\u001b[01;35mmask_LIDC-IDRI-0003_42.jpg\u001b[0m   \u001b[01;35mmask_LIDC-IDRI-0009_226.jpg\u001b[0m\n",
      "\u001b[01;35mmask_LIDC-IDRI-0003_43.jpg\u001b[0m   \u001b[01;35mmask_LIDC-IDRI-0009_227.jpg\u001b[0m\n",
      "\u001b[01;35mmask_LIDC-IDRI-0003_44.jpg\u001b[0m   \u001b[01;35mmask_LIDC-IDRI-0009_228.jpg\u001b[0m\n",
      "\u001b[01;35mmask_LIDC-IDRI-0003_45.jpg\u001b[0m   \u001b[01;35mmask_LIDC-IDRI-0009_229.jpg\u001b[0m\n",
      "\u001b[01;35mmask_LIDC-IDRI-0003_46.jpg\u001b[0m   \u001b[01;35mmask_LIDC-IDRI-0009_23.jpg\u001b[0m\n",
      "\u001b[01;35mmask_LIDC-IDRI-0003_47.jpg\u001b[0m   \u001b[01;35mmask_LIDC-IDRI-0009_230.jpg\u001b[0m\n",
      "\u001b[01;35mmask_LIDC-IDRI-0003_48.jpg\u001b[0m   \u001b[01;35mmask_LIDC-IDRI-0009_231.jpg\u001b[0m\n",
      "\u001b[01;35mmask_LIDC-IDRI-0003_49.jpg\u001b[0m   \u001b[01;35mmask_LIDC-IDRI-0009_232.jpg\u001b[0m\n",
      "\u001b[01;35mmask_LIDC-IDRI-0003_5.jpg\u001b[0m    \u001b[01;35mmask_LIDC-IDRI-0009_233.jpg\u001b[0m\n",
      "\u001b[01;35mmask_LIDC-IDRI-0003_50.jpg\u001b[0m   \u001b[01;35mmask_LIDC-IDRI-0009_234.jpg\u001b[0m\n",
      "\u001b[01;35mmask_LIDC-IDRI-0003_51.jpg\u001b[0m   \u001b[01;35mmask_LIDC-IDRI-0009_235.jpg\u001b[0m\n",
      "\u001b[01;35mmask_LIDC-IDRI-0003_52.jpg\u001b[0m   \u001b[01;35mmask_LIDC-IDRI-0009_236.jpg\u001b[0m\n",
      "\u001b[01;35mmask_LIDC-IDRI-0003_53.jpg\u001b[0m   \u001b[01;35mmask_LIDC-IDRI-0009_237.jpg\u001b[0m\n",
      "\u001b[01;35mmask_LIDC-IDRI-0003_54.jpg\u001b[0m   \u001b[01;35mmask_LIDC-IDRI-0009_238.jpg\u001b[0m\n",
      "\u001b[01;35mmask_LIDC-IDRI-0003_55.jpg\u001b[0m   \u001b[01;35mmask_LIDC-IDRI-0009_239.jpg\u001b[0m\n",
      "\u001b[01;35mmask_LIDC-IDRI-0003_56.jpg\u001b[0m   \u001b[01;35mmask_LIDC-IDRI-0009_24.jpg\u001b[0m\n",
      "\u001b[01;35mmask_LIDC-IDRI-0003_57.jpg\u001b[0m   \u001b[01;35mmask_LIDC-IDRI-0009_240.jpg\u001b[0m\n",
      "\u001b[01;35mmask_LIDC-IDRI-0003_58.jpg\u001b[0m   \u001b[01;35mmask_LIDC-IDRI-0009_241.jpg\u001b[0m\n",
      "\u001b[01;35mmask_LIDC-IDRI-0003_59.jpg\u001b[0m   \u001b[01;35mmask_LIDC-IDRI-0009_242.jpg\u001b[0m\n",
      "\u001b[01;35mmask_LIDC-IDRI-0003_6.jpg\u001b[0m    \u001b[01;35mmask_LIDC-IDRI-0009_243.jpg\u001b[0m\n",
      "\u001b[01;35mmask_LIDC-IDRI-0003_60.jpg\u001b[0m   \u001b[01;35mmask_LIDC-IDRI-0009_244.jpg\u001b[0m\n",
      "\u001b[01;35mmask_LIDC-IDRI-0003_61.jpg\u001b[0m   \u001b[01;35mmask_LIDC-IDRI-0009_245.jpg\u001b[0m\n",
      "\u001b[01;35mmask_LIDC-IDRI-0003_62.jpg\u001b[0m   \u001b[01;35mmask_LIDC-IDRI-0009_246.jpg\u001b[0m\n",
      "\u001b[01;35mmask_LIDC-IDRI-0003_63.jpg\u001b[0m   \u001b[01;35mmask_LIDC-IDRI-0009_247.jpg\u001b[0m\n",
      "\u001b[01;35mmask_LIDC-IDRI-0003_64.jpg\u001b[0m   \u001b[01;35mmask_LIDC-IDRI-0009_248.jpg\u001b[0m\n",
      "\u001b[01;35mmask_LIDC-IDRI-0003_65.jpg\u001b[0m   \u001b[01;35mmask_LIDC-IDRI-0009_249.jpg\u001b[0m\n",
      "\u001b[01;35mmask_LIDC-IDRI-0003_66.jpg\u001b[0m   \u001b[01;35mmask_LIDC-IDRI-0009_25.jpg\u001b[0m\n",
      "\u001b[01;35mmask_LIDC-IDRI-0003_67.jpg\u001b[0m   \u001b[01;35mmask_LIDC-IDRI-0009_250.jpg\u001b[0m\n",
      "\u001b[01;35mmask_LIDC-IDRI-0003_68.jpg\u001b[0m   \u001b[01;35mmask_LIDC-IDRI-0009_251.jpg\u001b[0m\n",
      "\u001b[01;35mmask_LIDC-IDRI-0003_69.jpg\u001b[0m   \u001b[01;35mmask_LIDC-IDRI-0009_252.jpg\u001b[0m\n",
      "\u001b[01;35mmask_LIDC-IDRI-0003_7.jpg\u001b[0m    \u001b[01;35mmask_LIDC-IDRI-0009_253.jpg\u001b[0m\n",
      "\u001b[01;35mmask_LIDC-IDRI-0003_70.jpg\u001b[0m   \u001b[01;35mmask_LIDC-IDRI-0009_254.jpg\u001b[0m\n",
      "\u001b[01;35mmask_LIDC-IDRI-0003_71.jpg\u001b[0m   \u001b[01;35mmask_LIDC-IDRI-0009_255.jpg\u001b[0m\n",
      "\u001b[01;35mmask_LIDC-IDRI-0003_72.jpg\u001b[0m   \u001b[01;35mmask_LIDC-IDRI-0009_26.jpg\u001b[0m\n",
      "\u001b[01;35mmask_LIDC-IDRI-0003_73.jpg\u001b[0m   \u001b[01;35mmask_LIDC-IDRI-0009_27.jpg\u001b[0m\n",
      "\u001b[01;35mmask_LIDC-IDRI-0003_74.jpg\u001b[0m   \u001b[01;35mmask_LIDC-IDRI-0009_28.jpg\u001b[0m\n",
      "\u001b[01;35mmask_LIDC-IDRI-0003_75.jpg\u001b[0m   \u001b[01;35mmask_LIDC-IDRI-0009_29.jpg\u001b[0m\n",
      "\u001b[01;35mmask_LIDC-IDRI-0003_76.jpg\u001b[0m   \u001b[01;35mmask_LIDC-IDRI-0009_3.jpg\u001b[0m\n",
      "\u001b[01;35mmask_LIDC-IDRI-0003_77.jpg\u001b[0m   \u001b[01;35mmask_LIDC-IDRI-0009_30.jpg\u001b[0m\n",
      "\u001b[01;35mmask_LIDC-IDRI-0003_78.jpg\u001b[0m   \u001b[01;35mmask_LIDC-IDRI-0009_31.jpg\u001b[0m\n",
      "\u001b[01;35mmask_LIDC-IDRI-0003_79.jpg\u001b[0m   \u001b[01;35mmask_LIDC-IDRI-0009_32.jpg\u001b[0m\n",
      "\u001b[01;35mmask_LIDC-IDRI-0003_8.jpg\u001b[0m    \u001b[01;35mmask_LIDC-IDRI-0009_33.jpg\u001b[0m\n",
      "\u001b[01;35mmask_LIDC-IDRI-0003_80.jpg\u001b[0m   \u001b[01;35mmask_LIDC-IDRI-0009_34.jpg\u001b[0m\n",
      "\u001b[01;35mmask_LIDC-IDRI-0003_81.jpg\u001b[0m   \u001b[01;35mmask_LIDC-IDRI-0009_35.jpg\u001b[0m\n",
      "\u001b[01;35mmask_LIDC-IDRI-0003_82.jpg\u001b[0m   \u001b[01;35mmask_LIDC-IDRI-0009_36.jpg\u001b[0m\n",
      "\u001b[01;35mmask_LIDC-IDRI-0003_83.jpg\u001b[0m   \u001b[01;35mmask_LIDC-IDRI-0009_37.jpg\u001b[0m\n",
      "\u001b[01;35mmask_LIDC-IDRI-0003_84.jpg\u001b[0m   \u001b[01;35mmask_LIDC-IDRI-0009_38.jpg\u001b[0m\n",
      "\u001b[01;35mmask_LIDC-IDRI-0003_85.jpg\u001b[0m   \u001b[01;35mmask_LIDC-IDRI-0009_39.jpg\u001b[0m\n",
      "\u001b[01;35mmask_LIDC-IDRI-0003_86.jpg\u001b[0m   \u001b[01;35mmask_LIDC-IDRI-0009_4.jpg\u001b[0m\n",
      "\u001b[01;35mmask_LIDC-IDRI-0003_87.jpg\u001b[0m   \u001b[01;35mmask_LIDC-IDRI-0009_40.jpg\u001b[0m\n",
      "\u001b[01;35mmask_LIDC-IDRI-0003_88.jpg\u001b[0m   \u001b[01;35mmask_LIDC-IDRI-0009_41.jpg\u001b[0m\n",
      "\u001b[01;35mmask_LIDC-IDRI-0003_89.jpg\u001b[0m   \u001b[01;35mmask_LIDC-IDRI-0009_42.jpg\u001b[0m\n",
      "\u001b[01;35mmask_LIDC-IDRI-0003_9.jpg\u001b[0m    \u001b[01;35mmask_LIDC-IDRI-0009_43.jpg\u001b[0m\n",
      "\u001b[01;35mmask_LIDC-IDRI-0003_90.jpg\u001b[0m   \u001b[01;35mmask_LIDC-IDRI-0009_44.jpg\u001b[0m\n",
      "\u001b[01;35mmask_LIDC-IDRI-0003_91.jpg\u001b[0m   \u001b[01;35mmask_LIDC-IDRI-0009_45.jpg\u001b[0m\n",
      "\u001b[01;35mmask_LIDC-IDRI-0003_92.jpg\u001b[0m   \u001b[01;35mmask_LIDC-IDRI-0009_46.jpg\u001b[0m\n",
      "\u001b[01;35mmask_LIDC-IDRI-0003_93.jpg\u001b[0m   \u001b[01;35mmask_LIDC-IDRI-0009_47.jpg\u001b[0m\n",
      "\u001b[01;35mmask_LIDC-IDRI-0003_94.jpg\u001b[0m   \u001b[01;35mmask_LIDC-IDRI-0009_48.jpg\u001b[0m\n",
      "\u001b[01;35mmask_LIDC-IDRI-0003_95.jpg\u001b[0m   \u001b[01;35mmask_LIDC-IDRI-0009_49.jpg\u001b[0m\n",
      "\u001b[01;35mmask_LIDC-IDRI-0003_96.jpg\u001b[0m   \u001b[01;35mmask_LIDC-IDRI-0009_5.jpg\u001b[0m\n",
      "\u001b[01;35mmask_LIDC-IDRI-0003_97.jpg\u001b[0m   \u001b[01;35mmask_LIDC-IDRI-0009_50.jpg\u001b[0m\n",
      "\u001b[01;35mmask_LIDC-IDRI-0003_98.jpg\u001b[0m   \u001b[01;35mmask_LIDC-IDRI-0009_51.jpg\u001b[0m\n",
      "\u001b[01;35mmask_LIDC-IDRI-0003_99.jpg\u001b[0m   \u001b[01;35mmask_LIDC-IDRI-0009_52.jpg\u001b[0m\n",
      "\u001b[01;35mmask_LIDC-IDRI-0004_0.jpg\u001b[0m    \u001b[01;35mmask_LIDC-IDRI-0009_53.jpg\u001b[0m\n",
      "\u001b[01;35mmask_LIDC-IDRI-0004_1.jpg\u001b[0m    \u001b[01;35mmask_LIDC-IDRI-0009_54.jpg\u001b[0m\n",
      "\u001b[01;35mmask_LIDC-IDRI-0004_10.jpg\u001b[0m   \u001b[01;35mmask_LIDC-IDRI-0009_55.jpg\u001b[0m\n",
      "\u001b[01;35mmask_LIDC-IDRI-0004_100.jpg\u001b[0m  \u001b[01;35mmask_LIDC-IDRI-0009_56.jpg\u001b[0m\n",
      "\u001b[01;35mmask_LIDC-IDRI-0004_101.jpg\u001b[0m  \u001b[01;35mmask_LIDC-IDRI-0009_57.jpg\u001b[0m\n",
      "\u001b[01;35mmask_LIDC-IDRI-0004_102.jpg\u001b[0m  \u001b[01;35mmask_LIDC-IDRI-0009_58.jpg\u001b[0m\n",
      "\u001b[01;35mmask_LIDC-IDRI-0004_103.jpg\u001b[0m  \u001b[01;35mmask_LIDC-IDRI-0009_59.jpg\u001b[0m\n",
      "\u001b[01;35mmask_LIDC-IDRI-0004_104.jpg\u001b[0m  \u001b[01;35mmask_LIDC-IDRI-0009_6.jpg\u001b[0m\n",
      "\u001b[01;35mmask_LIDC-IDRI-0004_105.jpg\u001b[0m  \u001b[01;35mmask_LIDC-IDRI-0009_60.jpg\u001b[0m\n",
      "\u001b[01;35mmask_LIDC-IDRI-0004_106.jpg\u001b[0m  \u001b[01;35mmask_LIDC-IDRI-0009_61.jpg\u001b[0m\n",
      "\u001b[01;35mmask_LIDC-IDRI-0004_107.jpg\u001b[0m  \u001b[01;35mmask_LIDC-IDRI-0009_62.jpg\u001b[0m\n",
      "\u001b[01;35mmask_LIDC-IDRI-0004_108.jpg\u001b[0m  \u001b[01;35mmask_LIDC-IDRI-0009_63.jpg\u001b[0m\n",
      "\u001b[01;35mmask_LIDC-IDRI-0004_109.jpg\u001b[0m  \u001b[01;35mmask_LIDC-IDRI-0009_64.jpg\u001b[0m\n",
      "\u001b[01;35mmask_LIDC-IDRI-0004_11.jpg\u001b[0m   \u001b[01;35mmask_LIDC-IDRI-0009_65.jpg\u001b[0m\n",
      "\u001b[01;35mmask_LIDC-IDRI-0004_110.jpg\u001b[0m  \u001b[01;35mmask_LIDC-IDRI-0009_66.jpg\u001b[0m\n",
      "\u001b[01;35mmask_LIDC-IDRI-0004_111.jpg\u001b[0m  \u001b[01;35mmask_LIDC-IDRI-0009_67.jpg\u001b[0m\n",
      "\u001b[01;35mmask_LIDC-IDRI-0004_112.jpg\u001b[0m  \u001b[01;35mmask_LIDC-IDRI-0009_68.jpg\u001b[0m\n",
      "\u001b[01;35mmask_LIDC-IDRI-0004_113.jpg\u001b[0m  \u001b[01;35mmask_LIDC-IDRI-0009_69.jpg\u001b[0m\n",
      "\u001b[01;35mmask_LIDC-IDRI-0004_114.jpg\u001b[0m  \u001b[01;35mmask_LIDC-IDRI-0009_7.jpg\u001b[0m\n",
      "\u001b[01;35mmask_LIDC-IDRI-0004_115.jpg\u001b[0m  \u001b[01;35mmask_LIDC-IDRI-0009_70.jpg\u001b[0m\n",
      "\u001b[01;35mmask_LIDC-IDRI-0004_116.jpg\u001b[0m  \u001b[01;35mmask_LIDC-IDRI-0009_71.jpg\u001b[0m\n",
      "\u001b[01;35mmask_LIDC-IDRI-0004_117.jpg\u001b[0m  \u001b[01;35mmask_LIDC-IDRI-0009_72.jpg\u001b[0m\n",
      "\u001b[01;35mmask_LIDC-IDRI-0004_118.jpg\u001b[0m  \u001b[01;35mmask_LIDC-IDRI-0009_73.jpg\u001b[0m\n",
      "\u001b[01;35mmask_LIDC-IDRI-0004_119.jpg\u001b[0m  \u001b[01;35mmask_LIDC-IDRI-0009_74.jpg\u001b[0m\n",
      "\u001b[01;35mmask_LIDC-IDRI-0004_12.jpg\u001b[0m   \u001b[01;35mmask_LIDC-IDRI-0009_75.jpg\u001b[0m\n",
      "\u001b[01;35mmask_LIDC-IDRI-0004_120.jpg\u001b[0m  \u001b[01;35mmask_LIDC-IDRI-0009_76.jpg\u001b[0m\n",
      "\u001b[01;35mmask_LIDC-IDRI-0004_121.jpg\u001b[0m  \u001b[01;35mmask_LIDC-IDRI-0009_77.jpg\u001b[0m\n",
      "\u001b[01;35mmask_LIDC-IDRI-0004_122.jpg\u001b[0m  \u001b[01;35mmask_LIDC-IDRI-0009_78.jpg\u001b[0m\n",
      "\u001b[01;35mmask_LIDC-IDRI-0004_123.jpg\u001b[0m  \u001b[01;35mmask_LIDC-IDRI-0009_79.jpg\u001b[0m\n",
      "\u001b[01;35mmask_LIDC-IDRI-0004_124.jpg\u001b[0m  \u001b[01;35mmask_LIDC-IDRI-0009_8.jpg\u001b[0m\n",
      "\u001b[01;35mmask_LIDC-IDRI-0004_125.jpg\u001b[0m  \u001b[01;35mmask_LIDC-IDRI-0009_80.jpg\u001b[0m\n",
      "\u001b[01;35mmask_LIDC-IDRI-0004_126.jpg\u001b[0m  \u001b[01;35mmask_LIDC-IDRI-0009_81.jpg\u001b[0m\n",
      "\u001b[01;35mmask_LIDC-IDRI-0004_127.jpg\u001b[0m  \u001b[01;35mmask_LIDC-IDRI-0009_82.jpg\u001b[0m\n",
      "\u001b[01;35mmask_LIDC-IDRI-0004_128.jpg\u001b[0m  \u001b[01;35mmask_LIDC-IDRI-0009_83.jpg\u001b[0m\n",
      "\u001b[01;35mmask_LIDC-IDRI-0004_129.jpg\u001b[0m  \u001b[01;35mmask_LIDC-IDRI-0009_84.jpg\u001b[0m\n",
      "\u001b[01;35mmask_LIDC-IDRI-0004_13.jpg\u001b[0m   \u001b[01;35mmask_LIDC-IDRI-0009_85.jpg\u001b[0m\n",
      "\u001b[01;35mmask_LIDC-IDRI-0004_130.jpg\u001b[0m  \u001b[01;35mmask_LIDC-IDRI-0009_86.jpg\u001b[0m\n",
      "\u001b[01;35mmask_LIDC-IDRI-0004_131.jpg\u001b[0m  \u001b[01;35mmask_LIDC-IDRI-0009_87.jpg\u001b[0m\n",
      "\u001b[01;35mmask_LIDC-IDRI-0004_132.jpg\u001b[0m  \u001b[01;35mmask_LIDC-IDRI-0009_88.jpg\u001b[0m\n",
      "\u001b[01;35mmask_LIDC-IDRI-0004_133.jpg\u001b[0m  \u001b[01;35mmask_LIDC-IDRI-0009_89.jpg\u001b[0m\n",
      "\u001b[01;35mmask_LIDC-IDRI-0004_134.jpg\u001b[0m  \u001b[01;35mmask_LIDC-IDRI-0009_9.jpg\u001b[0m\n",
      "\u001b[01;35mmask_LIDC-IDRI-0004_135.jpg\u001b[0m  \u001b[01;35mmask_LIDC-IDRI-0009_90.jpg\u001b[0m\n",
      "\u001b[01;35mmask_LIDC-IDRI-0004_136.jpg\u001b[0m  \u001b[01;35mmask_LIDC-IDRI-0009_91.jpg\u001b[0m\n",
      "\u001b[01;35mmask_LIDC-IDRI-0004_137.jpg\u001b[0m  \u001b[01;35mmask_LIDC-IDRI-0009_92.jpg\u001b[0m\n",
      "\u001b[01;35mmask_LIDC-IDRI-0004_138.jpg\u001b[0m  \u001b[01;35mmask_LIDC-IDRI-0009_93.jpg\u001b[0m\n",
      "\u001b[01;35mmask_LIDC-IDRI-0004_139.jpg\u001b[0m  \u001b[01;35mmask_LIDC-IDRI-0009_94.jpg\u001b[0m\n",
      "\u001b[01;35mmask_LIDC-IDRI-0004_14.jpg\u001b[0m   \u001b[01;35mmask_LIDC-IDRI-0009_95.jpg\u001b[0m\n",
      "\u001b[01;35mmask_LIDC-IDRI-0004_140.jpg\u001b[0m  \u001b[01;35mmask_LIDC-IDRI-0009_96.jpg\u001b[0m\n",
      "\u001b[01;35mmask_LIDC-IDRI-0004_141.jpg\u001b[0m  \u001b[01;35mmask_LIDC-IDRI-0009_97.jpg\u001b[0m\n",
      "\u001b[01;35mmask_LIDC-IDRI-0004_142.jpg\u001b[0m  \u001b[01;35mmask_LIDC-IDRI-0009_98.jpg\u001b[0m\n",
      "\u001b[01;35mmask_LIDC-IDRI-0004_143.jpg\u001b[0m  \u001b[01;35mmask_LIDC-IDRI-0009_99.jpg\u001b[0m\n",
      "\u001b[01;35mmask_LIDC-IDRI-0004_144.jpg\u001b[0m  \u001b[01;35mmask_LIDC-IDRI-0010_0.jpg\u001b[0m\n",
      "\u001b[01;35mmask_LIDC-IDRI-0004_145.jpg\u001b[0m  \u001b[01;35mmask_LIDC-IDRI-0010_1.jpg\u001b[0m\n",
      "\u001b[01;35mmask_LIDC-IDRI-0004_146.jpg\u001b[0m  \u001b[01;35mmask_LIDC-IDRI-0010_10.jpg\u001b[0m\n",
      "\u001b[01;35mmask_LIDC-IDRI-0004_147.jpg\u001b[0m  \u001b[01;35mmask_LIDC-IDRI-0010_100.jpg\u001b[0m\n",
      "\u001b[01;35mmask_LIDC-IDRI-0004_148.jpg\u001b[0m  \u001b[01;35mmask_LIDC-IDRI-0010_101.jpg\u001b[0m\n",
      "\u001b[01;35mmask_LIDC-IDRI-0004_149.jpg\u001b[0m  \u001b[01;35mmask_LIDC-IDRI-0010_102.jpg\u001b[0m\n",
      "\u001b[01;35mmask_LIDC-IDRI-0004_15.jpg\u001b[0m   \u001b[01;35mmask_LIDC-IDRI-0010_103.jpg\u001b[0m\n",
      "\u001b[01;35mmask_LIDC-IDRI-0004_150.jpg\u001b[0m  \u001b[01;35mmask_LIDC-IDRI-0010_104.jpg\u001b[0m\n",
      "\u001b[01;35mmask_LIDC-IDRI-0004_151.jpg\u001b[0m  \u001b[01;35mmask_LIDC-IDRI-0010_105.jpg\u001b[0m\n",
      "\u001b[01;35mmask_LIDC-IDRI-0004_152.jpg\u001b[0m  \u001b[01;35mmask_LIDC-IDRI-0010_106.jpg\u001b[0m\n",
      "\u001b[01;35mmask_LIDC-IDRI-0004_153.jpg\u001b[0m  \u001b[01;35mmask_LIDC-IDRI-0010_107.jpg\u001b[0m\n",
      "\u001b[01;35mmask_LIDC-IDRI-0004_154.jpg\u001b[0m  \u001b[01;35mmask_LIDC-IDRI-0010_108.jpg\u001b[0m\n",
      "\u001b[01;35mmask_LIDC-IDRI-0004_155.jpg\u001b[0m  \u001b[01;35mmask_LIDC-IDRI-0010_109.jpg\u001b[0m\n",
      "\u001b[01;35mmask_LIDC-IDRI-0004_156.jpg\u001b[0m  \u001b[01;35mmask_LIDC-IDRI-0010_11.jpg\u001b[0m\n",
      "\u001b[01;35mmask_LIDC-IDRI-0004_157.jpg\u001b[0m  \u001b[01;35mmask_LIDC-IDRI-0010_110.jpg\u001b[0m\n",
      "\u001b[01;35mmask_LIDC-IDRI-0004_158.jpg\u001b[0m  \u001b[01;35mmask_LIDC-IDRI-0010_111.jpg\u001b[0m\n",
      "\u001b[01;35mmask_LIDC-IDRI-0004_159.jpg\u001b[0m  \u001b[01;35mmask_LIDC-IDRI-0010_112.jpg\u001b[0m\n",
      "\u001b[01;35mmask_LIDC-IDRI-0004_16.jpg\u001b[0m   \u001b[01;35mmask_LIDC-IDRI-0010_113.jpg\u001b[0m\n",
      "\u001b[01;35mmask_LIDC-IDRI-0004_160.jpg\u001b[0m  \u001b[01;35mmask_LIDC-IDRI-0010_114.jpg\u001b[0m\n",
      "\u001b[01;35mmask_LIDC-IDRI-0004_161.jpg\u001b[0m  \u001b[01;35mmask_LIDC-IDRI-0010_115.jpg\u001b[0m\n",
      "\u001b[01;35mmask_LIDC-IDRI-0004_162.jpg\u001b[0m  \u001b[01;35mmask_LIDC-IDRI-0010_116.jpg\u001b[0m\n",
      "\u001b[01;35mmask_LIDC-IDRI-0004_163.jpg\u001b[0m  \u001b[01;35mmask_LIDC-IDRI-0010_117.jpg\u001b[0m\n",
      "\u001b[01;35mmask_LIDC-IDRI-0004_164.jpg\u001b[0m  \u001b[01;35mmask_LIDC-IDRI-0010_118.jpg\u001b[0m\n",
      "\u001b[01;35mmask_LIDC-IDRI-0004_165.jpg\u001b[0m  \u001b[01;35mmask_LIDC-IDRI-0010_119.jpg\u001b[0m\n",
      "\u001b[01;35mmask_LIDC-IDRI-0004_166.jpg\u001b[0m  \u001b[01;35mmask_LIDC-IDRI-0010_12.jpg\u001b[0m\n",
      "\u001b[01;35mmask_LIDC-IDRI-0004_167.jpg\u001b[0m  \u001b[01;35mmask_LIDC-IDRI-0010_120.jpg\u001b[0m\n",
      "\u001b[01;35mmask_LIDC-IDRI-0004_168.jpg\u001b[0m  \u001b[01;35mmask_LIDC-IDRI-0010_121.jpg\u001b[0m\n",
      "\u001b[01;35mmask_LIDC-IDRI-0004_169.jpg\u001b[0m  \u001b[01;35mmask_LIDC-IDRI-0010_122.jpg\u001b[0m\n",
      "\u001b[01;35mmask_LIDC-IDRI-0004_17.jpg\u001b[0m   \u001b[01;35mmask_LIDC-IDRI-0010_123.jpg\u001b[0m\n",
      "\u001b[01;35mmask_LIDC-IDRI-0004_170.jpg\u001b[0m  \u001b[01;35mmask_LIDC-IDRI-0010_124.jpg\u001b[0m\n",
      "\u001b[01;35mmask_LIDC-IDRI-0004_171.jpg\u001b[0m  \u001b[01;35mmask_LIDC-IDRI-0010_125.jpg\u001b[0m\n",
      "\u001b[01;35mmask_LIDC-IDRI-0004_172.jpg\u001b[0m  \u001b[01;35mmask_LIDC-IDRI-0010_126.jpg\u001b[0m\n",
      "\u001b[01;35mmask_LIDC-IDRI-0004_173.jpg\u001b[0m  \u001b[01;35mmask_LIDC-IDRI-0010_127.jpg\u001b[0m\n",
      "\u001b[01;35mmask_LIDC-IDRI-0004_174.jpg\u001b[0m  \u001b[01;35mmask_LIDC-IDRI-0010_128.jpg\u001b[0m\n",
      "\u001b[01;35mmask_LIDC-IDRI-0004_175.jpg\u001b[0m  \u001b[01;35mmask_LIDC-IDRI-0010_129.jpg\u001b[0m\n",
      "\u001b[01;35mmask_LIDC-IDRI-0004_176.jpg\u001b[0m  \u001b[01;35mmask_LIDC-IDRI-0010_13.jpg\u001b[0m\n",
      "\u001b[01;35mmask_LIDC-IDRI-0004_177.jpg\u001b[0m  \u001b[01;35mmask_LIDC-IDRI-0010_130.jpg\u001b[0m\n",
      "\u001b[01;35mmask_LIDC-IDRI-0004_178.jpg\u001b[0m  \u001b[01;35mmask_LIDC-IDRI-0010_131.jpg\u001b[0m\n",
      "\u001b[01;35mmask_LIDC-IDRI-0004_179.jpg\u001b[0m  \u001b[01;35mmask_LIDC-IDRI-0010_132.jpg\u001b[0m\n",
      "\u001b[01;35mmask_LIDC-IDRI-0004_18.jpg\u001b[0m   \u001b[01;35mmask_LIDC-IDRI-0010_133.jpg\u001b[0m\n",
      "\u001b[01;35mmask_LIDC-IDRI-0004_180.jpg\u001b[0m  \u001b[01;35mmask_LIDC-IDRI-0010_134.jpg\u001b[0m\n",
      "\u001b[01;35mmask_LIDC-IDRI-0004_181.jpg\u001b[0m  \u001b[01;35mmask_LIDC-IDRI-0010_135.jpg\u001b[0m\n",
      "\u001b[01;35mmask_LIDC-IDRI-0004_182.jpg\u001b[0m  \u001b[01;35mmask_LIDC-IDRI-0010_136.jpg\u001b[0m\n",
      "\u001b[01;35mmask_LIDC-IDRI-0004_183.jpg\u001b[0m  \u001b[01;35mmask_LIDC-IDRI-0010_137.jpg\u001b[0m\n",
      "\u001b[01;35mmask_LIDC-IDRI-0004_184.jpg\u001b[0m  \u001b[01;35mmask_LIDC-IDRI-0010_138.jpg\u001b[0m\n",
      "\u001b[01;35mmask_LIDC-IDRI-0004_185.jpg\u001b[0m  \u001b[01;35mmask_LIDC-IDRI-0010_139.jpg\u001b[0m\n",
      "\u001b[01;35mmask_LIDC-IDRI-0004_186.jpg\u001b[0m  \u001b[01;35mmask_LIDC-IDRI-0010_14.jpg\u001b[0m\n",
      "\u001b[01;35mmask_LIDC-IDRI-0004_187.jpg\u001b[0m  \u001b[01;35mmask_LIDC-IDRI-0010_140.jpg\u001b[0m\n",
      "\u001b[01;35mmask_LIDC-IDRI-0004_188.jpg\u001b[0m  \u001b[01;35mmask_LIDC-IDRI-0010_141.jpg\u001b[0m\n",
      "\u001b[01;35mmask_LIDC-IDRI-0004_189.jpg\u001b[0m  \u001b[01;35mmask_LIDC-IDRI-0010_142.jpg\u001b[0m\n",
      "\u001b[01;35mmask_LIDC-IDRI-0004_19.jpg\u001b[0m   \u001b[01;35mmask_LIDC-IDRI-0010_143.jpg\u001b[0m\n",
      "\u001b[01;35mmask_LIDC-IDRI-0004_190.jpg\u001b[0m  \u001b[01;35mmask_LIDC-IDRI-0010_144.jpg\u001b[0m\n",
      "\u001b[01;35mmask_LIDC-IDRI-0004_191.jpg\u001b[0m  \u001b[01;35mmask_LIDC-IDRI-0010_145.jpg\u001b[0m\n",
      "\u001b[01;35mmask_LIDC-IDRI-0004_192.jpg\u001b[0m  \u001b[01;35mmask_LIDC-IDRI-0010_146.jpg\u001b[0m\n",
      "\u001b[01;35mmask_LIDC-IDRI-0004_193.jpg\u001b[0m  \u001b[01;35mmask_LIDC-IDRI-0010_147.jpg\u001b[0m\n",
      "\u001b[01;35mmask_LIDC-IDRI-0004_194.jpg\u001b[0m  \u001b[01;35mmask_LIDC-IDRI-0010_148.jpg\u001b[0m\n",
      "\u001b[01;35mmask_LIDC-IDRI-0004_195.jpg\u001b[0m  \u001b[01;35mmask_LIDC-IDRI-0010_149.jpg\u001b[0m\n",
      "\u001b[01;35mmask_LIDC-IDRI-0004_196.jpg\u001b[0m  \u001b[01;35mmask_LIDC-IDRI-0010_15.jpg\u001b[0m\n",
      "\u001b[01;35mmask_LIDC-IDRI-0004_197.jpg\u001b[0m  \u001b[01;35mmask_LIDC-IDRI-0010_150.jpg\u001b[0m\n",
      "\u001b[01;35mmask_LIDC-IDRI-0004_198.jpg\u001b[0m  \u001b[01;35mmask_LIDC-IDRI-0010_151.jpg\u001b[0m\n",
      "\u001b[01;35mmask_LIDC-IDRI-0004_199.jpg\u001b[0m  \u001b[01;35mmask_LIDC-IDRI-0010_152.jpg\u001b[0m\n",
      "\u001b[01;35mmask_LIDC-IDRI-0004_2.jpg\u001b[0m    \u001b[01;35mmask_LIDC-IDRI-0010_153.jpg\u001b[0m\n",
      "\u001b[01;35mmask_LIDC-IDRI-0004_20.jpg\u001b[0m   \u001b[01;35mmask_LIDC-IDRI-0010_154.jpg\u001b[0m\n",
      "\u001b[01;35mmask_LIDC-IDRI-0004_200.jpg\u001b[0m  \u001b[01;35mmask_LIDC-IDRI-0010_155.jpg\u001b[0m\n",
      "\u001b[01;35mmask_LIDC-IDRI-0004_201.jpg\u001b[0m  \u001b[01;35mmask_LIDC-IDRI-0010_156.jpg\u001b[0m\n",
      "\u001b[01;35mmask_LIDC-IDRI-0004_202.jpg\u001b[0m  \u001b[01;35mmask_LIDC-IDRI-0010_157.jpg\u001b[0m\n",
      "\u001b[01;35mmask_LIDC-IDRI-0004_203.jpg\u001b[0m  \u001b[01;35mmask_LIDC-IDRI-0010_158.jpg\u001b[0m\n",
      "\u001b[01;35mmask_LIDC-IDRI-0004_204.jpg\u001b[0m  \u001b[01;35mmask_LIDC-IDRI-0010_159.jpg\u001b[0m\n",
      "\u001b[01;35mmask_LIDC-IDRI-0004_205.jpg\u001b[0m  \u001b[01;35mmask_LIDC-IDRI-0010_16.jpg\u001b[0m\n",
      "\u001b[01;35mmask_LIDC-IDRI-0004_206.jpg\u001b[0m  \u001b[01;35mmask_LIDC-IDRI-0010_160.jpg\u001b[0m\n",
      "\u001b[01;35mmask_LIDC-IDRI-0004_207.jpg\u001b[0m  \u001b[01;35mmask_LIDC-IDRI-0010_161.jpg\u001b[0m\n",
      "\u001b[01;35mmask_LIDC-IDRI-0004_208.jpg\u001b[0m  \u001b[01;35mmask_LIDC-IDRI-0010_162.jpg\u001b[0m\n",
      "\u001b[01;35mmask_LIDC-IDRI-0004_209.jpg\u001b[0m  \u001b[01;35mmask_LIDC-IDRI-0010_163.jpg\u001b[0m\n",
      "\u001b[01;35mmask_LIDC-IDRI-0004_21.jpg\u001b[0m   \u001b[01;35mmask_LIDC-IDRI-0010_164.jpg\u001b[0m\n",
      "\u001b[01;35mmask_LIDC-IDRI-0004_210.jpg\u001b[0m  \u001b[01;35mmask_LIDC-IDRI-0010_165.jpg\u001b[0m\n",
      "\u001b[01;35mmask_LIDC-IDRI-0004_211.jpg\u001b[0m  \u001b[01;35mmask_LIDC-IDRI-0010_166.jpg\u001b[0m\n",
      "\u001b[01;35mmask_LIDC-IDRI-0004_212.jpg\u001b[0m  \u001b[01;35mmask_LIDC-IDRI-0010_167.jpg\u001b[0m\n",
      "\u001b[01;35mmask_LIDC-IDRI-0004_213.jpg\u001b[0m  \u001b[01;35mmask_LIDC-IDRI-0010_168.jpg\u001b[0m\n",
      "\u001b[01;35mmask_LIDC-IDRI-0004_214.jpg\u001b[0m  \u001b[01;35mmask_LIDC-IDRI-0010_169.jpg\u001b[0m\n",
      "\u001b[01;35mmask_LIDC-IDRI-0004_215.jpg\u001b[0m  \u001b[01;35mmask_LIDC-IDRI-0010_17.jpg\u001b[0m\n",
      "\u001b[01;35mmask_LIDC-IDRI-0004_216.jpg\u001b[0m  \u001b[01;35mmask_LIDC-IDRI-0010_170.jpg\u001b[0m\n",
      "\u001b[01;35mmask_LIDC-IDRI-0004_217.jpg\u001b[0m  \u001b[01;35mmask_LIDC-IDRI-0010_171.jpg\u001b[0m\n",
      "\u001b[01;35mmask_LIDC-IDRI-0004_218.jpg\u001b[0m  \u001b[01;35mmask_LIDC-IDRI-0010_172.jpg\u001b[0m\n",
      "\u001b[01;35mmask_LIDC-IDRI-0004_219.jpg\u001b[0m  \u001b[01;35mmask_LIDC-IDRI-0010_173.jpg\u001b[0m\n",
      "\u001b[01;35mmask_LIDC-IDRI-0004_22.jpg\u001b[0m   \u001b[01;35mmask_LIDC-IDRI-0010_174.jpg\u001b[0m\n",
      "\u001b[01;35mmask_LIDC-IDRI-0004_220.jpg\u001b[0m  \u001b[01;35mmask_LIDC-IDRI-0010_175.jpg\u001b[0m\n",
      "\u001b[01;35mmask_LIDC-IDRI-0004_221.jpg\u001b[0m  \u001b[01;35mmask_LIDC-IDRI-0010_176.jpg\u001b[0m\n",
      "\u001b[01;35mmask_LIDC-IDRI-0004_222.jpg\u001b[0m  \u001b[01;35mmask_LIDC-IDRI-0010_177.jpg\u001b[0m\n",
      "\u001b[01;35mmask_LIDC-IDRI-0004_223.jpg\u001b[0m  \u001b[01;35mmask_LIDC-IDRI-0010_178.jpg\u001b[0m\n",
      "\u001b[01;35mmask_LIDC-IDRI-0004_224.jpg\u001b[0m  \u001b[01;35mmask_LIDC-IDRI-0010_179.jpg\u001b[0m\n",
      "\u001b[01;35mmask_LIDC-IDRI-0004_225.jpg\u001b[0m  \u001b[01;35mmask_LIDC-IDRI-0010_18.jpg\u001b[0m\n",
      "\u001b[01;35mmask_LIDC-IDRI-0004_226.jpg\u001b[0m  \u001b[01;35mmask_LIDC-IDRI-0010_180.jpg\u001b[0m\n",
      "\u001b[01;35mmask_LIDC-IDRI-0004_227.jpg\u001b[0m  \u001b[01;35mmask_LIDC-IDRI-0010_181.jpg\u001b[0m\n",
      "\u001b[01;35mmask_LIDC-IDRI-0004_228.jpg\u001b[0m  \u001b[01;35mmask_LIDC-IDRI-0010_182.jpg\u001b[0m\n",
      "\u001b[01;35mmask_LIDC-IDRI-0004_229.jpg\u001b[0m  \u001b[01;35mmask_LIDC-IDRI-0010_183.jpg\u001b[0m\n",
      "\u001b[01;35mmask_LIDC-IDRI-0004_23.jpg\u001b[0m   \u001b[01;35mmask_LIDC-IDRI-0010_184.jpg\u001b[0m\n",
      "\u001b[01;35mmask_LIDC-IDRI-0004_230.jpg\u001b[0m  \u001b[01;35mmask_LIDC-IDRI-0010_185.jpg\u001b[0m\n",
      "\u001b[01;35mmask_LIDC-IDRI-0004_231.jpg\u001b[0m  \u001b[01;35mmask_LIDC-IDRI-0010_186.jpg\u001b[0m\n",
      "\u001b[01;35mmask_LIDC-IDRI-0004_232.jpg\u001b[0m  \u001b[01;35mmask_LIDC-IDRI-0010_187.jpg\u001b[0m\n",
      "\u001b[01;35mmask_LIDC-IDRI-0004_233.jpg\u001b[0m  \u001b[01;35mmask_LIDC-IDRI-0010_188.jpg\u001b[0m\n",
      "\u001b[01;35mmask_LIDC-IDRI-0004_234.jpg\u001b[0m  \u001b[01;35mmask_LIDC-IDRI-0010_189.jpg\u001b[0m\n",
      "\u001b[01;35mmask_LIDC-IDRI-0004_235.jpg\u001b[0m  \u001b[01;35mmask_LIDC-IDRI-0010_19.jpg\u001b[0m\n",
      "\u001b[01;35mmask_LIDC-IDRI-0004_236.jpg\u001b[0m  \u001b[01;35mmask_LIDC-IDRI-0010_190.jpg\u001b[0m\n",
      "\u001b[01;35mmask_LIDC-IDRI-0004_237.jpg\u001b[0m  \u001b[01;35mmask_LIDC-IDRI-0010_191.jpg\u001b[0m\n",
      "\u001b[01;35mmask_LIDC-IDRI-0004_238.jpg\u001b[0m  \u001b[01;35mmask_LIDC-IDRI-0010_192.jpg\u001b[0m\n",
      "\u001b[01;35mmask_LIDC-IDRI-0004_239.jpg\u001b[0m  \u001b[01;35mmask_LIDC-IDRI-0010_193.jpg\u001b[0m\n",
      "\u001b[01;35mmask_LIDC-IDRI-0004_24.jpg\u001b[0m   \u001b[01;35mmask_LIDC-IDRI-0010_194.jpg\u001b[0m\n",
      "\u001b[01;35mmask_LIDC-IDRI-0004_240.jpg\u001b[0m  \u001b[01;35mmask_LIDC-IDRI-0010_195.jpg\u001b[0m\n",
      "\u001b[01;35mmask_LIDC-IDRI-0004_25.jpg\u001b[0m   \u001b[01;35mmask_LIDC-IDRI-0010_196.jpg\u001b[0m\n",
      "\u001b[01;35mmask_LIDC-IDRI-0004_26.jpg\u001b[0m   \u001b[01;35mmask_LIDC-IDRI-0010_197.jpg\u001b[0m\n",
      "\u001b[01;35mmask_LIDC-IDRI-0004_27.jpg\u001b[0m   \u001b[01;35mmask_LIDC-IDRI-0010_198.jpg\u001b[0m\n",
      "\u001b[01;35mmask_LIDC-IDRI-0004_28.jpg\u001b[0m   \u001b[01;35mmask_LIDC-IDRI-0010_199.jpg\u001b[0m\n",
      "\u001b[01;35mmask_LIDC-IDRI-0004_29.jpg\u001b[0m   \u001b[01;35mmask_LIDC-IDRI-0010_2.jpg\u001b[0m\n",
      "\u001b[01;35mmask_LIDC-IDRI-0004_3.jpg\u001b[0m    \u001b[01;35mmask_LIDC-IDRI-0010_20.jpg\u001b[0m\n",
      "\u001b[01;35mmask_LIDC-IDRI-0004_30.jpg\u001b[0m   \u001b[01;35mmask_LIDC-IDRI-0010_200.jpg\u001b[0m\n",
      "\u001b[01;35mmask_LIDC-IDRI-0004_31.jpg\u001b[0m   \u001b[01;35mmask_LIDC-IDRI-0010_201.jpg\u001b[0m\n",
      "\u001b[01;35mmask_LIDC-IDRI-0004_32.jpg\u001b[0m   \u001b[01;35mmask_LIDC-IDRI-0010_202.jpg\u001b[0m\n",
      "\u001b[01;35mmask_LIDC-IDRI-0004_33.jpg\u001b[0m   \u001b[01;35mmask_LIDC-IDRI-0010_203.jpg\u001b[0m\n",
      "\u001b[01;35mmask_LIDC-IDRI-0004_34.jpg\u001b[0m   \u001b[01;35mmask_LIDC-IDRI-0010_204.jpg\u001b[0m\n",
      "\u001b[01;35mmask_LIDC-IDRI-0004_35.jpg\u001b[0m   \u001b[01;35mmask_LIDC-IDRI-0010_205.jpg\u001b[0m\n",
      "\u001b[01;35mmask_LIDC-IDRI-0004_36.jpg\u001b[0m   \u001b[01;35mmask_LIDC-IDRI-0010_206.jpg\u001b[0m\n",
      "\u001b[01;35mmask_LIDC-IDRI-0004_37.jpg\u001b[0m   \u001b[01;35mmask_LIDC-IDRI-0010_207.jpg\u001b[0m\n",
      "\u001b[01;35mmask_LIDC-IDRI-0004_38.jpg\u001b[0m   \u001b[01;35mmask_LIDC-IDRI-0010_208.jpg\u001b[0m\n",
      "\u001b[01;35mmask_LIDC-IDRI-0004_39.jpg\u001b[0m   \u001b[01;35mmask_LIDC-IDRI-0010_209.jpg\u001b[0m\n",
      "\u001b[01;35mmask_LIDC-IDRI-0004_4.jpg\u001b[0m    \u001b[01;35mmask_LIDC-IDRI-0010_21.jpg\u001b[0m\n",
      "\u001b[01;35mmask_LIDC-IDRI-0004_40.jpg\u001b[0m   \u001b[01;35mmask_LIDC-IDRI-0010_210.jpg\u001b[0m\n",
      "\u001b[01;35mmask_LIDC-IDRI-0004_41.jpg\u001b[0m   \u001b[01;35mmask_LIDC-IDRI-0010_211.jpg\u001b[0m\n",
      "\u001b[01;35mmask_LIDC-IDRI-0004_42.jpg\u001b[0m   \u001b[01;35mmask_LIDC-IDRI-0010_212.jpg\u001b[0m\n",
      "\u001b[01;35mmask_LIDC-IDRI-0004_43.jpg\u001b[0m   \u001b[01;35mmask_LIDC-IDRI-0010_213.jpg\u001b[0m\n",
      "\u001b[01;35mmask_LIDC-IDRI-0004_44.jpg\u001b[0m   \u001b[01;35mmask_LIDC-IDRI-0010_214.jpg\u001b[0m\n",
      "\u001b[01;35mmask_LIDC-IDRI-0004_45.jpg\u001b[0m   \u001b[01;35mmask_LIDC-IDRI-0010_215.jpg\u001b[0m\n",
      "\u001b[01;35mmask_LIDC-IDRI-0004_46.jpg\u001b[0m   \u001b[01;35mmask_LIDC-IDRI-0010_216.jpg\u001b[0m\n",
      "\u001b[01;35mmask_LIDC-IDRI-0004_47.jpg\u001b[0m   \u001b[01;35mmask_LIDC-IDRI-0010_217.jpg\u001b[0m\n",
      "\u001b[01;35mmask_LIDC-IDRI-0004_48.jpg\u001b[0m   \u001b[01;35mmask_LIDC-IDRI-0010_218.jpg\u001b[0m\n",
      "\u001b[01;35mmask_LIDC-IDRI-0004_49.jpg\u001b[0m   \u001b[01;35mmask_LIDC-IDRI-0010_219.jpg\u001b[0m\n",
      "\u001b[01;35mmask_LIDC-IDRI-0004_5.jpg\u001b[0m    \u001b[01;35mmask_LIDC-IDRI-0010_22.jpg\u001b[0m\n",
      "\u001b[01;35mmask_LIDC-IDRI-0004_50.jpg\u001b[0m   \u001b[01;35mmask_LIDC-IDRI-0010_220.jpg\u001b[0m\n",
      "\u001b[01;35mmask_LIDC-IDRI-0004_51.jpg\u001b[0m   \u001b[01;35mmask_LIDC-IDRI-0010_221.jpg\u001b[0m\n",
      "\u001b[01;35mmask_LIDC-IDRI-0004_52.jpg\u001b[0m   \u001b[01;35mmask_LIDC-IDRI-0010_222.jpg\u001b[0m\n",
      "\u001b[01;35mmask_LIDC-IDRI-0004_53.jpg\u001b[0m   \u001b[01;35mmask_LIDC-IDRI-0010_223.jpg\u001b[0m\n",
      "\u001b[01;35mmask_LIDC-IDRI-0004_54.jpg\u001b[0m   \u001b[01;35mmask_LIDC-IDRI-0010_224.jpg\u001b[0m\n",
      "\u001b[01;35mmask_LIDC-IDRI-0004_55.jpg\u001b[0m   \u001b[01;35mmask_LIDC-IDRI-0010_225.jpg\u001b[0m\n",
      "\u001b[01;35mmask_LIDC-IDRI-0004_56.jpg\u001b[0m   \u001b[01;35mmask_LIDC-IDRI-0010_226.jpg\u001b[0m\n",
      "\u001b[01;35mmask_LIDC-IDRI-0004_57.jpg\u001b[0m   \u001b[01;35mmask_LIDC-IDRI-0010_227.jpg\u001b[0m\n",
      "\u001b[01;35mmask_LIDC-IDRI-0004_58.jpg\u001b[0m   \u001b[01;35mmask_LIDC-IDRI-0010_228.jpg\u001b[0m\n",
      "\u001b[01;35mmask_LIDC-IDRI-0004_59.jpg\u001b[0m   \u001b[01;35mmask_LIDC-IDRI-0010_229.jpg\u001b[0m\n",
      "\u001b[01;35mmask_LIDC-IDRI-0004_6.jpg\u001b[0m    \u001b[01;35mmask_LIDC-IDRI-0010_23.jpg\u001b[0m\n",
      "\u001b[01;35mmask_LIDC-IDRI-0004_60.jpg\u001b[0m   \u001b[01;35mmask_LIDC-IDRI-0010_230.jpg\u001b[0m\n",
      "\u001b[01;35mmask_LIDC-IDRI-0004_61.jpg\u001b[0m   \u001b[01;35mmask_LIDC-IDRI-0010_231.jpg\u001b[0m\n",
      "\u001b[01;35mmask_LIDC-IDRI-0004_62.jpg\u001b[0m   \u001b[01;35mmask_LIDC-IDRI-0010_232.jpg\u001b[0m\n",
      "\u001b[01;35mmask_LIDC-IDRI-0004_63.jpg\u001b[0m   \u001b[01;35mmask_LIDC-IDRI-0010_233.jpg\u001b[0m\n",
      "\u001b[01;35mmask_LIDC-IDRI-0004_64.jpg\u001b[0m   \u001b[01;35mmask_LIDC-IDRI-0010_234.jpg\u001b[0m\n",
      "\u001b[01;35mmask_LIDC-IDRI-0004_65.jpg\u001b[0m   \u001b[01;35mmask_LIDC-IDRI-0010_235.jpg\u001b[0m\n",
      "\u001b[01;35mmask_LIDC-IDRI-0004_66.jpg\u001b[0m   \u001b[01;35mmask_LIDC-IDRI-0010_236.jpg\u001b[0m\n",
      "\u001b[01;35mmask_LIDC-IDRI-0004_67.jpg\u001b[0m   \u001b[01;35mmask_LIDC-IDRI-0010_237.jpg\u001b[0m\n",
      "\u001b[01;35mmask_LIDC-IDRI-0004_68.jpg\u001b[0m   \u001b[01;35mmask_LIDC-IDRI-0010_238.jpg\u001b[0m\n",
      "\u001b[01;35mmask_LIDC-IDRI-0004_69.jpg\u001b[0m   \u001b[01;35mmask_LIDC-IDRI-0010_239.jpg\u001b[0m\n",
      "\u001b[01;35mmask_LIDC-IDRI-0004_7.jpg\u001b[0m    \u001b[01;35mmask_LIDC-IDRI-0010_24.jpg\u001b[0m\n",
      "\u001b[01;35mmask_LIDC-IDRI-0004_70.jpg\u001b[0m   \u001b[01;35mmask_LIDC-IDRI-0010_240.jpg\u001b[0m\n",
      "\u001b[01;35mmask_LIDC-IDRI-0004_71.jpg\u001b[0m   \u001b[01;35mmask_LIDC-IDRI-0010_241.jpg\u001b[0m\n",
      "\u001b[01;35mmask_LIDC-IDRI-0004_72.jpg\u001b[0m   \u001b[01;35mmask_LIDC-IDRI-0010_242.jpg\u001b[0m\n",
      "\u001b[01;35mmask_LIDC-IDRI-0004_73.jpg\u001b[0m   \u001b[01;35mmask_LIDC-IDRI-0010_243.jpg\u001b[0m\n",
      "\u001b[01;35mmask_LIDC-IDRI-0004_74.jpg\u001b[0m   \u001b[01;35mmask_LIDC-IDRI-0010_244.jpg\u001b[0m\n",
      "\u001b[01;35mmask_LIDC-IDRI-0004_75.jpg\u001b[0m   \u001b[01;35mmask_LIDC-IDRI-0010_245.jpg\u001b[0m\n",
      "\u001b[01;35mmask_LIDC-IDRI-0004_76.jpg\u001b[0m   \u001b[01;35mmask_LIDC-IDRI-0010_246.jpg\u001b[0m\n",
      "\u001b[01;35mmask_LIDC-IDRI-0004_77.jpg\u001b[0m   \u001b[01;35mmask_LIDC-IDRI-0010_247.jpg\u001b[0m\n",
      "\u001b[01;35mmask_LIDC-IDRI-0004_78.jpg\u001b[0m   \u001b[01;35mmask_LIDC-IDRI-0010_248.jpg\u001b[0m\n",
      "\u001b[01;35mmask_LIDC-IDRI-0004_79.jpg\u001b[0m   \u001b[01;35mmask_LIDC-IDRI-0010_249.jpg\u001b[0m\n",
      "\u001b[01;35mmask_LIDC-IDRI-0004_8.jpg\u001b[0m    \u001b[01;35mmask_LIDC-IDRI-0010_25.jpg\u001b[0m\n",
      "\u001b[01;35mmask_LIDC-IDRI-0004_80.jpg\u001b[0m   \u001b[01;35mmask_LIDC-IDRI-0010_250.jpg\u001b[0m\n",
      "\u001b[01;35mmask_LIDC-IDRI-0004_81.jpg\u001b[0m   \u001b[01;35mmask_LIDC-IDRI-0010_251.jpg\u001b[0m\n",
      "\u001b[01;35mmask_LIDC-IDRI-0004_82.jpg\u001b[0m   \u001b[01;35mmask_LIDC-IDRI-0010_252.jpg\u001b[0m\n",
      "\u001b[01;35mmask_LIDC-IDRI-0004_83.jpg\u001b[0m   \u001b[01;35mmask_LIDC-IDRI-0010_253.jpg\u001b[0m\n",
      "\u001b[01;35mmask_LIDC-IDRI-0004_84.jpg\u001b[0m   \u001b[01;35mmask_LIDC-IDRI-0010_254.jpg\u001b[0m\n",
      "\u001b[01;35mmask_LIDC-IDRI-0004_85.jpg\u001b[0m   \u001b[01;35mmask_LIDC-IDRI-0010_255.jpg\u001b[0m\n",
      "\u001b[01;35mmask_LIDC-IDRI-0004_86.jpg\u001b[0m   \u001b[01;35mmask_LIDC-IDRI-0010_256.jpg\u001b[0m\n",
      "\u001b[01;35mmask_LIDC-IDRI-0004_87.jpg\u001b[0m   \u001b[01;35mmask_LIDC-IDRI-0010_257.jpg\u001b[0m\n",
      "\u001b[01;35mmask_LIDC-IDRI-0004_88.jpg\u001b[0m   \u001b[01;35mmask_LIDC-IDRI-0010_258.jpg\u001b[0m\n",
      "\u001b[01;35mmask_LIDC-IDRI-0004_89.jpg\u001b[0m   \u001b[01;35mmask_LIDC-IDRI-0010_259.jpg\u001b[0m\n",
      "\u001b[01;35mmask_LIDC-IDRI-0004_9.jpg\u001b[0m    \u001b[01;35mmask_LIDC-IDRI-0010_26.jpg\u001b[0m\n",
      "\u001b[01;35mmask_LIDC-IDRI-0004_90.jpg\u001b[0m   \u001b[01;35mmask_LIDC-IDRI-0010_260.jpg\u001b[0m\n",
      "\u001b[01;35mmask_LIDC-IDRI-0004_91.jpg\u001b[0m   \u001b[01;35mmask_LIDC-IDRI-0010_261.jpg\u001b[0m\n",
      "\u001b[01;35mmask_LIDC-IDRI-0004_92.jpg\u001b[0m   \u001b[01;35mmask_LIDC-IDRI-0010_262.jpg\u001b[0m\n",
      "\u001b[01;35mmask_LIDC-IDRI-0004_93.jpg\u001b[0m   \u001b[01;35mmask_LIDC-IDRI-0010_263.jpg\u001b[0m\n",
      "\u001b[01;35mmask_LIDC-IDRI-0004_94.jpg\u001b[0m   \u001b[01;35mmask_LIDC-IDRI-0010_264.jpg\u001b[0m\n",
      "\u001b[01;35mmask_LIDC-IDRI-0004_95.jpg\u001b[0m   \u001b[01;35mmask_LIDC-IDRI-0010_265.jpg\u001b[0m\n",
      "\u001b[01;35mmask_LIDC-IDRI-0004_96.jpg\u001b[0m   \u001b[01;35mmask_LIDC-IDRI-0010_266.jpg\u001b[0m\n",
      "\u001b[01;35mmask_LIDC-IDRI-0004_97.jpg\u001b[0m   \u001b[01;35mmask_LIDC-IDRI-0010_267.jpg\u001b[0m\n",
      "\u001b[01;35mmask_LIDC-IDRI-0004_98.jpg\u001b[0m   \u001b[01;35mmask_LIDC-IDRI-0010_268.jpg\u001b[0m\n",
      "\u001b[01;35mmask_LIDC-IDRI-0004_99.jpg\u001b[0m   \u001b[01;35mmask_LIDC-IDRI-0010_269.jpg\u001b[0m\n",
      "\u001b[01;35mmask_LIDC-IDRI-0005_0.jpg\u001b[0m    \u001b[01;35mmask_LIDC-IDRI-0010_27.jpg\u001b[0m\n",
      "\u001b[01;35mmask_LIDC-IDRI-0005_1.jpg\u001b[0m    \u001b[01;35mmask_LIDC-IDRI-0010_270.jpg\u001b[0m\n",
      "\u001b[01;35mmask_LIDC-IDRI-0005_10.jpg\u001b[0m   \u001b[01;35mmask_LIDC-IDRI-0010_271.jpg\u001b[0m\n",
      "\u001b[01;35mmask_LIDC-IDRI-0005_100.jpg\u001b[0m  \u001b[01;35mmask_LIDC-IDRI-0010_272.jpg\u001b[0m\n",
      "\u001b[01;35mmask_LIDC-IDRI-0005_101.jpg\u001b[0m  \u001b[01;35mmask_LIDC-IDRI-0010_273.jpg\u001b[0m\n",
      "\u001b[01;35mmask_LIDC-IDRI-0005_102.jpg\u001b[0m  \u001b[01;35mmask_LIDC-IDRI-0010_274.jpg\u001b[0m\n",
      "\u001b[01;35mmask_LIDC-IDRI-0005_103.jpg\u001b[0m  \u001b[01;35mmask_LIDC-IDRI-0010_275.jpg\u001b[0m\n",
      "\u001b[01;35mmask_LIDC-IDRI-0005_104.jpg\u001b[0m  \u001b[01;35mmask_LIDC-IDRI-0010_276.jpg\u001b[0m\n",
      "\u001b[01;35mmask_LIDC-IDRI-0005_105.jpg\u001b[0m  \u001b[01;35mmask_LIDC-IDRI-0010_28.jpg\u001b[0m\n",
      "\u001b[01;35mmask_LIDC-IDRI-0005_106.jpg\u001b[0m  \u001b[01;35mmask_LIDC-IDRI-0010_29.jpg\u001b[0m\n",
      "\u001b[01;35mmask_LIDC-IDRI-0005_107.jpg\u001b[0m  \u001b[01;35mmask_LIDC-IDRI-0010_3.jpg\u001b[0m\n",
      "\u001b[01;35mmask_LIDC-IDRI-0005_108.jpg\u001b[0m  \u001b[01;35mmask_LIDC-IDRI-0010_30.jpg\u001b[0m\n",
      "\u001b[01;35mmask_LIDC-IDRI-0005_109.jpg\u001b[0m  \u001b[01;35mmask_LIDC-IDRI-0010_31.jpg\u001b[0m\n",
      "\u001b[01;35mmask_LIDC-IDRI-0005_11.jpg\u001b[0m   \u001b[01;35mmask_LIDC-IDRI-0010_32.jpg\u001b[0m\n",
      "\u001b[01;35mmask_LIDC-IDRI-0005_110.jpg\u001b[0m  \u001b[01;35mmask_LIDC-IDRI-0010_33.jpg\u001b[0m\n",
      "\u001b[01;35mmask_LIDC-IDRI-0005_111.jpg\u001b[0m  \u001b[01;35mmask_LIDC-IDRI-0010_34.jpg\u001b[0m\n",
      "\u001b[01;35mmask_LIDC-IDRI-0005_112.jpg\u001b[0m  \u001b[01;35mmask_LIDC-IDRI-0010_35.jpg\u001b[0m\n",
      "\u001b[01;35mmask_LIDC-IDRI-0005_113.jpg\u001b[0m  \u001b[01;35mmask_LIDC-IDRI-0010_36.jpg\u001b[0m\n",
      "\u001b[01;35mmask_LIDC-IDRI-0005_114.jpg\u001b[0m  \u001b[01;35mmask_LIDC-IDRI-0010_37.jpg\u001b[0m\n",
      "\u001b[01;35mmask_LIDC-IDRI-0005_115.jpg\u001b[0m  \u001b[01;35mmask_LIDC-IDRI-0010_38.jpg\u001b[0m\n",
      "\u001b[01;35mmask_LIDC-IDRI-0005_116.jpg\u001b[0m  \u001b[01;35mmask_LIDC-IDRI-0010_39.jpg\u001b[0m\n",
      "\u001b[01;35mmask_LIDC-IDRI-0005_117.jpg\u001b[0m  \u001b[01;35mmask_LIDC-IDRI-0010_4.jpg\u001b[0m\n",
      "\u001b[01;35mmask_LIDC-IDRI-0005_118.jpg\u001b[0m  \u001b[01;35mmask_LIDC-IDRI-0010_40.jpg\u001b[0m\n",
      "\u001b[01;35mmask_LIDC-IDRI-0005_119.jpg\u001b[0m  \u001b[01;35mmask_LIDC-IDRI-0010_41.jpg\u001b[0m\n",
      "\u001b[01;35mmask_LIDC-IDRI-0005_12.jpg\u001b[0m   \u001b[01;35mmask_LIDC-IDRI-0010_42.jpg\u001b[0m\n",
      "\u001b[01;35mmask_LIDC-IDRI-0005_120.jpg\u001b[0m  \u001b[01;35mmask_LIDC-IDRI-0010_43.jpg\u001b[0m\n",
      "\u001b[01;35mmask_LIDC-IDRI-0005_121.jpg\u001b[0m  \u001b[01;35mmask_LIDC-IDRI-0010_44.jpg\u001b[0m\n",
      "\u001b[01;35mmask_LIDC-IDRI-0005_122.jpg\u001b[0m  \u001b[01;35mmask_LIDC-IDRI-0010_45.jpg\u001b[0m\n",
      "\u001b[01;35mmask_LIDC-IDRI-0005_123.jpg\u001b[0m  \u001b[01;35mmask_LIDC-IDRI-0010_46.jpg\u001b[0m\n",
      "\u001b[01;35mmask_LIDC-IDRI-0005_124.jpg\u001b[0m  \u001b[01;35mmask_LIDC-IDRI-0010_47.jpg\u001b[0m\n",
      "\u001b[01;35mmask_LIDC-IDRI-0005_125.jpg\u001b[0m  \u001b[01;35mmask_LIDC-IDRI-0010_48.jpg\u001b[0m\n",
      "\u001b[01;35mmask_LIDC-IDRI-0005_126.jpg\u001b[0m  \u001b[01;35mmask_LIDC-IDRI-0010_49.jpg\u001b[0m\n",
      "\u001b[01;35mmask_LIDC-IDRI-0005_127.jpg\u001b[0m  \u001b[01;35mmask_LIDC-IDRI-0010_5.jpg\u001b[0m\n",
      "\u001b[01;35mmask_LIDC-IDRI-0005_128.jpg\u001b[0m  \u001b[01;35mmask_LIDC-IDRI-0010_50.jpg\u001b[0m\n",
      "\u001b[01;35mmask_LIDC-IDRI-0005_129.jpg\u001b[0m  \u001b[01;35mmask_LIDC-IDRI-0010_51.jpg\u001b[0m\n",
      "\u001b[01;35mmask_LIDC-IDRI-0005_13.jpg\u001b[0m   \u001b[01;35mmask_LIDC-IDRI-0010_52.jpg\u001b[0m\n",
      "\u001b[01;35mmask_LIDC-IDRI-0005_130.jpg\u001b[0m  \u001b[01;35mmask_LIDC-IDRI-0010_53.jpg\u001b[0m\n",
      "\u001b[01;35mmask_LIDC-IDRI-0005_131.jpg\u001b[0m  \u001b[01;35mmask_LIDC-IDRI-0010_54.jpg\u001b[0m\n",
      "\u001b[01;35mmask_LIDC-IDRI-0005_132.jpg\u001b[0m  \u001b[01;35mmask_LIDC-IDRI-0010_55.jpg\u001b[0m\n",
      "\u001b[01;35mmask_LIDC-IDRI-0005_14.jpg\u001b[0m   \u001b[01;35mmask_LIDC-IDRI-0010_56.jpg\u001b[0m\n",
      "\u001b[01;35mmask_LIDC-IDRI-0005_15.jpg\u001b[0m   \u001b[01;35mmask_LIDC-IDRI-0010_57.jpg\u001b[0m\n",
      "\u001b[01;35mmask_LIDC-IDRI-0005_16.jpg\u001b[0m   \u001b[01;35mmask_LIDC-IDRI-0010_58.jpg\u001b[0m\n",
      "\u001b[01;35mmask_LIDC-IDRI-0005_17.jpg\u001b[0m   \u001b[01;35mmask_LIDC-IDRI-0010_59.jpg\u001b[0m\n",
      "\u001b[01;35mmask_LIDC-IDRI-0005_18.jpg\u001b[0m   \u001b[01;35mmask_LIDC-IDRI-0010_6.jpg\u001b[0m\n",
      "\u001b[01;35mmask_LIDC-IDRI-0005_19.jpg\u001b[0m   \u001b[01;35mmask_LIDC-IDRI-0010_60.jpg\u001b[0m\n",
      "\u001b[01;35mmask_LIDC-IDRI-0005_2.jpg\u001b[0m    \u001b[01;35mmask_LIDC-IDRI-0010_61.jpg\u001b[0m\n",
      "\u001b[01;35mmask_LIDC-IDRI-0005_20.jpg\u001b[0m   \u001b[01;35mmask_LIDC-IDRI-0010_62.jpg\u001b[0m\n",
      "\u001b[01;35mmask_LIDC-IDRI-0005_21.jpg\u001b[0m   \u001b[01;35mmask_LIDC-IDRI-0010_63.jpg\u001b[0m\n",
      "\u001b[01;35mmask_LIDC-IDRI-0005_22.jpg\u001b[0m   \u001b[01;35mmask_LIDC-IDRI-0010_64.jpg\u001b[0m\n",
      "\u001b[01;35mmask_LIDC-IDRI-0005_23.jpg\u001b[0m   \u001b[01;35mmask_LIDC-IDRI-0010_65.jpg\u001b[0m\n",
      "\u001b[01;35mmask_LIDC-IDRI-0005_24.jpg\u001b[0m   \u001b[01;35mmask_LIDC-IDRI-0010_66.jpg\u001b[0m\n",
      "\u001b[01;35mmask_LIDC-IDRI-0005_25.jpg\u001b[0m   \u001b[01;35mmask_LIDC-IDRI-0010_67.jpg\u001b[0m\n",
      "\u001b[01;35mmask_LIDC-IDRI-0005_26.jpg\u001b[0m   \u001b[01;35mmask_LIDC-IDRI-0010_68.jpg\u001b[0m\n",
      "\u001b[01;35mmask_LIDC-IDRI-0005_27.jpg\u001b[0m   \u001b[01;35mmask_LIDC-IDRI-0010_69.jpg\u001b[0m\n",
      "\u001b[01;35mmask_LIDC-IDRI-0005_28.jpg\u001b[0m   \u001b[01;35mmask_LIDC-IDRI-0010_7.jpg\u001b[0m\n",
      "\u001b[01;35mmask_LIDC-IDRI-0005_29.jpg\u001b[0m   \u001b[01;35mmask_LIDC-IDRI-0010_70.jpg\u001b[0m\n",
      "\u001b[01;35mmask_LIDC-IDRI-0005_3.jpg\u001b[0m    \u001b[01;35mmask_LIDC-IDRI-0010_71.jpg\u001b[0m\n",
      "\u001b[01;35mmask_LIDC-IDRI-0005_30.jpg\u001b[0m   \u001b[01;35mmask_LIDC-IDRI-0010_72.jpg\u001b[0m\n",
      "\u001b[01;35mmask_LIDC-IDRI-0005_31.jpg\u001b[0m   \u001b[01;35mmask_LIDC-IDRI-0010_73.jpg\u001b[0m\n",
      "\u001b[01;35mmask_LIDC-IDRI-0005_32.jpg\u001b[0m   \u001b[01;35mmask_LIDC-IDRI-0010_74.jpg\u001b[0m\n",
      "\u001b[01;35mmask_LIDC-IDRI-0005_33.jpg\u001b[0m   \u001b[01;35mmask_LIDC-IDRI-0010_75.jpg\u001b[0m\n",
      "\u001b[01;35mmask_LIDC-IDRI-0005_34.jpg\u001b[0m   \u001b[01;35mmask_LIDC-IDRI-0010_76.jpg\u001b[0m\n",
      "\u001b[01;35mmask_LIDC-IDRI-0005_35.jpg\u001b[0m   \u001b[01;35mmask_LIDC-IDRI-0010_77.jpg\u001b[0m\n",
      "\u001b[01;35mmask_LIDC-IDRI-0005_36.jpg\u001b[0m   \u001b[01;35mmask_LIDC-IDRI-0010_78.jpg\u001b[0m\n",
      "\u001b[01;35mmask_LIDC-IDRI-0005_37.jpg\u001b[0m   \u001b[01;35mmask_LIDC-IDRI-0010_79.jpg\u001b[0m\n",
      "\u001b[01;35mmask_LIDC-IDRI-0005_38.jpg\u001b[0m   \u001b[01;35mmask_LIDC-IDRI-0010_8.jpg\u001b[0m\n",
      "\u001b[01;35mmask_LIDC-IDRI-0005_39.jpg\u001b[0m   \u001b[01;35mmask_LIDC-IDRI-0010_80.jpg\u001b[0m\n",
      "\u001b[01;35mmask_LIDC-IDRI-0005_4.jpg\u001b[0m    \u001b[01;35mmask_LIDC-IDRI-0010_81.jpg\u001b[0m\n",
      "\u001b[01;35mmask_LIDC-IDRI-0005_40.jpg\u001b[0m   \u001b[01;35mmask_LIDC-IDRI-0010_82.jpg\u001b[0m\n",
      "\u001b[01;35mmask_LIDC-IDRI-0005_41.jpg\u001b[0m   \u001b[01;35mmask_LIDC-IDRI-0010_83.jpg\u001b[0m\n",
      "\u001b[01;35mmask_LIDC-IDRI-0005_42.jpg\u001b[0m   \u001b[01;35mmask_LIDC-IDRI-0010_84.jpg\u001b[0m\n",
      "\u001b[01;35mmask_LIDC-IDRI-0005_43.jpg\u001b[0m   \u001b[01;35mmask_LIDC-IDRI-0010_85.jpg\u001b[0m\n",
      "\u001b[01;35mmask_LIDC-IDRI-0005_44.jpg\u001b[0m   \u001b[01;35mmask_LIDC-IDRI-0010_86.jpg\u001b[0m\n",
      "\u001b[01;35mmask_LIDC-IDRI-0005_45.jpg\u001b[0m   \u001b[01;35mmask_LIDC-IDRI-0010_87.jpg\u001b[0m\n",
      "\u001b[01;35mmask_LIDC-IDRI-0005_46.jpg\u001b[0m   \u001b[01;35mmask_LIDC-IDRI-0010_88.jpg\u001b[0m\n",
      "\u001b[01;35mmask_LIDC-IDRI-0005_47.jpg\u001b[0m   \u001b[01;35mmask_LIDC-IDRI-0010_89.jpg\u001b[0m\n",
      "\u001b[01;35mmask_LIDC-IDRI-0005_48.jpg\u001b[0m   \u001b[01;35mmask_LIDC-IDRI-0010_9.jpg\u001b[0m\n",
      "\u001b[01;35mmask_LIDC-IDRI-0005_49.jpg\u001b[0m   \u001b[01;35mmask_LIDC-IDRI-0010_90.jpg\u001b[0m\n",
      "\u001b[01;35mmask_LIDC-IDRI-0005_5.jpg\u001b[0m    \u001b[01;35mmask_LIDC-IDRI-0010_91.jpg\u001b[0m\n",
      "\u001b[01;35mmask_LIDC-IDRI-0005_50.jpg\u001b[0m   \u001b[01;35mmask_LIDC-IDRI-0010_92.jpg\u001b[0m\n",
      "\u001b[01;35mmask_LIDC-IDRI-0005_51.jpg\u001b[0m   \u001b[01;35mmask_LIDC-IDRI-0010_93.jpg\u001b[0m\n",
      "\u001b[01;35mmask_LIDC-IDRI-0005_52.jpg\u001b[0m   \u001b[01;35mmask_LIDC-IDRI-0010_94.jpg\u001b[0m\n",
      "\u001b[01;35mmask_LIDC-IDRI-0005_53.jpg\u001b[0m   \u001b[01;35mmask_LIDC-IDRI-0010_95.jpg\u001b[0m\n",
      "\u001b[01;35mmask_LIDC-IDRI-0005_54.jpg\u001b[0m   \u001b[01;35mmask_LIDC-IDRI-0010_96.jpg\u001b[0m\n",
      "\u001b[01;35mmask_LIDC-IDRI-0005_55.jpg\u001b[0m   \u001b[01;35mmask_LIDC-IDRI-0010_97.jpg\u001b[0m\n",
      "\u001b[01;35mmask_LIDC-IDRI-0005_56.jpg\u001b[0m   \u001b[01;35mmask_LIDC-IDRI-0010_98.jpg\u001b[0m\n",
      "\u001b[01;35mmask_LIDC-IDRI-0005_57.jpg\u001b[0m   \u001b[01;35mmask_LIDC-IDRI-0010_99.jpg\u001b[0m\n",
      "\u001b[01;35mmask_LIDC-IDRI-0005_58.jpg\u001b[0m   \u001b[01;35mmask_LIDC-IDRI-0011_0.jpg\u001b[0m\n",
      "\u001b[01;35mmask_LIDC-IDRI-0005_59.jpg\u001b[0m   \u001b[01;35mmask_LIDC-IDRI-0011_1.jpg\u001b[0m\n",
      "\u001b[01;35mmask_LIDC-IDRI-0005_6.jpg\u001b[0m    \u001b[01;35mmask_LIDC-IDRI-0011_10.jpg\u001b[0m\n",
      "\u001b[01;35mmask_LIDC-IDRI-0005_60.jpg\u001b[0m   \u001b[01;35mmask_LIDC-IDRI-0011_100.jpg\u001b[0m\n",
      "\u001b[01;35mmask_LIDC-IDRI-0005_61.jpg\u001b[0m   \u001b[01;35mmask_LIDC-IDRI-0011_101.jpg\u001b[0m\n",
      "\u001b[01;35mmask_LIDC-IDRI-0005_62.jpg\u001b[0m   \u001b[01;35mmask_LIDC-IDRI-0011_102.jpg\u001b[0m\n",
      "\u001b[01;35mmask_LIDC-IDRI-0005_63.jpg\u001b[0m   \u001b[01;35mmask_LIDC-IDRI-0011_103.jpg\u001b[0m\n",
      "\u001b[01;35mmask_LIDC-IDRI-0005_64.jpg\u001b[0m   \u001b[01;35mmask_LIDC-IDRI-0011_104.jpg\u001b[0m\n",
      "\u001b[01;35mmask_LIDC-IDRI-0005_65.jpg\u001b[0m   \u001b[01;35mmask_LIDC-IDRI-0011_105.jpg\u001b[0m\n",
      "\u001b[01;35mmask_LIDC-IDRI-0005_66.jpg\u001b[0m   \u001b[01;35mmask_LIDC-IDRI-0011_106.jpg\u001b[0m\n",
      "\u001b[01;35mmask_LIDC-IDRI-0005_67.jpg\u001b[0m   \u001b[01;35mmask_LIDC-IDRI-0011_107.jpg\u001b[0m\n",
      "\u001b[01;35mmask_LIDC-IDRI-0005_68.jpg\u001b[0m   \u001b[01;35mmask_LIDC-IDRI-0011_108.jpg\u001b[0m\n",
      "\u001b[01;35mmask_LIDC-IDRI-0005_69.jpg\u001b[0m   \u001b[01;35mmask_LIDC-IDRI-0011_109.jpg\u001b[0m\n",
      "\u001b[01;35mmask_LIDC-IDRI-0005_7.jpg\u001b[0m    \u001b[01;35mmask_LIDC-IDRI-0011_11.jpg\u001b[0m\n",
      "\u001b[01;35mmask_LIDC-IDRI-0005_70.jpg\u001b[0m   \u001b[01;35mmask_LIDC-IDRI-0011_110.jpg\u001b[0m\n",
      "\u001b[01;35mmask_LIDC-IDRI-0005_71.jpg\u001b[0m   \u001b[01;35mmask_LIDC-IDRI-0011_111.jpg\u001b[0m\n",
      "\u001b[01;35mmask_LIDC-IDRI-0005_72.jpg\u001b[0m   \u001b[01;35mmask_LIDC-IDRI-0011_112.jpg\u001b[0m\n",
      "\u001b[01;35mmask_LIDC-IDRI-0005_73.jpg\u001b[0m   \u001b[01;35mmask_LIDC-IDRI-0011_113.jpg\u001b[0m\n",
      "\u001b[01;35mmask_LIDC-IDRI-0005_74.jpg\u001b[0m   \u001b[01;35mmask_LIDC-IDRI-0011_114.jpg\u001b[0m\n",
      "\u001b[01;35mmask_LIDC-IDRI-0005_75.jpg\u001b[0m   \u001b[01;35mmask_LIDC-IDRI-0011_115.jpg\u001b[0m\n",
      "\u001b[01;35mmask_LIDC-IDRI-0005_76.jpg\u001b[0m   \u001b[01;35mmask_LIDC-IDRI-0011_116.jpg\u001b[0m\n",
      "\u001b[01;35mmask_LIDC-IDRI-0005_77.jpg\u001b[0m   \u001b[01;35mmask_LIDC-IDRI-0011_117.jpg\u001b[0m\n",
      "\u001b[01;35mmask_LIDC-IDRI-0005_78.jpg\u001b[0m   \u001b[01;35mmask_LIDC-IDRI-0011_118.jpg\u001b[0m\n",
      "\u001b[01;35mmask_LIDC-IDRI-0005_79.jpg\u001b[0m   \u001b[01;35mmask_LIDC-IDRI-0011_119.jpg\u001b[0m\n",
      "\u001b[01;35mmask_LIDC-IDRI-0005_8.jpg\u001b[0m    \u001b[01;35mmask_LIDC-IDRI-0011_12.jpg\u001b[0m\n",
      "\u001b[01;35mmask_LIDC-IDRI-0005_80.jpg\u001b[0m   \u001b[01;35mmask_LIDC-IDRI-0011_120.jpg\u001b[0m\n",
      "\u001b[01;35mmask_LIDC-IDRI-0005_81.jpg\u001b[0m   \u001b[01;35mmask_LIDC-IDRI-0011_121.jpg\u001b[0m\n",
      "\u001b[01;35mmask_LIDC-IDRI-0005_82.jpg\u001b[0m   \u001b[01;35mmask_LIDC-IDRI-0011_122.jpg\u001b[0m\n",
      "\u001b[01;35mmask_LIDC-IDRI-0005_83.jpg\u001b[0m   \u001b[01;35mmask_LIDC-IDRI-0011_123.jpg\u001b[0m\n",
      "\u001b[01;35mmask_LIDC-IDRI-0005_84.jpg\u001b[0m   \u001b[01;35mmask_LIDC-IDRI-0011_124.jpg\u001b[0m\n",
      "\u001b[01;35mmask_LIDC-IDRI-0005_85.jpg\u001b[0m   \u001b[01;35mmask_LIDC-IDRI-0011_125.jpg\u001b[0m\n",
      "\u001b[01;35mmask_LIDC-IDRI-0005_86.jpg\u001b[0m   \u001b[01;35mmask_LIDC-IDRI-0011_126.jpg\u001b[0m\n",
      "\u001b[01;35mmask_LIDC-IDRI-0005_87.jpg\u001b[0m   \u001b[01;35mmask_LIDC-IDRI-0011_127.jpg\u001b[0m\n",
      "\u001b[01;35mmask_LIDC-IDRI-0005_88.jpg\u001b[0m   \u001b[01;35mmask_LIDC-IDRI-0011_13.jpg\u001b[0m\n",
      "\u001b[01;35mmask_LIDC-IDRI-0005_89.jpg\u001b[0m   \u001b[01;35mmask_LIDC-IDRI-0011_14.jpg\u001b[0m\n",
      "\u001b[01;35mmask_LIDC-IDRI-0005_9.jpg\u001b[0m    \u001b[01;35mmask_LIDC-IDRI-0011_15.jpg\u001b[0m\n",
      "\u001b[01;35mmask_LIDC-IDRI-0005_90.jpg\u001b[0m   \u001b[01;35mmask_LIDC-IDRI-0011_16.jpg\u001b[0m\n",
      "\u001b[01;35mmask_LIDC-IDRI-0005_91.jpg\u001b[0m   \u001b[01;35mmask_LIDC-IDRI-0011_17.jpg\u001b[0m\n",
      "\u001b[01;35mmask_LIDC-IDRI-0005_92.jpg\u001b[0m   \u001b[01;35mmask_LIDC-IDRI-0011_18.jpg\u001b[0m\n",
      "\u001b[01;35mmask_LIDC-IDRI-0005_93.jpg\u001b[0m   \u001b[01;35mmask_LIDC-IDRI-0011_19.jpg\u001b[0m\n",
      "\u001b[01;35mmask_LIDC-IDRI-0005_94.jpg\u001b[0m   \u001b[01;35mmask_LIDC-IDRI-0011_2.jpg\u001b[0m\n",
      "\u001b[01;35mmask_LIDC-IDRI-0005_95.jpg\u001b[0m   \u001b[01;35mmask_LIDC-IDRI-0011_20.jpg\u001b[0m\n",
      "\u001b[01;35mmask_LIDC-IDRI-0005_96.jpg\u001b[0m   \u001b[01;35mmask_LIDC-IDRI-0011_21.jpg\u001b[0m\n",
      "\u001b[01;35mmask_LIDC-IDRI-0005_97.jpg\u001b[0m   \u001b[01;35mmask_LIDC-IDRI-0011_22.jpg\u001b[0m\n",
      "\u001b[01;35mmask_LIDC-IDRI-0005_98.jpg\u001b[0m   \u001b[01;35mmask_LIDC-IDRI-0011_23.jpg\u001b[0m\n",
      "\u001b[01;35mmask_LIDC-IDRI-0005_99.jpg\u001b[0m   \u001b[01;35mmask_LIDC-IDRI-0011_24.jpg\u001b[0m\n",
      "\u001b[01;35mmask_LIDC-IDRI-0006_0.jpg\u001b[0m    \u001b[01;35mmask_LIDC-IDRI-0011_25.jpg\u001b[0m\n",
      "\u001b[01;35mmask_LIDC-IDRI-0006_1.jpg\u001b[0m    \u001b[01;35mmask_LIDC-IDRI-0011_26.jpg\u001b[0m\n",
      "\u001b[01;35mmask_LIDC-IDRI-0006_10.jpg\u001b[0m   \u001b[01;35mmask_LIDC-IDRI-0011_27.jpg\u001b[0m\n",
      "\u001b[01;35mmask_LIDC-IDRI-0006_100.jpg\u001b[0m  \u001b[01;35mmask_LIDC-IDRI-0011_28.jpg\u001b[0m\n",
      "\u001b[01;35mmask_LIDC-IDRI-0006_101.jpg\u001b[0m  \u001b[01;35mmask_LIDC-IDRI-0011_29.jpg\u001b[0m\n",
      "\u001b[01;35mmask_LIDC-IDRI-0006_102.jpg\u001b[0m  \u001b[01;35mmask_LIDC-IDRI-0011_3.jpg\u001b[0m\n",
      "\u001b[01;35mmask_LIDC-IDRI-0006_103.jpg\u001b[0m  \u001b[01;35mmask_LIDC-IDRI-0011_30.jpg\u001b[0m\n",
      "\u001b[01;35mmask_LIDC-IDRI-0006_104.jpg\u001b[0m  \u001b[01;35mmask_LIDC-IDRI-0011_31.jpg\u001b[0m\n",
      "\u001b[01;35mmask_LIDC-IDRI-0006_105.jpg\u001b[0m  \u001b[01;35mmask_LIDC-IDRI-0011_32.jpg\u001b[0m\n",
      "\u001b[01;35mmask_LIDC-IDRI-0006_106.jpg\u001b[0m  \u001b[01;35mmask_LIDC-IDRI-0011_33.jpg\u001b[0m\n",
      "\u001b[01;35mmask_LIDC-IDRI-0006_107.jpg\u001b[0m  \u001b[01;35mmask_LIDC-IDRI-0011_34.jpg\u001b[0m\n",
      "\u001b[01;35mmask_LIDC-IDRI-0006_108.jpg\u001b[0m  \u001b[01;35mmask_LIDC-IDRI-0011_35.jpg\u001b[0m\n",
      "\u001b[01;35mmask_LIDC-IDRI-0006_109.jpg\u001b[0m  \u001b[01;35mmask_LIDC-IDRI-0011_36.jpg\u001b[0m\n",
      "\u001b[01;35mmask_LIDC-IDRI-0006_11.jpg\u001b[0m   \u001b[01;35mmask_LIDC-IDRI-0011_37.jpg\u001b[0m\n",
      "\u001b[01;35mmask_LIDC-IDRI-0006_110.jpg\u001b[0m  \u001b[01;35mmask_LIDC-IDRI-0011_38.jpg\u001b[0m\n",
      "\u001b[01;35mmask_LIDC-IDRI-0006_111.jpg\u001b[0m  \u001b[01;35mmask_LIDC-IDRI-0011_39.jpg\u001b[0m\n",
      "\u001b[01;35mmask_LIDC-IDRI-0006_112.jpg\u001b[0m  \u001b[01;35mmask_LIDC-IDRI-0011_4.jpg\u001b[0m\n",
      "\u001b[01;35mmask_LIDC-IDRI-0006_113.jpg\u001b[0m  \u001b[01;35mmask_LIDC-IDRI-0011_40.jpg\u001b[0m\n",
      "\u001b[01;35mmask_LIDC-IDRI-0006_114.jpg\u001b[0m  \u001b[01;35mmask_LIDC-IDRI-0011_41.jpg\u001b[0m\n",
      "\u001b[01;35mmask_LIDC-IDRI-0006_115.jpg\u001b[0m  \u001b[01;35mmask_LIDC-IDRI-0011_42.jpg\u001b[0m\n",
      "\u001b[01;35mmask_LIDC-IDRI-0006_116.jpg\u001b[0m  \u001b[01;35mmask_LIDC-IDRI-0011_43.jpg\u001b[0m\n",
      "\u001b[01;35mmask_LIDC-IDRI-0006_117.jpg\u001b[0m  \u001b[01;35mmask_LIDC-IDRI-0011_44.jpg\u001b[0m\n",
      "\u001b[01;35mmask_LIDC-IDRI-0006_118.jpg\u001b[0m  \u001b[01;35mmask_LIDC-IDRI-0011_45.jpg\u001b[0m\n",
      "\u001b[01;35mmask_LIDC-IDRI-0006_119.jpg\u001b[0m  \u001b[01;35mmask_LIDC-IDRI-0011_46.jpg\u001b[0m\n",
      "\u001b[01;35mmask_LIDC-IDRI-0006_12.jpg\u001b[0m   \u001b[01;35mmask_LIDC-IDRI-0011_47.jpg\u001b[0m\n",
      "\u001b[01;35mmask_LIDC-IDRI-0006_120.jpg\u001b[0m  \u001b[01;35mmask_LIDC-IDRI-0011_48.jpg\u001b[0m\n",
      "\u001b[01;35mmask_LIDC-IDRI-0006_121.jpg\u001b[0m  \u001b[01;35mmask_LIDC-IDRI-0011_49.jpg\u001b[0m\n",
      "\u001b[01;35mmask_LIDC-IDRI-0006_122.jpg\u001b[0m  \u001b[01;35mmask_LIDC-IDRI-0011_5.jpg\u001b[0m\n",
      "\u001b[01;35mmask_LIDC-IDRI-0006_123.jpg\u001b[0m  \u001b[01;35mmask_LIDC-IDRI-0011_50.jpg\u001b[0m\n",
      "\u001b[01;35mmask_LIDC-IDRI-0006_124.jpg\u001b[0m  \u001b[01;35mmask_LIDC-IDRI-0011_51.jpg\u001b[0m\n",
      "\u001b[01;35mmask_LIDC-IDRI-0006_125.jpg\u001b[0m  \u001b[01;35mmask_LIDC-IDRI-0011_52.jpg\u001b[0m\n",
      "\u001b[01;35mmask_LIDC-IDRI-0006_126.jpg\u001b[0m  \u001b[01;35mmask_LIDC-IDRI-0011_53.jpg\u001b[0m\n",
      "\u001b[01;35mmask_LIDC-IDRI-0006_127.jpg\u001b[0m  \u001b[01;35mmask_LIDC-IDRI-0011_54.jpg\u001b[0m\n",
      "\u001b[01;35mmask_LIDC-IDRI-0006_128.jpg\u001b[0m  \u001b[01;35mmask_LIDC-IDRI-0011_55.jpg\u001b[0m\n",
      "\u001b[01;35mmask_LIDC-IDRI-0006_129.jpg\u001b[0m  \u001b[01;35mmask_LIDC-IDRI-0011_56.jpg\u001b[0m\n",
      "\u001b[01;35mmask_LIDC-IDRI-0006_13.jpg\u001b[0m   \u001b[01;35mmask_LIDC-IDRI-0011_57.jpg\u001b[0m\n",
      "\u001b[01;35mmask_LIDC-IDRI-0006_130.jpg\u001b[0m  \u001b[01;35mmask_LIDC-IDRI-0011_58.jpg\u001b[0m\n",
      "\u001b[01;35mmask_LIDC-IDRI-0006_131.jpg\u001b[0m  \u001b[01;35mmask_LIDC-IDRI-0011_59.jpg\u001b[0m\n",
      "\u001b[01;35mmask_LIDC-IDRI-0006_132.jpg\u001b[0m  \u001b[01;35mmask_LIDC-IDRI-0011_6.jpg\u001b[0m\n",
      "\u001b[01;35mmask_LIDC-IDRI-0006_14.jpg\u001b[0m   \u001b[01;35mmask_LIDC-IDRI-0011_60.jpg\u001b[0m\n",
      "\u001b[01;35mmask_LIDC-IDRI-0006_15.jpg\u001b[0m   \u001b[01;35mmask_LIDC-IDRI-0011_61.jpg\u001b[0m\n",
      "\u001b[01;35mmask_LIDC-IDRI-0006_16.jpg\u001b[0m   \u001b[01;35mmask_LIDC-IDRI-0011_62.jpg\u001b[0m\n",
      "\u001b[01;35mmask_LIDC-IDRI-0006_17.jpg\u001b[0m   \u001b[01;35mmask_LIDC-IDRI-0011_63.jpg\u001b[0m\n",
      "\u001b[01;35mmask_LIDC-IDRI-0006_18.jpg\u001b[0m   \u001b[01;35mmask_LIDC-IDRI-0011_64.jpg\u001b[0m\n",
      "\u001b[01;35mmask_LIDC-IDRI-0006_19.jpg\u001b[0m   \u001b[01;35mmask_LIDC-IDRI-0011_65.jpg\u001b[0m\n",
      "\u001b[01;35mmask_LIDC-IDRI-0006_2.jpg\u001b[0m    \u001b[01;35mmask_LIDC-IDRI-0011_66.jpg\u001b[0m\n",
      "\u001b[01;35mmask_LIDC-IDRI-0006_20.jpg\u001b[0m   \u001b[01;35mmask_LIDC-IDRI-0011_67.jpg\u001b[0m\n",
      "\u001b[01;35mmask_LIDC-IDRI-0006_21.jpg\u001b[0m   \u001b[01;35mmask_LIDC-IDRI-0011_68.jpg\u001b[0m\n",
      "\u001b[01;35mmask_LIDC-IDRI-0006_22.jpg\u001b[0m   \u001b[01;35mmask_LIDC-IDRI-0011_69.jpg\u001b[0m\n",
      "\u001b[01;35mmask_LIDC-IDRI-0006_23.jpg\u001b[0m   \u001b[01;35mmask_LIDC-IDRI-0011_7.jpg\u001b[0m\n",
      "\u001b[01;35mmask_LIDC-IDRI-0006_24.jpg\u001b[0m   \u001b[01;35mmask_LIDC-IDRI-0011_70.jpg\u001b[0m\n",
      "\u001b[01;35mmask_LIDC-IDRI-0006_25.jpg\u001b[0m   \u001b[01;35mmask_LIDC-IDRI-0011_71.jpg\u001b[0m\n",
      "\u001b[01;35mmask_LIDC-IDRI-0006_26.jpg\u001b[0m   \u001b[01;35mmask_LIDC-IDRI-0011_72.jpg\u001b[0m\n",
      "\u001b[01;35mmask_LIDC-IDRI-0006_27.jpg\u001b[0m   \u001b[01;35mmask_LIDC-IDRI-0011_73.jpg\u001b[0m\n",
      "\u001b[01;35mmask_LIDC-IDRI-0006_28.jpg\u001b[0m   \u001b[01;35mmask_LIDC-IDRI-0011_74.jpg\u001b[0m\n",
      "\u001b[01;35mmask_LIDC-IDRI-0006_29.jpg\u001b[0m   \u001b[01;35mmask_LIDC-IDRI-0011_75.jpg\u001b[0m\n",
      "\u001b[01;35mmask_LIDC-IDRI-0006_3.jpg\u001b[0m    \u001b[01;35mmask_LIDC-IDRI-0011_76.jpg\u001b[0m\n",
      "\u001b[01;35mmask_LIDC-IDRI-0006_30.jpg\u001b[0m   \u001b[01;35mmask_LIDC-IDRI-0011_77.jpg\u001b[0m\n",
      "\u001b[01;35mmask_LIDC-IDRI-0006_31.jpg\u001b[0m   \u001b[01;35mmask_LIDC-IDRI-0011_78.jpg\u001b[0m\n",
      "\u001b[01;35mmask_LIDC-IDRI-0006_32.jpg\u001b[0m   \u001b[01;35mmask_LIDC-IDRI-0011_79.jpg\u001b[0m\n",
      "\u001b[01;35mmask_LIDC-IDRI-0006_33.jpg\u001b[0m   \u001b[01;35mmask_LIDC-IDRI-0011_8.jpg\u001b[0m\n",
      "\u001b[01;35mmask_LIDC-IDRI-0006_34.jpg\u001b[0m   \u001b[01;35mmask_LIDC-IDRI-0011_80.jpg\u001b[0m\n",
      "\u001b[01;35mmask_LIDC-IDRI-0006_35.jpg\u001b[0m   \u001b[01;35mmask_LIDC-IDRI-0011_81.jpg\u001b[0m\n",
      "\u001b[01;35mmask_LIDC-IDRI-0006_36.jpg\u001b[0m   \u001b[01;35mmask_LIDC-IDRI-0011_82.jpg\u001b[0m\n",
      "\u001b[01;35mmask_LIDC-IDRI-0006_37.jpg\u001b[0m   \u001b[01;35mmask_LIDC-IDRI-0011_83.jpg\u001b[0m\n",
      "\u001b[01;35mmask_LIDC-IDRI-0006_38.jpg\u001b[0m   \u001b[01;35mmask_LIDC-IDRI-0011_84.jpg\u001b[0m\n",
      "\u001b[01;35mmask_LIDC-IDRI-0006_39.jpg\u001b[0m   \u001b[01;35mmask_LIDC-IDRI-0011_85.jpg\u001b[0m\n",
      "\u001b[01;35mmask_LIDC-IDRI-0006_4.jpg\u001b[0m    \u001b[01;35mmask_LIDC-IDRI-0011_86.jpg\u001b[0m\n",
      "\u001b[01;35mmask_LIDC-IDRI-0006_40.jpg\u001b[0m   \u001b[01;35mmask_LIDC-IDRI-0011_87.jpg\u001b[0m\n",
      "\u001b[01;35mmask_LIDC-IDRI-0006_41.jpg\u001b[0m   \u001b[01;35mmask_LIDC-IDRI-0011_88.jpg\u001b[0m\n",
      "\u001b[01;35mmask_LIDC-IDRI-0006_42.jpg\u001b[0m   \u001b[01;35mmask_LIDC-IDRI-0011_89.jpg\u001b[0m\n",
      "\u001b[01;35mmask_LIDC-IDRI-0006_43.jpg\u001b[0m   \u001b[01;35mmask_LIDC-IDRI-0011_9.jpg\u001b[0m\n",
      "\u001b[01;35mmask_LIDC-IDRI-0006_44.jpg\u001b[0m   \u001b[01;35mmask_LIDC-IDRI-0011_90.jpg\u001b[0m\n",
      "\u001b[01;35mmask_LIDC-IDRI-0006_45.jpg\u001b[0m   \u001b[01;35mmask_LIDC-IDRI-0011_91.jpg\u001b[0m\n",
      "\u001b[01;35mmask_LIDC-IDRI-0006_46.jpg\u001b[0m   \u001b[01;35mmask_LIDC-IDRI-0011_92.jpg\u001b[0m\n",
      "\u001b[01;35mmask_LIDC-IDRI-0006_47.jpg\u001b[0m   \u001b[01;35mmask_LIDC-IDRI-0011_93.jpg\u001b[0m\n",
      "\u001b[01;35mmask_LIDC-IDRI-0006_48.jpg\u001b[0m   \u001b[01;35mmask_LIDC-IDRI-0011_94.jpg\u001b[0m\n",
      "\u001b[01;35mmask_LIDC-IDRI-0006_49.jpg\u001b[0m   \u001b[01;35mmask_LIDC-IDRI-0011_95.jpg\u001b[0m\n",
      "\u001b[01;35mmask_LIDC-IDRI-0006_5.jpg\u001b[0m    \u001b[01;35mmask_LIDC-IDRI-0011_96.jpg\u001b[0m\n",
      "\u001b[01;35mmask_LIDC-IDRI-0006_50.jpg\u001b[0m   \u001b[01;35mmask_LIDC-IDRI-0011_97.jpg\u001b[0m\n",
      "\u001b[01;35mmask_LIDC-IDRI-0006_51.jpg\u001b[0m   \u001b[01;35mmask_LIDC-IDRI-0011_98.jpg\u001b[0m\n",
      "\u001b[01;35mmask_LIDC-IDRI-0006_52.jpg\u001b[0m   \u001b[01;35mmask_LIDC-IDRI-0011_99.jpg\u001b[0m\n"
     ]
    }
   ],
   "source": [
    "ls /rawdata/all/train/masks/"
   ]
  },
  {
   "cell_type": "code",
   "execution_count": 111,
   "id": "0e20a3aa",
   "metadata": {},
   "outputs": [],
   "source": [
    "image = Image.open('/rawdata/all/train/images/img_LIDC-IDRI-0001_89.jpg')\n",
    "image -= np.mean(image)\n",
    "image /= np.std(image)"
   ]
  },
  {
   "cell_type": "code",
   "execution_count": 114,
   "id": "2c8ae676",
   "metadata": {},
   "outputs": [
    {
     "data": {
      "text/plain": [
       "<matplotlib.image.AxesImage at 0x7ff7dc8e2bb0>"
      ]
     },
     "execution_count": 114,
     "metadata": {},
     "output_type": "execute_result"
    },
    {
     "data": {
      "image/png": "[encoded data removed]",
      "text/plain": [
       "<Figure size 432x288 with 1 Axes>"
      ]
     },
     "metadata": {
      "needs_background": "light"
     },
     "output_type": "display_data"
    }
   ],
   "source": [
    "plt.imshow(image)"
   ]
  },
  {
   "cell_type": "code",
   "execution_count": 115,
   "id": "4bba598f",
   "metadata": {
    "collapsed": true,
    "jupyter": {
     "outputs_hidden": true
    }
   },
   "outputs": [
    {
     "data": {
      "text/plain": [
       "array([-1.58683432, -1.56010518, -1.53337603, -1.50664688, -1.47991773,\n",
       "       -1.45318859, -1.42645944, -1.39973029, -1.37300114, -1.346272  ,\n",
       "       -1.31954285, -1.2928137 , -1.26608455, -1.2393554 , -1.21262626,\n",
       "       -1.18589711, -1.15916796, -1.13243881, -1.10570967, -1.07898052,\n",
       "       -1.05225137, -1.02552222, -0.99879307, -0.97206393, -0.94533478,\n",
       "       -0.91860563, -0.89187648, -0.86514734, -0.83841819, -0.81168904,\n",
       "       -0.78495989, -0.75823075, -0.7315016 , -0.70477245, -0.6780433 ,\n",
       "       -0.65131415, -0.62458501, -0.59785586, -0.57112671, -0.54439756,\n",
       "       -0.51766842, -0.49093927, -0.46421012, -0.43748097, -0.41075182,\n",
       "       -0.38402268, -0.35729353, -0.33056438, -0.30383523, -0.27710609,\n",
       "       -0.25037694, -0.22364779, -0.19691864, -0.1701895 , -0.14346035,\n",
       "       -0.1167312 , -0.09000205, -0.0632729 , -0.03654376, -0.00981461,\n",
       "        0.01691454,  0.04364369,  0.07037283,  0.09710198,  0.12383113,\n",
       "        0.15056028,  0.17728943,  0.20401857,  0.23074772,  0.25747687,\n",
       "        0.28420602,  0.31093516,  0.33766431,  0.36439346,  0.39112261,\n",
       "        0.41785175,  0.4445809 ,  0.47131005,  0.4980392 ,  0.52476835,\n",
       "        0.55149749,  0.57822664,  0.60495579,  0.63168494,  0.65841408,\n",
       "        0.68514323,  0.71187238,  0.73860153,  0.76533068,  0.79205982,\n",
       "        0.81878897,  0.84551812,  0.87224727,  0.89897641,  0.92570556,\n",
       "        0.95243471,  0.97916386,  1.005893  ,  1.03262215,  1.0593513 ,\n",
       "        1.08608045,  1.1128096 ,  1.13953874,  1.16626789,  1.19299704,\n",
       "        1.21972619,  1.24645533,  1.27318448,  1.29991363,  1.32664278,\n",
       "        1.35337193,  1.38010107,  1.40683022,  1.43355937,  1.46028852,\n",
       "        1.48701766,  1.51374681,  1.54047596,  1.56720511,  1.59393425,\n",
       "        1.6206634 ,  1.64739255,  1.6741217 ,  1.70085085,  1.72757999,\n",
       "        1.75430914,  1.78103829,  1.80776744,  1.83449658,  1.86122573,\n",
       "        1.88795488,  1.91468403,  1.94141318,  1.96814232,  1.99487147,\n",
       "        2.02160062,  2.04832977,  2.07505891,  2.10178806,  2.12851721,\n",
       "        2.15524636,  2.1819755 ,  2.20870465,  2.2354338 ,  2.26216295,\n",
       "        2.2888921 ,  2.31562124,  2.34235039,  2.36907954,  2.39580869,\n",
       "        2.42253783,  2.44926698,  2.47599613,  2.50272528,  2.52945443,\n",
       "        2.55618357,  2.58291272,  2.60964187,  2.63637102,  2.66310016,\n",
       "        2.68982931,  2.71655846,  2.74328761,  2.77001675,  2.7967459 ,\n",
       "        2.82347505,  2.8502042 ,  2.87693335,  2.90366249,  2.93039164,\n",
       "        2.95712079,  2.98384994,  3.01057908,  3.03730823,  3.06403738,\n",
       "        3.09076653,  3.11749568,  3.14422482,  3.17095397,  3.19768312,\n",
       "        3.22441227,  3.25114141,  3.27787056,  3.30459971,  3.33132886,\n",
       "        3.358058  ,  3.38478715,  3.4115163 ,  3.43824545,  3.4649746 ,\n",
       "        3.49170374,  3.51843289,  3.54516204,  3.57189119,  3.59862033,\n",
       "        3.62534948,  3.65207863,  3.67880778,  3.70553693,  3.73226607,\n",
       "        3.75899522,  3.78572437,  3.81245352,  3.83918266,  3.86591181,\n",
       "        3.89264096,  3.91937011,  3.94609925,  3.9728284 ,  3.99955755,\n",
       "        4.0262867 ,  4.05301585,  4.07974499,  4.10647414,  4.13320329,\n",
       "        4.15993244,  4.18666158,  4.21339073,  4.24011988,  4.26684903,\n",
       "        4.29357818,  4.32030732,  4.34703647,  4.37376562,  4.42722391,\n",
       "        4.45395306,  4.48068221,  4.50741136,  4.56086965,  4.5875988 ,\n",
       "        4.61432795,  4.6410571 ,  4.66778624,  4.69451539,  4.72124454,\n",
       "        4.74797369,  4.80143198,  4.82816113,  4.88161943,  4.90834857,\n",
       "        4.96180687,  4.98853602,  5.04199431,  5.06872346,  5.09545261,\n",
       "        5.12218176,  5.1489109 ,  5.17564005,  5.22909835])"
      ]
     },
     "execution_count": 115,
     "metadata": {},
     "output_type": "execute_result"
    }
   ],
   "source": [
    "np.unique(image)"
   ]
  },
  {
   "cell_type": "code",
   "execution_count": null,
   "id": "18e505bf",
   "metadata": {},
   "outputs": [],
   "source": []
  }
 ],
 "metadata": {
  "kernelspec": {
   "display_name": "Python 3 (ipykernel)",
   "language": "python",
   "name": "python3"
  },
  "language_info": {
   "codemirror_mode": {
    "name": "ipython",
    "version": 3
   },
   "file_extension": ".py",
   "mimetype": "text/x-python",
   "name": "python",
   "nbconvert_exporter": "python",
   "pygments_lexer": "ipython3",
   "version": "3.8.10"
  }
 },
 "nbformat": 4,
 "nbformat_minor": 5
}
