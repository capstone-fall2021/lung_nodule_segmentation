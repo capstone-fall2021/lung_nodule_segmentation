{
 "cells": [
  {
   "cell_type": "markdown",
   "id": "starting-vertex",
   "metadata": {},
   "source": [
    "### Training data preparation for UNET segmentation model\n",
    "\n",
    "Pre-requisites:\n",
    "- ensure you have download the DICOM data (download_data_lidc.ipynb)"
   ]
  },
  {
   "cell_type": "code",
   "execution_count": 1,
   "id": "ceramic-international",
   "metadata": {
    "collapsed": true,
    "jupyter": {
     "outputs_hidden": true
    }
   },
   "outputs": [
    {
     "name": "stdout",
     "output_type": "stream",
     "text": [
      "Collecting pydicom==2.2.2\n",
      "  Downloading pydicom-2.2.2-py3-none-any.whl (2.0 MB)\n",
      "\u001b[K     |████████████████████████████████| 2.0 MB 21.8 MB/s eta 0:00:01\n",
      "\u001b[?25hCollecting pylidc==0.2.2\n",
      "  Downloading pylidc-0.2.2-py2.py3-none-any.whl (5.6 MB)\n",
      "\u001b[K     |████████████████████████████████| 5.6 MB 20.9 MB/s eta 0:00:01\n",
      "\u001b[?25hCollecting torchsummary==1.5.1\n",
      "  Downloading torchsummary-1.5.1-py3-none-any.whl (2.8 kB)\n",
      "Collecting imageio==2.10.4\n",
      "  Downloading imageio-2.10.4-py3-none-any.whl (3.3 MB)\n",
      "\u001b[K     |████████████████████████████████| 3.3 MB 57.8 MB/s eta 0:00:01\n",
      "\u001b[?25hCollecting gsutil==5.5\n",
      "  Downloading gsutil-5.5.tar.gz (2.9 MB)\n",
      "\u001b[K     |████████████████████████████████| 2.9 MB 59.2 MB/s eta 0:00:01\n",
      "\u001b[?25hCollecting google-cloud-bigquery==2.30.1\n",
      "  Downloading google_cloud_bigquery-2.30.1-py2.py3-none-any.whl (203 kB)\n",
      "\u001b[K     |████████████████████████████████| 203 kB 56.6 MB/s eta 0:00:01\n",
      "\u001b[?25hRequirement already satisfied: scikit-image>=0.13 in /opt/conda/lib/python3.8/site-packages (from pylidc==0.2.2->-r requirements.txt (line 2)) (0.15.0)\n",
      "Requirement already satisfied: matplotlib>=2.0.0 in /opt/conda/lib/python3.8/site-packages (from pylidc==0.2.2->-r requirements.txt (line 2)) (3.3.4)\n",
      "Requirement already satisfied: numpy>=1.12.0 in /opt/conda/lib/python3.8/site-packages (from pylidc==0.2.2->-r requirements.txt (line 2)) (1.19.2)\n",
      "Collecting sqlalchemy>=1.1.5\n",
      "  Downloading SQLAlchemy-1.4.27-cp38-cp38-manylinux_2_5_x86_64.manylinux1_x86_64.manylinux_2_17_x86_64.manylinux2014_x86_64.whl (1.6 MB)\n",
      "\u001b[K     |████████████████████████████████| 1.6 MB 69.9 MB/s eta 0:00:01\n",
      "\u001b[?25hRequirement already satisfied: scipy>=0.18.1 in /opt/conda/lib/python3.8/site-packages (from pylidc==0.2.2->-r requirements.txt (line 2)) (1.6.0)\n",
      "Collecting pillow>=8.3.2\n",
      "  Downloading Pillow-8.4.0-cp38-cp38-manylinux_2_17_x86_64.manylinux2014_x86_64.whl (3.1 MB)\n",
      "\u001b[K     |████████████████████████████████| 3.1 MB 73.1 MB/s eta 0:00:01\n",
      "\u001b[?25hCollecting argcomplete>=1.9.4\n",
      "  Downloading argcomplete-1.12.3-py2.py3-none-any.whl (38 kB)\n",
      "Collecting crcmod>=1.7\n",
      "  Downloading crcmod-1.7.tar.gz (89 kB)\n",
      "\u001b[K     |████████████████████████████████| 89 kB 8.4 MB/s  eta 0:00:01\n",
      "\u001b[?25hCollecting fasteners>=0.14.1\n",
      "  Downloading fasteners-0.16.3-py2.py3-none-any.whl (28 kB)\n",
      "Collecting gcs-oauth2-boto-plugin>=3.0\n",
      "  Downloading gcs-oauth2-boto-plugin-3.0.tar.gz (20 kB)\n",
      "Collecting google-apitools>=0.5.32\n",
      "  Downloading google_apitools-0.5.32-py3-none-any.whl (135 kB)\n",
      "\u001b[K     |████████████████████████████████| 135 kB 53.6 MB/s eta 0:00:01\n",
      "\u001b[?25hCollecting httplib2>=0.18\n",
      "  Downloading httplib2-0.20.2-py3-none-any.whl (96 kB)\n",
      "\u001b[K     |████████████████████████████████| 96 kB 6.0 MB/s  eta 0:00:01\n",
      "\u001b[?25hCollecting google-reauth>=0.1.0\n",
      "  Downloading google_reauth-0.1.1-py2.py3-none-any.whl (17 kB)\n",
      "Collecting monotonic>=1.4\n",
      "  Downloading monotonic-1.6-py2.py3-none-any.whl (8.2 kB)\n",
      "Requirement already satisfied: pyOpenSSL>=0.13 in /opt/conda/lib/python3.8/site-packages (from gsutil==5.5->-r requirements.txt (line 5)) (19.1.0)\n",
      "Collecting retry_decorator>=1.0.0\n",
      "  Downloading retry_decorator-1.1.1.tar.gz (3.9 kB)\n",
      "Requirement already satisfied: six>=1.12.0 in /opt/conda/lib/python3.8/site-packages (from gsutil==5.5->-r requirements.txt (line 5)) (1.15.0)\n",
      "Collecting proto-plus>=1.10.0\n",
      "  Downloading proto_plus-1.19.8-py3-none-any.whl (45 kB)\n",
      "\u001b[K     |████████████████████████████████| 45 kB 3.6 MB/s  eta 0:00:01\n",
      "\u001b[?25hCollecting grpcio<2.0dev,>=1.38.1\n",
      "  Downloading grpcio-1.42.0-cp38-cp38-manylinux_2_17_x86_64.manylinux2014_x86_64.whl (4.0 MB)\n",
      "\u001b[K     |████████████████████████████████| 4.0 MB 53.5 MB/s eta 0:00:01\n",
      "\u001b[?25hRequirement already satisfied: requests<3.0.0dev,>=2.18.0 in /opt/conda/lib/python3.8/site-packages (from google-cloud-bigquery==2.30.1->-r requirements.txt (line 6)) (2.24.0)\n",
      "Collecting google-cloud-core<3.0.0dev,>=1.4.1\n",
      "  Downloading google_cloud_core-2.2.1-py2.py3-none-any.whl (29 kB)\n",
      "Collecting google-resumable-media<3.0dev,>=0.6.0\n",
      "  Downloading google_resumable_media-2.1.0-py2.py3-none-any.whl (75 kB)\n",
      "\u001b[K     |████████████████████████████████| 75 kB 4.4 MB/s  eta 0:00:01\n",
      "\u001b[?25hCollecting google-api-core[grpc]<3.0.0dev,>=1.29.0\n",
      "  Downloading google_api_core-2.2.2-py2.py3-none-any.whl (95 kB)\n",
      "\u001b[K     |████████████████████████████████| 95 kB 4.9 MB/s  eta 0:00:01\n",
      "\u001b[?25hRequirement already satisfied: protobuf>=3.12.0 in /opt/conda/lib/python3.8/site-packages (from google-cloud-bigquery==2.30.1->-r requirements.txt (line 6)) (3.14.0)\n",
      "Requirement already satisfied: packaging>=14.3 in /opt/conda/lib/python3.8/site-packages (from google-cloud-bigquery==2.30.1->-r requirements.txt (line 6)) (20.9)\n",
      "Requirement already satisfied: python-dateutil<3.0dev,>=2.7.2 in /opt/conda/lib/python3.8/site-packages (from google-cloud-bigquery==2.30.1->-r requirements.txt (line 6)) (2.8.1)\n",
      "Requirement already satisfied: PyWavelets>=0.4.0 in /opt/conda/lib/python3.8/site-packages (from scikit-image>=0.13->pylidc==0.2.2->-r requirements.txt (line 2)) (1.1.1)\n",
      "Requirement already satisfied: networkx>=2.0 in /opt/conda/lib/python3.8/site-packages (from scikit-image>=0.13->pylidc==0.2.2->-r requirements.txt (line 2)) (2.0)\n",
      "Requirement already satisfied: cycler>=0.10 in /opt/conda/lib/python3.8/site-packages (from matplotlib>=2.0.0->pylidc==0.2.2->-r requirements.txt (line 2)) (0.10.0)\n",
      "Requirement already satisfied: kiwisolver>=1.0.1 in /opt/conda/lib/python3.8/site-packages (from matplotlib>=2.0.0->pylidc==0.2.2->-r requirements.txt (line 2)) (1.3.1)\n",
      "Requirement already satisfied: pyparsing!=2.0.4,!=2.1.2,!=2.1.6,>=2.0.3 in /opt/conda/lib/python3.8/site-packages (from matplotlib>=2.0.0->pylidc==0.2.2->-r requirements.txt (line 2)) (2.4.7)\n",
      "Collecting greenlet!=0.4.17; python_version >= \"3\" and (platform_machine == \"aarch64\" or (platform_machine == \"ppc64le\" or (platform_machine == \"x86_64\" or (platform_machine == \"amd64\" or (platform_machine == \"AMD64\" or (platform_machine == \"win32\" or platform_machine == \"WIN32\"))))))\n",
      "  Downloading greenlet-1.1.2-cp38-cp38-manylinux_2_17_x86_64.manylinux2014_x86_64.whl (156 kB)\n",
      "\u001b[K     |████████████████████████████████| 156 kB 47.1 MB/s eta 0:00:01\n",
      "\u001b[?25hCollecting rsa==4.7.2\n",
      "  Downloading rsa-4.7.2-py3-none-any.whl (34 kB)\n",
      "Collecting boto>=2.29.1\n",
      "  Downloading boto-2.49.0-py2.py3-none-any.whl (1.4 MB)\n",
      "\u001b[K     |████████████████████████████████| 1.4 MB 54.1 MB/s eta 0:00:01\n",
      "\u001b[?25hCollecting oauth2client>=2.2.0\n",
      "  Downloading oauth2client-4.1.3-py2.py3-none-any.whl (98 kB)\n",
      "\u001b[K     |████████████████████████████████| 98 kB 6.8 MB/s  eta 0:00:01\n",
      "\u001b[?25hCollecting pyu2f\n",
      "  Downloading pyu2f-0.1.5.tar.gz (27 kB)\n",
      "Requirement already satisfied: cryptography>=2.8 in /opt/conda/lib/python3.8/site-packages (from pyOpenSSL>=0.13->gsutil==5.5->-r requirements.txt (line 5)) (3.2.1)\n",
      "Requirement already satisfied: certifi>=2017.4.17 in /opt/conda/lib/python3.8/site-packages (from requests<3.0.0dev,>=2.18.0->google-cloud-bigquery==2.30.1->-r requirements.txt (line 6)) (2020.12.5)\n",
      "Requirement already satisfied: urllib3!=1.25.0,!=1.25.1,<1.26,>=1.21.1 in /opt/conda/lib/python3.8/site-packages (from requests<3.0.0dev,>=2.18.0->google-cloud-bigquery==2.30.1->-r requirements.txt (line 6)) (1.25.11)\n",
      "Requirement already satisfied: chardet<4,>=3.0.2 in /opt/conda/lib/python3.8/site-packages (from requests<3.0.0dev,>=2.18.0->google-cloud-bigquery==2.30.1->-r requirements.txt (line 6)) (3.0.4)\n",
      "Requirement already satisfied: idna<3,>=2.5 in /opt/conda/lib/python3.8/site-packages (from requests<3.0.0dev,>=2.18.0->google-cloud-bigquery==2.30.1->-r requirements.txt (line 6)) (2.10)\n",
      "Collecting google-auth<3.0dev,>=1.24.0\n",
      "  Downloading google_auth-2.3.3-py2.py3-none-any.whl (155 kB)\n",
      "\u001b[K     |████████████████████████████████| 155 kB 57.7 MB/s eta 0:00:01\n",
      "\u001b[?25hCollecting google-crc32c<2.0dev,>=1.0\n",
      "  Downloading google_crc32c-1.3.0-cp38-cp38-manylinux_2_12_x86_64.manylinux2010_x86_64.whl (37 kB)\n",
      "Collecting googleapis-common-protos<2.0dev,>=1.52.0\n",
      "  Downloading googleapis_common_protos-1.53.0-py2.py3-none-any.whl (198 kB)\n",
      "\u001b[K     |████████████████████████████████| 198 kB 61.4 MB/s eta 0:00:01\n",
      "\u001b[?25hRequirement already satisfied: setuptools>=40.3.0 in /opt/conda/lib/python3.8/site-packages (from google-api-core[grpc]<3.0.0dev,>=1.29.0->google-cloud-bigquery==2.30.1->-r requirements.txt (line 6)) (50.3.1.post20201107)\n",
      "Collecting grpcio-status<2.0dev,>=1.33.2; extra == \"grpc\"\n",
      "  Downloading grpcio_status-1.42.0-py3-none-any.whl (10.0 kB)\n",
      "Requirement already satisfied: decorator>=4.1.0 in /opt/conda/lib/python3.8/site-packages (from networkx>=2.0->scikit-image>=0.13->pylidc==0.2.2->-r requirements.txt (line 2)) (4.4.2)\n",
      "Collecting pyasn1>=0.1.3\n",
      "  Downloading pyasn1-0.4.8-py2.py3-none-any.whl (77 kB)\n",
      "\u001b[K     |████████████████████████████████| 77 kB 6.2 MB/s  eta 0:00:01\n",
      "\u001b[?25hCollecting pyasn1-modules>=0.0.5\n",
      "  Downloading pyasn1_modules-0.2.8-py2.py3-none-any.whl (155 kB)\n",
      "\u001b[K     |████████████████████████████████| 155 kB 53.4 MB/s eta 0:00:01\n",
      "\u001b[?25hRequirement already satisfied: cffi!=1.11.3,>=1.8 in /opt/conda/lib/python3.8/site-packages (from cryptography>=2.8->pyOpenSSL>=0.13->gsutil==5.5->-r requirements.txt (line 5)) (1.14.3)\n",
      "Collecting cachetools<5.0,>=2.0.0\n",
      "  Downloading cachetools-4.2.4-py3-none-any.whl (10 kB)\n",
      "Requirement already satisfied: pycparser in /opt/conda/lib/python3.8/site-packages (from cffi!=1.11.3,>=1.8->cryptography>=2.8->pyOpenSSL>=0.13->gsutil==5.5->-r requirements.txt (line 5)) (2.20)\n",
      "Building wheels for collected packages: gsutil, crcmod, gcs-oauth2-boto-plugin, retry-decorator, pyu2f\n",
      "  Building wheel for gsutil (setup.py) ... \u001b[?25ldone\n",
      "\u001b[?25h  Created wheel for gsutil: filename=gsutil-5.5-py3-none-any.whl size=3715999 sha256=30a74b417e45ed54a1c612aaf2c3f2867e4faea8022f5f980439b5ce5201ac0a\n",
      "  Stored in directory: /root/.cache/pip/wheels/01/7f/60/a5d4494eefa59d2bfb712df237a05bd6f27e49bd6b4bd59cd5\n",
      "  Building wheel for crcmod (setup.py) ... \u001b[?25ldone\n",
      "\u001b[?25h  Created wheel for crcmod: filename=crcmod-1.7-cp38-cp38-linux_x86_64.whl size=36018 sha256=67ff236f8fd90c9fd4ca027c9fc82ee491afbb7b5a204d593653b3279ac185f5\n",
      "  Stored in directory: /root/.cache/pip/wheels/ca/5a/02/f3acf982a026f3319fb3e798a8dca2d48fafee7761788562e9\n",
      "  Building wheel for gcs-oauth2-boto-plugin (setup.py) ... \u001b[?25ldone\n",
      "\u001b[?25h  Created wheel for gcs-oauth2-boto-plugin: filename=gcs_oauth2_boto_plugin-3.0-py3-none-any.whl size=23203 sha256=e02838040e5e21b7b5ed36183eb557a932b162ca130cb349da00aa9962ff5dc8\n",
      "  Stored in directory: /root/.cache/pip/wheels/c2/ff/00/10b85e9e1b43efc461153dca75aa47e4640ef41d291b3666a1\n",
      "  Building wheel for retry-decorator (setup.py) ... \u001b[?25ldone\n",
      "\u001b[?25h  Created wheel for retry-decorator: filename=retry_decorator-1.1.1-py2.py3-none-any.whl size=3640 sha256=2df9fb2d697d05c8c9c8b314947517c3a2f54abe47dc3f23d79cb9f845a90c58\n",
      "  Stored in directory: /root/.cache/pip/wheels/1e/bb/cb/5d7a05561d7ec60b8c0dc65f156a33909a3eb5c56340959fa9\n",
      "  Building wheel for pyu2f (setup.py) ... \u001b[?25ldone\n",
      "\u001b[?25h  Created wheel for pyu2f: filename=pyu2f-0.1.5-py3-none-any.whl size=39388 sha256=325626602cd65c55fe30ae383d9d24bb948e63102c6974a0e6f7ba4451169472\n",
      "  Stored in directory: /root/.cache/pip/wheels/8d/38/8f/378b4491d760a176f261d56310fcb051e53090a894534acbf0\n",
      "Successfully built gsutil crcmod gcs-oauth2-boto-plugin retry-decorator pyu2f\n",
      "Installing collected packages: pydicom, greenlet, sqlalchemy, pylidc, torchsummary, pillow, imageio, argcomplete, crcmod, fasteners, pyasn1, rsa, boto, pyu2f, google-reauth, httplib2, pyasn1-modules, oauth2client, retry-decorator, gcs-oauth2-boto-plugin, google-apitools, monotonic, gsutil, proto-plus, grpcio, cachetools, google-auth, googleapis-common-protos, grpcio-status, google-api-core, google-cloud-core, google-crc32c, google-resumable-media, google-cloud-bigquery\n",
      "  Attempting uninstall: imageio\n",
      "    Found existing installation: imageio 2.9.0\n",
      "    Uninstalling imageio-2.9.0:\n",
      "      Successfully uninstalled imageio-2.9.0\n",
      "  Attempting uninstall: grpcio\n",
      "    Found existing installation: grpcio 1.35.0\n",
      "    Uninstalling grpcio-1.35.0:\n",
      "      Successfully uninstalled grpcio-1.35.0\n",
      "\u001b[31mERROR: After October 2020 you may experience errors when installing or updating packages. This is because pip will change the way that it resolves dependency conflicts.\n",
      "\n",
      "We recommend you use --use-feature=2020-resolver to test your packages with the new resolver before it becomes the default.\n",
      "\n",
      "proto-plus 1.19.8 requires protobuf>=3.19.0, but you'll have protobuf 3.14.0 which is incompatible.\u001b[0m\n",
      "Successfully installed argcomplete-1.12.3 boto-2.49.0 cachetools-4.2.4 crcmod-1.7 fasteners-0.16.3 gcs-oauth2-boto-plugin-3.0 google-api-core-2.2.2 google-apitools-0.5.32 google-auth-2.3.3 google-cloud-bigquery-2.30.1 google-cloud-core-2.2.1 google-crc32c-1.3.0 google-reauth-0.1.1 google-resumable-media-2.1.0 googleapis-common-protos-1.53.0 greenlet-1.1.2 grpcio-1.42.0 grpcio-status-1.42.0 gsutil-5.5 httplib2-0.20.2 imageio-2.10.4 monotonic-1.6 oauth2client-4.1.3 pillow-8.4.0 proto-plus-1.19.8 pyasn1-0.4.8 pyasn1-modules-0.2.8 pydicom-2.2.2 pylidc-0.2.2 pyu2f-0.1.5 retry-decorator-1.1.1 rsa-4.7.2 sqlalchemy-1.4.27 torchsummary-1.5.1\n"
     ]
    }
   ],
   "source": [
    "!pip install -r requirements.txt"
   ]
  },
  {
   "cell_type": "code",
   "execution_count": 2,
   "id": "german-prize",
   "metadata": {},
   "outputs": [],
   "source": [
    "import pylidc as pl\n",
    "from pylidc.utils import consensus\n",
    "import pydicom as dicom\n",
    "from skimage.measure import find_contours\n",
    "import numpy as np\n",
    "import matplotlib.pyplot as plt\n",
    "from tqdm import tqdm\n",
    "from PIL import Image\n",
    "import contextlib\n",
    "import matplotlib.patches as patches\n",
    "import os\n",
    "import imageio\n",
    "import sys\n",
    "from glob import glob\n",
    "import os\n",
    "import cv2\n",
    "import numpy as np\n",
    "from skimage import morphology\n",
    "from skimage import measure\n",
    "from sklearn.cluster import KMeans\n",
    "from skimage.transform import resize\n",
    "import os\n",
    "from numpy import random\n",
    "import time\n",
    "import pandas as pd\n",
    "from PIL import Image\n",
    "import contextlib\n",
    "import os\n",
    "import contextlib\n",
    "import imageio\n",
    "from __future__ import print_function\n",
    "import sys\n",
    "from contextlib import redirect_stdout, redirect_stderr\n",
    "import cv2\n",
    "from pathlib import Path\n",
    "import random\n",
    "import math"
   ]
  },
  {
   "cell_type": "markdown",
   "id": "driving-decision",
   "metadata": {},
   "source": [
    "Following the data preprocessing approach from this paper \n",
    "\n",
    "https://www-sciencedirect-com.libproxy.berkeley.edu/science/article/pii/S003040261831235X"
   ]
  },
  {
   "cell_type": "code",
   "execution_count": 3,
   "id": "sacred-damage",
   "metadata": {},
   "outputs": [],
   "source": [
    "class RedirectStdStreams(object):\n",
    "    def __init__(self, stdout=None, stderr=None):\n",
    "        self._stdout = stdout or sys.stdout\n",
    "        self._stderr = stderr or sys.stderr\n",
    "\n",
    "    def __enter__(self):\n",
    "        self.old_stdout, self.old_stderr = sys.stdout, sys.stderr\n",
    "        self.old_stdout.flush(); self.old_stderr.flush()\n",
    "        sys.stdout, sys.stderr = self._stdout, self._stderr\n",
    "\n",
    "    def __exit__(self, exc_type, exc_value, traceback):\n",
    "        self._stdout.flush(); self._stderr.flush()\n",
    "        sys.stdout = self.old_stdout\n",
    "        sys.stderr = self.old_stderr"
   ]
  },
  {
   "cell_type": "markdown",
   "id": "major-technology",
   "metadata": {},
   "source": [
    "### Data pre-processing\n",
    "\n",
    "The DICOM image for each patient has multiple slices. Each patient may have one or more nodules.\n",
    "\n",
    "- We will select a 64x64 cropped image with the nodule at the center for each slice which has the nodule annotated\n",
    "- We will also select one negative image, i.e. a slice which has no annotated nodule around the same slice region as the nodule\n",
    "- We also use only those nodules that have annotations from all 4 radiologists\n"
   ]
  },
  {
   "cell_type": "markdown",
   "id": "allied-writer",
   "metadata": {},
   "source": [
    "##### Preprocessing steps:\n",
    "- Mark the mask for nodules which were annotated by all 4 radiologists\n",
    "- Select all the slices which have annotated masks\n",
    "- Select an equal number of slices which have no annotated masks (for negative images)\n",
    "- Create the bounding box label for each slice with a mask using find coutours method"
   ]
  },
  {
   "cell_type": "code",
   "execution_count": 4,
   "id": "superior-cable",
   "metadata": {},
   "outputs": [],
   "source": [
    "def set_dicom_path(dicom_path):\n",
    "    f = open ('/root/.pylidcrc','w')    #For Colab\n",
    "    f.write('[dicom]'+'\\n')\n",
    "    f.write('path =' + dicom_path +'\\n')\n",
    "    f.write('warn = True')\n",
    "    f.close()"
   ]
  },
  {
   "cell_type": "code",
   "execution_count": 5,
   "id": "lovely-distribution",
   "metadata": {},
   "outputs": [],
   "source": [
    "import matplotlib.patches as patches\n",
    "def get_bounding_box(img):\n",
    "    minx = []\n",
    "    miny = []\n",
    "    maxx = []\n",
    "    maxy = []\n",
    "    contours = find_contours(img.astype(float), 0.5)\n",
    "    for contour in contours:\n",
    "        minx.append(np.min(contour[:,1]))\n",
    "        maxx.append(np.max(contour[:,1]))\n",
    "        miny.append(np.min(contour[:,0]))\n",
    "        maxy.append(np.max(contour[:,0]))\n",
    "        \n",
    "    if len(minx) > 0:\n",
    "        return [(a, b, w-a, h-b) for a, b, w, h in zip(minx, miny, maxx, maxy)]\n",
    "    else:\n",
    "        return None\n",
    "    \n",
    "def plot_bounding_box(img):\n",
    "    fig, ax = plt.subplots()\n",
    "    ax.imshow(img, cmap=plt.cm.gray)\n",
    "    \n",
    "    boxes = get_bounding_box(img)\n",
    "    if boxes:\n",
    "        for box in boxes:\n",
    "            x,y,w,h = box\n",
    "            print(\"x = {}, y = {}, w = {}, h= {}\".format(x,y,w,h))\n",
    "            rect = patches.Rectangle((x, y), w, h, linewidth=1, edgecolor='r', facecolor='none')\n",
    "            ax.add_patch(rect)"
   ]
  },
  {
   "cell_type": "code",
   "execution_count": 6,
   "id": "requested-wonder",
   "metadata": {},
   "outputs": [],
   "source": [
    "def find_all_bboxes(nodule_annotation, nodule_id, plot=False):\n",
    "    bboxes = []\n",
    "    \n",
    "    cmask_CT = []\n",
    "    cbbox_CT = []\n",
    "    masks_CT = []\n",
    "    for nodule_idx, nodule in enumerate(nodules_annotation):\n",
    "        cmask, cbbox, masks = consensus(nodule)\n",
    "        cmask_CT.append(cmask)\n",
    "        cbbox_CT.append(cbbox)\n",
    "        masks_CT.append(masks)\n",
    "    CT_mask = np.zeros_like(vol)    \n",
    "    nodule_num = len(cmask_CT)\n",
    "    print(\"Number of nodules for patient {} is {}\".format(patient_id, nodule_num))\n",
    "    \n",
    "    for i in range(nodule_num):\n",
    "        cmask = cmask_CT[i]\n",
    "        cbbox = cbbox_CT[i]\n",
    "        masks = masks_CT[i]\n",
    "        CT_mask[cbbox] += cmask\n",
    "        \n",
    "\n",
    "    print(\"There are {} slices in the image\".format(cbbox_CT[nodule_id][2].stop - cbbox_CT[nodule_id][2].start))\n",
    "    for idx in np.arange(cbbox_CT[nodule_id][2].start, cbbox_CT[nodule_id][2].stop):\n",
    "        boxes = get_bounding_box(CT_mask[:,:,idx])\n",
    "        if plot:\n",
    "            plot_bounding_box(CT_mask[:,:,idx])\n",
    "        bboxes.append(boxes)\n",
    "    return bboxes"
   ]
  },
  {
   "cell_type": "code",
   "execution_count": 7,
   "id": "daily-birthday",
   "metadata": {},
   "outputs": [],
   "source": [
    "def plot_bbox_on_full_size_mask(vol, nodules_annotation, nodule_id):\n",
    "    cmask_CT = []\n",
    "    cbbox_CT = []\n",
    "    masks_CT = []\n",
    "    for nodule_idx, nodule in enumerate(nodules_annotation):\n",
    "        cmask, cbbox, masks = consensus(nodule)\n",
    "        cmask_CT.append(cmask)\n",
    "        cbbox_CT.append(cbbox)\n",
    "        masks_CT.append(masks)\n",
    "    CT_mask = np.zeros_like(vol)    \n",
    "    nodule_num = len(cmask_CT)\n",
    "    print(\"Number of nodules for patient is {}\".format(nodule_num))\n",
    "    \n",
    "    for i in range(nodule_num):\n",
    "        cmask = cmask_CT[i]\n",
    "        cbbox = cbbox_CT[i]\n",
    "        masks = masks_CT[i]\n",
    "        CT_mask[cbbox] += cmask\n",
    "        \n",
    "    for slice_idx in np.arange(cbbox_CT[nodule_id][2].start, cbbox_CT[nodule_id][2].stop):\n",
    "        plot_bounding_box(CT_mask[:,:,slice_idx])"
   ]
  },
  {
   "cell_type": "code",
   "execution_count": 8,
   "id": "liquid-montreal",
   "metadata": {},
   "outputs": [],
   "source": [
    "def plot_bbox_on_image(vol, nodules_annotation, nodule_id):\n",
    "    cmask_CT = []\n",
    "    cbbox_CT = []\n",
    "    masks_CT = []\n",
    "    for nodule_idx, nodule in enumerate(nodules_annotation):\n",
    "        cmask, cbbox, masks = consensus(nodule)\n",
    "        cmask_CT.append(cmask)\n",
    "        cbbox_CT.append(cbbox)\n",
    "        masks_CT.append(masks)\n",
    "    CT_mask = np.zeros_like(vol)    \n",
    "    nodule_num = len(cmask_CT)\n",
    "    print(\"Number of nodules for patient is {}\".format(nodule_num))\n",
    "    \n",
    "    for i in range(nodule_num):\n",
    "        cmask = cmask_CT[i]\n",
    "        cbbox = cbbox_CT[i]\n",
    "        masks = masks_CT[i]\n",
    "        CT_mask[cbbox] += cmask\n",
    "        \n",
    "    for slice_idx in np.arange(cbbox_CT[nodule_id][2].start, cbbox_CT[nodule_id][2].stop):\n",
    "        boxes = get_bounding_box(CT_mask[:,:,slice_idx])\n",
    "        img = vol[:,:,slice_idx]\n",
    "        fig, ax = plt.subplots()\n",
    "        ax.imshow(img, cmap=plt.cm.gray)\n",
    "        if boxes:\n",
    "            for box in boxes:\n",
    "                x, y, w, h = box\n",
    "                print(\"x = {}, y = {}, w = {}, h= {}\".format(x,y,w,h))\n",
    "                rect = patches.Rectangle((x, y), w, h, linewidth=1, edgecolor='r', facecolor='none')\n",
    "                ax.add_patch(rect)"
   ]
  },
  {
   "cell_type": "code",
   "execution_count": 9,
   "id": "specific-festival",
   "metadata": {},
   "outputs": [],
   "source": [
    "import shutil\n",
    "def clear_dirs(paths):\n",
    "    for path in paths:\n",
    "        if os.path.isdir(path):\n",
    "            shutil.rmtree(path)"
   ]
  },
  {
   "cell_type": "code",
   "execution_count": 10,
   "id": "unable-vault",
   "metadata": {},
   "outputs": [],
   "source": [
    "def un(a, b):\n",
    "    return np.union1d(a, b)\n",
    "\n",
    "def unr(ll, acc, i):\n",
    "    if i < len(ll):\n",
    "        j = i + 1\n",
    "        acc = un(ll[i], acc)\n",
    "        return unr(ll, acc, j)\n",
    "    else:\n",
    "        return acc\n",
    "\n",
    "def get_slices_with_masks(cbbox_CT):\n",
    "    ll = []\n",
    "    for cb in cbbox_CT:\n",
    "        ll.append(np.arange(cb[2].start, cb[2].stop+1))\n",
    "    return unr(ll, [], 0)"
   ]
  },
  {
   "cell_type": "code",
   "execution_count": 11,
   "id": "considered-statement",
   "metadata": {},
   "outputs": [],
   "source": [
    "def load_patient_vol_and_mask(dicom_dir, patient_id=-1):\n",
    "    \n",
    "    devnull = open(os.devnull, 'w')\n",
    "    \n",
    "    f = open ('/root/.pylidcrc','w')    #For Colab\n",
    "    f.write('[dicom]'+'\\n')\n",
    "    f.write('path =' + dicom_dir +'\\n')\n",
    "    f.write('warn = True')\n",
    "    f.close()\n",
    "    \n",
    "    patient_list = os.listdir(dicom_dir)\n",
    "    if patient_id == -1: #select one randomly\n",
    "        patient_id = np.random.choice(patient_list)\n",
    "    scan = pl.query(pl.Scan).filter(pl.Scan.patient_id.in_([patient_id]))[0]\n",
    "    nodules_annotation = scan.cluster_annotations()\n",
    "    vol = None\n",
    "    try:\n",
    "        with RedirectStdStreams(stdout=devnull, stderr=devnull):\n",
    "            vol = scan.to_volume()\n",
    "    except:\n",
    "        print(\"Error loading DICOM for patient {}\".format(patient_id))\n",
    "        return None, None, None, None\n",
    "    # are there nodules that are useful?\n",
    "\n",
    "    # process the mask for the image\n",
    "    cmask_CT = []\n",
    "    cbbox_CT = []\n",
    "    masks_CT = []\n",
    "    for nodule_idx, nodule in enumerate(nodules_annotation):\n",
    "        if len(nodule) >= 2:\n",
    "            cmask, cbbox, masks = consensus(nodule)\n",
    "            cmask_CT.append(cmask)\n",
    "            cbbox_CT.append(cbbox)\n",
    "            masks_CT.append(masks)\n",
    "\n",
    "    if len(cbbox_CT) <=0:\n",
    "        #print(\"No relevant nodules for patient {}\".format(patient_id))\n",
    "        return None, None, None, None\n",
    "\n",
    "\n",
    "    # create the mask voxel\n",
    "    CT_mask = np.zeros_like(vol)    \n",
    "    nodule_num = len(cmask_CT)\n",
    "\n",
    "    #print(\"Number of nodules {}\".format(nodule_num))\n",
    "    for i in range(nodule_num):\n",
    "        cmask = cmask_CT[i]\n",
    "        cbbox = cbbox_CT[i]\n",
    "        masks = masks_CT[i]\n",
    "        CT_mask[cbbox] += cmask\n",
    "\n",
    "    # get the slices that have annotations\n",
    "    slices_with_mask = get_slices_with_masks(cbbox_CT)\n",
    "    \n",
    "    return vol, CT_mask, cbbox_CT, slices_with_mask"
   ]
  },
  {
   "cell_type": "code",
   "execution_count": 12,
   "id": "soviet-madness",
   "metadata": {},
   "outputs": [],
   "source": [
    "def plot_side_by_side(vol, mask, idx):\n",
    "    f, a = plt.subplots(1,2, figsize=(8,10))\n",
    "    a[0].imshow(vol[:,:,idx])\n",
    "    a[1].imshow(mask[:,:,idx])\n",
    "    plt.show()\n",
    "\n",
    "# get 8 pixels along all axes\n",
    "def plot_side_by_side_cropped(cbbox, vol, mask, idx):\n",
    "    f, a = plt.subplots(1,2, figsize=(8,10))\n",
    "    a[0].imshow(vol[cbbox[0],cbbox[1],cbbox[2]][:,:,idx])\n",
    "    a[1].imshow(mask[cbbox[0],cbbox[1],cbbox[2]][:,:,idx])\n",
    "    plt.show()"
   ]
  },
  {
   "cell_type": "markdown",
   "id": "waiting-mapping",
   "metadata": {},
   "source": [
    "### UNET data augmentation\n",
    "\n",
    "- We process the image to highlight the region of interest\n",
    "- During training we also randomly choose to use a imgae-in-painting technique to add variation to the data\n"
   ]
  },
  {
   "cell_type": "markdown",
   "id": "adaptive-finance",
   "metadata": {},
   "source": [
    "#### Generate data for Unet\n",
    "\n",
    "- Select patients from the dicom dir\n",
    "- for each patient, load the volumes and masks\n",
    "    - Choose only those nodules that are annotated by more than 4 radiologists\n",
    "    - Select only those slices from the DICOM image which has annotated masks\n",
    "    - For each of those slices, extract a cropped 64x64 image around the mask with the annotated bounding box in the center\n",
    "    - Also generate at least one 64x64 image with the center randomly chosen in the annotated bounding box"
   ]
  },
  {
   "cell_type": "code",
   "execution_count": 13,
   "id": "expressed-catholic",
   "metadata": {},
   "outputs": [],
   "source": [
    "# take 32 pixels including c_x on each axis\n",
    "def get_stride(c, size=32):\n",
    "    start = 0\n",
    "    if (c - size) > 0:\n",
    "        start = c - size\n",
    "    else:\n",
    "        start = 0\n",
    "    if (c + size) < 512:\n",
    "        stop = c + size\n",
    "    else:\n",
    "        stop = size\n",
    "    return slice(start, stop, None)\n",
    "\n",
    "\"\"\"\n",
    "    Get a 64x64 image around the nodule, when using random = false, we get the actual clip of the annotated nodule,\n",
    "    when using random = true, get a 64x64 image around the nodule randomly chosen which may or may not show a part of the nodule\n",
    "\"\"\"\n",
    "def get_nodule_part(cbbox, random=False, shape=(32, 32), num_images=1):\n",
    "    pct_shift = 0.3\n",
    "    # extract 64x64 size images from the image randomly including the mask\n",
    "    c_xs = [int(cbbox[0].start + (cbbox[0].stop - cbbox[0].start)/2)]\n",
    "    c_ys = [int(cbbox[1].start + (cbbox[1].stop - cbbox[1].start)/2)]\n",
    "    #print(c_x, c_y)\n",
    "    if random: # random center within 64x64 box\n",
    "#         c_x = np.random.choice(np.arange(cbbox[0].start, cbbox[0].stop))\n",
    "#         c_y = np.random.choice(np.arange(cbbox[1].start, cbbox[1].stop))\n",
    "        center_x = cbbox[0].start + int((cbbox[0].stop - cbbox[0].start)/2)\n",
    "        center_y = cbbox[1].start + int((cbbox[1].stop - cbbox[1].start)/2)\n",
    "        # 10% of the image width is the jitter boundary\n",
    "        c_xs = np.random.choice(np.arange(center_x-int(shape[0]*pct_shift), center_x+int(shape[0]*pct_shift)), num_images, replace=False)\n",
    "        c_ys = np.random.choice(np.arange(center_y-int(shape[1]*pct_shift), center_y+int(shape[1]*pct_shift)), num_images, replace=False)\n",
    "    return [(get_stride(c_x, shape[0]), get_stride(c_y, shape[1]), cbbox[2]) for c_x, c_y in zip(c_xs, c_ys)]\n",
    "\n",
    "\"\"\"\n",
    "    Get a 64x64 image just outside the nodule bounding box \n",
    "\"\"\"\n",
    "def get_outside_part(cbbox, random=False):\n",
    "    # extract 64x64 size images from the image randomly including the mask\n",
    "    c_x = int(cbbox[0].start + (cbbox[0].stop - cbbox[0].start)/2)\n",
    "    c_y = int(cbbox[1].start + (cbbox[1].stop - cbbox[1].start)/2)\n",
    "    #print(c_x, c_y)\n",
    "    if random: # random center within 64x64 box\n",
    "        c_x = np.random.choice(np.arange(cbbox[0].start, cbbox[0].stop))\n",
    "        c_y = np.random.choice(np.arange(cbbox[1].start, cbbox[1].stop))\n",
    "    return get_stride(c_x, shape[0]), get_stride(c_y, shape[0]), cbbox[2]"
   ]
  },
  {
   "cell_type": "markdown",
   "id": "refined-cyprus",
   "metadata": {},
   "source": [
    "#### Routine to extract the region of interest (ROI) in the image"
   ]
  },
  {
   "cell_type": "code",
   "execution_count": 14,
   "id": "authentic-algorithm",
   "metadata": {},
   "outputs": [],
   "source": [
    "#code ref: https://github.com/JenifferWuUCLA/pulmonary-nodules-segmentation/blob/master/tianchi_segment_lung_ROI.ipynb\n",
    "def preprocess_image(img):\n",
    "    mean = np.mean(img)\n",
    "    std = np.std(img)\n",
    "    img = img-mean\n",
    "    img = img/std\n",
    "    # Find the average pixel value near the lungs\n",
    "    #　to renormalize washed out images\n",
    "    #middle = img[100:400, 100:400]\n",
    "    middle = img\n",
    "    mean = np.mean(middle)\n",
    "    max = np.max(img)\n",
    "    min = np.min(img)\n",
    "    # To improve threshold finding, I'm moving the\n",
    "    #　underflow and overflow on the pixel spectrum\n",
    "    img[img==max]=mean\n",
    "    img[img==min]=mean\n",
    "    # Using Kmeans to separate foreground (radio-opaque tissue)\n",
    "    #　and background (radio transparent tissue ie lungs)\n",
    "    # Doing this only on the center of the image to avoid\n",
    "    #　the non-tissue parts of the image as much as possible\n",
    "    kmeans = KMeans(n_clusters=2).fit(np.reshape(middle, [np.prod(middle.shape), 1]))\n",
    "    centers = sorted(kmeans.cluster_centers_.flatten())\n",
    "    threshold = np.mean(centers)\n",
    "    thresh_img = np.where(img<threshold, 1.0, 0.0)  # threshold the image\n",
    "    eroded = morphology.erosion(thresh_img, np.ones([4, 4]))\n",
    "    dilation = morphology.dilation(eroded, np.ones([10, 10]))\n",
    "    labels = measure.label(dilation)\n",
    "    regions = measure.regionprops(labels)\n",
    "    good_labels = []\n",
    "    for prop in regions:\n",
    "        B = prop.bbox\n",
    "        if B[2]-B[0] < 475 and B[3]-B[1] < 475 and B[0] > 40 and B[2] < 472:\n",
    "            good_labels.append(prop.label)\n",
    "\n",
    "    mask = np.zeros_like(labels)\n",
    "    for N in good_labels:\n",
    "        mask = mask + np.where(labels == N, 1, 0)\n",
    "\n",
    "    mask = morphology.dilation(mask, np.ones([10, 10]))  # one last dilation\n",
    "    return img * mask"
   ]
  },
  {
   "cell_type": "code",
   "execution_count": 34,
   "id": "cooperative-north",
   "metadata": {},
   "outputs": [],
   "source": [
    "\"\"\"\n",
    "    Select one negative sample, crops the same x, y slice from the volume on another z index that has no masks\n",
    "    patient_id = id of the patient\n",
    "    bounding_box = array of slices per nodule\n",
    "    nodule_number = the nodule to process\n",
    "    vol = the DICOM image\n",
    "    CT_mask = the mask from the DICOM image\n",
    "    random = when false will crop an image with nodule at center, when true will crop it wirh nodule slightly shifted randomly\n",
    "    image_save = save the generated images\n",
    "    image_plot = plot the generated images\n",
    "    size = the size of the cropped image to return\n",
    "\"\"\"\n",
    "def select_another_slice(vol, slcz):\n",
    "    idxs_after = np.arange(slcz.stop + 1, vol.shape[2])\n",
    "    idxs_before = np.arange(0, slcz.start - 1)\n",
    "    slices = []\n",
    "    if len(idxs_after) > 10: # at least 10 more slices after the stop of the annotation box\n",
    "        r = np.random.choice([2,3,4])\n",
    "        slices.append(idxs_after[r])\n",
    "    if len(idxs_before) > 10:\n",
    "        sz = len(idxs_before)\n",
    "        r = np.random.choice([sz-2,sz-3,sz-4])\n",
    "        slices.append(idxs_before[r])\n",
    "    if len(slices) <=0: # if this was towards the edge of the voxel\n",
    "        slices.append(slcz.start)\n",
    "    choice = np.random.choice(slices)\n",
    "    return choice\n",
    "def get_bounding_box_from_slice(s):\n",
    "    x, y, z = s\n",
    "    cx = int(x.start + (x.stop - x.start)/2)\n",
    "    cy = int(y.start + (y.stop - y.start)/2)\n",
    "    w = (x.stop - x.start)\n",
    "    h = (y.stop - y.start)\n",
    "    return (cx, cy, w, h)\n",
    "\n",
    "def get_crops(boxes):\n",
    "    crops = []\n",
    "    if boxes:\n",
    "        for box in boxes:\n",
    "            x, y, w, h = box\n",
    "            cx = int(x + w/2)\n",
    "            cy = int(y + h/2)\n",
    "            crops.append((get_stride(cx), get_stride(cy)))\n",
    "    return crops\n",
    "\n",
    "\"\"\"\n",
    "    Get one negative sample for this patient per nodule\n",
    "\"\"\"\n",
    "def save_negative_sample(root_dir, patient_id, bounding_box, nodule_number, vol, CT_mask, random=False, \n",
    "                            image_save=False, image_plot=True, size=(64,64)):\n",
    "    devnull = open(os.devnull, 'w')\n",
    "    assert os.path.exists('/app/data/unet/temp/')\n",
    "    if image_save:\n",
    "        assert os.path.exists(root_dir)\n",
    "        image_dir = root_dir + '/images/'\n",
    "        mask_dir = root_dir + '/masks/'\n",
    "        assert os.path.exists(image_dir)\n",
    "        assert os.path.exists(mask_dir)\n",
    "        \n",
    "    \n",
    "    slcz = bounding_box[nodule_number][2]\n",
    "    selected_slice = select_another_slice(vol, slcz)\n",
    "    box = get_bounding_box_from_slice(bounding_box[nodule_number])\n",
    "    \n",
    "    #the functions works on an arrays, get a 64x64 cropped image\n",
    "    crops = get_crops([box])\n",
    "    if len(crops) < 1:\n",
    "        return\n",
    "    crop = crops[0]\n",
    "    \n",
    "    fullimg = vol[:,:,selected_slice]\n",
    "    #save and reload\n",
    "    try:\n",
    "        with RedirectStdStreams(stdout=devnull, stderr=devnull):    \n",
    "            imageio.imwrite('/app/data/unet/temp/temp_img.jpg', fullimg)\n",
    "            disk_img = cv2.imread('/app/data/unet/temp/temp_img.jpg')\n",
    "    except:\n",
    "        print(\"Error saving intermediate image for patient {}\".format(patient_id))\n",
    "        return\n",
    "    im = cv2.cvtColor(disk_img, cv2.COLOR_BGR2GRAY)\n",
    "    img_t = preprocess_image(im)\n",
    "    cropped_img = img_t[crop[0],crop[1]]\n",
    "    mask = CT_mask[crop[0],crop[1],selected_slice]\n",
    "    \n",
    "    #img = vol[crop[0],crop[1],selected_slice]\n",
    "    \n",
    "    if cropped_img.shape != (size[0], size[1]):\n",
    "        print(\"Incorrect cropped image size\", cropped_img.shape)\n",
    "        return\n",
    "    if mask.shape != (size[0], size[1]):\n",
    "        print(\"Incorrect mask size\", mask.shape)\n",
    "        return\n",
    "    if len(np.unique(mask)) > 1:\n",
    "        print(\"Negative sample but mask length {} is > 1, not saving.\".format(len(np.unique(mask))))\n",
    "        return\n",
    "    \n",
    "    if image_save:\n",
    "        image_file_name = \"img_out_{}_{}_{}.jpg\".format(patient_id, nodule_number, selected_slice)\n",
    "        mask_file_name = \"mask_out_{}_{}_{}.jpg\".format(patient_id, nodule_number, selected_slice)\n",
    "        with RedirectStdStreams(stdout=devnull, stderr=devnull):\n",
    "            imageio.imwrite(image_dir + image_file_name, cropped_img)\n",
    "        with RedirectStdStreams(stdout=devnull, stderr=devnull):    \n",
    "            imageio.imwrite(mask_dir + mask_file_name, mask)\n",
    "    if image_plot:\n",
    "        f, a =  plt.subplots(1,2, figsize=(8,10))\n",
    "        a[0].imshow(cropped_img, 'bone')\n",
    "        a[0].set_title(\"img_out_{}_{}_{}.jpg\".format(patient_id, nodule_number, selected_slice))\n",
    "        a[1].imshow(mask, 'bone')\n",
    "        plt.show()"
   ]
  },
  {
   "cell_type": "code",
   "execution_count": 27,
   "id": "banner-slave",
   "metadata": {},
   "outputs": [],
   "source": [
    "\"\"\"\n",
    "    Save the nodule image and at least one more random image with the nodule visible but not identical to the nodule image\n",
    "    root_dir: where to save the generated images\n",
    "    patient_id = id of the patient\n",
    "    bounding_box = array of slices per nodule\n",
    "    nodule_number = the nodule to process\n",
    "    vol = the DICOM image\n",
    "    CT_mask = the mask from the DICOM image\n",
    "    random = when false will crop an image with nodule at center, when true will crop it wirh nodule slightly shifted randomly\n",
    "    image_save = save the generated images\n",
    "    image_plot = plot the generated images\n",
    "\"\"\"\n",
    "def save_image_foreach_slice(root_dir, patient_id, bounding_box, nodule_number, vol, CT_mask, random=False, image_save=False, image_plot=True, size=(64, 64), num_images=1):\n",
    "    devnull = open(os.devnull, 'w')\n",
    "    if image_save:\n",
    "        assert os.path.exists(root_dir)\n",
    "        image_dir = root_dir + '/images/'\n",
    "        mask_dir = root_dir + '/masks/'\n",
    "        assert os.path.exists(image_dir)\n",
    "        assert os.path.exists(mask_dir)\n",
    "    slcz = bounding_box[nodule_number][2]\n",
    "    unique_slice_ids = np.arange(slcz.start, slcz.stop)\n",
    "    # Get the clip such that the nodule is at the center of the 64x64 image\n",
    "    slcs = get_nodule_part(bounding_box[nodule_number], random, shape=(int(size[0]/2), int(size[1]/2)), num_images=num_images)\n",
    "    cnt = 0\n",
    "    for slc in slcs:\n",
    "        assert len(unique_slice_ids) == len(range(slc[2].stop - slc[2].start))\n",
    "        for slice_index, unique_slice_id in zip(range(slc[2].stop - slc[2].start),unique_slice_ids):\n",
    "            fullimg = vol[:,:,slc[2]][:,:,slice_index]\n",
    "            vol_t = preprocess_image(fullimg)\n",
    "            img = vol_t[slc[0],slc[1]]\n",
    "            mask = CT_mask[slc[0],slc[1],slc[2]][:,:,slice_index]\n",
    "            if img.shape != (size[0], size[1]):\n",
    "                print(\"Error: image size is not {}\".format(size))\n",
    "                continue\n",
    "            if mask.shape != (size[0], size[1]):\n",
    "                print(\"Error: mask size is not {}\".format(size))\n",
    "                continue\n",
    "            if image_save:\n",
    "                if random:\n",
    "                    image_file_name = \"img_random_{}_{}_{}.jpg\".format(patient_id, nodule_number, unique_slice_id)\n",
    "                    mask_file_name = \"mask_random_{}_{}_{}.jpg\".format(patient_id, nodule_number, unique_slice_id)\n",
    "                else:\n",
    "                    image_file_name = \"img_{}_{}_{}.jpg\".format(patient_id, nodule_number, unique_slice_id)\n",
    "                    mask_file_name = \"mask_{}_{}_{}.jpg\".format(patient_id, nodule_number, unique_slice_id)\n",
    "                with RedirectStdStreams(stdout=devnull, stderr=devnull):\n",
    "                    imageio.imwrite(image_dir + image_file_name, img)\n",
    "                with RedirectStdStreams(stdout=devnull, stderr=devnull):\n",
    "                    imageio.imwrite(mask_dir + mask_file_name, mask)\n",
    "            if image_plot:\n",
    "                cnt += 1\n",
    "                f, a =  plt.subplots(1,2, figsize=(10,16))\n",
    "                a[0].imshow(img, 'bone')\n",
    "                if random:\n",
    "                    a[0].set_title(\"img_random_{}_{}_{}.jpg\".format(patient_id, nodule_number, unique_slice_id))\n",
    "                else:\n",
    "                    a[0].set_title(\"img_{}_{}_{}.jpg\".format(patient_id, nodule_number, unique_slice_id))\n",
    "                a[1].imshow(mask, 'bone')\n",
    "                plt.show()\n",
    "    if image_plot:\n",
    "        print(\"Saved {} images\".format(cnt))"
   ]
  },
  {
   "cell_type": "markdown",
   "id": "worth-bristol",
   "metadata": {},
   "source": [
    "#### Test the image generation code"
   ]
  },
  {
   "cell_type": "code",
   "execution_count": 28,
   "id": "classified-brush",
   "metadata": {},
   "outputs": [
    {
     "name": "stdout",
     "output_type": "stream",
     "text": [
      "There are 1 nodules\n"
     ]
    },
    {
     "data": {
      "image/png": "[encoded data removed]",
      "text/plain": [
       "<Figure size 720x1152 with 2 Axes>"
      ]
     },
     "metadata": {
      "needs_background": "light"
     },
     "output_type": "display_data"
    },
    {
     "data": {
      "image/png": "[encoded data removed]",
      "text/plain": [
       "<Figure size 720x1152 with 2 Axes>"
      ]
     },
     "metadata": {
      "needs_background": "light"
     },
     "output_type": "display_data"
    },
    {
     "data": {
      "image/png": "[encoded data removed]",
      "text/plain": [
       "<Figure size 720x1152 with 2 Axes>"
      ]
     },
     "metadata": {
      "needs_background": "light"
     },
     "output_type": "display_data"
    },
    {
     "name": "stdout",
     "output_type": "stream",
     "text": [
      "Saved 3 images\n"
     ]
    }
   ],
   "source": [
    "vol, CT_mask, cbbox, slices_with_mask = load_patient_vol_and_mask('/app/data/lidc/dicom/train/sorted_gcsfiles', 'LIDC-IDRI-0040')\n",
    "print(\"There are {} nodules\".format(len(cbbox)))\n",
    "for nodule_num in range(len(cbbox)):\n",
    "    save_image_foreach_slice(root_dir='/app/data/unet/train/', patient_id='LIDC-IDRI-0284', bounding_box=cbbox, nodule_number=nodule_num,  \n",
    "                             vol=vol, CT_mask=CT_mask, random=True, image_save=False, image_plot=True, size=(64,64), num_images=1)"
   ]
  },
  {
   "cell_type": "code",
   "execution_count": 29,
   "id": "together-spoke",
   "metadata": {},
   "outputs": [
    {
     "name": "stdout",
     "output_type": "stream",
     "text": [
      "There are 1 nodules\n"
     ]
    },
    {
     "data": {
      "image/png": "[encoded data removed]",
      "text/plain": [
       "<Figure size 576x720 with 2 Axes>"
      ]
     },
     "metadata": {
      "needs_background": "light"
     },
     "output_type": "display_data"
    }
   ],
   "source": [
    "root_dir= '/app/data/unet/train/'\n",
    "vol, CT_mask, cbbox, slices_with_mask = load_patient_vol_and_mask('/app/data/lidc/dicom/train/sorted_gcsfiles', 'LIDC-IDRI-0040')\n",
    "print(\"There are {} nodules\".format(len(cbbox)))\n",
    "for nodule_num in range(len(cbbox)):\n",
    "    save_negative_sample(root_dir=root_dir, patient_id='LIDC-IDRI-0040', bounding_box=cbbox, nodule_number=nodule_num,  \n",
    "                         vol=vol, CT_mask=CT_mask, random=True, image_save=False, image_plot=True, size=(64,64))"
   ]
  },
  {
   "cell_type": "code",
   "execution_count": 31,
   "id": "chicken-vegetarian",
   "metadata": {},
   "outputs": [],
   "source": [
    "def save_generated_images_for_patient(root_dir='/app/data/unet/train/', dicom_dir='/rawdata/train/sorted_gcsfiles', patient_id='LIDC-IDRI-0284'):\n",
    "    vol, CT_mask, cbbox, slices_with_mask = load_patient_vol_and_mask(dicom_dir, patient_id)\n",
    "    if cbbox:\n",
    "        for nodule_num in range(len(cbbox)):\n",
    "            # One positive image (image containing a visible nodule) per slice per nodule\n",
    "            save_image_foreach_slice(root_dir=root_dir, patient_id=patient_id, bounding_box=cbbox, nodule_number=nodule_num,  \n",
    "                             vol=vol, CT_mask=CT_mask, random=False, image_save=True, image_plot=False, size=(64,64), num_images=1)\n",
    "            # One negative image per nodule\n",
    "            save_negative_sample(root_dir=root_dir, patient_id=patient_id, bounding_box=cbbox, nodule_number=nodule_num,  \n",
    "                         vol=vol, CT_mask=CT_mask, random=True, image_save=True, image_plot=False, size=(64,64))"
   ]
  },
  {
   "cell_type": "code",
   "execution_count": 32,
   "id": "suspended-private",
   "metadata": {},
   "outputs": [],
   "source": [
    "import os\n",
    "root_path = '/app/data/unet/train/'\n",
    "\"\"\"\n",
    "    UNET data dir should have only 'images' and 'masks' folder and they should be empty\n",
    "\"\"\"\n",
    "def check_dirs(root_path):\n",
    "    if not os.path.exists('/app/data/unet/temp/'):\n",
    "        os.makedirs('/app/data/unet/temp/')\n",
    "    if not os.path.exists(root_path):\n",
    "        #create\n",
    "        imagedir = root_path + \"/images/\"\n",
    "        maskdir = root_path + \"/masks/\"\n",
    "        os.makedirs(imagedir)\n",
    "        os.makedirs(maskdir)\n",
    "    dirs = os.listdir(root_path)\n",
    "    s = np.setdiff1d(np.array(['images', 'masks']), np.array(dirs))\n",
    "    assert len(s) == 0, \"Directory structure not correct!\"\n",
    "    for d in dirs:\n",
    "        tmp = root_path + \"/\" + d\n",
    "        if os.path.exists(tmp):\n",
    "            files = os.listdir(tmp)\n",
    "            assert len(files) <= 0, \"Directory not empty!\""
   ]
  },
  {
   "cell_type": "code",
   "execution_count": 33,
   "id": "partial-bachelor",
   "metadata": {},
   "outputs": [
    {
     "name": "stderr",
     "output_type": "stream",
     "text": [
      " 73%|███████▎  | 37/51 [04:44<01:52,  8.05s/it]"
     ]
    },
    {
     "name": "stdout",
     "output_type": "stream",
     "text": [
      "Mask length 2\n"
     ]
    },
    {
     "name": "stderr",
     "output_type": "stream",
     "text": [
      " 92%|█████████▏| 47/51 [06:21<00:31,  7.94s/it]"
     ]
    },
    {
     "name": "stdout",
     "output_type": "stream",
     "text": [
      "Mask length 2\n"
     ]
    },
    {
     "name": "stderr",
     "output_type": "stream",
     "text": [
      "100%|██████████| 51/51 [07:02<00:00,  8.29s/it]"
     ]
    },
    {
     "name": "stdout",
     "output_type": "stream",
     "text": [
      "CPU times: user 10min 31s, sys: 46.2 s, total: 11min 17s\n",
      "Wall time: 7min 2s\n"
     ]
    },
    {
     "name": "stderr",
     "output_type": "stream",
     "text": [
      "\n"
     ]
    }
   ],
   "source": [
    "%%time\n",
    "patients = os.listdir('/app/data/lidc/dicom/train/sorted_gcsfiles/')\n",
    "data_dir = '/app/data/unet/train/'\n",
    "check_dirs(data_dir)\n",
    "for pat in tqdm(patients):\n",
    "    save_generated_images_for_patient(root_dir=data_dir, dicom_dir='/app/data/lidc/dicom/train/sorted_gcsfiles/', patient_id=pat)"
   ]
  },
  {
   "cell_type": "code",
   "execution_count": 35,
   "id": "veterinary-saint",
   "metadata": {},
   "outputs": [
    {
     "name": "stderr",
     "output_type": "stream",
     "text": [
      "  4%|▍         | 6/151 [00:29<11:17,  4.67s/it]"
     ]
    },
    {
     "name": "stdout",
     "output_type": "stream",
     "text": [
      "Negative sample but mask length 2 is > 1, not saving.\n"
     ]
    },
    {
     "name": "stderr",
     "output_type": "stream",
     "text": [
      " 13%|█▎        | 19/151 [02:13<17:16,  7.86s/it]"
     ]
    },
    {
     "name": "stdout",
     "output_type": "stream",
     "text": [
      "Failed to reduce all groups to <= 4 Annotations.\n",
      "Some nodules may be close and must be grouped manually.\n"
     ]
    },
    {
     "name": "stderr",
     "output_type": "stream",
     "text": [
      " 35%|███▌      | 53/151 [07:10<17:07, 10.48s/it]"
     ]
    },
    {
     "name": "stdout",
     "output_type": "stream",
     "text": [
      "Negative sample but mask length 2 is > 1, not saving.\n"
     ]
    },
    {
     "name": "stderr",
     "output_type": "stream",
     "text": [
      " 57%|█████▋    | 86/151 [10:57<06:55,  6.40s/it]"
     ]
    },
    {
     "name": "stdout",
     "output_type": "stream",
     "text": [
      "Negative sample but mask length 2 is > 1, not saving.\n"
     ]
    },
    {
     "name": "stderr",
     "output_type": "stream",
     "text": [
      " 63%|██████▎   | 95/151 [12:59<09:04,  9.72s/it]"
     ]
    },
    {
     "name": "stdout",
     "output_type": "stream",
     "text": [
      "Negative sample but mask length 2 is > 1, not saving.\n"
     ]
    },
    {
     "name": "stderr",
     "output_type": "stream",
     "text": [
      " 72%|███████▏  | 108/151 [13:54<02:01,  2.84s/it]"
     ]
    },
    {
     "name": "stdout",
     "output_type": "stream",
     "text": [
      "Error loading DICOM for patient LIDC-IDRI-0332\n"
     ]
    },
    {
     "name": "stderr",
     "output_type": "stream",
     "text": [
      " 84%|████████▍ | 127/151 [16:49<03:44,  9.36s/it]"
     ]
    },
    {
     "name": "stdout",
     "output_type": "stream",
     "text": [
      "Negative sample but mask length 2 is > 1, not saving.\n"
     ]
    },
    {
     "name": "stderr",
     "output_type": "stream",
     "text": [
      "100%|██████████| 151/151 [20:40<00:00,  8.21s/it]"
     ]
    },
    {
     "name": "stdout",
     "output_type": "stream",
     "text": [
      "CPU times: user 29min 37s, sys: 2min 19s, total: 31min 56s\n",
      "Wall time: 20min 40s\n"
     ]
    },
    {
     "name": "stderr",
     "output_type": "stream",
     "text": [
      "\n"
     ]
    }
   ],
   "source": [
    "%%time\n",
    "patients = os.listdir('/app/data/lidc/dicom/val/sorted_gcsfiles/')\n",
    "data_dir = '/app/data/unet/val/'\n",
    "check_dirs(data_dir)\n",
    "for pat in tqdm(patients):\n",
    "    save_generated_images_for_patient(root_dir=data_dir, dicom_dir='/app/data/lidc/dicom/val/sorted_gcsfiles/', patient_id=pat)"
   ]
  },
  {
   "cell_type": "code",
   "execution_count": 36,
   "id": "transsexual-motel",
   "metadata": {},
   "outputs": [
    {
     "name": "stderr",
     "output_type": "stream",
     "text": [
      "100%|██████████| 48/48 [07:57<00:00,  9.95s/it]"
     ]
    },
    {
     "name": "stdout",
     "output_type": "stream",
     "text": [
      "CPU times: user 12min 1s, sys: 50.9 s, total: 12min 52s\n",
      "Wall time: 7min 57s\n"
     ]
    },
    {
     "name": "stderr",
     "output_type": "stream",
     "text": [
      "\n"
     ]
    }
   ],
   "source": [
    "%%time\n",
    "patients = os.listdir('/app/data/lidc/dicom/test/sorted_gcsfiles/')\n",
    "data_dir = '/app/data/unet/test/'\n",
    "check_dirs(data_dir)\n",
    "for pat in tqdm(patients):\n",
    "    save_generated_images_for_patient(root_dir=data_dir, dicom_dir='/app/data/lidc/dicom/test/sorted_gcsfiles/', patient_id=pat)"
   ]
  },
  {
   "cell_type": "markdown",
   "id": "engaged-terrorist",
   "metadata": {},
   "source": [
    "### EDA on generated data"
   ]
  },
  {
   "cell_type": "code",
   "execution_count": 40,
   "id": "instant-defensive",
   "metadata": {},
   "outputs": [
    {
     "name": "stdout",
     "output_type": "stream",
     "text": [
      "Number of samples in train is data: 581, label: 581\n"
     ]
    }
   ],
   "source": [
    "root_dir = '/app/data/unet/'\n",
    "split_type = 'train'\n",
    "imagefiles = os.listdir(root_dir + '/' + split_type + '/images/')\n",
    "maskfiles = os.listdir(root_dir + '/' + split_type + '/masks/')\n",
    "print(\"Number of samples in {} is data: {}, label: {}\".format(split_type, len(imagefiles), len(maskfiles)))"
   ]
  },
  {
   "cell_type": "code",
   "execution_count": 41,
   "id": "spectacular-spectrum",
   "metadata": {},
   "outputs": [
    {
     "name": "stdout",
     "output_type": "stream",
     "text": [
      "Number of postive samples = 493 and negative samples = 88\n"
     ]
    }
   ],
   "source": [
    "negative_cnt = [imagefile for imagefile in imagefiles if imagefile.find('_out') > 0]\n",
    "positive_cnt = [imagefile for imagefile in imagefiles if imagefile.find('_out') <= 0]\n",
    "print(\"Number of postive samples = {} and negative samples = {}\".format(len(positive_cnt), len(negative_cnt)))"
   ]
  },
  {
   "cell_type": "markdown",
   "id": "behind-orlando",
   "metadata": {},
   "source": [
    "#### Review the transformed image"
   ]
  },
  {
   "cell_type": "code",
   "execution_count": 42,
   "id": "fitted-atlas",
   "metadata": {},
   "outputs": [
    {
     "data": {
      "text/plain": [
       "Text(0.5, 1.0, 'Processed image')"
      ]
     },
     "execution_count": 42,
     "metadata": {},
     "output_type": "execute_result"
    },
    {
     "data": {
      "image/png": "[encoded data removed]",
      "text/plain": [
       "<Figure size 576x288 with 2 Axes>"
      ]
     },
     "metadata": {
      "needs_background": "light"
     },
     "output_type": "display_data"
    }
   ],
   "source": [
    "img = vol[:,:,int(np.random.choice(slices_with_mask))]\n",
    "img_t = preprocess_image(img)\n",
    "\n",
    "fig = plt.figure(figsize=(8, 4))\n",
    "ax1 = fig.add_subplot(1, 2, 1)\n",
    "ax1.imshow(img, 'bone')\n",
    "ax1.set_title('Original image')\n",
    "ax2 = fig.add_subplot(1, 2, 2)\n",
    "ax2.imshow(img_t, 'bone')\n",
    "ax2.set_title('Processed image')"
   ]
  },
  {
   "cell_type": "code",
   "execution_count": 93,
   "id": "packed-healing",
   "metadata": {},
   "outputs": [
    {
     "name": "stderr",
     "output_type": "stream",
     "text": [
      "100%|████████████████████████████████████████████████████████████████████████████████████████████████████████████████████████████████████████████████████████████████████████████████████████████████████████| 4132/4132 [00:02<00:00, 1542.18it/s]\n"
     ]
    }
   ],
   "source": [
    "maskinfiles = [maskfile for maskfile in maskfiles if maskfile.find('_out') <= 0]\n",
    "widths = []\n",
    "heights = []\n",
    "cnt = 0\n",
    "for maskfile in tqdm(maskinfiles):\n",
    "    mask = cv2.imread(root_dir + 'train/masks/' + maskfile)\n",
    "    mask = cv2.cvtColor(mask, cv2.COLOR_BGR2GRAY)\n",
    "    (thresh, mask) = cv2.threshold(mask, 128, 255, cv2.THRESH_BINARY | cv2.THRESH_OTSU)\n",
    "    boxes = get_bounding_box(mask)\n",
    "    if boxes:\n",
    "        for box in boxes:\n",
    "            x,y,w,h = box\n",
    "            widths.append(int(w))\n",
    "            heights.append(int(h))"
   ]
  },
  {
   "cell_type": "code",
   "execution_count": 135,
   "id": "postal-absence",
   "metadata": {},
   "outputs": [
    {
     "data": {
      "text/plain": [
       "<matplotlib.legend.Legend at 0x7f79f53756d0>"
      ]
     },
     "execution_count": 135,
     "metadata": {},
     "output_type": "execute_result"
    },
    {
     "data": {
      "image/png": "[encoded data removed]",
      "text/plain": [
       "<Figure size 576x288 with 2 Axes>"
      ]
     },
     "metadata": {
      "needs_background": "light"
     },
     "output_type": "display_data"
    }
   ],
   "source": [
    "fig = plt.figure(figsize=(8, 4))\n",
    "ax1 = fig.add_subplot(1, 2, 1)\n",
    "ax1.hist(widths, bins=50)\n",
    "ax1.set_title('Width of masks')\n",
    "ax1.axvline(x=np.median(widths), color='r', label='median = {}'.format(np.median(widths)), c='r')\n",
    "ax1.axvline(x=np.quantile(widths, [0.1])[0], color='b', label='< 10 percentile = {}'.format(np.quantile(widths, [0.1])[0]), c='b')\n",
    "plt.legend()\n",
    "ax2 = fig.add_subplot(1, 2, 2)\n",
    "ax2.hist(heights, bins=50)\n",
    "ax2.set_title('Height of masks')\n",
    "ax2.axvline(x=np.median(heights), color='r', label='median = {}'.format(np.median(heights)), c='r')\n",
    "ax2.axvline(x=np.quantile(heights, [0.1])[0], color='b', label='< 10 percentile = {}'.format(np.quantile(heights, [0.1])[0]), c='b')\n",
    "plt.legend()"
   ]
  },
  {
   "cell_type": "code",
   "execution_count": 152,
   "id": "textile-granny",
   "metadata": {},
   "outputs": [
    {
     "data": {
      "text/plain": [
       "<matplotlib.legend.Legend at 0x7f79efaac460>"
      ]
     },
     "execution_count": 152,
     "metadata": {},
     "output_type": "execute_result"
    },
    {
     "data": {
      "image/png": "[encoded data removed]",
      "text/plain": [
       "<Figure size 576x288 with 2 Axes>"
      ]
     },
     "metadata": {
      "needs_background": "light"
     },
     "output_type": "display_data"
    }
   ],
   "source": [
    "fig = plt.figure(figsize=(8, 4))\n",
    "ax1 = fig.add_subplot(1, 2, 1)\n",
    "ax1.hist(widths, bins=50)\n",
    "ax1.set_title('Width of bounding boxes')\n",
    "ax1.axvline(x=np.median(widths), color='r', label='median = {}'.format(np.median(widths)), c='r')\n",
    "ax1.axvline(x=3, color='b', label='cut-off = {}'.format(3), c='b')\n",
    "plt.legend()\n",
    "ax2 = fig.add_subplot(1, 2, 2)\n",
    "ax2.hist(heights, bins=50)\n",
    "ax2.set_title('Height of bounding boxes')\n",
    "ax2.axvline(x=np.median(heights), color='r', label='median = {}'.format(np.median(heights)), c='r')\n",
    "ax2.axvline(x=3, color='b', label='cut-off = {}'.format(3), c='b')\n",
    "plt.legend()"
   ]
  },
  {
   "cell_type": "code",
   "execution_count": null,
   "id": "speaking-wallpaper",
   "metadata": {},
   "outputs": [],
   "source": []
  }
 ],
 "metadata": {
  "kernelspec": {
   "display_name": "Python 3",
   "language": "python",
   "name": "python3"
  },
  "language_info": {
   "codemirror_mode": {
    "name": "ipython",
    "version": 3
   },
   "file_extension": ".py",
   "mimetype": "text/x-python",
   "name": "python",
   "nbconvert_exporter": "python",
   "pygments_lexer": "ipython3",
   "version": "3.8.5"
  }
 },
 "nbformat": 4,
 "nbformat_minor": 5
}
