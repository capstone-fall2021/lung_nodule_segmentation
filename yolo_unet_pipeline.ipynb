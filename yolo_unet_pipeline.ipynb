{
 "cells": [
  {
   "cell_type": "markdown",
   "id": "8f923581",
   "metadata": {},
   "source": [
    "# End to end pipeline\n",
    "\n",
    "- Run the yolo model on the full size image\n",
    "- Extract a 64x64 image around the predicted bounding box\n",
    "- Predict the mask on the cropped image\n",
    "- Add it to the full size mask (pay attention to the correct slice from the bounding box) \n",
    "- Compute the DICE score for the prediction"
   ]
  },
  {
   "cell_type": "code",
   "execution_count": 1,
   "id": "953734c2",
   "metadata": {
    "collapsed": true,
    "jupyter": {
     "outputs_hidden": true
    }
   },
   "outputs": [
    {
     "name": "stdout",
     "output_type": "stream",
     "text": [
      "Collecting pydicom==2.2.2\n",
      "  Downloading pydicom-2.2.2-py3-none-any.whl (2.0 MB)\n",
      "\u001b[K     |████████████████████████████████| 2.0 MB 7.9 MB/s eta 0:00:01\n",
      "\u001b[?25hCollecting pylidc==0.2.2\n",
      "  Downloading pylidc-0.2.2-py2.py3-none-any.whl (5.6 MB)\n",
      "\u001b[K     |████████████████████████████████| 5.6 MB 63.9 MB/s eta 0:00:01\n",
      "\u001b[?25hCollecting torchsummary==1.5.1\n",
      "  Downloading torchsummary-1.5.1-py3-none-any.whl (2.8 kB)\n",
      "Collecting imageio==2.10.4\n",
      "  Downloading imageio-2.10.4-py3-none-any.whl (3.3 MB)\n",
      "\u001b[K     |████████████████████████████████| 3.3 MB 64.1 MB/s eta 0:00:01\n",
      "\u001b[?25hCollecting gsutil==5.5\n",
      "  Downloading gsutil-5.5.tar.gz (2.9 MB)\n",
      "\u001b[K     |████████████████████████████████| 2.9 MB 65.6 MB/s eta 0:00:01\n",
      "\u001b[?25hCollecting google-cloud-bigquery==2.30.1\n",
      "  Downloading google_cloud_bigquery-2.30.1-py2.py3-none-any.whl (203 kB)\n",
      "\u001b[K     |████████████████████████████████| 203 kB 75.4 MB/s eta 0:00:01\n",
      "\u001b[?25hRequirement already satisfied: scipy>=0.18.1 in /opt/conda/lib/python3.8/site-packages (from pylidc==0.2.2->-r requirements.txt (line 2)) (1.6.3)\n",
      "Collecting sqlalchemy>=1.1.5\n",
      "  Downloading SQLAlchemy-1.4.27-cp38-cp38-manylinux_2_5_x86_64.manylinux1_x86_64.manylinux_2_17_x86_64.manylinux2014_x86_64.whl (1.6 MB)\n",
      "\u001b[K     |████████████████████████████████| 1.6 MB 60.8 MB/s eta 0:00:01\n",
      "\u001b[?25hCollecting scikit-image>=0.13\n",
      "  Downloading scikit_image-0.18.3-cp38-cp38-manylinux_2_5_x86_64.manylinux1_x86_64.whl (30.2 MB)\n",
      "\u001b[K     |████████████████████████████████| 30.2 MB 72.8 MB/s eta 0:00:01\n",
      "\u001b[?25hRequirement already satisfied: matplotlib>=2.0.0 in /opt/conda/lib/python3.8/site-packages (from pylidc==0.2.2->-r requirements.txt (line 2)) (3.4.3)\n",
      "Requirement already satisfied: numpy>=1.12.0 in /opt/conda/lib/python3.8/site-packages (from pylidc==0.2.2->-r requirements.txt (line 2)) (1.21.2)\n",
      "Collecting pillow>=8.3.2\n",
      "  Downloading Pillow-8.4.0-cp38-cp38-manylinux_2_17_x86_64.manylinux2014_x86_64.whl (3.1 MB)\n",
      "\u001b[K     |████████████████████████████████| 3.1 MB 75.7 MB/s eta 0:00:01\n",
      "\u001b[?25hCollecting argcomplete>=1.9.4\n",
      "  Downloading argcomplete-1.12.3-py2.py3-none-any.whl (38 kB)\n",
      "Collecting crcmod>=1.7\n",
      "  Downloading crcmod-1.7.tar.gz (89 kB)\n",
      "\u001b[K     |████████████████████████████████| 89 kB 15.8 MB/s eta 0:00:01\n",
      "\u001b[?25hCollecting fasteners>=0.14.1\n",
      "  Downloading fasteners-0.16.3-py2.py3-none-any.whl (28 kB)\n",
      "Collecting gcs-oauth2-boto-plugin>=3.0\n",
      "  Downloading gcs-oauth2-boto-plugin-3.0.tar.gz (20 kB)\n",
      "Collecting google-apitools>=0.5.32\n",
      "  Downloading google_apitools-0.5.32-py3-none-any.whl (135 kB)\n",
      "\u001b[K     |████████████████████████████████| 135 kB 74.6 MB/s eta 0:00:01\n",
      "\u001b[?25hCollecting httplib2>=0.18\n",
      "  Downloading httplib2-0.20.2-py3-none-any.whl (96 kB)\n",
      "\u001b[K     |████████████████████████████████| 96 kB 9.7 MB/s  eta 0:00:01\n",
      "\u001b[?25hCollecting google-reauth>=0.1.0\n",
      "  Downloading google_reauth-0.1.1-py2.py3-none-any.whl (17 kB)\n",
      "Collecting monotonic>=1.4\n",
      "  Downloading monotonic-1.6-py2.py3-none-any.whl (8.2 kB)\n",
      "Requirement already satisfied: pyOpenSSL>=0.13 in /opt/conda/lib/python3.8/site-packages (from gsutil==5.5->-r requirements.txt (line 5)) (20.0.1)\n",
      "Collecting retry_decorator>=1.0.0\n",
      "  Downloading retry_decorator-1.1.1.tar.gz (3.9 kB)\n",
      "Requirement already satisfied: six>=1.12.0 in /opt/conda/lib/python3.8/site-packages (from gsutil==5.5->-r requirements.txt (line 5)) (1.16.0)\n",
      "Requirement already satisfied: packaging>=14.3 in /opt/conda/lib/python3.8/site-packages (from google-cloud-bigquery==2.30.1->-r requirements.txt (line 6)) (21.0)\n",
      "Requirement already satisfied: requests<3.0.0dev,>=2.18.0 in /opt/conda/lib/python3.8/site-packages (from google-cloud-bigquery==2.30.1->-r requirements.txt (line 6)) (2.26.0)\n",
      "Collecting proto-plus>=1.10.0\n",
      "  Downloading proto_plus-1.19.8-py3-none-any.whl (45 kB)\n",
      "\u001b[K     |████████████████████████████████| 45 kB 6.1 MB/s  eta 0:00:01\n",
      "\u001b[?25hRequirement already satisfied: grpcio<2.0dev,>=1.38.1 in /opt/conda/lib/python3.8/site-packages (from google-cloud-bigquery==2.30.1->-r requirements.txt (line 6)) (1.39.0)\n",
      "Requirement already satisfied: protobuf>=3.12.0 in /opt/conda/lib/python3.8/site-packages (from google-cloud-bigquery==2.30.1->-r requirements.txt (line 6)) (3.17.3)\n",
      "Collecting google-cloud-core<3.0.0dev,>=1.4.1\n",
      "  Downloading google_cloud_core-2.2.1-py2.py3-none-any.whl (29 kB)\n",
      "Collecting google-resumable-media<3.0dev,>=0.6.0\n",
      "  Downloading google_resumable_media-2.1.0-py2.py3-none-any.whl (75 kB)\n",
      "\u001b[K     |████████████████████████████████| 75 kB 7.1 MB/s  eta 0:00:01\n",
      "\u001b[?25hRequirement already satisfied: python-dateutil<3.0dev,>=2.7.2 in /opt/conda/lib/python3.8/site-packages (from google-cloud-bigquery==2.30.1->-r requirements.txt (line 6)) (2.8.2)\n",
      "Collecting google-api-core[grpc]<3.0.0dev,>=1.29.0\n",
      "  Downloading google_api_core-2.2.2-py2.py3-none-any.whl (95 kB)\n",
      "\u001b[K     |████████████████████████████████| 95 kB 7.2 MB/s  eta 0:00:01\n",
      "\u001b[?25hRequirement already satisfied: rsa==4.7.2 in /opt/conda/lib/python3.8/site-packages (from gcs-oauth2-boto-plugin>=3.0->gsutil==5.5->-r requirements.txt (line 5)) (4.7.2)\n",
      "Collecting boto>=2.29.1\n",
      "  Downloading boto-2.49.0-py2.py3-none-any.whl (1.4 MB)\n",
      "\u001b[K     |████████████████████████████████| 1.4 MB 65.2 MB/s eta 0:00:01\n",
      "\u001b[?25hCollecting oauth2client>=2.2.0\n",
      "  Downloading oauth2client-4.1.3-py2.py3-none-any.whl (98 kB)\n",
      "\u001b[K     |████████████████████████████████| 98 kB 12.3 MB/s eta 0:00:01\n",
      "\u001b[?25hRequirement already satisfied: pyasn1>=0.1.3 in /opt/conda/lib/python3.8/site-packages (from rsa==4.7.2->gcs-oauth2-boto-plugin>=3.0->gsutil==5.5->-r requirements.txt (line 5)) (0.4.8)\n",
      "Collecting googleapis-common-protos<2.0dev,>=1.52.0\n",
      "  Downloading googleapis_common_protos-1.53.0-py2.py3-none-any.whl (198 kB)\n",
      "\u001b[K     |████████████████████████████████| 198 kB 69.7 MB/s eta 0:00:01\n",
      "\u001b[?25hRequirement already satisfied: setuptools>=40.3.0 in /opt/conda/lib/python3.8/site-packages (from google-api-core[grpc]<3.0.0dev,>=1.29.0->google-cloud-bigquery==2.30.1->-r requirements.txt (line 6)) (57.4.0)\n",
      "Requirement already satisfied: google-auth<3.0dev,>=1.25.0 in /opt/conda/lib/python3.8/site-packages (from google-api-core[grpc]<3.0.0dev,>=1.29.0->google-cloud-bigquery==2.30.1->-r requirements.txt (line 6)) (1.35.0)\n",
      "Collecting grpcio-status<2.0dev,>=1.33.2\n",
      "  Downloading grpcio_status-1.41.1-py3-none-any.whl (9.2 kB)\n",
      "Requirement already satisfied: cachetools<5.0,>=2.0.0 in /opt/conda/lib/python3.8/site-packages (from google-auth<3.0dev,>=1.25.0->google-api-core[grpc]<3.0.0dev,>=1.29.0->google-cloud-bigquery==2.30.1->-r requirements.txt (line 6)) (4.2.2)\n",
      "Requirement already satisfied: pyasn1-modules>=0.2.1 in /opt/conda/lib/python3.8/site-packages (from google-auth<3.0dev,>=1.25.0->google-api-core[grpc]<3.0.0dev,>=1.29.0->google-cloud-bigquery==2.30.1->-r requirements.txt (line 6)) (0.2.8)\n",
      "Collecting pyu2f\n",
      "  Downloading pyu2f-0.1.5.tar.gz (27 kB)\n",
      "Collecting google-crc32c<2.0dev,>=1.0\n",
      "  Downloading google_crc32c-1.3.0-cp38-cp38-manylinux_2_12_x86_64.manylinux2010_x86_64.whl (37 kB)\n",
      "Collecting grpcio<2.0dev,>=1.38.1\n",
      "  Downloading grpcio-1.41.1-cp38-cp38-manylinux_2_17_x86_64.manylinux2014_x86_64.whl (3.9 MB)\n",
      "\u001b[K     |████████████████████████████████| 3.9 MB 46.0 MB/s eta 0:00:01\n",
      "\u001b[?25hRequirement already satisfied: pyparsing!=3.0.0,!=3.0.1,!=3.0.2,!=3.0.3,<4,>=2.4.2 in /opt/conda/lib/python3.8/site-packages (from httplib2>=0.18->gsutil==5.5->-r requirements.txt (line 5)) (2.4.7)\n",
      "Requirement already satisfied: kiwisolver>=1.0.1 in /opt/conda/lib/python3.8/site-packages (from matplotlib>=2.0.0->pylidc==0.2.2->-r requirements.txt (line 2)) (1.3.2)\n",
      "Requirement already satisfied: cycler>=0.10 in /opt/conda/lib/python3.8/site-packages (from matplotlib>=2.0.0->pylidc==0.2.2->-r requirements.txt (line 2)) (0.10.0)\n",
      "Collecting protobuf>=3.12.0\n",
      "  Downloading protobuf-3.19.1-cp38-cp38-manylinux_2_17_x86_64.manylinux2014_x86_64.whl (1.1 MB)\n",
      "\u001b[K     |████████████████████████████████| 1.1 MB 74.0 MB/s eta 0:00:01\n",
      "\u001b[?25hRequirement already satisfied: cryptography>=3.2 in /opt/conda/lib/python3.8/site-packages (from pyOpenSSL>=0.13->gsutil==5.5->-r requirements.txt (line 5)) (3.4.7)\n",
      "Requirement already satisfied: cffi>=1.12 in /opt/conda/lib/python3.8/site-packages (from cryptography>=3.2->pyOpenSSL>=0.13->gsutil==5.5->-r requirements.txt (line 5)) (1.14.6)\n",
      "Requirement already satisfied: pycparser in /opt/conda/lib/python3.8/site-packages (from cffi>=1.12->cryptography>=3.2->pyOpenSSL>=0.13->gsutil==5.5->-r requirements.txt (line 5)) (2.20)\n",
      "Requirement already satisfied: urllib3<1.27,>=1.21.1 in /opt/conda/lib/python3.8/site-packages (from requests<3.0.0dev,>=2.18.0->google-cloud-bigquery==2.30.1->-r requirements.txt (line 6)) (1.26.6)\n",
      "Requirement already satisfied: certifi>=2017.4.17 in /opt/conda/lib/python3.8/site-packages (from requests<3.0.0dev,>=2.18.0->google-cloud-bigquery==2.30.1->-r requirements.txt (line 6)) (2021.5.30)\n",
      "Requirement already satisfied: charset-normalizer~=2.0.0 in /opt/conda/lib/python3.8/site-packages (from requests<3.0.0dev,>=2.18.0->google-cloud-bigquery==2.30.1->-r requirements.txt (line 6)) (2.0.0)\n",
      "Requirement already satisfied: idna<4,>=2.5 in /opt/conda/lib/python3.8/site-packages (from requests<3.0.0dev,>=2.18.0->google-cloud-bigquery==2.30.1->-r requirements.txt (line 6)) (3.1)\n",
      "Collecting tifffile>=2019.7.26\n",
      "  Downloading tifffile-2021.11.2-py3-none-any.whl (178 kB)\n",
      "\u001b[K     |████████████████████████████████| 178 kB 66.2 MB/s eta 0:00:01\n",
      "\u001b[?25hCollecting PyWavelets>=1.1.1\n",
      "  Downloading PyWavelets-1.2.0-cp38-cp38-manylinux_2_5_x86_64.manylinux1_x86_64.whl (6.3 MB)\n",
      "\u001b[K     |████████████████████████████████| 6.3 MB 73.3 MB/s eta 0:00:01\n",
      "\u001b[?25hRequirement already satisfied: networkx>=2.0 in /opt/conda/lib/python3.8/site-packages (from scikit-image>=0.13->pylidc==0.2.2->-r requirements.txt (line 2)) (2.0)\n",
      "Requirement already satisfied: decorator>=4.1.0 in /opt/conda/lib/python3.8/site-packages (from networkx>=2.0->scikit-image>=0.13->pylidc==0.2.2->-r requirements.txt (line 2)) (5.0.9)\n",
      "Collecting greenlet!=0.4.17\n",
      "  Downloading greenlet-1.1.2-cp38-cp38-manylinux_2_17_x86_64.manylinux2014_x86_64.whl (156 kB)\n",
      "\u001b[K     |████████████████████████████████| 156 kB 59.1 MB/s eta 0:00:01\n",
      "\u001b[?25hBuilding wheels for collected packages: gsutil, crcmod, gcs-oauth2-boto-plugin, retry-decorator, pyu2f\n",
      "  Building wheel for gsutil (setup.py) ... \u001b[?25ldone\n",
      "\u001b[?25h  Created wheel for gsutil: filename=gsutil-5.5-py3-none-any.whl size=3716011 sha256=35a1fa72082498e3f70c1f8c19d6fdae452faeba75fefd939bf7c9caa6aa7714\n",
      "  Stored in directory: /root/.cache/pip/wheels/01/7f/60/a5d4494eefa59d2bfb712df237a05bd6f27e49bd6b4bd59cd5\n",
      "  Building wheel for crcmod (setup.py) ... \u001b[?25ldone\n",
      "\u001b[?25h  Created wheel for crcmod: filename=crcmod-1.7-cp38-cp38-linux_x86_64.whl size=35917 sha256=8d4d0bbc656265785c21e1683ce5191117dc20f40c1a229046566a71fd3c3dda\n",
      "  Stored in directory: /root/.cache/pip/wheels/ca/5a/02/f3acf982a026f3319fb3e798a8dca2d48fafee7761788562e9\n",
      "  Building wheel for gcs-oauth2-boto-plugin (setup.py) ... \u001b[?25ldone\n",
      "\u001b[?25h  Created wheel for gcs-oauth2-boto-plugin: filename=gcs_oauth2_boto_plugin-3.0-py3-none-any.whl size=23220 sha256=02fcb01f1f342fbb1ff57bda456d0c232de85c164bf3a337fb9080e15a632ac3\n",
      "  Stored in directory: /root/.cache/pip/wheels/c2/ff/00/10b85e9e1b43efc461153dca75aa47e4640ef41d291b3666a1\n",
      "  Building wheel for retry-decorator (setup.py) ... \u001b[?25ldone\n",
      "\u001b[?25h  Created wheel for retry-decorator: filename=retry_decorator-1.1.1-py2.py3-none-any.whl size=3656 sha256=104cbe74caf0a992ddddf8f391138f923a743bd189cc831e5948350d9ca99bf5\n",
      "  Stored in directory: /root/.cache/pip/wheels/1e/bb/cb/5d7a05561d7ec60b8c0dc65f156a33909a3eb5c56340959fa9\n",
      "  Building wheel for pyu2f (setup.py) ... \u001b[?25ldone\n",
      "\u001b[?25h  Created wheel for pyu2f: filename=pyu2f-0.1.5-py3-none-any.whl size=39402 sha256=3def967c94b5d99fdd8b1414efee613d7d0517f8c1fe186faced7a0e08013094\n",
      "  Stored in directory: /root/.cache/pip/wheels/8d/38/8f/378b4491d760a176f261d56310fcb051e53090a894534acbf0\n",
      "Successfully built gsutil crcmod gcs-oauth2-boto-plugin retry-decorator pyu2f\n",
      "Installing collected packages: protobuf, pyu2f, pillow, httplib2, grpcio, googleapis-common-protos, tifffile, retry-decorator, PyWavelets, oauth2client, imageio, grpcio-status, greenlet, google-reauth, google-crc32c, google-api-core, fasteners, boto, sqlalchemy, scikit-image, pydicom, proto-plus, monotonic, google-resumable-media, google-cloud-core, google-apitools, gcs-oauth2-boto-plugin, crcmod, argcomplete, torchsummary, pylidc, gsutil, google-cloud-bigquery\n",
      "  Attempting uninstall: protobuf\n",
      "    Found existing installation: protobuf 3.17.3\n",
      "    Uninstalling protobuf-3.17.3:\n",
      "      Successfully uninstalled protobuf-3.17.3\n",
      "  Attempting uninstall: pillow\n",
      "    Found existing installation: Pillow 8.2.0\n",
      "    Uninstalling Pillow-8.2.0:\n",
      "      Successfully uninstalled Pillow-8.2.0\n",
      "  Attempting uninstall: grpcio\n",
      "    Found existing installation: grpcio 1.39.0\n",
      "    Uninstalling grpcio-1.39.0:\n",
      "      Successfully uninstalled grpcio-1.39.0\n",
      "Successfully installed PyWavelets-1.2.0 argcomplete-1.12.3 boto-2.49.0 crcmod-1.7 fasteners-0.16.3 gcs-oauth2-boto-plugin-3.0 google-api-core-2.2.2 google-apitools-0.5.32 google-cloud-bigquery-2.30.1 google-cloud-core-2.2.1 google-crc32c-1.3.0 google-reauth-0.1.1 google-resumable-media-2.1.0 googleapis-common-protos-1.53.0 greenlet-1.1.2 grpcio-1.41.1 grpcio-status-1.41.1 gsutil-5.5 httplib2-0.20.2 imageio-2.10.4 monotonic-1.6 oauth2client-4.1.3 pillow-8.4.0 proto-plus-1.19.8 protobuf-3.19.1 pydicom-2.2.2 pylidc-0.2.2 pyu2f-0.1.5 retry-decorator-1.1.1 scikit-image-0.18.3 sqlalchemy-1.4.27 tifffile-2021.11.2 torchsummary-1.5.1\n",
      "\u001b[33mWARNING: Running pip as the 'root' user can result in broken permissions and conflicting behaviour with the system package manager. It is recommended to use a virtual environment instead: https://pip.pypa.io/warnings/venv\u001b[0m\n"
     ]
    }
   ],
   "source": [
    "!pip install -r requirements.txt"
   ]
  },
  {
   "cell_type": "code",
   "execution_count": 2,
   "id": "e8ca9535",
   "metadata": {
    "collapsed": true,
    "jupyter": {
     "outputs_hidden": true
    }
   },
   "outputs": [
    {
     "name": "stdout",
     "output_type": "stream",
     "text": [
      "Requirement already satisfied: google-auth-oauthlib in /opt/conda/lib/python3.8/site-packages (0.4.6)\n",
      "Requirement already satisfied: google-auth>=1.0.0 in /opt/conda/lib/python3.8/site-packages (from google-auth-oauthlib) (1.35.0)\n",
      "Requirement already satisfied: requests-oauthlib>=0.7.0 in /opt/conda/lib/python3.8/site-packages (from google-auth-oauthlib) (1.3.0)\n",
      "Requirement already satisfied: cachetools<5.0,>=2.0.0 in /opt/conda/lib/python3.8/site-packages (from google-auth>=1.0.0->google-auth-oauthlib) (4.2.2)\n",
      "Requirement already satisfied: six>=1.9.0 in /opt/conda/lib/python3.8/site-packages (from google-auth>=1.0.0->google-auth-oauthlib) (1.16.0)\n",
      "Requirement already satisfied: rsa<5,>=3.1.4 in /opt/conda/lib/python3.8/site-packages (from google-auth>=1.0.0->google-auth-oauthlib) (4.7.2)\n",
      "Requirement already satisfied: setuptools>=40.3.0 in /opt/conda/lib/python3.8/site-packages (from google-auth>=1.0.0->google-auth-oauthlib) (57.4.0)\n",
      "Requirement already satisfied: pyasn1-modules>=0.2.1 in /opt/conda/lib/python3.8/site-packages (from google-auth>=1.0.0->google-auth-oauthlib) (0.2.8)\n",
      "Requirement already satisfied: pyasn1<0.5.0,>=0.4.6 in /opt/conda/lib/python3.8/site-packages (from pyasn1-modules>=0.2.1->google-auth>=1.0.0->google-auth-oauthlib) (0.4.8)\n",
      "Requirement already satisfied: requests>=2.0.0 in /opt/conda/lib/python3.8/site-packages (from requests-oauthlib>=0.7.0->google-auth-oauthlib) (2.26.0)\n",
      "Requirement already satisfied: oauthlib>=3.0.0 in /opt/conda/lib/python3.8/site-packages (from requests-oauthlib>=0.7.0->google-auth-oauthlib) (3.1.1)\n",
      "Requirement already satisfied: charset-normalizer~=2.0.0 in /opt/conda/lib/python3.8/site-packages (from requests>=2.0.0->requests-oauthlib>=0.7.0->google-auth-oauthlib) (2.0.0)\n",
      "Requirement already satisfied: certifi>=2017.4.17 in /opt/conda/lib/python3.8/site-packages (from requests>=2.0.0->requests-oauthlib>=0.7.0->google-auth-oauthlib) (2021.5.30)\n",
      "Requirement already satisfied: idna<4,>=2.5 in /opt/conda/lib/python3.8/site-packages (from requests>=2.0.0->requests-oauthlib>=0.7.0->google-auth-oauthlib) (3.1)\n",
      "Requirement already satisfied: urllib3<1.27,>=1.21.1 in /opt/conda/lib/python3.8/site-packages (from requests>=2.0.0->requests-oauthlib>=0.7.0->google-auth-oauthlib) (1.26.6)\n",
      "\u001b[33mWARNING: Running pip as the 'root' user can result in broken permissions and conflicting behaviour with the system package manager. It is recommended to use a virtual environment instead: https://pip.pypa.io/warnings/venv\u001b[0m\n",
      "Requirement already satisfied: google-cloud-bigquery[bqstorage,pandas] in /opt/conda/lib/python3.8/site-packages (2.30.1)\n",
      "Requirement already satisfied: grpcio<2.0dev,>=1.38.1 in /opt/conda/lib/python3.8/site-packages (from google-cloud-bigquery[bqstorage,pandas]) (1.41.1)\n",
      "Requirement already satisfied: google-api-core[grpc]<3.0.0dev,>=1.29.0 in /opt/conda/lib/python3.8/site-packages (from google-cloud-bigquery[bqstorage,pandas]) (2.2.2)\n",
      "Requirement already satisfied: proto-plus>=1.10.0 in /opt/conda/lib/python3.8/site-packages (from google-cloud-bigquery[bqstorage,pandas]) (1.19.8)\n",
      "Requirement already satisfied: google-cloud-core<3.0.0dev,>=1.4.1 in /opt/conda/lib/python3.8/site-packages (from google-cloud-bigquery[bqstorage,pandas]) (2.2.1)\n",
      "Requirement already satisfied: protobuf>=3.12.0 in /opt/conda/lib/python3.8/site-packages (from google-cloud-bigquery[bqstorage,pandas]) (3.19.1)\n",
      "Requirement already satisfied: requests<3.0.0dev,>=2.18.0 in /opt/conda/lib/python3.8/site-packages (from google-cloud-bigquery[bqstorage,pandas]) (2.26.0)\n",
      "Requirement already satisfied: google-resumable-media<3.0dev,>=0.6.0 in /opt/conda/lib/python3.8/site-packages (from google-cloud-bigquery[bqstorage,pandas]) (2.1.0)\n",
      "Requirement already satisfied: python-dateutil<3.0dev,>=2.7.2 in /opt/conda/lib/python3.8/site-packages (from google-cloud-bigquery[bqstorage,pandas]) (2.8.2)\n",
      "Requirement already satisfied: packaging>=14.3 in /opt/conda/lib/python3.8/site-packages (from google-cloud-bigquery[bqstorage,pandas]) (21.0)\n",
      "Collecting pyarrow<7.0dev,>=3.0.0\n",
      "  Downloading pyarrow-6.0.0-cp38-cp38-manylinux_2_17_x86_64.manylinux2014_x86_64.whl (25.6 MB)\n",
      "\u001b[K     |████████████████████████████████| 25.6 MB 6.9 MB/s eta 0:00:01\n",
      "\u001b[?25hCollecting google-cloud-bigquery-storage<3.0.0dev,>=2.0.0\n",
      "  Downloading google_cloud_bigquery_storage-2.10.0-py2.py3-none-any.whl (171 kB)\n",
      "\u001b[K     |████████████████████████████████| 171 kB 79.0 MB/s eta 0:00:01\n",
      "\u001b[?25hCollecting pandas>=0.24.2\n",
      "  Downloading pandas-1.3.4-cp38-cp38-manylinux_2_17_x86_64.manylinux2014_x86_64.whl (11.5 MB)\n",
      "\u001b[K     |████████████████████████████████| 11.5 MB 56.1 MB/s eta 0:00:01\n",
      "\u001b[?25hRequirement already satisfied: googleapis-common-protos<2.0dev,>=1.52.0 in /opt/conda/lib/python3.8/site-packages (from google-api-core[grpc]<3.0.0dev,>=1.29.0->google-cloud-bigquery[bqstorage,pandas]) (1.53.0)\n",
      "Requirement already satisfied: setuptools>=40.3.0 in /opt/conda/lib/python3.8/site-packages (from google-api-core[grpc]<3.0.0dev,>=1.29.0->google-cloud-bigquery[bqstorage,pandas]) (57.4.0)\n",
      "Requirement already satisfied: google-auth<3.0dev,>=1.25.0 in /opt/conda/lib/python3.8/site-packages (from google-api-core[grpc]<3.0.0dev,>=1.29.0->google-cloud-bigquery[bqstorage,pandas]) (1.35.0)\n",
      "Requirement already satisfied: grpcio-status<2.0dev,>=1.33.2 in /opt/conda/lib/python3.8/site-packages (from google-api-core[grpc]<3.0.0dev,>=1.29.0->google-cloud-bigquery[bqstorage,pandas]) (1.41.1)\n",
      "Requirement already satisfied: cachetools<5.0,>=2.0.0 in /opt/conda/lib/python3.8/site-packages (from google-auth<3.0dev,>=1.25.0->google-api-core[grpc]<3.0.0dev,>=1.29.0->google-cloud-bigquery[bqstorage,pandas]) (4.2.2)\n",
      "Requirement already satisfied: rsa<5,>=3.1.4 in /opt/conda/lib/python3.8/site-packages (from google-auth<3.0dev,>=1.25.0->google-api-core[grpc]<3.0.0dev,>=1.29.0->google-cloud-bigquery[bqstorage,pandas]) (4.7.2)\n",
      "Requirement already satisfied: pyasn1-modules>=0.2.1 in /opt/conda/lib/python3.8/site-packages (from google-auth<3.0dev,>=1.25.0->google-api-core[grpc]<3.0.0dev,>=1.29.0->google-cloud-bigquery[bqstorage,pandas]) (0.2.8)\n",
      "Requirement already satisfied: six>=1.9.0 in /opt/conda/lib/python3.8/site-packages (from google-auth<3.0dev,>=1.25.0->google-api-core[grpc]<3.0.0dev,>=1.29.0->google-cloud-bigquery[bqstorage,pandas]) (1.16.0)\n",
      "Collecting libcst>=0.2.5\n",
      "  Downloading libcst-0.3.21-py3-none-any.whl (514 kB)\n",
      "\u001b[K     |████████████████████████████████| 514 kB 93.3 MB/s eta 0:00:01\n",
      "\u001b[?25hRequirement already satisfied: google-crc32c<2.0dev,>=1.0 in /opt/conda/lib/python3.8/site-packages (from google-resumable-media<3.0dev,>=0.6.0->google-cloud-bigquery[bqstorage,pandas]) (1.3.0)\n",
      "Requirement already satisfied: pyyaml>=5.2 in /opt/conda/lib/python3.8/site-packages (from libcst>=0.2.5->google-cloud-bigquery-storage<3.0.0dev,>=2.0.0->google-cloud-bigquery[bqstorage,pandas]) (5.4.1)\n",
      "Collecting typing-inspect>=0.4.0\n",
      "  Downloading typing_inspect-0.7.1-py3-none-any.whl (8.4 kB)\n",
      "Requirement already satisfied: typing-extensions>=3.7.4.2 in /opt/conda/lib/python3.8/site-packages (from libcst>=0.2.5->google-cloud-bigquery-storage<3.0.0dev,>=2.0.0->google-cloud-bigquery[bqstorage,pandas]) (3.10.0.0)\n",
      "Requirement already satisfied: pyparsing>=2.0.2 in /opt/conda/lib/python3.8/site-packages (from packaging>=14.3->google-cloud-bigquery[bqstorage,pandas]) (2.4.7)\n",
      "Requirement already satisfied: numpy>=1.17.3 in /opt/conda/lib/python3.8/site-packages (from pandas>=0.24.2->google-cloud-bigquery[bqstorage,pandas]) (1.21.2)\n",
      "Requirement already satisfied: pytz>=2017.3 in /opt/conda/lib/python3.8/site-packages (from pandas>=0.24.2->google-cloud-bigquery[bqstorage,pandas]) (2021.1)\n",
      "Requirement already satisfied: pyasn1<0.5.0,>=0.4.6 in /opt/conda/lib/python3.8/site-packages (from pyasn1-modules>=0.2.1->google-auth<3.0dev,>=1.25.0->google-api-core[grpc]<3.0.0dev,>=1.29.0->google-cloud-bigquery[bqstorage,pandas]) (0.4.8)\n",
      "Requirement already satisfied: certifi>=2017.4.17 in /opt/conda/lib/python3.8/site-packages (from requests<3.0.0dev,>=2.18.0->google-cloud-bigquery[bqstorage,pandas]) (2021.5.30)\n",
      "Requirement already satisfied: urllib3<1.27,>=1.21.1 in /opt/conda/lib/python3.8/site-packages (from requests<3.0.0dev,>=2.18.0->google-cloud-bigquery[bqstorage,pandas]) (1.26.6)\n",
      "Requirement already satisfied: charset-normalizer~=2.0.0 in /opt/conda/lib/python3.8/site-packages (from requests<3.0.0dev,>=2.18.0->google-cloud-bigquery[bqstorage,pandas]) (2.0.0)\n",
      "Requirement already satisfied: idna<4,>=2.5 in /opt/conda/lib/python3.8/site-packages (from requests<3.0.0dev,>=2.18.0->google-cloud-bigquery[bqstorage,pandas]) (3.1)\n",
      "Collecting mypy-extensions>=0.3.0\n",
      "  Downloading mypy_extensions-0.4.3-py2.py3-none-any.whl (4.5 kB)\n",
      "Installing collected packages: mypy-extensions, typing-inspect, libcst, pyarrow, pandas, google-cloud-bigquery-storage\n",
      "Successfully installed google-cloud-bigquery-storage-2.10.0 libcst-0.3.21 mypy-extensions-0.4.3 pandas-1.3.4 pyarrow-6.0.0 typing-inspect-0.7.1\n",
      "\u001b[33mWARNING: Running pip as the 'root' user can result in broken permissions and conflicting behaviour with the system package manager. It is recommended to use a virtual environment instead: https://pip.pypa.io/warnings/venv\u001b[0m\n"
     ]
    }
   ],
   "source": [
    "!pip install --upgrade google-auth-oauthlib\n",
    "!pip install --upgrade 'google-cloud-bigquery[bqstorage,pandas]'"
   ]
  },
  {
   "cell_type": "code",
   "execution_count": 73,
   "id": "5836a19c",
   "metadata": {},
   "outputs": [],
   "source": [
    "import pylidc as pl\n",
    "from pylidc.utils import consensus\n",
    "import pydicom as dicom\n",
    "from skimage.measure import find_contours\n",
    "import numpy as np\n",
    "import matplotlib.pyplot as plt\n",
    "from PIL import Image\n",
    "import os"
   ]
  },
  {
   "cell_type": "code",
   "execution_count": 74,
   "id": "ef83e5d4",
   "metadata": {},
   "outputs": [],
   "source": [
    "import matplotlib.patches as patches\n",
    "\n",
    "\"\"\"\n",
    "    Detect a bounding box around a mask in an image\n",
    "    Returns an array of bounding boxes\n",
    "    Bounding box format (origin_x, origin_y, width, height)\n",
    "\"\"\"\n",
    "def get_bounding_box(img):\n",
    "    minx = []\n",
    "    miny = []\n",
    "    maxx = []\n",
    "    maxy = []\n",
    "    contours = find_contours(img.astype(float), 0.5)\n",
    "    for contour in contours:\n",
    "        minx.append(np.min(contour[:,1]))\n",
    "        maxx.append(np.max(contour[:,1]))\n",
    "        miny.append(np.min(contour[:,0]))\n",
    "        maxy.append(np.max(contour[:,0]))\n",
    "        \n",
    "    if len(minx) > 0:\n",
    "        return [(a, b, w-a, h-b) for a, b, w, h in zip(minx, miny, maxx, maxy)]\n",
    "    else:\n",
    "        return None\n",
    "    \n",
    "def plot_bounding_box(img):\n",
    "    fig, ax = plt.subplots()\n",
    "    ax.imshow(img, cmap=plt.cm.gray)\n",
    "    \n",
    "    boxes = get_bounding_box(img)\n",
    "    if boxes:\n",
    "        for box in boxes:\n",
    "            x,y,w,h = box\n",
    "            print(\"x = {}, y = {}, w = {}, h= {}\".format(x,y,w,h))\n",
    "            rect = patches.Rectangle((x, y), w, h, linewidth=1, edgecolor='r', facecolor='none')\n",
    "            ax.add_patch(rect)\n",
    "\n",
    "\"\"\"\n",
    "    Plot a rectangle on a given image\n",
    "\"\"\"\n",
    "def plot_box(img, box=None, size=(6,8),):\n",
    "    fig, ax = plt.subplots(figsize=size)\n",
    "    ax.imshow(img, cmap=plt.cm.gray)\n",
    "    if box:\n",
    "        x,y,w,h = box\n",
    "        print(\"x = {}, y = {}, w = {}, h= {}\".format(x,y,w,h))\n",
    "        rect = patches.Rectangle((x, y), w, h, linewidth=1, edgecolor='r', facecolor='none')\n",
    "        ax.add_patch(rect)"
   ]
  },
  {
   "cell_type": "code",
   "execution_count": 75,
   "id": "e3e4080a",
   "metadata": {},
   "outputs": [
    {
     "name": "stdout",
     "output_type": "stream",
     "text": [
      "x = 17.5, y = 23.5, w = 23.0, h= 17.0\n"
     ]
    },
    {
     "data": {
      "image/png": "[encoded data removed]",
      "text/plain": [
       "<Figure size 432x288 with 1 Axes>"
      ]
     },
     "metadata": {
      "needs_background": "light"
     },
     "output_type": "display_data"
    },
    {
     "data": {
      "image/png": "[encoded data removed]",
      "text/plain": [
       "<Figure size 432x288 with 1 Axes>"
      ]
     },
     "metadata": {
      "needs_background": "light"
     },
     "output_type": "display_data"
    }
   ],
   "source": [
    "# test the bounding box detection code\n",
    "# load a mask from the training dataset\n",
    "train_mask_folder = '/data/unet/train/masks/'\n",
    "mask = Image.open(train_mask_folder + 'mask_LIDC-IDRI-0001_0_86.jpg')\n",
    "mask = mask.convert('1')\n",
    "mask = np.array(mask)\n",
    "mask = mask.astype(np.uint8)\n",
    "plt.imshow(mask)\n",
    "np.unique(mask)\n",
    "get_bounding_box(mask)\n",
    "plot_bounding_box(mask)"
   ]
  },
  {
   "cell_type": "code",
   "execution_count": 76,
   "id": "6c67d1d7",
   "metadata": {},
   "outputs": [],
   "source": [
    "import math\n",
    "def convert_yolo_to_bounding_box(tup):\n",
    "    x, y, w, h = tup\n",
    "    return (int(x - (w/2)), int(y-(h/2)), w, h)"
   ]
  },
  {
   "cell_type": "code",
   "execution_count": 77,
   "id": "8a7a9e2b",
   "metadata": {},
   "outputs": [
    {
     "name": "stdout",
     "output_type": "stream",
     "text": [
      "['0 0.6171875 0.71484375 0.044921875 0.033203125\\n']\n",
      "x = 304, y = 357, w = 23, h= 17\n"
     ]
    },
    {
     "data": {
      "image/png": "[encoded data removed]",
      "text/plain": [
       "<Figure size 576x720 with 1 Axes>"
      ]
     },
     "metadata": {
      "needs_background": "light"
     },
     "output_type": "display_data"
    }
   ],
   "source": [
    "fullsize_image_folder = '/data/yolov5/train/images/'\n",
    "fullsize_mask_folder = '/data/yolov5/train/labels/'\n",
    "imgname = 'LIDC-IDRI-0001_86.jpg'\n",
    "img = Image.open(fullsize_image_folder + imgname)\n",
    "with open(fullsize_mask_folder + imgname.replace('jpg','txt'), mode='r', encoding=\"utf-8\") as f:\n",
    "    lines = f.readlines()\n",
    "    print(lines)\n",
    "c, x, y, w, h = tuple([int(float(l)*512) for l in lines[0].split()])\n",
    "plot_box(img, convert_yolo_to_bounding_box((x, y, w, h)), (8, 10))"
   ]
  },
  {
   "cell_type": "code",
   "execution_count": 78,
   "id": "e4e753b1",
   "metadata": {},
   "outputs": [
    {
     "name": "stdout",
     "output_type": "stream",
     "text": [
      "x = 304, y = 357, w = 23, h= 17\n"
     ]
    },
    {
     "data": {
      "image/png": "[encoded data removed]",
      "text/plain": [
       "<Figure size 576x720 with 1 Axes>"
      ]
     },
     "metadata": {
      "needs_background": "light"
     },
     "output_type": "display_data"
    }
   ],
   "source": [
    "fullsize_image_folder = '/data/unet/fullsize/train/images/'\n",
    "fullsize_label_folder = '/data/unet/fullsize/train/labels/'\n",
    "fullsize_mask_folder = '/data/unet/fullsize/train/masks/'\n",
    "imgname = 'LIDC-IDRI-0001_86.jpg'\n",
    "img = Image.open(fullsize_image_folder + imgname)\n",
    "mask = Image.open(fullsize_mask_folder + imgname.replace('img','mask'))\n",
    "with open(fullsize_label_folder + imgname.replace('jpg','txt'), mode='r', encoding=\"utf-8\") as f:\n",
    "    lines = f.readlines()\n",
    "c, x, y, w, h = tuple([int(float(l)*512) for l in lines[0].split()])\n",
    "plot_box(mask, convert_yolo_to_bounding_box((x, y, w, h)), (8, 10))"
   ]
  },
  {
   "cell_type": "code",
   "execution_count": 9,
   "id": "fdd51271",
   "metadata": {
    "collapsed": true,
    "jupyter": {
     "outputs_hidden": true
    }
   },
   "outputs": [
    {
     "name": "stdout",
     "output_type": "stream",
     "text": [
      "/app/yolov5\n",
      "Requirement already satisfied: matplotlib>=3.2.2 in /opt/conda/lib/python3.8/site-packages (from -r requirements.txt (line 4)) (3.4.3)\n",
      "Requirement already satisfied: numpy>=1.18.5 in /opt/conda/lib/python3.8/site-packages (from -r requirements.txt (line 5)) (1.21.2)\n",
      "Collecting opencv-python>=4.1.2\n",
      "  Downloading opencv_python-4.5.4.58-cp38-cp38-manylinux2014_x86_64.whl (60.3 MB)\n",
      "\u001b[K     |████████████████████████████████| 60.3 MB 198 kB/s  eta 0:00:01\n",
      "\u001b[?25hRequirement already satisfied: Pillow>=7.1.2 in /opt/conda/lib/python3.8/site-packages (from -r requirements.txt (line 7)) (8.4.0)\n",
      "Requirement already satisfied: PyYAML>=5.3.1 in /opt/conda/lib/python3.8/site-packages (from -r requirements.txt (line 8)) (5.4.1)\n",
      "Requirement already satisfied: requests>=2.23.0 in /opt/conda/lib/python3.8/site-packages (from -r requirements.txt (line 9)) (2.26.0)\n",
      "Requirement already satisfied: scipy>=1.4.1 in /opt/conda/lib/python3.8/site-packages (from -r requirements.txt (line 10)) (1.6.3)\n",
      "Requirement already satisfied: torch>=1.7.0 in /opt/conda/lib/python3.8/site-packages (from -r requirements.txt (line 11)) (1.10.0a0+3fd9dcf)\n",
      "Requirement already satisfied: torchvision>=0.8.1 in /opt/conda/lib/python3.8/site-packages (from -r requirements.txt (line 12)) (0.11.0a0)\n",
      "Requirement already satisfied: tqdm>=4.41.0 in /opt/conda/lib/python3.8/site-packages (from -r requirements.txt (line 13)) (4.62.2)\n",
      "Requirement already satisfied: tensorboard>=2.4.1 in /opt/conda/lib/python3.8/site-packages (from -r requirements.txt (line 16)) (2.6.0)\n",
      "Requirement already satisfied: pandas>=1.1.4 in /opt/conda/lib/python3.8/site-packages (from -r requirements.txt (line 20)) (1.3.4)\n",
      "Collecting seaborn>=0.11.0\n",
      "  Downloading seaborn-0.11.2-py3-none-any.whl (292 kB)\n",
      "\u001b[K     |████████████████████████████████| 292 kB 75.4 MB/s eta 0:00:01\n",
      "\u001b[?25hCollecting thop\n",
      "  Downloading thop-0.0.31.post2005241907-py3-none-any.whl (8.7 kB)\n",
      "Requirement already satisfied: cycler>=0.10 in /opt/conda/lib/python3.8/site-packages (from matplotlib>=3.2.2->-r requirements.txt (line 4)) (0.10.0)\n",
      "Requirement already satisfied: python-dateutil>=2.7 in /opt/conda/lib/python3.8/site-packages (from matplotlib>=3.2.2->-r requirements.txt (line 4)) (2.8.2)\n",
      "Requirement already satisfied: kiwisolver>=1.0.1 in /opt/conda/lib/python3.8/site-packages (from matplotlib>=3.2.2->-r requirements.txt (line 4)) (1.3.2)\n",
      "Requirement already satisfied: pyparsing>=2.2.1 in /opt/conda/lib/python3.8/site-packages (from matplotlib>=3.2.2->-r requirements.txt (line 4)) (2.4.7)\n",
      "Requirement already satisfied: idna<4,>=2.5 in /opt/conda/lib/python3.8/site-packages (from requests>=2.23.0->-r requirements.txt (line 9)) (3.1)\n",
      "Requirement already satisfied: certifi>=2017.4.17 in /opt/conda/lib/python3.8/site-packages (from requests>=2.23.0->-r requirements.txt (line 9)) (2021.5.30)\n",
      "Requirement already satisfied: urllib3<1.27,>=1.21.1 in /opt/conda/lib/python3.8/site-packages (from requests>=2.23.0->-r requirements.txt (line 9)) (1.26.6)\n",
      "Requirement already satisfied: charset-normalizer~=2.0.0 in /opt/conda/lib/python3.8/site-packages (from requests>=2.23.0->-r requirements.txt (line 9)) (2.0.0)\n",
      "Requirement already satisfied: typing_extensions in /opt/conda/lib/python3.8/site-packages (from torch>=1.7.0->-r requirements.txt (line 11)) (3.10.0.0)\n",
      "Requirement already satisfied: wheel>=0.26 in /opt/conda/lib/python3.8/site-packages (from tensorboard>=2.4.1->-r requirements.txt (line 16)) (0.37.0)\n",
      "Requirement already satisfied: werkzeug>=0.11.15 in /opt/conda/lib/python3.8/site-packages (from tensorboard>=2.4.1->-r requirements.txt (line 16)) (2.0.1)\n",
      "Requirement already satisfied: tensorboard-plugin-wit>=1.6.0 in /opt/conda/lib/python3.8/site-packages (from tensorboard>=2.4.1->-r requirements.txt (line 16)) (1.8.0)\n",
      "Requirement already satisfied: grpcio>=1.24.3 in /opt/conda/lib/python3.8/site-packages (from tensorboard>=2.4.1->-r requirements.txt (line 16)) (1.41.1)\n",
      "Requirement already satisfied: absl-py>=0.4 in /opt/conda/lib/python3.8/site-packages (from tensorboard>=2.4.1->-r requirements.txt (line 16)) (0.13.0)\n",
      "Requirement already satisfied: markdown>=2.6.8 in /opt/conda/lib/python3.8/site-packages (from tensorboard>=2.4.1->-r requirements.txt (line 16)) (3.3.4)\n",
      "Requirement already satisfied: protobuf>=3.6.0 in /opt/conda/lib/python3.8/site-packages (from tensorboard>=2.4.1->-r requirements.txt (line 16)) (3.19.1)\n",
      "Requirement already satisfied: google-auth<2,>=1.6.3 in /opt/conda/lib/python3.8/site-packages (from tensorboard>=2.4.1->-r requirements.txt (line 16)) (1.35.0)\n",
      "Requirement already satisfied: google-auth-oauthlib<0.5,>=0.4.1 in /opt/conda/lib/python3.8/site-packages (from tensorboard>=2.4.1->-r requirements.txt (line 16)) (0.4.6)\n",
      "Requirement already satisfied: tensorboard-data-server<0.7.0,>=0.6.0 in /opt/conda/lib/python3.8/site-packages (from tensorboard>=2.4.1->-r requirements.txt (line 16)) (0.6.1)\n",
      "Requirement already satisfied: setuptools>=41.0.0 in /opt/conda/lib/python3.8/site-packages (from tensorboard>=2.4.1->-r requirements.txt (line 16)) (57.4.0)\n",
      "Requirement already satisfied: pytz>=2017.3 in /opt/conda/lib/python3.8/site-packages (from pandas>=1.1.4->-r requirements.txt (line 20)) (2021.1)\n",
      "Requirement already satisfied: six in /opt/conda/lib/python3.8/site-packages (from absl-py>=0.4->tensorboard>=2.4.1->-r requirements.txt (line 16)) (1.16.0)\n",
      "Requirement already satisfied: rsa<5,>=3.1.4 in /opt/conda/lib/python3.8/site-packages (from google-auth<2,>=1.6.3->tensorboard>=2.4.1->-r requirements.txt (line 16)) (4.7.2)\n",
      "Requirement already satisfied: cachetools<5.0,>=2.0.0 in /opt/conda/lib/python3.8/site-packages (from google-auth<2,>=1.6.3->tensorboard>=2.4.1->-r requirements.txt (line 16)) (4.2.2)\n",
      "Requirement already satisfied: pyasn1-modules>=0.2.1 in /opt/conda/lib/python3.8/site-packages (from google-auth<2,>=1.6.3->tensorboard>=2.4.1->-r requirements.txt (line 16)) (0.2.8)\n",
      "Requirement already satisfied: requests-oauthlib>=0.7.0 in /opt/conda/lib/python3.8/site-packages (from google-auth-oauthlib<0.5,>=0.4.1->tensorboard>=2.4.1->-r requirements.txt (line 16)) (1.3.0)\n",
      "Requirement already satisfied: pyasn1<0.5.0,>=0.4.6 in /opt/conda/lib/python3.8/site-packages (from pyasn1-modules>=0.2.1->google-auth<2,>=1.6.3->tensorboard>=2.4.1->-r requirements.txt (line 16)) (0.4.8)\n",
      "Requirement already satisfied: oauthlib>=3.0.0 in /opt/conda/lib/python3.8/site-packages (from requests-oauthlib>=0.7.0->google-auth-oauthlib<0.5,>=0.4.1->tensorboard>=2.4.1->-r requirements.txt (line 16)) (3.1.1)\n",
      "Installing collected packages: thop, seaborn, opencv-python\n",
      "Successfully installed opencv-python-4.5.4.58 seaborn-0.11.2 thop-0.0.31.post2005241907\n",
      "\u001b[33mWARNING: Running pip as the 'root' user can result in broken permissions and conflicting behaviour with the system package manager. It is recommended to use a virtual environment instead: https://pip.pypa.io/warnings/venv\u001b[0m\n"
     ]
    }
   ],
   "source": [
    "## predict the bounding box on this image using Yolo\n",
    "%cd /app/yolov5\n",
    "!pip install -r requirements.txt"
   ]
  },
  {
   "cell_type": "raw",
   "id": "5ecafece",
   "metadata": {},
   "source": [
    "# !apt-get update\n",
    "# !apt-get install ffmpeg libsm6 libxext6  -y"
   ]
  },
  {
   "cell_type": "code",
   "execution_count": 11,
   "id": "4a0a8b13",
   "metadata": {},
   "outputs": [
    {
     "name": "stdout",
     "output_type": "stream",
     "text": [
      "Downloading https://ultralytics.com/assets/Arial.ttf to /root/.config/Ultralytics/Arial.ttf...\n",
      "\u001b[34m\u001b[1mdetect: \u001b[0mweights=['/app/yolov5/runs/train/yolov5s_results3/weights/best.pt'], source=/data/unet/fullsize/train/images/LIDC-IDRI-0001_86.jpg, imgsz=[512, 512], conf_thres=0.25, iou_thres=0.45, max_det=1000, device=, view_img=False, save_txt=True, save_conf=False, save_crop=False, nosave=True, classes=None, agnostic_nms=False, augment=False, visualize=False, update=False, project=runs/detect, name=exp, exist_ok=False, line_thickness=3, hide_labels=False, hide_conf=False, half=False, dnn=False\n",
      "YOLOv5 🚀 v6.0-43-g19c8760 torch 1.10.0a0+3fd9dcf CUDA:0 (Tesla T4, 15109.75MB)\n",
      "\n",
      "Fusing layers... \n",
      "Model Summary: 232 layers, 7246518 parameters, 0 gradients, 16.8 GFLOPs\n",
      "image 1/1 /data/unet/fullsize/train/images/LIDC-IDRI-0001_86.jpg: 512x512 1 nodule, Done. (0.013s)\n",
      "Speed: 16.0ms pre-process, 13.0ms inference, 157.0ms NMS per image at shape (1, 3, 512, 512)\n",
      "Results saved to \u001b[1mruns/detect/exp21\u001b[0m\n",
      "1 labels saved to runs/detect/exp21/labels\n"
     ]
    }
   ],
   "source": [
    "model_weights = '/app/yolov5/runs/train/yolov5s_results3/weights/best.pt'\n",
    "!python detect.py --weights {model_weights} --img 512 --conf 0.25 --source {fullsize_image_folder + imgname} --save-txt --nosave"
   ]
  },
  {
   "cell_type": "code",
   "execution_count": 79,
   "id": "8942b5f4",
   "metadata": {},
   "outputs": [],
   "source": [
    "def yolo_bbox_to_slice(tup):\n",
    "    x, y, w, h = tup\n",
    "    #x = 305, y = 358, w = 24, h= 16\n",
    "    #note, y and x are flipped\n",
    "    clip = (slice(y, y+h), slice(x, x+w))\n",
    "    return clip"
   ]
  },
  {
   "cell_type": "code",
   "execution_count": 80,
   "id": "61cbaa01",
   "metadata": {},
   "outputs": [],
   "source": [
    "def get_predicted_box(outdir):\n",
    "    out_folder_name = \"/app/yolov5/runs/detect/{}/labels/\".format(outdir)\n",
    "    files = os.listdir(out_folder_name)\n",
    "    with open(out_folder_name + imgname.replace('jpg','txt'), mode='r', encoding=\"utf-8\") as f:\n",
    "        lines = f.readlines()\n",
    "    c, x, y, w, h = tuple([int(float(l)*512) for l in lines[0].split()])\n",
    "    clip = convert_yolo_to_bounding_box((x, y, w, h))\n",
    "    return clip, files"
   ]
  },
  {
   "cell_type": "code",
   "execution_count": 81,
   "id": "ee52ba11",
   "metadata": {},
   "outputs": [
    {
     "name": "stdout",
     "output_type": "stream",
     "text": [
      "clip= (305, 358, 24, 16)\n",
      "x = 305, y = 358, w = 24, h= 16\n"
     ]
    },
    {
     "data": {
      "image/png": "[encoded data removed]",
      "text/plain": [
       "<Figure size 576x720 with 1 Axes>"
      ]
     },
     "metadata": {
      "needs_background": "light"
     },
     "output_type": "display_data"
    }
   ],
   "source": [
    "# clip, files = get_predicted_box('exp20')\n",
    "# print(\"Predicting for {}\".format(files))\n",
    "outdir = 'exp21'\n",
    "out_folder_name = \"/app/yolov5/runs/detect/{}/labels/\".format(outdir)\n",
    "fullsize_mask_folder = '/data/unet/fullsize/train/masks/'\n",
    "mask = Image.open(fullsize_mask_folder + imgname.replace('img','mask'))\n",
    "with open(out_folder_name + imgname.replace('jpg','txt'), mode='r', encoding=\"utf-8\") as f:\n",
    "    lines = f.readlines()\n",
    "c, x, y, w, h = tuple([int(float(l)*512) for l in lines[0].split()])\n",
    "clip = convert_yolo_to_bounding_box((x, y, w, h))\n",
    "print(\"clip=\", clip)\n",
    "plot_box(mask, clip, (8, 10))"
   ]
  },
  {
   "cell_type": "code",
   "execution_count": 12,
   "id": "ce559e8e",
   "metadata": {},
   "outputs": [
    {
     "data": {
      "text/plain": [
       "<matplotlib.image.AxesImage at 0x7f65a8206cd0>"
      ]
     },
     "execution_count": 12,
     "metadata": {},
     "output_type": "execute_result"
    },
    {
     "data": {
      "image/png": "[encoded data removed]",
      "text/plain": [
       "<Figure size 432x288 with 1 Axes>"
      ]
     },
     "metadata": {
      "needs_background": "light"
     },
     "output_type": "display_data"
    }
   ],
   "source": [
    "clip_nodule = yolo_bbox_to_slice(clip)\n",
    "plt.imshow(np.array(mask)[clip_nodule])"
   ]
  },
  {
   "cell_type": "code",
   "execution_count": 14,
   "id": "90ecc9df",
   "metadata": {},
   "outputs": [
    {
     "data": {
      "text/plain": [
       "<matplotlib.image.AxesImage at 0x7f65a934ad00>"
      ]
     },
     "execution_count": 14,
     "metadata": {},
     "output_type": "execute_result"
    },
    {
     "data": {
      "image/png": "[encoded data removed]",
      "text/plain": [
       "<Figure size 432x288 with 1 Axes>"
      ]
     },
     "metadata": {
      "needs_background": "light"
     },
     "output_type": "display_data"
    }
   ],
   "source": [
    "clip_nodule = yolo_bbox_to_slice(clip)\n",
    "plt.imshow(np.array(img)[clip_nodule])"
   ]
  },
  {
   "cell_type": "code",
   "execution_count": 82,
   "id": "9c0171b1",
   "metadata": {},
   "outputs": [],
   "source": [
    "# get a 64x64 image around the bounding box\n",
    "# take 32 pixels including c_x on each axis\n",
    "def get_stride(c):\n",
    "    start = 0\n",
    "    if (c - 32) > 0:\n",
    "        start = c - 32\n",
    "    else:\n",
    "        start = 0\n",
    "    if (c + 32) < 512:\n",
    "        stop = c + 32\n",
    "    else:\n",
    "        stop = 512\n",
    "    return slice(start, stop, None)\n",
    "\n",
    "\"\"\"\n",
    "    Get a 64x64 image around the nodule, when using random = false, we get the actual clip of the annotated nodule,\n",
    "    when using random = true, get a 64x64 image around the nodule randomly chosen which may or may not show a part of the nodule\n",
    "\"\"\"\n",
    "def get_nodule_part(clip, random=False):\n",
    "    # extract 64x64 size images from the image randomly including the mask\n",
    "    c_x = int(clip[0].start + (clip[0].stop - clip[0].start)/2)\n",
    "    c_y = int(clip[1].start + (clip[1].stop - clip[1].start)/2)\n",
    "    #print(c_x, c_y)\n",
    "    if random: # random center within 64x64 box\n",
    "        c_x = np.random.choice(np.arange(clip[0].start, clip[0].stop))\n",
    "        c_y = np.random.choice(np.arange(clip[1].start, clip[1].stop))\n",
    "    return get_stride(c_x), get_stride(c_y)"
   ]
  },
  {
   "cell_type": "code",
   "execution_count": 83,
   "id": "f9310297",
   "metadata": {},
   "outputs": [
    {
     "name": "stdout",
     "output_type": "stream",
     "text": [
      "clip =  (slice(358, 374, None), slice(305, 329, None))\n"
     ]
    },
    {
     "data": {
      "text/plain": [
       "<matplotlib.image.AxesImage at 0x7f6599fdf4c0>"
      ]
     },
     "execution_count": 83,
     "metadata": {},
     "output_type": "execute_result"
    },
    {
     "data": {
      "image/png": "[encoded data removed]",
      "text/plain": [
       "<Figure size 432x288 with 1 Axes>"
      ]
     },
     "metadata": {
      "needs_background": "light"
     },
     "output_type": "display_data"
    }
   ],
   "source": [
    "#x = 305, y = 358, w = 24, h= 16\n",
    "#convert the rect coords to slice\n",
    "fullsize_mask_folder = '/data/unet/fullsize/train/masks/'\n",
    "mask = Image.open(fullsize_mask_folder + imgname.replace('img','mask'))\n",
    "mask = mask.convert('1')\n",
    "mask = np.array(mask)\n",
    "mask = mask.astype(np.uint8)\n",
    "#note, y and x are flipped\n",
    "clip, files = get_predicted_box('exp21')\n",
    "clip = yolo_bbox_to_slice(clip)\n",
    "print(\"clip = \", clip)\n",
    "plt.imshow(mask[clip])\n",
    "cropped_clip = get_nodule_part(clip, random=False)\n",
    "plt.imshow(mask[cropped_clip])"
   ]
  },
  {
   "cell_type": "code",
   "execution_count": 84,
   "id": "d42c78ed",
   "metadata": {},
   "outputs": [
    {
     "name": "stdout",
     "output_type": "stream",
     "text": [
      "clip =  (slice(358, 374, None), slice(305, 329, None))\n"
     ]
    },
    {
     "data": {
      "image/png": "[encoded data removed]",
      "text/plain": [
       "<Figure size 432x288 with 1 Axes>"
      ]
     },
     "metadata": {
      "needs_background": "light"
     },
     "output_type": "display_data"
    }
   ],
   "source": [
    "#x = 305, y = 358, w = 24, h= 16\n",
    "#convert the rect coords to slice\n",
    "fullsize_mask_folder = '/data/unet/fullsize/train/images/'\n",
    "image = Image.open(fullsize_mask_folder + imgname)\n",
    "#mask = mask.convert('1')\n",
    "image = np.array(image).astype('float32')\n",
    "image -= np.mean(image)\n",
    "image /= np.std(image)\n",
    "\n",
    "#note, y and x are flipped\n",
    "clip, files = get_predicted_box('exp21')\n",
    "clip = yolo_bbox_to_slice(clip)\n",
    "print(\"clip = \", clip)\n",
    "plt.imshow(image[clip])\n",
    "cropped_clip = get_nodule_part(clip, random=False)\n",
    "#plt.imshow(image[cropped_clip])"
   ]
  },
  {
   "cell_type": "code",
   "execution_count": 85,
   "id": "464638bc",
   "metadata": {},
   "outputs": [
    {
     "name": "stdout",
     "output_type": "stream",
     "text": [
      "247 unique pixels in the full ((512, 512)) image from full size JPG files\n",
      "89 unique pixels in the cropped ((64, 64)) image from full size JPG files\n"
     ]
    },
    {
     "data": {
      "image/png": "[encoded data removed]",
      "text/plain": [
       "<Figure size 432x288 with 1 Axes>"
      ]
     },
     "metadata": {
      "needs_background": "light"
     },
     "output_type": "display_data"
    }
   ],
   "source": [
    "# get the cropped image from yolo prediction\n",
    "fullsize_image_folder = '/data/unet/fullsize/train/images/'\n",
    "image = Image.open(fullsize_image_folder + imgname)\n",
    "image = np.array(image).astype('float32')\n",
    "image -= np.mean(image)\n",
    "image /= np.std(image)\n",
    "#note, y and x are flipped\n",
    "clip = yolo_bbox_to_slice(convert_yolo_to_bounding_box((x, y, w, h)))\n",
    "#plt.imshow(img[clip])\n",
    "cropped_clip = get_nodule_part(clip, random=False)\n",
    "plt.imshow(image[cropped_clip])\n",
    "print(\"{} unique pixels in the full ({}) image from full size JPG files\".format(len(np.unique(image)),image.shape))\n",
    "print(\"{} unique pixels in the cropped ({}) image from full size JPG files\".format(len(np.unique(image[cropped_clip])),image[cropped_clip].shape))"
   ]
  },
  {
   "cell_type": "markdown",
   "id": "d2af92f0",
   "metadata": {},
   "source": [
    "#### Load the cropped images from UNET training data\n",
    "\n",
    "folder: /data/unet/train/images"
   ]
  },
  {
   "cell_type": "code",
   "execution_count": 86,
   "id": "f0cc256d",
   "metadata": {},
   "outputs": [],
   "source": [
    "unet_train_folder = '/data/unet/train/'"
   ]
  },
  {
   "cell_type": "code",
   "execution_count": 87,
   "id": "70e35e92",
   "metadata": {},
   "outputs": [
    {
     "name": "stdout",
     "output_type": "stream",
     "text": [
      "241 unique pixels in the ((64, 64)) image from UNET training JPG files\n"
     ]
    }
   ],
   "source": [
    "image = Image.open(unet_train_folder + 'images/' + 'img_LIDC-IDRI-0001_0_86.jpg')\n",
    "image = np.array(image).astype('float32')\n",
    "image -= np.mean(image)\n",
    "image /= np.std(image)\n",
    "print(\"{} unique pixels in the ({}) image from UNET training JPG files\".format(len(np.unique(image)),image.shape))"
   ]
  },
  {
   "cell_type": "markdown",
   "id": "19ff13a4",
   "metadata": {},
   "source": [
    "Clearly, there is an issue when loading a full size image and cropping it, imageio when saving a cropped image modifies the pixel values so that even a cropped 64x64 image will be saved with 241 unique pixel values.\n",
    "\n",
    "Let's try to use imageio to convert the cropped image into a rich one in memory."
   ]
  },
  {
   "cell_type": "code",
   "execution_count": 88,
   "id": "0784b1ec",
   "metadata": {},
   "outputs": [],
   "source": [
    "from io import BytesIO\n",
    "import imageio\n",
    "def convert_to_imageio_rich(cropped_img_array):\n",
    "    buf = BytesIO()\n",
    "    imageio.imwrite(buf, cropped_img_array, format='jpg')\n",
    "    buf.seek(0)\n",
    "    new_arr = Image.open(buf)\n",
    "    new_arr = np.array(new_arr).astype('float32')\n",
    "    new_arr -= np.mean(new_arr)\n",
    "    new_arr /= np.std(new_arr)\n",
    "    return new_arr"
   ]
  },
  {
   "cell_type": "code",
   "execution_count": 89,
   "id": "92a13b7a",
   "metadata": {},
   "outputs": [
    {
     "name": "stderr",
     "output_type": "stream",
     "text": [
      "Lossy conversion from float32 to uint8. Range [-0.17634423077106476, 2.1623523235321045]. Convert image to uint8 prior to saving to suppress this warning.\n"
     ]
    },
    {
     "name": "stdout",
     "output_type": "stream",
     "text": [
      "239 unique pixels in the cropped ((64, 64)) image from full size JPG files\n"
     ]
    }
   ],
   "source": [
    "#load the full size JPG file and crop it\n",
    "fullsize_image_folder = '/data/unet/fullsize/train/images/'\n",
    "image = Image.open(fullsize_image_folder + imgname)\n",
    "image = np.array(image).astype('float32')\n",
    "image -= np.mean(image)\n",
    "image /= np.std(image)\n",
    "#note, y and x are flipped\n",
    "clip = yolo_bbox_to_slice(convert_yolo_to_bounding_box((x, y, w, h)))\n",
    "cropped_clip = get_nodule_part(clip, random=False)\n",
    "\n",
    "conv_img_arr = convert_to_imageio_rich(image[cropped_clip])\n",
    "print(\"{} unique pixels in the cropped ({}) image from full size JPG files\".format(len(np.unique(conv_img_arr)),conv_img_arr.shape))"
   ]
  },
  {
   "cell_type": "markdown",
   "id": "01c0573c",
   "metadata": {},
   "source": [
    "There is still 2 unique pixel values missing. Let's see if this changes when we go back to the source DICOM files to crop the image."
   ]
  },
  {
   "cell_type": "code",
   "execution_count": 90,
   "id": "984f6457",
   "metadata": {},
   "outputs": [],
   "source": [
    "\n",
    "def un(a, b):\n",
    "    return np.union1d(a, b)\n",
    "\n",
    "def unr(ll, acc, i):\n",
    "    if i < len(ll):\n",
    "        j = i + 1\n",
    "        acc = un(ll[i], acc)\n",
    "        return unr(ll, acc, j)\n",
    "    else:\n",
    "        return acc\n",
    "\n",
    "def get_slices_with_masks(cbbox_CT):\n",
    "    ll = []\n",
    "    for cb in cbbox_CT:\n",
    "        ll.append(np.arange(cb[2].start, cb[2].stop+1))\n",
    "    return unr(ll, [], 0)\n",
    "\n",
    "\"\"\"\n",
    "    dicom_dir: path to the DICOM images\n",
    "    returns: the vol, mask, annotated bounding box and the slice indices which have annotated masks\n",
    "\"\"\"\n",
    "def load_patient_vol_and_mask(dicom_dir, patient_id=-1):\n",
    "    \n",
    "    f = open ('/root/.pylidcrc','w')    #For Colab\n",
    "    f.write('[dicom]'+'\\n')\n",
    "    f.write('path =' + dicom_dir +'\\n')\n",
    "    f.write('warn = True')\n",
    "    f.close()\n",
    "\n",
    "    patient_list = os.listdir(dicom_dir)\n",
    "    if patient_id == -1: #select one randomly\n",
    "        patient_id = np.random.choice(patient_list)\n",
    "    scan = pl.query(pl.Scan).filter(pl.Scan.patient_id.in_([patient_id]))[0]\n",
    "    nodules_annotation = scan.cluster_annotations()\n",
    "    try:\n",
    "        vol = scan.to_volume()\n",
    "    except:\n",
    "        print(\"Error loading DICOM for patient {}\".format(patient_id))\n",
    "        return None, None, None\n",
    "    # are there nodules that are useful?\n",
    "\n",
    "    # process the mask for the image\n",
    "    cmask_CT = []\n",
    "    cbbox_CT = []\n",
    "    masks_CT = []\n",
    "    for nodule_idx, nodule in enumerate(nodules_annotation):\n",
    "        if len(nodule) >= 4:\n",
    "            cmask, cbbox, masks = consensus(nodule)\n",
    "            cmask_CT.append(cmask)\n",
    "            cbbox_CT.append(cbbox)\n",
    "            masks_CT.append(masks)\n",
    "\n",
    "    if len(cbbox_CT) <=0:\n",
    "        print(\"No relevant nodules for patient {}\".format(patient_id))\n",
    "        return None, None, None\n",
    "\n",
    "\n",
    "    # create the mask voxel\n",
    "    CT_mask = np.zeros_like(vol)    \n",
    "    nodule_num = len(cmask_CT)\n",
    "\n",
    "    #print(\"Number of nodules {}\".format(nodule_num))\n",
    "    for i in range(nodule_num):\n",
    "        cmask = cmask_CT[i]\n",
    "        cbbox = cbbox_CT[i]\n",
    "        masks = masks_CT[i]\n",
    "        CT_mask[cbbox] += cmask\n",
    "\n",
    "    # get the slices that have annotations\n",
    "    slices_with_mask = get_slices_with_masks(cbbox_CT)\n",
    "    \n",
    "    return vol, CT_mask, cbbox_CT, slices_with_mask"
   ]
  },
  {
   "cell_type": "code",
   "execution_count": 91,
   "id": "86c49e28",
   "metadata": {},
   "outputs": [
    {
     "name": "stdout",
     "output_type": "stream",
     "text": [
      "Loading dicom files ... This may take a moment.\n"
     ]
    }
   ],
   "source": [
    "vol, CT_mask, cbbox, slices_with_mask = load_patient_vol_and_mask('/rawdata/train/sorted_gcsfiles', 'LIDC-IDRI-0001')"
   ]
  },
  {
   "cell_type": "code",
   "execution_count": 92,
   "id": "a27d1dae",
   "metadata": {},
   "outputs": [
    {
     "name": "stderr",
     "output_type": "stream",
     "text": [
      "Lossy conversion from float32 to uint8. Range [-0.8964322209358215, 3.6785922050476074]. Convert image to uint8 prior to saving to suppress this warning.\n"
     ]
    },
    {
     "name": "stdout",
     "output_type": "stream",
     "text": [
      "(slice(334, 398, None), slice(285, 349, None))\n",
      "241 unique pixels in the cropped ((64, 64)) image from raw DICOM image\n"
     ]
    },
    {
     "data": {
      "image/png": "[encoded data removed]",
      "text/plain": [
       "<Figure size 432x288 with 1 Axes>"
      ]
     },
     "metadata": {
      "needs_background": "light"
     },
     "output_type": "display_data"
    }
   ],
   "source": [
    "# get the predicted bounding box from the last output folder\n",
    "clip, files = get_predicted_box('exp21')\n",
    "# convert yolo bonding box to slice\n",
    "clip = yolo_bbox_to_slice(clip)\n",
    "# extract a 64x64 clip with the bounding box at the center\n",
    "cropped_clip = get_nodule_part(clip, random=False)\n",
    "print(cropped_clip)\n",
    "# extract a 64x64 image for the specific slice (depending on which one we predicted on) from the image\n",
    "image = vol[cropped_clip][:,:,86]\n",
    "image = np.array(image).astype('float32')\n",
    "image -= np.mean(image)\n",
    "image /= np.std(image)\n",
    "# use imageio to normalize the values\n",
    "image = convert_to_imageio_rich(image)\n",
    "plt.imshow(image)\n",
    "print(\"{} unique pixels in the cropped ({}) image from raw DICOM image\".format(len(np.unique(image)),image.shape))"
   ]
  },
  {
   "cell_type": "markdown",
   "id": "d0162905",
   "metadata": {},
   "source": [
    "We will need to load the images from the source (DICOM), predict the bounding box using Yolo and then predict the mask using UNET"
   ]
  },
  {
   "cell_type": "code",
   "execution_count": 111,
   "id": "ac888eca",
   "metadata": {},
   "outputs": [
    {
     "name": "stdout",
     "output_type": "stream",
     "text": [
      "There are 738 test images\n"
     ]
    }
   ],
   "source": [
    "test_images_list = os.listdir('/data/yolov5/test/images/')\n",
    "print(\"There are {} test images\".format(len(test_images_list)))\n",
    "tup = [(name.split('_')[0],name.split('_')[1].split('.')[0]) for name in test_images_list]\n",
    "patient_slice = {}\n",
    "for t in sorted(tup):\n",
    "    if t[0] in patient_slice:\n",
    "        patient_slice[t[0]].append(int(t[1]))\n",
    "    else:\n",
    "        patient_slice[t[0]] = [int(t[1])]"
   ]
  },
  {
   "cell_type": "code",
   "execution_count": 117,
   "id": "b2db336f",
   "metadata": {},
   "outputs": [
    {
     "name": "stdout",
     "output_type": "stream",
     "text": [
      "There are 27 patients in the test dataset.\n"
     ]
    }
   ],
   "source": [
    "print(\"There are {} patients in the test dataset.\".format(len(patient_slice.keys())))"
   ]
  },
  {
   "cell_type": "code",
   "execution_count": 125,
   "id": "26960211",
   "metadata": {},
   "outputs": [],
   "source": [
    "pid_cnt = [(k, len(patient_slice[k])) for k in patient_slice.keys()]"
   ]
  },
  {
   "cell_type": "code",
   "execution_count": 145,
   "id": "54f54a26",
   "metadata": {},
   "outputs": [
    {
     "data": {
      "image/png": "[encoded data removed]",
      "text/plain": [
       "<Figure size 432x288 with 1 Axes>"
      ]
     },
     "metadata": {
      "needs_background": "light"
     },
     "output_type": "display_data"
    }
   ],
   "source": [
    "xs = []\n",
    "ys = []\n",
    "for x, y in pid_cnt:\n",
    "    xs.append(x)\n",
    "    ys.append(y)\n",
    "f,a = plt.subplots()\n",
    "a.bar(xs, ys)\n",
    "plt.xticks(rotation=90)\n",
    "plt.title('Distribution of slice count for patients (test set)')\n",
    "plt.show()"
   ]
  },
  {
   "cell_type": "markdown",
   "id": "03f3adba",
   "metadata": {},
   "source": [
    "#### Predict nodule objects using Yolo"
   ]
  },
  {
   "cell_type": "code",
   "execution_count": 159,
   "id": "7be2fdac",
   "metadata": {},
   "outputs": [
    {
     "name": "stdout",
     "output_type": "stream",
     "text": [
      "LIDC-IDRI-0012\n",
      "[100, 104, 108, 109, 116, 119, 124, 125, 13, 2, 28, 30, 4, 45, 52, 53, 54, 55, 62, 63, 64, 65, 66, 67, 68, 69, 70, 71, 72, 73, 75, 76, 77, 78, 79, 8, 80, 81, 88, 93, 95, 99]\n"
     ]
    }
   ],
   "source": [
    "for k in patient_slice.keys():\n",
    "    print(k)\n",
    "    print(patient_slice[k])\n",
    "    break"
   ]
  },
  {
   "cell_type": "code",
   "execution_count": 167,
   "id": "90390784",
   "metadata": {
    "collapsed": true,
    "jupyter": {
     "outputs_hidden": true
    }
   },
   "outputs": [
    {
     "name": "stdout",
     "output_type": "stream",
     "text": [
      "Loading dicom files ... This may take a moment.\n"
     ]
    },
    {
     "name": "stderr",
     "output_type": "stream",
     "text": [
      "Lossy conversion from float64 to uint8. Range [-1.6024935377505356, 4.777343630058491]. Convert image to uint8 prior to saving to suppress this warning.\n",
      "Lossy conversion from float64 to uint8. Range [-1.597956523322161, 4.097893197897188]. Convert image to uint8 prior to saving to suppress this warning.\n",
      "Lossy conversion from float64 to uint8. Range [-1.595126707326903, 4.591565556378221]. Convert image to uint8 prior to saving to suppress this warning.\n",
      "Lossy conversion from float64 to uint8. Range [-1.5912138363190926, 4.942378311474704]. Convert image to uint8 prior to saving to suppress this warning.\n",
      "Lossy conversion from float64 to uint8. Range [-1.584270794943256, 4.817040198582206]. Convert image to uint8 prior to saving to suppress this warning.\n",
      "Lossy conversion from float64 to uint8. Range [-1.5683964828230257, 4.688787576506891]. Convert image to uint8 prior to saving to suppress this warning.\n",
      "Lossy conversion from float64 to uint8. Range [-1.5837429326316987, 4.841555106328284]. Convert image to uint8 prior to saving to suppress this warning.\n",
      "Lossy conversion from float64 to uint8. Range [-1.5843209687152746, 4.87853872088791]. Convert image to uint8 prior to saving to suppress this warning.\n",
      "Lossy conversion from float64 to uint8. Range [-1.6764437300503157, 2.207718441070609]. Convert image to uint8 prior to saving to suppress this warning.\n",
      "Lossy conversion from float64 to uint8. Range [-1.7121671924138269, 2.356847966482387]. Convert image to uint8 prior to saving to suppress this warning.\n",
      "Lossy conversion from float64 to uint8. Range [-1.6180378739894639, 2.7605630300758244]. Convert image to uint8 prior to saving to suppress this warning.\n",
      "Lossy conversion from float64 to uint8. Range [-1.6123128852751514, 2.6631343074102096]. Convert image to uint8 prior to saving to suppress this warning.\n",
      "Lossy conversion from float64 to uint8. Range [-1.7074674940296648, 2.443124136562727]. Convert image to uint8 prior to saving to suppress this warning.\n",
      "Lossy conversion from float64 to uint8. Range [-1.5958344410101428, 3.329263891972982]. Convert image to uint8 prior to saving to suppress this warning.\n",
      "Lossy conversion from float64 to uint8. Range [-1.6010906814597374, 2.904565932764935]. Convert image to uint8 prior to saving to suppress this warning.\n",
      "Lossy conversion from float64 to uint8. Range [-1.6017354952974567, 2.75084828850397]. Convert image to uint8 prior to saving to suppress this warning.\n",
      "Lossy conversion from float64 to uint8. Range [-1.6022287866662828, 2.816764533937731]. Convert image to uint8 prior to saving to suppress this warning.\n",
      "Lossy conversion from float64 to uint8. Range [-1.6034300588872776, 2.8392462949795547]. Convert image to uint8 prior to saving to suppress this warning.\n",
      "Lossy conversion from float64 to uint8. Range [-1.6189180038628745, 2.7491338619924157]. Convert image to uint8 prior to saving to suppress this warning.\n",
      "Lossy conversion from float64 to uint8. Range [-1.6205731173175362, 2.674016375474287]. Convert image to uint8 prior to saving to suppress this warning.\n",
      "Lossy conversion from float64 to uint8. Range [-1.6210217256306603, 2.775534708218062]. Convert image to uint8 prior to saving to suppress this warning.\n",
      "Lossy conversion from float64 to uint8. Range [-1.6219695821805953, 2.774277990496564]. Convert image to uint8 prior to saving to suppress this warning.\n",
      "Lossy conversion from float64 to uint8. Range [-1.6210591613829823, 2.6867326735288763]. Convert image to uint8 prior to saving to suppress this warning.\n",
      "Lossy conversion from float64 to uint8. Range [-1.6186325580298195, 2.6339649202864766]. Convert image to uint8 prior to saving to suppress this warning.\n",
      "Lossy conversion from float64 to uint8. Range [-1.6183729241487916, 2.6921518331338445]. Convert image to uint8 prior to saving to suppress this warning.\n",
      "Lossy conversion from float64 to uint8. Range [-1.619915331288583, 2.6670015070249087]. Convert image to uint8 prior to saving to suppress this warning.\n",
      "Lossy conversion from float64 to uint8. Range [-1.6229071555792074, 2.775746817091408]. Convert image to uint8 prior to saving to suppress this warning.\n",
      "Lossy conversion from float64 to uint8. Range [-1.6233496047637288, 2.8496945620584553]. Convert image to uint8 prior to saving to suppress this warning.\n",
      "Lossy conversion from float64 to uint8. Range [-1.6236358056075744, 2.8701817127515232]. Convert image to uint8 prior to saving to suppress this warning.\n",
      "Lossy conversion from float64 to uint8. Range [-1.6226583002228967, 3.0320886497671724]. Convert image to uint8 prior to saving to suppress this warning.\n",
      "Lossy conversion from float64 to uint8. Range [-1.621071877040051, 3.526863613652759]. Convert image to uint8 prior to saving to suppress this warning.\n",
      "Lossy conversion from float64 to uint8. Range [-1.6200940252765188, 3.695115813911129]. Convert image to uint8 prior to saving to suppress this warning.\n",
      "Lossy conversion from float64 to uint8. Range [-1.619148357822233, 3.7027709458175857]. Convert image to uint8 prior to saving to suppress this warning.\n",
      "Lossy conversion from float64 to uint8. Range [-1.6201396947424012, 3.519537262992162]. Convert image to uint8 prior to saving to suppress this warning.\n",
      "Lossy conversion from float64 to uint8. Range [-1.6192061063066205, 3.1259313492745306]. Convert image to uint8 prior to saving to suppress this warning.\n",
      "Lossy conversion from float64 to uint8. Range [-1.6949102361353459, 2.335435579108242]. Convert image to uint8 prior to saving to suppress this warning.\n",
      "Lossy conversion from float64 to uint8. Range [-1.618902687675992, 3.2806497325364954]. Convert image to uint8 prior to saving to suppress this warning.\n",
      "Lossy conversion from float64 to uint8. Range [-1.619724742122704, 3.3709605972439927]. Convert image to uint8 prior to saving to suppress this warning.\n",
      "Lossy conversion from float64 to uint8. Range [-1.6142616208247293, 3.718956325119562]. Convert image to uint8 prior to saving to suppress this warning.\n",
      "Lossy conversion from float64 to uint8. Range [-1.6066851665679767, 4.45615526033651]. Convert image to uint8 prior to saving to suppress this warning.\n",
      "Lossy conversion from float64 to uint8. Range [-1.6042999726649692, 4.487076922255476]. Convert image to uint8 prior to saving to suppress this warning.\n",
      "Lossy conversion from float64 to uint8. Range [-1.6038193342910012, 4.743084281128913]. Convert image to uint8 prior to saving to suppress this warning.\n"
     ]
    },
    {
     "name": "stdout",
     "output_type": "stream",
     "text": [
      "Reading data from /data/yolov5/predict//LIDC-IDRI-0012/images/\n",
      "Running command:\n",
      "\n",
      "python detect.py --weights /app/yolov5/runs/train/yolov5s_results18/weights/best.pt --img 512 --conf 0.25 --source /data/yolov5/predict//LIDC-IDRI-0012/images/ --save-txt --nosave 2>&1 | tee /data/yolov5/predict//temp/temp.txt\n",
      "\u001b[34m\u001b[1mdetect: \u001b[0mweights=['/app/yolov5/runs/train/yolov5s_results18/weights/best.pt'], source=/data/yolov5/predict//LIDC-IDRI-0012/images/, imgsz=[512, 512], conf_thres=0.25, iou_thres=0.45, max_det=1000, device=, view_img=False, save_txt=True, save_conf=False, save_crop=False, nosave=True, classes=None, agnostic_nms=False, augment=False, visualize=False, update=False, project=runs/detect, name=exp, exist_ok=False, line_thickness=3, hide_labels=False, hide_conf=False, half=False, dnn=False\n",
      "YOLOv5 🚀 v6.0-43-g19c8760 torch 1.10.0a0+3fd9dcf CUDA:0 (Tesla T4, 15109.75MB)\n",
      "\n",
      "Fusing layers... \n",
      "Model Summary: 232 layers, 7246518 parameters, 0 gradients, 16.8 GFLOPs\n",
      "image 1/42 /data/yolov5/predict/LIDC-IDRI-0012/images/LIDC-IDRI-0012_100.jpg: 512x512 Done. (0.013s)\n",
      "image 2/42 /data/yolov5/predict/LIDC-IDRI-0012/images/LIDC-IDRI-0012_104.jpg: 512x512 Done. (0.013s)\n",
      "image 3/42 /data/yolov5/predict/LIDC-IDRI-0012/images/LIDC-IDRI-0012_108.jpg: 512x512 1 nodule, Done. (0.013s)\n",
      "image 4/42 /data/yolov5/predict/LIDC-IDRI-0012/images/LIDC-IDRI-0012_109.jpg: 512x512 Done. (0.018s)\n",
      "image 5/42 /data/yolov5/predict/LIDC-IDRI-0012/images/LIDC-IDRI-0012_116.jpg: 512x512 Done. (0.013s)\n",
      "image 6/42 /data/yolov5/predict/LIDC-IDRI-0012/images/LIDC-IDRI-0012_119.jpg: 512x512 Done. (0.012s)\n",
      "image 7/42 /data/yolov5/predict/LIDC-IDRI-0012/images/LIDC-IDRI-0012_124.jpg: 512x512 Done. (0.012s)\n",
      "image 8/42 /data/yolov5/predict/LIDC-IDRI-0012/images/LIDC-IDRI-0012_125.jpg: 512x512 Done. (0.012s)\n",
      "image 9/42 /data/yolov5/predict/LIDC-IDRI-0012/images/LIDC-IDRI-0012_13.jpg: 512x512 Done. (0.012s)\n",
      "image 10/42 /data/yolov5/predict/LIDC-IDRI-0012/images/LIDC-IDRI-0012_2.jpg: 512x512 Done. (0.012s)\n",
      "image 11/42 /data/yolov5/predict/LIDC-IDRI-0012/images/LIDC-IDRI-0012_28.jpg: 512x512 Done. (0.015s)\n",
      "image 12/42 /data/yolov5/predict/LIDC-IDRI-0012/images/LIDC-IDRI-0012_30.jpg: 512x512 Done. (0.016s)\n",
      "image 13/42 /data/yolov5/predict/LIDC-IDRI-0012/images/LIDC-IDRI-0012_4.jpg: 512x512 Done. (0.013s)\n",
      "image 14/42 /data/yolov5/predict/LIDC-IDRI-0012/images/LIDC-IDRI-0012_45.jpg: 512x512 1 nodule, Done. (0.016s)\n",
      "image 15/42 /data/yolov5/predict/LIDC-IDRI-0012/images/LIDC-IDRI-0012_52.jpg: 512x512 Done. (0.016s)\n",
      "image 16/42 /data/yolov5/predict/LIDC-IDRI-0012/images/LIDC-IDRI-0012_53.jpg: 512x512 1 nodule, Done. (0.016s)\n",
      "image 17/42 /data/yolov5/predict/LIDC-IDRI-0012/images/LIDC-IDRI-0012_54.jpg: 512x512 Done. (0.016s)\n",
      "image 18/42 /data/yolov5/predict/LIDC-IDRI-0012/images/LIDC-IDRI-0012_55.jpg: 512x512 Done. (0.013s)\n",
      "image 19/42 /data/yolov5/predict/LIDC-IDRI-0012/images/LIDC-IDRI-0012_62.jpg: 512x512 1 nodule, Done. (0.013s)\n",
      "image 20/42 /data/yolov5/predict/LIDC-IDRI-0012/images/LIDC-IDRI-0012_63.jpg: 512x512 1 nodule, Done. (0.012s)\n",
      "image 21/42 /data/yolov5/predict/LIDC-IDRI-0012/images/LIDC-IDRI-0012_64.jpg: 512x512 1 nodule, Done. (0.012s)\n",
      "image 22/42 /data/yolov5/predict/LIDC-IDRI-0012/images/LIDC-IDRI-0012_65.jpg: 512x512 2 nodules, Done. (0.012s)\n",
      "image 23/42 /data/yolov5/predict/LIDC-IDRI-0012/images/LIDC-IDRI-0012_66.jpg: 512x512 3 nodules, Done. (0.011s)\n",
      "image 24/42 /data/yolov5/predict/LIDC-IDRI-0012/images/LIDC-IDRI-0012_67.jpg: 512x512 1 nodule, Done. (0.016s)\n",
      "image 25/42 /data/yolov5/predict/LIDC-IDRI-0012/images/LIDC-IDRI-0012_68.jpg: 512x512 Done. (0.013s)\n",
      "image 26/42 /data/yolov5/predict/LIDC-IDRI-0012/images/LIDC-IDRI-0012_69.jpg: 512x512 Done. (0.011s)\n",
      "image 27/42 /data/yolov5/predict/LIDC-IDRI-0012/images/LIDC-IDRI-0012_70.jpg: 512x512 Done. (0.011s)\n",
      "image 28/42 /data/yolov5/predict/LIDC-IDRI-0012/images/LIDC-IDRI-0012_71.jpg: 512x512 1 nodule, Done. (0.012s)\n",
      "image 29/42 /data/yolov5/predict/LIDC-IDRI-0012/images/LIDC-IDRI-0012_72.jpg: 512x512 1 nodule, Done. (0.013s)\n",
      "image 30/42 /data/yolov5/predict/LIDC-IDRI-0012/images/LIDC-IDRI-0012_73.jpg: 512x512 1 nodule, Done. (0.012s)\n",
      "image 31/42 /data/yolov5/predict/LIDC-IDRI-0012/images/LIDC-IDRI-0012_75.jpg: 512x512 Done. (0.012s)\n",
      "image 32/42 /data/yolov5/predict/LIDC-IDRI-0012/images/LIDC-IDRI-0012_76.jpg: 512x512 Done. (0.012s)\n",
      "image 33/42 /data/yolov5/predict/LIDC-IDRI-0012/images/LIDC-IDRI-0012_77.jpg: 512x512 1 nodule, Done. (0.017s)\n",
      "image 34/42 /data/yolov5/predict/LIDC-IDRI-0012/images/LIDC-IDRI-0012_78.jpg: 512x512 1 nodule, Done. (0.016s)\n",
      "image 35/42 /data/yolov5/predict/LIDC-IDRI-0012/images/LIDC-IDRI-0012_79.jpg: 512x512 1 nodule, Done. (0.016s)\n",
      "image 36/42 /data/yolov5/predict/LIDC-IDRI-0012/images/LIDC-IDRI-0012_8.jpg: 512x512 Done. (0.016s)\n",
      "image 37/42 /data/yolov5/predict/LIDC-IDRI-0012/images/LIDC-IDRI-0012_80.jpg: 512x512 Done. (0.016s)\n",
      "image 38/42 /data/yolov5/predict/LIDC-IDRI-0012/images/LIDC-IDRI-0012_81.jpg: 512x512 Done. (0.012s)\n",
      "image 39/42 /data/yolov5/predict/LIDC-IDRI-0012/images/LIDC-IDRI-0012_88.jpg: 512x512 Done. (0.012s)\n",
      "image 40/42 /data/yolov5/predict/LIDC-IDRI-0012/images/LIDC-IDRI-0012_93.jpg: 512x512 Done. (0.014s)\n",
      "image 41/42 /data/yolov5/predict/LIDC-IDRI-0012/images/LIDC-IDRI-0012_95.jpg: 512x512 Done. (0.017s)\n",
      "image 42/42 /data/yolov5/predict/LIDC-IDRI-0012/images/LIDC-IDRI-0012_99.jpg: 512x512 Done. (0.017s)\n",
      "Speed: 0.7ms pre-process, 13.7ms inference, 2.7ms NMS per image at shape (1, 3, 512, 512)\n",
      "Results saved to \u001b[1mruns/detect/exp23\u001b[0m\n",
      "15 labels saved to runs/detect/exp23/labels\n",
      "Command executed with code 0\n",
      "Scanning output file /data/yolov5/predict//temp/temp.txt\n",
      "Predicted and saved the results to /app/yolov5/runs/detect/exp23\n"
     ]
    },
    {
     "ename": "NameError",
     "evalue": "name 'root_dir' is not defined",
     "output_type": "error",
     "traceback": [
      "\u001b[0;31m---------------------------------------------------------------------------\u001b[0m",
      "\u001b[0;31mNameError\u001b[0m                                 Traceback (most recent call last)",
      "\u001b[0;32m/tmp/ipykernel_755/178780057.py\u001b[0m in \u001b[0;36m<module>\u001b[0;34m\u001b[0m\n\u001b[1;32m      1\u001b[0m \u001b[0;32mfor\u001b[0m \u001b[0mk\u001b[0m \u001b[0;32min\u001b[0m \u001b[0mpatient_slice\u001b[0m\u001b[0;34m.\u001b[0m\u001b[0mkeys\u001b[0m\u001b[0;34m(\u001b[0m\u001b[0;34m)\u001b[0m\u001b[0;34m:\u001b[0m\u001b[0;34m\u001b[0m\u001b[0;34m\u001b[0m\u001b[0m\n\u001b[0;32m----> 2\u001b[0;31m     detect_nodules(k, patient_slice[k], dicomdir='/data/yolov5/test/sorted_gcsfiles/', \n\u001b[0m\u001b[1;32m      3\u001b[0m                    \u001b[0mmodel_weights\u001b[0m \u001b[0;34m=\u001b[0m \u001b[0;34m'/app/yolov5/runs/train/yolov5s_results18/weights/best.pt'\u001b[0m\u001b[0;34m,\u001b[0m\u001b[0;34m\u001b[0m\u001b[0;34m\u001b[0m\u001b[0m\n\u001b[1;32m      4\u001b[0m                       testdir='/data/yolov5/predict/')\n\u001b[1;32m      5\u001b[0m     \u001b[0;32mbreak\u001b[0m\u001b[0;34m\u001b[0m\u001b[0;34m\u001b[0m\u001b[0m\n",
      "\u001b[0;32m/tmp/ipykernel_755/1888088904.py\u001b[0m in \u001b[0;36mdetect_nodules\u001b[0;34m(patient_id, slices, dicomdir, model_weights, testdir)\u001b[0m\n\u001b[1;32m     70\u001b[0m         \u001b[0;32melse\u001b[0m\u001b[0;34m:\u001b[0m\u001b[0;34m\u001b[0m\u001b[0;34m\u001b[0m\u001b[0m\n\u001b[1;32m     71\u001b[0m             \u001b[0mprint\u001b[0m\u001b[0;34m(\u001b[0m\u001b[0;34m\"Could not save the predictions!\"\u001b[0m\u001b[0;34m)\u001b[0m\u001b[0;34m\u001b[0m\u001b[0;34m\u001b[0m\u001b[0m\n\u001b[0;32m---> 72\u001b[0;31m         \u001b[0mpredicted_paths\u001b[0m\u001b[0;34m.\u001b[0m\u001b[0mappend\u001b[0m\u001b[0;34m(\u001b[0m\u001b[0mroot_dir\u001b[0m \u001b[0;34m+\u001b[0m \u001b[0;34m\"/\"\u001b[0m \u001b[0;34m+\u001b[0m \u001b[0mresult\u001b[0m\u001b[0;34m)\u001b[0m\u001b[0;34m\u001b[0m\u001b[0;34m\u001b[0m\u001b[0m\n\u001b[0m\u001b[1;32m     73\u001b[0m \u001b[0;34m\u001b[0m\u001b[0m\n\u001b[1;32m     74\u001b[0m \u001b[0;31m#     for nodule in range(nodule_num):\u001b[0m\u001b[0;34m\u001b[0m\u001b[0;34m\u001b[0m\u001b[0;34m\u001b[0m\u001b[0m\n",
      "\u001b[0;31mNameError\u001b[0m: name 'root_dir' is not defined"
     ]
    }
   ],
   "source": [
    "for k in patient_slice.keys():\n",
    "    detect_nodules(k, patient_slice[k], dicomdir='/data/yolov5/test/sorted_gcsfiles/', \n",
    "                   model_weights = '/app/yolov5/runs/train/yolov5s_results18/weights/best.pt',\n",
    "                      testdir='/data/yolov5/predict/')\n",
    "    break"
   ]
  },
  {
   "cell_type": "code",
   "execution_count": 93,
   "id": "4062c12a",
   "metadata": {},
   "outputs": [],
   "source": [
    "import re\n",
    "import subprocess\n",
    "\n",
    "\"\"\"\n",
    "    patient_id: patient id\n",
    "    slices: array of slice ids\n",
    "    dicomdir: the location of the dicom images\n",
    "\"\"\"\n",
    "def detect_nodules(patient_id, slices, dicomdir, model_weights, testdir='/data/yolov5/predict/'):\n",
    "    \n",
    "    # create the pylidc config file (needed to load the DICOM images)\n",
    "    f = open ('/root/.pylidcrc','w')\n",
    "    f.write('[dicom]'+'\\n')\n",
    "    f.write('path =' + dicomdir +'\\n')\n",
    "    f.write('warn = True')\n",
    "    f.close()\n",
    "    \n",
    "    scan = pl.query(pl.Scan).filter(pl.Scan.patient_id.in_([patient_id]))[0]\n",
    "    nodules_annotation = scan.cluster_annotations()\n",
    "    try:\n",
    "        vol = scan.to_volume()\n",
    "    except:\n",
    "        print(\"Error loading DICOM for patient {}\".format(patient_id))\n",
    "        return None, None, None\n",
    "    \n",
    "    cmask_CT = []\n",
    "    cbbox_CT = []\n",
    "    masks_CT = []\n",
    "    for nodule_idx, nodule in enumerate(nodules_annotation):\n",
    "        cmask, cbbox, masks = consensus(nodule)\n",
    "        cmask_CT.append(cmask)\n",
    "        cbbox_CT.append(cbbox)\n",
    "        masks_CT.append(masks)\n",
    "    CT_mask = np.zeros_like(vol)    \n",
    "    nodule_num = len(cmask_CT)\n",
    "    \n",
    "    predicted_paths = []\n",
    "    for slice_id in slices:\n",
    "        image = vol[:,:,slice_id]\n",
    "        image = image - np.mean(image)\n",
    "        image = image / np.std(image)\n",
    "        #TODO: do we need to transform the mask before saving?\n",
    "        mask = CT_mask[:,:,slice_id]\n",
    "        source_dir = testdir + \"/\" + str(patient_id) + \"/images/\"\n",
    "        if not os.path.exists(source_dir):\n",
    "            print(\"Creating directory {}\".format(source_dir))\n",
    "            os.makedirs(source_dir)\n",
    "        image_file_name = \"{}_{}.jpg\".format(patient_id, slice_id)\n",
    "        imageio.imwrite(source_dir + \"/\" + image_file_name, image)\n",
    "        \n",
    "    temp_dir = testdir + '/temp'\n",
    "    if not os.path.exists(temp_dir):\n",
    "        os.makedirs(temp_dir)\n",
    "    temp_file = temp_dir + \"/\" + 'temp.txt'\n",
    "    print(\"Reading data from {}\".format(source_dir))\n",
    "    predict_command = \"python detect.py --weights {} --img 512 --conf 0.25 --source {} --save-txt --nosave 2>&1 | tee {}\".format(model_weights, source_dir, temp_file)\n",
    "    print(\"Running command:\\n\")\n",
    "    print(predict_command)\n",
    "    ret_code = os.system(predict_command)\n",
    "    print(\"Command executed with code {}\".format(ret_code))\n",
    "    print(\"Scanning output file {}\".format(temp_file))\n",
    "    with open(temp_file) as f:\n",
    "        line = f.read()\n",
    "        rc = re.compile(r'Results saved to (.*)')\n",
    "        m = rc.search(line)\n",
    "        if (m is not None) and (len(m.groups())>=1):\n",
    "            ansi_escape = re.compile(r'\\x1B(?:[@-Z\\\\-_]|\\[[0-?]*[ -/]*[@-~])')\n",
    "            result = ansi_escape.sub('', m[1])\n",
    "            print(\"Predicted and saved the results to {}/{}\".format('/app/yolov5', result))\n",
    "        else:\n",
    "            print(\"Could not save the predictions!\")\n",
    "        predicted_paths.append(root_dir + \"/\" + result)\n",
    "    \n",
    "#     for nodule in range(nodule_num):\n",
    "#         source_dir = testdir + \"/\" + str(patient_id) + \"/images/\" + str(nodule)\n",
    "#         temp_dir = root_dir + '/temp'\n",
    "#         if not os.path.exists(temp_dir):\n",
    "#             os.makedirs(temp_dir)\n",
    "#         temp_file = temp_dir + \"/\" + 'temp.txt'\n",
    "#         print(\"Reading data from {}\".format(source_dir))\n",
    "#         predict_command = \"python detect.py --weights {} --img 512 --conf 0.25 --source {} 2>&1 | tee {}\".format(model_weights, source_dir, temp_file)\n",
    "#         print(\"Running command:\\n\")\n",
    "#         print(predict_command)\n",
    "#         ret_code = os.system(predict_command)\n",
    "#         print(\"Command executed with code {}\".format(ret_code))\n",
    "#         print(\"Scanning output file {}\".format(temp_file))\n",
    "#         with open(temp_file) as f:\n",
    "#             line = f.read()\n",
    "#             rc = re.compile(r'Results saved to (.*)')\n",
    "#             m = rc.search(line)\n",
    "#             if (m is not None) and (len(m.groups())>=1):\n",
    "#                 ansi_escape = re.compile(r'\\x1B(?:[@-Z\\\\-_]|\\[[0-?]*[ -/]*[@-~])')\n",
    "#                 result = ansi_escape.sub('', m[1])\n",
    "#                 print(\"Predicted and saved the results to {}/{}\".format('/app/yolov5', result))\n",
    "#             else:\n",
    "#                 print(\"Could not save the predictions!\")\n",
    "#             predicted_paths.append(root_dir + \"/\" + result)\n",
    "    return predicted_paths"
   ]
  },
  {
   "cell_type": "markdown",
   "id": "276bf728",
   "metadata": {},
   "source": [
    "### Get the unet model"
   ]
  },
  {
   "cell_type": "code",
   "execution_count": 94,
   "id": "0af69efd",
   "metadata": {},
   "outputs": [],
   "source": [
    "import pylidc as pl\n",
    "from pylidc.utils import consensus\n",
    "import pydicom as dicom\n",
    "from skimage.measure import find_contours\n",
    "import numpy as np\n",
    "import matplotlib.pyplot as plt\n",
    "import os\n",
    "from numpy import random\n",
    "import torch\n",
    "import torch.nn as nn\n",
    "import torch.nn.functional as F\n",
    "from torchsummary import summary\n",
    "from torch.utils.data import Dataset, DataLoader\n",
    "import torchvision\n",
    "import time\n",
    "from torch.nn.parallel import DistributedDataParallel as DDP"
   ]
  },
  {
   "cell_type": "code",
   "execution_count": 95,
   "id": "52826b30",
   "metadata": {},
   "outputs": [],
   "source": [
    "class Block(nn.Module):\n",
    "    def __init__(self, in_ch, out_ch):\n",
    "        super().__init__()\n",
    "        self.conv1 = nn.Conv2d(in_ch, out_ch, 3, padding = 1)\n",
    "        self.relu1 = nn.ReLU()\n",
    "        self.bn1   = nn.BatchNorm2d(out_ch)\n",
    "        self.conv2 = nn.Conv2d(out_ch, out_ch, 3, padding = 1)\n",
    "        self.relu2 = nn.ReLU()\n",
    "        self.bn2   = nn.BatchNorm2d(out_ch)\n",
    "    \n",
    "    def forward(self, x):\n",
    "        return self.bn2(self.relu2(self.conv2(self.bn1(self.relu1(self.conv1(x))))))\n",
    "    \n",
    "\n",
    "class Encoder(nn.Module):\n",
    "    def __init__(self, chs=(1,32,64,128,256)):\n",
    "        super().__init__()\n",
    "        self.enc_blocks = nn.ModuleList([Block(chs[i], chs[i+1]) for i in range(len(chs)-1)])\n",
    "        self.pool       = nn.MaxPool2d(2)\n",
    "    \n",
    "    def forward(self, x):\n",
    "        ftrs = []\n",
    "        for block in self.enc_blocks:\n",
    "            x = block(x)\n",
    "            ftrs.append(x)\n",
    "            x = self.pool(x)\n",
    "        return ftrs\n",
    "\n",
    "\n",
    "class Decoder(nn.Module):\n",
    "    def __init__(self, chs=(256, 128, 64, 32)):\n",
    "        super().__init__()\n",
    "        self.chs         = chs\n",
    "        self.upconvs    = nn.ModuleList([nn.ConvTranspose2d(chs[i], chs[i+1], 2, 2) for i in range(len(chs)-1)])\n",
    "        self.dec_blocks = nn.ModuleList([Block(chs[i], chs[i+1]) for i in range(len(chs)-1)]) \n",
    "        \n",
    "    def forward(self, x, encoder_features):\n",
    "        for i in range(len(self.chs)-1):\n",
    "            x        = self.upconvs[i](x)\n",
    "#            enc_ftrs = self.crop(encoder_features[i], x)\n",
    "#            x        = torch.cat([x, enc_ftrs], dim=1)\n",
    "            x        = torch.cat([x, encoder_features[i]], dim=1)\n",
    "            x        = self.dec_blocks[i](x)\n",
    "        return x\n",
    "    \n",
    "#    def crop(self, enc_ftrs, x):\n",
    "#        _, _, H, W = x.shape\n",
    "#        enc_ftrs   = torchvision.transforms.CenterCrop([H, W])(enc_ftrs)\n",
    "#        return enc_ftrs\n",
    "\n",
    "class Unet(nn.Module):\n",
    "    def __init__(self, enc_chs=(1,32,64,128,256), dec_chs=(256, 128, 64, 32), num_class=1, retain_dim=False, out_sz=(64,64)):\n",
    "        super().__init__()\n",
    "        self.encoder     = Encoder(enc_chs)\n",
    "        self.decoder     = Decoder(dec_chs)\n",
    "        self.head        = nn.Conv2d(dec_chs[-1], num_class, 1)\n",
    "        self.retain_dim  = retain_dim\n",
    "\n",
    "    def forward(self, x):\n",
    "        enc_ftrs = self.encoder(x)\n",
    "        out      = self.decoder(enc_ftrs[::-1][0], enc_ftrs[::-1][1:])\n",
    "        out      = self.head(out)\n",
    "        if self.retain_dim:\n",
    "            out = F.interpolate(out, out_sz)\n",
    "        return out"
   ]
  },
  {
   "cell_type": "code",
   "execution_count": 96,
   "id": "094a3014",
   "metadata": {},
   "outputs": [
    {
     "name": "stdout",
     "output_type": "stream",
     "text": [
      "1.10.0a0+3fd9dcf\n",
      "Number of GPUs = 1\n"
     ]
    }
   ],
   "source": [
    "print(torch.__version__)\n",
    "print(\"Number of GPUs =\", torch.cuda.device_count())"
   ]
  },
  {
   "cell_type": "code",
   "execution_count": 97,
   "id": "c8324db8",
   "metadata": {},
   "outputs": [],
   "source": [
    "model = Unet()\n",
    "model = torch.nn.parallel.DataParallel(model, device_ids=[0]).cuda()"
   ]
  },
  {
   "cell_type": "code",
   "execution_count": 98,
   "id": "fa3a0d46",
   "metadata": {},
   "outputs": [],
   "source": [
    "device = torch.device(\"cuda\")"
   ]
  },
  {
   "cell_type": "code",
   "execution_count": 99,
   "id": "a106c86b",
   "metadata": {
    "collapsed": true,
    "jupyter": {
     "outputs_hidden": true
    }
   },
   "outputs": [
    {
     "name": "stdout",
     "output_type": "stream",
     "text": [
      "----------------------------------------------------------------\n",
      "        Layer (type)               Output Shape         Param #\n",
      "================================================================\n",
      "            Conv2d-1           [-1, 32, 64, 64]             320\n",
      "              ReLU-2           [-1, 32, 64, 64]               0\n",
      "       BatchNorm2d-3           [-1, 32, 64, 64]              64\n",
      "            Conv2d-4           [-1, 32, 64, 64]           9,248\n",
      "              ReLU-5           [-1, 32, 64, 64]               0\n",
      "       BatchNorm2d-6           [-1, 32, 64, 64]              64\n",
      "             Block-7           [-1, 32, 64, 64]               0\n",
      "         MaxPool2d-8           [-1, 32, 32, 32]               0\n",
      "            Conv2d-9           [-1, 64, 32, 32]          18,496\n",
      "             ReLU-10           [-1, 64, 32, 32]               0\n",
      "      BatchNorm2d-11           [-1, 64, 32, 32]             128\n",
      "           Conv2d-12           [-1, 64, 32, 32]          36,928\n",
      "             ReLU-13           [-1, 64, 32, 32]               0\n",
      "      BatchNorm2d-14           [-1, 64, 32, 32]             128\n",
      "            Block-15           [-1, 64, 32, 32]               0\n",
      "        MaxPool2d-16           [-1, 64, 16, 16]               0\n",
      "           Conv2d-17          [-1, 128, 16, 16]          73,856\n",
      "             ReLU-18          [-1, 128, 16, 16]               0\n",
      "      BatchNorm2d-19          [-1, 128, 16, 16]             256\n",
      "           Conv2d-20          [-1, 128, 16, 16]         147,584\n",
      "             ReLU-21          [-1, 128, 16, 16]               0\n",
      "      BatchNorm2d-22          [-1, 128, 16, 16]             256\n",
      "            Block-23          [-1, 128, 16, 16]               0\n",
      "        MaxPool2d-24            [-1, 128, 8, 8]               0\n",
      "           Conv2d-25            [-1, 256, 8, 8]         295,168\n",
      "             ReLU-26            [-1, 256, 8, 8]               0\n",
      "      BatchNorm2d-27            [-1, 256, 8, 8]             512\n",
      "           Conv2d-28            [-1, 256, 8, 8]         590,080\n",
      "             ReLU-29            [-1, 256, 8, 8]               0\n",
      "      BatchNorm2d-30            [-1, 256, 8, 8]             512\n",
      "            Block-31            [-1, 256, 8, 8]               0\n",
      "        MaxPool2d-32            [-1, 256, 4, 4]               0\n",
      "          Encoder-33  [[-1, 32, 64, 64], [-1, 64, 32, 32], [-1, 128, 16, 16], [-1, 256, 8, 8]]               0\n",
      "  ConvTranspose2d-34          [-1, 128, 16, 16]         131,200\n",
      "           Conv2d-35          [-1, 128, 16, 16]         295,040\n",
      "             ReLU-36          [-1, 128, 16, 16]               0\n",
      "      BatchNorm2d-37          [-1, 128, 16, 16]             256\n",
      "           Conv2d-38          [-1, 128, 16, 16]         147,584\n",
      "             ReLU-39          [-1, 128, 16, 16]               0\n",
      "      BatchNorm2d-40          [-1, 128, 16, 16]             256\n",
      "            Block-41          [-1, 128, 16, 16]               0\n",
      "  ConvTranspose2d-42           [-1, 64, 32, 32]          32,832\n",
      "           Conv2d-43           [-1, 64, 32, 32]          73,792\n",
      "             ReLU-44           [-1, 64, 32, 32]               0\n",
      "      BatchNorm2d-45           [-1, 64, 32, 32]             128\n",
      "           Conv2d-46           [-1, 64, 32, 32]          36,928\n",
      "             ReLU-47           [-1, 64, 32, 32]               0\n",
      "      BatchNorm2d-48           [-1, 64, 32, 32]             128\n",
      "            Block-49           [-1, 64, 32, 32]               0\n",
      "  ConvTranspose2d-50           [-1, 32, 64, 64]           8,224\n",
      "           Conv2d-51           [-1, 32, 64, 64]          18,464\n",
      "             ReLU-52           [-1, 32, 64, 64]               0\n",
      "      BatchNorm2d-53           [-1, 32, 64, 64]              64\n",
      "           Conv2d-54           [-1, 32, 64, 64]           9,248\n",
      "             ReLU-55           [-1, 32, 64, 64]               0\n",
      "      BatchNorm2d-56           [-1, 32, 64, 64]              64\n",
      "            Block-57           [-1, 32, 64, 64]               0\n",
      "          Decoder-58           [-1, 32, 64, 64]               0\n",
      "           Conv2d-59            [-1, 1, 64, 64]              33\n",
      "             Unet-60            [-1, 1, 64, 64]               0\n",
      "================================================================\n",
      "Total params: 1,927,841\n",
      "Trainable params: 1,927,841\n",
      "Non-trainable params: 0\n",
      "----------------------------------------------------------------\n",
      "Input size (MB): 0.02\n",
      "Forward/backward pass size (MB): 35184372088803.34\n",
      "Params size (MB): 7.35\n",
      "Estimated Total Size (MB): 35184372088810.71\n",
      "----------------------------------------------------------------\n"
     ]
    }
   ],
   "source": [
    "summary(model, (1,64,64))"
   ]
  },
  {
   "cell_type": "code",
   "execution_count": 100,
   "id": "15196ecf",
   "metadata": {},
   "outputs": [],
   "source": [
    "# DICE only for the images which has nodules in ground truth\n",
    "def dice_coeff(y_true, y_pred):\n",
    "    smooth = 0.0001\n",
    "    #print('label shape=', y_true.ndim)\n",
    "    if y_true.ndim == 2:\n",
    "        y_true = y_true[np.newaxis,:,:]\n",
    "    true_nodules = torch.sum(y_true, dim=[1,2])\n",
    "    idxs = torch.where(true_nodules>0)\n",
    "    y_true = y_true[idxs]\n",
    "    y_pred = y_pred[idxs]\n",
    "    if idxs[0].shape[0] <=0:\n",
    "        return torch.tensor(0.0)\n",
    "    else:\n",
    "    #return torch.mean( (2. * torch.sum(y_true * y_pred, dim=1) + smooth) / (torch.sum(y_true, dim=1) + torch.sum(y_pred, dim=1) + smooth) )\n",
    "        return torch.mean((2. *torch.sum(y_true * y_pred, dim = [1,2]) + smooth)/(torch.sum(y_true, dim=[1,2]) + torch.sum(y_pred, dim=[1,2]) + smooth), dim=[0])"
   ]
  },
  {
   "cell_type": "code",
   "execution_count": 212,
   "id": "806024dd",
   "metadata": {},
   "outputs": [
    {
     "name": "stdout",
     "output_type": "stream",
     "text": [
      "/app\n"
     ]
    }
   ],
   "source": [
    "%cd /app"
   ]
  },
  {
   "cell_type": "code",
   "execution_count": 101,
   "id": "fab6add0",
   "metadata": {},
   "outputs": [
    {
     "data": {
      "text/plain": [
       "DataParallel(\n",
       "  (module): Unet(\n",
       "    (encoder): Encoder(\n",
       "      (enc_blocks): ModuleList(\n",
       "        (0): Block(\n",
       "          (conv1): Conv2d(1, 32, kernel_size=(3, 3), stride=(1, 1), padding=(1, 1))\n",
       "          (relu1): ReLU()\n",
       "          (bn1): BatchNorm2d(32, eps=1e-05, momentum=0.1, affine=True, track_running_stats=True)\n",
       "          (conv2): Conv2d(32, 32, kernel_size=(3, 3), stride=(1, 1), padding=(1, 1))\n",
       "          (relu2): ReLU()\n",
       "          (bn2): BatchNorm2d(32, eps=1e-05, momentum=0.1, affine=True, track_running_stats=True)\n",
       "        )\n",
       "        (1): Block(\n",
       "          (conv1): Conv2d(32, 64, kernel_size=(3, 3), stride=(1, 1), padding=(1, 1))\n",
       "          (relu1): ReLU()\n",
       "          (bn1): BatchNorm2d(64, eps=1e-05, momentum=0.1, affine=True, track_running_stats=True)\n",
       "          (conv2): Conv2d(64, 64, kernel_size=(3, 3), stride=(1, 1), padding=(1, 1))\n",
       "          (relu2): ReLU()\n",
       "          (bn2): BatchNorm2d(64, eps=1e-05, momentum=0.1, affine=True, track_running_stats=True)\n",
       "        )\n",
       "        (2): Block(\n",
       "          (conv1): Conv2d(64, 128, kernel_size=(3, 3), stride=(1, 1), padding=(1, 1))\n",
       "          (relu1): ReLU()\n",
       "          (bn1): BatchNorm2d(128, eps=1e-05, momentum=0.1, affine=True, track_running_stats=True)\n",
       "          (conv2): Conv2d(128, 128, kernel_size=(3, 3), stride=(1, 1), padding=(1, 1))\n",
       "          (relu2): ReLU()\n",
       "          (bn2): BatchNorm2d(128, eps=1e-05, momentum=0.1, affine=True, track_running_stats=True)\n",
       "        )\n",
       "        (3): Block(\n",
       "          (conv1): Conv2d(128, 256, kernel_size=(3, 3), stride=(1, 1), padding=(1, 1))\n",
       "          (relu1): ReLU()\n",
       "          (bn1): BatchNorm2d(256, eps=1e-05, momentum=0.1, affine=True, track_running_stats=True)\n",
       "          (conv2): Conv2d(256, 256, kernel_size=(3, 3), stride=(1, 1), padding=(1, 1))\n",
       "          (relu2): ReLU()\n",
       "          (bn2): BatchNorm2d(256, eps=1e-05, momentum=0.1, affine=True, track_running_stats=True)\n",
       "        )\n",
       "      )\n",
       "      (pool): MaxPool2d(kernel_size=2, stride=2, padding=0, dilation=1, ceil_mode=False)\n",
       "    )\n",
       "    (decoder): Decoder(\n",
       "      (upconvs): ModuleList(\n",
       "        (0): ConvTranspose2d(256, 128, kernel_size=(2, 2), stride=(2, 2))\n",
       "        (1): ConvTranspose2d(128, 64, kernel_size=(2, 2), stride=(2, 2))\n",
       "        (2): ConvTranspose2d(64, 32, kernel_size=(2, 2), stride=(2, 2))\n",
       "      )\n",
       "      (dec_blocks): ModuleList(\n",
       "        (0): Block(\n",
       "          (conv1): Conv2d(256, 128, kernel_size=(3, 3), stride=(1, 1), padding=(1, 1))\n",
       "          (relu1): ReLU()\n",
       "          (bn1): BatchNorm2d(128, eps=1e-05, momentum=0.1, affine=True, track_running_stats=True)\n",
       "          (conv2): Conv2d(128, 128, kernel_size=(3, 3), stride=(1, 1), padding=(1, 1))\n",
       "          (relu2): ReLU()\n",
       "          (bn2): BatchNorm2d(128, eps=1e-05, momentum=0.1, affine=True, track_running_stats=True)\n",
       "        )\n",
       "        (1): Block(\n",
       "          (conv1): Conv2d(128, 64, kernel_size=(3, 3), stride=(1, 1), padding=(1, 1))\n",
       "          (relu1): ReLU()\n",
       "          (bn1): BatchNorm2d(64, eps=1e-05, momentum=0.1, affine=True, track_running_stats=True)\n",
       "          (conv2): Conv2d(64, 64, kernel_size=(3, 3), stride=(1, 1), padding=(1, 1))\n",
       "          (relu2): ReLU()\n",
       "          (bn2): BatchNorm2d(64, eps=1e-05, momentum=0.1, affine=True, track_running_stats=True)\n",
       "        )\n",
       "        (2): Block(\n",
       "          (conv1): Conv2d(64, 32, kernel_size=(3, 3), stride=(1, 1), padding=(1, 1))\n",
       "          (relu1): ReLU()\n",
       "          (bn1): BatchNorm2d(32, eps=1e-05, momentum=0.1, affine=True, track_running_stats=True)\n",
       "          (conv2): Conv2d(32, 32, kernel_size=(3, 3), stride=(1, 1), padding=(1, 1))\n",
       "          (relu2): ReLU()\n",
       "          (bn2): BatchNorm2d(32, eps=1e-05, momentum=0.1, affine=True, track_running_stats=True)\n",
       "        )\n",
       "      )\n",
       "    )\n",
       "    (head): Conv2d(32, 1, kernel_size=(1, 1), stride=(1, 1))\n",
       "  )\n",
       ")"
      ]
     },
     "execution_count": 101,
     "metadata": {},
     "output_type": "execute_result"
    }
   ],
   "source": [
    "seg_model = Unet()\n",
    "seg_model = torch.nn.parallel.DataParallel(seg_model, device_ids=[0]).cuda()\n",
    "seg_model.load_state_dict(torch.load('runs/unet_lidc_9/best_21.pth'))\n",
    "seg_model.eval()\n",
    "# final_score, least_dice, least_label, least_pre = calculate_dice_score_eval(seg_model, val_loader)\n",
    "# print(\"Final val dice score = {}\".format(final_score))"
   ]
  },
  {
   "cell_type": "code",
   "execution_count": 102,
   "id": "b4ff1d9f",
   "metadata": {
    "collapsed": true,
    "jupyter": {
     "outputs_hidden": true
    }
   },
   "outputs": [
    {
     "name": "stderr",
     "output_type": "stream",
     "text": [
      "/tmp/ipykernel_3379/2728675454.py:2: UserWarning: Attempting to set identical left == right == -0.5 results in singular transformations; automatically expanding.\n",
      "  plt.imshow(image[cropped_clip])\n",
      "/tmp/ipykernel_3379/2728675454.py:2: UserWarning: Attempting to set identical bottom == top == -0.5 results in singular transformations; automatically expanding.\n",
      "  plt.imshow(image[cropped_clip])\n"
     ]
    },
    {
     "data": {
      "text/plain": [
       "<matplotlib.image.AxesImage at 0x7f6599b905e0>"
      ]
     },
     "execution_count": 102,
     "metadata": {},
     "output_type": "execute_result"
    },
    {
     "data": {
      "image/png": "[encoded data removed]",
      "text/plain": [
       "<Figure size 432x288 with 1 Axes>"
      ]
     },
     "metadata": {
      "needs_background": "light"
     },
     "output_type": "display_data"
    }
   ],
   "source": [
    "#data\n",
    "plt.imshow(image[cropped_clip])"
   ]
  },
  {
   "cell_type": "code",
   "execution_count": 343,
   "id": "0c5a0dee",
   "metadata": {},
   "outputs": [
    {
     "data": {
      "text/plain": [
       "<matplotlib.image.AxesImage at 0x7face8264850>"
      ]
     },
     "execution_count": 343,
     "metadata": {},
     "output_type": "execute_result"
    },
    {
     "data": {
      "image/png": "[encoded data removed]",
      "text/plain": [
       "<Figure size 432x288 with 1 Axes>"
      ]
     },
     "metadata": {
      "needs_background": "light"
     },
     "output_type": "display_data"
    }
   ],
   "source": [
    "plt.imshow(mask[cropped_clip])"
   ]
  },
  {
   "cell_type": "code",
   "execution_count": 347,
   "id": "6ec0b8dc",
   "metadata": {},
   "outputs": [
    {
     "name": "stderr",
     "output_type": "stream",
     "text": [
      "Lossy conversion from float32 to uint8. Range [-0.17634423077106476, 2.1623523235321045]. Convert image to uint8 prior to saving to suppress this warning.\n"
     ]
    },
    {
     "name": "stdout",
     "output_type": "stream",
     "text": [
      "Score = 0.8969465494155884\n"
     ]
    }
   ],
   "source": [
    "source_image = convert_to_imageio_rich(image[cropped_clip])\n",
    "inputs, labels = torch.tensor(source_image[np.newaxis, np.newaxis,:,:]).to(device), torch.tensor(mask[cropped_clip][np.newaxis, np.newaxis,:,:]).to(device)\n",
    "mask_pre_prob = torch.sigmoid(seg_model(inputs))#.detach().cpu().numpy()\n",
    "outputs = np.squeeze(mask_pre_prob).detach().cpu()\n",
    "mask_pre = np.where(outputs>0.5, 1,0)\n",
    "mask_pre = torch.from_numpy(mask_pre)\n",
    "score = dice_coeff(np.squeeze(labels).detach().cpu(), mask_pre[np.newaxis,:,:])\n",
    "print(\"Score = {}\".format(score))"
   ]
  },
  {
   "cell_type": "code",
   "execution_count": 358,
   "id": "f126af98",
   "metadata": {},
   "outputs": [
    {
     "name": "stdout",
     "output_type": "stream",
     "text": [
      "239\n"
     ]
    }
   ],
   "source": [
    "print(len(np.unique(source_image)))"
   ]
  },
  {
   "cell_type": "code",
   "execution_count": 348,
   "id": "5a5c876c",
   "metadata": {},
   "outputs": [
    {
     "data": {
      "text/plain": [
       "<matplotlib.image.AxesImage at 0x7face9c48fd0>"
      ]
     },
     "execution_count": 348,
     "metadata": {},
     "output_type": "execute_result"
    },
    {
     "data": {
      "image/png": "[encoded data removed]",
      "text/plain": [
       "<Figure size 432x288 with 1 Axes>"
      ]
     },
     "metadata": {
      "needs_background": "light"
     },
     "output_type": "display_data"
    }
   ],
   "source": [
    "plt.imshow(mask_pre)"
   ]
  },
  {
   "cell_type": "code",
   "execution_count": 226,
   "id": "9a98a3a9",
   "metadata": {},
   "outputs": [
    {
     "data": {
      "text/plain": [
       "torch.Size([1, 1, 64, 64])"
      ]
     },
     "execution_count": 226,
     "metadata": {},
     "output_type": "execute_result"
    }
   ],
   "source": [
    "labels.shape"
   ]
  },
  {
   "cell_type": "code",
   "execution_count": 233,
   "id": "23a6f039",
   "metadata": {
    "collapsed": true,
    "jupyter": {
     "outputs_hidden": true
    }
   },
   "outputs": [
    {
     "name": "stdout",
     "output_type": "stream",
     "text": [
      "\u001b[0m\u001b[01;35mimg_LIDC-IDRI-0010_0_207.jpg\u001b[0m         \u001b[01;35mimg_out_LIDC-IDRI-0526_0_8_52.jpg\u001b[0m\n",
      "\u001b[01;35mimg_LIDC-IDRI-0010_0_208.jpg\u001b[0m         \u001b[01;35mimg_out_LIDC-IDRI-0526_0_9_52.jpg\u001b[0m\n",
      "\u001b[01;35mimg_LIDC-IDRI-0010_0_209.jpg\u001b[0m         \u001b[01;35mimg_out_LIDC-IDRI-0526_1_0_55.jpg\u001b[0m\n",
      "\u001b[01;35mimg_LIDC-IDRI-0010_0_210.jpg\u001b[0m         \u001b[01;35mimg_out_LIDC-IDRI-0526_1_1_55.jpg\u001b[0m\n",
      "\u001b[01;35mimg_LIDC-IDRI-0010_0_211.jpg\u001b[0m         \u001b[01;35mimg_out_LIDC-IDRI-0526_1_2_56.jpg\u001b[0m\n",
      "\u001b[01;35mimg_LIDC-IDRI-0010_0_212.jpg\u001b[0m         \u001b[01;35mimg_out_LIDC-IDRI-0526_1_3_56.jpg\u001b[0m\n",
      "\u001b[01;35mimg_LIDC-IDRI-0011_0_27.jpg\u001b[0m          \u001b[01;35mimg_out_LIDC-IDRI-0526_1_4_57.jpg\u001b[0m\n",
      "\u001b[01;35mimg_LIDC-IDRI-0011_0_28.jpg\u001b[0m          \u001b[01;35mimg_out_LIDC-IDRI-0526_1_5_57.jpg\u001b[0m\n",
      "\u001b[01;35mimg_LIDC-IDRI-0011_0_29.jpg\u001b[0m          \u001b[01;35mimg_out_LIDC-IDRI-0526_1_6_58.jpg\u001b[0m\n",
      "\u001b[01;35mimg_LIDC-IDRI-0011_0_30.jpg\u001b[0m          \u001b[01;35mimg_out_LIDC-IDRI-0526_1_7_58.jpg\u001b[0m\n",
      "\u001b[01;35mimg_LIDC-IDRI-0011_0_31.jpg\u001b[0m          \u001b[01;35mimg_out_LIDC-IDRI-0526_2_0_79.jpg\u001b[0m\n",
      "\u001b[01;35mimg_LIDC-IDRI-0011_1_58.jpg\u001b[0m          \u001b[01;35mimg_out_LIDC-IDRI-0526_2_10_84.jpg\u001b[0m\n",
      "\u001b[01;35mimg_LIDC-IDRI-0011_1_59.jpg\u001b[0m          \u001b[01;35mimg_out_LIDC-IDRI-0526_2_11_84.jpg\u001b[0m\n",
      "\u001b[01;35mimg_LIDC-IDRI-0011_2_102.jpg\u001b[0m         \u001b[01;35mimg_out_LIDC-IDRI-0526_2_12_85.jpg\u001b[0m\n",
      "\u001b[01;35mimg_LIDC-IDRI-0011_2_103.jpg\u001b[0m         \u001b[01;35mimg_out_LIDC-IDRI-0526_2_13_85.jpg\u001b[0m\n",
      "\u001b[01;35mimg_LIDC-IDRI-0011_2_104.jpg\u001b[0m         \u001b[01;35mimg_out_LIDC-IDRI-0526_2_1_79.jpg\u001b[0m\n",
      "\u001b[01;35mimg_LIDC-IDRI-0011_2_105.jpg\u001b[0m         \u001b[01;35mimg_out_LIDC-IDRI-0526_2_2_80.jpg\u001b[0m\n",
      "\u001b[01;35mimg_LIDC-IDRI-0011_2_106.jpg\u001b[0m         \u001b[01;35mimg_out_LIDC-IDRI-0526_2_3_80.jpg\u001b[0m\n",
      "\u001b[01;35mimg_LIDC-IDRI-0011_2_107.jpg\u001b[0m         \u001b[01;35mimg_out_LIDC-IDRI-0526_2_4_81.jpg\u001b[0m\n",
      "\u001b[01;35mimg_LIDC-IDRI-0013_0_82.jpg\u001b[0m          \u001b[01;35mimg_out_LIDC-IDRI-0526_2_5_81.jpg\u001b[0m\n",
      "\u001b[01;35mimg_LIDC-IDRI-0013_0_83.jpg\u001b[0m          \u001b[01;35mimg_out_LIDC-IDRI-0526_2_6_82.jpg\u001b[0m\n",
      "\u001b[01;35mimg_LIDC-IDRI-0013_0_84.jpg\u001b[0m          \u001b[01;35mimg_out_LIDC-IDRI-0526_2_7_82.jpg\u001b[0m\n",
      "\u001b[01;35mimg_LIDC-IDRI-0013_0_85.jpg\u001b[0m          \u001b[01;35mimg_out_LIDC-IDRI-0526_2_8_83.jpg\u001b[0m\n",
      "\u001b[01;35mimg_LIDC-IDRI-0013_0_86.jpg\u001b[0m          \u001b[01;35mimg_out_LIDC-IDRI-0526_2_9_83.jpg\u001b[0m\n",
      "\u001b[01;35mimg_LIDC-IDRI-0013_1_86.jpg\u001b[0m          \u001b[01;35mimg_out_LIDC-IDRI-0537_0_0_114.jpg\u001b[0m\n",
      "\u001b[01;35mimg_LIDC-IDRI-0013_1_87.jpg\u001b[0m          \u001b[01;35mimg_out_LIDC-IDRI-0537_0_10_119.jpg\u001b[0m\n",
      "\u001b[01;35mimg_LIDC-IDRI-0013_1_88.jpg\u001b[0m          \u001b[01;35mimg_out_LIDC-IDRI-0537_0_11_119.jpg\u001b[0m\n",
      "\u001b[01;35mimg_LIDC-IDRI-0013_1_89.jpg\u001b[0m          \u001b[01;35mimg_out_LIDC-IDRI-0537_0_12_120.jpg\u001b[0m\n",
      "\u001b[01;35mimg_LIDC-IDRI-0013_1_90.jpg\u001b[0m          \u001b[01;35mimg_out_LIDC-IDRI-0537_0_13_120.jpg\u001b[0m\n",
      "\u001b[01;35mimg_LIDC-IDRI-0013_1_91.jpg\u001b[0m          \u001b[01;35mimg_out_LIDC-IDRI-0537_0_14_121.jpg\u001b[0m\n",
      "\u001b[01;35mimg_LIDC-IDRI-0013_1_92.jpg\u001b[0m          \u001b[01;35mimg_out_LIDC-IDRI-0537_0_15_121.jpg\u001b[0m\n",
      "\u001b[01;35mimg_LIDC-IDRI-0013_1_93.jpg\u001b[0m          \u001b[01;35mimg_out_LIDC-IDRI-0537_0_16_122.jpg\u001b[0m\n",
      "\u001b[01;35mimg_LIDC-IDRI-0013_1_94.jpg\u001b[0m          \u001b[01;35mimg_out_LIDC-IDRI-0537_0_17_122.jpg\u001b[0m\n",
      "\u001b[01;35mimg_LIDC-IDRI-0013_1_95.jpg\u001b[0m          \u001b[01;35mimg_out_LIDC-IDRI-0537_0_1_114.jpg\u001b[0m\n",
      "\u001b[01;35mimg_LIDC-IDRI-0039_0_117.jpg\u001b[0m         \u001b[01;35mimg_out_LIDC-IDRI-0537_0_2_115.jpg\u001b[0m\n",
      "\u001b[01;35mimg_LIDC-IDRI-0039_0_118.jpg\u001b[0m         \u001b[01;35mimg_out_LIDC-IDRI-0537_0_3_115.jpg\u001b[0m\n",
      "\u001b[01;35mimg_LIDC-IDRI-0039_0_119.jpg\u001b[0m         \u001b[01;35mimg_out_LIDC-IDRI-0537_0_4_116.jpg\u001b[0m\n",
      "\u001b[01;35mimg_LIDC-IDRI-0039_0_120.jpg\u001b[0m         \u001b[01;35mimg_out_LIDC-IDRI-0537_0_5_116.jpg\u001b[0m\n",
      "\u001b[01;35mimg_LIDC-IDRI-0039_0_121.jpg\u001b[0m         \u001b[01;35mimg_out_LIDC-IDRI-0537_0_6_117.jpg\u001b[0m\n",
      "\u001b[01;35mimg_LIDC-IDRI-0039_1_121.jpg\u001b[0m         \u001b[01;35mimg_out_LIDC-IDRI-0537_0_7_117.jpg\u001b[0m\n",
      "\u001b[01;35mimg_LIDC-IDRI-0039_1_122.jpg\u001b[0m         \u001b[01;35mimg_out_LIDC-IDRI-0537_0_8_118.jpg\u001b[0m\n",
      "\u001b[01;35mimg_LIDC-IDRI-0039_1_123.jpg\u001b[0m         \u001b[01;35mimg_out_LIDC-IDRI-0537_0_9_118.jpg\u001b[0m\n",
      "\u001b[01;35mimg_LIDC-IDRI-0039_1_124.jpg\u001b[0m         \u001b[01;35mimg_out_LIDC-IDRI-0543_0_0_390.jpg\u001b[0m\n",
      "\u001b[01;35mimg_LIDC-IDRI-0039_1_125.jpg\u001b[0m         \u001b[01;35mimg_out_LIDC-IDRI-0543_0_10_395.jpg\u001b[0m\n",
      "\u001b[01;35mimg_LIDC-IDRI-0039_2_131.jpg\u001b[0m         \u001b[01;35mimg_out_LIDC-IDRI-0543_0_11_395.jpg\u001b[0m\n",
      "\u001b[01;35mimg_LIDC-IDRI-0039_2_132.jpg\u001b[0m         \u001b[01;35mimg_out_LIDC-IDRI-0543_0_12_396.jpg\u001b[0m\n",
      "\u001b[01;35mimg_LIDC-IDRI-0039_2_133.jpg\u001b[0m         \u001b[01;35mimg_out_LIDC-IDRI-0543_0_13_396.jpg\u001b[0m\n",
      "\u001b[01;35mimg_LIDC-IDRI-0039_2_134.jpg\u001b[0m         \u001b[01;35mimg_out_LIDC-IDRI-0543_0_14_397.jpg\u001b[0m\n",
      "\u001b[01;35mimg_LIDC-IDRI-0039_2_135.jpg\u001b[0m         \u001b[01;35mimg_out_LIDC-IDRI-0543_0_15_397.jpg\u001b[0m\n",
      "\u001b[01;35mimg_LIDC-IDRI-0039_3_162.jpg\u001b[0m         \u001b[01;35mimg_out_LIDC-IDRI-0543_0_16_398.jpg\u001b[0m\n",
      "\u001b[01;35mimg_LIDC-IDRI-0039_3_163.jpg\u001b[0m         \u001b[01;35mimg_out_LIDC-IDRI-0543_0_17_398.jpg\u001b[0m\n",
      "\u001b[01;35mimg_LIDC-IDRI-0039_3_164.jpg\u001b[0m         \u001b[01;35mimg_out_LIDC-IDRI-0543_0_18_399.jpg\u001b[0m\n",
      "\u001b[01;35mimg_LIDC-IDRI-0039_3_165.jpg\u001b[0m         \u001b[01;35mimg_out_LIDC-IDRI-0543_0_19_399.jpg\u001b[0m\n",
      "\u001b[01;35mimg_LIDC-IDRI-0039_3_166.jpg\u001b[0m         \u001b[01;35mimg_out_LIDC-IDRI-0543_0_1_390.jpg\u001b[0m\n",
      "\u001b[01;35mimg_LIDC-IDRI-0039_4_172.jpg\u001b[0m         \u001b[01;35mimg_out_LIDC-IDRI-0543_0_2_391.jpg\u001b[0m\n",
      "\u001b[01;35mimg_LIDC-IDRI-0039_4_173.jpg\u001b[0m         \u001b[01;35mimg_out_LIDC-IDRI-0543_0_3_391.jpg\u001b[0m\n",
      "\u001b[01;35mimg_LIDC-IDRI-0039_4_174.jpg\u001b[0m         \u001b[01;35mimg_out_LIDC-IDRI-0543_0_4_392.jpg\u001b[0m\n",
      "\u001b[01;35mimg_LIDC-IDRI-0039_4_175.jpg\u001b[0m         \u001b[01;35mimg_out_LIDC-IDRI-0543_0_5_392.jpg\u001b[0m\n",
      "\u001b[01;35mimg_LIDC-IDRI-0039_4_176.jpg\u001b[0m         \u001b[01;35mimg_out_LIDC-IDRI-0543_0_6_393.jpg\u001b[0m\n",
      "\u001b[01;35mimg_LIDC-IDRI-0039_4_177.jpg\u001b[0m         \u001b[01;35mimg_out_LIDC-IDRI-0543_0_7_393.jpg\u001b[0m\n",
      "\u001b[01;35mimg_LIDC-IDRI-0039_4_178.jpg\u001b[0m         \u001b[01;35mimg_out_LIDC-IDRI-0543_0_8_394.jpg\u001b[0m\n",
      "\u001b[01;35mimg_LIDC-IDRI-0047_0_74.jpg\u001b[0m          \u001b[01;35mimg_out_LIDC-IDRI-0543_0_9_394.jpg\u001b[0m\n",
      "\u001b[01;35mimg_LIDC-IDRI-0047_0_75.jpg\u001b[0m          \u001b[01;35mimg_out_LIDC-IDRI-0543_1_0_411.jpg\u001b[0m\n",
      "\u001b[01;35mimg_LIDC-IDRI-0047_0_76.jpg\u001b[0m          \u001b[01;35mimg_out_LIDC-IDRI-0543_1_10_416.jpg\u001b[0m\n",
      "\u001b[01;35mimg_LIDC-IDRI-0047_0_77.jpg\u001b[0m          \u001b[01;35mimg_out_LIDC-IDRI-0543_1_11_416.jpg\u001b[0m\n",
      "\u001b[01;35mimg_LIDC-IDRI-0047_0_78.jpg\u001b[0m          \u001b[01;35mimg_out_LIDC-IDRI-0543_1_12_417.jpg\u001b[0m\n",
      "\u001b[01;35mimg_LIDC-IDRI-0076_0_72.jpg\u001b[0m          \u001b[01;35mimg_out_LIDC-IDRI-0543_1_13_417.jpg\u001b[0m\n",
      "\u001b[01;35mimg_LIDC-IDRI-0076_0_73.jpg\u001b[0m          \u001b[01;35mimg_out_LIDC-IDRI-0543_1_14_418.jpg\u001b[0m\n",
      "\u001b[01;35mimg_LIDC-IDRI-0076_0_74.jpg\u001b[0m          \u001b[01;35mimg_out_LIDC-IDRI-0543_1_15_418.jpg\u001b[0m\n",
      "\u001b[01;35mimg_LIDC-IDRI-0076_0_75.jpg\u001b[0m          \u001b[01;35mimg_out_LIDC-IDRI-0543_1_16_419.jpg\u001b[0m\n",
      "\u001b[01;35mimg_LIDC-IDRI-0076_0_76.jpg\u001b[0m          \u001b[01;35mimg_out_LIDC-IDRI-0543_1_17_419.jpg\u001b[0m\n",
      "\u001b[01;35mimg_LIDC-IDRI-0076_0_77.jpg\u001b[0m          \u001b[01;35mimg_out_LIDC-IDRI-0543_1_18_420.jpg\u001b[0m\n",
      "\u001b[01;35mimg_LIDC-IDRI-0076_0_78.jpg\u001b[0m          \u001b[01;35mimg_out_LIDC-IDRI-0543_1_19_420.jpg\u001b[0m\n",
      "\u001b[01;35mimg_LIDC-IDRI-0076_0_79.jpg\u001b[0m          \u001b[01;35mimg_out_LIDC-IDRI-0543_1_1_411.jpg\u001b[0m\n",
      "\u001b[01;35mimg_LIDC-IDRI-0076_1_128.jpg\u001b[0m         \u001b[01;35mimg_out_LIDC-IDRI-0543_1_20_421.jpg\u001b[0m\n",
      "\u001b[01;35mimg_LIDC-IDRI-0076_1_129.jpg\u001b[0m         \u001b[01;35mimg_out_LIDC-IDRI-0543_1_21_421.jpg\u001b[0m\n",
      "\u001b[01;35mimg_LIDC-IDRI-0076_1_130.jpg\u001b[0m         \u001b[01;35mimg_out_LIDC-IDRI-0543_1_22_422.jpg\u001b[0m\n",
      "\u001b[01;35mimg_LIDC-IDRI-0076_1_131.jpg\u001b[0m         \u001b[01;35mimg_out_LIDC-IDRI-0543_1_23_422.jpg\u001b[0m\n",
      "\u001b[01;35mimg_LIDC-IDRI-0076_1_132.jpg\u001b[0m         \u001b[01;35mimg_out_LIDC-IDRI-0543_1_24_423.jpg\u001b[0m\n",
      "\u001b[01;35mimg_LIDC-IDRI-0076_1_133.jpg\u001b[0m         \u001b[01;35mimg_out_LIDC-IDRI-0543_1_25_423.jpg\u001b[0m\n",
      "\u001b[01;35mimg_LIDC-IDRI-0093_0_55.jpg\u001b[0m          \u001b[01;35mimg_out_LIDC-IDRI-0543_1_26_424.jpg\u001b[0m\n",
      "\u001b[01;35mimg_LIDC-IDRI-0093_0_56.jpg\u001b[0m          \u001b[01;35mimg_out_LIDC-IDRI-0543_1_27_424.jpg\u001b[0m\n",
      "\u001b[01;35mimg_LIDC-IDRI-0093_0_57.jpg\u001b[0m          \u001b[01;35mimg_out_LIDC-IDRI-0543_1_28_425.jpg\u001b[0m\n",
      "\u001b[01;35mimg_LIDC-IDRI-0116_0_100.jpg\u001b[0m         \u001b[01;35mimg_out_LIDC-IDRI-0543_1_29_425.jpg\u001b[0m\n",
      "\u001b[01;35mimg_LIDC-IDRI-0116_0_101.jpg\u001b[0m         \u001b[01;35mimg_out_LIDC-IDRI-0543_1_2_412.jpg\u001b[0m\n",
      "\u001b[01;35mimg_LIDC-IDRI-0116_0_102.jpg\u001b[0m         \u001b[01;35mimg_out_LIDC-IDRI-0543_1_30_426.jpg\u001b[0m\n",
      "\u001b[01;35mimg_LIDC-IDRI-0116_0_103.jpg\u001b[0m         \u001b[01;35mimg_out_LIDC-IDRI-0543_1_31_426.jpg\u001b[0m\n",
      "\u001b[01;35mimg_LIDC-IDRI-0116_0_104.jpg\u001b[0m         \u001b[01;35mimg_out_LIDC-IDRI-0543_1_32_427.jpg\u001b[0m\n",
      "\u001b[01;35mimg_LIDC-IDRI-0116_0_98.jpg\u001b[0m          \u001b[01;35mimg_out_LIDC-IDRI-0543_1_33_427.jpg\u001b[0m\n",
      "\u001b[01;35mimg_LIDC-IDRI-0116_0_99.jpg\u001b[0m          \u001b[01;35mimg_out_LIDC-IDRI-0543_1_34_428.jpg\u001b[0m\n",
      "\u001b[01;35mimg_LIDC-IDRI-0118_0_65.jpg\u001b[0m          \u001b[01;35mimg_out_LIDC-IDRI-0543_1_35_428.jpg\u001b[0m\n",
      "\u001b[01;35mimg_LIDC-IDRI-0118_0_66.jpg\u001b[0m          \u001b[01;35mimg_out_LIDC-IDRI-0543_1_36_429.jpg\u001b[0m\n",
      "\u001b[01;35mimg_LIDC-IDRI-0118_0_67.jpg\u001b[0m          \u001b[01;35mimg_out_LIDC-IDRI-0543_1_37_429.jpg\u001b[0m\n",
      "\u001b[01;35mimg_LIDC-IDRI-0118_0_68.jpg\u001b[0m          \u001b[01;35mimg_out_LIDC-IDRI-0543_1_38_430.jpg\u001b[0m\n",
      "\u001b[01;35mimg_LIDC-IDRI-0134_0_63.jpg\u001b[0m          \u001b[01;35mimg_out_LIDC-IDRI-0543_1_39_430.jpg\u001b[0m\n",
      "\u001b[01;35mimg_LIDC-IDRI-0134_0_64.jpg\u001b[0m          \u001b[01;35mimg_out_LIDC-IDRI-0543_1_3_412.jpg\u001b[0m\n",
      "\u001b[01;35mimg_LIDC-IDRI-0134_0_65.jpg\u001b[0m          \u001b[01;35mimg_out_LIDC-IDRI-0543_1_40_431.jpg\u001b[0m\n",
      "\u001b[01;35mimg_LIDC-IDRI-0134_0_66.jpg\u001b[0m          \u001b[01;35mimg_out_LIDC-IDRI-0543_1_41_431.jpg\u001b[0m\n",
      "\u001b[01;35mimg_LIDC-IDRI-0134_1_65.jpg\u001b[0m          \u001b[01;35mimg_out_LIDC-IDRI-0543_1_42_432.jpg\u001b[0m\n",
      "\u001b[01;35mimg_LIDC-IDRI-0134_1_66.jpg\u001b[0m          \u001b[01;35mimg_out_LIDC-IDRI-0543_1_43_432.jpg\u001b[0m\n",
      "\u001b[01;35mimg_LIDC-IDRI-0134_1_67.jpg\u001b[0m          \u001b[01;35mimg_out_LIDC-IDRI-0543_1_44_433.jpg\u001b[0m\n",
      "\u001b[01;35mimg_LIDC-IDRI-0134_1_68.jpg\u001b[0m          \u001b[01;35mimg_out_LIDC-IDRI-0543_1_45_433.jpg\u001b[0m\n",
      "\u001b[01;35mimg_LIDC-IDRI-0134_1_69.jpg\u001b[0m          \u001b[01;35mimg_out_LIDC-IDRI-0543_1_4_413.jpg\u001b[0m\n",
      "\u001b[01;35mimg_LIDC-IDRI-0144_0_22.jpg\u001b[0m          \u001b[01;35mimg_out_LIDC-IDRI-0543_1_5_413.jpg\u001b[0m\n",
      "\u001b[01;35mimg_LIDC-IDRI-0144_0_23.jpg\u001b[0m          \u001b[01;35mimg_out_LIDC-IDRI-0543_1_6_414.jpg\u001b[0m\n",
      "\u001b[01;35mimg_LIDC-IDRI-0144_0_24.jpg\u001b[0m          \u001b[01;35mimg_out_LIDC-IDRI-0543_1_7_414.jpg\u001b[0m\n",
      "\u001b[01;35mimg_LIDC-IDRI-0144_1_22.jpg\u001b[0m          \u001b[01;35mimg_out_LIDC-IDRI-0543_1_8_415.jpg\u001b[0m\n",
      "\u001b[01;35mimg_LIDC-IDRI-0144_1_23.jpg\u001b[0m          \u001b[01;35mimg_out_LIDC-IDRI-0543_1_9_415.jpg\u001b[0m\n",
      "\u001b[01;35mimg_LIDC-IDRI-0144_1_24.jpg\u001b[0m          \u001b[01;35mimg_out_LIDC-IDRI-0549_0_0_85.jpg\u001b[0m\n",
      "\u001b[01;35mimg_LIDC-IDRI-0144_1_25.jpg\u001b[0m          \u001b[01;35mimg_out_LIDC-IDRI-0549_0_10_90.jpg\u001b[0m\n",
      "\u001b[01;35mimg_LIDC-IDRI-0144_1_26.jpg\u001b[0m          \u001b[01;35mimg_out_LIDC-IDRI-0549_0_11_90.jpg\u001b[0m\n",
      "\u001b[01;35mimg_LIDC-IDRI-0144_2_63.jpg\u001b[0m          \u001b[01;35mimg_out_LIDC-IDRI-0549_0_1_85.jpg\u001b[0m\n",
      "\u001b[01;35mimg_LIDC-IDRI-0144_2_64.jpg\u001b[0m          \u001b[01;35mimg_out_LIDC-IDRI-0549_0_2_86.jpg\u001b[0m\n",
      "\u001b[01;35mimg_LIDC-IDRI-0144_2_65.jpg\u001b[0m          \u001b[01;35mimg_out_LIDC-IDRI-0549_0_3_86.jpg\u001b[0m\n",
      "\u001b[01;35mimg_LIDC-IDRI-0144_2_66.jpg\u001b[0m          \u001b[01;35mimg_out_LIDC-IDRI-0549_0_4_87.jpg\u001b[0m\n",
      "\u001b[01;35mimg_LIDC-IDRI-0144_2_67.jpg\u001b[0m          \u001b[01;35mimg_out_LIDC-IDRI-0549_0_5_87.jpg\u001b[0m\n",
      "\u001b[01;35mimg_LIDC-IDRI-0144_3_66.jpg\u001b[0m          \u001b[01;35mimg_out_LIDC-IDRI-0549_0_6_88.jpg\u001b[0m\n",
      "\u001b[01;35mimg_LIDC-IDRI-0144_3_67.jpg\u001b[0m          \u001b[01;35mimg_out_LIDC-IDRI-0549_0_7_88.jpg\u001b[0m\n",
      "\u001b[01;35mimg_LIDC-IDRI-0144_3_68.jpg\u001b[0m          \u001b[01;35mimg_out_LIDC-IDRI-0549_0_8_89.jpg\u001b[0m\n",
      "\u001b[01;35mimg_LIDC-IDRI-0144_3_69.jpg\u001b[0m          \u001b[01;35mimg_out_LIDC-IDRI-0549_0_9_89.jpg\u001b[0m\n",
      "\u001b[01;35mimg_LIDC-IDRI-0145_0_59.jpg\u001b[0m          \u001b[01;35mimg_out_LIDC-IDRI-0549_1_0_100.jpg\u001b[0m\n",
      "\u001b[01;35mimg_LIDC-IDRI-0145_0_60.jpg\u001b[0m          \u001b[01;35mimg_out_LIDC-IDRI-0549_1_1_100.jpg\u001b[0m\n",
      "\u001b[01;35mimg_LIDC-IDRI-0145_0_61.jpg\u001b[0m          \u001b[01;35mimg_out_LIDC-IDRI-0549_1_2_101.jpg\u001b[0m\n",
      "\u001b[01;35mimg_LIDC-IDRI-0145_0_62.jpg\u001b[0m          \u001b[01;35mimg_out_LIDC-IDRI-0549_1_3_101.jpg\u001b[0m\n",
      "\u001b[01;35mimg_LIDC-IDRI-0168_0_64.jpg\u001b[0m          \u001b[01;35mimg_out_LIDC-IDRI-0549_1_4_102.jpg\u001b[0m\n",
      "\u001b[01;35mimg_LIDC-IDRI-0168_0_65.jpg\u001b[0m          \u001b[01;35mimg_out_LIDC-IDRI-0549_1_5_102.jpg\u001b[0m\n",
      "\u001b[01;35mimg_LIDC-IDRI-0168_0_66.jpg\u001b[0m          \u001b[01;35mimg_out_LIDC-IDRI-0549_1_6_103.jpg\u001b[0m\n",
      "\u001b[01;35mimg_LIDC-IDRI-0168_0_67.jpg\u001b[0m          \u001b[01;35mimg_out_LIDC-IDRI-0549_1_7_103.jpg\u001b[0m\n",
      "\u001b[01;35mimg_LIDC-IDRI-0168_0_68.jpg\u001b[0m          \u001b[01;35mimg_out_LIDC-IDRI-0549_2_0_112.jpg\u001b[0m\n",
      "\u001b[01;35mimg_LIDC-IDRI-0209_0_43.jpg\u001b[0m          \u001b[01;35mimg_out_LIDC-IDRI-0549_2_1_112.jpg\u001b[0m\n",
      "\u001b[01;35mimg_LIDC-IDRI-0209_0_44.jpg\u001b[0m          \u001b[01;35mimg_out_LIDC-IDRI-0549_2_2_113.jpg\u001b[0m\n",
      "\u001b[01;35mimg_LIDC-IDRI-0209_0_45.jpg\u001b[0m          \u001b[01;35mimg_out_LIDC-IDRI-0549_2_3_113.jpg\u001b[0m\n",
      "\u001b[01;35mimg_LIDC-IDRI-0209_0_46.jpg\u001b[0m          \u001b[01;35mimg_out_LIDC-IDRI-0549_2_4_114.jpg\u001b[0m\n",
      "\u001b[01;35mimg_LIDC-IDRI-0209_0_47.jpg\u001b[0m          \u001b[01;35mimg_out_LIDC-IDRI-0549_2_5_114.jpg\u001b[0m\n",
      "\u001b[01;35mimg_LIDC-IDRI-0209_0_48.jpg\u001b[0m          \u001b[01;35mimg_out_LIDC-IDRI-0549_2_6_115.jpg\u001b[0m\n",
      "\u001b[01;35mimg_LIDC-IDRI-0209_0_49.jpg\u001b[0m          \u001b[01;35mimg_out_LIDC-IDRI-0549_2_7_115.jpg\u001b[0m\n",
      "\u001b[01;35mimg_LIDC-IDRI-0209_0_50.jpg\u001b[0m          \u001b[01;35mimg_out_LIDC-IDRI-0549_3_0_121.jpg\u001b[0m\n",
      "\u001b[01;35mimg_LIDC-IDRI-0215_0_175.jpg\u001b[0m         \u001b[01;35mimg_out_LIDC-IDRI-0549_3_1_121.jpg\u001b[0m\n",
      "\u001b[01;35mimg_LIDC-IDRI-0215_0_176.jpg\u001b[0m         \u001b[01;35mimg_out_LIDC-IDRI-0549_3_2_122.jpg\u001b[0m\n",
      "\u001b[01;35mimg_LIDC-IDRI-0215_0_177.jpg\u001b[0m         \u001b[01;35mimg_out_LIDC-IDRI-0549_3_3_122.jpg\u001b[0m\n",
      "\u001b[01;35mimg_LIDC-IDRI-0215_0_178.jpg\u001b[0m         \u001b[01;35mimg_out_LIDC-IDRI-0549_3_4_123.jpg\u001b[0m\n",
      "\u001b[01;35mimg_LIDC-IDRI-0223_0_191.jpg\u001b[0m         \u001b[01;35mimg_out_LIDC-IDRI-0549_3_5_123.jpg\u001b[0m\n",
      "\u001b[01;35mimg_LIDC-IDRI-0223_0_192.jpg\u001b[0m         \u001b[01;35mimg_out_LIDC-IDRI-0549_3_6_124.jpg\u001b[0m\n",
      "\u001b[01;35mimg_LIDC-IDRI-0223_0_193.jpg\u001b[0m         \u001b[01;35mimg_out_LIDC-IDRI-0549_3_7_124.jpg\u001b[0m\n",
      "\u001b[01;35mimg_LIDC-IDRI-0223_0_194.jpg\u001b[0m         \u001b[01;35mimg_out_LIDC-IDRI-0549_3_8_125.jpg\u001b[0m\n",
      "\u001b[01;35mimg_LIDC-IDRI-0223_0_195.jpg\u001b[0m         \u001b[01;35mimg_out_LIDC-IDRI-0549_3_9_125.jpg\u001b[0m\n",
      "\u001b[01;35mimg_LIDC-IDRI-0223_0_196.jpg\u001b[0m         \u001b[01;35mimg_out_LIDC-IDRI-0549_4_0_132.jpg\u001b[0m\n",
      "\u001b[01;35mimg_LIDC-IDRI-0223_0_197.jpg\u001b[0m         \u001b[01;35mimg_out_LIDC-IDRI-0549_4_10_137.jpg\u001b[0m\n",
      "\u001b[01;35mimg_LIDC-IDRI-0223_0_198.jpg\u001b[0m         \u001b[01;35mimg_out_LIDC-IDRI-0549_4_11_137.jpg\u001b[0m\n",
      "\u001b[01;35mimg_LIDC-IDRI-0223_0_199.jpg\u001b[0m         \u001b[01;35mimg_out_LIDC-IDRI-0549_4_1_132.jpg\u001b[0m\n",
      "\u001b[01;35mimg_LIDC-IDRI-0223_0_200.jpg\u001b[0m         \u001b[01;35mimg_out_LIDC-IDRI-0549_4_2_133.jpg\u001b[0m\n",
      "\u001b[01;35mimg_LIDC-IDRI-0223_0_201.jpg\u001b[0m         \u001b[01;35mimg_out_LIDC-IDRI-0549_4_3_133.jpg\u001b[0m\n",
      "\u001b[01;35mimg_LIDC-IDRI-0223_0_202.jpg\u001b[0m         \u001b[01;35mimg_out_LIDC-IDRI-0549_4_4_134.jpg\u001b[0m\n",
      "\u001b[01;35mimg_LIDC-IDRI-0229_0_92.jpg\u001b[0m          \u001b[01;35mimg_out_LIDC-IDRI-0549_4_5_134.jpg\u001b[0m\n",
      "\u001b[01;35mimg_LIDC-IDRI-0229_0_93.jpg\u001b[0m          \u001b[01;35mimg_out_LIDC-IDRI-0549_4_6_135.jpg\u001b[0m\n",
      "\u001b[01;35mimg_LIDC-IDRI-0229_1_92.jpg\u001b[0m          \u001b[01;35mimg_out_LIDC-IDRI-0549_4_7_135.jpg\u001b[0m\n",
      "\u001b[01;35mimg_LIDC-IDRI-0229_1_93.jpg\u001b[0m          \u001b[01;35mimg_out_LIDC-IDRI-0549_4_8_136.jpg\u001b[0m\n",
      "\u001b[01;35mimg_LIDC-IDRI-0229_1_94.jpg\u001b[0m          \u001b[01;35mimg_out_LIDC-IDRI-0549_4_9_136.jpg\u001b[0m\n",
      "\u001b[01;35mimg_LIDC-IDRI-0229_1_95.jpg\u001b[0m          \u001b[01;35mimg_out_LIDC-IDRI-0550_0_0_54.jpg\u001b[0m\n",
      "\u001b[01;35mimg_LIDC-IDRI-0229_1_96.jpg\u001b[0m          \u001b[01;35mimg_out_LIDC-IDRI-0550_0_1_54.jpg\u001b[0m\n",
      "\u001b[01;35mimg_LIDC-IDRI-0229_1_97.jpg\u001b[0m          \u001b[01;35mimg_out_LIDC-IDRI-0550_0_2_55.jpg\u001b[0m\n",
      "\u001b[01;35mimg_LIDC-IDRI-0229_1_98.jpg\u001b[0m          \u001b[01;35mimg_out_LIDC-IDRI-0550_0_3_55.jpg\u001b[0m\n",
      "\u001b[01;35mimg_LIDC-IDRI-0229_1_99.jpg\u001b[0m          \u001b[01;35mimg_out_LIDC-IDRI-0550_0_4_56.jpg\u001b[0m\n",
      "\u001b[01;35mimg_LIDC-IDRI-0229_2_100.jpg\u001b[0m         \u001b[01;35mimg_out_LIDC-IDRI-0550_0_5_56.jpg\u001b[0m\n",
      "\u001b[01;35mimg_LIDC-IDRI-0229_2_101.jpg\u001b[0m         \u001b[01;35mimg_out_LIDC-IDRI-0550_0_6_57.jpg\u001b[0m\n",
      "\u001b[01;35mimg_LIDC-IDRI-0229_2_102.jpg\u001b[0m         \u001b[01;35mimg_out_LIDC-IDRI-0550_0_7_57.jpg\u001b[0m\n",
      "\u001b[01;35mimg_LIDC-IDRI-0229_2_103.jpg\u001b[0m         \u001b[01;35mimg_out_LIDC-IDRI-0550_0_8_58.jpg\u001b[0m\n",
      "\u001b[01;35mimg_LIDC-IDRI-0229_3_102.jpg\u001b[0m         \u001b[01;35mimg_out_LIDC-IDRI-0550_0_9_58.jpg\u001b[0m\n",
      "\u001b[01;35mimg_LIDC-IDRI-0229_3_103.jpg\u001b[0m         \u001b[01;35mimg_out_LIDC-IDRI-0578_0_0_72.jpg\u001b[0m\n",
      "\u001b[01;35mimg_LIDC-IDRI-0229_3_104.jpg\u001b[0m         \u001b[01;35mimg_out_LIDC-IDRI-0578_0_1_72.jpg\u001b[0m\n",
      "\u001b[01;35mimg_LIDC-IDRI-0229_3_105.jpg\u001b[0m         \u001b[01;35mimg_out_LIDC-IDRI-0578_0_2_73.jpg\u001b[0m\n",
      "\u001b[01;35mimg_LIDC-IDRI-0229_4_107.jpg\u001b[0m         \u001b[01;35mimg_out_LIDC-IDRI-0578_0_3_73.jpg\u001b[0m\n",
      "\u001b[01;35mimg_LIDC-IDRI-0229_4_108.jpg\u001b[0m         \u001b[01;35mimg_out_LIDC-IDRI-0580_0_0_156.jpg\u001b[0m\n",
      "\u001b[01;35mimg_LIDC-IDRI-0229_4_109.jpg\u001b[0m         \u001b[01;35mimg_out_LIDC-IDRI-0580_0_1_156.jpg\u001b[0m\n",
      "\u001b[01;35mimg_LIDC-IDRI-0229_5_108.jpg\u001b[0m         \u001b[01;35mimg_out_LIDC-IDRI-0580_0_2_157.jpg\u001b[0m\n",
      "\u001b[01;35mimg_LIDC-IDRI-0229_5_109.jpg\u001b[0m         \u001b[01;35mimg_out_LIDC-IDRI-0580_0_3_157.jpg\u001b[0m\n",
      "\u001b[01;35mimg_LIDC-IDRI-0229_5_110.jpg\u001b[0m         \u001b[01;35mimg_out_LIDC-IDRI-0580_0_4_158.jpg\u001b[0m\n",
      "\u001b[01;35mimg_LIDC-IDRI-0229_5_111.jpg\u001b[0m         \u001b[01;35mimg_out_LIDC-IDRI-0580_0_5_158.jpg\u001b[0m\n",
      "\u001b[01;35mimg_LIDC-IDRI-0229_5_112.jpg\u001b[0m         \u001b[01;35mimg_out_LIDC-IDRI-0580_0_6_159.jpg\u001b[0m\n",
      "\u001b[01;35mimg_LIDC-IDRI-0229_5_113.jpg\u001b[0m         \u001b[01;35mimg_out_LIDC-IDRI-0580_0_7_159.jpg\u001b[0m\n",
      "\u001b[01;35mimg_LIDC-IDRI-0229_5_114.jpg\u001b[0m         \u001b[01;35mimg_out_LIDC-IDRI-0580_0_8_160.jpg\u001b[0m\n",
      "\u001b[01;35mimg_LIDC-IDRI-0229_5_115.jpg\u001b[0m         \u001b[01;35mimg_out_LIDC-IDRI-0580_0_9_160.jpg\u001b[0m\n",
      "\u001b[01;35mimg_LIDC-IDRI-0234_0_41.jpg\u001b[0m          \u001b[01;35mimg_out_LIDC-IDRI-0583_0_0_157.jpg\u001b[0m\n",
      "\u001b[01;35mimg_LIDC-IDRI-0234_0_42.jpg\u001b[0m          \u001b[01;35mimg_out_LIDC-IDRI-0583_0_10_162.jpg\u001b[0m\n",
      "\u001b[01;35mimg_LIDC-IDRI-0234_0_43.jpg\u001b[0m          \u001b[01;35mimg_out_LIDC-IDRI-0583_0_11_162.jpg\u001b[0m\n",
      "\u001b[01;35mimg_LIDC-IDRI-0262_0_107.jpg\u001b[0m         \u001b[01;35mimg_out_LIDC-IDRI-0583_0_1_157.jpg\u001b[0m\n",
      "\u001b[01;35mimg_LIDC-IDRI-0262_0_108.jpg\u001b[0m         \u001b[01;35mimg_out_LIDC-IDRI-0583_0_2_158.jpg\u001b[0m\n",
      "\u001b[01;35mimg_LIDC-IDRI-0262_0_109.jpg\u001b[0m         \u001b[01;35mimg_out_LIDC-IDRI-0583_0_3_158.jpg\u001b[0m\n",
      "\u001b[01;35mimg_LIDC-IDRI-0262_0_110.jpg\u001b[0m         \u001b[01;35mimg_out_LIDC-IDRI-0583_0_4_159.jpg\u001b[0m\n",
      "\u001b[01;35mimg_LIDC-IDRI-0262_0_111.jpg\u001b[0m         \u001b[01;35mimg_out_LIDC-IDRI-0583_0_5_159.jpg\u001b[0m\n",
      "\u001b[01;35mimg_LIDC-IDRI-0262_0_112.jpg\u001b[0m         \u001b[01;35mimg_out_LIDC-IDRI-0583_0_6_160.jpg\u001b[0m\n",
      "\u001b[01;35mimg_LIDC-IDRI-0262_0_113.jpg\u001b[0m         \u001b[01;35mimg_out_LIDC-IDRI-0583_0_7_160.jpg\u001b[0m\n",
      "\u001b[01;35mimg_LIDC-IDRI-0262_0_114.jpg\u001b[0m         \u001b[01;35mimg_out_LIDC-IDRI-0583_0_8_161.jpg\u001b[0m\n",
      "\u001b[01;35mimg_LIDC-IDRI-0332_0_100.jpg\u001b[0m         \u001b[01;35mimg_out_LIDC-IDRI-0583_0_9_161.jpg\u001b[0m\n",
      "\u001b[01;35mimg_LIDC-IDRI-0332_0_101.jpg\u001b[0m         \u001b[01;35mimg_out_LIDC-IDRI-0583_1_0_205.jpg\u001b[0m\n",
      "\u001b[01;35mimg_LIDC-IDRI-0332_0_102.jpg\u001b[0m         \u001b[01;35mimg_out_LIDC-IDRI-0583_1_10_210.jpg\u001b[0m\n",
      "\u001b[01;35mimg_LIDC-IDRI-0332_0_103.jpg\u001b[0m         \u001b[01;35mimg_out_LIDC-IDRI-0583_1_11_210.jpg\u001b[0m\n",
      "\u001b[01;35mimg_LIDC-IDRI-0332_0_104.jpg\u001b[0m         \u001b[01;35mimg_out_LIDC-IDRI-0583_1_12_211.jpg\u001b[0m\n",
      "\u001b[01;35mimg_LIDC-IDRI-0332_0_92.jpg\u001b[0m          \u001b[01;35mimg_out_LIDC-IDRI-0583_1_13_211.jpg\u001b[0m\n",
      "\u001b[01;35mimg_LIDC-IDRI-0332_0_93.jpg\u001b[0m          \u001b[01;35mimg_out_LIDC-IDRI-0583_1_14_212.jpg\u001b[0m\n",
      "\u001b[01;35mimg_LIDC-IDRI-0332_0_94.jpg\u001b[0m          \u001b[01;35mimg_out_LIDC-IDRI-0583_1_15_212.jpg\u001b[0m\n",
      "\u001b[01;35mimg_LIDC-IDRI-0332_0_95.jpg\u001b[0m          \u001b[01;35mimg_out_LIDC-IDRI-0583_1_16_213.jpg\u001b[0m\n",
      "\u001b[01;35mimg_LIDC-IDRI-0332_0_96.jpg\u001b[0m          \u001b[01;35mimg_out_LIDC-IDRI-0583_1_17_213.jpg\u001b[0m\n",
      "\u001b[01;35mimg_LIDC-IDRI-0332_0_97.jpg\u001b[0m          \u001b[01;35mimg_out_LIDC-IDRI-0583_1_18_214.jpg\u001b[0m\n",
      "\u001b[01;35mimg_LIDC-IDRI-0332_0_98.jpg\u001b[0m          \u001b[01;35mimg_out_LIDC-IDRI-0583_1_19_214.jpg\u001b[0m\n",
      "\u001b[01;35mimg_LIDC-IDRI-0332_0_99.jpg\u001b[0m          \u001b[01;35mimg_out_LIDC-IDRI-0583_1_1_205.jpg\u001b[0m\n",
      "\u001b[01;35mimg_LIDC-IDRI-0332_1_160.jpg\u001b[0m         \u001b[01;35mimg_out_LIDC-IDRI-0583_1_20_215.jpg\u001b[0m\n",
      "\u001b[01;35mimg_LIDC-IDRI-0332_1_161.jpg\u001b[0m         \u001b[01;35mimg_out_LIDC-IDRI-0583_1_21_215.jpg\u001b[0m\n",
      "\u001b[01;35mimg_LIDC-IDRI-0332_1_162.jpg\u001b[0m         \u001b[01;35mimg_out_LIDC-IDRI-0583_1_22_216.jpg\u001b[0m\n",
      "\u001b[01;35mimg_LIDC-IDRI-0332_1_163.jpg\u001b[0m         \u001b[01;35mimg_out_LIDC-IDRI-0583_1_23_216.jpg\u001b[0m\n",
      "\u001b[01;35mimg_LIDC-IDRI-0332_1_164.jpg\u001b[0m         \u001b[01;35mimg_out_LIDC-IDRI-0583_1_24_217.jpg\u001b[0m\n",
      "\u001b[01;35mimg_LIDC-IDRI-0332_1_165.jpg\u001b[0m         \u001b[01;35mimg_out_LIDC-IDRI-0583_1_25_217.jpg\u001b[0m\n",
      "\u001b[01;35mimg_LIDC-IDRI-0332_1_166.jpg\u001b[0m         \u001b[01;35mimg_out_LIDC-IDRI-0583_1_26_218.jpg\u001b[0m\n",
      "\u001b[01;35mimg_LIDC-IDRI-0332_1_167.jpg\u001b[0m         \u001b[01;35mimg_out_LIDC-IDRI-0583_1_27_218.jpg\u001b[0m\n",
      "\u001b[01;35mimg_LIDC-IDRI-0337_0_53.jpg\u001b[0m          \u001b[01;35mimg_out_LIDC-IDRI-0583_1_2_206.jpg\u001b[0m\n",
      "\u001b[01;35mimg_LIDC-IDRI-0337_0_54.jpg\u001b[0m          \u001b[01;35mimg_out_LIDC-IDRI-0583_1_3_206.jpg\u001b[0m\n",
      "\u001b[01;35mimg_LIDC-IDRI-0337_0_55.jpg\u001b[0m          \u001b[01;35mimg_out_LIDC-IDRI-0583_1_4_207.jpg\u001b[0m\n",
      "\u001b[01;35mimg_LIDC-IDRI-0337_0_56.jpg\u001b[0m          \u001b[01;35mimg_out_LIDC-IDRI-0583_1_5_207.jpg\u001b[0m\n",
      "\u001b[01;35mimg_LIDC-IDRI-0337_0_57.jpg\u001b[0m          \u001b[01;35mimg_out_LIDC-IDRI-0583_1_6_208.jpg\u001b[0m\n",
      "\u001b[01;35mimg_LIDC-IDRI-0337_0_58.jpg\u001b[0m          \u001b[01;35mimg_out_LIDC-IDRI-0583_1_7_208.jpg\u001b[0m\n",
      "\u001b[01;35mimg_LIDC-IDRI-0337_0_59.jpg\u001b[0m          \u001b[01;35mimg_out_LIDC-IDRI-0583_1_8_209.jpg\u001b[0m\n",
      "\u001b[01;35mimg_LIDC-IDRI-0337_1_100.jpg\u001b[0m         \u001b[01;35mimg_out_LIDC-IDRI-0583_1_9_209.jpg\u001b[0m\n",
      "\u001b[01;35mimg_LIDC-IDRI-0337_1_101.jpg\u001b[0m         \u001b[01;35mimg_out_LIDC-IDRI-0649_0_0_66.jpg\u001b[0m\n",
      "\u001b[01;35mimg_LIDC-IDRI-0337_1_102.jpg\u001b[0m         \u001b[01;35mimg_out_LIDC-IDRI-0649_0_1_66.jpg\u001b[0m\n",
      "\u001b[01;35mimg_LIDC-IDRI-0337_1_103.jpg\u001b[0m         \u001b[01;35mimg_out_LIDC-IDRI-0649_0_2_67.jpg\u001b[0m\n",
      "\u001b[01;35mimg_LIDC-IDRI-0337_1_104.jpg\u001b[0m         \u001b[01;35mimg_out_LIDC-IDRI-0649_0_3_67.jpg\u001b[0m\n",
      "\u001b[01;35mimg_LIDC-IDRI-0337_1_91.jpg\u001b[0m          \u001b[01;35mimg_out_LIDC-IDRI-0649_0_4_68.jpg\u001b[0m\n",
      "\u001b[01;35mimg_LIDC-IDRI-0337_1_92.jpg\u001b[0m          \u001b[01;35mimg_out_LIDC-IDRI-0649_0_5_68.jpg\u001b[0m\n",
      "\u001b[01;35mimg_LIDC-IDRI-0337_1_93.jpg\u001b[0m          \u001b[01;35mimg_out_LIDC-IDRI-0649_0_6_69.jpg\u001b[0m\n",
      "\u001b[01;35mimg_LIDC-IDRI-0337_1_94.jpg\u001b[0m          \u001b[01;35mimg_out_LIDC-IDRI-0649_0_7_69.jpg\u001b[0m\n",
      "\u001b[01;35mimg_LIDC-IDRI-0337_1_95.jpg\u001b[0m          \u001b[01;35mimg_out_LIDC-IDRI-0649_1_0_67.jpg\u001b[0m\n",
      "\u001b[01;35mimg_LIDC-IDRI-0337_1_96.jpg\u001b[0m          \u001b[01;35mimg_out_LIDC-IDRI-0649_1_1_67.jpg\u001b[0m\n",
      "\u001b[01;35mimg_LIDC-IDRI-0337_1_97.jpg\u001b[0m          \u001b[01;35mimg_out_LIDC-IDRI-0649_1_2_68.jpg\u001b[0m\n",
      "\u001b[01;35mimg_LIDC-IDRI-0337_1_98.jpg\u001b[0m          \u001b[01;35mimg_out_LIDC-IDRI-0649_1_3_68.jpg\u001b[0m\n",
      "\u001b[01;35mimg_LIDC-IDRI-0337_1_99.jpg\u001b[0m          \u001b[01;35mimg_out_LIDC-IDRI-0649_1_4_69.jpg\u001b[0m\n",
      "\u001b[01;35mimg_LIDC-IDRI-0346_0_41.jpg\u001b[0m          \u001b[01;35mimg_out_LIDC-IDRI-0649_1_5_69.jpg\u001b[0m\n",
      "\u001b[01;35mimg_LIDC-IDRI-0346_0_42.jpg\u001b[0m          \u001b[01;35mimg_out_LIDC-IDRI-0649_1_6_70.jpg\u001b[0m\n",
      "\u001b[01;35mimg_LIDC-IDRI-0346_0_43.jpg\u001b[0m          \u001b[01;35mimg_out_LIDC-IDRI-0649_1_7_70.jpg\u001b[0m\n",
      "\u001b[01;35mimg_LIDC-IDRI-0346_1_50.jpg\u001b[0m          \u001b[01;35mimg_out_LIDC-IDRI-0649_2_0_80.jpg\u001b[0m\n",
      "\u001b[01;35mimg_LIDC-IDRI-0346_1_51.jpg\u001b[0m          \u001b[01;35mimg_out_LIDC-IDRI-0649_2_1_80.jpg\u001b[0m\n",
      "\u001b[01;35mimg_LIDC-IDRI-0346_1_52.jpg\u001b[0m          \u001b[01;35mimg_out_LIDC-IDRI-0649_2_2_81.jpg\u001b[0m\n",
      "\u001b[01;35mimg_LIDC-IDRI-0346_1_53.jpg\u001b[0m          \u001b[01;35mimg_out_LIDC-IDRI-0649_2_3_81.jpg\u001b[0m\n",
      "\u001b[01;35mimg_LIDC-IDRI-0346_1_54.jpg\u001b[0m          \u001b[01;35mimg_out_LIDC-IDRI-0649_2_4_82.jpg\u001b[0m\n",
      "\u001b[01;35mimg_LIDC-IDRI-0346_2_74.jpg\u001b[0m          \u001b[01;35mimg_out_LIDC-IDRI-0649_2_5_82.jpg\u001b[0m\n",
      "\u001b[01;35mimg_LIDC-IDRI-0346_2_75.jpg\u001b[0m          \u001b[01;35mimg_out_LIDC-IDRI-0649_3_0_101.jpg\u001b[0m\n",
      "\u001b[01;35mimg_LIDC-IDRI-0346_2_76.jpg\u001b[0m          \u001b[01;35mimg_out_LIDC-IDRI-0649_3_1_101.jpg\u001b[0m\n",
      "\u001b[01;35mimg_LIDC-IDRI-0350_0_185.jpg\u001b[0m         \u001b[01;35mimg_out_LIDC-IDRI-0649_3_2_102.jpg\u001b[0m\n",
      "\u001b[01;35mimg_LIDC-IDRI-0350_0_186.jpg\u001b[0m         \u001b[01;35mimg_out_LIDC-IDRI-0649_3_3_102.jpg\u001b[0m\n",
      "\u001b[01;35mimg_LIDC-IDRI-0350_0_187.jpg\u001b[0m         \u001b[01;35mimg_out_LIDC-IDRI-0649_4_0_121.jpg\u001b[0m\n",
      "\u001b[01;35mimg_LIDC-IDRI-0350_0_188.jpg\u001b[0m         \u001b[01;35mimg_out_LIDC-IDRI-0649_4_1_121.jpg\u001b[0m\n",
      "\u001b[01;35mimg_LIDC-IDRI-0359_0_27.jpg\u001b[0m          \u001b[01;35mimg_out_LIDC-IDRI-0649_4_2_122.jpg\u001b[0m\n",
      "\u001b[01;35mimg_LIDC-IDRI-0359_0_28.jpg\u001b[0m          \u001b[01;35mimg_out_LIDC-IDRI-0649_4_3_122.jpg\u001b[0m\n",
      "\u001b[01;35mimg_LIDC-IDRI-0359_0_29.jpg\u001b[0m          \u001b[01;35mimg_out_LIDC-IDRI-0649_4_4_123.jpg\u001b[0m\n",
      "\u001b[01;35mimg_LIDC-IDRI-0359_0_30.jpg\u001b[0m          \u001b[01;35mimg_out_LIDC-IDRI-0649_4_5_123.jpg\u001b[0m\n",
      "\u001b[01;35mimg_LIDC-IDRI-0359_1_84.jpg\u001b[0m          \u001b[01;35mimg_out_LIDC-IDRI-0649_5_0_136.jpg\u001b[0m\n",
      "\u001b[01;35mimg_LIDC-IDRI-0359_1_85.jpg\u001b[0m          \u001b[01;35mimg_out_LIDC-IDRI-0649_5_1_136.jpg\u001b[0m\n",
      "\u001b[01;35mimg_LIDC-IDRI-0359_1_86.jpg\u001b[0m          \u001b[01;35mimg_out_LIDC-IDRI-0649_5_2_137.jpg\u001b[0m\n",
      "\u001b[01;35mimg_LIDC-IDRI-0359_1_87.jpg\u001b[0m          \u001b[01;35mimg_out_LIDC-IDRI-0649_5_3_137.jpg\u001b[0m\n",
      "\u001b[01;35mimg_LIDC-IDRI-0368_0_31.jpg\u001b[0m          \u001b[01;35mimg_out_LIDC-IDRI-0649_6_0_207.jpg\u001b[0m\n",
      "\u001b[01;35mimg_LIDC-IDRI-0368_0_32.jpg\u001b[0m          \u001b[01;35mimg_out_LIDC-IDRI-0649_6_1_207.jpg\u001b[0m\n",
      "\u001b[01;35mimg_LIDC-IDRI-0368_0_33.jpg\u001b[0m          \u001b[01;35mimg_out_LIDC-IDRI-0649_6_2_208.jpg\u001b[0m\n",
      "\u001b[01;35mimg_LIDC-IDRI-0368_0_34.jpg\u001b[0m          \u001b[01;35mimg_out_LIDC-IDRI-0649_6_3_208.jpg\u001b[0m\n",
      "\u001b[01;35mimg_LIDC-IDRI-0368_0_35.jpg\u001b[0m          \u001b[01;35mimg_out_LIDC-IDRI-0673_0_0_194.jpg\u001b[0m\n",
      "\u001b[01;35mimg_LIDC-IDRI-0368_0_36.jpg\u001b[0m          \u001b[01;35mimg_out_LIDC-IDRI-0673_0_10_199.jpg\u001b[0m\n",
      "\u001b[01;35mimg_LIDC-IDRI-0368_0_37.jpg\u001b[0m          \u001b[01;35mimg_out_LIDC-IDRI-0673_0_11_199.jpg\u001b[0m\n",
      "\u001b[01;35mimg_LIDC-IDRI-0368_0_38.jpg\u001b[0m          \u001b[01;35mimg_out_LIDC-IDRI-0673_0_12_200.jpg\u001b[0m\n",
      "\u001b[01;35mimg_LIDC-IDRI-0368_0_39.jpg\u001b[0m          \u001b[01;35mimg_out_LIDC-IDRI-0673_0_13_200.jpg\u001b[0m\n",
      "\u001b[01;35mimg_LIDC-IDRI-0368_1_42.jpg\u001b[0m          \u001b[01;35mimg_out_LIDC-IDRI-0673_0_14_201.jpg\u001b[0m\n",
      "\u001b[01;35mimg_LIDC-IDRI-0368_1_43.jpg\u001b[0m          \u001b[01;35mimg_out_LIDC-IDRI-0673_0_15_201.jpg\u001b[0m\n",
      "\u001b[01;35mimg_LIDC-IDRI-0368_1_44.jpg\u001b[0m          \u001b[01;35mimg_out_LIDC-IDRI-0673_0_16_202.jpg\u001b[0m\n",
      "\u001b[01;35mimg_LIDC-IDRI-0368_2_64.jpg\u001b[0m          \u001b[01;35mimg_out_LIDC-IDRI-0673_0_17_202.jpg\u001b[0m\n",
      "\u001b[01;35mimg_LIDC-IDRI-0368_2_65.jpg\u001b[0m          \u001b[01;35mimg_out_LIDC-IDRI-0673_0_18_203.jpg\u001b[0m\n",
      "\u001b[01;35mimg_LIDC-IDRI-0368_2_66.jpg\u001b[0m          \u001b[01;35mimg_out_LIDC-IDRI-0673_0_19_203.jpg\u001b[0m\n",
      "\u001b[01;35mimg_LIDC-IDRI-0368_2_67.jpg\u001b[0m          \u001b[01;35mimg_out_LIDC-IDRI-0673_0_1_194.jpg\u001b[0m\n",
      "\u001b[01;35mimg_LIDC-IDRI-0368_2_68.jpg\u001b[0m          \u001b[01;35mimg_out_LIDC-IDRI-0673_0_2_195.jpg\u001b[0m\n",
      "\u001b[01;35mimg_LIDC-IDRI-0368_3_67.jpg\u001b[0m          \u001b[01;35mimg_out_LIDC-IDRI-0673_0_3_195.jpg\u001b[0m\n",
      "\u001b[01;35mimg_LIDC-IDRI-0368_3_68.jpg\u001b[0m          \u001b[01;35mimg_out_LIDC-IDRI-0673_0_4_196.jpg\u001b[0m\n",
      "\u001b[01;35mimg_LIDC-IDRI-0368_3_69.jpg\u001b[0m          \u001b[01;35mimg_out_LIDC-IDRI-0673_0_5_196.jpg\u001b[0m\n",
      "\u001b[01;35mimg_LIDC-IDRI-0368_3_70.jpg\u001b[0m          \u001b[01;35mimg_out_LIDC-IDRI-0673_0_6_197.jpg\u001b[0m\n",
      "\u001b[01;35mimg_LIDC-IDRI-0368_3_71.jpg\u001b[0m          \u001b[01;35mimg_out_LIDC-IDRI-0673_0_7_197.jpg\u001b[0m\n",
      "\u001b[01;35mimg_LIDC-IDRI-0368_3_72.jpg\u001b[0m          \u001b[01;35mimg_out_LIDC-IDRI-0673_0_8_198.jpg\u001b[0m\n",
      "\u001b[01;35mimg_LIDC-IDRI-0368_3_73.jpg\u001b[0m          \u001b[01;35mimg_out_LIDC-IDRI-0673_0_9_198.jpg\u001b[0m\n",
      "\u001b[01;35mimg_LIDC-IDRI-0368_3_74.jpg\u001b[0m          \u001b[01;35mimg_out_LIDC-IDRI-0673_1_0_269.jpg\u001b[0m\n",
      "\u001b[01;35mimg_LIDC-IDRI-0368_3_75.jpg\u001b[0m          \u001b[01;35mimg_out_LIDC-IDRI-0673_1_10_274.jpg\u001b[0m\n",
      "\u001b[01;35mimg_LIDC-IDRI-0368_4_86.jpg\u001b[0m          \u001b[01;35mimg_out_LIDC-IDRI-0673_1_11_274.jpg\u001b[0m\n",
      "\u001b[01;35mimg_LIDC-IDRI-0368_4_87.jpg\u001b[0m          \u001b[01;35mimg_out_LIDC-IDRI-0673_1_12_275.jpg\u001b[0m\n",
      "\u001b[01;35mimg_LIDC-IDRI-0368_4_88.jpg\u001b[0m          \u001b[01;35mimg_out_LIDC-IDRI-0673_1_13_275.jpg\u001b[0m\n",
      "\u001b[01;35mimg_LIDC-IDRI-0368_4_89.jpg\u001b[0m          \u001b[01;35mimg_out_LIDC-IDRI-0673_1_1_269.jpg\u001b[0m\n",
      "\u001b[01;35mimg_LIDC-IDRI-0368_4_90.jpg\u001b[0m          \u001b[01;35mimg_out_LIDC-IDRI-0673_1_2_270.jpg\u001b[0m\n",
      "\u001b[01;35mimg_LIDC-IDRI-0392_0_153.jpg\u001b[0m         \u001b[01;35mimg_out_LIDC-IDRI-0673_1_3_270.jpg\u001b[0m\n",
      "\u001b[01;35mimg_LIDC-IDRI-0392_0_154.jpg\u001b[0m         \u001b[01;35mimg_out_LIDC-IDRI-0673_1_4_271.jpg\u001b[0m\n",
      "\u001b[01;35mimg_LIDC-IDRI-0392_0_155.jpg\u001b[0m         \u001b[01;35mimg_out_LIDC-IDRI-0673_1_5_271.jpg\u001b[0m\n",
      "\u001b[01;35mimg_LIDC-IDRI-0392_0_156.jpg\u001b[0m         \u001b[01;35mimg_out_LIDC-IDRI-0673_1_6_272.jpg\u001b[0m\n",
      "\u001b[01;35mimg_LIDC-IDRI-0394_0_128.jpg\u001b[0m         \u001b[01;35mimg_out_LIDC-IDRI-0673_1_7_272.jpg\u001b[0m\n",
      "\u001b[01;35mimg_LIDC-IDRI-0394_0_129.jpg\u001b[0m         \u001b[01;35mimg_out_LIDC-IDRI-0673_1_8_273.jpg\u001b[0m\n",
      "\u001b[01;35mimg_LIDC-IDRI-0394_0_130.jpg\u001b[0m         \u001b[01;35mimg_out_LIDC-IDRI-0673_1_9_273.jpg\u001b[0m\n",
      "\u001b[01;35mimg_LIDC-IDRI-0394_1_141.jpg\u001b[0m         \u001b[01;35mimg_out_LIDC-IDRI-0701_0_0_248.jpg\u001b[0m\n",
      "\u001b[01;35mimg_LIDC-IDRI-0394_1_142.jpg\u001b[0m         \u001b[01;35mimg_out_LIDC-IDRI-0701_0_10_253.jpg\u001b[0m\n",
      "\u001b[01;35mimg_LIDC-IDRI-0394_1_143.jpg\u001b[0m         \u001b[01;35mimg_out_LIDC-IDRI-0701_0_11_253.jpg\u001b[0m\n",
      "\u001b[01;35mimg_LIDC-IDRI-0394_1_144.jpg\u001b[0m         \u001b[01;35mimg_out_LIDC-IDRI-0701_0_12_254.jpg\u001b[0m\n",
      "\u001b[01;35mimg_LIDC-IDRI-0394_1_145.jpg\u001b[0m         \u001b[01;35mimg_out_LIDC-IDRI-0701_0_1_248.jpg\u001b[0m\n",
      "\u001b[01;35mimg_LIDC-IDRI-0394_1_146.jpg\u001b[0m         \u001b[01;35mimg_out_LIDC-IDRI-0701_0_2_249.jpg\u001b[0m\n",
      "\u001b[01;35mimg_LIDC-IDRI-0394_1_147.jpg\u001b[0m         \u001b[01;35mimg_out_LIDC-IDRI-0701_0_3_249.jpg\u001b[0m\n",
      "\u001b[01;35mimg_LIDC-IDRI-0426_0_46.jpg\u001b[0m          \u001b[01;35mimg_out_LIDC-IDRI-0701_0_4_250.jpg\u001b[0m\n",
      "\u001b[01;35mimg_LIDC-IDRI-0426_0_47.jpg\u001b[0m          \u001b[01;35mimg_out_LIDC-IDRI-0701_0_5_250.jpg\u001b[0m\n",
      "\u001b[01;35mimg_LIDC-IDRI-0426_0_48.jpg\u001b[0m          \u001b[01;35mimg_out_LIDC-IDRI-0701_0_6_251.jpg\u001b[0m\n",
      "\u001b[01;35mimg_LIDC-IDRI-0426_0_49.jpg\u001b[0m          \u001b[01;35mimg_out_LIDC-IDRI-0701_1_0_250.jpg\u001b[0m\n",
      "\u001b[01;35mimg_LIDC-IDRI-0435_0_54.jpg\u001b[0m          \u001b[01;35mimg_out_LIDC-IDRI-0701_1_1_250.jpg\u001b[0m\n",
      "\u001b[01;35mimg_LIDC-IDRI-0435_0_55.jpg\u001b[0m          \u001b[01;35mimg_out_LIDC-IDRI-0701_1_2_251.jpg\u001b[0m\n",
      "\u001b[01;35mimg_LIDC-IDRI-0439_0_78.jpg\u001b[0m          \u001b[01;35mimg_out_LIDC-IDRI-0701_1_5_252.jpg\u001b[0m\n",
      "\u001b[01;35mimg_LIDC-IDRI-0439_0_79.jpg\u001b[0m          \u001b[01;35mimg_out_LIDC-IDRI-0701_1_8_254.jpg\u001b[0m\n",
      "\u001b[01;35mimg_LIDC-IDRI-0439_0_80.jpg\u001b[0m          \u001b[01;35mimg_out_LIDC-IDRI-0706_0_0_85.jpg\u001b[0m\n",
      "\u001b[01;35mimg_LIDC-IDRI-0439_0_81.jpg\u001b[0m          \u001b[01;35mimg_out_LIDC-IDRI-0706_0_1_85.jpg\u001b[0m\n",
      "\u001b[01;35mimg_LIDC-IDRI-0439_0_82.jpg\u001b[0m          \u001b[01;35mimg_out_LIDC-IDRI-0706_0_2_86.jpg\u001b[0m\n",
      "\u001b[01;35mimg_LIDC-IDRI-0439_0_83.jpg\u001b[0m          \u001b[01;35mimg_out_LIDC-IDRI-0706_0_3_86.jpg\u001b[0m\n",
      "\u001b[01;35mimg_LIDC-IDRI-0439_0_84.jpg\u001b[0m          \u001b[01;35mimg_out_LIDC-IDRI-0712_0_0_42.jpg\u001b[0m\n",
      "\u001b[01;35mimg_LIDC-IDRI-0439_0_85.jpg\u001b[0m          \u001b[01;35mimg_out_LIDC-IDRI-0712_0_1_42.jpg\u001b[0m\n",
      "\u001b[01;35mimg_LIDC-IDRI-0447_0_64.jpg\u001b[0m          \u001b[01;35mimg_out_LIDC-IDRI-0712_0_2_43.jpg\u001b[0m\n",
      "\u001b[01;35mimg_LIDC-IDRI-0447_0_65.jpg\u001b[0m          \u001b[01;35mimg_out_LIDC-IDRI-0712_0_3_43.jpg\u001b[0m\n",
      "\u001b[01;35mimg_LIDC-IDRI-0447_0_66.jpg\u001b[0m          \u001b[01;35mimg_out_LIDC-IDRI-0712_0_4_44.jpg\u001b[0m\n",
      "\u001b[01;35mimg_LIDC-IDRI-0447_0_67.jpg\u001b[0m          \u001b[01;35mimg_out_LIDC-IDRI-0712_0_5_44.jpg\u001b[0m\n",
      "\u001b[01;35mimg_LIDC-IDRI-0447_0_68.jpg\u001b[0m          \u001b[01;35mimg_out_LIDC-IDRI-0712_0_6_45.jpg\u001b[0m\n",
      "\u001b[01;35mimg_LIDC-IDRI-0447_0_69.jpg\u001b[0m          \u001b[01;35mimg_out_LIDC-IDRI-0712_0_7_45.jpg\u001b[0m\n",
      "\u001b[01;35mimg_LIDC-IDRI-0447_0_70.jpg\u001b[0m          \u001b[01;35mimg_out_LIDC-IDRI-0712_0_8_46.jpg\u001b[0m\n",
      "\u001b[01;35mimg_LIDC-IDRI-0447_0_71.jpg\u001b[0m          \u001b[01;35mimg_out_LIDC-IDRI-0712_0_9_46.jpg\u001b[0m\n",
      "\u001b[01;35mimg_LIDC-IDRI-0447_0_72.jpg\u001b[0m          \u001b[01;35mimg_out_LIDC-IDRI-0720_0_0_147.jpg\u001b[0m\n",
      "\u001b[01;35mimg_LIDC-IDRI-0451_0_110.jpg\u001b[0m         \u001b[01;35mimg_out_LIDC-IDRI-0720_0_1_147.jpg\u001b[0m\n",
      "\u001b[01;35mimg_LIDC-IDRI-0451_0_111.jpg\u001b[0m         \u001b[01;35mimg_out_LIDC-IDRI-0720_0_2_148.jpg\u001b[0m\n",
      "\u001b[01;35mimg_LIDC-IDRI-0451_0_112.jpg\u001b[0m         \u001b[01;35mimg_out_LIDC-IDRI-0720_0_3_148.jpg\u001b[0m\n",
      "\u001b[01;35mimg_LIDC-IDRI-0451_0_113.jpg\u001b[0m         \u001b[01;35mimg_out_LIDC-IDRI-0720_0_4_149.jpg\u001b[0m\n",
      "\u001b[01;35mimg_LIDC-IDRI-0451_0_114.jpg\u001b[0m         \u001b[01;35mimg_out_LIDC-IDRI-0720_0_5_149.jpg\u001b[0m\n",
      "\u001b[01;35mimg_LIDC-IDRI-0451_0_115.jpg\u001b[0m         \u001b[01;35mimg_out_LIDC-IDRI-0720_0_6_150.jpg\u001b[0m\n",
      "\u001b[01;35mimg_LIDC-IDRI-0489_0_39.jpg\u001b[0m          \u001b[01;35mimg_out_LIDC-IDRI-0720_0_7_150.jpg\u001b[0m\n",
      "\u001b[01;35mimg_LIDC-IDRI-0489_0_40.jpg\u001b[0m          \u001b[01;35mimg_out_LIDC-IDRI-0732_0_0_126.jpg\u001b[0m\n",
      "\u001b[01;35mimg_LIDC-IDRI-0489_0_41.jpg\u001b[0m          \u001b[01;35mimg_out_LIDC-IDRI-0732_0_10_131.jpg\u001b[0m\n",
      "\u001b[01;35mimg_LIDC-IDRI-0489_0_42.jpg\u001b[0m          \u001b[01;35mimg_out_LIDC-IDRI-0732_0_11_131.jpg\u001b[0m\n",
      "\u001b[01;35mimg_LIDC-IDRI-0489_0_43.jpg\u001b[0m          \u001b[01;35mimg_out_LIDC-IDRI-0732_0_12_132.jpg\u001b[0m\n",
      "\u001b[01;35mimg_LIDC-IDRI-0489_0_44.jpg\u001b[0m          \u001b[01;35mimg_out_LIDC-IDRI-0732_0_13_132.jpg\u001b[0m\n",
      "\u001b[01;35mimg_LIDC-IDRI-0489_1_63.jpg\u001b[0m          \u001b[01;35mimg_out_LIDC-IDRI-0732_0_1_126.jpg\u001b[0m\n",
      "\u001b[01;35mimg_LIDC-IDRI-0489_1_64.jpg\u001b[0m          \u001b[01;35mimg_out_LIDC-IDRI-0732_0_2_127.jpg\u001b[0m\n",
      "\u001b[01;35mimg_LIDC-IDRI-0489_1_65.jpg\u001b[0m          \u001b[01;35mimg_out_LIDC-IDRI-0732_0_3_127.jpg\u001b[0m\n",
      "\u001b[01;35mimg_LIDC-IDRI-0489_1_66.jpg\u001b[0m          \u001b[01;35mimg_out_LIDC-IDRI-0732_0_4_128.jpg\u001b[0m\n",
      "\u001b[01;35mimg_LIDC-IDRI-0489_1_67.jpg\u001b[0m          \u001b[01;35mimg_out_LIDC-IDRI-0732_0_5_128.jpg\u001b[0m\n",
      "\u001b[01;35mimg_LIDC-IDRI-0489_1_68.jpg\u001b[0m          \u001b[01;35mimg_out_LIDC-IDRI-0732_0_6_129.jpg\u001b[0m\n",
      "\u001b[01;35mimg_LIDC-IDRI-0489_1_69.jpg\u001b[0m          \u001b[01;35mimg_out_LIDC-IDRI-0732_0_7_129.jpg\u001b[0m\n",
      "\u001b[01;35mimg_LIDC-IDRI-0489_1_70.jpg\u001b[0m          \u001b[01;35mimg_out_LIDC-IDRI-0732_0_8_130.jpg\u001b[0m\n",
      "\u001b[01;35mimg_LIDC-IDRI-0489_1_71.jpg\u001b[0m          \u001b[01;35mimg_out_LIDC-IDRI-0732_0_9_130.jpg\u001b[0m\n",
      "\u001b[01;35mimg_LIDC-IDRI-0489_2_75.jpg\u001b[0m          \u001b[01;35mimg_out_LIDC-IDRI-0735_0_0_227.jpg\u001b[0m\n",
      "\u001b[01;35mimg_LIDC-IDRI-0489_2_76.jpg\u001b[0m          \u001b[01;35mimg_out_LIDC-IDRI-0735_0_1_227.jpg\u001b[0m\n",
      "\u001b[01;35mimg_LIDC-IDRI-0489_2_77.jpg\u001b[0m          \u001b[01;35mimg_out_LIDC-IDRI-0735_0_2_228.jpg\u001b[0m\n",
      "\u001b[01;35mimg_LIDC-IDRI-0489_2_78.jpg\u001b[0m          \u001b[01;35mimg_out_LIDC-IDRI-0735_0_3_228.jpg\u001b[0m\n",
      "\u001b[01;35mimg_LIDC-IDRI-0489_3_92.jpg\u001b[0m          \u001b[01;35mimg_out_LIDC-IDRI-0735_0_4_229.jpg\u001b[0m\n",
      "\u001b[01;35mimg_LIDC-IDRI-0489_3_93.jpg\u001b[0m          \u001b[01;35mimg_out_LIDC-IDRI-0735_0_5_229.jpg\u001b[0m\n",
      "\u001b[01;35mimg_LIDC-IDRI-0489_3_94.jpg\u001b[0m          \u001b[01;35mimg_out_LIDC-IDRI-0735_0_6_230.jpg\u001b[0m\n",
      "\u001b[01;35mimg_LIDC-IDRI-0489_3_95.jpg\u001b[0m          \u001b[01;35mimg_out_LIDC-IDRI-0735_0_7_230.jpg\u001b[0m\n",
      "\u001b[01;35mimg_LIDC-IDRI-0489_3_96.jpg\u001b[0m          \u001b[01;35mimg_out_LIDC-IDRI-0791_0_0_155.jpg\u001b[0m\n",
      "\u001b[01;35mimg_LIDC-IDRI-0489_3_97.jpg\u001b[0m          \u001b[01;35mimg_out_LIDC-IDRI-0791_0_10_160.jpg\u001b[0m\n",
      "\u001b[01;35mimg_LIDC-IDRI-0515_0_172.jpg\u001b[0m         \u001b[01;35mimg_out_LIDC-IDRI-0791_0_11_160.jpg\u001b[0m\n",
      "\u001b[01;35mimg_LIDC-IDRI-0515_0_173.jpg\u001b[0m         \u001b[01;35mimg_out_LIDC-IDRI-0791_0_12_161.jpg\u001b[0m\n",
      "\u001b[01;35mimg_LIDC-IDRI-0515_0_174.jpg\u001b[0m         \u001b[01;35mimg_out_LIDC-IDRI-0791_0_13_161.jpg\u001b[0m\n",
      "\u001b[01;35mimg_LIDC-IDRI-0515_0_175.jpg\u001b[0m         \u001b[01;35mimg_out_LIDC-IDRI-0791_0_14_162.jpg\u001b[0m\n",
      "\u001b[01;35mimg_LIDC-IDRI-0515_0_176.jpg\u001b[0m         \u001b[01;35mimg_out_LIDC-IDRI-0791_0_15_162.jpg\u001b[0m\n",
      "\u001b[01;35mimg_LIDC-IDRI-0515_0_177.jpg\u001b[0m         \u001b[01;35mimg_out_LIDC-IDRI-0791_0_16_163.jpg\u001b[0m\n",
      "\u001b[01;35mimg_LIDC-IDRI-0515_0_178.jpg\u001b[0m         \u001b[01;35mimg_out_LIDC-IDRI-0791_0_17_163.jpg\u001b[0m\n",
      "\u001b[01;35mimg_LIDC-IDRI-0515_0_179.jpg\u001b[0m         \u001b[01;35mimg_out_LIDC-IDRI-0791_0_18_164.jpg\u001b[0m\n",
      "\u001b[01;35mimg_LIDC-IDRI-0515_0_180.jpg\u001b[0m         \u001b[01;35mimg_out_LIDC-IDRI-0791_0_19_164.jpg\u001b[0m\n",
      "\u001b[01;35mimg_LIDC-IDRI-0515_0_181.jpg\u001b[0m         \u001b[01;35mimg_out_LIDC-IDRI-0791_0_1_155.jpg\u001b[0m\n",
      "\u001b[01;35mimg_LIDC-IDRI-0515_0_182.jpg\u001b[0m         \u001b[01;35mimg_out_LIDC-IDRI-0791_0_20_165.jpg\u001b[0m\n",
      "\u001b[01;35mimg_LIDC-IDRI-0515_0_183.jpg\u001b[0m         \u001b[01;35mimg_out_LIDC-IDRI-0791_0_21_165.jpg\u001b[0m\n",
      "\u001b[01;35mimg_LIDC-IDRI-0515_0_184.jpg\u001b[0m         \u001b[01;35mimg_out_LIDC-IDRI-0791_0_22_166.jpg\u001b[0m\n",
      "\u001b[01;35mimg_LIDC-IDRI-0515_0_185.jpg\u001b[0m         \u001b[01;35mimg_out_LIDC-IDRI-0791_0_23_166.jpg\u001b[0m\n",
      "\u001b[01;35mimg_LIDC-IDRI-0515_0_186.jpg\u001b[0m         \u001b[01;35mimg_out_LIDC-IDRI-0791_0_24_167.jpg\u001b[0m\n",
      "\u001b[01;35mimg_LIDC-IDRI-0526_0_48.jpg\u001b[0m          \u001b[01;35mimg_out_LIDC-IDRI-0791_0_25_167.jpg\u001b[0m\n",
      "\u001b[01;35mimg_LIDC-IDRI-0526_0_49.jpg\u001b[0m          \u001b[01;35mimg_out_LIDC-IDRI-0791_0_26_168.jpg\u001b[0m\n",
      "\u001b[01;35mimg_LIDC-IDRI-0526_0_50.jpg\u001b[0m          \u001b[01;35mimg_out_LIDC-IDRI-0791_0_27_168.jpg\u001b[0m\n",
      "\u001b[01;35mimg_LIDC-IDRI-0526_0_51.jpg\u001b[0m          \u001b[01;35mimg_out_LIDC-IDRI-0791_0_28_169.jpg\u001b[0m\n",
      "\u001b[01;35mimg_LIDC-IDRI-0526_0_52.jpg\u001b[0m          \u001b[01;35mimg_out_LIDC-IDRI-0791_0_29_169.jpg\u001b[0m\n",
      "\u001b[01;35mimg_LIDC-IDRI-0526_0_53.jpg\u001b[0m          \u001b[01;35mimg_out_LIDC-IDRI-0791_0_2_156.jpg\u001b[0m\n",
      "\u001b[01;35mimg_LIDC-IDRI-0526_0_54.jpg\u001b[0m          \u001b[01;35mimg_out_LIDC-IDRI-0791_0_30_170.jpg\u001b[0m\n",
      "\u001b[01;35mimg_LIDC-IDRI-0526_1_55.jpg\u001b[0m          \u001b[01;35mimg_out_LIDC-IDRI-0791_0_31_170.jpg\u001b[0m\n",
      "\u001b[01;35mimg_LIDC-IDRI-0526_1_56.jpg\u001b[0m          \u001b[01;35mimg_out_LIDC-IDRI-0791_0_3_156.jpg\u001b[0m\n",
      "\u001b[01;35mimg_LIDC-IDRI-0526_1_57.jpg\u001b[0m          \u001b[01;35mimg_out_LIDC-IDRI-0791_0_4_157.jpg\u001b[0m\n",
      "\u001b[01;35mimg_LIDC-IDRI-0526_1_58.jpg\u001b[0m          \u001b[01;35mimg_out_LIDC-IDRI-0791_0_5_157.jpg\u001b[0m\n",
      "\u001b[01;35mimg_LIDC-IDRI-0526_1_59.jpg\u001b[0m          \u001b[01;35mimg_out_LIDC-IDRI-0791_0_6_158.jpg\u001b[0m\n",
      "\u001b[01;35mimg_LIDC-IDRI-0526_2_79.jpg\u001b[0m          \u001b[01;35mimg_out_LIDC-IDRI-0791_0_7_158.jpg\u001b[0m\n",
      "\u001b[01;35mimg_LIDC-IDRI-0526_2_80.jpg\u001b[0m          \u001b[01;35mimg_out_LIDC-IDRI-0791_0_8_159.jpg\u001b[0m\n",
      "\u001b[01;35mimg_LIDC-IDRI-0526_2_81.jpg\u001b[0m          \u001b[01;35mimg_out_LIDC-IDRI-0791_0_9_159.jpg\u001b[0m\n",
      "\u001b[01;35mimg_LIDC-IDRI-0526_2_82.jpg\u001b[0m          \u001b[01;35mimg_out_LIDC-IDRI-0794_0_0_264.jpg\u001b[0m\n",
      "\u001b[01;35mimg_LIDC-IDRI-0526_2_83.jpg\u001b[0m          \u001b[01;35mimg_out_LIDC-IDRI-0794_0_10_269.jpg\u001b[0m\n",
      "\u001b[01;35mimg_LIDC-IDRI-0526_2_84.jpg\u001b[0m          \u001b[01;35mimg_out_LIDC-IDRI-0794_0_11_269.jpg\u001b[0m\n",
      "\u001b[01;35mimg_LIDC-IDRI-0526_2_85.jpg\u001b[0m          \u001b[01;35mimg_out_LIDC-IDRI-0794_0_12_270.jpg\u001b[0m\n",
      "\u001b[01;35mimg_LIDC-IDRI-0537_0_114.jpg\u001b[0m         \u001b[01;35mimg_out_LIDC-IDRI-0794_0_13_270.jpg\u001b[0m\n",
      "\u001b[01;35mimg_LIDC-IDRI-0537_0_115.jpg\u001b[0m         \u001b[01;35mimg_out_LIDC-IDRI-0794_0_14_271.jpg\u001b[0m\n",
      "\u001b[01;35mimg_LIDC-IDRI-0537_0_116.jpg\u001b[0m         \u001b[01;35mimg_out_LIDC-IDRI-0794_0_15_271.jpg\u001b[0m\n",
      "\u001b[01;35mimg_LIDC-IDRI-0537_0_117.jpg\u001b[0m         \u001b[01;35mimg_out_LIDC-IDRI-0794_0_16_272.jpg\u001b[0m\n",
      "\u001b[01;35mimg_LIDC-IDRI-0537_0_118.jpg\u001b[0m         \u001b[01;35mimg_out_LIDC-IDRI-0794_0_17_272.jpg\u001b[0m\n",
      "\u001b[01;35mimg_LIDC-IDRI-0537_0_119.jpg\u001b[0m         \u001b[01;35mimg_out_LIDC-IDRI-0794_0_1_264.jpg\u001b[0m\n",
      "\u001b[01;35mimg_LIDC-IDRI-0537_0_120.jpg\u001b[0m         \u001b[01;35mimg_out_LIDC-IDRI-0794_0_2_265.jpg\u001b[0m\n",
      "\u001b[01;35mimg_LIDC-IDRI-0537_0_121.jpg\u001b[0m         \u001b[01;35mimg_out_LIDC-IDRI-0794_0_3_265.jpg\u001b[0m\n",
      "\u001b[01;35mimg_LIDC-IDRI-0537_0_122.jpg\u001b[0m         \u001b[01;35mimg_out_LIDC-IDRI-0794_0_4_266.jpg\u001b[0m\n",
      "\u001b[01;35mimg_LIDC-IDRI-0537_0_123.jpg\u001b[0m         \u001b[01;35mimg_out_LIDC-IDRI-0794_0_5_266.jpg\u001b[0m\n",
      "\u001b[01;35mimg_LIDC-IDRI-0543_0_390.jpg\u001b[0m         \u001b[01;35mimg_out_LIDC-IDRI-0794_0_6_267.jpg\u001b[0m\n",
      "\u001b[01;35mimg_LIDC-IDRI-0543_0_391.jpg\u001b[0m         \u001b[01;35mimg_out_LIDC-IDRI-0794_0_7_267.jpg\u001b[0m\n",
      "\u001b[01;35mimg_LIDC-IDRI-0543_0_392.jpg\u001b[0m         \u001b[01;35mimg_out_LIDC-IDRI-0794_0_8_268.jpg\u001b[0m\n",
      "\u001b[01;35mimg_LIDC-IDRI-0543_0_393.jpg\u001b[0m         \u001b[01;35mimg_out_LIDC-IDRI-0794_0_9_268.jpg\u001b[0m\n",
      "\u001b[01;35mimg_LIDC-IDRI-0543_0_394.jpg\u001b[0m         \u001b[01;35mimg_out_LIDC-IDRI-0806_0_0_253.jpg\u001b[0m\n",
      "\u001b[01;35mimg_LIDC-IDRI-0543_0_395.jpg\u001b[0m         \u001b[01;35mimg_out_LIDC-IDRI-0806_0_1_253.jpg\u001b[0m\n",
      "\u001b[01;35mimg_LIDC-IDRI-0543_0_396.jpg\u001b[0m         \u001b[01;35mimg_out_LIDC-IDRI-0806_0_2_254.jpg\u001b[0m\n",
      "\u001b[01;35mimg_LIDC-IDRI-0543_0_397.jpg\u001b[0m         \u001b[01;35mimg_out_LIDC-IDRI-0806_0_3_254.jpg\u001b[0m\n",
      "\u001b[01;35mimg_LIDC-IDRI-0543_0_398.jpg\u001b[0m         \u001b[01;35mimg_out_LIDC-IDRI-0806_0_4_255.jpg\u001b[0m\n",
      "\u001b[01;35mimg_LIDC-IDRI-0543_0_399.jpg\u001b[0m         \u001b[01;35mimg_out_LIDC-IDRI-0806_0_5_255.jpg\u001b[0m\n",
      "\u001b[01;35mimg_LIDC-IDRI-0543_0_400.jpg\u001b[0m         \u001b[01;35mimg_out_LIDC-IDRI-0806_0_6_256.jpg\u001b[0m\n",
      "\u001b[01;35mimg_LIDC-IDRI-0543_1_411.jpg\u001b[0m         \u001b[01;35mimg_out_LIDC-IDRI-0806_0_7_256.jpg\u001b[0m\n",
      "\u001b[01;35mimg_LIDC-IDRI-0543_1_412.jpg\u001b[0m         \u001b[01;35mimg_out_LIDC-IDRI-0828_0_0_131.jpg\u001b[0m\n",
      "\u001b[01;35mimg_LIDC-IDRI-0543_1_413.jpg\u001b[0m         \u001b[01;35mimg_out_LIDC-IDRI-0828_0_1_131.jpg\u001b[0m\n",
      "\u001b[01;35mimg_LIDC-IDRI-0543_1_414.jpg\u001b[0m         \u001b[01;35mimg_out_LIDC-IDRI-0828_0_2_132.jpg\u001b[0m\n",
      "\u001b[01;35mimg_LIDC-IDRI-0543_1_415.jpg\u001b[0m         \u001b[01;35mimg_out_LIDC-IDRI-0828_0_3_132.jpg\u001b[0m\n",
      "\u001b[01;35mimg_LIDC-IDRI-0543_1_416.jpg\u001b[0m         \u001b[01;35mimg_out_LIDC-IDRI-0835_0_0_107.jpg\u001b[0m\n",
      "\u001b[01;35mimg_LIDC-IDRI-0543_1_417.jpg\u001b[0m         \u001b[01;35mimg_out_LIDC-IDRI-0835_0_1_107.jpg\u001b[0m\n",
      "\u001b[01;35mimg_LIDC-IDRI-0543_1_418.jpg\u001b[0m         \u001b[01;35mimg_out_LIDC-IDRI-0835_0_2_108.jpg\u001b[0m\n",
      "\u001b[01;35mimg_LIDC-IDRI-0543_1_419.jpg\u001b[0m         \u001b[01;35mimg_out_LIDC-IDRI-0835_0_3_108.jpg\u001b[0m\n",
      "\u001b[01;35mimg_LIDC-IDRI-0543_1_420.jpg\u001b[0m         \u001b[01;35mimg_out_LIDC-IDRI-0835_0_4_109.jpg\u001b[0m\n",
      "\u001b[01;35mimg_LIDC-IDRI-0543_1_421.jpg\u001b[0m         \u001b[01;35mimg_out_LIDC-IDRI-0835_0_5_109.jpg\u001b[0m\n",
      "\u001b[01;35mimg_LIDC-IDRI-0543_1_422.jpg\u001b[0m         \u001b[01;35mimg_out_LIDC-IDRI-0835_0_6_110.jpg\u001b[0m\n",
      "\u001b[01;35mimg_LIDC-IDRI-0543_1_423.jpg\u001b[0m         \u001b[01;35mimg_out_LIDC-IDRI-0835_0_7_110.jpg\u001b[0m\n",
      "\u001b[01;35mimg_LIDC-IDRI-0543_1_424.jpg\u001b[0m         \u001b[01;35mimg_out_LIDC-IDRI-0835_0_8_111.jpg\u001b[0m\n",
      "\u001b[01;35mimg_LIDC-IDRI-0543_1_425.jpg\u001b[0m         \u001b[01;35mimg_out_LIDC-IDRI-0835_0_9_111.jpg\u001b[0m\n",
      "\u001b[01;35mimg_LIDC-IDRI-0543_1_426.jpg\u001b[0m         \u001b[01;35mimg_out_LIDC-IDRI-0835_1_0_133.jpg\u001b[0m\n",
      "\u001b[01;35mimg_LIDC-IDRI-0543_1_427.jpg\u001b[0m         \u001b[01;35mimg_out_LIDC-IDRI-0835_1_10_138.jpg\u001b[0m\n",
      "\u001b[01;35mimg_LIDC-IDRI-0543_1_428.jpg\u001b[0m         \u001b[01;35mimg_out_LIDC-IDRI-0835_1_11_138.jpg\u001b[0m\n",
      "\u001b[01;35mimg_LIDC-IDRI-0543_1_429.jpg\u001b[0m         \u001b[01;35mimg_out_LIDC-IDRI-0835_1_12_139.jpg\u001b[0m\n",
      "\u001b[01;35mimg_LIDC-IDRI-0543_1_430.jpg\u001b[0m         \u001b[01;35mimg_out_LIDC-IDRI-0835_1_13_139.jpg\u001b[0m\n",
      "\u001b[01;35mimg_LIDC-IDRI-0543_1_431.jpg\u001b[0m         \u001b[01;35mimg_out_LIDC-IDRI-0835_1_14_140.jpg\u001b[0m\n",
      "\u001b[01;35mimg_LIDC-IDRI-0543_1_432.jpg\u001b[0m         \u001b[01;35mimg_out_LIDC-IDRI-0835_1_15_140.jpg\u001b[0m\n",
      "\u001b[01;35mimg_LIDC-IDRI-0543_1_433.jpg\u001b[0m         \u001b[01;35mimg_out_LIDC-IDRI-0835_1_1_133.jpg\u001b[0m\n",
      "\u001b[01;35mimg_LIDC-IDRI-0543_1_434.jpg\u001b[0m         \u001b[01;35mimg_out_LIDC-IDRI-0835_1_2_134.jpg\u001b[0m\n",
      "\u001b[01;35mimg_LIDC-IDRI-0543_1_435.jpg\u001b[0m         \u001b[01;35mimg_out_LIDC-IDRI-0835_1_3_134.jpg\u001b[0m\n",
      "\u001b[01;35mimg_LIDC-IDRI-0543_1_436.jpg\u001b[0m         \u001b[01;35mimg_out_LIDC-IDRI-0835_1_4_135.jpg\u001b[0m\n",
      "\u001b[01;35mimg_LIDC-IDRI-0543_1_437.jpg\u001b[0m         \u001b[01;35mimg_out_LIDC-IDRI-0835_1_5_135.jpg\u001b[0m\n",
      "\u001b[01;35mimg_LIDC-IDRI-0543_1_438.jpg\u001b[0m         \u001b[01;35mimg_out_LIDC-IDRI-0835_1_6_136.jpg\u001b[0m\n",
      "\u001b[01;35mimg_LIDC-IDRI-0543_1_439.jpg\u001b[0m         \u001b[01;35mimg_out_LIDC-IDRI-0835_1_7_136.jpg\u001b[0m\n",
      "\u001b[01;35mimg_LIDC-IDRI-0549_0_85.jpg\u001b[0m          \u001b[01;35mimg_out_LIDC-IDRI-0835_1_8_137.jpg\u001b[0m\n",
      "\u001b[01;35mimg_LIDC-IDRI-0549_0_86.jpg\u001b[0m          \u001b[01;35mimg_out_LIDC-IDRI-0835_1_9_137.jpg\u001b[0m\n",
      "\u001b[01;35mimg_LIDC-IDRI-0549_0_87.jpg\u001b[0m          \u001b[01;35mimg_out_LIDC-IDRI-0861_0_0_50.jpg\u001b[0m\n",
      "\u001b[01;35mimg_LIDC-IDRI-0549_0_88.jpg\u001b[0m          \u001b[01;35mimg_out_LIDC-IDRI-0861_0_1_50.jpg\u001b[0m\n",
      "\u001b[01;35mimg_LIDC-IDRI-0549_0_89.jpg\u001b[0m          \u001b[01;35mimg_out_LIDC-IDRI-0861_0_2_51.jpg\u001b[0m\n",
      "\u001b[01;35mimg_LIDC-IDRI-0549_0_90.jpg\u001b[0m          \u001b[01;35mimg_out_LIDC-IDRI-0861_0_3_51.jpg\u001b[0m\n",
      "\u001b[01;35mimg_LIDC-IDRI-0549_0_91.jpg\u001b[0m          \u001b[01;35mimg_out_LIDC-IDRI-0861_0_4_52.jpg\u001b[0m\n",
      "\u001b[01;35mimg_LIDC-IDRI-0549_1_100.jpg\u001b[0m         \u001b[01;35mimg_out_LIDC-IDRI-0861_0_5_52.jpg\u001b[0m\n",
      "\u001b[01;35mimg_LIDC-IDRI-0549_1_101.jpg\u001b[0m         \u001b[01;35mimg_out_LIDC-IDRI-0865_0_0_38.jpg\u001b[0m\n",
      "\u001b[01;35mimg_LIDC-IDRI-0549_1_102.jpg\u001b[0m         \u001b[01;35mimg_out_LIDC-IDRI-0865_0_10_43.jpg\u001b[0m\n",
      "\u001b[01;35mimg_LIDC-IDRI-0549_1_103.jpg\u001b[0m         \u001b[01;35mimg_out_LIDC-IDRI-0865_0_11_43.jpg\u001b[0m\n",
      "\u001b[01;35mimg_LIDC-IDRI-0549_2_112.jpg\u001b[0m         \u001b[01;35mimg_out_LIDC-IDRI-0865_0_12_44.jpg\u001b[0m\n",
      "\u001b[01;35mimg_LIDC-IDRI-0549_2_113.jpg\u001b[0m         \u001b[01;35mimg_out_LIDC-IDRI-0865_0_13_44.jpg\u001b[0m\n",
      "\u001b[01;35mimg_LIDC-IDRI-0549_2_114.jpg\u001b[0m         \u001b[01;35mimg_out_LIDC-IDRI-0865_0_14_45.jpg\u001b[0m\n",
      "\u001b[01;35mimg_LIDC-IDRI-0549_2_115.jpg\u001b[0m         \u001b[01;35mimg_out_LIDC-IDRI-0865_0_15_45.jpg\u001b[0m\n",
      "\u001b[01;35mimg_LIDC-IDRI-0549_3_121.jpg\u001b[0m         \u001b[01;35mimg_out_LIDC-IDRI-0865_0_16_46.jpg\u001b[0m\n",
      "\u001b[01;35mimg_LIDC-IDRI-0549_3_122.jpg\u001b[0m         \u001b[01;35mimg_out_LIDC-IDRI-0865_0_17_46.jpg\u001b[0m\n",
      "\u001b[01;35mimg_LIDC-IDRI-0549_3_123.jpg\u001b[0m         \u001b[01;35mimg_out_LIDC-IDRI-0865_0_18_47.jpg\u001b[0m\n",
      "\u001b[01;35mimg_LIDC-IDRI-0549_3_124.jpg\u001b[0m         \u001b[01;35mimg_out_LIDC-IDRI-0865_0_19_47.jpg\u001b[0m\n",
      "\u001b[01;35mimg_LIDC-IDRI-0549_3_125.jpg\u001b[0m         \u001b[01;35mimg_out_LIDC-IDRI-0865_0_1_38.jpg\u001b[0m\n",
      "\u001b[01;35mimg_LIDC-IDRI-0549_3_126.jpg\u001b[0m         \u001b[01;35mimg_out_LIDC-IDRI-0865_0_2_39.jpg\u001b[0m\n",
      "\u001b[01;35mimg_LIDC-IDRI-0549_4_132.jpg\u001b[0m         \u001b[01;35mimg_out_LIDC-IDRI-0865_0_3_39.jpg\u001b[0m\n",
      "\u001b[01;35mimg_LIDC-IDRI-0549_4_133.jpg\u001b[0m         \u001b[01;35mimg_out_LIDC-IDRI-0865_0_4_40.jpg\u001b[0m\n",
      "\u001b[01;35mimg_LIDC-IDRI-0549_4_134.jpg\u001b[0m         \u001b[01;35mimg_out_LIDC-IDRI-0865_0_5_40.jpg\u001b[0m\n",
      "\u001b[01;35mimg_LIDC-IDRI-0549_4_135.jpg\u001b[0m         \u001b[01;35mimg_out_LIDC-IDRI-0865_0_6_41.jpg\u001b[0m\n",
      "\u001b[01;35mimg_LIDC-IDRI-0549_4_136.jpg\u001b[0m         \u001b[01;35mimg_out_LIDC-IDRI-0865_0_7_41.jpg\u001b[0m\n",
      "\u001b[01;35mimg_LIDC-IDRI-0549_4_137.jpg\u001b[0m         \u001b[01;35mimg_out_LIDC-IDRI-0865_0_8_42.jpg\u001b[0m\n",
      "\u001b[01;35mimg_LIDC-IDRI-0550_0_54.jpg\u001b[0m          \u001b[01;35mimg_out_LIDC-IDRI-0865_0_9_42.jpg\u001b[0m\n",
      "\u001b[01;35mimg_LIDC-IDRI-0550_0_55.jpg\u001b[0m          \u001b[01;35mimg_out_LIDC-IDRI-0866_0_0_50.jpg\u001b[0m\n",
      "\u001b[01;35mimg_LIDC-IDRI-0550_0_56.jpg\u001b[0m          \u001b[01;35mimg_out_LIDC-IDRI-0866_0_1_50.jpg\u001b[0m\n",
      "\u001b[01;35mimg_LIDC-IDRI-0550_0_57.jpg\u001b[0m          \u001b[01;35mimg_out_LIDC-IDRI-0866_0_2_51.jpg\u001b[0m\n",
      "\u001b[01;35mimg_LIDC-IDRI-0550_0_58.jpg\u001b[0m          \u001b[01;35mimg_out_LIDC-IDRI-0866_0_3_51.jpg\u001b[0m\n",
      "\u001b[01;35mimg_LIDC-IDRI-0578_0_72.jpg\u001b[0m          \u001b[01;35mimg_out_LIDC-IDRI-0866_0_4_52.jpg\u001b[0m\n",
      "\u001b[01;35mimg_LIDC-IDRI-0578_0_73.jpg\u001b[0m          \u001b[01;35mimg_out_LIDC-IDRI-0866_0_6_53.jpg\u001b[0m\n",
      "\u001b[01;35mimg_LIDC-IDRI-0580_0_156.jpg\u001b[0m         \u001b[01;35mimg_out_LIDC-IDRI-0866_0_7_53.jpg\u001b[0m\n",
      "\u001b[01;35mimg_LIDC-IDRI-0580_0_157.jpg\u001b[0m         \u001b[01;35mimg_out_LIDC-IDRI-0866_0_8_54.jpg\u001b[0m\n",
      "\u001b[01;35mimg_LIDC-IDRI-0580_0_158.jpg\u001b[0m         \u001b[01;35mimg_out_LIDC-IDRI-0866_0_9_54.jpg\u001b[0m\n",
      "\u001b[01;35mimg_LIDC-IDRI-0580_0_159.jpg\u001b[0m         \u001b[01;35mimg_out_LIDC-IDRI-0866_1_1_52.jpg\u001b[0m\n",
      "\u001b[01;35mimg_LIDC-IDRI-0580_0_160.jpg\u001b[0m         \u001b[01;35mimg_out_LIDC-IDRI-0866_1_2_53.jpg\u001b[0m\n",
      "\u001b[01;35mimg_LIDC-IDRI-0580_0_161.jpg\u001b[0m         \u001b[01;35mimg_out_LIDC-IDRI-0866_1_4_54.jpg\u001b[0m\n",
      "\u001b[01;35mimg_LIDC-IDRI-0583_0_157.jpg\u001b[0m         \u001b[01;35mimg_out_LIDC-IDRI-0866_2_0_104.jpg\u001b[0m\n",
      "\u001b[01;35mimg_LIDC-IDRI-0583_0_158.jpg\u001b[0m         \u001b[01;35mimg_out_LIDC-IDRI-0866_2_1_104.jpg\u001b[0m\n",
      "\u001b[01;35mimg_LIDC-IDRI-0583_0_159.jpg\u001b[0m         \u001b[01;35mimg_out_LIDC-IDRI-0866_2_2_105.jpg\u001b[0m\n",
      "\u001b[01;35mimg_LIDC-IDRI-0583_0_160.jpg\u001b[0m         \u001b[01;35mimg_out_LIDC-IDRI-0866_2_3_105.jpg\u001b[0m\n",
      "\u001b[01;35mimg_LIDC-IDRI-0583_0_161.jpg\u001b[0m         \u001b[01;35mimg_out_LIDC-IDRI-0866_2_4_106.jpg\u001b[0m\n",
      "\u001b[01;35mimg_LIDC-IDRI-0583_0_162.jpg\u001b[0m         \u001b[01;35mimg_out_LIDC-IDRI-0866_2_5_106.jpg\u001b[0m\n",
      "\u001b[01;35mimg_LIDC-IDRI-0583_1_205.jpg\u001b[0m         \u001b[01;35mimg_out_LIDC-IDRI-0866_2_6_107.jpg\u001b[0m\n",
      "\u001b[01;35mimg_LIDC-IDRI-0583_1_206.jpg\u001b[0m         \u001b[01;35mimg_out_LIDC-IDRI-0866_2_7_107.jpg\u001b[0m\n",
      "\u001b[01;35mimg_LIDC-IDRI-0583_1_207.jpg\u001b[0m         \u001b[01;35mimg_out_LIDC-IDRI-0879_0_0_106.jpg\u001b[0m\n",
      "\u001b[01;35mimg_LIDC-IDRI-0583_1_208.jpg\u001b[0m         \u001b[01;35mimg_out_LIDC-IDRI-0879_0_10_111.jpg\u001b[0m\n",
      "\u001b[01;35mimg_LIDC-IDRI-0583_1_209.jpg\u001b[0m         \u001b[01;35mimg_out_LIDC-IDRI-0879_0_11_111.jpg\u001b[0m\n",
      "\u001b[01;35mimg_LIDC-IDRI-0583_1_210.jpg\u001b[0m         \u001b[01;35mimg_out_LIDC-IDRI-0879_0_12_112.jpg\u001b[0m\n",
      "\u001b[01;35mimg_LIDC-IDRI-0583_1_211.jpg\u001b[0m         \u001b[01;35mimg_out_LIDC-IDRI-0879_0_13_112.jpg\u001b[0m\n",
      "\u001b[01;35mimg_LIDC-IDRI-0583_1_212.jpg\u001b[0m         \u001b[01;35mimg_out_LIDC-IDRI-0879_0_1_106.jpg\u001b[0m\n",
      "\u001b[01;35mimg_LIDC-IDRI-0583_1_213.jpg\u001b[0m         \u001b[01;35mimg_out_LIDC-IDRI-0879_0_2_107.jpg\u001b[0m\n",
      "\u001b[01;35mimg_LIDC-IDRI-0583_1_214.jpg\u001b[0m         \u001b[01;35mimg_out_LIDC-IDRI-0879_0_3_107.jpg\u001b[0m\n",
      "\u001b[01;35mimg_LIDC-IDRI-0583_1_215.jpg\u001b[0m         \u001b[01;35mimg_out_LIDC-IDRI-0879_0_4_108.jpg\u001b[0m\n",
      "\u001b[01;35mimg_LIDC-IDRI-0583_1_216.jpg\u001b[0m         \u001b[01;35mimg_out_LIDC-IDRI-0879_0_5_108.jpg\u001b[0m\n",
      "\u001b[01;35mimg_LIDC-IDRI-0583_1_217.jpg\u001b[0m         \u001b[01;35mimg_out_LIDC-IDRI-0879_0_6_109.jpg\u001b[0m\n",
      "\u001b[01;35mimg_LIDC-IDRI-0583_1_218.jpg\u001b[0m         \u001b[01;35mimg_out_LIDC-IDRI-0879_0_7_109.jpg\u001b[0m\n",
      "\u001b[01;35mimg_LIDC-IDRI-0583_1_219.jpg\u001b[0m         \u001b[01;35mimg_out_LIDC-IDRI-0879_0_8_110.jpg\u001b[0m\n",
      "\u001b[01;35mimg_LIDC-IDRI-0649_0_66.jpg\u001b[0m          \u001b[01;35mimg_out_LIDC-IDRI-0879_0_9_110.jpg\u001b[0m\n",
      "\u001b[01;35mimg_LIDC-IDRI-0649_0_67.jpg\u001b[0m          \u001b[01;35mimg_out_LIDC-IDRI-0879_1_0_229.jpg\u001b[0m\n",
      "\u001b[01;35mimg_LIDC-IDRI-0649_0_68.jpg\u001b[0m          \u001b[01;35mimg_out_LIDC-IDRI-0879_1_1_229.jpg\u001b[0m\n",
      "\u001b[01;35mimg_LIDC-IDRI-0649_0_69.jpg\u001b[0m          \u001b[01;35mimg_out_LIDC-IDRI-0879_1_2_230.jpg\u001b[0m\n",
      "\u001b[01;35mimg_LIDC-IDRI-0649_1_67.jpg\u001b[0m          \u001b[01;35mimg_out_LIDC-IDRI-0879_1_3_230.jpg\u001b[0m\n",
      "\u001b[01;35mimg_LIDC-IDRI-0649_1_68.jpg\u001b[0m          \u001b[01;35mimg_out_LIDC-IDRI-0879_1_4_231.jpg\u001b[0m\n",
      "\u001b[01;35mimg_LIDC-IDRI-0649_1_69.jpg\u001b[0m          \u001b[01;35mimg_out_LIDC-IDRI-0879_1_5_231.jpg\u001b[0m\n",
      "\u001b[01;35mimg_LIDC-IDRI-0649_1_70.jpg\u001b[0m          \u001b[01;35mimg_out_LIDC-IDRI-0879_1_6_232.jpg\u001b[0m\n",
      "\u001b[01;35mimg_LIDC-IDRI-0649_2_80.jpg\u001b[0m          \u001b[01;35mimg_out_LIDC-IDRI-0879_1_7_232.jpg\u001b[0m\n",
      "\u001b[01;35mimg_LIDC-IDRI-0649_2_81.jpg\u001b[0m          \u001b[01;35mimg_out_LIDC-IDRI-0879_1_8_233.jpg\u001b[0m\n",
      "\u001b[01;35mimg_LIDC-IDRI-0649_2_82.jpg\u001b[0m          \u001b[01;35mimg_out_LIDC-IDRI-0879_1_9_233.jpg\u001b[0m\n",
      "\u001b[01;35mimg_LIDC-IDRI-0649_2_83.jpg\u001b[0m          \u001b[01;35mimg_out_LIDC-IDRI-0884_0_0_180.jpg\u001b[0m\n",
      "\u001b[01;35mimg_LIDC-IDRI-0649_3_101.jpg\u001b[0m         \u001b[01;35mimg_out_LIDC-IDRI-0884_0_10_185.jpg\u001b[0m\n",
      "\u001b[01;35mimg_LIDC-IDRI-0649_3_102.jpg\u001b[0m         \u001b[01;35mimg_out_LIDC-IDRI-0884_0_11_185.jpg\u001b[0m\n",
      "\u001b[01;35mimg_LIDC-IDRI-0649_4_121.jpg\u001b[0m         \u001b[01;35mimg_out_LIDC-IDRI-0884_0_12_186.jpg\u001b[0m\n",
      "\u001b[01;35mimg_LIDC-IDRI-0649_4_122.jpg\u001b[0m         \u001b[01;35mimg_out_LIDC-IDRI-0884_0_13_186.jpg\u001b[0m\n",
      "\u001b[01;35mimg_LIDC-IDRI-0649_4_123.jpg\u001b[0m         \u001b[01;35mimg_out_LIDC-IDRI-0884_0_14_187.jpg\u001b[0m\n",
      "\u001b[01;35mimg_LIDC-IDRI-0649_5_136.jpg\u001b[0m         \u001b[01;35mimg_out_LIDC-IDRI-0884_0_15_187.jpg\u001b[0m\n",
      "\u001b[01;35mimg_LIDC-IDRI-0649_5_137.jpg\u001b[0m         \u001b[01;35mimg_out_LIDC-IDRI-0884_0_16_188.jpg\u001b[0m\n",
      "\u001b[01;35mimg_LIDC-IDRI-0649_6_207.jpg\u001b[0m         \u001b[01;35mimg_out_LIDC-IDRI-0884_0_17_188.jpg\u001b[0m\n",
      "\u001b[01;35mimg_LIDC-IDRI-0649_6_208.jpg\u001b[0m         \u001b[01;35mimg_out_LIDC-IDRI-0884_0_18_189.jpg\u001b[0m\n",
      "\u001b[01;35mimg_LIDC-IDRI-0649_6_209.jpg\u001b[0m         \u001b[01;35mimg_out_LIDC-IDRI-0884_0_19_189.jpg\u001b[0m\n",
      "\u001b[01;35mimg_LIDC-IDRI-0673_0_194.jpg\u001b[0m         \u001b[01;35mimg_out_LIDC-IDRI-0884_0_1_180.jpg\u001b[0m\n",
      "\u001b[01;35mimg_LIDC-IDRI-0673_0_195.jpg\u001b[0m         \u001b[01;35mimg_out_LIDC-IDRI-0884_0_20_190.jpg\u001b[0m\n",
      "\u001b[01;35mimg_LIDC-IDRI-0673_0_196.jpg\u001b[0m         \u001b[01;35mimg_out_LIDC-IDRI-0884_0_21_190.jpg\u001b[0m\n",
      "\u001b[01;35mimg_LIDC-IDRI-0673_0_197.jpg\u001b[0m         \u001b[01;35mimg_out_LIDC-IDRI-0884_0_22_191.jpg\u001b[0m\n",
      "\u001b[01;35mimg_LIDC-IDRI-0673_0_198.jpg\u001b[0m         \u001b[01;35mimg_out_LIDC-IDRI-0884_0_23_191.jpg\u001b[0m\n",
      "\u001b[01;35mimg_LIDC-IDRI-0673_0_199.jpg\u001b[0m         \u001b[01;35mimg_out_LIDC-IDRI-0884_0_24_192.jpg\u001b[0m\n",
      "\u001b[01;35mimg_LIDC-IDRI-0673_0_200.jpg\u001b[0m         \u001b[01;35mimg_out_LIDC-IDRI-0884_0_25_192.jpg\u001b[0m\n",
      "\u001b[01;35mimg_LIDC-IDRI-0673_0_201.jpg\u001b[0m         \u001b[01;35mimg_out_LIDC-IDRI-0884_0_26_193.jpg\u001b[0m\n",
      "\u001b[01;35mimg_LIDC-IDRI-0673_0_202.jpg\u001b[0m         \u001b[01;35mimg_out_LIDC-IDRI-0884_0_27_193.jpg\u001b[0m\n",
      "\u001b[01;35mimg_LIDC-IDRI-0673_0_203.jpg\u001b[0m         \u001b[01;35mimg_out_LIDC-IDRI-0884_0_28_194.jpg\u001b[0m\n",
      "\u001b[01;35mimg_LIDC-IDRI-0673_0_204.jpg\u001b[0m         \u001b[01;35mimg_out_LIDC-IDRI-0884_0_29_194.jpg\u001b[0m\n",
      "\u001b[01;35mimg_LIDC-IDRI-0673_1_269.jpg\u001b[0m         \u001b[01;35mimg_out_LIDC-IDRI-0884_0_2_181.jpg\u001b[0m\n",
      "\u001b[01;35mimg_LIDC-IDRI-0673_1_270.jpg\u001b[0m         \u001b[01;35mimg_out_LIDC-IDRI-0884_0_30_195.jpg\u001b[0m\n",
      "\u001b[01;35mimg_LIDC-IDRI-0673_1_271.jpg\u001b[0m         \u001b[01;35mimg_out_LIDC-IDRI-0884_0_31_195.jpg\u001b[0m\n",
      "\u001b[01;35mimg_LIDC-IDRI-0673_1_272.jpg\u001b[0m         \u001b[01;35mimg_out_LIDC-IDRI-0884_0_32_196.jpg\u001b[0m\n",
      "\u001b[01;35mimg_LIDC-IDRI-0673_1_273.jpg\u001b[0m         \u001b[01;35mimg_out_LIDC-IDRI-0884_0_33_196.jpg\u001b[0m\n",
      "\u001b[01;35mimg_LIDC-IDRI-0673_1_274.jpg\u001b[0m         \u001b[01;35mimg_out_LIDC-IDRI-0884_0_34_197.jpg\u001b[0m\n",
      "\u001b[01;35mimg_LIDC-IDRI-0673_1_275.jpg\u001b[0m         \u001b[01;35mimg_out_LIDC-IDRI-0884_0_35_197.jpg\u001b[0m\n",
      "\u001b[01;35mimg_LIDC-IDRI-0701_0_248.jpg\u001b[0m         \u001b[01;35mimg_out_LIDC-IDRI-0884_0_36_198.jpg\u001b[0m\n",
      "\u001b[01;35mimg_LIDC-IDRI-0701_0_249.jpg\u001b[0m         \u001b[01;35mimg_out_LIDC-IDRI-0884_0_37_198.jpg\u001b[0m\n",
      "\u001b[01;35mimg_LIDC-IDRI-0701_0_250.jpg\u001b[0m         \u001b[01;35mimg_out_LIDC-IDRI-0884_0_3_181.jpg\u001b[0m\n",
      "\u001b[01;35mimg_LIDC-IDRI-0701_0_251.jpg\u001b[0m         \u001b[01;35mimg_out_LIDC-IDRI-0884_0_4_182.jpg\u001b[0m\n",
      "\u001b[01;35mimg_LIDC-IDRI-0701_0_252.jpg\u001b[0m         \u001b[01;35mimg_out_LIDC-IDRI-0884_0_5_182.jpg\u001b[0m\n",
      "\u001b[01;35mimg_LIDC-IDRI-0701_0_253.jpg\u001b[0m         \u001b[01;35mimg_out_LIDC-IDRI-0884_0_6_183.jpg\u001b[0m\n",
      "\u001b[01;35mimg_LIDC-IDRI-0701_0_254.jpg\u001b[0m         \u001b[01;35mimg_out_LIDC-IDRI-0884_0_7_183.jpg\u001b[0m\n",
      "\u001b[01;35mimg_LIDC-IDRI-0701_0_255.jpg\u001b[0m         \u001b[01;35mimg_out_LIDC-IDRI-0884_0_8_184.jpg\u001b[0m\n",
      "\u001b[01;35mimg_LIDC-IDRI-0701_1_250.jpg\u001b[0m         \u001b[01;35mimg_out_LIDC-IDRI-0884_0_9_184.jpg\u001b[0m\n",
      "\u001b[01;35mimg_LIDC-IDRI-0701_1_251.jpg\u001b[0m         \u001b[01;35mimg_out_LIDC-IDRI-0902_0_0_86.jpg\u001b[0m\n",
      "\u001b[01;35mimg_LIDC-IDRI-0701_1_252.jpg\u001b[0m         \u001b[01;35mimg_out_LIDC-IDRI-0902_0_10_91.jpg\u001b[0m\n",
      "\u001b[01;35mimg_LIDC-IDRI-0701_1_253.jpg\u001b[0m         \u001b[01;35mimg_out_LIDC-IDRI-0902_0_11_91.jpg\u001b[0m\n",
      "\u001b[01;35mimg_LIDC-IDRI-0701_1_254.jpg\u001b[0m         \u001b[01;35mimg_out_LIDC-IDRI-0902_0_12_92.jpg\u001b[0m\n",
      "\u001b[01;35mimg_LIDC-IDRI-0706_0_85.jpg\u001b[0m          \u001b[01;35mimg_out_LIDC-IDRI-0902_0_13_92.jpg\u001b[0m\n",
      "\u001b[01;35mimg_LIDC-IDRI-0706_0_86.jpg\u001b[0m          \u001b[01;35mimg_out_LIDC-IDRI-0902_0_14_93.jpg\u001b[0m\n",
      "\u001b[01;35mimg_LIDC-IDRI-0712_0_42.jpg\u001b[0m          \u001b[01;35mimg_out_LIDC-IDRI-0902_0_15_93.jpg\u001b[0m\n",
      "\u001b[01;35mimg_LIDC-IDRI-0712_0_43.jpg\u001b[0m          \u001b[01;35mimg_out_LIDC-IDRI-0902_0_16_94.jpg\u001b[0m\n",
      "\u001b[01;35mimg_LIDC-IDRI-0712_0_44.jpg\u001b[0m          \u001b[01;35mimg_out_LIDC-IDRI-0902_0_17_94.jpg\u001b[0m\n",
      "\u001b[01;35mimg_LIDC-IDRI-0712_0_45.jpg\u001b[0m          \u001b[01;35mimg_out_LIDC-IDRI-0902_0_18_95.jpg\u001b[0m\n",
      "\u001b[01;35mimg_LIDC-IDRI-0712_0_46.jpg\u001b[0m          \u001b[01;35mimg_out_LIDC-IDRI-0902_0_19_95.jpg\u001b[0m\n",
      "\u001b[01;35mimg_LIDC-IDRI-0712_0_47.jpg\u001b[0m          \u001b[01;35mimg_out_LIDC-IDRI-0902_0_1_86.jpg\u001b[0m\n",
      "\u001b[01;35mimg_LIDC-IDRI-0720_0_147.jpg\u001b[0m         \u001b[01;35mimg_out_LIDC-IDRI-0902_0_20_96.jpg\u001b[0m\n",
      "\u001b[01;35mimg_LIDC-IDRI-0720_0_148.jpg\u001b[0m         \u001b[01;35mimg_out_LIDC-IDRI-0902_0_21_96.jpg\u001b[0m\n",
      "\u001b[01;35mimg_LIDC-IDRI-0720_0_149.jpg\u001b[0m         \u001b[01;35mimg_out_LIDC-IDRI-0902_0_22_97.jpg\u001b[0m\n",
      "\u001b[01;35mimg_LIDC-IDRI-0720_0_150.jpg\u001b[0m         \u001b[01;35mimg_out_LIDC-IDRI-0902_0_23_97.jpg\u001b[0m\n",
      "\u001b[01;35mimg_LIDC-IDRI-0732_0_126.jpg\u001b[0m         \u001b[01;35mimg_out_LIDC-IDRI-0902_0_24_98.jpg\u001b[0m\n",
      "\u001b[01;35mimg_LIDC-IDRI-0732_0_127.jpg\u001b[0m         \u001b[01;35mimg_out_LIDC-IDRI-0902_0_25_98.jpg\u001b[0m\n",
      "\u001b[01;35mimg_LIDC-IDRI-0732_0_128.jpg\u001b[0m         \u001b[01;35mimg_out_LIDC-IDRI-0902_0_26_99.jpg\u001b[0m\n",
      "\u001b[01;35mimg_LIDC-IDRI-0732_0_129.jpg\u001b[0m         \u001b[01;35mimg_out_LIDC-IDRI-0902_0_27_99.jpg\u001b[0m\n",
      "\u001b[01;35mimg_LIDC-IDRI-0732_0_130.jpg\u001b[0m         \u001b[01;35mimg_out_LIDC-IDRI-0902_0_28_100.jpg\u001b[0m\n",
      "\u001b[01;35mimg_LIDC-IDRI-0732_0_131.jpg\u001b[0m         \u001b[01;35mimg_out_LIDC-IDRI-0902_0_29_100.jpg\u001b[0m\n",
      "\u001b[01;35mimg_LIDC-IDRI-0732_0_132.jpg\u001b[0m         \u001b[01;35mimg_out_LIDC-IDRI-0902_0_2_87.jpg\u001b[0m\n",
      "\u001b[01;35mimg_LIDC-IDRI-0735_0_227.jpg\u001b[0m         \u001b[01;35mimg_out_LIDC-IDRI-0902_0_3_87.jpg\u001b[0m\n",
      "\u001b[01;35mimg_LIDC-IDRI-0735_0_228.jpg\u001b[0m         \u001b[01;35mimg_out_LIDC-IDRI-0902_0_4_88.jpg\u001b[0m\n",
      "\u001b[01;35mimg_LIDC-IDRI-0735_0_229.jpg\u001b[0m         \u001b[01;35mimg_out_LIDC-IDRI-0902_0_5_88.jpg\u001b[0m\n",
      "\u001b[01;35mimg_LIDC-IDRI-0735_0_230.jpg\u001b[0m         \u001b[01;35mimg_out_LIDC-IDRI-0902_0_6_89.jpg\u001b[0m\n",
      "\u001b[01;35mimg_LIDC-IDRI-0735_0_231.jpg\u001b[0m         \u001b[01;35mimg_out_LIDC-IDRI-0902_0_7_89.jpg\u001b[0m\n",
      "\u001b[01;35mimg_LIDC-IDRI-0791_0_155.jpg\u001b[0m         \u001b[01;35mimg_out_LIDC-IDRI-0902_0_8_90.jpg\u001b[0m\n",
      "\u001b[01;35mimg_LIDC-IDRI-0791_0_156.jpg\u001b[0m         \u001b[01;35mimg_out_LIDC-IDRI-0902_0_9_90.jpg\u001b[0m\n",
      "\u001b[01;35mimg_LIDC-IDRI-0791_0_157.jpg\u001b[0m         \u001b[01;35mimg_out_LIDC-IDRI-0910_0_0_45.jpg\u001b[0m\n",
      "\u001b[01;35mimg_LIDC-IDRI-0791_0_158.jpg\u001b[0m         \u001b[01;35mimg_out_LIDC-IDRI-0910_0_10_50.jpg\u001b[0m\n",
      "\u001b[01;35mimg_LIDC-IDRI-0791_0_159.jpg\u001b[0m         \u001b[01;35mimg_out_LIDC-IDRI-0910_0_11_50.jpg\u001b[0m\n",
      "\u001b[01;35mimg_LIDC-IDRI-0791_0_160.jpg\u001b[0m         \u001b[01;35mimg_out_LIDC-IDRI-0910_0_12_51.jpg\u001b[0m\n",
      "\u001b[01;35mimg_LIDC-IDRI-0791_0_161.jpg\u001b[0m         \u001b[01;35mimg_out_LIDC-IDRI-0910_0_13_51.jpg\u001b[0m\n",
      "\u001b[01;35mimg_LIDC-IDRI-0791_0_162.jpg\u001b[0m         \u001b[01;35mimg_out_LIDC-IDRI-0910_0_1_45.jpg\u001b[0m\n",
      "\u001b[01;35mimg_LIDC-IDRI-0791_0_163.jpg\u001b[0m         \u001b[01;35mimg_out_LIDC-IDRI-0910_0_2_46.jpg\u001b[0m\n",
      "\u001b[01;35mimg_LIDC-IDRI-0791_0_164.jpg\u001b[0m         \u001b[01;35mimg_out_LIDC-IDRI-0910_0_3_46.jpg\u001b[0m\n",
      "\u001b[01;35mimg_LIDC-IDRI-0791_0_165.jpg\u001b[0m         \u001b[01;35mimg_out_LIDC-IDRI-0910_0_4_47.jpg\u001b[0m\n",
      "\u001b[01;35mimg_LIDC-IDRI-0791_0_166.jpg\u001b[0m         \u001b[01;35mimg_out_LIDC-IDRI-0910_0_5_47.jpg\u001b[0m\n",
      "\u001b[01;35mimg_LIDC-IDRI-0791_0_167.jpg\u001b[0m         \u001b[01;35mimg_out_LIDC-IDRI-0910_0_6_48.jpg\u001b[0m\n",
      "\u001b[01;35mimg_LIDC-IDRI-0791_0_168.jpg\u001b[0m         \u001b[01;35mimg_out_LIDC-IDRI-0910_0_7_48.jpg\u001b[0m\n",
      "\u001b[01;35mimg_LIDC-IDRI-0791_0_169.jpg\u001b[0m         \u001b[01;35mimg_out_LIDC-IDRI-0910_0_8_49.jpg\u001b[0m\n",
      "\u001b[01;35mimg_LIDC-IDRI-0791_0_170.jpg\u001b[0m         \u001b[01;35mimg_out_LIDC-IDRI-0910_0_9_49.jpg\u001b[0m\n",
      "\u001b[01;35mimg_LIDC-IDRI-0791_0_171.jpg\u001b[0m         \u001b[01;35mimg_out_LIDC-IDRI-0910_1_0_92.jpg\u001b[0m\n",
      "\u001b[01;35mimg_LIDC-IDRI-0791_0_172.jpg\u001b[0m         \u001b[01;35mimg_out_LIDC-IDRI-0910_1_1_92.jpg\u001b[0m\n",
      "\u001b[01;35mimg_LIDC-IDRI-0794_0_264.jpg\u001b[0m         \u001b[01;35mimg_out_LIDC-IDRI-0910_1_2_93.jpg\u001b[0m\n",
      "\u001b[01;35mimg_LIDC-IDRI-0794_0_265.jpg\u001b[0m         \u001b[01;35mimg_out_LIDC-IDRI-0910_1_3_93.jpg\u001b[0m\n",
      "\u001b[01;35mimg_LIDC-IDRI-0794_0_266.jpg\u001b[0m         \u001b[01;35mimg_out_LIDC-IDRI-0910_1_4_94.jpg\u001b[0m\n",
      "\u001b[01;35mimg_LIDC-IDRI-0794_0_267.jpg\u001b[0m         \u001b[01;35mimg_out_LIDC-IDRI-0910_1_5_94.jpg\u001b[0m\n",
      "\u001b[01;35mimg_LIDC-IDRI-0794_0_268.jpg\u001b[0m         \u001b[01;35mimg_out_LIDC-IDRI-0910_1_6_95.jpg\u001b[0m\n",
      "\u001b[01;35mimg_LIDC-IDRI-0794_0_269.jpg\u001b[0m         \u001b[01;35mimg_out_LIDC-IDRI-0910_1_7_95.jpg\u001b[0m\n",
      "\u001b[01;35mimg_LIDC-IDRI-0794_0_270.jpg\u001b[0m         \u001b[01;35mimg_out_LIDC-IDRI-0910_1_8_96.jpg\u001b[0m\n",
      "\u001b[01;35mimg_LIDC-IDRI-0794_0_271.jpg\u001b[0m         \u001b[01;35mimg_out_LIDC-IDRI-0910_1_9_96.jpg\u001b[0m\n",
      "\u001b[01;35mimg_LIDC-IDRI-0794_0_272.jpg\u001b[0m         \u001b[01;35mimg_out_LIDC-IDRI-0911_0_0_116.jpg\u001b[0m\n",
      "\u001b[01;35mimg_LIDC-IDRI-0806_0_253.jpg\u001b[0m         \u001b[01;35mimg_out_LIDC-IDRI-0911_0_10_121.jpg\u001b[0m\n",
      "\u001b[01;35mimg_LIDC-IDRI-0806_0_254.jpg\u001b[0m         \u001b[01;35mimg_out_LIDC-IDRI-0911_0_11_121.jpg\u001b[0m\n",
      "\u001b[01;35mimg_LIDC-IDRI-0806_0_255.jpg\u001b[0m         \u001b[01;35mimg_out_LIDC-IDRI-0911_0_12_122.jpg\u001b[0m\n",
      "\u001b[01;35mimg_LIDC-IDRI-0806_0_256.jpg\u001b[0m         \u001b[01;35mimg_out_LIDC-IDRI-0911_0_13_122.jpg\u001b[0m\n",
      "\u001b[01;35mimg_LIDC-IDRI-0806_0_257.jpg\u001b[0m         \u001b[01;35mimg_out_LIDC-IDRI-0911_0_1_116.jpg\u001b[0m\n",
      "\u001b[01;35mimg_LIDC-IDRI-0828_0_131.jpg\u001b[0m         \u001b[01;35mimg_out_LIDC-IDRI-0911_0_2_117.jpg\u001b[0m\n",
      "\u001b[01;35mimg_LIDC-IDRI-0828_0_132.jpg\u001b[0m         \u001b[01;35mimg_out_LIDC-IDRI-0911_0_3_117.jpg\u001b[0m\n",
      "\u001b[01;35mimg_LIDC-IDRI-0828_0_133.jpg\u001b[0m         \u001b[01;35mimg_out_LIDC-IDRI-0911_0_4_118.jpg\u001b[0m\n",
      "\u001b[01;35mimg_LIDC-IDRI-0835_0_107.jpg\u001b[0m         \u001b[01;35mimg_out_LIDC-IDRI-0911_0_5_118.jpg\u001b[0m\n",
      "\u001b[01;35mimg_LIDC-IDRI-0835_0_108.jpg\u001b[0m         \u001b[01;35mimg_out_LIDC-IDRI-0911_0_6_119.jpg\u001b[0m\n",
      "\u001b[01;35mimg_LIDC-IDRI-0835_0_109.jpg\u001b[0m         \u001b[01;35mimg_out_LIDC-IDRI-0911_0_7_119.jpg\u001b[0m\n",
      "\u001b[01;35mimg_LIDC-IDRI-0835_0_110.jpg\u001b[0m         \u001b[01;35mimg_out_LIDC-IDRI-0911_0_8_120.jpg\u001b[0m\n",
      "\u001b[01;35mimg_LIDC-IDRI-0835_0_111.jpg\u001b[0m         \u001b[01;35mimg_out_LIDC-IDRI-0911_0_9_120.jpg\u001b[0m\n",
      "\u001b[01;35mimg_LIDC-IDRI-0835_0_112.jpg\u001b[0m         \u001b[01;35mimg_out_LIDC-IDRI-0914_0_0_101.jpg\u001b[0m\n",
      "\u001b[01;35mimg_LIDC-IDRI-0835_1_133.jpg\u001b[0m         \u001b[01;35mimg_out_LIDC-IDRI-0914_0_1_101.jpg\u001b[0m\n",
      "\u001b[01;35mimg_LIDC-IDRI-0835_1_134.jpg\u001b[0m         \u001b[01;35mimg_out_LIDC-IDRI-0914_0_2_102.jpg\u001b[0m\n",
      "\u001b[01;35mimg_LIDC-IDRI-0835_1_135.jpg\u001b[0m         \u001b[01;35mimg_out_LIDC-IDRI-0914_0_3_102.jpg\u001b[0m\n",
      "\u001b[01;35mimg_LIDC-IDRI-0835_1_136.jpg\u001b[0m         \u001b[01;35mimg_out_LIDC-IDRI-0914_0_4_103.jpg\u001b[0m\n",
      "\u001b[01;35mimg_LIDC-IDRI-0835_1_137.jpg\u001b[0m         \u001b[01;35mimg_out_LIDC-IDRI-0914_0_5_103.jpg\u001b[0m\n",
      "\u001b[01;35mimg_LIDC-IDRI-0835_1_138.jpg\u001b[0m         \u001b[01;35mimg_out_LIDC-IDRI-0938_0_0_98.jpg\u001b[0m\n",
      "\u001b[01;35mimg_LIDC-IDRI-0835_1_139.jpg\u001b[0m         \u001b[01;35mimg_out_LIDC-IDRI-0938_0_10_103.jpg\u001b[0m\n",
      "\u001b[01;35mimg_LIDC-IDRI-0835_1_140.jpg\u001b[0m         \u001b[01;35mimg_out_LIDC-IDRI-0938_0_11_103.jpg\u001b[0m\n",
      "\u001b[01;35mimg_LIDC-IDRI-0835_1_141.jpg\u001b[0m         \u001b[01;35mimg_out_LIDC-IDRI-0938_0_12_104.jpg\u001b[0m\n",
      "\u001b[01;35mimg_LIDC-IDRI-0861_0_50.jpg\u001b[0m          \u001b[01;35mimg_out_LIDC-IDRI-0938_0_13_104.jpg\u001b[0m\n",
      "\u001b[01;35mimg_LIDC-IDRI-0861_0_51.jpg\u001b[0m          \u001b[01;35mimg_out_LIDC-IDRI-0938_0_1_98.jpg\u001b[0m\n",
      "\u001b[01;35mimg_LIDC-IDRI-0861_0_52.jpg\u001b[0m          \u001b[01;35mimg_out_LIDC-IDRI-0938_0_2_99.jpg\u001b[0m\n",
      "\u001b[01;35mimg_LIDC-IDRI-0865_0_38.jpg\u001b[0m          \u001b[01;35mimg_out_LIDC-IDRI-0938_0_3_99.jpg\u001b[0m\n",
      "\u001b[01;35mimg_LIDC-IDRI-0865_0_39.jpg\u001b[0m          \u001b[01;35mimg_out_LIDC-IDRI-0938_0_4_100.jpg\u001b[0m\n",
      "\u001b[01;35mimg_LIDC-IDRI-0865_0_40.jpg\u001b[0m          \u001b[01;35mimg_out_LIDC-IDRI-0938_0_5_100.jpg\u001b[0m\n",
      "\u001b[01;35mimg_LIDC-IDRI-0865_0_41.jpg\u001b[0m          \u001b[01;35mimg_out_LIDC-IDRI-0938_0_6_101.jpg\u001b[0m\n",
      "\u001b[01;35mimg_LIDC-IDRI-0865_0_42.jpg\u001b[0m          \u001b[01;35mimg_out_LIDC-IDRI-0938_0_7_101.jpg\u001b[0m\n",
      "\u001b[01;35mimg_LIDC-IDRI-0865_0_43.jpg\u001b[0m          \u001b[01;35mimg_out_LIDC-IDRI-0938_0_8_102.jpg\u001b[0m\n",
      "\u001b[01;35mimg_LIDC-IDRI-0865_0_44.jpg\u001b[0m          \u001b[01;35mimg_out_LIDC-IDRI-0938_0_9_102.jpg\u001b[0m\n",
      "\u001b[01;35mimg_LIDC-IDRI-0865_0_45.jpg\u001b[0m          \u001b[01;35mimg_out_LIDC-IDRI-0956_0_0_129.jpg\u001b[0m\n",
      "\u001b[01;35mimg_LIDC-IDRI-0865_0_46.jpg\u001b[0m          \u001b[01;35mimg_out_LIDC-IDRI-0956_0_1_129.jpg\u001b[0m\n",
      "\u001b[01;35mimg_LIDC-IDRI-0865_0_47.jpg\u001b[0m          \u001b[01;35mimg_out_LIDC-IDRI-0956_0_2_130.jpg\u001b[0m\n",
      "\u001b[01;35mimg_LIDC-IDRI-0866_0_50.jpg\u001b[0m          \u001b[01;35mimg_out_LIDC-IDRI-0956_0_3_130.jpg\u001b[0m\n",
      "\u001b[01;35mimg_LIDC-IDRI-0866_0_51.jpg\u001b[0m          \u001b[01;35mimg_out_LIDC-IDRI-0956_1_0_147.jpg\u001b[0m\n",
      "\u001b[01;35mimg_LIDC-IDRI-0866_0_52.jpg\u001b[0m          \u001b[01;35mimg_out_LIDC-IDRI-0956_1_1_147.jpg\u001b[0m\n",
      "\u001b[01;35mimg_LIDC-IDRI-0866_0_53.jpg\u001b[0m          \u001b[01;35mimg_out_LIDC-IDRI-0956_1_2_148.jpg\u001b[0m\n",
      "\u001b[01;35mimg_LIDC-IDRI-0866_0_54.jpg\u001b[0m          \u001b[01;35mimg_out_LIDC-IDRI-0956_1_3_148.jpg\u001b[0m\n",
      "\u001b[01;35mimg_LIDC-IDRI-0866_1_52.jpg\u001b[0m          \u001b[01;35mimg_out_LIDC-IDRI-0956_1_4_149.jpg\u001b[0m\n",
      "\u001b[01;35mimg_LIDC-IDRI-0866_1_53.jpg\u001b[0m          \u001b[01;35mimg_out_LIDC-IDRI-0956_1_5_149.jpg\u001b[0m\n",
      "\u001b[01;35mimg_LIDC-IDRI-0866_1_54.jpg\u001b[0m          \u001b[01;35mimg_out_LIDC-IDRI-0956_1_6_150.jpg\u001b[0m\n",
      "\u001b[01;35mimg_LIDC-IDRI-0866_1_55.jpg\u001b[0m          \u001b[01;35mimg_out_LIDC-IDRI-0956_1_7_150.jpg\u001b[0m\n",
      "\u001b[01;35mimg_LIDC-IDRI-0866_2_104.jpg\u001b[0m         \u001b[01;35mimg_out_LIDC-IDRI-0956_2_0_149.jpg\u001b[0m\n",
      "\u001b[01;35mimg_LIDC-IDRI-0866_2_105.jpg\u001b[0m         \u001b[01;35mimg_out_LIDC-IDRI-0956_2_1_149.jpg\u001b[0m\n",
      "\u001b[01;35mimg_LIDC-IDRI-0866_2_106.jpg\u001b[0m         \u001b[01;35mimg_out_LIDC-IDRI-0956_2_2_150.jpg\u001b[0m\n",
      "\u001b[01;35mimg_LIDC-IDRI-0866_2_107.jpg\u001b[0m         \u001b[01;35mimg_out_LIDC-IDRI-0956_2_3_150.jpg\u001b[0m\n",
      "\u001b[01;35mimg_LIDC-IDRI-0879_0_106.jpg\u001b[0m         \u001b[01;35mimg_out_LIDC-IDRI-0956_2_4_151.jpg\u001b[0m\n",
      "\u001b[01;35mimg_LIDC-IDRI-0879_0_107.jpg\u001b[0m         \u001b[01;35mimg_out_LIDC-IDRI-0956_2_5_151.jpg\u001b[0m\n",
      "\u001b[01;35mimg_LIDC-IDRI-0879_0_108.jpg\u001b[0m         \u001b[01;35mimg_out_LIDC-IDRI-0956_2_6_152.jpg\u001b[0m\n",
      "\u001b[01;35mimg_LIDC-IDRI-0879_0_109.jpg\u001b[0m         \u001b[01;35mimg_out_LIDC-IDRI-0956_2_7_152.jpg\u001b[0m\n",
      "\u001b[01;35mimg_LIDC-IDRI-0879_0_110.jpg\u001b[0m         \u001b[01;35mimg_out_LIDC-IDRI-0956_2_8_153.jpg\u001b[0m\n",
      "\u001b[01;35mimg_LIDC-IDRI-0879_0_111.jpg\u001b[0m         \u001b[01;35mimg_out_LIDC-IDRI-0956_2_9_153.jpg\u001b[0m\n",
      "\u001b[01;35mimg_LIDC-IDRI-0879_0_112.jpg\u001b[0m         \u001b[01;35mimg_out_LIDC-IDRI-0963_0_0_212.jpg\u001b[0m\n",
      "\u001b[01;35mimg_LIDC-IDRI-0879_1_229.jpg\u001b[0m         \u001b[01;35mimg_out_LIDC-IDRI-0963_0_10_217.jpg\u001b[0m\n",
      "\u001b[01;35mimg_LIDC-IDRI-0879_1_230.jpg\u001b[0m         \u001b[01;35mimg_out_LIDC-IDRI-0963_0_11_217.jpg\u001b[0m\n",
      "\u001b[01;35mimg_LIDC-IDRI-0879_1_231.jpg\u001b[0m         \u001b[01;35mimg_out_LIDC-IDRI-0963_0_1_212.jpg\u001b[0m\n",
      "\u001b[01;35mimg_LIDC-IDRI-0879_1_232.jpg\u001b[0m         \u001b[01;35mimg_out_LIDC-IDRI-0963_0_2_213.jpg\u001b[0m\n",
      "\u001b[01;35mimg_LIDC-IDRI-0879_1_233.jpg\u001b[0m         \u001b[01;35mimg_out_LIDC-IDRI-0963_0_3_213.jpg\u001b[0m\n",
      "\u001b[01;35mimg_LIDC-IDRI-0879_1_234.jpg\u001b[0m         \u001b[01;35mimg_out_LIDC-IDRI-0963_0_4_214.jpg\u001b[0m\n",
      "\u001b[01;35mimg_LIDC-IDRI-0884_0_180.jpg\u001b[0m         \u001b[01;35mimg_out_LIDC-IDRI-0963_0_5_214.jpg\u001b[0m\n",
      "\u001b[01;35mimg_LIDC-IDRI-0884_0_181.jpg\u001b[0m         \u001b[01;35mimg_out_LIDC-IDRI-0963_0_6_215.jpg\u001b[0m\n",
      "\u001b[01;35mimg_LIDC-IDRI-0884_0_182.jpg\u001b[0m         \u001b[01;35mimg_out_LIDC-IDRI-0963_0_7_215.jpg\u001b[0m\n",
      "\u001b[01;35mimg_LIDC-IDRI-0884_0_183.jpg\u001b[0m         \u001b[01;35mimg_out_LIDC-IDRI-0963_0_8_216.jpg\u001b[0m\n",
      "\u001b[01;35mimg_LIDC-IDRI-0884_0_184.jpg\u001b[0m         \u001b[01;35mimg_out_LIDC-IDRI-0963_0_9_216.jpg\u001b[0m\n",
      "\u001b[01;35mimg_LIDC-IDRI-0884_0_185.jpg\u001b[0m         \u001b[01;35mimg_out_LIDC-IDRI-0982_0_0_367.jpg\u001b[0m\n",
      "\u001b[01;35mimg_LIDC-IDRI-0884_0_186.jpg\u001b[0m         \u001b[01;35mimg_out_LIDC-IDRI-0982_0_10_372.jpg\u001b[0m\n",
      "\u001b[01;35mimg_LIDC-IDRI-0884_0_187.jpg\u001b[0m         \u001b[01;35mimg_out_LIDC-IDRI-0982_0_11_372.jpg\u001b[0m\n",
      "\u001b[01;35mimg_LIDC-IDRI-0884_0_188.jpg\u001b[0m         \u001b[01;35mimg_out_LIDC-IDRI-0982_0_12_373.jpg\u001b[0m\n",
      "\u001b[01;35mimg_LIDC-IDRI-0884_0_189.jpg\u001b[0m         \u001b[01;35mimg_out_LIDC-IDRI-0982_0_13_373.jpg\u001b[0m\n",
      "\u001b[01;35mimg_LIDC-IDRI-0884_0_190.jpg\u001b[0m         \u001b[01;35mimg_out_LIDC-IDRI-0982_0_14_374.jpg\u001b[0m\n",
      "\u001b[01;35mimg_LIDC-IDRI-0884_0_191.jpg\u001b[0m         \u001b[01;35mimg_out_LIDC-IDRI-0982_0_15_374.jpg\u001b[0m\n",
      "\u001b[01;35mimg_LIDC-IDRI-0884_0_192.jpg\u001b[0m         \u001b[01;35mimg_out_LIDC-IDRI-0982_0_16_375.jpg\u001b[0m\n",
      "\u001b[01;35mimg_LIDC-IDRI-0884_0_193.jpg\u001b[0m         \u001b[01;35mimg_out_LIDC-IDRI-0982_0_17_375.jpg\u001b[0m\n",
      "\u001b[01;35mimg_LIDC-IDRI-0884_0_194.jpg\u001b[0m         \u001b[01;35mimg_out_LIDC-IDRI-0982_0_18_376.jpg\u001b[0m\n",
      "\u001b[01;35mimg_LIDC-IDRI-0884_0_195.jpg\u001b[0m         \u001b[01;35mimg_out_LIDC-IDRI-0982_0_19_376.jpg\u001b[0m\n",
      "\u001b[01;35mimg_LIDC-IDRI-0884_0_196.jpg\u001b[0m         \u001b[01;35mimg_out_LIDC-IDRI-0982_0_1_367.jpg\u001b[0m\n",
      "\u001b[01;35mimg_LIDC-IDRI-0884_0_197.jpg\u001b[0m         \u001b[01;35mimg_out_LIDC-IDRI-0982_0_2_368.jpg\u001b[0m\n",
      "\u001b[01;35mimg_LIDC-IDRI-0884_0_198.jpg\u001b[0m         \u001b[01;35mimg_out_LIDC-IDRI-0982_0_3_368.jpg\u001b[0m\n",
      "\u001b[01;35mimg_LIDC-IDRI-0902_0_100.jpg\u001b[0m         \u001b[01;35mimg_out_LIDC-IDRI-0982_0_4_369.jpg\u001b[0m\n",
      "\u001b[01;35mimg_LIDC-IDRI-0902_0_86.jpg\u001b[0m          \u001b[01;35mimg_out_LIDC-IDRI-0982_0_5_369.jpg\u001b[0m\n",
      "\u001b[01;35mimg_LIDC-IDRI-0902_0_87.jpg\u001b[0m          \u001b[01;35mimg_out_LIDC-IDRI-0982_0_6_370.jpg\u001b[0m\n",
      "\u001b[01;35mimg_LIDC-IDRI-0902_0_88.jpg\u001b[0m          \u001b[01;35mimg_out_LIDC-IDRI-0982_0_7_370.jpg\u001b[0m\n",
      "\u001b[01;35mimg_LIDC-IDRI-0902_0_89.jpg\u001b[0m          \u001b[01;35mimg_out_LIDC-IDRI-0982_0_8_371.jpg\u001b[0m\n",
      "\u001b[01;35mimg_LIDC-IDRI-0902_0_90.jpg\u001b[0m          \u001b[01;35mimg_out_LIDC-IDRI-0982_0_9_371.jpg\u001b[0m\n",
      "\u001b[01;35mimg_LIDC-IDRI-0902_0_91.jpg\u001b[0m          \u001b[01;35mimg_random_LIDC-IDRI-0010_0_207.jpg\u001b[0m\n",
      "\u001b[01;35mimg_LIDC-IDRI-0902_0_92.jpg\u001b[0m          \u001b[01;35mimg_random_LIDC-IDRI-0010_0_208.jpg\u001b[0m\n",
      "\u001b[01;35mimg_LIDC-IDRI-0902_0_93.jpg\u001b[0m          \u001b[01;35mimg_random_LIDC-IDRI-0010_0_209.jpg\u001b[0m\n",
      "\u001b[01;35mimg_LIDC-IDRI-0902_0_94.jpg\u001b[0m          \u001b[01;35mimg_random_LIDC-IDRI-0010_0_210.jpg\u001b[0m\n",
      "\u001b[01;35mimg_LIDC-IDRI-0902_0_95.jpg\u001b[0m          \u001b[01;35mimg_random_LIDC-IDRI-0010_0_211.jpg\u001b[0m\n",
      "\u001b[01;35mimg_LIDC-IDRI-0902_0_96.jpg\u001b[0m          \u001b[01;35mimg_random_LIDC-IDRI-0010_0_212.jpg\u001b[0m\n",
      "\u001b[01;35mimg_LIDC-IDRI-0902_0_97.jpg\u001b[0m          \u001b[01;35mimg_random_LIDC-IDRI-0011_0_27.jpg\u001b[0m\n",
      "\u001b[01;35mimg_LIDC-IDRI-0902_0_98.jpg\u001b[0m          \u001b[01;35mimg_random_LIDC-IDRI-0011_0_28.jpg\u001b[0m\n",
      "\u001b[01;35mimg_LIDC-IDRI-0902_0_99.jpg\u001b[0m          \u001b[01;35mimg_random_LIDC-IDRI-0011_0_29.jpg\u001b[0m\n",
      "\u001b[01;35mimg_LIDC-IDRI-0910_0_45.jpg\u001b[0m          \u001b[01;35mimg_random_LIDC-IDRI-0011_0_30.jpg\u001b[0m\n",
      "\u001b[01;35mimg_LIDC-IDRI-0910_0_46.jpg\u001b[0m          \u001b[01;35mimg_random_LIDC-IDRI-0011_0_31.jpg\u001b[0m\n",
      "\u001b[01;35mimg_LIDC-IDRI-0910_0_47.jpg\u001b[0m          \u001b[01;35mimg_random_LIDC-IDRI-0011_1_58.jpg\u001b[0m\n",
      "\u001b[01;35mimg_LIDC-IDRI-0910_0_48.jpg\u001b[0m          \u001b[01;35mimg_random_LIDC-IDRI-0011_1_59.jpg\u001b[0m\n",
      "\u001b[01;35mimg_LIDC-IDRI-0910_0_49.jpg\u001b[0m          \u001b[01;35mimg_random_LIDC-IDRI-0011_2_102.jpg\u001b[0m\n",
      "\u001b[01;35mimg_LIDC-IDRI-0910_0_50.jpg\u001b[0m          \u001b[01;35mimg_random_LIDC-IDRI-0011_2_103.jpg\u001b[0m\n",
      "\u001b[01;35mimg_LIDC-IDRI-0910_0_51.jpg\u001b[0m          \u001b[01;35mimg_random_LIDC-IDRI-0011_2_104.jpg\u001b[0m\n",
      "\u001b[01;35mimg_LIDC-IDRI-0910_1_92.jpg\u001b[0m          \u001b[01;35mimg_random_LIDC-IDRI-0011_2_105.jpg\u001b[0m\n",
      "\u001b[01;35mimg_LIDC-IDRI-0910_1_93.jpg\u001b[0m          \u001b[01;35mimg_random_LIDC-IDRI-0011_2_106.jpg\u001b[0m\n",
      "\u001b[01;35mimg_LIDC-IDRI-0910_1_94.jpg\u001b[0m          \u001b[01;35mimg_random_LIDC-IDRI-0011_2_107.jpg\u001b[0m\n",
      "\u001b[01;35mimg_LIDC-IDRI-0910_1_95.jpg\u001b[0m          \u001b[01;35mimg_random_LIDC-IDRI-0013_0_82.jpg\u001b[0m\n",
      "\u001b[01;35mimg_LIDC-IDRI-0910_1_96.jpg\u001b[0m          \u001b[01;35mimg_random_LIDC-IDRI-0013_0_83.jpg\u001b[0m\n",
      "\u001b[01;35mimg_LIDC-IDRI-0910_1_97.jpg\u001b[0m          \u001b[01;35mimg_random_LIDC-IDRI-0013_0_84.jpg\u001b[0m\n",
      "\u001b[01;35mimg_LIDC-IDRI-0911_0_116.jpg\u001b[0m         \u001b[01;35mimg_random_LIDC-IDRI-0013_0_85.jpg\u001b[0m\n",
      "\u001b[01;35mimg_LIDC-IDRI-0911_0_117.jpg\u001b[0m         \u001b[01;35mimg_random_LIDC-IDRI-0013_0_86.jpg\u001b[0m\n",
      "\u001b[01;35mimg_LIDC-IDRI-0911_0_118.jpg\u001b[0m         \u001b[01;35mimg_random_LIDC-IDRI-0013_1_86.jpg\u001b[0m\n",
      "\u001b[01;35mimg_LIDC-IDRI-0911_0_119.jpg\u001b[0m         \u001b[01;35mimg_random_LIDC-IDRI-0013_1_87.jpg\u001b[0m\n",
      "\u001b[01;35mimg_LIDC-IDRI-0911_0_120.jpg\u001b[0m         \u001b[01;35mimg_random_LIDC-IDRI-0013_1_88.jpg\u001b[0m\n",
      "\u001b[01;35mimg_LIDC-IDRI-0911_0_121.jpg\u001b[0m         \u001b[01;35mimg_random_LIDC-IDRI-0013_1_89.jpg\u001b[0m\n",
      "\u001b[01;35mimg_LIDC-IDRI-0911_0_122.jpg\u001b[0m         \u001b[01;35mimg_random_LIDC-IDRI-0013_1_90.jpg\u001b[0m\n",
      "\u001b[01;35mimg_LIDC-IDRI-0911_0_123.jpg\u001b[0m         \u001b[01;35mimg_random_LIDC-IDRI-0013_1_91.jpg\u001b[0m\n",
      "\u001b[01;35mimg_LIDC-IDRI-0911_0_124.jpg\u001b[0m         \u001b[01;35mimg_random_LIDC-IDRI-0013_1_92.jpg\u001b[0m\n",
      "\u001b[01;35mimg_LIDC-IDRI-0914_0_101.jpg\u001b[0m         \u001b[01;35mimg_random_LIDC-IDRI-0013_1_93.jpg\u001b[0m\n",
      "\u001b[01;35mimg_LIDC-IDRI-0914_0_102.jpg\u001b[0m         \u001b[01;35mimg_random_LIDC-IDRI-0013_1_94.jpg\u001b[0m\n",
      "\u001b[01;35mimg_LIDC-IDRI-0914_0_103.jpg\u001b[0m         \u001b[01;35mimg_random_LIDC-IDRI-0013_1_95.jpg\u001b[0m\n",
      "\u001b[01;35mimg_LIDC-IDRI-0938_0_100.jpg\u001b[0m         \u001b[01;35mimg_random_LIDC-IDRI-0039_0_117.jpg\u001b[0m\n",
      "\u001b[01;35mimg_LIDC-IDRI-0938_0_101.jpg\u001b[0m         \u001b[01;35mimg_random_LIDC-IDRI-0039_0_118.jpg\u001b[0m\n",
      "\u001b[01;35mimg_LIDC-IDRI-0938_0_102.jpg\u001b[0m         \u001b[01;35mimg_random_LIDC-IDRI-0039_0_119.jpg\u001b[0m\n",
      "\u001b[01;35mimg_LIDC-IDRI-0938_0_103.jpg\u001b[0m         \u001b[01;35mimg_random_LIDC-IDRI-0039_0_120.jpg\u001b[0m\n",
      "\u001b[01;35mimg_LIDC-IDRI-0938_0_104.jpg\u001b[0m         \u001b[01;35mimg_random_LIDC-IDRI-0039_0_121.jpg\u001b[0m\n",
      "\u001b[01;35mimg_LIDC-IDRI-0938_0_105.jpg\u001b[0m         \u001b[01;35mimg_random_LIDC-IDRI-0039_1_121.jpg\u001b[0m\n",
      "\u001b[01;35mimg_LIDC-IDRI-0938_0_98.jpg\u001b[0m          \u001b[01;35mimg_random_LIDC-IDRI-0039_1_122.jpg\u001b[0m\n",
      "\u001b[01;35mimg_LIDC-IDRI-0938_0_99.jpg\u001b[0m          \u001b[01;35mimg_random_LIDC-IDRI-0039_1_123.jpg\u001b[0m\n",
      "\u001b[01;35mimg_LIDC-IDRI-0956_0_129.jpg\u001b[0m         \u001b[01;35mimg_random_LIDC-IDRI-0039_1_124.jpg\u001b[0m\n",
      "\u001b[01;35mimg_LIDC-IDRI-0956_0_130.jpg\u001b[0m         \u001b[01;35mimg_random_LIDC-IDRI-0039_1_125.jpg\u001b[0m\n",
      "\u001b[01;35mimg_LIDC-IDRI-0956_1_147.jpg\u001b[0m         \u001b[01;35mimg_random_LIDC-IDRI-0039_2_131.jpg\u001b[0m\n",
      "\u001b[01;35mimg_LIDC-IDRI-0956_1_148.jpg\u001b[0m         \u001b[01;35mimg_random_LIDC-IDRI-0039_2_132.jpg\u001b[0m\n",
      "\u001b[01;35mimg_LIDC-IDRI-0956_1_149.jpg\u001b[0m         \u001b[01;35mimg_random_LIDC-IDRI-0039_2_133.jpg\u001b[0m\n",
      "\u001b[01;35mimg_LIDC-IDRI-0956_1_150.jpg\u001b[0m         \u001b[01;35mimg_random_LIDC-IDRI-0039_2_134.jpg\u001b[0m\n",
      "\u001b[01;35mimg_LIDC-IDRI-0956_2_149.jpg\u001b[0m         \u001b[01;35mimg_random_LIDC-IDRI-0039_2_135.jpg\u001b[0m\n",
      "\u001b[01;35mimg_LIDC-IDRI-0956_2_150.jpg\u001b[0m         \u001b[01;35mimg_random_LIDC-IDRI-0039_3_162.jpg\u001b[0m\n",
      "\u001b[01;35mimg_LIDC-IDRI-0956_2_151.jpg\u001b[0m         \u001b[01;35mimg_random_LIDC-IDRI-0039_3_163.jpg\u001b[0m\n",
      "\u001b[01;35mimg_LIDC-IDRI-0956_2_152.jpg\u001b[0m         \u001b[01;35mimg_random_LIDC-IDRI-0039_3_164.jpg\u001b[0m\n",
      "\u001b[01;35mimg_LIDC-IDRI-0956_2_153.jpg\u001b[0m         \u001b[01;35mimg_random_LIDC-IDRI-0039_3_165.jpg\u001b[0m\n",
      "\u001b[01;35mimg_LIDC-IDRI-0963_0_212.jpg\u001b[0m         \u001b[01;35mimg_random_LIDC-IDRI-0039_3_166.jpg\u001b[0m\n",
      "\u001b[01;35mimg_LIDC-IDRI-0963_0_213.jpg\u001b[0m         \u001b[01;35mimg_random_LIDC-IDRI-0039_4_172.jpg\u001b[0m\n",
      "\u001b[01;35mimg_LIDC-IDRI-0963_0_214.jpg\u001b[0m         \u001b[01;35mimg_random_LIDC-IDRI-0039_4_173.jpg\u001b[0m\n",
      "\u001b[01;35mimg_LIDC-IDRI-0963_0_215.jpg\u001b[0m         \u001b[01;35mimg_random_LIDC-IDRI-0039_4_174.jpg\u001b[0m\n",
      "\u001b[01;35mimg_LIDC-IDRI-0963_0_216.jpg\u001b[0m         \u001b[01;35mimg_random_LIDC-IDRI-0039_4_175.jpg\u001b[0m\n",
      "\u001b[01;35mimg_LIDC-IDRI-0963_0_217.jpg\u001b[0m         \u001b[01;35mimg_random_LIDC-IDRI-0039_4_176.jpg\u001b[0m\n",
      "\u001b[01;35mimg_LIDC-IDRI-0963_0_218.jpg\u001b[0m         \u001b[01;35mimg_random_LIDC-IDRI-0039_4_177.jpg\u001b[0m\n",
      "\u001b[01;35mimg_LIDC-IDRI-0963_0_219.jpg\u001b[0m         \u001b[01;35mimg_random_LIDC-IDRI-0039_4_178.jpg\u001b[0m\n",
      "\u001b[01;35mimg_LIDC-IDRI-0982_0_367.jpg\u001b[0m         \u001b[01;35mimg_random_LIDC-IDRI-0047_0_74.jpg\u001b[0m\n",
      "\u001b[01;35mimg_LIDC-IDRI-0982_0_368.jpg\u001b[0m         \u001b[01;35mimg_random_LIDC-IDRI-0047_0_75.jpg\u001b[0m\n",
      "\u001b[01;35mimg_LIDC-IDRI-0982_0_369.jpg\u001b[0m         \u001b[01;35mimg_random_LIDC-IDRI-0047_0_76.jpg\u001b[0m\n",
      "\u001b[01;35mimg_LIDC-IDRI-0982_0_370.jpg\u001b[0m         \u001b[01;35mimg_random_LIDC-IDRI-0047_0_77.jpg\u001b[0m\n",
      "\u001b[01;35mimg_LIDC-IDRI-0982_0_371.jpg\u001b[0m         \u001b[01;35mimg_random_LIDC-IDRI-0047_0_78.jpg\u001b[0m\n",
      "\u001b[01;35mimg_LIDC-IDRI-0982_0_372.jpg\u001b[0m         \u001b[01;35mimg_random_LIDC-IDRI-0076_0_72.jpg\u001b[0m\n",
      "\u001b[01;35mimg_LIDC-IDRI-0982_0_373.jpg\u001b[0m         \u001b[01;35mimg_random_LIDC-IDRI-0076_0_73.jpg\u001b[0m\n",
      "\u001b[01;35mimg_LIDC-IDRI-0982_0_374.jpg\u001b[0m         \u001b[01;35mimg_random_LIDC-IDRI-0076_0_74.jpg\u001b[0m\n",
      "\u001b[01;35mimg_LIDC-IDRI-0982_0_375.jpg\u001b[0m         \u001b[01;35mimg_random_LIDC-IDRI-0076_0_75.jpg\u001b[0m\n",
      "\u001b[01;35mimg_LIDC-IDRI-0982_0_376.jpg\u001b[0m         \u001b[01;35mimg_random_LIDC-IDRI-0076_0_76.jpg\u001b[0m\n",
      "\u001b[01;35mimg_LIDC-IDRI-0982_0_377.jpg\u001b[0m         \u001b[01;35mimg_random_LIDC-IDRI-0076_0_77.jpg\u001b[0m\n",
      "\u001b[01;35mimg_LIDC-IDRI-0982_0_378.jpg\u001b[0m         \u001b[01;35mimg_random_LIDC-IDRI-0076_0_78.jpg\u001b[0m\n",
      "\u001b[01;35mimg_LIDC-IDRI-0982_0_379.jpg\u001b[0m         \u001b[01;35mimg_random_LIDC-IDRI-0076_0_79.jpg\u001b[0m\n",
      "\u001b[01;35mimg_out_LIDC-IDRI-0010_0_0_207.jpg\u001b[0m   \u001b[01;35mimg_random_LIDC-IDRI-0076_1_128.jpg\u001b[0m\n",
      "\u001b[01;35mimg_out_LIDC-IDRI-0010_0_1_207.jpg\u001b[0m   \u001b[01;35mimg_random_LIDC-IDRI-0076_1_129.jpg\u001b[0m\n",
      "\u001b[01;35mimg_out_LIDC-IDRI-0010_0_2_208.jpg\u001b[0m   \u001b[01;35mimg_random_LIDC-IDRI-0076_1_130.jpg\u001b[0m\n",
      "\u001b[01;35mimg_out_LIDC-IDRI-0010_0_3_208.jpg\u001b[0m   \u001b[01;35mimg_random_LIDC-IDRI-0076_1_131.jpg\u001b[0m\n",
      "\u001b[01;35mimg_out_LIDC-IDRI-0010_0_4_209.jpg\u001b[0m   \u001b[01;35mimg_random_LIDC-IDRI-0076_1_132.jpg\u001b[0m\n",
      "\u001b[01;35mimg_out_LIDC-IDRI-0010_0_5_209.jpg\u001b[0m   \u001b[01;35mimg_random_LIDC-IDRI-0076_1_133.jpg\u001b[0m\n",
      "\u001b[01;35mimg_out_LIDC-IDRI-0010_0_6_210.jpg\u001b[0m   \u001b[01;35mimg_random_LIDC-IDRI-0093_0_55.jpg\u001b[0m\n",
      "\u001b[01;35mimg_out_LIDC-IDRI-0010_0_7_210.jpg\u001b[0m   \u001b[01;35mimg_random_LIDC-IDRI-0093_0_56.jpg\u001b[0m\n",
      "\u001b[01;35mimg_out_LIDC-IDRI-0011_0_0_27.jpg\u001b[0m    \u001b[01;35mimg_random_LIDC-IDRI-0093_0_57.jpg\u001b[0m\n",
      "\u001b[01;35mimg_out_LIDC-IDRI-0011_0_1_27.jpg\u001b[0m    \u001b[01;35mimg_random_LIDC-IDRI-0116_0_100.jpg\u001b[0m\n",
      "\u001b[01;35mimg_out_LIDC-IDRI-0011_0_2_28.jpg\u001b[0m    \u001b[01;35mimg_random_LIDC-IDRI-0116_0_101.jpg\u001b[0m\n",
      "\u001b[01;35mimg_out_LIDC-IDRI-0011_0_3_28.jpg\u001b[0m    \u001b[01;35mimg_random_LIDC-IDRI-0116_0_102.jpg\u001b[0m\n",
      "\u001b[01;35mimg_out_LIDC-IDRI-0011_0_4_29.jpg\u001b[0m    \u001b[01;35mimg_random_LIDC-IDRI-0116_0_103.jpg\u001b[0m\n",
      "\u001b[01;35mimg_out_LIDC-IDRI-0011_0_5_29.jpg\u001b[0m    \u001b[01;35mimg_random_LIDC-IDRI-0116_0_104.jpg\u001b[0m\n",
      "\u001b[01;35mimg_out_LIDC-IDRI-0011_0_6_30.jpg\u001b[0m    \u001b[01;35mimg_random_LIDC-IDRI-0116_0_98.jpg\u001b[0m\n",
      "\u001b[01;35mimg_out_LIDC-IDRI-0011_0_7_30.jpg\u001b[0m    \u001b[01;35mimg_random_LIDC-IDRI-0116_0_99.jpg\u001b[0m\n",
      "\u001b[01;35mimg_out_LIDC-IDRI-0011_1_0_58.jpg\u001b[0m    \u001b[01;35mimg_random_LIDC-IDRI-0118_0_65.jpg\u001b[0m\n",
      "\u001b[01;35mimg_out_LIDC-IDRI-0011_1_1_58.jpg\u001b[0m    \u001b[01;35mimg_random_LIDC-IDRI-0118_0_66.jpg\u001b[0m\n",
      "\u001b[01;35mimg_out_LIDC-IDRI-0011_1_2_59.jpg\u001b[0m    \u001b[01;35mimg_random_LIDC-IDRI-0118_0_67.jpg\u001b[0m\n",
      "\u001b[01;35mimg_out_LIDC-IDRI-0011_1_3_59.jpg\u001b[0m    \u001b[01;35mimg_random_LIDC-IDRI-0118_0_68.jpg\u001b[0m\n",
      "\u001b[01;35mimg_out_LIDC-IDRI-0011_2_0_102.jpg\u001b[0m   \u001b[01;35mimg_random_LIDC-IDRI-0134_0_63.jpg\u001b[0m\n",
      "\u001b[01;35mimg_out_LIDC-IDRI-0011_2_10_107.jpg\u001b[0m  \u001b[01;35mimg_random_LIDC-IDRI-0134_0_64.jpg\u001b[0m\n",
      "\u001b[01;35mimg_out_LIDC-IDRI-0011_2_11_107.jpg\u001b[0m  \u001b[01;35mimg_random_LIDC-IDRI-0134_0_65.jpg\u001b[0m\n",
      "\u001b[01;35mimg_out_LIDC-IDRI-0011_2_1_102.jpg\u001b[0m   \u001b[01;35mimg_random_LIDC-IDRI-0134_0_66.jpg\u001b[0m\n",
      "\u001b[01;35mimg_out_LIDC-IDRI-0011_2_2_103.jpg\u001b[0m   \u001b[01;35mimg_random_LIDC-IDRI-0134_1_65.jpg\u001b[0m\n",
      "\u001b[01;35mimg_out_LIDC-IDRI-0011_2_3_103.jpg\u001b[0m   \u001b[01;35mimg_random_LIDC-IDRI-0134_1_66.jpg\u001b[0m\n",
      "\u001b[01;35mimg_out_LIDC-IDRI-0011_2_4_104.jpg\u001b[0m   \u001b[01;35mimg_random_LIDC-IDRI-0134_1_67.jpg\u001b[0m\n",
      "\u001b[01;35mimg_out_LIDC-IDRI-0011_2_5_104.jpg\u001b[0m   \u001b[01;35mimg_random_LIDC-IDRI-0134_1_68.jpg\u001b[0m\n",
      "\u001b[01;35mimg_out_LIDC-IDRI-0011_2_6_105.jpg\u001b[0m   \u001b[01;35mimg_random_LIDC-IDRI-0134_1_69.jpg\u001b[0m\n",
      "\u001b[01;35mimg_out_LIDC-IDRI-0011_2_7_105.jpg\u001b[0m   \u001b[01;35mimg_random_LIDC-IDRI-0144_0_22.jpg\u001b[0m\n",
      "\u001b[01;35mimg_out_LIDC-IDRI-0011_2_8_106.jpg\u001b[0m   \u001b[01;35mimg_random_LIDC-IDRI-0144_0_23.jpg\u001b[0m\n",
      "\u001b[01;35mimg_out_LIDC-IDRI-0011_2_9_106.jpg\u001b[0m   \u001b[01;35mimg_random_LIDC-IDRI-0144_0_24.jpg\u001b[0m\n",
      "\u001b[01;35mimg_out_LIDC-IDRI-0013_0_0_82.jpg\u001b[0m    \u001b[01;35mimg_random_LIDC-IDRI-0144_1_22.jpg\u001b[0m\n",
      "\u001b[01;35mimg_out_LIDC-IDRI-0013_0_1_82.jpg\u001b[0m    \u001b[01;35mimg_random_LIDC-IDRI-0144_1_23.jpg\u001b[0m\n",
      "\u001b[01;35mimg_out_LIDC-IDRI-0013_0_2_83.jpg\u001b[0m    \u001b[01;35mimg_random_LIDC-IDRI-0144_1_24.jpg\u001b[0m\n",
      "\u001b[01;35mimg_out_LIDC-IDRI-0013_0_3_83.jpg\u001b[0m    \u001b[01;35mimg_random_LIDC-IDRI-0144_1_25.jpg\u001b[0m\n",
      "\u001b[01;35mimg_out_LIDC-IDRI-0013_0_4_84.jpg\u001b[0m    \u001b[01;35mimg_random_LIDC-IDRI-0144_1_26.jpg\u001b[0m\n",
      "\u001b[01;35mimg_out_LIDC-IDRI-0013_0_5_84.jpg\u001b[0m    \u001b[01;35mimg_random_LIDC-IDRI-0144_2_63.jpg\u001b[0m\n",
      "\u001b[01;35mimg_out_LIDC-IDRI-0013_0_6_85.jpg\u001b[0m    \u001b[01;35mimg_random_LIDC-IDRI-0144_2_64.jpg\u001b[0m\n",
      "\u001b[01;35mimg_out_LIDC-IDRI-0013_0_7_85.jpg\u001b[0m    \u001b[01;35mimg_random_LIDC-IDRI-0144_2_65.jpg\u001b[0m\n",
      "\u001b[01;35mimg_out_LIDC-IDRI-0013_0_8_86.jpg\u001b[0m    \u001b[01;35mimg_random_LIDC-IDRI-0144_2_66.jpg\u001b[0m\n",
      "\u001b[01;35mimg_out_LIDC-IDRI-0013_0_9_86.jpg\u001b[0m    \u001b[01;35mimg_random_LIDC-IDRI-0144_2_67.jpg\u001b[0m\n",
      "\u001b[01;35mimg_out_LIDC-IDRI-0013_1_0_86.jpg\u001b[0m    \u001b[01;35mimg_random_LIDC-IDRI-0144_3_66.jpg\u001b[0m\n",
      "\u001b[01;35mimg_out_LIDC-IDRI-0013_1_10_91.jpg\u001b[0m   \u001b[01;35mimg_random_LIDC-IDRI-0144_3_67.jpg\u001b[0m\n",
      "\u001b[01;35mimg_out_LIDC-IDRI-0013_1_11_91.jpg\u001b[0m   \u001b[01;35mimg_random_LIDC-IDRI-0144_3_68.jpg\u001b[0m\n",
      "\u001b[01;35mimg_out_LIDC-IDRI-0013_1_12_92.jpg\u001b[0m   \u001b[01;35mimg_random_LIDC-IDRI-0144_3_69.jpg\u001b[0m\n",
      "\u001b[01;35mimg_out_LIDC-IDRI-0013_1_13_92.jpg\u001b[0m   \u001b[01;35mimg_random_LIDC-IDRI-0145_0_59.jpg\u001b[0m\n",
      "\u001b[01;35mimg_out_LIDC-IDRI-0013_1_14_93.jpg\u001b[0m   \u001b[01;35mimg_random_LIDC-IDRI-0145_0_60.jpg\u001b[0m\n",
      "\u001b[01;35mimg_out_LIDC-IDRI-0013_1_15_93.jpg\u001b[0m   \u001b[01;35mimg_random_LIDC-IDRI-0145_0_61.jpg\u001b[0m\n",
      "\u001b[01;35mimg_out_LIDC-IDRI-0013_1_16_94.jpg\u001b[0m   \u001b[01;35mimg_random_LIDC-IDRI-0145_0_62.jpg\u001b[0m\n",
      "\u001b[01;35mimg_out_LIDC-IDRI-0013_1_17_94.jpg\u001b[0m   \u001b[01;35mimg_random_LIDC-IDRI-0168_0_64.jpg\u001b[0m\n",
      "\u001b[01;35mimg_out_LIDC-IDRI-0013_1_1_86.jpg\u001b[0m    \u001b[01;35mimg_random_LIDC-IDRI-0168_0_65.jpg\u001b[0m\n",
      "\u001b[01;35mimg_out_LIDC-IDRI-0013_1_2_87.jpg\u001b[0m    \u001b[01;35mimg_random_LIDC-IDRI-0168_0_66.jpg\u001b[0m\n",
      "\u001b[01;35mimg_out_LIDC-IDRI-0013_1_3_87.jpg\u001b[0m    \u001b[01;35mimg_random_LIDC-IDRI-0168_0_67.jpg\u001b[0m\n",
      "\u001b[01;35mimg_out_LIDC-IDRI-0013_1_4_88.jpg\u001b[0m    \u001b[01;35mimg_random_LIDC-IDRI-0168_0_68.jpg\u001b[0m\n",
      "\u001b[01;35mimg_out_LIDC-IDRI-0013_1_5_88.jpg\u001b[0m    \u001b[01;35mimg_random_LIDC-IDRI-0209_0_43.jpg\u001b[0m\n",
      "\u001b[01;35mimg_out_LIDC-IDRI-0013_1_6_89.jpg\u001b[0m    \u001b[01;35mimg_random_LIDC-IDRI-0209_0_44.jpg\u001b[0m\n",
      "\u001b[01;35mimg_out_LIDC-IDRI-0013_1_7_89.jpg\u001b[0m    \u001b[01;35mimg_random_LIDC-IDRI-0209_0_45.jpg\u001b[0m\n",
      "\u001b[01;35mimg_out_LIDC-IDRI-0013_1_8_90.jpg\u001b[0m    \u001b[01;35mimg_random_LIDC-IDRI-0209_0_46.jpg\u001b[0m\n",
      "\u001b[01;35mimg_out_LIDC-IDRI-0013_1_9_90.jpg\u001b[0m    \u001b[01;35mimg_random_LIDC-IDRI-0209_0_47.jpg\u001b[0m\n",
      "\u001b[01;35mimg_out_LIDC-IDRI-0039_0_0_117.jpg\u001b[0m   \u001b[01;35mimg_random_LIDC-IDRI-0209_0_48.jpg\u001b[0m\n",
      "\u001b[01;35mimg_out_LIDC-IDRI-0039_0_1_117.jpg\u001b[0m   \u001b[01;35mimg_random_LIDC-IDRI-0209_0_49.jpg\u001b[0m\n",
      "\u001b[01;35mimg_out_LIDC-IDRI-0039_0_2_118.jpg\u001b[0m   \u001b[01;35mimg_random_LIDC-IDRI-0209_0_50.jpg\u001b[0m\n",
      "\u001b[01;35mimg_out_LIDC-IDRI-0039_0_3_118.jpg\u001b[0m   \u001b[01;35mimg_random_LIDC-IDRI-0215_0_175.jpg\u001b[0m\n",
      "\u001b[01;35mimg_out_LIDC-IDRI-0039_0_4_119.jpg\u001b[0m   \u001b[01;35mimg_random_LIDC-IDRI-0215_0_176.jpg\u001b[0m\n",
      "\u001b[01;35mimg_out_LIDC-IDRI-0039_0_5_119.jpg\u001b[0m   \u001b[01;35mimg_random_LIDC-IDRI-0215_0_177.jpg\u001b[0m\n",
      "\u001b[01;35mimg_out_LIDC-IDRI-0039_0_6_120.jpg\u001b[0m   \u001b[01;35mimg_random_LIDC-IDRI-0215_0_178.jpg\u001b[0m\n",
      "\u001b[01;35mimg_out_LIDC-IDRI-0039_0_7_120.jpg\u001b[0m   \u001b[01;35mimg_random_LIDC-IDRI-0223_0_191.jpg\u001b[0m\n",
      "\u001b[01;35mimg_out_LIDC-IDRI-0039_0_8_121.jpg\u001b[0m   \u001b[01;35mimg_random_LIDC-IDRI-0223_0_192.jpg\u001b[0m\n",
      "\u001b[01;35mimg_out_LIDC-IDRI-0039_0_9_121.jpg\u001b[0m   \u001b[01;35mimg_random_LIDC-IDRI-0223_0_193.jpg\u001b[0m\n",
      "\u001b[01;35mimg_out_LIDC-IDRI-0039_1_0_121.jpg\u001b[0m   \u001b[01;35mimg_random_LIDC-IDRI-0223_0_194.jpg\u001b[0m\n",
      "\u001b[01;35mimg_out_LIDC-IDRI-0039_1_1_121.jpg\u001b[0m   \u001b[01;35mimg_random_LIDC-IDRI-0223_0_195.jpg\u001b[0m\n",
      "\u001b[01;35mimg_out_LIDC-IDRI-0039_1_2_122.jpg\u001b[0m   \u001b[01;35mimg_random_LIDC-IDRI-0223_0_196.jpg\u001b[0m\n",
      "\u001b[01;35mimg_out_LIDC-IDRI-0039_1_3_122.jpg\u001b[0m   \u001b[01;35mimg_random_LIDC-IDRI-0223_0_197.jpg\u001b[0m\n",
      "\u001b[01;35mimg_out_LIDC-IDRI-0039_1_4_123.jpg\u001b[0m   \u001b[01;35mimg_random_LIDC-IDRI-0223_0_198.jpg\u001b[0m\n",
      "\u001b[01;35mimg_out_LIDC-IDRI-0039_1_5_123.jpg\u001b[0m   \u001b[01;35mimg_random_LIDC-IDRI-0223_0_199.jpg\u001b[0m\n",
      "\u001b[01;35mimg_out_LIDC-IDRI-0039_1_6_124.jpg\u001b[0m   \u001b[01;35mimg_random_LIDC-IDRI-0223_0_200.jpg\u001b[0m\n",
      "\u001b[01;35mimg_out_LIDC-IDRI-0039_1_7_124.jpg\u001b[0m   \u001b[01;35mimg_random_LIDC-IDRI-0223_0_201.jpg\u001b[0m\n",
      "\u001b[01;35mimg_out_LIDC-IDRI-0039_1_8_125.jpg\u001b[0m   \u001b[01;35mimg_random_LIDC-IDRI-0223_0_202.jpg\u001b[0m\n",
      "\u001b[01;35mimg_out_LIDC-IDRI-0039_1_9_125.jpg\u001b[0m   \u001b[01;35mimg_random_LIDC-IDRI-0229_0_92.jpg\u001b[0m\n",
      "\u001b[01;35mimg_out_LIDC-IDRI-0039_2_0_131.jpg\u001b[0m   \u001b[01;35mimg_random_LIDC-IDRI-0229_0_93.jpg\u001b[0m\n",
      "\u001b[01;35mimg_out_LIDC-IDRI-0039_2_1_131.jpg\u001b[0m   \u001b[01;35mimg_random_LIDC-IDRI-0229_1_92.jpg\u001b[0m\n",
      "\u001b[01;35mimg_out_LIDC-IDRI-0039_2_2_132.jpg\u001b[0m   \u001b[01;35mimg_random_LIDC-IDRI-0229_1_93.jpg\u001b[0m\n",
      "\u001b[01;35mimg_out_LIDC-IDRI-0039_2_3_132.jpg\u001b[0m   \u001b[01;35mimg_random_LIDC-IDRI-0229_1_94.jpg\u001b[0m\n",
      "\u001b[01;35mimg_out_LIDC-IDRI-0039_2_4_133.jpg\u001b[0m   \u001b[01;35mimg_random_LIDC-IDRI-0229_1_95.jpg\u001b[0m\n",
      "\u001b[01;35mimg_out_LIDC-IDRI-0039_2_5_133.jpg\u001b[0m   \u001b[01;35mimg_random_LIDC-IDRI-0229_1_96.jpg\u001b[0m\n",
      "\u001b[01;35mimg_out_LIDC-IDRI-0039_2_6_134.jpg\u001b[0m   \u001b[01;35mimg_random_LIDC-IDRI-0229_1_97.jpg\u001b[0m\n",
      "\u001b[01;35mimg_out_LIDC-IDRI-0039_2_7_134.jpg\u001b[0m   \u001b[01;35mimg_random_LIDC-IDRI-0229_1_98.jpg\u001b[0m\n",
      "\u001b[01;35mimg_out_LIDC-IDRI-0039_3_0_162.jpg\u001b[0m   \u001b[01;35mimg_random_LIDC-IDRI-0229_1_99.jpg\u001b[0m\n",
      "\u001b[01;35mimg_out_LIDC-IDRI-0039_3_1_162.jpg\u001b[0m   \u001b[01;35mimg_random_LIDC-IDRI-0229_2_100.jpg\u001b[0m\n",
      "\u001b[01;35mimg_out_LIDC-IDRI-0039_3_2_163.jpg\u001b[0m   \u001b[01;35mimg_random_LIDC-IDRI-0229_2_101.jpg\u001b[0m\n",
      "\u001b[01;35mimg_out_LIDC-IDRI-0039_3_3_163.jpg\u001b[0m   \u001b[01;35mimg_random_LIDC-IDRI-0229_2_102.jpg\u001b[0m\n",
      "\u001b[01;35mimg_out_LIDC-IDRI-0039_3_4_164.jpg\u001b[0m   \u001b[01;35mimg_random_LIDC-IDRI-0229_2_103.jpg\u001b[0m\n",
      "\u001b[01;35mimg_out_LIDC-IDRI-0039_3_5_164.jpg\u001b[0m   \u001b[01;35mimg_random_LIDC-IDRI-0229_3_102.jpg\u001b[0m\n",
      "\u001b[01;35mimg_out_LIDC-IDRI-0039_3_6_165.jpg\u001b[0m   \u001b[01;35mimg_random_LIDC-IDRI-0229_3_103.jpg\u001b[0m\n",
      "\u001b[01;35mimg_out_LIDC-IDRI-0039_3_7_165.jpg\u001b[0m   \u001b[01;35mimg_random_LIDC-IDRI-0229_3_104.jpg\u001b[0m\n",
      "\u001b[01;35mimg_out_LIDC-IDRI-0039_4_0_172.jpg\u001b[0m   \u001b[01;35mimg_random_LIDC-IDRI-0229_3_105.jpg\u001b[0m\n",
      "\u001b[01;35mimg_out_LIDC-IDRI-0039_4_10_177.jpg\u001b[0m  \u001b[01;35mimg_random_LIDC-IDRI-0229_4_107.jpg\u001b[0m\n",
      "\u001b[01;35mimg_out_LIDC-IDRI-0039_4_11_177.jpg\u001b[0m  \u001b[01;35mimg_random_LIDC-IDRI-0229_4_108.jpg\u001b[0m\n",
      "\u001b[01;35mimg_out_LIDC-IDRI-0039_4_1_172.jpg\u001b[0m   \u001b[01;35mimg_random_LIDC-IDRI-0229_4_109.jpg\u001b[0m\n",
      "\u001b[01;35mimg_out_LIDC-IDRI-0039_4_2_173.jpg\u001b[0m   \u001b[01;35mimg_random_LIDC-IDRI-0229_5_108.jpg\u001b[0m\n",
      "\u001b[01;35mimg_out_LIDC-IDRI-0039_4_3_173.jpg\u001b[0m   \u001b[01;35mimg_random_LIDC-IDRI-0229_5_109.jpg\u001b[0m\n",
      "\u001b[01;35mimg_out_LIDC-IDRI-0039_4_4_174.jpg\u001b[0m   \u001b[01;35mimg_random_LIDC-IDRI-0229_5_110.jpg\u001b[0m\n",
      "\u001b[01;35mimg_out_LIDC-IDRI-0039_4_5_174.jpg\u001b[0m   \u001b[01;35mimg_random_LIDC-IDRI-0229_5_111.jpg\u001b[0m\n",
      "\u001b[01;35mimg_out_LIDC-IDRI-0039_4_6_175.jpg\u001b[0m   \u001b[01;35mimg_random_LIDC-IDRI-0229_5_112.jpg\u001b[0m\n",
      "\u001b[01;35mimg_out_LIDC-IDRI-0039_4_7_175.jpg\u001b[0m   \u001b[01;35mimg_random_LIDC-IDRI-0229_5_113.jpg\u001b[0m\n",
      "\u001b[01;35mimg_out_LIDC-IDRI-0039_4_8_176.jpg\u001b[0m   \u001b[01;35mimg_random_LIDC-IDRI-0229_5_114.jpg\u001b[0m\n",
      "\u001b[01;35mimg_out_LIDC-IDRI-0039_4_9_176.jpg\u001b[0m   \u001b[01;35mimg_random_LIDC-IDRI-0229_5_115.jpg\u001b[0m\n",
      "\u001b[01;35mimg_out_LIDC-IDRI-0047_0_1_74.jpg\u001b[0m    \u001b[01;35mimg_random_LIDC-IDRI-0234_0_41.jpg\u001b[0m\n",
      "\u001b[01;35mimg_out_LIDC-IDRI-0047_0_2_75.jpg\u001b[0m    \u001b[01;35mimg_random_LIDC-IDRI-0234_0_42.jpg\u001b[0m\n",
      "\u001b[01;35mimg_out_LIDC-IDRI-0047_0_3_75.jpg\u001b[0m    \u001b[01;35mimg_random_LIDC-IDRI-0234_0_43.jpg\u001b[0m\n",
      "\u001b[01;35mimg_out_LIDC-IDRI-0047_0_4_76.jpg\u001b[0m    \u001b[01;35mimg_random_LIDC-IDRI-0262_0_107.jpg\u001b[0m\n",
      "\u001b[01;35mimg_out_LIDC-IDRI-0047_0_5_76.jpg\u001b[0m    \u001b[01;35mimg_random_LIDC-IDRI-0262_0_108.jpg\u001b[0m\n",
      "\u001b[01;35mimg_out_LIDC-IDRI-0047_0_6_77.jpg\u001b[0m    \u001b[01;35mimg_random_LIDC-IDRI-0262_0_109.jpg\u001b[0m\n",
      "\u001b[01;35mimg_out_LIDC-IDRI-0047_0_7_77.jpg\u001b[0m    \u001b[01;35mimg_random_LIDC-IDRI-0262_0_110.jpg\u001b[0m\n",
      "\u001b[01;35mimg_out_LIDC-IDRI-0076_0_0_72.jpg\u001b[0m    \u001b[01;35mimg_random_LIDC-IDRI-0262_0_111.jpg\u001b[0m\n",
      "\u001b[01;35mimg_out_LIDC-IDRI-0076_0_10_77.jpg\u001b[0m   \u001b[01;35mimg_random_LIDC-IDRI-0262_0_112.jpg\u001b[0m\n",
      "\u001b[01;35mimg_out_LIDC-IDRI-0076_0_11_77.jpg\u001b[0m   \u001b[01;35mimg_random_LIDC-IDRI-0262_0_113.jpg\u001b[0m\n",
      "\u001b[01;35mimg_out_LIDC-IDRI-0076_0_12_78.jpg\u001b[0m   \u001b[01;35mimg_random_LIDC-IDRI-0262_0_114.jpg\u001b[0m\n",
      "\u001b[01;35mimg_out_LIDC-IDRI-0076_0_13_78.jpg\u001b[0m   \u001b[01;35mimg_random_LIDC-IDRI-0332_0_100.jpg\u001b[0m\n",
      "\u001b[01;35mimg_out_LIDC-IDRI-0076_0_1_72.jpg\u001b[0m    \u001b[01;35mimg_random_LIDC-IDRI-0332_0_101.jpg\u001b[0m\n",
      "\u001b[01;35mimg_out_LIDC-IDRI-0076_0_2_73.jpg\u001b[0m    \u001b[01;35mimg_random_LIDC-IDRI-0332_0_102.jpg\u001b[0m\n",
      "\u001b[01;35mimg_out_LIDC-IDRI-0076_0_3_73.jpg\u001b[0m    \u001b[01;35mimg_random_LIDC-IDRI-0332_0_103.jpg\u001b[0m\n",
      "\u001b[01;35mimg_out_LIDC-IDRI-0076_0_4_74.jpg\u001b[0m    \u001b[01;35mimg_random_LIDC-IDRI-0332_0_104.jpg\u001b[0m\n",
      "\u001b[01;35mimg_out_LIDC-IDRI-0076_0_5_74.jpg\u001b[0m    \u001b[01;35mimg_random_LIDC-IDRI-0332_0_92.jpg\u001b[0m\n",
      "\u001b[01;35mimg_out_LIDC-IDRI-0076_0_6_75.jpg\u001b[0m    \u001b[01;35mimg_random_LIDC-IDRI-0332_0_93.jpg\u001b[0m\n",
      "\u001b[01;35mimg_out_LIDC-IDRI-0076_0_7_75.jpg\u001b[0m    \u001b[01;35mimg_random_LIDC-IDRI-0332_0_94.jpg\u001b[0m\n",
      "\u001b[01;35mimg_out_LIDC-IDRI-0076_0_8_76.jpg\u001b[0m    \u001b[01;35mimg_random_LIDC-IDRI-0332_0_95.jpg\u001b[0m\n",
      "\u001b[01;35mimg_out_LIDC-IDRI-0076_0_9_76.jpg\u001b[0m    \u001b[01;35mimg_random_LIDC-IDRI-0332_0_96.jpg\u001b[0m\n",
      "\u001b[01;35mimg_out_LIDC-IDRI-0076_1_0_128.jpg\u001b[0m   \u001b[01;35mimg_random_LIDC-IDRI-0332_0_97.jpg\u001b[0m\n",
      "\u001b[01;35mimg_out_LIDC-IDRI-0076_1_10_133.jpg\u001b[0m  \u001b[01;35mimg_random_LIDC-IDRI-0332_0_98.jpg\u001b[0m\n",
      "\u001b[01;35mimg_out_LIDC-IDRI-0076_1_11_133.jpg\u001b[0m  \u001b[01;35mimg_random_LIDC-IDRI-0332_0_99.jpg\u001b[0m\n",
      "\u001b[01;35mimg_out_LIDC-IDRI-0076_1_1_128.jpg\u001b[0m   \u001b[01;35mimg_random_LIDC-IDRI-0332_1_160.jpg\u001b[0m\n",
      "\u001b[01;35mimg_out_LIDC-IDRI-0076_1_2_129.jpg\u001b[0m   \u001b[01;35mimg_random_LIDC-IDRI-0332_1_161.jpg\u001b[0m\n",
      "\u001b[01;35mimg_out_LIDC-IDRI-0076_1_3_129.jpg\u001b[0m   \u001b[01;35mimg_random_LIDC-IDRI-0332_1_162.jpg\u001b[0m\n",
      "\u001b[01;35mimg_out_LIDC-IDRI-0076_1_4_130.jpg\u001b[0m   \u001b[01;35mimg_random_LIDC-IDRI-0332_1_163.jpg\u001b[0m\n",
      "\u001b[01;35mimg_out_LIDC-IDRI-0076_1_5_130.jpg\u001b[0m   \u001b[01;35mimg_random_LIDC-IDRI-0332_1_164.jpg\u001b[0m\n",
      "\u001b[01;35mimg_out_LIDC-IDRI-0076_1_6_131.jpg\u001b[0m   \u001b[01;35mimg_random_LIDC-IDRI-0332_1_165.jpg\u001b[0m\n",
      "\u001b[01;35mimg_out_LIDC-IDRI-0076_1_7_131.jpg\u001b[0m   \u001b[01;35mimg_random_LIDC-IDRI-0332_1_166.jpg\u001b[0m\n",
      "\u001b[01;35mimg_out_LIDC-IDRI-0076_1_8_132.jpg\u001b[0m   \u001b[01;35mimg_random_LIDC-IDRI-0332_1_167.jpg\u001b[0m\n",
      "\u001b[01;35mimg_out_LIDC-IDRI-0076_1_9_132.jpg\u001b[0m   \u001b[01;35mimg_random_LIDC-IDRI-0337_0_53.jpg\u001b[0m\n",
      "\u001b[01;35mimg_out_LIDC-IDRI-0093_0_0_55.jpg\u001b[0m    \u001b[01;35mimg_random_LIDC-IDRI-0337_0_54.jpg\u001b[0m\n",
      "\u001b[01;35mimg_out_LIDC-IDRI-0093_0_1_55.jpg\u001b[0m    \u001b[01;35mimg_random_LIDC-IDRI-0337_0_55.jpg\u001b[0m\n",
      "\u001b[01;35mimg_out_LIDC-IDRI-0093_0_2_56.jpg\u001b[0m    \u001b[01;35mimg_random_LIDC-IDRI-0337_0_56.jpg\u001b[0m\n",
      "\u001b[01;35mimg_out_LIDC-IDRI-0093_0_3_56.jpg\u001b[0m    \u001b[01;35mimg_random_LIDC-IDRI-0337_0_57.jpg\u001b[0m\n",
      "\u001b[01;35mimg_out_LIDC-IDRI-0093_0_4_57.jpg\u001b[0m    \u001b[01;35mimg_random_LIDC-IDRI-0337_0_58.jpg\u001b[0m\n",
      "\u001b[01;35mimg_out_LIDC-IDRI-0093_0_5_57.jpg\u001b[0m    \u001b[01;35mimg_random_LIDC-IDRI-0337_0_59.jpg\u001b[0m\n",
      "\u001b[01;35mimg_out_LIDC-IDRI-0116_0_0_98.jpg\u001b[0m    \u001b[01;35mimg_random_LIDC-IDRI-0337_1_100.jpg\u001b[0m\n",
      "\u001b[01;35mimg_out_LIDC-IDRI-0116_0_10_103.jpg\u001b[0m  \u001b[01;35mimg_random_LIDC-IDRI-0337_1_101.jpg\u001b[0m\n",
      "\u001b[01;35mimg_out_LIDC-IDRI-0116_0_11_103.jpg\u001b[0m  \u001b[01;35mimg_random_LIDC-IDRI-0337_1_102.jpg\u001b[0m\n",
      "\u001b[01;35mimg_out_LIDC-IDRI-0116_0_12_104.jpg\u001b[0m  \u001b[01;35mimg_random_LIDC-IDRI-0337_1_103.jpg\u001b[0m\n",
      "\u001b[01;35mimg_out_LIDC-IDRI-0116_0_13_104.jpg\u001b[0m  \u001b[01;35mimg_random_LIDC-IDRI-0337_1_104.jpg\u001b[0m\n",
      "\u001b[01;35mimg_out_LIDC-IDRI-0116_0_1_98.jpg\u001b[0m    \u001b[01;35mimg_random_LIDC-IDRI-0337_1_91.jpg\u001b[0m\n",
      "\u001b[01;35mimg_out_LIDC-IDRI-0116_0_2_99.jpg\u001b[0m    \u001b[01;35mimg_random_LIDC-IDRI-0337_1_92.jpg\u001b[0m\n",
      "\u001b[01;35mimg_out_LIDC-IDRI-0116_0_3_99.jpg\u001b[0m    \u001b[01;35mimg_random_LIDC-IDRI-0337_1_93.jpg\u001b[0m\n",
      "\u001b[01;35mimg_out_LIDC-IDRI-0116_0_4_100.jpg\u001b[0m   \u001b[01;35mimg_random_LIDC-IDRI-0337_1_94.jpg\u001b[0m\n",
      "\u001b[01;35mimg_out_LIDC-IDRI-0116_0_5_100.jpg\u001b[0m   \u001b[01;35mimg_random_LIDC-IDRI-0337_1_95.jpg\u001b[0m\n",
      "\u001b[01;35mimg_out_LIDC-IDRI-0116_0_6_101.jpg\u001b[0m   \u001b[01;35mimg_random_LIDC-IDRI-0337_1_96.jpg\u001b[0m\n",
      "\u001b[01;35mimg_out_LIDC-IDRI-0116_0_7_101.jpg\u001b[0m   \u001b[01;35mimg_random_LIDC-IDRI-0337_1_97.jpg\u001b[0m\n",
      "\u001b[01;35mimg_out_LIDC-IDRI-0116_0_8_102.jpg\u001b[0m   \u001b[01;35mimg_random_LIDC-IDRI-0337_1_98.jpg\u001b[0m\n",
      "\u001b[01;35mimg_out_LIDC-IDRI-0116_0_9_102.jpg\u001b[0m   \u001b[01;35mimg_random_LIDC-IDRI-0337_1_99.jpg\u001b[0m\n",
      "\u001b[01;35mimg_out_LIDC-IDRI-0118_0_0_65.jpg\u001b[0m    \u001b[01;35mimg_random_LIDC-IDRI-0346_0_41.jpg\u001b[0m\n",
      "\u001b[01;35mimg_out_LIDC-IDRI-0118_0_1_65.jpg\u001b[0m    \u001b[01;35mimg_random_LIDC-IDRI-0346_0_42.jpg\u001b[0m\n",
      "\u001b[01;35mimg_out_LIDC-IDRI-0118_0_2_66.jpg\u001b[0m    \u001b[01;35mimg_random_LIDC-IDRI-0346_0_43.jpg\u001b[0m\n",
      "\u001b[01;35mimg_out_LIDC-IDRI-0118_0_3_66.jpg\u001b[0m    \u001b[01;35mimg_random_LIDC-IDRI-0346_1_50.jpg\u001b[0m\n",
      "\u001b[01;35mimg_out_LIDC-IDRI-0118_0_4_67.jpg\u001b[0m    \u001b[01;35mimg_random_LIDC-IDRI-0346_1_51.jpg\u001b[0m\n",
      "\u001b[01;35mimg_out_LIDC-IDRI-0118_0_5_67.jpg\u001b[0m    \u001b[01;35mimg_random_LIDC-IDRI-0346_1_52.jpg\u001b[0m\n",
      "\u001b[01;35mimg_out_LIDC-IDRI-0118_0_6_68.jpg\u001b[0m    \u001b[01;35mimg_random_LIDC-IDRI-0346_1_53.jpg\u001b[0m\n",
      "\u001b[01;35mimg_out_LIDC-IDRI-0118_0_7_68.jpg\u001b[0m    \u001b[01;35mimg_random_LIDC-IDRI-0346_1_54.jpg\u001b[0m\n",
      "\u001b[01;35mimg_out_LIDC-IDRI-0134_0_0_63.jpg\u001b[0m    \u001b[01;35mimg_random_LIDC-IDRI-0346_2_74.jpg\u001b[0m\n",
      "\u001b[01;35mimg_out_LIDC-IDRI-0134_0_1_63.jpg\u001b[0m    \u001b[01;35mimg_random_LIDC-IDRI-0346_2_75.jpg\u001b[0m\n",
      "\u001b[01;35mimg_out_LIDC-IDRI-0134_0_2_64.jpg\u001b[0m    \u001b[01;35mimg_random_LIDC-IDRI-0346_2_76.jpg\u001b[0m\n",
      "\u001b[01;35mimg_out_LIDC-IDRI-0134_0_3_64.jpg\u001b[0m    \u001b[01;35mimg_random_LIDC-IDRI-0350_0_185.jpg\u001b[0m\n",
      "\u001b[01;35mimg_out_LIDC-IDRI-0134_0_5_65.jpg\u001b[0m    \u001b[01;35mimg_random_LIDC-IDRI-0350_0_186.jpg\u001b[0m\n",
      "\u001b[01;35mimg_out_LIDC-IDRI-0134_0_6_66.jpg\u001b[0m    \u001b[01;35mimg_random_LIDC-IDRI-0350_0_187.jpg\u001b[0m\n",
      "\u001b[01;35mimg_out_LIDC-IDRI-0134_0_7_66.jpg\u001b[0m    \u001b[01;35mimg_random_LIDC-IDRI-0350_0_188.jpg\u001b[0m\n",
      "\u001b[01;35mimg_out_LIDC-IDRI-0134_1_0_65.jpg\u001b[0m    \u001b[01;35mimg_random_LIDC-IDRI-0359_0_27.jpg\u001b[0m\n",
      "\u001b[01;35mimg_out_LIDC-IDRI-0134_1_2_66.jpg\u001b[0m    \u001b[01;35mimg_random_LIDC-IDRI-0359_0_28.jpg\u001b[0m\n",
      "\u001b[01;35mimg_out_LIDC-IDRI-0134_1_3_66.jpg\u001b[0m    \u001b[01;35mimg_random_LIDC-IDRI-0359_0_29.jpg\u001b[0m\n",
      "\u001b[01;35mimg_out_LIDC-IDRI-0134_1_4_67.jpg\u001b[0m    \u001b[01;35mimg_random_LIDC-IDRI-0359_0_30.jpg\u001b[0m\n",
      "\u001b[01;35mimg_out_LIDC-IDRI-0134_1_5_67.jpg\u001b[0m    \u001b[01;35mimg_random_LIDC-IDRI-0359_1_84.jpg\u001b[0m\n",
      "\u001b[01;35mimg_out_LIDC-IDRI-0134_1_6_68.jpg\u001b[0m    \u001b[01;35mimg_random_LIDC-IDRI-0359_1_85.jpg\u001b[0m\n",
      "\u001b[01;35mimg_out_LIDC-IDRI-0134_1_7_68.jpg\u001b[0m    \u001b[01;35mimg_random_LIDC-IDRI-0359_1_86.jpg\u001b[0m\n",
      "\u001b[01;35mimg_out_LIDC-IDRI-0134_1_8_69.jpg\u001b[0m    \u001b[01;35mimg_random_LIDC-IDRI-0359_1_87.jpg\u001b[0m\n",
      "\u001b[01;35mimg_out_LIDC-IDRI-0134_1_9_69.jpg\u001b[0m    \u001b[01;35mimg_random_LIDC-IDRI-0368_0_31.jpg\u001b[0m\n",
      "\u001b[01;35mimg_out_LIDC-IDRI-0144_0_0_22.jpg\u001b[0m    \u001b[01;35mimg_random_LIDC-IDRI-0368_0_32.jpg\u001b[0m\n",
      "\u001b[01;35mimg_out_LIDC-IDRI-0144_0_1_22.jpg\u001b[0m    \u001b[01;35mimg_random_LIDC-IDRI-0368_0_33.jpg\u001b[0m\n",
      "\u001b[01;35mimg_out_LIDC-IDRI-0144_0_2_23.jpg\u001b[0m    \u001b[01;35mimg_random_LIDC-IDRI-0368_0_34.jpg\u001b[0m\n",
      "\u001b[01;35mimg_out_LIDC-IDRI-0144_0_3_23.jpg\u001b[0m    \u001b[01;35mimg_random_LIDC-IDRI-0368_0_35.jpg\u001b[0m\n",
      "\u001b[01;35mimg_out_LIDC-IDRI-0144_1_0_22.jpg\u001b[0m    \u001b[01;35mimg_random_LIDC-IDRI-0368_0_36.jpg\u001b[0m\n",
      "\u001b[01;35mimg_out_LIDC-IDRI-0144_1_1_22.jpg\u001b[0m    \u001b[01;35mimg_random_LIDC-IDRI-0368_0_37.jpg\u001b[0m\n",
      "\u001b[01;35mimg_out_LIDC-IDRI-0144_1_2_23.jpg\u001b[0m    \u001b[01;35mimg_random_LIDC-IDRI-0368_0_38.jpg\u001b[0m\n",
      "\u001b[01;35mimg_out_LIDC-IDRI-0144_1_3_23.jpg\u001b[0m    \u001b[01;35mimg_random_LIDC-IDRI-0368_0_39.jpg\u001b[0m\n",
      "\u001b[01;35mimg_out_LIDC-IDRI-0144_1_4_24.jpg\u001b[0m    \u001b[01;35mimg_random_LIDC-IDRI-0368_1_42.jpg\u001b[0m\n",
      "\u001b[01;35mimg_out_LIDC-IDRI-0144_1_5_24.jpg\u001b[0m    \u001b[01;35mimg_random_LIDC-IDRI-0368_1_43.jpg\u001b[0m\n",
      "\u001b[01;35mimg_out_LIDC-IDRI-0144_1_6_25.jpg\u001b[0m    \u001b[01;35mimg_random_LIDC-IDRI-0368_1_44.jpg\u001b[0m\n",
      "\u001b[01;35mimg_out_LIDC-IDRI-0144_1_7_25.jpg\u001b[0m    \u001b[01;35mimg_random_LIDC-IDRI-0368_2_64.jpg\u001b[0m\n",
      "\u001b[01;35mimg_out_LIDC-IDRI-0144_2_0_63.jpg\u001b[0m    \u001b[01;35mimg_random_LIDC-IDRI-0368_2_65.jpg\u001b[0m\n",
      "\u001b[01;35mimg_out_LIDC-IDRI-0144_2_1_63.jpg\u001b[0m    \u001b[01;35mimg_random_LIDC-IDRI-0368_2_66.jpg\u001b[0m\n",
      "\u001b[01;35mimg_out_LIDC-IDRI-0144_2_2_64.jpg\u001b[0m    \u001b[01;35mimg_random_LIDC-IDRI-0368_2_67.jpg\u001b[0m\n",
      "\u001b[01;35mimg_out_LIDC-IDRI-0144_2_3_64.jpg\u001b[0m    \u001b[01;35mimg_random_LIDC-IDRI-0368_2_68.jpg\u001b[0m\n",
      "\u001b[01;35mimg_out_LIDC-IDRI-0144_2_4_65.jpg\u001b[0m    \u001b[01;35mimg_random_LIDC-IDRI-0368_3_67.jpg\u001b[0m\n",
      "\u001b[01;35mimg_out_LIDC-IDRI-0144_2_5_65.jpg\u001b[0m    \u001b[01;35mimg_random_LIDC-IDRI-0368_3_68.jpg\u001b[0m\n",
      "\u001b[01;35mimg_out_LIDC-IDRI-0144_2_6_66.jpg\u001b[0m    \u001b[01;35mimg_random_LIDC-IDRI-0368_3_69.jpg\u001b[0m\n",
      "\u001b[01;35mimg_out_LIDC-IDRI-0144_2_7_66.jpg\u001b[0m    \u001b[01;35mimg_random_LIDC-IDRI-0368_3_70.jpg\u001b[0m\n",
      "\u001b[01;35mimg_out_LIDC-IDRI-0144_2_8_67.jpg\u001b[0m    \u001b[01;35mimg_random_LIDC-IDRI-0368_3_71.jpg\u001b[0m\n",
      "\u001b[01;35mimg_out_LIDC-IDRI-0144_2_9_67.jpg\u001b[0m    \u001b[01;35mimg_random_LIDC-IDRI-0368_3_72.jpg\u001b[0m\n",
      "\u001b[01;35mimg_out_LIDC-IDRI-0144_3_0_66.jpg\u001b[0m    \u001b[01;35mimg_random_LIDC-IDRI-0368_3_73.jpg\u001b[0m\n",
      "\u001b[01;35mimg_out_LIDC-IDRI-0144_3_1_66.jpg\u001b[0m    \u001b[01;35mimg_random_LIDC-IDRI-0368_3_74.jpg\u001b[0m\n",
      "\u001b[01;35mimg_out_LIDC-IDRI-0144_3_2_67.jpg\u001b[0m    \u001b[01;35mimg_random_LIDC-IDRI-0368_3_75.jpg\u001b[0m\n",
      "\u001b[01;35mimg_out_LIDC-IDRI-0144_3_3_67.jpg\u001b[0m    \u001b[01;35mimg_random_LIDC-IDRI-0368_4_86.jpg\u001b[0m\n",
      "\u001b[01;35mimg_out_LIDC-IDRI-0144_3_4_68.jpg\u001b[0m    \u001b[01;35mimg_random_LIDC-IDRI-0368_4_87.jpg\u001b[0m\n",
      "\u001b[01;35mimg_out_LIDC-IDRI-0144_3_5_68.jpg\u001b[0m    \u001b[01;35mimg_random_LIDC-IDRI-0368_4_88.jpg\u001b[0m\n",
      "\u001b[01;35mimg_out_LIDC-IDRI-0144_3_6_69.jpg\u001b[0m    \u001b[01;35mimg_random_LIDC-IDRI-0368_4_89.jpg\u001b[0m\n",
      "\u001b[01;35mimg_out_LIDC-IDRI-0144_3_7_69.jpg\u001b[0m    \u001b[01;35mimg_random_LIDC-IDRI-0368_4_90.jpg\u001b[0m\n",
      "\u001b[01;35mimg_out_LIDC-IDRI-0145_0_0_59.jpg\u001b[0m    \u001b[01;35mimg_random_LIDC-IDRI-0392_0_153.jpg\u001b[0m\n",
      "\u001b[01;35mimg_out_LIDC-IDRI-0145_0_1_59.jpg\u001b[0m    \u001b[01;35mimg_random_LIDC-IDRI-0392_0_154.jpg\u001b[0m\n",
      "\u001b[01;35mimg_out_LIDC-IDRI-0145_0_2_60.jpg\u001b[0m    \u001b[01;35mimg_random_LIDC-IDRI-0392_0_155.jpg\u001b[0m\n",
      "\u001b[01;35mimg_out_LIDC-IDRI-0145_0_3_60.jpg\u001b[0m    \u001b[01;35mimg_random_LIDC-IDRI-0392_0_156.jpg\u001b[0m\n",
      "\u001b[01;35mimg_out_LIDC-IDRI-0145_0_4_61.jpg\u001b[0m    \u001b[01;35mimg_random_LIDC-IDRI-0394_0_128.jpg\u001b[0m\n",
      "\u001b[01;35mimg_out_LIDC-IDRI-0145_0_5_61.jpg\u001b[0m    \u001b[01;35mimg_random_LIDC-IDRI-0394_0_129.jpg\u001b[0m\n",
      "\u001b[01;35mimg_out_LIDC-IDRI-0145_0_6_62.jpg\u001b[0m    \u001b[01;35mimg_random_LIDC-IDRI-0394_0_130.jpg\u001b[0m\n",
      "\u001b[01;35mimg_out_LIDC-IDRI-0145_0_7_62.jpg\u001b[0m    \u001b[01;35mimg_random_LIDC-IDRI-0394_1_141.jpg\u001b[0m\n",
      "\u001b[01;35mimg_out_LIDC-IDRI-0168_0_0_64.jpg\u001b[0m    \u001b[01;35mimg_random_LIDC-IDRI-0394_1_142.jpg\u001b[0m\n",
      "\u001b[01;35mimg_out_LIDC-IDRI-0168_0_1_64.jpg\u001b[0m    \u001b[01;35mimg_random_LIDC-IDRI-0394_1_143.jpg\u001b[0m\n",
      "\u001b[01;35mimg_out_LIDC-IDRI-0168_0_2_65.jpg\u001b[0m    \u001b[01;35mimg_random_LIDC-IDRI-0394_1_144.jpg\u001b[0m\n",
      "\u001b[01;35mimg_out_LIDC-IDRI-0168_0_3_65.jpg\u001b[0m    \u001b[01;35mimg_random_LIDC-IDRI-0394_1_145.jpg\u001b[0m\n",
      "\u001b[01;35mimg_out_LIDC-IDRI-0168_0_4_66.jpg\u001b[0m    \u001b[01;35mimg_random_LIDC-IDRI-0394_1_146.jpg\u001b[0m\n",
      "\u001b[01;35mimg_out_LIDC-IDRI-0168_0_5_66.jpg\u001b[0m    \u001b[01;35mimg_random_LIDC-IDRI-0394_1_147.jpg\u001b[0m\n",
      "\u001b[01;35mimg_out_LIDC-IDRI-0168_0_6_67.jpg\u001b[0m    \u001b[01;35mimg_random_LIDC-IDRI-0426_0_46.jpg\u001b[0m\n",
      "\u001b[01;35mimg_out_LIDC-IDRI-0168_0_7_67.jpg\u001b[0m    \u001b[01;35mimg_random_LIDC-IDRI-0426_0_47.jpg\u001b[0m\n",
      "\u001b[01;35mimg_out_LIDC-IDRI-0209_0_0_43.jpg\u001b[0m    \u001b[01;35mimg_random_LIDC-IDRI-0426_0_48.jpg\u001b[0m\n",
      "\u001b[01;35mimg_out_LIDC-IDRI-0209_0_10_48.jpg\u001b[0m   \u001b[01;35mimg_random_LIDC-IDRI-0426_0_49.jpg\u001b[0m\n",
      "\u001b[01;35mimg_out_LIDC-IDRI-0209_0_11_48.jpg\u001b[0m   \u001b[01;35mimg_random_LIDC-IDRI-0435_0_54.jpg\u001b[0m\n",
      "\u001b[01;35mimg_out_LIDC-IDRI-0209_0_12_49.jpg\u001b[0m   \u001b[01;35mimg_random_LIDC-IDRI-0435_0_55.jpg\u001b[0m\n",
      "\u001b[01;35mimg_out_LIDC-IDRI-0209_0_13_49.jpg\u001b[0m   \u001b[01;35mimg_random_LIDC-IDRI-0439_0_78.jpg\u001b[0m\n",
      "\u001b[01;35mimg_out_LIDC-IDRI-0209_0_14_50.jpg\u001b[0m   \u001b[01;35mimg_random_LIDC-IDRI-0439_0_79.jpg\u001b[0m\n",
      "\u001b[01;35mimg_out_LIDC-IDRI-0209_0_15_50.jpg\u001b[0m   \u001b[01;35mimg_random_LIDC-IDRI-0439_0_80.jpg\u001b[0m\n",
      "\u001b[01;35mimg_out_LIDC-IDRI-0209_0_1_43.jpg\u001b[0m    \u001b[01;35mimg_random_LIDC-IDRI-0439_0_81.jpg\u001b[0m\n",
      "\u001b[01;35mimg_out_LIDC-IDRI-0209_0_2_44.jpg\u001b[0m    \u001b[01;35mimg_random_LIDC-IDRI-0439_0_82.jpg\u001b[0m\n",
      "\u001b[01;35mimg_out_LIDC-IDRI-0209_0_3_44.jpg\u001b[0m    \u001b[01;35mimg_random_LIDC-IDRI-0439_0_83.jpg\u001b[0m\n",
      "\u001b[01;35mimg_out_LIDC-IDRI-0209_0_4_45.jpg\u001b[0m    \u001b[01;35mimg_random_LIDC-IDRI-0439_0_84.jpg\u001b[0m\n",
      "\u001b[01;35mimg_out_LIDC-IDRI-0209_0_5_45.jpg\u001b[0m    \u001b[01;35mimg_random_LIDC-IDRI-0439_0_85.jpg\u001b[0m\n",
      "\u001b[01;35mimg_out_LIDC-IDRI-0209_0_6_46.jpg\u001b[0m    \u001b[01;35mimg_random_LIDC-IDRI-0447_0_64.jpg\u001b[0m\n",
      "\u001b[01;35mimg_out_LIDC-IDRI-0209_0_7_46.jpg\u001b[0m    \u001b[01;35mimg_random_LIDC-IDRI-0447_0_65.jpg\u001b[0m\n",
      "\u001b[01;35mimg_out_LIDC-IDRI-0209_0_8_47.jpg\u001b[0m    \u001b[01;35mimg_random_LIDC-IDRI-0447_0_66.jpg\u001b[0m\n",
      "\u001b[01;35mimg_out_LIDC-IDRI-0209_0_9_47.jpg\u001b[0m    \u001b[01;35mimg_random_LIDC-IDRI-0447_0_67.jpg\u001b[0m\n",
      "\u001b[01;35mimg_out_LIDC-IDRI-0215_0_0_175.jpg\u001b[0m   \u001b[01;35mimg_random_LIDC-IDRI-0447_0_68.jpg\u001b[0m\n",
      "\u001b[01;35mimg_out_LIDC-IDRI-0215_0_1_175.jpg\u001b[0m   \u001b[01;35mimg_random_LIDC-IDRI-0447_0_69.jpg\u001b[0m\n",
      "\u001b[01;35mimg_out_LIDC-IDRI-0215_0_2_176.jpg\u001b[0m   \u001b[01;35mimg_random_LIDC-IDRI-0447_0_70.jpg\u001b[0m\n",
      "\u001b[01;35mimg_out_LIDC-IDRI-0215_0_3_176.jpg\u001b[0m   \u001b[01;35mimg_random_LIDC-IDRI-0447_0_71.jpg\u001b[0m\n",
      "\u001b[01;35mimg_out_LIDC-IDRI-0215_0_4_177.jpg\u001b[0m   \u001b[01;35mimg_random_LIDC-IDRI-0447_0_72.jpg\u001b[0m\n",
      "\u001b[01;35mimg_out_LIDC-IDRI-0215_0_5_177.jpg\u001b[0m   \u001b[01;35mimg_random_LIDC-IDRI-0451_0_110.jpg\u001b[0m\n",
      "\u001b[01;35mimg_out_LIDC-IDRI-0215_0_6_178.jpg\u001b[0m   \u001b[01;35mimg_random_LIDC-IDRI-0451_0_111.jpg\u001b[0m\n",
      "\u001b[01;35mimg_out_LIDC-IDRI-0215_0_7_178.jpg\u001b[0m   \u001b[01;35mimg_random_LIDC-IDRI-0451_0_112.jpg\u001b[0m\n",
      "\u001b[01;35mimg_out_LIDC-IDRI-0223_0_0_191.jpg\u001b[0m   \u001b[01;35mimg_random_LIDC-IDRI-0451_0_113.jpg\u001b[0m\n",
      "\u001b[01;35mimg_out_LIDC-IDRI-0223_0_10_196.jpg\u001b[0m  \u001b[01;35mimg_random_LIDC-IDRI-0451_0_114.jpg\u001b[0m\n",
      "\u001b[01;35mimg_out_LIDC-IDRI-0223_0_11_196.jpg\u001b[0m  \u001b[01;35mimg_random_LIDC-IDRI-0451_0_115.jpg\u001b[0m\n",
      "\u001b[01;35mimg_out_LIDC-IDRI-0223_0_12_197.jpg\u001b[0m  \u001b[01;35mimg_random_LIDC-IDRI-0489_0_39.jpg\u001b[0m\n",
      "\u001b[01;35mimg_out_LIDC-IDRI-0223_0_13_197.jpg\u001b[0m  \u001b[01;35mimg_random_LIDC-IDRI-0489_0_40.jpg\u001b[0m\n",
      "\u001b[01;35mimg_out_LIDC-IDRI-0223_0_14_198.jpg\u001b[0m  \u001b[01;35mimg_random_LIDC-IDRI-0489_0_41.jpg\u001b[0m\n",
      "\u001b[01;35mimg_out_LIDC-IDRI-0223_0_15_198.jpg\u001b[0m  \u001b[01;35mimg_random_LIDC-IDRI-0489_0_42.jpg\u001b[0m\n",
      "\u001b[01;35mimg_out_LIDC-IDRI-0223_0_16_199.jpg\u001b[0m  \u001b[01;35mimg_random_LIDC-IDRI-0489_0_43.jpg\u001b[0m\n",
      "\u001b[01;35mimg_out_LIDC-IDRI-0223_0_17_199.jpg\u001b[0m  \u001b[01;35mimg_random_LIDC-IDRI-0489_0_44.jpg\u001b[0m\n",
      "\u001b[01;35mimg_out_LIDC-IDRI-0223_0_18_200.jpg\u001b[0m  \u001b[01;35mimg_random_LIDC-IDRI-0489_1_63.jpg\u001b[0m\n",
      "\u001b[01;35mimg_out_LIDC-IDRI-0223_0_19_200.jpg\u001b[0m  \u001b[01;35mimg_random_LIDC-IDRI-0489_1_64.jpg\u001b[0m\n",
      "\u001b[01;35mimg_out_LIDC-IDRI-0223_0_1_191.jpg\u001b[0m   \u001b[01;35mimg_random_LIDC-IDRI-0489_1_65.jpg\u001b[0m\n",
      "\u001b[01;35mimg_out_LIDC-IDRI-0223_0_20_201.jpg\u001b[0m  \u001b[01;35mimg_random_LIDC-IDRI-0489_1_66.jpg\u001b[0m\n",
      "\u001b[01;35mimg_out_LIDC-IDRI-0223_0_21_201.jpg\u001b[0m  \u001b[01;35mimg_random_LIDC-IDRI-0489_1_67.jpg\u001b[0m\n",
      "\u001b[01;35mimg_out_LIDC-IDRI-0223_0_22_202.jpg\u001b[0m  \u001b[01;35mimg_random_LIDC-IDRI-0489_1_68.jpg\u001b[0m\n",
      "\u001b[01;35mimg_out_LIDC-IDRI-0223_0_23_202.jpg\u001b[0m  \u001b[01;35mimg_random_LIDC-IDRI-0489_1_69.jpg\u001b[0m\n",
      "\u001b[01;35mimg_out_LIDC-IDRI-0223_0_2_192.jpg\u001b[0m   \u001b[01;35mimg_random_LIDC-IDRI-0489_1_70.jpg\u001b[0m\n",
      "\u001b[01;35mimg_out_LIDC-IDRI-0223_0_3_192.jpg\u001b[0m   \u001b[01;35mimg_random_LIDC-IDRI-0489_1_71.jpg\u001b[0m\n",
      "\u001b[01;35mimg_out_LIDC-IDRI-0223_0_4_193.jpg\u001b[0m   \u001b[01;35mimg_random_LIDC-IDRI-0489_2_75.jpg\u001b[0m\n",
      "\u001b[01;35mimg_out_LIDC-IDRI-0223_0_5_193.jpg\u001b[0m   \u001b[01;35mimg_random_LIDC-IDRI-0489_2_76.jpg\u001b[0m\n",
      "\u001b[01;35mimg_out_LIDC-IDRI-0223_0_6_194.jpg\u001b[0m   \u001b[01;35mimg_random_LIDC-IDRI-0489_2_77.jpg\u001b[0m\n",
      "\u001b[01;35mimg_out_LIDC-IDRI-0223_0_7_194.jpg\u001b[0m   \u001b[01;35mimg_random_LIDC-IDRI-0489_2_78.jpg\u001b[0m\n",
      "\u001b[01;35mimg_out_LIDC-IDRI-0223_0_8_195.jpg\u001b[0m   \u001b[01;35mimg_random_LIDC-IDRI-0489_3_92.jpg\u001b[0m\n",
      "\u001b[01;35mimg_out_LIDC-IDRI-0223_0_9_195.jpg\u001b[0m   \u001b[01;35mimg_random_LIDC-IDRI-0489_3_93.jpg\u001b[0m\n",
      "\u001b[01;35mimg_out_LIDC-IDRI-0229_0_0_92.jpg\u001b[0m    \u001b[01;35mimg_random_LIDC-IDRI-0489_3_94.jpg\u001b[0m\n",
      "\u001b[01;35mimg_out_LIDC-IDRI-0229_0_1_92.jpg\u001b[0m    \u001b[01;35mimg_random_LIDC-IDRI-0489_3_95.jpg\u001b[0m\n",
      "\u001b[01;35mimg_out_LIDC-IDRI-0229_0_2_93.jpg\u001b[0m    \u001b[01;35mimg_random_LIDC-IDRI-0489_3_96.jpg\u001b[0m\n",
      "\u001b[01;35mimg_out_LIDC-IDRI-0229_0_3_93.jpg\u001b[0m    \u001b[01;35mimg_random_LIDC-IDRI-0489_3_97.jpg\u001b[0m\n",
      "\u001b[01;35mimg_out_LIDC-IDRI-0229_1_0_92.jpg\u001b[0m    \u001b[01;35mimg_random_LIDC-IDRI-0515_0_172.jpg\u001b[0m\n",
      "\u001b[01;35mimg_out_LIDC-IDRI-0229_1_10_97.jpg\u001b[0m   \u001b[01;35mimg_random_LIDC-IDRI-0515_0_173.jpg\u001b[0m\n",
      "\u001b[01;35mimg_out_LIDC-IDRI-0229_1_11_97.jpg\u001b[0m   \u001b[01;35mimg_random_LIDC-IDRI-0515_0_174.jpg\u001b[0m\n",
      "\u001b[01;35mimg_out_LIDC-IDRI-0229_1_12_98.jpg\u001b[0m   \u001b[01;35mimg_random_LIDC-IDRI-0515_0_175.jpg\u001b[0m\n",
      "\u001b[01;35mimg_out_LIDC-IDRI-0229_1_13_98.jpg\u001b[0m   \u001b[01;35mimg_random_LIDC-IDRI-0515_0_176.jpg\u001b[0m\n",
      "\u001b[01;35mimg_out_LIDC-IDRI-0229_1_14_99.jpg\u001b[0m   \u001b[01;35mimg_random_LIDC-IDRI-0515_0_177.jpg\u001b[0m\n",
      "\u001b[01;35mimg_out_LIDC-IDRI-0229_1_15_99.jpg\u001b[0m   \u001b[01;35mimg_random_LIDC-IDRI-0515_0_178.jpg\u001b[0m\n",
      "\u001b[01;35mimg_out_LIDC-IDRI-0229_1_1_92.jpg\u001b[0m    \u001b[01;35mimg_random_LIDC-IDRI-0515_0_179.jpg\u001b[0m\n",
      "\u001b[01;35mimg_out_LIDC-IDRI-0229_1_2_93.jpg\u001b[0m    \u001b[01;35mimg_random_LIDC-IDRI-0515_0_180.jpg\u001b[0m\n",
      "\u001b[01;35mimg_out_LIDC-IDRI-0229_1_3_93.jpg\u001b[0m    \u001b[01;35mimg_random_LIDC-IDRI-0515_0_181.jpg\u001b[0m\n",
      "\u001b[01;35mimg_out_LIDC-IDRI-0229_1_4_94.jpg\u001b[0m    \u001b[01;35mimg_random_LIDC-IDRI-0515_0_182.jpg\u001b[0m\n",
      "\u001b[01;35mimg_out_LIDC-IDRI-0229_1_5_94.jpg\u001b[0m    \u001b[01;35mimg_random_LIDC-IDRI-0515_0_183.jpg\u001b[0m\n",
      "\u001b[01;35mimg_out_LIDC-IDRI-0229_1_6_95.jpg\u001b[0m    \u001b[01;35mimg_random_LIDC-IDRI-0515_0_184.jpg\u001b[0m\n",
      "\u001b[01;35mimg_out_LIDC-IDRI-0229_1_7_95.jpg\u001b[0m    \u001b[01;35mimg_random_LIDC-IDRI-0515_0_185.jpg\u001b[0m\n",
      "\u001b[01;35mimg_out_LIDC-IDRI-0229_1_8_96.jpg\u001b[0m    \u001b[01;35mimg_random_LIDC-IDRI-0515_0_186.jpg\u001b[0m\n",
      "\u001b[01;35mimg_out_LIDC-IDRI-0229_1_9_96.jpg\u001b[0m    \u001b[01;35mimg_random_LIDC-IDRI-0526_0_48.jpg\u001b[0m\n",
      "\u001b[01;35mimg_out_LIDC-IDRI-0229_2_0_100.jpg\u001b[0m   \u001b[01;35mimg_random_LIDC-IDRI-0526_0_49.jpg\u001b[0m\n",
      "\u001b[01;35mimg_out_LIDC-IDRI-0229_2_1_100.jpg\u001b[0m   \u001b[01;35mimg_random_LIDC-IDRI-0526_0_50.jpg\u001b[0m\n",
      "\u001b[01;35mimg_out_LIDC-IDRI-0229_2_2_101.jpg\u001b[0m   \u001b[01;35mimg_random_LIDC-IDRI-0526_0_51.jpg\u001b[0m\n",
      "\u001b[01;35mimg_out_LIDC-IDRI-0229_2_3_101.jpg\u001b[0m   \u001b[01;35mimg_random_LIDC-IDRI-0526_0_52.jpg\u001b[0m\n",
      "\u001b[01;35mimg_out_LIDC-IDRI-0229_2_4_102.jpg\u001b[0m   \u001b[01;35mimg_random_LIDC-IDRI-0526_0_53.jpg\u001b[0m\n",
      "\u001b[01;35mimg_out_LIDC-IDRI-0229_2_5_102.jpg\u001b[0m   \u001b[01;35mimg_random_LIDC-IDRI-0526_0_54.jpg\u001b[0m\n",
      "\u001b[01;35mimg_out_LIDC-IDRI-0229_2_6_103.jpg\u001b[0m   \u001b[01;35mimg_random_LIDC-IDRI-0526_1_55.jpg\u001b[0m\n",
      "\u001b[01;35mimg_out_LIDC-IDRI-0229_2_7_103.jpg\u001b[0m   \u001b[01;35mimg_random_LIDC-IDRI-0526_1_56.jpg\u001b[0m\n",
      "\u001b[01;35mimg_out_LIDC-IDRI-0229_3_0_102.jpg\u001b[0m   \u001b[01;35mimg_random_LIDC-IDRI-0526_1_57.jpg\u001b[0m\n",
      "\u001b[01;35mimg_out_LIDC-IDRI-0229_3_1_102.jpg\u001b[0m   \u001b[01;35mimg_random_LIDC-IDRI-0526_1_58.jpg\u001b[0m\n",
      "\u001b[01;35mimg_out_LIDC-IDRI-0229_3_2_103.jpg\u001b[0m   \u001b[01;35mimg_random_LIDC-IDRI-0526_1_59.jpg\u001b[0m\n",
      "\u001b[01;35mimg_out_LIDC-IDRI-0229_3_3_103.jpg\u001b[0m   \u001b[01;35mimg_random_LIDC-IDRI-0526_2_79.jpg\u001b[0m\n",
      "\u001b[01;35mimg_out_LIDC-IDRI-0229_3_4_104.jpg\u001b[0m   \u001b[01;35mimg_random_LIDC-IDRI-0526_2_80.jpg\u001b[0m\n",
      "\u001b[01;35mimg_out_LIDC-IDRI-0229_3_5_104.jpg\u001b[0m   \u001b[01;35mimg_random_LIDC-IDRI-0526_2_81.jpg\u001b[0m\n",
      "\u001b[01;35mimg_out_LIDC-IDRI-0229_3_6_105.jpg\u001b[0m   \u001b[01;35mimg_random_LIDC-IDRI-0526_2_82.jpg\u001b[0m\n",
      "\u001b[01;35mimg_out_LIDC-IDRI-0229_3_7_105.jpg\u001b[0m   \u001b[01;35mimg_random_LIDC-IDRI-0526_2_83.jpg\u001b[0m\n",
      "\u001b[01;35mimg_out_LIDC-IDRI-0229_4_0_107.jpg\u001b[0m   \u001b[01;35mimg_random_LIDC-IDRI-0526_2_84.jpg\u001b[0m\n",
      "\u001b[01;35mimg_out_LIDC-IDRI-0229_4_2_108.jpg\u001b[0m   \u001b[01;35mimg_random_LIDC-IDRI-0526_2_85.jpg\u001b[0m\n",
      "\u001b[01;35mimg_out_LIDC-IDRI-0229_4_3_108.jpg\u001b[0m   \u001b[01;35mimg_random_LIDC-IDRI-0537_0_114.jpg\u001b[0m\n",
      "\u001b[01;35mimg_out_LIDC-IDRI-0229_5_0_108.jpg\u001b[0m   \u001b[01;35mimg_random_LIDC-IDRI-0537_0_115.jpg\u001b[0m\n",
      "\u001b[01;35mimg_out_LIDC-IDRI-0229_5_10_113.jpg\u001b[0m  \u001b[01;35mimg_random_LIDC-IDRI-0537_0_116.jpg\u001b[0m\n",
      "\u001b[01;35mimg_out_LIDC-IDRI-0229_5_11_113.jpg\u001b[0m  \u001b[01;35mimg_random_LIDC-IDRI-0537_0_117.jpg\u001b[0m\n",
      "\u001b[01;35mimg_out_LIDC-IDRI-0229_5_1_108.jpg\u001b[0m   \u001b[01;35mimg_random_LIDC-IDRI-0537_0_118.jpg\u001b[0m\n",
      "\u001b[01;35mimg_out_LIDC-IDRI-0229_5_2_109.jpg\u001b[0m   \u001b[01;35mimg_random_LIDC-IDRI-0537_0_119.jpg\u001b[0m\n",
      "\u001b[01;35mimg_out_LIDC-IDRI-0229_5_3_109.jpg\u001b[0m   \u001b[01;35mimg_random_LIDC-IDRI-0537_0_120.jpg\u001b[0m\n",
      "\u001b[01;35mimg_out_LIDC-IDRI-0229_5_4_110.jpg\u001b[0m   \u001b[01;35mimg_random_LIDC-IDRI-0537_0_121.jpg\u001b[0m\n",
      "\u001b[01;35mimg_out_LIDC-IDRI-0229_5_5_110.jpg\u001b[0m   \u001b[01;35mimg_random_LIDC-IDRI-0537_0_122.jpg\u001b[0m\n",
      "\u001b[01;35mimg_out_LIDC-IDRI-0229_5_6_111.jpg\u001b[0m   \u001b[01;35mimg_random_LIDC-IDRI-0537_0_123.jpg\u001b[0m\n",
      "\u001b[01;35mimg_out_LIDC-IDRI-0229_5_7_111.jpg\u001b[0m   \u001b[01;35mimg_random_LIDC-IDRI-0543_0_390.jpg\u001b[0m\n",
      "\u001b[01;35mimg_out_LIDC-IDRI-0229_5_8_112.jpg\u001b[0m   \u001b[01;35mimg_random_LIDC-IDRI-0543_0_391.jpg\u001b[0m\n",
      "\u001b[01;35mimg_out_LIDC-IDRI-0229_5_9_112.jpg\u001b[0m   \u001b[01;35mimg_random_LIDC-IDRI-0543_0_392.jpg\u001b[0m\n",
      "\u001b[01;35mimg_out_LIDC-IDRI-0234_0_0_41.jpg\u001b[0m    \u001b[01;35mimg_random_LIDC-IDRI-0543_0_393.jpg\u001b[0m\n",
      "\u001b[01;35mimg_out_LIDC-IDRI-0234_0_1_41.jpg\u001b[0m    \u001b[01;35mimg_random_LIDC-IDRI-0543_0_394.jpg\u001b[0m\n",
      "\u001b[01;35mimg_out_LIDC-IDRI-0234_0_2_42.jpg\u001b[0m    \u001b[01;35mimg_random_LIDC-IDRI-0543_0_395.jpg\u001b[0m\n",
      "\u001b[01;35mimg_out_LIDC-IDRI-0234_0_3_42.jpg\u001b[0m    \u001b[01;35mimg_random_LIDC-IDRI-0543_0_396.jpg\u001b[0m\n",
      "\u001b[01;35mimg_out_LIDC-IDRI-0234_0_4_43.jpg\u001b[0m    \u001b[01;35mimg_random_LIDC-IDRI-0543_0_397.jpg\u001b[0m\n",
      "\u001b[01;35mimg_out_LIDC-IDRI-0234_0_5_43.jpg\u001b[0m    \u001b[01;35mimg_random_LIDC-IDRI-0543_0_398.jpg\u001b[0m\n",
      "\u001b[01;35mimg_out_LIDC-IDRI-0262_0_0_107.jpg\u001b[0m   \u001b[01;35mimg_random_LIDC-IDRI-0543_0_399.jpg\u001b[0m\n",
      "\u001b[01;35mimg_out_LIDC-IDRI-0262_0_10_112.jpg\u001b[0m  \u001b[01;35mimg_random_LIDC-IDRI-0543_0_400.jpg\u001b[0m\n",
      "\u001b[01;35mimg_out_LIDC-IDRI-0262_0_11_112.jpg\u001b[0m  \u001b[01;35mimg_random_LIDC-IDRI-0543_1_411.jpg\u001b[0m\n",
      "\u001b[01;35mimg_out_LIDC-IDRI-0262_0_12_113.jpg\u001b[0m  \u001b[01;35mimg_random_LIDC-IDRI-0543_1_412.jpg\u001b[0m\n",
      "\u001b[01;35mimg_out_LIDC-IDRI-0262_0_13_113.jpg\u001b[0m  \u001b[01;35mimg_random_LIDC-IDRI-0543_1_413.jpg\u001b[0m\n",
      "\u001b[01;35mimg_out_LIDC-IDRI-0262_0_1_107.jpg\u001b[0m   \u001b[01;35mimg_random_LIDC-IDRI-0543_1_414.jpg\u001b[0m\n",
      "\u001b[01;35mimg_out_LIDC-IDRI-0262_0_2_108.jpg\u001b[0m   \u001b[01;35mimg_random_LIDC-IDRI-0543_1_415.jpg\u001b[0m\n",
      "\u001b[01;35mimg_out_LIDC-IDRI-0262_0_3_108.jpg\u001b[0m   \u001b[01;35mimg_random_LIDC-IDRI-0543_1_416.jpg\u001b[0m\n",
      "\u001b[01;35mimg_out_LIDC-IDRI-0262_0_4_109.jpg\u001b[0m   \u001b[01;35mimg_random_LIDC-IDRI-0543_1_417.jpg\u001b[0m\n",
      "\u001b[01;35mimg_out_LIDC-IDRI-0262_0_5_109.jpg\u001b[0m   \u001b[01;35mimg_random_LIDC-IDRI-0543_1_418.jpg\u001b[0m\n",
      "\u001b[01;35mimg_out_LIDC-IDRI-0262_0_6_110.jpg\u001b[0m   \u001b[01;35mimg_random_LIDC-IDRI-0543_1_419.jpg\u001b[0m\n",
      "\u001b[01;35mimg_out_LIDC-IDRI-0262_0_7_110.jpg\u001b[0m   \u001b[01;35mimg_random_LIDC-IDRI-0543_1_420.jpg\u001b[0m\n",
      "\u001b[01;35mimg_out_LIDC-IDRI-0262_0_8_111.jpg\u001b[0m   \u001b[01;35mimg_random_LIDC-IDRI-0543_1_421.jpg\u001b[0m\n",
      "\u001b[01;35mimg_out_LIDC-IDRI-0262_0_9_111.jpg\u001b[0m   \u001b[01;35mimg_random_LIDC-IDRI-0543_1_422.jpg\u001b[0m\n",
      "\u001b[01;35mimg_out_LIDC-IDRI-0332_0_0_92.jpg\u001b[0m    \u001b[01;35mimg_random_LIDC-IDRI-0543_1_423.jpg\u001b[0m\n",
      "\u001b[01;35mimg_out_LIDC-IDRI-0332_0_10_97.jpg\u001b[0m   \u001b[01;35mimg_random_LIDC-IDRI-0543_1_424.jpg\u001b[0m\n",
      "\u001b[01;35mimg_out_LIDC-IDRI-0332_0_11_97.jpg\u001b[0m   \u001b[01;35mimg_random_LIDC-IDRI-0543_1_425.jpg\u001b[0m\n",
      "\u001b[01;35mimg_out_LIDC-IDRI-0332_0_12_98.jpg\u001b[0m   \u001b[01;35mimg_random_LIDC-IDRI-0543_1_426.jpg\u001b[0m\n",
      "\u001b[01;35mimg_out_LIDC-IDRI-0332_0_13_98.jpg\u001b[0m   \u001b[01;35mimg_random_LIDC-IDRI-0543_1_427.jpg\u001b[0m\n",
      "\u001b[01;35mimg_out_LIDC-IDRI-0332_0_14_99.jpg\u001b[0m   \u001b[01;35mimg_random_LIDC-IDRI-0543_1_428.jpg\u001b[0m\n",
      "\u001b[01;35mimg_out_LIDC-IDRI-0332_0_16_100.jpg\u001b[0m  \u001b[01;35mimg_random_LIDC-IDRI-0543_1_429.jpg\u001b[0m\n",
      "\u001b[01;35mimg_out_LIDC-IDRI-0332_0_17_100.jpg\u001b[0m  \u001b[01;35mimg_random_LIDC-IDRI-0543_1_430.jpg\u001b[0m\n",
      "\u001b[01;35mimg_out_LIDC-IDRI-0332_0_18_101.jpg\u001b[0m  \u001b[01;35mimg_random_LIDC-IDRI-0543_1_431.jpg\u001b[0m\n",
      "\u001b[01;35mimg_out_LIDC-IDRI-0332_0_19_101.jpg\u001b[0m  \u001b[01;35mimg_random_LIDC-IDRI-0543_1_432.jpg\u001b[0m\n",
      "\u001b[01;35mimg_out_LIDC-IDRI-0332_0_1_92.jpg\u001b[0m    \u001b[01;35mimg_random_LIDC-IDRI-0543_1_433.jpg\u001b[0m\n",
      "\u001b[01;35mimg_out_LIDC-IDRI-0332_0_20_102.jpg\u001b[0m  \u001b[01;35mimg_random_LIDC-IDRI-0543_1_434.jpg\u001b[0m\n",
      "\u001b[01;35mimg_out_LIDC-IDRI-0332_0_21_102.jpg\u001b[0m  \u001b[01;35mimg_random_LIDC-IDRI-0543_1_435.jpg\u001b[0m\n",
      "\u001b[01;35mimg_out_LIDC-IDRI-0332_0_22_103.jpg\u001b[0m  \u001b[01;35mimg_random_LIDC-IDRI-0543_1_436.jpg\u001b[0m\n",
      "\u001b[01;35mimg_out_LIDC-IDRI-0332_0_23_103.jpg\u001b[0m  \u001b[01;35mimg_random_LIDC-IDRI-0543_1_437.jpg\u001b[0m\n",
      "\u001b[01;35mimg_out_LIDC-IDRI-0332_0_24_104.jpg\u001b[0m  \u001b[01;35mimg_random_LIDC-IDRI-0543_1_438.jpg\u001b[0m\n",
      "\u001b[01;35mimg_out_LIDC-IDRI-0332_0_25_104.jpg\u001b[0m  \u001b[01;35mimg_random_LIDC-IDRI-0543_1_439.jpg\u001b[0m\n",
      "\u001b[01;35mimg_out_LIDC-IDRI-0332_0_2_93.jpg\u001b[0m    \u001b[01;35mimg_random_LIDC-IDRI-0549_0_85.jpg\u001b[0m\n",
      "\u001b[01;35mimg_out_LIDC-IDRI-0332_0_3_93.jpg\u001b[0m    \u001b[01;35mimg_random_LIDC-IDRI-0549_0_86.jpg\u001b[0m\n",
      "\u001b[01;35mimg_out_LIDC-IDRI-0332_0_4_94.jpg\u001b[0m    \u001b[01;35mimg_random_LIDC-IDRI-0549_0_87.jpg\u001b[0m\n",
      "\u001b[01;35mimg_out_LIDC-IDRI-0332_0_5_94.jpg\u001b[0m    \u001b[01;35mimg_random_LIDC-IDRI-0549_0_88.jpg\u001b[0m\n",
      "\u001b[01;35mimg_out_LIDC-IDRI-0332_0_6_95.jpg\u001b[0m    \u001b[01;35mimg_random_LIDC-IDRI-0549_0_89.jpg\u001b[0m\n",
      "\u001b[01;35mimg_out_LIDC-IDRI-0332_0_7_95.jpg\u001b[0m    \u001b[01;35mimg_random_LIDC-IDRI-0549_0_90.jpg\u001b[0m\n",
      "\u001b[01;35mimg_out_LIDC-IDRI-0332_0_8_96.jpg\u001b[0m    \u001b[01;35mimg_random_LIDC-IDRI-0549_0_91.jpg\u001b[0m\n",
      "\u001b[01;35mimg_out_LIDC-IDRI-0332_0_9_96.jpg\u001b[0m    \u001b[01;35mimg_random_LIDC-IDRI-0549_1_100.jpg\u001b[0m\n",
      "\u001b[01;35mimg_out_LIDC-IDRI-0332_1_0_160.jpg\u001b[0m   \u001b[01;35mimg_random_LIDC-IDRI-0549_1_101.jpg\u001b[0m\n",
      "\u001b[01;35mimg_out_LIDC-IDRI-0332_1_10_165.jpg\u001b[0m  \u001b[01;35mimg_random_LIDC-IDRI-0549_1_102.jpg\u001b[0m\n",
      "\u001b[01;35mimg_out_LIDC-IDRI-0332_1_11_165.jpg\u001b[0m  \u001b[01;35mimg_random_LIDC-IDRI-0549_1_103.jpg\u001b[0m\n",
      "\u001b[01;35mimg_out_LIDC-IDRI-0332_1_12_166.jpg\u001b[0m  \u001b[01;35mimg_random_LIDC-IDRI-0549_2_112.jpg\u001b[0m\n",
      "\u001b[01;35mimg_out_LIDC-IDRI-0332_1_13_166.jpg\u001b[0m  \u001b[01;35mimg_random_LIDC-IDRI-0549_2_113.jpg\u001b[0m\n",
      "\u001b[01;35mimg_out_LIDC-IDRI-0332_1_14_167.jpg\u001b[0m  \u001b[01;35mimg_random_LIDC-IDRI-0549_2_114.jpg\u001b[0m\n",
      "\u001b[01;35mimg_out_LIDC-IDRI-0332_1_15_167.jpg\u001b[0m  \u001b[01;35mimg_random_LIDC-IDRI-0549_2_115.jpg\u001b[0m\n",
      "\u001b[01;35mimg_out_LIDC-IDRI-0332_1_1_160.jpg\u001b[0m   \u001b[01;35mimg_random_LIDC-IDRI-0549_3_121.jpg\u001b[0m\n",
      "\u001b[01;35mimg_out_LIDC-IDRI-0332_1_2_161.jpg\u001b[0m   \u001b[01;35mimg_random_LIDC-IDRI-0549_3_122.jpg\u001b[0m\n",
      "\u001b[01;35mimg_out_LIDC-IDRI-0332_1_3_161.jpg\u001b[0m   \u001b[01;35mimg_random_LIDC-IDRI-0549_3_123.jpg\u001b[0m\n",
      "\u001b[01;35mimg_out_LIDC-IDRI-0332_1_4_162.jpg\u001b[0m   \u001b[01;35mimg_random_LIDC-IDRI-0549_3_124.jpg\u001b[0m\n",
      "\u001b[01;35mimg_out_LIDC-IDRI-0332_1_5_162.jpg\u001b[0m   \u001b[01;35mimg_random_LIDC-IDRI-0549_3_125.jpg\u001b[0m\n",
      "\u001b[01;35mimg_out_LIDC-IDRI-0332_1_6_163.jpg\u001b[0m   \u001b[01;35mimg_random_LIDC-IDRI-0549_3_126.jpg\u001b[0m\n",
      "\u001b[01;35mimg_out_LIDC-IDRI-0332_1_7_163.jpg\u001b[0m   \u001b[01;35mimg_random_LIDC-IDRI-0549_4_132.jpg\u001b[0m\n",
      "\u001b[01;35mimg_out_LIDC-IDRI-0332_1_8_164.jpg\u001b[0m   \u001b[01;35mimg_random_LIDC-IDRI-0549_4_133.jpg\u001b[0m\n",
      "\u001b[01;35mimg_out_LIDC-IDRI-0332_1_9_164.jpg\u001b[0m   \u001b[01;35mimg_random_LIDC-IDRI-0549_4_134.jpg\u001b[0m\n",
      "\u001b[01;35mimg_out_LIDC-IDRI-0337_0_0_53.jpg\u001b[0m    \u001b[01;35mimg_random_LIDC-IDRI-0549_4_135.jpg\u001b[0m\n",
      "\u001b[01;35mimg_out_LIDC-IDRI-0337_0_10_58.jpg\u001b[0m   \u001b[01;35mimg_random_LIDC-IDRI-0549_4_136.jpg\u001b[0m\n",
      "\u001b[01;35mimg_out_LIDC-IDRI-0337_0_11_58.jpg\u001b[0m   \u001b[01;35mimg_random_LIDC-IDRI-0549_4_137.jpg\u001b[0m\n",
      "\u001b[01;35mimg_out_LIDC-IDRI-0337_0_1_53.jpg\u001b[0m    \u001b[01;35mimg_random_LIDC-IDRI-0550_0_54.jpg\u001b[0m\n",
      "\u001b[01;35mimg_out_LIDC-IDRI-0337_0_2_54.jpg\u001b[0m    \u001b[01;35mimg_random_LIDC-IDRI-0550_0_55.jpg\u001b[0m\n",
      "\u001b[01;35mimg_out_LIDC-IDRI-0337_0_3_54.jpg\u001b[0m    \u001b[01;35mimg_random_LIDC-IDRI-0550_0_56.jpg\u001b[0m\n",
      "\u001b[01;35mimg_out_LIDC-IDRI-0337_0_4_55.jpg\u001b[0m    \u001b[01;35mimg_random_LIDC-IDRI-0550_0_57.jpg\u001b[0m\n",
      "\u001b[01;35mimg_out_LIDC-IDRI-0337_0_5_55.jpg\u001b[0m    \u001b[01;35mimg_random_LIDC-IDRI-0550_0_58.jpg\u001b[0m\n",
      "\u001b[01;35mimg_out_LIDC-IDRI-0337_0_6_56.jpg\u001b[0m    \u001b[01;35mimg_random_LIDC-IDRI-0578_0_72.jpg\u001b[0m\n",
      "\u001b[01;35mimg_out_LIDC-IDRI-0337_0_7_56.jpg\u001b[0m    \u001b[01;35mimg_random_LIDC-IDRI-0578_0_73.jpg\u001b[0m\n",
      "\u001b[01;35mimg_out_LIDC-IDRI-0337_0_8_57.jpg\u001b[0m    \u001b[01;35mimg_random_LIDC-IDRI-0580_0_156.jpg\u001b[0m\n",
      "\u001b[01;35mimg_out_LIDC-IDRI-0337_0_9_57.jpg\u001b[0m    \u001b[01;35mimg_random_LIDC-IDRI-0580_0_157.jpg\u001b[0m\n",
      "\u001b[01;35mimg_out_LIDC-IDRI-0337_1_0_91.jpg\u001b[0m    \u001b[01;35mimg_random_LIDC-IDRI-0580_0_158.jpg\u001b[0m\n",
      "\u001b[01;35mimg_out_LIDC-IDRI-0337_1_10_96.jpg\u001b[0m   \u001b[01;35mimg_random_LIDC-IDRI-0580_0_159.jpg\u001b[0m\n",
      "\u001b[01;35mimg_out_LIDC-IDRI-0337_1_11_96.jpg\u001b[0m   \u001b[01;35mimg_random_LIDC-IDRI-0580_0_160.jpg\u001b[0m\n",
      "\u001b[01;35mimg_out_LIDC-IDRI-0337_1_13_97.jpg\u001b[0m   \u001b[01;35mimg_random_LIDC-IDRI-0580_0_161.jpg\u001b[0m\n",
      "\u001b[01;35mimg_out_LIDC-IDRI-0337_1_14_98.jpg\u001b[0m   \u001b[01;35mimg_random_LIDC-IDRI-0583_0_157.jpg\u001b[0m\n",
      "\u001b[01;35mimg_out_LIDC-IDRI-0337_1_15_98.jpg\u001b[0m   \u001b[01;35mimg_random_LIDC-IDRI-0583_0_158.jpg\u001b[0m\n",
      "\u001b[01;35mimg_out_LIDC-IDRI-0337_1_17_99.jpg\u001b[0m   \u001b[01;35mimg_random_LIDC-IDRI-0583_0_159.jpg\u001b[0m\n",
      "\u001b[01;35mimg_out_LIDC-IDRI-0337_1_18_100.jpg\u001b[0m  \u001b[01;35mimg_random_LIDC-IDRI-0583_0_160.jpg\u001b[0m\n",
      "\u001b[01;35mimg_out_LIDC-IDRI-0337_1_19_100.jpg\u001b[0m  \u001b[01;35mimg_random_LIDC-IDRI-0583_0_161.jpg\u001b[0m\n",
      "\u001b[01;35mimg_out_LIDC-IDRI-0337_1_1_91.jpg\u001b[0m    \u001b[01;35mimg_random_LIDC-IDRI-0583_0_162.jpg\u001b[0m\n",
      "\u001b[01;35mimg_out_LIDC-IDRI-0337_1_20_101.jpg\u001b[0m  \u001b[01;35mimg_random_LIDC-IDRI-0583_1_205.jpg\u001b[0m\n",
      "\u001b[01;35mimg_out_LIDC-IDRI-0337_1_21_101.jpg\u001b[0m  \u001b[01;35mimg_random_LIDC-IDRI-0583_1_206.jpg\u001b[0m\n",
      "\u001b[01;35mimg_out_LIDC-IDRI-0337_1_22_102.jpg\u001b[0m  \u001b[01;35mimg_random_LIDC-IDRI-0583_1_207.jpg\u001b[0m\n",
      "\u001b[01;35mimg_out_LIDC-IDRI-0337_1_23_102.jpg\u001b[0m  \u001b[01;35mimg_random_LIDC-IDRI-0583_1_208.jpg\u001b[0m\n",
      "\u001b[01;35mimg_out_LIDC-IDRI-0337_1_2_92.jpg\u001b[0m    \u001b[01;35mimg_random_LIDC-IDRI-0583_1_209.jpg\u001b[0m\n",
      "\u001b[01;35mimg_out_LIDC-IDRI-0337_1_3_92.jpg\u001b[0m    \u001b[01;35mimg_random_LIDC-IDRI-0583_1_210.jpg\u001b[0m\n",
      "\u001b[01;35mimg_out_LIDC-IDRI-0337_1_4_93.jpg\u001b[0m    \u001b[01;35mimg_random_LIDC-IDRI-0583_1_211.jpg\u001b[0m\n",
      "\u001b[01;35mimg_out_LIDC-IDRI-0337_1_5_93.jpg\u001b[0m    \u001b[01;35mimg_random_LIDC-IDRI-0583_1_212.jpg\u001b[0m\n",
      "\u001b[01;35mimg_out_LIDC-IDRI-0337_1_8_95.jpg\u001b[0m    \u001b[01;35mimg_random_LIDC-IDRI-0583_1_213.jpg\u001b[0m\n",
      "\u001b[01;35mimg_out_LIDC-IDRI-0337_1_9_95.jpg\u001b[0m    \u001b[01;35mimg_random_LIDC-IDRI-0583_1_214.jpg\u001b[0m\n",
      "\u001b[01;35mimg_out_LIDC-IDRI-0346_0_0_41.jpg\u001b[0m    \u001b[01;35mimg_random_LIDC-IDRI-0583_1_215.jpg\u001b[0m\n",
      "\u001b[01;35mimg_out_LIDC-IDRI-0346_0_1_41.jpg\u001b[0m    \u001b[01;35mimg_random_LIDC-IDRI-0583_1_216.jpg\u001b[0m\n",
      "\u001b[01;35mimg_out_LIDC-IDRI-0346_0_2_42.jpg\u001b[0m    \u001b[01;35mimg_random_LIDC-IDRI-0583_1_217.jpg\u001b[0m\n",
      "\u001b[01;35mimg_out_LIDC-IDRI-0346_0_3_42.jpg\u001b[0m    \u001b[01;35mimg_random_LIDC-IDRI-0583_1_218.jpg\u001b[0m\n",
      "\u001b[01;35mimg_out_LIDC-IDRI-0346_0_4_43.jpg\u001b[0m    \u001b[01;35mimg_random_LIDC-IDRI-0583_1_219.jpg\u001b[0m\n",
      "\u001b[01;35mimg_out_LIDC-IDRI-0346_0_5_43.jpg\u001b[0m    \u001b[01;35mimg_random_LIDC-IDRI-0649_0_66.jpg\u001b[0m\n",
      "\u001b[01;35mimg_out_LIDC-IDRI-0346_1_0_50.jpg\u001b[0m    \u001b[01;35mimg_random_LIDC-IDRI-0649_0_67.jpg\u001b[0m\n",
      "\u001b[01;35mimg_out_LIDC-IDRI-0346_1_1_50.jpg\u001b[0m    \u001b[01;35mimg_random_LIDC-IDRI-0649_0_68.jpg\u001b[0m\n",
      "\u001b[01;35mimg_out_LIDC-IDRI-0346_1_2_51.jpg\u001b[0m    \u001b[01;35mimg_random_LIDC-IDRI-0649_0_69.jpg\u001b[0m\n",
      "\u001b[01;35mimg_out_LIDC-IDRI-0346_1_3_51.jpg\u001b[0m    \u001b[01;35mimg_random_LIDC-IDRI-0649_1_67.jpg\u001b[0m\n",
      "\u001b[01;35mimg_out_LIDC-IDRI-0346_1_4_52.jpg\u001b[0m    \u001b[01;35mimg_random_LIDC-IDRI-0649_1_68.jpg\u001b[0m\n",
      "\u001b[01;35mimg_out_LIDC-IDRI-0346_1_5_52.jpg\u001b[0m    \u001b[01;35mimg_random_LIDC-IDRI-0649_1_69.jpg\u001b[0m\n",
      "\u001b[01;35mimg_out_LIDC-IDRI-0346_1_6_53.jpg\u001b[0m    \u001b[01;35mimg_random_LIDC-IDRI-0649_1_70.jpg\u001b[0m\n",
      "\u001b[01;35mimg_out_LIDC-IDRI-0346_1_7_53.jpg\u001b[0m    \u001b[01;35mimg_random_LIDC-IDRI-0649_2_80.jpg\u001b[0m\n",
      "\u001b[01;35mimg_out_LIDC-IDRI-0346_1_8_54.jpg\u001b[0m    \u001b[01;35mimg_random_LIDC-IDRI-0649_2_81.jpg\u001b[0m\n",
      "\u001b[01;35mimg_out_LIDC-IDRI-0346_1_9_54.jpg\u001b[0m    \u001b[01;35mimg_random_LIDC-IDRI-0649_2_82.jpg\u001b[0m\n",
      "\u001b[01;35mimg_out_LIDC-IDRI-0346_2_0_74.jpg\u001b[0m    \u001b[01;35mimg_random_LIDC-IDRI-0649_2_83.jpg\u001b[0m\n",
      "\u001b[01;35mimg_out_LIDC-IDRI-0346_2_1_74.jpg\u001b[0m    \u001b[01;35mimg_random_LIDC-IDRI-0649_3_101.jpg\u001b[0m\n",
      "\u001b[01;35mimg_out_LIDC-IDRI-0346_2_2_75.jpg\u001b[0m    \u001b[01;35mimg_random_LIDC-IDRI-0649_3_102.jpg\u001b[0m\n",
      "\u001b[01;35mimg_out_LIDC-IDRI-0346_2_3_75.jpg\u001b[0m    \u001b[01;35mimg_random_LIDC-IDRI-0649_4_121.jpg\u001b[0m\n",
      "\u001b[01;35mimg_out_LIDC-IDRI-0346_2_4_76.jpg\u001b[0m    \u001b[01;35mimg_random_LIDC-IDRI-0649_4_122.jpg\u001b[0m\n",
      "\u001b[01;35mimg_out_LIDC-IDRI-0346_2_5_76.jpg\u001b[0m    \u001b[01;35mimg_random_LIDC-IDRI-0649_4_123.jpg\u001b[0m\n",
      "\u001b[01;35mimg_out_LIDC-IDRI-0350_0_0_185.jpg\u001b[0m   \u001b[01;35mimg_random_LIDC-IDRI-0649_5_136.jpg\u001b[0m\n",
      "\u001b[01;35mimg_out_LIDC-IDRI-0350_0_1_185.jpg\u001b[0m   \u001b[01;35mimg_random_LIDC-IDRI-0649_5_137.jpg\u001b[0m\n",
      "\u001b[01;35mimg_out_LIDC-IDRI-0350_0_2_186.jpg\u001b[0m   \u001b[01;35mimg_random_LIDC-IDRI-0649_6_207.jpg\u001b[0m\n",
      "\u001b[01;35mimg_out_LIDC-IDRI-0350_0_3_186.jpg\u001b[0m   \u001b[01;35mimg_random_LIDC-IDRI-0649_6_208.jpg\u001b[0m\n",
      "\u001b[01;35mimg_out_LIDC-IDRI-0350_0_4_187.jpg\u001b[0m   \u001b[01;35mimg_random_LIDC-IDRI-0649_6_209.jpg\u001b[0m\n",
      "\u001b[01;35mimg_out_LIDC-IDRI-0350_0_5_187.jpg\u001b[0m   \u001b[01;35mimg_random_LIDC-IDRI-0673_0_194.jpg\u001b[0m\n",
      "\u001b[01;35mimg_out_LIDC-IDRI-0350_0_6_188.jpg\u001b[0m   \u001b[01;35mimg_random_LIDC-IDRI-0673_0_195.jpg\u001b[0m\n",
      "\u001b[01;35mimg_out_LIDC-IDRI-0350_0_7_188.jpg\u001b[0m   \u001b[01;35mimg_random_LIDC-IDRI-0673_0_196.jpg\u001b[0m\n",
      "\u001b[01;35mimg_out_LIDC-IDRI-0359_0_0_27.jpg\u001b[0m    \u001b[01;35mimg_random_LIDC-IDRI-0673_0_197.jpg\u001b[0m\n",
      "\u001b[01;35mimg_out_LIDC-IDRI-0359_0_1_27.jpg\u001b[0m    \u001b[01;35mimg_random_LIDC-IDRI-0673_0_198.jpg\u001b[0m\n",
      "\u001b[01;35mimg_out_LIDC-IDRI-0359_0_2_28.jpg\u001b[0m    \u001b[01;35mimg_random_LIDC-IDRI-0673_0_199.jpg\u001b[0m\n",
      "\u001b[01;35mimg_out_LIDC-IDRI-0359_0_3_28.jpg\u001b[0m    \u001b[01;35mimg_random_LIDC-IDRI-0673_0_200.jpg\u001b[0m\n",
      "\u001b[01;35mimg_out_LIDC-IDRI-0359_0_4_29.jpg\u001b[0m    \u001b[01;35mimg_random_LIDC-IDRI-0673_0_201.jpg\u001b[0m\n",
      "\u001b[01;35mimg_out_LIDC-IDRI-0359_0_5_29.jpg\u001b[0m    \u001b[01;35mimg_random_LIDC-IDRI-0673_0_202.jpg\u001b[0m\n",
      "\u001b[01;35mimg_out_LIDC-IDRI-0359_1_0_84.jpg\u001b[0m    \u001b[01;35mimg_random_LIDC-IDRI-0673_0_203.jpg\u001b[0m\n",
      "\u001b[01;35mimg_out_LIDC-IDRI-0359_1_1_84.jpg\u001b[0m    \u001b[01;35mimg_random_LIDC-IDRI-0673_0_204.jpg\u001b[0m\n",
      "\u001b[01;35mimg_out_LIDC-IDRI-0359_1_2_85.jpg\u001b[0m    \u001b[01;35mimg_random_LIDC-IDRI-0673_1_269.jpg\u001b[0m\n",
      "\u001b[01;35mimg_out_LIDC-IDRI-0359_1_3_85.jpg\u001b[0m    \u001b[01;35mimg_random_LIDC-IDRI-0673_1_270.jpg\u001b[0m\n",
      "\u001b[01;35mimg_out_LIDC-IDRI-0359_1_4_86.jpg\u001b[0m    \u001b[01;35mimg_random_LIDC-IDRI-0673_1_271.jpg\u001b[0m\n",
      "\u001b[01;35mimg_out_LIDC-IDRI-0359_1_5_86.jpg\u001b[0m    \u001b[01;35mimg_random_LIDC-IDRI-0673_1_272.jpg\u001b[0m\n",
      "\u001b[01;35mimg_out_LIDC-IDRI-0359_1_6_87.jpg\u001b[0m    \u001b[01;35mimg_random_LIDC-IDRI-0673_1_273.jpg\u001b[0m\n",
      "\u001b[01;35mimg_out_LIDC-IDRI-0359_1_7_87.jpg\u001b[0m    \u001b[01;35mimg_random_LIDC-IDRI-0673_1_274.jpg\u001b[0m\n",
      "\u001b[01;35mimg_out_LIDC-IDRI-0368_0_0_31.jpg\u001b[0m    \u001b[01;35mimg_random_LIDC-IDRI-0673_1_275.jpg\u001b[0m\n",
      "\u001b[01;35mimg_out_LIDC-IDRI-0368_0_10_36.jpg\u001b[0m   \u001b[01;35mimg_random_LIDC-IDRI-0701_0_248.jpg\u001b[0m\n",
      "\u001b[01;35mimg_out_LIDC-IDRI-0368_0_11_36.jpg\u001b[0m   \u001b[01;35mimg_random_LIDC-IDRI-0701_0_249.jpg\u001b[0m\n",
      "\u001b[01;35mimg_out_LIDC-IDRI-0368_0_12_37.jpg\u001b[0m   \u001b[01;35mimg_random_LIDC-IDRI-0701_0_250.jpg\u001b[0m\n",
      "\u001b[01;35mimg_out_LIDC-IDRI-0368_0_13_37.jpg\u001b[0m   \u001b[01;35mimg_random_LIDC-IDRI-0701_0_251.jpg\u001b[0m\n",
      "\u001b[01;35mimg_out_LIDC-IDRI-0368_0_14_38.jpg\u001b[0m   \u001b[01;35mimg_random_LIDC-IDRI-0701_0_252.jpg\u001b[0m\n",
      "\u001b[01;35mimg_out_LIDC-IDRI-0368_0_15_38.jpg\u001b[0m   \u001b[01;35mimg_random_LIDC-IDRI-0701_0_253.jpg\u001b[0m\n",
      "\u001b[01;35mimg_out_LIDC-IDRI-0368_0_16_39.jpg\u001b[0m   \u001b[01;35mimg_random_LIDC-IDRI-0701_0_254.jpg\u001b[0m\n",
      "\u001b[01;35mimg_out_LIDC-IDRI-0368_0_17_39.jpg\u001b[0m   \u001b[01;35mimg_random_LIDC-IDRI-0701_0_255.jpg\u001b[0m\n",
      "\u001b[01;35mimg_out_LIDC-IDRI-0368_0_1_31.jpg\u001b[0m    \u001b[01;35mimg_random_LIDC-IDRI-0701_1_250.jpg\u001b[0m\n",
      "\u001b[01;35mimg_out_LIDC-IDRI-0368_0_2_32.jpg\u001b[0m    \u001b[01;35mimg_random_LIDC-IDRI-0701_1_251.jpg\u001b[0m\n",
      "\u001b[01;35mimg_out_LIDC-IDRI-0368_0_3_32.jpg\u001b[0m    \u001b[01;35mimg_random_LIDC-IDRI-0701_1_252.jpg\u001b[0m\n",
      "\u001b[01;35mimg_out_LIDC-IDRI-0368_0_4_33.jpg\u001b[0m    \u001b[01;35mimg_random_LIDC-IDRI-0701_1_253.jpg\u001b[0m\n",
      "\u001b[01;35mimg_out_LIDC-IDRI-0368_0_5_33.jpg\u001b[0m    \u001b[01;35mimg_random_LIDC-IDRI-0701_1_254.jpg\u001b[0m\n",
      "\u001b[01;35mimg_out_LIDC-IDRI-0368_0_6_34.jpg\u001b[0m    \u001b[01;35mimg_random_LIDC-IDRI-0706_0_85.jpg\u001b[0m\n",
      "\u001b[01;35mimg_out_LIDC-IDRI-0368_0_7_34.jpg\u001b[0m    \u001b[01;35mimg_random_LIDC-IDRI-0706_0_86.jpg\u001b[0m\n",
      "\u001b[01;35mimg_out_LIDC-IDRI-0368_0_8_35.jpg\u001b[0m    \u001b[01;35mimg_random_LIDC-IDRI-0712_0_42.jpg\u001b[0m\n",
      "\u001b[01;35mimg_out_LIDC-IDRI-0368_0_9_35.jpg\u001b[0m    \u001b[01;35mimg_random_LIDC-IDRI-0712_0_43.jpg\u001b[0m\n",
      "\u001b[01;35mimg_out_LIDC-IDRI-0368_1_0_42.jpg\u001b[0m    \u001b[01;35mimg_random_LIDC-IDRI-0712_0_44.jpg\u001b[0m\n",
      "\u001b[01;35mimg_out_LIDC-IDRI-0368_1_1_42.jpg\u001b[0m    \u001b[01;35mimg_random_LIDC-IDRI-0712_0_45.jpg\u001b[0m\n",
      "\u001b[01;35mimg_out_LIDC-IDRI-0368_1_2_43.jpg\u001b[0m    \u001b[01;35mimg_random_LIDC-IDRI-0712_0_46.jpg\u001b[0m\n",
      "\u001b[01;35mimg_out_LIDC-IDRI-0368_1_3_43.jpg\u001b[0m    \u001b[01;35mimg_random_LIDC-IDRI-0712_0_47.jpg\u001b[0m\n",
      "\u001b[01;35mimg_out_LIDC-IDRI-0368_1_4_44.jpg\u001b[0m    \u001b[01;35mimg_random_LIDC-IDRI-0720_0_147.jpg\u001b[0m\n",
      "\u001b[01;35mimg_out_LIDC-IDRI-0368_1_5_44.jpg\u001b[0m    \u001b[01;35mimg_random_LIDC-IDRI-0720_0_148.jpg\u001b[0m\n",
      "\u001b[01;35mimg_out_LIDC-IDRI-0368_2_0_64.jpg\u001b[0m    \u001b[01;35mimg_random_LIDC-IDRI-0720_0_149.jpg\u001b[0m\n",
      "\u001b[01;35mimg_out_LIDC-IDRI-0368_2_1_64.jpg\u001b[0m    \u001b[01;35mimg_random_LIDC-IDRI-0720_0_150.jpg\u001b[0m\n",
      "\u001b[01;35mimg_out_LIDC-IDRI-0368_2_2_65.jpg\u001b[0m    \u001b[01;35mimg_random_LIDC-IDRI-0732_0_126.jpg\u001b[0m\n",
      "\u001b[01;35mimg_out_LIDC-IDRI-0368_2_3_65.jpg\u001b[0m    \u001b[01;35mimg_random_LIDC-IDRI-0732_0_127.jpg\u001b[0m\n",
      "\u001b[01;35mimg_out_LIDC-IDRI-0368_2_4_66.jpg\u001b[0m    \u001b[01;35mimg_random_LIDC-IDRI-0732_0_128.jpg\u001b[0m\n",
      "\u001b[01;35mimg_out_LIDC-IDRI-0368_2_5_66.jpg\u001b[0m    \u001b[01;35mimg_random_LIDC-IDRI-0732_0_129.jpg\u001b[0m\n",
      "\u001b[01;35mimg_out_LIDC-IDRI-0368_2_6_67.jpg\u001b[0m    \u001b[01;35mimg_random_LIDC-IDRI-0732_0_130.jpg\u001b[0m\n",
      "\u001b[01;35mimg_out_LIDC-IDRI-0368_2_7_67.jpg\u001b[0m    \u001b[01;35mimg_random_LIDC-IDRI-0732_0_131.jpg\u001b[0m\n",
      "\u001b[01;35mimg_out_LIDC-IDRI-0368_2_8_68.jpg\u001b[0m    \u001b[01;35mimg_random_LIDC-IDRI-0732_0_132.jpg\u001b[0m\n",
      "\u001b[01;35mimg_out_LIDC-IDRI-0368_2_9_68.jpg\u001b[0m    \u001b[01;35mimg_random_LIDC-IDRI-0735_0_227.jpg\u001b[0m\n",
      "\u001b[01;35mimg_out_LIDC-IDRI-0368_3_0_67.jpg\u001b[0m    \u001b[01;35mimg_random_LIDC-IDRI-0735_0_228.jpg\u001b[0m\n",
      "\u001b[01;35mimg_out_LIDC-IDRI-0368_3_10_72.jpg\u001b[0m   \u001b[01;35mimg_random_LIDC-IDRI-0735_0_229.jpg\u001b[0m\n",
      "\u001b[01;35mimg_out_LIDC-IDRI-0368_3_11_72.jpg\u001b[0m   \u001b[01;35mimg_random_LIDC-IDRI-0735_0_230.jpg\u001b[0m\n",
      "\u001b[01;35mimg_out_LIDC-IDRI-0368_3_12_73.jpg\u001b[0m   \u001b[01;35mimg_random_LIDC-IDRI-0735_0_231.jpg\u001b[0m\n",
      "\u001b[01;35mimg_out_LIDC-IDRI-0368_3_13_73.jpg\u001b[0m   \u001b[01;35mimg_random_LIDC-IDRI-0791_0_155.jpg\u001b[0m\n",
      "\u001b[01;35mimg_out_LIDC-IDRI-0368_3_14_74.jpg\u001b[0m   \u001b[01;35mimg_random_LIDC-IDRI-0791_0_156.jpg\u001b[0m\n",
      "\u001b[01;35mimg_out_LIDC-IDRI-0368_3_15_74.jpg\u001b[0m   \u001b[01;35mimg_random_LIDC-IDRI-0791_0_157.jpg\u001b[0m\n",
      "\u001b[01;35mimg_out_LIDC-IDRI-0368_3_16_75.jpg\u001b[0m   \u001b[01;35mimg_random_LIDC-IDRI-0791_0_158.jpg\u001b[0m\n",
      "\u001b[01;35mimg_out_LIDC-IDRI-0368_3_17_75.jpg\u001b[0m   \u001b[01;35mimg_random_LIDC-IDRI-0791_0_159.jpg\u001b[0m\n",
      "\u001b[01;35mimg_out_LIDC-IDRI-0368_3_1_67.jpg\u001b[0m    \u001b[01;35mimg_random_LIDC-IDRI-0791_0_160.jpg\u001b[0m\n",
      "\u001b[01;35mimg_out_LIDC-IDRI-0368_3_2_68.jpg\u001b[0m    \u001b[01;35mimg_random_LIDC-IDRI-0791_0_161.jpg\u001b[0m\n",
      "\u001b[01;35mimg_out_LIDC-IDRI-0368_3_3_68.jpg\u001b[0m    \u001b[01;35mimg_random_LIDC-IDRI-0791_0_162.jpg\u001b[0m\n",
      "\u001b[01;35mimg_out_LIDC-IDRI-0368_3_4_69.jpg\u001b[0m    \u001b[01;35mimg_random_LIDC-IDRI-0791_0_163.jpg\u001b[0m\n",
      "\u001b[01;35mimg_out_LIDC-IDRI-0368_3_5_69.jpg\u001b[0m    \u001b[01;35mimg_random_LIDC-IDRI-0791_0_164.jpg\u001b[0m\n",
      "\u001b[01;35mimg_out_LIDC-IDRI-0368_3_6_70.jpg\u001b[0m    \u001b[01;35mimg_random_LIDC-IDRI-0791_0_165.jpg\u001b[0m\n",
      "\u001b[01;35mimg_out_LIDC-IDRI-0368_3_7_70.jpg\u001b[0m    \u001b[01;35mimg_random_LIDC-IDRI-0791_0_166.jpg\u001b[0m\n",
      "\u001b[01;35mimg_out_LIDC-IDRI-0368_3_8_71.jpg\u001b[0m    \u001b[01;35mimg_random_LIDC-IDRI-0791_0_167.jpg\u001b[0m\n",
      "\u001b[01;35mimg_out_LIDC-IDRI-0368_3_9_71.jpg\u001b[0m    \u001b[01;35mimg_random_LIDC-IDRI-0791_0_168.jpg\u001b[0m\n",
      "\u001b[01;35mimg_out_LIDC-IDRI-0368_4_0_86.jpg\u001b[0m    \u001b[01;35mimg_random_LIDC-IDRI-0791_0_169.jpg\u001b[0m\n",
      "\u001b[01;35mimg_out_LIDC-IDRI-0368_4_1_86.jpg\u001b[0m    \u001b[01;35mimg_random_LIDC-IDRI-0791_0_170.jpg\u001b[0m\n",
      "\u001b[01;35mimg_out_LIDC-IDRI-0368_4_2_87.jpg\u001b[0m    \u001b[01;35mimg_random_LIDC-IDRI-0791_0_171.jpg\u001b[0m\n",
      "\u001b[01;35mimg_out_LIDC-IDRI-0368_4_3_87.jpg\u001b[0m    \u001b[01;35mimg_random_LIDC-IDRI-0791_0_172.jpg\u001b[0m\n",
      "\u001b[01;35mimg_out_LIDC-IDRI-0368_4_4_88.jpg\u001b[0m    \u001b[01;35mimg_random_LIDC-IDRI-0794_0_264.jpg\u001b[0m\n",
      "\u001b[01;35mimg_out_LIDC-IDRI-0368_4_5_88.jpg\u001b[0m    \u001b[01;35mimg_random_LIDC-IDRI-0794_0_265.jpg\u001b[0m\n",
      "\u001b[01;35mimg_out_LIDC-IDRI-0368_4_6_89.jpg\u001b[0m    \u001b[01;35mimg_random_LIDC-IDRI-0794_0_266.jpg\u001b[0m\n",
      "\u001b[01;35mimg_out_LIDC-IDRI-0368_4_7_89.jpg\u001b[0m    \u001b[01;35mimg_random_LIDC-IDRI-0794_0_267.jpg\u001b[0m\n",
      "\u001b[01;35mimg_out_LIDC-IDRI-0368_4_8_90.jpg\u001b[0m    \u001b[01;35mimg_random_LIDC-IDRI-0794_0_268.jpg\u001b[0m\n",
      "\u001b[01;35mimg_out_LIDC-IDRI-0368_4_9_90.jpg\u001b[0m    \u001b[01;35mimg_random_LIDC-IDRI-0794_0_269.jpg\u001b[0m\n",
      "\u001b[01;35mimg_out_LIDC-IDRI-0392_0_0_153.jpg\u001b[0m   \u001b[01;35mimg_random_LIDC-IDRI-0794_0_270.jpg\u001b[0m\n",
      "\u001b[01;35mimg_out_LIDC-IDRI-0392_0_1_153.jpg\u001b[0m   \u001b[01;35mimg_random_LIDC-IDRI-0794_0_271.jpg\u001b[0m\n",
      "\u001b[01;35mimg_out_LIDC-IDRI-0392_0_2_154.jpg\u001b[0m   \u001b[01;35mimg_random_LIDC-IDRI-0794_0_272.jpg\u001b[0m\n",
      "\u001b[01;35mimg_out_LIDC-IDRI-0392_0_3_154.jpg\u001b[0m   \u001b[01;35mimg_random_LIDC-IDRI-0806_0_253.jpg\u001b[0m\n",
      "\u001b[01;35mimg_out_LIDC-IDRI-0392_0_4_155.jpg\u001b[0m   \u001b[01;35mimg_random_LIDC-IDRI-0806_0_254.jpg\u001b[0m\n",
      "\u001b[01;35mimg_out_LIDC-IDRI-0392_0_5_155.jpg\u001b[0m   \u001b[01;35mimg_random_LIDC-IDRI-0806_0_255.jpg\u001b[0m\n",
      "\u001b[01;35mimg_out_LIDC-IDRI-0392_0_6_156.jpg\u001b[0m   \u001b[01;35mimg_random_LIDC-IDRI-0806_0_256.jpg\u001b[0m\n",
      "\u001b[01;35mimg_out_LIDC-IDRI-0392_0_7_156.jpg\u001b[0m   \u001b[01;35mimg_random_LIDC-IDRI-0806_0_257.jpg\u001b[0m\n",
      "\u001b[01;35mimg_out_LIDC-IDRI-0394_0_0_128.jpg\u001b[0m   \u001b[01;35mimg_random_LIDC-IDRI-0828_0_131.jpg\u001b[0m\n",
      "\u001b[01;35mimg_out_LIDC-IDRI-0394_0_1_128.jpg\u001b[0m   \u001b[01;35mimg_random_LIDC-IDRI-0828_0_132.jpg\u001b[0m\n",
      "\u001b[01;35mimg_out_LIDC-IDRI-0394_0_2_129.jpg\u001b[0m   \u001b[01;35mimg_random_LIDC-IDRI-0828_0_133.jpg\u001b[0m\n",
      "\u001b[01;35mimg_out_LIDC-IDRI-0394_0_3_129.jpg\u001b[0m   \u001b[01;35mimg_random_LIDC-IDRI-0835_0_107.jpg\u001b[0m\n",
      "\u001b[01;35mimg_out_LIDC-IDRI-0394_0_4_130.jpg\u001b[0m   \u001b[01;35mimg_random_LIDC-IDRI-0835_0_108.jpg\u001b[0m\n",
      "\u001b[01;35mimg_out_LIDC-IDRI-0394_0_5_130.jpg\u001b[0m   \u001b[01;35mimg_random_LIDC-IDRI-0835_0_109.jpg\u001b[0m\n",
      "\u001b[01;35mimg_out_LIDC-IDRI-0394_1_0_141.jpg\u001b[0m   \u001b[01;35mimg_random_LIDC-IDRI-0835_0_110.jpg\u001b[0m\n",
      "\u001b[01;35mimg_out_LIDC-IDRI-0394_1_10_146.jpg\u001b[0m  \u001b[01;35mimg_random_LIDC-IDRI-0835_0_111.jpg\u001b[0m\n",
      "\u001b[01;35mimg_out_LIDC-IDRI-0394_1_11_146.jpg\u001b[0m  \u001b[01;35mimg_random_LIDC-IDRI-0835_0_112.jpg\u001b[0m\n",
      "\u001b[01;35mimg_out_LIDC-IDRI-0394_1_1_141.jpg\u001b[0m   \u001b[01;35mimg_random_LIDC-IDRI-0835_1_133.jpg\u001b[0m\n",
      "\u001b[01;35mimg_out_LIDC-IDRI-0394_1_2_142.jpg\u001b[0m   \u001b[01;35mimg_random_LIDC-IDRI-0835_1_134.jpg\u001b[0m\n",
      "\u001b[01;35mimg_out_LIDC-IDRI-0394_1_3_142.jpg\u001b[0m   \u001b[01;35mimg_random_LIDC-IDRI-0835_1_135.jpg\u001b[0m\n",
      "\u001b[01;35mimg_out_LIDC-IDRI-0394_1_4_143.jpg\u001b[0m   \u001b[01;35mimg_random_LIDC-IDRI-0835_1_136.jpg\u001b[0m\n",
      "\u001b[01;35mimg_out_LIDC-IDRI-0394_1_5_143.jpg\u001b[0m   \u001b[01;35mimg_random_LIDC-IDRI-0835_1_137.jpg\u001b[0m\n",
      "\u001b[01;35mimg_out_LIDC-IDRI-0394_1_6_144.jpg\u001b[0m   \u001b[01;35mimg_random_LIDC-IDRI-0835_1_138.jpg\u001b[0m\n",
      "\u001b[01;35mimg_out_LIDC-IDRI-0394_1_7_144.jpg\u001b[0m   \u001b[01;35mimg_random_LIDC-IDRI-0835_1_139.jpg\u001b[0m\n",
      "\u001b[01;35mimg_out_LIDC-IDRI-0394_1_8_145.jpg\u001b[0m   \u001b[01;35mimg_random_LIDC-IDRI-0835_1_140.jpg\u001b[0m\n",
      "\u001b[01;35mimg_out_LIDC-IDRI-0394_1_9_145.jpg\u001b[0m   \u001b[01;35mimg_random_LIDC-IDRI-0835_1_141.jpg\u001b[0m\n",
      "\u001b[01;35mimg_out_LIDC-IDRI-0426_0_0_46.jpg\u001b[0m    \u001b[01;35mimg_random_LIDC-IDRI-0861_0_50.jpg\u001b[0m\n",
      "\u001b[01;35mimg_out_LIDC-IDRI-0426_0_1_46.jpg\u001b[0m    \u001b[01;35mimg_random_LIDC-IDRI-0861_0_51.jpg\u001b[0m\n",
      "\u001b[01;35mimg_out_LIDC-IDRI-0426_0_2_47.jpg\u001b[0m    \u001b[01;35mimg_random_LIDC-IDRI-0861_0_52.jpg\u001b[0m\n",
      "\u001b[01;35mimg_out_LIDC-IDRI-0426_0_3_47.jpg\u001b[0m    \u001b[01;35mimg_random_LIDC-IDRI-0865_0_38.jpg\u001b[0m\n",
      "\u001b[01;35mimg_out_LIDC-IDRI-0426_0_4_48.jpg\u001b[0m    \u001b[01;35mimg_random_LIDC-IDRI-0865_0_39.jpg\u001b[0m\n",
      "\u001b[01;35mimg_out_LIDC-IDRI-0426_0_5_48.jpg\u001b[0m    \u001b[01;35mimg_random_LIDC-IDRI-0865_0_40.jpg\u001b[0m\n",
      "\u001b[01;35mimg_out_LIDC-IDRI-0426_0_6_49.jpg\u001b[0m    \u001b[01;35mimg_random_LIDC-IDRI-0865_0_41.jpg\u001b[0m\n",
      "\u001b[01;35mimg_out_LIDC-IDRI-0426_0_7_49.jpg\u001b[0m    \u001b[01;35mimg_random_LIDC-IDRI-0865_0_42.jpg\u001b[0m\n",
      "\u001b[01;35mimg_out_LIDC-IDRI-0435_0_0_54.jpg\u001b[0m    \u001b[01;35mimg_random_LIDC-IDRI-0865_0_43.jpg\u001b[0m\n",
      "\u001b[01;35mimg_out_LIDC-IDRI-0435_0_1_54.jpg\u001b[0m    \u001b[01;35mimg_random_LIDC-IDRI-0865_0_44.jpg\u001b[0m\n",
      "\u001b[01;35mimg_out_LIDC-IDRI-0435_0_2_55.jpg\u001b[0m    \u001b[01;35mimg_random_LIDC-IDRI-0865_0_45.jpg\u001b[0m\n",
      "\u001b[01;35mimg_out_LIDC-IDRI-0435_0_3_55.jpg\u001b[0m    \u001b[01;35mimg_random_LIDC-IDRI-0865_0_46.jpg\u001b[0m\n",
      "\u001b[01;35mimg_out_LIDC-IDRI-0439_0_10_83.jpg\u001b[0m   \u001b[01;35mimg_random_LIDC-IDRI-0865_0_47.jpg\u001b[0m\n",
      "\u001b[01;35mimg_out_LIDC-IDRI-0439_0_11_83.jpg\u001b[0m   \u001b[01;35mimg_random_LIDC-IDRI-0866_0_50.jpg\u001b[0m\n",
      "\u001b[01;35mimg_out_LIDC-IDRI-0439_0_12_84.jpg\u001b[0m   \u001b[01;35mimg_random_LIDC-IDRI-0866_0_51.jpg\u001b[0m\n",
      "\u001b[01;35mimg_out_LIDC-IDRI-0439_0_13_84.jpg\u001b[0m   \u001b[01;35mimg_random_LIDC-IDRI-0866_0_52.jpg\u001b[0m\n",
      "\u001b[01;35mimg_out_LIDC-IDRI-0439_0_1_78.jpg\u001b[0m    \u001b[01;35mimg_random_LIDC-IDRI-0866_0_53.jpg\u001b[0m\n",
      "\u001b[01;35mimg_out_LIDC-IDRI-0439_0_2_79.jpg\u001b[0m    \u001b[01;35mimg_random_LIDC-IDRI-0866_0_54.jpg\u001b[0m\n",
      "\u001b[01;35mimg_out_LIDC-IDRI-0439_0_3_79.jpg\u001b[0m    \u001b[01;35mimg_random_LIDC-IDRI-0866_1_52.jpg\u001b[0m\n",
      "\u001b[01;35mimg_out_LIDC-IDRI-0439_0_4_80.jpg\u001b[0m    \u001b[01;35mimg_random_LIDC-IDRI-0866_1_53.jpg\u001b[0m\n",
      "\u001b[01;35mimg_out_LIDC-IDRI-0439_0_5_80.jpg\u001b[0m    \u001b[01;35mimg_random_LIDC-IDRI-0866_1_54.jpg\u001b[0m\n",
      "\u001b[01;35mimg_out_LIDC-IDRI-0439_0_6_81.jpg\u001b[0m    \u001b[01;35mimg_random_LIDC-IDRI-0866_1_55.jpg\u001b[0m\n",
      "\u001b[01;35mimg_out_LIDC-IDRI-0439_0_7_81.jpg\u001b[0m    \u001b[01;35mimg_random_LIDC-IDRI-0866_2_104.jpg\u001b[0m\n",
      "\u001b[01;35mimg_out_LIDC-IDRI-0439_0_8_82.jpg\u001b[0m    \u001b[01;35mimg_random_LIDC-IDRI-0866_2_105.jpg\u001b[0m\n",
      "\u001b[01;35mimg_out_LIDC-IDRI-0439_0_9_82.jpg\u001b[0m    \u001b[01;35mimg_random_LIDC-IDRI-0866_2_106.jpg\u001b[0m\n",
      "\u001b[01;35mimg_out_LIDC-IDRI-0447_0_0_64.jpg\u001b[0m    \u001b[01;35mimg_random_LIDC-IDRI-0866_2_107.jpg\u001b[0m\n",
      "\u001b[01;35mimg_out_LIDC-IDRI-0447_0_10_69.jpg\u001b[0m   \u001b[01;35mimg_random_LIDC-IDRI-0879_0_106.jpg\u001b[0m\n",
      "\u001b[01;35mimg_out_LIDC-IDRI-0447_0_11_69.jpg\u001b[0m   \u001b[01;35mimg_random_LIDC-IDRI-0879_0_107.jpg\u001b[0m\n",
      "\u001b[01;35mimg_out_LIDC-IDRI-0447_0_12_70.jpg\u001b[0m   \u001b[01;35mimg_random_LIDC-IDRI-0879_0_108.jpg\u001b[0m\n",
      "\u001b[01;35mimg_out_LIDC-IDRI-0447_0_13_70.jpg\u001b[0m   \u001b[01;35mimg_random_LIDC-IDRI-0879_0_109.jpg\u001b[0m\n",
      "\u001b[01;35mimg_out_LIDC-IDRI-0447_0_14_71.jpg\u001b[0m   \u001b[01;35mimg_random_LIDC-IDRI-0879_0_110.jpg\u001b[0m\n",
      "\u001b[01;35mimg_out_LIDC-IDRI-0447_0_15_71.jpg\u001b[0m   \u001b[01;35mimg_random_LIDC-IDRI-0879_0_111.jpg\u001b[0m\n",
      "\u001b[01;35mimg_out_LIDC-IDRI-0447_0_16_72.jpg\u001b[0m   \u001b[01;35mimg_random_LIDC-IDRI-0879_0_112.jpg\u001b[0m\n",
      "\u001b[01;35mimg_out_LIDC-IDRI-0447_0_17_72.jpg\u001b[0m   \u001b[01;35mimg_random_LIDC-IDRI-0879_1_229.jpg\u001b[0m\n",
      "\u001b[01;35mimg_out_LIDC-IDRI-0447_0_1_64.jpg\u001b[0m    \u001b[01;35mimg_random_LIDC-IDRI-0879_1_230.jpg\u001b[0m\n",
      "\u001b[01;35mimg_out_LIDC-IDRI-0447_0_2_65.jpg\u001b[0m    \u001b[01;35mimg_random_LIDC-IDRI-0879_1_231.jpg\u001b[0m\n",
      "\u001b[01;35mimg_out_LIDC-IDRI-0447_0_3_65.jpg\u001b[0m    \u001b[01;35mimg_random_LIDC-IDRI-0879_1_232.jpg\u001b[0m\n",
      "\u001b[01;35mimg_out_LIDC-IDRI-0447_0_4_66.jpg\u001b[0m    \u001b[01;35mimg_random_LIDC-IDRI-0879_1_233.jpg\u001b[0m\n",
      "\u001b[01;35mimg_out_LIDC-IDRI-0447_0_5_66.jpg\u001b[0m    \u001b[01;35mimg_random_LIDC-IDRI-0879_1_234.jpg\u001b[0m\n",
      "\u001b[01;35mimg_out_LIDC-IDRI-0447_0_6_67.jpg\u001b[0m    \u001b[01;35mimg_random_LIDC-IDRI-0884_0_180.jpg\u001b[0m\n",
      "\u001b[01;35mimg_out_LIDC-IDRI-0447_0_7_67.jpg\u001b[0m    \u001b[01;35mimg_random_LIDC-IDRI-0884_0_181.jpg\u001b[0m\n",
      "\u001b[01;35mimg_out_LIDC-IDRI-0447_0_8_68.jpg\u001b[0m    \u001b[01;35mimg_random_LIDC-IDRI-0884_0_182.jpg\u001b[0m\n",
      "\u001b[01;35mimg_out_LIDC-IDRI-0447_0_9_68.jpg\u001b[0m    \u001b[01;35mimg_random_LIDC-IDRI-0884_0_183.jpg\u001b[0m\n",
      "\u001b[01;35mimg_out_LIDC-IDRI-0451_0_0_110.jpg\u001b[0m   \u001b[01;35mimg_random_LIDC-IDRI-0884_0_184.jpg\u001b[0m\n",
      "\u001b[01;35mimg_out_LIDC-IDRI-0451_0_10_115.jpg\u001b[0m  \u001b[01;35mimg_random_LIDC-IDRI-0884_0_185.jpg\u001b[0m\n",
      "\u001b[01;35mimg_out_LIDC-IDRI-0451_0_11_115.jpg\u001b[0m  \u001b[01;35mimg_random_LIDC-IDRI-0884_0_186.jpg\u001b[0m\n",
      "\u001b[01;35mimg_out_LIDC-IDRI-0451_0_1_110.jpg\u001b[0m   \u001b[01;35mimg_random_LIDC-IDRI-0884_0_187.jpg\u001b[0m\n",
      "\u001b[01;35mimg_out_LIDC-IDRI-0451_0_2_111.jpg\u001b[0m   \u001b[01;35mimg_random_LIDC-IDRI-0884_0_188.jpg\u001b[0m\n",
      "\u001b[01;35mimg_out_LIDC-IDRI-0451_0_3_111.jpg\u001b[0m   \u001b[01;35mimg_random_LIDC-IDRI-0884_0_189.jpg\u001b[0m\n",
      "\u001b[01;35mimg_out_LIDC-IDRI-0451_0_4_112.jpg\u001b[0m   \u001b[01;35mimg_random_LIDC-IDRI-0884_0_190.jpg\u001b[0m\n",
      "\u001b[01;35mimg_out_LIDC-IDRI-0451_0_5_112.jpg\u001b[0m   \u001b[01;35mimg_random_LIDC-IDRI-0884_0_191.jpg\u001b[0m\n",
      "\u001b[01;35mimg_out_LIDC-IDRI-0451_0_6_113.jpg\u001b[0m   \u001b[01;35mimg_random_LIDC-IDRI-0884_0_192.jpg\u001b[0m\n",
      "\u001b[01;35mimg_out_LIDC-IDRI-0451_0_7_113.jpg\u001b[0m   \u001b[01;35mimg_random_LIDC-IDRI-0884_0_193.jpg\u001b[0m\n",
      "\u001b[01;35mimg_out_LIDC-IDRI-0451_0_8_114.jpg\u001b[0m   \u001b[01;35mimg_random_LIDC-IDRI-0884_0_194.jpg\u001b[0m\n",
      "\u001b[01;35mimg_out_LIDC-IDRI-0451_0_9_114.jpg\u001b[0m   \u001b[01;35mimg_random_LIDC-IDRI-0884_0_195.jpg\u001b[0m\n",
      "\u001b[01;35mimg_out_LIDC-IDRI-0489_0_0_39.jpg\u001b[0m    \u001b[01;35mimg_random_LIDC-IDRI-0884_0_196.jpg\u001b[0m\n",
      "\u001b[01;35mimg_out_LIDC-IDRI-0489_0_1_39.jpg\u001b[0m    \u001b[01;35mimg_random_LIDC-IDRI-0884_0_197.jpg\u001b[0m\n",
      "\u001b[01;35mimg_out_LIDC-IDRI-0489_0_2_40.jpg\u001b[0m    \u001b[01;35mimg_random_LIDC-IDRI-0884_0_198.jpg\u001b[0m\n",
      "\u001b[01;35mimg_out_LIDC-IDRI-0489_0_3_40.jpg\u001b[0m    \u001b[01;35mimg_random_LIDC-IDRI-0902_0_100.jpg\u001b[0m\n",
      "\u001b[01;35mimg_out_LIDC-IDRI-0489_0_4_41.jpg\u001b[0m    \u001b[01;35mimg_random_LIDC-IDRI-0902_0_86.jpg\u001b[0m\n",
      "\u001b[01;35mimg_out_LIDC-IDRI-0489_0_5_41.jpg\u001b[0m    \u001b[01;35mimg_random_LIDC-IDRI-0902_0_87.jpg\u001b[0m\n",
      "\u001b[01;35mimg_out_LIDC-IDRI-0489_0_6_42.jpg\u001b[0m    \u001b[01;35mimg_random_LIDC-IDRI-0902_0_88.jpg\u001b[0m\n",
      "\u001b[01;35mimg_out_LIDC-IDRI-0489_0_7_42.jpg\u001b[0m    \u001b[01;35mimg_random_LIDC-IDRI-0902_0_89.jpg\u001b[0m\n",
      "\u001b[01;35mimg_out_LIDC-IDRI-0489_0_8_43.jpg\u001b[0m    \u001b[01;35mimg_random_LIDC-IDRI-0902_0_90.jpg\u001b[0m\n",
      "\u001b[01;35mimg_out_LIDC-IDRI-0489_0_9_43.jpg\u001b[0m    \u001b[01;35mimg_random_LIDC-IDRI-0902_0_91.jpg\u001b[0m\n",
      "\u001b[01;35mimg_out_LIDC-IDRI-0489_1_0_63.jpg\u001b[0m    \u001b[01;35mimg_random_LIDC-IDRI-0902_0_92.jpg\u001b[0m\n",
      "\u001b[01;35mimg_out_LIDC-IDRI-0489_1_10_68.jpg\u001b[0m   \u001b[01;35mimg_random_LIDC-IDRI-0902_0_93.jpg\u001b[0m\n",
      "\u001b[01;35mimg_out_LIDC-IDRI-0489_1_11_68.jpg\u001b[0m   \u001b[01;35mimg_random_LIDC-IDRI-0902_0_94.jpg\u001b[0m\n",
      "\u001b[01;35mimg_out_LIDC-IDRI-0489_1_12_69.jpg\u001b[0m   \u001b[01;35mimg_random_LIDC-IDRI-0902_0_95.jpg\u001b[0m\n",
      "\u001b[01;35mimg_out_LIDC-IDRI-0489_1_13_69.jpg\u001b[0m   \u001b[01;35mimg_random_LIDC-IDRI-0902_0_96.jpg\u001b[0m\n",
      "\u001b[01;35mimg_out_LIDC-IDRI-0489_1_14_70.jpg\u001b[0m   \u001b[01;35mimg_random_LIDC-IDRI-0902_0_97.jpg\u001b[0m\n",
      "\u001b[01;35mimg_out_LIDC-IDRI-0489_1_15_70.jpg\u001b[0m   \u001b[01;35mimg_random_LIDC-IDRI-0902_0_98.jpg\u001b[0m\n",
      "\u001b[01;35mimg_out_LIDC-IDRI-0489_1_1_63.jpg\u001b[0m    \u001b[01;35mimg_random_LIDC-IDRI-0902_0_99.jpg\u001b[0m\n",
      "\u001b[01;35mimg_out_LIDC-IDRI-0489_1_2_64.jpg\u001b[0m    \u001b[01;35mimg_random_LIDC-IDRI-0910_0_45.jpg\u001b[0m\n",
      "\u001b[01;35mimg_out_LIDC-IDRI-0489_1_3_64.jpg\u001b[0m    \u001b[01;35mimg_random_LIDC-IDRI-0910_0_46.jpg\u001b[0m\n",
      "\u001b[01;35mimg_out_LIDC-IDRI-0489_1_4_65.jpg\u001b[0m    \u001b[01;35mimg_random_LIDC-IDRI-0910_0_47.jpg\u001b[0m\n",
      "\u001b[01;35mimg_out_LIDC-IDRI-0489_1_5_65.jpg\u001b[0m    \u001b[01;35mimg_random_LIDC-IDRI-0910_0_48.jpg\u001b[0m\n",
      "\u001b[01;35mimg_out_LIDC-IDRI-0489_1_6_66.jpg\u001b[0m    \u001b[01;35mimg_random_LIDC-IDRI-0910_0_49.jpg\u001b[0m\n",
      "\u001b[01;35mimg_out_LIDC-IDRI-0489_1_7_66.jpg\u001b[0m    \u001b[01;35mimg_random_LIDC-IDRI-0910_0_50.jpg\u001b[0m\n",
      "\u001b[01;35mimg_out_LIDC-IDRI-0489_1_8_67.jpg\u001b[0m    \u001b[01;35mimg_random_LIDC-IDRI-0910_0_51.jpg\u001b[0m\n",
      "\u001b[01;35mimg_out_LIDC-IDRI-0489_1_9_67.jpg\u001b[0m    \u001b[01;35mimg_random_LIDC-IDRI-0910_1_92.jpg\u001b[0m\n",
      "\u001b[01;35mimg_out_LIDC-IDRI-0489_2_0_75.jpg\u001b[0m    \u001b[01;35mimg_random_LIDC-IDRI-0910_1_93.jpg\u001b[0m\n",
      "\u001b[01;35mimg_out_LIDC-IDRI-0489_2_1_75.jpg\u001b[0m    \u001b[01;35mimg_random_LIDC-IDRI-0910_1_94.jpg\u001b[0m\n",
      "\u001b[01;35mimg_out_LIDC-IDRI-0489_2_2_76.jpg\u001b[0m    \u001b[01;35mimg_random_LIDC-IDRI-0910_1_95.jpg\u001b[0m\n",
      "\u001b[01;35mimg_out_LIDC-IDRI-0489_2_3_76.jpg\u001b[0m    \u001b[01;35mimg_random_LIDC-IDRI-0910_1_96.jpg\u001b[0m\n",
      "\u001b[01;35mimg_out_LIDC-IDRI-0489_2_4_77.jpg\u001b[0m    \u001b[01;35mimg_random_LIDC-IDRI-0910_1_97.jpg\u001b[0m\n",
      "\u001b[01;35mimg_out_LIDC-IDRI-0489_2_5_77.jpg\u001b[0m    \u001b[01;35mimg_random_LIDC-IDRI-0911_0_116.jpg\u001b[0m\n",
      "\u001b[01;35mimg_out_LIDC-IDRI-0489_2_6_78.jpg\u001b[0m    \u001b[01;35mimg_random_LIDC-IDRI-0911_0_117.jpg\u001b[0m\n",
      "\u001b[01;35mimg_out_LIDC-IDRI-0489_2_7_78.jpg\u001b[0m    \u001b[01;35mimg_random_LIDC-IDRI-0911_0_118.jpg\u001b[0m\n",
      "\u001b[01;35mimg_out_LIDC-IDRI-0489_3_0_92.jpg\u001b[0m    \u001b[01;35mimg_random_LIDC-IDRI-0911_0_119.jpg\u001b[0m\n",
      "\u001b[01;35mimg_out_LIDC-IDRI-0489_3_10_97.jpg\u001b[0m   \u001b[01;35mimg_random_LIDC-IDRI-0911_0_120.jpg\u001b[0m\n",
      "\u001b[01;35mimg_out_LIDC-IDRI-0489_3_11_97.jpg\u001b[0m   \u001b[01;35mimg_random_LIDC-IDRI-0911_0_121.jpg\u001b[0m\n",
      "\u001b[01;35mimg_out_LIDC-IDRI-0489_3_1_92.jpg\u001b[0m    \u001b[01;35mimg_random_LIDC-IDRI-0911_0_122.jpg\u001b[0m\n",
      "\u001b[01;35mimg_out_LIDC-IDRI-0489_3_2_93.jpg\u001b[0m    \u001b[01;35mimg_random_LIDC-IDRI-0911_0_123.jpg\u001b[0m\n",
      "\u001b[01;35mimg_out_LIDC-IDRI-0489_3_3_93.jpg\u001b[0m    \u001b[01;35mimg_random_LIDC-IDRI-0911_0_124.jpg\u001b[0m\n",
      "\u001b[01;35mimg_out_LIDC-IDRI-0489_3_4_94.jpg\u001b[0m    \u001b[01;35mimg_random_LIDC-IDRI-0914_0_101.jpg\u001b[0m\n",
      "\u001b[01;35mimg_out_LIDC-IDRI-0489_3_5_94.jpg\u001b[0m    \u001b[01;35mimg_random_LIDC-IDRI-0914_0_102.jpg\u001b[0m\n",
      "\u001b[01;35mimg_out_LIDC-IDRI-0489_3_6_95.jpg\u001b[0m    \u001b[01;35mimg_random_LIDC-IDRI-0914_0_103.jpg\u001b[0m\n",
      "\u001b[01;35mimg_out_LIDC-IDRI-0489_3_7_95.jpg\u001b[0m    \u001b[01;35mimg_random_LIDC-IDRI-0938_0_100.jpg\u001b[0m\n",
      "\u001b[01;35mimg_out_LIDC-IDRI-0489_3_8_96.jpg\u001b[0m    \u001b[01;35mimg_random_LIDC-IDRI-0938_0_101.jpg\u001b[0m\n",
      "\u001b[01;35mimg_out_LIDC-IDRI-0489_3_9_96.jpg\u001b[0m    \u001b[01;35mimg_random_LIDC-IDRI-0938_0_102.jpg\u001b[0m\n",
      "\u001b[01;35mimg_out_LIDC-IDRI-0515_0_0_172.jpg\u001b[0m   \u001b[01;35mimg_random_LIDC-IDRI-0938_0_103.jpg\u001b[0m\n",
      "\u001b[01;35mimg_out_LIDC-IDRI-0515_0_10_177.jpg\u001b[0m  \u001b[01;35mimg_random_LIDC-IDRI-0938_0_104.jpg\u001b[0m\n",
      "\u001b[01;35mimg_out_LIDC-IDRI-0515_0_11_177.jpg\u001b[0m  \u001b[01;35mimg_random_LIDC-IDRI-0938_0_105.jpg\u001b[0m\n",
      "\u001b[01;35mimg_out_LIDC-IDRI-0515_0_12_178.jpg\u001b[0m  \u001b[01;35mimg_random_LIDC-IDRI-0938_0_98.jpg\u001b[0m\n",
      "\u001b[01;35mimg_out_LIDC-IDRI-0515_0_13_178.jpg\u001b[0m  \u001b[01;35mimg_random_LIDC-IDRI-0938_0_99.jpg\u001b[0m\n",
      "\u001b[01;35mimg_out_LIDC-IDRI-0515_0_14_179.jpg\u001b[0m  \u001b[01;35mimg_random_LIDC-IDRI-0956_0_129.jpg\u001b[0m\n",
      "\u001b[01;35mimg_out_LIDC-IDRI-0515_0_15_179.jpg\u001b[0m  \u001b[01;35mimg_random_LIDC-IDRI-0956_0_130.jpg\u001b[0m\n",
      "\u001b[01;35mimg_out_LIDC-IDRI-0515_0_16_180.jpg\u001b[0m  \u001b[01;35mimg_random_LIDC-IDRI-0956_1_147.jpg\u001b[0m\n",
      "\u001b[01;35mimg_out_LIDC-IDRI-0515_0_17_180.jpg\u001b[0m  \u001b[01;35mimg_random_LIDC-IDRI-0956_1_148.jpg\u001b[0m\n",
      "\u001b[01;35mimg_out_LIDC-IDRI-0515_0_18_181.jpg\u001b[0m  \u001b[01;35mimg_random_LIDC-IDRI-0956_1_149.jpg\u001b[0m\n",
      "\u001b[01;35mimg_out_LIDC-IDRI-0515_0_19_181.jpg\u001b[0m  \u001b[01;35mimg_random_LIDC-IDRI-0956_1_150.jpg\u001b[0m\n",
      "\u001b[01;35mimg_out_LIDC-IDRI-0515_0_1_172.jpg\u001b[0m   \u001b[01;35mimg_random_LIDC-IDRI-0956_2_149.jpg\u001b[0m\n",
      "\u001b[01;35mimg_out_LIDC-IDRI-0515_0_20_182.jpg\u001b[0m  \u001b[01;35mimg_random_LIDC-IDRI-0956_2_150.jpg\u001b[0m\n",
      "\u001b[01;35mimg_out_LIDC-IDRI-0515_0_21_182.jpg\u001b[0m  \u001b[01;35mimg_random_LIDC-IDRI-0956_2_151.jpg\u001b[0m\n",
      "\u001b[01;35mimg_out_LIDC-IDRI-0515_0_22_183.jpg\u001b[0m  \u001b[01;35mimg_random_LIDC-IDRI-0956_2_152.jpg\u001b[0m\n",
      "\u001b[01;35mimg_out_LIDC-IDRI-0515_0_23_183.jpg\u001b[0m  \u001b[01;35mimg_random_LIDC-IDRI-0956_2_153.jpg\u001b[0m\n",
      "\u001b[01;35mimg_out_LIDC-IDRI-0515_0_24_184.jpg\u001b[0m  \u001b[01;35mimg_random_LIDC-IDRI-0963_0_212.jpg\u001b[0m\n",
      "\u001b[01;35mimg_out_LIDC-IDRI-0515_0_25_184.jpg\u001b[0m  \u001b[01;35mimg_random_LIDC-IDRI-0963_0_213.jpg\u001b[0m\n",
      "\u001b[01;35mimg_out_LIDC-IDRI-0515_0_26_185.jpg\u001b[0m  \u001b[01;35mimg_random_LIDC-IDRI-0963_0_214.jpg\u001b[0m\n",
      "\u001b[01;35mimg_out_LIDC-IDRI-0515_0_27_185.jpg\u001b[0m  \u001b[01;35mimg_random_LIDC-IDRI-0963_0_215.jpg\u001b[0m\n",
      "\u001b[01;35mimg_out_LIDC-IDRI-0515_0_2_173.jpg\u001b[0m   \u001b[01;35mimg_random_LIDC-IDRI-0963_0_216.jpg\u001b[0m\n",
      "\u001b[01;35mimg_out_LIDC-IDRI-0515_0_3_173.jpg\u001b[0m   \u001b[01;35mimg_random_LIDC-IDRI-0963_0_217.jpg\u001b[0m\n",
      "\u001b[01;35mimg_out_LIDC-IDRI-0515_0_4_174.jpg\u001b[0m   \u001b[01;35mimg_random_LIDC-IDRI-0963_0_218.jpg\u001b[0m\n",
      "\u001b[01;35mimg_out_LIDC-IDRI-0515_0_5_174.jpg\u001b[0m   \u001b[01;35mimg_random_LIDC-IDRI-0963_0_219.jpg\u001b[0m\n",
      "\u001b[01;35mimg_out_LIDC-IDRI-0515_0_6_175.jpg\u001b[0m   \u001b[01;35mimg_random_LIDC-IDRI-0982_0_367.jpg\u001b[0m\n",
      "\u001b[01;35mimg_out_LIDC-IDRI-0515_0_7_175.jpg\u001b[0m   \u001b[01;35mimg_random_LIDC-IDRI-0982_0_368.jpg\u001b[0m\n",
      "\u001b[01;35mimg_out_LIDC-IDRI-0515_0_8_176.jpg\u001b[0m   \u001b[01;35mimg_random_LIDC-IDRI-0982_0_369.jpg\u001b[0m\n",
      "\u001b[01;35mimg_out_LIDC-IDRI-0515_0_9_176.jpg\u001b[0m   \u001b[01;35mimg_random_LIDC-IDRI-0982_0_370.jpg\u001b[0m\n",
      "\u001b[01;35mimg_out_LIDC-IDRI-0526_0_0_48.jpg\u001b[0m    \u001b[01;35mimg_random_LIDC-IDRI-0982_0_371.jpg\u001b[0m\n",
      "\u001b[01;35mimg_out_LIDC-IDRI-0526_0_10_53.jpg\u001b[0m   \u001b[01;35mimg_random_LIDC-IDRI-0982_0_372.jpg\u001b[0m\n",
      "\u001b[01;35mimg_out_LIDC-IDRI-0526_0_11_53.jpg\u001b[0m   \u001b[01;35mimg_random_LIDC-IDRI-0982_0_373.jpg\u001b[0m\n",
      "\u001b[01;35mimg_out_LIDC-IDRI-0526_0_1_48.jpg\u001b[0m    \u001b[01;35mimg_random_LIDC-IDRI-0982_0_374.jpg\u001b[0m\n",
      "\u001b[01;35mimg_out_LIDC-IDRI-0526_0_2_49.jpg\u001b[0m    \u001b[01;35mimg_random_LIDC-IDRI-0982_0_375.jpg\u001b[0m\n",
      "\u001b[01;35mimg_out_LIDC-IDRI-0526_0_3_49.jpg\u001b[0m    \u001b[01;35mimg_random_LIDC-IDRI-0982_0_376.jpg\u001b[0m\n",
      "\u001b[01;35mimg_out_LIDC-IDRI-0526_0_4_50.jpg\u001b[0m    \u001b[01;35mimg_random_LIDC-IDRI-0982_0_377.jpg\u001b[0m\n",
      "\u001b[01;35mimg_out_LIDC-IDRI-0526_0_5_50.jpg\u001b[0m    \u001b[01;35mimg_random_LIDC-IDRI-0982_0_378.jpg\u001b[0m\n",
      "\u001b[01;35mimg_out_LIDC-IDRI-0526_0_6_51.jpg\u001b[0m    \u001b[01;35mimg_random_LIDC-IDRI-0982_0_379.jpg\u001b[0m\n",
      "\u001b[01;35mimg_out_LIDC-IDRI-0526_0_7_51.jpg\u001b[0m\n"
     ]
    }
   ],
   "source": [
    "ls /data/unet/val/images/"
   ]
  },
  {
   "cell_type": "code",
   "execution_count": 360,
   "id": "21446937",
   "metadata": {},
   "outputs": [
    {
     "data": {
      "text/plain": [
       "<matplotlib.image.AxesImage at 0x7face1de1b20>"
      ]
     },
     "execution_count": 360,
     "metadata": {},
     "output_type": "execute_result"
    },
    {
     "data": {
      "image/png": "[encoded data removed]",
      "text/plain": [
       "<Figure size 432x288 with 1 Axes>"
      ]
     },
     "metadata": {
      "needs_background": "light"
     },
     "output_type": "display_data"
    }
   ],
   "source": [
    "image = Image.open('/data/unet/train/images/img_LIDC-IDRI-0001_0_86.jpg')\n",
    "image = np.array(image).astype('float32')\n",
    "image -= np.mean(image)\n",
    "image /= np.std(image)\n",
    "plt.imshow(image)"
   ]
  },
  {
   "cell_type": "code",
   "execution_count": 361,
   "id": "482dd171",
   "metadata": {},
   "outputs": [
    {
     "data": {
      "text/plain": [
       "241"
      ]
     },
     "execution_count": 361,
     "metadata": {},
     "output_type": "execute_result"
    }
   ],
   "source": [
    "len(np.unique(image))"
   ]
  },
  {
   "cell_type": "code",
   "execution_count": 359,
   "id": "47812468",
   "metadata": {},
   "outputs": [
    {
     "data": {
      "text/plain": [
       "<matplotlib.image.AxesImage at 0x7face9d2bcd0>"
      ]
     },
     "execution_count": 359,
     "metadata": {},
     "output_type": "execute_result"
    },
    {
     "data": {
      "image/png": "[encoded data removed]",
      "text/plain": [
       "<Figure size 432x288 with 1 Axes>"
      ]
     },
     "metadata": {
      "needs_background": "light"
     },
     "output_type": "display_data"
    }
   ],
   "source": [
    "mask = Image.open('/data/unet/train/masks/mask_LIDC-IDRI-0001_0_86.jpg')\n",
    "mask = mask.convert('1')\n",
    "mask = np.array(mask)\n",
    "mask = mask.astype(np.uint8)\n",
    "plt.imshow(mask)"
   ]
  },
  {
   "cell_type": "code",
   "execution_count": 354,
   "id": "c364a232",
   "metadata": {},
   "outputs": [
    {
     "name": "stdout",
     "output_type": "stream",
     "text": [
      "Score = 0.9070631861686707\n"
     ]
    }
   ],
   "source": [
    "inputs, labels = torch.tensor(image[np.newaxis, np.newaxis,:,:]).to(device), torch.tensor(mask[np.newaxis, np.newaxis,:,:]).to(device)\n",
    "mask_pre_prob = torch.sigmoid(seg_model(inputs))#.detach().cpu().numpy()\n",
    "outputs = np.squeeze(mask_pre_prob).detach().cpu()\n",
    "mask_pre = np.where(outputs>0.5, 1,0)\n",
    "mask_pre = torch.from_numpy(mask_pre)\n",
    "score = dice_coeff(np.squeeze(labels).detach().cpu(), mask_pre[np.newaxis,:,:])\n",
    "print(\"Score = {}\".format(score))"
   ]
  },
  {
   "cell_type": "code",
   "execution_count": 355,
   "id": "ee04d474",
   "metadata": {},
   "outputs": [
    {
     "data": {
      "text/plain": [
       "<matplotlib.image.AxesImage at 0x7face1ceddf0>"
      ]
     },
     "execution_count": 355,
     "metadata": {},
     "output_type": "execute_result"
    },
    {
     "data": {
      "image/png": "[encoded data removed]",
      "text/plain": [
       "<Figure size 432x288 with 1 Axes>"
      ]
     },
     "metadata": {
      "needs_background": "light"
     },
     "output_type": "display_data"
    }
   ],
   "source": [
    "plt.imshow(mask_pre)"
   ]
  },
  {
   "cell_type": "code",
   "execution_count": 329,
   "id": "af3a1661",
   "metadata": {},
   "outputs": [
    {
     "name": "stdout",
     "output_type": "stream",
     "text": [
      "(512, 512)\n"
     ]
    },
    {
     "data": {
      "text/plain": [
       "247"
      ]
     },
     "execution_count": 329,
     "metadata": {},
     "output_type": "execute_result"
    }
   ],
   "source": [
    "fullsize_mask_folder = '/data/unet/fullsize/train/images/'\n",
    "image = Image.open(fullsize_mask_folder + imgname)\n",
    "image = np.array(image).astype('float32')\n",
    "image -= np.mean(image)\n",
    "image /= np.std(image)\n",
    "print(image.shape)\n",
    "len(np.unique(image))"
   ]
  },
  {
   "cell_type": "code",
   "execution_count": 267,
   "id": "67ee7be7",
   "metadata": {},
   "outputs": [
    {
     "name": "stdout",
     "output_type": "stream",
     "text": [
      "(64, 64)\n"
     ]
    },
    {
     "data": {
      "text/plain": [
       "241"
      ]
     },
     "execution_count": 267,
     "metadata": {},
     "output_type": "execute_result"
    }
   ],
   "source": [
    "image = Image.open('/data/unet/train/images/img_LIDC-IDRI-0001_0_86.jpg')\n",
    "image = np.array(image).astype('float32')\n",
    "image -= np.mean(image)\n",
    "image /= np.std(image)\n",
    "print(image.shape)\n",
    "len(np.unique(image))"
   ]
  },
  {
   "cell_type": "code",
   "execution_count": 330,
   "id": "56c3bf8a",
   "metadata": {},
   "outputs": [
    {
     "name": "stderr",
     "output_type": "stream",
     "text": [
      "Lossy conversion from float32 to uint8. Range [-0.17634423077106476, 2.1623523235321045]. Convert image to uint8 prior to saving to suppress this warning.\n"
     ]
    },
    {
     "name": "stdout",
     "output_type": "stream",
     "text": [
      "(64, 64)\n",
      "89\n",
      "(64, 64)\n"
     ]
    },
    {
     "data": {
      "text/plain": [
       "239"
      ]
     },
     "execution_count": 330,
     "metadata": {},
     "output_type": "execute_result"
    },
    {
     "data": {
      "image/png": "[encoded data removed]",
      "text/plain": [
       "<Figure size 432x288 with 1 Axes>"
      ]
     },
     "metadata": {
      "needs_background": "light"
     },
     "output_type": "display_data"
    }
   ],
   "source": [
    "clip, files = get_predicted_box('exp20')\n",
    "clip = yolo_bbox_to_slice(clip)\n",
    "cropped_clip = get_nodule_part(clip, random=False)\n",
    "plt.imshow(image[cropped_clip])\n",
    "print(image[cropped_clip].shape)\n",
    "len(np.unique(image[cropped_clip]))\n",
    "temp_file = '/data/sample/temp/temp.jpg'\n",
    "print(len(np.unique(image[cropped_clip])))\n",
    "imageio.imwrite(temp_file, image[cropped_clip])\n",
    "im = Image.open(temp_file)\n",
    "im = np.array(im).astype('float32')\n",
    "im -= np.mean(im)\n",
    "im /= np.std(im)\n",
    "print(im.shape)\n",
    "len(np.unique(im))"
   ]
  },
  {
   "cell_type": "code",
   "execution_count": 315,
   "id": "cc94baff",
   "metadata": {},
   "outputs": [],
   "source": [
    "!mkdir -p /data/sample/temp"
   ]
  },
  {
   "cell_type": "code",
   "execution_count": 316,
   "id": "f50beaba",
   "metadata": {},
   "outputs": [],
   "source": [
    "ls /data/sample/temp"
   ]
  },
  {
   "cell_type": "markdown",
   "id": "50e3583a",
   "metadata": {},
   "source": [
    "### https://stackoverflow.com/questions/19124591/why-imageio-write-method-modifies-pixel-values\n",
    "\n",
    "We are using images generated using imageio for the unet / segmentation model training, the cropped images also have a rich set of values, upto ~240 unique values. However, when cropping an image read from PIL image open, the range of the values in the cropped image is quite small.\n",
    "Therefore, we need to use imageio to convert the values in the cropped image to a rich set of values."
   ]
  },
  {
   "cell_type": "code",
   "execution_count": 340,
   "id": "15bebc49",
   "metadata": {},
   "outputs": [
    {
     "name": "stderr",
     "output_type": "stream",
     "text": [
      "Lossy conversion from float32 to uint8. Range [-0.17634423077106476, 2.1623523235321045]. Convert image to uint8 prior to saving to suppress this warning.\n"
     ]
    },
    {
     "data": {
      "text/plain": [
       "239"
      ]
     },
     "execution_count": 340,
     "metadata": {},
     "output_type": "execute_result"
    }
   ],
   "source": [
    "arr = image[cropped_clip]\n",
    "from io import BytesIO\n",
    "import imageio\n",
    "buf = BytesIO()\n",
    "imageio.imwrite(buf, arr, format='jpg')\n",
    "buf.seek(0)\n",
    "new_arr = Image.open(buf)\n",
    "new_arr = np.array(new_arr).astype('float32')\n",
    "new_arr -= np.mean(new_arr)\n",
    "new_arr /= np.std(new_arr)\n",
    "len(np.unique(new_arr))"
   ]
  },
  {
   "cell_type": "code",
   "execution_count": 71,
   "id": "8dd9031c",
   "metadata": {},
   "outputs": [],
   "source": [
    "from io import BytesIO\n",
    "import imageio\n",
    "def convert_to_imageio_rich(cropped_img_array):\n",
    "    buf = BytesIO()\n",
    "    imageio.imwrite(buf, cropped_img_array, format='jpg')\n",
    "    buf.seek(0)\n",
    "    new_arr = Image.open(buf)\n",
    "    new_arr = np.array(new_arr).astype('float32')\n",
    "    new_arr -= np.mean(new_arr)\n",
    "    new_arr /= np.std(new_arr)\n",
    "    return new_arr"
   ]
  },
  {
   "cell_type": "code",
   "execution_count": 103,
   "id": "aa107ac3",
   "metadata": {},
   "outputs": [
    {
     "name": "stderr",
     "output_type": "stream",
     "text": [
      "Lossy conversion from float32 to uint8. Range [-0.17634423077106476, 2.1623523235321045]. Convert image to uint8 prior to saving to suppress this warning.\n"
     ]
    },
    {
     "name": "stdout",
     "output_type": "stream",
     "text": [
      "Score = 0.8969465494155884\n"
     ]
    }
   ],
   "source": [
    "#load the source image\n",
    "\n",
    "# get the cropped image from yolo prediction\n",
    "fullsize_mask_folder = '/data/unet/fullsize/train/images/'\n",
    "image = Image.open(fullsize_mask_folder + imgname)\n",
    "image = np.array(image).astype('float32')\n",
    "image -= np.mean(image)\n",
    "image /= np.std(image)\n",
    "#mask = mask.astype(np.uint8)\n",
    "#note, y and x are flipped\n",
    "clip = yolo_bbox_to_slice(convert_yolo_to_bounding_box((x, y, w, h)))\n",
    "#plt.imshow(img[clip])\n",
    "cropped_clip = get_nodule_part(clip, random=False)\n",
    "#plt.imshow(image[cropped_clip])\n",
    "\n",
    "# true mask\n",
    "\n",
    "#x = 305, y = 358, w = 24, h= 16\n",
    "#convert the rect coords to slice\n",
    "fullsize_mask_folder = '/data/unet/fullsize/train/masks/'\n",
    "mask = Image.open(fullsize_mask_folder + imgname.replace('img','mask'))\n",
    "mask = mask.convert('1')\n",
    "mask = np.array(mask)\n",
    "mask = mask.astype(np.uint8)\n",
    "#note, y and x are flipped\n",
    "clip, files = get_predicted_box('exp20')\n",
    "#clip = yolo_bbox_to_slice(convert_yolo_to_bounding_box((x, y, w, h)))\n",
    "clip = yolo_bbox_to_slice(clip)\n",
    "#print(\"clip = \", clip)\n",
    "#plt.imshow(mask[clip])\n",
    "cropped_clip = get_nodule_part(clip, random=False)\n",
    "#plt.imshow(mask[cropped_clip])\n",
    "\n",
    "source_image = convert_to_imageio_rich(image[cropped_clip])\n",
    "inputs, labels = torch.tensor(source_image[np.newaxis, np.newaxis,:,:]).to(device), torch.tensor(mask[cropped_clip][np.newaxis, np.newaxis,:,:]).to(device)\n",
    "mask_pre_prob = torch.sigmoid(seg_model(inputs))#.detach().cpu().numpy()\n",
    "outputs = np.squeeze(mask_pre_prob).detach().cpu()\n",
    "mask_pre = np.where(outputs>0.5, 1,0)\n",
    "mask_pre = torch.from_numpy(mask_pre)\n",
    "score = dice_coeff(np.squeeze(labels).detach().cpu(), mask_pre[np.newaxis,:,:])\n",
    "print(\"Score = {}\".format(score))"
   ]
  },
  {
   "cell_type": "code",
   "execution_count": 104,
   "id": "15876e7e",
   "metadata": {},
   "outputs": [
    {
     "data": {
      "text/plain": [
       "<matplotlib.image.AxesImage at 0x7f6599b656a0>"
      ]
     },
     "execution_count": 104,
     "metadata": {},
     "output_type": "execute_result"
    },
    {
     "data": {
      "image/png": "[encoded data removed]",
      "text/plain": [
       "<Figure size 432x288 with 1 Axes>"
      ]
     },
     "metadata": {
      "needs_background": "light"
     },
     "output_type": "display_data"
    }
   ],
   "source": [
    "plt.imshow(mask_pre)"
   ]
  },
  {
   "cell_type": "code",
   "execution_count": 112,
   "id": "49824bd0",
   "metadata": {},
   "outputs": [
    {
     "name": "stdout",
     "output_type": "stream",
     "text": [
      "Unique pixels 247\n",
      "Score = 0.8792207837104797\n"
     ]
    }
   ],
   "source": [
    "#load the source image\n",
    "\n",
    "# get the cropped image from yolo prediction\n",
    "imgname = 'img_LIDC-IDRI-0436_0_67.jpg'\n",
    "fullsize_mask_folder = '/data/unet/test/images/'\n",
    "image = Image.open(fullsize_mask_folder + imgname)\n",
    "image = np.array(image).astype('float32')\n",
    "image -= np.mean(image)\n",
    "image /= np.std(image)\n",
    "\n",
    "print(\"Unique pixels {}\".format(len(np.unique(image))))\n",
    "#mask = mask.astype(np.uint8)\n",
    "#note, y and x are flipped\n",
    "clip = yolo_bbox_to_slice(convert_yolo_to_bounding_box((x, y, w, h)))\n",
    "#plt.imshow(img[clip])\n",
    "cropped_clip = get_nodule_part(clip, random=False)\n",
    "#plt.imshow(image[cropped_clip])\n",
    "\n",
    "# true mask\n",
    "\n",
    "#x = 305, y = 358, w = 24, h= 16\n",
    "#convert the rect coords to slice\n",
    "fullsize_mask_folder = '/data/unet/test/masks/'\n",
    "mask = Image.open(fullsize_mask_folder + imgname.replace('img','mask'))\n",
    "mask = mask.convert('1')\n",
    "mask = np.array(mask)\n",
    "mask = mask.astype(np.uint8)\n",
    "# #note, y and x are flipped\n",
    "# clip, files = get_predicted_box('exp20')\n",
    "# #clip = yolo_bbox_to_slice(convert_yolo_to_bounding_box((x, y, w, h)))\n",
    "# clip = yolo_bbox_to_slice(clip)\n",
    "# #print(\"clip = \", clip)\n",
    "# #plt.imshow(mask[clip])\n",
    "# cropped_clip = get_nodule_part(clip, random=False)\n",
    "# #plt.imshow(mask[cropped_clip])\n",
    "\n",
    "#source_image = convert_to_imageio_rich(image)\n",
    "source_image = image\n",
    "inputs, labels = torch.tensor(source_image[np.newaxis, np.newaxis,:,:]).to(device), torch.tensor(mask[np.newaxis, np.newaxis,:,:]).to(device)\n",
    "mask_pre_prob = torch.sigmoid(seg_model(inputs))#.detach().cpu().numpy()\n",
    "outputs = np.squeeze(mask_pre_prob).detach().cpu()\n",
    "mask_pre = np.where(outputs>0.5, 1,0)\n",
    "mask_pre = torch.from_numpy(mask_pre)\n",
    "score = dice_coeff(np.squeeze(labels).detach().cpu(), mask_pre[np.newaxis,:,:])\n",
    "print(\"Score = {}\".format(score))"
   ]
  },
  {
   "cell_type": "code",
   "execution_count": 110,
   "id": "1d1a4cb4",
   "metadata": {},
   "outputs": [
    {
     "data": {
      "text/plain": [
       "<matplotlib.image.AxesImage at 0x7f64d463a7f0>"
      ]
     },
     "execution_count": 110,
     "metadata": {},
     "output_type": "execute_result"
    },
    {
     "data": {
      "image/png": "[encoded data removed]",
      "text/plain": [
       "<Figure size 432x288 with 1 Axes>"
      ]
     },
     "metadata": {
      "needs_background": "light"
     },
     "output_type": "display_data"
    }
   ],
   "source": [
    "plt.imshow(mask_pre)"
   ]
  },
  {
   "cell_type": "code",
   "execution_count": 113,
   "id": "de4f69e2",
   "metadata": {},
   "outputs": [
    {
     "name": "stdout",
     "output_type": "stream",
     "text": [
      "Loading dicom files ... This may take a moment.\n"
     ]
    }
   ],
   "source": [
    "vol, CT_mask, cbbox, slices_with_mask = load_patient_vol_and_mask('/data/yolov5/test/sorted_gcsfiles', 'LIDC-IDRI-0436')"
   ]
  },
  {
   "cell_type": "code",
   "execution_count": 114,
   "id": "882f64de",
   "metadata": {},
   "outputs": [
    {
     "data": {
      "text/plain": [
       "array([57., 58., 59., 60., 61., 62., 63., 64., 65., 66., 67., 68., 69.,\n",
       "       70.])"
      ]
     },
     "execution_count": 114,
     "metadata": {},
     "output_type": "execute_result"
    }
   ],
   "source": [
    "slices_with_mask"
   ]
  },
  {
   "cell_type": "code",
   "execution_count": 148,
   "id": "969010eb",
   "metadata": {},
   "outputs": [
    {
     "data": {
      "text/plain": [
       "Text(0.5, 1.0, 'Predicted')"
      ]
     },
     "execution_count": 148,
     "metadata": {},
     "output_type": "execute_result"
    },
    {
     "data": {
      "image/png": "[encoded data removed]",
      "text/plain": [
       "<Figure size 432x288 with 3 Axes>"
      ]
     },
     "metadata": {
      "needs_background": "light"
     },
     "output_type": "display_data"
    }
   ],
   "source": [
    "f, a = plt.subplots(1,3)\n",
    "a[0].imshow(CT_mask[cbbox[0]][:,:,10])\n",
    "a[0].set_title('Ground truth')\n",
    "\n",
    "#predict \n",
    "image = vol[cbbox[0]][:,:,10]\n",
    "image = np.array(image).astype('float32')\n",
    "image -= np.mean(image)\n",
    "image /= np.std(image)\n",
    "\n",
    "a[1].imshow(image)\n",
    "a[1].set_title('Source image')\n",
    "\n",
    "\n",
    "inputs = torch.tensor(image[np.newaxis, np.newaxis,:,:]).to(device)\n",
    "mask_pre_prob = torch.sigmoid(seg_model(inputs))#.detach().cpu().numpy()\n",
    "outputs = np.squeeze(mask_pre_prob).detach().cpu()\n",
    "mask_pre = np.where(outputs>0.5, 1,0)\n",
    "mask_pre = torch.from_numpy(mask_pre)\n",
    "a[2].imshow(mask_pre)\n",
    "a[2].set_title('Predicted')"
   ]
  },
  {
   "cell_type": "code",
   "execution_count": 145,
   "id": "22b2aa03",
   "metadata": {},
   "outputs": [
    {
     "data": {
      "text/plain": [
       "(slice(175, 239, None), slice(87, 151, None), slice(57, 70, None))"
      ]
     },
     "execution_count": 145,
     "metadata": {},
     "output_type": "execute_result"
    }
   ],
   "source": [
    "cbbox[0]"
   ]
  },
  {
   "cell_type": "code",
   "execution_count": 150,
   "id": "1012403b",
   "metadata": {},
   "outputs": [
    {
     "data": {
      "text/plain": [
       "Text(0.5, 1.0, 'Predicted')"
      ]
     },
     "execution_count": 150,
     "metadata": {},
     "output_type": "execute_result"
    },
    {
     "data": {
      "image/png": "[encoded data removed]",
      "text/plain": [
       "<Figure size 432x288 with 3 Axes>"
      ]
     },
     "metadata": {
      "needs_background": "light"
     },
     "output_type": "display_data"
    }
   ],
   "source": [
    "#shift a few pixels down\n",
    "\n",
    "f, a = plt.subplots(1,3)\n",
    "a[0].imshow(CT_mask[cbbox[0]][:,:,10])\n",
    "a[0].set_title('Ground truth')\n",
    "\n",
    "#predict \n",
    "image = vol[(slice(175, 239, None), slice(97, 161, None), slice(57, 70, None))][:,:,10]\n",
    "image = np.array(image).astype('float32')\n",
    "image -= np.mean(image)\n",
    "image /= np.std(image)\n",
    "\n",
    "a[1].imshow(image)\n",
    "a[1].set_title('Source image')\n",
    "\n",
    "inputs = torch.tensor(image[np.newaxis, np.newaxis,:,:]).to(device)\n",
    "mask_pre_prob = torch.sigmoid(seg_model(inputs))#.detach().cpu().numpy()\n",
    "outputs = np.squeeze(mask_pre_prob).detach().cpu()\n",
    "mask_pre = np.where(outputs>0.5, 1,0)\n",
    "mask_pre = torch.from_numpy(mask_pre)\n",
    "a[2].imshow(mask_pre)\n",
    "a[2].set_title('Predicted')"
   ]
  },
  {
   "cell_type": "code",
   "execution_count": 156,
   "id": "3112e738",
   "metadata": {},
   "outputs": [
    {
     "data": {
      "text/plain": [
       "Text(0.5, 1.0, 'Predicted')"
      ]
     },
     "execution_count": 156,
     "metadata": {},
     "output_type": "execute_result"
    },
    {
     "data": {
      "image/png": "[encoded data removed]",
      "text/plain": [
       "<Figure size 432x288 with 3 Axes>"
      ]
     },
     "metadata": {
      "needs_background": "light"
     },
     "output_type": "display_data"
    }
   ],
   "source": [
    "#shift a few pixels up\n",
    "\n",
    "f, a = plt.subplots(1,3)\n",
    "\n",
    "new_slice = (slice(175, 239, None), slice(77, 141, None), slice(57, 70, None))\n",
    "\n",
    "\n",
    "#predict \n",
    "image = vol[new_slice][:,:,10]\n",
    "image = np.array(image).astype('float32')\n",
    "image -= np.mean(image)\n",
    "image /= np.std(image)\n",
    "\n",
    "a[1].imshow(image)\n",
    "a[1].set_title('Source image')\n",
    "\n",
    "a[0].imshow(CT_mask[new_slice][:,:,10])\n",
    "a[0].set_title('Ground truth')\n",
    "\n",
    "inputs = torch.tensor(image[np.newaxis, np.newaxis,:,:]).to(device)\n",
    "mask_pre_prob = torch.sigmoid(seg_model(inputs))#.detach().cpu().numpy()\n",
    "outputs = np.squeeze(mask_pre_prob).detach().cpu()\n",
    "mask_pre = np.where(outputs>0.5, 1,0)\n",
    "mask_pre = torch.from_numpy(mask_pre)\n",
    "a[2].imshow(mask_pre)\n",
    "a[2].set_title('Predicted')"
   ]
  },
  {
   "cell_type": "code",
   "execution_count": 155,
   "id": "6a90e058",
   "metadata": {},
   "outputs": [
    {
     "data": {
      "text/plain": [
       "Text(0.5, 1.0, 'Predicted')"
      ]
     },
     "execution_count": 155,
     "metadata": {},
     "output_type": "execute_result"
    },
    {
     "data": {
      "image/png": "[encoded data removed]",
      "text/plain": [
       "<Figure size 432x288 with 3 Axes>"
      ]
     },
     "metadata": {
      "needs_background": "light"
     },
     "output_type": "display_data"
    }
   ],
   "source": [
    "#shift a few pixels up\n",
    "\n",
    "f, a = plt.subplots(1,3)\n",
    "\n",
    "\n",
    "#predict \n",
    "new_slice = (slice(165, 229, None), slice(87, 151, None), slice(57, 70, None))\n",
    "image = vol[new_slice][:,:,10]\n",
    "image = np.array(image).astype('float32')\n",
    "image -= np.mean(image)\n",
    "image /= np.std(image)\n",
    "\n",
    "a[0].imshow(CT_mask[new_slice][:,:,10])\n",
    "a[0].set_title('Ground truth')\n",
    "\n",
    "\n",
    "a[1].imshow(image)\n",
    "a[1].set_title('Source image')\n",
    "\n",
    "inputs = torch.tensor(image[np.newaxis, np.newaxis,:,:]).to(device)\n",
    "mask_pre_prob = torch.sigmoid(seg_model(inputs))#.detach().cpu().numpy()\n",
    "outputs = np.squeeze(mask_pre_prob).detach().cpu()\n",
    "mask_pre = np.where(outputs>0.5, 1,0)\n",
    "mask_pre = torch.from_numpy(mask_pre)\n",
    "a[2].imshow(mask_pre)\n",
    "a[2].set_title('Predicted')"
   ]
  },
  {
   "cell_type": "markdown",
   "id": "680af73f",
   "metadata": {},
   "source": [
    "#### Try random crop for Yolo model training"
   ]
  },
  {
   "cell_type": "code",
   "execution_count": 182,
   "id": "243d1a31",
   "metadata": {},
   "outputs": [],
   "source": [
    "import torchvision\n",
    "from PIL import Image\n",
    "import torch\n",
    "import torch.nn as nn\n",
    "import torchvision.transforms as T\n",
    "from torchvision.io import read_image"
   ]
  },
  {
   "cell_type": "code",
   "execution_count": 174,
   "id": "efcf989f",
   "metadata": {},
   "outputs": [
    {
     "name": "stdout",
     "output_type": "stream",
     "text": [
      "\u001b[0m\u001b[01;35m/data/yolov5/train/images/LIDC-IDRI-0001_118.jpg\u001b[0m\n"
     ]
    }
   ],
   "source": [
    "ls /data/yolov5/train/images/LIDC-IDRI-0001_118.jpg"
   ]
  },
  {
   "cell_type": "code",
   "execution_count": 190,
   "id": "98f4f7f4",
   "metadata": {},
   "outputs": [],
   "source": [
    "def show(imgs):\n",
    "    fix, axs = plt.subplots(ncols=len(imgs), squeeze=False)\n",
    "    for i, img in enumerate(imgs):\n",
    "        img = T.ToPILImage()(img.to('cpu'))\n",
    "        axs[0, i].imshow(np.asarray(img))\n",
    "        print(len(np.unique(np.asarray(img))))\n",
    "        axs[0, i].set(xticklabels=[], yticklabels=[], xticks=[], yticks=[])"
   ]
  },
  {
   "cell_type": "code",
   "execution_count": 183,
   "id": "f83972a3",
   "metadata": {},
   "outputs": [],
   "source": [
    "transforms = torch.nn.Sequential(\n",
    "    T.RandomCrop(224),\n",
    "    T.RandomHorizontalFlip(p=0.3),\n",
    ")"
   ]
  },
  {
   "cell_type": "code",
   "execution_count": 191,
   "id": "af5167d9",
   "metadata": {},
   "outputs": [
    {
     "name": "stdout",
     "output_type": "stream",
     "text": [
      "255\n"
     ]
    },
    {
     "data": {
      "image/png": "[encoded data removed]",
      "text/plain": [
       "<Figure size 432x288 with 1 Axes>"
      ]
     },
     "metadata": {},
     "output_type": "display_data"
    }
   ],
   "source": [
    "nodule = read_image('/data/yolov5/train/images/LIDC-IDRI-0001_118.jpg')\n",
    "show(nodule)"
   ]
  },
  {
   "cell_type": "code",
   "execution_count": 195,
   "id": "049dccfa",
   "metadata": {},
   "outputs": [
    {
     "name": "stdout",
     "output_type": "stream",
     "text": [
      "204\n"
     ]
    },
    {
     "data": {
      "image/png": "[encoded data removed]",
      "text/plain": [
       "<Figure size 432x288 with 1 Axes>"
      ]
     },
     "metadata": {},
     "output_type": "display_data"
    }
   ],
   "source": [
    "transformed_nodule = transforms(nodule)\n",
    "show(transformed_nodule)"
   ]
  },
  {
   "cell_type": "code",
   "execution_count": null,
   "id": "2c430b75",
   "metadata": {},
   "outputs": [],
   "source": [
    "Image.open('/data/yolov5/train/images/LIDC-IDRI-0001_118.jpg')"
   ]
  },
  {
   "cell_type": "code",
   "execution_count": null,
   "id": "a357e2a6",
   "metadata": {},
   "outputs": [],
   "source": []
  },
  {
   "cell_type": "code",
   "execution_count": null,
   "id": "0a11ff67",
   "metadata": {},
   "outputs": [],
   "source": []
  },
  {
   "cell_type": "code",
   "execution_count": null,
   "id": "325dd665",
   "metadata": {},
   "outputs": [],
   "source": []
  },
  {
   "cell_type": "code",
   "execution_count": 31,
   "id": "a3383449",
   "metadata": {},
   "outputs": [
    {
     "data": {
      "text/plain": [
       "<matplotlib.image.AxesImage at 0x7f65a8150df0>"
      ]
     },
     "execution_count": 31,
     "metadata": {},
     "output_type": "execute_result"
    },
    {
     "data": {
      "image/png": "[encoded data removed]",
      "text/plain": [
       "<Figure size 432x288 with 1 Axes>"
      ]
     },
     "metadata": {
      "needs_background": "light"
     },
     "output_type": "display_data"
    }
   ],
   "source": [
    "image = Image.open('/data/unet/test/images/img_LIDC-IDRI-0052_0_84.jpg')\n",
    "image = np.array(image).astype('float32')\n",
    "image -= np.mean(image)\n",
    "image /= np.std(image)\n",
    "plt.imshow(image)"
   ]
  },
  {
   "cell_type": "code",
   "execution_count": 32,
   "id": "bce15d01",
   "metadata": {},
   "outputs": [
    {
     "data": {
      "text/plain": [
       "<matplotlib.image.AxesImage at 0x7f65a367bd90>"
      ]
     },
     "execution_count": 32,
     "metadata": {},
     "output_type": "execute_result"
    },
    {
     "data": {
      "image/png": "[encoded data removed]",
      "text/plain": [
       "<Figure size 432x288 with 1 Axes>"
      ]
     },
     "metadata": {
      "needs_background": "light"
     },
     "output_type": "display_data"
    }
   ],
   "source": [
    "image = Image.open('/data/unet/test/images/img_LIDC-IDRI-0052_1_228.jpg')\n",
    "image = np.array(image).astype('float32')\n",
    "image -= np.mean(image)\n",
    "image /= np.std(image)\n",
    "plt.imshow(image)"
   ]
  },
  {
   "cell_type": "code",
   "execution_count": 40,
   "id": "936e9622",
   "metadata": {},
   "outputs": [
    {
     "name": "stdout",
     "output_type": "stream",
     "text": [
      "Loading dicom files ... This may take a moment.\n"
     ]
    }
   ],
   "source": [
    "vol, CT_mask, cbbox, slices_with_mask = load_patient_vol_and_mask('/data/yolov5/test/sorted_gcsfiles', 'LIDC-IDRI-0052')"
   ]
  },
  {
   "cell_type": "code",
   "execution_count": 45,
   "id": "21c71246",
   "metadata": {},
   "outputs": [
    {
     "data": {
      "text/plain": [
       "<matplotlib.image.AxesImage at 0x7f65a324d370>"
      ]
     },
     "execution_count": 45,
     "metadata": {},
     "output_type": "execute_result"
    },
    {
     "data": {
      "image/png": "[encoded data removed]",
      "text/plain": [
       "<Figure size 432x288 with 1 Axes>"
      ]
     },
     "metadata": {
      "needs_background": "light"
     },
     "output_type": "display_data"
    }
   ],
   "source": [
    "plt.imshow(CT_mask[:,:,67])"
   ]
  },
  {
   "cell_type": "code",
   "execution_count": 43,
   "id": "d69462e0",
   "metadata": {},
   "outputs": [
    {
     "data": {
      "text/plain": [
       "<matplotlib.image.AxesImage at 0x7f65a2b8e5b0>"
      ]
     },
     "execution_count": 43,
     "metadata": {},
     "output_type": "execute_result"
    },
    {
     "data": {
      "image/png": "[encoded data removed]",
      "text/plain": [
       "<Figure size 432x288 with 1 Axes>"
      ]
     },
     "metadata": {
      "needs_background": "light"
     },
     "output_type": "display_data"
    }
   ],
   "source": [
    "plt.imshow(vol[:,:,67])"
   ]
  },
  {
   "cell_type": "code",
   "execution_count": 44,
   "id": "037dbb31",
   "metadata": {},
   "outputs": [
    {
     "data": {
      "text/plain": [
       "array([ 80.,  81.,  82.,  83.,  84.,  85.,  86.,  87.,  88., 221., 222.,\n",
       "       223., 224., 225., 226., 227., 228., 229., 230., 231., 232., 233.,\n",
       "       234., 235., 236., 237., 238., 239., 240., 241., 242., 243., 244.,\n",
       "       245., 246., 247., 248., 249., 250., 251., 252.])"
      ]
     },
     "execution_count": 44,
     "metadata": {},
     "output_type": "execute_result"
    }
   ],
   "source": [
    "slices_with_mask"
   ]
  },
  {
   "cell_type": "code",
   "execution_count": 69,
   "id": "a8d6025e",
   "metadata": {},
   "outputs": [
    {
     "data": {
      "text/plain": [
       "<matplotlib.image.AxesImage at 0x7f65a2c6d160>"
      ]
     },
     "execution_count": 69,
     "metadata": {},
     "output_type": "execute_result"
    },
    {
     "data": {
      "image/png": "[encoded data removed]",
      "text/plain": [
       "<Figure size 432x288 with 1 Axes>"
      ]
     },
     "metadata": {
      "needs_background": "light"
     },
     "output_type": "display_data"
    }
   ],
   "source": [
    "plt.imshow(CT_mask[cbbox[1]][:,:,0])"
   ]
  },
  {
   "cell_type": "code",
   "execution_count": 67,
   "id": "0bc59d34",
   "metadata": {},
   "outputs": [
    {
     "data": {
      "text/plain": [
       "[(slice(226, 240, None), slice(341, 359, None), slice(80, 88, None)),\n",
       " (slice(273, 341, None), slice(140, 224, None), slice(221, 252, None))]"
      ]
     },
     "execution_count": 67,
     "metadata": {},
     "output_type": "execute_result"
    }
   ],
   "source": [
    "cbbox"
   ]
  },
  {
   "cell_type": "code",
   "execution_count": null,
   "id": "2a1d17d8",
   "metadata": {},
   "outputs": [],
   "source": []
  }
 ],
 "metadata": {
  "kernelspec": {
   "display_name": "Python 3 (ipykernel)",
   "language": "python",
   "name": "python3"
  },
  "language_info": {
   "codemirror_mode": {
    "name": "ipython",
    "version": 3
   },
   "file_extension": ".py",
   "mimetype": "text/x-python",
   "name": "python",
   "nbconvert_exporter": "python",
   "pygments_lexer": "ipython3",
   "version": "3.8.10"
  }
 },
 "nbformat": 4,
 "nbformat_minor": 5
}
