{
 "cells": [
  {
   "cell_type": "markdown",
   "id": "e12e05f2",
   "metadata": {},
   "source": [
    "### GAN LIDC from this notebook \n",
    "https://github.com/chufangao/3D_GAN_Lung_Nodules/blob/a378ea2d4b960c2c828c334c26376112bdd43fcc/our_models/3DCNNaugmentedtraining2.py"
   ]
  },
  {
   "cell_type": "code",
   "execution_count": 3,
   "id": "e7d6b148",
   "metadata": {},
   "outputs": [
    {
     "name": "stdout",
     "output_type": "stream",
     "text": [
      "Collecting pandas\n",
      "  Downloading pandas-1.3.4-cp38-cp38-manylinux_2_17_x86_64.manylinux2014_x86_64.whl (11.5 MB)\n",
      "\u001b[K     |████████████████████████████████| 11.5 MB 7.0 MB/s eta 0:00:01\n",
      "\u001b[?25hRequirement already satisfied: numpy>=1.17.3 in /opt/conda/lib/python3.8/site-packages (from pandas) (1.21.2)\n",
      "Requirement already satisfied: pytz>=2017.3 in /opt/conda/lib/python3.8/site-packages (from pandas) (2021.1)\n",
      "Requirement already satisfied: python-dateutil>=2.7.3 in /opt/conda/lib/python3.8/site-packages (from pandas) (2.8.2)\n",
      "Requirement already satisfied: six>=1.5 in /opt/conda/lib/python3.8/site-packages (from python-dateutil>=2.7.3->pandas) (1.16.0)\n",
      "Installing collected packages: pandas\n",
      "Successfully installed pandas-1.3.4\n",
      "\u001b[33mWARNING: Running pip as the 'root' user can result in broken permissions and conflicting behaviour with the system package manager. It is recommended to use a virtual environment instead: https://pip.pypa.io/warnings/venv\u001b[0m\n"
     ]
    }
   ],
   "source": [
    "!pip install pandas"
   ]
  },
  {
   "cell_type": "code",
   "execution_count": 13,
   "id": "7350ecd2",
   "metadata": {},
   "outputs": [
    {
     "name": "stdout",
     "output_type": "stream",
     "text": [
      "Collecting openpyxl\n",
      "  Downloading openpyxl-3.0.9-py2.py3-none-any.whl (242 kB)\n",
      "\u001b[K     |████████████████████████████████| 242 kB 8.2 MB/s eta 0:00:01\n",
      "\u001b[?25hCollecting et-xmlfile\n",
      "  Downloading et_xmlfile-1.1.0-py3-none-any.whl (4.7 kB)\n",
      "Installing collected packages: et-xmlfile, openpyxl\n",
      "Successfully installed et-xmlfile-1.1.0 openpyxl-3.0.9\n",
      "\u001b[33mWARNING: Running pip as the 'root' user can result in broken permissions and conflicting behaviour with the system package manager. It is recommended to use a virtual environment instead: https://pip.pypa.io/warnings/venv\u001b[0m\n"
     ]
    }
   ],
   "source": [
    "!pip install openpyxl"
   ]
  },
  {
   "cell_type": "code",
   "execution_count": 4,
   "id": "0ba2749c",
   "metadata": {},
   "outputs": [],
   "source": [
    "import pickle\n",
    "import gc\n",
    "import pandas as pd\n",
    "from collections import OrderedDict\n",
    "import numpy as np\n",
    "import random\n",
    "random.seed(10)"
   ]
  },
  {
   "cell_type": "code",
   "execution_count": 5,
   "id": "d06bdba8",
   "metadata": {},
   "outputs": [],
   "source": [
    "#global / box sizes (40,40,18)\n",
    "Xsize = 40\n",
    "Ysize = 40\n",
    "Zsize = 18"
   ]
  },
  {
   "cell_type": "code",
   "execution_count": 6,
   "id": "75ec1d01",
   "metadata": {},
   "outputs": [],
   "source": [
    "def createSample(listp, dictp, zcenter):\n",
    "    # creates a sample from inputbox, imageDict, zcenter\n",
    "    listToReturn = []\n",
    "    slicesfound = 0 #for debugging\n",
    "    centerZIndex = None\n",
    "    # create volume and list of minz maxz\n",
    "    if zcenter in dictp:\n",
    "        centerZIndex = list(dictp.keys()).index(zcenter)\n",
    "    minZIndex = int(centerZIndex - Zsize/2)\n",
    "    maxZIndex = int(centerZIndex + Zsize/2)\n",
    "    if minZIndex < 0 or maxZIndex > len(dictp): #for debugging\n",
    "        print(\"Slice out of range\")\n",
    "        slicefail = True\n",
    "        return ([], [])\n",
    "    zlist = list(dictp.items())\n",
    "    minzbound = float(zlist[minZIndex][0])\n",
    "    maxzbound = float(zlist[maxZIndex][0])\n",
    "    for j in range(minZIndex, maxZIndex):\n",
    "        value = zlist[j][1]\n",
    "        part = np.array(value)\n",
    "        slicewanted = part[listp[0][0]:listp[0][1],listp[1][0]:listp[1][1]]\n",
    "        listToReturn.append(slicewanted)\n",
    "    return (listToReturn, [minzbound, maxzbound])"
   ]
  },
  {
   "cell_type": "code",
   "execution_count": 7,
   "id": "a9fd5f8f",
   "metadata": {},
   "outputs": [],
   "source": [
    "def CreateTranslatedPositive(listp, dictp, zcenter):\n",
    "    #boxXY, imageDict, centerZ\n",
    "    #Randomized translation:\n",
    "    xShift = random.randint(-10, 10)\n",
    "    yShift = random.randint(-10, 10)\n",
    "    zShift = random.randint(-4, 4)\n",
    "    \n",
    "    listp[0][0] += xShift\n",
    "    listp[0][1] += xShift\n",
    "    listp[1][0] += yShift\n",
    "    listp[1][1] += yShift\n",
    "    \n",
    "    listToReturn = []\n",
    "    slicesfound = 0 #for debugging\n",
    "    # check z translate range\n",
    "    centerZIndex = None\n",
    "    if zcenter in dictp:\n",
    "        centerZIndex = list(dictp.keys()).index(zcenter)\n",
    "        centerZIndex += zShift\n",
    "    minZIndex = int(centerZIndex - Zsize/2)\n",
    "    maxZIndex = int(centerZIndex + Zsize/2)\n",
    "    if minZIndex < 0 or maxZIndex > len(dictp): #for debugging\n",
    "        print(\"Slice out of range\")\n",
    "        slicefail = True\n",
    "        return ([], [])\n",
    "    zlist = list(dictp.items())\n",
    "    minzbound = float(zlist[minZIndex][0])\n",
    "    maxzbound = float(zlist[maxZIndex][0])\n",
    "    # append slices to create volume\n",
    "    for k in range(minZIndex, maxZIndex):\n",
    "        value = zlist[k][1]\n",
    "        part = np.array(value)\n",
    "        slicewanted = part[listp[0][0]:listp[0][1],listp[1][0]:listp[1][1]]\n",
    "        listToReturn.append(slicewanted)\n",
    "    # return volume, [minz, maxz]\n",
    "    return (listToReturn, [minzbound, maxzbound])"
   ]
  },
  {
   "cell_type": "code",
   "execution_count": 8,
   "id": "ad45134e",
   "metadata": {},
   "outputs": [],
   "source": [
    "def createNegative(listp, dictp, slthick):\n",
    "    # listp = exclude_set, dictp = imageDict, slice thickness\n",
    "    while (True):\n",
    "        # get xmin and y min\n",
    "        xmin = random.randint(0, 512 - Xsize)\n",
    "        ymin = random.randint(0, 512 - Ysize)\n",
    "        # get z from valid zs\n",
    "        allZs = list(dictp.keys())\n",
    "        validZs = allZs[int(0 + .5*Zsize) : int(len(allZs) - (.5*Zsize))]\n",
    "        zcenter = random.choice(validZs)\n",
    "        zmin = zcenter - slthick * .5 * Zsize \n",
    "        intersect = False\n",
    "        for box in listp:\n",
    "            xcoords = box[0]\n",
    "            ycoords = box[1]\n",
    "            zcoords = box[2]\n",
    "            # check if xmin, ymin, zmin, in range of nodule\n",
    "            if xmin in range(xcoords[0] - Xsize, xcoords[1]):\n",
    "                if ymin in range(ycoords[0] - Ysize, ycoords[1]):\n",
    "                    if zmin >= zcoords[0] - slthick * Zsize and zmin <= zcoords[1]:\n",
    "                        intersect = True\n",
    "                        break\n",
    "        # if no intersections, add a negative sample\n",
    "        if (not intersect):\n",
    "            samplex = [xmin, xmin + Xsize]\n",
    "            sampley = [ymin, ymin + Ysize]\n",
    "            inputBox = [samplex, sampley]\n",
    "            return createSample(inputBox, dictp, zcenter)"
   ]
  },
  {
   "cell_type": "code",
   "execution_count": 11,
   "id": "eedab829",
   "metadata": {},
   "outputs": [
    {
     "name": "stdout",
     "output_type": "stream",
     "text": [
      " CNNinputDataExtractionV3.py   SlidingPositives.py\n",
      "'Code Documentation.pdf'       ValClippedInputDataExtraction.py\n",
      " CompareResults.py             Wholescanapplication2.1optimized.py\n",
      " FPCounter.py                  Wholescanapplication2.1test.py\n",
      " IC3DCNN4.2.py                 noduleDimensions.xlsx\n",
      " IC3DCNN4.2NoIntensity.py      normalize.py\n",
      " NegativeExampleMaker.py\n"
     ]
    }
   ],
   "source": [
    "ls 3D_GAN_Lung_Nodules/data_preprocessing/"
   ]
  },
  {
   "cell_type": "code",
   "execution_count": 14,
   "id": "52ca1e76",
   "metadata": {},
   "outputs": [],
   "source": [
    "excel_path = '3D_GAN_Lung_Nodules/data_preprocessing/'\n",
    "x1 = pd.ExcelFile(excel_path + \"/noduleDimensions.xlsx\")\n",
    "allNodules = x1.parse(x1.sheet_names[0])"
   ]
  },
  {
   "cell_type": "code",
   "execution_count": 15,
   "id": "ef975a71",
   "metadata": {},
   "outputs": [],
   "source": [
    "allNodules = allNodules.sort_values(['SeriesID'])"
   ]
  },
  {
   "cell_type": "code",
   "execution_count": 16,
   "id": "fb9d74be",
   "metadata": {},
   "outputs": [],
   "source": [
    "IDs = list(allNodules[\"SeriesID\"].drop_duplicates())\n",
    "validation_set = IDs[-120:-1]\n",
    "validation_set.append(IDs[-1])"
   ]
  },
  {
   "cell_type": "code",
   "execution_count": 18,
   "id": "cbfa0304",
   "metadata": {},
   "outputs": [],
   "source": [
    "nodulesToUse = x1.parse(x1.sheet_names[2])  \n",
    "noduleSet = set(nodulesToUse[\"NoduleID\"])\n",
    "del nodulesToUse\n",
    "del x1"
   ]
  },
  {
   "cell_type": "code",
   "execution_count": 24,
   "id": "829549ab",
   "metadata": {},
   "outputs": [
    {
     "name": "stdout",
     "output_type": "stream",
     "text": [
      "There are 969 unique nodules\n"
     ]
    }
   ],
   "source": [
    "print(\"There are {} unique nodules\".format(len(noduleSet)))"
   ]
  },
  {
   "cell_type": "markdown",
   "id": "46ab9225",
   "metadata": {},
   "source": [
    "#### Generate samples"
   ]
  },
  {
   "cell_type": "code",
   "execution_count": 51,
   "id": "b9ec0dc0",
   "metadata": {},
   "outputs": [
    {
     "name": "stdout",
     "output_type": "stream",
     "text": [
      "Start\n"
     ]
    }
   ],
   "source": [
    "counter = 0\n",
    "counterzeta = 0\n",
    "savePath = '/home/cc/Data/'\n",
    "\n",
    "print (\"Start\")\n",
    "slicefail = False"
   ]
  },
  {
   "cell_type": "code",
   "execution_count": 44,
   "id": "cd8100e3",
   "metadata": {},
   "outputs": [],
   "source": [
    "prevID = None\n",
    "exclude_set = []\n",
    "slicethickness = None\n",
    "positivelist = []\n",
    "sfailedposlist  = []\n",
    "pfailedposlist  = []\n",
    "negativelist = []\n",
    "sfailedneglist = []\n",
    "pfailedneglist = []\n",
    "tempdict = None\n",
    "imageDict = None\n",
    "takeNegativeSample = True\n",
    "seriesIDset = set()\n",
    "counterx = 0"
   ]
  },
  {
   "cell_type": "code",
   "execution_count": 66,
   "id": "6342a122",
   "metadata": {},
   "outputs": [
    {
     "name": "stdout",
     "output_type": "stream",
     "text": [
      "Slice thinkness of nodule number 4 is 2.5\n",
      "Series id for nodule 4 is 1.3.6.1.4.1.14519.5.2.1.6279.6001.170706757615202213033480003264 and node id is 5\n"
     ]
    }
   ],
   "source": [
    "#choose 4th the sample, it is in the nodule set\n",
    "i = 4\n",
    "print(\"Slice thinkness of nodule number {} is {}\".format(i, allNodules[\"SliceThickness\"][i]))\n",
    "nodeID = allNodules[\"NoduleID\"][i]\n",
    "seriesID = allNodules[\"SeriesID\"][i]\n",
    "print(\"Series id for nodule {} is {} and node id is {}\".format(i, seriesID, nodeID))"
   ]
  },
  {
   "cell_type": "code",
   "execution_count": 72,
   "id": "62b37926",
   "metadata": {},
   "outputs": [
    {
     "name": "stdout",
     "output_type": "stream",
     "text": [
      "Is nodeID in the noduleSet? True\n"
     ]
    }
   ],
   "source": [
    "print(\"Is nodeID in the noduleSet? {}\".format(nodeID in noduleSet))"
   ]
  },
  {
   "cell_type": "code",
   "execution_count": 74,
   "id": "43641e23",
   "metadata": {},
   "outputs": [
    {
     "name": "stdout",
     "output_type": "stream",
     "text": [
      "center = (221,218,-166.5), box = ([201, 241],[198, 238])\n"
     ]
    }
   ],
   "source": [
    "centerX = allNodules[\"centerX\"][i]\n",
    "boxX = [centerX-int(.5*Xsize), centerX+int(.5*Xsize)]\n",
    "centerY = allNodules[\"centerY\"][i]\n",
    "boxY = [centerY-int(.5*Ysize), centerY+int(.5*Ysize)]\n",
    "centerZ = allNodules[\"centerZ\"][i]\n",
    "#bdsadasox [[x1,x2],[y1,y2]]\n",
    "boxXY = [boxX, boxY]\n",
    "print(\"center = ({},{},{}), box = ({},{})\".format(centerX,centerY,centerZ, boxX, boxY))"
   ]
  },
  {
   "cell_type": "code",
   "execution_count": 75,
   "id": "ed0f877a",
   "metadata": {},
   "outputs": [
    {
     "ename": "TypeError",
     "evalue": "argument of type 'NoneType' is not iterable",
     "output_type": "error",
     "traceback": [
      "\u001b[0;31m---------------------------------------------------------------------------\u001b[0m",
      "\u001b[0;31mTypeError\u001b[0m                                 Traceback (most recent call last)",
      "\u001b[0;32m/tmp/ipykernel_425/1050634641.py\u001b[0m in \u001b[0;36m<module>\u001b[0;34m\u001b[0m\n\u001b[0;32m----> 1\u001b[0;31m \u001b[0mcenterZ\u001b[0m \u001b[0;32mnot\u001b[0m \u001b[0;32min\u001b[0m \u001b[0mimageDict\u001b[0m\u001b[0;34m\u001b[0m\u001b[0;34m\u001b[0m\u001b[0m\n\u001b[0m",
      "\u001b[0;31mTypeError\u001b[0m: argument of type 'NoneType' is not iterable"
     ]
    }
   ],
   "source": [
    "centerZ not in imageDict"
   ]
  },
  {
   "cell_type": "code",
   "execution_count": 48,
   "id": "81ea8c01",
   "metadata": {},
   "outputs": [
    {
     "data": {
      "text/plain": [
       "True"
      ]
     },
     "execution_count": 48,
     "metadata": {},
     "output_type": "execute_result"
    }
   ],
   "source": [
    "#series id is not equal to previous id\n",
    "prevID != seriesID"
   ]
  },
  {
   "cell_type": "code",
   "execution_count": 49,
   "id": "9412c693",
   "metadata": {},
   "outputs": [
    {
     "data": {
      "text/plain": [
       "False"
      ]
     },
     "execution_count": 49,
     "metadata": {},
     "output_type": "execute_result"
    }
   ],
   "source": [
    "# series ID is not in validation set\n",
    "seriesID in validation_set"
   ]
  },
  {
   "cell_type": "code",
   "execution_count": 52,
   "id": "462cc8fb",
   "metadata": {},
   "outputs": [
    {
     "data": {
      "text/plain": [
       "0"
      ]
     },
     "execution_count": 52,
     "metadata": {},
     "output_type": "execute_result"
    }
   ],
   "source": [
    "counter"
   ]
  },
  {
   "cell_type": "code",
   "execution_count": 55,
   "id": "237692d5",
   "metadata": {},
   "outputs": [],
   "source": [
    "counter+=1"
   ]
  },
  {
   "cell_type": "code",
   "execution_count": 60,
   "id": "06aeb311",
   "metadata": {},
   "outputs": [
    {
     "name": "stdout",
     "output_type": "stream",
     "text": [
      "Repeate Series ID: None\n",
      "{None}\n"
     ]
    }
   ],
   "source": [
    "if prevID in seriesIDset:\n",
    "    print (\"Repeate Series ID: \" + str(prevID)) \n",
    "else:\n",
    "    seriesIDset.add(prevID)\n",
    "print(seriesIDset)"
   ]
  },
  {
   "cell_type": "code",
   "execution_count": 61,
   "id": "0529ecf0",
   "metadata": {},
   "outputs": [
    {
     "data": {
      "text/plain": [
       "'1.3.6.1.4.1.14519.5.2.1.6279.6001.179049373636438705059720603192'"
      ]
     },
     "execution_count": 61,
     "metadata": {},
     "output_type": "execute_result"
    }
   ],
   "source": [
    "filestring = str(seriesID)\n",
    "filestring"
   ]
  },
  {
   "cell_type": "code",
   "execution_count": null,
   "id": "7aa3e26d",
   "metadata": {},
   "outputs": [],
   "source": [
    "#first, we generate a positive sample\n",
    "prevID = seriesID"
   ]
  },
  {
   "cell_type": "code",
   "execution_count": 37,
   "id": "294fd558",
   "metadata": {},
   "outputs": [
    {
     "name": "stdout",
     "output_type": "stream",
     "text": [
      "Box co-ordinates for nodule 0 is ([297, 340],[340, 391],[-125.0, -105.0])\n"
     ]
    }
   ],
   "source": [
    "boxX = [allNodules[\"minimumX\"][i], allNodules[\"maximumX\"][i]]\n",
    "boxY = [allNodules[\"minimumY\"][i], allNodules[\"maximumY\"][i]]\n",
    "boxZ = [allNodules[\"minimumZ\"][i], allNodules[\"maximumZ\"][i]]\n",
    "print(\"Box co-ordinates for nodule {} is ({},{},{})\".format(i, boxX, boxY, boxZ))"
   ]
  },
  {
   "cell_type": "code",
   "execution_count": 40,
   "id": "367ce210",
   "metadata": {},
   "outputs": [
    {
     "name": "stdout",
     "output_type": "stream",
     "text": [
      "centerZ for nodule 0 is -115.0\n"
     ]
    }
   ],
   "source": [
    "centerZ = allNodules[\"centerZ\"][i]\n",
    "print(\"centerZ for nodule {} is {}\".format(i, centerZ))"
   ]
  },
  {
   "cell_type": "code",
   "execution_count": 41,
   "id": "8c485b83",
   "metadata": {},
   "outputs": [
    {
     "ename": "TypeError",
     "evalue": "argument of type 'NoneType' is not iterable",
     "output_type": "error",
     "traceback": [
      "\u001b[0;31m---------------------------------------------------------------------------\u001b[0m",
      "\u001b[0;31mTypeError\u001b[0m                                 Traceback (most recent call last)",
      "\u001b[0;32m/tmp/ipykernel_425/1462514863.py\u001b[0m in \u001b[0;36m<module>\u001b[0;34m\u001b[0m\n\u001b[0;32m----> 1\u001b[0;31m \u001b[0mcenterZ\u001b[0m \u001b[0;34m*\u001b[0m \u001b[0;34m-\u001b[0m\u001b[0;36m1\u001b[0m \u001b[0;32min\u001b[0m \u001b[0mimageDict\u001b[0m\u001b[0;34m\u001b[0m\u001b[0;34m\u001b[0m\u001b[0m\n\u001b[0m",
      "\u001b[0;31mTypeError\u001b[0m: argument of type 'NoneType' is not iterable"
     ]
    }
   ],
   "source": [
    "centerZ * -1 in imageDict"
   ]
  },
  {
   "cell_type": "code",
   "execution_count": 42,
   "id": "63f936cb",
   "metadata": {},
   "outputs": [
    {
     "ename": "TypeError",
     "evalue": "argument of type 'NoneType' is not iterable",
     "output_type": "error",
     "traceback": [
      "\u001b[0;31m---------------------------------------------------------------------------\u001b[0m",
      "\u001b[0;31mTypeError\u001b[0m                                 Traceback (most recent call last)",
      "\u001b[0;32m/tmp/ipykernel_425/189381414.py\u001b[0m in \u001b[0;36m<module>\u001b[0;34m\u001b[0m\n\u001b[0;32m----> 1\u001b[0;31m \u001b[0;32mif\u001b[0m \u001b[0mcenterZ\u001b[0m \u001b[0;32min\u001b[0m \u001b[0mimageDict\u001b[0m\u001b[0;34m:\u001b[0m\u001b[0;34m\u001b[0m\u001b[0;34m\u001b[0m\u001b[0m\n\u001b[0m\u001b[1;32m      2\u001b[0m     \u001b[0mexclude_set\u001b[0m\u001b[0;34m.\u001b[0m\u001b[0mappend\u001b[0m\u001b[0;34m(\u001b[0m\u001b[0;34m[\u001b[0m\u001b[0mboxX\u001b[0m\u001b[0;34m,\u001b[0m \u001b[0mboxY\u001b[0m\u001b[0;34m,\u001b[0m \u001b[0mboxZ\u001b[0m\u001b[0;34m]\u001b[0m\u001b[0;34m)\u001b[0m\u001b[0;34m\u001b[0m\u001b[0;34m\u001b[0m\u001b[0m\n\u001b[1;32m      3\u001b[0m \u001b[0;32melif\u001b[0m \u001b[0mcenterZ\u001b[0m \u001b[0;34m*\u001b[0m \u001b[0;34m-\u001b[0m\u001b[0;36m1\u001b[0m \u001b[0;32min\u001b[0m \u001b[0mimageDict\u001b[0m\u001b[0;34m:\u001b[0m\u001b[0;34m\u001b[0m\u001b[0;34m\u001b[0m\u001b[0m\n\u001b[1;32m      4\u001b[0m     \u001b[0mtemp\u001b[0m \u001b[0;34m=\u001b[0m \u001b[0mboxZ\u001b[0m\u001b[0;34m[\u001b[0m\u001b[0;36m0\u001b[0m\u001b[0;34m]\u001b[0m\u001b[0;34m\u001b[0m\u001b[0;34m\u001b[0m\u001b[0m\n\u001b[1;32m      5\u001b[0m     \u001b[0mboxZ\u001b[0m\u001b[0;34m[\u001b[0m\u001b[0;36m0\u001b[0m\u001b[0;34m]\u001b[0m \u001b[0;34m=\u001b[0m \u001b[0;34m-\u001b[0m\u001b[0;36m1\u001b[0m \u001b[0;34m*\u001b[0m \u001b[0mboxZ\u001b[0m\u001b[0;34m[\u001b[0m\u001b[0;36m1\u001b[0m\u001b[0;34m]\u001b[0m\u001b[0;34m\u001b[0m\u001b[0;34m\u001b[0m\u001b[0m\n",
      "\u001b[0;31mTypeError\u001b[0m: argument of type 'NoneType' is not iterable"
     ]
    }
   ],
   "source": [
    "if centerZ in imageDict:\n",
    "    exclude_set.append([boxX, boxY, boxZ])\n",
    "elif centerZ * -1 in imageDict:\n",
    "    temp = boxZ[0]\n",
    "    boxZ[0] = -1 * boxZ[1]\n",
    "    boxZ[1] = -1 * temp\n",
    "    exclude_set.append([boxX, boxY, boxZ])\n",
    "else:\n",
    "    takeNegativeSample = False\n",
    "    print('centerz', centerZ)\n",
    "    counterzeta += 1"
   ]
  },
  {
   "cell_type": "code",
   "execution_count": 32,
   "id": "a153b109",
   "metadata": {},
   "outputs": [
    {
     "ename": "AttributeError",
     "evalue": "'NoneType' object has no attribute 'keys'",
     "output_type": "error",
     "traceback": [
      "\u001b[0;31m---------------------------------------------------------------------------\u001b[0m",
      "\u001b[0;31mAttributeError\u001b[0m                            Traceback (most recent call last)",
      "\u001b[0;32m/tmp/ipykernel_425/3515332211.py\u001b[0m in \u001b[0;36m<module>\u001b[0;34m\u001b[0m\n\u001b[1;32m      1\u001b[0m \u001b[0;31m#create a negative sample\u001b[0m\u001b[0;34m\u001b[0m\u001b[0;34m\u001b[0m\u001b[0;34m\u001b[0m\u001b[0m\n\u001b[0;32m----> 2\u001b[0;31m \u001b[0mnegtoadd\u001b[0m\u001b[0;34m,\u001b[0m \u001b[0mzholder\u001b[0m \u001b[0;34m=\u001b[0m \u001b[0mcreateNegative\u001b[0m\u001b[0;34m(\u001b[0m\u001b[0mexclude_set\u001b[0m\u001b[0;34m,\u001b[0m \u001b[0mimageDict\u001b[0m\u001b[0;34m,\u001b[0m \u001b[0mslicethickness\u001b[0m\u001b[0;34m)\u001b[0m\u001b[0;34m\u001b[0m\u001b[0;34m\u001b[0m\u001b[0m\n\u001b[0m",
      "\u001b[0;32m/tmp/ipykernel_425/1891318994.py\u001b[0m in \u001b[0;36mcreateNegative\u001b[0;34m(listp, dictp, slthick)\u001b[0m\n\u001b[1;32m      6\u001b[0m         \u001b[0mymin\u001b[0m \u001b[0;34m=\u001b[0m \u001b[0mrandom\u001b[0m\u001b[0;34m.\u001b[0m\u001b[0mrandint\u001b[0m\u001b[0;34m(\u001b[0m\u001b[0;36m0\u001b[0m\u001b[0;34m,\u001b[0m \u001b[0;36m512\u001b[0m \u001b[0;34m-\u001b[0m \u001b[0mYsize\u001b[0m\u001b[0;34m)\u001b[0m\u001b[0;34m\u001b[0m\u001b[0;34m\u001b[0m\u001b[0m\n\u001b[1;32m      7\u001b[0m         \u001b[0;31m# get z from valid zs\u001b[0m\u001b[0;34m\u001b[0m\u001b[0;34m\u001b[0m\u001b[0;34m\u001b[0m\u001b[0m\n\u001b[0;32m----> 8\u001b[0;31m         \u001b[0mallZs\u001b[0m \u001b[0;34m=\u001b[0m \u001b[0mlist\u001b[0m\u001b[0;34m(\u001b[0m\u001b[0mdictp\u001b[0m\u001b[0;34m.\u001b[0m\u001b[0mkeys\u001b[0m\u001b[0;34m(\u001b[0m\u001b[0;34m)\u001b[0m\u001b[0;34m)\u001b[0m\u001b[0;34m\u001b[0m\u001b[0;34m\u001b[0m\u001b[0m\n\u001b[0m\u001b[1;32m      9\u001b[0m         \u001b[0mvalidZs\u001b[0m \u001b[0;34m=\u001b[0m \u001b[0mallZs\u001b[0m\u001b[0;34m[\u001b[0m\u001b[0mint\u001b[0m\u001b[0;34m(\u001b[0m\u001b[0;36m0\u001b[0m \u001b[0;34m+\u001b[0m \u001b[0;36m.5\u001b[0m\u001b[0;34m*\u001b[0m\u001b[0mZsize\u001b[0m\u001b[0;34m)\u001b[0m \u001b[0;34m:\u001b[0m \u001b[0mint\u001b[0m\u001b[0;34m(\u001b[0m\u001b[0mlen\u001b[0m\u001b[0;34m(\u001b[0m\u001b[0mallZs\u001b[0m\u001b[0;34m)\u001b[0m \u001b[0;34m-\u001b[0m \u001b[0;34m(\u001b[0m\u001b[0;36m.5\u001b[0m\u001b[0;34m*\u001b[0m\u001b[0mZsize\u001b[0m\u001b[0;34m)\u001b[0m\u001b[0;34m)\u001b[0m\u001b[0;34m]\u001b[0m\u001b[0;34m\u001b[0m\u001b[0;34m\u001b[0m\u001b[0m\n\u001b[1;32m     10\u001b[0m         \u001b[0mzcenter\u001b[0m \u001b[0;34m=\u001b[0m \u001b[0mrandom\u001b[0m\u001b[0;34m.\u001b[0m\u001b[0mchoice\u001b[0m\u001b[0;34m(\u001b[0m\u001b[0mvalidZs\u001b[0m\u001b[0;34m)\u001b[0m\u001b[0;34m\u001b[0m\u001b[0;34m\u001b[0m\u001b[0m\n",
      "\u001b[0;31mAttributeError\u001b[0m: 'NoneType' object has no attribute 'keys'"
     ]
    }
   ],
   "source": [
    "#create a negative sample\n",
    "#negtoadd, zholder = createNegative(exclude_set, imageDict, slicethickness)"
   ]
  },
  {
   "cell_type": "code",
   "execution_count": null,
   "id": "2b1c3538",
   "metadata": {},
   "outputs": [],
   "source": []
  }
 ],
 "metadata": {
  "kernelspec": {
   "display_name": "Python 3 (ipykernel)",
   "language": "python",
   "name": "python3"
  },
  "language_info": {
   "codemirror_mode": {
    "name": "ipython",
    "version": 3
   },
   "file_extension": ".py",
   "mimetype": "text/x-python",
   "name": "python",
   "nbconvert_exporter": "python",
   "pygments_lexer": "ipython3",
   "version": "3.8.10"
  }
 },
 "nbformat": 4,
 "nbformat_minor": 5
}
