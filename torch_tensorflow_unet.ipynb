{
 "cells": [
  {
   "cell_type": "code",
   "execution_count": 2,
   "id": "61fa6792",
   "metadata": {},
   "outputs": [
    {
     "name": "stderr",
     "output_type": "stream",
     "text": [
      "2021-10-06 16:30:33.387556: I tensorflow/stream_executor/platform/default/dso_loader.cc:54] Successfully opened dynamic library libcudart.so.11.0\n"
     ]
    }
   ],
   "source": [
    "import tensorflow as tf\n",
    "from tensorflow.keras import layers\n",
    "from tensorflow import keras\n",
    "import numpy as np"
   ]
  },
  {
   "cell_type": "code",
   "execution_count": 3,
   "id": "9c69283b",
   "metadata": {},
   "outputs": [],
   "source": [
    "img_size = (512, 512)"
   ]
  },
  {
   "cell_type": "code",
   "execution_count": 3,
   "id": "eace0dd5",
   "metadata": {},
   "outputs": [],
   "source": [
    "# inputs = keras.Input(shape=img_size + (1,))\n",
    "# x = layers.Conv2D(32, 3, strides=2, padding=\"same\")(inputs)\n",
    "# x = layers.BatchNormalization()(x)\n",
    "# x = layers.Activation(\"relu\")(x)"
   ]
  },
  {
   "cell_type": "code",
   "execution_count": 8,
   "id": "61093557",
   "metadata": {},
   "outputs": [],
   "source": [
    "class Block(tf.keras.layers.Layer):\n",
    "    def __init__(self, in_ch, out_ch, name=None):\n",
    "        super(Block, self).__init__(name=name)\n",
    "        self.conv1 = layers.Conv2D(in_ch, out_ch, 3, padding='same')\n",
    "        self.relu1 = layers.ReLU()\n",
    "        self.bn1   = layers.BatchNormalization()\n",
    "        self.conv2 = layers.Conv2D(out_ch, out_ch, 3, padding = 'same')\n",
    "        self.relu2 = layers.ReLU()\n",
    "        self.bn2   = layers.BatchNormalization()\n",
    "#         self.w = tf.Variable(\n",
    "#           tf.random.normal([input_dim, output_size]), name='w')\n",
    "#         self.b = tf.Variable(tf.zeros([output_size]), name='b')\n",
    "    def call(self, x):\n",
    "        return self.bn2(self.relu2(self.conv2(self.bn1(self.relu1(self.conv1(x))))))"
   ]
  },
  {
   "cell_type": "code",
   "execution_count": 5,
   "id": "c1aac900",
   "metadata": {
    "collapsed": true,
    "jupyter": {
     "outputs_hidden": true
    }
   },
   "outputs": [
    {
     "name": "stderr",
     "output_type": "stream",
     "text": [
      "2021-10-06 15:24:04.016663: I tensorflow/stream_executor/platform/default/dso_loader.cc:54] Successfully opened dynamic library libcuda.so.1\n",
      "2021-10-06 15:24:06.647498: I tensorflow/stream_executor/cuda/cuda_gpu_executor.cc:1050] successful NUMA node read from SysFS had negative value (-1), but there must be at least one NUMA node, so returning NUMA node zero\n",
      "2021-10-06 15:24:06.648793: I tensorflow/core/common_runtime/gpu/gpu_device.cc:1734] Found device 0 with properties: \n",
      "pciBusID: 0000:00:04.0 name: Tesla T4 computeCapability: 7.5\n",
      "coreClock: 1.59GHz coreCount: 40 deviceMemorySize: 14.75GiB deviceMemoryBandwidth: 298.08GiB/s\n",
      "2021-10-06 15:24:06.649052: I tensorflow/stream_executor/cuda/cuda_gpu_executor.cc:1050] successful NUMA node read from SysFS had negative value (-1), but there must be at least one NUMA node, so returning NUMA node zero\n",
      "2021-10-06 15:24:06.650248: I tensorflow/core/common_runtime/gpu/gpu_device.cc:1734] Found device 1 with properties: \n",
      "pciBusID: 0000:00:05.0 name: Tesla T4 computeCapability: 7.5\n",
      "coreClock: 1.59GHz coreCount: 40 deviceMemorySize: 14.75GiB deviceMemoryBandwidth: 298.08GiB/s\n",
      "2021-10-06 15:24:06.650410: I tensorflow/stream_executor/cuda/cuda_gpu_executor.cc:1050] successful NUMA node read from SysFS had negative value (-1), but there must be at least one NUMA node, so returning NUMA node zero\n",
      "2021-10-06 15:24:06.651562: I tensorflow/core/common_runtime/gpu/gpu_device.cc:1734] Found device 2 with properties: \n",
      "pciBusID: 0000:00:06.0 name: Tesla T4 computeCapability: 7.5\n",
      "coreClock: 1.59GHz coreCount: 40 deviceMemorySize: 14.75GiB deviceMemoryBandwidth: 298.08GiB/s\n",
      "2021-10-06 15:24:06.651711: I tensorflow/stream_executor/cuda/cuda_gpu_executor.cc:1050] successful NUMA node read from SysFS had negative value (-1), but there must be at least one NUMA node, so returning NUMA node zero\n",
      "2021-10-06 15:24:06.652975: I tensorflow/core/common_runtime/gpu/gpu_device.cc:1734] Found device 3 with properties: \n",
      "pciBusID: 0000:00:07.0 name: Tesla T4 computeCapability: 7.5\n",
      "coreClock: 1.59GHz coreCount: 40 deviceMemorySize: 14.75GiB deviceMemoryBandwidth: 298.08GiB/s\n",
      "2021-10-06 15:24:06.653027: I tensorflow/stream_executor/platform/default/dso_loader.cc:54] Successfully opened dynamic library libcudart.so.11.0\n",
      "2021-10-06 15:24:06.659741: I tensorflow/stream_executor/platform/default/dso_loader.cc:54] Successfully opened dynamic library libcublas.so.11\n",
      "2021-10-06 15:24:06.659796: I tensorflow/stream_executor/platform/default/dso_loader.cc:54] Successfully opened dynamic library libcublasLt.so.11\n",
      "2021-10-06 15:24:06.662361: I tensorflow/stream_executor/platform/default/dso_loader.cc:54] Successfully opened dynamic library libcufft.so.10\n",
      "2021-10-06 15:24:06.662775: I tensorflow/stream_executor/platform/default/dso_loader.cc:54] Successfully opened dynamic library libcurand.so.10\n",
      "2021-10-06 15:24:06.663808: I tensorflow/stream_executor/platform/default/dso_loader.cc:54] Successfully opened dynamic library libcutensor.so.1\n",
      "2021-10-06 15:24:06.664484: I tensorflow/stream_executor/platform/default/dso_loader.cc:54] Successfully opened dynamic library libcusolver.so.11\n",
      "2021-10-06 15:24:06.665562: I tensorflow/stream_executor/platform/default/dso_loader.cc:54] Successfully opened dynamic library libcusparse.so.11\n",
      "2021-10-06 15:24:06.665775: I tensorflow/stream_executor/platform/default/dso_loader.cc:54] Successfully opened dynamic library libcudnn.so.8\n",
      "2021-10-06 15:24:06.665904: I tensorflow/stream_executor/cuda/cuda_gpu_executor.cc:1050] successful NUMA node read from SysFS had negative value (-1), but there must be at least one NUMA node, so returning NUMA node zero\n",
      "2021-10-06 15:24:06.666957: I tensorflow/stream_executor/cuda/cuda_gpu_executor.cc:1050] successful NUMA node read from SysFS had negative value (-1), but there must be at least one NUMA node, so returning NUMA node zero\n",
      "2021-10-06 15:24:06.667940: I tensorflow/stream_executor/cuda/cuda_gpu_executor.cc:1050] successful NUMA node read from SysFS had negative value (-1), but there must be at least one NUMA node, so returning NUMA node zero\n",
      "2021-10-06 15:24:06.668949: I tensorflow/stream_executor/cuda/cuda_gpu_executor.cc:1050] successful NUMA node read from SysFS had negative value (-1), but there must be at least one NUMA node, so returning NUMA node zero\n",
      "2021-10-06 15:24:06.669946: I tensorflow/stream_executor/cuda/cuda_gpu_executor.cc:1050] successful NUMA node read from SysFS had negative value (-1), but there must be at least one NUMA node, so returning NUMA node zero\n",
      "2021-10-06 15:24:06.670867: I tensorflow/stream_executor/cuda/cuda_gpu_executor.cc:1050] successful NUMA node read from SysFS had negative value (-1), but there must be at least one NUMA node, so returning NUMA node zero\n",
      "2021-10-06 15:24:06.671823: I tensorflow/stream_executor/cuda/cuda_gpu_executor.cc:1050] successful NUMA node read from SysFS had negative value (-1), but there must be at least one NUMA node, so returning NUMA node zero\n",
      "2021-10-06 15:24:06.672867: I tensorflow/stream_executor/cuda/cuda_gpu_executor.cc:1050] successful NUMA node read from SysFS had negative value (-1), but there must be at least one NUMA node, so returning NUMA node zero\n",
      "2021-10-06 15:24:06.673781: I tensorflow/core/common_runtime/gpu/gpu_device.cc:1872] Adding visible gpu devices: 0, 1, 2, 3\n",
      "2021-10-06 15:24:07.099892: I tensorflow/stream_executor/cuda/cuda_gpu_executor.cc:1050] successful NUMA node read from SysFS had negative value (-1), but there must be at least one NUMA node, so returning NUMA node zero\n",
      "2021-10-06 15:24:07.100769: I tensorflow/core/common_runtime/gpu/gpu_device.cc:1734] Found device 0 with properties: \n",
      "pciBusID: 0000:00:04.0 name: Tesla T4 computeCapability: 7.5\n",
      "coreClock: 1.59GHz coreCount: 40 deviceMemorySize: 14.75GiB deviceMemoryBandwidth: 298.08GiB/s\n",
      "2021-10-06 15:24:07.100920: I tensorflow/stream_executor/cuda/cuda_gpu_executor.cc:1050] successful NUMA node read from SysFS had negative value (-1), but there must be at least one NUMA node, so returning NUMA node zero\n",
      "2021-10-06 15:24:07.101734: I tensorflow/core/common_runtime/gpu/gpu_device.cc:1734] Found device 1 with properties: \n",
      "pciBusID: 0000:00:05.0 name: Tesla T4 computeCapability: 7.5\n",
      "coreClock: 1.59GHz coreCount: 40 deviceMemorySize: 14.75GiB deviceMemoryBandwidth: 298.08GiB/s\n",
      "2021-10-06 15:24:07.101820: I tensorflow/stream_executor/cuda/cuda_gpu_executor.cc:1050] successful NUMA node read from SysFS had negative value (-1), but there must be at least one NUMA node, so returning NUMA node zero\n",
      "2021-10-06 15:24:07.102780: I tensorflow/core/common_runtime/gpu/gpu_device.cc:1734] Found device 2 with properties: \n",
      "pciBusID: 0000:00:06.0 name: Tesla T4 computeCapability: 7.5\n",
      "coreClock: 1.59GHz coreCount: 40 deviceMemorySize: 14.75GiB deviceMemoryBandwidth: 298.08GiB/s\n",
      "2021-10-06 15:24:07.102904: I tensorflow/stream_executor/cuda/cuda_gpu_executor.cc:1050] successful NUMA node read from SysFS had negative value (-1), but there must be at least one NUMA node, so returning NUMA node zero\n",
      "2021-10-06 15:24:07.103786: I tensorflow/core/common_runtime/gpu/gpu_device.cc:1734] Found device 3 with properties: \n",
      "pciBusID: 0000:00:07.0 name: Tesla T4 computeCapability: 7.5\n",
      "coreClock: 1.59GHz coreCount: 40 deviceMemorySize: 14.75GiB deviceMemoryBandwidth: 298.08GiB/s\n",
      "2021-10-06 15:24:07.103875: I tensorflow/stream_executor/cuda/cuda_gpu_executor.cc:1050] successful NUMA node read from SysFS had negative value (-1), but there must be at least one NUMA node, so returning NUMA node zero\n",
      "2021-10-06 15:24:07.104744: I tensorflow/stream_executor/cuda/cuda_gpu_executor.cc:1050] successful NUMA node read from SysFS had negative value (-1), but there must be at least one NUMA node, so returning NUMA node zero\n",
      "2021-10-06 15:24:07.105628: I tensorflow/stream_executor/cuda/cuda_gpu_executor.cc:1050] successful NUMA node read from SysFS had negative value (-1), but there must be at least one NUMA node, so returning NUMA node zero\n",
      "2021-10-06 15:24:07.106492: I tensorflow/stream_executor/cuda/cuda_gpu_executor.cc:1050] successful NUMA node read from SysFS had negative value (-1), but there must be at least one NUMA node, so returning NUMA node zero\n",
      "2021-10-06 15:24:07.107375: I tensorflow/stream_executor/cuda/cuda_gpu_executor.cc:1050] successful NUMA node read from SysFS had negative value (-1), but there must be at least one NUMA node, so returning NUMA node zero\n",
      "2021-10-06 15:24:07.108271: I tensorflow/stream_executor/cuda/cuda_gpu_executor.cc:1050] successful NUMA node read from SysFS had negative value (-1), but there must be at least one NUMA node, so returning NUMA node zero\n",
      "2021-10-06 15:24:07.109209: I tensorflow/stream_executor/cuda/cuda_gpu_executor.cc:1050] successful NUMA node read from SysFS had negative value (-1), but there must be at least one NUMA node, so returning NUMA node zero\n",
      "2021-10-06 15:24:07.110110: I tensorflow/stream_executor/cuda/cuda_gpu_executor.cc:1050] successful NUMA node read from SysFS had negative value (-1), but there must be at least one NUMA node, so returning NUMA node zero\n",
      "2021-10-06 15:24:07.110921: I tensorflow/core/common_runtime/gpu/gpu_device.cc:1872] Adding visible gpu devices: 0, 1, 2, 3\n",
      "2021-10-06 15:24:07.110983: I tensorflow/stream_executor/platform/default/dso_loader.cc:54] Successfully opened dynamic library libcudart.so.11.0\n",
      "2021-10-06 15:24:08.794710: I tensorflow/core/common_runtime/gpu/gpu_device.cc:1258] Device interconnect StreamExecutor with strength 1 edge matrix:\n",
      "2021-10-06 15:24:08.794757: I tensorflow/core/common_runtime/gpu/gpu_device.cc:1264]      0 1 2 3 \n",
      "2021-10-06 15:24:08.794768: I tensorflow/core/common_runtime/gpu/gpu_device.cc:1277] 0:   N Y N N \n",
      "2021-10-06 15:24:08.794775: I tensorflow/core/common_runtime/gpu/gpu_device.cc:1277] 1:   Y N N N \n",
      "2021-10-06 15:24:08.794782: I tensorflow/core/common_runtime/gpu/gpu_device.cc:1277] 2:   N N N Y \n",
      "2021-10-06 15:24:08.794789: I tensorflow/core/common_runtime/gpu/gpu_device.cc:1277] 3:   N N Y N \n",
      "2021-10-06 15:24:08.795106: I tensorflow/stream_executor/cuda/cuda_gpu_executor.cc:1050] successful NUMA node read from SysFS had negative value (-1), but there must be at least one NUMA node, so returning NUMA node zero\n",
      "2021-10-06 15:24:08.796309: I tensorflow/stream_executor/cuda/cuda_gpu_executor.cc:1050] successful NUMA node read from SysFS had negative value (-1), but there must be at least one NUMA node, so returning NUMA node zero\n",
      "2021-10-06 15:24:08.797399: I tensorflow/stream_executor/cuda/cuda_gpu_executor.cc:1050] successful NUMA node read from SysFS had negative value (-1), but there must be at least one NUMA node, so returning NUMA node zero\n",
      "2021-10-06 15:24:08.798518: I tensorflow/stream_executor/cuda/cuda_gpu_executor.cc:1050] successful NUMA node read from SysFS had negative value (-1), but there must be at least one NUMA node, so returning NUMA node zero\n",
      "2021-10-06 15:24:08.799545: I tensorflow/stream_executor/cuda/cuda_gpu_executor.cc:1050] successful NUMA node read from SysFS had negative value (-1), but there must be at least one NUMA node, so returning NUMA node zero\n",
      "2021-10-06 15:24:08.800533: I tensorflow/stream_executor/cuda/cuda_gpu_executor.cc:1050] successful NUMA node read from SysFS had negative value (-1), but there must be at least one NUMA node, so returning NUMA node zero\n",
      "2021-10-06 15:24:08.801591: I tensorflow/stream_executor/cuda/cuda_gpu_executor.cc:1050] successful NUMA node read from SysFS had negative value (-1), but there must be at least one NUMA node, so returning NUMA node zero\n",
      "2021-10-06 15:24:08.802609: I tensorflow/stream_executor/cuda/cuda_gpu_executor.cc:1050] successful NUMA node read from SysFS had negative value (-1), but there must be at least one NUMA node, so returning NUMA node zero\n",
      "2021-10-06 15:24:08.803606: I tensorflow/stream_executor/cuda/cuda_gpu_executor.cc:1050] successful NUMA node read from SysFS had negative value (-1), but there must be at least one NUMA node, so returning NUMA node zero\n",
      "2021-10-06 15:24:08.804483: I tensorflow/core/common_runtime/gpu/gpu_device.cc:1418] Created TensorFlow device (/job:localhost/replica:0/task:0/device:GPU:0 with 13809 MB memory) -> physical GPU (device: 0, name: Tesla T4, pci bus id: 0000:00:04.0, compute capability: 7.5)\n",
      "2021-10-06 15:24:08.805410: I tensorflow/stream_executor/cuda/cuda_gpu_executor.cc:1050] successful NUMA node read from SysFS had negative value (-1), but there must be at least one NUMA node, so returning NUMA node zero\n",
      "2021-10-06 15:24:08.806338: I tensorflow/core/common_runtime/gpu/gpu_device.cc:1418] Created TensorFlow device (/job:localhost/replica:0/task:0/device:GPU:1 with 13809 MB memory) -> physical GPU (device: 1, name: Tesla T4, pci bus id: 0000:00:05.0, compute capability: 7.5)\n",
      "2021-10-06 15:24:08.807142: I tensorflow/stream_executor/cuda/cuda_gpu_executor.cc:1050] successful NUMA node read from SysFS had negative value (-1), but there must be at least one NUMA node, so returning NUMA node zero\n",
      "2021-10-06 15:24:08.808043: I tensorflow/core/common_runtime/gpu/gpu_device.cc:1418] Created TensorFlow device (/job:localhost/replica:0/task:0/device:GPU:2 with 13809 MB memory) -> physical GPU (device: 2, name: Tesla T4, pci bus id: 0000:00:06.0, compute capability: 7.5)\n",
      "2021-10-06 15:24:08.808535: I tensorflow/stream_executor/cuda/cuda_gpu_executor.cc:1050] successful NUMA node read from SysFS had negative value (-1), but there must be at least one NUMA node, so returning NUMA node zero\n",
      "2021-10-06 15:24:08.809818: I tensorflow/core/common_runtime/gpu/gpu_device.cc:1418] Created TensorFlow device (/job:localhost/replica:0/task:0/device:GPU:3 with 13809 MB memory) -> physical GPU (device: 3, name: Tesla T4, pci bus id: 0000:00:07.0, compute capability: 7.5)\n",
      "2021-10-06 15:24:08.810746: I tensorflow/core/common_runtime/process_util.cc:146] Creating new thread pool with default inter op setting: 4. Tune using inter_op_parallelism_threads for best performance.\n"
     ]
    },
    {
     "data": {
      "text/plain": [
       "<KerasTensor: shape=(None, 57, 57, 32) dtype=float32 (created by layer 'block')>"
      ]
     },
     "execution_count": 5,
     "metadata": {},
     "output_type": "execute_result"
    }
   ],
   "source": [
    "inputs = keras.Input(shape=img_size + (1,))\n",
    "Block(1, 32)(inputs)"
   ]
  },
  {
   "cell_type": "code",
   "execution_count": 4,
   "id": "be5fba3a",
   "metadata": {},
   "outputs": [],
   "source": [
    "inputs = keras.Input(shape=img_size + (1,))"
   ]
  },
  {
   "cell_type": "code",
   "execution_count": 5,
   "id": "14713a8c",
   "metadata": {},
   "outputs": [
    {
     "data": {
      "text/plain": [
       "<KerasTensor: shape=(None, 512, 512, 1) dtype=float32 (created by layer 'input_1')>"
      ]
     },
     "execution_count": 5,
     "metadata": {},
     "output_type": "execute_result"
    }
   ],
   "source": [
    "inputs"
   ]
  },
  {
   "cell_type": "code",
   "execution_count": 6,
   "id": "493c5d67",
   "metadata": {},
   "outputs": [],
   "source": [
    "class Encoder(tf.keras.layers.Layer):\n",
    "    def __init__(self, chs=(1,32,64,128,256)):\n",
    "        super().__init__()\n",
    "        self.enc_blocks = [Block(chs[i], chs[i+1]) for i in range(len(chs)-1)]\n",
    "        self.pool       = layers.MaxPool2D((2,2), padding='same')\n",
    "    \n",
    "    def call(self, x):\n",
    "        ftrs = []\n",
    "        for block in self.enc_blocks:\n",
    "            x = block(x)\n",
    "            ftrs.append(x)\n",
    "            x = self.pool(x)\n",
    "        return ftrs"
   ]
  },
  {
   "cell_type": "code",
   "execution_count": null,
   "id": "f5a76f5f",
   "metadata": {},
   "outputs": [
    {
     "name": "stderr",
     "output_type": "stream",
     "text": [
      "2021-10-06 16:31:21.322892: I tensorflow/stream_executor/platform/default/dso_loader.cc:54] Successfully opened dynamic library libcuda.so.1\n",
      "2021-10-06 16:31:23.994233: I tensorflow/stream_executor/cuda/cuda_gpu_executor.cc:1050] successful NUMA node read from SysFS had negative value (-1), but there must be at least one NUMA node, so returning NUMA node zero\n",
      "2021-10-06 16:31:23.995137: I tensorflow/core/common_runtime/gpu/gpu_device.cc:1734] Found device 0 with properties: \n",
      "pciBusID: 0000:00:04.0 name: Tesla T4 computeCapability: 7.5\n",
      "coreClock: 1.59GHz coreCount: 40 deviceMemorySize: 14.75GiB deviceMemoryBandwidth: 298.08GiB/s\n",
      "2021-10-06 16:31:23.995269: I tensorflow/stream_executor/cuda/cuda_gpu_executor.cc:1050] successful NUMA node read from SysFS had negative value (-1), but there must be at least one NUMA node, so returning NUMA node zero\n",
      "2021-10-06 16:31:23.996112: I tensorflow/core/common_runtime/gpu/gpu_device.cc:1734] Found device 1 with properties: \n",
      "pciBusID: 0000:00:05.0 name: Tesla T4 computeCapability: 7.5\n",
      "coreClock: 1.59GHz coreCount: 40 deviceMemorySize: 14.75GiB deviceMemoryBandwidth: 298.08GiB/s\n",
      "2021-10-06 16:31:23.996201: I tensorflow/stream_executor/cuda/cuda_gpu_executor.cc:1050] successful NUMA node read from SysFS had negative value (-1), but there must be at least one NUMA node, so returning NUMA node zero\n",
      "2021-10-06 16:31:23.997250: I tensorflow/core/common_runtime/gpu/gpu_device.cc:1734] Found device 2 with properties: \n",
      "pciBusID: 0000:00:06.0 name: Tesla T4 computeCapability: 7.5\n",
      "coreClock: 1.59GHz coreCount: 40 deviceMemorySize: 14.75GiB deviceMemoryBandwidth: 298.08GiB/s\n",
      "2021-10-06 16:31:23.997425: I tensorflow/stream_executor/cuda/cuda_gpu_executor.cc:1050] successful NUMA node read from SysFS had negative value (-1), but there must be at least one NUMA node, so returning NUMA node zero\n",
      "2021-10-06 16:31:23.998347: I tensorflow/core/common_runtime/gpu/gpu_device.cc:1734] Found device 3 with properties: \n",
      "pciBusID: 0000:00:07.0 name: Tesla T4 computeCapability: 7.5\n",
      "coreClock: 1.59GHz coreCount: 40 deviceMemorySize: 14.75GiB deviceMemoryBandwidth: 298.08GiB/s\n",
      "2021-10-06 16:31:23.998398: I tensorflow/stream_executor/platform/default/dso_loader.cc:54] Successfully opened dynamic library libcudart.so.11.0\n",
      "2021-10-06 16:31:24.006236: I tensorflow/stream_executor/platform/default/dso_loader.cc:54] Successfully opened dynamic library libcublas.so.11\n",
      "2021-10-06 16:31:24.006332: I tensorflow/stream_executor/platform/default/dso_loader.cc:54] Successfully opened dynamic library libcublasLt.so.11\n",
      "2021-10-06 16:31:24.010382: I tensorflow/stream_executor/platform/default/dso_loader.cc:54] Successfully opened dynamic library libcufft.so.10\n",
      "2021-10-06 16:31:24.010905: I tensorflow/stream_executor/platform/default/dso_loader.cc:54] Successfully opened dynamic library libcurand.so.10\n",
      "2021-10-06 16:31:24.012567: I tensorflow/stream_executor/platform/default/dso_loader.cc:54] Successfully opened dynamic library libcutensor.so.1\n",
      "2021-10-06 16:31:24.013471: I tensorflow/stream_executor/platform/default/dso_loader.cc:54] Successfully opened dynamic library libcusolver.so.11\n",
      "2021-10-06 16:31:24.014918: I tensorflow/stream_executor/platform/default/dso_loader.cc:54] Successfully opened dynamic library libcusparse.so.11\n",
      "2021-10-06 16:31:24.015135: I tensorflow/stream_executor/platform/default/dso_loader.cc:54] Successfully opened dynamic library libcudnn.so.8\n",
      "2021-10-06 16:31:24.015288: I tensorflow/stream_executor/cuda/cuda_gpu_executor.cc:1050] successful NUMA node read from SysFS had negative value (-1), but there must be at least one NUMA node, so returning NUMA node zero\n",
      "2021-10-06 16:31:24.016237: I tensorflow/stream_executor/cuda/cuda_gpu_executor.cc:1050] successful NUMA node read from SysFS had negative value (-1), but there must be at least one NUMA node, so returning NUMA node zero\n",
      "2021-10-06 16:31:24.017182: I tensorflow/stream_executor/cuda/cuda_gpu_executor.cc:1050] successful NUMA node read from SysFS had negative value (-1), but there must be at least one NUMA node, so returning NUMA node zero\n",
      "2021-10-06 16:31:24.018123: I tensorflow/stream_executor/cuda/cuda_gpu_executor.cc:1050] successful NUMA node read from SysFS had negative value (-1), but there must be at least one NUMA node, so returning NUMA node zero\n",
      "2021-10-06 16:31:24.019128: I tensorflow/stream_executor/cuda/cuda_gpu_executor.cc:1050] successful NUMA node read from SysFS had negative value (-1), but there must be at least one NUMA node, so returning NUMA node zero\n",
      "2021-10-06 16:31:24.020112: I tensorflow/stream_executor/cuda/cuda_gpu_executor.cc:1050] successful NUMA node read from SysFS had negative value (-1), but there must be at least one NUMA node, so returning NUMA node zero\n",
      "2021-10-06 16:31:24.021022: I tensorflow/stream_executor/cuda/cuda_gpu_executor.cc:1050] successful NUMA node read from SysFS had negative value (-1), but there must be at least one NUMA node, so returning NUMA node zero\n",
      "2021-10-06 16:31:24.021951: I tensorflow/stream_executor/cuda/cuda_gpu_executor.cc:1050] successful NUMA node read from SysFS had negative value (-1), but there must be at least one NUMA node, so returning NUMA node zero\n",
      "2021-10-06 16:31:24.022757: I tensorflow/core/common_runtime/gpu/gpu_device.cc:1872] Adding visible gpu devices: 0, 1, 2, 3\n",
      "2021-10-06 16:31:24.443187: I tensorflow/stream_executor/cuda/cuda_gpu_executor.cc:1050] successful NUMA node read from SysFS had negative value (-1), but there must be at least one NUMA node, so returning NUMA node zero\n",
      "2021-10-06 16:31:24.444063: I tensorflow/core/common_runtime/gpu/gpu_device.cc:1734] Found device 0 with properties: \n",
      "pciBusID: 0000:00:04.0 name: Tesla T4 computeCapability: 7.5\n",
      "coreClock: 1.59GHz coreCount: 40 deviceMemorySize: 14.75GiB deviceMemoryBandwidth: 298.08GiB/s\n",
      "2021-10-06 16:31:24.444179: I tensorflow/stream_executor/cuda/cuda_gpu_executor.cc:1050] successful NUMA node read from SysFS had negative value (-1), but there must be at least one NUMA node, so returning NUMA node zero\n",
      "2021-10-06 16:31:24.445040: I tensorflow/core/common_runtime/gpu/gpu_device.cc:1734] Found device 1 with properties: \n",
      "pciBusID: 0000:00:05.0 name: Tesla T4 computeCapability: 7.5\n",
      "coreClock: 1.59GHz coreCount: 40 deviceMemorySize: 14.75GiB deviceMemoryBandwidth: 298.08GiB/s\n",
      "2021-10-06 16:31:24.445162: I tensorflow/stream_executor/cuda/cuda_gpu_executor.cc:1050] successful NUMA node read from SysFS had negative value (-1), but there must be at least one NUMA node, so returning NUMA node zero\n",
      "2021-10-06 16:31:24.445990: I tensorflow/core/common_runtime/gpu/gpu_device.cc:1734] Found device 2 with properties: \n",
      "pciBusID: 0000:00:06.0 name: Tesla T4 computeCapability: 7.5\n",
      "coreClock: 1.59GHz coreCount: 40 deviceMemorySize: 14.75GiB deviceMemoryBandwidth: 298.08GiB/s\n",
      "2021-10-06 16:31:24.446091: I tensorflow/stream_executor/cuda/cuda_gpu_executor.cc:1050] successful NUMA node read from SysFS had negative value (-1), but there must be at least one NUMA node, so returning NUMA node zero\n",
      "2021-10-06 16:31:24.446915: I tensorflow/core/common_runtime/gpu/gpu_device.cc:1734] Found device 3 with properties: \n",
      "pciBusID: 0000:00:07.0 name: Tesla T4 computeCapability: 7.5\n",
      "coreClock: 1.59GHz coreCount: 40 deviceMemorySize: 14.75GiB deviceMemoryBandwidth: 298.08GiB/s\n",
      "2021-10-06 16:31:24.447006: I tensorflow/stream_executor/cuda/cuda_gpu_executor.cc:1050] successful NUMA node read from SysFS had negative value (-1), but there must be at least one NUMA node, so returning NUMA node zero\n",
      "2021-10-06 16:31:24.448083: I tensorflow/stream_executor/cuda/cuda_gpu_executor.cc:1050] successful NUMA node read from SysFS had negative value (-1), but there must be at least one NUMA node, so returning NUMA node zero\n",
      "2021-10-06 16:31:24.449092: I tensorflow/stream_executor/cuda/cuda_gpu_executor.cc:1050] successful NUMA node read from SysFS had negative value (-1), but there must be at least one NUMA node, so returning NUMA node zero\n",
      "2021-10-06 16:31:24.450129: I tensorflow/stream_executor/cuda/cuda_gpu_executor.cc:1050] successful NUMA node read from SysFS had negative value (-1), but there must be at least one NUMA node, so returning NUMA node zero\n",
      "2021-10-06 16:31:24.451070: I tensorflow/stream_executor/cuda/cuda_gpu_executor.cc:1050] successful NUMA node read from SysFS had negative value (-1), but there must be at least one NUMA node, so returning NUMA node zero\n",
      "2021-10-06 16:31:24.451970: I tensorflow/stream_executor/cuda/cuda_gpu_executor.cc:1050] successful NUMA node read from SysFS had negative value (-1), but there must be at least one NUMA node, so returning NUMA node zero\n",
      "2021-10-06 16:31:24.452849: I tensorflow/stream_executor/cuda/cuda_gpu_executor.cc:1050] successful NUMA node read from SysFS had negative value (-1), but there must be at least one NUMA node, so returning NUMA node zero\n",
      "2021-10-06 16:31:24.453784: I tensorflow/stream_executor/cuda/cuda_gpu_executor.cc:1050] successful NUMA node read from SysFS had negative value (-1), but there must be at least one NUMA node, so returning NUMA node zero\n",
      "2021-10-06 16:31:24.454598: I tensorflow/core/common_runtime/gpu/gpu_device.cc:1872] Adding visible gpu devices: 0, 1, 2, 3\n",
      "2021-10-06 16:31:24.454667: I tensorflow/stream_executor/platform/default/dso_loader.cc:54] Successfully opened dynamic library libcudart.so.11.0\n",
      "2021-10-06 16:31:26.132332: I tensorflow/core/common_runtime/gpu/gpu_device.cc:1258] Device interconnect StreamExecutor with strength 1 edge matrix:\n",
      "2021-10-06 16:31:26.132382: I tensorflow/core/common_runtime/gpu/gpu_device.cc:1264]      0 1 2 3 \n",
      "2021-10-06 16:31:26.132393: I tensorflow/core/common_runtime/gpu/gpu_device.cc:1277] 0:   N Y N N \n",
      "2021-10-06 16:31:26.132400: I tensorflow/core/common_runtime/gpu/gpu_device.cc:1277] 1:   Y N N N \n",
      "2021-10-06 16:31:26.132407: I tensorflow/core/common_runtime/gpu/gpu_device.cc:1277] 2:   N N N Y \n",
      "2021-10-06 16:31:26.132426: I tensorflow/core/common_runtime/gpu/gpu_device.cc:1277] 3:   N N Y N \n",
      "2021-10-06 16:31:26.132763: I tensorflow/stream_executor/cuda/cuda_gpu_executor.cc:1050] successful NUMA node read from SysFS had negative value (-1), but there must be at least one NUMA node, so returning NUMA node zero\n",
      "2021-10-06 16:31:26.133870: I tensorflow/stream_executor/cuda/cuda_gpu_executor.cc:1050] successful NUMA node read from SysFS had negative value (-1), but there must be at least one NUMA node, so returning NUMA node zero\n",
      "2021-10-06 16:31:26.134892: I tensorflow/stream_executor/cuda/cuda_gpu_executor.cc:1050] successful NUMA node read from SysFS had negative value (-1), but there must be at least one NUMA node, so returning NUMA node zero\n",
      "2021-10-06 16:31:26.135835: I tensorflow/stream_executor/cuda/cuda_gpu_executor.cc:1050] successful NUMA node read from SysFS had negative value (-1), but there must be at least one NUMA node, so returning NUMA node zero\n",
      "2021-10-06 16:31:26.136730: I tensorflow/stream_executor/cuda/cuda_gpu_executor.cc:1050] successful NUMA node read from SysFS had negative value (-1), but there must be at least one NUMA node, so returning NUMA node zero\n",
      "2021-10-06 16:31:26.137770: I tensorflow/stream_executor/cuda/cuda_gpu_executor.cc:1050] successful NUMA node read from SysFS had negative value (-1), but there must be at least one NUMA node, so returning NUMA node zero\n",
      "2021-10-06 16:31:26.138832: I tensorflow/stream_executor/cuda/cuda_gpu_executor.cc:1050] successful NUMA node read from SysFS had negative value (-1), but there must be at least one NUMA node, so returning NUMA node zero\n",
      "2021-10-06 16:31:26.139901: I tensorflow/stream_executor/cuda/cuda_gpu_executor.cc:1050] successful NUMA node read from SysFS had negative value (-1), but there must be at least one NUMA node, so returning NUMA node zero\n",
      "2021-10-06 16:31:26.140944: I tensorflow/stream_executor/cuda/cuda_gpu_executor.cc:1050] successful NUMA node read from SysFS had negative value (-1), but there must be at least one NUMA node, so returning NUMA node zero\n",
      "2021-10-06 16:31:26.141842: I tensorflow/core/common_runtime/gpu/gpu_device.cc:1418] Created TensorFlow device (/job:localhost/replica:0/task:0/device:GPU:0 with 13809 MB memory) -> physical GPU (device: 0, name: Tesla T4, pci bus id: 0000:00:04.0, compute capability: 7.5)\n",
      "2021-10-06 16:31:26.144407: I tensorflow/stream_executor/cuda/cuda_gpu_executor.cc:1050] successful NUMA node read from SysFS had negative value (-1), but there must be at least one NUMA node, so returning NUMA node zero\n",
      "2021-10-06 16:31:26.145455: I tensorflow/core/common_runtime/gpu/gpu_device.cc:1418] Created TensorFlow device (/job:localhost/replica:0/task:0/device:GPU:1 with 13809 MB memory) -> physical GPU (device: 1, name: Tesla T4, pci bus id: 0000:00:05.0, compute capability: 7.5)\n",
      "2021-10-06 16:31:26.149183: I tensorflow/stream_executor/cuda/cuda_gpu_executor.cc:1050] successful NUMA node read from SysFS had negative value (-1), but there must be at least one NUMA node, so returning NUMA node zero\n",
      "2021-10-06 16:31:26.150176: I tensorflow/core/common_runtime/gpu/gpu_device.cc:1418] Created TensorFlow device (/job:localhost/replica:0/task:0/device:GPU:2 with 13809 MB memory) -> physical GPU (device: 2, name: Tesla T4, pci bus id: 0000:00:06.0, compute capability: 7.5)\n",
      "2021-10-06 16:31:26.151084: I tensorflow/stream_executor/cuda/cuda_gpu_executor.cc:1050] successful NUMA node read from SysFS had negative value (-1), but there must be at least one NUMA node, so returning NUMA node zero\n",
      "2021-10-06 16:31:26.152460: I tensorflow/core/common_runtime/gpu/gpu_device.cc:1418] Created TensorFlow device (/job:localhost/replica:0/task:0/device:GPU:3 with 13809 MB memory) -> physical GPU (device: 3, name: Tesla T4, pci bus id: 0000:00:07.0, compute capability: 7.5)\n",
      "2021-10-06 16:31:26.153393: I tensorflow/core/common_runtime/process_util.cc:146] Creating new thread pool with default inter op setting: 4. Tune using inter_op_parallelism_threads for best performance.\n"
     ]
    }
   ],
   "source": [
    "Encoder((1,32,64,128,256))(inputs)"
   ]
  },
  {
   "cell_type": "code",
   "execution_count": null,
   "id": "1f416459",
   "metadata": {},
   "outputs": [],
   "source": [
    "class Decoder(tf.keras.layers.Layer):\n",
    "    def __init__(self, chs=(256, 128, 64, 32)):\n",
    "        super().__init__()\n",
    "        self.chs         = chs\n",
    "        self.upconvs    = [layers.Conv2DTranspose(chs[i], chs[i+1], 2, 'same') for i in range(len(chs)-1)]\n",
    "        self.dec_blocks = [Block(chs[i], chs[i+1]) for i in range(len(chs)-1)]\n",
    "        \n",
    "    def call(self, x, encoder_features):\n",
    "        for i in range(len(self.chs)-1):\n",
    "            x        = self.upconvs[i](x)\n",
    "#            enc_ftrs = self.crop(encoder_features[i], x)\n",
    "#            x        = torch.cat([x, enc_ftrs], dim=1)\n",
    "            x        = tf.concat([x, encoder_features[i]], dim=1)\n",
    "            x        = self.dec_blocks[i](x)\n",
    "        return x"
   ]
  },
  {
   "cell_type": "code",
   "execution_count": null,
   "id": "2c7b0132",
   "metadata": {},
   "outputs": [],
   "source": [
    "Decoder((256, 128, 64, 32))"
   ]
  },
  {
   "cell_type": "code",
   "execution_count": null,
   "id": "e290c225",
   "metadata": {},
   "outputs": [],
   "source": [
    "class Unet(tf.keras.layers.Layer):\n",
    "    def __init__(self, enc_chs=[1,32,64,128,256], dec_chs=[256, 128, 64, 32], num_class=1, retain_dim=False, out_sz=(512,512)):\n",
    "        super().__init__()\n",
    "        self.encoder     = Encoder(enc_chs)\n",
    "        self.decoder     = Decoder(dec_chs)\n",
    "        self.head        = layers.Conv2D(dec_chs[-1], num_class, 1)\n",
    "        self.retain_dim  = retain_dim\n",
    "\n",
    "    def call(self, x):\n",
    "        enc_ftrs = self.encoder(x)\n",
    "        out      = self.decoder(enc_ftrs[::-1][0], enc_ftrs[::-1][1:])\n",
    "        out      = self.head(out)\n",
    "        if self.retain_dim:\n",
    "            out = F.interpolate(out, out_sz)\n",
    "        return out"
   ]
  },
  {
   "cell_type": "code",
   "execution_count": null,
   "id": "bada453b",
   "metadata": {},
   "outputs": [],
   "source": [
    "inputs = keras.Input(shape=img_size + (1,))\n",
    "model = Unet()(inputs)"
   ]
  },
  {
   "cell_type": "code",
   "execution_count": null,
   "id": "28726ab9",
   "metadata": {},
   "outputs": [],
   "source": [
    "model.summary()"
   ]
  },
  {
   "cell_type": "code",
   "execution_count": 61,
   "id": "78e1c46e",
   "metadata": {
    "collapsed": true,
    "jupyter": {
     "outputs_hidden": true
    }
   },
   "outputs": [
    {
     "data": {
      "text/plain": [
       "(<__main__.Decoder at 0x7f8db193a8b0>,\n",
       " <__main__.Encoder at 0x7f8dac075eb0>,\n",
       " <tensorflow.python.keras.layers.convolutional.Conv2D at 0x7f8da00310d0>,\n",
       " <__main__.Block at 0x7f8da00352b0>,\n",
       " <__main__.Block at 0x7f8da003b400>,\n",
       " <__main__.Block at 0x7f8da0040790>,\n",
       " <tensorflow.python.keras.layers.convolutional.Conv2DTranspose at 0x7f8da0031190>,\n",
       " <tensorflow.python.keras.layers.convolutional.Conv2DTranspose at 0x7f8da0031850>,\n",
       " <tensorflow.python.keras.layers.convolutional.Conv2DTranspose at 0x7f8da0031d00>,\n",
       " <tensorflow.python.keras.layers.normalization_v2.BatchNormalization at 0x7f8da00358b0>,\n",
       " <tensorflow.python.keras.layers.normalization_v2.BatchNormalization at 0x7f8da003b280>,\n",
       " <tensorflow.python.keras.layers.convolutional.Conv2D at 0x7f8da0035310>,\n",
       " <tensorflow.python.keras.layers.convolutional.Conv2D at 0x7f8da0035c70>,\n",
       " <tensorflow.python.keras.layers.advanced_activations.ReLU at 0x7f8da00352e0>,\n",
       " <tensorflow.python.keras.layers.advanced_activations.ReLU at 0x7f8da0035a30>,\n",
       " <tensorflow.python.keras.layers.normalization_v2.BatchNormalization at 0x7f8da003bc40>,\n",
       " <tensorflow.python.keras.layers.normalization_v2.BatchNormalization at 0x7f8da0040610>,\n",
       " <tensorflow.python.keras.layers.convolutional.Conv2D at 0x7f8da003b730>,\n",
       " <tensorflow.python.keras.layers.convolutional.Conv2D at 0x7f8da0040070>,\n",
       " <tensorflow.python.keras.layers.advanced_activations.ReLU at 0x7f8da003b640>,\n",
       " <tensorflow.python.keras.layers.advanced_activations.ReLU at 0x7f8da003bdc0>,\n",
       " <tensorflow.python.keras.layers.normalization_v2.BatchNormalization at 0x7f8da0040fd0>,\n",
       " <tensorflow.python.keras.layers.normalization_v2.BatchNormalization at 0x7f8da00469d0>,\n",
       " <tensorflow.python.keras.layers.convolutional.Conv2D at 0x7f8da0040af0>,\n",
       " <tensorflow.python.keras.layers.convolutional.Conv2D at 0x7f8da0046430>,\n",
       " <tensorflow.python.keras.layers.advanced_activations.ReLU at 0x7f8da0040a00>,\n",
       " <tensorflow.python.keras.layers.advanced_activations.ReLU at 0x7f8da00461c0>,\n",
       " <__main__.Block at 0x7f8db193a670>,\n",
       " <__main__.Block at 0x7f8da0029ac0>,\n",
       " <tensorflow.python.keras.layers.pooling.MaxPooling2D at 0x7f8da0031130>,\n",
       " <tensorflow.python.keras.layers.normalization_v2.BatchNormalization at 0x7f8da008efa0>,\n",
       " <tensorflow.python.keras.layers.normalization_v2.BatchNormalization at 0x7f8da0029940>,\n",
       " <tensorflow.python.keras.layers.convolutional.Conv2D at 0x7f8da008e940>,\n",
       " <tensorflow.python.keras.layers.convolutional.Conv2D at 0x7f8da0029310>,\n",
       " <tensorflow.python.keras.layers.advanced_activations.ReLU at 0x7f8db193a760>,\n",
       " <tensorflow.python.keras.layers.advanced_activations.ReLU at 0x7f8da00290d0>,\n",
       " <tensorflow.python.keras.layers.normalization_v2.BatchNormalization at 0x7f8da002d340>,\n",
       " <tensorflow.python.keras.layers.normalization_v2.BatchNormalization at 0x7f8da002dc70>,\n",
       " <tensorflow.python.keras.layers.convolutional.Conv2D at 0x7f8da0029df0>,\n",
       " <tensorflow.python.keras.layers.convolutional.Conv2D at 0x7f8da002d700>,\n",
       " <tensorflow.python.keras.layers.advanced_activations.ReLU at 0x7f8da0029d00>,\n",
       " <tensorflow.python.keras.layers.advanced_activations.ReLU at 0x7f8da002d4c0>)"
      ]
     },
     "execution_count": 61,
     "metadata": {},
     "output_type": "execute_result"
    }
   ],
   "source": [
    "model.submodules"
   ]
  },
  {
   "cell_type": "code",
   "execution_count": 62,
   "id": "6dfe49db",
   "metadata": {},
   "outputs": [
    {
     "name": "stdout",
     "output_type": "stream",
     "text": [
      "Number of samples: 2544\n",
      "/data/small/train/image/0-0.npy | /data/small/train/mask/0-0.npy\n",
      "/data/small/train/image/0-1.npy | /data/small/train/mask/0-1.npy\n",
      "/data/small/train/image/0-10.npy | /data/small/train/mask/0-10.npy\n",
      "/data/small/train/image/0-11.npy | /data/small/train/mask/0-11.npy\n",
      "/data/small/train/image/0-12.npy | /data/small/train/mask/0-12.npy\n",
      "/data/small/train/image/0-13.npy | /data/small/train/mask/0-13.npy\n",
      "/data/small/train/image/0-14.npy | /data/small/train/mask/0-14.npy\n",
      "/data/small/train/image/0-15.npy | /data/small/train/mask/0-15.npy\n",
      "/data/small/train/image/0-16.npy | /data/small/train/mask/0-16.npy\n",
      "/data/small/train/image/0-17.npy | /data/small/train/mask/0-17.npy\n"
     ]
    }
   ],
   "source": [
    "import os\n",
    "\n",
    "input_dir = \"/data/small/train/image/\"\n",
    "target_dir = \"/data/small/train/mask/\"\n",
    "img_size = (512, 512)\n",
    "num_classes = 2 # change this\n",
    "batch_size = 12 # changed to 12 from 32\n",
    "\n",
    "input_img_paths = sorted(\n",
    "    [\n",
    "        os.path.join(input_dir, fname)\n",
    "        for fname in os.listdir(input_dir)\n",
    "        if fname.endswith(\".npy\")\n",
    "    ]\n",
    ")\n",
    "target_img_paths = sorted(\n",
    "    [\n",
    "        os.path.join(target_dir, fname)\n",
    "        for fname in os.listdir(target_dir)\n",
    "        if fname.endswith(\".npy\") and not fname.startswith(\".\")\n",
    "    ]\n",
    ")\n",
    "\n",
    "print(\"Number of samples:\", len(input_img_paths))\n",
    "\n",
    "for input_path, target_path in zip(input_img_paths[:10], target_img_paths[:10]):\n",
    "    print(input_path, \"|\", target_path)"
   ]
  },
  {
   "cell_type": "code",
   "execution_count": 63,
   "id": "19619b87",
   "metadata": {},
   "outputs": [],
   "source": [
    "def load_image(imagepath, maskpath):\n",
    "    image = np.load(imagepath).astype('float32')\n",
    "#     image -= np.mean(image)\n",
    "#     image /= np.std(image)\n",
    "    # we will encounter divide by zero\n",
    "    image = ((image - (image.min()+1)) * (1/((image.max() - image.min() + 1)) * 255)).astype('uint8')\n",
    "    image = image.astype('float32')\n",
    "    mask = np.load(maskpath)\n",
    "    return image, mask"
   ]
  },
  {
   "cell_type": "code",
   "execution_count": 64,
   "id": "612d31d4",
   "metadata": {},
   "outputs": [],
   "source": [
    "from tensorflow import keras\n",
    "import numpy as np\n",
    "from tensorflow.keras.preprocessing.image import load_img\n",
    "\n",
    "\n",
    "class OxfordPets(keras.utils.Sequence):\n",
    "    \"\"\"Helper to iterate over the data (as Numpy arrays).\"\"\"\n",
    "\n",
    "    def __init__(self, batch_size, img_size, input_img_paths, target_img_paths):\n",
    "        self.batch_size = batch_size\n",
    "        self.img_size = img_size\n",
    "        self.input_img_paths = input_img_paths\n",
    "        self.target_img_paths = target_img_paths\n",
    "\n",
    "    def __len__(self):\n",
    "        return len(self.target_img_paths) // self.batch_size\n",
    "\n",
    "    def __getitem__(self, idx):\n",
    "        \"\"\"Returns tuple (input, target) correspond to batch #idx.\"\"\"\n",
    "        i = idx * self.batch_size\n",
    "        batch_input_img_paths = self.input_img_paths[i : i + self.batch_size]\n",
    "        batch_target_img_paths = self.target_img_paths[i : i + self.batch_size]\n",
    "        x = np.zeros((self.batch_size,) + self.img_size + (1,), dtype=\"float32\")\n",
    "        for j, path in enumerate(batch_input_img_paths):\n",
    "            #img = load_img(path, target_size=self.img_size, color_mode=\"grayscale\")\n",
    "            img, msk = load_image(path, path)\n",
    "            #x[j] = np.expand_dims(img, 2)\n",
    "            x[j] = img\n",
    "        y = np.zeros((self.batch_size,) + self.img_size + (1,), dtype=\"uint8\")\n",
    "        for j, path in enumerate(batch_target_img_paths):\n",
    "            #img = load_img(path, target_size=self.img_size, color_mode=\"grayscale\")\n",
    "            img, msk = load_image(path, path)\n",
    "            #y[j] = np.expand_dims(img, 2)\n",
    "            y[j] = msk\n",
    "            # Ground truth labels are 1, 2, 3. Subtract one to make them 0, 1, 2:\n",
    "            y[j] -= 1\n",
    "            y1 = y[j] < 1\n",
    "            y[j] = y1.astype(int)\n",
    "        return x, y"
   ]
  },
  {
   "cell_type": "code",
   "execution_count": 65,
   "id": "7650c015",
   "metadata": {},
   "outputs": [],
   "source": [
    "import random\n",
    "\n",
    "# Split our img paths into a training and a validation set\n",
    "val_samples = 1000\n",
    "idxs = np.arange(len(input_img_paths))\n",
    "random.Random(1337).shuffle(idxs)\n",
    "random.Random(1337).shuffle(idxs)\n",
    "train_input_img_paths = np.array(input_img_paths)[idxs][:-val_samples]\n",
    "train_target_img_paths = np.array(target_img_paths)[idxs][:-val_samples]\n",
    "val_input_img_paths = np.array(input_img_paths)[idxs][-val_samples:]\n",
    "val_target_img_paths = np.array(target_img_paths)[idxs][-val_samples:]\n",
    "\n",
    "# Instantiate data Sequences for each split\n",
    "train_gen = OxfordPets(\n",
    "    batch_size, img_size, train_input_img_paths, train_target_img_paths\n",
    ")\n",
    "val_gen = OxfordPets(batch_size, img_size, val_input_img_paths, val_target_img_paths)"
   ]
  },
  {
   "cell_type": "code",
   "execution_count": 67,
   "id": "0e031db6",
   "metadata": {},
   "outputs": [],
   "source": [
    "inp, tar = train_gen[0]"
   ]
  },
  {
   "cell_type": "code",
   "execution_count": 69,
   "id": "6f078de3",
   "metadata": {},
   "outputs": [
    {
     "data": {
      "text/plain": [
       "(12, 512, 512, 1)"
      ]
     },
     "execution_count": 69,
     "metadata": {},
     "output_type": "execute_result"
    }
   ],
   "source": [
    "inp.shape"
   ]
  },
  {
   "cell_type": "code",
   "execution_count": 70,
   "id": "e84e9706",
   "metadata": {},
   "outputs": [
    {
     "ename": "TypeError",
     "evalue": "'Unet' object is not callable",
     "output_type": "error",
     "traceback": [
      "\u001b[0;31m---------------------------------------------------------------------------\u001b[0m",
      "\u001b[0;31mTypeError\u001b[0m                                 Traceback (most recent call last)",
      "\u001b[0;32m/tmp/ipykernel_1323/2205710062.py\u001b[0m in \u001b[0;36m<module>\u001b[0;34m\u001b[0m\n\u001b[0;32m----> 1\u001b[0;31m \u001b[0mmodel\u001b[0m\u001b[0;34m(\u001b[0m\u001b[0minp\u001b[0m\u001b[0;34m[\u001b[0m\u001b[0;36m0\u001b[0m\u001b[0;34m]\u001b[0m\u001b[0;34m)\u001b[0m\u001b[0;34m\u001b[0m\u001b[0;34m\u001b[0m\u001b[0m\n\u001b[0m",
      "\u001b[0;31mTypeError\u001b[0m: 'Unet' object is not callable"
     ]
    }
   ],
   "source": [
    "model(inp[0])"
   ]
  },
  {
   "cell_type": "code",
   "execution_count": null,
   "id": "fb228ed9",
   "metadata": {},
   "outputs": [],
   "source": []
  }
 ],
 "metadata": {
  "kernelspec": {
   "display_name": "Python 3 (ipykernel)",
   "language": "python",
   "name": "python3"
  },
  "language_info": {
   "codemirror_mode": {
    "name": "ipython",
    "version": 3
   },
   "file_extension": ".py",
   "mimetype": "text/x-python",
   "name": "python",
   "nbconvert_exporter": "python",
   "pygments_lexer": "ipython3",
   "version": "3.8.10"
  }
 },
 "nbformat": 4,
 "nbformat_minor": 5
}
