{
 "cells": [
  {
   "cell_type": "markdown",
   "id": "honey-tiger",
   "metadata": {},
   "source": [
    "### Training data preparation for Yolov5 bounding box detection\n",
    "\n",
    "Pre-requisites:\n",
    "\n",
    "- ensure you have download the DICOM data (download_data_lidc.ipynb)"
   ]
  },
  {
   "cell_type": "code",
   "execution_count": null,
   "id": "black-update",
   "metadata": {},
   "outputs": [],
   "source": [
    "!pip install -r requirements.txt"
   ]
  },
  {
   "cell_type": "code",
   "execution_count": 12,
   "id": "selected-symphony",
   "metadata": {},
   "outputs": [],
   "source": [
    "import pylidc as pl\n",
    "from pylidc.utils import consensus\n",
    "import pydicom as dicom\n",
    "from skimage.measure import find_contours\n",
    "import numpy as np\n",
    "import matplotlib.pyplot as plt\n",
    "from tqdm import tqdm\n",
    "from PIL import Image\n",
    "import contextlib\n",
    "import matplotlib.patches as patches\n",
    "import os\n",
    "import imageio\n",
    "import sys\n",
    "from glob import glob\n",
    "import os\n",
    "import cv2\n",
    "import numpy as np\n",
    "from skimage import morphology\n",
    "from skimage import measure\n",
    "from sklearn.cluster import KMeans\n",
    "from skimage.transform import resize\n",
    "import os\n",
    "from numpy import random\n",
    "import time\n",
    "import pandas as pd\n",
    "from PIL import Image\n",
    "import contextlib\n",
    "import os\n",
    "import contextlib\n",
    "import imageio\n",
    "from __future__ import print_function\n",
    "import sys\n",
    "from contextlib import redirect_stdout, redirect_stderr"
   ]
  },
  {
   "cell_type": "markdown",
   "id": "covered-cameroon",
   "metadata": {},
   "source": [
    "#### Routines for bounding box extraction\n",
    "\n",
    "Define some routines to get the bounding around for the masks for the image"
   ]
  },
  {
   "cell_type": "code",
   "execution_count": 13,
   "id": "worth-cache",
   "metadata": {},
   "outputs": [],
   "source": [
    "import matplotlib.patches as patches\n",
    "def get_bounding_box(img):\n",
    "    minx = []\n",
    "    miny = []\n",
    "    maxx = []\n",
    "    maxy = []\n",
    "    contours = find_contours(img.astype(float), 0.5)\n",
    "    for contour in contours:\n",
    "        minx.append(np.min(contour[:,1]))\n",
    "        maxx.append(np.max(contour[:,1]))\n",
    "        miny.append(np.min(contour[:,0]))\n",
    "        maxy.append(np.max(contour[:,0]))\n",
    "        \n",
    "    if len(minx) > 0:\n",
    "        return [(a, b, w-a, h-b) for a, b, w, h in zip(minx, miny, maxx, maxy)]\n",
    "    else:\n",
    "        return None\n",
    "    \n",
    "def plot_bounding_box(img):\n",
    "    fig, ax = plt.subplots()\n",
    "    ax.imshow(img, cmap=plt.cm.gray)\n",
    "    \n",
    "    boxes = get_bounding_box(img)\n",
    "    if boxes:\n",
    "        for box in boxes:\n",
    "            x,y,w,h = box\n",
    "            print(\"x = {}, y = {}, w = {}, h= {}\".format(x,y,w,h))\n",
    "            rect = patches.Rectangle((x, y), w, h, linewidth=1, edgecolor='r', facecolor='none')\n",
    "            ax.add_patch(rect)"
   ]
  },
  {
   "cell_type": "markdown",
   "id": "latter-albania",
   "metadata": {},
   "source": [
    "Routine to find all bounding boxes for the mask and plotting"
   ]
  },
  {
   "cell_type": "code",
   "execution_count": 14,
   "id": "human-picture",
   "metadata": {},
   "outputs": [],
   "source": [
    "def find_all_bboxes(nodule_annotation, nodule_id, plot=False):\n",
    "    bboxes = []\n",
    "    #cmask, cbbox, masks = consensus(nodule_annotation)\n",
    "    \n",
    "    cmask_CT = []\n",
    "    cbbox_CT = []\n",
    "    masks_CT = []\n",
    "    for nodule_idx, nodule in enumerate(nodules_annotation):\n",
    "        cmask, cbbox, masks = consensus(nodule)\n",
    "        cmask_CT.append(cmask)\n",
    "        cbbox_CT.append(cbbox)\n",
    "        masks_CT.append(masks)\n",
    "    CT_mask = np.zeros_like(vol)    \n",
    "    nodule_num = len(cmask_CT)\n",
    "    print(\"Number of nodules for patient {} is {}\".format(patient_id, nodule_num))\n",
    "    \n",
    "    for i in range(nodule_num):\n",
    "        cmask = cmask_CT[i]\n",
    "        cbbox = cbbox_CT[i]\n",
    "        masks = masks_CT[i]\n",
    "        CT_mask[cbbox] += cmask\n",
    "        \n",
    "\n",
    "    print(\"There are {} slices in the image\".format(cbbox_CT[nodule_id][2].stop - cbbox_CT[nodule_id][2].start))\n",
    "    for idx in np.arange(cbbox_CT[nodule_id][2].start, cbbox_CT[nodule_id][2].stop):\n",
    "        boxes = get_bounding_box(CT_mask[:,:,idx])\n",
    "        if plot:\n",
    "            plot_bounding_box(CT_mask[:,:,idx])\n",
    "        bboxes.append(boxes)\n",
    "    return bboxes"
   ]
  },
  {
   "cell_type": "markdown",
   "id": "brief-potential",
   "metadata": {},
   "source": [
    "Routine to plot the bounding box around the mask in the full size mask"
   ]
  },
  {
   "cell_type": "code",
   "execution_count": 15,
   "id": "environmental-debut",
   "metadata": {},
   "outputs": [],
   "source": [
    "def plot_bbox_on_full_size_mask(vol, nodules_annotation, nodule_id):\n",
    "    cmask_CT = []\n",
    "    cbbox_CT = []\n",
    "    masks_CT = []\n",
    "    for nodule_idx, nodule in enumerate(nodules_annotation):\n",
    "        cmask, cbbox, masks = consensus(nodule)\n",
    "        cmask_CT.append(cmask)\n",
    "        cbbox_CT.append(cbbox)\n",
    "        masks_CT.append(masks)\n",
    "    CT_mask = np.zeros_like(vol)    \n",
    "    nodule_num = len(cmask_CT)\n",
    "    print(\"Number of nodules for patient is {}\".format(nodule_num))\n",
    "    \n",
    "    for i in range(nodule_num):\n",
    "        cmask = cmask_CT[i]\n",
    "        cbbox = cbbox_CT[i]\n",
    "        masks = masks_CT[i]\n",
    "        CT_mask[cbbox] += cmask\n",
    "        \n",
    "    for slice_idx in np.arange(cbbox_CT[nodule_id][2].start, cbbox_CT[nodule_id][2].stop):\n",
    "        plot_bounding_box(CT_mask[:,:,slice_idx])"
   ]
  },
  {
   "cell_type": "markdown",
   "id": "provincial-launch",
   "metadata": {},
   "source": [
    "Routine to plot the bounding box around the nodule using the mask bounding box coordinates"
   ]
  },
  {
   "cell_type": "code",
   "execution_count": 16,
   "id": "rising-playback",
   "metadata": {},
   "outputs": [],
   "source": [
    "def plot_bbox_on_image(vol, nodules_annotation, nodule_id):\n",
    "    cmask_CT = []\n",
    "    cbbox_CT = []\n",
    "    masks_CT = []\n",
    "    for nodule_idx, nodule in enumerate(nodules_annotation):\n",
    "        cmask, cbbox, masks = consensus(nodule)\n",
    "        cmask_CT.append(cmask)\n",
    "        cbbox_CT.append(cbbox)\n",
    "        masks_CT.append(masks)\n",
    "    CT_mask = np.zeros_like(vol)    \n",
    "    nodule_num = len(cmask_CT)\n",
    "    print(\"Number of nodules for patient is {}\".format(nodule_num))\n",
    "    \n",
    "    for i in range(nodule_num):\n",
    "        cmask = cmask_CT[i]\n",
    "        cbbox = cbbox_CT[i]\n",
    "        masks = masks_CT[i]\n",
    "        CT_mask[cbbox] += cmask\n",
    "        \n",
    "    for slice_idx in np.arange(cbbox_CT[nodule_id][2].start, cbbox_CT[nodule_id][2].stop):\n",
    "        boxes = get_bounding_box(CT_mask[:,:,slice_idx])\n",
    "        img = vol[:,:,slice_idx]\n",
    "        fig, ax = plt.subplots()\n",
    "        ax.imshow(img, cmap=plt.cm.gray)\n",
    "        if boxes:\n",
    "            for box in boxes:\n",
    "                x, y, w, h = box\n",
    "                print(\"x = {}, y = {}, w = {}, h= {}\".format(x,y,w,h))\n",
    "                rect = patches.Rectangle((x, y), w, h, linewidth=1, edgecolor='r', facecolor='none')\n",
    "                ax.add_patch(rect)"
   ]
  },
  {
   "cell_type": "markdown",
   "id": "worldwide-navigation",
   "metadata": {},
   "source": [
    "### Prepare the dataset for YoloV5 training"
   ]
  },
  {
   "cell_type": "markdown",
   "id": "polyphonic-mailing",
   "metadata": {},
   "source": [
    "Routine to create the image and the labels (based on bounding boxes) for Yolov5 training"
   ]
  },
  {
   "cell_type": "markdown",
   "id": "breeding-subcommittee",
   "metadata": {},
   "source": [
    "#### Clear the contents of the generated images and labels for Yolov5"
   ]
  },
  {
   "cell_type": "code",
   "execution_count": 17,
   "id": "utility-india",
   "metadata": {},
   "outputs": [],
   "source": [
    "import shutil\n",
    "def clear_dirs(paths):\n",
    "    for path in paths:\n",
    "        if os.path.isdir(path):\n",
    "            shutil.rmtree(path)"
   ]
  },
  {
   "cell_type": "markdown",
   "id": "textile-bidder",
   "metadata": {},
   "source": [
    "##### For all the patients we downloaded, extract the bounding box and create the image and labels for YoloV5 training"
   ]
  },
  {
   "cell_type": "markdown",
   "id": "literary-ballet",
   "metadata": {},
   "source": [
    "### Save image label and mask\n",
    "\n",
    "- For each CT image, save the image, the mask and the bounding box label\n",
    "- For bounding box dataset, save empty files for images with no mask."
   ]
  },
  {
   "cell_type": "markdown",
   "id": "asian-montana",
   "metadata": {},
   "source": [
    "Routine to suppress stdout and stderr messages"
   ]
  },
  {
   "cell_type": "code",
   "execution_count": 18,
   "id": "committed-charleston",
   "metadata": {},
   "outputs": [],
   "source": [
    "class RedirectStdStreams(object):\n",
    "    def __init__(self, stdout=None, stderr=None):\n",
    "        self._stdout = stdout or sys.stdout\n",
    "        self._stderr = stderr or sys.stderr\n",
    "\n",
    "    def __enter__(self):\n",
    "        self.old_stdout, self.old_stderr = sys.stdout, sys.stderr\n",
    "        self.old_stdout.flush(); self.old_stderr.flush()\n",
    "        sys.stdout, sys.stderr = self._stdout, self._stderr\n",
    "\n",
    "    def __exit__(self, exc_type, exc_value, traceback):\n",
    "        self._stdout.flush(); self._stderr.flush()\n",
    "        sys.stdout = self.old_stdout\n",
    "        sys.stderr = self.old_stderr"
   ]
  },
  {
   "cell_type": "code",
   "execution_count": 19,
   "id": "strong-burning",
   "metadata": {},
   "outputs": [],
   "source": [
    "def un(a, b):\n",
    "    return np.union1d(a, b)\n",
    "\n",
    "def unr(ll, acc, i):\n",
    "    if i < len(ll):\n",
    "        j = i + 1\n",
    "        acc = un(ll[i], acc)\n",
    "        return unr(ll, acc, j)\n",
    "    else:\n",
    "        return acc\n",
    "\n",
    "def get_slices_with_masks(cbbox_CT):\n",
    "    ll = []\n",
    "    for cb in cbbox_CT:\n",
    "        ll.append(np.arange(cb[2].start, cb[2].stop+1))\n",
    "    return unr(ll, [], 0)"
   ]
  },
  {
   "cell_type": "markdown",
   "id": "least-browse",
   "metadata": {},
   "source": [
    "#### Preprocessing routine for images"
   ]
  },
  {
   "cell_type": "code",
   "execution_count": 20,
   "id": "bibliographic-nursery",
   "metadata": {},
   "outputs": [],
   "source": [
    "#code ref: https://github.com/JenifferWuUCLA/pulmonary-nodules-segmentation/blob/master/tianchi_segment_lung_ROI.ipynb\n",
    "def preprocess_image(img):\n",
    "    mean = np.mean(img)\n",
    "    std = np.std(img)\n",
    "    img = img-mean\n",
    "    img = img/std\n",
    "    # Find the average pixel value near the lungs\n",
    "    #　to renormalize washed out images\n",
    "    #middle = img[100:400, 100:400]\n",
    "    middle = img\n",
    "    mean = np.mean(middle)\n",
    "    max = np.max(img)\n",
    "    min = np.min(img)\n",
    "    # To improve threshold finding, I'm moving the\n",
    "    #　underflow and overflow on the pixel spectrum\n",
    "    img[img==max]=mean\n",
    "    img[img==min]=mean\n",
    "    # Using Kmeans to separate foreground (radio-opaque tissue)\n",
    "    #　and background (radio transparent tissue ie lungs)\n",
    "    # Doing this only on the center of the image to avoid\n",
    "    #　the non-tissue parts of the image as much as possible\n",
    "    kmeans = KMeans(n_clusters=2).fit(np.reshape(middle, [np.prod(middle.shape), 1]))\n",
    "    centers = sorted(kmeans.cluster_centers_.flatten())\n",
    "    threshold = np.mean(centers)\n",
    "    thresh_img = np.where(img<threshold, 1.0, 0.0)  # threshold the image\n",
    "    eroded = morphology.erosion(thresh_img, np.ones([4, 4]))\n",
    "    dilation = morphology.dilation(eroded, np.ones([10, 10]))\n",
    "    labels = measure.label(dilation)\n",
    "    regions = measure.regionprops(labels)\n",
    "    good_labels = []\n",
    "    for prop in regions:\n",
    "        B = prop.bbox\n",
    "        if B[2]-B[0] < 475 and B[3]-B[1] < 475 and B[0] > 40 and B[2] < 472:\n",
    "            good_labels.append(prop.label)\n",
    "\n",
    "    mask = np.zeros_like(labels)\n",
    "    for N in good_labels:\n",
    "        mask = mask + np.where(labels == N, 1, 0)\n",
    "\n",
    "    mask = morphology.dilation(mask, np.ones([10, 10]))  # one last dilation\n",
    "    return img * mask"
   ]
  },
  {
   "cell_type": "markdown",
   "id": "infectious-bible",
   "metadata": {},
   "source": [
    "##### Preprocessing steps:\n",
    "\n",
    "We will save  512x512 images and the corresponding labels in Yolov5 pytorch format \n",
    "\n",
    "- Mark the mask for nodules which were annotated by all 4 radiologists\n",
    "- Select all the slices which have annotated masks\n",
    "- Select an equal number of slices which have no annotated masks (for negative images)\n",
    "- Create the bounding box label for each slice with a mask using find coutours method\n",
    "- Process the image to highlight the region of interest\n",
    "- Save the processed image and the labels"
   ]
  },
  {
   "cell_type": "code",
   "execution_count": 21,
   "id": "usual-peoples",
   "metadata": {},
   "outputs": [],
   "source": [
    "\"\"\"\n",
    "Save images and labels for nodules that have annotations from all 4 radiologists\n",
    "\"\"\"\n",
    "def save_image_mask_label(patient_id, imagedirname, labeldirname, maskdirname, temp_dir, normalize=False):\n",
    "    \n",
    "    # For supressing stdout and stderr messages\n",
    "    devnull = open(os.devnull, 'w')\n",
    "    \n",
    "    # Read the volume (3D-dicom image) for the patient\n",
    "    scan = pl.query(pl.Scan).filter(pl.Scan.patient_id.in_([patient_id]))[0]\n",
    "    nodules_annotation = scan.cluster_annotations()\n",
    "    try:\n",
    "        with contextlib.redirect_stdout(None):\n",
    "            vol = scan.to_volume()\n",
    "    except:\n",
    "        print(\"Error loading DICOM for patient {}\".format(patient_id))\n",
    "        return\n",
    "    \n",
    "    # Process the mask for the image\n",
    "    cmask_CT = []\n",
    "    cbbox_CT = []\n",
    "    masks_CT = []\n",
    "    for nodule_idx, nodule in enumerate(nodules_annotation):\n",
    "        if len(nodule) >=4:\n",
    "            cmask, cbbox, masks = consensus(nodule)\n",
    "            cmask_CT.append(cmask)\n",
    "            cbbox_CT.append(cbbox)\n",
    "            masks_CT.append(masks)\n",
    "        \n",
    "    if len(cbbox_CT) <=0:\n",
    "        print(\"No relevant nodules for patient {}\".format(patient_id))\n",
    "        return\n",
    "    \n",
    "    CT_mask = np.zeros_like(vol)    \n",
    "    nodule_num = len(cmask_CT)\n",
    "      \n",
    "    for i in range(nodule_num):\n",
    "        cmask = cmask_CT[i]\n",
    "        cbbox = cbbox_CT[i]\n",
    "        masks = masks_CT[i]\n",
    "        CT_mask[cbbox] += cmask\n",
    "    \n",
    "    # Get the slices that have annotations\n",
    "    slices_with_mask = get_slices_with_masks(cbbox_CT)\n",
    "\n",
    "    idxs = np.arange(CT_mask.shape[2])\n",
    "    \n",
    "    # Get all slices that have no annotations\n",
    "    compl_idxs = [idx for idx in idxs if idx not in slices_with_mask]\n",
    "    SEED = 2021\n",
    "    np.random.seed(SEED)\n",
    "    # Random sample the slices with no annotations\n",
    "    np.random.shuffle(compl_idxs)\n",
    "    # Select equal number of non annotated slices as the number of annotated slices\n",
    "    compl_idxs = compl_idxs[:len(slices_with_mask)]\n",
    "    all_slices = np.union1d(slices_with_mask, compl_idxs)\n",
    "    # Save the images and masks and labels for only slices_with_mask and compl_idxs\n",
    "    all_slices = all_slices.astype(int)\n",
    "\n",
    "    # Iterate through all slices and save the images\n",
    "    z_slice_cnt = 0\n",
    "    for z_slice in all_slices:\n",
    "        im = vol[:,:,z_slice]\n",
    "        # mean normalize the image to prevent unit8 conversion errors when saving with imageio\n",
    "        if normalize:\n",
    "            im = im - np.mean(im)\n",
    "            im = im / np.std(im)\n",
    "        try:\n",
    "            # in order to preserve the richness of the image, imageio is used to save and then read the image back from the disk\n",
    "            # TODO: could potentially do it in memory as well\n",
    "            # TODO: create the temp folder\n",
    "            imageio.imwrite(temp_dir + '/temp_img.jpg', im)\n",
    "            disk_img = cv2.imread(temp_dir + '/temp_img.jpg')\n",
    "        except:\n",
    "            continue\n",
    "        \n",
    "        im = cv2.cvtColor(disk_img, cv2.COLOR_BGR2GRAY)\n",
    "        img_t = preprocess_image(im)\n",
    "        \n",
    "        image_filename = \"{}_{}.jpg\".format(patient_id, z_slice)\n",
    "        with RedirectStdStreams(stdout=devnull, stderr=devnull):\n",
    "            imageio.imwrite(imagedirname + \"/\" + image_filename, img_t)\n",
    "        z_slice_cnt += 1\n",
    "    \n",
    "    # Save bounding box labels\n",
    "    for k_slice in all_slices:\n",
    "        msk = CT_mask[:,:,k_slice]\n",
    "        boxes = get_bounding_box(msk)\n",
    "        if boxes:\n",
    "            for box in boxes:\n",
    "                x, y, w, h = box\n",
    "                # Drop small objects\n",
    "                if (w <= 3) or (h <= 3):\n",
    "                    continue\n",
    "                center_x = (x + ((w)/2))/vol[:,:,k_slice].shape[0]\n",
    "                center_y = (y + ((h)/2))/vol[:,:,k_slice].shape[1]\n",
    "                width = w/vol[:,:,k_slice].shape[0]\n",
    "                height = h/vol[:,:,k_slice].shape[1]\n",
    "\n",
    "                c = 0 # there is only one class, the 'nodule'\n",
    "                # Save this as the label for the image for the YoloV5 object detection training\n",
    "                label = \"{} {} {} {} {}\".format(c, center_x, center_y, width, height)\n",
    "                label_filename = \"{}_{}.txt\".format(patient_id, k_slice)\n",
    "\n",
    "                f = open(labeldirname + \"/\" + label_filename, \"a\")\n",
    "                f.write(label + \"\\n\")\n",
    "                f.close()\n",
    "        else:\n",
    "            # Save this as the label for the image for the YoloV5 object detection training\n",
    "            label_filename = \"{}_{}.txt\".format(patient_id, k_slice)\n",
    "            f = open(labeldirname + \"/\" + label_filename, \"a\")\n",
    "            f.write(\"\")\n",
    "            f.close()"
   ]
  },
  {
   "cell_type": "code",
   "execution_count": 22,
   "id": "impaired-multiple",
   "metadata": {},
   "outputs": [],
   "source": [
    "def create_dataset(patient_list, dicom_dir, root_data_dir, dtype='train'):\n",
    "    # Set the pylidc data config\n",
    "    print(\"Setting DICOM dir = {}\".format(dicom_dir))\n",
    "    f = open ('/root/.pylidcrc','w')    #For Colab\n",
    "    f.write('[dicom]'+'\\n')\n",
    "    f.write('path =' + dicom_dir +'\\n')\n",
    "    f.write('warn = True')\n",
    "    f.close()\n",
    "    \n",
    "    image_path = root_data_dir + '/' + dtype + '/images'\n",
    "    mask_path = root_data_dir + '/' + dtype + '/masks'\n",
    "    label_path = root_data_dir + '/' + dtype + '/labels'\n",
    "    \n",
    "    print(\"Saving images to {}, masks to {} and labels to {}\".format(image_path, mask_path, label_path))\n",
    "    #create temp dir\n",
    "    temp_dir = '/app/data/temp/'\n",
    "    if not os.path.exists(temp_dir):\n",
    "        print(\"Removing and then creating directory {}\".format(temp_dir))\n",
    "        os.makedirs(temp_dir)\n",
    "    else:\n",
    "        print(\"Directory {} present!\".format(temp_dir))\n",
    "    for idx, patient in tqdm(enumerate(patient_list)):\n",
    "        if not os.path.exists(image_path):\n",
    "            print(\"Removing and then creating directory {}\".format(image_path))\n",
    "            os.makedirs(image_path)\n",
    "        if not os.path.exists(label_path):\n",
    "            print(\"Removing and then creating directory {}\".format(label_path))\n",
    "            os.makedirs(label_path)\n",
    "        if not os.path.exists(mask_path):\n",
    "            print(\"Removing and then creating directory {}\".format(mask_path))\n",
    "            os.makedirs(mask_path)\n",
    "        save_image_mask_label(patient, image_path, label_path, mask_path, temp_dir, normalize=True)"
   ]
  },
  {
   "cell_type": "code",
   "execution_count": 23,
   "id": "posted-tribune",
   "metadata": {},
   "outputs": [
    {
     "name": "stdout",
     "output_type": "stream",
     "text": [
      "Train patients = 51\n",
      "Test patients = 48\n",
      "Val patients = 51\n"
     ]
    }
   ],
   "source": [
    "patient_list_train = os.listdir('/app/data/lidc/dicom/train/sorted_gcsfiles/')\n",
    "print(\"Train patients = {}\".format(len(patient_list_train)))\n",
    "patient_list_test = os.listdir('/app/data/lidc/dicom/test/sorted_gcsfiles/')\n",
    "print(\"Test patients = {}\".format(len(patient_list_test)))\n",
    "patient_list_val = os.listdir('/app/data/lidc/dicom/val/sorted_gcsfiles/')\n",
    "print(\"Val patients = {}\".format(len(patient_list_val)))"
   ]
  },
  {
   "cell_type": "code",
   "execution_count": 24,
   "id": "fresh-singles",
   "metadata": {},
   "outputs": [
    {
     "name": "stderr",
     "output_type": "stream",
     "text": [
      "0it [00:00, ?it/s]"
     ]
    },
    {
     "name": "stdout",
     "output_type": "stream",
     "text": [
      "Setting DICOM dir = /app/data/lidc/dicom/train/sorted_gcsfiles/\n",
      "Saving images to /app/data/yolov5/processed//train/images, masks to /app/data/yolov5/processed//train/masks and labels to /app/data/yolov5/processed//train/labels\n",
      "Directory /app/data/temp/ present!\n"
     ]
    },
    {
     "name": "stderr",
     "output_type": "stream",
     "text": [
      "Lossy conversion from float64 to uint8. Range [-1.6175465976867516, 4.7134925666933984]. Convert image to uint8 prior to saving to suppress this warning.\n",
      "Lossy conversion from float64 to uint8. Range [-1.6172036642270204, 4.7185491813223495]. Convert image to uint8 prior to saving to suppress this warning.\n",
      "Lossy conversion from float64 to uint8. Range [-1.6153021579639926, 2.523790519548622]. Convert image to uint8 prior to saving to suppress this warning.\n",
      "Lossy conversion from float64 to uint8. Range [-1.6176168803245081, 2.4368753261217386]. Convert image to uint8 prior to saving to suppress this warning.\n",
      "Lossy conversion from float64 to uint8. Range [-1.6158951763772116, 2.4498136008637594]. Convert image to uint8 prior to saving to suppress this warning.\n",
      "Lossy conversion from float64 to uint8. Range [-1.574636746337801, 3.7298482598818756]. Convert image to uint8 prior to saving to suppress this warning.\n",
      "Lossy conversion from float64 to uint8. Range [-1.5767018530964565, 3.7448342160957564]. Convert image to uint8 prior to saving to suppress this warning.\n",
      "Lossy conversion from float64 to uint8. Range [-1.5757581918476686, 4.681027958022475]. Convert image to uint8 prior to saving to suppress this warning.\n",
      "Lossy conversion from float64 to uint8. Range [-1.576503833838698, 5.402698006029743]. Convert image to uint8 prior to saving to suppress this warning.\n",
      "Lossy conversion from float64 to uint8. Range [-1.5778003189062113, 5.193225878352966]. Convert image to uint8 prior to saving to suppress this warning.\n",
      "Lossy conversion from float64 to uint8. Range [-1.5758705833418292, 5.390809585974837]. Convert image to uint8 prior to saving to suppress this warning.\n",
      "Lossy conversion from float64 to uint8. Range [-1.5733584445748445, 5.36982377732633]. Convert image to uint8 prior to saving to suppress this warning.\n",
      "Lossy conversion from float64 to uint8. Range [-1.5708597321777984, 5.3457303265963185]. Convert image to uint8 prior to saving to suppress this warning.\n",
      "Lossy conversion from float64 to uint8. Range [-1.567649938875003, 5.318718160255241]. Convert image to uint8 prior to saving to suppress this warning.\n",
      "Lossy conversion from float64 to uint8. Range [-1.5647621214020315, 5.2936387912225165]. Convert image to uint8 prior to saving to suppress this warning.\n",
      "Lossy conversion from float64 to uint8. Range [-1.5638358435531763, 5.288194159614036]. Convert image to uint8 prior to saving to suppress this warning.\n",
      "Lossy conversion from float64 to uint8. Range [-1.5636076885953165, 4.994549963130066]. Convert image to uint8 prior to saving to suppress this warning.\n",
      "Lossy conversion from float64 to uint8. Range [-1.565438696114659, 5.298285096701435]. Convert image to uint8 prior to saving to suppress this warning.\n",
      "Lossy conversion from float64 to uint8. Range [-1.5432895826515434, 5.16110570890409]. Convert image to uint8 prior to saving to suppress this warning.\n",
      "Lossy conversion from float64 to uint8. Range [-1.5418905648183792, 4.813659771788345]. Convert image to uint8 prior to saving to suppress this warning.\n",
      "2it [00:11,  7.48s/it]"
     ]
    },
    {
     "name": "stdout",
     "output_type": "stream",
     "text": [
      "No relevant nodules for patient LIDC-IDRI-0977\n"
     ]
    },
    {
     "name": "stderr",
     "output_type": "stream",
     "text": [
      "3it [00:12,  5.66s/it]"
     ]
    },
    {
     "name": "stdout",
     "output_type": "stream",
     "text": [
      "No relevant nodules for patient LIDC-IDRI-0779\n"
     ]
    },
    {
     "name": "stderr",
     "output_type": "stream",
     "text": [
      "Lossy conversion from float64 to uint8. Range [-1.6182342814444093, 3.2925755937161316]. Convert image to uint8 prior to saving to suppress this warning.\n",
      "Lossy conversion from float64 to uint8. Range [-1.6167472480726703, 3.045809084572858]. Convert image to uint8 prior to saving to suppress this warning.\n",
      "Lossy conversion from float64 to uint8. Range [-1.6272399063773968, 3.1160618343635713]. Convert image to uint8 prior to saving to suppress this warning.\n",
      "Lossy conversion from float64 to uint8. Range [-1.6278604480359926, 3.1985160769822407]. Convert image to uint8 prior to saving to suppress this warning.\n",
      "Lossy conversion from float64 to uint8. Range [-1.6289523004023956, 3.15333297120019]. Convert image to uint8 prior to saving to suppress this warning.\n",
      "Lossy conversion from float64 to uint8. Range [-1.6286259321334635, 2.9912177887601366]. Convert image to uint8 prior to saving to suppress this warning.\n",
      "Lossy conversion from float64 to uint8. Range [-1.6292501208075314, 3.138452802841592]. Convert image to uint8 prior to saving to suppress this warning.\n",
      "Lossy conversion from float64 to uint8. Range [-1.6295397643449412, 3.0984694047198866]. Convert image to uint8 prior to saving to suppress this warning.\n",
      "Lossy conversion from float64 to uint8. Range [-1.6278046026273276, 3.1858673162855116]. Convert image to uint8 prior to saving to suppress this warning.\n",
      "Lossy conversion from float64 to uint8. Range [-1.614547581635702, 3.2148291974628673]. Convert image to uint8 prior to saving to suppress this warning.\n",
      "Lossy conversion from float64 to uint8. Range [-1.5722701514210273, 3.3922443596465204]. Convert image to uint8 prior to saving to suppress this warning.\n",
      "Lossy conversion from float64 to uint8. Range [-1.5658209091501405, 5.047173168663017]. Convert image to uint8 prior to saving to suppress this warning.\n",
      "Lossy conversion from float64 to uint8. Range [-1.5371114448798968, 4.778711168632942]. Convert image to uint8 prior to saving to suppress this warning.\n",
      "Lossy conversion from float64 to uint8. Range [-1.5611304678506823, 4.6958262642180735]. Convert image to uint8 prior to saving to suppress this warning.\n",
      "5it [00:21,  4.91s/it]"
     ]
    },
    {
     "name": "stdout",
     "output_type": "stream",
     "text": [
      "No relevant nodules for patient LIDC-IDRI-0361\n"
     ]
    },
    {
     "name": "stderr",
     "output_type": "stream",
     "text": [
      "Lossy conversion from float64 to uint8. Range [-1.8254033464497932, 1.9822401221999344]. Convert image to uint8 prior to saving to suppress this warning.\n",
      "Lossy conversion from float64 to uint8. Range [-1.8281326353435057, 2.08996657045523]. Convert image to uint8 prior to saving to suppress this warning.\n",
      "Lossy conversion from float64 to uint8. Range [-1.8285672275725935, 1.980806184955112]. Convert image to uint8 prior to saving to suppress this warning.\n",
      "Lossy conversion from float64 to uint8. Range [-1.8310738997512663, 1.8374852882639374]. Convert image to uint8 prior to saving to suppress this warning.\n",
      "Lossy conversion from float64 to uint8. Range [-1.821825746087229, 1.826548945108586]. Convert image to uint8 prior to saving to suppress this warning.\n",
      "Lossy conversion from float64 to uint8. Range [-1.790535575385954, 2.145156482145431]. Convert image to uint8 prior to saving to suppress this warning.\n",
      "Lossy conversion from float64 to uint8. Range [-1.7924916587536186, 2.4038180122785735]. Convert image to uint8 prior to saving to suppress this warning.\n",
      "Lossy conversion from float64 to uint8. Range [-1.7929286175052113, 2.2774337097583257]. Convert image to uint8 prior to saving to suppress this warning.\n",
      "Lossy conversion from float64 to uint8. Range [-1.7831202128260148, 2.382193906831282]. Convert image to uint8 prior to saving to suppress this warning.\n",
      "Lossy conversion from float64 to uint8. Range [-1.7797366550013367, 2.279509062280817]. Convert image to uint8 prior to saving to suppress this warning.\n",
      "Lossy conversion from float64 to uint8. Range [-1.7803591507991843, 2.147443639480281]. Convert image to uint8 prior to saving to suppress this warning.\n",
      "Lossy conversion from float64 to uint8. Range [-1.7807899251621473, 2.1681323972021773]. Convert image to uint8 prior to saving to suppress this warning.\n",
      "Lossy conversion from float64 to uint8. Range [-1.7799244873785993, 2.3011916011627784]. Convert image to uint8 prior to saving to suppress this warning.\n",
      "Lossy conversion from float64 to uint8. Range [-1.7802503816514454, 2.53932721465439]. Convert image to uint8 prior to saving to suppress this warning.\n",
      "Lossy conversion from float64 to uint8. Range [-1.7809480035997045, 2.1701062512421383]. Convert image to uint8 prior to saving to suppress this warning.\n",
      "Lossy conversion from float64 to uint8. Range [-1.7796476826976106, 2.470972372628196]. Convert image to uint8 prior to saving to suppress this warning.\n",
      "Lossy conversion from float64 to uint8. Range [-1.7803772221635739, 2.3685252283557814]. Convert image to uint8 prior to saving to suppress this warning.\n",
      "Lossy conversion from float64 to uint8. Range [-1.7813438690997871, 2.1152109100249596]. Convert image to uint8 prior to saving to suppress this warning.\n",
      "Lossy conversion from float64 to uint8. Range [-1.778612162399918, 2.1866733200389783]. Convert image to uint8 prior to saving to suppress this warning.\n",
      "Lossy conversion from float64 to uint8. Range [-1.7777837858347647, 2.261937252607582]. Convert image to uint8 prior to saving to suppress this warning.\n",
      "6it [00:32,  6.56s/it]Lossy conversion from float64 to uint8. Range [-1.4542022917422341, 3.153108351814635]. Convert image to uint8 prior to saving to suppress this warning.\n",
      "Lossy conversion from float64 to uint8. Range [-1.4250760718211923, 2.94770004857379]. Convert image to uint8 prior to saving to suppress this warning.\n",
      "Lossy conversion from float64 to uint8. Range [-1.441350488398365, 2.8830142346799694]. Convert image to uint8 prior to saving to suppress this warning.\n",
      "Lossy conversion from float64 to uint8. Range [-1.2244084743955375, 3.530873015322704]. Convert image to uint8 prior to saving to suppress this warning.\n",
      "Lossy conversion from float64 to uint8. Range [-1.1041509160357479, 3.2824292278000673]. Convert image to uint8 prior to saving to suppress this warning.\n",
      "Lossy conversion from float64 to uint8. Range [-1.0704973328968603, 7.524813126803155]. Convert image to uint8 prior to saving to suppress this warning.\n",
      "Lossy conversion from float64 to uint8. Range [-1.0642667055849384, 7.116676996191169]. Convert image to uint8 prior to saving to suppress this warning.\n",
      "Lossy conversion from float64 to uint8. Range [-1.0605212124480727, 7.100278956915918]. Convert image to uint8 prior to saving to suppress this warning.\n",
      "Lossy conversion from float64 to uint8. Range [-1.0557193201169868, 7.310123829760114]. Convert image to uint8 prior to saving to suppress this warning.\n",
      "Lossy conversion from float64 to uint8. Range [-1.0544993149463013, 7.3229123943921755]. Convert image to uint8 prior to saving to suppress this warning.\n",
      "7it [00:37,  6.22s/it]Lossy conversion from float64 to uint8. Range [-1.6260689907427626, 3.4210047802186017]. Convert image to uint8 prior to saving to suppress this warning.\n",
      "Lossy conversion from float64 to uint8. Range [-1.6249928707937304, 3.1798939449328834]. Convert image to uint8 prior to saving to suppress this warning.\n",
      "Lossy conversion from float64 to uint8. Range [-1.5837403680515894, 3.358932203207979]. Convert image to uint8 prior to saving to suppress this warning.\n",
      "Lossy conversion from float64 to uint8. Range [-1.5873482617169978, 3.3272927566833723]. Convert image to uint8 prior to saving to suppress this warning.\n",
      "Lossy conversion from float64 to uint8. Range [-1.5903040336316276, 3.396596031452482]. Convert image to uint8 prior to saving to suppress this warning.\n",
      "Lossy conversion from float64 to uint8. Range [-1.5917373567847497, 3.330053891579689]. Convert image to uint8 prior to saving to suppress this warning.\n",
      "8it [00:41,  5.46s/it]Lossy conversion from float64 to uint8. Range [-1.820438628880935, 2.2693917326341975]. Convert image to uint8 prior to saving to suppress this warning.\n",
      "Lossy conversion from float64 to uint8. Range [-1.818360899751388, 2.466621706402761]. Convert image to uint8 prior to saving to suppress this warning.\n",
      "Lossy conversion from float64 to uint8. Range [-1.821803176717856, 2.8022325900841167]. Convert image to uint8 prior to saving to suppress this warning.\n",
      "Lossy conversion from float64 to uint8. Range [-1.8237526879984398, 2.358775715473774]. Convert image to uint8 prior to saving to suppress this warning.\n",
      "Lossy conversion from float64 to uint8. Range [-1.8243777371199033, 2.1811427350244537]. Convert image to uint8 prior to saving to suppress this warning.\n",
      "Lossy conversion from float64 to uint8. Range [-1.810233564813433, 2.7476060189703224]. Convert image to uint8 prior to saving to suppress this warning.\n",
      "Lossy conversion from float64 to uint8. Range [-1.7857330761324097, 2.3605352164719178]. Convert image to uint8 prior to saving to suppress this warning.\n",
      "Lossy conversion from float64 to uint8. Range [-1.7883070470687454, 2.3813382415646913]. Convert image to uint8 prior to saving to suppress this warning.\n",
      "Lossy conversion from float64 to uint8. Range [-1.7782914640758098, 2.4968405675174803]. Convert image to uint8 prior to saving to suppress this warning.\n",
      "Lossy conversion from float64 to uint8. Range [-1.7746575692688755, 2.4951878048302873]. Convert image to uint8 prior to saving to suppress this warning.\n",
      "Lossy conversion from float64 to uint8. Range [-1.7745119200271102, 2.5542879976341664]. Convert image to uint8 prior to saving to suppress this warning.\n",
      "Lossy conversion from float64 to uint8. Range [-1.7741735543487114, 2.5515047739709678]. Convert image to uint8 prior to saving to suppress this warning.\n",
      "Lossy conversion from float64 to uint8. Range [-1.7738445473981765, 2.5645595005909647]. Convert image to uint8 prior to saving to suppress this warning.\n",
      "Lossy conversion from float64 to uint8. Range [-1.7732638959191955, 2.3695611663897354]. Convert image to uint8 prior to saving to suppress this warning.\n",
      "Lossy conversion from float64 to uint8. Range [-1.7724113868262175, 2.7013781414676]. Convert image to uint8 prior to saving to suppress this warning.\n",
      "Lossy conversion from float64 to uint8. Range [-1.7722218932696057, 2.697850587208124]. Convert image to uint8 prior to saving to suppress this warning.\n",
      "Lossy conversion from float64 to uint8. Range [-1.7722433906268973, 2.5588012315642867]. Convert image to uint8 prior to saving to suppress this warning.\n",
      "Lossy conversion from float64 to uint8. Range [-1.7739306535131927, 2.576483195996096]. Convert image to uint8 prior to saving to suppress this warning.\n",
      "Lossy conversion from float64 to uint8. Range [-1.774913516338494, 2.776914419377342]. Convert image to uint8 prior to saving to suppress this warning.\n",
      "Lossy conversion from float64 to uint8. Range [-1.7681641741054763, 2.872316082693714]. Convert image to uint8 prior to saving to suppress this warning.\n",
      "9it [00:55,  7.93s/it]Lossy conversion from float64 to uint8. Range [-1.768195761328184, 1.9656201211646147]. Convert image to uint8 prior to saving to suppress this warning.\n",
      "Lossy conversion from float64 to uint8. Range [-1.77374047957856, 2.0431071447179576]. Convert image to uint8 prior to saving to suppress this warning.\n",
      "Lossy conversion from float64 to uint8. Range [-1.7672538257592396, 2.266246544832047]. Convert image to uint8 prior to saving to suppress this warning.\n",
      "Lossy conversion from float64 to uint8. Range [-1.770202163396299, 2.4413446832197128]. Convert image to uint8 prior to saving to suppress this warning.\n",
      "Lossy conversion from float64 to uint8. Range [-1.7700939253730934, 2.3236990994151556]. Convert image to uint8 prior to saving to suppress this warning.\n",
      "Lossy conversion from float64 to uint8. Range [-1.7658074850010677, 2.3095151339050446]. Convert image to uint8 prior to saving to suppress this warning.\n",
      "Lossy conversion from float64 to uint8. Range [-1.7702583993805538, 2.1766462252708636]. Convert image to uint8 prior to saving to suppress this warning.\n",
      "Lossy conversion from float64 to uint8. Range [-1.771258940675236, 2.169788176522298]. Convert image to uint8 prior to saving to suppress this warning.\n",
      "Lossy conversion from float64 to uint8. Range [-1.7721075571289395, 2.1745667674179012]. Convert image to uint8 prior to saving to suppress this warning.\n",
      "Lossy conversion from float64 to uint8. Range [-1.7711916442075666, 2.4181821187352677]. Convert image to uint8 prior to saving to suppress this warning.\n",
      "Lossy conversion from float64 to uint8. Range [-1.7692225894010591, 2.2861525197262114]. Convert image to uint8 prior to saving to suppress this warning.\n",
      "Lossy conversion from float64 to uint8. Range [-1.7695126000110366, 2.327832108164948]. Convert image to uint8 prior to saving to suppress this warning.\n",
      "Lossy conversion from float64 to uint8. Range [-1.7704741184996884, 2.204210986138209]. Convert image to uint8 prior to saving to suppress this warning.\n",
      "Lossy conversion from float64 to uint8. Range [-1.7700306406343336, 2.162882260905322]. Convert image to uint8 prior to saving to suppress this warning.\n",
      "Lossy conversion from float64 to uint8. Range [-1.7695862886569784, 2.212002363333312]. Convert image to uint8 prior to saving to suppress this warning.\n",
      "Lossy conversion from float64 to uint8. Range [-1.7690318740439188, 2.2699185529843158]. Convert image to uint8 prior to saving to suppress this warning.\n",
      "Lossy conversion from float64 to uint8. Range [-1.7685074410900237, 2.2619117000434965]. Convert image to uint8 prior to saving to suppress this warning.\n",
      "Lossy conversion from float64 to uint8. Range [-1.7681444745290846, 2.2558898459681704]. Convert image to uint8 prior to saving to suppress this warning.\n",
      "Lossy conversion from float64 to uint8. Range [-1.7680132438021245, 2.250182319404039]. Convert image to uint8 prior to saving to suppress this warning.\n",
      "Lossy conversion from float64 to uint8. Range [-1.7680351291946779, 2.2319641835376243]. Convert image to uint8 prior to saving to suppress this warning.\n",
      "Lossy conversion from float64 to uint8. Range [-1.7679906493808164, 2.227266819243861]. Convert image to uint8 prior to saving to suppress this warning.\n",
      "Lossy conversion from float64 to uint8. Range [-1.7676976333760426, 2.233647865480018]. Convert image to uint8 prior to saving to suppress this warning.\n",
      "Lossy conversion from float64 to uint8. Range [-1.7670804996365574, 2.2725952040934443]. Convert image to uint8 prior to saving to suppress this warning.\n",
      "Lossy conversion from float64 to uint8. Range [-1.7662976897432028, 2.267660960074147]. Convert image to uint8 prior to saving to suppress this warning.\n",
      "Lossy conversion from float64 to uint8. Range [-1.7656964425063961, 2.2883782068658944]. Convert image to uint8 prior to saving to suppress this warning.\n",
      "Lossy conversion from float64 to uint8. Range [-1.7637959606788047, 2.340676824606714]. Convert image to uint8 prior to saving to suppress this warning.\n",
      "10it [01:12, 10.77s/it]Lossy conversion from float64 to uint8. Range [-1.7975681622961028, 2.056038923392495]. Convert image to uint8 prior to saving to suppress this warning.\n",
      "Lossy conversion from float64 to uint8. Range [-1.7753317047132422, 2.3827442678385387]. Convert image to uint8 prior to saving to suppress this warning.\n",
      "Lossy conversion from float64 to uint8. Range [-1.7748862704112722, 2.3493744198245308]. Convert image to uint8 prior to saving to suppress this warning.\n",
      "Lossy conversion from float64 to uint8. Range [-1.7754772269238766, 2.3765541952481817]. Convert image to uint8 prior to saving to suppress this warning.\n",
      "Lossy conversion from float64 to uint8. Range [-1.7755821323390162, 2.434921298454671]. Convert image to uint8 prior to saving to suppress this warning.\n",
      "Lossy conversion from float64 to uint8. Range [-1.774803242112141, 2.3796740587290985]. Convert image to uint8 prior to saving to suppress this warning.\n",
      "Lossy conversion from float64 to uint8. Range [-1.7739154974206135, 2.3786819548718916]. Convert image to uint8 prior to saving to suppress this warning.\n",
      "Lossy conversion from float64 to uint8. Range [-1.7739618816865832, 2.3416986617402653]. Convert image to uint8 prior to saving to suppress this warning.\n",
      "Lossy conversion from float64 to uint8. Range [-1.7751608947043622, 2.429480361836386]. Convert image to uint8 prior to saving to suppress this warning.\n",
      "Lossy conversion from float64 to uint8. Range [-1.7729988097407092, 2.3099287723092248]. Convert image to uint8 prior to saving to suppress this warning.\n",
      "Lossy conversion from float64 to uint8. Range [-1.7743522592073375, 2.382437816414416]. Convert image to uint8 prior to saving to suppress this warning.\n",
      "Lossy conversion from float64 to uint8. Range [-1.7747243714005199, 2.3598787631897324]. Convert image to uint8 prior to saving to suppress this warning.\n",
      "Lossy conversion from float64 to uint8. Range [-1.7746182448097907, 2.3997739753978333]. Convert image to uint8 prior to saving to suppress this warning.\n",
      "Lossy conversion from float64 to uint8. Range [-1.7738377074976353, 2.3591128308460556]. Convert image to uint8 prior to saving to suppress this warning.\n",
      "Lossy conversion from float64 to uint8. Range [-1.7731310477116111, 2.2932406647158365]. Convert image to uint8 prior to saving to suppress this warning.\n",
      "Lossy conversion from float64 to uint8. Range [-1.7726087885648847, 2.3534963900901693]. Convert image to uint8 prior to saving to suppress this warning.\n",
      "Lossy conversion from float64 to uint8. Range [-1.772051744568978, 2.3452117527615677]. Convert image to uint8 prior to saving to suppress this warning.\n",
      "Lossy conversion from float64 to uint8. Range [-1.770839823229561, 2.3629001032826817]. Convert image to uint8 prior to saving to suppress this warning.\n",
      "Lossy conversion from float64 to uint8. Range [-1.7655447513353615, 2.3504903064499287]. Convert image to uint8 prior to saving to suppress this warning.\n",
      "Lossy conversion from float64 to uint8. Range [-1.7663491331821968, 2.406284161079295]. Convert image to uint8 prior to saving to suppress this warning.\n",
      "Lossy conversion from float64 to uint8. Range [-1.7631082576977544, 2.3499081242281314]. Convert image to uint8 prior to saving to suppress this warning.\n",
      "Lossy conversion from float64 to uint8. Range [-1.7619746360673287, 2.4677942108876105]. Convert image to uint8 prior to saving to suppress this warning.\n",
      "Lossy conversion from float64 to uint8. Range [-1.7614670023125216, 2.4554646978669186]. Convert image to uint8 prior to saving to suppress this warning.\n",
      "Lossy conversion from float64 to uint8. Range [-1.7544862518528186, 2.6493154756524655]. Convert image to uint8 prior to saving to suppress this warning.\n",
      "11it [01:26, 11.65s/it]Lossy conversion from float64 to uint8. Range [-1.0139254949608807, 3.7762388029317493]. Convert image to uint8 prior to saving to suppress this warning.\n",
      "Lossy conversion from float64 to uint8. Range [-1.015142143068751, 3.5562505390146666]. Convert image to uint8 prior to saving to suppress this warning.\n",
      "Lossy conversion from float64 to uint8. Range [-1.021791102264084, 3.620394990185316]. Convert image to uint8 prior to saving to suppress this warning.\n",
      "Lossy conversion from float64 to uint8. Range [-1.02429597140746, 3.488475172484692]. Convert image to uint8 prior to saving to suppress this warning.\n",
      "Lossy conversion from float64 to uint8. Range [-1.0239266373955755, 3.63197931097444]. Convert image to uint8 prior to saving to suppress this warning.\n",
      "Lossy conversion from float64 to uint8. Range [-0.9634938605334031, 5.078406694164025]. Convert image to uint8 prior to saving to suppress this warning.\n",
      "Lossy conversion from float64 to uint8. Range [-0.9072644387462561, 5.109068101108046]. Convert image to uint8 prior to saving to suppress this warning.\n",
      "Lossy conversion from float64 to uint8. Range [-0.8818530325958114, 5.117856471241083]. Convert image to uint8 prior to saving to suppress this warning.\n",
      "Lossy conversion from float64 to uint8. Range [-0.8407020265332716, 5.4835903501805]. Convert image to uint8 prior to saving to suppress this warning.\n",
      "Lossy conversion from float64 to uint8. Range [-0.8408730353243538, 5.547208949121238]. Convert image to uint8 prior to saving to suppress this warning.\n",
      "Lossy conversion from float64 to uint8. Range [-0.8415754312602058, 5.485559404598752]. Convert image to uint8 prior to saving to suppress this warning.\n",
      "Lossy conversion from float64 to uint8. Range [-0.8419294700214106, 5.581095475406775]. Convert image to uint8 prior to saving to suppress this warning.\n",
      "Lossy conversion from float64 to uint8. Range [-0.8423857125552108, 5.705524434519438]. Convert image to uint8 prior to saving to suppress this warning.\n",
      "Lossy conversion from float64 to uint8. Range [-0.8440532654960955, 5.737706610010599]. Convert image to uint8 prior to saving to suppress this warning.\n",
      "Lossy conversion from float64 to uint8. Range [-0.8462976558625174, 5.712781599795256]. Convert image to uint8 prior to saving to suppress this warning.\n",
      "Lossy conversion from float64 to uint8. Range [-0.8470393123272841, 5.735248869554522]. Convert image to uint8 prior to saving to suppress this warning.\n",
      "Lossy conversion from float64 to uint8. Range [-0.8479072474132673, 5.768570767430464]. Convert image to uint8 prior to saving to suppress this warning.\n",
      "Lossy conversion from float64 to uint8. Range [-0.8485195609719623, 5.824330420018431]. Convert image to uint8 prior to saving to suppress this warning.\n",
      "Lossy conversion from float64 to uint8. Range [-0.849449823047838, 5.822151469414655]. Convert image to uint8 prior to saving to suppress this warning.\n",
      "Lossy conversion from float64 to uint8. Range [-0.8509347587380137, 5.7723472228360215]. Convert image to uint8 prior to saving to suppress this warning.\n",
      "Lossy conversion from float64 to uint8. Range [-0.8510274592295326, 5.5657569511621]. Convert image to uint8 prior to saving to suppress this warning.\n",
      "Lossy conversion from float64 to uint8. Range [-0.8510237046493573, 5.642637384586523]. Convert image to uint8 prior to saving to suppress this warning.\n",
      "Lossy conversion from float64 to uint8. Range [-0.8502789224095773, 5.8852008993553735]. Convert image to uint8 prior to saving to suppress this warning.\n",
      "Lossy conversion from float64 to uint8. Range [-0.8518467735498734, 6.005096442806974]. Convert image to uint8 prior to saving to suppress this warning.\n",
      "Lossy conversion from float64 to uint8. Range [-0.8522728710665521, 5.911748653676408]. Convert image to uint8 prior to saving to suppress this warning.\n",
      "Lossy conversion from float64 to uint8. Range [-0.8518488055635153, 5.6750099285306455]. Convert image to uint8 prior to saving to suppress this warning.\n",
      "Lossy conversion from float64 to uint8. Range [-0.8495800255962542, 5.6365066420581424]. Convert image to uint8 prior to saving to suppress this warning.\n",
      "Lossy conversion from float64 to uint8. Range [-0.8497380973907973, 5.814285478757461]. Convert image to uint8 prior to saving to suppress this warning.\n",
      "Lossy conversion from float64 to uint8. Range [-0.8519301217303851, 6.090414613248625]. Convert image to uint8 prior to saving to suppress this warning.\n",
      "Lossy conversion from float64 to uint8. Range [-0.848394289937567, 6.226988655048665]. Convert image to uint8 prior to saving to suppress this warning.\n",
      "Lossy conversion from float64 to uint8. Range [-0.8502464898805135, 6.477784192004994]. Convert image to uint8 prior to saving to suppress this warning.\n",
      "Lossy conversion from float64 to uint8. Range [-0.8467289669155893, 7.174094296306966]. Convert image to uint8 prior to saving to suppress this warning.\n",
      "Lossy conversion from float64 to uint8. Range [-0.8536543842144609, 7.134204893004016]. Convert image to uint8 prior to saving to suppress this warning.\n",
      "Lossy conversion from float64 to uint8. Range [-0.8490631951010148, 6.919090447566003]. Convert image to uint8 prior to saving to suppress this warning.\n",
      "Lossy conversion from float64 to uint8. Range [-0.8247104756414957, 6.3720366984523675]. Convert image to uint8 prior to saving to suppress this warning.\n",
      "Lossy conversion from float64 to uint8. Range [-0.8410046579570842, 6.643690251963808]. Convert image to uint8 prior to saving to suppress this warning.\n",
      "Lossy conversion from float64 to uint8. Range [-0.7984839223896375, 6.543055963629887]. Convert image to uint8 prior to saving to suppress this warning.\n",
      "Lossy conversion from float64 to uint8. Range [-0.7932968722891309, 6.539238943999897]. Convert image to uint8 prior to saving to suppress this warning.\n",
      "13it [01:48, 10.37s/it]"
     ]
    },
    {
     "name": "stdout",
     "output_type": "stream",
     "text": [
      "No relevant nodules for patient LIDC-IDRI-0150\n"
     ]
    },
    {
     "name": "stderr",
     "output_type": "stream",
     "text": [
      "14it [01:49,  7.63s/it]"
     ]
    },
    {
     "name": "stdout",
     "output_type": "stream",
     "text": [
      "No relevant nodules for patient LIDC-IDRI-0885\n"
     ]
    },
    {
     "name": "stderr",
     "output_type": "stream",
     "text": [
      "15it [01:53,  6.72s/it]"
     ]
    },
    {
     "name": "stdout",
     "output_type": "stream",
     "text": [
      "No relevant nodules for patient LIDC-IDRI-0397\n"
     ]
    },
    {
     "name": "stderr",
     "output_type": "stream",
     "text": [
      "Lossy conversion from float64 to uint8. Range [-1.7659944958556653, 2.125006373817223]. Convert image to uint8 prior to saving to suppress this warning.\n",
      "Lossy conversion from float64 to uint8. Range [-1.7626477735862665, 1.8438361089513313]. Convert image to uint8 prior to saving to suppress this warning.\n",
      "Lossy conversion from float64 to uint8. Range [-1.7563737061196627, 1.7931913331905336]. Convert image to uint8 prior to saving to suppress this warning.\n",
      "Lossy conversion from float64 to uint8. Range [-1.6863567715184637, 2.121110179155036]. Convert image to uint8 prior to saving to suppress this warning.\n",
      "Lossy conversion from float64 to uint8. Range [-1.673552324248127, 2.0194633390933654]. Convert image to uint8 prior to saving to suppress this warning.\n",
      "Lossy conversion from float64 to uint8. Range [-1.6775451862111406, 1.9118180482073164]. Convert image to uint8 prior to saving to suppress this warning.\n",
      "Lossy conversion from float64 to uint8. Range [-1.6806934873117148, 2.0917196290975792]. Convert image to uint8 prior to saving to suppress this warning.\n",
      "Lossy conversion from float64 to uint8. Range [-1.684287028966887, 2.464699365473736]. Convert image to uint8 prior to saving to suppress this warning.\n",
      "16it [01:58,  6.13s/it]Lossy conversion from float64 to uint8. Range [-0.9409632394665509, 3.721976753771224]. Convert image to uint8 prior to saving to suppress this warning.\n",
      "Lossy conversion from float64 to uint8. Range [-0.9826070029104824, 3.270301945298025]. Convert image to uint8 prior to saving to suppress this warning.\n",
      "Lossy conversion from float64 to uint8. Range [-0.8370545725426503, 4.179429912997258]. Convert image to uint8 prior to saving to suppress this warning.\n",
      "Lossy conversion from float64 to uint8. Range [-0.8132773085045669, 4.186809334838926]. Convert image to uint8 prior to saving to suppress this warning.\n",
      "Lossy conversion from float64 to uint8. Range [-0.848658895546973, 4.0491396132185375]. Convert image to uint8 prior to saving to suppress this warning.\n",
      "Lossy conversion from float64 to uint8. Range [-0.8514193678782792, 4.059679289570143]. Convert image to uint8 prior to saving to suppress this warning.\n",
      "Lossy conversion from float64 to uint8. Range [-0.8527346540985, 4.074531585227542]. Convert image to uint8 prior to saving to suppress this warning.\n",
      "Lossy conversion from float64 to uint8. Range [-0.8560256251757393, 4.061048736955741]. Convert image to uint8 prior to saving to suppress this warning.\n",
      "17it [02:03,  5.76s/it]Lossy conversion from float64 to uint8. Range [-1.2018162154067207, 2.8902286240398833]. Convert image to uint8 prior to saving to suppress this warning.\n",
      "Lossy conversion from float64 to uint8. Range [-1.2007914393077836, 2.872395202507159]. Convert image to uint8 prior to saving to suppress this warning.\n",
      "Lossy conversion from float64 to uint8. Range [-1.1963673061269098, 3.0837509230051214]. Convert image to uint8 prior to saving to suppress this warning.\n",
      "Lossy conversion from float64 to uint8. Range [-1.1739169867158323, 2.977893504984864]. Convert image to uint8 prior to saving to suppress this warning.\n",
      "Lossy conversion from float64 to uint8. Range [-1.0264867803060287, 3.449177750039412]. Convert image to uint8 prior to saving to suppress this warning.\n",
      "Lossy conversion from float64 to uint8. Range [-1.029851518615708, 3.362719903705093]. Convert image to uint8 prior to saving to suppress this warning.\n",
      "Lossy conversion from float64 to uint8. Range [-1.032593010650681, 3.1597824780927417]. Convert image to uint8 prior to saving to suppress this warning.\n",
      "Lossy conversion from float64 to uint8. Range [-1.033066047349646, 3.1389673036074774]. Convert image to uint8 prior to saving to suppress this warning.\n",
      "19it [02:09,  4.07s/it]"
     ]
    },
    {
     "name": "stdout",
     "output_type": "stream",
     "text": [
      "No relevant nodules for patient LIDC-IDRI-0737\n"
     ]
    },
    {
     "name": "stderr",
     "output_type": "stream",
     "text": [
      "Lossy conversion from float64 to uint8. Range [-1.302519479409486, 3.974220103678798]. Convert image to uint8 prior to saving to suppress this warning.\n",
      "Lossy conversion from float64 to uint8. Range [-1.2322148800169284, 3.7967606349585106]. Convert image to uint8 prior to saving to suppress this warning.\n",
      "Lossy conversion from float64 to uint8. Range [-1.0640412634219718, 3.6334954798494703]. Convert image to uint8 prior to saving to suppress this warning.\n",
      "Lossy conversion from float64 to uint8. Range [-1.0528494620486335, 3.900194630097117]. Convert image to uint8 prior to saving to suppress this warning.\n",
      "Lossy conversion from float64 to uint8. Range [-1.0440750123056068, 4.017383052239634]. Convert image to uint8 prior to saving to suppress this warning.\n",
      "Lossy conversion from float64 to uint8. Range [-1.0347114789776908, 4.1296939313221355]. Convert image to uint8 prior to saving to suppress this warning.\n",
      "Lossy conversion from float64 to uint8. Range [-1.0234351267368789, 3.959214260403733]. Convert image to uint8 prior to saving to suppress this warning.\n",
      "Lossy conversion from float64 to uint8. Range [-1.012928367632982, 4.012116180485884]. Convert image to uint8 prior to saving to suppress this warning.\n",
      "Lossy conversion from float64 to uint8. Range [-1.0036839411204643, 4.126311663149798]. Convert image to uint8 prior to saving to suppress this warning.\n",
      "Lossy conversion from float64 to uint8. Range [-0.9972787170798504, 4.59717398791188]. Convert image to uint8 prior to saving to suppress this warning.\n",
      "Lossy conversion from float64 to uint8. Range [-0.9876401678323071, 4.193576895770814]. Convert image to uint8 prior to saving to suppress this warning.\n",
      "Lossy conversion from float64 to uint8. Range [-0.9137218930373489, 4.401679782540766]. Convert image to uint8 prior to saving to suppress this warning.\n",
      "Lossy conversion from float64 to uint8. Range [-0.869414412239581, 4.468873986846173]. Convert image to uint8 prior to saving to suppress this warning.\n",
      "Lossy conversion from float64 to uint8. Range [-0.8755972081780875, 4.167548612151783]. Convert image to uint8 prior to saving to suppress this warning.\n",
      "Lossy conversion from float64 to uint8. Range [-0.8750060091711125, 4.311719692047535]. Convert image to uint8 prior to saving to suppress this warning.\n",
      "Lossy conversion from float64 to uint8. Range [-0.8750902247479225, 4.494603591046396]. Convert image to uint8 prior to saving to suppress this warning.\n",
      "Lossy conversion from float64 to uint8. Range [-0.8781660451237668, 4.540444886469149]. Convert image to uint8 prior to saving to suppress this warning.\n",
      "Lossy conversion from float64 to uint8. Range [-0.8861428922989009, 4.69072128812824]. Convert image to uint8 prior to saving to suppress this warning.\n",
      "20it [02:19,  5.86s/it]Lossy conversion from float64 to uint8. Range [-1.7853759309968027, 1.8707029916096278]. Convert image to uint8 prior to saving to suppress this warning.\n",
      "Lossy conversion from float64 to uint8. Range [-1.7837100399861496, 1.9677131759945403]. Convert image to uint8 prior to saving to suppress this warning.\n",
      "Lossy conversion from float64 to uint8. Range [-1.7838884905980046, 1.9375519279412499]. Convert image to uint8 prior to saving to suppress this warning.\n",
      "Lossy conversion from float64 to uint8. Range [-1.7839526733157212, 1.9389653504108526]. Convert image to uint8 prior to saving to suppress this warning.\n",
      "Lossy conversion from float64 to uint8. Range [-1.785149388015271, 2.8363079996061145]. Convert image to uint8 prior to saving to suppress this warning.\n",
      "Lossy conversion from float64 to uint8. Range [-1.7719734954068773, 3.238879368725473]. Convert image to uint8 prior to saving to suppress this warning.\n",
      "22it [02:25,  4.34s/it]"
     ]
    },
    {
     "name": "stdout",
     "output_type": "stream",
     "text": [
      "No relevant nodules for patient LIDC-IDRI-0670\n"
     ]
    },
    {
     "name": "stderr",
     "output_type": "stream",
     "text": [
      "23it [02:28,  3.92s/it]"
     ]
    },
    {
     "name": "stdout",
     "output_type": "stream",
     "text": [
      "No relevant nodules for patient LIDC-IDRI-0493\n"
     ]
    },
    {
     "name": "stderr",
     "output_type": "stream",
     "text": [
      "Lossy conversion from float64 to uint8. Range [-1.8966277345021634, 1.7250900956353525]. Convert image to uint8 prior to saving to suppress this warning.\n",
      "Lossy conversion from float64 to uint8. Range [-1.818278672522154, 1.78654639481153]. Convert image to uint8 prior to saving to suppress this warning.\n",
      "Lossy conversion from float64 to uint8. Range [-1.818868844413456, 1.9342528277369748]. Convert image to uint8 prior to saving to suppress this warning.\n",
      "Lossy conversion from float64 to uint8. Range [-1.8188823274303654, 2.083928149833123]. Convert image to uint8 prior to saving to suppress this warning.\n",
      "Lossy conversion from float64 to uint8. Range [-1.8241950601417891, 1.9807855183898422]. Convert image to uint8 prior to saving to suppress this warning.\n",
      "Lossy conversion from float64 to uint8. Range [-1.812625427764913, 1.985154209950827]. Convert image to uint8 prior to saving to suppress this warning.\n",
      "25it [02:33,  3.04s/it]"
     ]
    },
    {
     "name": "stdout",
     "output_type": "stream",
     "text": [
      "No relevant nodules for patient LIDC-IDRI-0224\n"
     ]
    },
    {
     "name": "stderr",
     "output_type": "stream",
     "text": [
      "26it [02:35,  2.75s/it]"
     ]
    },
    {
     "name": "stdout",
     "output_type": "stream",
     "text": [
      "No relevant nodules for patient LIDC-IDRI-0547\n"
     ]
    },
    {
     "name": "stderr",
     "output_type": "stream",
     "text": [
      "27it [02:37,  2.45s/it]"
     ]
    },
    {
     "name": "stdout",
     "output_type": "stream",
     "text": [
      "No relevant nodules for patient LIDC-IDRI-0304\n"
     ]
    },
    {
     "name": "stderr",
     "output_type": "stream",
     "text": [
      "28it [02:39,  2.35s/it]"
     ]
    },
    {
     "name": "stdout",
     "output_type": "stream",
     "text": [
      "No relevant nodules for patient LIDC-IDRI-0084\n"
     ]
    },
    {
     "name": "stderr",
     "output_type": "stream",
     "text": [
      "29it [02:40,  2.07s/it]"
     ]
    },
    {
     "name": "stdout",
     "output_type": "stream",
     "text": [
      "No relevant nodules for patient LIDC-IDRI-0622\n"
     ]
    },
    {
     "name": "stderr",
     "output_type": "stream",
     "text": [
      "30it [02:42,  1.86s/it]"
     ]
    },
    {
     "name": "stdout",
     "output_type": "stream",
     "text": [
      "No relevant nodules for patient LIDC-IDRI-0167\n"
     ]
    },
    {
     "name": "stderr",
     "output_type": "stream",
     "text": [
      "31it [02:43,  1.59s/it]"
     ]
    },
    {
     "name": "stdout",
     "output_type": "stream",
     "text": [
      "No relevant nodules for patient LIDC-IDRI-0275\n"
     ]
    },
    {
     "name": "stderr",
     "output_type": "stream",
     "text": [
      "Lossy conversion from float64 to uint8. Range [-1.7662248681590713, 2.454654103285037]. Convert image to uint8 prior to saving to suppress this warning.\n",
      "Lossy conversion from float64 to uint8. Range [-1.7673581838154515, 2.188705359759177]. Convert image to uint8 prior to saving to suppress this warning.\n",
      "Lossy conversion from float64 to uint8. Range [-1.7652071757903367, 2.370263894495409]. Convert image to uint8 prior to saving to suppress this warning.\n",
      "Lossy conversion from float64 to uint8. Range [-1.7652814533743908, 2.5307197120681684]. Convert image to uint8 prior to saving to suppress this warning.\n",
      "Lossy conversion from float64 to uint8. Range [-1.7644832117709122, 2.722885990644481]. Convert image to uint8 prior to saving to suppress this warning.\n",
      "Lossy conversion from float64 to uint8. Range [-1.7654254607398994, 2.3309979294142087]. Convert image to uint8 prior to saving to suppress this warning.\n",
      "Lossy conversion from float64 to uint8. Range [-1.7661576303558875, 2.510395933626093]. Convert image to uint8 prior to saving to suppress this warning.\n",
      "Lossy conversion from float64 to uint8. Range [-1.7640515989389358, 2.5254309536421533]. Convert image to uint8 prior to saving to suppress this warning.\n",
      "Lossy conversion from float64 to uint8. Range [-1.764796166791967, 2.4798438213543297]. Convert image to uint8 prior to saving to suppress this warning.\n",
      "Lossy conversion from float64 to uint8. Range [-1.7651478941638394, 2.3418137650245447]. Convert image to uint8 prior to saving to suppress this warning.\n",
      "Lossy conversion from float64 to uint8. Range [-1.7657967321417867, 2.745890099775049]. Convert image to uint8 prior to saving to suppress this warning.\n",
      "Lossy conversion from float64 to uint8. Range [-1.762907680116206, 2.416276809741851]. Convert image to uint8 prior to saving to suppress this warning.\n",
      "Lossy conversion from float64 to uint8. Range [-1.762091650104357, 2.4037399307147576]. Convert image to uint8 prior to saving to suppress this warning.\n",
      "Lossy conversion from float64 to uint8. Range [-1.7640238770798982, 2.4228586174407574]. Convert image to uint8 prior to saving to suppress this warning.\n",
      "Lossy conversion from float64 to uint8. Range [-1.7635016177321194, 2.466380079301017]. Convert image to uint8 prior to saving to suppress this warning.\n",
      "Lossy conversion from float64 to uint8. Range [-1.7642700062433394, 2.748932771792982]. Convert image to uint8 prior to saving to suppress this warning.\n",
      "Lossy conversion from float64 to uint8. Range [-1.7616276752024373, 2.5637322255137907]. Convert image to uint8 prior to saving to suppress this warning.\n",
      "Lossy conversion from float64 to uint8. Range [-1.764983528959602, 2.4532126964091185]. Convert image to uint8 prior to saving to suppress this warning.\n",
      "Lossy conversion from float64 to uint8. Range [-1.7659481950244083, 2.402506860155166]. Convert image to uint8 prior to saving to suppress this warning.\n",
      "Lossy conversion from float64 to uint8. Range [-1.7678044537822748, 2.554304926034617]. Convert image to uint8 prior to saving to suppress this warning.\n",
      "Lossy conversion from float64 to uint8. Range [-1.7703116757033905, 2.293078988920422]. Convert image to uint8 prior to saving to suppress this warning.\n",
      "Lossy conversion from float64 to uint8. Range [-1.7718388262834255, 2.57007065710379]. Convert image to uint8 prior to saving to suppress this warning.\n",
      "Lossy conversion from float64 to uint8. Range [-1.7694649821221682, 2.560307678739029]. Convert image to uint8 prior to saving to suppress this warning.\n",
      "Lossy conversion from float64 to uint8. Range [-1.7709649647313646, 2.401962699810854]. Convert image to uint8 prior to saving to suppress this warning.\n",
      "Lossy conversion from float64 to uint8. Range [-1.7728188772861808, 2.6608099538200625]. Convert image to uint8 prior to saving to suppress this warning.\n",
      "Lossy conversion from float64 to uint8. Range [-1.7731316012577445, 2.5618551978937285]. Convert image to uint8 prior to saving to suppress this warning.\n",
      "Lossy conversion from float64 to uint8. Range [-1.7731964567320093, 2.664681913090807]. Convert image to uint8 prior to saving to suppress this warning.\n",
      "Lossy conversion from float64 to uint8. Range [-1.7714113760643908, 2.336099145339267]. Convert image to uint8 prior to saving to suppress this warning.\n",
      "Lossy conversion from float64 to uint8. Range [-1.7714913946851858, 2.2807767370526473]. Convert image to uint8 prior to saving to suppress this warning.\n",
      "Lossy conversion from float64 to uint8. Range [-1.7753464542014044, 2.3177029879365834]. Convert image to uint8 prior to saving to suppress this warning.\n",
      "Lossy conversion from float64 to uint8. Range [-1.773584077241509, 2.3589511835204875]. Convert image to uint8 prior to saving to suppress this warning.\n",
      "Lossy conversion from float64 to uint8. Range [-1.7739863079369507, 2.3070890483540065]. Convert image to uint8 prior to saving to suppress this warning.\n",
      "Lossy conversion from float64 to uint8. Range [-1.7730851893728323, 2.3883415729873345]. Convert image to uint8 prior to saving to suppress this warning.\n",
      "Lossy conversion from float64 to uint8. Range [-1.774298021950421, 2.40886866514306]. Convert image to uint8 prior to saving to suppress this warning.\n",
      "Lossy conversion from float64 to uint8. Range [-1.7754270165534662, 2.455153515448136]. Convert image to uint8 prior to saving to suppress this warning.\n",
      "Lossy conversion from float64 to uint8. Range [-1.7746615640536108, 2.3364624982761257]. Convert image to uint8 prior to saving to suppress this warning.\n",
      "Lossy conversion from float64 to uint8. Range [-1.7753681868437898, 2.5254609960096075]. Convert image to uint8 prior to saving to suppress this warning.\n",
      "Lossy conversion from float64 to uint8. Range [-1.7738217236190963, 2.339800741691909]. Convert image to uint8 prior to saving to suppress this warning.\n",
      "Lossy conversion from float64 to uint8. Range [-1.7732860608293488, 2.5774606783707616]. Convert image to uint8 prior to saving to suppress this warning.\n",
      "Lossy conversion from float64 to uint8. Range [-1.772886256463576, 2.273826859470059]. Convert image to uint8 prior to saving to suppress this warning.\n",
      "Lossy conversion from float64 to uint8. Range [-1.7759293201302428, 2.3781632624635614]. Convert image to uint8 prior to saving to suppress this warning.\n",
      "Lossy conversion from float64 to uint8. Range [-1.7751266469480715, 2.2952418831879298]. Convert image to uint8 prior to saving to suppress this warning.\n",
      "Lossy conversion from float64 to uint8. Range [-1.7746296882589239, 2.353697828045525]. Convert image to uint8 prior to saving to suppress this warning.\n",
      "Lossy conversion from float64 to uint8. Range [-1.7727612764347402, 2.3525772811513965]. Convert image to uint8 prior to saving to suppress this warning.\n",
      "Lossy conversion from float64 to uint8. Range [-1.7759362541459351, 2.7002354002707394]. Convert image to uint8 prior to saving to suppress this warning.\n",
      "Lossy conversion from float64 to uint8. Range [-1.7762716777707728, 2.775264604972978]. Convert image to uint8 prior to saving to suppress this warning.\n",
      "Lossy conversion from float64 to uint8. Range [-1.7775002828381912, 2.6569585511667007]. Convert image to uint8 prior to saving to suppress this warning.\n",
      "Lossy conversion from float64 to uint8. Range [-1.7769137203136502, 2.5488112479345277]. Convert image to uint8 prior to saving to suppress this warning.\n",
      "Lossy conversion from float64 to uint8. Range [-1.7756433122440638, 2.6168697971405783]. Convert image to uint8 prior to saving to suppress this warning.\n",
      "Lossy conversion from float64 to uint8. Range [-1.7741476831938547, 2.6358365400811437]. Convert image to uint8 prior to saving to suppress this warning.\n",
      "Lossy conversion from float64 to uint8. Range [-1.774302810338222, 2.642636233522467]. Convert image to uint8 prior to saving to suppress this warning.\n",
      "Lossy conversion from float64 to uint8. Range [-1.7747208399464303, 2.770344888486157]. Convert image to uint8 prior to saving to suppress this warning.\n",
      "Lossy conversion from float64 to uint8. Range [-1.7744465400480294, 2.6616369020763875]. Convert image to uint8 prior to saving to suppress this warning.\n",
      "Lossy conversion from float64 to uint8. Range [-1.7735557119635017, 2.6223843767320303]. Convert image to uint8 prior to saving to suppress this warning.\n",
      "Lossy conversion from float64 to uint8. Range [-1.7722703584154078, 2.7485984189529007]. Convert image to uint8 prior to saving to suppress this warning.\n",
      "Lossy conversion from float64 to uint8. Range [-1.772352320205096, 2.6468568352764312]. Convert image to uint8 prior to saving to suppress this warning.\n",
      "Lossy conversion from float64 to uint8. Range [-1.7728132791829174, 2.612066071413693]. Convert image to uint8 prior to saving to suppress this warning.\n",
      "Lossy conversion from float64 to uint8. Range [-1.7735503220606712, 2.533148791526657]. Convert image to uint8 prior to saving to suppress this warning.\n",
      "Lossy conversion from float64 to uint8. Range [-1.7727673720801698, 2.719320987563458]. Convert image to uint8 prior to saving to suppress this warning.\n",
      "Lossy conversion from float64 to uint8. Range [-1.77208761596895, 2.65537330614572]. Convert image to uint8 prior to saving to suppress this warning.\n",
      "Lossy conversion from float64 to uint8. Range [-1.7716010973646068, 2.6551822927994086]. Convert image to uint8 prior to saving to suppress this warning.\n",
      "Lossy conversion from float64 to uint8. Range [-1.7722117996913191, 2.6170080361838166]. Convert image to uint8 prior to saving to suppress this warning.\n",
      "Lossy conversion from float64 to uint8. Range [-1.7740250132672104, 2.8304909850154734]. Convert image to uint8 prior to saving to suppress this warning.\n",
      "Lossy conversion from float64 to uint8. Range [-1.7741340128410348, 2.705733055610083]. Convert image to uint8 prior to saving to suppress this warning.\n",
      "Lossy conversion from float64 to uint8. Range [-1.7734333643712932, 2.809832620638322]. Convert image to uint8 prior to saving to suppress this warning.\n",
      "Lossy conversion from float64 to uint8. Range [-1.7730294603053063, 2.744433840676883]. Convert image to uint8 prior to saving to suppress this warning.\n",
      "Lossy conversion from float64 to uint8. Range [-1.7726271427089262, 2.8649092005597194]. Convert image to uint8 prior to saving to suppress this warning.\n",
      "Lossy conversion from float64 to uint8. Range [-1.7731404819986323, 2.5967258382350913]. Convert image to uint8 prior to saving to suppress this warning.\n",
      "Lossy conversion from float64 to uint8. Range [-1.7734119065041571, 2.6541407545217575]. Convert image to uint8 prior to saving to suppress this warning.\n",
      "Lossy conversion from float64 to uint8. Range [-1.7714486081523728, 2.6784342163073016]. Convert image to uint8 prior to saving to suppress this warning.\n",
      "Lossy conversion from float64 to uint8. Range [-1.7699816014513243, 2.5872553603532267]. Convert image to uint8 prior to saving to suppress this warning.\n",
      "Lossy conversion from float64 to uint8. Range [-1.7682598121710589, 2.8861279093949026]. Convert image to uint8 prior to saving to suppress this warning.\n",
      "Lossy conversion from float64 to uint8. Range [-1.7688369148801564, 2.697352861271375]. Convert image to uint8 prior to saving to suppress this warning.\n",
      "Lossy conversion from float64 to uint8. Range [-1.7696674735993692, 3.5611272752485355]. Convert image to uint8 prior to saving to suppress this warning.\n",
      "Lossy conversion from float64 to uint8. Range [-1.7693945415262073, 3.564732068156971]. Convert image to uint8 prior to saving to suppress this warning.\n",
      "Lossy conversion from float64 to uint8. Range [-1.7685177233555822, 3.570167537200559]. Convert image to uint8 prior to saving to suppress this warning.\n",
      "Lossy conversion from float64 to uint8. Range [-1.7677535780484237, 3.572220386837769]. Convert image to uint8 prior to saving to suppress this warning.\n",
      "Lossy conversion from float64 to uint8. Range [-1.7673832539350522, 3.57288148492835]. Convert image to uint8 prior to saving to suppress this warning.\n",
      "Lossy conversion from float64 to uint8. Range [-1.7662102264786974, 3.5781930284860373]. Convert image to uint8 prior to saving to suppress this warning.\n",
      "Lossy conversion from float64 to uint8. Range [-1.760546630215983, 2.6778178687829755]. Convert image to uint8 prior to saving to suppress this warning.\n",
      "Lossy conversion from float64 to uint8. Range [-1.760060764593006, 2.6222076886436536]. Convert image to uint8 prior to saving to suppress this warning.\n",
      "Lossy conversion from float64 to uint8. Range [-1.7563817704282094, 2.579743442611086]. Convert image to uint8 prior to saving to suppress this warning.\n",
      "Lossy conversion from float64 to uint8. Range [-1.7543654512635372, 2.6564207521835668]. Convert image to uint8 prior to saving to suppress this warning.\n",
      "Lossy conversion from float64 to uint8. Range [-1.7496545313872152, 2.7509841747630706]. Convert image to uint8 prior to saving to suppress this warning.\n",
      "33it [03:31, 11.10s/it]"
     ]
    },
    {
     "name": "stdout",
     "output_type": "stream",
     "text": [
      "No relevant nodules for patient LIDC-IDRI-0842\n"
     ]
    },
    {
     "name": "stderr",
     "output_type": "stream",
     "text": [
      "Lossy conversion from float64 to uint8. Range [-1.6415481887270924, 2.6069241333093185]. Convert image to uint8 prior to saving to suppress this warning.\n",
      "Lossy conversion from float64 to uint8. Range [-1.6432166906885237, 2.4492819820257568]. Convert image to uint8 prior to saving to suppress this warning.\n",
      "Lossy conversion from float64 to uint8. Range [-1.6377969550327207, 2.516799328202886]. Convert image to uint8 prior to saving to suppress this warning.\n",
      "Lossy conversion from float64 to uint8. Range [-1.634508327904942, 2.4230682618190222]. Convert image to uint8 prior to saving to suppress this warning.\n",
      "Lossy conversion from float64 to uint8. Range [-1.6223318442396129, 2.293651729509079]. Convert image to uint8 prior to saving to suppress this warning.\n",
      "Lossy conversion from float64 to uint8. Range [-1.6152573492515854, 3.21520155983619]. Convert image to uint8 prior to saving to suppress this warning.\n",
      "Lossy conversion from float64 to uint8. Range [-1.612566330060612, 3.011792084061522]. Convert image to uint8 prior to saving to suppress this warning.\n",
      "Lossy conversion from float64 to uint8. Range [-1.6114034987839676, 4.541096640384176]. Convert image to uint8 prior to saving to suppress this warning.\n",
      "Lossy conversion from float64 to uint8. Range [-1.6051086341239966, 4.906228654456591]. Convert image to uint8 prior to saving to suppress this warning.\n",
      "Lossy conversion from float64 to uint8. Range [-1.6043443268364934, 5.08245830812658]. Convert image to uint8 prior to saving to suppress this warning.\n",
      "Lossy conversion from float64 to uint8. Range [-1.6052767904227379, 4.708869032453524]. Convert image to uint8 prior to saving to suppress this warning.\n",
      "Lossy conversion from float64 to uint8. Range [-1.6045302630539802, 4.2002161568595415]. Convert image to uint8 prior to saving to suppress this warning.\n",
      "Lossy conversion from float64 to uint8. Range [-1.6025762886856314, 5.144410774288875]. Convert image to uint8 prior to saving to suppress this warning.\n",
      "Lossy conversion from float64 to uint8. Range [-1.601696040029432, 5.14066452834222]. Convert image to uint8 prior to saving to suppress this warning.\n",
      "Lossy conversion from float64 to uint8. Range [-1.5995833753779065, 4.814998399979508]. Convert image to uint8 prior to saving to suppress this warning.\n",
      "Lossy conversion from float64 to uint8. Range [-1.5963177917394684, 5.124539256580635]. Convert image to uint8 prior to saving to suppress this warning.\n",
      "Lossy conversion from float64 to uint8. Range [-1.594807765838634, 5.125783915924469]. Convert image to uint8 prior to saving to suppress this warning.\n",
      "Lossy conversion from float64 to uint8. Range [-1.595647624360365, 5.134443991601725]. Convert image to uint8 prior to saving to suppress this warning.\n",
      "Lossy conversion from float64 to uint8. Range [-1.5645303557043417, 4.9003849117910105]. Convert image to uint8 prior to saving to suppress this warning.\n",
      "Lossy conversion from float64 to uint8. Range [-1.5768540110584188, 5.0351476091961995]. Convert image to uint8 prior to saving to suppress this warning.\n",
      "34it [03:41, 10.74s/it]Lossy conversion from float64 to uint8. Range [-1.615380034606209, 2.728218700278869]. Convert image to uint8 prior to saving to suppress this warning.\n",
      "Lossy conversion from float64 to uint8. Range [-1.567980837389896, 2.9037544462174716]. Convert image to uint8 prior to saving to suppress this warning.\n",
      "Lossy conversion from float64 to uint8. Range [-1.569997405994288, 2.94450969982838]. Convert image to uint8 prior to saving to suppress this warning.\n",
      "Lossy conversion from float64 to uint8. Range [-1.5735430008344624, 2.967941234568946]. Convert image to uint8 prior to saving to suppress this warning.\n",
      "Lossy conversion from float64 to uint8. Range [-1.5748728838280308, 2.9557362889042635]. Convert image to uint8 prior to saving to suppress this warning.\n",
      "Lossy conversion from float64 to uint8. Range [-1.5686747016989546, 4.005940970426017]. Convert image to uint8 prior to saving to suppress this warning.\n",
      "Lossy conversion from float64 to uint8. Range [-1.5736442212967332, 4.484047954163485]. Convert image to uint8 prior to saving to suppress this warning.\n",
      "Lossy conversion from float64 to uint8. Range [-1.518155529111768, 4.844647095396174]. Convert image to uint8 prior to saving to suppress this warning.\n",
      "36it [03:47,  6.53s/it]"
     ]
    },
    {
     "name": "stdout",
     "output_type": "stream",
     "text": [
      "No relevant nodules for patient LIDC-IDRI-0342\n"
     ]
    },
    {
     "name": "stderr",
     "output_type": "stream",
     "text": [
      "Lossy conversion from float64 to uint8. Range [-1.8504891652558444, 1.7230334212379426]. Convert image to uint8 prior to saving to suppress this warning.\n",
      "Lossy conversion from float64 to uint8. Range [-1.8487769351941272, 1.6066959960728406]. Convert image to uint8 prior to saving to suppress this warning.\n",
      "Lossy conversion from float64 to uint8. Range [-1.840688665395914, 1.7610622675186611]. Convert image to uint8 prior to saving to suppress this warning.\n",
      "Lossy conversion from float64 to uint8. Range [-1.8192891819107655, 1.8474335988393447]. Convert image to uint8 prior to saving to suppress this warning.\n",
      "Lossy conversion from float64 to uint8. Range [-1.8142845692890697, 1.8927931412295464]. Convert image to uint8 prior to saving to suppress this warning.\n",
      "Lossy conversion from float64 to uint8. Range [-1.8007262242301658, 1.896018319987855]. Convert image to uint8 prior to saving to suppress this warning.\n",
      "Lossy conversion from float64 to uint8. Range [-1.792712108228394, 1.9558710463776963]. Convert image to uint8 prior to saving to suppress this warning.\n",
      "Lossy conversion from float64 to uint8. Range [-1.7845616932777673, 2.086318730086113]. Convert image to uint8 prior to saving to suppress this warning.\n",
      "Lossy conversion from float64 to uint8. Range [-1.785015844523588, 2.079929804477434]. Convert image to uint8 prior to saving to suppress this warning.\n",
      "Lossy conversion from float64 to uint8. Range [-1.7857545342771803, 2.0596779451760794]. Convert image to uint8 prior to saving to suppress this warning.\n",
      "Lossy conversion from float64 to uint8. Range [-1.785950712031006, 2.0584593608812707]. Convert image to uint8 prior to saving to suppress this warning.\n",
      "Lossy conversion from float64 to uint8. Range [-1.7857032658749574, 2.059284515704781]. Convert image to uint8 prior to saving to suppress this warning.\n",
      "Lossy conversion from float64 to uint8. Range [-1.7853610707445025, 2.0811359839830685]. Convert image to uint8 prior to saving to suppress this warning.\n",
      "Lossy conversion from float64 to uint8. Range [-1.785209888247318, 2.0825514423525417]. Convert image to uint8 prior to saving to suppress this warning.\n",
      "Lossy conversion from float64 to uint8. Range [-1.7853689114456013, 2.0998543220236914]. Convert image to uint8 prior to saving to suppress this warning.\n",
      "Lossy conversion from float64 to uint8. Range [-1.785710530460521, 2.0792144405130513]. Convert image to uint8 prior to saving to suppress this warning.\n",
      "Lossy conversion from float64 to uint8. Range [-1.785841511454588, 2.0885042210025735]. Convert image to uint8 prior to saving to suppress this warning.\n",
      "Lossy conversion from float64 to uint8. Range [-1.7856892721369062, 2.0955735955351265]. Convert image to uint8 prior to saving to suppress this warning.\n",
      "Lossy conversion from float64 to uint8. Range [-1.7852523732024552, 2.1406255519100177]. Convert image to uint8 prior to saving to suppress this warning.\n",
      "Lossy conversion from float64 to uint8. Range [-1.7602839964168187, 3.3812594069963327]. Convert image to uint8 prior to saving to suppress this warning.\n",
      "Lossy conversion from float64 to uint8. Range [-1.7679648124612466, 3.3702995673360245]. Convert image to uint8 prior to saving to suppress this warning.\n",
      "Lossy conversion from float64 to uint8. Range [-1.768895672946173, 3.3670900111349042]. Convert image to uint8 prior to saving to suppress this warning.\n",
      "Lossy conversion from float64 to uint8. Range [-1.7665752785614133, 3.363097852672053]. Convert image to uint8 prior to saving to suppress this warning.\n",
      "Lossy conversion from float64 to uint8. Range [-1.7720226322327919, 3.237269258202485]. Convert image to uint8 prior to saving to suppress this warning.\n",
      "38it [04:04,  7.30s/it]"
     ]
    },
    {
     "name": "stdout",
     "output_type": "stream",
     "text": [
      "No relevant nodules for patient LIDC-IDRI-0460\n"
     ]
    },
    {
     "name": "stderr",
     "output_type": "stream",
     "text": [
      "39it [04:08,  6.23s/it]"
     ]
    },
    {
     "name": "stdout",
     "output_type": "stream",
     "text": [
      "No relevant nodules for patient LIDC-IDRI-0839\n"
     ]
    },
    {
     "name": "stderr",
     "output_type": "stream",
     "text": [
      "Lossy conversion from float64 to uint8. Range [-1.850699523586108, 2.3791114650237195]. Convert image to uint8 prior to saving to suppress this warning.\n",
      "Lossy conversion from float64 to uint8. Range [-1.8586007894563032, 1.882296346965009]. Convert image to uint8 prior to saving to suppress this warning.\n",
      "Lossy conversion from float64 to uint8. Range [-1.8011631495527487, 2.4944958528591132]. Convert image to uint8 prior to saving to suppress this warning.\n",
      "Lossy conversion from float64 to uint8. Range [-1.8016905531347147, 2.51488386567627]. Convert image to uint8 prior to saving to suppress this warning.\n",
      "Lossy conversion from float64 to uint8. Range [-1.802200398393088, 2.3130472051131106]. Convert image to uint8 prior to saving to suppress this warning.\n",
      "Lossy conversion from float64 to uint8. Range [-1.8025216297748639, 2.0202319155763604]. Convert image to uint8 prior to saving to suppress this warning.\n",
      "Lossy conversion from float64 to uint8. Range [-1.8030134075057451, 2.1746034372449463]. Convert image to uint8 prior to saving to suppress this warning.\n",
      "Lossy conversion from float64 to uint8. Range [-1.8033870950772077, 2.1286794066568215]. Convert image to uint8 prior to saving to suppress this warning.\n",
      "Lossy conversion from float64 to uint8. Range [-1.8036397464612146, 2.330502654334246]. Convert image to uint8 prior to saving to suppress this warning.\n",
      "Lossy conversion from float64 to uint8. Range [-1.806305495611468, 2.0321102281203216]. Convert image to uint8 prior to saving to suppress this warning.\n",
      "Lossy conversion from float64 to uint8. Range [-1.7996385551247769, 2.13037504541772]. Convert image to uint8 prior to saving to suppress this warning.\n",
      "Lossy conversion from float64 to uint8. Range [-1.7980262237088187, 2.1262859352157726]. Convert image to uint8 prior to saving to suppress this warning.\n",
      "Lossy conversion from float64 to uint8. Range [-1.7951161126208939, 2.1889146680116727]. Convert image to uint8 prior to saving to suppress this warning.\n",
      "Lossy conversion from float64 to uint8. Range [-1.7910994211965598, 2.330998284092971]. Convert image to uint8 prior to saving to suppress this warning.\n",
      "41it [04:19,  5.41s/it]"
     ]
    },
    {
     "name": "stdout",
     "output_type": "stream",
     "text": [
      "No relevant nodules for patient LIDC-IDRI-0745\n"
     ]
    },
    {
     "name": "stderr",
     "output_type": "stream",
     "text": [
      "42it [04:20,  4.13s/it]"
     ]
    },
    {
     "name": "stdout",
     "output_type": "stream",
     "text": [
      "No relevant nodules for patient LIDC-IDRI-0552\n"
     ]
    },
    {
     "name": "stderr",
     "output_type": "stream",
     "text": [
      "43it [04:25,  4.35s/it]"
     ]
    },
    {
     "name": "stdout",
     "output_type": "stream",
     "text": [
      "No relevant nodules for patient LIDC-IDRI-0844\n"
     ]
    },
    {
     "name": "stderr",
     "output_type": "stream",
     "text": [
      "Lossy conversion from float64 to uint8. Range [-1.6539427315351118, 2.477694325417446]. Convert image to uint8 prior to saving to suppress this warning.\n",
      "Lossy conversion from float64 to uint8. Range [-1.6481592997407497, 2.511081188420771]. Convert image to uint8 prior to saving to suppress this warning.\n",
      "Lossy conversion from float64 to uint8. Range [-1.6356903035599755, 2.3566921257936366]. Convert image to uint8 prior to saving to suppress this warning.\n",
      "Lossy conversion from float64 to uint8. Range [-1.623630747750832, 2.487326909654788]. Convert image to uint8 prior to saving to suppress this warning.\n",
      "Lossy conversion from float64 to uint8. Range [-1.6186778517835219, 2.4804945376170093]. Convert image to uint8 prior to saving to suppress this warning.\n",
      "Lossy conversion from float64 to uint8. Range [-1.617235821312856, 2.4622707546608846]. Convert image to uint8 prior to saving to suppress this warning.\n",
      "Lossy conversion from float64 to uint8. Range [-1.6170166059898827, 2.545924173177578]. Convert image to uint8 prior to saving to suppress this warning.\n",
      "Lossy conversion from float64 to uint8. Range [-1.6195312039746133, 2.4009031306727273]. Convert image to uint8 prior to saving to suppress this warning.\n",
      "Lossy conversion from float64 to uint8. Range [-1.6090669940238322, 4.936586133713139]. Convert image to uint8 prior to saving to suppress this warning.\n",
      "Lossy conversion from float64 to uint8. Range [-1.5541397020776888, 4.801096670903386]. Convert image to uint8 prior to saving to suppress this warning.\n",
      "44it [04:31,  4.76s/it]Lossy conversion from float64 to uint8. Range [-1.6888144404266334, 2.344747603570165]. Convert image to uint8 prior to saving to suppress this warning.\n",
      "Lossy conversion from float64 to uint8. Range [-1.6863017899680974, 2.4213287567956554]. Convert image to uint8 prior to saving to suppress this warning.\n",
      "Lossy conversion from float64 to uint8. Range [-1.6889999839834289, 2.0822774561591806]. Convert image to uint8 prior to saving to suppress this warning.\n",
      "Lossy conversion from float64 to uint8. Range [-1.6915153332914854, 2.310578365762917]. Convert image to uint8 prior to saving to suppress this warning.\n",
      "Lossy conversion from float64 to uint8. Range [-1.6986779259267983, 2.2454799912844594]. Convert image to uint8 prior to saving to suppress this warning.\n",
      "Lossy conversion from float64 to uint8. Range [-1.7066695938384822, 2.0359547313106483]. Convert image to uint8 prior to saving to suppress this warning.\n",
      "Lossy conversion from float64 to uint8. Range [-1.701167382077636, 4.737733952488097]. Convert image to uint8 prior to saving to suppress this warning.\n",
      "Lossy conversion from float64 to uint8. Range [-1.6975816368546577, 5.828336601723119]. Convert image to uint8 prior to saving to suppress this warning.\n",
      "Lossy conversion from float64 to uint8. Range [-1.6926619723809284, 5.179240986758114]. Convert image to uint8 prior to saving to suppress this warning.\n",
      "Lossy conversion from float64 to uint8. Range [-1.6888075120984676, 5.926683362248728]. Convert image to uint8 prior to saving to suppress this warning.\n",
      "Lossy conversion from float64 to uint8. Range [-1.6850114947199109, 7.894264914624913]. Convert image to uint8 prior to saving to suppress this warning.\n",
      "Lossy conversion from float64 to uint8. Range [-1.6809469535372479, 8.201494879828239]. Convert image to uint8 prior to saving to suppress this warning.\n",
      "Lossy conversion from float64 to uint8. Range [-1.677318642917245, 8.968524805346336]. Convert image to uint8 prior to saving to suppress this warning.\n",
      "Lossy conversion from float64 to uint8. Range [-1.672649619234827, 7.3741744965152405]. Convert image to uint8 prior to saving to suppress this warning.\n",
      "Lossy conversion from float64 to uint8. Range [-1.6677339566846276, 5.2989399190758]. Convert image to uint8 prior to saving to suppress this warning.\n",
      "Lossy conversion from float64 to uint8. Range [-1.6645820532495041, 5.563536993195748]. Convert image to uint8 prior to saving to suppress this warning.\n",
      "Lossy conversion from float64 to uint8. Range [-1.6632643468108825, 4.257549812192917]. Convert image to uint8 prior to saving to suppress this warning.\n",
      "Lossy conversion from float64 to uint8. Range [-1.6602650594011172, 5.032178408500539]. Convert image to uint8 prior to saving to suppress this warning.\n",
      "Lossy conversion from float64 to uint8. Range [-1.6390868162608714, 5.308090315021395]. Convert image to uint8 prior to saving to suppress this warning.\n",
      "Lossy conversion from float64 to uint8. Range [-1.641712619128886, 3.914003918635697]. Convert image to uint8 prior to saving to suppress this warning.\n",
      "Lossy conversion from float64 to uint8. Range [-1.6322651732175912, 5.849560899592793]. Convert image to uint8 prior to saving to suppress this warning.\n",
      "Lossy conversion from float64 to uint8. Range [-1.6254292797680236, 4.80156250844855]. Convert image to uint8 prior to saving to suppress this warning.\n",
      "Lossy conversion from float64 to uint8. Range [-1.6178470946042127, 3.9566699012332043]. Convert image to uint8 prior to saving to suppress this warning.\n",
      "Lossy conversion from float64 to uint8. Range [-1.602827761206267, 2.963504361784299]. Convert image to uint8 prior to saving to suppress this warning.\n",
      "46it [04:46,  5.98s/it]"
     ]
    },
    {
     "name": "stdout",
     "output_type": "stream",
     "text": [
      "No relevant nodules for patient LIDC-IDRI-0981\n"
     ]
    },
    {
     "name": "stderr",
     "output_type": "stream",
     "text": [
      "47it [04:48,  4.68s/it]"
     ]
    },
    {
     "name": "stdout",
     "output_type": "stream",
     "text": [
      "No relevant nodules for patient LIDC-IDRI-0769\n"
     ]
    },
    {
     "name": "stderr",
     "output_type": "stream",
     "text": [
      "Lossy conversion from float64 to uint8. Range [-1.648948180016996, 2.4363935896390205]. Convert image to uint8 prior to saving to suppress this warning.\n",
      "Lossy conversion from float64 to uint8. Range [-1.6464042614478052, 2.24732596380241]. Convert image to uint8 prior to saving to suppress this warning.\n",
      "Lossy conversion from float64 to uint8. Range [-1.6332728712627478, 2.3565363718796486]. Convert image to uint8 prior to saving to suppress this warning.\n",
      "Lossy conversion from float64 to uint8. Range [-1.618039180820951, 2.5335998150687815]. Convert image to uint8 prior to saving to suppress this warning.\n",
      "Lossy conversion from float64 to uint8. Range [-1.6085609721951322, 2.7235365230544013]. Convert image to uint8 prior to saving to suppress this warning.\n",
      "Lossy conversion from float64 to uint8. Range [-1.60723033010057, 2.706461576603129]. Convert image to uint8 prior to saving to suppress this warning.\n",
      "Lossy conversion from float64 to uint8. Range [-1.6041549160490243, 2.751705370977378]. Convert image to uint8 prior to saving to suppress this warning.\n",
      "Lossy conversion from float64 to uint8. Range [-1.5979744409956613, 2.7028331690917793]. Convert image to uint8 prior to saving to suppress this warning.\n",
      "Lossy conversion from float64 to uint8. Range [-1.597364789521405, 2.701840265647459]. Convert image to uint8 prior to saving to suppress this warning.\n",
      "Lossy conversion from float64 to uint8. Range [-1.5993046831891553, 2.7148469441563186]. Convert image to uint8 prior to saving to suppress this warning.\n",
      "Lossy conversion from float64 to uint8. Range [-1.6009842379425552, 2.7179832439674283]. Convert image to uint8 prior to saving to suppress this warning.\n",
      "Lossy conversion from float64 to uint8. Range [-1.6018373192575652, 2.712662304111974]. Convert image to uint8 prior to saving to suppress this warning.\n",
      "Lossy conversion from float64 to uint8. Range [-1.6049709949890236, 2.492396971256912]. Convert image to uint8 prior to saving to suppress this warning.\n",
      "Lossy conversion from float64 to uint8. Range [-1.6076072068012055, 2.5482459636407357]. Convert image to uint8 prior to saving to suppress this warning.\n",
      "Lossy conversion from float64 to uint8. Range [-1.6219592948864103, 2.5014504316335087]. Convert image to uint8 prior to saving to suppress this warning.\n",
      "Lossy conversion from float64 to uint8. Range [-1.6274066196914387, 2.3729298817081586]. Convert image to uint8 prior to saving to suppress this warning.\n",
      "Lossy conversion from float64 to uint8. Range [-1.6307509300401897, 2.4125164308801983]. Convert image to uint8 prior to saving to suppress this warning.\n",
      "Lossy conversion from float64 to uint8. Range [-1.6300450341880601, 2.56693100630595]. Convert image to uint8 prior to saving to suppress this warning.\n",
      "Lossy conversion from float64 to uint8. Range [-1.6314790456987072, 2.42121089485131]. Convert image to uint8 prior to saving to suppress this warning.\n",
      "Lossy conversion from float64 to uint8. Range [-1.6325196231936963, 2.4516695813047713]. Convert image to uint8 prior to saving to suppress this warning.\n",
      "Lossy conversion from float64 to uint8. Range [-1.6335905261094603, 2.555777296468553]. Convert image to uint8 prior to saving to suppress this warning.\n",
      "Lossy conversion from float64 to uint8. Range [-1.635095438226314, 2.4602981727823865]. Convert image to uint8 prior to saving to suppress this warning.\n",
      "Lossy conversion from float64 to uint8. Range [-1.634879098131102, 2.481694338582859]. Convert image to uint8 prior to saving to suppress this warning.\n",
      "Lossy conversion from float64 to uint8. Range [-1.6324438281117182, 2.3821163175393565]. Convert image to uint8 prior to saving to suppress this warning.\n",
      "Lossy conversion from float64 to uint8. Range [-1.629963565874101, 2.394298473424671]. Convert image to uint8 prior to saving to suppress this warning.\n",
      "Lossy conversion from float64 to uint8. Range [-1.6288354409108246, 2.337276671560166]. Convert image to uint8 prior to saving to suppress this warning.\n",
      "Lossy conversion from float64 to uint8. Range [-1.628502335794602, 2.4191640676493895]. Convert image to uint8 prior to saving to suppress this warning.\n",
      "Lossy conversion from float64 to uint8. Range [-1.6292368954489067, 2.3598722951813156]. Convert image to uint8 prior to saving to suppress this warning.\n",
      "Lossy conversion from float64 to uint8. Range [-1.6309426951559427, 2.3343124445650174]. Convert image to uint8 prior to saving to suppress this warning.\n",
      "Lossy conversion from float64 to uint8. Range [-1.6297498023904737, 2.384701314408705]. Convert image to uint8 prior to saving to suppress this warning.\n",
      "Lossy conversion from float64 to uint8. Range [-1.6301628416335678, 2.4794070604831795]. Convert image to uint8 prior to saving to suppress this warning.\n",
      "Lossy conversion from float64 to uint8. Range [-1.6327116852155006, 2.643203120325062]. Convert image to uint8 prior to saving to suppress this warning.\n",
      "Lossy conversion from float64 to uint8. Range [-1.630473863109739, 2.6222052626355388]. Convert image to uint8 prior to saving to suppress this warning.\n",
      "Lossy conversion from float64 to uint8. Range [-1.6284233310391283, 2.5928760813992557]. Convert image to uint8 prior to saving to suppress this warning.\n",
      "Lossy conversion from float64 to uint8. Range [-1.625918758093773, 2.5310310502502382]. Convert image to uint8 prior to saving to suppress this warning.\n",
      "Lossy conversion from float64 to uint8. Range [-1.6263590934060788, 2.5637104046099664]. Convert image to uint8 prior to saving to suppress this warning.\n",
      "Lossy conversion from float64 to uint8. Range [-1.6198248935079553, 2.6068443667873207]. Convert image to uint8 prior to saving to suppress this warning.\n",
      "Lossy conversion from float64 to uint8. Range [-1.6173942040462688, 3.0713184454201428]. Convert image to uint8 prior to saving to suppress this warning.\n",
      "Lossy conversion from float64 to uint8. Range [-1.618626409977431, 2.890951027187572]. Convert image to uint8 prior to saving to suppress this warning.\n",
      "Lossy conversion from float64 to uint8. Range [-1.614977046247974, 2.786090080740339]. Convert image to uint8 prior to saving to suppress this warning.\n",
      "Lossy conversion from float64 to uint8. Range [-1.6147088024166532, 2.760814800972356]. Convert image to uint8 prior to saving to suppress this warning.\n",
      "Lossy conversion from float64 to uint8. Range [-1.5911086111469366, 4.795230419897397]. Convert image to uint8 prior to saving to suppress this warning.\n",
      "Lossy conversion from float64 to uint8. Range [-1.5904862968675288, 4.839900028194812]. Convert image to uint8 prior to saving to suppress this warning.\n",
      "Lossy conversion from float64 to uint8. Range [-1.5904563222228267, 4.8552889625891655]. Convert image to uint8 prior to saving to suppress this warning.\n",
      "Lossy conversion from float64 to uint8. Range [-1.5816818955349967, 4.882845070333944]. Convert image to uint8 prior to saving to suppress this warning.\n",
      "Lossy conversion from float64 to uint8. Range [-1.5816096342694237, 4.889423828649057]. Convert image to uint8 prior to saving to suppress this warning.\n",
      "49it [05:11,  7.29s/it]"
     ]
    },
    {
     "name": "stdout",
     "output_type": "stream",
     "text": [
      "No relevant nodules for patient LIDC-IDRI-0506\n"
     ]
    },
    {
     "name": "stderr",
     "output_type": "stream",
     "text": [
      "50it [05:14,  5.90s/it]"
     ]
    },
    {
     "name": "stdout",
     "output_type": "stream",
     "text": [
      "No relevant nodules for patient LIDC-IDRI-0136\n"
     ]
    },
    {
     "name": "stderr",
     "output_type": "stream",
     "text": [
      "Lossy conversion from float64 to uint8. Range [-1.820006294965846, 1.8994784565438445]. Convert image to uint8 prior to saving to suppress this warning.\n",
      "Lossy conversion from float64 to uint8. Range [-1.820400474369072, 2.1923548696572164]. Convert image to uint8 prior to saving to suppress this warning.\n",
      "Lossy conversion from float64 to uint8. Range [-1.8146012485201857, 2.1129737275074687]. Convert image to uint8 prior to saving to suppress this warning.\n",
      "Lossy conversion from float64 to uint8. Range [-1.8119504958276478, 2.1785427228312955]. Convert image to uint8 prior to saving to suppress this warning.\n",
      "Lossy conversion from float64 to uint8. Range [-1.7880497811521323, 2.3297093769127293]. Convert image to uint8 prior to saving to suppress this warning.\n",
      "Lossy conversion from float64 to uint8. Range [-1.7887314715701417, 2.334154799485527]. Convert image to uint8 prior to saving to suppress this warning.\n",
      "Lossy conversion from float64 to uint8. Range [-1.7888203623295078, 2.396226737394285]. Convert image to uint8 prior to saving to suppress this warning.\n",
      "Lossy conversion from float64 to uint8. Range [-1.7881715296964207, 2.3900765072608636]. Convert image to uint8 prior to saving to suppress this warning.\n",
      "Lossy conversion from float64 to uint8. Range [-1.7878415345055585, 2.372498267210354]. Convert image to uint8 prior to saving to suppress this warning.\n",
      "Lossy conversion from float64 to uint8. Range [-1.7880882311458994, 2.543010230810223]. Convert image to uint8 prior to saving to suppress this warning.\n",
      "Lossy conversion from float64 to uint8. Range [-1.7899815279552, 2.2981309018386926]. Convert image to uint8 prior to saving to suppress this warning.\n",
      "Lossy conversion from float64 to uint8. Range [-1.7926089022459868, 2.162310769044672]. Convert image to uint8 prior to saving to suppress this warning.\n",
      "Lossy conversion from float64 to uint8. Range [-1.7861958054811642, 2.38244774333123]. Convert image to uint8 prior to saving to suppress this warning.\n",
      "Lossy conversion from float64 to uint8. Range [-1.788068308174595, 2.40111895382401]. Convert image to uint8 prior to saving to suppress this warning.\n",
      "Lossy conversion from float64 to uint8. Range [-1.788226854156396, 2.4543967619872546]. Convert image to uint8 prior to saving to suppress this warning.\n",
      "Lossy conversion from float64 to uint8. Range [-1.7881932088338919, 2.3967219418626318]. Convert image to uint8 prior to saving to suppress this warning.\n",
      "Lossy conversion from float64 to uint8. Range [-1.7885761582271045, 2.407193757136633]. Convert image to uint8 prior to saving to suppress this warning.\n",
      "Lossy conversion from float64 to uint8. Range [-1.788662799187679, 2.347978447696548]. Convert image to uint8 prior to saving to suppress this warning.\n",
      "Lossy conversion from float64 to uint8. Range [-1.7885224418444687, 2.345113449399099]. Convert image to uint8 prior to saving to suppress this warning.\n",
      "Lossy conversion from float64 to uint8. Range [-1.783435540267144, 2.269409825828785]. Convert image to uint8 prior to saving to suppress this warning.\n",
      "Lossy conversion from float64 to uint8. Range [-1.7804357644280928, 2.339719939429203]. Convert image to uint8 prior to saving to suppress this warning.\n",
      "Lossy conversion from float64 to uint8. Range [-1.7770462991839102, 2.293477561728228]. Convert image to uint8 prior to saving to suppress this warning.\n",
      "Lossy conversion from float64 to uint8. Range [-1.7721941976201165, 2.7324030779259476]. Convert image to uint8 prior to saving to suppress this warning.\n",
      "Lossy conversion from float64 to uint8. Range [-1.7693463338630553, 2.624971531001268]. Convert image to uint8 prior to saving to suppress this warning.\n",
      "51it [05:27,  6.42s/it]"
     ]
    },
    {
     "name": "stdout",
     "output_type": "stream",
     "text": [
      "CPU times: user 8min 47s, sys: 33.2 s, total: 9min 20s\n",
      "Wall time: 5min 27s\n"
     ]
    },
    {
     "name": "stderr",
     "output_type": "stream",
     "text": [
      "\n"
     ]
    }
   ],
   "source": [
    "%%time\n",
    "create_dataset(patient_list_train, '/app/data/lidc/dicom/train/sorted_gcsfiles/', '/app/data/yolov5/processed/', 'train')"
   ]
  },
  {
   "cell_type": "code",
   "execution_count": 25,
   "id": "ideal-better",
   "metadata": {},
   "outputs": [
    {
     "name": "stderr",
     "output_type": "stream",
     "text": [
      "0it [00:00, ?it/s]"
     ]
    },
    {
     "name": "stdout",
     "output_type": "stream",
     "text": [
      "Setting DICOM dir = /app/data/lidc/dicom/val/sorted_gcsfiles/\n",
      "Saving images to /app/data/yolov5/processed/val/images, masks to /app/data/yolov5/processed/val/masks and labels to /app/data/yolov5/processed/val/labels\n",
      "Directory /app/data/temp/ present!\n"
     ]
    },
    {
     "name": "stderr",
     "output_type": "stream",
     "text": [
      "1it [00:01,  1.13s/it]"
     ]
    },
    {
     "name": "stdout",
     "output_type": "stream",
     "text": [
      "No relevant nodules for patient LIDC-IDRI-0534\n"
     ]
    },
    {
     "name": "stderr",
     "output_type": "stream",
     "text": [
      "Lossy conversion from float64 to uint8. Range [-1.6930709569166136, 2.4964654686989753]. Convert image to uint8 prior to saving to suppress this warning.\n",
      "Lossy conversion from float64 to uint8. Range [-1.7070585043251807, 2.3546711016160358]. Convert image to uint8 prior to saving to suppress this warning.\n",
      "Lossy conversion from float64 to uint8. Range [-1.7014093591684363, 2.4208774875107584]. Convert image to uint8 prior to saving to suppress this warning.\n",
      "Lossy conversion from float64 to uint8. Range [-1.6439881881720981, 2.6274801855642917]. Convert image to uint8 prior to saving to suppress this warning.\n",
      "Lossy conversion from float64 to uint8. Range [-1.6468361680798156, 2.607554546678696]. Convert image to uint8 prior to saving to suppress this warning.\n",
      "Lossy conversion from float64 to uint8. Range [-1.6475848632595749, 2.5741718088888295]. Convert image to uint8 prior to saving to suppress this warning.\n",
      "Lossy conversion from float64 to uint8. Range [-1.6492268887515509, 2.5450793297621868]. Convert image to uint8 prior to saving to suppress this warning.\n",
      "Lossy conversion from float64 to uint8. Range [-1.6521092671805828, 2.5188146052394895]. Convert image to uint8 prior to saving to suppress this warning.\n",
      "Lossy conversion from float64 to uint8. Range [-1.6772833922993675, 2.6360024978976946]. Convert image to uint8 prior to saving to suppress this warning.\n",
      "Lossy conversion from float64 to uint8. Range [-1.5826367176999434, 4.7489716091468095]. Convert image to uint8 prior to saving to suppress this warning.\n",
      "3it [00:07,  2.04s/it]"
     ]
    },
    {
     "name": "stdout",
     "output_type": "stream",
     "text": [
      "No relevant nodules for patient LIDC-IDRI-0364\n"
     ]
    },
    {
     "name": "stderr",
     "output_type": "stream",
     "text": [
      "Lossy conversion from float64 to uint8. Range [-1.757197795506634, 2.704937116958252]. Convert image to uint8 prior to saving to suppress this warning.\n",
      "Lossy conversion from float64 to uint8. Range [-1.6654280443501888, 3.483152268297984]. Convert image to uint8 prior to saving to suppress this warning.\n",
      "Lossy conversion from float64 to uint8. Range [-1.652137532390057, 3.788053587820573]. Convert image to uint8 prior to saving to suppress this warning.\n",
      "Lossy conversion from float64 to uint8. Range [-1.647104367376837, 3.481040123420534]. Convert image to uint8 prior to saving to suppress this warning.\n",
      "Lossy conversion from float64 to uint8. Range [-1.6433449120919752, 3.2651903786509395]. Convert image to uint8 prior to saving to suppress this warning.\n",
      "Lossy conversion from float64 to uint8. Range [-1.6176652954429103, 3.1840661427076564]. Convert image to uint8 prior to saving to suppress this warning.\n",
      "Lossy conversion from float64 to uint8. Range [-1.6066000301148962, 3.4617804642420062]. Convert image to uint8 prior to saving to suppress this warning.\n",
      "Lossy conversion from float64 to uint8. Range [-1.6220738005087478, 3.1944458255545074]. Convert image to uint8 prior to saving to suppress this warning.\n",
      "5it [00:13,  2.35s/it]"
     ]
    },
    {
     "name": "stdout",
     "output_type": "stream",
     "text": [
      "No relevant nodules for patient LIDC-IDRI-0200\n"
     ]
    },
    {
     "name": "stderr",
     "output_type": "stream",
     "text": [
      "6it [00:17,  2.86s/it]"
     ]
    },
    {
     "name": "stdout",
     "output_type": "stream",
     "text": [
      "No relevant nodules for patient LIDC-IDRI-0302\n"
     ]
    },
    {
     "name": "stderr",
     "output_type": "stream",
     "text": [
      "Lossy conversion from float64 to uint8. Range [-1.2252827344361314, 3.5263333222929245]. Convert image to uint8 prior to saving to suppress this warning.\n",
      "Lossy conversion from float64 to uint8. Range [-1.2237549507437928, 3.55737961874975]. Convert image to uint8 prior to saving to suppress this warning.\n",
      "Lossy conversion from float64 to uint8. Range [-1.2116643725736935, 3.5660125261086906]. Convert image to uint8 prior to saving to suppress this warning.\n",
      "Lossy conversion from float64 to uint8. Range [-1.129629944350959, 4.044729074818019]. Convert image to uint8 prior to saving to suppress this warning.\n",
      "Lossy conversion from float64 to uint8. Range [-1.1243784851583223, 4.705364384716392]. Convert image to uint8 prior to saving to suppress this warning.\n",
      "Lossy conversion from float64 to uint8. Range [-1.121294032996486, 4.8837500686833675]. Convert image to uint8 prior to saving to suppress this warning.\n",
      "Lossy conversion from float64 to uint8. Range [-1.11801270510243, 5.087460859465384]. Convert image to uint8 prior to saving to suppress this warning.\n",
      "Lossy conversion from float64 to uint8. Range [-1.1153775192415272, 4.925021516144482]. Convert image to uint8 prior to saving to suppress this warning.\n",
      "Lossy conversion from float64 to uint8. Range [-1.113428126685881, 3.902665643192232]. Convert image to uint8 prior to saving to suppress this warning.\n",
      "Lossy conversion from float64 to uint8. Range [-1.1061717132188522, 3.9574615592221707]. Convert image to uint8 prior to saving to suppress this warning.\n",
      "8it [00:29,  4.26s/it]"
     ]
    },
    {
     "name": "stdout",
     "output_type": "stream",
     "text": [
      "No relevant nodules for patient LIDC-IDRI-0545\n"
     ]
    },
    {
     "name": "stderr",
     "output_type": "stream",
     "text": [
      "9it [00:33,  4.02s/it]"
     ]
    },
    {
     "name": "stdout",
     "output_type": "stream",
     "text": [
      "No relevant nodules for patient LIDC-IDRI-0953\n",
      "Failed to reduce all groups to <= 4 Annotations.\n",
      "Some nodules may be close and must be grouped manually.\n"
     ]
    },
    {
     "name": "stderr",
     "output_type": "stream",
     "text": [
      "Lossy conversion from float64 to uint8. Range [-1.5542612602586878, 2.633696647205994]. Convert image to uint8 prior to saving to suppress this warning.\n",
      "Lossy conversion from float64 to uint8. Range [-1.5580900614876498, 2.6215166604952658]. Convert image to uint8 prior to saving to suppress this warning.\n",
      "Lossy conversion from float64 to uint8. Range [-1.5613197437967026, 3.1185105102713186]. Convert image to uint8 prior to saving to suppress this warning.\n",
      "Lossy conversion from float64 to uint8. Range [-1.569133176210349, 3.413968156613254]. Convert image to uint8 prior to saving to suppress this warning.\n",
      "Lossy conversion from float64 to uint8. Range [-1.5740718966775522, 3.32792944936393]. Convert image to uint8 prior to saving to suppress this warning.\n",
      "Lossy conversion from float64 to uint8. Range [-1.5710345837985307, 3.178667386499974]. Convert image to uint8 prior to saving to suppress this warning.\n",
      "Lossy conversion from float64 to uint8. Range [-1.5682683817052114, 3.2604382528293794]. Convert image to uint8 prior to saving to suppress this warning.\n",
      "Lossy conversion from float64 to uint8. Range [-1.5646989428027003, 3.455812373843737]. Convert image to uint8 prior to saving to suppress this warning.\n",
      "Lossy conversion from float64 to uint8. Range [-1.5644580210129493, 3.3159366633035274]. Convert image to uint8 prior to saving to suppress this warning.\n",
      "Lossy conversion from float64 to uint8. Range [-1.5650351407113932, 3.2180142328615458]. Convert image to uint8 prior to saving to suppress this warning.\n",
      "Lossy conversion from float64 to uint8. Range [-1.5628629846382716, 3.154266913077451]. Convert image to uint8 prior to saving to suppress this warning.\n",
      "Lossy conversion from float64 to uint8. Range [-1.5601207690832382, 3.18753925678959]. Convert image to uint8 prior to saving to suppress this warning.\n",
      "Lossy conversion from float64 to uint8. Range [-1.5582150232489238, 3.253319252015]. Convert image to uint8 prior to saving to suppress this warning.\n",
      "Lossy conversion from float64 to uint8. Range [-1.5545835885714194, 3.1416771728801]. Convert image to uint8 prior to saving to suppress this warning.\n",
      "Lossy conversion from float64 to uint8. Range [-1.5566154171266617, 3.041846226587082]. Convert image to uint8 prior to saving to suppress this warning.\n",
      "Lossy conversion from float64 to uint8. Range [-1.5578302885939552, 3.3253923312684854]. Convert image to uint8 prior to saving to suppress this warning.\n",
      "Lossy conversion from float64 to uint8. Range [-1.545136592734046, 3.0231648919204215]. Convert image to uint8 prior to saving to suppress this warning.\n",
      "Lossy conversion from float64 to uint8. Range [-1.5510102825740433, 4.075251027833366]. Convert image to uint8 prior to saving to suppress this warning.\n",
      "Lossy conversion from float64 to uint8. Range [-1.5527175940273792, 3.442986662601028]. Convert image to uint8 prior to saving to suppress this warning.\n",
      "Lossy conversion from float64 to uint8. Range [-1.5282331943575396, 4.819640661466808]. Convert image to uint8 prior to saving to suppress this warning.\n",
      "Lossy conversion from float64 to uint8. Range [-1.5350736518971044, 4.997934636468534]. Convert image to uint8 prior to saving to suppress this warning.\n",
      "Lossy conversion from float64 to uint8. Range [-1.5459820713965398, 5.1653355169744355]. Convert image to uint8 prior to saving to suppress this warning.\n",
      "11it [00:45,  4.66s/it]"
     ]
    },
    {
     "name": "stdout",
     "output_type": "stream",
     "text": [
      "No relevant nodules for patient LIDC-IDRI-0561\n"
     ]
    },
    {
     "name": "stderr",
     "output_type": "stream",
     "text": [
      "12it [00:48,  4.09s/it]"
     ]
    },
    {
     "name": "stdout",
     "output_type": "stream",
     "text": [
      "No relevant nodules for patient LIDC-IDRI-0834\n"
     ]
    },
    {
     "name": "stderr",
     "output_type": "stream",
     "text": [
      "Lossy conversion from float64 to uint8. Range [-1.309280095689942, 3.250248516915356]. Convert image to uint8 prior to saving to suppress this warning.\n",
      "Lossy conversion from float64 to uint8. Range [-1.3188284147588845, 3.2653873781086222]. Convert image to uint8 prior to saving to suppress this warning.\n",
      "Lossy conversion from float64 to uint8. Range [-1.3180378112322848, 3.153420319688775]. Convert image to uint8 prior to saving to suppress this warning.\n",
      "Lossy conversion from float64 to uint8. Range [-0.9560820890086311, 3.9698184677519213]. Convert image to uint8 prior to saving to suppress this warning.\n",
      "Lossy conversion from float64 to uint8. Range [-0.9491618943230714, 3.811858569306632]. Convert image to uint8 prior to saving to suppress this warning.\n",
      "Lossy conversion from float64 to uint8. Range [-0.9166656174311373, 4.0080678402571435]. Convert image to uint8 prior to saving to suppress this warning.\n",
      "Lossy conversion from float64 to uint8. Range [-0.9181512620357242, 3.9462980321085617]. Convert image to uint8 prior to saving to suppress this warning.\n",
      "Lossy conversion from float64 to uint8. Range [-0.9204929369468909, 4.001511913535846]. Convert image to uint8 prior to saving to suppress this warning.\n",
      "Lossy conversion from float64 to uint8. Range [-0.9239105380262937, 4.057441127457451]. Convert image to uint8 prior to saving to suppress this warning.\n",
      "Lossy conversion from float64 to uint8. Range [-0.927492572018106, 3.998511494638514]. Convert image to uint8 prior to saving to suppress this warning.\n",
      "Lossy conversion from float64 to uint8. Range [-0.9301081468069361, 3.971328675921346]. Convert image to uint8 prior to saving to suppress this warning.\n",
      "Lossy conversion from float64 to uint8. Range [-0.9315858957966339, 6.359060926875432]. Convert image to uint8 prior to saving to suppress this warning.\n",
      "13it [00:56,  5.36s/it]Lossy conversion from float64 to uint8. Range [-1.6839466351611458, 2.464935422363711]. Convert image to uint8 prior to saving to suppress this warning.\n",
      "Lossy conversion from float64 to uint8. Range [-1.6771290556379284, 2.40409051642606]. Convert image to uint8 prior to saving to suppress this warning.\n",
      "Lossy conversion from float64 to uint8. Range [-1.6567951448569098, 2.6248766761879514]. Convert image to uint8 prior to saving to suppress this warning.\n",
      "Lossy conversion from float64 to uint8. Range [-1.6336319844899199, 2.659947847485627]. Convert image to uint8 prior to saving to suppress this warning.\n",
      "Lossy conversion from float64 to uint8. Range [-1.662275391489967, 2.4794107995511796]. Convert image to uint8 prior to saving to suppress this warning.\n",
      "Lossy conversion from float64 to uint8. Range [-1.6823084043526757, 2.3815463192337014]. Convert image to uint8 prior to saving to suppress this warning.\n",
      "Lossy conversion from float64 to uint8. Range [-1.6823467657706446, 2.494662385300478]. Convert image to uint8 prior to saving to suppress this warning.\n",
      "Lossy conversion from float64 to uint8. Range [-1.6805231890785897, 2.672686305576398]. Convert image to uint8 prior to saving to suppress this warning.\n",
      "Lossy conversion from float64 to uint8. Range [-1.6785961565014245, 2.6178094052436425]. Convert image to uint8 prior to saving to suppress this warning.\n",
      "Lossy conversion from float64 to uint8. Range [-1.676158493911379, 2.525483342243977]. Convert image to uint8 prior to saving to suppress this warning.\n",
      "Lossy conversion from float64 to uint8. Range [-1.6695787967060611, 2.724484976637049]. Convert image to uint8 prior to saving to suppress this warning.\n",
      "Lossy conversion from float64 to uint8. Range [-1.666722565207318, 2.4503685887306057]. Convert image to uint8 prior to saving to suppress this warning.\n",
      "Lossy conversion from float64 to uint8. Range [-1.6635232222965586, 2.52124285737054]. Convert image to uint8 prior to saving to suppress this warning.\n",
      "Lossy conversion from float64 to uint8. Range [-1.6601227677517352, 2.459058083856617]. Convert image to uint8 prior to saving to suppress this warning.\n",
      "Lossy conversion from float64 to uint8. Range [-1.6560455731413675, 2.5496719775583587]. Convert image to uint8 prior to saving to suppress this warning.\n",
      "Lossy conversion from float64 to uint8. Range [-1.6514155065884335, 2.5076573164382534]. Convert image to uint8 prior to saving to suppress this warning.\n",
      "Lossy conversion from float64 to uint8. Range [-1.6468966426613805, 2.805499848192708]. Convert image to uint8 prior to saving to suppress this warning.\n",
      "Lossy conversion from float64 to uint8. Range [-1.6350404381453143, 2.757589710971766]. Convert image to uint8 prior to saving to suppress this warning.\n",
      "Lossy conversion from float64 to uint8. Range [-1.6321961500066433, 2.795885081064528]. Convert image to uint8 prior to saving to suppress this warning.\n",
      "Lossy conversion from float64 to uint8. Range [-1.6280529422361625, 2.902366605661026]. Convert image to uint8 prior to saving to suppress this warning.\n",
      "Lossy conversion from float64 to uint8. Range [-1.626257700471198, 3.0223114772754673]. Convert image to uint8 prior to saving to suppress this warning.\n",
      "Lossy conversion from float64 to uint8. Range [-1.6112778174016633, 2.8111301487757356]. Convert image to uint8 prior to saving to suppress this warning.\n",
      "Lossy conversion from float64 to uint8. Range [-1.609852439031748, 2.806758824226013]. Convert image to uint8 prior to saving to suppress this warning.\n",
      "Lossy conversion from float64 to uint8. Range [-1.6102209971688595, 2.7828412154619935]. Convert image to uint8 prior to saving to suppress this warning.\n",
      "Lossy conversion from float64 to uint8. Range [-1.6100397991500186, 2.6148025423942385]. Convert image to uint8 prior to saving to suppress this warning.\n",
      "Lossy conversion from float64 to uint8. Range [-1.6083680550988835, 2.58612514194103]. Convert image to uint8 prior to saving to suppress this warning.\n",
      "Lossy conversion from float64 to uint8. Range [-1.608222788955, 2.6749226730519555]. Convert image to uint8 prior to saving to suppress this warning.\n",
      "Lossy conversion from float64 to uint8. Range [-1.6084203739597949, 2.7619112275168027]. Convert image to uint8 prior to saving to suppress this warning.\n",
      "Lossy conversion from float64 to uint8. Range [-1.6066336029920867, 4.010523821970797]. Convert image to uint8 prior to saving to suppress this warning.\n",
      "Lossy conversion from float64 to uint8. Range [-1.6057596712108473, 2.7380294646493395]. Convert image to uint8 prior to saving to suppress this warning.\n",
      "Lossy conversion from float64 to uint8. Range [-1.6068205679444538, 4.269415367655511]. Convert image to uint8 prior to saving to suppress this warning.\n",
      "Lossy conversion from float64 to uint8. Range [-1.607254413684291, 2.9369113149733277]. Convert image to uint8 prior to saving to suppress this warning.\n",
      "Lossy conversion from float64 to uint8. Range [-1.6091727530297324, 2.486015029241646]. Convert image to uint8 prior to saving to suppress this warning.\n",
      "Lossy conversion from float64 to uint8. Range [-1.6097915026399237, 2.8802078541620166]. Convert image to uint8 prior to saving to suppress this warning.\n",
      "Lossy conversion from float64 to uint8. Range [-1.6104338596644137, 2.5949815428078575]. Convert image to uint8 prior to saving to suppress this warning.\n",
      "Lossy conversion from float64 to uint8. Range [-1.611759648961194, 2.6445795845510487]. Convert image to uint8 prior to saving to suppress this warning.\n",
      "Lossy conversion from float64 to uint8. Range [-1.6118989710588745, 2.4621829518810063]. Convert image to uint8 prior to saving to suppress this warning.\n",
      "Lossy conversion from float64 to uint8. Range [-1.6123154606646726, 2.7597793497219745]. Convert image to uint8 prior to saving to suppress this warning.\n",
      "Lossy conversion from float64 to uint8. Range [-1.6092693944198526, 4.161655947951563]. Convert image to uint8 prior to saving to suppress this warning.\n",
      "Lossy conversion from float64 to uint8. Range [-1.6068343815349526, 4.344264886398754]. Convert image to uint8 prior to saving to suppress this warning.\n",
      "Lossy conversion from float64 to uint8. Range [-1.602426008792063, 4.4794648550139025]. Convert image to uint8 prior to saving to suppress this warning.\n",
      "Lossy conversion from float64 to uint8. Range [-1.6005476101001477, 4.364235355048579]. Convert image to uint8 prior to saving to suppress this warning.\n",
      "Lossy conversion from float64 to uint8. Range [-1.600963588774279, 4.043917175051329]. Convert image to uint8 prior to saving to suppress this warning.\n",
      "Lossy conversion from float64 to uint8. Range [-1.6018183165783173, 4.2230276814196985]. Convert image to uint8 prior to saving to suppress this warning.\n",
      "Lossy conversion from float64 to uint8. Range [-1.603388520328041, 4.405935848386337]. Convert image to uint8 prior to saving to suppress this warning.\n",
      "Lossy conversion from float64 to uint8. Range [-1.5960598497323604, 5.115101113272358]. Convert image to uint8 prior to saving to suppress this warning.\n",
      "Lossy conversion from float64 to uint8. Range [-1.5952849365690571, 4.665051777965608]. Convert image to uint8 prior to saving to suppress this warning.\n",
      "Lossy conversion from float64 to uint8. Range [-1.5944782977868126, 5.123581856937945]. Convert image to uint8 prior to saving to suppress this warning.\n",
      "Lossy conversion from float64 to uint8. Range [-1.5900115460599327, 5.079686492159168]. Convert image to uint8 prior to saving to suppress this warning.\n",
      "Lossy conversion from float64 to uint8. Range [-1.588099627402863, 4.331265367089882]. Convert image to uint8 prior to saving to suppress this warning.\n",
      "Lossy conversion from float64 to uint8. Range [-1.5835788359036358, 4.180344619123906]. Convert image to uint8 prior to saving to suppress this warning.\n",
      "Lossy conversion from float64 to uint8. Range [-1.572589568686198, 4.508705379404247]. Convert image to uint8 prior to saving to suppress this warning.\n",
      "Lossy conversion from float64 to uint8. Range [-1.575686948586077, 4.9935494990126825]. Convert image to uint8 prior to saving to suppress this warning.\n",
      "Lossy conversion from float64 to uint8. Range [-1.5497806118794208, 4.860777337191941]. Convert image to uint8 prior to saving to suppress this warning.\n",
      "Lossy conversion from float64 to uint8. Range [-1.5579069204208043, 4.884602261370274]. Convert image to uint8 prior to saving to suppress this warning.\n",
      "Lossy conversion from float64 to uint8. Range [-1.5651362871357875, 4.893535159539513]. Convert image to uint8 prior to saving to suppress this warning.\n",
      "Lossy conversion from float64 to uint8. Range [-1.570700936155083, 5.004910221006727]. Convert image to uint8 prior to saving to suppress this warning.\n",
      "Lossy conversion from float64 to uint8. Range [-1.5697443482138285, 5.025044530183228]. Convert image to uint8 prior to saving to suppress this warning.\n",
      "15it [01:27,  9.38s/it]"
     ]
    },
    {
     "name": "stdout",
     "output_type": "stream",
     "text": [
      "No relevant nodules for patient LIDC-IDRI-0933\n"
     ]
    },
    {
     "name": "stderr",
     "output_type": "stream",
     "text": [
      "Lossy conversion from float64 to uint8. Range [-1.866961219971112, 1.886021620160718]. Convert image to uint8 prior to saving to suppress this warning.\n",
      "Lossy conversion from float64 to uint8. Range [-1.8672096680225723, 2.1523171450832685]. Convert image to uint8 prior to saving to suppress this warning.\n",
      "Lossy conversion from float64 to uint8. Range [-1.8679523318864122, 1.9802451605963225]. Convert image to uint8 prior to saving to suppress this warning.\n",
      "Lossy conversion from float64 to uint8. Range [-1.8671239287933858, 2.0120676309874925]. Convert image to uint8 prior to saving to suppress this warning.\n",
      "Lossy conversion from float64 to uint8. Range [-1.807759791043534, 3.6103707144451613]. Convert image to uint8 prior to saving to suppress this warning.\n",
      "Lossy conversion from float64 to uint8. Range [-1.815431716665869, 3.3963763872105353]. Convert image to uint8 prior to saving to suppress this warning.\n",
      "Lossy conversion from float64 to uint8. Range [-1.815144786044477, 3.4043228092362927]. Convert image to uint8 prior to saving to suppress this warning.\n",
      "Lossy conversion from float64 to uint8. Range [-1.8151359200024733, 3.409793127640295]. Convert image to uint8 prior to saving to suppress this warning.\n",
      "Lossy conversion from float64 to uint8. Range [-1.813725553966377, 3.4096018652397926]. Convert image to uint8 prior to saving to suppress this warning.\n",
      "Lossy conversion from float64 to uint8. Range [-1.8102973211969413, 3.424861385228626]. Convert image to uint8 prior to saving to suppress this warning.\n",
      "Lossy conversion from float64 to uint8. Range [-1.8068018083493358, 3.43931042006143]. Convert image to uint8 prior to saving to suppress this warning.\n",
      "Lossy conversion from float64 to uint8. Range [-1.8064941660452223, 3.452578614691808]. Convert image to uint8 prior to saving to suppress this warning.\n",
      "Lossy conversion from float64 to uint8. Range [-1.8059333905013772, 3.4552651612387337]. Convert image to uint8 prior to saving to suppress this warning.\n",
      "Lossy conversion from float64 to uint8. Range [-1.805030863499311, 3.450417884064295]. Convert image to uint8 prior to saving to suppress this warning.\n",
      "Lossy conversion from float64 to uint8. Range [-1.8046355468506825, 3.4515475021919135]. Convert image to uint8 prior to saving to suppress this warning.\n",
      "Lossy conversion from float64 to uint8. Range [-1.8054408186226392, 3.459400792888254]. Convert image to uint8 prior to saving to suppress this warning.\n",
      "Lossy conversion from float64 to uint8. Range [-1.8056627176327256, 3.465460920026949]. Convert image to uint8 prior to saving to suppress this warning.\n",
      "Lossy conversion from float64 to uint8. Range [-1.8059841792373152, 3.47162198813481]. Convert image to uint8 prior to saving to suppress this warning.\n",
      "Lossy conversion from float64 to uint8. Range [-1.8065626195342668, 3.4756793331856364]. Convert image to uint8 prior to saving to suppress this warning.\n",
      "Lossy conversion from float64 to uint8. Range [-1.7973952146808885, 3.485410576281374]. Convert image to uint8 prior to saving to suppress this warning.\n",
      "Lossy conversion from float64 to uint8. Range [-1.7945794226978518, 3.4634148793887642]. Convert image to uint8 prior to saving to suppress this warning.\n",
      "Lossy conversion from float64 to uint8. Range [-1.792396117978163, 3.437575854477507]. Convert image to uint8 prior to saving to suppress this warning.\n",
      "Lossy conversion from float64 to uint8. Range [-1.7896671560340902, 3.42680747021103]. Convert image to uint8 prior to saving to suppress this warning.\n",
      "Lossy conversion from float64 to uint8. Range [-1.7851156176073082, 3.346128208951529]. Convert image to uint8 prior to saving to suppress this warning.\n",
      "16it [01:42, 10.95s/it]Lossy conversion from float64 to uint8. Range [-1.6649053128725158, 2.4561546823450966]. Convert image to uint8 prior to saving to suppress this warning.\n",
      "Lossy conversion from float64 to uint8. Range [-1.574942818757396, 3.058865988227176]. Convert image to uint8 prior to saving to suppress this warning.\n",
      "Lossy conversion from float64 to uint8. Range [-1.579894686336951, 3.1365756377418976]. Convert image to uint8 prior to saving to suppress this warning.\n",
      "Lossy conversion from float64 to uint8. Range [-1.5800703563006537, 3.3486232557129068]. Convert image to uint8 prior to saving to suppress this warning.\n",
      "Lossy conversion from float64 to uint8. Range [-1.5455274194482853, 4.7169276188531]. Convert image to uint8 prior to saving to suppress this warning.\n",
      "Lossy conversion from float64 to uint8. Range [-1.5372879437530933, 4.778069823693188]. Convert image to uint8 prior to saving to suppress this warning.\n",
      "18it [01:50,  7.55s/it]"
     ]
    },
    {
     "name": "stdout",
     "output_type": "stream",
     "text": [
      "No relevant nodules for patient LIDC-IDRI-0551\n"
     ]
    },
    {
     "name": "stderr",
     "output_type": "stream",
     "text": [
      "Lossy conversion from float64 to uint8. Range [-1.634364942670289, 2.3939619280446434]. Convert image to uint8 prior to saving to suppress this warning.\n",
      "Lossy conversion from float64 to uint8. Range [-1.637254061887422, 2.3221112751223845]. Convert image to uint8 prior to saving to suppress this warning.\n",
      "Lossy conversion from float64 to uint8. Range [-1.6417651127995145, 2.1490529480871867]. Convert image to uint8 prior to saving to suppress this warning.\n",
      "Lossy conversion from float64 to uint8. Range [-1.656120660322943, 2.3591818191976657]. Convert image to uint8 prior to saving to suppress this warning.\n",
      "Lossy conversion from float64 to uint8. Range [-1.659744174703722, 2.2527381671119957]. Convert image to uint8 prior to saving to suppress this warning.\n",
      "Lossy conversion from float64 to uint8. Range [-1.6604328437853004, 2.212225892403818]. Convert image to uint8 prior to saving to suppress this warning.\n",
      "Lossy conversion from float64 to uint8. Range [-1.6660207243564988, 2.1788793376047826]. Convert image to uint8 prior to saving to suppress this warning.\n",
      "Lossy conversion from float64 to uint8. Range [-1.672144889160038, 2.094855921769931]. Convert image to uint8 prior to saving to suppress this warning.\n",
      "Lossy conversion from float64 to uint8. Range [-1.6742916463227182, 2.3095899523829795]. Convert image to uint8 prior to saving to suppress this warning.\n",
      "Lossy conversion from float64 to uint8. Range [-1.675492606922636, 2.4363425403807373]. Convert image to uint8 prior to saving to suppress this warning.\n",
      "Lossy conversion from float64 to uint8. Range [-1.6628925578899894, 2.4290056784259884]. Convert image to uint8 prior to saving to suppress this warning.\n",
      "Lossy conversion from float64 to uint8. Range [-1.6546789490236116, 2.590026272931721]. Convert image to uint8 prior to saving to suppress this warning.\n",
      "Lossy conversion from float64 to uint8. Range [-1.6374442916492147, 2.553240635165966]. Convert image to uint8 prior to saving to suppress this warning.\n",
      "Lossy conversion from float64 to uint8. Range [-1.6282530717879968, 2.487179771521059]. Convert image to uint8 prior to saving to suppress this warning.\n",
      "Lossy conversion from float64 to uint8. Range [-1.6177068022128254, 2.6893961708561083]. Convert image to uint8 prior to saving to suppress this warning.\n",
      "Lossy conversion from float64 to uint8. Range [-1.6105698104771764, 2.840195470194717]. Convert image to uint8 prior to saving to suppress this warning.\n",
      "Lossy conversion from float64 to uint8. Range [-1.6045459432436546, 2.9281490363235894]. Convert image to uint8 prior to saving to suppress this warning.\n",
      "Lossy conversion from float64 to uint8. Range [-1.6030651147805597, 2.910425426789979]. Convert image to uint8 prior to saving to suppress this warning.\n",
      "Lossy conversion from float64 to uint8. Range [-1.6020712679008806, 2.8276042024776897]. Convert image to uint8 prior to saving to suppress this warning.\n",
      "Lossy conversion from float64 to uint8. Range [-1.6007025568029882, 2.8607503379459858]. Convert image to uint8 prior to saving to suppress this warning.\n",
      "Lossy conversion from float64 to uint8. Range [-1.599500243960305, 2.884383049456712]. Convert image to uint8 prior to saving to suppress this warning.\n",
      "Lossy conversion from float64 to uint8. Range [-1.5972804977673951, 2.8428197750787314]. Convert image to uint8 prior to saving to suppress this warning.\n",
      "Lossy conversion from float64 to uint8. Range [-1.5960544852126448, 2.7750794322377543]. Convert image to uint8 prior to saving to suppress this warning.\n",
      "Lossy conversion from float64 to uint8. Range [-1.592827456635267, 2.8207156217231253]. Convert image to uint8 prior to saving to suppress this warning.\n",
      "Lossy conversion from float64 to uint8. Range [-1.5930514977625496, 2.7943475095028134]. Convert image to uint8 prior to saving to suppress this warning.\n",
      "Lossy conversion from float64 to uint8. Range [-1.5957074023624291, 2.881939872268102]. Convert image to uint8 prior to saving to suppress this warning.\n",
      "Lossy conversion from float64 to uint8. Range [-1.5981511457644844, 2.9076363122510993]. Convert image to uint8 prior to saving to suppress this warning.\n",
      "Lossy conversion from float64 to uint8. Range [-1.598300216014372, 2.9057606918383674]. Convert image to uint8 prior to saving to suppress this warning.\n",
      "Lossy conversion from float64 to uint8. Range [-1.5970329713383773, 2.772967581924434]. Convert image to uint8 prior to saving to suppress this warning.\n",
      "Lossy conversion from float64 to uint8. Range [-1.5908325728531052, 2.7013206552340394]. Convert image to uint8 prior to saving to suppress this warning.\n",
      "Lossy conversion from float64 to uint8. Range [-1.589017309502508, 2.857719668151987]. Convert image to uint8 prior to saving to suppress this warning.\n",
      "Lossy conversion from float64 to uint8. Range [-1.5911777834572716, 2.9317373625332053]. Convert image to uint8 prior to saving to suppress this warning.\n",
      "Lossy conversion from float64 to uint8. Range [-1.5903595072471575, 2.835937016535872]. Convert image to uint8 prior to saving to suppress this warning.\n",
      "Lossy conversion from float64 to uint8. Range [-1.5887299527612389, 2.827429329173972]. Convert image to uint8 prior to saving to suppress this warning.\n",
      "Lossy conversion from float64 to uint8. Range [-1.5841100364904257, 2.9426086622524177]. Convert image to uint8 prior to saving to suppress this warning.\n",
      "Lossy conversion from float64 to uint8. Range [-1.5875616920155113, 2.8986208494664]. Convert image to uint8 prior to saving to suppress this warning.\n",
      "Lossy conversion from float64 to uint8. Range [-1.5866475611329893, 2.801285924011295]. Convert image to uint8 prior to saving to suppress this warning.\n",
      "Lossy conversion from float64 to uint8. Range [-1.5794303148061282, 2.847611147561993]. Convert image to uint8 prior to saving to suppress this warning.\n",
      "Lossy conversion from float64 to uint8. Range [-1.5783246314842012, 2.8759025333416397]. Convert image to uint8 prior to saving to suppress this warning.\n",
      "Lossy conversion from float64 to uint8. Range [-1.5796625850282164, 2.781892249914871]. Convert image to uint8 prior to saving to suppress this warning.\n",
      "Lossy conversion from float64 to uint8. Range [-1.5798796942393971, 2.750896542950474]. Convert image to uint8 prior to saving to suppress this warning.\n",
      "Lossy conversion from float64 to uint8. Range [-1.5785728075565875, 2.830248930856228]. Convert image to uint8 prior to saving to suppress this warning.\n",
      "Lossy conversion from float64 to uint8. Range [-1.5758406109550611, 2.782586966881976]. Convert image to uint8 prior to saving to suppress this warning.\n",
      "Lossy conversion from float64 to uint8. Range [-1.5736950681342212, 2.767677831775164]. Convert image to uint8 prior to saving to suppress this warning.\n",
      "Lossy conversion from float64 to uint8. Range [-1.57219863195014, 2.8011068289596137]. Convert image to uint8 prior to saving to suppress this warning.\n",
      "Lossy conversion from float64 to uint8. Range [-1.5729789279285813, 2.78045009490205]. Convert image to uint8 prior to saving to suppress this warning.\n",
      "Lossy conversion from float64 to uint8. Range [-1.5764794724329758, 2.8062746340627847]. Convert image to uint8 prior to saving to suppress this warning.\n",
      "Lossy conversion from float64 to uint8. Range [-1.5798444596366905, 2.8505846769834484]. Convert image to uint8 prior to saving to suppress this warning.\n",
      "Lossy conversion from float64 to uint8. Range [-1.5799765062239302, 2.861058298769544]. Convert image to uint8 prior to saving to suppress this warning.\n",
      "Lossy conversion from float64 to uint8. Range [-1.579184554016827, 2.8407037861841196]. Convert image to uint8 prior to saving to suppress this warning.\n",
      "Lossy conversion from float64 to uint8. Range [-1.581018123677559, 2.7467066765561725]. Convert image to uint8 prior to saving to suppress this warning.\n",
      "Lossy conversion from float64 to uint8. Range [-1.577062992743635, 2.778693835587786]. Convert image to uint8 prior to saving to suppress this warning.\n",
      "Lossy conversion from float64 to uint8. Range [-1.5703980732455354, 2.714797969331671]. Convert image to uint8 prior to saving to suppress this warning.\n",
      "Lossy conversion from float64 to uint8. Range [-1.5709861606123203, 2.6681136528690645]. Convert image to uint8 prior to saving to suppress this warning.\n",
      "Lossy conversion from float64 to uint8. Range [-1.5709836930262175, 2.6793621677575348]. Convert image to uint8 prior to saving to suppress this warning.\n",
      "Lossy conversion from float64 to uint8. Range [-1.5689238242483652, 2.8523455653769028]. Convert image to uint8 prior to saving to suppress this warning.\n",
      "Lossy conversion from float64 to uint8. Range [-1.5680085509087065, 2.8705470815545238]. Convert image to uint8 prior to saving to suppress this warning.\n",
      "Lossy conversion from float64 to uint8. Range [-1.5680520739193324, 2.8430001562461094]. Convert image to uint8 prior to saving to suppress this warning.\n",
      "Lossy conversion from float64 to uint8. Range [-1.5707871220859895, 2.7408448054213834]. Convert image to uint8 prior to saving to suppress this warning.\n",
      "Lossy conversion from float64 to uint8. Range [-1.5646357695036313, 2.6703595657768906]. Convert image to uint8 prior to saving to suppress this warning.\n",
      "Lossy conversion from float64 to uint8. Range [-1.5550989234797241, 2.7640055297323687]. Convert image to uint8 prior to saving to suppress this warning.\n",
      "Lossy conversion from float64 to uint8. Range [-1.5430112573010433, 2.613849830895321]. Convert image to uint8 prior to saving to suppress this warning.\n",
      "Lossy conversion from float64 to uint8. Range [-1.5414035050213915, 2.8523409531347905]. Convert image to uint8 prior to saving to suppress this warning.\n",
      "Lossy conversion from float64 to uint8. Range [-1.5370574686429905, 3.0409508693460294]. Convert image to uint8 prior to saving to suppress this warning.\n",
      "Lossy conversion from float64 to uint8. Range [-1.532072947669864, 3.074659575426428]. Convert image to uint8 prior to saving to suppress this warning.\n",
      "Lossy conversion from float64 to uint8. Range [-1.5280630383836, 2.9864259707847984]. Convert image to uint8 prior to saving to suppress this warning.\n",
      "20it [02:23, 10.70s/it]"
     ]
    },
    {
     "name": "stdout",
     "output_type": "stream",
     "text": [
      "No relevant nodules for patient LIDC-IDRI-0964\n"
     ]
    },
    {
     "name": "stderr",
     "output_type": "stream",
     "text": [
      "21it [02:24,  7.75s/it]"
     ]
    },
    {
     "name": "stdout",
     "output_type": "stream",
     "text": [
      "No relevant nodules for patient LIDC-IDRI-0410\n"
     ]
    },
    {
     "name": "stderr",
     "output_type": "stream",
     "text": [
      "22it [02:25,  5.76s/it]"
     ]
    },
    {
     "name": "stdout",
     "output_type": "stream",
     "text": [
      "No relevant nodules for patient LIDC-IDRI-0764\n"
     ]
    },
    {
     "name": "stderr",
     "output_type": "stream",
     "text": [
      "23it [02:27,  4.64s/it]"
     ]
    },
    {
     "name": "stdout",
     "output_type": "stream",
     "text": [
      "No relevant nodules for patient LIDC-IDRI-0139\n"
     ]
    },
    {
     "name": "stderr",
     "output_type": "stream",
     "text": [
      "24it [02:28,  3.63s/it]"
     ]
    },
    {
     "name": "stdout",
     "output_type": "stream",
     "text": [
      "No relevant nodules for patient LIDC-IDRI-0102\n"
     ]
    },
    {
     "name": "stderr",
     "output_type": "stream",
     "text": [
      "Lossy conversion from float64 to uint8. Range [-1.8534472216109785, 1.96017254403151]. Convert image to uint8 prior to saving to suppress this warning.\n",
      "Lossy conversion from float64 to uint8. Range [-1.8529949528806442, 2.301733673865059]. Convert image to uint8 prior to saving to suppress this warning.\n",
      "Lossy conversion from float64 to uint8. Range [-1.8436562622098012, 2.021117711082218]. Convert image to uint8 prior to saving to suppress this warning.\n",
      "Lossy conversion from float64 to uint8. Range [-1.8433425011031415, 1.9845533364621455]. Convert image to uint8 prior to saving to suppress this warning.\n",
      "Lossy conversion from float64 to uint8. Range [-1.8229367413065916, 2.034487265262588]. Convert image to uint8 prior to saving to suppress this warning.\n",
      "Lossy conversion from float64 to uint8. Range [-1.8099723586920524, 2.097486130427856]. Convert image to uint8 prior to saving to suppress this warning.\n",
      "Lossy conversion from float64 to uint8. Range [-1.7991425890798736, 2.174059174343957]. Convert image to uint8 prior to saving to suppress this warning.\n",
      "Lossy conversion from float64 to uint8. Range [-1.7983981384854046, 2.2339406655552927]. Convert image to uint8 prior to saving to suppress this warning.\n",
      "Lossy conversion from float64 to uint8. Range [-1.7989687240937364, 2.1536387833514032]. Convert image to uint8 prior to saving to suppress this warning.\n",
      "Lossy conversion from float64 to uint8. Range [-1.7967829589952344, 2.217917519098666]. Convert image to uint8 prior to saving to suppress this warning.\n",
      "Lossy conversion from float64 to uint8. Range [-1.799319375301025, 2.192660849945851]. Convert image to uint8 prior to saving to suppress this warning.\n",
      "Lossy conversion from float64 to uint8. Range [-1.7998816984572683, 2.232507256749926]. Convert image to uint8 prior to saving to suppress this warning.\n",
      "Lossy conversion from float64 to uint8. Range [-1.7935248749208879, 2.235051594275909]. Convert image to uint8 prior to saving to suppress this warning.\n",
      "Lossy conversion from float64 to uint8. Range [-1.7875541456442348, 2.403000961106952]. Convert image to uint8 prior to saving to suppress this warning.\n",
      "Lossy conversion from float64 to uint8. Range [-1.7881333427118162, 2.3019582040069935]. Convert image to uint8 prior to saving to suppress this warning.\n",
      "Lossy conversion from float64 to uint8. Range [-1.7862264059043669, 2.3044983249760747]. Convert image to uint8 prior to saving to suppress this warning.\n",
      "Lossy conversion from float64 to uint8. Range [-1.786405144640488, 2.293450331235396]. Convert image to uint8 prior to saving to suppress this warning.\n",
      "Lossy conversion from float64 to uint8. Range [-1.786805852846543, 2.4271079929188986]. Convert image to uint8 prior to saving to suppress this warning.\n",
      "Lossy conversion from float64 to uint8. Range [-1.7870550118656408, 2.429314030593659]. Convert image to uint8 prior to saving to suppress this warning.\n",
      "Lossy conversion from float64 to uint8. Range [-1.7876311504164464, 2.3493573381724753]. Convert image to uint8 prior to saving to suppress this warning.\n",
      "Lossy conversion from float64 to uint8. Range [-1.7868882214014565, 2.2898361577847717]. Convert image to uint8 prior to saving to suppress this warning.\n",
      "Lossy conversion from float64 to uint8. Range [-1.7860381199583633, 2.4534379369917403]. Convert image to uint8 prior to saving to suppress this warning.\n",
      "Lossy conversion from float64 to uint8. Range [-1.7861530686564577, 2.301117674501103]. Convert image to uint8 prior to saving to suppress this warning.\n",
      "Lossy conversion from float64 to uint8. Range [-1.7864221511173923, 2.337026220375386]. Convert image to uint8 prior to saving to suppress this warning.\n",
      "Lossy conversion from float64 to uint8. Range [-1.786875971128248, 2.3760295284309474]. Convert image to uint8 prior to saving to suppress this warning.\n",
      "Lossy conversion from float64 to uint8. Range [-1.7865617532795364, 2.2768293624113847]. Convert image to uint8 prior to saving to suppress this warning.\n",
      "Lossy conversion from float64 to uint8. Range [-1.7858897067369692, 2.3084836669162434]. Convert image to uint8 prior to saving to suppress this warning.\n",
      "Lossy conversion from float64 to uint8. Range [-1.7851462637349365, 2.508907491707111]. Convert image to uint8 prior to saving to suppress this warning.\n",
      "Lossy conversion from float64 to uint8. Range [-1.7846414953557028, 2.400119834030962]. Convert image to uint8 prior to saving to suppress this warning.\n",
      "Lossy conversion from float64 to uint8. Range [-1.7847116077385603, 2.3209278230473833]. Convert image to uint8 prior to saving to suppress this warning.\n",
      "Lossy conversion from float64 to uint8. Range [-1.7841749766872763, 2.3949326984301464]. Convert image to uint8 prior to saving to suppress this warning.\n",
      "Lossy conversion from float64 to uint8. Range [-1.7827607497793518, 2.3511624791800387]. Convert image to uint8 prior to saving to suppress this warning.\n",
      "Lossy conversion from float64 to uint8. Range [-1.782100941727365, 2.281497004119893]. Convert image to uint8 prior to saving to suppress this warning.\n",
      "Lossy conversion from float64 to uint8. Range [-1.7827148588709252, 2.4338812804942926]. Convert image to uint8 prior to saving to suppress this warning.\n",
      "Lossy conversion from float64 to uint8. Range [-1.7834101655804215, 2.412395364089235]. Convert image to uint8 prior to saving to suppress this warning.\n",
      "Lossy conversion from float64 to uint8. Range [-1.781321630391722, 2.3420384582981346]. Convert image to uint8 prior to saving to suppress this warning.\n",
      "Lossy conversion from float64 to uint8. Range [-1.781016995065666, 2.450444862662317]. Convert image to uint8 prior to saving to suppress this warning.\n",
      "Lossy conversion from float64 to uint8. Range [-1.7785185120544376, 2.7386071116815924]. Convert image to uint8 prior to saving to suppress this warning.\n",
      "Lossy conversion from float64 to uint8. Range [-1.778482803539537, 2.4701347360309485]. Convert image to uint8 prior to saving to suppress this warning.\n",
      "Lossy conversion from float64 to uint8. Range [-1.7735492791696446, 2.598693618458809]. Convert image to uint8 prior to saving to suppress this warning.\n",
      "26it [02:51,  6.59s/it]"
     ]
    },
    {
     "name": "stdout",
     "output_type": "stream",
     "text": [
      "No relevant nodules for patient LIDC-IDRI-0239\n"
     ]
    },
    {
     "name": "stderr",
     "output_type": "stream",
     "text": [
      "27it [02:52,  4.94s/it]"
     ]
    },
    {
     "name": "stdout",
     "output_type": "stream",
     "text": [
      "No relevant nodules for patient LIDC-IDRI-0212\n"
     ]
    },
    {
     "name": "stderr",
     "output_type": "stream",
     "text": [
      "28it [02:55,  4.32s/it]"
     ]
    },
    {
     "name": "stdout",
     "output_type": "stream",
     "text": [
      "No relevant nodules for patient LIDC-IDRI-0825\n"
     ]
    },
    {
     "name": "stderr",
     "output_type": "stream",
     "text": [
      "29it [02:56,  3.50s/it]"
     ]
    },
    {
     "name": "stdout",
     "output_type": "stream",
     "text": [
      "No relevant nodules for patient LIDC-IDRI-0233\n"
     ]
    },
    {
     "name": "stderr",
     "output_type": "stream",
     "text": [
      "30it [02:57,  2.66s/it]"
     ]
    },
    {
     "name": "stdout",
     "output_type": "stream",
     "text": [
      "No relevant nodules for patient LIDC-IDRI-0382\n"
     ]
    },
    {
     "name": "stderr",
     "output_type": "stream",
     "text": [
      "Lossy conversion from float64 to uint8. Range [-1.8406743081458599, 2.0956505731520587]. Convert image to uint8 prior to saving to suppress this warning.\n",
      "Lossy conversion from float64 to uint8. Range [-1.843423494131005, 1.976759752945719]. Convert image to uint8 prior to saving to suppress this warning.\n",
      "Lossy conversion from float64 to uint8. Range [-1.839375039195988, 1.8791645714845042]. Convert image to uint8 prior to saving to suppress this warning.\n",
      "Lossy conversion from float64 to uint8. Range [-1.7941609017467968, 2.1224686007203055]. Convert image to uint8 prior to saving to suppress this warning.\n",
      "Lossy conversion from float64 to uint8. Range [-1.795206480869275, 2.112697473166276]. Convert image to uint8 prior to saving to suppress this warning.\n",
      "Lossy conversion from float64 to uint8. Range [-1.7867380994598105, 2.0715426126704957]. Convert image to uint8 prior to saving to suppress this warning.\n",
      "Lossy conversion from float64 to uint8. Range [-1.7867103784971912, 2.2176006902397107]. Convert image to uint8 prior to saving to suppress this warning.\n",
      "Lossy conversion from float64 to uint8. Range [-1.7872617777631918, 2.1098369081709722]. Convert image to uint8 prior to saving to suppress this warning.\n",
      "Lossy conversion from float64 to uint8. Range [-1.7884306145052338, 2.114979450842895]. Convert image to uint8 prior to saving to suppress this warning.\n",
      "Lossy conversion from float64 to uint8. Range [-1.7891869903034279, 1.9907593772907513]. Convert image to uint8 prior to saving to suppress this warning.\n",
      "Lossy conversion from float64 to uint8. Range [-1.7889793320096257, 2.034924801699446]. Convert image to uint8 prior to saving to suppress this warning.\n",
      "Lossy conversion from float64 to uint8. Range [-1.7882929376969934, 2.078312782358528]. Convert image to uint8 prior to saving to suppress this warning.\n",
      "Lossy conversion from float64 to uint8. Range [-1.778532792839008, 2.191144412438368]. Convert image to uint8 prior to saving to suppress this warning.\n",
      "Lossy conversion from float64 to uint8. Range [-1.7686737560415822, 2.198523050269591]. Convert image to uint8 prior to saving to suppress this warning.\n",
      "32it [03:07,  3.44s/it]"
     ]
    },
    {
     "name": "stdout",
     "output_type": "stream",
     "text": [
      "No relevant nodules for patient LIDC-IDRI-0823\n"
     ]
    },
    {
     "name": "stderr",
     "output_type": "stream",
     "text": [
      "Lossy conversion from float64 to uint8. Range [-1.7764642465499474, 2.0763054944957715]. Convert image to uint8 prior to saving to suppress this warning.\n",
      "Lossy conversion from float64 to uint8. Range [-1.773596630893961, 1.9167154473785792]. Convert image to uint8 prior to saving to suppress this warning.\n",
      "Lossy conversion from float64 to uint8. Range [-1.771034083133154, 1.9427509191276144]. Convert image to uint8 prior to saving to suppress this warning.\n",
      "Lossy conversion from float64 to uint8. Range [-1.7753970641392913, 2.1930569273747884]. Convert image to uint8 prior to saving to suppress this warning.\n",
      "Lossy conversion from float64 to uint8. Range [-1.7801124126635304, 2.2426414781621884]. Convert image to uint8 prior to saving to suppress this warning.\n",
      "Lossy conversion from float64 to uint8. Range [-1.7771504031601246, 2.2955542299676597]. Convert image to uint8 prior to saving to suppress this warning.\n",
      "Lossy conversion from float64 to uint8. Range [-1.7740576131563517, 2.2642954782800513]. Convert image to uint8 prior to saving to suppress this warning.\n",
      "Lossy conversion from float64 to uint8. Range [-1.7735141757179222, 2.228690087901465]. Convert image to uint8 prior to saving to suppress this warning.\n",
      "Lossy conversion from float64 to uint8. Range [-1.773052102273806, 2.2462238069819747]. Convert image to uint8 prior to saving to suppress this warning.\n",
      "Lossy conversion from float64 to uint8. Range [-1.7723149322591616, 2.2433190268432917]. Convert image to uint8 prior to saving to suppress this warning.\n",
      "Lossy conversion from float64 to uint8. Range [-1.7716480820647296, 2.265820696459346]. Convert image to uint8 prior to saving to suppress this warning.\n",
      "Lossy conversion from float64 to uint8. Range [-1.7710777824162527, 2.2844327259054635]. Convert image to uint8 prior to saving to suppress this warning.\n",
      "Lossy conversion from float64 to uint8. Range [-1.7705697007473427, 2.2385000369280292]. Convert image to uint8 prior to saving to suppress this warning.\n",
      "Lossy conversion from float64 to uint8. Range [-1.7581146133205854, 3.8252323620221045]. Convert image to uint8 prior to saving to suppress this warning.\n",
      "34it [03:20,  4.81s/it]"
     ]
    },
    {
     "name": "stdout",
     "output_type": "stream",
     "text": [
      "No relevant nodules for patient LIDC-IDRI-0367\n"
     ]
    },
    {
     "name": "stderr",
     "output_type": "stream",
     "text": [
      "35it [03:21,  3.75s/it]"
     ]
    },
    {
     "name": "stdout",
     "output_type": "stream",
     "text": [
      "No relevant nodules for patient LIDC-IDRI-0166\n"
     ]
    },
    {
     "name": "stderr",
     "output_type": "stream",
     "text": [
      "Lossy conversion from float64 to uint8. Range [-1.662911762123093, 2.361103871626752]. Convert image to uint8 prior to saving to suppress this warning.\n",
      "Lossy conversion from float64 to uint8. Range [-1.6611477663826895, 2.4503553707033388]. Convert image to uint8 prior to saving to suppress this warning.\n",
      "Lossy conversion from float64 to uint8. Range [-1.6571101859930493, 2.359935799814519]. Convert image to uint8 prior to saving to suppress this warning.\n",
      "Lossy conversion from float64 to uint8. Range [-1.6348572502654175, 2.4863700930362187]. Convert image to uint8 prior to saving to suppress this warning.\n",
      "Lossy conversion from float64 to uint8. Range [-1.6394266314494355, 2.926071944680489]. Convert image to uint8 prior to saving to suppress this warning.\n",
      "Lossy conversion from float64 to uint8. Range [-1.6362762897487526, 2.8846578197151476]. Convert image to uint8 prior to saving to suppress this warning.\n",
      "Lossy conversion from float64 to uint8. Range [-1.634421651614569, 2.821830045838799]. Convert image to uint8 prior to saving to suppress this warning.\n",
      "Lossy conversion from float64 to uint8. Range [-1.6342125674550296, 2.6325158571482663]. Convert image to uint8 prior to saving to suppress this warning.\n",
      "Lossy conversion from float64 to uint8. Range [-1.634416794492745, 2.5365604275385296]. Convert image to uint8 prior to saving to suppress this warning.\n",
      "Lossy conversion from float64 to uint8. Range [-1.6356008996512958, 2.5349607485263386]. Convert image to uint8 prior to saving to suppress this warning.\n",
      "Lossy conversion from float64 to uint8. Range [-1.5885073294915564, 4.769720162315836]. Convert image to uint8 prior to saving to suppress this warning.\n",
      "Lossy conversion from float64 to uint8. Range [-1.586138882811395, 4.826274904283231]. Convert image to uint8 prior to saving to suppress this warning.\n",
      "37it [03:29,  3.46s/it]"
     ]
    },
    {
     "name": "stdout",
     "output_type": "stream",
     "text": [
      "No relevant nodules for patient LIDC-IDRI-0226\n"
     ]
    },
    {
     "name": "stderr",
     "output_type": "stream",
     "text": [
      "Lossy conversion from float64 to uint8. Range [-1.8349657878072696, 1.974206746085185]. Convert image to uint8 prior to saving to suppress this warning.\n",
      "Lossy conversion from float64 to uint8. Range [-1.8346582765019441, 1.9505078302943477]. Convert image to uint8 prior to saving to suppress this warning.\n",
      "Lossy conversion from float64 to uint8. Range [-1.7909610362448758, 2.100720424077373]. Convert image to uint8 prior to saving to suppress this warning.\n",
      "Lossy conversion from float64 to uint8. Range [-1.7451526849102914, 2.209521162997656]. Convert image to uint8 prior to saving to suppress this warning.\n",
      "Lossy conversion from float64 to uint8. Range [-1.6578864140972542, 2.104465727576983]. Convert image to uint8 prior to saving to suppress this warning.\n",
      "Lossy conversion from float64 to uint8. Range [-1.65642283794731, 2.3057920961548954]. Convert image to uint8 prior to saving to suppress this warning.\n",
      "Lossy conversion from float64 to uint8. Range [-1.6524386665346251, 2.2462479050732482]. Convert image to uint8 prior to saving to suppress this warning.\n",
      "Lossy conversion from float64 to uint8. Range [-1.6497361449876309, 2.414742933948004]. Convert image to uint8 prior to saving to suppress this warning.\n",
      "Lossy conversion from float64 to uint8. Range [-1.6490332815514814, 2.3115668292387257]. Convert image to uint8 prior to saving to suppress this warning.\n",
      "Lossy conversion from float64 to uint8. Range [-1.649610511715935, 2.346718889858176]. Convert image to uint8 prior to saving to suppress this warning.\n",
      "Lossy conversion from float64 to uint8. Range [-1.6278020048087192, 2.8139628389670097]. Convert image to uint8 prior to saving to suppress this warning.\n",
      "Lossy conversion from float64 to uint8. Range [-1.6115518262918012, 4.38790355865844]. Convert image to uint8 prior to saving to suppress this warning.\n",
      "39it [03:36,  3.38s/it]"
     ]
    },
    {
     "name": "stdout",
     "output_type": "stream",
     "text": [
      "No relevant nodules for patient LIDC-IDRI-0693\n"
     ]
    },
    {
     "name": "stderr",
     "output_type": "stream",
     "text": [
      "Lossy conversion from float64 to uint8. Range [-1.692702087152907, 2.351570933353606]. Convert image to uint8 prior to saving to suppress this warning.\n",
      "Lossy conversion from float64 to uint8. Range [-1.7062655215704465, 2.253810817396529]. Convert image to uint8 prior to saving to suppress this warning.\n",
      "Lossy conversion from float64 to uint8. Range [-1.7220441334738246, 2.2719163038239403]. Convert image to uint8 prior to saving to suppress this warning.\n",
      "Lossy conversion from float64 to uint8. Range [-1.703079843348198, 2.2280169780978993]. Convert image to uint8 prior to saving to suppress this warning.\n",
      "Lossy conversion from float64 to uint8. Range [-1.663805354032204, 2.437279495077483]. Convert image to uint8 prior to saving to suppress this warning.\n",
      "Lossy conversion from float64 to uint8. Range [-1.6348102061738232, 2.605867749385671]. Convert image to uint8 prior to saving to suppress this warning.\n",
      "Lossy conversion from float64 to uint8. Range [-1.6275668782377077, 2.6338440257167046]. Convert image to uint8 prior to saving to suppress this warning.\n",
      "Lossy conversion from float64 to uint8. Range [-1.599994536831885, 3.323533355571082]. Convert image to uint8 prior to saving to suppress this warning.\n",
      "Lossy conversion from float64 to uint8. Range [-1.6084628734662703, 4.10768956102678]. Convert image to uint8 prior to saving to suppress this warning.\n",
      "Lossy conversion from float64 to uint8. Range [-1.61122554262158, 3.905729365278242]. Convert image to uint8 prior to saving to suppress this warning.\n",
      "Lossy conversion from float64 to uint8. Range [-1.6147416048605876, 3.4296616685329644]. Convert image to uint8 prior to saving to suppress this warning.\n",
      "Lossy conversion from float64 to uint8. Range [-1.6144460548488047, 3.0531006098495976]. Convert image to uint8 prior to saving to suppress this warning.\n",
      "Lossy conversion from float64 to uint8. Range [-1.6109234964288153, 3.1996933622353527]. Convert image to uint8 prior to saving to suppress this warning.\n",
      "Lossy conversion from float64 to uint8. Range [-1.6095898636448283, 3.6393516346958696]. Convert image to uint8 prior to saving to suppress this warning.\n",
      "Lossy conversion from float64 to uint8. Range [-1.6081653382002121, 3.8775992215866855]. Convert image to uint8 prior to saving to suppress this warning.\n",
      "Lossy conversion from float64 to uint8. Range [-1.6049861234321863, 3.2425714978312996]. Convert image to uint8 prior to saving to suppress this warning.\n",
      "Lossy conversion from float64 to uint8. Range [-1.6002834978127014, 3.956872335866131]. Convert image to uint8 prior to saving to suppress this warning.\n",
      "Lossy conversion from float64 to uint8. Range [-1.6003998292403547, 3.6471828819209304]. Convert image to uint8 prior to saving to suppress this warning.\n",
      "Lossy conversion from float64 to uint8. Range [-1.60075063746186, 4.0910115586777485]. Convert image to uint8 prior to saving to suppress this warning.\n",
      "Lossy conversion from float64 to uint8. Range [-1.6016019868724805, 4.237779911695703]. Convert image to uint8 prior to saving to suppress this warning.\n",
      "Lossy conversion from float64 to uint8. Range [-1.6047207364786098, 3.7078444422580983]. Convert image to uint8 prior to saving to suppress this warning.\n",
      "Lossy conversion from float64 to uint8. Range [-1.6029370142422725, 4.068980944978077]. Convert image to uint8 prior to saving to suppress this warning.\n",
      "Lossy conversion from float64 to uint8. Range [-1.6016565909747549, 4.4327989050623815]. Convert image to uint8 prior to saving to suppress this warning.\n",
      "Lossy conversion from float64 to uint8. Range [-1.6021908840836054, 4.930665254365613]. Convert image to uint8 prior to saving to suppress this warning.\n",
      "Lossy conversion from float64 to uint8. Range [-1.6008156482170175, 4.672531213764183]. Convert image to uint8 prior to saving to suppress this warning.\n",
      "Lossy conversion from float64 to uint8. Range [-1.5974973508356187, 4.45157508705934]. Convert image to uint8 prior to saving to suppress this warning.\n",
      "Lossy conversion from float64 to uint8. Range [-1.5940439798988728, 4.141614226404372]. Convert image to uint8 prior to saving to suppress this warning.\n",
      "Lossy conversion from float64 to uint8. Range [-1.5300197459575018, 4.478228670168986]. Convert image to uint8 prior to saving to suppress this warning.\n",
      "Lossy conversion from float64 to uint8. Range [-1.5406631793793661, 4.510742621757565]. Convert image to uint8 prior to saving to suppress this warning.\n",
      "Lossy conversion from float64 to uint8. Range [-1.5781983563593784, 4.616769032444972]. Convert image to uint8 prior to saving to suppress this warning.\n",
      "41it [03:52,  5.11s/it]"
     ]
    },
    {
     "name": "stdout",
     "output_type": "stream",
     "text": [
      "No relevant nodules for patient LIDC-IDRI-0690\n"
     ]
    },
    {
     "name": "stderr",
     "output_type": "stream",
     "text": [
      "42it [03:53,  3.85s/it]"
     ]
    },
    {
     "name": "stdout",
     "output_type": "stream",
     "text": [
      "No relevant nodules for patient LIDC-IDRI-0383\n"
     ]
    },
    {
     "name": "stderr",
     "output_type": "stream",
     "text": [
      "43it [03:54,  3.00s/it]"
     ]
    },
    {
     "name": "stdout",
     "output_type": "stream",
     "text": [
      "No relevant nodules for patient LIDC-IDRI-0127\n"
     ]
    },
    {
     "name": "stderr",
     "output_type": "stream",
     "text": [
      "Lossy conversion from float64 to uint8. Range [-1.8405412115302988, 1.8701819932807993]. Convert image to uint8 prior to saving to suppress this warning.\n",
      "Lossy conversion from float64 to uint8. Range [-1.850007196506573, 1.7765938386287703]. Convert image to uint8 prior to saving to suppress this warning.\n",
      "Lossy conversion from float64 to uint8. Range [-1.8544198325026267, 1.778278835165867]. Convert image to uint8 prior to saving to suppress this warning.\n",
      "Lossy conversion from float64 to uint8. Range [-1.8482299691674327, 1.755683048375868]. Convert image to uint8 prior to saving to suppress this warning.\n",
      "Lossy conversion from float64 to uint8. Range [-1.8175511725639597, 1.9537918649643549]. Convert image to uint8 prior to saving to suppress this warning.\n",
      "Lossy conversion from float64 to uint8. Range [-1.8129674433907665, 2.011197786303996]. Convert image to uint8 prior to saving to suppress this warning.\n",
      "Lossy conversion from float64 to uint8. Range [-1.8113583218292564, 1.9540594265486102]. Convert image to uint8 prior to saving to suppress this warning.\n",
      "Lossy conversion from float64 to uint8. Range [-1.7968174845351013, 2.2178377765303328]. Convert image to uint8 prior to saving to suppress this warning.\n",
      "Lossy conversion from float64 to uint8. Range [-1.7978628335149405, 2.1230578318444295]. Convert image to uint8 prior to saving to suppress this warning.\n",
      "Lossy conversion from float64 to uint8. Range [-1.7975663617588697, 2.097574861717787]. Convert image to uint8 prior to saving to suppress this warning.\n",
      "Lossy conversion from float64 to uint8. Range [-1.7972444563324597, 2.096968804548517]. Convert image to uint8 prior to saving to suppress this warning.\n",
      "Lossy conversion from float64 to uint8. Range [-1.7970885713567153, 2.084213369396864]. Convert image to uint8 prior to saving to suppress this warning.\n",
      "Lossy conversion from float64 to uint8. Range [-1.7971565802433562, 2.114954540365541]. Convert image to uint8 prior to saving to suppress this warning.\n",
      "Lossy conversion from float64 to uint8. Range [-1.7974028473447623, 2.147965843764846]. Convert image to uint8 prior to saving to suppress this warning.\n",
      "Lossy conversion from float64 to uint8. Range [-1.7976547320628402, 2.0882756424979645]. Convert image to uint8 prior to saving to suppress this warning.\n",
      "Lossy conversion from float64 to uint8. Range [-1.7980426806200125, 2.0863859891505876]. Convert image to uint8 prior to saving to suppress this warning.\n",
      "Lossy conversion from float64 to uint8. Range [-1.7984864143002974, 2.078675835172771]. Convert image to uint8 prior to saving to suppress this warning.\n",
      "Lossy conversion from float64 to uint8. Range [-1.7987519222525488, 2.0720624317450707]. Convert image to uint8 prior to saving to suppress this warning.\n",
      "Lossy conversion from float64 to uint8. Range [-1.7985523724408887, 2.0761514174192772]. Convert image to uint8 prior to saving to suppress this warning.\n",
      "Lossy conversion from float64 to uint8. Range [-1.7981836781787024, 2.0589843742511]. Convert image to uint8 prior to saving to suppress this warning.\n",
      "Lossy conversion from float64 to uint8. Range [-1.7982424529986492, 2.1170218340451235]. Convert image to uint8 prior to saving to suppress this warning.\n",
      "Lossy conversion from float64 to uint8. Range [-1.7964177944009458, 2.157298548668235]. Convert image to uint8 prior to saving to suppress this warning.\n",
      "Lossy conversion from float64 to uint8. Range [-1.7946383345347576, 2.099063904253601]. Convert image to uint8 prior to saving to suppress this warning.\n",
      "Lossy conversion from float64 to uint8. Range [-1.7939041430809768, 2.1015575012662975]. Convert image to uint8 prior to saving to suppress this warning.\n",
      "Lossy conversion from float64 to uint8. Range [-1.7913482760773427, 2.0702241166752393]. Convert image to uint8 prior to saving to suppress this warning.\n",
      "Lossy conversion from float64 to uint8. Range [-1.7908637430972183, 2.031520285505229]. Convert image to uint8 prior to saving to suppress this warning.\n",
      "Lossy conversion from float64 to uint8. Range [-1.7904831193413544, 2.0354251874922116]. Convert image to uint8 prior to saving to suppress this warning.\n",
      "Lossy conversion from float64 to uint8. Range [-1.7900632580025455, 2.1348845765571203]. Convert image to uint8 prior to saving to suppress this warning.\n",
      "Lossy conversion from float64 to uint8. Range [-1.789832937954021, 2.1290826308550703]. Convert image to uint8 prior to saving to suppress this warning.\n",
      "Lossy conversion from float64 to uint8. Range [-1.7896121444500224, 2.1247290773519656]. Convert image to uint8 prior to saving to suppress this warning.\n",
      "Lossy conversion from float64 to uint8. Range [-1.7894686255709786, 2.0880181737175096]. Convert image to uint8 prior to saving to suppress this warning.\n",
      "Lossy conversion from float64 to uint8. Range [-1.7893726848001215, 2.0010061050883814]. Convert image to uint8 prior to saving to suppress this warning.\n",
      "Lossy conversion from float64 to uint8. Range [-1.7851798472918605, 2.1645947869698876]. Convert image to uint8 prior to saving to suppress this warning.\n",
      "Lossy conversion from float64 to uint8. Range [-1.784927898083086, 2.182251412922084]. Convert image to uint8 prior to saving to suppress this warning.\n",
      "Lossy conversion from float64 to uint8. Range [-1.7798967206720913, 2.6239660645252716]. Convert image to uint8 prior to saving to suppress this warning.\n",
      "Lossy conversion from float64 to uint8. Range [-1.77973474452202, 2.336616090013956]. Convert image to uint8 prior to saving to suppress this warning.\n",
      "Lossy conversion from float64 to uint8. Range [-1.777929895334294, 2.312403733132583]. Convert image to uint8 prior to saving to suppress this warning.\n",
      "Lossy conversion from float64 to uint8. Range [-1.7740114947950978, 2.3713825024283324]. Convert image to uint8 prior to saving to suppress this warning.\n",
      "Lossy conversion from float64 to uint8. Range [-1.764722999622078, 2.231039354026755]. Convert image to uint8 prior to saving to suppress this warning.\n",
      "Lossy conversion from float64 to uint8. Range [-1.761358582075501, 2.317107778951788]. Convert image to uint8 prior to saving to suppress this warning.\n",
      "44it [04:18,  9.13s/it]Lossy conversion from float64 to uint8. Range [-1.207905390133161, 5.331428218358477]. Convert image to uint8 prior to saving to suppress this warning.\n",
      "Lossy conversion from float64 to uint8. Range [-1.2164530677064935, 4.581925034390442]. Convert image to uint8 prior to saving to suppress this warning.\n",
      "Lossy conversion from float64 to uint8. Range [-1.2562760855733053, 4.912544116650136]. Convert image to uint8 prior to saving to suppress this warning.\n",
      "Lossy conversion from float64 to uint8. Range [-1.2672738606048766, 4.241293041135714]. Convert image to uint8 prior to saving to suppress this warning.\n",
      "Lossy conversion from float64 to uint8. Range [-1.428836323026511, 4.971265236357377]. Convert image to uint8 prior to saving to suppress this warning.\n",
      "Lossy conversion from float64 to uint8. Range [-1.3729490256732702, 4.959152047302051]. Convert image to uint8 prior to saving to suppress this warning.\n",
      "Lossy conversion from float64 to uint8. Range [-1.1792257424654653, 6.021912020171828]. Convert image to uint8 prior to saving to suppress this warning.\n",
      "Lossy conversion from float64 to uint8. Range [-1.0799774221597325, 6.067035562614365]. Convert image to uint8 prior to saving to suppress this warning.\n",
      "Lossy conversion from float64 to uint8. Range [-0.9826091623137797, 5.532508872473824]. Convert image to uint8 prior to saving to suppress this warning.\n",
      "Lossy conversion from float64 to uint8. Range [-0.98667244023256, 5.420891385888301]. Convert image to uint8 prior to saving to suppress this warning.\n",
      "Lossy conversion from float64 to uint8. Range [-0.9908963277816552, 5.65893018483395]. Convert image to uint8 prior to saving to suppress this warning.\n",
      "Lossy conversion from float64 to uint8. Range [-0.9944856927739832, 5.981400935885717]. Convert image to uint8 prior to saving to suppress this warning.\n",
      "Lossy conversion from float64 to uint8. Range [-0.9979443402911324, 6.21126094377052]. Convert image to uint8 prior to saving to suppress this warning.\n",
      "Lossy conversion from float64 to uint8. Range [-1.001688874660065, 6.519258281056404]. Convert image to uint8 prior to saving to suppress this warning.\n",
      "Lossy conversion from float64 to uint8. Range [-1.0059029982283978, 6.747509518835975]. Convert image to uint8 prior to saving to suppress this warning.\n",
      "Lossy conversion from float64 to uint8. Range [-1.0109570855528838, 6.147388116471229]. Convert image to uint8 prior to saving to suppress this warning.\n",
      "Lossy conversion from float64 to uint8. Range [-1.0174637974737735, 6.938616415003366]. Convert image to uint8 prior to saving to suppress this warning.\n",
      "Lossy conversion from float64 to uint8. Range [-1.0243389918701946, 7.373783070553977]. Convert image to uint8 prior to saving to suppress this warning.\n",
      "Lossy conversion from float64 to uint8. Range [-1.031364701807103, 7.36115985171621]. Convert image to uint8 prior to saving to suppress this warning.\n",
      "Lossy conversion from float64 to uint8. Range [-1.0373234203630541, 7.339745775507323]. Convert image to uint8 prior to saving to suppress this warning.\n",
      "Lossy conversion from float64 to uint8. Range [-1.0419123756283897, 7.316196287578363]. Convert image to uint8 prior to saving to suppress this warning.\n",
      "Lossy conversion from float64 to uint8. Range [-1.0478048984393762, 7.309082056606057]. Convert image to uint8 prior to saving to suppress this warning.\n",
      "Lossy conversion from float64 to uint8. Range [-1.055019199707308, 7.308068389439479]. Convert image to uint8 prior to saving to suppress this warning.\n",
      "Lossy conversion from float64 to uint8. Range [-1.0621985706632529, 7.301451905245142]. Convert image to uint8 prior to saving to suppress this warning.\n",
      "Lossy conversion from float64 to uint8. Range [-1.068208717845951, 7.290681421032903]. Convert image to uint8 prior to saving to suppress this warning.\n",
      "Lossy conversion from float64 to uint8. Range [-1.0729798434264028, 7.272960806738217]. Convert image to uint8 prior to saving to suppress this warning.\n",
      "Lossy conversion from float64 to uint8. Range [-1.076408379417193, 7.244877582654354]. Convert image to uint8 prior to saving to suppress this warning.\n",
      "Lossy conversion from float64 to uint8. Range [-1.093744957109665, 7.190093815275391]. Convert image to uint8 prior to saving to suppress this warning.\n",
      "Lossy conversion from float64 to uint8. Range [-1.1222431181923294, 6.951312372603246]. Convert image to uint8 prior to saving to suppress this warning.\n",
      "Lossy conversion from float64 to uint8. Range [-1.1232328017817361, 7.278335531459368]. Convert image to uint8 prior to saving to suppress this warning.\n",
      "Lossy conversion from float64 to uint8. Range [-1.10824732965875, 7.273592154422362]. Convert image to uint8 prior to saving to suppress this warning.\n",
      "Lossy conversion from float64 to uint8. Range [-1.0655686103065654, 7.542203070982063]. Convert image to uint8 prior to saving to suppress this warning.\n",
      "Lossy conversion from float64 to uint8. Range [-1.0466516067339104, 7.507932900751928]. Convert image to uint8 prior to saving to suppress this warning.\n",
      "Lossy conversion from float64 to uint8. Range [-0.9949940395419443, 7.790258240875625]. Convert image to uint8 prior to saving to suppress this warning.\n",
      "Lossy conversion from float64 to uint8. Range [-0.9886233116631984, 7.515880418861123]. Convert image to uint8 prior to saving to suppress this warning.\n",
      "Lossy conversion from float64 to uint8. Range [-0.9848776275264817, 7.380084004366516]. Convert image to uint8 prior to saving to suppress this warning.\n",
      "Lossy conversion from float64 to uint8. Range [-0.9846696374362709, 7.20062170962707]. Convert image to uint8 prior to saving to suppress this warning.\n",
      "Lossy conversion from float64 to uint8. Range [-0.9537416828492041, 7.355075977455828]. Convert image to uint8 prior to saving to suppress this warning.\n",
      "45it [04:38, 12.68s/it]Lossy conversion from float64 to uint8. Range [-1.8282108304344729, 1.7454913105999568]. Convert image to uint8 prior to saving to suppress this warning.\n",
      "Lossy conversion from float64 to uint8. Range [-1.825254795038821, 1.6670375067883345]. Convert image to uint8 prior to saving to suppress this warning.\n",
      "Lossy conversion from float64 to uint8. Range [-1.7995732343992816, 1.7898704952719005]. Convert image to uint8 prior to saving to suppress this warning.\n",
      "Lossy conversion from float64 to uint8. Range [-1.79555806549496, 1.9288650616766831]. Convert image to uint8 prior to saving to suppress this warning.\n",
      "Lossy conversion from float64 to uint8. Range [-1.7963864489481047, 1.8844678132901675]. Convert image to uint8 prior to saving to suppress this warning.\n",
      "Lossy conversion from float64 to uint8. Range [-1.7923209906437154, 2.0144131049729745]. Convert image to uint8 prior to saving to suppress this warning.\n",
      "Lossy conversion from float64 to uint8. Range [-1.7825835282076021, 1.833220876003606]. Convert image to uint8 prior to saving to suppress this warning.\n",
      "Lossy conversion from float64 to uint8. Range [-1.7809008268889757, 1.8111483327270512]. Convert image to uint8 prior to saving to suppress this warning.\n",
      "Lossy conversion from float64 to uint8. Range [-1.782281874181328, 2.0194822499534455]. Convert image to uint8 prior to saving to suppress this warning.\n",
      "Lossy conversion from float64 to uint8. Range [-1.7795073616601977, 1.756119019564823]. Convert image to uint8 prior to saving to suppress this warning.\n",
      "Lossy conversion from float64 to uint8. Range [-1.770840528984226, 1.8256824217584005]. Convert image to uint8 prior to saving to suppress this warning.\n",
      "Lossy conversion from float64 to uint8. Range [-1.744395438539022, 2.069508023694166]. Convert image to uint8 prior to saving to suppress this warning.\n",
      "Lossy conversion from float64 to uint8. Range [-1.698218815035034, 2.319019833952158]. Convert image to uint8 prior to saving to suppress this warning.\n",
      "Lossy conversion from float64 to uint8. Range [-1.6980534539271621, 2.4462862421758547]. Convert image to uint8 prior to saving to suppress this warning.\n",
      "Lossy conversion from float64 to uint8. Range [-1.694739597233479, 2.201232025491455]. Convert image to uint8 prior to saving to suppress this warning.\n",
      "Lossy conversion from float64 to uint8. Range [-1.6939567421978667, 2.164727514216736]. Convert image to uint8 prior to saving to suppress this warning.\n",
      "Lossy conversion from float64 to uint8. Range [-1.6926787700182602, 2.1512998708465796]. Convert image to uint8 prior to saving to suppress this warning.\n",
      "Lossy conversion from float64 to uint8. Range [-1.6927114999422135, 2.1290085764661444]. Convert image to uint8 prior to saving to suppress this warning.\n",
      "Lossy conversion from float64 to uint8. Range [-1.692515154099499, 2.111798803408154]. Convert image to uint8 prior to saving to suppress this warning.\n",
      "Lossy conversion from float64 to uint8. Range [-1.6960804026705785, 2.241973770153552]. Convert image to uint8 prior to saving to suppress this warning.\n",
      "Lossy conversion from float64 to uint8. Range [-1.6968280157047693, 2.3737653650756476]. Convert image to uint8 prior to saving to suppress this warning.\n",
      "Lossy conversion from float64 to uint8. Range [-1.6948064455932843, 2.252093376396691]. Convert image to uint8 prior to saving to suppress this warning.\n",
      "Lossy conversion from float64 to uint8. Range [-1.6933351211704473, 2.283498687758472]. Convert image to uint8 prior to saving to suppress this warning.\n",
      "Lossy conversion from float64 to uint8. Range [-1.6926683379553125, 2.2840262719771665]. Convert image to uint8 prior to saving to suppress this warning.\n",
      "Lossy conversion from float64 to uint8. Range [-1.6928804151304422, 2.1492409853013004]. Convert image to uint8 prior to saving to suppress this warning.\n",
      "Lossy conversion from float64 to uint8. Range [-1.6893168792087236, 2.2256538386538707]. Convert image to uint8 prior to saving to suppress this warning.\n",
      "Lossy conversion from float64 to uint8. Range [-1.6887377365053347, 2.348520862122319]. Convert image to uint8 prior to saving to suppress this warning.\n",
      "Lossy conversion from float64 to uint8. Range [-1.6879811518254897, 2.593351330506828]. Convert image to uint8 prior to saving to suppress this warning.\n",
      "Lossy conversion from float64 to uint8. Range [-1.6875869360969993, 2.5824528991115656]. Convert image to uint8 prior to saving to suppress this warning.\n",
      "Lossy conversion from float64 to uint8. Range [-1.6877348436239534, 2.505606851166563]. Convert image to uint8 prior to saving to suppress this warning.\n",
      "Lossy conversion from float64 to uint8. Range [-1.687119318662274, 2.524614679140984]. Convert image to uint8 prior to saving to suppress this warning.\n",
      "Lossy conversion from float64 to uint8. Range [-1.6889314349899864, 2.48958428918317]. Convert image to uint8 prior to saving to suppress this warning.\n",
      "Lossy conversion from float64 to uint8. Range [-1.6911680247518586, 2.44386710028509]. Convert image to uint8 prior to saving to suppress this warning.\n",
      "Lossy conversion from float64 to uint8. Range [-1.6894984426185609, 2.448154005282973]. Convert image to uint8 prior to saving to suppress this warning.\n",
      "Lossy conversion from float64 to uint8. Range [-1.688462744210646, 2.3709970758762595]. Convert image to uint8 prior to saving to suppress this warning.\n",
      "Lossy conversion from float64 to uint8. Range [-1.6866035611633736, 2.4839355868352566]. Convert image to uint8 prior to saving to suppress this warning.\n",
      "Lossy conversion from float64 to uint8. Range [-1.6712666786691304, 5.146831018673545]. Convert image to uint8 prior to saving to suppress this warning.\n",
      "Lossy conversion from float64 to uint8. Range [-1.6593861559676224, 5.993283466670377]. Convert image to uint8 prior to saving to suppress this warning.\n",
      "Lossy conversion from float64 to uint8. Range [-1.6428467046557345, 4.500241142111145]. Convert image to uint8 prior to saving to suppress this warning.\n",
      "Lossy conversion from float64 to uint8. Range [-1.6355027164013587, 4.583226112332385]. Convert image to uint8 prior to saving to suppress this warning.\n",
      "Lossy conversion from float64 to uint8. Range [-1.626896512275241, 6.578952966703796]. Convert image to uint8 prior to saving to suppress this warning.\n",
      "Lossy conversion from float64 to uint8. Range [-1.621222394607071, 4.938508454871539]. Convert image to uint8 prior to saving to suppress this warning.\n",
      "46it [04:59, 15.15s/it]Lossy conversion from float64 to uint8. Range [-1.5835915356538879, 2.619315039376949]. Convert image to uint8 prior to saving to suppress this warning.\n",
      "Lossy conversion from float64 to uint8. Range [-1.5860353546071424, 2.9261412108454623]. Convert image to uint8 prior to saving to suppress this warning.\n",
      "Lossy conversion from float64 to uint8. Range [-1.5848640900937656, 3.040017997581294]. Convert image to uint8 prior to saving to suppress this warning.\n",
      "Lossy conversion from float64 to uint8. Range [-1.5841172901071077, 3.702012686125148]. Convert image to uint8 prior to saving to suppress this warning.\n",
      "Lossy conversion from float64 to uint8. Range [-1.584592965832965, 3.657884192812556]. Convert image to uint8 prior to saving to suppress this warning.\n",
      "Lossy conversion from float64 to uint8. Range [-1.5878468006028439, 2.9714064970734104]. Convert image to uint8 prior to saving to suppress this warning.\n",
      "Lossy conversion from float64 to uint8. Range [-1.590228923240911, 2.8565491580483835]. Convert image to uint8 prior to saving to suppress this warning.\n",
      "Lossy conversion from float64 to uint8. Range [-1.581103586751836, 2.6276123974246226]. Convert image to uint8 prior to saving to suppress this warning.\n",
      "Lossy conversion from float64 to uint8. Range [-1.5842370285065024, 2.885754813993365]. Convert image to uint8 prior to saving to suppress this warning.\n",
      "Lossy conversion from float64 to uint8. Range [-1.5812095777313808, 4.3413775349205155]. Convert image to uint8 prior to saving to suppress this warning.\n",
      "Lossy conversion from float64 to uint8. Range [-1.5756205705392639, 3.4939708425406626]. Convert image to uint8 prior to saving to suppress this warning.\n",
      "Lossy conversion from float64 to uint8. Range [-1.6014816897025859, 4.612416700003556]. Convert image to uint8 prior to saving to suppress this warning.\n",
      "48it [05:10,  9.87s/it]"
     ]
    },
    {
     "name": "stdout",
     "output_type": "stream",
     "text": [
      "No relevant nodules for patient LIDC-IDRI-0483\n"
     ]
    },
    {
     "name": "stderr",
     "output_type": "stream",
     "text": [
      "Lossy conversion from float64 to uint8. Range [-1.8497727594634807, 1.780063441458374]. Convert image to uint8 prior to saving to suppress this warning.\n",
      "Lossy conversion from float64 to uint8. Range [-1.85046149636423, 1.747093445851866]. Convert image to uint8 prior to saving to suppress this warning.\n",
      "Lossy conversion from float64 to uint8. Range [-1.848905112696023, 1.8511973828518418]. Convert image to uint8 prior to saving to suppress this warning.\n",
      "Lossy conversion from float64 to uint8. Range [-1.8462066477002401, 1.8148763224264315]. Convert image to uint8 prior to saving to suppress this warning.\n",
      "Lossy conversion from float64 to uint8. Range [-1.8443251198511825, 1.7343922746566447]. Convert image to uint8 prior to saving to suppress this warning.\n",
      "Lossy conversion from float64 to uint8. Range [-1.8441034392398215, 1.6871742103628902]. Convert image to uint8 prior to saving to suppress this warning.\n",
      "Lossy conversion from float64 to uint8. Range [-1.8439760458750685, 1.7075990150168834]. Convert image to uint8 prior to saving to suppress this warning.\n",
      "Lossy conversion from float64 to uint8. Range [-1.843827263290758, 1.6476821180977297]. Convert image to uint8 prior to saving to suppress this warning.\n",
      "Lossy conversion from float64 to uint8. Range [-1.8436181865030723, 1.6703510530805874]. Convert image to uint8 prior to saving to suppress this warning.\n",
      "Lossy conversion from float64 to uint8. Range [-1.8434298173733437, 1.73141137177529]. Convert image to uint8 prior to saving to suppress this warning.\n",
      "Lossy conversion from float64 to uint8. Range [-1.8431819617134655, 1.7398971008314916]. Convert image to uint8 prior to saving to suppress this warning.\n",
      "Lossy conversion from float64 to uint8. Range [-1.8429037414184628, 1.7098651461217682]. Convert image to uint8 prior to saving to suppress this warning.\n",
      "Lossy conversion from float64 to uint8. Range [-1.8426461474492535, 1.7020402278303444]. Convert image to uint8 prior to saving to suppress this warning.\n",
      "Lossy conversion from float64 to uint8. Range [-1.8423550442087455, 1.6679022373000196]. Convert image to uint8 prior to saving to suppress this warning.\n",
      "Lossy conversion from float64 to uint8. Range [-1.8419504049330586, 1.6747492944064417]. Convert image to uint8 prior to saving to suppress this warning.\n",
      "Lossy conversion from float64 to uint8. Range [-1.8414653030124908, 1.6470844897115946]. Convert image to uint8 prior to saving to suppress this warning.\n",
      "Lossy conversion from float64 to uint8. Range [-1.840937509295682, 1.70497706077389]. Convert image to uint8 prior to saving to suppress this warning.\n",
      "Lossy conversion from float64 to uint8. Range [-1.8405268575735805, 1.7119295095344798]. Convert image to uint8 prior to saving to suppress this warning.\n",
      "Lossy conversion from float64 to uint8. Range [-1.8402216349504745, 1.767199166482128]. Convert image to uint8 prior to saving to suppress this warning.\n",
      "Lossy conversion from float64 to uint8. Range [-1.8399783641446235, 1.840019422152026]. Convert image to uint8 prior to saving to suppress this warning.\n",
      "Lossy conversion from float64 to uint8. Range [-1.8320371417617967, 1.7217682523757236]. Convert image to uint8 prior to saving to suppress this warning.\n",
      "Lossy conversion from float64 to uint8. Range [-1.8222406494579635, 1.7630774618035532]. Convert image to uint8 prior to saving to suppress this warning.\n",
      "Lossy conversion from float64 to uint8. Range [-1.8039825878345583, 1.8570996270308988]. Convert image to uint8 prior to saving to suppress this warning.\n",
      "Lossy conversion from float64 to uint8. Range [-1.8013302333227506, 2.1598316486727467]. Convert image to uint8 prior to saving to suppress this warning.\n",
      "Lossy conversion from float64 to uint8. Range [-1.7923626090527025, 1.953540569368525]. Convert image to uint8 prior to saving to suppress this warning.\n",
      "Lossy conversion from float64 to uint8. Range [-1.7918553341633738, 1.9911513485061119]. Convert image to uint8 prior to saving to suppress this warning.\n",
      "Lossy conversion from float64 to uint8. Range [-1.791545128689115, 1.9675700990395815]. Convert image to uint8 prior to saving to suppress this warning.\n",
      "Lossy conversion from float64 to uint8. Range [-1.7899648811027016, 1.9997098488986256]. Convert image to uint8 prior to saving to suppress this warning.\n",
      "Lossy conversion from float64 to uint8. Range [-1.7896622114943372, 2.0602014743259893]. Convert image to uint8 prior to saving to suppress this warning.\n",
      "Lossy conversion from float64 to uint8. Range [-1.7899472349018555, 2.032066618365142]. Convert image to uint8 prior to saving to suppress this warning.\n",
      "Lossy conversion from float64 to uint8. Range [-1.7876893574188841, 2.0861916065910457]. Convert image to uint8 prior to saving to suppress this warning.\n",
      "Lossy conversion from float64 to uint8. Range [-1.787993680019384, 2.0798160017506286]. Convert image to uint8 prior to saving to suppress this warning.\n",
      "50it [05:30,  9.28s/it]"
     ]
    },
    {
     "name": "stdout",
     "output_type": "stream",
     "text": [
      "No relevant nodules for patient LIDC-IDRI-0110\n"
     ]
    },
    {
     "name": "stderr",
     "output_type": "stream",
     "text": [
      "Lossy conversion from float64 to uint8. Range [-1.6968246108731146, 1.8823995399100328]. Convert image to uint8 prior to saving to suppress this warning.\n",
      "Lossy conversion from float64 to uint8. Range [-1.7033458610345071, 1.8157012290497732]. Convert image to uint8 prior to saving to suppress this warning.\n",
      "Lossy conversion from float64 to uint8. Range [-1.7124300861000454, 2.07976022798378]. Convert image to uint8 prior to saving to suppress this warning.\n",
      "Lossy conversion from float64 to uint8. Range [-1.7128000810150406, 1.9546412889803462]. Convert image to uint8 prior to saving to suppress this warning.\n",
      "Lossy conversion from float64 to uint8. Range [-1.6912345487990028, 1.9301591402006821]. Convert image to uint8 prior to saving to suppress this warning.\n",
      "Lossy conversion from float64 to uint8. Range [-1.655746996783085, 2.1644337773382327]. Convert image to uint8 prior to saving to suppress this warning.\n",
      "Lossy conversion from float64 to uint8. Range [-1.6252550498616318, 2.444025189756058]. Convert image to uint8 prior to saving to suppress this warning.\n",
      "Lossy conversion from float64 to uint8. Range [-1.6237133290785175, 2.350231996321031]. Convert image to uint8 prior to saving to suppress this warning.\n",
      "Lossy conversion from float64 to uint8. Range [-1.6226413332681757, 2.6554845789447]. Convert image to uint8 prior to saving to suppress this warning.\n",
      "Lossy conversion from float64 to uint8. Range [-1.6211097064782525, 2.1962842681062895]. Convert image to uint8 prior to saving to suppress this warning.\n",
      "Lossy conversion from float64 to uint8. Range [-1.6192044632337037, 2.317488802681177]. Convert image to uint8 prior to saving to suppress this warning.\n",
      "Lossy conversion from float64 to uint8. Range [-1.616266203447888, 2.3341127677843665]. Convert image to uint8 prior to saving to suppress this warning.\n",
      "Lossy conversion from float64 to uint8. Range [-1.6144165974985565, 2.468720310050634]. Convert image to uint8 prior to saving to suppress this warning.\n",
      "Lossy conversion from float64 to uint8. Range [-1.6135202168203011, 2.1510201180919784]. Convert image to uint8 prior to saving to suppress this warning.\n",
      "Lossy conversion from float64 to uint8. Range [-1.6101001935729484, 2.3016116103274906]. Convert image to uint8 prior to saving to suppress this warning.\n",
      "Lossy conversion from float64 to uint8. Range [-1.6080478114777232, 2.487155232751826]. Convert image to uint8 prior to saving to suppress this warning.\n",
      "Lossy conversion from float64 to uint8. Range [-1.6246968846013106, 3.0999750548269143]. Convert image to uint8 prior to saving to suppress this warning.\n",
      "Lossy conversion from float64 to uint8. Range [-1.630216980814382, 3.234773824705542]. Convert image to uint8 prior to saving to suppress this warning.\n",
      "Lossy conversion from float64 to uint8. Range [-1.6245897100778584, 3.657541563455042]. Convert image to uint8 prior to saving to suppress this warning.\n",
      "Lossy conversion from float64 to uint8. Range [-1.6191836762895861, 5.285433628323876]. Convert image to uint8 prior to saving to suppress this warning.\n",
      "Lossy conversion from float64 to uint8. Range [-1.6187769412265478, 5.765678961170628]. Convert image to uint8 prior to saving to suppress this warning.\n",
      "Lossy conversion from float64 to uint8. Range [-1.612486246523737, 6.076712988153712]. Convert image to uint8 prior to saving to suppress this warning.\n",
      "Lossy conversion from float64 to uint8. Range [-1.6092066012202657, 6.291327348187112]. Convert image to uint8 prior to saving to suppress this warning.\n",
      "Lossy conversion from float64 to uint8. Range [-1.6088690469604252, 6.436919553410212]. Convert image to uint8 prior to saving to suppress this warning.\n",
      "Lossy conversion from float64 to uint8. Range [-1.6094574338711982, 6.391220654658711]. Convert image to uint8 prior to saving to suppress this warning.\n",
      "Lossy conversion from float64 to uint8. Range [-1.6078352371082747, 6.23043230117604]. Convert image to uint8 prior to saving to suppress this warning.\n",
      "Lossy conversion from float64 to uint8. Range [-1.6049139156883518, 6.215683640968018]. Convert image to uint8 prior to saving to suppress this warning.\n",
      "Lossy conversion from float64 to uint8. Range [-1.6023954064827668, 6.105518506268701]. Convert image to uint8 prior to saving to suppress this warning.\n",
      "Lossy conversion from float64 to uint8. Range [-1.5997019296703376, 5.424654906742994]. Convert image to uint8 prior to saving to suppress this warning.\n",
      "Lossy conversion from float64 to uint8. Range [-1.5324304623586704, 5.001625394532773]. Convert image to uint8 prior to saving to suppress this warning.\n",
      "51it [05:45,  6.78s/it]"
     ]
    },
    {
     "name": "stdout",
     "output_type": "stream",
     "text": [
      "CPU times: user 9min 16s, sys: 34.2 s, total: 9min 50s\n",
      "Wall time: 5min 45s\n"
     ]
    },
    {
     "name": "stderr",
     "output_type": "stream",
     "text": [
      "\n"
     ]
    }
   ],
   "source": [
    "%%time\n",
    "create_dataset(patient_list_val, '/app/data/lidc/dicom/val/sorted_gcsfiles/', '/app/data/yolov5/processed', 'val')"
   ]
  },
  {
   "cell_type": "code",
   "execution_count": 26,
   "id": "bridal-command",
   "metadata": {},
   "outputs": [
    {
     "name": "stderr",
     "output_type": "stream",
     "text": [
      "0it [00:00, ?it/s]"
     ]
    },
    {
     "name": "stdout",
     "output_type": "stream",
     "text": [
      "Setting DICOM dir = /app/data/lidc/dicom/test/sorted_gcsfiles/\n",
      "Saving images to /app/data/yolov5/processed/test/images, masks to /app/data/yolov5/processed/test/masks and labels to /app/data/yolov5/processed/test/labels\n",
      "Directory /app/data/temp/ present!\n"
     ]
    },
    {
     "name": "stderr",
     "output_type": "stream",
     "text": [
      "1it [00:01,  1.03s/it]"
     ]
    },
    {
     "name": "stdout",
     "output_type": "stream",
     "text": [
      "No relevant nodules for patient LIDC-IDRI-0872\n"
     ]
    },
    {
     "name": "stderr",
     "output_type": "stream",
     "text": [
      "Lossy conversion from float64 to uint8. Range [-1.6326088419583928, 4.740325552976174]. Convert image to uint8 prior to saving to suppress this warning.\n",
      "Lossy conversion from float64 to uint8. Range [-1.635273886127258, 4.730570197026122]. Convert image to uint8 prior to saving to suppress this warning.\n",
      "Lossy conversion from float64 to uint8. Range [-1.6375342587463717, 4.673219687827032]. Convert image to uint8 prior to saving to suppress this warning.\n",
      "Lossy conversion from float64 to uint8. Range [-1.6419003420689575, 4.630210632803526]. Convert image to uint8 prior to saving to suppress this warning.\n",
      "Lossy conversion from float64 to uint8. Range [-1.6492709022496834, 4.61358316536731]. Convert image to uint8 prior to saving to suppress this warning.\n",
      "Lossy conversion from float64 to uint8. Range [-1.6496953707818005, 4.61056914313486]. Convert image to uint8 prior to saving to suppress this warning.\n",
      "Lossy conversion from float64 to uint8. Range [-1.6491655699438612, 4.608967511775813]. Convert image to uint8 prior to saving to suppress this warning.\n",
      "Lossy conversion from float64 to uint8. Range [-1.6493797469378346, 4.598029810519496]. Convert image to uint8 prior to saving to suppress this warning.\n",
      "Lossy conversion from float64 to uint8. Range [-1.649122924319544, 4.594313590147576]. Convert image to uint8 prior to saving to suppress this warning.\n",
      "Lossy conversion from float64 to uint8. Range [-1.6488413011745158, 4.60384945047969]. Convert image to uint8 prior to saving to suppress this warning.\n",
      "Lossy conversion from float64 to uint8. Range [-1.6481042973998172, 4.607119653748054]. Convert image to uint8 prior to saving to suppress this warning.\n",
      "Lossy conversion from float64 to uint8. Range [-1.6474215815397502, 4.611051326753613]. Convert image to uint8 prior to saving to suppress this warning.\n",
      "Lossy conversion from float64 to uint8. Range [-1.6431912772213577, 4.634327673608607]. Convert image to uint8 prior to saving to suppress this warning.\n",
      "Lossy conversion from float64 to uint8. Range [-1.6388760442638426, 4.649028235126184]. Convert image to uint8 prior to saving to suppress this warning.\n",
      "Lossy conversion from float64 to uint8. Range [-1.6303112336276258, 4.697249071290406]. Convert image to uint8 prior to saving to suppress this warning.\n",
      "Lossy conversion from float64 to uint8. Range [-1.6251603879688128, 4.744823934503812]. Convert image to uint8 prior to saving to suppress this warning.\n",
      "Lossy conversion from float64 to uint8. Range [-1.6123144127899898, 4.915830595316553]. Convert image to uint8 prior to saving to suppress this warning.\n",
      "Lossy conversion from float64 to uint8. Range [-1.6110831894562665, 4.910527454914769]. Convert image to uint8 prior to saving to suppress this warning.\n",
      "Lossy conversion from float64 to uint8. Range [-1.6114310463773145, 4.91896662744381]. Convert image to uint8 prior to saving to suppress this warning.\n",
      "Lossy conversion from float64 to uint8. Range [-1.6113357864400846, 4.924856059850949]. Convert image to uint8 prior to saving to suppress this warning.\n",
      "Lossy conversion from float64 to uint8. Range [-1.6107784247164392, 4.92601467068191]. Convert image to uint8 prior to saving to suppress this warning.\n",
      "Lossy conversion from float64 to uint8. Range [-1.6100654063766877, 4.926767737475512]. Convert image to uint8 prior to saving to suppress this warning.\n",
      "Lossy conversion from float64 to uint8. Range [-1.608617482705379, 4.926149683472323]. Convert image to uint8 prior to saving to suppress this warning.\n",
      "Lossy conversion from float64 to uint8. Range [-1.6076326323236658, 4.931553570937648]. Convert image to uint8 prior to saving to suppress this warning.\n",
      "Lossy conversion from float64 to uint8. Range [-1.6064557909893906, 4.935885811059963]. Convert image to uint8 prior to saving to suppress this warning.\n",
      "Lossy conversion from float64 to uint8. Range [-1.6038510469292968, 4.935774050475378]. Convert image to uint8 prior to saving to suppress this warning.\n",
      "Lossy conversion from float64 to uint8. Range [-1.6015604532115797, 4.937376515013533]. Convert image to uint8 prior to saving to suppress this warning.\n",
      "Lossy conversion from float64 to uint8. Range [-1.589123266256243, 5.122954723312931]. Convert image to uint8 prior to saving to suppress this warning.\n",
      "Lossy conversion from float64 to uint8. Range [-1.5881247298950292, 5.209821591560915]. Convert image to uint8 prior to saving to suppress this warning.\n",
      "Lossy conversion from float64 to uint8. Range [-1.586940153941836, 5.243314467386386]. Convert image to uint8 prior to saving to suppress this warning.\n",
      "Lossy conversion from float64 to uint8. Range [-1.5871838719669855, 5.411634920635692]. Convert image to uint8 prior to saving to suppress this warning.\n",
      "Lossy conversion from float64 to uint8. Range [-1.5890616998517328, 5.428629445684732]. Convert image to uint8 prior to saving to suppress this warning.\n",
      "Lossy conversion from float64 to uint8. Range [-1.5871817422756802, 5.424964145375516]. Convert image to uint8 prior to saving to suppress this warning.\n",
      "Lossy conversion from float64 to uint8. Range [-1.5872402483128238, 5.448130450176858]. Convert image to uint8 prior to saving to suppress this warning.\n",
      "Lossy conversion from float64 to uint8. Range [-1.5879734725357468, 5.476256557144466]. Convert image to uint8 prior to saving to suppress this warning.\n",
      "Lossy conversion from float64 to uint8. Range [-1.5852697564790625, 5.473901924127728]. Convert image to uint8 prior to saving to suppress this warning.\n",
      "Lossy conversion from float64 to uint8. Range [-1.5837314073872115, 5.461640223892661]. Convert image to uint8 prior to saving to suppress this warning.\n",
      "Lossy conversion from float64 to uint8. Range [-1.582172935903434, 5.445007373177836]. Convert image to uint8 prior to saving to suppress this warning.\n",
      "Lossy conversion from float64 to uint8. Range [-1.5754610256859651, 5.365871366591334]. Convert image to uint8 prior to saving to suppress this warning.\n",
      "Lossy conversion from float64 to uint8. Range [-1.5774640004918121, 5.3656157989365365]. Convert image to uint8 prior to saving to suppress this warning.\n",
      "Lossy conversion from float64 to uint8. Range [-1.5772737609197895, 5.362443321937195]. Convert image to uint8 prior to saving to suppress this warning.\n",
      "Lossy conversion from float64 to uint8. Range [-1.5724583714458884, 5.3152293113294915]. Convert image to uint8 prior to saving to suppress this warning.\n",
      "Lossy conversion from float64 to uint8. Range [-1.571874388310098, 5.301009373616289]. Convert image to uint8 prior to saving to suppress this warning.\n",
      "Lossy conversion from float64 to uint8. Range [-1.5713833295191755, 5.275333444397684]. Convert image to uint8 prior to saving to suppress this warning.\n",
      "Lossy conversion from float64 to uint8. Range [-1.5695882495812667, 5.258460153781566]. Convert image to uint8 prior to saving to suppress this warning.\n",
      "Lossy conversion from float64 to uint8. Range [-1.5666775569300382, 5.211538208065947]. Convert image to uint8 prior to saving to suppress this warning.\n",
      "Lossy conversion from float64 to uint8. Range [-1.5693297104180242, 5.209472721644098]. Convert image to uint8 prior to saving to suppress this warning.\n",
      "Lossy conversion from float64 to uint8. Range [-1.570644494463638, 5.207440442705186]. Convert image to uint8 prior to saving to suppress this warning.\n",
      "Lossy conversion from float64 to uint8. Range [-1.5708849339388369, 5.200161323414546]. Convert image to uint8 prior to saving to suppress this warning.\n",
      "Lossy conversion from float64 to uint8. Range [-1.5704686700551853, 5.189561927982712]. Convert image to uint8 prior to saving to suppress this warning.\n",
      "Lossy conversion from float64 to uint8. Range [-1.5710090449014675, 5.186432119348186]. Convert image to uint8 prior to saving to suppress this warning.\n",
      "Lossy conversion from float64 to uint8. Range [-1.5690680087197346, 5.171712302405365]. Convert image to uint8 prior to saving to suppress this warning.\n",
      "Lossy conversion from float64 to uint8. Range [-1.5611612240973054, 5.126442523555368]. Convert image to uint8 prior to saving to suppress this warning.\n",
      "Lossy conversion from float64 to uint8. Range [-1.5524239707520258, 5.069559882037244]. Convert image to uint8 prior to saving to suppress this warning.\n",
      "Lossy conversion from float64 to uint8. Range [-1.5422091910758078, 5.008918981086367]. Convert image to uint8 prior to saving to suppress this warning.\n",
      "Lossy conversion from float64 to uint8. Range [-1.534589933705018, 4.9567090304478905]. Convert image to uint8 prior to saving to suppress this warning.\n",
      "Lossy conversion from float64 to uint8. Range [-1.5298948622149258, 4.916298404262487]. Convert image to uint8 prior to saving to suppress this warning.\n",
      "Lossy conversion from float64 to uint8. Range [-1.5308401535255622, 4.900781287289198]. Convert image to uint8 prior to saving to suppress this warning.\n",
      "Lossy conversion from float64 to uint8. Range [-1.5366490875020853, 4.924429662434052]. Convert image to uint8 prior to saving to suppress this warning.\n",
      "Lossy conversion from float64 to uint8. Range [-1.5378195100795853, 4.936843021981767]. Convert image to uint8 prior to saving to suppress this warning.\n",
      "Lossy conversion from float64 to uint8. Range [-1.5375475631326023, 4.933667487229477]. Convert image to uint8 prior to saving to suppress this warning.\n",
      "Lossy conversion from float64 to uint8. Range [-1.538135397597662, 4.935724527395792]. Convert image to uint8 prior to saving to suppress this warning.\n",
      "Lossy conversion from float64 to uint8. Range [-1.5405929514206405, 4.949897351158]. Convert image to uint8 prior to saving to suppress this warning.\n",
      "Lossy conversion from float64 to uint8. Range [-1.547471550283329, 4.9791625252829865]. Convert image to uint8 prior to saving to suppress this warning.\n",
      "Lossy conversion from float64 to uint8. Range [-1.5577015899422364, 5.023107201451274]. Convert image to uint8 prior to saving to suppress this warning.\n",
      "Lossy conversion from float64 to uint8. Range [-1.5585188234649199, 5.025176676180946]. Convert image to uint8 prior to saving to suppress this warning.\n",
      "Lossy conversion from float64 to uint8. Range [-1.5551675102539455, 5.007186312050692]. Convert image to uint8 prior to saving to suppress this warning.\n",
      "Lossy conversion from float64 to uint8. Range [-1.5496248142188445, 4.973646424070664]. Convert image to uint8 prior to saving to suppress this warning.\n",
      "Lossy conversion from float64 to uint8. Range [-1.547095471775486, 4.950746261763831]. Convert image to uint8 prior to saving to suppress this warning.\n",
      "Lossy conversion from float64 to uint8. Range [-1.5468322082120298, 4.938727755592954]. Convert image to uint8 prior to saving to suppress this warning.\n",
      "Lossy conversion from float64 to uint8. Range [-1.5499433037231494, 4.938666709713271]. Convert image to uint8 prior to saving to suppress this warning.\n",
      "Lossy conversion from float64 to uint8. Range [-1.5534559098818193, 4.946045528033065]. Convert image to uint8 prior to saving to suppress this warning.\n",
      "Lossy conversion from float64 to uint8. Range [-1.5551310437913937, 4.944839802801625]. Convert image to uint8 prior to saving to suppress this warning.\n",
      "Lossy conversion from float64 to uint8. Range [-1.5562408821831337, 4.941415058477166]. Convert image to uint8 prior to saving to suppress this warning.\n",
      "Lossy conversion from float64 to uint8. Range [-1.5577121501173206, 4.939082143336148]. Convert image to uint8 prior to saving to suppress this warning.\n",
      "Lossy conversion from float64 to uint8. Range [-1.5596557370408566, 4.941289802036207]. Convert image to uint8 prior to saving to suppress this warning.\n",
      "Lossy conversion from float64 to uint8. Range [-1.5623446191935175, 4.950104987815274]. Convert image to uint8 prior to saving to suppress this warning.\n",
      "Lossy conversion from float64 to uint8. Range [-1.5644501170488763, 4.957908138489805]. Convert image to uint8 prior to saving to suppress this warning.\n",
      "Lossy conversion from float64 to uint8. Range [-1.5663387546175058, 4.965797620691335]. Convert image to uint8 prior to saving to suppress this warning.\n",
      "Lossy conversion from float64 to uint8. Range [-1.5715585651137765, 4.986711588707341]. Convert image to uint8 prior to saving to suppress this warning.\n",
      "Lossy conversion from float64 to uint8. Range [-1.5718045284419306, 4.9873212450777995]. Convert image to uint8 prior to saving to suppress this warning.\n",
      "Lossy conversion from float64 to uint8. Range [-1.5700970365813838, 5.032669500608809]. Convert image to uint8 prior to saving to suppress this warning.\n",
      "3it [00:41,  9.04s/it]"
     ]
    },
    {
     "name": "stdout",
     "output_type": "stream",
     "text": [
      "No relevant nodules for patient LIDC-IDRI-0472\n"
     ]
    },
    {
     "name": "stderr",
     "output_type": "stream",
     "text": [
      "Lossy conversion from float64 to uint8. Range [-1.1840139153376634, 3.7390353325219596]. Convert image to uint8 prior to saving to suppress this warning.\n",
      "Lossy conversion from float64 to uint8. Range [-1.1768673330418742, 4.146972458713566]. Convert image to uint8 prior to saving to suppress this warning.\n",
      "Lossy conversion from float64 to uint8. Range [-1.1730392534388607, 4.175710921933217]. Convert image to uint8 prior to saving to suppress this warning.\n",
      "Lossy conversion from float64 to uint8. Range [-1.1026923980994967, 4.505518809771203]. Convert image to uint8 prior to saving to suppress this warning.\n",
      "Lossy conversion from float64 to uint8. Range [-1.0991378323464016, 4.434209353522171]. Convert image to uint8 prior to saving to suppress this warning.\n",
      "Lossy conversion from float64 to uint8. Range [-1.0686618066124212, 4.436586804183315]. Convert image to uint8 prior to saving to suppress this warning.\n",
      "Lossy conversion from float64 to uint8. Range [-1.0530345735291935, 4.570572433507631]. Convert image to uint8 prior to saving to suppress this warning.\n",
      "Lossy conversion from float64 to uint8. Range [-1.0266406175627958, 4.620759775366282]. Convert image to uint8 prior to saving to suppress this warning.\n",
      "Lossy conversion from float64 to uint8. Range [-0.9447606720644585, 4.976565635045277]. Convert image to uint8 prior to saving to suppress this warning.\n",
      "Lossy conversion from float64 to uint8. Range [-0.94319851095501, 4.946696019286169]. Convert image to uint8 prior to saving to suppress this warning.\n",
      "Lossy conversion from float64 to uint8. Range [-0.9413803737985668, 4.873741687926955]. Convert image to uint8 prior to saving to suppress this warning.\n",
      "Lossy conversion from float64 to uint8. Range [-0.9393384069988101, 4.806657439718117]. Convert image to uint8 prior to saving to suppress this warning.\n",
      "Lossy conversion from float64 to uint8. Range [-0.9370649125747689, 4.889538228339108]. Convert image to uint8 prior to saving to suppress this warning.\n",
      "Lossy conversion from float64 to uint8. Range [-0.934813471121293, 5.095912186462625]. Convert image to uint8 prior to saving to suppress this warning.\n",
      "Lossy conversion from float64 to uint8. Range [-0.9311420275995562, 5.124356224195496]. Convert image to uint8 prior to saving to suppress this warning.\n",
      "Lossy conversion from float64 to uint8. Range [-0.9268865052152907, 5.000379919991976]. Convert image to uint8 prior to saving to suppress this warning.\n",
      "Lossy conversion from float64 to uint8. Range [-0.9240035211777886, 4.995983842314756]. Convert image to uint8 prior to saving to suppress this warning.\n",
      "Lossy conversion from float64 to uint8. Range [-0.9215133618506317, 5.030991355442975]. Convert image to uint8 prior to saving to suppress this warning.\n",
      "Lossy conversion from float64 to uint8. Range [-0.9188830636987348, 4.957549200788123]. Convert image to uint8 prior to saving to suppress this warning.\n",
      "Lossy conversion from float64 to uint8. Range [-0.9174180114134929, 4.913729866507833]. Convert image to uint8 prior to saving to suppress this warning.\n",
      "Lossy conversion from float64 to uint8. Range [-0.9183942156550253, 4.948970960927634]. Convert image to uint8 prior to saving to suppress this warning.\n",
      "Lossy conversion from float64 to uint8. Range [-0.9207489123618118, 4.861096931905557]. Convert image to uint8 prior to saving to suppress this warning.\n",
      "Lossy conversion from float64 to uint8. Range [-0.9234745782155317, 4.771362447641569]. Convert image to uint8 prior to saving to suppress this warning.\n",
      "Lossy conversion from float64 to uint8. Range [-0.9264632724926598, 4.708057725785157]. Convert image to uint8 prior to saving to suppress this warning.\n",
      "Lossy conversion from float64 to uint8. Range [-0.9344678223782943, 4.8282083491102155]. Convert image to uint8 prior to saving to suppress this warning.\n",
      "Lossy conversion from float64 to uint8. Range [-0.9648156858804781, 4.619657728480222]. Convert image to uint8 prior to saving to suppress this warning.\n",
      "Lossy conversion from float64 to uint8. Range [-0.9797419990012421, 4.767126490456998]. Convert image to uint8 prior to saving to suppress this warning.\n",
      "Lossy conversion from float64 to uint8. Range [-0.9827534133968272, 5.008114281508777]. Convert image to uint8 prior to saving to suppress this warning.\n",
      "Lossy conversion from float64 to uint8. Range [-0.9850938661698814, 4.9034336519777915]. Convert image to uint8 prior to saving to suppress this warning.\n",
      "Lossy conversion from float64 to uint8. Range [-0.9867353052433746, 4.542539763967018]. Convert image to uint8 prior to saving to suppress this warning.\n",
      "Lossy conversion from float64 to uint8. Range [-0.9898153657937722, 4.743468830287363]. Convert image to uint8 prior to saving to suppress this warning.\n",
      "Lossy conversion from float64 to uint8. Range [-0.9936861522199972, 4.627389877394755]. Convert image to uint8 prior to saving to suppress this warning.\n",
      "Lossy conversion from float64 to uint8. Range [-0.9969889676914402, 4.6814937909785845]. Convert image to uint8 prior to saving to suppress this warning.\n",
      "Lossy conversion from float64 to uint8. Range [-0.9988984773606339, 4.618775908939497]. Convert image to uint8 prior to saving to suppress this warning.\n",
      "Lossy conversion from float64 to uint8. Range [-0.9998665001406868, 4.478536539773109]. Convert image to uint8 prior to saving to suppress this warning.\n",
      "Lossy conversion from float64 to uint8. Range [-1.002506406863937, 4.3197020399926425]. Convert image to uint8 prior to saving to suppress this warning.\n",
      "Lossy conversion from float64 to uint8. Range [-1.0028093119949522, 4.540566856311445]. Convert image to uint8 prior to saving to suppress this warning.\n",
      "Lossy conversion from float64 to uint8. Range [-1.0044289361849112, 4.607068907707841]. Convert image to uint8 prior to saving to suppress this warning.\n",
      "Lossy conversion from float64 to uint8. Range [-1.0170854128940097, 4.385833544869233]. Convert image to uint8 prior to saving to suppress this warning.\n",
      "Lossy conversion from float64 to uint8. Range [-1.018783239589848, 4.428665598327394]. Convert image to uint8 prior to saving to suppress this warning.\n",
      "Lossy conversion from float64 to uint8. Range [-1.024501762282065, 4.323676899551895]. Convert image to uint8 prior to saving to suppress this warning.\n",
      "Lossy conversion from float64 to uint8. Range [-1.025926115398977, 4.430131475686853]. Convert image to uint8 prior to saving to suppress this warning.\n",
      "Lossy conversion from float64 to uint8. Range [-1.022115483496231, 4.459729351264486]. Convert image to uint8 prior to saving to suppress this warning.\n",
      "Lossy conversion from float64 to uint8. Range [-1.0200876268317047, 4.44090835616426]. Convert image to uint8 prior to saving to suppress this warning.\n",
      "Lossy conversion from float64 to uint8. Range [-1.00296972331274, 4.797431435932899]. Convert image to uint8 prior to saving to suppress this warning.\n",
      "Lossy conversion from float64 to uint8. Range [-1.0038405345312884, 5.289761338880282]. Convert image to uint8 prior to saving to suppress this warning.\n",
      "Lossy conversion from float64 to uint8. Range [-0.9938139275128042, 5.9608233615557795]. Convert image to uint8 prior to saving to suppress this warning.\n",
      "Lossy conversion from float64 to uint8. Range [-0.9918225708395317, 6.189837891090106]. Convert image to uint8 prior to saving to suppress this warning.\n",
      "Lossy conversion from float64 to uint8. Range [-0.9321054455500727, 7.021733495491668]. Convert image to uint8 prior to saving to suppress this warning.\n",
      "Lossy conversion from float64 to uint8. Range [-0.9129881364512724, 6.981980123789387]. Convert image to uint8 prior to saving to suppress this warning.\n",
      "5it [01:08, 10.17s/it]"
     ]
    },
    {
     "name": "stdout",
     "output_type": "stream",
     "text": [
      "No relevant nodules for patient LIDC-IDRI-0205\n"
     ]
    },
    {
     "name": "stderr",
     "output_type": "stream",
     "text": [
      "Lossy conversion from float64 to uint8. Range [-1.8480842147474532, 1.687626364033452]. Convert image to uint8 prior to saving to suppress this warning.\n",
      "Lossy conversion from float64 to uint8. Range [-1.8505262285939572, 1.7489314682845316]. Convert image to uint8 prior to saving to suppress this warning.\n",
      "Lossy conversion from float64 to uint8. Range [-1.851975284189019, 1.7631667258573138]. Convert image to uint8 prior to saving to suppress this warning.\n",
      "Lossy conversion from float64 to uint8. Range [-1.8531003362141, 1.7149835337115649]. Convert image to uint8 prior to saving to suppress this warning.\n",
      "Lossy conversion from float64 to uint8. Range [-1.7954425497630204, 2.0168462037223196]. Convert image to uint8 prior to saving to suppress this warning.\n",
      "Lossy conversion from float64 to uint8. Range [-1.790618126838221, 2.070055242705785]. Convert image to uint8 prior to saving to suppress this warning.\n",
      "Lossy conversion from float64 to uint8. Range [-1.7907346100385741, 2.029798655772374]. Convert image to uint8 prior to saving to suppress this warning.\n",
      "Lossy conversion from float64 to uint8. Range [-1.7908555793817946, 2.03809849984378]. Convert image to uint8 prior to saving to suppress this warning.\n",
      "Lossy conversion from float64 to uint8. Range [-1.790924781715863, 2.0695000796057643]. Convert image to uint8 prior to saving to suppress this warning.\n",
      "Lossy conversion from float64 to uint8. Range [-1.7907661354461653, 2.0663291262633128]. Convert image to uint8 prior to saving to suppress this warning.\n",
      "Lossy conversion from float64 to uint8. Range [-1.7904568785311827, 2.005714254841961]. Convert image to uint8 prior to saving to suppress this warning.\n",
      "Lossy conversion from float64 to uint8. Range [-1.7902452482074136, 1.9701671001828673]. Convert image to uint8 prior to saving to suppress this warning.\n",
      "Lossy conversion from float64 to uint8. Range [-1.7899455780875082, 1.9369457309361373]. Convert image to uint8 prior to saving to suppress this warning.\n",
      "Lossy conversion from float64 to uint8. Range [-1.7913173732734948, 1.998974683350754]. Convert image to uint8 prior to saving to suppress this warning.\n",
      "Lossy conversion from float64 to uint8. Range [-1.7821114383484555, 2.229463158769888]. Convert image to uint8 prior to saving to suppress this warning.\n",
      "Lossy conversion from float64 to uint8. Range [-1.7806194693123862, 2.1636433228015086]. Convert image to uint8 prior to saving to suppress this warning.\n",
      "6it [01:20, 10.69s/it]Lossy conversion from float64 to uint8. Range [-1.093550714682019, 3.439305194160288]. Convert image to uint8 prior to saving to suppress this warning.\n",
      "Lossy conversion from float64 to uint8. Range [-1.1106937404519877, 3.3688455205333425]. Convert image to uint8 prior to saving to suppress this warning.\n",
      "Lossy conversion from float64 to uint8. Range [-1.1426544594736194, 3.2410220519033124]. Convert image to uint8 prior to saving to suppress this warning.\n",
      "Lossy conversion from float64 to uint8. Range [-1.1725008272811566, 2.9969358996008264]. Convert image to uint8 prior to saving to suppress this warning.\n",
      "Lossy conversion from float64 to uint8. Range [-1.2065654665666246, 3.081526568946021]. Convert image to uint8 prior to saving to suppress this warning.\n",
      "Lossy conversion from float64 to uint8. Range [-0.9956834531148154, 3.500445326275065]. Convert image to uint8 prior to saving to suppress this warning.\n",
      "Lossy conversion from float64 to uint8. Range [-0.8990253321079053, 3.3915456322288016]. Convert image to uint8 prior to saving to suppress this warning.\n",
      "Lossy conversion from float64 to uint8. Range [-0.8960993879895646, 3.4266100622748183]. Convert image to uint8 prior to saving to suppress this warning.\n",
      "Lossy conversion from float64 to uint8. Range [-0.882749252957451, 3.6796919062338436]. Convert image to uint8 prior to saving to suppress this warning.\n",
      "Lossy conversion from float64 to uint8. Range [-0.8825105973665806, 3.9684668306360917]. Convert image to uint8 prior to saving to suppress this warning.\n",
      "Lossy conversion from float64 to uint8. Range [-0.8835999782661457, 3.8232964351542873]. Convert image to uint8 prior to saving to suppress this warning.\n",
      "Lossy conversion from float64 to uint8. Range [-0.887051405094192, 3.4447486138340966]. Convert image to uint8 prior to saving to suppress this warning.\n",
      "Lossy conversion from float64 to uint8. Range [-0.8908630822761516, 3.387502645293086]. Convert image to uint8 prior to saving to suppress this warning.\n",
      "Lossy conversion from float64 to uint8. Range [-0.8882497724138194, 3.3054127385145367]. Convert image to uint8 prior to saving to suppress this warning.\n",
      "Lossy conversion from float64 to uint8. Range [-0.8858596991811498, 3.3701459973419667]. Convert image to uint8 prior to saving to suppress this warning.\n",
      "Lossy conversion from float64 to uint8. Range [-0.8843199532747401, 3.4287429374138956]. Convert image to uint8 prior to saving to suppress this warning.\n",
      "Lossy conversion from float64 to uint8. Range [-0.8839529418025174, 3.7624314778772288]. Convert image to uint8 prior to saving to suppress this warning.\n",
      "Lossy conversion from float64 to uint8. Range [-0.8845125130101403, 4.232482679960225]. Convert image to uint8 prior to saving to suppress this warning.\n",
      "Lossy conversion from float64 to uint8. Range [-0.8838851375211411, 3.83605144891607]. Convert image to uint8 prior to saving to suppress this warning.\n",
      "Lossy conversion from float64 to uint8. Range [-0.8817037983914616, 3.834023179372421]. Convert image to uint8 prior to saving to suppress this warning.\n",
      "Lossy conversion from float64 to uint8. Range [-0.8789444831336798, 3.82298872057971]. Convert image to uint8 prior to saving to suppress this warning.\n",
      "Lossy conversion from float64 to uint8. Range [-0.8766918230887056, 3.7446201205827614]. Convert image to uint8 prior to saving to suppress this warning.\n",
      "Lossy conversion from float64 to uint8. Range [-0.8665626200407641, 3.9517116039344526]. Convert image to uint8 prior to saving to suppress this warning.\n",
      "Lossy conversion from float64 to uint8. Range [-0.8888929442011055, 4.422800038752192]. Convert image to uint8 prior to saving to suppress this warning.\n",
      "Lossy conversion from float64 to uint8. Range [-0.8952335206152371, 4.395075261242103]. Convert image to uint8 prior to saving to suppress this warning.\n",
      "Lossy conversion from float64 to uint8. Range [-0.9137518139382742, 4.176075451842535]. Convert image to uint8 prior to saving to suppress this warning.\n",
      "Lossy conversion from float64 to uint8. Range [-0.9314124447736114, 4.13248959824566]. Convert image to uint8 prior to saving to suppress this warning.\n",
      "Lossy conversion from float64 to uint8. Range [-0.9945159728635037, 4.7470646970159365]. Convert image to uint8 prior to saving to suppress this warning.\n",
      "8it [01:35,  8.62s/it]"
     ]
    },
    {
     "name": "stdout",
     "output_type": "stream",
     "text": [
      "No relevant nodules for patient LIDC-IDRI-0505\n"
     ]
    },
    {
     "name": "stderr",
     "output_type": "stream",
     "text": [
      "9it [01:37,  6.60s/it]"
     ]
    },
    {
     "name": "stdout",
     "output_type": "stream",
     "text": [
      "No relevant nodules for patient LIDC-IDRI-0996\n"
     ]
    },
    {
     "name": "stderr",
     "output_type": "stream",
     "text": [
      "Lossy conversion from float64 to uint8. Range [-1.386515185566179, 3.7260915750121884]. Convert image to uint8 prior to saving to suppress this warning.\n",
      "Lossy conversion from float64 to uint8. Range [-0.8953359320329597, 4.477522995928769]. Convert image to uint8 prior to saving to suppress this warning.\n",
      "Lossy conversion from float64 to uint8. Range [-0.893884370447012, 4.326057736113945]. Convert image to uint8 prior to saving to suppress this warning.\n",
      "Lossy conversion from float64 to uint8. Range [-0.8928545205373201, 4.411843723305492]. Convert image to uint8 prior to saving to suppress this warning.\n",
      "Lossy conversion from float64 to uint8. Range [-0.8938602970952517, 4.464705720987475]. Convert image to uint8 prior to saving to suppress this warning.\n",
      "Lossy conversion from float64 to uint8. Range [-0.8916333597092889, 4.664699689567658]. Convert image to uint8 prior to saving to suppress this warning.\n",
      "Lossy conversion from float64 to uint8. Range [-0.8778807541265747, 4.365068785592981]. Convert image to uint8 prior to saving to suppress this warning.\n",
      "Lossy conversion from float64 to uint8. Range [-0.8814081945192576, 4.67401065356202]. Convert image to uint8 prior to saving to suppress this warning.\n",
      "10it [01:43,  6.41s/it]Lossy conversion from float64 to uint8. Range [-1.8843390838654537, 1.6445277147832942]. Convert image to uint8 prior to saving to suppress this warning.\n",
      "Lossy conversion from float64 to uint8. Range [-1.878027157462341, 1.7088094670905019]. Convert image to uint8 prior to saving to suppress this warning.\n",
      "Lossy conversion from float64 to uint8. Range [-1.875342224784333, 1.6836040766531204]. Convert image to uint8 prior to saving to suppress this warning.\n",
      "Lossy conversion from float64 to uint8. Range [-1.8663337202990573, 1.654580774919034]. Convert image to uint8 prior to saving to suppress this warning.\n",
      "Lossy conversion from float64 to uint8. Range [-1.8648368994145639, 1.671163351277172]. Convert image to uint8 prior to saving to suppress this warning.\n",
      "Lossy conversion from float64 to uint8. Range [-1.8346242412982579, 1.9115900855203642]. Convert image to uint8 prior to saving to suppress this warning.\n",
      "Lossy conversion from float64 to uint8. Range [-1.8340579716839203, 1.8887094724339857]. Convert image to uint8 prior to saving to suppress this warning.\n",
      "Lossy conversion from float64 to uint8. Range [-1.8333656457732908, 1.8813002220553725]. Convert image to uint8 prior to saving to suppress this warning.\n",
      "Lossy conversion from float64 to uint8. Range [-1.8326215947364601, 1.8927136353804819]. Convert image to uint8 prior to saving to suppress this warning.\n",
      "Lossy conversion from float64 to uint8. Range [-1.8318541993622328, 1.9388756609956528]. Convert image to uint8 prior to saving to suppress this warning.\n",
      "Lossy conversion from float64 to uint8. Range [-1.8310642430478783, 1.994180109313644]. Convert image to uint8 prior to saving to suppress this warning.\n",
      "Lossy conversion from float64 to uint8. Range [-1.83013480250776, 1.997361961115358]. Convert image to uint8 prior to saving to suppress this warning.\n",
      "Lossy conversion from float64 to uint8. Range [-1.8292496510916647, 2.0043922938019794]. Convert image to uint8 prior to saving to suppress this warning.\n",
      "Lossy conversion from float64 to uint8. Range [-1.8283721109653486, 2.034086384095459]. Convert image to uint8 prior to saving to suppress this warning.\n",
      "Lossy conversion from float64 to uint8. Range [-1.8276565072363802, 2.038753528645815]. Convert image to uint8 prior to saving to suppress this warning.\n",
      "Lossy conversion from float64 to uint8. Range [-1.8267249222894164, 2.054084112106994]. Convert image to uint8 prior to saving to suppress this warning.\n",
      "Lossy conversion from float64 to uint8. Range [-1.8257209575824835, 2.031401236918322]. Convert image to uint8 prior to saving to suppress this warning.\n",
      "Lossy conversion from float64 to uint8. Range [-1.824699625221421, 2.0084837735884253]. Convert image to uint8 prior to saving to suppress this warning.\n",
      "Lossy conversion from float64 to uint8. Range [-1.8237037436302712, 2.018171357565434]. Convert image to uint8 prior to saving to suppress this warning.\n",
      "Lossy conversion from float64 to uint8. Range [-1.8228294519457215, 2.018949350803915]. Convert image to uint8 prior to saving to suppress this warning.\n",
      "Lossy conversion from float64 to uint8. Range [-1.8219645108769325, 1.9771082170260452]. Convert image to uint8 prior to saving to suppress this warning.\n",
      "Lossy conversion from float64 to uint8. Range [-1.8211968557261415, 1.9315479348187343]. Convert image to uint8 prior to saving to suppress this warning.\n",
      "Lossy conversion from float64 to uint8. Range [-1.8206336405482881, 1.9662427808644274]. Convert image to uint8 prior to saving to suppress this warning.\n",
      "Lossy conversion from float64 to uint8. Range [-1.8205995428282886, 1.955141013975309]. Convert image to uint8 prior to saving to suppress this warning.\n",
      "Lossy conversion from float64 to uint8. Range [-1.8206190640931752, 1.9508318734863905]. Convert image to uint8 prior to saving to suppress this warning.\n",
      "Lossy conversion from float64 to uint8. Range [-1.8203383765605339, 1.9482538182319418]. Convert image to uint8 prior to saving to suppress this warning.\n",
      "Lossy conversion from float64 to uint8. Range [-1.8201954833373615, 1.95036569582577]. Convert image to uint8 prior to saving to suppress this warning.\n",
      "Lossy conversion from float64 to uint8. Range [-1.820161566296686, 1.9635744086924705]. Convert image to uint8 prior to saving to suppress this warning.\n",
      "Lossy conversion from float64 to uint8. Range [-1.820005872299399, 2.257492627690831]. Convert image to uint8 prior to saving to suppress this warning.\n",
      "Lossy conversion from float64 to uint8. Range [-1.8207875017934887, 2.111861298504941]. Convert image to uint8 prior to saving to suppress this warning.\n",
      "Lossy conversion from float64 to uint8. Range [-1.821511385395249, 2.0728196320549834]. Convert image to uint8 prior to saving to suppress this warning.\n",
      "Lossy conversion from float64 to uint8. Range [-1.824647093398149, 2.0194023398309286]. Convert image to uint8 prior to saving to suppress this warning.\n",
      "Lossy conversion from float64 to uint8. Range [-1.8244418034107897, 2.0098858658703076]. Convert image to uint8 prior to saving to suppress this warning.\n",
      "Lossy conversion from float64 to uint8. Range [-1.8241219501188068, 1.9654640293107184]. Convert image to uint8 prior to saving to suppress this warning.\n",
      "Lossy conversion from float64 to uint8. Range [-1.8246260717350293, 1.9453061466997466]. Convert image to uint8 prior to saving to suppress this warning.\n",
      "Lossy conversion from float64 to uint8. Range [-1.8242332804910544, 1.9697638371710293]. Convert image to uint8 prior to saving to suppress this warning.\n",
      "Lossy conversion from float64 to uint8. Range [-1.8249401110822363, 1.9307361063286534]. Convert image to uint8 prior to saving to suppress this warning.\n",
      "Lossy conversion from float64 to uint8. Range [-1.8236111704763103, 1.9546498997190043]. Convert image to uint8 prior to saving to suppress this warning.\n",
      "Lossy conversion from float64 to uint8. Range [-1.8227549794482276, 1.9639303485865074]. Convert image to uint8 prior to saving to suppress this warning.\n",
      "Lossy conversion from float64 to uint8. Range [-1.8200629104110901, 1.9490781947534952]. Convert image to uint8 prior to saving to suppress this warning.\n",
      "Lossy conversion from float64 to uint8. Range [-1.8205264945591728, 1.9335017634270975]. Convert image to uint8 prior to saving to suppress this warning.\n",
      "Lossy conversion from float64 to uint8. Range [-1.8205855925220469, 2.0141649305888256]. Convert image to uint8 prior to saving to suppress this warning.\n",
      "Lossy conversion from float64 to uint8. Range [-1.8159600627128003, 2.061774263683339]. Convert image to uint8 prior to saving to suppress this warning.\n",
      "Lossy conversion from float64 to uint8. Range [-1.8161739064895794, 2.0480785713793526]. Convert image to uint8 prior to saving to suppress this warning.\n",
      "Lossy conversion from float64 to uint8. Range [-1.816122422531387, 1.996576561193165]. Convert image to uint8 prior to saving to suppress this warning.\n",
      "Lossy conversion from float64 to uint8. Range [-1.8157007629395907, 1.9771379739596888]. Convert image to uint8 prior to saving to suppress this warning.\n",
      "Lossy conversion from float64 to uint8. Range [-1.815151866039438, 2.005530434682333]. Convert image to uint8 prior to saving to suppress this warning.\n",
      "Lossy conversion from float64 to uint8. Range [-1.8149177107569967, 1.939904103987032]. Convert image to uint8 prior to saving to suppress this warning.\n",
      "Lossy conversion from float64 to uint8. Range [-1.8150388811421512, 1.9767081139216247]. Convert image to uint8 prior to saving to suppress this warning.\n",
      "Lossy conversion from float64 to uint8. Range [-1.815288479193251, 1.9776183201612096]. Convert image to uint8 prior to saving to suppress this warning.\n",
      "Lossy conversion from float64 to uint8. Range [-1.8154718261526734, 1.9587677111312578]. Convert image to uint8 prior to saving to suppress this warning.\n",
      "Lossy conversion from float64 to uint8. Range [-1.8134098590814498, 2.116725445711119]. Convert image to uint8 prior to saving to suppress this warning.\n",
      "Lossy conversion from float64 to uint8. Range [-1.8095218411409677, 2.1574893264032022]. Convert image to uint8 prior to saving to suppress this warning.\n",
      "Lossy conversion from float64 to uint8. Range [-1.8091561981470705, 2.131783069704717]. Convert image to uint8 prior to saving to suppress this warning.\n",
      "Lossy conversion from float64 to uint8. Range [-1.8091706673734416, 2.119596769400657]. Convert image to uint8 prior to saving to suppress this warning.\n",
      "Lossy conversion from float64 to uint8. Range [-1.8089218008552614, 2.125159569235078]. Convert image to uint8 prior to saving to suppress this warning.\n",
      "Lossy conversion from float64 to uint8. Range [-1.8059707259195206, 2.1289489693663506]. Convert image to uint8 prior to saving to suppress this warning.\n",
      "Lossy conversion from float64 to uint8. Range [-1.80751868773804, 2.0885939680217676]. Convert image to uint8 prior to saving to suppress this warning.\n",
      "Lossy conversion from float64 to uint8. Range [-1.805499696693953, 2.0596215596025407]. Convert image to uint8 prior to saving to suppress this warning.\n",
      "Lossy conversion from float64 to uint8. Range [-1.7999897338062707, 2.0493089768776174]. Convert image to uint8 prior to saving to suppress this warning.\n",
      "Lossy conversion from float64 to uint8. Range [-1.784179377903007, 2.1347350316334897]. Convert image to uint8 prior to saving to suppress this warning.\n",
      "Lossy conversion from float64 to uint8. Range [-1.7864732850809673, 2.1775482877718138]. Convert image to uint8 prior to saving to suppress this warning.\n",
      "11it [02:16, 14.39s/it]Lossy conversion from float64 to uint8. Range [-1.103670629222991, 6.2587326804115895]. Convert image to uint8 prior to saving to suppress this warning.\n",
      "Lossy conversion from float64 to uint8. Range [-1.1026700686220352, 3.3367514480183402]. Convert image to uint8 prior to saving to suppress this warning.\n",
      "Lossy conversion from float64 to uint8. Range [-1.0646869489840154, 3.80351758244682]. Convert image to uint8 prior to saving to suppress this warning.\n",
      "Lossy conversion from float64 to uint8. Range [-1.041228779691924, 6.42418061502042]. Convert image to uint8 prior to saving to suppress this warning.\n",
      "Lossy conversion from float64 to uint8. Range [-0.9799227179263115, 3.9069884572220124]. Convert image to uint8 prior to saving to suppress this warning.\n",
      "Lossy conversion from float64 to uint8. Range [-0.9055224033675137, 3.8713017771632656]. Convert image to uint8 prior to saving to suppress this warning.\n",
      "Lossy conversion from float64 to uint8. Range [-0.83007020591405, 5.1578644875262984]. Convert image to uint8 prior to saving to suppress this warning.\n",
      "Lossy conversion from float64 to uint8. Range [-0.8523177321056439, 4.014859655333419]. Convert image to uint8 prior to saving to suppress this warning.\n",
      "Lossy conversion from float64 to uint8. Range [-0.8752393066255523, 5.101530321527655]. Convert image to uint8 prior to saving to suppress this warning.\n",
      "Lossy conversion from float64 to uint8. Range [-0.8694592480352646, 4.39450152715349]. Convert image to uint8 prior to saving to suppress this warning.\n",
      "Lossy conversion from float64 to uint8. Range [-0.844238793469136, 5.109979403958251]. Convert image to uint8 prior to saving to suppress this warning.\n",
      "Lossy conversion from float64 to uint8. Range [-0.8432166775187729, 5.235816286171781]. Convert image to uint8 prior to saving to suppress this warning.\n",
      "Lossy conversion from float64 to uint8. Range [-0.8430131600356663, 5.076571620801571]. Convert image to uint8 prior to saving to suppress this warning.\n",
      "Lossy conversion from float64 to uint8. Range [-0.842300815647654, 5.214956520040651]. Convert image to uint8 prior to saving to suppress this warning.\n",
      "Lossy conversion from float64 to uint8. Range [-0.8414002320498363, 5.245344104934064]. Convert image to uint8 prior to saving to suppress this warning.\n",
      "Lossy conversion from float64 to uint8. Range [-0.8410835610033561, 5.253219529158115]. Convert image to uint8 prior to saving to suppress this warning.\n",
      "Lossy conversion from float64 to uint8. Range [-0.8397821438638494, 5.267466283614545]. Convert image to uint8 prior to saving to suppress this warning.\n",
      "Lossy conversion from float64 to uint8. Range [-0.8369712278683966, 5.3561641289502555]. Convert image to uint8 prior to saving to suppress this warning.\n",
      "Lossy conversion from float64 to uint8. Range [-0.8354368026418818, 5.3953148102579815]. Convert image to uint8 prior to saving to suppress this warning.\n",
      "Lossy conversion from float64 to uint8. Range [-0.8343981097438291, 5.293829342940605]. Convert image to uint8 prior to saving to suppress this warning.\n",
      "Lossy conversion from float64 to uint8. Range [-0.8318777813977761, 5.332284543530876]. Convert image to uint8 prior to saving to suppress this warning.\n",
      "Lossy conversion from float64 to uint8. Range [-0.8301866342146095, 5.31043557311975]. Convert image to uint8 prior to saving to suppress this warning.\n",
      "Lossy conversion from float64 to uint8. Range [-0.8289153804889852, 5.37014231444215]. Convert image to uint8 prior to saving to suppress this warning.\n",
      "Lossy conversion from float64 to uint8. Range [-0.8290486313254188, 5.4641046649959835]. Convert image to uint8 prior to saving to suppress this warning.\n",
      "Lossy conversion from float64 to uint8. Range [-0.8526891483760919, 5.274539206320788]. Convert image to uint8 prior to saving to suppress this warning.\n",
      "Lossy conversion from float64 to uint8. Range [-0.8803622513217918, 6.6324223420251265]. Convert image to uint8 prior to saving to suppress this warning.\n",
      "Lossy conversion from float64 to uint8. Range [-0.8328187861800306, 5.817961673829349]. Convert image to uint8 prior to saving to suppress this warning.\n",
      "Lossy conversion from float64 to uint8. Range [-0.86670890482086, 6.064552848802309]. Convert image to uint8 prior to saving to suppress this warning.\n",
      "13it [02:36, 11.61s/it]"
     ]
    },
    {
     "name": "stdout",
     "output_type": "stream",
     "text": [
      "No relevant nodules for patient LIDC-IDRI-0536\n"
     ]
    },
    {
     "name": "stderr",
     "output_type": "stream",
     "text": [
      "14it [02:40,  9.45s/it]"
     ]
    },
    {
     "name": "stdout",
     "output_type": "stream",
     "text": [
      "No relevant nodules for patient LIDC-IDRI-0742\n"
     ]
    },
    {
     "name": "stderr",
     "output_type": "stream",
     "text": [
      "Lossy conversion from float64 to uint8. Range [-1.6133934699472745, 2.4294434791196102]. Convert image to uint8 prior to saving to suppress this warning.\n",
      "Lossy conversion from float64 to uint8. Range [-1.6132021174701723, 2.4608614771986654]. Convert image to uint8 prior to saving to suppress this warning.\n",
      "Lossy conversion from float64 to uint8. Range [-1.611175974739947, 2.394384695733784]. Convert image to uint8 prior to saving to suppress this warning.\n",
      "Lossy conversion from float64 to uint8. Range [-1.6062617037092823, 2.328233662485613]. Convert image to uint8 prior to saving to suppress this warning.\n",
      "Lossy conversion from float64 to uint8. Range [-1.6194444205497889, 3.5581046056017476]. Convert image to uint8 prior to saving to suppress this warning.\n",
      "Lossy conversion from float64 to uint8. Range [-1.6208614789811808, 4.340341468140586]. Convert image to uint8 prior to saving to suppress this warning.\n",
      "Lossy conversion from float64 to uint8. Range [-1.6203046112631558, 4.84720582889878]. Convert image to uint8 prior to saving to suppress this warning.\n",
      "Lossy conversion from float64 to uint8. Range [-1.618757187111768, 4.843286015266461]. Convert image to uint8 prior to saving to suppress this warning.\n",
      "16it [02:47,  6.14s/it]"
     ]
    },
    {
     "name": "stdout",
     "output_type": "stream",
     "text": [
      "No relevant nodules for patient LIDC-IDRI-0420\n"
     ]
    },
    {
     "name": "stderr",
     "output_type": "stream",
     "text": [
      "Lossy conversion from float64 to uint8. Range [-1.8684296799812274, 1.9465044757025733]. Convert image to uint8 prior to saving to suppress this warning.\n",
      "Lossy conversion from float64 to uint8. Range [-1.8691279168405839, 1.6050583723543128]. Convert image to uint8 prior to saving to suppress this warning.\n",
      "Lossy conversion from float64 to uint8. Range [-1.8714499197815577, 1.6879647332391878]. Convert image to uint8 prior to saving to suppress this warning.\n",
      "Lossy conversion from float64 to uint8. Range [-1.861619371455483, 1.7162842238852802]. Convert image to uint8 prior to saving to suppress this warning.\n",
      "Lossy conversion from float64 to uint8. Range [-1.824034693395689, 1.815986524192984]. Convert image to uint8 prior to saving to suppress this warning.\n",
      "Lossy conversion from float64 to uint8. Range [-1.8220462972416664, 1.798415700813059]. Convert image to uint8 prior to saving to suppress this warning.\n",
      "Lossy conversion from float64 to uint8. Range [-1.8204124998817515, 1.7489520560828986]. Convert image to uint8 prior to saving to suppress this warning.\n",
      "Lossy conversion from float64 to uint8. Range [-1.818191927377463, 2.0432145685246494]. Convert image to uint8 prior to saving to suppress this warning.\n",
      "Lossy conversion from float64 to uint8. Range [-1.8135653059245287, 2.256743691127807]. Convert image to uint8 prior to saving to suppress this warning.\n",
      "Lossy conversion from float64 to uint8. Range [-1.8122039972045463, 2.2646487498151457]. Convert image to uint8 prior to saving to suppress this warning.\n",
      "Lossy conversion from float64 to uint8. Range [-1.8113060380592383, 2.2630221310757404]. Convert image to uint8 prior to saving to suppress this warning.\n",
      "Lossy conversion from float64 to uint8. Range [-1.8104284390431575, 2.328581735712838]. Convert image to uint8 prior to saving to suppress this warning.\n",
      "Lossy conversion from float64 to uint8. Range [-1.8070194068174057, 2.2625069029633753]. Convert image to uint8 prior to saving to suppress this warning.\n",
      "Lossy conversion from float64 to uint8. Range [-1.8056736607714583, 2.0099394658819847]. Convert image to uint8 prior to saving to suppress this warning.\n",
      "Lossy conversion from float64 to uint8. Range [-1.8045917287315607, 2.0132198717208203]. Convert image to uint8 prior to saving to suppress this warning.\n",
      "Lossy conversion from float64 to uint8. Range [-1.7926499589990679, 2.027759770773303]. Convert image to uint8 prior to saving to suppress this warning.\n",
      "17it [02:56,  7.05s/it]Lossy conversion from float64 to uint8. Range [-1.7096976594228568, 2.93197254681143]. Convert image to uint8 prior to saving to suppress this warning.\n",
      "Lossy conversion from float64 to uint8. Range [-1.7114633839539497, 2.825065111655968]. Convert image to uint8 prior to saving to suppress this warning.\n",
      "Lossy conversion from float64 to uint8. Range [-1.716765891069345, 2.839375052448562]. Convert image to uint8 prior to saving to suppress this warning.\n",
      "Lossy conversion from float64 to uint8. Range [-1.6166595624362445, 3.3297690662420485]. Convert image to uint8 prior to saving to suppress this warning.\n",
      "Lossy conversion from float64 to uint8. Range [-1.6154156069371115, 3.2373769285116447]. Convert image to uint8 prior to saving to suppress this warning.\n",
      "Lossy conversion from float64 to uint8. Range [-1.6168000702244303, 3.4657298396562664]. Convert image to uint8 prior to saving to suppress this warning.\n",
      "Lossy conversion from float64 to uint8. Range [-1.6170789432028025, 3.409654121632485]. Convert image to uint8 prior to saving to suppress this warning.\n",
      "Lossy conversion from float64 to uint8. Range [-1.6167212502435104, 3.7120974035504344]. Convert image to uint8 prior to saving to suppress this warning.\n",
      "Lossy conversion from float64 to uint8. Range [-1.616719317454655, 3.377761157566499]. Convert image to uint8 prior to saving to suppress this warning.\n",
      "Lossy conversion from float64 to uint8. Range [-1.5513094301426125, 4.395662495752676]. Convert image to uint8 prior to saving to suppress this warning.\n",
      "18it [03:02,  6.76s/it]Lossy conversion from float64 to uint8. Range [-1.806978980653618, 1.7595141373820649]. Convert image to uint8 prior to saving to suppress this warning.\n",
      "Lossy conversion from float64 to uint8. Range [-1.7848768352980031, 2.112550457352691]. Convert image to uint8 prior to saving to suppress this warning.\n",
      "Lossy conversion from float64 to uint8. Range [-1.7863657565430597, 2.0646538846642066]. Convert image to uint8 prior to saving to suppress this warning.\n",
      "Lossy conversion from float64 to uint8. Range [-1.786021742059084, 1.940179862339188]. Convert image to uint8 prior to saving to suppress this warning.\n",
      "Lossy conversion from float64 to uint8. Range [-1.7838931034279033, 2.0826780618418015]. Convert image to uint8 prior to saving to suppress this warning.\n",
      "Lossy conversion from float64 to uint8. Range [-1.785002543582566, 2.2018007120138665]. Convert image to uint8 prior to saving to suppress this warning.\n",
      "Lossy conversion from float64 to uint8. Range [-1.7841774366632297, 2.112105270340214]. Convert image to uint8 prior to saving to suppress this warning.\n",
      "Lossy conversion from float64 to uint8. Range [-1.7844047845627524, 2.047072076923015]. Convert image to uint8 prior to saving to suppress this warning.\n",
      "Lossy conversion from float64 to uint8. Range [-1.7847458488279038, 2.049130921129184]. Convert image to uint8 prior to saving to suppress this warning.\n",
      "Lossy conversion from float64 to uint8. Range [-1.7660191677793442, 2.1213020553577038]. Convert image to uint8 prior to saving to suppress this warning.\n",
      "19it [03:08,  6.48s/it]Lossy conversion from float64 to uint8. Range [-1.7649403650356406, 3.2670820627291195]. Convert image to uint8 prior to saving to suppress this warning.\n",
      "Lossy conversion from float64 to uint8. Range [-1.7785205297981035, 3.0038772902623254]. Convert image to uint8 prior to saving to suppress this warning.\n",
      "Lossy conversion from float64 to uint8. Range [-1.8006860012508257, 3.967442430304805]. Convert image to uint8 prior to saving to suppress this warning.\n",
      "Lossy conversion from float64 to uint8. Range [-1.7756526001153528, 5.361741415636141]. Convert image to uint8 prior to saving to suppress this warning.\n",
      "Lossy conversion from float64 to uint8. Range [-1.7072590975099469, 4.531581046242422]. Convert image to uint8 prior to saving to suppress this warning.\n",
      "Lossy conversion from float64 to uint8. Range [-1.6926526058869655, 3.8816525561310695]. Convert image to uint8 prior to saving to suppress this warning.\n",
      "Lossy conversion from float64 to uint8. Range [-1.4862072506673234, 3.6021400476573335]. Convert image to uint8 prior to saving to suppress this warning.\n",
      "Lossy conversion from float64 to uint8. Range [-1.4551581868182075, 3.5610207809184367]. Convert image to uint8 prior to saving to suppress this warning.\n",
      "Lossy conversion from float64 to uint8. Range [-1.4235141988695548, 3.531648163025371]. Convert image to uint8 prior to saving to suppress this warning.\n",
      "Lossy conversion from float64 to uint8. Range [-1.3914692340280423, 3.6517323417990912]. Convert image to uint8 prior to saving to suppress this warning.\n",
      "Lossy conversion from float64 to uint8. Range [-1.362909013278491, 3.682853917739863]. Convert image to uint8 prior to saving to suppress this warning.\n",
      "Lossy conversion from float64 to uint8. Range [-1.3441419573127429, 3.6631354222122656]. Convert image to uint8 prior to saving to suppress this warning.\n",
      "Lossy conversion from float64 to uint8. Range [-1.3255856579560692, 3.555512713866794]. Convert image to uint8 prior to saving to suppress this warning.\n",
      "Lossy conversion from float64 to uint8. Range [-1.307424990153265, 3.754544114962846]. Convert image to uint8 prior to saving to suppress this warning.\n",
      "Lossy conversion from float64 to uint8. Range [-1.2861814453491294, 3.6141860825865533]. Convert image to uint8 prior to saving to suppress this warning.\n",
      "Lossy conversion from float64 to uint8. Range [-1.2645533944131027, 3.6228268172354054]. Convert image to uint8 prior to saving to suppress this warning.\n",
      "Lossy conversion from float64 to uint8. Range [-1.3302348829788775, 3.2613354523130145]. Convert image to uint8 prior to saving to suppress this warning.\n",
      "Lossy conversion from float64 to uint8. Range [-1.246937188208466, 3.500549804249927]. Convert image to uint8 prior to saving to suppress this warning.\n",
      "Lossy conversion from float64 to uint8. Range [-1.1853061713351387, 3.5135278242409953]. Convert image to uint8 prior to saving to suppress this warning.\n",
      "Lossy conversion from float64 to uint8. Range [-1.13821689240036, 3.57104820191232]. Convert image to uint8 prior to saving to suppress this warning.\n",
      "20it [03:18,  7.51s/it]Lossy conversion from float64 to uint8. Range [-1.7121671924138269, 2.356847966482387]. Convert image to uint8 prior to saving to suppress this warning.\n",
      "Lossy conversion from float64 to uint8. Range [-1.7074674940296648, 2.443124136562727]. Convert image to uint8 prior to saving to suppress this warning.\n",
      "Lossy conversion from float64 to uint8. Range [-1.6949102361353459, 2.335435579108242]. Convert image to uint8 prior to saving to suppress this warning.\n",
      "Lossy conversion from float64 to uint8. Range [-1.6764437300503157, 2.207718441070609]. Convert image to uint8 prior to saving to suppress this warning.\n",
      "Lossy conversion from float64 to uint8. Range [-1.6180378739894639, 2.7605630300758244]. Convert image to uint8 prior to saving to suppress this warning.\n",
      "Lossy conversion from float64 to uint8. Range [-1.6123128852751514, 2.6631343074102096]. Convert image to uint8 prior to saving to suppress this warning.\n",
      "Lossy conversion from float64 to uint8. Range [-1.5958344410101428, 3.329263891972982]. Convert image to uint8 prior to saving to suppress this warning.\n",
      "Lossy conversion from float64 to uint8. Range [-1.6010906814597374, 2.904565932764935]. Convert image to uint8 prior to saving to suppress this warning.\n",
      "Lossy conversion from float64 to uint8. Range [-1.6017354952974567, 2.75084828850397]. Convert image to uint8 prior to saving to suppress this warning.\n",
      "Lossy conversion from float64 to uint8. Range [-1.6022287866662828, 2.816764533937731]. Convert image to uint8 prior to saving to suppress this warning.\n",
      "Lossy conversion from float64 to uint8. Range [-1.6034300588872776, 2.8392462949795547]. Convert image to uint8 prior to saving to suppress this warning.\n",
      "Lossy conversion from float64 to uint8. Range [-1.6189180038628745, 2.7491338619924157]. Convert image to uint8 prior to saving to suppress this warning.\n",
      "Lossy conversion from float64 to uint8. Range [-1.6205731173175362, 2.674016375474287]. Convert image to uint8 prior to saving to suppress this warning.\n",
      "Lossy conversion from float64 to uint8. Range [-1.6210217256306603, 2.775534708218062]. Convert image to uint8 prior to saving to suppress this warning.\n",
      "Lossy conversion from float64 to uint8. Range [-1.6219695821805953, 2.774277990496564]. Convert image to uint8 prior to saving to suppress this warning.\n",
      "Lossy conversion from float64 to uint8. Range [-1.6210591613829823, 2.6867326735288763]. Convert image to uint8 prior to saving to suppress this warning.\n",
      "Lossy conversion from float64 to uint8. Range [-1.6186325580298195, 2.6339649202864766]. Convert image to uint8 prior to saving to suppress this warning.\n",
      "Lossy conversion from float64 to uint8. Range [-1.6183729241487916, 2.6921518331338445]. Convert image to uint8 prior to saving to suppress this warning.\n",
      "Lossy conversion from float64 to uint8. Range [-1.619915331288583, 2.6670015070249087]. Convert image to uint8 prior to saving to suppress this warning.\n",
      "Lossy conversion from float64 to uint8. Range [-1.6229071555792074, 2.775746817091408]. Convert image to uint8 prior to saving to suppress this warning.\n",
      "Lossy conversion from float64 to uint8. Range [-1.6233496047637288, 2.8496945620584553]. Convert image to uint8 prior to saving to suppress this warning.\n",
      "Lossy conversion from float64 to uint8. Range [-1.6236358056075744, 2.8701817127515232]. Convert image to uint8 prior to saving to suppress this warning.\n",
      "Lossy conversion from float64 to uint8. Range [-1.6226583002228967, 3.0320886497671724]. Convert image to uint8 prior to saving to suppress this warning.\n",
      "Lossy conversion from float64 to uint8. Range [-1.621071877040051, 3.526863613652759]. Convert image to uint8 prior to saving to suppress this warning.\n",
      "Lossy conversion from float64 to uint8. Range [-1.6200940252765188, 3.695115813911129]. Convert image to uint8 prior to saving to suppress this warning.\n",
      "Lossy conversion from float64 to uint8. Range [-1.619148357822233, 3.7027709458175857]. Convert image to uint8 prior to saving to suppress this warning.\n",
      "Lossy conversion from float64 to uint8. Range [-1.6201396947424012, 3.519537262992162]. Convert image to uint8 prior to saving to suppress this warning.\n",
      "Lossy conversion from float64 to uint8. Range [-1.6192061063066205, 3.1259313492745306]. Convert image to uint8 prior to saving to suppress this warning.\n",
      "Lossy conversion from float64 to uint8. Range [-1.618902687675992, 3.2806497325364954]. Convert image to uint8 prior to saving to suppress this warning.\n",
      "Lossy conversion from float64 to uint8. Range [-1.619724742122704, 3.3709605972439927]. Convert image to uint8 prior to saving to suppress this warning.\n",
      "Lossy conversion from float64 to uint8. Range [-1.6142616208247293, 3.718956325119562]. Convert image to uint8 prior to saving to suppress this warning.\n",
      "Lossy conversion from float64 to uint8. Range [-1.6066851665679767, 4.45615526033651]. Convert image to uint8 prior to saving to suppress this warning.\n",
      "Lossy conversion from float64 to uint8. Range [-1.6042999726649692, 4.487076922255476]. Convert image to uint8 prior to saving to suppress this warning.\n",
      "Lossy conversion from float64 to uint8. Range [-1.6038193342910012, 4.743084281128913]. Convert image to uint8 prior to saving to suppress this warning.\n",
      "Lossy conversion from float64 to uint8. Range [-1.6024935377505356, 4.777343630058491]. Convert image to uint8 prior to saving to suppress this warning.\n",
      "Lossy conversion from float64 to uint8. Range [-1.597956523322161, 4.097893197897188]. Convert image to uint8 prior to saving to suppress this warning.\n",
      "Lossy conversion from float64 to uint8. Range [-1.595126707326903, 4.591565556378221]. Convert image to uint8 prior to saving to suppress this warning.\n",
      "Lossy conversion from float64 to uint8. Range [-1.5912138363190926, 4.942378311474704]. Convert image to uint8 prior to saving to suppress this warning.\n",
      "Lossy conversion from float64 to uint8. Range [-1.584270794943256, 4.817040198582206]. Convert image to uint8 prior to saving to suppress this warning.\n",
      "Lossy conversion from float64 to uint8. Range [-1.5683964828230257, 4.688787576506891]. Convert image to uint8 prior to saving to suppress this warning.\n",
      "Lossy conversion from float64 to uint8. Range [-1.5837429326316987, 4.841555106328284]. Convert image to uint8 prior to saving to suppress this warning.\n",
      "Lossy conversion from float64 to uint8. Range [-1.5843209687152746, 4.87853872088791]. Convert image to uint8 prior to saving to suppress this warning.\n",
      "22it [03:41,  8.63s/it]"
     ]
    },
    {
     "name": "stdout",
     "output_type": "stream",
     "text": [
      "No relevant nodules for patient LIDC-IDRI-0231\n"
     ]
    },
    {
     "name": "stderr",
     "output_type": "stream",
     "text": [
      "Lossy conversion from float64 to uint8. Range [-1.712514130742446, 2.35420823555528]. Convert image to uint8 prior to saving to suppress this warning.\n",
      "Lossy conversion from float64 to uint8. Range [-1.7131049319567186, 2.3209276911149885]. Convert image to uint8 prior to saving to suppress this warning.\n",
      "Lossy conversion from float64 to uint8. Range [-1.7120602627352814, 2.273034032658617]. Convert image to uint8 prior to saving to suppress this warning.\n",
      "Lossy conversion from float64 to uint8. Range [-1.702923601773599, 2.3197474469383246]. Convert image to uint8 prior to saving to suppress this warning.\n",
      "Lossy conversion from float64 to uint8. Range [-1.713159550409176, 2.2997705548861873]. Convert image to uint8 prior to saving to suppress this warning.\n",
      "Lossy conversion from float64 to uint8. Range [-1.7049226971345122, 2.028800491305322]. Convert image to uint8 prior to saving to suppress this warning.\n",
      "Lossy conversion from float64 to uint8. Range [-1.7019163221644957, 2.1558585918552065]. Convert image to uint8 prior to saving to suppress this warning.\n",
      "Lossy conversion from float64 to uint8. Range [-1.6912617708577726, 2.23688212592616]. Convert image to uint8 prior to saving to suppress this warning.\n",
      "Lossy conversion from float64 to uint8. Range [-1.649682897853205, 3.662817893675972]. Convert image to uint8 prior to saving to suppress this warning.\n",
      "Lossy conversion from float64 to uint8. Range [-1.6441597307901774, 3.6243044191525735]. Convert image to uint8 prior to saving to suppress this warning.\n",
      "Lossy conversion from float64 to uint8. Range [-1.652784132816558, 3.1860214919582175]. Convert image to uint8 prior to saving to suppress this warning.\n",
      "Lossy conversion from float64 to uint8. Range [-1.6516849959961333, 3.9276786295190176]. Convert image to uint8 prior to saving to suppress this warning.\n",
      "Lossy conversion from float64 to uint8. Range [-1.6495846202133682, 4.562387884709391]. Convert image to uint8 prior to saving to suppress this warning.\n",
      "Lossy conversion from float64 to uint8. Range [-1.6457029400359076, 4.818608454486392]. Convert image to uint8 prior to saving to suppress this warning.\n",
      "Lossy conversion from float64 to uint8. Range [-1.6417706807741457, 4.859237680025671]. Convert image to uint8 prior to saving to suppress this warning.\n",
      "Lossy conversion from float64 to uint8. Range [-1.6405479631914328, 4.720426792209924]. Convert image to uint8 prior to saving to suppress this warning.\n",
      "Lossy conversion from float64 to uint8. Range [-1.640377539735105, 4.868160228299923]. Convert image to uint8 prior to saving to suppress this warning.\n",
      "Lossy conversion from float64 to uint8. Range [-1.6391823024092447, 4.87006077077965]. Convert image to uint8 prior to saving to suppress this warning.\n",
      "Lossy conversion from float64 to uint8. Range [-1.6380157876413555, 4.88344463608486]. Convert image to uint8 prior to saving to suppress this warning.\n",
      "Lossy conversion from float64 to uint8. Range [-1.6347057285067281, 4.852125282413658]. Convert image to uint8 prior to saving to suppress this warning.\n",
      "Lossy conversion from float64 to uint8. Range [-1.635621495187935, 4.862580150052395]. Convert image to uint8 prior to saving to suppress this warning.\n",
      "Lossy conversion from float64 to uint8. Range [-1.6366649619826317, 4.873846473407689]. Convert image to uint8 prior to saving to suppress this warning.\n",
      "Lossy conversion from float64 to uint8. Range [-1.6385281895729555, 4.8916629754844605]. Convert image to uint8 prior to saving to suppress this warning.\n",
      "Lossy conversion from float64 to uint8. Range [-1.6395887203142443, 4.905849292743024]. Convert image to uint8 prior to saving to suppress this warning.\n",
      "Lossy conversion from float64 to uint8. Range [-1.6011269612127308, 4.606767719488933]. Convert image to uint8 prior to saving to suppress this warning.\n",
      "Lossy conversion from float64 to uint8. Range [-1.5995587915225797, 4.5582590982483255]. Convert image to uint8 prior to saving to suppress this warning.\n",
      "24it [03:56,  7.70s/it]"
     ]
    },
    {
     "name": "stdout",
     "output_type": "stream",
     "text": [
      "No relevant nodules for patient LIDC-IDRI-0907\n"
     ]
    },
    {
     "name": "stderr",
     "output_type": "stream",
     "text": [
      "Lossy conversion from float64 to uint8. Range [-1.8225706037929592, 1.9097830360747727]. Convert image to uint8 prior to saving to suppress this warning.\n",
      "Lossy conversion from float64 to uint8. Range [-1.8238196664623976, 1.8533747673848209]. Convert image to uint8 prior to saving to suppress this warning.\n",
      "Lossy conversion from float64 to uint8. Range [-1.81968203513992, 1.8885308083419354]. Convert image to uint8 prior to saving to suppress this warning.\n",
      "Lossy conversion from float64 to uint8. Range [-1.8124556957478852, 1.781053991975522]. Convert image to uint8 prior to saving to suppress this warning.\n",
      "Lossy conversion from float64 to uint8. Range [-1.7316304674803098, 1.9810483072653187]. Convert image to uint8 prior to saving to suppress this warning.\n",
      "Lossy conversion from float64 to uint8. Range [-1.6249207819135545, 2.7281060791834997]. Convert image to uint8 prior to saving to suppress this warning.\n",
      "Lossy conversion from float64 to uint8. Range [-1.6187940517245898, 3.5359639100207296]. Convert image to uint8 prior to saving to suppress this warning.\n",
      "Lossy conversion from float64 to uint8. Range [-1.6175891402515188, 3.841141401356826]. Convert image to uint8 prior to saving to suppress this warning.\n",
      "Lossy conversion from float64 to uint8. Range [-1.6159309990971424, 3.8819344188784823]. Convert image to uint8 prior to saving to suppress this warning.\n",
      "Lossy conversion from float64 to uint8. Range [-1.6144352321527609, 3.3055091890290047]. Convert image to uint8 prior to saving to suppress this warning.\n",
      "Lossy conversion from float64 to uint8. Range [-1.6143832368502962, 3.3691245646826973]. Convert image to uint8 prior to saving to suppress this warning.\n",
      "Lossy conversion from float64 to uint8. Range [-1.6140131792159123, 3.368199649448684]. Convert image to uint8 prior to saving to suppress this warning.\n",
      "Lossy conversion from float64 to uint8. Range [-1.614131207933277, 3.459746303403222]. Convert image to uint8 prior to saving to suppress this warning.\n",
      "Lossy conversion from float64 to uint8. Range [-1.6141790568956176, 3.6940308902515717]. Convert image to uint8 prior to saving to suppress this warning.\n",
      "Lossy conversion from float64 to uint8. Range [-1.612372120225976, 4.296223706547161]. Convert image to uint8 prior to saving to suppress this warning.\n",
      "Lossy conversion from float64 to uint8. Range [-1.610927647208716, 4.58255667569347]. Convert image to uint8 prior to saving to suppress this warning.\n",
      "Lossy conversion from float64 to uint8. Range [-1.6122925174183633, 4.636898874101168]. Convert image to uint8 prior to saving to suppress this warning.\n",
      "Lossy conversion from float64 to uint8. Range [-1.6139595556875797, 4.847480708851753]. Convert image to uint8 prior to saving to suppress this warning.\n",
      "Lossy conversion from float64 to uint8. Range [-1.614446272949248, 4.900873292084342]. Convert image to uint8 prior to saving to suppress this warning.\n",
      "Lossy conversion from float64 to uint8. Range [-1.6143375493371417, 4.881165190805136]. Convert image to uint8 prior to saving to suppress this warning.\n",
      "Lossy conversion from float64 to uint8. Range [-1.5912212278701374, 4.6187599651744335]. Convert image to uint8 prior to saving to suppress this warning.\n",
      "Lossy conversion from float64 to uint8. Range [-1.599221924628448, 4.622168806990407]. Convert image to uint8 prior to saving to suppress this warning.\n",
      "26it [04:09,  6.40s/it]"
     ]
    },
    {
     "name": "stdout",
     "output_type": "stream",
     "text": [
      "No relevant nodules for patient LIDC-IDRI-0889\n"
     ]
    },
    {
     "name": "stderr",
     "output_type": "stream",
     "text": [
      "Lossy conversion from float64 to uint8. Range [-1.2759251474821955, 4.117580914485856]. Convert image to uint8 prior to saving to suppress this warning.\n",
      "Lossy conversion from float64 to uint8. Range [-1.2800200170768408, 4.143794228062117]. Convert image to uint8 prior to saving to suppress this warning.\n",
      "Lossy conversion from float64 to uint8. Range [-1.2794686008464071, 4.339217218910107]. Convert image to uint8 prior to saving to suppress this warning.\n",
      "Lossy conversion from float64 to uint8. Range [-0.8553912854179869, 5.001421470803144]. Convert image to uint8 prior to saving to suppress this warning.\n",
      "Lossy conversion from float64 to uint8. Range [-0.8573803084921696, 4.855166170881438]. Convert image to uint8 prior to saving to suppress this warning.\n",
      "Lossy conversion from float64 to uint8. Range [-0.8615006832691169, 4.859915416183533]. Convert image to uint8 prior to saving to suppress this warning.\n",
      "Lossy conversion from float64 to uint8. Range [-0.8628151992924129, 4.971027449466906]. Convert image to uint8 prior to saving to suppress this warning.\n",
      "Lossy conversion from float64 to uint8. Range [-0.8681456980621296, 5.0160067362251155]. Convert image to uint8 prior to saving to suppress this warning.\n",
      "Lossy conversion from float64 to uint8. Range [-0.8716757609275916, 4.6817588951843865]. Convert image to uint8 prior to saving to suppress this warning.\n",
      "Lossy conversion from float64 to uint8. Range [-0.8655678699227227, 5.011996446672444]. Convert image to uint8 prior to saving to suppress this warning.\n",
      "Lossy conversion from float64 to uint8. Range [-0.8799559239385291, 4.804162200514833]. Convert image to uint8 prior to saving to suppress this warning.\n",
      "Lossy conversion from float64 to uint8. Range [-0.9650972101308669, 4.83623587441148]. Convert image to uint8 prior to saving to suppress this warning.\n",
      "28it [04:20,  5.83s/it]"
     ]
    },
    {
     "name": "stdout",
     "output_type": "stream",
     "text": [
      "No relevant nodules for patient LIDC-IDRI-0564\n"
     ]
    },
    {
     "name": "stderr",
     "output_type": "stream",
     "text": [
      "Lossy conversion from float64 to uint8. Range [-1.450499031907283, 3.354226501352991]. Convert image to uint8 prior to saving to suppress this warning.\n",
      "Lossy conversion from float64 to uint8. Range [-1.4523771835152315, 3.2928590959782054]. Convert image to uint8 prior to saving to suppress this warning.\n",
      "Lossy conversion from float64 to uint8. Range [-1.455717598167284, 3.3629603190450092]. Convert image to uint8 prior to saving to suppress this warning.\n",
      "Lossy conversion from float64 to uint8. Range [-1.4697910898577429, 3.4102135006105603]. Convert image to uint8 prior to saving to suppress this warning.\n",
      "Lossy conversion from float64 to uint8. Range [-1.4712536492818042, 3.3020518610784486]. Convert image to uint8 prior to saving to suppress this warning.\n",
      "Lossy conversion from float64 to uint8. Range [-1.4817776471911537, 3.3174133321424444]. Convert image to uint8 prior to saving to suppress this warning.\n",
      "Lossy conversion from float64 to uint8. Range [-1.4856502207564943, 3.2497310508172212]. Convert image to uint8 prior to saving to suppress this warning.\n",
      "Lossy conversion from float64 to uint8. Range [-1.4956360973826406, 3.3418717736851278]. Convert image to uint8 prior to saving to suppress this warning.\n",
      "Lossy conversion from float64 to uint8. Range [-1.500223719316713, 3.323991646191562]. Convert image to uint8 prior to saving to suppress this warning.\n",
      "Lossy conversion from float64 to uint8. Range [-1.503631777384405, 3.3249872970916665]. Convert image to uint8 prior to saving to suppress this warning.\n",
      "Lossy conversion from float64 to uint8. Range [-1.5195554887149194, 3.276296275024561]. Convert image to uint8 prior to saving to suppress this warning.\n",
      "Lossy conversion from float64 to uint8. Range [-1.5216710332286083, 3.2571971776401916]. Convert image to uint8 prior to saving to suppress this warning.\n",
      "Lossy conversion from float64 to uint8. Range [-1.544849973957224, 3.311640732648803]. Convert image to uint8 prior to saving to suppress this warning.\n",
      "Lossy conversion from float64 to uint8. Range [-1.4875096359962776, 3.221010539847081]. Convert image to uint8 prior to saving to suppress this warning.\n",
      "Lossy conversion from float64 to uint8. Range [-1.4797872805003172, 3.2156246088108196]. Convert image to uint8 prior to saving to suppress this warning.\n",
      "Lossy conversion from float64 to uint8. Range [-1.4019046985945718, 3.242953725814488]. Convert image to uint8 prior to saving to suppress this warning.\n",
      "Lossy conversion from float64 to uint8. Range [-1.394044334022249, 3.356617874673923]. Convert image to uint8 prior to saving to suppress this warning.\n",
      "Lossy conversion from float64 to uint8. Range [-1.355291564306953, 3.4265085173370666]. Convert image to uint8 prior to saving to suppress this warning.\n",
      "Lossy conversion from float64 to uint8. Range [-1.322287573504218, 3.4992110311681]. Convert image to uint8 prior to saving to suppress this warning.\n",
      "Lossy conversion from float64 to uint8. Range [-1.0810240493241894, 3.8689848902799455]. Convert image to uint8 prior to saving to suppress this warning.\n",
      "Lossy conversion from float64 to uint8. Range [-1.0508449705216032, 3.9780523935691385]. Convert image to uint8 prior to saving to suppress this warning.\n",
      "Lossy conversion from float64 to uint8. Range [-1.0701218694399501, 3.663682563071977]. Convert image to uint8 prior to saving to suppress this warning.\n",
      "Lossy conversion from float64 to uint8. Range [-1.0731776635690673, 3.7817294252428773]. Convert image to uint8 prior to saving to suppress this warning.\n",
      "Lossy conversion from float64 to uint8. Range [-1.0789589305681984, 3.9312580280156446]. Convert image to uint8 prior to saving to suppress this warning.\n",
      "Lossy conversion from float64 to uint8. Range [-1.0757212530562494, 3.679375639337341]. Convert image to uint8 prior to saving to suppress this warning.\n",
      "Lossy conversion from float64 to uint8. Range [-1.0752388456922832, 3.651275980290558]. Convert image to uint8 prior to saving to suppress this warning.\n",
      "Lossy conversion from float64 to uint8. Range [-1.0744141749464646, 3.7088391391324183]. Convert image to uint8 prior to saving to suppress this warning.\n",
      "Lossy conversion from float64 to uint8. Range [-1.0734186698700174, 3.61361176655325]. Convert image to uint8 prior to saving to suppress this warning.\n",
      "Lossy conversion from float64 to uint8. Range [-1.0729576383557506, 3.7687321679152475]. Convert image to uint8 prior to saving to suppress this warning.\n",
      "Lossy conversion from float64 to uint8. Range [-1.073387710334989, 3.8639815523298218]. Convert image to uint8 prior to saving to suppress this warning.\n",
      "Lossy conversion from float64 to uint8. Range [-1.0744220119618297, 3.821972504141514]. Convert image to uint8 prior to saving to suppress this warning.\n",
      "Lossy conversion from float64 to uint8. Range [-1.0736539135002345, 3.8124547180009465]. Convert image to uint8 prior to saving to suppress this warning.\n",
      "Lossy conversion from float64 to uint8. Range [-1.073241931669042, 4.07853260304323]. Convert image to uint8 prior to saving to suppress this warning.\n",
      "Lossy conversion from float64 to uint8. Range [-1.0709457632760195, 3.9386631101376617]. Convert image to uint8 prior to saving to suppress this warning.\n",
      "Lossy conversion from float64 to uint8. Range [-1.0702729185782414, 4.129071285918498]. Convert image to uint8 prior to saving to suppress this warning.\n",
      "Lossy conversion from float64 to uint8. Range [-1.069528315936736, 3.8346420158581456]. Convert image to uint8 prior to saving to suppress this warning.\n",
      "Lossy conversion from float64 to uint8. Range [-1.070103211762285, 3.7028883442091147]. Convert image to uint8 prior to saving to suppress this warning.\n",
      "Lossy conversion from float64 to uint8. Range [-1.0720610999007614, 3.745543669203531]. Convert image to uint8 prior to saving to suppress this warning.\n",
      "Lossy conversion from float64 to uint8. Range [-1.0718399512492254, 3.563371593820809]. Convert image to uint8 prior to saving to suppress this warning.\n",
      "Lossy conversion from float64 to uint8. Range [-1.0693449507213242, 3.499602424105098]. Convert image to uint8 prior to saving to suppress this warning.\n",
      "Lossy conversion from float64 to uint8. Range [-1.0702554307269552, 3.764562749396062]. Convert image to uint8 prior to saving to suppress this warning.\n",
      "Lossy conversion from float64 to uint8. Range [-1.0710438939942115, 3.851794817755833]. Convert image to uint8 prior to saving to suppress this warning.\n",
      "Lossy conversion from float64 to uint8. Range [-1.0720751997075237, 3.7318868157485285]. Convert image to uint8 prior to saving to suppress this warning.\n",
      "Lossy conversion from float64 to uint8. Range [-1.0747717248066877, 3.722249774924373]. Convert image to uint8 prior to saving to suppress this warning.\n",
      "Lossy conversion from float64 to uint8. Range [-1.0752590838521556, 3.7029302162884754]. Convert image to uint8 prior to saving to suppress this warning.\n",
      "Lossy conversion from float64 to uint8. Range [-1.0740012718997456, 3.7686946223745244]. Convert image to uint8 prior to saving to suppress this warning.\n",
      "Lossy conversion from float64 to uint8. Range [-1.0711653922158018, 3.7462662244345872]. Convert image to uint8 prior to saving to suppress this warning.\n",
      "Lossy conversion from float64 to uint8. Range [-1.0702987177641772, 3.768497898699033]. Convert image to uint8 prior to saving to suppress this warning.\n",
      "Lossy conversion from float64 to uint8. Range [-1.0692268644939231, 3.742423937220543]. Convert image to uint8 prior to saving to suppress this warning.\n",
      "Lossy conversion from float64 to uint8. Range [-1.0663472619053571, 3.872883291084604]. Convert image to uint8 prior to saving to suppress this warning.\n",
      "Lossy conversion from float64 to uint8. Range [-1.0640561372634172, 3.7879182488344245]. Convert image to uint8 prior to saving to suppress this warning.\n",
      "Lossy conversion from float64 to uint8. Range [-1.061291057128876, 3.6408384566780096]. Convert image to uint8 prior to saving to suppress this warning.\n",
      "Lossy conversion from float64 to uint8. Range [-1.0602309763516058, 3.6150688363083745]. Convert image to uint8 prior to saving to suppress this warning.\n",
      "Lossy conversion from float64 to uint8. Range [-1.0591281377263115, 3.755625393461372]. Convert image to uint8 prior to saving to suppress this warning.\n",
      "Lossy conversion from float64 to uint8. Range [-1.0577893924739243, 3.7182510795975636]. Convert image to uint8 prior to saving to suppress this warning.\n",
      "Lossy conversion from float64 to uint8. Range [-1.0571951476933075, 3.552617758860055]. Convert image to uint8 prior to saving to suppress this warning.\n",
      "Lossy conversion from float64 to uint8. Range [-1.0559978153229796, 3.6551050832030256]. Convert image to uint8 prior to saving to suppress this warning.\n",
      "Lossy conversion from float64 to uint8. Range [-1.0552551990503054, 3.934166987004829]. Convert image to uint8 prior to saving to suppress this warning.\n",
      "Lossy conversion from float64 to uint8. Range [-1.041041253320159, 3.7687842633252036]. Convert image to uint8 prior to saving to suppress this warning.\n",
      "Lossy conversion from float64 to uint8. Range [-1.036684149990237, 3.7897027402472707]. Convert image to uint8 prior to saving to suppress this warning.\n",
      "Lossy conversion from float64 to uint8. Range [-1.0115337421950121, 4.026454667140106]. Convert image to uint8 prior to saving to suppress this warning.\n",
      "Lossy conversion from float64 to uint8. Range [-1.0170763981912025, 3.891733679040642]. Convert image to uint8 prior to saving to suppress this warning.\n",
      "Lossy conversion from float64 to uint8. Range [-1.0098133872473034, 3.796968966754789]. Convert image to uint8 prior to saving to suppress this warning.\n",
      "Lossy conversion from float64 to uint8. Range [-1.0066820292090828, 4.224175934192227]. Convert image to uint8 prior to saving to suppress this warning.\n",
      "Lossy conversion from float64 to uint8. Range [-1.003928829892331, 4.527566682201363]. Convert image to uint8 prior to saving to suppress this warning.\n",
      "Lossy conversion from float64 to uint8. Range [-1.033939467377206, 6.957796175265752]. Convert image to uint8 prior to saving to suppress this warning.\n",
      "Lossy conversion from float64 to uint8. Range [-1.037711216144496, 6.906779401706006]. Convert image to uint8 prior to saving to suppress this warning.\n",
      "Lossy conversion from float64 to uint8. Range [-1.075004418315133, 6.254143875198659]. Convert image to uint8 prior to saving to suppress this warning.\n",
      "29it [04:55, 14.67s/it]Lossy conversion from float64 to uint8. Range [-1.8155514150505212, 2.1032026834977273]. Convert image to uint8 prior to saving to suppress this warning.\n",
      "Lossy conversion from float64 to uint8. Range [-1.816237855144136, 2.3088842258532125]. Convert image to uint8 prior to saving to suppress this warning.\n",
      "Lossy conversion from float64 to uint8. Range [-1.8196910173000818, 1.8800640562001676]. Convert image to uint8 prior to saving to suppress this warning.\n",
      "Lossy conversion from float64 to uint8. Range [-1.773446563259079, 3.7418925014396605]. Convert image to uint8 prior to saving to suppress this warning.\n",
      "Lossy conversion from float64 to uint8. Range [-1.7763660808489277, 3.6751923600773733]. Convert image to uint8 prior to saving to suppress this warning.\n",
      "Lossy conversion from float64 to uint8. Range [-1.777156241364621, 3.6732376702938545]. Convert image to uint8 prior to saving to suppress this warning.\n",
      "Lossy conversion from float64 to uint8. Range [-1.776402413517803, 3.670817873407785]. Convert image to uint8 prior to saving to suppress this warning.\n",
      "Lossy conversion from float64 to uint8. Range [-1.7740789841112428, 3.667879895459402]. Convert image to uint8 prior to saving to suppress this warning.\n",
      "Lossy conversion from float64 to uint8. Range [-1.7723516018506118, 3.6646188149312775]. Convert image to uint8 prior to saving to suppress this warning.\n",
      "Lossy conversion from float64 to uint8. Range [-1.7711749485855528, 3.5278625933134125]. Convert image to uint8 prior to saving to suppress this warning.\n",
      "31it [05:02,  8.70s/it]"
     ]
    },
    {
     "name": "stdout",
     "output_type": "stream",
     "text": [
      "No relevant nodules for patient LIDC-IDRI-0465\n"
     ]
    },
    {
     "name": "stderr",
     "output_type": "stream",
     "text": [
      "Lossy conversion from float64 to uint8. Range [-1.7888402377681032, 3.3466637994156634]. Convert image to uint8 prior to saving to suppress this warning.\n",
      "Lossy conversion from float64 to uint8. Range [-1.78896075811908, 3.320948185565619]. Convert image to uint8 prior to saving to suppress this warning.\n",
      "Lossy conversion from float64 to uint8. Range [-1.7924459847790133, 3.2959264865165374]. Convert image to uint8 prior to saving to suppress this warning.\n",
      "Lossy conversion from float64 to uint8. Range [-1.7934255079510804, 3.3095735751416577]. Convert image to uint8 prior to saving to suppress this warning.\n",
      "Lossy conversion from float64 to uint8. Range [-1.772500337260629, 3.6789190111295267]. Convert image to uint8 prior to saving to suppress this warning.\n",
      "Lossy conversion from float64 to uint8. Range [-1.7733175726220995, 3.6747540266125873]. Convert image to uint8 prior to saving to suppress this warning.\n",
      "Lossy conversion from float64 to uint8. Range [-1.7725196400125214, 3.6639711969999875]. Convert image to uint8 prior to saving to suppress this warning.\n",
      "Lossy conversion from float64 to uint8. Range [-1.771592303704674, 3.6667191333694724]. Convert image to uint8 prior to saving to suppress this warning.\n",
      "Lossy conversion from float64 to uint8. Range [-1.7708764443914253, 3.685672595062973]. Convert image to uint8 prior to saving to suppress this warning.\n",
      "Lossy conversion from float64 to uint8. Range [-1.7732572123144317, 3.7242247072819326]. Convert image to uint8 prior to saving to suppress this warning.\n",
      "Lossy conversion from float64 to uint8. Range [-1.7653221093793747, 3.7110662028049797]. Convert image to uint8 prior to saving to suppress this warning.\n",
      "Lossy conversion from float64 to uint8. Range [-1.7672161920479093, 3.7314983401800235]. Convert image to uint8 prior to saving to suppress this warning.\n",
      "33it [05:11,  6.34s/it]"
     ]
    },
    {
     "name": "stdout",
     "output_type": "stream",
     "text": [
      "No relevant nodules for patient LIDC-IDRI-0711\n"
     ]
    },
    {
     "name": "stderr",
     "output_type": "stream",
     "text": [
      "Lossy conversion from float64 to uint8. Range [-1.809262834848048, 2.035250121631075]. Convert image to uint8 prior to saving to suppress this warning.\n",
      "Lossy conversion from float64 to uint8. Range [-1.8088291920299144, 2.144589802392869]. Convert image to uint8 prior to saving to suppress this warning.\n",
      "Lossy conversion from float64 to uint8. Range [-1.800633094430678, 2.282827074898]. Convert image to uint8 prior to saving to suppress this warning.\n",
      "Lossy conversion from float64 to uint8. Range [-1.801422140507456, 2.1476658443734236]. Convert image to uint8 prior to saving to suppress this warning.\n",
      "Lossy conversion from float64 to uint8. Range [-1.80619488234346, 2.225124665202221]. Convert image to uint8 prior to saving to suppress this warning.\n",
      "Lossy conversion from float64 to uint8. Range [-1.8049179614487705, 2.3003594598216766]. Convert image to uint8 prior to saving to suppress this warning.\n",
      "Lossy conversion from float64 to uint8. Range [-1.800649089121795, 2.2390849181243717]. Convert image to uint8 prior to saving to suppress this warning.\n",
      "Lossy conversion from float64 to uint8. Range [-1.7907414141540388, 2.338630800192091]. Convert image to uint8 prior to saving to suppress this warning.\n",
      "Lossy conversion from float64 to uint8. Range [-1.7878744461069924, 2.388471452379264]. Convert image to uint8 prior to saving to suppress this warning.\n",
      "Lossy conversion from float64 to uint8. Range [-1.782060270131642, 2.387004645191773]. Convert image to uint8 prior to saving to suppress this warning.\n",
      "Lossy conversion from float64 to uint8. Range [-1.7778967114370747, 2.351518345847051]. Convert image to uint8 prior to saving to suppress this warning.\n",
      "Lossy conversion from float64 to uint8. Range [-1.772962099615148, 2.34845099058813]. Convert image to uint8 prior to saving to suppress this warning.\n",
      "Lossy conversion from float64 to uint8. Range [-1.7719259433948529, 2.350353234057203]. Convert image to uint8 prior to saving to suppress this warning.\n",
      "Lossy conversion from float64 to uint8. Range [-1.772371063314274, 2.4237189010373847]. Convert image to uint8 prior to saving to suppress this warning.\n",
      "Lossy conversion from float64 to uint8. Range [-1.7733514233948475, 2.3894486456953494]. Convert image to uint8 prior to saving to suppress this warning.\n",
      "Lossy conversion from float64 to uint8. Range [-1.7741265275787834, 2.5452559992281203]. Convert image to uint8 prior to saving to suppress this warning.\n",
      "Lossy conversion from float64 to uint8. Range [-1.7746842466502681, 2.394912392870973]. Convert image to uint8 prior to saving to suppress this warning.\n",
      "Lossy conversion from float64 to uint8. Range [-1.7756654529775826, 2.41964320836856]. Convert image to uint8 prior to saving to suppress this warning.\n",
      "Lossy conversion from float64 to uint8. Range [-1.7764018127105206, 2.371349260969303]. Convert image to uint8 prior to saving to suppress this warning.\n",
      "Lossy conversion from float64 to uint8. Range [-1.7766992187433766, 2.309976222410456]. Convert image to uint8 prior to saving to suppress this warning.\n",
      "Lossy conversion from float64 to uint8. Range [-1.7765481928250269, 2.3670933769470945]. Convert image to uint8 prior to saving to suppress this warning.\n",
      "Lossy conversion from float64 to uint8. Range [-1.7765483587334305, 2.382068118776153]. Convert image to uint8 prior to saving to suppress this warning.\n",
      "Lossy conversion from float64 to uint8. Range [-1.7761027520455994, 2.3406136283592405]. Convert image to uint8 prior to saving to suppress this warning.\n",
      "Lossy conversion from float64 to uint8. Range [-1.7755461050887016, 2.419563887379763]. Convert image to uint8 prior to saving to suppress this warning.\n",
      "Lossy conversion from float64 to uint8. Range [-1.7734086660066781, 2.46018434859152]. Convert image to uint8 prior to saving to suppress this warning.\n",
      "Lossy conversion from float64 to uint8. Range [-1.7683675857748322, 2.552092156329961]. Convert image to uint8 prior to saving to suppress this warning.\n",
      "35it [05:27,  6.54s/it]"
     ]
    },
    {
     "name": "stdout",
     "output_type": "stream",
     "text": [
      "No relevant nodules for patient LIDC-IDRI-1008\n"
     ]
    },
    {
     "name": "stderr",
     "output_type": "stream",
     "text": [
      "Lossy conversion from float64 to uint8. Range [-1.6657691956764509, 3.351051419679785]. Convert image to uint8 prior to saving to suppress this warning.\n",
      "Lossy conversion from float64 to uint8. Range [-1.665009503093435, 3.2813822872045644]. Convert image to uint8 prior to saving to suppress this warning.\n",
      "Lossy conversion from float64 to uint8. Range [-1.6623560516381286, 3.1782288523724738]. Convert image to uint8 prior to saving to suppress this warning.\n",
      "Lossy conversion from float64 to uint8. Range [-1.6529586667502065, 3.0734646114021755]. Convert image to uint8 prior to saving to suppress this warning.\n",
      "Lossy conversion from float64 to uint8. Range [-1.646121596678493, 3.285780470371663]. Convert image to uint8 prior to saving to suppress this warning.\n",
      "Lossy conversion from float64 to uint8. Range [-1.643370747479917, 3.247377221783539]. Convert image to uint8 prior to saving to suppress this warning.\n",
      "Lossy conversion from float64 to uint8. Range [-1.6241636101834862, 3.480327991551137]. Convert image to uint8 prior to saving to suppress this warning.\n",
      "Lossy conversion from float64 to uint8. Range [-1.6292581202155048, 3.451644874446577]. Convert image to uint8 prior to saving to suppress this warning.\n",
      "Lossy conversion from float64 to uint8. Range [-1.6322232609323375, 3.9644198260273606]. Convert image to uint8 prior to saving to suppress this warning.\n",
      "Lossy conversion from float64 to uint8. Range [-1.6340711783312394, 3.724212353449586]. Convert image to uint8 prior to saving to suppress this warning.\n",
      "Lossy conversion from float64 to uint8. Range [-1.6337500883375904, 4.6364363768766275]. Convert image to uint8 prior to saving to suppress this warning.\n",
      "Lossy conversion from float64 to uint8. Range [-1.6353228237726738, 4.775931675183137]. Convert image to uint8 prior to saving to suppress this warning.\n",
      "Lossy conversion from float64 to uint8. Range [-1.6341749856910788, 4.779735334186759]. Convert image to uint8 prior to saving to suppress this warning.\n",
      "Lossy conversion from float64 to uint8. Range [-1.6320667972322338, 4.774419647555963]. Convert image to uint8 prior to saving to suppress this warning.\n",
      "Lossy conversion from float64 to uint8. Range [-1.6287674368840899, 4.244489380032819]. Convert image to uint8 prior to saving to suppress this warning.\n",
      "Lossy conversion from float64 to uint8. Range [-1.6243004844007771, 4.434972699703069]. Convert image to uint8 prior to saving to suppress this warning.\n",
      "Lossy conversion from float64 to uint8. Range [-1.6215948601102061, 4.7772202509059944]. Convert image to uint8 prior to saving to suppress this warning.\n",
      "Lossy conversion from float64 to uint8. Range [-1.6213150137031442, 4.789413082014548]. Convert image to uint8 prior to saving to suppress this warning.\n",
      "Lossy conversion from float64 to uint8. Range [-1.623405658768685, 4.804226672294062]. Convert image to uint8 prior to saving to suppress this warning.\n",
      "Lossy conversion from float64 to uint8. Range [-1.6223300340364661, 4.795257103101105]. Convert image to uint8 prior to saving to suppress this warning.\n",
      "Lossy conversion from float64 to uint8. Range [-1.6129435407075814, 4.8121982477592296]. Convert image to uint8 prior to saving to suppress this warning.\n",
      "Lossy conversion from float64 to uint8. Range [-1.5479344125649548, 4.408723335043244]. Convert image to uint8 prior to saving to suppress this warning.\n",
      "36it [05:38,  7.87s/it]Lossy conversion from float64 to uint8. Range [-1.6128157011880626, 3.4486151725235343]. Convert image to uint8 prior to saving to suppress this warning.\n",
      "Lossy conversion from float64 to uint8. Range [-1.6096452231473317, 3.5064569639202103]. Convert image to uint8 prior to saving to suppress this warning.\n",
      "Lossy conversion from float64 to uint8. Range [-1.6135341768897862, 3.5637633302086096]. Convert image to uint8 prior to saving to suppress this warning.\n",
      "Lossy conversion from float64 to uint8. Range [-1.6145489847902383, 3.2426359501983253]. Convert image to uint8 prior to saving to suppress this warning.\n",
      "Lossy conversion from float64 to uint8. Range [-1.5862465353890132, 3.858038629878934]. Convert image to uint8 prior to saving to suppress this warning.\n",
      "Lossy conversion from float64 to uint8. Range [-1.5754408963031143, 3.9394444606343937]. Convert image to uint8 prior to saving to suppress this warning.\n",
      "Lossy conversion from float64 to uint8. Range [-1.567424278605366, 4.999549041310691]. Convert image to uint8 prior to saving to suppress this warning.\n",
      "Lossy conversion from float64 to uint8. Range [-1.577565067010965, 5.118655745672797]. Convert image to uint8 prior to saving to suppress this warning.\n",
      "Lossy conversion from float64 to uint8. Range [-1.5786142536827994, 5.093057529957585]. Convert image to uint8 prior to saving to suppress this warning.\n",
      "Lossy conversion from float64 to uint8. Range [-1.573677404555795, 5.064719897594429]. Convert image to uint8 prior to saving to suppress this warning.\n",
      "Lossy conversion from float64 to uint8. Range [-1.5670537331476417, 5.045763597684583]. Convert image to uint8 prior to saving to suppress this warning.\n",
      "Lossy conversion from float64 to uint8. Range [-1.5631278078777728, 5.030368744970091]. Convert image to uint8 prior to saving to suppress this warning.\n",
      "Lossy conversion from float64 to uint8. Range [-1.5636941302556757, 5.021796224584222]. Convert image to uint8 prior to saving to suppress this warning.\n",
      "Lossy conversion from float64 to uint8. Range [-1.5672773996968887, 5.009304740732717]. Convert image to uint8 prior to saving to suppress this warning.\n",
      "Lossy conversion from float64 to uint8. Range [-1.5694886485674293, 4.992684355527292]. Convert image to uint8 prior to saving to suppress this warning.\n",
      "Lossy conversion from float64 to uint8. Range [-1.566189544330718, 4.975316097027635]. Convert image to uint8 prior to saving to suppress this warning.\n",
      "Lossy conversion from float64 to uint8. Range [-1.5529377273060094, 4.8764852796695]. Convert image to uint8 prior to saving to suppress this warning.\n",
      "Lossy conversion from float64 to uint8. Range [-1.5515360526649244, 5.084600782232949]. Convert image to uint8 prior to saving to suppress this warning.\n",
      "38it [05:49,  6.34s/it]"
     ]
    },
    {
     "name": "stdout",
     "output_type": "stream",
     "text": [
      "No relevant nodules for patient LIDC-IDRI-0395\n"
     ]
    },
    {
     "name": "stderr",
     "output_type": "stream",
     "text": [
      "39it [05:50,  4.68s/it]"
     ]
    },
    {
     "name": "stdout",
     "output_type": "stream",
     "text": [
      "No relevant nodules for patient LIDC-IDRI-0189\n"
     ]
    },
    {
     "name": "stderr",
     "output_type": "stream",
     "text": [
      "40it [05:52,  3.92s/it]"
     ]
    },
    {
     "name": "stdout",
     "output_type": "stream",
     "text": [
      "No relevant nodules for patient LIDC-IDRI-0864\n"
     ]
    },
    {
     "name": "stderr",
     "output_type": "stream",
     "text": [
      "Lossy conversion from float64 to uint8. Range [-1.78561571490769, 1.9663479645506887]. Convert image to uint8 prior to saving to suppress this warning.\n",
      "Lossy conversion from float64 to uint8. Range [-1.7814064446479139, 1.9891209338043634]. Convert image to uint8 prior to saving to suppress this warning.\n",
      "Lossy conversion from float64 to uint8. Range [-1.782401573140465, 2.0025223414095525]. Convert image to uint8 prior to saving to suppress this warning.\n",
      "Lossy conversion from float64 to uint8. Range [-1.78174717939479, 2.030793925980064]. Convert image to uint8 prior to saving to suppress this warning.\n",
      "Lossy conversion from float64 to uint8. Range [-1.7896290403121344, 2.4597648786155473]. Convert image to uint8 prior to saving to suppress this warning.\n",
      "Lossy conversion from float64 to uint8. Range [-1.7897817044155464, 2.4930275775166058]. Convert image to uint8 prior to saving to suppress this warning.\n",
      "Lossy conversion from float64 to uint8. Range [-1.7841667466496873, 2.4599816099923077]. Convert image to uint8 prior to saving to suppress this warning.\n",
      "Lossy conversion from float64 to uint8. Range [-1.7822551908708684, 2.4110388873974933]. Convert image to uint8 prior to saving to suppress this warning.\n",
      "Lossy conversion from float64 to uint8. Range [-1.781205724469611, 2.4477574731651335]. Convert image to uint8 prior to saving to suppress this warning.\n",
      "Lossy conversion from float64 to uint8. Range [-1.7808408323375415, 2.4464279345255617]. Convert image to uint8 prior to saving to suppress this warning.\n",
      "Lossy conversion from float64 to uint8. Range [-1.7806215282015285, 2.5058901764349075]. Convert image to uint8 prior to saving to suppress this warning.\n",
      "Lossy conversion from float64 to uint8. Range [-1.780635706699806, 2.5383860629697694]. Convert image to uint8 prior to saving to suppress this warning.\n",
      "Lossy conversion from float64 to uint8. Range [-1.7805774996684332, 2.358636687055983]. Convert image to uint8 prior to saving to suppress this warning.\n",
      "Lossy conversion from float64 to uint8. Range [-1.7802375430943864, 2.3582648829935158]. Convert image to uint8 prior to saving to suppress this warning.\n",
      "Lossy conversion from float64 to uint8. Range [-1.779341289836469, 2.2702050553326107]. Convert image to uint8 prior to saving to suppress this warning.\n",
      "Lossy conversion from float64 to uint8. Range [-1.7690036167758008, 3.7036259026193403]. Convert image to uint8 prior to saving to suppress this warning.\n",
      "41it [06:01,  5.44s/it]Lossy conversion from float64 to uint8. Range [-1.5725921705405117, 3.035844868515697]. Convert image to uint8 prior to saving to suppress this warning.\n",
      "Lossy conversion from float64 to uint8. Range [-1.5739090226791723, 2.570332310248085]. Convert image to uint8 prior to saving to suppress this warning.\n",
      "Lossy conversion from float64 to uint8. Range [-1.558265334634789, 2.398108346911486]. Convert image to uint8 prior to saving to suppress this warning.\n",
      "Lossy conversion from float64 to uint8. Range [-1.560148805839672, 2.533051788349908]. Convert image to uint8 prior to saving to suppress this warning.\n",
      "Lossy conversion from float64 to uint8. Range [-1.573380500723345, 3.3938616156444392]. Convert image to uint8 prior to saving to suppress this warning.\n",
      "Lossy conversion from float64 to uint8. Range [-1.575126494025976, 3.5622756024420137]. Convert image to uint8 prior to saving to suppress this warning.\n",
      "Lossy conversion from float64 to uint8. Range [-1.5750705669739835, 3.2779617540613653]. Convert image to uint8 prior to saving to suppress this warning.\n",
      "Lossy conversion from float64 to uint8. Range [-1.5753649163448264, 3.058920007000091]. Convert image to uint8 prior to saving to suppress this warning.\n",
      "Lossy conversion from float64 to uint8. Range [-1.5768272646562058, 3.276789056050942]. Convert image to uint8 prior to saving to suppress this warning.\n",
      "Lossy conversion from float64 to uint8. Range [-1.5765458687957965, 2.9408329788910614]. Convert image to uint8 prior to saving to suppress this warning.\n",
      "Lossy conversion from float64 to uint8. Range [-1.5765077438127508, 3.3938723770520496]. Convert image to uint8 prior to saving to suppress this warning.\n",
      "Lossy conversion from float64 to uint8. Range [-1.5732776988969326, 3.350380316918958]. Convert image to uint8 prior to saving to suppress this warning.\n",
      "Lossy conversion from float64 to uint8. Range [-1.5730124106598062, 3.4222490785789392]. Convert image to uint8 prior to saving to suppress this warning.\n",
      "Lossy conversion from float64 to uint8. Range [-1.5325068764884964, 4.8241107092259305]. Convert image to uint8 prior to saving to suppress this warning.\n",
      "43it [06:11,  4.94s/it]"
     ]
    },
    {
     "name": "stdout",
     "output_type": "stream",
     "text": [
      "No relevant nodules for patient LIDC-IDRI-0125\n"
     ]
    },
    {
     "name": "stderr",
     "output_type": "stream",
     "text": [
      "Lossy conversion from float64 to uint8. Range [-1.8494995129947616, 3.1350377689979494]. Convert image to uint8 prior to saving to suppress this warning.\n",
      "Lossy conversion from float64 to uint8. Range [-1.8563437894590649, 1.7368094531093419]. Convert image to uint8 prior to saving to suppress this warning.\n",
      "Lossy conversion from float64 to uint8. Range [-1.7864111006171792, 2.0104700601523335]. Convert image to uint8 prior to saving to suppress this warning.\n",
      "Lossy conversion from float64 to uint8. Range [-1.787820518472662, 2.158059274567829]. Convert image to uint8 prior to saving to suppress this warning.\n",
      "Lossy conversion from float64 to uint8. Range [-1.783490036670571, 2.2635464982628455]. Convert image to uint8 prior to saving to suppress this warning.\n",
      "Lossy conversion from float64 to uint8. Range [-1.7854918287023436, 2.194897718789922]. Convert image to uint8 prior to saving to suppress this warning.\n",
      "Lossy conversion from float64 to uint8. Range [-1.7865255673191853, 2.17797618424862]. Convert image to uint8 prior to saving to suppress this warning.\n",
      "Lossy conversion from float64 to uint8. Range [-1.7875037021996012, 2.2400112062675133]. Convert image to uint8 prior to saving to suppress this warning.\n",
      "Lossy conversion from float64 to uint8. Range [-1.7881259721968716, 2.2282127234936087]. Convert image to uint8 prior to saving to suppress this warning.\n",
      "Lossy conversion from float64 to uint8. Range [-1.774094694951237, 2.180785716716111]. Convert image to uint8 prior to saving to suppress this warning.\n",
      "44it [06:17,  5.20s/it]Lossy conversion from float64 to uint8. Range [-1.887608279201046, 3.6867487324878523]. Convert image to uint8 prior to saving to suppress this warning.\n",
      "Lossy conversion from float64 to uint8. Range [-1.1710032253730975, 4.111120295048781]. Convert image to uint8 prior to saving to suppress this warning.\n",
      "Lossy conversion from float64 to uint8. Range [-1.1794319754053195, 4.323534204032104]. Convert image to uint8 prior to saving to suppress this warning.\n",
      "Lossy conversion from float64 to uint8. Range [-1.180390224380628, 4.327175856354988]. Convert image to uint8 prior to saving to suppress this warning.\n",
      "Lossy conversion from float64 to uint8. Range [-1.1792251731416776, 4.446310947242137]. Convert image to uint8 prior to saving to suppress this warning.\n",
      "Lossy conversion from float64 to uint8. Range [-1.1784658538108335, 4.404743084572307]. Convert image to uint8 prior to saving to suppress this warning.\n",
      "Lossy conversion from float64 to uint8. Range [-1.178118127425711, 4.147201705589525]. Convert image to uint8 prior to saving to suppress this warning.\n",
      "Lossy conversion from float64 to uint8. Range [-1.1781584526940159, 4.2871792844764505]. Convert image to uint8 prior to saving to suppress this warning.\n",
      "Lossy conversion from float64 to uint8. Range [-1.1850098860042606, 4.213094770549493]. Convert image to uint8 prior to saving to suppress this warning.\n",
      "Lossy conversion from float64 to uint8. Range [-1.0774763158382563, 4.1737488117102]. Convert image to uint8 prior to saving to suppress this warning.\n",
      "45it [06:25,  6.03s/it]Lossy conversion from float64 to uint8. Range [-0.7931559129415865, 4.29133867870968]. Convert image to uint8 prior to saving to suppress this warning.\n",
      "Lossy conversion from float64 to uint8. Range [-0.8002988547506723, 4.104174581153532]. Convert image to uint8 prior to saving to suppress this warning.\n",
      "Lossy conversion from float64 to uint8. Range [-0.7957070658068328, 4.162398902236224]. Convert image to uint8 prior to saving to suppress this warning.\n",
      "Lossy conversion from float64 to uint8. Range [-0.7907619775667015, 4.30167827201439]. Convert image to uint8 prior to saving to suppress this warning.\n",
      "Lossy conversion from float64 to uint8. Range [-0.7518432362135027, 4.48604315566483]. Convert image to uint8 prior to saving to suppress this warning.\n",
      "Lossy conversion from float64 to uint8. Range [-0.7422818201291409, 4.504642148919423]. Convert image to uint8 prior to saving to suppress this warning.\n",
      "Lossy conversion from float64 to uint8. Range [-0.7985218542130156, 4.425059072199357]. Convert image to uint8 prior to saving to suppress this warning.\n",
      "Lossy conversion from float64 to uint8. Range [-0.7943331752592557, 4.4343777691919835]. Convert image to uint8 prior to saving to suppress this warning.\n",
      "Lossy conversion from float64 to uint8. Range [-0.7633814110250816, 4.632171229362278]. Convert image to uint8 prior to saving to suppress this warning.\n",
      "Lossy conversion from float64 to uint8. Range [-0.7614059764012765, 4.552000515998984]. Convert image to uint8 prior to saving to suppress this warning.\n",
      "Lossy conversion from float64 to uint8. Range [-0.7561794015500984, 4.720191220329178]. Convert image to uint8 prior to saving to suppress this warning.\n",
      "Lossy conversion from float64 to uint8. Range [-0.7568840663431223, 4.75169499999866]. Convert image to uint8 prior to saving to suppress this warning.\n",
      "Lossy conversion from float64 to uint8. Range [-0.7583048776021529, 4.6554952055492596]. Convert image to uint8 prior to saving to suppress this warning.\n",
      "Lossy conversion from float64 to uint8. Range [-0.7598163036042299, 4.814148706014207]. Convert image to uint8 prior to saving to suppress this warning.\n",
      "Lossy conversion from float64 to uint8. Range [-0.7617823131103285, 4.999267157955156]. Convert image to uint8 prior to saving to suppress this warning.\n",
      "Lossy conversion from float64 to uint8. Range [-0.7647047745607722, 4.865430521341274]. Convert image to uint8 prior to saving to suppress this warning.\n",
      "Lossy conversion from float64 to uint8. Range [-0.7662459675831909, 4.849451910266653]. Convert image to uint8 prior to saving to suppress this warning.\n",
      "Lossy conversion from float64 to uint8. Range [-0.766476233610946, 4.922242947398105]. Convert image to uint8 prior to saving to suppress this warning.\n",
      "Lossy conversion from float64 to uint8. Range [-0.7653073005736377, 4.976477957048622]. Convert image to uint8 prior to saving to suppress this warning.\n",
      "Lossy conversion from float64 to uint8. Range [-0.7640621841053885, 5.013435663002462]. Convert image to uint8 prior to saving to suppress this warning.\n",
      "Lossy conversion from float64 to uint8. Range [-0.7638533117821676, 5.058876429661024]. Convert image to uint8 prior to saving to suppress this warning.\n",
      "Lossy conversion from float64 to uint8. Range [-0.7637761368943273, 5.142094026472577]. Convert image to uint8 prior to saving to suppress this warning.\n",
      "Lossy conversion from float64 to uint8. Range [-0.7629916752961445, 5.035289666143613]. Convert image to uint8 prior to saving to suppress this warning.\n",
      "Lossy conversion from float64 to uint8. Range [-0.761637653986865, 5.063628565641723]. Convert image to uint8 prior to saving to suppress this warning.\n",
      "Lossy conversion from float64 to uint8. Range [-0.7604451688041768, 5.080301349900353]. Convert image to uint8 prior to saving to suppress this warning.\n",
      "Lossy conversion from float64 to uint8. Range [-0.7606280398607378, 4.9769935517459825]. Convert image to uint8 prior to saving to suppress this warning.\n",
      "Lossy conversion from float64 to uint8. Range [-0.7613838149859892, 5.051617290662306]. Convert image to uint8 prior to saving to suppress this warning.\n",
      "Lossy conversion from float64 to uint8. Range [-0.7611962356979286, 5.057464939881681]. Convert image to uint8 prior to saving to suppress this warning.\n",
      "Lossy conversion from float64 to uint8. Range [-0.7599495478584717, 5.102514029376063]. Convert image to uint8 prior to saving to suppress this warning.\n",
      "Lossy conversion from float64 to uint8. Range [-0.7579299018870654, 4.9550878862397]. Convert image to uint8 prior to saving to suppress this warning.\n",
      "Lossy conversion from float64 to uint8. Range [-0.756285922958236, 5.000999541072778]. Convert image to uint8 prior to saving to suppress this warning.\n",
      "Lossy conversion from float64 to uint8. Range [-0.7562131182709831, 4.904833945726922]. Convert image to uint8 prior to saving to suppress this warning.\n",
      "Lossy conversion from float64 to uint8. Range [-0.7563145659697388, 4.9159529527442825]. Convert image to uint8 prior to saving to suppress this warning.\n",
      "Lossy conversion from float64 to uint8. Range [-0.7712140721894315, 5.12711905206265]. Convert image to uint8 prior to saving to suppress this warning.\n",
      "Lossy conversion from float64 to uint8. Range [-0.7812889764560412, 4.879904305119675]. Convert image to uint8 prior to saving to suppress this warning.\n",
      "Lossy conversion from float64 to uint8. Range [-0.7819290418258351, 4.734280920058963]. Convert image to uint8 prior to saving to suppress this warning.\n",
      "Lossy conversion from float64 to uint8. Range [-0.8023266780205355, 4.34549478653585]. Convert image to uint8 prior to saving to suppress this warning.\n",
      "Lossy conversion from float64 to uint8. Range [-0.7985992079281174, 4.313704995392293]. Convert image to uint8 prior to saving to suppress this warning.\n",
      "Lossy conversion from float64 to uint8. Range [-0.8005208476056532, 4.64455901139335]. Convert image to uint8 prior to saving to suppress this warning.\n",
      "Lossy conversion from float64 to uint8. Range [-0.788367311835717, 4.856737373458949]. Convert image to uint8 prior to saving to suppress this warning.\n",
      "46it [06:46, 10.54s/it]Lossy conversion from float64 to uint8. Range [-1.824123437780138, 1.6709841419516223]. Convert image to uint8 prior to saving to suppress this warning.\n",
      "Lossy conversion from float64 to uint8. Range [-1.8167267574718753, 1.7633115301301996]. Convert image to uint8 prior to saving to suppress this warning.\n",
      "Lossy conversion from float64 to uint8. Range [-1.816170989263953, 1.798384558270679]. Convert image to uint8 prior to saving to suppress this warning.\n",
      "Lossy conversion from float64 to uint8. Range [-1.790191622847736, 2.037693850057179]. Convert image to uint8 prior to saving to suppress this warning.\n",
      "Lossy conversion from float64 to uint8. Range [-1.7892944349762916, 1.9777792193095314]. Convert image to uint8 prior to saving to suppress this warning.\n",
      "Lossy conversion from float64 to uint8. Range [-1.7872577273167005, 1.9310285022747031]. Convert image to uint8 prior to saving to suppress this warning.\n",
      "Lossy conversion from float64 to uint8. Range [-1.7826421430719488, 1.9691526710157854]. Convert image to uint8 prior to saving to suppress this warning.\n",
      "Lossy conversion from float64 to uint8. Range [-1.7827209670379034, 2.0519241480081267]. Convert image to uint8 prior to saving to suppress this warning.\n",
      "Lossy conversion from float64 to uint8. Range [-1.7823068486387663, 2.1702909273202886]. Convert image to uint8 prior to saving to suppress this warning.\n",
      "Lossy conversion from float64 to uint8. Range [-1.781705309612876, 2.123106971898193]. Convert image to uint8 prior to saving to suppress this warning.\n",
      "Lossy conversion from float64 to uint8. Range [-1.7813712824650234, 2.153168709634907]. Convert image to uint8 prior to saving to suppress this warning.\n",
      "Lossy conversion from float64 to uint8. Range [-1.7822712503887876, 2.1002879516500434]. Convert image to uint8 prior to saving to suppress this warning.\n",
      "Lossy conversion from float64 to uint8. Range [-1.782456068752334, 2.1588799425091714]. Convert image to uint8 prior to saving to suppress this warning.\n",
      "Lossy conversion from float64 to uint8. Range [-1.7847196113480917, 1.9608251120137283]. Convert image to uint8 prior to saving to suppress this warning.\n",
      "Lossy conversion from float64 to uint8. Range [-1.7827796705774577, 2.125600843834653]. Convert image to uint8 prior to saving to suppress this warning.\n",
      "Lossy conversion from float64 to uint8. Range [-1.7816809862098817, 2.217546697723538]. Convert image to uint8 prior to saving to suppress this warning.\n",
      "Lossy conversion from float64 to uint8. Range [-1.780401113393241, 2.2176593299523435]. Convert image to uint8 prior to saving to suppress this warning.\n",
      "Lossy conversion from float64 to uint8. Range [-1.7835678045469074, 2.417633498681677]. Convert image to uint8 prior to saving to suppress this warning.\n",
      "Lossy conversion from float64 to uint8. Range [-1.7841063336690353, 2.0624531694085277]. Convert image to uint8 prior to saving to suppress this warning.\n",
      "Lossy conversion from float64 to uint8. Range [-1.7833548901387866, 2.004620608096378]. Convert image to uint8 prior to saving to suppress this warning.\n",
      "Lossy conversion from float64 to uint8. Range [-1.778864223254444, 2.064184455436119]. Convert image to uint8 prior to saving to suppress this warning.\n",
      "Lossy conversion from float64 to uint8. Range [-1.779334332808611, 2.109621394002071]. Convert image to uint8 prior to saving to suppress this warning.\n",
      "Lossy conversion from float64 to uint8. Range [-1.7799337188535895, 2.0570426048309565]. Convert image to uint8 prior to saving to suppress this warning.\n",
      "Lossy conversion from float64 to uint8. Range [-1.7831657126575122, 2.0867550950107807]. Convert image to uint8 prior to saving to suppress this warning.\n",
      "Lossy conversion from float64 to uint8. Range [-1.7804186541492824, 2.078265410268012]. Convert image to uint8 prior to saving to suppress this warning.\n",
      "Lossy conversion from float64 to uint8. Range [-1.7805085340054196, 2.143699052658292]. Convert image to uint8 prior to saving to suppress this warning.\n",
      "Lossy conversion from float64 to uint8. Range [-1.7784994022996585, 2.2360544539213096]. Convert image to uint8 prior to saving to suppress this warning.\n",
      "Lossy conversion from float64 to uint8. Range [-1.7783247498521624, 2.0869692616958133]. Convert image to uint8 prior to saving to suppress this warning.\n",
      "Lossy conversion from float64 to uint8. Range [-1.7801259289387943, 2.2562369440612886]. Convert image to uint8 prior to saving to suppress this warning.\n",
      "Lossy conversion from float64 to uint8. Range [-1.7768938768672673, 2.148141961030324]. Convert image to uint8 prior to saving to suppress this warning.\n",
      "Lossy conversion from float64 to uint8. Range [-1.7776683545729517, 2.2158942844402]. Convert image to uint8 prior to saving to suppress this warning.\n",
      "Lossy conversion from float64 to uint8. Range [-1.7776047364359775, 2.216660175177773]. Convert image to uint8 prior to saving to suppress this warning.\n",
      "Lossy conversion from float64 to uint8. Range [-1.7773949877442372, 2.2372589477963567]. Convert image to uint8 prior to saving to suppress this warning.\n",
      "Lossy conversion from float64 to uint8. Range [-1.7771598696895468, 2.2418314841223483]. Convert image to uint8 prior to saving to suppress this warning.\n",
      "Lossy conversion from float64 to uint8. Range [-1.7769862623474386, 2.2346843999255226]. Convert image to uint8 prior to saving to suppress this warning.\n",
      "Lossy conversion from float64 to uint8. Range [-1.7769033941075356, 2.2238477662512737]. Convert image to uint8 prior to saving to suppress this warning.\n",
      "Lossy conversion from float64 to uint8. Range [-1.776983133474926, 2.225565908730821]. Convert image to uint8 prior to saving to suppress this warning.\n",
      "Lossy conversion from float64 to uint8. Range [-1.7770999549887283, 2.242615983909537]. Convert image to uint8 prior to saving to suppress this warning.\n",
      "Lossy conversion from float64 to uint8. Range [-1.7772383064780497, 2.250421802931635]. Convert image to uint8 prior to saving to suppress this warning.\n",
      "Lossy conversion from float64 to uint8. Range [-1.7772770470390025, 2.2406633080546325]. Convert image to uint8 prior to saving to suppress this warning.\n",
      "Lossy conversion from float64 to uint8. Range [-1.7771594164237947, 2.23400851464706]. Convert image to uint8 prior to saving to suppress this warning.\n",
      "Lossy conversion from float64 to uint8. Range [-1.7768588452550025, 2.2550123438436587]. Convert image to uint8 prior to saving to suppress this warning.\n",
      "Lossy conversion from float64 to uint8. Range [-1.7764722845079195, 2.2782026560589794]. Convert image to uint8 prior to saving to suppress this warning.\n",
      "Lossy conversion from float64 to uint8. Range [-1.7761033443874708, 2.2842332641478404]. Convert image to uint8 prior to saving to suppress this warning.\n",
      "Lossy conversion from float64 to uint8. Range [-1.7758323300903585, 2.274174120286893]. Convert image to uint8 prior to saving to suppress this warning.\n",
      "Lossy conversion from float64 to uint8. Range [-1.775750111652873, 2.2861868430388923]. Convert image to uint8 prior to saving to suppress this warning.\n",
      "Lossy conversion from float64 to uint8. Range [-1.7758279503048753, 2.2911477279485855]. Convert image to uint8 prior to saving to suppress this warning.\n",
      "Lossy conversion from float64 to uint8. Range [-1.7759446533348617, 2.2859598935657566]. Convert image to uint8 prior to saving to suppress this warning.\n",
      "Lossy conversion from float64 to uint8. Range [-1.775963930787961, 2.270393423007408]. Convert image to uint8 prior to saving to suppress this warning.\n",
      "Lossy conversion from float64 to uint8. Range [-1.7758211026425081, 2.2639549835575226]. Convert image to uint8 prior to saving to suppress this warning.\n",
      "Lossy conversion from float64 to uint8. Range [-1.7754766816171264, 2.2692893524335433]. Convert image to uint8 prior to saving to suppress this warning.\n",
      "Lossy conversion from float64 to uint8. Range [-1.775097724211426, 2.259853408506111]. Convert image to uint8 prior to saving to suppress this warning.\n",
      "Lossy conversion from float64 to uint8. Range [-1.774837249306073, 2.274698224169007]. Convert image to uint8 prior to saving to suppress this warning.\n",
      "Lossy conversion from float64 to uint8. Range [-1.7747784630653447, 2.2846680202823855]. Convert image to uint8 prior to saving to suppress this warning.\n",
      "Lossy conversion from float64 to uint8. Range [-1.7746850691546963, 2.2752795910364925]. Convert image to uint8 prior to saving to suppress this warning.\n",
      "Lossy conversion from float64 to uint8. Range [-1.7744304576744176, 2.2603925923649264]. Convert image to uint8 prior to saving to suppress this warning.\n",
      "Lossy conversion from float64 to uint8. Range [-1.774092391623639, 2.2569348198641563]. Convert image to uint8 prior to saving to suppress this warning.\n",
      "Lossy conversion from float64 to uint8. Range [-1.773801070528426, 2.2417099030048426]. Convert image to uint8 prior to saving to suppress this warning.\n",
      "Lossy conversion from float64 to uint8. Range [-1.7736875238547505, 2.2407864392813557]. Convert image to uint8 prior to saving to suppress this warning.\n",
      "Lossy conversion from float64 to uint8. Range [-1.7736097660670982, 2.258603755887574]. Convert image to uint8 prior to saving to suppress this warning.\n",
      "Lossy conversion from float64 to uint8. Range [-1.7735540501305351, 2.2736426234154723]. Convert image to uint8 prior to saving to suppress this warning.\n",
      "Lossy conversion from float64 to uint8. Range [-1.7736082822310006, 2.2736262798911437]. Convert image to uint8 prior to saving to suppress this warning.\n",
      "Lossy conversion from float64 to uint8. Range [-1.7737390654110736, 2.2594609935070618]. Convert image to uint8 prior to saving to suppress this warning.\n",
      "Lossy conversion from float64 to uint8. Range [-1.773856952646154, 2.2496391403777527]. Convert image to uint8 prior to saving to suppress this warning.\n",
      "Lossy conversion from float64 to uint8. Range [-1.7738717014830363, 2.2563546329685154]. Convert image to uint8 prior to saving to suppress this warning.\n",
      "Lossy conversion from float64 to uint8. Range [-1.7737757721933298, 2.2608391442232127]. Convert image to uint8 prior to saving to suppress this warning.\n",
      "Lossy conversion from float64 to uint8. Range [-1.7736948532067445, 2.2658645309693624]. Convert image to uint8 prior to saving to suppress this warning.\n",
      "Lossy conversion from float64 to uint8. Range [-1.7735037614102858, 2.6190227563470128]. Convert image to uint8 prior to saving to suppress this warning.\n",
      "Lossy conversion from float64 to uint8. Range [-1.7713865053389701, 2.5321283744768928]. Convert image to uint8 prior to saving to suppress this warning.\n",
      "Lossy conversion from float64 to uint8. Range [-1.7710305700214413, 2.149148345948478]. Convert image to uint8 prior to saving to suppress this warning.\n",
      "Lossy conversion from float64 to uint8. Range [-1.7728723450325619, 2.1139603594982432]. Convert image to uint8 prior to saving to suppress this warning.\n",
      "Lossy conversion from float64 to uint8. Range [-1.7703125840393417, 2.1785241953625802]. Convert image to uint8 prior to saving to suppress this warning.\n",
      "48it [07:23,  9.24s/it]"
     ]
    },
    {
     "name": "stdout",
     "output_type": "stream",
     "text": [
      "No relevant nodules for patient LIDC-IDRI-0028\n",
      "CPU times: user 12min 28s, sys: 37.2 s, total: 13min 5s\n",
      "Wall time: 7min 23s\n"
     ]
    },
    {
     "name": "stderr",
     "output_type": "stream",
     "text": [
      "\n"
     ]
    }
   ],
   "source": [
    "%%time\n",
    "create_dataset(patient_list_test, '/app/data/lidc/dicom/test/sorted_gcsfiles/', '/app/data/yolov5/processed', 'test')"
   ]
  },
  {
   "cell_type": "code",
   "execution_count": null,
   "id": "advanced-procurement",
   "metadata": {},
   "outputs": [],
   "source": []
  }
 ],
 "metadata": {
  "kernelspec": {
   "display_name": "Python 3",
   "language": "python",
   "name": "python3"
  },
  "language_info": {
   "codemirror_mode": {
    "name": "ipython",
    "version": 3
   },
   "file_extension": ".py",
   "mimetype": "text/x-python",
   "name": "python",
   "nbconvert_exporter": "python",
   "pygments_lexer": "ipython3",
   "version": "3.8.5"
  }
 },
 "nbformat": 4,
 "nbformat_minor": 5
}
